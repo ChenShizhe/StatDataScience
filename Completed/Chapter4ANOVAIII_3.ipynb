{
 "cells": [
  {
   "cell_type": "markdown",
   "metadata": {},
   "source": [
    "# Chapter 4 Analysis of Variance\n",
    "     "
   ]
  },
  {
   "cell_type": "markdown",
   "metadata": {},
   "source": [
    "### 4.3.3 Inference with random effects\n",
    "\n",
    "From the factor effect form, we can see that the expectation of random effects can be absorbed in the overall mean. Hence, when random effects do not exist, it means that the variance $\\sigma_{\\mu}^2$ is zero. We have the following hypotheses \n",
    "\\[\n",
    "H_0: \\sigma_{\\mu}^2 = 0 \\ {\\rm v.s.} \\ H_1: \\sigma_{\\mu}^2 \\neq 0.\n",
    "\\]\n",
    "\n",
    "The test statistic remains the same as $F^*={\\rm MSTR}/{\\rm MSE}$, which follows an F-distribution with d.f. $(r-1,(n-1)r)$ under the null.\n",
    "\n",
    "\n",
    "Under the null hypothesis, the ratio $\\sigma_{\\mu}^2 / (\\sigma_{\\mu}^2 + \\sigma^2)$ equals zero. Otherwise, the ratio $\\sigma_{\\mu}^2 / (\\sigma_{\\mu}^2 + \\sigma^2)$ takes values in $(0,1]$. This ratio characterizes the amount of variability in the samples that can be explained by the random effects from the factor. We can estimate this ratio with $s_{\\mu}^2 / (s_{\\mu}^2+{\\rm MSE})$. \n",
    "\n",
    "However, the construction of its confidence interval is slightly more involved.  The confidence interval for this ratio is $(L/(L+1), U/(U+1))$, where \n",
    "\\[\n",
    "L=\\frac{1}{n}\\left[\\frac{F^*}{F(1-\\alpha/2; r-1, (n-1)r)} -1 \\right], U=\\frac{1}{n}\\left[\\frac{F^*}{F(\\alpha/2; r-1, (n-1)r)} -1 \\right],\n",
    "\\]\n",
    "and $F^*={\\rm MSTR}/{\\rm MSE}$. For $\\sigma_{\\mu}^2/\\sigma^2$, the confidence interval is $(L,U)$. \n",
    "\n",
    "In addition, we have the following confidence intervals. \n",
    "\n",
    "For $\\sigma^2$, the conferences interval is $(L,U)$ where \n",
    "\\[\n",
    "L=\\frac{df {\\rm MSE}}{\\chi^2(1-\\alpha/2; df)}, U = \\frac{df {\\rm MSE}}{\\chi^2 (\\alpha/2;df)}.\n",
    "\\]\n",
    "\n",
    "For $\\sigma_{\\mu}^2$, we can use the Scatterthwaite approximation to the distribution of $s_{\\mu}^2$. To this end, we view $\\sigma_{\\mu}^2$ as \n",
    "\\[\n",
    "\\sigma_{\\mu}^2 = \\frac{1}{n}\\mathbb{E}[{\\rm MSTR}]-\\frac{1}{n}\\mathbb{E}[{\\rm MSE}]\\equiv c_1\\mathbb{E}[{\\rm MSTR}] +c_2 \\mathbb{E}[{\\rm MSE}].\n",
    "\\]\n",
    "Let $T=c_1 \\mathbb{E}[{\\rm MS}_1]+ \\cdots + c_j \\mathbb{E}[{\\rm MS}_h]$, $\\hat{T}=c_1  {\\rm MS}_1+ \\cdots + c_j {\\rm MS}_h$, and \n",
    "\\[\n",
    "df = \\frac{\\hat{T}^2}{(c_1 {\\rm MS}_1)^2/df_1 + \\cdots + (c_h {\\rm MS}_h)^2/df_h}.\n",
    "\\]\n",
    "We have $(df) \\hat{T} / T \\approx \\chi^2_{df}$. We can construct the confidence interval accordingly. \n",
    "\n"
   ]
  }
 ],
 "metadata": {
  "author": "mes ",
  "kernelspec": {
   "display_name": "R",
   "language": "R",
   "name": "ir"
  },
  "language_info": {
   "codemirror_mode": "r",
   "file_extension": ".r",
   "mimetype": "text/x-r-source",
   "name": "R",
   "pygments_lexer": "r",
   "version": "4.0.3"
  },
  "latex_envs": {
   "LaTeX_envs_menu_present": true,
   "autoclose": false,
   "autocomplete": true,
   "bibliofile": "biblio.bib",
   "cite_by": "apalike",
   "current_citInitial": 1,
   "eqLabelWithNumbers": true,
   "eqNumInitial": 1,
   "hotkeys": {
    "equation": "Ctrl-E",
    "itemize": "Ctrl-I"
   },
   "labels_anchors": false,
   "latex_user_defs": false,
   "report_style_numbering": false,
   "user_envs_cfg": false
  }
 },
 "nbformat": 4,
 "nbformat_minor": 2
}
