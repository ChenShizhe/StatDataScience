{
 "cells": [
  {
   "cell_type": "markdown",
   "metadata": {},
   "source": [
    "# Chapter 4 Analysis of Variance\n",
    "     "
   ]
  },
  {
   "cell_type": "markdown",
   "metadata": {},
   "source": [
    "## 4.2 Two-way ANOVA"
   ]
  },
  {
   "cell_type": "markdown",
   "metadata": {},
   "source": [
    "### 4.2.6 Unbalanced two-way ANOVA \n",
    "\n",
    "A two-way ANOVA when the numbers of observations vary across cells takes the following form \n",
    "\\[\n",
    "Y_{ijk} =  \\mu_{ijk}+\\epsilon_{ijk}= \\mu_{\\cdot\\cdot} + \\alpha_i+\\beta_j + (\\alpha\\beta)_{ij}+\\epsilon_{ijk}, \\ k=1,\\ldots, n_{ij}, j=1, \\ldots, b, i=1,\\ldots, a,\n",
    "\\]\n",
    "where $\\{\\epsilon_{ijk}\\}$ are i.i.d. $N(0,\\sigma^2)$. The same constraints hold on the parameters. \n",
    "\n",
    "The factor effects are still defined as follows \n",
    "\\[\n",
    "\\mu_{\\cdot \\cdot} =\\sum_{i=1}^a \\sum_{j=1}^ b \\mu_{ij}/(ab), \\ \\mu_{i\\cdot} = \\sum_{j=1}^b \\mu_{ij} /b, \\ \\mu_{\\cdot j}=\\sum_{i=1}^a \\mu_{ij}/a.\n",
    "\\]\n",
    "And furthermore,  we have \n",
    "\\[\n",
    "\\alpha_i=\\mu_{i\\cdot} - \\mu_{\\cdot \\cdot},\\ \\beta_j=\\mu_{\\cdot j}-\\mu_{\\cdot\\cdot},\\ (\\alpha\\beta)_{ij} =\\mu_{ij}-\\mu_{i\\cdot}-\\mu_{\\cdot j}+\\mu_{\\cdot\\cdot}. \n",
    "\\]\n",
    "Estimators follow the same form by plugging the sample means in the equations above.\n",
    "\n",
    "However, it is **no longer true** that \n",
    "\\[\n",
    "\\hat{\\mu}_{\\cdot\\cdot} =\\bar{Y}_{\\cdot\\cdot\\cdot}, \\ \\hat{\\mu}_{i\\cdot} = \\bar{Y}_{i\\cdot\\cdot}, \\ \\hat{\\mu}_{\\cdot j}=\\bar{Y}_{\\cdot j \\cdot},  \\ {\\rm SSTO}={\\rm SSA}+{\\rm SSB} + {\\rm SSAB}+{\\rm SSE}.\n",
    "\\]\n",
    "To see this, we just need to expand $\\bar{Y}_{\\cdot\\cdot\\cdot}$ as weighted average of the sample cell means. \n",
    "\n",
    "\n",
    "Suppose that we are interested in testing the presence of interactions. \n",
    "\\[\n",
    "H_0: (\\alpha\\beta)_{ij}=0 \\ {\\rm v.s.} \\ H_1: {\\rm not \\ all \\ } (\\alpha\\beta)_{ij} \\ {\\rm are \\ zero}.\n",
    "\\]\n",
    "We now need to use the following framework for testing. \n",
    "* Full model: $Y_{ijk} =\\mu_{\\cdot\\cdot} + \\alpha_i+\\beta_j + (\\alpha\\beta)_{ij}+\\epsilon_{ijk}$\n",
    "* Reduced model: $Y_{ijk} =\\mu_{\\cdot\\cdot} + \\alpha_i+\\beta_j +\\epsilon_{ijk}$\n",
    "\n",
    "The F-statistic is then \n",
    "\\[\n",
    "F^*=\\frac{ [{\\rm SSE}_{\\rm red}-{\\rm SSE}_{\\rm full}  ] / [ df_{\\rm red}-df_{\\rm full}   ]  }{ {\\rm SSE}_{\\rm full}/df_{\\rm full}},\n",
    "\\]\n",
    "where $F^* \\sim F( (a-1)(b-1), n_T-ab)$ under the null hypothesis. \n"
   ]
  }
 ],
 "metadata": {
  "author": "mes ",
  "kernelspec": {
   "display_name": "R",
   "language": "R",
   "name": "ir"
  },
  "language_info": {
   "codemirror_mode": "r",
   "file_extension": ".r",
   "mimetype": "text/x-r-source",
   "name": "R",
   "pygments_lexer": "r",
   "version": "4.0.3"
  },
  "latex_envs": {
   "LaTeX_envs_menu_present": true,
   "autoclose": false,
   "autocomplete": true,
   "bibliofile": "biblio.bib",
   "cite_by": "apalike",
   "current_citInitial": 1,
   "eqLabelWithNumbers": true,
   "eqNumInitial": 1,
   "hotkeys": {
    "equation": "Ctrl-E",
    "itemize": "Ctrl-I"
   },
   "labels_anchors": false,
   "latex_user_defs": false,
   "report_style_numbering": false,
   "user_envs_cfg": false
  }
 },
 "nbformat": 4,
 "nbformat_minor": 2
}
