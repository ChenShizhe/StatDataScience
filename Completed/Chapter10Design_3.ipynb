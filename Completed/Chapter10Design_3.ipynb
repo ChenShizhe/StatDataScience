{
 "cells": [
  {
   "cell_type": "markdown",
   "metadata": {},
   "source": [
    "## 10.2 Design of observational study\n"
   ]
  },
  {
   "cell_type": "markdown",
   "metadata": {},
   "source": [
    "### 10.2.1 Overview \n",
    "\n",
    "In Chapter 9, we mention that an observational study is a study where the treatments are not randomized. We have discussed some designs of randomized experiments, and one would expect that similar designs might apply to observational studies, where one needs to collect data. \n",
    "\n",
    "There are other designs that also employ the stratified idea, for instance, repeated measures designs, split-plot design, nested design, etc.  Note that the causal interpretation relies on randomization. A study can be stratified but not randomized. As a result, the causal interpretation might not always exist. \n",
    "\n",
    "Depending on the length of observation, we would have the so-called longitudinal studies (or panel data) where subjects are observed over a period of time. \n",
    "\n"
   ]
  }
 ],
 "metadata": {
  "kernelspec": {
   "display_name": "R",
   "language": "R",
   "name": "ir"
  },
  "language_info": {
   "codemirror_mode": "r",
   "file_extension": ".r",
   "mimetype": "text/x-r-source",
   "name": "R",
   "pygments_lexer": "r",
   "version": "4.0.3"
  },
  "latex_envs": {
   "LaTeX_envs_menu_present": true,
   "autoclose": false,
   "autocomplete": true,
   "bibliofile": "biblio.bib",
   "cite_by": "apalike",
   "current_citInitial": 1,
   "eqLabelWithNumbers": true,
   "eqNumInitial": 1,
   "hotkeys": {
    "equation": "Ctrl-E",
    "itemize": "Ctrl-I"
   },
   "labels_anchors": false,
   "latex_user_defs": false,
   "report_style_numbering": false,
   "user_envs_cfg": false
  }
 },
 "nbformat": 4,
 "nbformat_minor": 2
}
