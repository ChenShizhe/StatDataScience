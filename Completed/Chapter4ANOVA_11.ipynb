{
 "cells": [
  {
   "cell_type": "markdown",
   "metadata": {},
   "source": [
    "# Chapter 4 Analysis of Variance\n",
    "     "
   ]
  },
  {
   "cell_type": "code",
   "execution_count": 2,
   "metadata": {},
   "outputs": [],
   "source": [
    "Spock <- read.csv(file=\"../Data/SpockTrial.csv\", header=TRUE, sep=\",\")\n",
    "Spock$Judge<-as.factor(Spock$Judge);\n",
    "anova.fit<- aov(perc.women~Judge,data=Spock)"
   ]
  },
  {
   "cell_type": "markdown",
   "metadata": {},
   "source": [
    "### 4.1.11 Remedies for departures from model assumptions \n",
    "\n",
    "**Weighted least squares**\n",
    "\n",
    "Idea: $\\sqrt{w_i}\\epsilon_{ij} \\sim N(0,1)$ if $w_i = 1/\\sigma_i^2$. \n",
    "\n",
    "Find weighted least squares estimator by minimizing $\\sum_{i=1}^r \\sum_{j=1}^{n_i} w_i(Y_{ij}-\\mu)^2$ for the common mean \n",
    "$\\tilde{\\mu}=\\sum n_i w_i \\bar{Y}_{i\\cdot}/\\sum n_i w_i$. We will have a new set of ${\\rm SSTR}$ and ${\\rm SSE}$. \n",
    "\n",
    "In the end, we still have $F^* \\sim F(r-1,n_T-r)$. In practice, we plug in $w_i = 1/s_i^2$, and the null distribution remains the same.\n",
    "\n",
    "\n",
    "\n"
   ]
  },
  {
   "cell_type": "markdown",
   "metadata": {},
   "source": [
    "\n",
    "**Rank test** \n",
    "\\[\n",
    "F^*=\\frac{ {\\rm MSTR}(R) }{ {\\rm MSE} (R)} = \\frac{\\sum \\sum (\\bar{R}_{i\\cdot}-\\bar{R})^2 /(r-1)}{\\sum\\sum (R_{ij}-\\bar{R}_{i\\cdot})^2/(n_T-r) } \\sim F(r-1, n_T-r),\n",
    "\\]\n",
    "where $R_{ij}$ is the rank of $Y_{ij}$ among all $n_T$ observations. Works when the sample size is large. "
   ]
  },
  {
   "cell_type": "code",
   "execution_count": 6,
   "metadata": {},
   "outputs": [
    {
     "data": {
      "text/html": [
       "<style>\n",
       ".list-inline {list-style: none; margin:0; padding: 0}\n",
       ".list-inline>li {display: inline-block}\n",
       ".list-inline>li:not(:last-child)::after {content: \"\\00b7\"; padding: 0 .5ex}\n",
       "</style>\n",
       "<ol class=list-inline><li>1</li><li>2</li><li>3</li><li>4</li><li>5</li><li>6</li><li>8</li><li>9</li><li>12</li><li>17</li><li>20</li><li>26</li><li>28</li><li>31</li><li>33</li><li>11</li><li>13</li><li>18.5</li><li>18.5</li><li>23</li><li>24.5</li><li>27</li><li>29.5</li><li>29.5</li><li>7</li><li>10</li><li>14</li><li>15</li><li>16</li><li>21</li><li>22</li><li>24.5</li><li>32</li></ol>\n"
      ],
      "text/latex": [
       "\\begin{enumerate*}\n",
       "\\item 1\n",
       "\\item 2\n",
       "\\item 3\n",
       "\\item 4\n",
       "\\item 5\n",
       "\\item 6\n",
       "\\item 8\n",
       "\\item 9\n",
       "\\item 12\n",
       "\\item 17\n",
       "\\item 20\n",
       "\\item 26\n",
       "\\item 28\n",
       "\\item 31\n",
       "\\item 33\n",
       "\\item 11\n",
       "\\item 13\n",
       "\\item 18.5\n",
       "\\item 18.5\n",
       "\\item 23\n",
       "\\item 24.5\n",
       "\\item 27\n",
       "\\item 29.5\n",
       "\\item 29.5\n",
       "\\item 7\n",
       "\\item 10\n",
       "\\item 14\n",
       "\\item 15\n",
       "\\item 16\n",
       "\\item 21\n",
       "\\item 22\n",
       "\\item 24.5\n",
       "\\item 32\n",
       "\\end{enumerate*}\n"
      ],
      "text/markdown": [
       "1. 1\n",
       "2. 2\n",
       "3. 3\n",
       "4. 4\n",
       "5. 5\n",
       "6. 6\n",
       "7. 8\n",
       "8. 9\n",
       "9. 12\n",
       "10. 17\n",
       "11. 20\n",
       "12. 26\n",
       "13. 28\n",
       "14. 31\n",
       "15. 33\n",
       "16. 11\n",
       "17. 13\n",
       "18. 18.5\n",
       "19. 18.5\n",
       "20. 23\n",
       "21. 24.5\n",
       "22. 27\n",
       "23. 29.5\n",
       "24. 29.5\n",
       "25. 7\n",
       "26. 10\n",
       "27. 14\n",
       "28. 15\n",
       "29. 16\n",
       "30. 21\n",
       "31. 22\n",
       "32. 24.5\n",
       "33. 32\n",
       "\n",
       "\n"
      ],
      "text/plain": [
       " [1]  1.0  2.0  3.0  4.0  5.0  6.0  8.0  9.0 12.0 17.0 20.0 26.0 28.0 31.0 33.0\n",
       "[16] 11.0 13.0 18.5 18.5 23.0 24.5 27.0 29.5 29.5  7.0 10.0 14.0 15.0 16.0 21.0\n",
       "[31] 22.0 24.5 32.0"
      ]
     },
     "metadata": {},
     "output_type": "display_data"
    },
    {
     "data": {
      "text/plain": [
       "            Df Sum Sq Mean Sq F value   Pr(>F)    \n",
       "Judge        3   1846   615.4    15.6 3.15e-06 ***\n",
       "Residuals   29   1144    39.5                     \n",
       "---\n",
       "Signif. codes:  0 '***' 0.001 '**' 0.01 '*' 0.05 '.' 0.1 ' ' 1"
      ]
     },
     "metadata": {},
     "output_type": "display_data"
    }
   ],
   "source": [
    "(Spock$rank.perc = rank(Spock$perc.women))\n",
    "anova.fit.np<- aov(rank.perc~Judge,data=Spock)\n",
    "summary(anova.fit.np)"
   ]
  },
  {
   "cell_type": "markdown",
   "metadata": {},
   "source": [
    "**Kruskal-Wallis test**\n",
    "\\[\n",
    "F^*=(n_T-1)\\frac{ \\sum_{i=1}^r (\\bar{R}_{i\\cdot}-\\bar{R}_{\\cdot \\cdot})^2 }{ \\sum \\sum (R_{ij}-\\bar{R}_{\\cdot\\cdot})^2} \\sim \\chi^2_{r-1},\n",
    "\\]\n",
    "if $n_T$ is large. "
   ]
  },
  {
   "cell_type": "code",
   "execution_count": 8,
   "metadata": {},
   "outputs": [
    {
     "data": {
      "text/plain": [
       "\n",
       "\tKruskal-Wallis rank sum test\n",
       "\n",
       "data:  perc.women by Judge\n",
       "Kruskal-Wallis chi-squared = 19.757, df = 3, p-value = 0.0001906\n"
      ]
     },
     "metadata": {},
     "output_type": "display_data"
    }
   ],
   "source": [
    "kruskal.test(perc.women~Judge,data=Spock)"
   ]
  },
  {
   "cell_type": "markdown",
   "metadata": {},
   "source": [
    "**Box-Cox transformation**\n",
    "\n",
    "\\[\n",
    " Y(\\lambda)=\\frac{Y^{\\lambda}-1}{\\lambda}, \n",
    "\\]\n",
    "and $Y^0\\equiv \\log(Y)$ for $\\lambda=0$. \n",
    "\n",
    "To tune the parameter $\\lambda$, we can calculate the likelihood $L(\\lambda) \\equiv  \\max_{\\mu,\\sigma} L(\\lambda;\\mu,\\sigma)$. Then $\\lambda^* = \\arg \\max L(\\lambda)$. \n",
    "It can be shown that $\\max L(\\lambda)$ is equivalent to $\\min {\\rm SSE}[Y^*(\\lambda)]$, where\n",
    "\\[\n",
    "Y^*_{ij}(\\lambda)\\equiv \\begin{cases}\n",
    "\\frac{Y_{ij}^\\lambda-1}{\\lambda \\dot{Y}^\\lambda -1} & \\lambda\\neq 0\\\\\n",
    "\\dot{Y}\\log(Y_{ij}) & \\lambda =0\n",
    "\\end{cases},\n",
    "\\]\n",
    "where $\\dot{Y}$ is the geometric mean of $Y$. \n",
    "\n",
    "Box-Cox for equal variance amounts to minimize the Bartlett statistics, or other test statistics. We can use the `boxcox()` function in library `MASS` for Box-Cox transformation in `R`. \n"
   ]
  }
 ],
 "metadata": {
  "author": "\\mu",
  "kernelspec": {
   "display_name": "R",
   "language": "R",
   "name": "ir"
  },
  "language_info": {
   "codemirror_mode": "r",
   "file_extension": ".r",
   "mimetype": "text/x-r-source",
   "name": "R",
   "pygments_lexer": "r",
   "version": "4.0.3"
  },
  "latex_envs": {
   "LaTeX_envs_menu_present": true,
   "autoclose": false,
   "autocomplete": true,
   "bibliofile": "biblio.bib",
   "cite_by": "apalike",
   "current_citInitial": 1,
   "eqLabelWithNumbers": true,
   "eqNumInitial": 1,
   "hotkeys": {
    "equation": "Ctrl-E",
    "itemize": "Ctrl-I"
   },
   "labels_anchors": false,
   "latex_user_defs": false,
   "report_style_numbering": false,
   "user_envs_cfg": false
  }
 },
 "nbformat": 4,
 "nbformat_minor": 2
}
