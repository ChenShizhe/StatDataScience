{
 "cells": [
  {
   "cell_type": "markdown",
   "metadata": {},
   "source": [
    "### 9.5.3 Design using propensity scores\n",
    "\n",
    "The central role of the propensity score in designing observational studies. \n",
    "\n",
    "**Theorem** (Balancing property of propensity score) Assume that conditions 1 and 3 hold. We have $Z \\perp X \\mid e(X)$ and for any $h(x)$, given $\\mathbb{E}|h(X)| < \\infty$, \n",
    "\\[\n",
    "\\mathbb{E} \\left[ \\frac{Z h(X)}{e(X)} \\right] =\\mathbb{E} \\left[ \\frac{(1-Z) h(x)}{1-e(X)} \\right]\n",
    "\\]\n",
    "\n",
    "Why is this theorem useful? \n",
    "\n",
    "* Design of observational studies without outcome \n",
    "* Crucial to check covariate balance\n",
    "* How to choose $h(X)$? "
   ]
  }
 ],
 "metadata": {
  "kernelspec": {
   "display_name": "R",
   "language": "R",
   "name": "ir"
  },
  "language_info": {
   "codemirror_mode": "r",
   "file_extension": ".r",
   "mimetype": "text/x-r-source",
   "name": "R",
   "pygments_lexer": "r",
   "version": "4.0.3"
  },
  "latex_envs": {
   "LaTeX_envs_menu_present": true,
   "autoclose": false,
   "autocomplete": true,
   "bibliofile": "biblio.bib",
   "cite_by": "apalike",
   "current_citInitial": 1,
   "eqLabelWithNumbers": true,
   "eqNumInitial": 1,
   "hotkeys": {
    "equation": "Ctrl-E",
    "itemize": "Ctrl-I"
   },
   "labels_anchors": false,
   "latex_user_defs": false,
   "report_style_numbering": false,
   "user_envs_cfg": false
  }
 },
 "nbformat": 4,
 "nbformat_minor": 2
}
