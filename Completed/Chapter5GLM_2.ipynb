{
 "cells": [
  {
   "cell_type": "markdown",
   "metadata": {},
   "source": [
    "**Interpretation** \n",
    "\n",
    "A key concept for the logistic regression is the log odds ration, which is the interpretation of $\\beta$. Consider $\\beta_1$, we can see that \n",
    "\\[\n",
    "\\beta_1= \\log \\left\\{ \\frac{ \\pi(X_{1}+1,\\cdots )/[1-\\pi(X_{1}+1,\\cdots )]}{\\pi(X_{1},\\cdots )/[1-\\pi(X_{1},\\cdots )]}    \\right\\}.\n",
    "\\]\n",
    "\n",
    "The score function takes the form $U(\\beta)= \\partial \\log \\mathcal{L}/\\partial \\beta$. The MLE $\\hat{\\beta}$ satisfies that $U(\\hat{\\beta})=0$. The Fisher information is $I(\\beta)=\\mathbb{E} \\big[-\\partial^2 \\log \\mathcal{L}/\\partial \\beta^2 \\big]$. The confidence interval for each $\\beta_j$ is $\\hat{\\beta}_j \\mp z_{1-\\alpha/2} \\hat{\\rm se}(\\hat{\\beta}_j)$, where $z \\sim N(0,1)$. \n"
   ]
  }
 ],
 "metadata": {
  "kernelspec": {
   "display_name": "R",
   "language": "R",
   "name": "ir"
  },
  "language_info": {
   "codemirror_mode": "r",
   "file_extension": ".r",
   "mimetype": "text/x-r-source",
   "name": "R",
   "pygments_lexer": "r",
   "version": "4.0.3"
  },
  "latex_envs": {
   "LaTeX_envs_menu_present": true,
   "autoclose": false,
   "autocomplete": true,
   "bibliofile": "biblio.bib",
   "cite_by": "apalike",
   "current_citInitial": 1,
   "eqLabelWithNumbers": true,
   "eqNumInitial": 1,
   "hotkeys": {
    "equation": "Ctrl-E",
    "itemize": "Ctrl-I"
   },
   "labels_anchors": false,
   "latex_user_defs": false,
   "report_style_numbering": false,
   "user_envs_cfg": false
  }
 },
 "nbformat": 4,
 "nbformat_minor": 2
}
