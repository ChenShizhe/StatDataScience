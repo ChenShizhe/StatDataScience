{
 "cells": [
  {
   "cell_type": "markdown",
   "metadata": {},
   "source": [
    "# Appendix D Simulation \n"
   ]
  },
  {
   "cell_type": "markdown",
   "metadata": {},
   "source": [
    "## D.2 Simulating random variables in `R`"
   ]
  },
  {
   "cell_type": "markdown",
   "metadata": {},
   "source": [
    "The `rpi` function is limited by manually-entered $\\pi$ of 153 digits. Fortunately, `R` has a set of (pseudo)random number generators that are free of this limitation. "
   ]
  },
  {
   "cell_type": "markdown",
   "metadata": {},
   "source": [
    "### D.2.1 Uniform distribution \n",
    "\n",
    "The `runif` function in `R` draw, by default, uniform random variables in $[0,1]$. We can draw from uniform distributions in other intervals by changing its arguments. Furthermore, we can generate a wide range of random variables based on the uniform distribution using the [probability integral transform](https://en.wikipedia.org/wiki/Probability_integral_transform)."
   ]
  },
  {
   "cell_type": "code",
   "execution_count": 29,
   "metadata": {
    "scrolled": true
   },
   "outputs": [
    {
     "data": {
      "image/png": "[encoded data removed]",
      "text/plain": [
       "Plot with title \"Uniform\""
      ]
     },
     "metadata": {
      "image/png": {
       "height": 420,
       "width": 420
      }
     },
     "output_type": "display_data"
    }
   ],
   "source": [
    "#runif(10)\n",
    "\n",
    "\n",
    "x.grid=seq(from=0,to=1,length.out=100)\n",
    "unif.pdf=dunif(x.grid, min=0,max=1)\n",
    "\n",
    "unif.rv=runif(100);\n",
    "hist(unif.rv,freq=F,main=\"Uniform\",xlab=\"X\")\n",
    "lines(y=unif.pdf,x=x.grid,col=\"blue\",lwd=3)\n"
   ]
  }
 ],
 "metadata": {
  "kernelspec": {
   "display_name": "R",
   "language": "R",
   "name": "ir"
  },
  "language_info": {
   "codemirror_mode": "r",
   "file_extension": ".r",
   "mimetype": "text/x-r-source",
   "name": "R",
   "pygments_lexer": "r",
   "version": "4.0.3"
  },
  "latex_envs": {
   "LaTeX_envs_menu_present": true,
   "autoclose": false,
   "autocomplete": true,
   "bibliofile": "biblio.bib",
   "cite_by": "apalike",
   "current_citInitial": 1,
   "eqLabelWithNumbers": true,
   "eqNumInitial": 1,
   "hotkeys": {
    "equation": "Ctrl-E",
    "itemize": "Ctrl-I"
   },
   "labels_anchors": false,
   "latex_user_defs": false,
   "report_style_numbering": false,
   "user_envs_cfg": false
  }
 },
 "nbformat": 4,
 "nbformat_minor": 1
}
