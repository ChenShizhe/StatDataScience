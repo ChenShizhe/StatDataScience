{
 "cells": [
  {
   "cell_type": "markdown",
   "metadata": {},
   "source": [
    "### 10.2.2 Case-control study \n",
    "\n",
    "Another popular design for observational study is the case-control study. In medical research, the cases are often easy to identify as patients' records are available from the health records. Furthermore, many diseases are rare in the general population. Therefore, rather than watching a group of participants till they develop diseases, it is more practical to select known cases and find matching control group. \n",
    "\n",
    "Briefly, a case-control study identifies two populatons by the outcomes. The actual samples are drawn from the two populations, repectively. To be specific, the case group is drawn from $X, Y \\mid Y=1$, and the control group is drawn from   $X,Y \\mid Y=0$. As a result, it is no longer possible to recover the ${\\rm ACE}$ from a case-control study, as the averages are taken on wrong populaions. \n",
    "\n",
    "However, the log-odds ratio from a case-control study can still be transfered to general population. "
   ]
  }
 ],
 "metadata": {
  "kernelspec": {
   "display_name": "R",
   "language": "R",
   "name": "ir"
  },
  "language_info": {
   "codemirror_mode": "r",
   "file_extension": ".r",
   "mimetype": "text/x-r-source",
   "name": "R",
   "pygments_lexer": "r",
   "version": "4.0.3"
  },
  "latex_envs": {
   "LaTeX_envs_menu_present": true,
   "autoclose": false,
   "autocomplete": true,
   "bibliofile": "biblio.bib",
   "cite_by": "apalike",
   "current_citInitial": 1,
   "eqLabelWithNumbers": true,
   "eqNumInitial": 1,
   "hotkeys": {
    "equation": "Ctrl-E",
    "itemize": "Ctrl-I"
   },
   "labels_anchors": false,
   "latex_user_defs": false,
   "report_style_numbering": false,
   "user_envs_cfg": false
  }
 },
 "nbformat": 4,
 "nbformat_minor": 2
}
