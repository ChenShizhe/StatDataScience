{
 "cells": [
  {
   "cell_type": "markdown",
   "metadata": {},
   "source": [
    "# Chapter 4 Analysis of Variance\n",
    "     "
   ]
  },
  {
   "cell_type": "markdown",
   "metadata": {},
   "source": [
    "## 4.3 Random and mixed effects\n",
    "\n",
    "### 4.3.1 One-way ANOVA model with random effects\n",
    "\n",
    "We now cosnider the following model in a balanced design, for $j=1,\\ldots, n, i=1,\\ldots,r$, \n",
    "\\[\n",
    "Y_{ij}=\\mu_i +\\epsilon_{ij}, \n",
    "\\]\n",
    "where $\\epsilon_{ij}$ are i.i.d. $N(0,\\sigma^2)$, $\\mu_i$ are i.i.d. $N(\\mu_{\\cdot},\\sigma_{\\mu}^2)$, and $\\epsilon_{i,j}$ is independent with $\\mu_{i'}$ for any $i, i' \\in \\{1,\\ldots,r\\}$. The total number of observations is $n_T= n\\times r$. \n",
    "\n",
    "The main change brought by the _random_ effects is that the cell means are now *random variables*, instead of unobserved, fixed unknown parameters in the fixed effect model. As a result, it is no longer rigorous to say that we *estimate* the cell mean (we can't estimate a random variable!). Instead, we *predict* the cell means (as in predicting the *outcome* --- a random variable). \n",
    "\n",
    "We have the following \n",
    "\\[\n",
    "\\mathbb{E}[Y_{ij}]=\\mu_{\\cdot}, \\ {\\rm var}(Y_{ij})={\\rm var}(\\mu_i)+{\\rm var}(\\epsilon_{ij}) = \\sigma_{\\mu}^2 +\\sigma^2, \n",
    "\\]\n",
    "and \n",
    "\\[\n",
    "{\\rm cov}(Y_{ij}, Y_{ij'})=\\sigma_{\\mu}^2, \\ j \\neq j', {\\rm cov}(Y_{ij}, Y_{i'j'})=0,\\ i \\neq i'.\n",
    "\\]\n",
    "\n",
    "The factor-effect form is $Y_{ij}=\\mu_{\\cdot} + \\tau_i+\\epsilon_{ij}$, where  $\\epsilon_{ij}$ are i.i.d. $N(0,\\sigma^2)$, $\\tau_i$ are i.i.d. $N(0,\\sigma_{\\tau}^2)$, and $\\epsilon_i$ is independent with $\\tau_{i'}$ for any $i, i' \\{1,\\ldots,r\\}$. Here $\\tau_i = \\mu_i - \\mu_{\\cdot}$ and $\\sigma_{\\tau}=\\sigma_{\\mu}$. \n",
    "\n"
   ]
  }
 ],
 "metadata": {
  "author": "mes ",
  "kernelspec": {
   "display_name": "R",
   "language": "R",
   "name": "ir"
  },
  "language_info": {
   "codemirror_mode": "r",
   "file_extension": ".r",
   "mimetype": "text/x-r-source",
   "name": "R",
   "pygments_lexer": "r",
   "version": "4.0.3"
  },
  "latex_envs": {
   "LaTeX_envs_menu_present": true,
   "autoclose": false,
   "autocomplete": true,
   "bibliofile": "biblio.bib",
   "cite_by": "apalike",
   "current_citInitial": 1,
   "eqLabelWithNumbers": true,
   "eqNumInitial": 1,
   "hotkeys": {
    "equation": "Ctrl-E",
    "itemize": "Ctrl-I"
   },
   "labels_anchors": false,
   "latex_user_defs": false,
   "report_style_numbering": false,
   "user_envs_cfg": false
  }
 },
 "nbformat": 4,
 "nbformat_minor": 2
}
