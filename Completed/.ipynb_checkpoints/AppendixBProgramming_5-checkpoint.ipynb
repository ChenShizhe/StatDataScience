{
 "cells": [
  {
   "cell_type": "markdown",
   "metadata": {},
   "source": [
    "# Appendix B Programming Basics"
   ]
  },
  {
   "cell_type": "markdown",
   "metadata": {},
   "source": [
    "## B.4 Iteration"
   ]
  },
  {
   "cell_type": "markdown",
   "metadata": {},
   "source": [
    "**Iteration** is an important concept in programming. Iteration means, roughly, running the same piece of code repeatedly. Let us consider the famous *Fibonacci sequence*, whose $n$th term is defined as for $n\\geq 2$,\n",
    "$$ F(n+1) = F(n) + F(n-1), $$\n",
    "where $F(1) = 0$ and $F(2) = 1$.\n",
    "\n",
    "  There are many ways to perform iteration in `R`. The one you have probably heard of is the **for-loop**:\n",
    "```\n",
    "for (<index> in <vector>) {\n",
    "    [do something for each value of <index>]\n",
    "}\n",
    "```\n",
    "The code below computes the first 10 Fibonacci numbers using a **for-loop**."
   ]
  },
  {
   "cell_type": "code",
   "execution_count": 8,
   "metadata": {},
   "outputs": [
    {
     "name": "stdout",
     "output_type": "stream",
     "text": [
      "[1] 0\n",
      "[1] 1\n",
      "[1] 1\n",
      "[1] 2\n",
      "[1] 3\n",
      "[1] 5\n",
      "[1] 8\n",
      "[1] 13\n",
      "[1] 21\n",
      "[1] 34\n",
      "[1] 55\n",
      "[1] 89\n",
      "[1] 144\n",
      "[1] 233\n",
      "[1] 377\n",
      "[1] 610\n",
      "[1] 987\n",
      "[1] 1597\n",
      "[1] 2584\n",
      "[1] 4181\n"
     ]
    }
   ],
   "source": [
    "previous=0; # F(1)\n",
    "current=1; # F(2)\n",
    "for (i in 1:20) {\n",
    "    print(previous)\n",
    "    new = previous + current;\n",
    "    previous = current;\n",
    "    current = new;\n",
    "}"
   ]
  },
  {
   "cell_type": "markdown",
   "metadata": {},
   "source": [
    "The **for-loop** should have three components:\n",
    "1. The *output*, in this case the printed numbers. \n",
    "2. The *sequence* of values along which we will iterate. Here we use 1 to 10. \n",
    "3. The *body*, which is the piece of code that gets executed in each iteration of the loop. In the example above, the body first runs `print(previous)`, then `new = current + previous`, etc."
   ]
  },
  {
   "cell_type": "markdown",
   "metadata": {},
   "source": [
    "Many operations in statistics are applied on all observations. However, we don't use for-loops that often in `R`, since better alternatives are available due to _vectorization_. For example, the following approaches produce identical outputs.\n",
    "The latter is more concise using vectorization, and can be faster in some cases. "
   ]
  },
  {
   "cell_type": "code",
   "execution_count": 11,
   "metadata": {},
   "outputs": [
    {
     "data": {
      "text/html": [
       "5050"
      ],
      "text/latex": [
       "5050"
      ],
      "text/markdown": [
       "5050"
      ],
      "text/plain": [
       "[1] 5050"
      ]
     },
     "metadata": {},
     "output_type": "display_data"
    },
    {
     "data": {
      "text/html": [
       "5050"
      ],
      "text/latex": [
       "5050"
      ],
      "text/markdown": [
       "5050"
      ],
      "text/plain": [
       "[1] 5050"
      ]
     },
     "metadata": {},
     "output_type": "display_data"
    }
   ],
   "source": [
    "# sum the numbers 1 to 100\n",
    "output <- 0;\n",
    "for (i in 1:100){\n",
    "    output<-output+i;\n",
    "}\n",
    "output\n",
    "sum(1:100)"
   ]
  },
  {
   "cell_type": "markdown",
   "metadata": {},
   "source": [
    "Sometimes we can not specific _a priori_ the sequence to iterate over. We can use a while-loop for iteration. \n",
    "```\n",
    "while (<condition>) {\n",
    "    <body>\n",
    "}\n",
    "```\n",
    "The `while` loop will continue running until `<condition>` returns `FALSE`."
   ]
  },
  {
   "cell_type": "markdown",
   "metadata": {},
   "source": [
    "Here's an example of how we would use a `while` loop. The following command counts the number of heads and tails encountered in tosses of a fair coin until the third head is encountered."
   ]
  },
  {
   "cell_type": "code",
   "execution_count": 18,
   "metadata": {},
   "outputs": [
    {
     "name": "stdout",
     "output_type": "stream",
     "text": [
      "[1] 3\n",
      "[1] 9\n"
     ]
    }
   ],
   "source": [
    "heads <- 0;\n",
    "tails <- 0;\n",
    "while (heads<=2) {\n",
    "    toss <- sample(c('Tail','Head'),1);\n",
    "    heads <- heads + (toss=='Head');\n",
    "    tails <- tails + (toss=='Tail');\n",
    "}\n",
    "print(heads)\n",
    "print(tails)"
   ]
  },
  {
   "cell_type": "markdown",
   "metadata": {},
   "source": [
    "As another example, say we want to print all Fibonacci numbers less than 1000. We do not know how many terms that sequence will have. We can resort to the while-loop."
   ]
  },
  {
   "cell_type": "code",
   "execution_count": 19,
   "metadata": {
    "scrolled": false
   },
   "outputs": [
    {
     "name": "stdout",
     "output_type": "stream",
     "text": [
      "[1] 0\n",
      "[1] 1\n",
      "[1] 1\n",
      "[1] 2\n",
      "[1] 3\n",
      "[1] 5\n",
      "[1] 8\n",
      "[1] 13\n",
      "[1] 21\n",
      "[1] 34\n",
      "[1] 55\n",
      "[1] 89\n",
      "[1] 144\n",
      "[1] 233\n",
      "[1] 377\n",
      "[1] 610\n",
      "[1] 987\n"
     ]
    }
   ],
   "source": [
    "previous=0; # F(1)\n",
    "current=1; # F(2)\n",
    "while (previous < 1000 ) {\n",
    "    print(previous)\n",
    "    new = previous + current;\n",
    "    previous = current;\n",
    "    current = new;\n",
    "}"
   ]
  }
 ],
 "metadata": {
  "kernelspec": {
   "display_name": "R",
   "language": "R",
   "name": "ir"
  },
  "language_info": {
   "codemirror_mode": "r",
   "file_extension": ".r",
   "mimetype": "text/x-r-source",
   "name": "R",
   "pygments_lexer": "r",
   "version": "4.0.3"
  },
  "latex_envs": {
   "LaTeX_envs_menu_present": true,
   "autoclose": false,
   "autocomplete": true,
   "bibliofile": "biblio.bib",
   "cite_by": "apalike",
   "current_citInitial": 1,
   "eqLabelWithNumbers": true,
   "eqNumInitial": 1,
   "hotkeys": {
    "equation": "Ctrl-E",
    "itemize": "Ctrl-I"
   },
   "labels_anchors": false,
   "latex_user_defs": false,
   "report_style_numbering": false,
   "user_envs_cfg": false
  }
 },
 "nbformat": 4,
 "nbformat_minor": 2
}
