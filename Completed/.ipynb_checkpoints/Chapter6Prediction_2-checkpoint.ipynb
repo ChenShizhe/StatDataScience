{
 "cells": [
  {
   "cell_type": "markdown",
   "metadata": {},
   "source": [
    "**Example: Hotel booking demand data.** As a motivating example, we consider the Hotel booking demand data from the Kaggle Open Datasets ([link](https://www.kaggle.com/jessemostipak/hotel-booking-demand)). This is a publicly available data set with [many suggestions](https://www.kaggle.com/jessemostipak/hotel-booking-demand/notebooks?datasetId=511638&sortBy=voteCount) on how to analysis it. We consider two questions in this chapter. \n",
    "\n",
    "1. As a customer, predict the average daily rate (`adr`) using available features.\n",
    "2. As a hotel manager, predict the cancellation (`is_canceled`) using available features. "
   ]
  },
  {
   "cell_type": "code",
   "execution_count": 6,
   "metadata": {
    "scrolled": true
   },
   "outputs": [
    {
     "name": "stderr",
     "output_type": "stream",
     "text": [
      "\n",
      "\u001b[36m--\u001b[39m \u001b[1m\u001b[1mColumn specification\u001b[1m\u001b[22m \u001b[36m------------------------------------------------------------------------------------------------\u001b[39m\n",
      "cols(\n",
      "  .default = col_double(),\n",
      "  hotel = \u001b[31mcol_character()\u001b[39m,\n",
      "  arrival_date_month = \u001b[31mcol_character()\u001b[39m,\n",
      "  meal = \u001b[31mcol_character()\u001b[39m,\n",
      "  country = \u001b[31mcol_character()\u001b[39m,\n",
      "  market_segment = \u001b[31mcol_character()\u001b[39m,\n",
      "  distribution_channel = \u001b[31mcol_character()\u001b[39m,\n",
      "  reserved_room_type = \u001b[31mcol_character()\u001b[39m,\n",
      "  assigned_room_type = \u001b[31mcol_character()\u001b[39m,\n",
      "  deposit_type = \u001b[31mcol_character()\u001b[39m,\n",
      "  agent = \u001b[31mcol_character()\u001b[39m,\n",
      "  company = \u001b[31mcol_character()\u001b[39m,\n",
      "  customer_type = \u001b[31mcol_character()\u001b[39m,\n",
      "  reservation_status = \u001b[31mcol_character()\u001b[39m,\n",
      "  reservation_status_date = \u001b[34mcol_date(format = \"\")\u001b[39m\n",
      ")\n",
      "\u001b[36mi\u001b[39m Use \u001b[30m\u001b[47m\u001b[30m\u001b[47m`spec()`\u001b[47m\u001b[30m\u001b[49m\u001b[39m for the full column specifications.\n",
      "\n",
      "\n"
     ]
    },
    {
     "name": "stdout",
     "output_type": "stream",
     "text": [
      "\u001b[90m# A tibble: 119,390 x 32\u001b[39m\n",
      "   hotel is_canceled lead_time arrival_date_ye~ arrival_date_mo~\n",
      "   \u001b[3m\u001b[90m<chr>\u001b[39m\u001b[23m       \u001b[3m\u001b[90m<dbl>\u001b[39m\u001b[23m     \u001b[3m\u001b[90m<dbl>\u001b[39m\u001b[23m            \u001b[3m\u001b[90m<dbl>\u001b[39m\u001b[23m \u001b[3m\u001b[90m<chr>\u001b[39m\u001b[23m           \n",
      "\u001b[90m 1\u001b[39m Reso~           0       342             \u001b[4m2\u001b[24m015 July            \n",
      "\u001b[90m 2\u001b[39m Reso~           0       737             \u001b[4m2\u001b[24m015 July            \n",
      "\u001b[90m 3\u001b[39m Reso~           0         7             \u001b[4m2\u001b[24m015 July            \n",
      "\u001b[90m 4\u001b[39m Reso~           0        13             \u001b[4m2\u001b[24m015 July            \n",
      "\u001b[90m 5\u001b[39m Reso~           0        14             \u001b[4m2\u001b[24m015 July            \n",
      "\u001b[90m 6\u001b[39m Reso~           0        14             \u001b[4m2\u001b[24m015 July            \n",
      "\u001b[90m 7\u001b[39m Reso~           0         0             \u001b[4m2\u001b[24m015 July            \n",
      "\u001b[90m 8\u001b[39m Reso~           0         9             \u001b[4m2\u001b[24m015 July            \n",
      "\u001b[90m 9\u001b[39m Reso~           1        85             \u001b[4m2\u001b[24m015 July            \n",
      "\u001b[90m10\u001b[39m Reso~           1        75             \u001b[4m2\u001b[24m015 July            \n",
      "\u001b[90m# ... with 119,380 more rows, and 27 more variables:\u001b[39m\n",
      "\u001b[90m#   arrival_date_week_number \u001b[3m\u001b[90m<dbl>\u001b[90m\u001b[23m, arrival_date_day_of_month \u001b[3m\u001b[90m<dbl>\u001b[90m\u001b[23m,\u001b[39m\n",
      "\u001b[90m#   stays_in_weekend_nights \u001b[3m\u001b[90m<dbl>\u001b[90m\u001b[23m, stays_in_week_nights \u001b[3m\u001b[90m<dbl>\u001b[90m\u001b[23m, adults \u001b[3m\u001b[90m<dbl>\u001b[90m\u001b[23m,\u001b[39m\n",
      "\u001b[90m#   children \u001b[3m\u001b[90m<dbl>\u001b[90m\u001b[23m, babies \u001b[3m\u001b[90m<dbl>\u001b[90m\u001b[23m, meal \u001b[3m\u001b[90m<chr>\u001b[90m\u001b[23m, country \u001b[3m\u001b[90m<chr>\u001b[90m\u001b[23m,\u001b[39m\n",
      "\u001b[90m#   market_segment \u001b[3m\u001b[90m<chr>\u001b[90m\u001b[23m, distribution_channel \u001b[3m\u001b[90m<chr>\u001b[90m\u001b[23m, is_repeated_guest \u001b[3m\u001b[90m<dbl>\u001b[90m\u001b[23m,\u001b[39m\n",
      "\u001b[90m#   previous_cancellations \u001b[3m\u001b[90m<dbl>\u001b[90m\u001b[23m, previous_bookings_not_canceled \u001b[3m\u001b[90m<dbl>\u001b[90m\u001b[23m,\u001b[39m\n",
      "\u001b[90m#   reserved_room_type \u001b[3m\u001b[90m<chr>\u001b[90m\u001b[23m, assigned_room_type \u001b[3m\u001b[90m<chr>\u001b[90m\u001b[23m, booking_changes \u001b[3m\u001b[90m<dbl>\u001b[90m\u001b[23m,\u001b[39m\n",
      "\u001b[90m#   deposit_type \u001b[3m\u001b[90m<chr>\u001b[90m\u001b[23m, agent \u001b[3m\u001b[90m<chr>\u001b[90m\u001b[23m, company \u001b[3m\u001b[90m<chr>\u001b[90m\u001b[23m, days_in_waiting_list \u001b[3m\u001b[90m<dbl>\u001b[90m\u001b[23m,\u001b[39m\n",
      "\u001b[90m#   customer_type \u001b[3m\u001b[90m<chr>\u001b[90m\u001b[23m, adr \u001b[3m\u001b[90m<dbl>\u001b[90m\u001b[23m, required_car_parking_spaces \u001b[3m\u001b[90m<dbl>\u001b[90m\u001b[23m,\u001b[39m\n",
      "\u001b[90m#   total_of_special_requests \u001b[3m\u001b[90m<dbl>\u001b[90m\u001b[23m, reservation_status \u001b[3m\u001b[90m<chr>\u001b[90m\u001b[23m,\u001b[39m\n",
      "\u001b[90m#   reservation_status_date \u001b[3m\u001b[90m<date>\u001b[90m\u001b[23m\u001b[39m\n"
     ]
    }
   ],
   "source": [
    "library(tidyverse)\n",
    "hotel <- read_csv(\"../Data/hotel_bookings.csv\") %>% print"
   ]
  },
  {
   "cell_type": "code",
   "execution_count": 9,
   "metadata": {},
   "outputs": [
    {
     "data": {
      "image/png": "[encoded data removed]",
      "text/plain": [
       "plot without title"
      ]
     },
     "metadata": {
      "image/png": {
       "height": 420,
       "width": 420
      }
     },
     "output_type": "display_data"
    }
   ],
   "source": [
    "hotel %>% filter(adr<1000) %>% \n",
    "    ggplot(aes(arrival_date_month, adr))+\n",
    "        geom_boxplot()+coord_flip()"
   ]
  },
  {
   "cell_type": "code",
   "execution_count": null,
   "metadata": {
    "scrolled": false
   },
   "outputs": [],
   "source": [
    "hotel %>% ggplot(aes(arrival_date_month, ..count..))+\n",
    "        geom_boxplot()+coord_flip()"
   ]
  },
  {
   "cell_type": "code",
   "execution_count": null,
   "metadata": {},
   "outputs": [],
   "source": [
    "# Consider a smaller set:\n",
    "hotel<- hotel %>% select(is_canceled, adr, lead_time, total_of_special_requests, stays_in_week_nights, stays_in_weekend_nights, previous_cancellations)\n",
    "hotel<- hotel %>% mutate(is_canceled = (is_canceled==1));\n",
    "hotel<-hotel %>% filter(adr<1000)\n",
    "hotel<-hotel[1:1000,] # use a smaller data set \n",
    "hotel %>% print"
   ]
  }
 ],
 "metadata": {
  "kernelspec": {
   "display_name": "R",
   "language": "R",
   "name": "ir"
  },
  "language_info": {
   "codemirror_mode": "r",
   "file_extension": ".r",
   "mimetype": "text/x-r-source",
   "name": "R",
   "pygments_lexer": "r",
   "version": "4.0.3"
  },
  "latex_envs": {
   "LaTeX_envs_menu_present": true,
   "autoclose": false,
   "autocomplete": true,
   "bibliofile": "biblio.bib",
   "cite_by": "apalike",
   "current_citInitial": 1,
   "eqLabelWithNumbers": true,
   "eqNumInitial": 1,
   "hotkeys": {
    "equation": "Ctrl-E",
    "itemize": "Ctrl-I"
   },
   "labels_anchors": false,
   "latex_user_defs": false,
   "report_style_numbering": false,
   "user_envs_cfg": false
  }
 },
 "nbformat": 4,
 "nbformat_minor": 2
}
