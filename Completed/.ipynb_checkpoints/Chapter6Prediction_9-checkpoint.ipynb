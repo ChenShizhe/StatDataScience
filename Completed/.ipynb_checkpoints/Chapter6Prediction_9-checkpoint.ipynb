{
 "cells": [
  {
   "cell_type": "markdown",
   "metadata": {},
   "source": [
    "#### 6.4.2.2 Penalization or regularization"
   ]
  },
  {
   "cell_type": "markdown",
   "metadata": {},
   "source": [
    "In addition to restricting the number of parameters, we can also restrict the range of the parameters. This can be done by placing penalties on the magnitudes of the parameters. Two popular choices are the $\\ell_1$-norm and $\\ell_2$-norm on the parameters. \n",
    "\n",
    "- $\\ell_1$-norm (lasso): $P(\\beta_1,\\ldots,\\beta_p) = |\\beta_1| + \\ldots + |\\beta_p|.$\n",
    "\n",
    "- $\\ell_2$-norm (ridge, Tikhonov): $P(\\beta_1,\\ldots,\\beta_p) = \\beta_1^2 + \\ldots + \\beta_p^2.$\n",
    "\n",
    "We then choose $\\beta_0,\\beta_1,\\ldots, \\beta_k$, to minimize\n",
    "\t\\[\n",
    "\t \\left[L\\left( y,  {\\beta_0 + \\beta_1 x_1 + ... +\\beta_k x_k}\\right)\\right] + \\lambda P\\left(\\beta_1,\\ldots,\\beta_k\\right),\n",
    "\t\\]\n",
    "where $\\lambda$ modulates the degree of penalization. In other words, increasing $\\lambda$ reults in a less complex model.  "
   ]
  },
  {
   "cell_type": "code",
   "execution_count": 1,
   "metadata": {},
   "outputs": [
    {
     "name": "stderr",
     "output_type": "stream",
     "text": [
      "-- \u001b[1mAttaching packages\u001b[22m ------------------------------------------------------------------------------- tidyverse 1.3.0 --\n",
      "\n",
      "\u001b[32mv\u001b[39m \u001b[34mggplot2\u001b[39m 3.3.2     \u001b[32mv\u001b[39m \u001b[34mpurrr  \u001b[39m 0.3.4\n",
      "\u001b[32mv\u001b[39m \u001b[34mtibble \u001b[39m 3.0.4     \u001b[32mv\u001b[39m \u001b[34mdplyr  \u001b[39m 1.0.2\n",
      "\u001b[32mv\u001b[39m \u001b[34mtidyr  \u001b[39m 1.1.2     \u001b[32mv\u001b[39m \u001b[34mstringr\u001b[39m 1.4.0\n",
      "\u001b[32mv\u001b[39m \u001b[34mreadr  \u001b[39m 1.4.0     \u001b[32mv\u001b[39m \u001b[34mforcats\u001b[39m 0.5.0\n",
      "\n",
      "-- \u001b[1mConflicts\u001b[22m ---------------------------------------------------------------------------------- tidyverse_conflicts() --\n",
      "\u001b[31mx\u001b[39m \u001b[34mdplyr\u001b[39m::\u001b[32mfilter()\u001b[39m masks \u001b[34mstats\u001b[39m::filter()\n",
      "\u001b[31mx\u001b[39m \u001b[34mdplyr\u001b[39m::\u001b[32mlag()\u001b[39m    masks \u001b[34mstats\u001b[39m::lag()\n",
      "\n",
      "\n",
      "\u001b[36m--\u001b[39m \u001b[1m\u001b[1mColumn specification\u001b[1m\u001b[22m \u001b[36m------------------------------------------------------------------------------------------------\u001b[39m\n",
      "cols(\n",
      "  .default = col_double(),\n",
      "  hotel = \u001b[31mcol_character()\u001b[39m,\n",
      "  arrival_date_month = \u001b[31mcol_character()\u001b[39m,\n",
      "  meal = \u001b[31mcol_character()\u001b[39m,\n",
      "  country = \u001b[31mcol_character()\u001b[39m,\n",
      "  market_segment = \u001b[31mcol_character()\u001b[39m,\n",
      "  distribution_channel = \u001b[31mcol_character()\u001b[39m,\n",
      "  reserved_room_type = \u001b[31mcol_character()\u001b[39m,\n",
      "  assigned_room_type = \u001b[31mcol_character()\u001b[39m,\n",
      "  deposit_type = \u001b[31mcol_character()\u001b[39m,\n",
      "  agent = \u001b[31mcol_character()\u001b[39m,\n",
      "  company = \u001b[31mcol_character()\u001b[39m,\n",
      "  customer_type = \u001b[31mcol_character()\u001b[39m,\n",
      "  reservation_status = \u001b[31mcol_character()\u001b[39m,\n",
      "  reservation_status_date = \u001b[34mcol_date(format = \"\")\u001b[39m\n",
      ")\n",
      "\u001b[36mi\u001b[39m Use \u001b[30m\u001b[47m\u001b[30m\u001b[47m`spec()`\u001b[47m\u001b[30m\u001b[49m\u001b[39m for the full column specifications.\n",
      "\n",
      "\n"
     ]
    },
    {
     "name": "stdout",
     "output_type": "stream",
     "text": [
      "\u001b[90m# A tibble: 119,390 x 32\u001b[39m\n",
      "   hotel is_canceled lead_time arrival_date_ye~ arrival_date_mo~\n",
      "   \u001b[3m\u001b[90m<chr>\u001b[39m\u001b[23m       \u001b[3m\u001b[90m<dbl>\u001b[39m\u001b[23m     \u001b[3m\u001b[90m<dbl>\u001b[39m\u001b[23m            \u001b[3m\u001b[90m<dbl>\u001b[39m\u001b[23m \u001b[3m\u001b[90m<chr>\u001b[39m\u001b[23m           \n",
      "\u001b[90m 1\u001b[39m Reso~           0       342             \u001b[4m2\u001b[24m015 July            \n",
      "\u001b[90m 2\u001b[39m Reso~           0       737             \u001b[4m2\u001b[24m015 July            \n",
      "\u001b[90m 3\u001b[39m Reso~           0         7             \u001b[4m2\u001b[24m015 July            \n",
      "\u001b[90m 4\u001b[39m Reso~           0        13             \u001b[4m2\u001b[24m015 July            \n",
      "\u001b[90m 5\u001b[39m Reso~           0        14             \u001b[4m2\u001b[24m015 July            \n",
      "\u001b[90m 6\u001b[39m Reso~           0        14             \u001b[4m2\u001b[24m015 July            \n",
      "\u001b[90m 7\u001b[39m Reso~           0         0             \u001b[4m2\u001b[24m015 July            \n",
      "\u001b[90m 8\u001b[39m Reso~           0         9             \u001b[4m2\u001b[24m015 July            \n",
      "\u001b[90m 9\u001b[39m Reso~           1        85             \u001b[4m2\u001b[24m015 July            \n",
      "\u001b[90m10\u001b[39m Reso~           1        75             \u001b[4m2\u001b[24m015 July            \n",
      "\u001b[90m# ... with 119,380 more rows, and 27 more variables:\u001b[39m\n",
      "\u001b[90m#   arrival_date_week_number \u001b[3m\u001b[90m<dbl>\u001b[90m\u001b[23m, arrival_date_day_of_month \u001b[3m\u001b[90m<dbl>\u001b[90m\u001b[23m,\u001b[39m\n",
      "\u001b[90m#   stays_in_weekend_nights \u001b[3m\u001b[90m<dbl>\u001b[90m\u001b[23m, stays_in_week_nights \u001b[3m\u001b[90m<dbl>\u001b[90m\u001b[23m, adults \u001b[3m\u001b[90m<dbl>\u001b[90m\u001b[23m,\u001b[39m\n",
      "\u001b[90m#   children \u001b[3m\u001b[90m<dbl>\u001b[90m\u001b[23m, babies \u001b[3m\u001b[90m<dbl>\u001b[90m\u001b[23m, meal \u001b[3m\u001b[90m<chr>\u001b[90m\u001b[23m, country \u001b[3m\u001b[90m<chr>\u001b[90m\u001b[23m,\u001b[39m\n",
      "\u001b[90m#   market_segment \u001b[3m\u001b[90m<chr>\u001b[90m\u001b[23m, distribution_channel \u001b[3m\u001b[90m<chr>\u001b[90m\u001b[23m, is_repeated_guest \u001b[3m\u001b[90m<dbl>\u001b[90m\u001b[23m,\u001b[39m\n",
      "\u001b[90m#   previous_cancellations \u001b[3m\u001b[90m<dbl>\u001b[90m\u001b[23m, previous_bookings_not_canceled \u001b[3m\u001b[90m<dbl>\u001b[90m\u001b[23m,\u001b[39m\n",
      "\u001b[90m#   reserved_room_type \u001b[3m\u001b[90m<chr>\u001b[90m\u001b[23m, assigned_room_type \u001b[3m\u001b[90m<chr>\u001b[90m\u001b[23m, booking_changes \u001b[3m\u001b[90m<dbl>\u001b[90m\u001b[23m,\u001b[39m\n",
      "\u001b[90m#   deposit_type \u001b[3m\u001b[90m<chr>\u001b[90m\u001b[23m, agent \u001b[3m\u001b[90m<chr>\u001b[90m\u001b[23m, company \u001b[3m\u001b[90m<chr>\u001b[90m\u001b[23m, days_in_waiting_list \u001b[3m\u001b[90m<dbl>\u001b[90m\u001b[23m,\u001b[39m\n",
      "\u001b[90m#   customer_type \u001b[3m\u001b[90m<chr>\u001b[90m\u001b[23m, adr \u001b[3m\u001b[90m<dbl>\u001b[90m\u001b[23m, required_car_parking_spaces \u001b[3m\u001b[90m<dbl>\u001b[90m\u001b[23m,\u001b[39m\n",
      "\u001b[90m#   total_of_special_requests \u001b[3m\u001b[90m<dbl>\u001b[90m\u001b[23m, reservation_status \u001b[3m\u001b[90m<chr>\u001b[90m\u001b[23m,\u001b[39m\n",
      "\u001b[90m#   reservation_status_date \u001b[3m\u001b[90m<date>\u001b[90m\u001b[23m\u001b[39m\n",
      "\u001b[90m# A tibble: 1,000 x 7\u001b[39m\n",
      "   is_canceled   adr lead_time total_of_specia~ stays_in_week_n~\n",
      "   \u001b[3m\u001b[90m<lgl>\u001b[39m\u001b[23m       \u001b[3m\u001b[90m<dbl>\u001b[39m\u001b[23m     \u001b[3m\u001b[90m<dbl>\u001b[39m\u001b[23m            \u001b[3m\u001b[90m<dbl>\u001b[39m\u001b[23m            \u001b[3m\u001b[90m<dbl>\u001b[39m\u001b[23m\n",
      "\u001b[90m 1\u001b[39m FALSE          0        342                0                0\n",
      "\u001b[90m 2\u001b[39m FALSE          0        737                0                0\n",
      "\u001b[90m 3\u001b[39m FALSE         75          7                0                1\n",
      "\u001b[90m 4\u001b[39m FALSE         75         13                0                1\n",
      "\u001b[90m 5\u001b[39m FALSE         98         14                1                2\n",
      "\u001b[90m 6\u001b[39m FALSE         98         14                1                2\n",
      "\u001b[90m 7\u001b[39m FALSE        107          0                0                2\n",
      "\u001b[90m 8\u001b[39m FALSE        103          9                1                2\n",
      "\u001b[90m 9\u001b[39m TRUE          82         85                1                3\n",
      "\u001b[90m10\u001b[39m TRUE         106.        75                0                3\n",
      "\u001b[90m# ... with 990 more rows, and 2 more variables: stays_in_weekend_nights \u001b[3m\u001b[90m<dbl>\u001b[90m\u001b[23m,\u001b[39m\n",
      "\u001b[90m#   previous_cancellations \u001b[3m\u001b[90m<dbl>\u001b[90m\u001b[23m\u001b[39m\n"
     ]
    }
   ],
   "source": [
    "library(tidyverse)\n",
    "hotel <- read_csv(\"../Data/hotel_bookings.csv\") %>% print\n",
    "# Consider a smaller set:\n",
    "hotel<- hotel %>% select(is_canceled, adr, lead_time, total_of_special_requests, stays_in_week_nights, stays_in_weekend_nights, previous_cancellations)\n",
    "hotel<- hotel %>% mutate(is_canceled = (is_canceled==1));\n",
    "hotel<-hotel %>% filter(adr<1000)\n",
    "hotel<-hotel[1:1000,]\n",
    "hotel %>% print\n"
   ]
  },
  {
   "cell_type": "code",
   "execution_count": 137,
   "metadata": {},
   "outputs": [],
   "source": [
    "#glm(, family='binomial')\n"
   ]
  },
  {
   "cell_type": "code",
   "execution_count": 133,
   "metadata": {},
   "outputs": [],
   "source": []
  }
 ],
 "metadata": {
  "kernelspec": {
   "display_name": "R",
   "language": "R",
   "name": "ir"
  },
  "language_info": {
   "codemirror_mode": "r",
   "file_extension": ".r",
   "mimetype": "text/x-r-source",
   "name": "R",
   "pygments_lexer": "r",
   "version": "4.0.3"
  },
  "latex_envs": {
   "LaTeX_envs_menu_present": true,
   "autoclose": false,
   "autocomplete": true,
   "bibliofile": "biblio.bib",
   "cite_by": "apalike",
   "current_citInitial": 1,
   "eqLabelWithNumbers": true,
   "eqNumInitial": 1,
   "hotkeys": {
    "equation": "Ctrl-E",
    "itemize": "Ctrl-I"
   },
   "labels_anchors": false,
   "latex_user_defs": false,
   "report_style_numbering": false,
   "user_envs_cfg": false
  }
 },
 "nbformat": 4,
 "nbformat_minor": 2
}
