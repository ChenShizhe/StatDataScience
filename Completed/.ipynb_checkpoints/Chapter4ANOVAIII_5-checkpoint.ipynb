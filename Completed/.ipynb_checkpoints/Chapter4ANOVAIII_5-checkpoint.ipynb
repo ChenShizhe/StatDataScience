{
 "cells": [
  {
   "cell_type": "markdown",
   "metadata": {},
   "source": [
    "# Chapter 4 Analysis of Variance\n",
    "     "
   ]
  },
  {
   "cell_type": "markdown",
   "metadata": {},
   "source": [
    "### 4.3.5 Mixed effects\n",
    "\n",
    "When fixed effects and random effects are both present, our model takes the same form but there are a few more assumptions \n",
    "\\[\n",
    "Y_{ijk} =  \\mu_{\\cdot\\cdot} + \\alpha_i+\\beta_j + (\\alpha\\beta)_{ij}+\\epsilon_{ijk}, \\ k=1,\\ldots, n, j=1,\\ldots, b, i=1,\\ldots, a,\n",
    "\\]\n",
    "where (i) $\\sum \\alpha_i =0$, (ii) $\\beta_j$ are i.i.d. $N(0,\\sigma_{\\beta}^2)$, (iii) $\\sum_i  (\\alpha\\beta)_{ij} =0$ for any $j$, \n",
    "(iv) $ (\\alpha\\beta)_{ij} \\sim N(0,(1-1/a)\\sigma^2_{\\alpha\\beta}) $, (v) ${\\rm cov}( (\\alpha\\beta)_{ij},  (\\alpha\\beta)_{i'j})= -\\sigma^2_{\\alpha\\beta}/a$, (vi) ${\\rm cov}( (\\alpha\\beta)_{ij},  (\\alpha\\beta)_{i'j'})=0$,  if $i\\neq i'$ and $j\\neq j'$, (vii)$\\{\\epsilon_{ijk}\\}$ are i.i.d. $N(0,\\sigma^2)$, and (viii)  $\\{ \\beta_j\\}$, $\\{(\\alpha\\beta)_{ij}\\}$, $\\{\\epsilon_{ijk} \\}$ are pairwise independent. \n",
    "\n",
    "In this model, we have \n",
    "1. $ \\mathbb{E}[Y_{ijk}]=\\mu_{\\cdot\\cdot}+\\alpha_i$ \n",
    "2. ${\\rm var}(Y_{ijk})=\\sigma_{\\beta}^2+(1-1/a)\\sigma_{\\alpha\\beta}^2+\\sigma^2$. \n",
    "3. ${\\rm cov}(Y_{ijk},Y_{ijk'})=\\sigma_{\\beta}^2+(1-1/a)\\sigma_{\\alpha\\beta}^2$ for $k\\neq k'$. \n",
    "4. ${\\rm cov}(Y_{ijk},Y_{ij'k'})=0$ for $j\\neq j'$.\n",
    "5. ${\\rm cov}(Y_{ijk},Y_{i'jk'})=\\sigma_{\\beta}^2-1/a\\sigma_{\\alpha\\beta}^2$ for $i\\neq i'$.\n",
    "6. ${\\rm cov}(Y_{ijk},Y_{i'j'k'})=0$ when no indices are equal.\n",
    "\n",
    "We can see that \n",
    "$\\mathbb{E}[{\\rm MSAB}]- \\mathbb{E}[{\\rm MSE}]=n\\sigma^2_{\\alpha\\beta},  \\mathbb{E}[{\\rm MSB}]-\\mathbb{E}[{\\rm MSAB}]=n a \\sigma_{\\beta}^2$. We can define unbiased estimators of the variance components based on the mean squares. \n",
    "\n",
    "We have \n",
    "$\\hat{H}= \\sum c_i \\bar{Y}_{i\\cdot \\cdot}$, ${\\rm var}(\\hat{H}) = \\sum c_i^2(n\\sigma_{\\alpha\\beta}^2+\\sigma^2)/(nb)$, and $s^2(\\hat{H})=\\sum c_i^2 {\\rm MSAB}/(nb)$. "
   ]
  }
 ],
 "metadata": {
  "author": "mes ",
  "kernelspec": {
   "display_name": "R",
   "language": "R",
   "name": "ir"
  },
  "language_info": {
   "codemirror_mode": "r",
   "file_extension": ".r",
   "mimetype": "text/x-r-source",
   "name": "R",
   "pygments_lexer": "r",
   "version": "4.0.3"
  },
  "latex_envs": {
   "LaTeX_envs_menu_present": true,
   "autoclose": false,
   "autocomplete": true,
   "bibliofile": "biblio.bib",
   "cite_by": "apalike",
   "current_citInitial": 1,
   "eqLabelWithNumbers": true,
   "eqNumInitial": 1,
   "hotkeys": {
    "equation": "Ctrl-E",
    "itemize": "Ctrl-I"
   },
   "labels_anchors": false,
   "latex_user_defs": false,
   "report_style_numbering": false,
   "user_envs_cfg": false
  }
 },
 "nbformat": 4,
 "nbformat_minor": 2
}
