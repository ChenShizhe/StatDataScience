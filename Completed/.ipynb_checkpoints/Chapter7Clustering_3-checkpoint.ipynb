{
 "cells": [
  {
   "cell_type": "markdown",
   "metadata": {},
   "source": [
    "## 7.3 Similarity and dissimilarity measures\n",
    "\n",
    "For simplicity, we consider the case when all features are numeric. The data matrix $X$ is an $n\\times p$ matrix with $n$ observations and $p$ features. \n",
    "\n",
    "Suppose that we would like to cluster the $n$ observations.  Then, the similarity/dissimilarity measures can be recorded in an $n \\times n$ matrix. \n",
    "\n",
    "- <span style=\"color:blue\">Similarity measure.</span> A numerical measure $s(i, j)$ that indicates how <span style=\"color:red\">similar</span> two objects are (<span style=\"color:red\">high $s \\equiv$ high similarity</span>). Generally normalized to be in $[0,1]$. We know that <span style=\"color:red\">$s(i, j) \\ge 0$</span> and <span style=\"color:red\">$s(i, j) = s(j, i)$ </span>\n",
    "    \n",
    "    \n",
    "- <span style=\"color:blue\">Dissimilarity measure.</span> A numerical measure $d(i, j)$ that indicates how <span style=\"color:red\">different</span> two objects are (<span style=\"color:red\">lower $d \\equiv$ high similarity</span>). Any **distance** naturally defines a dissimilarity measure. We know that <span style=\"color:red\">$d(i, j) \\ge 0$</span> and <span style=\"color:red\">$d(i, j) = d(j, i)$</span>.\n",
    "    \n",
    "Note that we can often find a corresponding dissimilarity measure for each similarity measure, and _vice versa_. "
   ]
  },
  {
   "cell_type": "markdown",
   "metadata": {},
   "source": [
    "<img src=\"../Figures/Ch7/clusterdef.png\" style=\"width:80%\"/>\n",
    "\n"
   ]
  }
 ],
 "metadata": {
  "kernelspec": {
   "display_name": "R",
   "language": "R",
   "name": "ir"
  },
  "language_info": {
   "codemirror_mode": "r",
   "file_extension": ".r",
   "mimetype": "text/x-r-source",
   "name": "R",
   "pygments_lexer": "r",
   "version": "4.0.3"
  },
  "latex_envs": {
   "LaTeX_envs_menu_present": true,
   "autoclose": false,
   "autocomplete": true,
   "bibliofile": "biblio.bib",
   "cite_by": "apalike",
   "current_citInitial": 1,
   "eqLabelWithNumbers": true,
   "eqNumInitial": 1,
   "hotkeys": {
    "equation": "Ctrl-E",
    "itemize": "Ctrl-I"
   },
   "labels_anchors": false,
   "latex_user_defs": false,
   "report_style_numbering": false,
   "user_envs_cfg": false
  }
 },
 "nbformat": 4,
 "nbformat_minor": 2
}
