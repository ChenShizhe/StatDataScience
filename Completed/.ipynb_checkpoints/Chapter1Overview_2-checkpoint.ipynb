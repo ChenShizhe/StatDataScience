{
 "cells": [
  {
   "cell_type": "markdown",
   "metadata": {},
   "source": [
    "# Chapter 1 Overview of Statistical Data Science "
   ]
  },
  {
   "cell_type": "markdown",
   "metadata": {},
   "source": [
    "## 1.2 Example: `wages`\n",
    "\n",
    "We now turn to the `wages` data to see an example of data analysis. "
   ]
  },
  {
   "cell_type": "code",
   "execution_count": 5,
   "metadata": {
    "scrolled": true
   },
   "outputs": [],
   "source": [
    "library(readxl)\n",
    "library(tidyverse)\n",
    "library(ggplot2)"
   ]
  },
  {
   "cell_type": "code",
   "execution_count": 8,
   "metadata": {},
   "outputs": [
    {
     "name": "stderr",
     "output_type": "stream",
     "text": [
      "Warning message:\n",
      "\"Ignoring unknown parameters: bindwidth\"\n",
      "`stat_bin()` using `bins = 30`. Pick better value with `binwidth`.\n",
      "\n"
     ]
    },
    {
     "data": {
      "image/png": "[encoded data removed]",
      "text/plain": [
       "plot without title"
      ]
     },
     "metadata": {
      "image/png": {
       "height": 420,
       "width": 420
      }
     },
     "output_type": "display_data"
    }
   ],
   "source": [
    "wages <- read_excel(\"../Data/wages.xlsx\", na=\"NA\");\n",
    "\n",
    "wages %>% \n",
    "    ggplot(aes(log(income)))+geom_histogram(bindwidth = 0.25)"
   ]
  },
  {
   "cell_type": "code",
   "execution_count": 10,
   "metadata": {},
   "outputs": [
    {
     "data": {
      "text/plain": [
       "\n",
       "Call:\n",
       "lm(formula = log(income) ~ education, data = wages)\n",
       "\n",
       "Coefficients:\n",
       "(Intercept)    education  \n",
       "     8.5577       0.1418  \n"
      ]
     },
     "metadata": {},
     "output_type": "display_data"
    }
   ],
   "source": [
    "mod_e <- lm(log(income)~education, data=wages)\n",
    "mod_e"
   ]
  },
  {
   "cell_type": "markdown",
   "metadata": {},
   "source": [
    "In the code above, we propose a linear model for the response (log income) and the single predictor (education). \n",
    "\n",
    "<img src=\"../Figures/Ch1/lm.jpg\" alt=\"lm\" style=\"width: 400px;\"/>\n",
    "\n",
    "The formula for `lm()` only needs to include the response (variable on the y axis) and predictors (variable on the x-axis). The intercept term is included by default, unless specified otherwise (`-1`). \n",
    "\n",
    "\n",
    "<img src=\"../Figures/Ch1/formula.jpg\" alt=\"lm\" style=\"width: 400px;\"/>"
   ]
  },
  {
   "cell_type": "code",
   "execution_count": 12,
   "metadata": {},
   "outputs": [
    {
     "data": {
      "text/html": [
       "<table>\n",
       "<caption>A tibble: 6 × 8</caption>\n",
       "<thead>\n",
       "\t<tr><th scope=col>income</th><th scope=col>height</th><th scope=col>weight</th><th scope=col>age</th><th scope=col>marital</th><th scope=col>sex</th><th scope=col>education</th><th scope=col>afqt</th></tr>\n",
       "\t<tr><th scope=col>&lt;dbl&gt;</th><th scope=col>&lt;dbl&gt;</th><th scope=col>&lt;dbl&gt;</th><th scope=col>&lt;dbl&gt;</th><th scope=col>&lt;chr&gt;</th><th scope=col>&lt;chr&gt;</th><th scope=col>&lt;dbl&gt;</th><th scope=col>&lt;dbl&gt;</th></tr>\n",
       "</thead>\n",
       "<tbody>\n",
       "\t<tr><td> 19000</td><td>60</td><td>155</td><td>53</td><td>married </td><td>female</td><td>13</td><td> 6.841</td></tr>\n",
       "\t<tr><td> 35000</td><td>70</td><td>156</td><td>51</td><td>married </td><td>female</td><td>10</td><td>49.444</td></tr>\n",
       "\t<tr><td>105000</td><td>65</td><td>195</td><td>52</td><td>married </td><td>male  </td><td>16</td><td>99.393</td></tr>\n",
       "\t<tr><td> 40000</td><td>63</td><td>197</td><td>54</td><td>married </td><td>female</td><td>14</td><td>44.022</td></tr>\n",
       "\t<tr><td> 75000</td><td>66</td><td>190</td><td>49</td><td>married </td><td>male  </td><td>14</td><td>59.683</td></tr>\n",
       "\t<tr><td>102000</td><td>68</td><td>200</td><td>49</td><td>divorced</td><td>female</td><td>18</td><td>98.798</td></tr>\n",
       "</tbody>\n",
       "</table>\n"
      ],
      "text/latex": [
       "A tibble: 6 × 8\n",
       "\\begin{tabular}{llllllll}\n",
       " income & height & weight & age & marital & sex & education & afqt\\\\\n",
       " <dbl> & <dbl> & <dbl> & <dbl> & <chr> & <chr> & <dbl> & <dbl>\\\\\n",
       "\\hline\n",
       "\t  19000 & 60 & 155 & 53 & married  & female & 13 &  6.841\\\\\n",
       "\t  35000 & 70 & 156 & 51 & married  & female & 10 & 49.444\\\\\n",
       "\t 105000 & 65 & 195 & 52 & married  & male   & 16 & 99.393\\\\\n",
       "\t  40000 & 63 & 197 & 54 & married  & female & 14 & 44.022\\\\\n",
       "\t  75000 & 66 & 190 & 49 & married  & male   & 14 & 59.683\\\\\n",
       "\t 102000 & 68 & 200 & 49 & divorced & female & 18 & 98.798\\\\\n",
       "\\end{tabular}\n"
      ],
      "text/markdown": [
       "\n",
       "A tibble: 6 × 8\n",
       "\n",
       "| income &lt;dbl&gt; | height &lt;dbl&gt; | weight &lt;dbl&gt; | age &lt;dbl&gt; | marital &lt;chr&gt; | sex &lt;chr&gt; | education &lt;dbl&gt; | afqt &lt;dbl&gt; |\n",
       "|---|---|---|---|---|---|---|---|\n",
       "|  19000 | 60 | 155 | 53 | married  | female | 13 |  6.841 |\n",
       "|  35000 | 70 | 156 | 51 | married  | female | 10 | 49.444 |\n",
       "| 105000 | 65 | 195 | 52 | married  | male   | 16 | 99.393 |\n",
       "|  40000 | 63 | 197 | 54 | married  | female | 14 | 44.022 |\n",
       "|  75000 | 66 | 190 | 49 | married  | male   | 14 | 59.683 |\n",
       "| 102000 | 68 | 200 | 49 | divorced | female | 18 | 98.798 |\n",
       "\n"
      ],
      "text/plain": [
       "  income height weight age marital  sex    education afqt  \n",
       "1  19000 60     155    53  married  female 13         6.841\n",
       "2  35000 70     156    51  married  female 10        49.444\n",
       "3 105000 65     195    52  married  male   16        99.393\n",
       "4  40000 63     197    54  married  female 14        44.022\n",
       "5  75000 66     190    49  married  male   14        59.683\n",
       "6 102000 68     200    49  divorced female 18        98.798"
      ]
     },
     "metadata": {},
     "output_type": "display_data"
    },
    {
     "data": {
      "text/plain": [
       "\n",
       "Call:\n",
       "lm(formula = log(income) ~ education, data = wages)\n",
       "\n",
       "Coefficients:\n",
       "(Intercept)    education  \n",
       "     8.5577       0.1418  \n"
      ]
     },
     "metadata": {},
     "output_type": "display_data"
    }
   ],
   "source": [
    "head(wages)\n",
    "mod_e"
   ]
  },
  {
   "cell_type": "markdown",
   "metadata": {
    "variables": {
     "as.numeric(round(mod_e$coef[1],digits=3))": "8.558",
     "as.numeric(round(mod_e$coef[2],digits=3))": "0.142"
    }
   },
   "source": [
    "We can try to interpret the fitted coefficients.   \n",
    "- The average log income is {{as.numeric(round(mod_e$coef[1],digits=3))}} for those with zero years of education.\n",
    "\n",
    "- The average difference in log income is {{as.numeric(round(mod_e$coef[2],digits=3))}} for groups with one year difference in education. \n",
    "\n",
    "Neither statement makes a lot of sense. For instance, (1) there isn't anyone with zero years of education in the `wages` dataset, and (2) differences in log income are not informative for general audience. Therefore, we have two questions to think about. \n",
    "- Why take the logarithm of income?\n",
    "- How should we interpret the fitted results?\n",
    "\n"
   ]
  }
 ],
 "metadata": {
  "kernelspec": {
   "display_name": "R",
   "language": "R",
   "name": "ir"
  },
  "language_info": {
   "codemirror_mode": "r",
   "file_extension": ".r",
   "mimetype": "text/x-r-source",
   "name": "R",
   "pygments_lexer": "r",
   "version": "4.0.3"
  },
  "latex_envs": {
   "LaTeX_envs_menu_present": true,
   "autoclose": false,
   "autocomplete": true,
   "bibliofile": "biblio.bib",
   "cite_by": "apalike",
   "current_citInitial": 1,
   "eqLabelWithNumbers": true,
   "eqNumInitial": 1,
   "hotkeys": {
    "equation": "Ctrl-E",
    "itemize": "Ctrl-I"
   },
   "labels_anchors": false,
   "latex_user_defs": false,
   "report_style_numbering": false,
   "user_envs_cfg": false
  }
 },
 "nbformat": 4,
 "nbformat_minor": 2
}
