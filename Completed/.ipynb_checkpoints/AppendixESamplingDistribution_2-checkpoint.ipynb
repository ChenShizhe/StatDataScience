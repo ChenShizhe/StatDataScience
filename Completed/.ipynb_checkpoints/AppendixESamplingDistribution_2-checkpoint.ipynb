{
 "cells": [
  {
   "cell_type": "markdown",
   "metadata": {},
   "source": [
    "# Appendix E Sampling Distribution "
   ]
  },
  {
   "cell_type": "markdown",
   "metadata": {},
   "source": [
    "## E.2 Sampling from observed samples\n",
    "\n",
    "In most case, the true population or true data generating mechanisms are unknown. As a work-around, we can make full use of the observed samples to *approximate* the true population. This approximation is *exact* only when the samples exhaust the true population (e.g., a mandatory survey in a class). In most cases, it remains an approximation.\n"
   ]
  },
  {
   "cell_type": "markdown",
   "metadata": {},
   "source": [
    "### E.2.1 Bootstrap \n",
    "\n",
    "There are two factors that affect the sampling distribution for any estimator: (i) the true population and (ii) the sampling scheme. Boostrap is based on a simple idea of treating the observed samples as the true population. In bootstrap, (i) the observed samples are seen as the true population, and (ii) a sampling scheme is chosen to micmic the true mechanism. To be specific, if the samples are i.i.d. (independently and identically distributed), the bootstrap procedure will draw samples with replacement with equal probability from the observed samples, where \"with replacement\" is because of independence and \"equal probability\" if because of identical distribution. The bootstrap sampling distribution approximates the true sampling distribution when the sample size is large. \n",
    "\n",
    "There are many variants of bootstrap (see, e.g., [here](https://en.wikipedia.org/wiki/Bootstrapping_(statistics))). We will examine the nonparametric bootstrap in this section. \n",
    "\n",
    "We will revist the confidence interval in Appendix D.3. This time we write our own bootstrap function to construct the confidence interval. It is important to note the similarity between the `simulate.one.instance` function in Appendix D.3 and the `boot.fit` function below. \n",
    "\n",
    "In practice, we use the `boot` function in the package `boot` for bootstrapping. \n"
   ]
  },
  {
   "cell_type": "code",
   "execution_count": null,
   "metadata": {},
   "outputs": [],
   "source": [
    "### Simulation function from E.1\n",
    "simulate.one.instance<-function(x,beta.true){\n",
    "  n=length(x);\n",
    "  Ey= x*beta.true[2]+beta.true[1];\n",
    "  error.terms= (runif(n)-0.5)*5;\n",
    "  y=Ey+error.terms;\n",
    "  beta.hat=lm(y~x)$coef;\n",
    "  return(beta.hat)\n",
    "}\n"
   ]
  },
  {
   "cell_type": "code",
   "execution_count": 1,
   "metadata": {},
   "outputs": [],
   "source": [
    "boot.fit<-function(x,y){\n",
    "  # One approach: ###\n",
    "  # Ey= x*beta.true[2]+beta.true[1];\n",
    "  # Treat beta.hat as beta.true \n",
    "  # error.terms= (runif(n)-0.5)*5;\n",
    "  # Draw error terms from the residuals \n",
    "  # ------------  ###\n",
    "    \n",
    "  # Another approach: \n",
    "  n=length(x);\n",
    "  samples_indices=sample(1:n, n, replace =TRUE);\n",
    "  x.boot=x[samples_indices];\n",
    "  y.boot=y[samples_indices];\n",
    "  beta.hat=lm(y.boot~x.boot)$coef;\n",
    "  return(beta.hat)\n",
    "}"
   ]
  },
  {
   "cell_type": "code",
   "execution_count": 2,
   "metadata": {},
   "outputs": [],
   "source": [
    "set.seed(1)\n",
    "n=50;\n",
    "x=rnorm(n,mean=10,sd=2);\n",
    "beta.true=c(20,0.15)\n",
    "Ey=x*beta.true[2]+beta.true[1];\n",
    "error.terms=rnorm(n)*5;\n",
    "y=Ey+error.terms;"
   ]
  },
  {
   "cell_type": "code",
   "execution_count": 3,
   "metadata": {},
   "outputs": [],
   "source": [
    "B=1e4;\n",
    "beta.hat.boot=replicate(B, boot.fit(x=x,y=y))"
   ]
  },
  {
   "cell_type": "code",
   "execution_count": 5,
   "metadata": {},
   "outputs": [
    {
     "data": {
      "text/html": [
       "<table>\n",
       "<caption>A matrix: 2 × 2 of type dbl</caption>\n",
       "<thead>\n",
       "\t<tr><th></th><th scope=col>(Intercept)</th><th scope=col>x.boot</th></tr>\n",
       "</thead>\n",
       "<tbody>\n",
       "\t<tr><th scope=row>2.5%</th><td>13.79914</td><td>-0.8703025</td></tr>\n",
       "\t<tr><th scope=row>97.5%</th><td>31.01530</td><td> 0.8336293</td></tr>\n",
       "</tbody>\n",
       "</table>\n"
      ],
      "text/latex": [
       "A matrix: 2 × 2 of type dbl\n",
       "\\begin{tabular}{r|ll}\n",
       "  & (Intercept) & x.boot\\\\\n",
       "\\hline\n",
       "\t2.5\\% & 13.79914 & -0.8703025\\\\\n",
       "\t97.5\\% & 31.01530 &  0.8336293\\\\\n",
       "\\end{tabular}\n"
      ],
      "text/markdown": [
       "\n",
       "A matrix: 2 × 2 of type dbl\n",
       "\n",
       "| <!--/--> | (Intercept) | x.boot |\n",
       "|---|---|---|\n",
       "| 2.5% | 13.79914 | -0.8703025 |\n",
       "| 97.5% | 31.01530 |  0.8336293 |\n",
       "\n"
      ],
      "text/plain": [
       "      (Intercept) x.boot    \n",
       "2.5%  13.79914    -0.8703025\n",
       "97.5% 31.01530     0.8336293"
      ]
     },
     "metadata": {},
     "output_type": "display_data"
    }
   ],
   "source": [
    "alpha=0.05;\n",
    "apply(beta.hat.boot, 1, quantile,probs=c(alpha/2,1-alpha/2) )"
   ]
  },
  {
   "cell_type": "code",
   "execution_count": 7,
   "metadata": {},
   "outputs": [
    {
     "data": {
      "text/html": [
       "<table>\n",
       "<caption>A matrix: 2 × 2 of type dbl</caption>\n",
       "<thead>\n",
       "\t<tr><th></th><th scope=col>(Intercept)</th><th scope=col>x</th></tr>\n",
       "</thead>\n",
       "<tbody>\n",
       "\t<tr><th scope=row>2.5 %</th><td>13.01890</td><td>-0.8086838</td></tr>\n",
       "\t<tr><th scope=row>97.5 %</th><td>30.47755</td><td> 0.8809413</td></tr>\n",
       "</tbody>\n",
       "</table>\n"
      ],
      "text/latex": [
       "A matrix: 2 × 2 of type dbl\n",
       "\\begin{tabular}{r|ll}\n",
       "  & (Intercept) & x\\\\\n",
       "\\hline\n",
       "\t2.5 \\% & 13.01890 & -0.8086838\\\\\n",
       "\t97.5 \\% & 30.47755 &  0.8809413\\\\\n",
       "\\end{tabular}\n"
      ],
      "text/markdown": [
       "\n",
       "A matrix: 2 × 2 of type dbl\n",
       "\n",
       "| <!--/--> | (Intercept) | x |\n",
       "|---|---|---|\n",
       "| 2.5 % | 13.01890 | -0.8086838 |\n",
       "| 97.5 % | 30.47755 |  0.8809413 |\n",
       "\n"
      ],
      "text/plain": [
       "       (Intercept) x         \n",
       "2.5 %  13.01890    -0.8086838\n",
       "97.5 % 30.47755     0.8809413"
      ]
     },
     "metadata": {},
     "output_type": "display_data"
    }
   ],
   "source": [
    "t(confint(lm(y~x+1),alpha=alpha))"
   ]
  }
 ],
 "metadata": {
  "kernelspec": {
   "display_name": "R",
   "language": "R",
   "name": "ir"
  },
  "language_info": {
   "codemirror_mode": "r",
   "file_extension": ".r",
   "mimetype": "text/x-r-source",
   "name": "R",
   "pygments_lexer": "r",
   "version": "4.0.3"
  },
  "latex_envs": {
   "LaTeX_envs_menu_present": true,
   "autoclose": false,
   "autocomplete": true,
   "bibliofile": "biblio.bib",
   "cite_by": "apalike",
   "current_citInitial": 1,
   "eqLabelWithNumbers": true,
   "eqNumInitial": 1,
   "hotkeys": {
    "equation": "Ctrl-E",
    "itemize": "Ctrl-I"
   },
   "labels_anchors": false,
   "latex_user_defs": false,
   "report_style_numbering": false,
   "user_envs_cfg": false
  }
 },
 "nbformat": 4,
 "nbformat_minor": 2
}
