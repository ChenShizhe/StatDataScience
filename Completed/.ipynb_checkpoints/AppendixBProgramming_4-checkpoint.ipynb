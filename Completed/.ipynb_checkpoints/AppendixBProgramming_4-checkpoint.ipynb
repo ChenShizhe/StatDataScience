{
 "cells": [
  {
   "cell_type": "markdown",
   "metadata": {},
   "source": [
    "# Appendix B Programming Basics"
   ]
  },
  {
   "cell_type": "markdown",
   "metadata": {},
   "source": [
    "## B.3 Function\n",
    "\n",
    "Often when programming, we find ourselves repeating the same block of code with minor modifications. It seems to be a good idea to wrap-up these blocks for repeated uses. Most programming languages allow us to create _functions_ for exactly this purpose.  \n",
    "\n",
    "Above we saw that typing `c(1,2,3,4,5)` creates a vector of 1 to 5. `c()` is an example of a *function*. The general form of a function in `R` (and most other programming languages) is:\n",
    "\n",
    "    <function name>(<function arguments>)\n",
    "    \n",
    "In the above example, the function is named `c`, and the arguments were `1, 2, 3, 4, 5`. Another example of a function is `print`, which prints its arguments to the screen:"
   ]
  },
  {
   "cell_type": "code",
   "execution_count": 5,
   "metadata": {
    "scrolled": true
   },
   "outputs": [
    {
     "name": "stdout",
     "output_type": "stream",
     "text": [
      "[1] \"I am a function named print\"\n"
     ]
    }
   ],
   "source": [
    "print(\"I am a function named print\", quote = T)\n",
    "#?print"
   ]
  },
  {
   "cell_type": "markdown",
   "metadata": {},
   "source": [
    "We can create a simple function that requires no argument. \n"
   ]
  },
  {
   "cell_type": "code",
   "execution_count": 11,
   "metadata": {},
   "outputs": [
    {
     "data": {
      "text/html": [
       "'Nice to meet you!'"
      ],
      "text/latex": [
       "'Nice to meet you!'"
      ],
      "text/markdown": [
       "'Nice to meet you!'"
      ],
      "text/plain": [
       "[1] \"Nice to meet you!\""
      ]
     },
     "metadata": {},
     "output_type": "display_data"
    }
   ],
   "source": [
    "greet <- function(){\n",
    "    return(\"Nice to meet you!\")# body of the function\n",
    "}\n",
    "greet()"
   ]
  },
  {
   "cell_type": "markdown",
   "metadata": {},
   "source": [
    "`greet` is the **name** of our function and  the code between the curly brackets `{` and `}` is the **body** of the function.\n",
    "\n",
    "We can modify `greet()` to take an argument. In what follows, `x` is the **argument** to the function."
   ]
  },
  {
   "cell_type": "code",
   "execution_count": 15,
   "metadata": {},
   "outputs": [
    {
     "data": {
      "text/html": [
       "'Nice to meet you, ABC!'"
      ],
      "text/latex": [
       "'Nice to meet you, ABC!'"
      ],
      "text/markdown": [
       "'Nice to meet you, ABC!'"
      ],
      "text/plain": [
       "[1] \"Nice to meet you, ABC!\""
      ]
     },
     "metadata": {},
     "output_type": "display_data"
    },
    {
     "ename": "ERROR",
     "evalue": "Error in paste(\"Nice to meet you, \", x, \"!\", sep = \"\"): argument \"x\" is missing, with no default\n",
     "output_type": "error",
     "traceback": [
      "Error in paste(\"Nice to meet you, \", x, \"!\", sep = \"\"): argument \"x\" is missing, with no default\nTraceback:\n",
      "1. greet()",
      "2. paste(\"Nice to meet you, \", x, \"!\", sep = \"\")   # at line 2 of file <text>"
     ]
    }
   ],
   "source": [
    "greet <- function(x){\n",
    "    paste(\"Nice to meet you, \", x, \"!\", sep='')\n",
    "}\n",
    "greet(\"ABC\")\n",
    "greet()"
   ]
  },
  {
   "cell_type": "markdown",
   "metadata": {},
   "source": [
    "We can supply the **default** value of argument as the code below shows."
   ]
  },
  {
   "cell_type": "code",
   "execution_count": 16,
   "metadata": {},
   "outputs": [],
   "source": [
    "greet <- function(x=\"friend\"){\n",
    "    paste(\"Nice to meet you, \", x, \"!\", sep='')\n",
    "}"
   ]
  },
  {
   "cell_type": "code",
   "execution_count": 18,
   "metadata": {},
   "outputs": [
    {
     "data": {
      "text/html": [
       "'Nice to meet you, A!'"
      ],
      "text/latex": [
       "'Nice to meet you, A!'"
      ],
      "text/markdown": [
       "'Nice to meet you, A!'"
      ],
      "text/plain": [
       "[1] \"Nice to meet you, A!\""
      ]
     },
     "metadata": {},
     "output_type": "display_data"
    },
    {
     "data": {
      "text/html": [
       "'Nice to meet you, friend!'"
      ],
      "text/latex": [
       "'Nice to meet you, friend!'"
      ],
      "text/markdown": [
       "'Nice to meet you, friend!'"
      ],
      "text/plain": [
       "[1] \"Nice to meet you, friend!\""
      ]
     },
     "metadata": {},
     "output_type": "display_data"
    }
   ],
   "source": [
    "# If we supply the argument, the function works as before.\n",
    "greet(\"A\")\n",
    "# If we don't, it uses the default argument.\n",
    "greet()"
   ]
  },
  {
   "cell_type": "markdown",
   "metadata": {},
   "source": [
    "Let's see what happens when we pass along the empty string \"\" as an argument to `greet`."
   ]
  },
  {
   "cell_type": "code",
   "execution_count": 19,
   "metadata": {},
   "outputs": [
    {
     "data": {
      "text/html": [
       "'Nice to meet you, !'"
      ],
      "text/latex": [
       "'Nice to meet you, !'"
      ],
      "text/markdown": [
       "'Nice to meet you, !'"
      ],
      "text/plain": [
       "[1] \"Nice to meet you, !\""
      ]
     },
     "metadata": {},
     "output_type": "display_data"
    }
   ],
   "source": [
    "greet(\"\")"
   ]
  },
  {
   "cell_type": "markdown",
   "metadata": {},
   "source": [
    "Perhaps, we don't like the space between \"you\" and \"!\" in this case. We can add a check to see if the argument is an empty string."
   ]
  },
  {
   "cell_type": "code",
   "execution_count": 21,
   "metadata": {},
   "outputs": [],
   "source": [
    "greet <- function(x=\"friend\"){\n",
    "    if (nchar(x) == 0){\n",
    "        \"Nice to meet you!\"\n",
    "    } else{\n",
    "    paste(\"Nice to meet you, \", x, \"!\", sep='')\n",
    "    }\n",
    "}"
   ]
  },
  {
   "cell_type": "code",
   "execution_count": 24,
   "metadata": {},
   "outputs": [
    {
     "data": {
      "text/html": [
       "'Nice to meet you, stranger!'"
      ],
      "text/latex": [
       "'Nice to meet you, stranger!'"
      ],
      "text/markdown": [
       "'Nice to meet you, stranger!'"
      ],
      "text/plain": [
       "[1] \"Nice to meet you, stranger!\""
      ]
     },
     "metadata": {},
     "output_type": "display_data"
    },
    {
     "data": {
      "text/html": [
       "'Nice to meet you, friend!'"
      ],
      "text/latex": [
       "'Nice to meet you, friend!'"
      ],
      "text/markdown": [
       "'Nice to meet you, friend!'"
      ],
      "text/plain": [
       "[1] \"Nice to meet you, friend!\""
      ]
     },
     "metadata": {},
     "output_type": "display_data"
    },
    {
     "data": {
      "text/html": [
       "'Nice to meet you!'"
      ],
      "text/latex": [
       "'Nice to meet you!'"
      ],
      "text/markdown": [
       "'Nice to meet you!'"
      ],
      "text/plain": [
       "[1] \"Nice to meet you!\""
      ]
     },
     "metadata": {},
     "output_type": "display_data"
    }
   ],
   "source": [
    "greet('stranger')\n",
    "greet()\n",
    "greet(\"\")\n"
   ]
  },
  {
   "cell_type": "markdown",
   "metadata": {},
   "source": [
    "We just saw an instance of **conditional execution** of code using the `if` statement."
   ]
  },
  {
   "cell_type": "markdown",
   "metadata": {},
   "source": [
    "Now let's write some functions that are more statistical. Suppose that we watn to standardize a vector `x`."
   ]
  },
  {
   "cell_type": "code",
   "execution_count": 25,
   "metadata": {},
   "outputs": [],
   "source": [
    "v <- c(123,2852,124,2178)"
   ]
  },
  {
   "cell_type": "code",
   "execution_count": 28,
   "metadata": {},
   "outputs": [
    {
     "name": "stdout",
     "output_type": "stream",
     "text": [
      "[1] -0.8496795  1.0886907 -0.8489692  0.6099580\n"
     ]
    },
    {
     "data": {
      "text/html": [
       "-2.77555756156289e-17"
      ],
      "text/latex": [
       "-2.77555756156289e-17"
      ],
      "text/markdown": [
       "-2.77555756156289e-17"
      ],
      "text/plain": [
       "[1] -2.775558e-17"
      ]
     },
     "metadata": {},
     "output_type": "display_data"
    },
    {
     "data": {
      "text/html": [
       "1"
      ],
      "text/latex": [
       "1"
      ],
      "text/markdown": [
       "1"
      ],
      "text/plain": [
       "[1] 1"
      ]
     },
     "metadata": {},
     "output_type": "display_data"
    }
   ],
   "source": [
    "v_centered <- v - mean(v);\n",
    "v_std<- v_centered / sd(v_centered)\n",
    "print(v_std)\n",
    "mean(v_std)\n",
    "var(v_std)"
   ]
  },
  {
   "cell_type": "code",
   "execution_count": 29,
   "metadata": {},
   "outputs": [],
   "source": []
  },
  {
   "cell_type": "markdown",
   "metadata": {},
   "source": [
    "Now let say we have to perform this task again for another vector.  We can simply repeat the above calculations.  "
   ]
  },
  {
   "cell_type": "code",
   "execution_count": 31,
   "metadata": {},
   "outputs": [
    {
     "name": "stdout",
     "output_type": "stream",
     "text": [
      "[1]  1.39550772 -0.72117680  0.05341175 -0.72774267\n"
     ]
    },
    {
     "data": {
      "text/html": [
       "-1.90819582357449e-17"
      ],
      "text/latex": [
       "-1.90819582357449e-17"
      ],
      "text/markdown": [
       "-1.90819582357449e-17"
      ],
      "text/plain": [
       "[1] -1.908196e-17"
      ]
     },
     "metadata": {},
     "output_type": "display_data"
    },
    {
     "data": {
      "text/html": [
       "1"
      ],
      "text/latex": [
       "1"
      ],
      "text/markdown": [
       "1"
      ],
      "text/plain": [
       "[1] 1"
      ]
     },
     "metadata": {},
     "output_type": "display_data"
    }
   ],
   "source": [
    "w<-c(2321412,31249,869321,24145)\n",
    "\n",
    "w_centered <- w - mean(w);\n",
    "w_std<- w_centered / sd(w_centered)\n",
    "print(w_std)\n",
    "mean(w_std)\n",
    "var(w_std)"
   ]
  },
  {
   "cell_type": "markdown",
   "metadata": {},
   "source": [
    "Or, we could write a function in `R` to help us achieve what we want with one call of this function!"
   ]
  },
  {
   "cell_type": "code",
   "execution_count": 32,
   "metadata": {},
   "outputs": [],
   "source": [
    "standardize <- function(w){\n",
    "    w_centered <- w - mean(w);\n",
    "    w_std<- w_centered / sd(w_centered)\n",
    "    w_std\n",
    "}"
   ]
  },
  {
   "cell_type": "code",
   "execution_count": 35,
   "metadata": {},
   "outputs": [
    {
     "name": "stdout",
     "output_type": "stream",
     "text": [
      "[1]  1.39550772 -0.72117680  0.05341175 -0.72774267\n",
      "[1] -0.8496795  1.0886907 -0.8489692  0.6099580\n"
     ]
    }
   ],
   "source": [
    "print(standardize(w))\n",
    "print(standardize(v))\n"
   ]
  },
  {
   "cell_type": "code",
   "execution_count": 39,
   "metadata": {},
   "outputs": [
    {
     "data": {
      "text/html": [
       "<style>\n",
       ".list-inline {list-style: none; margin:0; padding: 0}\n",
       ".list-inline>li {display: inline-block}\n",
       ".list-inline>li:not(:last-child)::after {content: \"\\00b7\"; padding: 0 .5ex}\n",
       "</style>\n",
       "<ol class=list-inline><li>NaN</li><li>NaN</li><li>NaN</li><li>NaN</li></ol>\n"
      ],
      "text/latex": [
       "\\begin{enumerate*}\n",
       "\\item NaN\n",
       "\\item NaN\n",
       "\\item NaN\n",
       "\\item NaN\n",
       "\\end{enumerate*}\n"
      ],
      "text/markdown": [
       "1. NaN\n",
       "2. NaN\n",
       "3. NaN\n",
       "4. NaN\n",
       "\n",
       "\n"
      ],
      "text/plain": [
       "[1] NaN NaN NaN NaN"
      ]
     },
     "metadata": {},
     "output_type": "display_data"
    }
   ],
   "source": [
    "x<-c(1,1,1,1)\n",
    "standardize(x)\n",
    "?NaN"
   ]
  },
  {
   "cell_type": "markdown",
   "metadata": {},
   "source": [
    "Now we have a `standardize()` function that standardizes any vectors easily. But what if we need to standardize hundreds of vectors in a data frame? Soon we will learn about iteration and ways to cut down further on repetition."
   ]
  },
  {
   "cell_type": "markdown",
   "metadata": {},
   "source": [
    "Often when writing functions we need to do different things depending on what data is passed in. This is known as *conditional execution*, and is accomplished using the `if/else` construct:\n",
    "```{r}\n",
    "if (condition) {\n",
    "  # code executed when condition is TRUE\n",
    "} else {\n",
    "  # code executed when condition is FALSE\n",
    "}\n",
    "```"
   ]
  },
  {
   "cell_type": "markdown",
   "metadata": {},
   "source": [
    "`if/else` and `ifelse()` are very different. `ifelse()` is a *function* that takes three vector arguments and returns a new vector. `if/else` tells R to conditionally execute code. \n",
    "\n",
    "The `condition` part of the `if` statement must evaluate to either a single `TRUE` or `FALSE`. If it does not, you will get a warning:"
   ]
  },
  {
   "cell_type": "code",
   "execution_count": 40,
   "metadata": {},
   "outputs": [
    {
     "name": "stderr",
     "output_type": "stream",
     "text": [
      "Warning message in if (c(T, F)) {:\n",
      "\"the condition has length > 1 and only the first element will be used\"\n"
     ]
    },
    {
     "data": {
      "text/html": [
       "1"
      ],
      "text/latex": [
       "1"
      ],
      "text/markdown": [
       "1"
      ],
      "text/plain": [
       "[1] 1"
      ]
     },
     "metadata": {},
     "output_type": "display_data"
    }
   ],
   "source": [
    "if (c(T, F)) { 1 } else { }"
   ]
  },
  {
   "cell_type": "code",
   "execution_count": 41,
   "metadata": {},
   "outputs": [
    {
     "data": {
      "text/html": [
       "<style>\n",
       ".list-inline {list-style: none; margin:0; padding: 0}\n",
       ".list-inline>li {display: inline-block}\n",
       ".list-inline>li:not(:last-child)::after {content: \"\\00b7\"; padding: 0 .5ex}\n",
       "</style>\n",
       "<ol class=list-inline><li>'B'</li><li>'B'</li><li>'B'</li><li>'B'</li><li>'B'</li><li>'A'</li><li>'A'</li><li>'A'</li><li>'A'</li><li>'A'</li></ol>\n"
      ],
      "text/latex": [
       "\\begin{enumerate*}\n",
       "\\item 'B'\n",
       "\\item 'B'\n",
       "\\item 'B'\n",
       "\\item 'B'\n",
       "\\item 'B'\n",
       "\\item 'A'\n",
       "\\item 'A'\n",
       "\\item 'A'\n",
       "\\item 'A'\n",
       "\\item 'A'\n",
       "\\end{enumerate*}\n"
      ],
      "text/markdown": [
       "1. 'B'\n",
       "2. 'B'\n",
       "3. 'B'\n",
       "4. 'B'\n",
       "5. 'B'\n",
       "6. 'A'\n",
       "7. 'A'\n",
       "8. 'A'\n",
       "9. 'A'\n",
       "10. 'A'\n",
       "\n",
       "\n"
      ],
      "text/plain": [
       " [1] \"B\" \"B\" \"B\" \"B\" \"B\" \"A\" \"A\" \"A\" \"A\" \"A\""
      ]
     },
     "metadata": {},
     "output_type": "display_data"
    }
   ],
   "source": [
    "ifelse(\n",
    "    1:10 > 5,\n",
    "    \"A\",\n",
    "    \"B\"\n",
    ")"
   ]
  },
  {
   "cell_type": "markdown",
   "metadata": {},
   "source": [
    "Note that a condition of `NA` will generate an error. This is one of the most common issues when writing conditions in `R`. "
   ]
  },
  {
   "cell_type": "code",
   "execution_count": 43,
   "metadata": {},
   "outputs": [
    {
     "data": {
      "text/html": [
       "1"
      ],
      "text/latex": [
       "1"
      ],
      "text/markdown": [
       "1"
      ],
      "text/plain": [
       "[1] 1"
      ]
     },
     "metadata": {},
     "output_type": "display_data"
    }
   ],
   "source": [
    "if (is.na(NA)) { 1 }"
   ]
  },
  {
   "cell_type": "markdown",
   "metadata": {},
   "source": [
    "By default, the last expression evaluated inside a function block is the value returned. However, we can use an explicit **return statement** to return early.\n"
   ]
  },
  {
   "cell_type": "code",
   "execution_count": 44,
   "metadata": {},
   "outputs": [
    {
     "data": {
      "text/html": [
       "<style>\n",
       ".list-inline {list-style: none; margin:0; padding: 0}\n",
       ".list-inline>li {display: inline-block}\n",
       ".list-inline>li:not(:last-child)::after {content: \"\\00b7\"; padding: 0 .5ex}\n",
       "</style>\n",
       "<ol class=list-inline><li>NaN</li><li>NaN</li><li>NaN</li><li>NaN</li></ol>\n"
      ],
      "text/latex": [
       "\\begin{enumerate*}\n",
       "\\item NaN\n",
       "\\item NaN\n",
       "\\item NaN\n",
       "\\item NaN\n",
       "\\end{enumerate*}\n"
      ],
      "text/markdown": [
       "1. NaN\n",
       "2. NaN\n",
       "3. NaN\n",
       "4. NaN\n",
       "\n",
       "\n"
      ],
      "text/plain": [
       "[1] NaN NaN NaN NaN"
      ]
     },
     "metadata": {},
     "output_type": "display_data"
    }
   ],
   "source": [
    "x<-c(1,1,1,1)\n",
    "standardize(x)"
   ]
  },
  {
   "cell_type": "code",
   "execution_count": 45,
   "metadata": {},
   "outputs": [],
   "source": [
    "standardize2 <- function(w){\n",
    "    w_centered <- w - mean(w);\n",
    "    w_std<- w_centered / sd(w_centered)\n",
    "    if( sd(w_centered) == 0 ){\n",
    "        return(w_centered)\n",
    "    }else{\n",
    "        return(w_std)\n",
    "    }\n",
    "}"
   ]
  },
  {
   "cell_type": "code",
   "execution_count": 46,
   "metadata": {},
   "outputs": [
    {
     "data": {
      "text/html": [
       "<style>\n",
       ".list-inline {list-style: none; margin:0; padding: 0}\n",
       ".list-inline>li {display: inline-block}\n",
       ".list-inline>li:not(:last-child)::after {content: \"\\00b7\"; padding: 0 .5ex}\n",
       "</style>\n",
       "<ol class=list-inline><li>0</li><li>0</li><li>0</li><li>0</li></ol>\n"
      ],
      "text/latex": [
       "\\begin{enumerate*}\n",
       "\\item 0\n",
       "\\item 0\n",
       "\\item 0\n",
       "\\item 0\n",
       "\\end{enumerate*}\n"
      ],
      "text/markdown": [
       "1. 0\n",
       "2. 0\n",
       "3. 0\n",
       "4. 0\n",
       "\n",
       "\n"
      ],
      "text/plain": [
       "[1] 0 0 0 0"
      ]
     },
     "metadata": {},
     "output_type": "display_data"
    }
   ],
   "source": [
    "standardize2(x)"
   ]
  },
  {
   "cell_type": "code",
   "execution_count": 49,
   "metadata": {
    "scrolled": true
   },
   "outputs": [],
   "source": [
    "standardize3 <- function(w){\n",
    "    if( sd(w) == 0 ){\n",
    "        return(w)\n",
    "    }\n",
    "    \n",
    "    w_centered <- w - mean(w);\n",
    "    w_std<- w_centered / sd(w_centered)\n",
    "    \n",
    "    w_std\n",
    "}"
   ]
  },
  {
   "cell_type": "code",
   "execution_count": 50,
   "metadata": {},
   "outputs": [
    {
     "data": {
      "text/html": [
       "<style>\n",
       ".list-inline {list-style: none; margin:0; padding: 0}\n",
       ".list-inline>li {display: inline-block}\n",
       ".list-inline>li:not(:last-child)::after {content: \"\\00b7\"; padding: 0 .5ex}\n",
       "</style>\n",
       "<ol class=list-inline><li>1</li><li>1</li><li>1</li><li>1</li></ol>\n"
      ],
      "text/latex": [
       "\\begin{enumerate*}\n",
       "\\item 1\n",
       "\\item 1\n",
       "\\item 1\n",
       "\\item 1\n",
       "\\end{enumerate*}\n"
      ],
      "text/markdown": [
       "1. 1\n",
       "2. 1\n",
       "3. 1\n",
       "4. 1\n",
       "\n",
       "\n"
      ],
      "text/plain": [
       "[1] 1 1 1 1"
      ]
     },
     "metadata": {},
     "output_type": "display_data"
    },
    {
     "data": {
      "text/html": [
       "<style>\n",
       ".list-inline {list-style: none; margin:0; padding: 0}\n",
       ".list-inline>li {display: inline-block}\n",
       ".list-inline>li:not(:last-child)::after {content: \"\\00b7\"; padding: 0 .5ex}\n",
       "</style>\n",
       "<ol class=list-inline><li>-0.849679471470342</li><li>1.08869066657987</li><li>-0.848969185600774</li><li>0.609957990491249</li></ol>\n"
      ],
      "text/latex": [
       "\\begin{enumerate*}\n",
       "\\item -0.849679471470342\n",
       "\\item 1.08869066657987\n",
       "\\item -0.848969185600774\n",
       "\\item 0.609957990491249\n",
       "\\end{enumerate*}\n"
      ],
      "text/markdown": [
       "1. -0.849679471470342\n",
       "2. 1.08869066657987\n",
       "3. -0.848969185600774\n",
       "4. 0.609957990491249\n",
       "\n",
       "\n"
      ],
      "text/plain": [
       "[1] -0.8496795  1.0886907 -0.8489692  0.6099580"
      ]
     },
     "metadata": {},
     "output_type": "display_data"
    }
   ],
   "source": [
    "standardize3(x)\n",
    "standardize3(v)"
   ]
  }
 ],
 "metadata": {
  "kernelspec": {
   "display_name": "R",
   "language": "R",
   "name": "ir"
  },
  "language_info": {
   "codemirror_mode": "r",
   "file_extension": ".r",
   "mimetype": "text/x-r-source",
   "name": "R",
   "pygments_lexer": "r",
   "version": "4.0.3"
  },
  "latex_envs": {
   "LaTeX_envs_menu_present": true,
   "autoclose": false,
   "autocomplete": true,
   "bibliofile": "biblio.bib",
   "cite_by": "apalike",
   "current_citInitial": 1,
   "eqLabelWithNumbers": true,
   "eqNumInitial": 1,
   "hotkeys": {
    "equation": "Ctrl-E",
    "itemize": "Ctrl-I"
   },
   "labels_anchors": false,
   "latex_user_defs": false,
   "report_style_numbering": false,
   "user_envs_cfg": false
  }
 },
 "nbformat": 4,
 "nbformat_minor": 2
}
