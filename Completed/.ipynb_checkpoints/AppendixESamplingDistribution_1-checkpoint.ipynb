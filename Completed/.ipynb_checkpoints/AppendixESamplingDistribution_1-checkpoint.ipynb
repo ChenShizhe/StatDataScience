{
 "cells": [
  {
   "cell_type": "markdown",
   "metadata": {},
   "source": [
    "# Appendix E Sampling Distribution "
   ]
  },
  {
   "cell_type": "markdown",
   "metadata": {},
   "source": [
    "## E.1 Sampling from the true population\n",
    "\n",
    "Most properties in statistics describe the behaviour of a procedure under repeated sampling from the true population. The problem is, in the real world, the true population is unknown. In a synthetic environment (e.g., simulation in Appendix D), we do know the true population as well as the sampling scheme. "
   ]
  },
  {
   "cell_type": "code",
   "execution_count": 18,
   "metadata": {},
   "outputs": [],
   "source": [
    "set.seed(1)\n",
    "n=50;\n",
    "x=rnorm(n,mean=10,sd=2);\n",
    "beta.true=c(20,0.15)\n",
    "Ey=x*beta.true[2]+beta.true[1];\n",
    "\n",
    "error.terms<- (runif(n)-0.5)*5;\n",
    "y=Ey+error.terms;\n",
    "\n",
    "beta.hat<-lm(y~x+1)$coef;\n"
   ]
  },
  {
   "cell_type": "code",
   "execution_count": 19,
   "metadata": {},
   "outputs": [
    {
     "data": {
      "image/png": "[encoded data removed]",
      "text/plain": [
       "plot without title"
      ]
     },
     "metadata": {
      "image/png": {
       "height": 420,
       "width": 420
      }
     },
     "output_type": "display_data"
    }
   ],
   "source": [
    "plot(y~x,pch=16,cex=1)\n",
    "abline(b=beta.hat[2],a=beta.hat[1],lwd=3,col='red')\n",
    "abline(b=beta.true[2],a=beta.true[1],lwd=3,col='blue')\n"
   ]
  },
  {
   "cell_type": "code",
   "execution_count": 29,
   "metadata": {},
   "outputs": [
    {
     "data": {
      "text/html": [
       "<strong>x:</strong> 0.38065851406889"
      ],
      "text/latex": [
       "\\textbf{x:} 0.38065851406889"
      ],
      "text/markdown": [
       "**x:** 0.38065851406889"
      ],
      "text/plain": [
       "        x \n",
       "0.3806585 "
      ]
     },
     "metadata": {},
     "output_type": "display_data"
    }
   ],
   "source": [
    "# To study the sampling distribution of the estimator of the regression slope\n",
    "simulate.one.instance<-function(x,beta.true){\n",
    "    n=length(x);\n",
    "    Ey=x*beta.true[2]+beta.true[1];\n",
    "    error.terms<- (runif(n)-0.5)*5;\n",
    "    y=Ey+error.terms;\n",
    "    beta.hat<-lm(y~x+1)$coef;\n",
    "    return(beta.hat[2])\n",
    "    \n",
    "}\n"
   ]
  },
  {
   "cell_type": "code",
   "execution_count": 30,
   "metadata": {},
   "outputs": [],
   "source": [
    "set.seed(1)\n",
    "n=50;\n",
    "x=rnorm(n,mean=10,sd=2);\n",
    "beta.true=c(20,0.15)\n",
    "\n",
    "N.sim=1e4; # 10000\n",
    "beta.sim<-replicate(N.sim,simulate.one.instance(x=x,beta.true=beta.true))"
   ]
  },
  {
   "cell_type": "code",
   "execution_count": 38,
   "metadata": {},
   "outputs": [
    {
     "data": {
      "text/html": [
       "0.00187424303119896"
      ],
      "text/latex": [
       "0.00187424303119896"
      ],
      "text/markdown": [
       "0.00187424303119896"
      ],
      "text/plain": [
       "[1] 0.001874243"
      ]
     },
     "metadata": {},
     "output_type": "display_data"
    },
    {
     "data": {
      "image/png": "[encoded data removed]",
      "text/plain": [
       "Plot with title \"\""
      ]
     },
     "metadata": {
      "image/png": {
       "height": 420,
       "width": 420
      }
     },
     "output_type": "display_data"
    }
   ],
   "source": [
    "hist(beta.sim,xlab='Fitted intercept', main='') # geom_histogram\n",
    "abline(v=beta.true[2],lwd=3,col='blue')\n",
    "mean(beta.sim)-beta.true[2]"
   ]
  },
  {
   "cell_type": "code",
   "execution_count": null,
   "metadata": {},
   "outputs": [],
   "source": []
  }
 ],
 "metadata": {
  "kernelspec": {
   "display_name": "R",
   "language": "R",
   "name": "ir"
  },
  "language_info": {
   "codemirror_mode": "r",
   "file_extension": ".r",
   "mimetype": "text/x-r-source",
   "name": "R",
   "pygments_lexer": "r",
   "version": "4.0.3"
  },
  "latex_envs": {
   "LaTeX_envs_menu_present": true,
   "autoclose": false,
   "autocomplete": true,
   "bibliofile": "biblio.bib",
   "cite_by": "apalike",
   "current_citInitial": 1,
   "eqLabelWithNumbers": true,
   "eqNumInitial": 1,
   "hotkeys": {
    "equation": "Ctrl-E",
    "itemize": "Ctrl-I"
   },
   "labels_anchors": false,
   "latex_user_defs": false,
   "report_style_numbering": false,
   "user_envs_cfg": false
  }
 },
 "nbformat": 4,
 "nbformat_minor": 2
}
