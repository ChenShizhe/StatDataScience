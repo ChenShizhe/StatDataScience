{
 "cells": [
  {
   "cell_type": "markdown",
   "metadata": {},
   "source": [
    "### 10.2.2 Reporting bias in survey sampling \n",
    "\n",
    "In Chapter 9, we discuss how we can \"remove\" selection bias with assumptions. Here we demonstrate how to actually avoid bias with experimental design. \n",
    "\n",
    "We consider the classic scenario of self-reporting bias. Responders of surveys are less likely to report true status if they worry about their privacies. In order to obtain true response, we can employ a randomized response technique (Warner model 1965). Let $\\pi_A$ be the sensitive proportion. With probability $p$, the question is whether you belong to set $A$; with probability $1-p$, the question is whether you belong to set $A^c$. Then we have \n",
    "\\[\n",
    "{\\rm pr}({\\rm Yes})=\\pi_A p+(1-\\pi_A)(1-p)\n",
    "\\]\n",
    "and \n",
    "\\[\n",
    " {\\rm pr}({\\rm No})=(1-\\pi_A)p+\\pi_A(1-p).\n",
    "\\]\n",
    "\n",
    "Hence we have $\\hat{\\pi}_A = [n_1/n-(1-p)]/(2p-1)$, which is unbiased as long as $p\\neq 0.5$. In addition, we have \n",
    "\\[\n",
    "{\\rm var}\\big( \\hat{\\pi}_A\\big)=\\frac{\\pi_A (1-\\pi_A)}{n} \\frac{p(1-p)}{(2p-1)n}\n",
    "\\]"
   ]
  }
 ],
 "metadata": {
  "kernelspec": {
   "display_name": "R",
   "language": "R",
   "name": "ir"
  },
  "language_info": {
   "codemirror_mode": "r",
   "file_extension": ".r",
   "mimetype": "text/x-r-source",
   "name": "R",
   "pygments_lexer": "r",
   "version": "4.0.3"
  },
  "latex_envs": {
   "LaTeX_envs_menu_present": true,
   "autoclose": false,
   "autocomplete": true,
   "bibliofile": "biblio.bib",
   "cite_by": "apalike",
   "current_citInitial": 1,
   "eqLabelWithNumbers": true,
   "eqNumInitial": 1,
   "hotkeys": {
    "equation": "Ctrl-E",
    "itemize": "Ctrl-I"
   },
   "labels_anchors": false,
   "latex_user_defs": false,
   "report_style_numbering": false,
   "user_envs_cfg": false
  }
 },
 "nbformat": 4,
 "nbformat_minor": 2
}
