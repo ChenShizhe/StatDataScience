{
 "cells": [
  {
   "cell_type": "code",
   "execution_count": 5,
   "metadata": {},
   "outputs": [],
   "source": [
    "# PCA in R\n",
    "iris.pca<-prcomp(x=iris[,-5], center=TRUE, scale =TRUE)\n",
    "\n"
   ]
  },
  {
   "cell_type": "code",
   "execution_count": 6,
   "metadata": {},
   "outputs": [
    {
     "data": {
      "text/html": [
       "<style>\n",
       ".list-inline {list-style: none; margin:0; padding: 0}\n",
       ".list-inline>li {display: inline-block}\n",
       ".list-inline>li:not(:last-child)::after {content: \"\\00b7\"; padding: 0 .5ex}\n",
       "</style>\n",
       "<ol class=list-inline><li>'center'</li><li>'rotation'</li><li>'scale'</li><li>'sdev'</li><li>'x'</li></ol>\n"
      ],
      "text/latex": [
       "\\begin{enumerate*}\n",
       "\\item 'center'\n",
       "\\item 'rotation'\n",
       "\\item 'scale'\n",
       "\\item 'sdev'\n",
       "\\item 'x'\n",
       "\\end{enumerate*}\n"
      ],
      "text/markdown": [
       "1. 'center'\n",
       "2. 'rotation'\n",
       "3. 'scale'\n",
       "4. 'sdev'\n",
       "5. 'x'\n",
       "\n",
       "\n"
      ],
      "text/plain": [
       "[1] \"center\"   \"rotation\" \"scale\"    \"sdev\"     \"x\"       "
      ]
     },
     "metadata": {},
     "output_type": "display_data"
    }
   ],
   "source": [
    "ls(iris.pca)"
   ]
  },
  {
   "cell_type": "code",
   "execution_count": 8,
   "metadata": {},
   "outputs": [
    {
     "data": {
      "image/png": "[encoded data removed]",
      "text/plain": [
       "plot without title"
      ]
     },
     "metadata": {
      "image/png": {
       "height": 420,
       "width": 420
      }
     },
     "output_type": "display_data"
    }
   ],
   "source": [
    "par(mfrow=c(1,2))\n",
    "plot(x=iris.pca$x[,1],y=iris.pca$x[,2],col=iris$species,pch=16)\n",
    "plot(x=iris$Petal.Length,y=iris$Petal.Width,col=iris$species,pch=16)\n",
    "par(mfrow=c(1,1))"
   ]
  },
  {
   "cell_type": "markdown",
   "metadata": {},
   "source": [
    "**PC Loadings**\n",
    "\n",
    "- Observations can be plotted (\"projected\") in space of PC's \n",
    "- Roughly, equivalent to rotating the axes and plotting original data points in the new axes $Z_1,\\, Z_2$.\n"
   ]
  },
  {
   "cell_type": "code",
   "execution_count": null,
   "metadata": {},
   "outputs": [],
   "source": []
  },
  {
   "cell_type": "markdown",
   "metadata": {},
   "source": [
    "A lot of methods (PCA included) can be thought of as decomposing a data matrix $X_{n\\times p}$, into a mixture of $k$ archetypes\n",
    "\\[\n",
    " X \\approx U V^{\\top},\n",
    "\\]\n",
    "where $V_{p\\times k}$ is a matrix of archetypes and $U_{n\\times k}$ is a matrix of weights (for mixing archetypes to get $X$). One can also think of this as a \"vector space embedding\" (where our weights determine the embedding)"
   ]
  },
  {
   "cell_type": "markdown",
   "metadata": {},
   "source": [
    "It is not easy to choosing the number of principal components. There exist multiple proposals such as using gap statistic, universal threshold, clever cross-validations, etc. None of this methods dominate the rest. The right choice eventually comes down to the needs in a particular analysis project. For instance, the number of PCs to choose should be two if for visualization on a two-dimensional surface. \n",
    "    "
   ]
  },
  {
   "cell_type": "code",
   "execution_count": null,
   "metadata": {},
   "outputs": [],
   "source": []
  },
  {
   "cell_type": "code",
   "execution_count": null,
   "metadata": {
    "scrolled": true
   },
   "outputs": [],
   "source": []
  }
 ],
 "metadata": {
  "kernelspec": {
   "display_name": "R",
   "language": "R",
   "name": "ir"
  },
  "language_info": {
   "codemirror_mode": "r",
   "file_extension": ".r",
   "mimetype": "text/x-r-source",
   "name": "R",
   "pygments_lexer": "r",
   "version": "4.0.3"
  },
  "latex_envs": {
   "LaTeX_envs_menu_present": true,
   "autoclose": false,
   "autocomplete": true,
   "bibliofile": "biblio.bib",
   "cite_by": "apalike",
   "current_citInitial": 1,
   "eqLabelWithNumbers": true,
   "eqNumInitial": 1,
   "hotkeys": {
    "equation": "Ctrl-E",
    "itemize": "Ctrl-I"
   },
   "labels_anchors": false,
   "latex_user_defs": false,
   "report_style_numbering": false,
   "user_envs_cfg": false
  }
 },
 "nbformat": 4,
 "nbformat_minor": 2
}
