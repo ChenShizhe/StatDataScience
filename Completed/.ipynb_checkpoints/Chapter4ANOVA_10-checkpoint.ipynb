{
 "cells": [
  {
   "cell_type": "markdown",
   "metadata": {},
   "source": [
    "# Chapter 4 Analysis of Variance\n",
    "     "
   ]
  },
  {
   "cell_type": "code",
   "execution_count": 1,
   "metadata": {},
   "outputs": [],
   "source": [
    "Spock <- read.csv(file=\"../Data/SpockTrial.csv\", header=TRUE, sep=\",\")\n",
    "Spock$Judge<-as.factor(Spock$Judge);\n",
    "anova.fit<- aov(perc.women~Judge,data=Spock)\n",
    "ns=as.numeric(table(Spock$Judge))\n",
    "mse=sum(anova.fit$residual^2)/anova.fit$df.residual"
   ]
  },
  {
   "cell_type": "markdown",
   "metadata": {},
   "source": [
    "\n",
    "### 4.1.10 Testing equal variance \n",
    "\n",
    "Estimate $\\sigma_1^2,\\sigma_2^2,\\ldots, \\sigma_r^2$ separately as, for $i=1,\\ldots, r$, \n",
    "\\[\n",
    "s_i^2 = \\sum_{j=1}^{n_i} \\frac{\\big(Y_{ij}-\\bar{Y}_{i\\cdot}\\big)^2}{n_i-1}.\n",
    "\\]\n",
    "We want to test the null hypothesis $H_0: \\sigma_1=\\cdots =\\sigma_r$ against the alternative $H_a:$ not all $\\sigma$s are equal. \n"
   ]
  },
  {
   "cell_type": "code",
   "execution_count": 5,
   "metadata": {},
   "outputs": [],
   "source": [
    "vars<-tapply(Spock$perc.women,Spock$Judge, var) #s_i^2\n",
    "alpha=0.05"
   ]
  },
  {
   "cell_type": "markdown",
   "metadata": {},
   "source": [
    "**Hartley test.** The test statistic is \n",
    "\\[\n",
    "H=\\frac{\\max(s_1^2,\\ldots, s_r^2)}{\\min(s_1^2,\\ldots, s_r^2)}.\n",
    "\\]\n",
    "Reject $H_0$ if $H>H(1-\\alpha;r,n_i-1)$ when all $n_i$s are the same (balanced design). "
   ]
  },
  {
   "cell_type": "code",
   "execution_count": 25,
   "metadata": {},
   "outputs": [
    {
     "data": {
      "text/html": [
       "2.05383582207474"
      ],
      "text/latex": [
       "2.05383582207474"
      ],
      "text/markdown": [
       "2.05383582207474"
      ],
      "text/plain": [
       "[1] 2.053836"
      ]
     },
     "metadata": {},
     "output_type": "display_data"
    },
    {
     "data": {
      "text/html": [
       "13.7239534713855"
      ],
      "text/latex": [
       "13.7239534713855"
      ],
      "text/markdown": [
       "13.7239534713855"
      ],
      "text/plain": [
       "[1] 13.72395"
      ]
     },
     "metadata": {},
     "output_type": "display_data"
    },
    {
     "data": {
      "text/html": [
       "7.18532327249131"
      ],
      "text/latex": [
       "7.18532327249131"
      ],
      "text/markdown": [
       "7.18532327249131"
      ],
      "text/plain": [
       "[1] 7.185323"
      ]
     },
     "metadata": {},
     "output_type": "display_data"
    },
    {
     "data": {
      "text/html": [
       "8.43999329265814"
      ],
      "text/latex": [
       "8.43999329265814"
      ],
      "text/markdown": [
       "8.43999329265814"
      ],
      "text/plain": [
       "[1] 8.439993"
      ]
     },
     "metadata": {},
     "output_type": "display_data"
    },
    {
     "data": {
      "text/html": [
       "8.43999329265814"
      ],
      "text/latex": [
       "8.43999329265814"
      ],
      "text/markdown": [
       "8.43999329265814"
      ],
      "text/plain": [
       "[1] 8.439993"
      ]
     },
     "metadata": {},
     "output_type": "display_data"
    },
    {
     "data": {
      "text/html": [
       "7.18532327249131"
      ],
      "text/latex": [
       "7.18532327249131"
      ],
      "text/markdown": [
       "7.18532327249131"
      ],
      "text/plain": [
       "[1] 7.185323"
      ]
     },
     "metadata": {},
     "output_type": "display_data"
    }
   ],
   "source": [
    "(H.stat = max(vars)/min(vars))\n",
    "\n",
    "# For an unbalanced ANOVA:\n",
    "library(SuppDists)\n",
    "qmaxFratio(1-alpha,df=ns[2]-1, k=length(ns))\n",
    "qmaxFratio(1-alpha,df=ns[1]-1, k=length(ns))\n",
    "qmaxFratio(1-alpha,df= sum(ns)/length(ns) -1, k=length(ns))\n",
    "\n",
    "qmaxFratio(1-alpha,df= floor(sum(ns)/length(ns) -1), k=length(ns)) # 7.25 -> 7\n",
    "qmaxFratio(1-alpha,df= ceiling(sum(ns)/length(ns) -1), k=length(ns)) # 7.25 -> 8"
   ]
  },
  {
   "cell_type": "markdown",
   "metadata": {},
   "source": [
    "**Bartlett test.** The test statistics is \n",
    "\\[\n",
    "K^2=(n_T-r) \\log({\\rm MSE})-\\sum_{i=1}^r (n_i-1) \\log (s_i^2).\n",
    "\\]\n",
    "We know that $K^2 \\geq 0$ from Jensen's inequality. Under $H_0$, $K^2$ is approximately $\\chi^2_{r-1}$ assuming that $n_i$ are not small. Reject $H_0$ if $K^2> \\chi^2(1-\\alpha;r-1)$. Related to the likelihood ratio test. \n"
   ]
  },
  {
   "cell_type": "code",
   "execution_count": 22,
   "metadata": {},
   "outputs": [
    {
     "data": {
      "text/html": [
       "1.05632469364295"
      ],
      "text/latex": [
       "1.05632469364295"
      ],
      "text/markdown": [
       "1.05632469364295"
      ],
      "text/plain": [
       "[1] 1.056325"
      ]
     },
     "metadata": {},
     "output_type": "display_data"
    },
    {
     "data": {
      "text/html": [
       "7.81472790325118"
      ],
      "text/latex": [
       "7.81472790325118"
      ],
      "text/markdown": [
       "7.81472790325118"
      ],
      "text/plain": [
       "[1] 7.814728"
      ]
     },
     "metadata": {},
     "output_type": "display_data"
    }
   ],
   "source": [
    "(K.stat = (sum(ns)-length(ns) )*log(mse)-sum(  (ns-1)*log(vars)  ))\n",
    "qchisq(1-alpha, df=length(ns)-1)"
   ]
  },
  {
   "cell_type": "markdown",
   "metadata": {},
   "source": [
    "**Levene test.** \n",
    "1. Create new data with $d_{ij}=|Y_{ij}-\\bar{Y}_{i\\cdot}|$. \n",
    "2. Treat $\\{d_{ij}\\}$ as response variables\n",
    "3. Calculate the $F$-statistic for $H_0: \\mathbb{E}[d_{1\\cdot}]=\\mathbb{E}[d_{2\\cdot}] = \\cdots =\\mathbb{E}[d_{r\\cdot}]$\n",
    "Reject $H_0$ if $F^*>F(1-\\alpha; r-1, n_T-r)$. \n"
   ]
  },
  {
   "cell_type": "code",
   "execution_count": 24,
   "metadata": {},
   "outputs": [
    {
     "data": {
      "text/plain": [
       "            Df Sum Sq Mean Sq F value Pr(>F)\n",
       "Judge        3   5.64    1.88   0.173  0.914\n",
       "Residuals   29 314.70   10.85               "
      ]
     },
     "metadata": {},
     "output_type": "display_data"
    }
   ],
   "source": [
    "Spock$res.abs = abs(anova.fit$residuals)\n",
    "summary(aov(res.abs~Judge, data=Spock ))"
   ]
  }
 ],
 "metadata": {
  "author": "\\mu",
  "kernelspec": {
   "display_name": "R",
   "language": "R",
   "name": "ir"
  },
  "language_info": {
   "codemirror_mode": "r",
   "file_extension": ".r",
   "mimetype": "text/x-r-source",
   "name": "R",
   "pygments_lexer": "r",
   "version": "4.0.3"
  },
  "latex_envs": {
   "LaTeX_envs_menu_present": true,
   "autoclose": false,
   "autocomplete": true,
   "bibliofile": "biblio.bib",
   "cite_by": "apalike",
   "current_citInitial": 1,
   "eqLabelWithNumbers": true,
   "eqNumInitial": 1,
   "hotkeys": {
    "equation": "Ctrl-E",
    "itemize": "Ctrl-I"
   },
   "labels_anchors": false,
   "latex_user_defs": false,
   "report_style_numbering": false,
   "user_envs_cfg": false
  }
 },
 "nbformat": 4,
 "nbformat_minor": 2
}
