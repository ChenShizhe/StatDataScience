{
 "cells": [
  {
   "cell_type": "markdown",
   "metadata": {},
   "source": [
    "# Chapter 2 Exploratory Data Analysis\n",
    "\n"
   ]
  },
  {
   "cell_type": "markdown",
   "metadata": {},
   "source": [
    "## 2.2 Visualization\n",
    "Data visualization is an important skill to have for a data scientist. There are several tools available for data visualization. There are paid services/products offered by companies like [Tableau](https://www.tableau.com/) that let people generate high quality visualizations from data stored in speadsheets and databases. [D3.js](https://d3js.org/) is a Javascript library that uses a browser to display high quality, interactive graphics. Spreadsheet programs, such as Microsoft Excel, also offer visualization tools.\n",
    "\n",
    "Since this is a course based on the `R` language, we will explore the visualization tools provided by the `R` language and packages. Even if we restrict ourselves to `R`, we have a few choices. The [R base graphics package](https://stat.ethz.ch/R-manual/R-devel/library/graphics/html/00Index.html) provides basic plotting tools that may be sufficient for many purposes. We will also look at the [ggplot2 package](http://ggplot2.org/) that offers a higher level of abstraction to create graphics. For an interesting comparison between base R graphics and ggplots, see this [blog post](https://flowingdata.com/2016/03/22/comparing-ggplot2-and-r-base-graphics/).\n",
    "\n",
    "\n",
    "With smartphones and computers, it is more effective than decades ago to display our findings in graphics or animations on screens. Visualization becomes one of the key tool in exploratory data analysis. We will discuss a couple basic visualization strategies using real data examples in what follows. \n",
    "\n",
    "Note that, when space is limited, we can summarize information in plots into numbers that can be reported in-line or in tables. "
   ]
  },
  {
   "cell_type": "markdown",
   "metadata": {},
   "source": [
    "### 2.2.1 Billionaires \n",
    "\n",
    "The file `bil.RData` contains a dataset on [billionaires](https://think.cs.vt.edu/corgis/csv/billionaires/): who they are, where they are from, how & when they made their fortune, etc."
   ]
  },
  {
   "cell_type": "code",
   "execution_count": 3,
   "metadata": {},
   "outputs": [
    {
     "name": "stdout",
     "output_type": "stream",
     "text": [
      "\u001b[90m# A tibble: 2,614 x 22\u001b[39m\n",
      "     age category citizenship company.name company.type `country code` founded\n",
      "   \u001b[3m\u001b[90m<int>\u001b[39m\u001b[23m \u001b[3m\u001b[90m<chr>\u001b[39m\u001b[23m    \u001b[3m\u001b[90m<chr>\u001b[39m\u001b[23m       \u001b[3m\u001b[90m<chr>\u001b[39m\u001b[23m        \u001b[3m\u001b[90m<chr>\u001b[39m\u001b[23m        \u001b[3m\u001b[90m<chr>\u001b[39m\u001b[23m            \u001b[3m\u001b[90m<int>\u001b[39m\u001b[23m\n",
      "\u001b[90m 1\u001b[39m    -\u001b[31m1\u001b[39m Financi~ Saudi Arab~ Rolaco Trad~ new          SAU               \u001b[4m1\u001b[24m968\n",
      "\u001b[90m 2\u001b[39m    34 Financi~ United Sta~ Fidelity In~ new          USA               \u001b[4m1\u001b[24m946\n",
      "\u001b[90m 3\u001b[39m    59 Non-Tra~ Brazil      Companhia B~ new          BRA               \u001b[4m1\u001b[24m948\n",
      "\u001b[90m 4\u001b[39m    61 New Sec~ Germany     Ratiopharm   new          DEU               \u001b[4m1\u001b[24m881\n",
      "\u001b[90m 5\u001b[39m    -\u001b[31m1\u001b[39m Financi~ Hong Kong   Swire        new          HKG               \u001b[4m1\u001b[24m816\n",
      "\u001b[90m 6\u001b[39m    -\u001b[31m1\u001b[39m Traded ~ Bahrain     YBA Kanoo    new          BHR               \u001b[4m1\u001b[24m890\n",
      "\u001b[90m 7\u001b[39m    -\u001b[31m1\u001b[39m New Sec~ Japan       Otsuka Hold~ new          JPN               \u001b[4m1\u001b[24m921\n",
      "\u001b[90m 8\u001b[39m    -\u001b[31m1\u001b[39m Traded ~ Japan       Sony         new          JPN               \u001b[4m1\u001b[24m946\n",
      "\u001b[90m 9\u001b[39m    66 Financi~ Japan       Mori Buildi~ new          JPN               \u001b[4m1\u001b[24m959\n",
      "\u001b[90m10\u001b[39m    -\u001b[31m1\u001b[39m Traded ~ France      Chanel       new          FRA               \u001b[4m1\u001b[24m909\n",
      "\u001b[90m# ... with 2,604 more rows, and 15 more variables: `from emerging` \u001b[3m\u001b[90m<chr>\u001b[90m\u001b[23m,\u001b[39m\n",
      "\u001b[90m#   gdp \u001b[3m\u001b[90m<dbl>\u001b[90m\u001b[23m, gender \u001b[3m\u001b[90m<chr>\u001b[90m\u001b[23m, industry \u001b[3m\u001b[90m<chr>\u001b[90m\u001b[23m, inherited \u001b[3m\u001b[90m<chr>\u001b[90m\u001b[23m, name \u001b[3m\u001b[90m<chr>\u001b[90m\u001b[23m,\u001b[39m\n",
      "\u001b[90m#   rank \u001b[3m\u001b[90m<int>\u001b[90m\u001b[23m, region \u001b[3m\u001b[90m<chr>\u001b[90m\u001b[23m, relationship \u001b[3m\u001b[90m<chr>\u001b[90m\u001b[23m, sector \u001b[3m\u001b[90m<chr>\u001b[90m\u001b[23m, `was\u001b[39m\n",
      "\u001b[90m#   founder` \u001b[3m\u001b[90m<chr>\u001b[90m\u001b[23m, `was political` \u001b[3m\u001b[90m<chr>\u001b[90m\u001b[23m, wealth.type \u001b[3m\u001b[90m<chr>\u001b[90m\u001b[23m, `worth in\u001b[39m\n",
      "\u001b[90m#   billions` \u001b[3m\u001b[90m<dbl>\u001b[90m\u001b[23m, year \u001b[3m\u001b[90m<int>\u001b[90m\u001b[23m\u001b[39m\n"
     ]
    }
   ],
   "source": [
    "load('../Data/bil.RData')\n",
    "library(tidyverse)\n",
    "library(ggplot2)\n",
    "bil<-as_tibble(bil);\n",
    "print(bil)"
   ]
  },
  {
   "cell_type": "markdown",
   "metadata": {},
   "source": [
    "Let's first explore the regions of the billionares in this data set. The variable `region` is categorical in the `billionaire` data set. Hence, we can use the `count()` function to summarize the frequencies. "
   ]
  },
  {
   "cell_type": "code",
   "execution_count": 4,
   "metadata": {},
   "outputs": [
    {
     "data": {
      "text/html": [
       "<table>\n",
       "<caption>A tibble: 8 × 2</caption>\n",
       "<thead>\n",
       "\t<tr><th scope=col>region</th><th scope=col>n</th></tr>\n",
       "\t<tr><th scope=col>&lt;chr&gt;</th><th scope=col>&lt;int&gt;</th></tr>\n",
       "</thead>\n",
       "<tbody>\n",
       "\t<tr><td>East Asia               </td><td>535</td></tr>\n",
       "\t<tr><td>Europe                  </td><td>698</td></tr>\n",
       "\t<tr><td>Latin America           </td><td>182</td></tr>\n",
       "\t<tr><td>Middle East/North Africa</td><td>117</td></tr>\n",
       "\t<tr><td>North America           </td><td>992</td></tr>\n",
       "\t<tr><td>South Asia              </td><td> 69</td></tr>\n",
       "\t<tr><td>Sub-Saharan Africa      </td><td> 20</td></tr>\n",
       "\t<tr><td>NA                      </td><td>  1</td></tr>\n",
       "</tbody>\n",
       "</table>\n"
      ],
      "text/latex": [
       "A tibble: 8 × 2\n",
       "\\begin{tabular}{ll}\n",
       " region & n\\\\\n",
       " <chr> & <int>\\\\\n",
       "\\hline\n",
       "\t East Asia                & 535\\\\\n",
       "\t Europe                   & 698\\\\\n",
       "\t Latin America            & 182\\\\\n",
       "\t Middle East/North Africa & 117\\\\\n",
       "\t North America            & 992\\\\\n",
       "\t South Asia               &  69\\\\\n",
       "\t Sub-Saharan Africa       &  20\\\\\n",
       "\t NA                       &   1\\\\\n",
       "\\end{tabular}\n"
      ],
      "text/markdown": [
       "\n",
       "A tibble: 8 × 2\n",
       "\n",
       "| region &lt;chr&gt; | n &lt;int&gt; |\n",
       "|---|---|\n",
       "| East Asia                | 535 |\n",
       "| Europe                   | 698 |\n",
       "| Latin America            | 182 |\n",
       "| Middle East/North Africa | 117 |\n",
       "| North America            | 992 |\n",
       "| South Asia               |  69 |\n",
       "| Sub-Saharan Africa       |  20 |\n",
       "| NA                       |   1 |\n",
       "\n"
      ],
      "text/plain": [
       "  region                   n  \n",
       "1 East Asia                535\n",
       "2 Europe                   698\n",
       "3 Latin America            182\n",
       "4 Middle East/North Africa 117\n",
       "5 North America            992\n",
       "6 South Asia                69\n",
       "7 Sub-Saharan Africa        20\n",
       "8 NA                         1"
      ]
     },
     "metadata": {},
     "output_type": "display_data"
    }
   ],
   "source": [
    "count(bil, region)"
   ]
  },
  {
   "cell_type": "markdown",
   "metadata": {},
   "source": [
    "We can turn this table into a bar chart using `ggplot2`'s `geom_bar()` function. "
   ]
  },
  {
   "cell_type": "code",
   "execution_count": 6,
   "metadata": {},
   "outputs": [
    {
     "data": {
      "image/png": "[encoded data removed]",
      "text/plain": [
       "plot without title"
      ]
     },
     "metadata": {
      "image/png": {
       "height": 420,
       "width": 420
      }
     },
     "output_type": "display_data"
    }
   ],
   "source": [
    "ggplot(data=bil) +\n",
    "    geom_bar(mapping=aes(x=region)) \n"
   ]
  },
  {
   "cell_type": "markdown",
   "metadata": {},
   "source": [
    "If instead we are interested in the net worth, a bar plot is no longer applicable as every billionare potentially has a different net worth. Instead we create a **histogram**. The command to do this is **geom_histogram**."
   ]
  },
  {
   "cell_type": "code",
   "execution_count": 8,
   "metadata": {},
   "outputs": [
    {
     "data": {
      "image/png": "[encoded data removed]",
      "text/plain": [
       "plot without title"
      ]
     },
     "metadata": {
      "image/png": {
       "height": 420,
       "width": 420
      }
     },
     "output_type": "display_data"
    }
   ],
   "source": [
    "bil %>% ggplot + \n",
    "    geom_histogram(mapping = aes(x=`worth in billions` ),\n",
    "                  binwidth=2)"
   ]
  },
  {
   "cell_type": "markdown",
   "metadata": {},
   "source": [
    "What can you see from this plot? \n",
    "\n",
    "Most billionaires are worth a paltry \\\\$1-5b. However, the distribution has a \"long tail\": there are some billionaires who are worth as much as \\\\$60-80b. Interestingly, the income distribution among billionaires looks quite a bit like the income distribution in society as a whole. Even the .001% have their 1%."
   ]
  },
  {
   "cell_type": "markdown",
   "metadata": {},
   "source": [
    "We can use the **geom_histogram** to visualize other features in the dataset. Let's look at the disribution of the ages of billionaires. "
   ]
  },
  {
   "cell_type": "code",
   "execution_count": 9,
   "metadata": {},
   "outputs": [
    {
     "data": {
      "image/png": "[encoded data removed]",
      "text/plain": [
       "plot without title"
      ]
     },
     "metadata": {
      "image/png": {
       "height": 420,
       "width": 420
      }
     },
     "output_type": "display_data"
    }
   ],
   "source": [
    "bil %>% ggplot + \n",
    "    geom_histogram(mapping = aes(x=age),\n",
    "                  binwidth=2)"
   ]
  },
  {
   "cell_type": "markdown",
   "metadata": {},
   "source": [
    "Typical values of `age` in these data range from about 30 to 90. We see a very unusual spike around zero. Let us try to investigate more by filtering the data set to contain only rows with age less than 10.   "
   ]
  },
  {
   "cell_type": "code",
   "execution_count": 12,
   "metadata": {},
   "outputs": [
    {
     "name": "stdout",
     "output_type": "stream",
     "text": [
      "\u001b[90m# A tibble: 385 x 22\u001b[39m\n",
      "     age category citizenship company.name company.type `country code` founded\n",
      "   \u001b[3m\u001b[90m<int>\u001b[39m\u001b[23m \u001b[3m\u001b[90m<chr>\u001b[39m\u001b[23m    \u001b[3m\u001b[90m<chr>\u001b[39m\u001b[23m       \u001b[3m\u001b[90m<chr>\u001b[39m\u001b[23m        \u001b[3m\u001b[90m<chr>\u001b[39m\u001b[23m        \u001b[3m\u001b[90m<chr>\u001b[39m\u001b[23m            \u001b[3m\u001b[90m<int>\u001b[39m\u001b[23m\n",
      "\u001b[90m 1\u001b[39m    -\u001b[31m1\u001b[39m Financi~ Saudi Arab~ Rolaco Trad~ new          SAU               \u001b[4m1\u001b[24m968\n",
      "\u001b[90m 2\u001b[39m    -\u001b[31m1\u001b[39m Financi~ Hong Kong   Swire        new          HKG               \u001b[4m1\u001b[24m816\n",
      "\u001b[90m 3\u001b[39m    -\u001b[31m1\u001b[39m Traded ~ Bahrain     YBA Kanoo    new          BHR               \u001b[4m1\u001b[24m890\n",
      "\u001b[90m 4\u001b[39m    -\u001b[31m1\u001b[39m New Sec~ Japan       Otsuka Hold~ new          JPN               \u001b[4m1\u001b[24m921\n",
      "\u001b[90m 5\u001b[39m    -\u001b[31m1\u001b[39m Traded ~ Japan       Sony         new          JPN               \u001b[4m1\u001b[24m946\n",
      "\u001b[90m 6\u001b[39m    -\u001b[31m1\u001b[39m Traded ~ France      Chanel       new          FRA               \u001b[4m1\u001b[24m909\n",
      "\u001b[90m 7\u001b[39m    -\u001b[31m1\u001b[39m Non-Tra~ Mexico      Groupo IUSA  new          MEX               \u001b[4m1\u001b[24m939\n",
      "\u001b[90m 8\u001b[39m    -\u001b[31m1\u001b[39m Financi~ Mexico      Pulsar Inte~ new          MEX               \u001b[4m1\u001b[24m981\n",
      "\u001b[90m 9\u001b[39m    -\u001b[31m1\u001b[39m Traded ~ Netherlands Heineken In~ new          NLD               \u001b[4m1\u001b[24m864\n",
      "\u001b[90m10\u001b[39m    -\u001b[31m1\u001b[39m \u001b[31mNA\u001b[39m       United Sta~ MBNA         subsidiary   USA               \u001b[4m1\u001b[24m982\n",
      "\u001b[90m# ... with 375 more rows, and 15 more variables: `from emerging` \u001b[3m\u001b[90m<chr>\u001b[90m\u001b[23m,\u001b[39m\n",
      "\u001b[90m#   gdp \u001b[3m\u001b[90m<dbl>\u001b[90m\u001b[23m, gender \u001b[3m\u001b[90m<chr>\u001b[90m\u001b[23m, industry \u001b[3m\u001b[90m<chr>\u001b[90m\u001b[23m, inherited \u001b[3m\u001b[90m<chr>\u001b[90m\u001b[23m, name \u001b[3m\u001b[90m<chr>\u001b[90m\u001b[23m,\u001b[39m\n",
      "\u001b[90m#   rank \u001b[3m\u001b[90m<int>\u001b[90m\u001b[23m, region \u001b[3m\u001b[90m<chr>\u001b[90m\u001b[23m, relationship \u001b[3m\u001b[90m<chr>\u001b[90m\u001b[23m, sector \u001b[3m\u001b[90m<chr>\u001b[90m\u001b[23m, `was\u001b[39m\n",
      "\u001b[90m#   founder` \u001b[3m\u001b[90m<chr>\u001b[90m\u001b[23m, `was political` \u001b[3m\u001b[90m<chr>\u001b[90m\u001b[23m, wealth.type \u001b[3m\u001b[90m<chr>\u001b[90m\u001b[23m, `worth in\u001b[39m\n",
      "\u001b[90m#   billions` \u001b[3m\u001b[90m<dbl>\u001b[90m\u001b[23m, year \u001b[3m\u001b[90m<int>\u001b[90m\u001b[23m\u001b[39m\n"
     ]
    }
   ],
   "source": [
    "filter(bil, age<10) %>% arrange(age) %>% print"
   ]
  },
  {
   "cell_type": "markdown",
   "metadata": {},
   "source": [
    "These represent missing data where we **do not know** the person's age. Here `-1` can not be a valid entry of ages, according to common sense. Unfortunately, `R` does not have human common sense.  We'll translate this for `R` by *recoding* all values of -1 to `NA`."
   ]
  },
  {
   "cell_type": "code",
   "execution_count": 13,
   "metadata": {},
   "outputs": [],
   "source": [
    "bil <- mutate(bil, age = na_if(age,-1))"
   ]
  },
  {
   "cell_type": "markdown",
   "metadata": {},
   "source": [
    "The `na_if(a,b)` function as setting `a` to be equal to `NA` if `a==b`."
   ]
  },
  {
   "cell_type": "markdown",
   "metadata": {},
   "source": [
    "A good way to get a sense of typical values is by looking at percentiles. The $p$th percentile of a column is the number $x$ for which $p$% of the values are less than or equal to $x$. The best known example is the *median*: half the values are below the median."
   ]
  },
  {
   "cell_type": "code",
   "execution_count": 14,
   "metadata": {},
   "outputs": [
    {
     "data": {
      "text/html": [
       "<style>\n",
       ".dl-inline {width: auto; margin:0; padding: 0}\n",
       ".dl-inline>dt, .dl-inline>dd {float: none; width: auto; display: inline-block}\n",
       ".dl-inline>dt::after {content: \":\\0020\"; padding-right: .5ex}\n",
       ".dl-inline>dt:not(:first-of-type) {padding-left: .5ex}\n",
       "</style><dl class=dl-inline><dt>2.5%</dt><dd>37</dd><dt>50%</dt><dd>62</dd><dt>97.5%</dt><dd>88</dd></dl>\n"
      ],
      "text/latex": [
       "\\begin{description*}\n",
       "\\item[2.5\\textbackslash{}\\%] 37\n",
       "\\item[50\\textbackslash{}\\%] 62\n",
       "\\item[97.5\\textbackslash{}\\%] 88\n",
       "\\end{description*}\n"
      ],
      "text/markdown": [
       "2.5%\n",
       ":   3750%\n",
       ":   6297.5%\n",
       ":   88\n",
       "\n"
      ],
      "text/plain": [
       " 2.5%   50% 97.5% \n",
       "   37    62    88 "
      ]
     },
     "metadata": {},
     "output_type": "display_data"
    }
   ],
   "source": [
    "(q <- quantile(bil$age, probs=c(0.025, 0.5, 0.975), na.rm=T))"
   ]
  },
  {
   "cell_type": "markdown",
   "metadata": {},
   "source": [
    "This tells us that 98% of the billionaires are between 32 and 90. Let us redo the visualization with extreme values filtered out."
   ]
  },
  {
   "cell_type": "code",
   "execution_count": 15,
   "metadata": {},
   "outputs": [
    {
     "data": {
      "image/png": "[encoded data removed]",
      "text/plain": [
       "plot without title"
      ]
     },
     "metadata": {
      "image/png": {
       "height": 420,
       "width": 420
      }
     },
     "output_type": "display_data"
    }
   ],
   "source": [
    "bil %>% filter(between(age,37,88)) %>%\n",
    "    ggplot + \n",
    "    geom_histogram(mapping = aes(x=age),\n",
    "                  binwidth=2)"
   ]
  }
 ],
 "metadata": {
  "kernelspec": {
   "display_name": "R",
   "language": "R",
   "name": "ir"
  },
  "language_info": {
   "codemirror_mode": "r",
   "file_extension": ".r",
   "mimetype": "text/x-r-source",
   "name": "R",
   "pygments_lexer": "r",
   "version": "4.0.3"
  },
  "latex_envs": {
   "LaTeX_envs_menu_present": true,
   "autoclose": false,
   "autocomplete": true,
   "bibliofile": "biblio.bib",
   "cite_by": "apalike",
   "current_citInitial": 1,
   "eqLabelWithNumbers": true,
   "eqNumInitial": 1,
   "hotkeys": {
    "equation": "Ctrl-E",
    "itemize": "Ctrl-I"
   },
   "labels_anchors": false,
   "latex_user_defs": false,
   "report_style_numbering": false,
   "user_envs_cfg": false
  }
 },
 "nbformat": 4,
 "nbformat_minor": 1
}
