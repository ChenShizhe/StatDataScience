{
 "cells": [
  {
   "cell_type": "markdown",
   "metadata": {},
   "source": [
    "# Appendix D Simulation \n"
   ]
  },
  {
   "cell_type": "markdown",
   "metadata": {},
   "source": [
    "## D.3 Examples: Coverage of confidence intervals \n",
    "\n",
    "One of the most confusing concepts for beginners in statistics is the confidence interval. The *correct* interpretation of a $100(1-\\alpha)\\%$ confidence interval is that: \n",
    "> the procedure to construct the confidence interval will produce confidence intervals that cover the true parameter $100(1-\\alpha)\\%$ of the times upon drawing a new set of samples from the same population. \n",
    "\n",
    "This is hard to comprehend for anyone who does not know the idea of sampling distribution. However, with simulation, we can verify this statement on our own."
   ]
  },
  {
   "cell_type": "markdown",
   "metadata": {},
   "source": [
    "We will simulate data from a linear regression model \n",
    "\\[\n",
    "y = x \\beta_1+\\beta_0 + \\epsilon,\n",
    "\\]\n",
    "where $\\epsilon$ follows a uniform distribution in $[0,5]$. The covariate $x$ will be drawn from a normal distribution with mean 10 and variance 4. "
   ]
  },
  {
   "cell_type": "code",
   "execution_count": 4,
   "metadata": {},
   "outputs": [],
   "source": [
    "set.seed(1)\n",
    "n=50;\n",
    "x=rnorm(n,mean=10,sd=2);\n",
    "beta.true=c(20,0.15);\n",
    "Ey = x*beta.true[2]+beta.true[1];\n",
    "error.terms=rnorm(n)*5;\n",
    "y=Ey+error.terms;\n"
   ]
  },
  {
   "cell_type": "markdown",
   "metadata": {},
   "source": [
    "We can use `lm()` and `confint()` in `R` to fit a linear regression and obtain the confidence intervals for $\\beta_1$ and $\\beta_0$. "
   ]
  },
  {
   "cell_type": "code",
   "execution_count": 7,
   "metadata": {
    "scrolled": true
   },
   "outputs": [
    {
     "data": {
      "text/html": [
       "<table>\n",
       "<caption>A matrix: 2 × 2 of type dbl</caption>\n",
       "<thead>\n",
       "\t<tr><th></th><th scope=col>1.25 %</th><th scope=col>98.75 %</th></tr>\n",
       "</thead>\n",
       "<tbody>\n",
       "\t<tr><th scope=row>(Intercept)</th><td>11.702252</td><td>31.794191</td></tr>\n",
       "\t<tr><th scope=row>x</th><td>-0.936107</td><td> 1.008364</td></tr>\n",
       "</tbody>\n",
       "</table>\n"
      ],
      "text/latex": [
       "A matrix: 2 × 2 of type dbl\n",
       "\\begin{tabular}{r|ll}\n",
       "  & 1.25 \\% & 98.75 \\%\\\\\n",
       "\\hline\n",
       "\t(Intercept) & 11.702252 & 31.794191\\\\\n",
       "\tx & -0.936107 &  1.008364\\\\\n",
       "\\end{tabular}\n"
      ],
      "text/markdown": [
       "\n",
       "A matrix: 2 × 2 of type dbl\n",
       "\n",
       "| <!--/--> | 1.25 % | 98.75 % |\n",
       "|---|---|---|\n",
       "| (Intercept) | 11.702252 | 31.794191 |\n",
       "| x | -0.936107 |  1.008364 |\n",
       "\n"
      ],
      "text/plain": [
       "            1.25 %    98.75 %  \n",
       "(Intercept) 11.702252 31.794191\n",
       "x           -0.936107  1.008364"
      ]
     },
     "metadata": {},
     "output_type": "display_data"
    }
   ],
   "source": [
    "fit.lm=lm(y~x+1)\n",
    "alpha=0.025;\n",
    "(CIs<-confint(fit.lm,level=1-alpha))"
   ]
  },
  {
   "cell_type": "markdown",
   "metadata": {},
   "source": [
    "In the previous code, we (i) simulate data from a linear regression model and (ii) construct the confidence intervals for the unknown $\\beta$s. We have thus simulated one instance from the scenario in consideration. We shall wrap up the code into a function, and use `replicate()` in `R` to simulate many more instances. "
   ]
  },
  {
   "cell_type": "code",
   "execution_count": null,
   "metadata": {},
   "outputs": [],
   "source": [
    "set.seed(1)\n",
    "n=50;\n",
    "x=rnorm(n,mean=10,sd=2);\n",
    "beta.true=c(20,0.15);\n",
    "alpha=0.025;\n",
    "\n",
    "simulate.one.instance<-function(x,beta.true,alpha){\n",
    "    Ey = x*beta.true[2]+beta.true[1];\n",
    "    n=length(x);\n",
    "    error.terms=rnorm(n)*5;\n",
    "    y=Ey+error.terms;\n",
    "    fit.lm=lm(y~x+1)\n",
    "    (CIs<-confint(fit.lm,level=1-alpha))\n",
    "    return(CIs)\n",
    "}\n"
   ]
  },
  {
   "cell_type": "code",
   "execution_count": null,
   "metadata": {},
   "outputs": [],
   "source": []
  },
  {
   "cell_type": "code",
   "execution_count": null,
   "metadata": {},
   "outputs": [],
   "source": []
  },
  {
   "cell_type": "markdown",
   "metadata": {},
   "source": [
    "Now to visualize the simulation results."
   ]
  },
  {
   "cell_type": "code",
   "execution_count": null,
   "metadata": {},
   "outputs": [],
   "source": []
  }
 ],
 "metadata": {
  "kernelspec": {
   "display_name": "R",
   "language": "R",
   "name": "ir"
  },
  "language_info": {
   "codemirror_mode": "r",
   "file_extension": ".r",
   "mimetype": "text/x-r-source",
   "name": "R",
   "pygments_lexer": "r",
   "version": "4.0.3"
  },
  "latex_envs": {
   "LaTeX_envs_menu_present": true,
   "autoclose": false,
   "autocomplete": true,
   "bibliofile": "biblio.bib",
   "cite_by": "apalike",
   "current_citInitial": 1,
   "eqLabelWithNumbers": true,
   "eqNumInitial": 1,
   "hotkeys": {
    "equation": "Ctrl-E",
    "itemize": "Ctrl-I"
   },
   "labels_anchors": false,
   "latex_user_defs": false,
   "report_style_numbering": false,
   "user_envs_cfg": false
  }
 },
 "nbformat": 4,
 "nbformat_minor": 1
}
