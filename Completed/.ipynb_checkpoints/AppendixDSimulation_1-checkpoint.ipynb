{
 "cells": [
  {
   "cell_type": "markdown",
   "metadata": {},
   "source": [
    "# Appendix D Simulation \n"
   ]
  },
  {
   "cell_type": "markdown",
   "metadata": {},
   "source": [
    "Simulation is one crucial tool for modern statisticians that is often underutilized for beginners. With personal computing devices, we can easily simulate data to explore possible scenarios and verify our hypotheses. When learning statistics, it is wise to write simulations to understand new statistical procedures or concepts. \n",
    "\n",
    "As a programming language created for statistics analysis, `R` makes simulation easy and straight-forward. We will visit basics of simulations in this chapter. "
   ]
  },
  {
   "cell_type": "markdown",
   "metadata": {},
   "source": [
    "## D.1 Random number generation \n",
    "\n",
    "The building block of simulation is *random number generation*. Wikipedia describes that \"RNG is a process which, through a device, generates a sequence of numbers or symbols that cannot be reasonably predicted better than by a random chance\" ([link](https://en.wikipedia.org/wiki/Random_number_generation)). \n",
    "\n",
    "In practice, however, \"true\" randomness is infeasible and unnecessary for most tasks. Instead, most programming languages employ *pseudorandom number generation*. Briefly, a pseudorandom number generator draw  numbers following *deterministic* algorithms that approximate a truly random sequence. For instance, we can draw pseudorandom integers from 0 to 9 by reporting the digits of $\\pi$ --- an irrational number whose decimal expansion never repeats or terminates. More about pseudorandom number generator can be found, e.g., [here](https://en.wikipedia.org/wiki/Pseudorandom_number_generator). \n",
    "\n",
    "In `R`, we almost always mean pseudorandom number generation when we say to draw a random variable. Since pseudorandom number generation use deterministic algorithms, we should expect an identical sequence if we assign identical initial conditions for the pseudorandom number generator (*randomseed*). Indeed, the identity provides the base for reproducibility of simulations.  \n"
   ]
  },
  {
   "cell_type": "code",
   "execution_count": 3,
   "metadata": {},
   "outputs": [
    {
     "data": {
      "text/html": [
       "'141592653589793238462643383279502884197169399375105820974944592307816406286208998628034825342117067982148086513282306647093844609550582231725359408128481'"
      ],
      "text/latex": [
       "'141592653589793238462643383279502884197169399375105820974944592307816406286208998628034825342117067982148086513282306647093844609550582231725359408128481'"
      ],
      "text/markdown": [
       "'141592653589793238462643383279502884197169399375105820974944592307816406286208998628034825342117067982148086513282306647093844609550582231725359408128481'"
      ],
      "text/plain": [
       "[1] \"141592653589793238462643383279502884197169399375105820974944592307816406286208998628034825342117067982148086513282306647093844609550582231725359408128481\""
      ]
     },
     "metadata": {},
     "output_type": "display_data"
    }
   ],
   "source": [
    "# pi\n",
    "# Pseudorandom number generator based on pi:\n",
    "# From http://www.geom.uiuc.edu/~huberty/math5337/groupe/digits.html\n",
    "# Take the digits after the decimal point\n",
    "pi_more = c(\"141592653589793238462643383279502884197169399375105820974944592307816406286208998628034825342117067982148086513282306647093844609550582231725359408128481\")\n",
    "pi_more"
   ]
  },
  {
   "cell_type": "code",
   "execution_count": 12,
   "metadata": {},
   "outputs": [
    {
     "data": {
      "text/html": [
       "'double'"
      ],
      "text/latex": [
       "'double'"
      ],
      "text/markdown": [
       "'double'"
      ],
      "text/plain": [
       "[1] \"double\""
      ]
     },
     "metadata": {},
     "output_type": "display_data"
    },
    {
     "data": {
      "text/html": [
       "153"
      ],
      "text/latex": [
       "153"
      ],
      "text/markdown": [
       "153"
      ],
      "text/plain": [
       "[1] 153"
      ]
     },
     "metadata": {},
     "output_type": "display_data"
    },
    {
     "data": {
      "image/png": "[encoded data removed]",
      "text/plain": [
       "Plot with title \"Histogram of tmp\""
      ]
     },
     "metadata": {
      "image/png": {
       "height": 420,
       "width": 420
      }
     },
     "output_type": "display_data"
    }
   ],
   "source": [
    "tmp<-as.numeric(unlist(strsplit(pi_more, \"\")))\n",
    "typeof(tmp[1])\n",
    "length(tmp)\n",
    "hist(tmp)"
   ]
  },
  {
   "cell_type": "markdown",
   "metadata": {},
   "source": [
    "We can write a function to draw a sequence of random integers (0 to 9) using the digits of $\\pi$. This function takes two arguments, `n` for the number of variables and `seed` to determine which digit to start with. "
   ]
  },
  {
   "cell_type": "code",
   "execution_count": 45,
   "metadata": {},
   "outputs": [],
   "source": [
    "rpi<-function(n, seed=NULL){\n",
    "    pi_more = c(\"141592653589793238462643383279502884197169399375105820974944592307816406286208998628034825342117067982148086513282306647093844609550582231725359408128481\")\n",
    "    pi_digits<-as.numeric(unlist(strsplit(pi_more, \"\")))\n",
    "    if( is.null(seed)){\n",
    "        seed = (100*proc.time()[3])%%100;    \n",
    "    }\n",
    "    return(pi_digits[seed+(1:n)])\n",
    "}"
   ]
  },
  {
   "cell_type": "code",
   "execution_count": 62,
   "metadata": {
    "scrolled": false
   },
   "outputs": [
    {
     "data": {
      "text/html": [
       "<style>\n",
       ".list-inline {list-style: none; margin:0; padding: 0}\n",
       ".list-inline>li {display: inline-block}\n",
       ".list-inline>li:not(:last-child)::after {content: \"\\00b7\"; padding: 0 .5ex}\n",
       "</style>\n",
       "<ol class=list-inline><li>9</li><li>9</li><li>3</li><li>7</li><li>5</li></ol>\n"
      ],
      "text/latex": [
       "\\begin{enumerate*}\n",
       "\\item 9\n",
       "\\item 9\n",
       "\\item 3\n",
       "\\item 7\n",
       "\\item 5\n",
       "\\end{enumerate*}\n"
      ],
      "text/markdown": [
       "1. 9\n",
       "2. 9\n",
       "3. 3\n",
       "4. 7\n",
       "5. 5\n",
       "\n",
       "\n"
      ],
      "text/plain": [
       "[1] 9 9 3 7 5"
      ]
     },
     "metadata": {},
     "output_type": "display_data"
    },
    {
     "data": {
      "text/html": [
       "<style>\n",
       ".list-inline {list-style: none; margin:0; padding: 0}\n",
       ".list-inline>li {display: inline-block}\n",
       ".list-inline>li:not(:last-child)::after {content: \"\\00b7\"; padding: 0 .5ex}\n",
       "</style>\n",
       "<ol class=list-inline><li>8</li><li>9</li><li>7</li><li>9</li><li>3</li></ol>\n"
      ],
      "text/latex": [
       "\\begin{enumerate*}\n",
       "\\item 8\n",
       "\\item 9\n",
       "\\item 7\n",
       "\\item 9\n",
       "\\item 3\n",
       "\\end{enumerate*}\n"
      ],
      "text/markdown": [
       "1. 8\n",
       "2. 9\n",
       "3. 7\n",
       "4. 9\n",
       "5. 3\n",
       "\n",
       "\n"
      ],
      "text/plain": [
       "[1] 8 9 7 9 3"
      ]
     },
     "metadata": {},
     "output_type": "display_data"
    }
   ],
   "source": [
    "rpi(5)\n",
    "rpi(5,seed=10)"
   ]
  }
 ],
 "metadata": {
  "kernelspec": {
   "display_name": "R",
   "language": "R",
   "name": "ir"
  },
  "language_info": {
   "codemirror_mode": "r",
   "file_extension": ".r",
   "mimetype": "text/x-r-source",
   "name": "R",
   "pygments_lexer": "r",
   "version": "4.0.3"
  },
  "latex_envs": {
   "LaTeX_envs_menu_present": true,
   "autoclose": false,
   "autocomplete": true,
   "bibliofile": "biblio.bib",
   "cite_by": "apalike",
   "current_citInitial": 1,
   "eqLabelWithNumbers": true,
   "eqNumInitial": 1,
   "hotkeys": {
    "equation": "Ctrl-E",
    "itemize": "Ctrl-I"
   },
   "labels_anchors": false,
   "latex_user_defs": false,
   "report_style_numbering": false,
   "user_envs_cfg": false
  }
 },
 "nbformat": 4,
 "nbformat_minor": 1
}
