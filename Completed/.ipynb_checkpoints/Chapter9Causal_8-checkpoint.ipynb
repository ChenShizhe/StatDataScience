{
 "cells": [
  {
   "cell_type": "markdown",
   "metadata": {},
   "source": [
    "## 9.5 Propensity scores"
   ]
  },
  {
   "cell_type": "markdown",
   "metadata": {},
   "source": [
    "### 9.5.1 Definition\n",
    "\n",
    "\n",
    "The key of the potential outcome framework is its separation of the science, i.e. ${\\rm pr}(Y_i(1), Y_i(0) | X_i)$ and the treatment assignment mechanism  \n",
    "\\[\n",
    "e(X_1, Y_i(1), Y_i(0)) \\equiv {\\rm pr}(Z_i=1 | X_i, Y_i(1), Y_i(0)). \n",
    "\\]\n",
    "Under the ignorability assumption, the treatment assignment mechanism $e(X_i)={\\rm pr}(Z_i=1 | X_i)$. This is known as the **propensity score** by Rosenbaum and Rubin (1983). \n",
    "\n",
    "**Theorem** (Propensity score as a dimension reduction tool) Assume that \n",
    "1. $\\{X_i, Y_i(1), Y_i(0), Z_i\\}_{i=1}^n$ are i.i.d. \n",
    "2. $Z_i \\perp \\{Y_i(1), Y_i(0)\\} | X_i$,\n",
    "3. $\\eta \\leq e(X_i) \\leq 1- \\eta$ for some positive $\\eta$. \n",
    "\n",
    "Then $Z_i \\perp \\{Y_i(1), Y_i(0)\\} | e(X_i)$. \n",
    "\n",
    "**Proof** Just need to show that.\n",
    "\\[\n",
    "{\\rm pr}\\{Z=1 | Y(1), Y(0), e(X) \\} = {\\rm pr}\\{ Z=1 | e(X)\\}.\n",
    "\\]\n",
    "\n",
    "The left-hand side satisfies that \n",
    "\\begin{align}\n",
    "{\\rm LHS} \\ & = \\mathbb{E}[Z| Y(1), Y(0), e(X)] \\\\\n",
    "& = \\mathbb{E}[ \\mathbb{E}[Z| Y(1), Y(0), e(X), X] | Y(1), Y(0), e(X)] \\\\\n",
    "& = \\mathbb{E}[e(X)| Y(1), Y(0), e(X)] =e(X),\n",
    "\\end{align}\n",
    "where the third equality holds because \n",
    "\\begin{align}\n",
    "& \\mathbb{E}[Z| Y(1), Y(0), e(X), X] \\\\\n",
    "= & \\mathbb{E}[Z| Y(1), Y(0), X] \\ \\ \\ ({\\rm redundancy \\ of }\\ e(X) \\ \\ {\\rm given} \\ X)\\\\\n",
    "= & \\mathbb{E}[Z|  X] \\ \\ \\  {\\rm (Ignorability)} \\\\\n",
    "= & {\\rm pr}(Z=1|X)=e(X).\n",
    "\\end{align}\n",
    "\n",
    "Furthermore, we have \n",
    "\\begin{align}\n",
    "{\\rm RHS} \\ & = \\mathbb{E}[Z|e(X)] = \\mathbb{E}\\big[ \\mathbb{E}[Z|e(X), X ] \\mid e(X) \\big]\\\\\n",
    "& = \\mathbb{E}[e(X)|e(X)]=e(X),\n",
    "\\end{align}\n",
    "where the third equality holds since \n",
    "\\[\n",
    "\\mathbb{E}[Z|e(X), X ]= \\mathbb{E}[Z|X]={\\rm pr}(Z=1|X) =e(X). \n",
    "\\]\n",
    "\n",
    "**Take-aways** \n",
    "\n",
    "Simple case: $e(X) \\in \\{ e_1, e_2, \\ldots, e_K\\}$. Just do stratified analysis! \n",
    "\n",
    "Problem: (1) $e(X)$ usually takes continuous values; (2) $e(\\cdot)$ is unknown. \n",
    "\n",
    "General case: (1) Estimate $e(X_i)$ with logistic regression; (2) Discretize $\\hat{e}(X_i)$ with cutoffs.\n",
    "\n",
    "Problems: (1) Small $K$ leads to bias; Large $K$ leads to no overlap with strata. So how to choose $K$? \n",
    "(2) $\\hat{e}(X)$ is estimated. \n"
   ]
  }
 ],
 "metadata": {
  "kernelspec": {
   "display_name": "R",
   "language": "R",
   "name": "ir"
  },
  "language_info": {
   "codemirror_mode": "r",
   "file_extension": ".r",
   "mimetype": "text/x-r-source",
   "name": "R",
   "pygments_lexer": "r",
   "version": "4.0.3"
  },
  "latex_envs": {
   "LaTeX_envs_menu_present": true,
   "autoclose": false,
   "autocomplete": true,
   "bibliofile": "biblio.bib",
   "cite_by": "apalike",
   "current_citInitial": 1,
   "eqLabelWithNumbers": true,
   "eqNumInitial": 1,
   "hotkeys": {
    "equation": "Ctrl-E",
    "itemize": "Ctrl-I"
   },
   "labels_anchors": false,
   "latex_user_defs": false,
   "report_style_numbering": false,
   "user_envs_cfg": false
  }
 },
 "nbformat": 4,
 "nbformat_minor": 2
}
