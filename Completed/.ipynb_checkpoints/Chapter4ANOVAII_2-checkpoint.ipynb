{
 "cells": [
  {
   "cell_type": "markdown",
   "metadata": {},
   "source": [
    "# Chapter 4 Analysis of Variance\n",
    "     "
   ]
  },
  {
   "cell_type": "markdown",
   "metadata": {},
   "source": [
    "## 4.2 Two-way ANOVA"
   ]
  },
  {
   "cell_type": "markdown",
   "metadata": {},
   "source": [
    "\n",
    "### 4.2.2 Constraints on parameters\n",
    "\n",
    "In the two-way model, the mapping between the cell means form and the factor effects form is slightly more complicated that that in the one-way case. We consider the balanced design here for simplicity. \n",
    "\n",
    "The cell means $\\{\\mu_{ij}: i =1,\\ldots, a, j=1,\\ldots, b\\}$ are naturally defined as the population mean (or expectation) within each cell determined by one unique combination of two factors. We proceed to define the factor effects using the cell means. \n",
    "\n",
    "We first look at the over mean $\\mu_{\\cdot \\cdot}$  \n",
    "\\[\n",
    "\\mu_{\\cdot \\cdot} =\\sum_{i=1}^a \\sum_{j=1}^ b \\mu_{ij}/(ab), \\ \\mu_{i\\cdot} = \\sum_{j=1}^b \\mu_{ij} /b, \\ \\mu_{\\cdot j}=\\sum_{i=1}^a \\mu_{ij}/a.\n",
    "\\]\n",
    "We can then define the factor effects as \n",
    "\\[\n",
    "\\alpha_i=\\mu_{i\\cdot} - \\mu_{\\cdot \\cdot},\\ \\beta_j=\\mu_{\\cdot j}-\\mu_{\\cdot\\cdot},\\ (\\alpha\\beta)_{ij} =\\mu_{ij}-\\mu_{i\\cdot}-\\mu_{\\cdot j}+\\mu_{\\cdot\\cdot}. \n",
    "\\]\n",
    "From these definitions, we can show that there are  natural constraints on these effects \n",
    "\\begin{align}\n",
    "\\sum \\alpha_i & = \\sum \\beta_j=0\\\\\n",
    "\\sum_{i=1}^a (\\alpha\\beta)_{ij} & =\\sum_{j=1}^b (\\alpha\\beta)_{ij} =0\n",
    "\\end{align}\n",
    "\n",
    "We can now write down the factor effects form with constraints \n",
    "\\[\n",
    "Y_{ijk} = \\mu_{\\cdot\\cdot} + \\alpha_i+\\beta_j + (\\alpha\\beta)_{ij}+\\epsilon_{ijk}, \\ k=1,\\ldots, n, j=1,\\ldots, b, i=1,\\ldots, a,\n",
    "\\]\n",
    "where $\\{\\epsilon_{ijk}\\}$ are i.i.d. $N(0,\\sigma^2)$ and \n",
    "\\begin{align}\n",
    "\\sum \\alpha_i & = \\sum \\beta_j=0\\\\\n",
    "\\sum_{i=1}^a (\\alpha\\beta)_{ij} & =\\sum_{j=1}^b (\\alpha\\beta)_{ij} =0\n",
    "\\end{align}\n",
    "\n",
    "Very often you may see an additive model $Y_{ijk} = \\mu_{\\cdot\\cdot} + \\alpha_i+\\beta_j + \\epsilon_{ijk}$, where the interactions $\\{(\\alpha\\beta)_{ij}\\}$ are dropped. Dropping the interaction terms reduces the number of unknown parameters to estimate, which improves efficiency if the reduced model does not fall too far away from the truth. However, a reduced model places additional assumptions which may not be true in the real world. In practice, we need to carefully decide the form of model based on, but not limited to, background, questions of interest, prior knowledge, exploratory analysis, etc. "
   ]
  }
 ],
 "metadata": {
  "author": "mes ",
  "kernelspec": {
   "display_name": "R",
   "language": "R",
   "name": "ir"
  },
  "language_info": {
   "codemirror_mode": "r",
   "file_extension": ".r",
   "mimetype": "text/x-r-source",
   "name": "R",
   "pygments_lexer": "r",
   "version": "4.0.3"
  },
  "latex_envs": {
   "LaTeX_envs_menu_present": true,
   "autoclose": false,
   "autocomplete": true,
   "bibliofile": "biblio.bib",
   "cite_by": "apalike",
   "current_citInitial": 1,
   "eqLabelWithNumbers": true,
   "eqNumInitial": 1,
   "hotkeys": {
    "equation": "Ctrl-E",
    "itemize": "Ctrl-I"
   },
   "labels_anchors": false,
   "latex_user_defs": false,
   "report_style_numbering": false,
   "user_envs_cfg": false
  }
 },
 "nbformat": 4,
 "nbformat_minor": 2
}
