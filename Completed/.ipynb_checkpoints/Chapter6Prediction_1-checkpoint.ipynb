{
 "cells": [
  {
   "cell_type": "markdown",
   "metadata": {},
   "source": [
    "# Chapter 6 Prediction\n"
   ]
  },
  {
   "cell_type": "markdown",
   "metadata": {},
   "source": [
    "## 6.1 General Prediction Framework\n",
    "\n",
    "Suppose that we are interested in predicting an <span style=\"color:red\"> outcome, $y$,</span> using a set of features ${\\bf  x}= (x_1, x_2, \\ldots, x_p)^T$. In other words, we want to learn a function $f\\left({\\bf x},\\boldsymbol{\\beta}\\right)$ that predicts $y$, where the function $f$ is indexed by a vector of parameters $\\boldsymbol{\\beta} \\equiv \\left(\\beta_1,\\ldots, \\beta_p\\right)$. The hope is that, for any new observation ${\\bf x}^*= (x_1^*, x_2^*,\\ldots, x_p^*)^T$, we can predict its outcome $y^*$ with $f({\\bf x}^*,\\boldsymbol{\\beta})$.  To this end, we need to find the **best** $\\boldsymbol{\\beta}$ for predicting our data. In other words, we search for the vector $\\boldsymbol{\\beta}$ that minimizes $\\mathbb{E}\\left[L\\left(y,  f\\left({\\bf x},\\boldsymbol{\\beta}\\right) \\right)\\right]$, where $L(\\cdot,\\cdot)$ is the loss function or criterion of interest. "
   ]
  },
  {
   "cell_type": "markdown",
   "metadata": {},
   "source": [
    "We can summarize the framework of a general prediction problem as follows. \n",
    "\n",
    "\n",
    "1. Obtain a data set $\\{(y_i,{\\bf x}_i)\\}_{i=1}^n$.\n",
    "2. Choose a criterion $L(y, \\hat{y})$ between the outcome and its predictor.\n",
    "3. Choose a model $\\hat{y}=f({\\bf x},\\boldsymbol{\\beta})$ to produce the prediction. \n",
    "4. Find the $\\hat{\\boldsymbol{\\beta}}$ that optimizes the criterion.\n",
    "5. For any given new observations ${\\bf x}^*$, predict its outcome with $f({\\bf x}^*,\\hat{\\boldsymbol{\\beta}})$."
   ]
  },
  {
   "cell_type": "markdown",
   "metadata": {},
   "source": [
    "There are many moving pieces in this framework, in particular, one needs to choose the criterion $L$ and the model $f$. We will visit a few classic examples in this chapter. \n",
    "\n",
    "In general, there are lots of candidate methods for building predictive models. There is no best method **overall**, but there often is a best method **for your data**. There are two keys for a method to do well on your data:\n",
    "    \n",
    "- It does not <span style=\"color:red\"> completely</span> miss important structure\n",
    "- It admits a proper amount of <span style=\"color:blue\"> complexity</span> for the <span style=\"color:blue\"> number of observations</span> in your data."
   ]
  }
 ],
 "metadata": {
  "kernelspec": {
   "display_name": "R",
   "language": "R",
   "name": "ir"
  },
  "language_info": {
   "codemirror_mode": "r",
   "file_extension": ".r",
   "mimetype": "text/x-r-source",
   "name": "R",
   "pygments_lexer": "r",
   "version": "4.0.3"
  },
  "latex_envs": {
   "LaTeX_envs_menu_present": true,
   "autoclose": false,
   "autocomplete": true,
   "bibliofile": "biblio.bib",
   "cite_by": "apalike",
   "current_citInitial": 1,
   "eqLabelWithNumbers": true,
   "eqNumInitial": 1,
   "hotkeys": {
    "equation": "Ctrl-E",
    "itemize": "Ctrl-I"
   },
   "labels_anchors": false,
   "latex_user_defs": false,
   "report_style_numbering": false,
   "user_envs_cfg": false
  }
 },
 "nbformat": 4,
 "nbformat_minor": 2
}
