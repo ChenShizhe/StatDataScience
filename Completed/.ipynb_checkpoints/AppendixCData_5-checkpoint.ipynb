{
 "cells": [
  {
   "cell_type": "markdown",
   "metadata": {},
   "source": [
    "# Appendix C Data \n"
   ]
  },
  {
   "cell_type": "markdown",
   "metadata": {},
   "source": [
    "## C.3 Pipe operator `%>%`\n",
    "\n",
    "\n",
    "Under the hood, `x %>% f(y)` turns into `f(x, y)`, and `x %>% f(y) %>% g(z)` turns into `g(f(x, y), z)` and so on. Functions in `tidyverse` are almost always easy to write and read using `%>%`. But we can use `%>%` on any function, not just those defined in `tidyverse`. Here is an example on printing \"hello world\" using pipe. "
   ]
  },
  {
   "cell_type": "code",
   "execution_count": 4,
   "metadata": {},
   "outputs": [
    {
     "name": "stdout",
     "output_type": "stream",
     "text": [
      "[1] \"hello world\"\n",
      "[1] \"hello world\"\n",
      "[1] \"hello world\"\n"
     ]
    }
   ],
   "source": [
    "library(tidyverse)\n",
    "print(\"hello world\")\n",
    "\"hello world\" %>% print()\n",
    "\"hello world\" %>% print"
   ]
  },
  {
   "cell_type": "markdown",
   "metadata": {},
   "source": [
    "We will now manipulate the `tibble` object with the pipe operator `%>%`. The `dplyr`/`tidyverse` package offers the `mutate()` and `transmute()` commands to add new variables to data tibbles. The syntax is:\n",
    "```{r}\n",
    "<tibble> %>% mutate(<new variable> = <formula for new variable>,  <other new variable> = <other formula>)\n",
    "```\n",
    "This returns a copy of `<tibble>` with the new variables added on. `transmute()` does the same thing as `mutate()` but only keeps the new variables."
   ]
  },
  {
   "cell_type": "markdown",
   "metadata": {},
   "source": [
    "Let us zoom in on a few variables of interest."
   ]
  },
  {
   "cell_type": "code",
   "execution_count": 6,
   "metadata": {},
   "outputs": [
    {
     "data": {
      "text/html": [
       "<table>\n",
       "<caption>A tibble: 6 × 7</caption>\n",
       "<thead>\n",
       "\t<tr><th scope=col>year</th><th scope=col>month</th><th scope=col>day</th><th scope=col>dep_time</th><th scope=col>arr_time</th><th scope=col>origin</th><th scope=col>dest</th></tr>\n",
       "\t<tr><th scope=col>&lt;int&gt;</th><th scope=col>&lt;int&gt;</th><th scope=col>&lt;int&gt;</th><th scope=col>&lt;int&gt;</th><th scope=col>&lt;int&gt;</th><th scope=col>&lt;chr&gt;</th><th scope=col>&lt;chr&gt;</th></tr>\n",
       "</thead>\n",
       "<tbody>\n",
       "\t<tr><td>2013</td><td>1</td><td>1</td><td>517</td><td> 830</td><td>EWR</td><td>IAH</td></tr>\n",
       "\t<tr><td>2013</td><td>1</td><td>1</td><td>533</td><td> 850</td><td>LGA</td><td>IAH</td></tr>\n",
       "\t<tr><td>2013</td><td>1</td><td>1</td><td>542</td><td> 923</td><td>JFK</td><td>MIA</td></tr>\n",
       "\t<tr><td>2013</td><td>1</td><td>1</td><td>544</td><td>1004</td><td>JFK</td><td>BQN</td></tr>\n",
       "\t<tr><td>2013</td><td>1</td><td>1</td><td>554</td><td> 812</td><td>LGA</td><td>ATL</td></tr>\n",
       "\t<tr><td>2013</td><td>1</td><td>1</td><td>554</td><td> 740</td><td>EWR</td><td>ORD</td></tr>\n",
       "</tbody>\n",
       "</table>\n"
      ],
      "text/latex": [
       "A tibble: 6 × 7\n",
       "\\begin{tabular}{lllllll}\n",
       " year & month & day & dep\\_time & arr\\_time & origin & dest\\\\\n",
       " <int> & <int> & <int> & <int> & <int> & <chr> & <chr>\\\\\n",
       "\\hline\n",
       "\t 2013 & 1 & 1 & 517 &  830 & EWR & IAH\\\\\n",
       "\t 2013 & 1 & 1 & 533 &  850 & LGA & IAH\\\\\n",
       "\t 2013 & 1 & 1 & 542 &  923 & JFK & MIA\\\\\n",
       "\t 2013 & 1 & 1 & 544 & 1004 & JFK & BQN\\\\\n",
       "\t 2013 & 1 & 1 & 554 &  812 & LGA & ATL\\\\\n",
       "\t 2013 & 1 & 1 & 554 &  740 & EWR & ORD\\\\\n",
       "\\end{tabular}\n"
      ],
      "text/markdown": [
       "\n",
       "A tibble: 6 × 7\n",
       "\n",
       "| year &lt;int&gt; | month &lt;int&gt; | day &lt;int&gt; | dep_time &lt;int&gt; | arr_time &lt;int&gt; | origin &lt;chr&gt; | dest &lt;chr&gt; |\n",
       "|---|---|---|---|---|---|---|\n",
       "| 2013 | 1 | 1 | 517 |  830 | EWR | IAH |\n",
       "| 2013 | 1 | 1 | 533 |  850 | LGA | IAH |\n",
       "| 2013 | 1 | 1 | 542 |  923 | JFK | MIA |\n",
       "| 2013 | 1 | 1 | 544 | 1004 | JFK | BQN |\n",
       "| 2013 | 1 | 1 | 554 |  812 | LGA | ATL |\n",
       "| 2013 | 1 | 1 | 554 |  740 | EWR | ORD |\n",
       "\n"
      ],
      "text/plain": [
       "  year month day dep_time arr_time origin dest\n",
       "1 2013 1     1   517       830     EWR    IAH \n",
       "2 2013 1     1   533       850     LGA    IAH \n",
       "3 2013 1     1   542       923     JFK    MIA \n",
       "4 2013 1     1   544      1004     JFK    BQN \n",
       "5 2013 1     1   554       812     LGA    ATL \n",
       "6 2013 1     1   554       740     EWR    ORD "
      ]
     },
     "metadata": {},
     "output_type": "display_data"
    }
   ],
   "source": [
    "library(nycflights13)\n",
    "sub_flights <- select(flights, year:day, dep_time, arr_time, origin, dest)\n",
    "head(sub_flights)"
   ]
  },
  {
   "cell_type": "markdown",
   "metadata": {},
   "source": [
    "Use `%>%` to create the table above. "
   ]
  },
  {
   "cell_type": "code",
   "execution_count": 7,
   "metadata": {},
   "outputs": [
    {
     "data": {
      "text/html": [
       "<table>\n",
       "<caption>A tibble: 6 × 7</caption>\n",
       "<thead>\n",
       "\t<tr><th scope=col>year</th><th scope=col>month</th><th scope=col>day</th><th scope=col>dep_time</th><th scope=col>arr_time</th><th scope=col>origin</th><th scope=col>dest</th></tr>\n",
       "\t<tr><th scope=col>&lt;int&gt;</th><th scope=col>&lt;int&gt;</th><th scope=col>&lt;int&gt;</th><th scope=col>&lt;int&gt;</th><th scope=col>&lt;int&gt;</th><th scope=col>&lt;chr&gt;</th><th scope=col>&lt;chr&gt;</th></tr>\n",
       "</thead>\n",
       "<tbody>\n",
       "\t<tr><td>2013</td><td>1</td><td>1</td><td>517</td><td> 830</td><td>EWR</td><td>IAH</td></tr>\n",
       "\t<tr><td>2013</td><td>1</td><td>1</td><td>533</td><td> 850</td><td>LGA</td><td>IAH</td></tr>\n",
       "\t<tr><td>2013</td><td>1</td><td>1</td><td>542</td><td> 923</td><td>JFK</td><td>MIA</td></tr>\n",
       "\t<tr><td>2013</td><td>1</td><td>1</td><td>544</td><td>1004</td><td>JFK</td><td>BQN</td></tr>\n",
       "\t<tr><td>2013</td><td>1</td><td>1</td><td>554</td><td> 812</td><td>LGA</td><td>ATL</td></tr>\n",
       "\t<tr><td>2013</td><td>1</td><td>1</td><td>554</td><td> 740</td><td>EWR</td><td>ORD</td></tr>\n",
       "</tbody>\n",
       "</table>\n"
      ],
      "text/latex": [
       "A tibble: 6 × 7\n",
       "\\begin{tabular}{lllllll}\n",
       " year & month & day & dep\\_time & arr\\_time & origin & dest\\\\\n",
       " <int> & <int> & <int> & <int> & <int> & <chr> & <chr>\\\\\n",
       "\\hline\n",
       "\t 2013 & 1 & 1 & 517 &  830 & EWR & IAH\\\\\n",
       "\t 2013 & 1 & 1 & 533 &  850 & LGA & IAH\\\\\n",
       "\t 2013 & 1 & 1 & 542 &  923 & JFK & MIA\\\\\n",
       "\t 2013 & 1 & 1 & 544 & 1004 & JFK & BQN\\\\\n",
       "\t 2013 & 1 & 1 & 554 &  812 & LGA & ATL\\\\\n",
       "\t 2013 & 1 & 1 & 554 &  740 & EWR & ORD\\\\\n",
       "\\end{tabular}\n"
      ],
      "text/markdown": [
       "\n",
       "A tibble: 6 × 7\n",
       "\n",
       "| year &lt;int&gt; | month &lt;int&gt; | day &lt;int&gt; | dep_time &lt;int&gt; | arr_time &lt;int&gt; | origin &lt;chr&gt; | dest &lt;chr&gt; |\n",
       "|---|---|---|---|---|---|---|\n",
       "| 2013 | 1 | 1 | 517 |  830 | EWR | IAH |\n",
       "| 2013 | 1 | 1 | 533 |  850 | LGA | IAH |\n",
       "| 2013 | 1 | 1 | 542 |  923 | JFK | MIA |\n",
       "| 2013 | 1 | 1 | 544 | 1004 | JFK | BQN |\n",
       "| 2013 | 1 | 1 | 554 |  812 | LGA | ATL |\n",
       "| 2013 | 1 | 1 | 554 |  740 | EWR | ORD |\n",
       "\n"
      ],
      "text/plain": [
       "  year month day dep_time arr_time origin dest\n",
       "1 2013 1     1   517       830     EWR    IAH \n",
       "2 2013 1     1   533       850     LGA    IAH \n",
       "3 2013 1     1   542       923     JFK    MIA \n",
       "4 2013 1     1   544      1004     JFK    BQN \n",
       "5 2013 1     1   554       812     LGA    ATL \n",
       "6 2013 1     1   554       740     EWR    ORD "
      ]
     },
     "metadata": {},
     "output_type": "display_data"
    }
   ],
   "source": [
    "flights %>% select(year:day,dep_time, arr_time, origin, dest) %>% head()"
   ]
  },
  {
   "cell_type": "markdown",
   "metadata": {},
   "source": [
    "Additional variable can be added using the `mutate()` function. We already have an `air_time` variable. Let us compute the total time for the flight by subtracting the time of departure `dep_time` from time of arrival `arr_time`."
   ]
  },
  {
   "cell_type": "code",
   "execution_count": 9,
   "metadata": {},
   "outputs": [
    {
     "data": {
      "text/html": [
       "<table>\n",
       "<caption>A tibble: 6 × 8</caption>\n",
       "<thead>\n",
       "\t<tr><th scope=col>year</th><th scope=col>month</th><th scope=col>day</th><th scope=col>dep_time</th><th scope=col>arr_time</th><th scope=col>origin</th><th scope=col>dest</th><th scope=col>total_time</th></tr>\n",
       "\t<tr><th scope=col>&lt;int&gt;</th><th scope=col>&lt;int&gt;</th><th scope=col>&lt;int&gt;</th><th scope=col>&lt;int&gt;</th><th scope=col>&lt;int&gt;</th><th scope=col>&lt;chr&gt;</th><th scope=col>&lt;chr&gt;</th><th scope=col>&lt;int&gt;</th></tr>\n",
       "</thead>\n",
       "<tbody>\n",
       "\t<tr><td>2013</td><td>1</td><td>1</td><td>517</td><td> 830</td><td>EWR</td><td>IAH</td><td>313</td></tr>\n",
       "\t<tr><td>2013</td><td>1</td><td>1</td><td>533</td><td> 850</td><td>LGA</td><td>IAH</td><td>317</td></tr>\n",
       "\t<tr><td>2013</td><td>1</td><td>1</td><td>542</td><td> 923</td><td>JFK</td><td>MIA</td><td>381</td></tr>\n",
       "\t<tr><td>2013</td><td>1</td><td>1</td><td>544</td><td>1004</td><td>JFK</td><td>BQN</td><td>460</td></tr>\n",
       "\t<tr><td>2013</td><td>1</td><td>1</td><td>554</td><td> 812</td><td>LGA</td><td>ATL</td><td>258</td></tr>\n",
       "\t<tr><td>2013</td><td>1</td><td>1</td><td>554</td><td> 740</td><td>EWR</td><td>ORD</td><td>186</td></tr>\n",
       "</tbody>\n",
       "</table>\n"
      ],
      "text/latex": [
       "A tibble: 6 × 8\n",
       "\\begin{tabular}{llllllll}\n",
       " year & month & day & dep\\_time & arr\\_time & origin & dest & total\\_time\\\\\n",
       " <int> & <int> & <int> & <int> & <int> & <chr> & <chr> & <int>\\\\\n",
       "\\hline\n",
       "\t 2013 & 1 & 1 & 517 &  830 & EWR & IAH & 313\\\\\n",
       "\t 2013 & 1 & 1 & 533 &  850 & LGA & IAH & 317\\\\\n",
       "\t 2013 & 1 & 1 & 542 &  923 & JFK & MIA & 381\\\\\n",
       "\t 2013 & 1 & 1 & 544 & 1004 & JFK & BQN & 460\\\\\n",
       "\t 2013 & 1 & 1 & 554 &  812 & LGA & ATL & 258\\\\\n",
       "\t 2013 & 1 & 1 & 554 &  740 & EWR & ORD & 186\\\\\n",
       "\\end{tabular}\n"
      ],
      "text/markdown": [
       "\n",
       "A tibble: 6 × 8\n",
       "\n",
       "| year &lt;int&gt; | month &lt;int&gt; | day &lt;int&gt; | dep_time &lt;int&gt; | arr_time &lt;int&gt; | origin &lt;chr&gt; | dest &lt;chr&gt; | total_time &lt;int&gt; |\n",
       "|---|---|---|---|---|---|---|---|\n",
       "| 2013 | 1 | 1 | 517 |  830 | EWR | IAH | 313 |\n",
       "| 2013 | 1 | 1 | 533 |  850 | LGA | IAH | 317 |\n",
       "| 2013 | 1 | 1 | 542 |  923 | JFK | MIA | 381 |\n",
       "| 2013 | 1 | 1 | 544 | 1004 | JFK | BQN | 460 |\n",
       "| 2013 | 1 | 1 | 554 |  812 | LGA | ATL | 258 |\n",
       "| 2013 | 1 | 1 | 554 |  740 | EWR | ORD | 186 |\n",
       "\n"
      ],
      "text/plain": [
       "  year month day dep_time arr_time origin dest total_time\n",
       "1 2013 1     1   517       830     EWR    IAH  313       \n",
       "2 2013 1     1   533       850     LGA    IAH  317       \n",
       "3 2013 1     1   542       923     JFK    MIA  381       \n",
       "4 2013 1     1   544      1004     JFK    BQN  460       \n",
       "5 2013 1     1   554       812     LGA    ATL  258       \n",
       "6 2013 1     1   554       740     EWR    ORD  186       "
      ]
     },
     "metadata": {},
     "output_type": "display_data"
    }
   ],
   "source": [
    "sub_flights %>% mutate(total_time = arr_time - dep_time) %>% head()"
   ]
  },
  {
   "cell_type": "markdown",
   "metadata": {},
   "source": [
    "Another way to do the same thing is by using `%>%` twice."
   ]
  },
  {
   "cell_type": "code",
   "execution_count": 10,
   "metadata": {},
   "outputs": [
    {
     "data": {
      "text/html": [
       "<table>\n",
       "<caption>A tibble: 6 × 8</caption>\n",
       "<thead>\n",
       "\t<tr><th scope=col>year</th><th scope=col>month</th><th scope=col>day</th><th scope=col>dep_time</th><th scope=col>arr_time</th><th scope=col>origin</th><th scope=col>dest</th><th scope=col>total_time</th></tr>\n",
       "\t<tr><th scope=col>&lt;int&gt;</th><th scope=col>&lt;int&gt;</th><th scope=col>&lt;int&gt;</th><th scope=col>&lt;int&gt;</th><th scope=col>&lt;int&gt;</th><th scope=col>&lt;chr&gt;</th><th scope=col>&lt;chr&gt;</th><th scope=col>&lt;int&gt;</th></tr>\n",
       "</thead>\n",
       "<tbody>\n",
       "\t<tr><td>2013</td><td>1</td><td>1</td><td>517</td><td> 830</td><td>EWR</td><td>IAH</td><td>313</td></tr>\n",
       "\t<tr><td>2013</td><td>1</td><td>1</td><td>533</td><td> 850</td><td>LGA</td><td>IAH</td><td>317</td></tr>\n",
       "\t<tr><td>2013</td><td>1</td><td>1</td><td>542</td><td> 923</td><td>JFK</td><td>MIA</td><td>381</td></tr>\n",
       "\t<tr><td>2013</td><td>1</td><td>1</td><td>544</td><td>1004</td><td>JFK</td><td>BQN</td><td>460</td></tr>\n",
       "\t<tr><td>2013</td><td>1</td><td>1</td><td>554</td><td> 812</td><td>LGA</td><td>ATL</td><td>258</td></tr>\n",
       "\t<tr><td>2013</td><td>1</td><td>1</td><td>554</td><td> 740</td><td>EWR</td><td>ORD</td><td>186</td></tr>\n",
       "</tbody>\n",
       "</table>\n"
      ],
      "text/latex": [
       "A tibble: 6 × 8\n",
       "\\begin{tabular}{llllllll}\n",
       " year & month & day & dep\\_time & arr\\_time & origin & dest & total\\_time\\\\\n",
       " <int> & <int> & <int> & <int> & <int> & <chr> & <chr> & <int>\\\\\n",
       "\\hline\n",
       "\t 2013 & 1 & 1 & 517 &  830 & EWR & IAH & 313\\\\\n",
       "\t 2013 & 1 & 1 & 533 &  850 & LGA & IAH & 317\\\\\n",
       "\t 2013 & 1 & 1 & 542 &  923 & JFK & MIA & 381\\\\\n",
       "\t 2013 & 1 & 1 & 544 & 1004 & JFK & BQN & 460\\\\\n",
       "\t 2013 & 1 & 1 & 554 &  812 & LGA & ATL & 258\\\\\n",
       "\t 2013 & 1 & 1 & 554 &  740 & EWR & ORD & 186\\\\\n",
       "\\end{tabular}\n"
      ],
      "text/markdown": [
       "\n",
       "A tibble: 6 × 8\n",
       "\n",
       "| year &lt;int&gt; | month &lt;int&gt; | day &lt;int&gt; | dep_time &lt;int&gt; | arr_time &lt;int&gt; | origin &lt;chr&gt; | dest &lt;chr&gt; | total_time &lt;int&gt; |\n",
       "|---|---|---|---|---|---|---|---|\n",
       "| 2013 | 1 | 1 | 517 |  830 | EWR | IAH | 313 |\n",
       "| 2013 | 1 | 1 | 533 |  850 | LGA | IAH | 317 |\n",
       "| 2013 | 1 | 1 | 542 |  923 | JFK | MIA | 381 |\n",
       "| 2013 | 1 | 1 | 544 | 1004 | JFK | BQN | 460 |\n",
       "| 2013 | 1 | 1 | 554 |  812 | LGA | ATL | 258 |\n",
       "| 2013 | 1 | 1 | 554 |  740 | EWR | ORD | 186 |\n",
       "\n"
      ],
      "text/plain": [
       "  year month day dep_time arr_time origin dest total_time\n",
       "1 2013 1     1   517       830     EWR    IAH  313       \n",
       "2 2013 1     1   533       850     LGA    IAH  317       \n",
       "3 2013 1     1   542       923     JFK    MIA  381       \n",
       "4 2013 1     1   544      1004     JFK    BQN  460       \n",
       "5 2013 1     1   554       812     LGA    ATL  258       \n",
       "6 2013 1     1   554       740     EWR    ORD  186       "
      ]
     },
     "metadata": {},
     "output_type": "display_data"
    }
   ],
   "source": [
    "flights %>% select(year:day,dep_time, arr_time, origin, dest) %>% mutate(total_time = arr_time - dep_time) %>% head()"
   ]
  },
  {
   "cell_type": "markdown",
   "metadata": {},
   "source": [
    "We notice something odd though. When we subtract 5h 17m from 8h 30m we should get 3h 13m, i.e. 193 minutes. But instead we get 313 minutes below.\n",
    "\n",
    "The issue is that `dep_time` and `arr_time` are in the hour-minute notation, so you cannot add and subtract them like regular numbers. We should first convert these times into the number of minutes elapsed since midnight.\n",
    "\n",
    "We want add to new variables `new_dep` and `new_arr` but we need to write a function first that can do the conversion. The function is given below; we'll learn how it works later in the semester. For now just think of it as a black box that converts times from one format to another."
   ]
  },
  {
   "cell_type": "code",
   "execution_count": 15,
   "metadata": {},
   "outputs": [],
   "source": [
    "hourmin2min<-function(hourmin){\n",
    "    min <- hourmin %% 100; \n",
    "    hour <- (hourmin - min) %/% 100;\n",
    "    return(hour*60+min)\n",
    "}"
   ]
  },
  {
   "cell_type": "code",
   "execution_count": null,
   "metadata": {},
   "outputs": [],
   "source": []
  },
  {
   "cell_type": "markdown",
   "metadata": {},
   "source": [
    "Let us test the function on 530. That's 5h 30min, i.e., 330 minutes since midnight."
   ]
  },
  {
   "cell_type": "code",
   "execution_count": 17,
   "metadata": {},
   "outputs": [
    {
     "data": {
      "text/html": [
       "330"
      ],
      "text/latex": [
       "330"
      ],
      "text/markdown": [
       "330"
      ],
      "text/plain": [
       "[1] 330"
      ]
     },
     "metadata": {},
     "output_type": "display_data"
    },
    {
     "data": {
      "text/html": [
       "330"
      ],
      "text/latex": [
       "330"
      ],
      "text/markdown": [
       "330"
      ],
      "text/plain": [
       "[1] 330"
      ]
     },
     "metadata": {},
     "output_type": "display_data"
    }
   ],
   "source": [
    "hourmin2min(530)\n",
    "5*60+30"
   ]
  },
  {
   "cell_type": "markdown",
   "metadata": {},
   "source": [
    "The `hourmin2min` function is _vectorized_: given a vector, it outputs a vector."
   ]
  },
  {
   "cell_type": "code",
   "execution_count": 18,
   "metadata": {},
   "outputs": [
    {
     "data": {
      "text/html": [
       "<style>\n",
       ".list-inline {list-style: none; margin:0; padding: 0}\n",
       ".list-inline>li {display: inline-block}\n",
       ".list-inline>li:not(:last-child)::after {content: \"\\00b7\"; padding: 0 .5ex}\n",
       "</style>\n",
       "<ol class=list-inline><li>330</li><li>497</li></ol>\n"
      ],
      "text/latex": [
       "\\begin{enumerate*}\n",
       "\\item 330\n",
       "\\item 497\n",
       "\\end{enumerate*}\n"
      ],
      "text/markdown": [
       "1. 330\n",
       "2. 497\n",
       "\n",
       "\n"
      ],
      "text/plain": [
       "[1] 330 497"
      ]
     },
     "metadata": {},
     "output_type": "display_data"
    }
   ],
   "source": [
    "hourmin2min(c(530,817))"
   ]
  },
  {
   "cell_type": "markdown",
   "metadata": {},
   "source": [
    "Let us now create two new variables obtained from `arr_time` and `dep_time` by converting them into minutes since midnight. In the same command, we can also create a new `total_time` column containing their difference."
   ]
  },
  {
   "cell_type": "code",
   "execution_count": 21,
   "metadata": {
    "scrolled": true
   },
   "outputs": [
    {
     "data": {
      "text/html": [
       "<table>\n",
       "<caption>A tibble: 6 × 9</caption>\n",
       "<thead>\n",
       "\t<tr><th scope=col>year</th><th scope=col>month</th><th scope=col>day</th><th scope=col>dep_time</th><th scope=col>arr_time</th><th scope=col>origin</th><th scope=col>dest</th><th scope=col>new_arr</th><th scope=col>new_dep</th></tr>\n",
       "\t<tr><th scope=col>&lt;int&gt;</th><th scope=col>&lt;int&gt;</th><th scope=col>&lt;int&gt;</th><th scope=col>&lt;int&gt;</th><th scope=col>&lt;int&gt;</th><th scope=col>&lt;chr&gt;</th><th scope=col>&lt;chr&gt;</th><th scope=col>&lt;dbl&gt;</th><th scope=col>&lt;dbl&gt;</th></tr>\n",
       "</thead>\n",
       "<tbody>\n",
       "\t<tr><td>2013</td><td>1</td><td>1</td><td>517</td><td> 830</td><td>EWR</td><td>IAH</td><td>510</td><td>317</td></tr>\n",
       "\t<tr><td>2013</td><td>1</td><td>1</td><td>533</td><td> 850</td><td>LGA</td><td>IAH</td><td>530</td><td>333</td></tr>\n",
       "\t<tr><td>2013</td><td>1</td><td>1</td><td>542</td><td> 923</td><td>JFK</td><td>MIA</td><td>563</td><td>342</td></tr>\n",
       "\t<tr><td>2013</td><td>1</td><td>1</td><td>544</td><td>1004</td><td>JFK</td><td>BQN</td><td>604</td><td>344</td></tr>\n",
       "\t<tr><td>2013</td><td>1</td><td>1</td><td>554</td><td> 812</td><td>LGA</td><td>ATL</td><td>492</td><td>354</td></tr>\n",
       "\t<tr><td>2013</td><td>1</td><td>1</td><td>554</td><td> 740</td><td>EWR</td><td>ORD</td><td>460</td><td>354</td></tr>\n",
       "</tbody>\n",
       "</table>\n"
      ],
      "text/latex": [
       "A tibble: 6 × 9\n",
       "\\begin{tabular}{lllllllll}\n",
       " year & month & day & dep\\_time & arr\\_time & origin & dest & new\\_arr & new\\_dep\\\\\n",
       " <int> & <int> & <int> & <int> & <int> & <chr> & <chr> & <dbl> & <dbl>\\\\\n",
       "\\hline\n",
       "\t 2013 & 1 & 1 & 517 &  830 & EWR & IAH & 510 & 317\\\\\n",
       "\t 2013 & 1 & 1 & 533 &  850 & LGA & IAH & 530 & 333\\\\\n",
       "\t 2013 & 1 & 1 & 542 &  923 & JFK & MIA & 563 & 342\\\\\n",
       "\t 2013 & 1 & 1 & 544 & 1004 & JFK & BQN & 604 & 344\\\\\n",
       "\t 2013 & 1 & 1 & 554 &  812 & LGA & ATL & 492 & 354\\\\\n",
       "\t 2013 & 1 & 1 & 554 &  740 & EWR & ORD & 460 & 354\\\\\n",
       "\\end{tabular}\n"
      ],
      "text/markdown": [
       "\n",
       "A tibble: 6 × 9\n",
       "\n",
       "| year &lt;int&gt; | month &lt;int&gt; | day &lt;int&gt; | dep_time &lt;int&gt; | arr_time &lt;int&gt; | origin &lt;chr&gt; | dest &lt;chr&gt; | new_arr &lt;dbl&gt; | new_dep &lt;dbl&gt; |\n",
       "|---|---|---|---|---|---|---|---|---|\n",
       "| 2013 | 1 | 1 | 517 |  830 | EWR | IAH | 510 | 317 |\n",
       "| 2013 | 1 | 1 | 533 |  850 | LGA | IAH | 530 | 333 |\n",
       "| 2013 | 1 | 1 | 542 |  923 | JFK | MIA | 563 | 342 |\n",
       "| 2013 | 1 | 1 | 544 | 1004 | JFK | BQN | 604 | 344 |\n",
       "| 2013 | 1 | 1 | 554 |  812 | LGA | ATL | 492 | 354 |\n",
       "| 2013 | 1 | 1 | 554 |  740 | EWR | ORD | 460 | 354 |\n",
       "\n"
      ],
      "text/plain": [
       "  year month day dep_time arr_time origin dest new_arr new_dep\n",
       "1 2013 1     1   517       830     EWR    IAH  510     317    \n",
       "2 2013 1     1   533       850     LGA    IAH  530     333    \n",
       "3 2013 1     1   542       923     JFK    MIA  563     342    \n",
       "4 2013 1     1   544      1004     JFK    BQN  604     344    \n",
       "5 2013 1     1   554       812     LGA    ATL  492     354    \n",
       "6 2013 1     1   554       740     EWR    ORD  460     354    "
      ]
     },
     "metadata": {},
     "output_type": "display_data"
    }
   ],
   "source": [
    "sub_flights <- sub_flights %>% mutate( new_dep = hourmin2min(dep_time), new_arr = hourmin2min(arr_time) )\n",
    "head(sub_flights)"
   ]
  },
  {
   "cell_type": "markdown",
   "metadata": {},
   "source": [
    "Now we can subtract the departure time `new_dep` from the arrival time `new_arr` to get a new variable `total_time`."
   ]
  },
  {
   "cell_type": "code",
   "execution_count": 22,
   "metadata": {},
   "outputs": [
    {
     "data": {
      "text/html": [
       "<table>\n",
       "<caption>A tibble: 6 × 10</caption>\n",
       "<thead>\n",
       "\t<tr><th scope=col>year</th><th scope=col>month</th><th scope=col>day</th><th scope=col>dep_time</th><th scope=col>arr_time</th><th scope=col>origin</th><th scope=col>dest</th><th scope=col>new_arr</th><th scope=col>new_dep</th><th scope=col>total_time</th></tr>\n",
       "\t<tr><th scope=col>&lt;int&gt;</th><th scope=col>&lt;int&gt;</th><th scope=col>&lt;int&gt;</th><th scope=col>&lt;int&gt;</th><th scope=col>&lt;int&gt;</th><th scope=col>&lt;chr&gt;</th><th scope=col>&lt;chr&gt;</th><th scope=col>&lt;dbl&gt;</th><th scope=col>&lt;dbl&gt;</th><th scope=col>&lt;dbl&gt;</th></tr>\n",
       "</thead>\n",
       "<tbody>\n",
       "\t<tr><td>2013</td><td>1</td><td>1</td><td>517</td><td> 830</td><td>EWR</td><td>IAH</td><td>510</td><td>317</td><td>193</td></tr>\n",
       "\t<tr><td>2013</td><td>1</td><td>1</td><td>533</td><td> 850</td><td>LGA</td><td>IAH</td><td>530</td><td>333</td><td>197</td></tr>\n",
       "\t<tr><td>2013</td><td>1</td><td>1</td><td>542</td><td> 923</td><td>JFK</td><td>MIA</td><td>563</td><td>342</td><td>221</td></tr>\n",
       "\t<tr><td>2013</td><td>1</td><td>1</td><td>544</td><td>1004</td><td>JFK</td><td>BQN</td><td>604</td><td>344</td><td>260</td></tr>\n",
       "\t<tr><td>2013</td><td>1</td><td>1</td><td>554</td><td> 812</td><td>LGA</td><td>ATL</td><td>492</td><td>354</td><td>138</td></tr>\n",
       "\t<tr><td>2013</td><td>1</td><td>1</td><td>554</td><td> 740</td><td>EWR</td><td>ORD</td><td>460</td><td>354</td><td>106</td></tr>\n",
       "</tbody>\n",
       "</table>\n"
      ],
      "text/latex": [
       "A tibble: 6 × 10\n",
       "\\begin{tabular}{llllllllll}\n",
       " year & month & day & dep\\_time & arr\\_time & origin & dest & new\\_arr & new\\_dep & total\\_time\\\\\n",
       " <int> & <int> & <int> & <int> & <int> & <chr> & <chr> & <dbl> & <dbl> & <dbl>\\\\\n",
       "\\hline\n",
       "\t 2013 & 1 & 1 & 517 &  830 & EWR & IAH & 510 & 317 & 193\\\\\n",
       "\t 2013 & 1 & 1 & 533 &  850 & LGA & IAH & 530 & 333 & 197\\\\\n",
       "\t 2013 & 1 & 1 & 542 &  923 & JFK & MIA & 563 & 342 & 221\\\\\n",
       "\t 2013 & 1 & 1 & 544 & 1004 & JFK & BQN & 604 & 344 & 260\\\\\n",
       "\t 2013 & 1 & 1 & 554 &  812 & LGA & ATL & 492 & 354 & 138\\\\\n",
       "\t 2013 & 1 & 1 & 554 &  740 & EWR & ORD & 460 & 354 & 106\\\\\n",
       "\\end{tabular}\n"
      ],
      "text/markdown": [
       "\n",
       "A tibble: 6 × 10\n",
       "\n",
       "| year &lt;int&gt; | month &lt;int&gt; | day &lt;int&gt; | dep_time &lt;int&gt; | arr_time &lt;int&gt; | origin &lt;chr&gt; | dest &lt;chr&gt; | new_arr &lt;dbl&gt; | new_dep &lt;dbl&gt; | total_time &lt;dbl&gt; |\n",
       "|---|---|---|---|---|---|---|---|---|---|\n",
       "| 2013 | 1 | 1 | 517 |  830 | EWR | IAH | 510 | 317 | 193 |\n",
       "| 2013 | 1 | 1 | 533 |  850 | LGA | IAH | 530 | 333 | 197 |\n",
       "| 2013 | 1 | 1 | 542 |  923 | JFK | MIA | 563 | 342 | 221 |\n",
       "| 2013 | 1 | 1 | 544 | 1004 | JFK | BQN | 604 | 344 | 260 |\n",
       "| 2013 | 1 | 1 | 554 |  812 | LGA | ATL | 492 | 354 | 138 |\n",
       "| 2013 | 1 | 1 | 554 |  740 | EWR | ORD | 460 | 354 | 106 |\n",
       "\n"
      ],
      "text/plain": [
       "  year month day dep_time arr_time origin dest new_arr new_dep total_time\n",
       "1 2013 1     1   517       830     EWR    IAH  510     317     193       \n",
       "2 2013 1     1   533       850     LGA    IAH  530     333     197       \n",
       "3 2013 1     1   542       923     JFK    MIA  563     342     221       \n",
       "4 2013 1     1   544      1004     JFK    BQN  604     344     260       \n",
       "5 2013 1     1   554       812     LGA    ATL  492     354     138       \n",
       "6 2013 1     1   554       740     EWR    ORD  460     354     106       "
      ]
     },
     "metadata": {},
     "output_type": "display_data"
    }
   ],
   "source": [
    "sub_flights %>% mutate(total_time = new_arr-new_dep) %>% head()"
   ]
  },
  {
   "cell_type": "markdown",
   "metadata": {},
   "source": [
    "Let us try to do the same thing using pipe just using one line of code.  In this code, we are only interested in the following variables -- `dep_time`, `arr_time`, `new_dep`, `new_arr`, and `total_time`.  "
   ]
  },
  {
   "cell_type": "code",
   "execution_count": 23,
   "metadata": {
    "scrolled": true
   },
   "outputs": [
    {
     "data": {
      "text/html": [
       "<table>\n",
       "<caption>A tibble: 6 × 10</caption>\n",
       "<thead>\n",
       "\t<tr><th scope=col>year</th><th scope=col>month</th><th scope=col>day</th><th scope=col>dep_time</th><th scope=col>arr_time</th><th scope=col>origin</th><th scope=col>dest</th><th scope=col>new_dep</th><th scope=col>new_arr</th><th scope=col>total_time</th></tr>\n",
       "\t<tr><th scope=col>&lt;int&gt;</th><th scope=col>&lt;int&gt;</th><th scope=col>&lt;int&gt;</th><th scope=col>&lt;int&gt;</th><th scope=col>&lt;int&gt;</th><th scope=col>&lt;chr&gt;</th><th scope=col>&lt;chr&gt;</th><th scope=col>&lt;dbl&gt;</th><th scope=col>&lt;dbl&gt;</th><th scope=col>&lt;dbl&gt;</th></tr>\n",
       "</thead>\n",
       "<tbody>\n",
       "\t<tr><td>2013</td><td>1</td><td>1</td><td>517</td><td> 830</td><td>EWR</td><td>IAH</td><td>317</td><td>510</td><td>193</td></tr>\n",
       "\t<tr><td>2013</td><td>1</td><td>1</td><td>533</td><td> 850</td><td>LGA</td><td>IAH</td><td>333</td><td>530</td><td>197</td></tr>\n",
       "\t<tr><td>2013</td><td>1</td><td>1</td><td>542</td><td> 923</td><td>JFK</td><td>MIA</td><td>342</td><td>563</td><td>221</td></tr>\n",
       "\t<tr><td>2013</td><td>1</td><td>1</td><td>544</td><td>1004</td><td>JFK</td><td>BQN</td><td>344</td><td>604</td><td>260</td></tr>\n",
       "\t<tr><td>2013</td><td>1</td><td>1</td><td>554</td><td> 812</td><td>LGA</td><td>ATL</td><td>354</td><td>492</td><td>138</td></tr>\n",
       "\t<tr><td>2013</td><td>1</td><td>1</td><td>554</td><td> 740</td><td>EWR</td><td>ORD</td><td>354</td><td>460</td><td>106</td></tr>\n",
       "</tbody>\n",
       "</table>\n"
      ],
      "text/latex": [
       "A tibble: 6 × 10\n",
       "\\begin{tabular}{llllllllll}\n",
       " year & month & day & dep\\_time & arr\\_time & origin & dest & new\\_dep & new\\_arr & total\\_time\\\\\n",
       " <int> & <int> & <int> & <int> & <int> & <chr> & <chr> & <dbl> & <dbl> & <dbl>\\\\\n",
       "\\hline\n",
       "\t 2013 & 1 & 1 & 517 &  830 & EWR & IAH & 317 & 510 & 193\\\\\n",
       "\t 2013 & 1 & 1 & 533 &  850 & LGA & IAH & 333 & 530 & 197\\\\\n",
       "\t 2013 & 1 & 1 & 542 &  923 & JFK & MIA & 342 & 563 & 221\\\\\n",
       "\t 2013 & 1 & 1 & 544 & 1004 & JFK & BQN & 344 & 604 & 260\\\\\n",
       "\t 2013 & 1 & 1 & 554 &  812 & LGA & ATL & 354 & 492 & 138\\\\\n",
       "\t 2013 & 1 & 1 & 554 &  740 & EWR & ORD & 354 & 460 & 106\\\\\n",
       "\\end{tabular}\n"
      ],
      "text/markdown": [
       "\n",
       "A tibble: 6 × 10\n",
       "\n",
       "| year &lt;int&gt; | month &lt;int&gt; | day &lt;int&gt; | dep_time &lt;int&gt; | arr_time &lt;int&gt; | origin &lt;chr&gt; | dest &lt;chr&gt; | new_dep &lt;dbl&gt; | new_arr &lt;dbl&gt; | total_time &lt;dbl&gt; |\n",
       "|---|---|---|---|---|---|---|---|---|---|\n",
       "| 2013 | 1 | 1 | 517 |  830 | EWR | IAH | 317 | 510 | 193 |\n",
       "| 2013 | 1 | 1 | 533 |  850 | LGA | IAH | 333 | 530 | 197 |\n",
       "| 2013 | 1 | 1 | 542 |  923 | JFK | MIA | 342 | 563 | 221 |\n",
       "| 2013 | 1 | 1 | 544 | 1004 | JFK | BQN | 344 | 604 | 260 |\n",
       "| 2013 | 1 | 1 | 554 |  812 | LGA | ATL | 354 | 492 | 138 |\n",
       "| 2013 | 1 | 1 | 554 |  740 | EWR | ORD | 354 | 460 | 106 |\n",
       "\n"
      ],
      "text/plain": [
       "  year month day dep_time arr_time origin dest new_dep new_arr total_time\n",
       "1 2013 1     1   517       830     EWR    IAH  317     510     193       \n",
       "2 2013 1     1   533       850     LGA    IAH  333     530     197       \n",
       "3 2013 1     1   542       923     JFK    MIA  342     563     221       \n",
       "4 2013 1     1   544      1004     JFK    BQN  344     604     260       \n",
       "5 2013 1     1   554       812     LGA    ATL  354     492     138       \n",
       "6 2013 1     1   554       740     EWR    ORD  354     460     106       "
      ]
     },
     "metadata": {},
     "output_type": "display_data"
    }
   ],
   "source": [
    "flights %>% select(year:day,dep_time, arr_time, origin, dest) %>%\n",
    "    mutate(new_dep=hourmin2min(dep_time), new_arr=hourmin2min(arr_time)) %>%\n",
    "    mutate(total_time = new_arr - new_dep) %>% head()"
   ]
  },
  {
   "cell_type": "markdown",
   "metadata": {},
   "source": [
    "We can even plot the data by adding a `ggplot` command at the end after manipulating your data.\n",
    "\n",
    "Let's try to create a table for each month with the mean delay time.  Then plot a barchart for each month.  "
   ]
  },
  {
   "cell_type": "code",
   "execution_count": 26,
   "metadata": {},
   "outputs": [
    {
     "name": "stderr",
     "output_type": "stream",
     "text": [
      "`summarise()` ungrouping output (override with `.groups` argument)\n",
      "\n"
     ]
    },
    {
     "data": {
      "image/png": "[encoded data removed]",
      "text/plain": [
       "plot without title"
      ]
     },
     "metadata": {
      "image/png": {
       "height": 420,
       "width": 420
      }
     },
     "output_type": "display_data"
    }
   ],
   "source": [
    "flights %>% group_by(month) %>% \n",
    "    summarize(delay=mean(dep_delay,na.rm=TRUE)) %>%\n",
    "    ggplot() + \n",
    "        geom_bar(mapping= aes(x=factor(month),y=delay),stat=\"identity\")+\n",
    "        labs(x=\"Month\", y=\"Average delay (min)\")"
   ]
  }
 ],
 "metadata": {
  "kernelspec": {
   "display_name": "R",
   "language": "R",
   "name": "ir"
  },
  "language_info": {
   "codemirror_mode": "r",
   "file_extension": ".r",
   "mimetype": "text/x-r-source",
   "name": "R",
   "pygments_lexer": "r",
   "version": "4.0.3"
  },
  "latex_envs": {
   "LaTeX_envs_menu_present": true,
   "autoclose": false,
   "autocomplete": true,
   "bibliofile": "biblio.bib",
   "cite_by": "apalike",
   "current_citInitial": 1,
   "eqLabelWithNumbers": true,
   "eqNumInitial": 1,
   "hotkeys": {
    "equation": "Ctrl-E",
    "itemize": "Ctrl-I"
   },
   "labels_anchors": false,
   "latex_user_defs": false,
   "report_style_numbering": false,
   "user_envs_cfg": false
  }
 },
 "nbformat": 4,
 "nbformat_minor": 1
}
