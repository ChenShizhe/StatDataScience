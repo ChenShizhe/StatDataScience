{
 "cells": [
  {
   "cell_type": "markdown",
   "metadata": {},
   "source": [
    "### 7.4.2 K-means Clustering\n",
    "\n",
    "The basic idea of K-means clustering is, given a number of clusters $K$, find the set of cluster centers, and cluster assignments that minimize average distance between each obs and its center. This is the most popular partition-based method. \n",
    "\n",
    "- Motivated by a simple and intuitive mathematical problem\n",
    "- <span style=\"color:red\"> Uses Euclidean distance</span> between points\n",
    "- Computationally efficient, and can be applied to datasets with a large number of samples (variables)\n",
    "- <span style=\"color:red\">No hierarchy among clusters</span>, if $K$ is changed, the cluster memberships will also change\n",
    "\t\n"
   ]
  },
  {
   "cell_type": "code",
   "execution_count": 3,
   "metadata": {},
   "outputs": [
    {
     "data": {
      "image/png": "[encoded data removed]",
      "text/plain": [
       "plot without title"
      ]
     },
     "metadata": {
      "image/png": {
       "height": 420,
       "width": 420
      }
     },
     "output_type": "display_data"
    }
   ],
   "source": [
    "iris.k3<- kmeans(dist(iris[,1:4]),3 );\n",
    "library(ggplot2)\n",
    "iris$c3<-iris.k3$cluster;\n",
    "ggplot(data=iris, aes(x=Sepal.Length, y=Sepal.Width,color=as.factor(c3)))+\n",
    "    geom_point()"
   ]
  },
  {
   "cell_type": "code",
   "execution_count": null,
   "metadata": {
    "scrolled": true
   },
   "outputs": [],
   "source": [
    "iris.k5<- kmeans(dist(iris[,1:4]),5 );\n",
    "iris$c5<-iris.k5$cluster;\n",
    "ggplot(data=iris, aes(x=Sepal.Length, y=Sepal.Width,color=as.factor(c5)))+\n",
    "    geom_point()"
   ]
  }
 ],
 "metadata": {
  "kernelspec": {
   "display_name": "R",
   "language": "R",
   "name": "ir"
  },
  "language_info": {
   "codemirror_mode": "r",
   "file_extension": ".r",
   "mimetype": "text/x-r-source",
   "name": "R",
   "pygments_lexer": "r",
   "version": "4.0.3"
  },
  "latex_envs": {
   "LaTeX_envs_menu_present": true,
   "autoclose": false,
   "autocomplete": true,
   "bibliofile": "biblio.bib",
   "cite_by": "apalike",
   "current_citInitial": 1,
   "eqLabelWithNumbers": true,
   "eqNumInitial": 1,
   "hotkeys": {
    "equation": "Ctrl-E",
    "itemize": "Ctrl-I"
   },
   "labels_anchors": false,
   "latex_user_defs": false,
   "report_style_numbering": false,
   "user_envs_cfg": false
  }
 },
 "nbformat": 4,
 "nbformat_minor": 2
}
