{
 "cells": [
  {
   "cell_type": "markdown",
   "metadata": {},
   "source": [
    "### 7.4.2 K-means Clustering\n",
    "\n",
    "The basic idea of K-means clustering is, given a number of clusters $K$, find the set of cluster centers, and cluster assignments that minimize average distance between each obs and its center. This is the most popular partition-based method. \n",
    "\n",
    "- Motivated by a simple and intuitive mathematical problem\n",
    "- <span style=\"color:red\"> Uses Euclidean distance</span> between points and centers\n",
    "- Computationally efficient, and can be applied to datasets with a large number of samples (variables)\n",
    "- <span style=\"color:red\">No hierarchy among clusters</span>, if $K$ is changed, the cluster memberships will also change\n",
    "\t\n"
   ]
  },
  {
   "cell_type": "code",
   "execution_count": null,
   "metadata": {},
   "outputs": [],
   "source": []
  },
  {
   "cell_type": "code",
   "execution_count": null,
   "metadata": {
    "scrolled": true
   },
   "outputs": [],
   "source": []
  }
 ],
 "metadata": {
  "kernelspec": {
   "display_name": "R",
   "language": "R",
   "name": "ir"
  },
  "language_info": {
   "codemirror_mode": "r",
   "file_extension": ".r",
   "mimetype": "text/x-r-source",
   "name": "R",
   "pygments_lexer": "r",
   "version": "4.0.3"
  },
  "latex_envs": {
   "LaTeX_envs_menu_present": true,
   "autoclose": false,
   "autocomplete": true,
   "bibliofile": "biblio.bib",
   "cite_by": "apalike",
   "current_citInitial": 1,
   "eqLabelWithNumbers": true,
   "eqNumInitial": 1,
   "hotkeys": {
    "equation": "Ctrl-E",
    "itemize": "Ctrl-I"
   },
   "labels_anchors": false,
   "latex_user_defs": false,
   "report_style_numbering": false,
   "user_envs_cfg": false
  }
 },
 "nbformat": 4,
 "nbformat_minor": 2
}
