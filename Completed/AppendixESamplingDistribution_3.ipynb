{
 "cells": [
  {
   "cell_type": "markdown",
   "metadata": {},
   "source": [
    "# Appendix E Sampling Distribution "
   ]
  },
  {
   "cell_type": "markdown",
   "metadata": {},
   "source": [
    "### E.2.2 Permutation \n",
    "\n",
    "In hypothesis testing, the test statistic is compared to the *null distribution*, that is the *sampling distribution under the null hypothesis*. Sometimes the null hypothesis is specific enough that we can approximate the true distribution using the observed samples. "
   ]
  },
  {
   "cell_type": "markdown",
   "metadata": {},
   "source": [
    "Suppose that we observe $n$ i.i.d. samples $\\{ (x_1,y_1), (x_2,y_2), \\ldots, (x_n,y_n)\\}$ from an unknown true population. For instance, we can imagine that $x$ is the face of a coin (Head, Tail) and $y$ is the age of the tosser. We are interested in the following hypothesis\n",
    "\\[\n",
    "H_0: \\mathbb{E}[y \\mid x =T] = \\mathbb{E}[y \\mid x =H] \\ \\ \\ \\ \\ \\ \\ \\ \\ \\ {\\rm v.s.}\\ \\ \\ \\ \\ \\ \\ \\ \\ \\ H_1: \\mathbb{E}[y \\mid x =T] \\neq  \\mathbb{E}[y \\mid x =H].\n",
    "\\]\n",
    "Under the null, we know that the expectation of $y$ remains the same regardless of the value of $x$. This means that the the expectation of $y$ should remain the same if we shuffle $x$, e.g., by creating a new data set as \n",
    "\\[\n",
    "\\{ (x_6,y_1), (x_{17},y_2), \\ldots, (x_3,y_n)\\},\n",
    "\\]\n",
    "where the indices of $x$s are *permuted*. From the permuted data set, we can estimate the mean difference between two groups defined by the new $x$.  "
   ]
  },
  {
   "cell_type": "code",
   "execution_count": 2,
   "metadata": {},
   "outputs": [
    {
     "data": {
      "text/html": [
       "-0.207048431963871"
      ],
      "text/latex": [
       "-0.207048431963871"
      ],
      "text/markdown": [
       "-0.207048431963871"
      ],
      "text/plain": [
       "[1] -0.2070484"
      ]
     },
     "metadata": {},
     "output_type": "display_data"
    }
   ],
   "source": [
    "set.seed(1)\n",
    "n=50;\n",
    "x=rbinom(n=50,size=1,prob=0.5);\n",
    "mu.diff=0;\n",
    "error.terms=rnorm(n)*2;\n",
    "y=x*mu.diff+error.terms;\n",
    "\n",
    "(diff=mean(y[x==1])-mean(y[x==0]))"
   ]
  },
  {
   "cell_type": "code",
   "execution_count": 5,
   "metadata": {},
   "outputs": [
    {
     "data": {
      "text/html": [
       "0.24756588747413"
      ],
      "text/latex": [
       "0.24756588747413"
      ],
      "text/markdown": [
       "0.24756588747413"
      ],
      "text/plain": [
       "[1] 0.2475659"
      ]
     },
     "metadata": {},
     "output_type": "display_data"
    }
   ],
   "source": [
    "x.perm=sample(x,size=length(x),replace=FALSE)\n",
    "(mean.diff=mean(y[x.perm==1])-mean(y[x.perm==0]))"
   ]
  },
  {
   "cell_type": "code",
   "execution_count": 6,
   "metadata": {},
   "outputs": [],
   "source": [
    "permutation.diff<-function(x,y){\n",
    "    x.perm=sample(x,size=length(x),replace=FALSE)\n",
    "  mean.diff=mean(y[x.perm==1])-mean(y[x.perm==0])\n",
    "    return(mean.diff)\n",
    "}"
   ]
  },
  {
   "cell_type": "code",
   "execution_count": 19,
   "metadata": {},
   "outputs": [
    {
     "data": {
      "text/html": [
       "0.896475784018064"
      ],
      "text/latex": [
       "0.896475784018064"
      ],
      "text/markdown": [
       "0.896475784018064"
      ],
      "text/plain": [
       "[1] 0.8964758"
      ]
     },
     "metadata": {},
     "output_type": "display_data"
    }
   ],
   "source": [
    "set.seed(1)\n",
    "n=50;\n",
    "x=rbinom(n=50,size=1,prob=0.5);\n",
    "mu.diff=1;\n",
    "error.terms=rnorm(n);\n",
    "y=x*mu.diff+error.terms;\n",
    "\n",
    "(diff=mean(y[x==1])-mean(y[x==0]))\n",
    "\n",
    "P=1e4;\n",
    "mean.diff.perm=replicate(P,permutation.diff(x=x,y=y))"
   ]
  },
  {
   "cell_type": "code",
   "execution_count": 20,
   "metadata": {},
   "outputs": [
    {
     "data": {
      "image/png": "[encoded data removed]",
      "text/plain": [
       "Plot with title \"Histogram of mean.diff.perm\""
      ]
     },
     "metadata": {
      "image/png": {
       "height": 420,
       "width": 420
      }
     },
     "output_type": "display_data"
    }
   ],
   "source": [
    "hist(mean.diff.perm)"
   ]
  },
  {
   "cell_type": "code",
   "execution_count": 21,
   "metadata": {},
   "outputs": [
    {
     "data": {
      "text/html": [
       "0.0013"
      ],
      "text/latex": [
       "0.0013"
      ],
      "text/markdown": [
       "0.0013"
      ],
      "text/plain": [
       "[1] 0.0013"
      ]
     },
     "metadata": {},
     "output_type": "display_data"
    }
   ],
   "source": [
    "mean( abs(diff) < abs(mean.diff.perm) )"
   ]
  }
 ],
 "metadata": {
  "kernelspec": {
   "display_name": "R",
   "language": "R",
   "name": "ir"
  },
  "language_info": {
   "codemirror_mode": "r",
   "file_extension": ".r",
   "mimetype": "text/x-r-source",
   "name": "R",
   "pygments_lexer": "r",
   "version": "4.0.3"
  },
  "latex_envs": {
   "LaTeX_envs_menu_present": true,
   "autoclose": false,
   "autocomplete": true,
   "bibliofile": "biblio.bib",
   "cite_by": "apalike",
   "current_citInitial": 1,
   "eqLabelWithNumbers": true,
   "eqNumInitial": 1,
   "hotkeys": {
    "equation": "Ctrl-E",
    "itemize": "Ctrl-I"
   },
   "labels_anchors": false,
   "latex_user_defs": false,
   "report_style_numbering": false,
   "user_envs_cfg": false
  }
 },
 "nbformat": 4,
 "nbformat_minor": 2
}
