{
 "cells": [
  {
   "cell_type": "markdown",
   "metadata": {},
   "source": [
    "# Appendix C Data "
   ]
  },
  {
   "cell_type": "markdown",
   "metadata": {},
   "source": [
    "## C.2 Data manipulation"
   ]
  },
  {
   "cell_type": "markdown",
   "metadata": {},
   "source": [
    "### C.2.4 Select columns"
   ]
  },
  {
   "cell_type": "markdown",
   "metadata": {},
   "source": [
    "`select` is used to keep only a few variables of interest to the current analysis. It is most useful when working with data frames involving a large number of variables. It is commonly used with the pipe operator `%>%`. For now, it suffices to know that `x %>% f(y)` means `f(x, y)`. We will see this operator a lot in the next section."
   ]
  },
  {
   "cell_type": "code",
   "execution_count": 1,
   "metadata": {},
   "outputs": [
    {
     "name": "stderr",
     "output_type": "stream",
     "text": [
      "-- \u001b[1mAttaching packages\u001b[22m ------------------------------------------------------------------------------- tidyverse 1.3.0 --\n",
      "\n",
      "\u001b[32mv\u001b[39m \u001b[34mggplot2\u001b[39m 3.3.2     \u001b[32mv\u001b[39m \u001b[34mpurrr  \u001b[39m 0.3.4\n",
      "\u001b[32mv\u001b[39m \u001b[34mtibble \u001b[39m 3.0.4     \u001b[32mv\u001b[39m \u001b[34mdplyr  \u001b[39m 1.0.2\n",
      "\u001b[32mv\u001b[39m \u001b[34mtidyr  \u001b[39m 1.1.2     \u001b[32mv\u001b[39m \u001b[34mstringr\u001b[39m 1.4.0\n",
      "\u001b[32mv\u001b[39m \u001b[34mreadr  \u001b[39m 1.4.0     \u001b[32mv\u001b[39m \u001b[34mforcats\u001b[39m 0.5.0\n",
      "\n",
      "-- \u001b[1mConflicts\u001b[22m ---------------------------------------------------------------------------------- tidyverse_conflicts() --\n",
      "\u001b[31mx\u001b[39m \u001b[34mdplyr\u001b[39m::\u001b[32mfilter()\u001b[39m masks \u001b[34mstats\u001b[39m::filter()\n",
      "\u001b[31mx\u001b[39m \u001b[34mdplyr\u001b[39m::\u001b[32mlag()\u001b[39m    masks \u001b[34mstats\u001b[39m::lag()\n",
      "\n"
     ]
    }
   ],
   "source": [
    "library(tidyverse)\n",
    "library(nycflights13)"
   ]
  },
  {
   "cell_type": "code",
   "execution_count": 3,
   "metadata": {},
   "outputs": [
    {
     "data": {
      "text/html": [
       "<table>\n",
       "<caption>A tibble: 6 × 5</caption>\n",
       "<thead>\n",
       "\t<tr><th scope=col>year</th><th scope=col>month</th><th scope=col>day</th><th scope=col>dep_time</th><th scope=col>arr_time</th></tr>\n",
       "\t<tr><th scope=col>&lt;int&gt;</th><th scope=col>&lt;int&gt;</th><th scope=col>&lt;int&gt;</th><th scope=col>&lt;int&gt;</th><th scope=col>&lt;int&gt;</th></tr>\n",
       "</thead>\n",
       "<tbody>\n",
       "\t<tr><td>2013</td><td>1</td><td>1</td><td>517</td><td> 830</td></tr>\n",
       "\t<tr><td>2013</td><td>1</td><td>1</td><td>533</td><td> 850</td></tr>\n",
       "\t<tr><td>2013</td><td>1</td><td>1</td><td>542</td><td> 923</td></tr>\n",
       "\t<tr><td>2013</td><td>1</td><td>1</td><td>544</td><td>1004</td></tr>\n",
       "\t<tr><td>2013</td><td>1</td><td>1</td><td>554</td><td> 812</td></tr>\n",
       "\t<tr><td>2013</td><td>1</td><td>1</td><td>554</td><td> 740</td></tr>\n",
       "</tbody>\n",
       "</table>\n"
      ],
      "text/latex": [
       "A tibble: 6 × 5\n",
       "\\begin{tabular}{lllll}\n",
       " year & month & day & dep\\_time & arr\\_time\\\\\n",
       " <int> & <int> & <int> & <int> & <int>\\\\\n",
       "\\hline\n",
       "\t 2013 & 1 & 1 & 517 &  830\\\\\n",
       "\t 2013 & 1 & 1 & 533 &  850\\\\\n",
       "\t 2013 & 1 & 1 & 542 &  923\\\\\n",
       "\t 2013 & 1 & 1 & 544 & 1004\\\\\n",
       "\t 2013 & 1 & 1 & 554 &  812\\\\\n",
       "\t 2013 & 1 & 1 & 554 &  740\\\\\n",
       "\\end{tabular}\n"
      ],
      "text/markdown": [
       "\n",
       "A tibble: 6 × 5\n",
       "\n",
       "| year &lt;int&gt; | month &lt;int&gt; | day &lt;int&gt; | dep_time &lt;int&gt; | arr_time &lt;int&gt; |\n",
       "|---|---|---|---|---|\n",
       "| 2013 | 1 | 1 | 517 |  830 |\n",
       "| 2013 | 1 | 1 | 533 |  850 |\n",
       "| 2013 | 1 | 1 | 542 |  923 |\n",
       "| 2013 | 1 | 1 | 544 | 1004 |\n",
       "| 2013 | 1 | 1 | 554 |  812 |\n",
       "| 2013 | 1 | 1 | 554 |  740 |\n",
       "\n"
      ],
      "text/plain": [
       "  year month day dep_time arr_time\n",
       "1 2013 1     1   517       830    \n",
       "2 2013 1     1   533       850    \n",
       "3 2013 1     1   542       923    \n",
       "4 2013 1     1   544      1004    \n",
       "5 2013 1     1   554       812    \n",
       "6 2013 1     1   554       740    "
      ]
     },
     "metadata": {},
     "output_type": "display_data"
    }
   ],
   "source": [
    "select(flights,year,month,day, dep_time, arr_time) %>% head()"
   ]
  },
  {
   "cell_type": "markdown",
   "metadata": {},
   "source": [
    "We can change the name of the variables when selecting them."
   ]
  },
  {
   "cell_type": "code",
   "execution_count": 4,
   "metadata": {},
   "outputs": [
    {
     "data": {
      "text/html": [
       "<table>\n",
       "<caption>A tibble: 6 × 5</caption>\n",
       "<thead>\n",
       "\t<tr><th scope=col>year</th><th scope=col>month</th><th scope=col>day</th><th scope=col>departure_time</th><th scope=col>arr_time</th></tr>\n",
       "\t<tr><th scope=col>&lt;int&gt;</th><th scope=col>&lt;int&gt;</th><th scope=col>&lt;int&gt;</th><th scope=col>&lt;int&gt;</th><th scope=col>&lt;int&gt;</th></tr>\n",
       "</thead>\n",
       "<tbody>\n",
       "\t<tr><td>2013</td><td>1</td><td>1</td><td>517</td><td> 830</td></tr>\n",
       "\t<tr><td>2013</td><td>1</td><td>1</td><td>533</td><td> 850</td></tr>\n",
       "\t<tr><td>2013</td><td>1</td><td>1</td><td>542</td><td> 923</td></tr>\n",
       "\t<tr><td>2013</td><td>1</td><td>1</td><td>544</td><td>1004</td></tr>\n",
       "\t<tr><td>2013</td><td>1</td><td>1</td><td>554</td><td> 812</td></tr>\n",
       "\t<tr><td>2013</td><td>1</td><td>1</td><td>554</td><td> 740</td></tr>\n",
       "</tbody>\n",
       "</table>\n"
      ],
      "text/latex": [
       "A tibble: 6 × 5\n",
       "\\begin{tabular}{lllll}\n",
       " year & month & day & departure\\_time & arr\\_time\\\\\n",
       " <int> & <int> & <int> & <int> & <int>\\\\\n",
       "\\hline\n",
       "\t 2013 & 1 & 1 & 517 &  830\\\\\n",
       "\t 2013 & 1 & 1 & 533 &  850\\\\\n",
       "\t 2013 & 1 & 1 & 542 &  923\\\\\n",
       "\t 2013 & 1 & 1 & 544 & 1004\\\\\n",
       "\t 2013 & 1 & 1 & 554 &  812\\\\\n",
       "\t 2013 & 1 & 1 & 554 &  740\\\\\n",
       "\\end{tabular}\n"
      ],
      "text/markdown": [
       "\n",
       "A tibble: 6 × 5\n",
       "\n",
       "| year &lt;int&gt; | month &lt;int&gt; | day &lt;int&gt; | departure_time &lt;int&gt; | arr_time &lt;int&gt; |\n",
       "|---|---|---|---|---|\n",
       "| 2013 | 1 | 1 | 517 |  830 |\n",
       "| 2013 | 1 | 1 | 533 |  850 |\n",
       "| 2013 | 1 | 1 | 542 |  923 |\n",
       "| 2013 | 1 | 1 | 544 | 1004 |\n",
       "| 2013 | 1 | 1 | 554 |  812 |\n",
       "| 2013 | 1 | 1 | 554 |  740 |\n",
       "\n"
      ],
      "text/plain": [
       "  year month day departure_time arr_time\n",
       "1 2013 1     1   517             830    \n",
       "2 2013 1     1   533             850    \n",
       "3 2013 1     1   542             923    \n",
       "4 2013 1     1   544            1004    \n",
       "5 2013 1     1   554             812    \n",
       "6 2013 1     1   554             740    "
      ]
     },
     "metadata": {},
     "output_type": "display_data"
    }
   ],
   "source": [
    "select(flights,year,month,day, departure_time=dep_time, arr_time) %>% head()"
   ]
  },
  {
   "cell_type": "markdown",
   "metadata": {},
   "source": [
    "Note that `select` drops any variables not explicitly mentioned. To just rename some variables while keeping all others, use `rename`."
   ]
  },
  {
   "cell_type": "code",
   "execution_count": 5,
   "metadata": {},
   "outputs": [
    {
     "data": {
      "text/html": [
       "<table>\n",
       "<caption>A tibble: 6 × 19</caption>\n",
       "<thead>\n",
       "\t<tr><th scope=col>year</th><th scope=col>month</th><th scope=col>day</th><th scope=col>departure_time</th><th scope=col>sched_dep_time</th><th scope=col>dep_delay</th><th scope=col>arr_time</th><th scope=col>sched_arr_time</th><th scope=col>arr_delay</th><th scope=col>carrier</th><th scope=col>flight</th><th scope=col>tailnum</th><th scope=col>origin</th><th scope=col>dest</th><th scope=col>air_time</th><th scope=col>distance</th><th scope=col>hour</th><th scope=col>minute</th><th scope=col>time_hour</th></tr>\n",
       "\t<tr><th scope=col>&lt;int&gt;</th><th scope=col>&lt;int&gt;</th><th scope=col>&lt;int&gt;</th><th scope=col>&lt;int&gt;</th><th scope=col>&lt;int&gt;</th><th scope=col>&lt;dbl&gt;</th><th scope=col>&lt;int&gt;</th><th scope=col>&lt;int&gt;</th><th scope=col>&lt;dbl&gt;</th><th scope=col>&lt;chr&gt;</th><th scope=col>&lt;int&gt;</th><th scope=col>&lt;chr&gt;</th><th scope=col>&lt;chr&gt;</th><th scope=col>&lt;chr&gt;</th><th scope=col>&lt;dbl&gt;</th><th scope=col>&lt;dbl&gt;</th><th scope=col>&lt;dbl&gt;</th><th scope=col>&lt;dbl&gt;</th><th scope=col>&lt;dttm&gt;</th></tr>\n",
       "</thead>\n",
       "<tbody>\n",
       "\t<tr><td>2013</td><td>1</td><td>1</td><td>517</td><td>515</td><td> 2</td><td> 830</td><td> 819</td><td> 11</td><td>UA</td><td>1545</td><td>N14228</td><td>EWR</td><td>IAH</td><td>227</td><td>1400</td><td>5</td><td>15</td><td>2013-01-01 05:00:00</td></tr>\n",
       "\t<tr><td>2013</td><td>1</td><td>1</td><td>533</td><td>529</td><td> 4</td><td> 850</td><td> 830</td><td> 20</td><td>UA</td><td>1714</td><td>N24211</td><td>LGA</td><td>IAH</td><td>227</td><td>1416</td><td>5</td><td>29</td><td>2013-01-01 05:00:00</td></tr>\n",
       "\t<tr><td>2013</td><td>1</td><td>1</td><td>542</td><td>540</td><td> 2</td><td> 923</td><td> 850</td><td> 33</td><td>AA</td><td>1141</td><td>N619AA</td><td>JFK</td><td>MIA</td><td>160</td><td>1089</td><td>5</td><td>40</td><td>2013-01-01 05:00:00</td></tr>\n",
       "\t<tr><td>2013</td><td>1</td><td>1</td><td>544</td><td>545</td><td>-1</td><td>1004</td><td>1022</td><td>-18</td><td>B6</td><td> 725</td><td>N804JB</td><td>JFK</td><td>BQN</td><td>183</td><td>1576</td><td>5</td><td>45</td><td>2013-01-01 05:00:00</td></tr>\n",
       "\t<tr><td>2013</td><td>1</td><td>1</td><td>554</td><td>600</td><td>-6</td><td> 812</td><td> 837</td><td>-25</td><td>DL</td><td> 461</td><td>N668DN</td><td>LGA</td><td>ATL</td><td>116</td><td> 762</td><td>6</td><td> 0</td><td>2013-01-01 06:00:00</td></tr>\n",
       "\t<tr><td>2013</td><td>1</td><td>1</td><td>554</td><td>558</td><td>-4</td><td> 740</td><td> 728</td><td> 12</td><td>UA</td><td>1696</td><td>N39463</td><td>EWR</td><td>ORD</td><td>150</td><td> 719</td><td>5</td><td>58</td><td>2013-01-01 05:00:00</td></tr>\n",
       "</tbody>\n",
       "</table>\n"
      ],
      "text/latex": [
       "A tibble: 6 × 19\n",
       "\\begin{tabular}{lllllllllllllllllll}\n",
       " year & month & day & departure\\_time & sched\\_dep\\_time & dep\\_delay & arr\\_time & sched\\_arr\\_time & arr\\_delay & carrier & flight & tailnum & origin & dest & air\\_time & distance & hour & minute & time\\_hour\\\\\n",
       " <int> & <int> & <int> & <int> & <int> & <dbl> & <int> & <int> & <dbl> & <chr> & <int> & <chr> & <chr> & <chr> & <dbl> & <dbl> & <dbl> & <dbl> & <dttm>\\\\\n",
       "\\hline\n",
       "\t 2013 & 1 & 1 & 517 & 515 &  2 &  830 &  819 &  11 & UA & 1545 & N14228 & EWR & IAH & 227 & 1400 & 5 & 15 & 2013-01-01 05:00:00\\\\\n",
       "\t 2013 & 1 & 1 & 533 & 529 &  4 &  850 &  830 &  20 & UA & 1714 & N24211 & LGA & IAH & 227 & 1416 & 5 & 29 & 2013-01-01 05:00:00\\\\\n",
       "\t 2013 & 1 & 1 & 542 & 540 &  2 &  923 &  850 &  33 & AA & 1141 & N619AA & JFK & MIA & 160 & 1089 & 5 & 40 & 2013-01-01 05:00:00\\\\\n",
       "\t 2013 & 1 & 1 & 544 & 545 & -1 & 1004 & 1022 & -18 & B6 &  725 & N804JB & JFK & BQN & 183 & 1576 & 5 & 45 & 2013-01-01 05:00:00\\\\\n",
       "\t 2013 & 1 & 1 & 554 & 600 & -6 &  812 &  837 & -25 & DL &  461 & N668DN & LGA & ATL & 116 &  762 & 6 &  0 & 2013-01-01 06:00:00\\\\\n",
       "\t 2013 & 1 & 1 & 554 & 558 & -4 &  740 &  728 &  12 & UA & 1696 & N39463 & EWR & ORD & 150 &  719 & 5 & 58 & 2013-01-01 05:00:00\\\\\n",
       "\\end{tabular}\n"
      ],
      "text/markdown": [
       "\n",
       "A tibble: 6 × 19\n",
       "\n",
       "| year &lt;int&gt; | month &lt;int&gt; | day &lt;int&gt; | departure_time &lt;int&gt; | sched_dep_time &lt;int&gt; | dep_delay &lt;dbl&gt; | arr_time &lt;int&gt; | sched_arr_time &lt;int&gt; | arr_delay &lt;dbl&gt; | carrier &lt;chr&gt; | flight &lt;int&gt; | tailnum &lt;chr&gt; | origin &lt;chr&gt; | dest &lt;chr&gt; | air_time &lt;dbl&gt; | distance &lt;dbl&gt; | hour &lt;dbl&gt; | minute &lt;dbl&gt; | time_hour &lt;dttm&gt; |\n",
       "|---|---|---|---|---|---|---|---|---|---|---|---|---|---|---|---|---|---|---|\n",
       "| 2013 | 1 | 1 | 517 | 515 |  2 |  830 |  819 |  11 | UA | 1545 | N14228 | EWR | IAH | 227 | 1400 | 5 | 15 | 2013-01-01 05:00:00 |\n",
       "| 2013 | 1 | 1 | 533 | 529 |  4 |  850 |  830 |  20 | UA | 1714 | N24211 | LGA | IAH | 227 | 1416 | 5 | 29 | 2013-01-01 05:00:00 |\n",
       "| 2013 | 1 | 1 | 542 | 540 |  2 |  923 |  850 |  33 | AA | 1141 | N619AA | JFK | MIA | 160 | 1089 | 5 | 40 | 2013-01-01 05:00:00 |\n",
       "| 2013 | 1 | 1 | 544 | 545 | -1 | 1004 | 1022 | -18 | B6 |  725 | N804JB | JFK | BQN | 183 | 1576 | 5 | 45 | 2013-01-01 05:00:00 |\n",
       "| 2013 | 1 | 1 | 554 | 600 | -6 |  812 |  837 | -25 | DL |  461 | N668DN | LGA | ATL | 116 |  762 | 6 |  0 | 2013-01-01 06:00:00 |\n",
       "| 2013 | 1 | 1 | 554 | 558 | -4 |  740 |  728 |  12 | UA | 1696 | N39463 | EWR | ORD | 150 |  719 | 5 | 58 | 2013-01-01 05:00:00 |\n",
       "\n"
      ],
      "text/plain": [
       "  year month day departure_time sched_dep_time dep_delay arr_time\n",
       "1 2013 1     1   517            515             2         830    \n",
       "2 2013 1     1   533            529             4         850    \n",
       "3 2013 1     1   542            540             2         923    \n",
       "4 2013 1     1   544            545            -1        1004    \n",
       "5 2013 1     1   554            600            -6         812    \n",
       "6 2013 1     1   554            558            -4         740    \n",
       "  sched_arr_time arr_delay carrier flight tailnum origin dest air_time distance\n",
       "1  819            11       UA      1545   N14228  EWR    IAH  227      1400    \n",
       "2  830            20       UA      1714   N24211  LGA    IAH  227      1416    \n",
       "3  850            33       AA      1141   N619AA  JFK    MIA  160      1089    \n",
       "4 1022           -18       B6       725   N804JB  JFK    BQN  183      1576    \n",
       "5  837           -25       DL       461   N668DN  LGA    ATL  116       762    \n",
       "6  728            12       UA      1696   N39463  EWR    ORD  150       719    \n",
       "  hour minute time_hour          \n",
       "1 5    15     2013-01-01 05:00:00\n",
       "2 5    29     2013-01-01 05:00:00\n",
       "3 5    40     2013-01-01 05:00:00\n",
       "4 5    45     2013-01-01 05:00:00\n",
       "5 6     0     2013-01-01 06:00:00\n",
       "6 5    58     2013-01-01 05:00:00"
      ]
     },
     "metadata": {},
     "output_type": "display_data"
    }
   ],
   "source": [
    "rename(flights, departure_time=dep_time) %>% head()"
   ]
  },
  {
   "cell_type": "code",
   "execution_count": null,
   "metadata": {},
   "outputs": [],
   "source": []
  },
  {
   "cell_type": "markdown",
   "metadata": {},
   "source": [
    "If there are a lot of variables, you can save yourself some typing by using `:` and `-` in combination with select. The colon operator selects a range of variables."
   ]
  },
  {
   "cell_type": "code",
   "execution_count": 6,
   "metadata": {},
   "outputs": [
    {
     "data": {
      "text/html": [
       "<table>\n",
       "<caption>A tibble: 6 × 3</caption>\n",
       "<thead>\n",
       "\t<tr><th scope=col>year</th><th scope=col>month</th><th scope=col>day</th></tr>\n",
       "\t<tr><th scope=col>&lt;int&gt;</th><th scope=col>&lt;int&gt;</th><th scope=col>&lt;int&gt;</th></tr>\n",
       "</thead>\n",
       "<tbody>\n",
       "\t<tr><td>2013</td><td>1</td><td>1</td></tr>\n",
       "\t<tr><td>2013</td><td>1</td><td>1</td></tr>\n",
       "\t<tr><td>2013</td><td>1</td><td>1</td></tr>\n",
       "\t<tr><td>2013</td><td>1</td><td>1</td></tr>\n",
       "\t<tr><td>2013</td><td>1</td><td>1</td></tr>\n",
       "\t<tr><td>2013</td><td>1</td><td>1</td></tr>\n",
       "</tbody>\n",
       "</table>\n"
      ],
      "text/latex": [
       "A tibble: 6 × 3\n",
       "\\begin{tabular}{lll}\n",
       " year & month & day\\\\\n",
       " <int> & <int> & <int>\\\\\n",
       "\\hline\n",
       "\t 2013 & 1 & 1\\\\\n",
       "\t 2013 & 1 & 1\\\\\n",
       "\t 2013 & 1 & 1\\\\\n",
       "\t 2013 & 1 & 1\\\\\n",
       "\t 2013 & 1 & 1\\\\\n",
       "\t 2013 & 1 & 1\\\\\n",
       "\\end{tabular}\n"
      ],
      "text/markdown": [
       "\n",
       "A tibble: 6 × 3\n",
       "\n",
       "| year &lt;int&gt; | month &lt;int&gt; | day &lt;int&gt; |\n",
       "|---|---|---|\n",
       "| 2013 | 1 | 1 |\n",
       "| 2013 | 1 | 1 |\n",
       "| 2013 | 1 | 1 |\n",
       "| 2013 | 1 | 1 |\n",
       "| 2013 | 1 | 1 |\n",
       "| 2013 | 1 | 1 |\n",
       "\n"
      ],
      "text/plain": [
       "  year month day\n",
       "1 2013 1     1  \n",
       "2 2013 1     1  \n",
       "3 2013 1     1  \n",
       "4 2013 1     1  \n",
       "5 2013 1     1  \n",
       "6 2013 1     1  "
      ]
     },
     "metadata": {},
     "output_type": "display_data"
    }
   ],
   "source": [
    "select(flights,year:day) %>% head()"
   ]
  },
  {
   "cell_type": "markdown",
   "metadata": {},
   "source": [
    "The negative sign lets you select everything but certain columns."
   ]
  },
  {
   "cell_type": "code",
   "execution_count": 8,
   "metadata": {},
   "outputs": [
    {
     "name": "stdout",
     "output_type": "stream",
     "text": [
      "\u001b[90m# A tibble: 336,776 x 18\u001b[39m\n",
      "    year month dep_time sched_dep_time dep_delay arr_time sched_arr_time\n",
      "   \u001b[3m\u001b[90m<int>\u001b[39m\u001b[23m \u001b[3m\u001b[90m<int>\u001b[39m\u001b[23m    \u001b[3m\u001b[90m<int>\u001b[39m\u001b[23m          \u001b[3m\u001b[90m<int>\u001b[39m\u001b[23m     \u001b[3m\u001b[90m<dbl>\u001b[39m\u001b[23m    \u001b[3m\u001b[90m<int>\u001b[39m\u001b[23m          \u001b[3m\u001b[90m<int>\u001b[39m\u001b[23m\n",
      "\u001b[90m 1\u001b[39m  \u001b[4m2\u001b[24m013     1      517            515         2      830            819\n",
      "\u001b[90m 2\u001b[39m  \u001b[4m2\u001b[24m013     1      533            529         4      850            830\n",
      "\u001b[90m 3\u001b[39m  \u001b[4m2\u001b[24m013     1      542            540         2      923            850\n",
      "\u001b[90m 4\u001b[39m  \u001b[4m2\u001b[24m013     1      544            545        -\u001b[31m1\u001b[39m     \u001b[4m1\u001b[24m004           \u001b[4m1\u001b[24m022\n",
      "\u001b[90m 5\u001b[39m  \u001b[4m2\u001b[24m013     1      554            600        -\u001b[31m6\u001b[39m      812            837\n",
      "\u001b[90m 6\u001b[39m  \u001b[4m2\u001b[24m013     1      554            558        -\u001b[31m4\u001b[39m      740            728\n",
      "\u001b[90m 7\u001b[39m  \u001b[4m2\u001b[24m013     1      555            600        -\u001b[31m5\u001b[39m      913            854\n",
      "\u001b[90m 8\u001b[39m  \u001b[4m2\u001b[24m013     1      557            600        -\u001b[31m3\u001b[39m      709            723\n",
      "\u001b[90m 9\u001b[39m  \u001b[4m2\u001b[24m013     1      557            600        -\u001b[31m3\u001b[39m      838            846\n",
      "\u001b[90m10\u001b[39m  \u001b[4m2\u001b[24m013     1      558            600        -\u001b[31m2\u001b[39m      753            745\n",
      "\u001b[90m# ... with 336,766 more rows, and 11 more variables: arr_delay \u001b[3m\u001b[90m<dbl>\u001b[90m\u001b[23m,\u001b[39m\n",
      "\u001b[90m#   carrier \u001b[3m\u001b[90m<chr>\u001b[90m\u001b[23m, flight \u001b[3m\u001b[90m<int>\u001b[90m\u001b[23m, tailnum \u001b[3m\u001b[90m<chr>\u001b[90m\u001b[23m, origin \u001b[3m\u001b[90m<chr>\u001b[90m\u001b[23m, dest \u001b[3m\u001b[90m<chr>\u001b[90m\u001b[23m,\u001b[39m\n",
      "\u001b[90m#   air_time \u001b[3m\u001b[90m<dbl>\u001b[90m\u001b[23m, distance \u001b[3m\u001b[90m<dbl>\u001b[90m\u001b[23m, hour \u001b[3m\u001b[90m<dbl>\u001b[90m\u001b[23m, minute \u001b[3m\u001b[90m<dbl>\u001b[90m\u001b[23m, time_hour \u001b[3m\u001b[90m<dttm>\u001b[90m\u001b[23m\u001b[39m\n"
     ]
    }
   ],
   "source": [
    "select(flights, -day) %>% print"
   ]
  },
  {
   "cell_type": "markdown",
   "metadata": {},
   "source": [
    "We can use `-` and `:` together, for example:"
   ]
  },
  {
   "cell_type": "code",
   "execution_count": 9,
   "metadata": {},
   "outputs": [
    {
     "name": "stdout",
     "output_type": "stream",
     "text": [
      "\u001b[90m# A tibble: 336,776 x 16\u001b[39m\n",
      "   dep_time sched_dep_time dep_delay arr_time sched_arr_time arr_delay carrier\n",
      "      \u001b[3m\u001b[90m<int>\u001b[39m\u001b[23m          \u001b[3m\u001b[90m<int>\u001b[39m\u001b[23m     \u001b[3m\u001b[90m<dbl>\u001b[39m\u001b[23m    \u001b[3m\u001b[90m<int>\u001b[39m\u001b[23m          \u001b[3m\u001b[90m<int>\u001b[39m\u001b[23m     \u001b[3m\u001b[90m<dbl>\u001b[39m\u001b[23m \u001b[3m\u001b[90m<chr>\u001b[39m\u001b[23m  \n",
      "\u001b[90m 1\u001b[39m      517            515         2      830            819        11 UA     \n",
      "\u001b[90m 2\u001b[39m      533            529         4      850            830        20 UA     \n",
      "\u001b[90m 3\u001b[39m      542            540         2      923            850        33 AA     \n",
      "\u001b[90m 4\u001b[39m      544            545        -\u001b[31m1\u001b[39m     \u001b[4m1\u001b[24m004           \u001b[4m1\u001b[24m022       -\u001b[31m18\u001b[39m B6     \n",
      "\u001b[90m 5\u001b[39m      554            600        -\u001b[31m6\u001b[39m      812            837       -\u001b[31m25\u001b[39m DL     \n",
      "\u001b[90m 6\u001b[39m      554            558        -\u001b[31m4\u001b[39m      740            728        12 UA     \n",
      "\u001b[90m 7\u001b[39m      555            600        -\u001b[31m5\u001b[39m      913            854        19 B6     \n",
      "\u001b[90m 8\u001b[39m      557            600        -\u001b[31m3\u001b[39m      709            723       -\u001b[31m14\u001b[39m EV     \n",
      "\u001b[90m 9\u001b[39m      557            600        -\u001b[31m3\u001b[39m      838            846        -\u001b[31m8\u001b[39m B6     \n",
      "\u001b[90m10\u001b[39m      558            600        -\u001b[31m2\u001b[39m      753            745         8 AA     \n",
      "\u001b[90m# ... with 336,766 more rows, and 9 more variables: flight \u001b[3m\u001b[90m<int>\u001b[90m\u001b[23m,\u001b[39m\n",
      "\u001b[90m#   tailnum \u001b[3m\u001b[90m<chr>\u001b[90m\u001b[23m, origin \u001b[3m\u001b[90m<chr>\u001b[90m\u001b[23m, dest \u001b[3m\u001b[90m<chr>\u001b[90m\u001b[23m, air_time \u001b[3m\u001b[90m<dbl>\u001b[90m\u001b[23m, distance \u001b[3m\u001b[90m<dbl>\u001b[90m\u001b[23m,\u001b[39m\n",
      "\u001b[90m#   hour \u001b[3m\u001b[90m<dbl>\u001b[90m\u001b[23m, minute \u001b[3m\u001b[90m<dbl>\u001b[90m\u001b[23m, time_hour \u001b[3m\u001b[90m<dttm>\u001b[90m\u001b[23m\u001b[39m\n"
     ]
    }
   ],
   "source": [
    "select(flights, -(year:day)) %>% print"
   ]
  },
  {
   "cell_type": "markdown",
   "metadata": {},
   "source": [
    "To bring a few variables at the beginning, we can use `everything()` to refer to the remaining variables."
   ]
  },
  {
   "cell_type": "code",
   "execution_count": 12,
   "metadata": {},
   "outputs": [
    {
     "data": {
      "text/html": [
       "<table>\n",
       "<caption>A tibble: 6 × 2</caption>\n",
       "<thead>\n",
       "\t<tr><th scope=col>dep_time</th><th scope=col>arr_time</th></tr>\n",
       "\t<tr><th scope=col>&lt;int&gt;</th><th scope=col>&lt;int&gt;</th></tr>\n",
       "</thead>\n",
       "<tbody>\n",
       "\t<tr><td>517</td><td> 830</td></tr>\n",
       "\t<tr><td>533</td><td> 850</td></tr>\n",
       "\t<tr><td>542</td><td> 923</td></tr>\n",
       "\t<tr><td>544</td><td>1004</td></tr>\n",
       "\t<tr><td>554</td><td> 812</td></tr>\n",
       "\t<tr><td>554</td><td> 740</td></tr>\n",
       "</tbody>\n",
       "</table>\n"
      ],
      "text/latex": [
       "A tibble: 6 × 2\n",
       "\\begin{tabular}{ll}\n",
       " dep\\_time & arr\\_time\\\\\n",
       " <int> & <int>\\\\\n",
       "\\hline\n",
       "\t 517 &  830\\\\\n",
       "\t 533 &  850\\\\\n",
       "\t 542 &  923\\\\\n",
       "\t 544 & 1004\\\\\n",
       "\t 554 &  812\\\\\n",
       "\t 554 &  740\\\\\n",
       "\\end{tabular}\n"
      ],
      "text/markdown": [
       "\n",
       "A tibble: 6 × 2\n",
       "\n",
       "| dep_time &lt;int&gt; | arr_time &lt;int&gt; |\n",
       "|---|---|\n",
       "| 517 |  830 |\n",
       "| 533 |  850 |\n",
       "| 542 |  923 |\n",
       "| 544 | 1004 |\n",
       "| 554 |  812 |\n",
       "| 554 |  740 |\n",
       "\n"
      ],
      "text/plain": [
       "  dep_time arr_time\n",
       "1 517       830    \n",
       "2 533       850    \n",
       "3 542       923    \n",
       "4 544      1004    \n",
       "5 554       812    \n",
       "6 554       740    "
      ]
     },
     "metadata": {},
     "output_type": "display_data"
    }
   ],
   "source": [
    "select(flights, dep_time, arr_time, everything()) %>% head()"
   ]
  },
  {
   "cell_type": "markdown",
   "metadata": {},
   "source": [
    "In addition, there are some helper functions that only work inside `select()`.\n",
    "\n",
    "* `starts_with()`, `ends_with()`, `contains()`\n",
    "* `matches()`\n",
    "* `num_range()`\n",
    "\n",
    "We can use `?select` to learn more about these. Here's just one example of their use."
   ]
  },
  {
   "cell_type": "code",
   "execution_count": 14,
   "metadata": {},
   "outputs": [
    {
     "data": {
      "text/html": [
       "<table>\n",
       "<caption>A tibble: 6 × 6</caption>\n",
       "<thead>\n",
       "\t<tr><th scope=col>dep_time</th><th scope=col>sched_dep_time</th><th scope=col>arr_time</th><th scope=col>sched_arr_time</th><th scope=col>air_time</th><th scope=col>time_hour</th></tr>\n",
       "\t<tr><th scope=col>&lt;int&gt;</th><th scope=col>&lt;int&gt;</th><th scope=col>&lt;int&gt;</th><th scope=col>&lt;int&gt;</th><th scope=col>&lt;dbl&gt;</th><th scope=col>&lt;dttm&gt;</th></tr>\n",
       "</thead>\n",
       "<tbody>\n",
       "\t<tr><td>517</td><td>515</td><td> 830</td><td> 819</td><td>227</td><td>2013-01-01 05:00:00</td></tr>\n",
       "\t<tr><td>533</td><td>529</td><td> 850</td><td> 830</td><td>227</td><td>2013-01-01 05:00:00</td></tr>\n",
       "\t<tr><td>542</td><td>540</td><td> 923</td><td> 850</td><td>160</td><td>2013-01-01 05:00:00</td></tr>\n",
       "\t<tr><td>544</td><td>545</td><td>1004</td><td>1022</td><td>183</td><td>2013-01-01 05:00:00</td></tr>\n",
       "\t<tr><td>554</td><td>600</td><td> 812</td><td> 837</td><td>116</td><td>2013-01-01 06:00:00</td></tr>\n",
       "\t<tr><td>554</td><td>558</td><td> 740</td><td> 728</td><td>150</td><td>2013-01-01 05:00:00</td></tr>\n",
       "</tbody>\n",
       "</table>\n"
      ],
      "text/latex": [
       "A tibble: 6 × 6\n",
       "\\begin{tabular}{llllll}\n",
       " dep\\_time & sched\\_dep\\_time & arr\\_time & sched\\_arr\\_time & air\\_time & time\\_hour\\\\\n",
       " <int> & <int> & <int> & <int> & <dbl> & <dttm>\\\\\n",
       "\\hline\n",
       "\t 517 & 515 &  830 &  819 & 227 & 2013-01-01 05:00:00\\\\\n",
       "\t 533 & 529 &  850 &  830 & 227 & 2013-01-01 05:00:00\\\\\n",
       "\t 542 & 540 &  923 &  850 & 160 & 2013-01-01 05:00:00\\\\\n",
       "\t 544 & 545 & 1004 & 1022 & 183 & 2013-01-01 05:00:00\\\\\n",
       "\t 554 & 600 &  812 &  837 & 116 & 2013-01-01 06:00:00\\\\\n",
       "\t 554 & 558 &  740 &  728 & 150 & 2013-01-01 05:00:00\\\\\n",
       "\\end{tabular}\n"
      ],
      "text/markdown": [
       "\n",
       "A tibble: 6 × 6\n",
       "\n",
       "| dep_time &lt;int&gt; | sched_dep_time &lt;int&gt; | arr_time &lt;int&gt; | sched_arr_time &lt;int&gt; | air_time &lt;dbl&gt; | time_hour &lt;dttm&gt; |\n",
       "|---|---|---|---|---|---|\n",
       "| 517 | 515 |  830 |  819 | 227 | 2013-01-01 05:00:00 |\n",
       "| 533 | 529 |  850 |  830 | 227 | 2013-01-01 05:00:00 |\n",
       "| 542 | 540 |  923 |  850 | 160 | 2013-01-01 05:00:00 |\n",
       "| 544 | 545 | 1004 | 1022 | 183 | 2013-01-01 05:00:00 |\n",
       "| 554 | 600 |  812 |  837 | 116 | 2013-01-01 06:00:00 |\n",
       "| 554 | 558 |  740 |  728 | 150 | 2013-01-01 05:00:00 |\n",
       "\n"
      ],
      "text/plain": [
       "  dep_time sched_dep_time arr_time sched_arr_time air_time time_hour          \n",
       "1 517      515             830      819           227      2013-01-01 05:00:00\n",
       "2 533      529             850      830           227      2013-01-01 05:00:00\n",
       "3 542      540             923      850           160      2013-01-01 05:00:00\n",
       "4 544      545            1004     1022           183      2013-01-01 05:00:00\n",
       "5 554      600             812      837           116      2013-01-01 06:00:00\n",
       "6 554      558             740      728           150      2013-01-01 05:00:00"
      ]
     },
     "metadata": {},
     "output_type": "display_data"
    }
   ],
   "source": [
    "select(flights, contains(\"time\")) %>% head()"
   ]
  },
  {
   "cell_type": "markdown",
   "metadata": {},
   "source": [
    "This basically selects all the columns containing the string \"time\"."
   ]
  }
 ],
 "metadata": {
  "kernelspec": {
   "display_name": "R",
   "language": "R",
   "name": "ir"
  },
  "language_info": {
   "codemirror_mode": "r",
   "file_extension": ".r",
   "mimetype": "text/x-r-source",
   "name": "R",
   "pygments_lexer": "r",
   "version": "4.0.3"
  },
  "latex_envs": {
   "LaTeX_envs_menu_present": true,
   "autoclose": false,
   "autocomplete": true,
   "bibliofile": "biblio.bib",
   "cite_by": "apalike",
   "current_citInitial": 1,
   "eqLabelWithNumbers": true,
   "eqNumInitial": 1,
   "hotkeys": {
    "equation": "Ctrl-E",
    "itemize": "Ctrl-I"
   },
   "labels_anchors": false,
   "latex_user_defs": false,
   "report_style_numbering": false,
   "user_envs_cfg": false
  }
 },
 "nbformat": 4,
 "nbformat_minor": 1
}
