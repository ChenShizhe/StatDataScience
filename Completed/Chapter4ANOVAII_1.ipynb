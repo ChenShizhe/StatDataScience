{
 "cells": [
  {
   "cell_type": "markdown",
   "metadata": {},
   "source": [
    "# Chapter 4 Analysis of Variance\n",
    "     "
   ]
  },
  {
   "cell_type": "markdown",
   "metadata": {},
   "source": [
    "## 4.2 Two-way ANOVA"
   ]
  },
  {
   "cell_type": "markdown",
   "metadata": {},
   "source": [
    "### 4.2.1 Motivating example and model\n",
    "\n",
    "Consider the Hey Fever dataset. Nine compounds for Hay Fever Relief are made by varying levels of two basic ingredients. Ingredient 1 (denoted factor A) has $a = 3$ levels: low $(i = 1)$, medium $(i = 2)$ and high $(i = 3)$. And Ingredient 2 (factor B) has $b = 3$ levels: low $(j = 1)$,\n",
    "medium $(j = 2)$ and high $(j = 3)$. A total of 36 subjects suffering from hay fever are selected and each of the 9 compounds are given to randomly selected $n = 4$ individuals.\n",
    "\n",
    "\n",
    "The cell means model for a *balanced* two-way ANOVA takes the following form \n",
    "\\[\n",
    "Y_{ijk} = \\mu_{ij} +\\epsilon_{ijk}, \\ k=1,\\ldots, n, j=1,\\ldots, b, i=1,\\ldots, a,\n",
    "\\]\n",
    "where $\\{\\epsilon_{ijk}\\}$ are i.i.d. $N(0,\\sigma^2)$. There are $ab$ unknown means and one unknown $\\sigma$ in the cell means model. \n"
   ]
  },
  {
   "cell_type": "code",
   "execution_count": 1,
   "metadata": {},
   "outputs": [
    {
     "data": {
      "image/png": "[encoded data removed]",
      "text/plain": [
       "plot without title"
      ]
     },
     "metadata": {
      "image/png": {
       "height": 420,
       "width": 420
      }
     },
     "output_type": "display_data"
    }
   ],
   "source": [
    "Hay <- read.csv(file=\"../Data/HayFever.csv\", header=TRUE, sep=\",\")\n",
    "\n",
    "# Use a slightly different visualization:\n",
    "pairs(Hay,pch=16,col='red',cex=1.5)"
   ]
  },
  {
   "cell_type": "markdown",
   "metadata": {},
   "source": [
    "\n",
    "In practice, we often prefer the fhe factor effect form \n",
    "\\[\n",
    "Y_{ijk} = \\mu_{\\cdot\\cdot} + \\alpha_i+\\beta_j + (\\alpha\\beta)_{ij}+\\epsilon_{ijk}, \\ k=1,\\ldots, n, j=1,\\ldots, b, i=1,\\ldots, a,\n",
    "\\]\n",
    "where $\\{\\epsilon_{ijk}\\}$ are i.i.d. $N(0,\\sigma^2)$. A quick count shows that there are $a$ $\\alpha$s, $b$ $\\beta$s, $ab$ interaction terms, one $\\mu$ and one $\\sigma$ in the factor effect form, which amount to $ab+a+b+2$ parameters. Indeed, the parameters in the factor effect form are no longer \"free\" as in the cell means model. A set of constraints are in placed is in place with the factor effect form, which will be discussed in Section 4.2.2. \n",
    "\n",
    "\n",
    "**Remark:** Note that $(\\alpha\\beta)_{ij}$ is a new parameter standing for the interaction effect, but **not** the product of $\\alpha_i$ and $\\beta_j$. We can replace it with $\\gamma_{ij}$ to avoid confusion. However, the advantage of using  $(\\alpha\\beta)_{ij}$ is self-explanatory; that is the expression  $(\\alpha\\beta)_{ij}$ shows that it is an effect jointly controlled by factor A and factor B. \n"
   ]
  }
 ],
 "metadata": {
  "author": "mes ",
  "kernelspec": {
   "display_name": "R",
   "language": "R",
   "name": "ir"
  },
  "language_info": {
   "codemirror_mode": "r",
   "file_extension": ".r",
   "mimetype": "text/x-r-source",
   "name": "R",
   "pygments_lexer": "r",
   "version": "4.0.3"
  },
  "latex_envs": {
   "LaTeX_envs_menu_present": true,
   "autoclose": false,
   "autocomplete": true,
   "bibliofile": "biblio.bib",
   "cite_by": "apalike",
   "current_citInitial": 1,
   "eqLabelWithNumbers": true,
   "eqNumInitial": 1,
   "hotkeys": {
    "equation": "Ctrl-E",
    "itemize": "Ctrl-I"
   },
   "labels_anchors": false,
   "latex_user_defs": false,
   "report_style_numbering": false,
   "user_envs_cfg": false
  }
 },
 "nbformat": 4,
 "nbformat_minor": 2
}
