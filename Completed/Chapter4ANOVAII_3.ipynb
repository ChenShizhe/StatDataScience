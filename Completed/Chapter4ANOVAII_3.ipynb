{
 "cells": [
  {
   "cell_type": "markdown",
   "metadata": {},
   "source": [
    "# Chapter 4 Analysis of Variance\n",
    "     "
   ]
  },
  {
   "cell_type": "markdown",
   "metadata": {},
   "source": [
    "## 4.2 Two-way ANOVA"
   ]
  },
  {
   "cell_type": "markdown",
   "metadata": {},
   "source": [
    "\n",
    "### 4.2.3 Estimation\n",
    "\n",
    "We can estimate the cell means as before \n",
    "$\\hat{\\mu}_{ij}=\\bar{Y}_{ij\\cdot}, \\hat{\\mu}_{\\cdot\\cdot}=\\bar{Y}_{\\cdot\\cdot\\cdot}, \\hat{\\mu}_{i\\cdot} =\\bar{Y}_{i\\cdot\\cdot}, \\hat{\\mu}_{\\cdot j}=\\bar{Y}_{\\cdot j \\cdot}$. \n",
    "Noting that the effects are linear combinations of cell means, we can estimate them using the equalities in Section 4.2.2\n",
    "\\[\n",
    "\\hat{\\alpha}_i = \\bar{Y}_{i\\cdot \\cdot}-\\bar{Y}_{\\cdot \\cdot \\cdot}, \\hat{\\beta}_{j}=\\bar{Y}_{\\cdot j \\cdot} -\\bar{Y}_{\\cdot \\cdot \\cdot}, (\\hat{\\alpha\\beta})_{ij}=\\bar{Y}_{ij}-(\\bar{Y}_{\\cdot\\cdot\\cdot} +\\hat{\\alpha}_i+\\hat{\\beta}_j).\n",
    "\\]\n",
    "As a result, the same set of constraints still hold on the estimators. \n",
    "\n",
    "For each $Y_{ijk}$, the fitted value is $\\bar{Y}_{ij\\cdot}$. The residual is thus $e_{ijk} \\equiv Y_{ijk}-\\bar{Y}_{ij\\cdot}$. We can show that the fitted value is independent with the residual. Just like in one-way ANOVA, this independence is the backbone for testing. \n",
    "\n",
    "The sum of squares are as follow.  \n",
    "\n",
    "**Residual sum of squares.**\n",
    "\\[\n",
    "{\\rm SSE} = \\sum \\sum \\sum e_{ijk}^2 = \\sum\\sum\\sum \\big(Y_{ijk}-\\bar{Y}_{ij\\cdot}\\big)^2, df({\\rm SSE})=n_T -ab =(n-1)ab.\n",
    "\\]\n",
    "As before, we can define the mean squared errors as ${\\rm MSE} ={ {\\rm SSE}}/{ df({\\rm SSE})}$, where we know that $\\mathbb{E}[{\\rm MSE}]=\\sigma^2$. \n",
    "\n",
    "**Total sum of squares.**\n",
    "\\[\n",
    "{\\rm SSTO} = \\sum \\sum \\sum \\big(Y_{ijk}-\\bar{Y}_{\\cdot \\cdot \\cdot}\\big)^2, \\ df({\\rm SSTO})=n_T -1 = nab-1.\n",
    "\\]\n",
    "\n",
    "**Sum of squares due to the main effect of factor A.** \n",
    "\\[\n",
    "{\\rm SSA} = \\sum \\sum \\sum \\hat{\\alpha}_i^2 = nb\\sum_{i=1}^a \\hat{\\alpha}_i^2, \\ df({\\rm SSA})=a-1.\n",
    "\\]\n",
    "\n",
    "**Sum of squares due to the main effect of factor B.** \n",
    "\\[\n",
    "{\\rm SSB} = \\sum \\sum \\sum \\hat{\\beta}_j^2 = na\\sum_{j=1}^a \\hat{\\beta}_j^2, \\ df({\\rm SSB})=b-1.\n",
    "\\]\n",
    "\n",
    "**Sum of squares due to the interaction effects.**\n",
    "\\[\n",
    "{\\rm SSAB} = \\sum \\sum \\sum (\\hat{\\alpha\\beta})_{ij}^2 = n \\sum \\sum (\\hat{\\alpha\\beta})_{ij}^2, \\ df({\\rm SSAB})=(a-1)(b-1).\n",
    "\\]\n",
    "\n",
    "We have the following equalities\n",
    "\\[\n",
    "{\\rm SSTO}={\\rm SSA}+{\\rm SSB} + {\\rm SSAB}+{\\rm SSE} \\ {\\rm and} \\ df({\\rm SSTO})=df({\\rm SSA})+df({\\rm SSB})+df({\\rm SSAB}).\n",
    "\\]\n",
    "\n",
    "For the mean squares, when $\\epsilon$s are i.i.d. $N(0,\\sigma^2)$, we have $\\hat{Y}_{ijk} \\perp e_{ijk}$, which yields ${\\rm MSE} \\perp {\\rm MSA}, {\\rm MSB}, {\\rm MSAB}$. \n",
    "\n",
    "**Properties**\n",
    "1. $\\mathbb{E}[{\\rm MSE}]=\\sigma^2$; \n",
    "2. $\\mathbb{E}[{\\rm MSA}]=\\sigma^2 + nb \\sum \\alpha_i^2 /(a-1)$; \n",
    "3. $\\mathbb{E}[{\\rm MSB}]=\\sigma^2 +na \\sum \\beta_i^2 /(b-1)$; \n",
    "4. $\\mathbb{E}[{\\rm MSAB}]=\\sigma^2 + n \\sum\\sum ({\\alpha\\beta})_{ij}^2/(a-1)(b-1)$. "
   ]
  }
 ],
 "metadata": {
  "author": "mes ",
  "kernelspec": {
   "display_name": "R",
   "language": "R",
   "name": "ir"
  },
  "language_info": {
   "codemirror_mode": "r",
   "file_extension": ".r",
   "mimetype": "text/x-r-source",
   "name": "R",
   "pygments_lexer": "r",
   "version": "4.0.3"
  },
  "latex_envs": {
   "LaTeX_envs_menu_present": true,
   "autoclose": false,
   "autocomplete": true,
   "bibliofile": "biblio.bib",
   "cite_by": "apalike",
   "current_citInitial": 1,
   "eqLabelWithNumbers": true,
   "eqNumInitial": 1,
   "hotkeys": {
    "equation": "Ctrl-E",
    "itemize": "Ctrl-I"
   },
   "labels_anchors": false,
   "latex_user_defs": false,
   "report_style_numbering": false,
   "user_envs_cfg": false
  }
 },
 "nbformat": 4,
 "nbformat_minor": 2
}
