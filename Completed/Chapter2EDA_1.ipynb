{
 "cells": [
  {
   "cell_type": "markdown",
   "metadata": {},
   "source": [
    "# Chapter 2 Exploratory Data Analysis\n",
    "\n",
    "Often times the first thing we do when receiving a new data set is to run exploratory analysis on this data to understand the mechanism that generates such data. This might include the analysis of data at hand (e.g., data from pilot studies, metadata from the Internet) in order to design experiments or surveys, as well as the initial analysis of the data set to provide basic description or to detect anomolies, etc. \n",
    "\n",
    "It is important to know that the exploratory data analysis means more than data analysis using statistical software. In order to understand the data structure and interpret our findings, it often requires us to read the past analyses, known features, and the documentation of the data set. However, these background research are subject-specific. Hence, in this chapter, we will focus on the data analysis part of exploratory data analysis. "
   ]
  },
  {
   "cell_type": "markdown",
   "metadata": {},
   "source": [
    "## 2.1 Background research\n",
    "\n",
    "Imagine that we have a data set at hand that we need to explore. We know that data can come in many forms (see e.g., Appendix C). Moreover, data from different sources might have different naming rules for even the same variables. We could as well imagine that there are relationships among variables that are well-known in the fields, which are immediately clear to us statisticians. Therefore, before carrying out any analysis on a data set, the first thing to do is to read its documentation. For instance, see [Project STAR](https://dataverse.harvard.edu/dataset.xhtml?persistentId=hdl:1902.1/10766) in Harvard dataverse, or the [WHO COVID-19 explorer](https://worldhealthorg.shinyapps.io/covid/).\n",
    "\n",
    "\n",
    "\n"
   ]
  },
  {
   "cell_type": "code",
   "execution_count": 11,
   "metadata": {},
   "outputs": [],
   "source": [
    "library(AER)\n",
    "data(STAR)"
   ]
  },
  {
   "cell_type": "code",
   "execution_count": 12,
   "metadata": {},
   "outputs": [
    {
     "data": {
      "text/html": [
       "<table>\n",
       "<caption>A data.frame: 6 × 47</caption>\n",
       "<thead>\n",
       "\t<tr><th></th><th scope=col>gender</th><th scope=col>ethnicity</th><th scope=col>birth</th><th scope=col>stark</th><th scope=col>star1</th><th scope=col>star2</th><th scope=col>star3</th><th scope=col>readk</th><th scope=col>read1</th><th scope=col>read2</th><th scope=col>...</th><th scope=col>tethnicity2</th><th scope=col>tethnicity3</th><th scope=col>systemk</th><th scope=col>system1</th><th scope=col>system2</th><th scope=col>system3</th><th scope=col>schoolidk</th><th scope=col>schoolid1</th><th scope=col>schoolid2</th><th scope=col>schoolid3</th></tr>\n",
       "\t<tr><th></th><th scope=col>&lt;fct&gt;</th><th scope=col>&lt;fct&gt;</th><th scope=col>&lt;yearqtr&gt;</th><th scope=col>&lt;fct&gt;</th><th scope=col>&lt;fct&gt;</th><th scope=col>&lt;fct&gt;</th><th scope=col>&lt;fct&gt;</th><th scope=col>&lt;int&gt;</th><th scope=col>&lt;int&gt;</th><th scope=col>&lt;int&gt;</th><th scope=col>...</th><th scope=col>&lt;fct&gt;</th><th scope=col>&lt;fct&gt;</th><th scope=col>&lt;fct&gt;</th><th scope=col>&lt;fct&gt;</th><th scope=col>&lt;fct&gt;</th><th scope=col>&lt;fct&gt;</th><th scope=col>&lt;fct&gt;</th><th scope=col>&lt;fct&gt;</th><th scope=col>&lt;fct&gt;</th><th scope=col>&lt;fct&gt;</th></tr>\n",
       "</thead>\n",
       "<tbody>\n",
       "\t<tr><th scope=row>1122</th><td>female</td><td>afam</td><td>1979 Q3</td><td>NA          </td><td>NA   </td><td>NA          </td><td>regular     </td><td> NA</td><td> NA</td><td> NA</td><td>...</td><td>NA  </td><td>cauc</td><td>NA</td><td>NA</td><td>NA</td><td>22</td><td>NA</td><td>NA</td><td>NA</td><td>54</td></tr>\n",
       "\t<tr><th scope=row>1137</th><td>female</td><td>cauc</td><td>1980 Q1</td><td>small       </td><td>small</td><td>small       </td><td>small       </td><td>447</td><td>507</td><td>568</td><td>...</td><td>cauc</td><td>cauc</td><td>30</td><td>30</td><td>30</td><td>30</td><td>63</td><td>63</td><td>63</td><td>63</td></tr>\n",
       "\t<tr><th scope=row>1143</th><td>female</td><td>afam</td><td>1979 Q4</td><td>small       </td><td>small</td><td>regular+aide</td><td>regular+aide</td><td>450</td><td>579</td><td>588</td><td>...</td><td>afam</td><td>cauc</td><td>11</td><td>11</td><td>11</td><td>11</td><td>20</td><td>20</td><td>20</td><td>20</td></tr>\n",
       "\t<tr><th scope=row>1160</th><td>male  </td><td>cauc</td><td>1979 Q4</td><td>NA          </td><td>NA   </td><td>NA          </td><td>small       </td><td> NA</td><td> NA</td><td> NA</td><td>...</td><td>NA  </td><td>cauc</td><td>NA</td><td>NA</td><td>NA</td><td>6 </td><td>NA</td><td>NA</td><td>NA</td><td>8 </td></tr>\n",
       "\t<tr><th scope=row>1183</th><td>male  </td><td>afam</td><td>1980 Q1</td><td>regular+aide</td><td>NA   </td><td>NA          </td><td>NA          </td><td>439</td><td> NA</td><td> NA</td><td>...</td><td>NA  </td><td>NA  </td><td>11</td><td>NA</td><td>NA</td><td>NA</td><td>19</td><td>NA</td><td>NA</td><td>NA</td></tr>\n",
       "\t<tr><th scope=row>1195</th><td>male  </td><td>cauc</td><td>1979 Q3</td><td>NA          </td><td>NA   </td><td>regular     </td><td>regular     </td><td> NA</td><td> NA</td><td> NA</td><td>...</td><td>cauc</td><td>cauc</td><td>NA</td><td>NA</td><td>6 </td><td>6 </td><td>NA</td><td>NA</td><td>8 </td><td>8 </td></tr>\n",
       "</tbody>\n",
       "</table>\n"
      ],
      "text/latex": [
       "A data.frame: 6 × 47\n",
       "\\begin{tabular}{r|lllllllllllllllllllll}\n",
       "  & gender & ethnicity & birth & stark & star1 & star2 & star3 & readk & read1 & read2 & ... & tethnicity2 & tethnicity3 & systemk & system1 & system2 & system3 & schoolidk & schoolid1 & schoolid2 & schoolid3\\\\\n",
       "  & <fct> & <fct> & <yearqtr> & <fct> & <fct> & <fct> & <fct> & <int> & <int> & <int> & ... & <fct> & <fct> & <fct> & <fct> & <fct> & <fct> & <fct> & <fct> & <fct> & <fct>\\\\\n",
       "\\hline\n",
       "\t1122 & female & afam & 1979 Q3 & NA           & NA    & NA           & regular      &  NA &  NA &  NA & ... & NA   & cauc & NA & NA & NA & 22 & NA & NA & NA & 54\\\\\n",
       "\t1137 & female & cauc & 1980 Q1 & small        & small & small        & small        & 447 & 507 & 568 & ... & cauc & cauc & 30 & 30 & 30 & 30 & 63 & 63 & 63 & 63\\\\\n",
       "\t1143 & female & afam & 1979 Q4 & small        & small & regular+aide & regular+aide & 450 & 579 & 588 & ... & afam & cauc & 11 & 11 & 11 & 11 & 20 & 20 & 20 & 20\\\\\n",
       "\t1160 & male   & cauc & 1979 Q4 & NA           & NA    & NA           & small        &  NA &  NA &  NA & ... & NA   & cauc & NA & NA & NA & 6  & NA & NA & NA & 8 \\\\\n",
       "\t1183 & male   & afam & 1980 Q1 & regular+aide & NA    & NA           & NA           & 439 &  NA &  NA & ... & NA   & NA   & 11 & NA & NA & NA & 19 & NA & NA & NA\\\\\n",
       "\t1195 & male   & cauc & 1979 Q3 & NA           & NA    & regular      & regular      &  NA &  NA &  NA & ... & cauc & cauc & NA & NA & 6  & 6  & NA & NA & 8  & 8 \\\\\n",
       "\\end{tabular}\n"
      ],
      "text/markdown": [
       "\n",
       "A data.frame: 6 × 47\n",
       "\n",
       "| <!--/--> | gender &lt;fct&gt; | ethnicity &lt;fct&gt; | birth &lt;yearqtr&gt; | stark &lt;fct&gt; | star1 &lt;fct&gt; | star2 &lt;fct&gt; | star3 &lt;fct&gt; | readk &lt;int&gt; | read1 &lt;int&gt; | read2 &lt;int&gt; | ... ... | tethnicity2 &lt;fct&gt; | tethnicity3 &lt;fct&gt; | systemk &lt;fct&gt; | system1 &lt;fct&gt; | system2 &lt;fct&gt; | system3 &lt;fct&gt; | schoolidk &lt;fct&gt; | schoolid1 &lt;fct&gt; | schoolid2 &lt;fct&gt; | schoolid3 &lt;fct&gt; |\n",
       "|---|---|---|---|---|---|---|---|---|---|---|---|---|---|---|---|---|---|---|---|---|---|\n",
       "| 1122 | female | afam | 1979 Q3 | NA           | NA    | NA           | regular      |  NA |  NA |  NA | ... | NA   | cauc | NA | NA | NA | 22 | NA | NA | NA | 54 |\n",
       "| 1137 | female | cauc | 1980 Q1 | small        | small | small        | small        | 447 | 507 | 568 | ... | cauc | cauc | 30 | 30 | 30 | 30 | 63 | 63 | 63 | 63 |\n",
       "| 1143 | female | afam | 1979 Q4 | small        | small | regular+aide | regular+aide | 450 | 579 | 588 | ... | afam | cauc | 11 | 11 | 11 | 11 | 20 | 20 | 20 | 20 |\n",
       "| 1160 | male   | cauc | 1979 Q4 | NA           | NA    | NA           | small        |  NA |  NA |  NA | ... | NA   | cauc | NA | NA | NA | 6  | NA | NA | NA | 8  |\n",
       "| 1183 | male   | afam | 1980 Q1 | regular+aide | NA    | NA           | NA           | 439 |  NA |  NA | ... | NA   | NA   | 11 | NA | NA | NA | 19 | NA | NA | NA |\n",
       "| 1195 | male   | cauc | 1979 Q3 | NA           | NA    | regular      | regular      |  NA |  NA |  NA | ... | cauc | cauc | NA | NA | 6  | 6  | NA | NA | 8  | 8  |\n",
       "\n"
      ],
      "text/plain": [
       "     gender ethnicity birth   stark        star1 star2        star3       \n",
       "1122 female afam      1979 Q3 NA           NA    NA           regular     \n",
       "1137 female cauc      1980 Q1 small        small small        small       \n",
       "1143 female afam      1979 Q4 small        small regular+aide regular+aide\n",
       "1160 male   cauc      1979 Q4 NA           NA    NA           small       \n",
       "1183 male   afam      1980 Q1 regular+aide NA    NA           NA          \n",
       "1195 male   cauc      1979 Q3 NA           NA    regular      regular     \n",
       "     readk read1 read2 ... tethnicity2 tethnicity3 systemk system1 system2\n",
       "1122  NA    NA    NA   ... NA          cauc        NA      NA      NA     \n",
       "1137 447   507   568   ... cauc        cauc        30      30      30     \n",
       "1143 450   579   588   ... afam        cauc        11      11      11     \n",
       "1160  NA    NA    NA   ... NA          cauc        NA      NA      NA     \n",
       "1183 439    NA    NA   ... NA          NA          11      NA      NA     \n",
       "1195  NA    NA    NA   ... cauc        cauc        NA      NA      6      \n",
       "     system3 schoolidk schoolid1 schoolid2 schoolid3\n",
       "1122 22      NA        NA        NA        54       \n",
       "1137 30      63        63        63        63       \n",
       "1143 11      20        20        20        20       \n",
       "1160 6       NA        NA        NA        8        \n",
       "1183 NA      19        NA        NA        NA       \n",
       "1195 6       NA        NA        8         8        "
      ]
     },
     "metadata": {},
     "output_type": "display_data"
    }
   ],
   "source": [
    "head(STAR)"
   ]
  },
  {
   "cell_type": "code",
   "execution_count": 15,
   "metadata": {},
   "outputs": [],
   "source": [
    "?STAR"
   ]
  }
 ],
 "metadata": {
  "kernelspec": {
   "display_name": "R",
   "language": "R",
   "name": "ir"
  },
  "language_info": {
   "codemirror_mode": "r",
   "file_extension": ".r",
   "mimetype": "text/x-r-source",
   "name": "R",
   "pygments_lexer": "r",
   "version": "4.0.3"
  },
  "latex_envs": {
   "LaTeX_envs_menu_present": true,
   "autoclose": false,
   "autocomplete": true,
   "bibliofile": "biblio.bib",
   "cite_by": "apalike",
   "current_citInitial": 1,
   "eqLabelWithNumbers": true,
   "eqNumInitial": 1,
   "hotkeys": {
    "equation": "Ctrl-E",
    "itemize": "Ctrl-I"
   },
   "labels_anchors": false,
   "latex_user_defs": false,
   "report_style_numbering": false,
   "user_envs_cfg": false
  }
 },
 "nbformat": 4,
 "nbformat_minor": 1
}
