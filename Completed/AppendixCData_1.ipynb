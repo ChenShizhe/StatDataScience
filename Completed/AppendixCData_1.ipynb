{
 "cells": [
  {
   "cell_type": "markdown",
   "metadata": {},
   "source": [
    "# Appendix C Data "
   ]
  },
  {
   "cell_type": "markdown",
   "metadata": {},
   "source": [
    "## C.1 Data importation\n",
    "\n",
    "The first step in data analysis is to load the data set into your workspace. We will examine comma-separated value (CSV) data  and data from the Internet in this section. "
   ]
  },
  {
   "cell_type": "markdown",
   "metadata": {},
   "source": [
    "### C.1.1 Comma-separated value\n",
    "\n",
    "CSV is one of the most common formats for sharing data. The CSV data has the advantage of being human-readable. The disadvantage is that there is no actual standard for reading or writing these files.\n",
    "Here's an example of CSV data on heights:\n",
    "    \n",
    "    \"earn\",\"height\",\"sex\",\"ed\",\"age\",\"race\"\n",
    "    50000,74.4244387818035,\"male\",16,45,\"white\"\n",
    "    60000,65.5375428255647,\"female\",16,58,\"white\"\n",
    "    30000,63.6291977374349,\"female\",16,29,\"white\"\n",
    "    50000,63.1085616752971,\"female\",16,91,\"other\"\n",
    "    51000,63.4024835710879,\"female\",17,39,\"white\"\n",
    "    9000,64.3995075440034,\"female\",15,26,\"white\"\n",
    "    \n",
    "The first row (usually) has a *header* giving the column names. Subsequent rows give the actual data. Strings are (usually) quoted."
   ]
  },
  {
   "cell_type": "markdown",
   "metadata": {},
   "source": [
    "We might also see these data come in the format:\n",
    "    \n",
    "    earn,height,sex,ed,age,race\n",
    "    50000,74.4244387818035,male,16,45,white\n",
    "    60000,65.5375428255647,female,16,58,white\n",
    "    30000,63.6291977374349,female,16,29,white\n",
    "    50000,63.1085616752971,female,16,91,other\n",
    "    51000,63.4024835710879,female,17,39,white\n",
    "    9000,64.3995075440034,female,15,26,white\n",
    "    \n",
    "There are no quotes!"
   ]
  },
  {
   "cell_type": "markdown",
   "metadata": {},
   "source": [
    "Or even:\n",
    "\n",
    "    50000,74.4244387818035,male,16,45,white\n",
    "    60000,65.5375428255647,female,16,58,white\n",
    "    30000,63.6291977374349,female,16,29,white\n",
    "    50000,63.1085616752971,female,16,91,other\n",
    "    51000,63.4024835710879,female,17,39,white\n",
    "    9000,64.3995075440034,female,15,26,white\n",
    "    \n",
    "No column names!"
   ]
  },
  {
   "cell_type": "markdown",
   "metadata": {},
   "source": [
    "The `read_csv` command is designed to read this type of file. Note that this command is part of `tidyverse` and is **not** the `read.csv` in `R`. We generally want to use `read_csv` over `read.csv` since (i) it is much faster and (ii) it outputs nicely formatted `tibble`s which you can pass into other `tidyverse` functions."
   ]
  },
  {
   "cell_type": "code",
   "execution_count": 29,
   "metadata": {
    "scrolled": true
   },
   "outputs": [
    {
     "name": "stderr",
     "output_type": "stream",
     "text": [
      "\n",
      "\u001b[36m--\u001b[39m \u001b[1m\u001b[1mColumn specification\u001b[1m\u001b[22m \u001b[36m------------------------------------------------------------------------------------------------\u001b[39m\n",
      "cols(\n",
      "  earn = \u001b[32mcol_double()\u001b[39m,\n",
      "  height = \u001b[32mcol_double()\u001b[39m,\n",
      "  sex = \u001b[31mcol_character()\u001b[39m,\n",
      "  ed = \u001b[32mcol_double()\u001b[39m,\n",
      "  age = \u001b[32mcol_double()\u001b[39m,\n",
      "  race = \u001b[31mcol_character()\u001b[39m\n",
      ")\n",
      "\n",
      "\n"
     ]
    },
    {
     "name": "stdout",
     "output_type": "stream",
     "text": [
      "\u001b[90m# A tibble: 1,192 x 6\u001b[39m\n",
      "    earn height sex       ed   age race    \n",
      "   \u001b[3m\u001b[90m<dbl>\u001b[39m\u001b[23m  \u001b[3m\u001b[90m<dbl>\u001b[39m\u001b[23m \u001b[3m\u001b[90m<chr>\u001b[39m\u001b[23m  \u001b[3m\u001b[90m<dbl>\u001b[39m\u001b[23m \u001b[3m\u001b[90m<dbl>\u001b[39m\u001b[23m \u001b[3m\u001b[90m<chr>\u001b[39m\u001b[23m   \n",
      "\u001b[90m 1\u001b[39m \u001b[4m5\u001b[24m\u001b[4m0\u001b[24m000   74.4 male      16    45 white   \n",
      "\u001b[90m 2\u001b[39m \u001b[4m6\u001b[24m\u001b[4m0\u001b[24m000   65.5 female    16    58 white   \n",
      "\u001b[90m 3\u001b[39m \u001b[4m3\u001b[24m\u001b[4m0\u001b[24m000   63.6 female    16    29 white   \n",
      "\u001b[90m 4\u001b[39m \u001b[4m5\u001b[24m\u001b[4m0\u001b[24m000   63.1 female    16    91 other   \n",
      "\u001b[90m 5\u001b[39m \u001b[4m5\u001b[24m\u001b[4m1\u001b[24m000   63.4 female    17    39 white   \n",
      "\u001b[90m 6\u001b[39m  \u001b[4m9\u001b[24m000   64.4 female    15    26 white   \n",
      "\u001b[90m 7\u001b[39m \u001b[4m2\u001b[24m\u001b[4m9\u001b[24m000   61.7 female    12    49 white   \n",
      "\u001b[90m 8\u001b[39m \u001b[4m3\u001b[24m\u001b[4m2\u001b[24m000   72.7 male      17    46 white   \n",
      "\u001b[90m 9\u001b[39m  \u001b[4m2\u001b[24m000   72.0 male      15    21 hispanic\n",
      "\u001b[90m10\u001b[39m \u001b[4m2\u001b[24m\u001b[4m7\u001b[24m000   72.2 male      12    26 white   \n",
      "\u001b[90m# ... with 1,182 more rows\u001b[39m\n"
     ]
    }
   ],
   "source": [
    "library(tidyverse)\n",
    "heights<-read_csv(\"../Data/Heights.csv\") %>% print"
   ]
  },
  {
   "cell_type": "markdown",
   "metadata": {},
   "source": [
    "Here `read_csv` has told us what columns it found, and also what the data types it found for them are. Generally these will be correct but we will see examples later where it guesses wrongly and we have to manually override them."
   ]
  },
  {
   "cell_type": "markdown",
   "metadata": {},
   "source": [
    "Here is another version of `heights`, where we are not fortunate enough to have a header telling us which columns came from where. "
   ]
  },
  {
   "cell_type": "code",
   "execution_count": 31,
   "metadata": {},
   "outputs": [
    {
     "name": "stderr",
     "output_type": "stream",
     "text": [
      "\n",
      "\u001b[36m--\u001b[39m \u001b[1m\u001b[1mColumn specification\u001b[1m\u001b[22m \u001b[36m------------------------------------------------------------------------------------------------\u001b[39m\n",
      "cols(\n",
      "  `50000` = \u001b[32mcol_double()\u001b[39m,\n",
      "  `74.4244387818035` = \u001b[32mcol_double()\u001b[39m,\n",
      "  male = \u001b[31mcol_character()\u001b[39m,\n",
      "  `16` = \u001b[32mcol_double()\u001b[39m,\n",
      "  `45` = \u001b[32mcol_double()\u001b[39m,\n",
      "  white = \u001b[31mcol_character()\u001b[39m\n",
      ")\n",
      "\n",
      "\n"
     ]
    },
    {
     "name": "stdout",
     "output_type": "stream",
     "text": [
      "\u001b[90m# A tibble: 1,191 x 6\u001b[39m\n",
      "   `50000` `74.4244387818035` male    `16`  `45` white   \n",
      "     \u001b[3m\u001b[90m<dbl>\u001b[39m\u001b[23m              \u001b[3m\u001b[90m<dbl>\u001b[39m\u001b[23m \u001b[3m\u001b[90m<chr>\u001b[39m\u001b[23m  \u001b[3m\u001b[90m<dbl>\u001b[39m\u001b[23m \u001b[3m\u001b[90m<dbl>\u001b[39m\u001b[23m \u001b[3m\u001b[90m<chr>\u001b[39m\u001b[23m   \n",
      "\u001b[90m 1\u001b[39m   \u001b[4m6\u001b[24m\u001b[4m0\u001b[24m000               65.5 female    16    58 white   \n",
      "\u001b[90m 2\u001b[39m   \u001b[4m3\u001b[24m\u001b[4m0\u001b[24m000               63.6 female    16    29 white   \n",
      "\u001b[90m 3\u001b[39m   \u001b[4m5\u001b[24m\u001b[4m0\u001b[24m000               63.1 female    16    91 other   \n",
      "\u001b[90m 4\u001b[39m   \u001b[4m5\u001b[24m\u001b[4m1\u001b[24m000               63.4 female    17    39 white   \n",
      "\u001b[90m 5\u001b[39m    \u001b[4m9\u001b[24m000               64.4 female    15    26 white   \n",
      "\u001b[90m 6\u001b[39m   \u001b[4m2\u001b[24m\u001b[4m9\u001b[24m000               61.7 female    12    49 white   \n",
      "\u001b[90m 7\u001b[39m   \u001b[4m3\u001b[24m\u001b[4m2\u001b[24m000               72.7 male      17    46 white   \n",
      "\u001b[90m 8\u001b[39m    \u001b[4m2\u001b[24m000               72.0 male      15    21 hispanic\n",
      "\u001b[90m 9\u001b[39m   \u001b[4m2\u001b[24m\u001b[4m7\u001b[24m000               72.2 male      12    26 white   \n",
      "\u001b[90m10\u001b[39m    \u001b[4m6\u001b[24m530               69.5 male      16    65 white   \n",
      "\u001b[90m# ... with 1,181 more rows\u001b[39m\n"
     ]
    }
   ],
   "source": [
    "heights_no_hdr<-read_csv(\"../Data/Heights_no_hdr.csv\") %>% print"
   ]
  },
  {
   "cell_type": "markdown",
   "metadata": {},
   "source": [
    "Now `read_csv()` has erroneously assumed that the first row of data are the header names. To override this behavior, we need to specify the column names by hand. "
   ]
  },
  {
   "cell_type": "code",
   "execution_count": 32,
   "metadata": {},
   "outputs": [
    {
     "name": "stderr",
     "output_type": "stream",
     "text": [
      "\n",
      "\u001b[36m--\u001b[39m \u001b[1m\u001b[1mColumn specification\u001b[1m\u001b[22m \u001b[36m------------------------------------------------------------------------------------------------\u001b[39m\n",
      "cols(\n",
      "  X1 = \u001b[32mcol_double()\u001b[39m,\n",
      "  X2 = \u001b[32mcol_double()\u001b[39m,\n",
      "  X3 = \u001b[31mcol_character()\u001b[39m,\n",
      "  X4 = \u001b[32mcol_double()\u001b[39m,\n",
      "  X5 = \u001b[32mcol_double()\u001b[39m,\n",
      "  X6 = \u001b[31mcol_character()\u001b[39m\n",
      ")\n",
      "\n",
      "\n"
     ]
    },
    {
     "name": "stdout",
     "output_type": "stream",
     "text": [
      "\u001b[90m# A tibble: 1,192 x 6\u001b[39m\n",
      "      X1    X2 X3        X4    X5 X6      \n",
      "   \u001b[3m\u001b[90m<dbl>\u001b[39m\u001b[23m \u001b[3m\u001b[90m<dbl>\u001b[39m\u001b[23m \u001b[3m\u001b[90m<chr>\u001b[39m\u001b[23m  \u001b[3m\u001b[90m<dbl>\u001b[39m\u001b[23m \u001b[3m\u001b[90m<dbl>\u001b[39m\u001b[23m \u001b[3m\u001b[90m<chr>\u001b[39m\u001b[23m   \n",
      "\u001b[90m 1\u001b[39m \u001b[4m5\u001b[24m\u001b[4m0\u001b[24m000  74.4 male      16    45 white   \n",
      "\u001b[90m 2\u001b[39m \u001b[4m6\u001b[24m\u001b[4m0\u001b[24m000  65.5 female    16    58 white   \n",
      "\u001b[90m 3\u001b[39m \u001b[4m3\u001b[24m\u001b[4m0\u001b[24m000  63.6 female    16    29 white   \n",
      "\u001b[90m 4\u001b[39m \u001b[4m5\u001b[24m\u001b[4m0\u001b[24m000  63.1 female    16    91 other   \n",
      "\u001b[90m 5\u001b[39m \u001b[4m5\u001b[24m\u001b[4m1\u001b[24m000  63.4 female    17    39 white   \n",
      "\u001b[90m 6\u001b[39m  \u001b[4m9\u001b[24m000  64.4 female    15    26 white   \n",
      "\u001b[90m 7\u001b[39m \u001b[4m2\u001b[24m\u001b[4m9\u001b[24m000  61.7 female    12    49 white   \n",
      "\u001b[90m 8\u001b[39m \u001b[4m3\u001b[24m\u001b[4m2\u001b[24m000  72.7 male      17    46 white   \n",
      "\u001b[90m 9\u001b[39m  \u001b[4m2\u001b[24m000  72.0 male      15    21 hispanic\n",
      "\u001b[90m10\u001b[39m \u001b[4m2\u001b[24m\u001b[4m7\u001b[24m000  72.2 male      12    26 white   \n",
      "\u001b[90m# ... with 1,182 more rows\u001b[39m\n"
     ]
    }
   ],
   "source": [
    "heights_no_hdr<-read_csv(\"../Data/Heights_no_hdr.csv\",col_names=F) %>% print"
   ]
  },
  {
   "cell_type": "code",
   "execution_count": 36,
   "metadata": {},
   "outputs": [
    {
     "name": "stderr",
     "output_type": "stream",
     "text": [
      "\n",
      "\u001b[36m--\u001b[39m \u001b[1m\u001b[1mColumn specification\u001b[1m\u001b[22m \u001b[36m------------------------------------------------------------------------------------------------\u001b[39m\n",
      "cols(\n",
      "  earn = \u001b[32mcol_double()\u001b[39m,\n",
      "  height = \u001b[32mcol_double()\u001b[39m,\n",
      "  sex = \u001b[31mcol_character()\u001b[39m,\n",
      "  ed = \u001b[32mcol_double()\u001b[39m,\n",
      "  age = \u001b[32mcol_double()\u001b[39m,\n",
      "  race = \u001b[31mcol_character()\u001b[39m\n",
      ")\n",
      "\n",
      "\n"
     ]
    },
    {
     "name": "stdout",
     "output_type": "stream",
     "text": [
      "\u001b[90m# A tibble: 1,192 x 6\u001b[39m\n",
      "    earn height sex       ed   age race    \n",
      "   \u001b[3m\u001b[90m<dbl>\u001b[39m\u001b[23m  \u001b[3m\u001b[90m<dbl>\u001b[39m\u001b[23m \u001b[3m\u001b[90m<chr>\u001b[39m\u001b[23m  \u001b[3m\u001b[90m<dbl>\u001b[39m\u001b[23m \u001b[3m\u001b[90m<dbl>\u001b[39m\u001b[23m \u001b[3m\u001b[90m<chr>\u001b[39m\u001b[23m   \n",
      "\u001b[90m 1\u001b[39m \u001b[4m5\u001b[24m\u001b[4m0\u001b[24m000   74.4 male      16    45 white   \n",
      "\u001b[90m 2\u001b[39m \u001b[4m6\u001b[24m\u001b[4m0\u001b[24m000   65.5 female    16    58 white   \n",
      "\u001b[90m 3\u001b[39m \u001b[4m3\u001b[24m\u001b[4m0\u001b[24m000   63.6 female    16    29 white   \n",
      "\u001b[90m 4\u001b[39m \u001b[4m5\u001b[24m\u001b[4m0\u001b[24m000   63.1 female    16    91 other   \n",
      "\u001b[90m 5\u001b[39m \u001b[4m5\u001b[24m\u001b[4m1\u001b[24m000   63.4 female    17    39 white   \n",
      "\u001b[90m 6\u001b[39m  \u001b[4m9\u001b[24m000   64.4 female    15    26 white   \n",
      "\u001b[90m 7\u001b[39m \u001b[4m2\u001b[24m\u001b[4m9\u001b[24m000   61.7 female    12    49 white   \n",
      "\u001b[90m 8\u001b[39m \u001b[4m3\u001b[24m\u001b[4m2\u001b[24m000   72.7 male      17    46 white   \n",
      "\u001b[90m 9\u001b[39m  \u001b[4m2\u001b[24m000   72.0 male      15    21 hispanic\n",
      "\u001b[90m10\u001b[39m \u001b[4m2\u001b[24m\u001b[4m7\u001b[24m000   72.2 male      12    26 white   \n",
      "\u001b[90m# ... with 1,182 more rows\u001b[39m\n"
     ]
    }
   ],
   "source": [
    "heights_no_hdr<-read_csv(\"../Data/Heights_no_hdr.csv\",\n",
    "                         col_names=c(\"earn\",\"height\",\"sex\",\"ed\",\"age\",\"race\" )) %>% print"
   ]
  },
  {
   "cell_type": "markdown",
   "metadata": {},
   "source": [
    "To create short examples illustrating `read_csv`'s behavior, we can specify the contents of a csv file inline."
   ]
  },
  {
   "cell_type": "code",
   "execution_count": 39,
   "metadata": {},
   "outputs": [
    {
     "data": {
      "text/html": [
       "<table>\n",
       "<caption>A spec_tbl_df: 2 × 3</caption>\n",
       "<thead>\n",
       "\t<tr><th scope=col>a</th><th scope=col>b</th><th scope=col>c</th></tr>\n",
       "\t<tr><th scope=col>&lt;dbl&gt;</th><th scope=col>&lt;dbl&gt;</th><th scope=col>&lt;dbl&gt;</th></tr>\n",
       "</thead>\n",
       "<tbody>\n",
       "\t<tr><td>1</td><td>2</td><td>3</td></tr>\n",
       "\t<tr><td>4</td><td>5</td><td>6</td></tr>\n",
       "</tbody>\n",
       "</table>\n"
      ],
      "text/latex": [
       "A spec\\_tbl\\_df: 2 × 3\n",
       "\\begin{tabular}{lll}\n",
       " a & b & c\\\\\n",
       " <dbl> & <dbl> & <dbl>\\\\\n",
       "\\hline\n",
       "\t 1 & 2 & 3\\\\\n",
       "\t 4 & 5 & 6\\\\\n",
       "\\end{tabular}\n"
      ],
      "text/markdown": [
       "\n",
       "A spec_tbl_df: 2 × 3\n",
       "\n",
       "| a &lt;dbl&gt; | b &lt;dbl&gt; | c &lt;dbl&gt; |\n",
       "|---|---|---|\n",
       "| 1 | 2 | 3 |\n",
       "| 4 | 5 | 6 |\n",
       "\n"
      ],
      "text/plain": [
       "  a b c\n",
       "1 1 2 3\n",
       "2 4 5 6"
      ]
     },
     "metadata": {},
     "output_type": "display_data"
    }
   ],
   "source": [
    "read_csv(\n",
    "\"a, b, c\n",
    "1, 2, 3\n",
    "4, 5, 6\n",
    "\"\n",
    ")"
   ]
  },
  {
   "cell_type": "markdown",
   "metadata": {},
   "source": [
    "We might want to skip a few rows in the beginning that have metadata."
   ]
  },
  {
   "cell_type": "code",
   "execution_count": 43,
   "metadata": {},
   "outputs": [
    {
     "data": {
      "text/html": [
       "<table>\n",
       "<caption>A spec_tbl_df: 2 × 3</caption>\n",
       "<thead>\n",
       "\t<tr><th scope=col>a</th><th scope=col>b</th><th scope=col>c</th></tr>\n",
       "\t<tr><th scope=col>&lt;dbl&gt;</th><th scope=col>&lt;dbl&gt;</th><th scope=col>&lt;dbl&gt;</th></tr>\n",
       "</thead>\n",
       "<tbody>\n",
       "\t<tr><td>1</td><td>2</td><td>3</td></tr>\n",
       "\t<tr><td>4</td><td>5</td><td>6</td></tr>\n",
       "</tbody>\n",
       "</table>\n"
      ],
      "text/latex": [
       "A spec\\_tbl\\_df: 2 × 3\n",
       "\\begin{tabular}{lll}\n",
       " a & b & c\\\\\n",
       " <dbl> & <dbl> & <dbl>\\\\\n",
       "\\hline\n",
       "\t 1 & 2 & 3\\\\\n",
       "\t 4 & 5 & 6\\\\\n",
       "\\end{tabular}\n"
      ],
      "text/markdown": [
       "\n",
       "A spec_tbl_df: 2 × 3\n",
       "\n",
       "| a &lt;dbl&gt; | b &lt;dbl&gt; | c &lt;dbl&gt; |\n",
       "|---|---|---|\n",
       "| 1 | 2 | 3 |\n",
       "| 4 | 5 | 6 |\n",
       "\n"
      ],
      "text/plain": [
       "  a b c\n",
       "1 1 2 3\n",
       "2 4 5 6"
      ]
     },
     "metadata": {},
     "output_type": "display_data"
    }
   ],
   "source": [
    "read_csv(\n",
    "\"# Title\n",
    "// date \n",
    "% comments\n",
    "a, b, c\n",
    "1, 2, 3\n",
    "4, 5, 6\n",
    "\", skip=3\n",
    ")"
   ]
  },
  {
   "cell_type": "markdown",
   "metadata": {},
   "source": [
    "Some CSVs will come with comments, typically in the form of lines prefaced by `#`. We can also skip comments line by specifying a comment character."
   ]
  },
  {
   "cell_type": "code",
   "execution_count": 45,
   "metadata": {},
   "outputs": [
    {
     "data": {
      "text/html": [
       "<table>\n",
       "<caption>A spec_tbl_df: 2 × 3</caption>\n",
       "<thead>\n",
       "\t<tr><th scope=col>a</th><th scope=col>b</th><th scope=col>c</th></tr>\n",
       "\t<tr><th scope=col>&lt;dbl&gt;</th><th scope=col>&lt;dbl&gt;</th><th scope=col>&lt;dbl&gt;</th></tr>\n",
       "</thead>\n",
       "<tbody>\n",
       "\t<tr><td>1</td><td>2</td><td>3</td></tr>\n",
       "\t<tr><td>4</td><td>5</td><td>6</td></tr>\n",
       "</tbody>\n",
       "</table>\n"
      ],
      "text/latex": [
       "A spec\\_tbl\\_df: 2 × 3\n",
       "\\begin{tabular}{lll}\n",
       " a & b & c\\\\\n",
       " <dbl> & <dbl> & <dbl>\\\\\n",
       "\\hline\n",
       "\t 1 & 2 & 3\\\\\n",
       "\t 4 & 5 & 6\\\\\n",
       "\\end{tabular}\n"
      ],
      "text/markdown": [
       "\n",
       "A spec_tbl_df: 2 × 3\n",
       "\n",
       "| a &lt;dbl&gt; | b &lt;dbl&gt; | c &lt;dbl&gt; |\n",
       "|---|---|---|\n",
       "| 1 | 2 | 3 |\n",
       "| 4 | 5 | 6 |\n",
       "\n"
      ],
      "text/plain": [
       "  a b c\n",
       "1 1 2 3\n",
       "2 4 5 6"
      ]
     },
     "metadata": {},
     "output_type": "display_data"
    }
   ],
   "source": [
    "read_csv(\n",
    "\"# comment 1\n",
    "# comment 2\n",
    "a, b, c\n",
    "1, 2, 3\n",
    "# comment 3\n",
    "4, 5, 6\n",
    "# comment 4\n",
    "\",comment=\"#\"\n",
    ")"
   ]
  },
  {
   "cell_type": "markdown",
   "metadata": {},
   "source": [
    "Set `col_names = FALSE` when you don't have column names in the file. The column names are then set to X1, X2, ..."
   ]
  },
  {
   "cell_type": "code",
   "execution_count": 46,
   "metadata": {},
   "outputs": [
    {
     "data": {
      "text/html": [
       "<table>\n",
       "<caption>A spec_tbl_df: 3 × 3</caption>\n",
       "<thead>\n",
       "\t<tr><th scope=col>X1</th><th scope=col>X2</th><th scope=col>X3</th></tr>\n",
       "\t<tr><th scope=col>&lt;chr&gt;</th><th scope=col>&lt;chr&gt;</th><th scope=col>&lt;chr&gt;</th></tr>\n",
       "</thead>\n",
       "<tbody>\n",
       "\t<tr><td>a</td><td>b</td><td>c</td></tr>\n",
       "\t<tr><td>1</td><td>2</td><td>3</td></tr>\n",
       "\t<tr><td>4</td><td>5</td><td>6</td></tr>\n",
       "</tbody>\n",
       "</table>\n"
      ],
      "text/latex": [
       "A spec\\_tbl\\_df: 3 × 3\n",
       "\\begin{tabular}{lll}\n",
       " X1 & X2 & X3\\\\\n",
       " <chr> & <chr> & <chr>\\\\\n",
       "\\hline\n",
       "\t a & b & c\\\\\n",
       "\t 1 & 2 & 3\\\\\n",
       "\t 4 & 5 & 6\\\\\n",
       "\\end{tabular}\n"
      ],
      "text/markdown": [
       "\n",
       "A spec_tbl_df: 3 × 3\n",
       "\n",
       "| X1 &lt;chr&gt; | X2 &lt;chr&gt; | X3 &lt;chr&gt; |\n",
       "|---|---|---|\n",
       "| a | b | c |\n",
       "| 1 | 2 | 3 |\n",
       "| 4 | 5 | 6 |\n",
       "\n"
      ],
      "text/plain": [
       "  X1 X2 X3\n",
       "1 a  b  c \n",
       "2 1  2  3 \n",
       "3 4  5  6 "
      ]
     },
     "metadata": {},
     "output_type": "display_data"
    }
   ],
   "source": [
    "read_csv(\n",
    "\"a, b, c\n",
    "1, 2, 3\n",
    "4, 5, 6\n",
    "\", col_names=F\n",
    ")"
   ]
  },
  {
   "cell_type": "markdown",
   "metadata": {},
   "source": [
    "We can specify our own column names."
   ]
  },
  {
   "cell_type": "code",
   "execution_count": 47,
   "metadata": {},
   "outputs": [
    {
     "data": {
      "text/html": [
       "<table>\n",
       "<caption>A spec_tbl_df: 3 × 3</caption>\n",
       "<thead>\n",
       "\t<tr><th scope=col>name 1</th><th scope=col>name 2</th><th scope=col>name 3</th></tr>\n",
       "\t<tr><th scope=col>&lt;chr&gt;</th><th scope=col>&lt;chr&gt;</th><th scope=col>&lt;chr&gt;</th></tr>\n",
       "</thead>\n",
       "<tbody>\n",
       "\t<tr><td>a</td><td>b</td><td>c</td></tr>\n",
       "\t<tr><td>1</td><td>2</td><td>3</td></tr>\n",
       "\t<tr><td>4</td><td>5</td><td>6</td></tr>\n",
       "</tbody>\n",
       "</table>\n"
      ],
      "text/latex": [
       "A spec\\_tbl\\_df: 3 × 3\n",
       "\\begin{tabular}{lll}\n",
       " name 1 & name 2 & name 3\\\\\n",
       " <chr> & <chr> & <chr>\\\\\n",
       "\\hline\n",
       "\t a & b & c\\\\\n",
       "\t 1 & 2 & 3\\\\\n",
       "\t 4 & 5 & 6\\\\\n",
       "\\end{tabular}\n"
      ],
      "text/markdown": [
       "\n",
       "A spec_tbl_df: 3 × 3\n",
       "\n",
       "| name 1 &lt;chr&gt; | name 2 &lt;chr&gt; | name 3 &lt;chr&gt; |\n",
       "|---|---|---|\n",
       "| a | b | c |\n",
       "| 1 | 2 | 3 |\n",
       "| 4 | 5 | 6 |\n",
       "\n"
      ],
      "text/plain": [
       "  name 1 name 2 name 3\n",
       "1 a      b      c     \n",
       "2 1      2      3     \n",
       "3 4      5      6     "
      ]
     },
     "metadata": {},
     "output_type": "display_data"
    }
   ],
   "source": [
    "read_csv(\n",
    "\"a, b, c\n",
    "1, 2, 3\n",
    "4, 5, 6\n",
    "\", col_names=c('name 1','name 2', 'name 3')\n",
    ")"
   ]
  },
  {
   "cell_type": "markdown",
   "metadata": {},
   "source": [
    "We can specify how missing values are represented in the file."
   ]
  },
  {
   "cell_type": "code",
   "execution_count": 48,
   "metadata": {},
   "outputs": [
    {
     "data": {
      "text/html": [
       "<table>\n",
       "<caption>A spec_tbl_df: 2 × 3</caption>\n",
       "<thead>\n",
       "\t<tr><th scope=col>a</th><th scope=col>b</th><th scope=col>c</th></tr>\n",
       "\t<tr><th scope=col>&lt;dbl&gt;</th><th scope=col>&lt;dbl&gt;</th><th scope=col>&lt;dbl&gt;</th></tr>\n",
       "</thead>\n",
       "<tbody>\n",
       "\t<tr><td>1</td><td> 2</td><td>3</td></tr>\n",
       "\t<tr><td>4</td><td>NA</td><td>6</td></tr>\n",
       "</tbody>\n",
       "</table>\n"
      ],
      "text/latex": [
       "A spec\\_tbl\\_df: 2 × 3\n",
       "\\begin{tabular}{lll}\n",
       " a & b & c\\\\\n",
       " <dbl> & <dbl> & <dbl>\\\\\n",
       "\\hline\n",
       "\t 1 &  2 & 3\\\\\n",
       "\t 4 & NA & 6\\\\\n",
       "\\end{tabular}\n"
      ],
      "text/markdown": [
       "\n",
       "A spec_tbl_df: 2 × 3\n",
       "\n",
       "| a &lt;dbl&gt; | b &lt;dbl&gt; | c &lt;dbl&gt; |\n",
       "|---|---|---|\n",
       "| 1 |  2 | 3 |\n",
       "| 4 | NA | 6 |\n",
       "\n"
      ],
      "text/plain": [
       "  a b  c\n",
       "1 1  2 3\n",
       "2 4 NA 6"
      ]
     },
     "metadata": {},
     "output_type": "display_data"
    }
   ],
   "source": [
    "read_csv(\n",
    "\"a, b, c\n",
    "1, 2, 3\n",
    "4, , 6\n",
    "\"\n",
    ")"
   ]
  },
  {
   "cell_type": "code",
   "execution_count": 53,
   "metadata": {},
   "outputs": [
    {
     "data": {
      "text/html": [
       "<table>\n",
       "<caption>A spec_tbl_df: 2 × 3</caption>\n",
       "<thead>\n",
       "\t<tr><th scope=col>a</th><th scope=col>b</th><th scope=col>c</th></tr>\n",
       "\t<tr><th scope=col>&lt;dbl&gt;</th><th scope=col>&lt;dbl&gt;</th><th scope=col>&lt;dbl&gt;</th></tr>\n",
       "</thead>\n",
       "<tbody>\n",
       "\t<tr><td>1</td><td> 2</td><td>3</td></tr>\n",
       "\t<tr><td>4</td><td>NA</td><td>6</td></tr>\n",
       "</tbody>\n",
       "</table>\n"
      ],
      "text/latex": [
       "A spec\\_tbl\\_df: 2 × 3\n",
       "\\begin{tabular}{lll}\n",
       " a & b & c\\\\\n",
       " <dbl> & <dbl> & <dbl>\\\\\n",
       "\\hline\n",
       "\t 1 &  2 & 3\\\\\n",
       "\t 4 & NA & 6\\\\\n",
       "\\end{tabular}\n"
      ],
      "text/markdown": [
       "\n",
       "A spec_tbl_df: 2 × 3\n",
       "\n",
       "| a &lt;dbl&gt; | b &lt;dbl&gt; | c &lt;dbl&gt; |\n",
       "|---|---|---|\n",
       "| 1 |  2 | 3 |\n",
       "| 4 | NA | 6 |\n",
       "\n"
      ],
      "text/plain": [
       "  a b  c\n",
       "1 1  2 3\n",
       "2 4 NA 6"
      ]
     },
     "metadata": {},
     "output_type": "display_data"
    }
   ],
   "source": [
    "read_csv(\n",
    "\"a, b, c\n",
    "1, 2, 3\n",
    "4, -999, 6\n",
    "\", na=\"-999\"\n",
    ")\n",
    "?read_csv"
   ]
  },
  {
   "cell_type": "markdown",
   "metadata": {},
   "source": [
    "We can save a `data.frame` to a `.csv` file using `write_csv()`."
   ]
  },
  {
   "cell_type": "code",
   "execution_count": 62,
   "metadata": {},
   "outputs": [
    {
     "name": "stdout",
     "output_type": "stream",
     "text": [
      "   1st 2nd  3rd\n",
      "1    1   1    1\n",
      "2    2   4    8\n",
      "3    3   9   27\n",
      "4    4  16   64\n",
      "5    5  25  125\n",
      "6    6  36  216\n",
      "7    7  49  343\n",
      "8    8  64  512\n",
      "9    9  81  729\n",
      "10  10 100 1000\n"
     ]
    },
    {
     "data": {
      "text/html": [
       "<style>\n",
       ".list-inline {list-style: none; margin:0; padding: 0}\n",
       ".list-inline>li {display: inline-block}\n",
       ".list-inline>li:not(:last-child)::after {content: \"\\00b7\"; padding: 0 .5ex}\n",
       "</style>\n",
       "<ol class=list-inline><li>'1'</li><li>'2'</li><li>'3'</li><li>'4'</li><li>'5'</li><li>'6'</li><li>'7'</li><li>'8'</li><li>'9'</li><li>'10'</li></ol>\n"
      ],
      "text/latex": [
       "\\begin{enumerate*}\n",
       "\\item '1'\n",
       "\\item '2'\n",
       "\\item '3'\n",
       "\\item '4'\n",
       "\\item '5'\n",
       "\\item '6'\n",
       "\\item '7'\n",
       "\\item '8'\n",
       "\\item '9'\n",
       "\\item '10'\n",
       "\\end{enumerate*}\n"
      ],
      "text/markdown": [
       "1. '1'\n",
       "2. '2'\n",
       "3. '3'\n",
       "4. '4'\n",
       "5. '5'\n",
       "6. '6'\n",
       "7. '7'\n",
       "8. '8'\n",
       "9. '9'\n",
       "10. '10'\n",
       "\n",
       "\n"
      ],
      "text/plain": [
       " [1] \"1\"  \"2\"  \"3\"  \"4\"  \"5\"  \"6\"  \"7\"  \"8\"  \"9\"  \"10\""
      ]
     },
     "metadata": {},
     "output_type": "display_data"
    }
   ],
   "source": [
    "cubes <- data.frame(cbind(1:10, (1:10)^2, (1:10)^3) )\n",
    "colnames(cubes)<-c(\"1st\", \"2nd\", \"3rd\")\n",
    "cubes %>% print\n",
    "rownames(cubes)"
   ]
  },
  {
   "cell_type": "code",
   "execution_count": 64,
   "metadata": {},
   "outputs": [],
   "source": [
    "write_csv(cubes, \"../Data/cubes.csv\")"
   ]
  },
  {
   "cell_type": "code",
   "execution_count": 65,
   "metadata": {
    "scrolled": true
   },
   "outputs": [
    {
     "name": "stderr",
     "output_type": "stream",
     "text": [
      "\n",
      "\u001b[36m--\u001b[39m \u001b[1m\u001b[1mColumn specification\u001b[1m\u001b[22m \u001b[36m------------------------------------------------------------------------------------------------\u001b[39m\n",
      "cols(\n",
      "  `1st` = \u001b[32mcol_double()\u001b[39m,\n",
      "  `2nd` = \u001b[32mcol_double()\u001b[39m,\n",
      "  `3rd` = \u001b[32mcol_double()\u001b[39m\n",
      ")\n",
      "\n",
      "\n"
     ]
    },
    {
     "data": {
      "text/html": [
       "<table>\n",
       "<caption>A spec_tbl_df: 10 × 3</caption>\n",
       "<thead>\n",
       "\t<tr><th scope=col>1st</th><th scope=col>2nd</th><th scope=col>3rd</th></tr>\n",
       "\t<tr><th scope=col>&lt;dbl&gt;</th><th scope=col>&lt;dbl&gt;</th><th scope=col>&lt;dbl&gt;</th></tr>\n",
       "</thead>\n",
       "<tbody>\n",
       "\t<tr><td> 1</td><td>  1</td><td>   1</td></tr>\n",
       "\t<tr><td> 2</td><td>  4</td><td>   8</td></tr>\n",
       "\t<tr><td> 3</td><td>  9</td><td>  27</td></tr>\n",
       "\t<tr><td> 4</td><td> 16</td><td>  64</td></tr>\n",
       "\t<tr><td> 5</td><td> 25</td><td> 125</td></tr>\n",
       "\t<tr><td> 6</td><td> 36</td><td> 216</td></tr>\n",
       "\t<tr><td> 7</td><td> 49</td><td> 343</td></tr>\n",
       "\t<tr><td> 8</td><td> 64</td><td> 512</td></tr>\n",
       "\t<tr><td> 9</td><td> 81</td><td> 729</td></tr>\n",
       "\t<tr><td>10</td><td>100</td><td>1000</td></tr>\n",
       "</tbody>\n",
       "</table>\n"
      ],
      "text/latex": [
       "A spec\\_tbl\\_df: 10 × 3\n",
       "\\begin{tabular}{lll}\n",
       " 1st & 2nd & 3rd\\\\\n",
       " <dbl> & <dbl> & <dbl>\\\\\n",
       "\\hline\n",
       "\t  1 &   1 &    1\\\\\n",
       "\t  2 &   4 &    8\\\\\n",
       "\t  3 &   9 &   27\\\\\n",
       "\t  4 &  16 &   64\\\\\n",
       "\t  5 &  25 &  125\\\\\n",
       "\t  6 &  36 &  216\\\\\n",
       "\t  7 &  49 &  343\\\\\n",
       "\t  8 &  64 &  512\\\\\n",
       "\t  9 &  81 &  729\\\\\n",
       "\t 10 & 100 & 1000\\\\\n",
       "\\end{tabular}\n"
      ],
      "text/markdown": [
       "\n",
       "A spec_tbl_df: 10 × 3\n",
       "\n",
       "| 1st &lt;dbl&gt; | 2nd &lt;dbl&gt; | 3rd &lt;dbl&gt; |\n",
       "|---|---|---|\n",
       "|  1 |   1 |    1 |\n",
       "|  2 |   4 |    8 |\n",
       "|  3 |   9 |   27 |\n",
       "|  4 |  16 |   64 |\n",
       "|  5 |  25 |  125 |\n",
       "|  6 |  36 |  216 |\n",
       "|  7 |  49 |  343 |\n",
       "|  8 |  64 |  512 |\n",
       "|  9 |  81 |  729 |\n",
       "| 10 | 100 | 1000 |\n",
       "\n"
      ],
      "text/plain": [
       "   1st 2nd 3rd \n",
       "1   1    1    1\n",
       "2   2    4    8\n",
       "3   3    9   27\n",
       "4   4   16   64\n",
       "5   5   25  125\n",
       "6   6   36  216\n",
       "7   7   49  343\n",
       "8   8   64  512\n",
       "9   9   81  729\n",
       "10 10  100 1000"
      ]
     },
     "metadata": {},
     "output_type": "display_data"
    }
   ],
   "source": [
    "read_csv('../Data/cubes.csv')"
   ]
  },
  {
   "cell_type": "code",
   "execution_count": null,
   "metadata": {
    "scrolled": false
   },
   "outputs": [],
   "source": []
  }
 ],
 "metadata": {
  "kernelspec": {
   "display_name": "R",
   "language": "R",
   "name": "ir"
  },
  "language_info": {
   "codemirror_mode": "r",
   "file_extension": ".r",
   "mimetype": "text/x-r-source",
   "name": "R",
   "pygments_lexer": "r",
   "version": "4.0.3"
  },
  "latex_envs": {
   "LaTeX_envs_menu_present": true,
   "autoclose": false,
   "autocomplete": true,
   "bibliofile": "biblio.bib",
   "cite_by": "apalike",
   "current_citInitial": 1,
   "eqLabelWithNumbers": true,
   "eqNumInitial": 1,
   "hotkeys": {
    "equation": "Ctrl-E",
    "itemize": "Ctrl-I"
   },
   "labels_anchors": false,
   "latex_user_defs": false,
   "report_style_numbering": false,
   "user_envs_cfg": false
  }
 },
 "nbformat": 4,
 "nbformat_minor": 1
}
