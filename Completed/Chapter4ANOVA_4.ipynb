{
 "cells": [
  {
   "cell_type": "markdown",
   "metadata": {},
   "source": [
    "# Chapter 4 Analysis of Variance\n",
    "     "
   ]
  },
  {
   "cell_type": "markdown",
   "metadata": {},
   "source": [
    "### 4.1.4 Alternative forms of ANOVA\n",
    "\n",
    "**Factor effect form**\n",
    "\n",
    "Let $\\mu=\\sum_{i=1}^r w_i \\mu_i$ and $\\tau_i = \\mu_i -\\mu$. Then $\\sum_{i=1}^r w_i \\tau_i=0$. We can rewrite the ANOVA model as \n",
    "\\[\n",
    "Y_{ij}=\\mu+\\tau_i+\\epsilon_{ij}, \n",
    "\\]\n",
    "where $\\{\\epsilon_{ij}\\}$ are i.i.d. $N(0,\\sigma^2)$. \n",
    "\n",
    "The least squares estimators are $\\hat{\\mu}=\\sum_{i=1}^r w_i \\bar{Y}_{i\\cdot}$ and $\\hat{\\tau}_i = \\bar{Y}_{i\\cdot} -\\hat{\\mu}$. \n",
    "\n",
    "Notes in `R`:\n",
    "1. One of $\\tau_i$ is set to zero by default.\n",
    "2. `R` assumes $w_i=n_i/n_T$  for one-way ANOVA, but equal weights for higher-order ANOVAs. \n",
    "    \n"
   ]
  },
  {
   "cell_type": "code",
   "execution_count": 2,
   "metadata": {},
   "outputs": [
    {
     "data": {
      "text/html": [
       "<style>\n",
       ".dl-inline {width: auto; margin:0; padding: 0}\n",
       ".dl-inline>dt, .dl-inline>dd {float: none; width: auto; display: inline-block}\n",
       ".dl-inline>dt::after {content: \":\\0020\"; padding-right: .5ex}\n",
       ".dl-inline>dt:not(:first-of-type) {padding-left: .5ex}\n",
       "</style><dl class=dl-inline><dt>(Intercept)</dt><dd>14.6222222222222</dd><dt>Judge2</dt><dd>18.9944444444444</dd><dt>Judge3</dt><dd>14.4777777777778</dd><dt>Judge4</dt><dd>12.1777777777778</dd></dl>\n"
      ],
      "text/latex": [
       "\\begin{description*}\n",
       "\\item[(Intercept)] 14.6222222222222\n",
       "\\item[Judge2] 18.9944444444444\n",
       "\\item[Judge3] 14.4777777777778\n",
       "\\item[Judge4] 12.1777777777778\n",
       "\\end{description*}\n"
      ],
      "text/markdown": [
       "(Intercept)\n",
       ":   14.6222222222222Judge2\n",
       ":   18.9944444444444Judge3\n",
       ":   14.4777777777778Judge4\n",
       ":   12.1777777777778\n",
       "\n"
      ],
      "text/plain": [
       "(Intercept)      Judge2      Judge3      Judge4 \n",
       "   14.62222    18.99444    14.47778    12.17778 "
      ]
     },
     "metadata": {},
     "output_type": "display_data"
    }
   ],
   "source": [
    "Spock <- read.csv(file=\"../Data/SpockTrial.csv\", header=TRUE, sep=\",\")\n",
    "Spock$Judge<-as.factor(Spock$Judge);\n",
    "anova.fit<- aov(perc.women~Judge,data=Spock)\n",
    "# Summary\n",
    "anova.fit$coef\n",
    "?aov"
   ]
  },
  {
   "cell_type": "markdown",
   "metadata": {},
   "source": [
    "**Regression form**\n",
    "  \n",
    "There are multiple equivalent forms to turn a cell-mean model into the typical linear regression form. \n",
    "The regression equation takes the following form, for $j=1,\\ldots, n_i,\\ \\quad i=1,\\ldots, r,$ \n",
    " \\[\n",
    "  Y_{ij}=\\mu +\\tau_2 X_{2,ij}+\\tau_3 X_{3,ij} + \\tau_4 X_{4,ij} +\\epsilon_{ij}. \n",
    " \\]\n",
    "where $\\{\\epsilon_{ij}\\}$ are i.i.d. $N(0,\\sigma^2)$. But there are multiple choices in the coding of $\\{X_{1,ij},\\ldots, X_{4,ij}\\}$. \n",
    "1. _Dummy variables_, e.g., $X_{l,ij}=1$ when $l=i$ and 0 otherwise. \n",
    "2. $X_{l,ij}=1$ when $l=i$, $X_{l,ij}=-1$ when $l=4$, and $X_{l,ij}=0$ otherwise. This is equivalent form for an ANOVA model with equal weights. \n",
    "3. $X_{l,ij}=1$ when $l=i$, $X_{l,ij}=-n_l/n_4$ when $l=4$, and $X_{l,ij}=0$ otherwise. This is equivalent to an ANOVA model with unequal weights. \n",
    "\n",
    "It is easy to see that all three regression models are equivalent, since they are all equivalent forms of the same ANOVA model. However, the interpretations of the model parameters (i.e., $\\tau$s) may differ slightly."
   ]
  }
 ],
 "metadata": {
  "author": "\\mu",
  "kernelspec": {
   "display_name": "R",
   "language": "R",
   "name": "ir"
  },
  "language_info": {
   "codemirror_mode": "r",
   "file_extension": ".r",
   "mimetype": "text/x-r-source",
   "name": "R",
   "pygments_lexer": "r",
   "version": "4.0.3"
  },
  "latex_envs": {
   "LaTeX_envs_menu_present": true,
   "autoclose": false,
   "autocomplete": true,
   "bibliofile": "biblio.bib",
   "cite_by": "apalike",
   "current_citInitial": 1,
   "eqLabelWithNumbers": true,
   "eqNumInitial": 1,
   "hotkeys": {
    "equation": "Ctrl-E",
    "itemize": "Ctrl-I"
   },
   "labels_anchors": false,
   "latex_user_defs": false,
   "report_style_numbering": false,
   "user_envs_cfg": false
  }
 },
 "nbformat": 4,
 "nbformat_minor": 2
}
