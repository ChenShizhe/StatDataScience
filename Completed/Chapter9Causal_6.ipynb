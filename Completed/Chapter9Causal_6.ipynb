{
 "cells": [
  {
   "cell_type": "markdown",
   "metadata": {},
   "source": [
    "### 9.4.3 Elementary strategies\n",
    "\n",
    "**Stratification.**\n",
    "\n",
    "\n",
    "We can identify the ${\\rm ACE}$ via the conditional average causal effect as follows \n",
    "\\begin{align}\n",
    "{\\rm ACE} & = \\mathbb{E}[Y_i(1)-Y_i(0)]= \\mathbb{E}\\big\\{ \\mathbb{E}[Y_i(1)-Y_i(0)|X_i] \\big\\}\\\\\n",
    "& = \\int \\big\\{ \\mathbb{E}[Y_i|Z_i=1,X_i]-\\mathbb{E}[Y_i|Z_i,X_i] \\big\\} d F( X).\n",
    "\\end{align}\n",
    "\n",
    "Suppose that $x_i \\in \\{1,2,\\ldots, K\\}$. Under the ignorability assumption that $Y_{i}(Z) \\perp Z_i \\mid X_i$, which means that $Z_i$ is randominzed in subgroup $\\{i: x_i=k\\}$. \n",
    "We then have \n",
    "\\[\n",
    "\\hat{\\rm ACE}=\\sum_{k=1}^K \\frac{n_{[k]}}{n} \\hat{\\rm ACE}_{[k]}.\n",
    "\\]\n",
    "It is challenging when we have a larger $K$ (e.g., when there are multiple variables). \n"
   ]
  }
 ],
 "metadata": {
  "kernelspec": {
   "display_name": "R",
   "language": "R",
   "name": "ir"
  },
  "language_info": {
   "codemirror_mode": "r",
   "file_extension": ".r",
   "mimetype": "text/x-r-source",
   "name": "R",
   "pygments_lexer": "r",
   "version": "4.0.3"
  },
  "latex_envs": {
   "LaTeX_envs_menu_present": true,
   "autoclose": false,
   "autocomplete": true,
   "bibliofile": "biblio.bib",
   "cite_by": "apalike",
   "current_citInitial": 1,
   "eqLabelWithNumbers": true,
   "eqNumInitial": 1,
   "hotkeys": {
    "equation": "Ctrl-E",
    "itemize": "Ctrl-I"
   },
   "labels_anchors": false,
   "latex_user_defs": false,
   "report_style_numbering": false,
   "user_envs_cfg": false
  }
 },
 "nbformat": 4,
 "nbformat_minor": 2
}
