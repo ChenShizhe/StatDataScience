{
 "cells": [
  {
   "cell_type": "markdown",
   "metadata": {},
   "source": [
    "### 6.4.3 Split-sample validation "
   ]
  },
  {
   "cell_type": "markdown",
   "metadata": {},
   "source": [
    "Rather than constraining the complexity, we can directly deal with overfitting. The issue of overfitting is when the model over fits the random patterns in the data set, where these patterns will not be seen in the new observations. A straight-forward way to address this issue is to employ **independent Validation**. That is, the chosen criterion will be evaluated on an independent testing set, where the model is trained on a training set. \n",
    "\n",
    "In practice, we may not be able to collect a new set of data from the same population using the same sampling scheme. However, we can create the training-test sets from one data set. We can *randomly* split the data set into two sets, where $q\\%$ of the data belong to the training set and $(1-q)\\%$ the test set. When the split is random, it is reasonable to believe that the two sets share the same data generating mechanism. The split needs some careful thoughts when there are structures in the data (e.g., time series data). \n",
    "\n",
    "After splitting the data set into training set and test set, we can explore any models in the training set, and to evaluate their performance in the test data. \n",
    "\n",
    "\n",
    "Split sample validation protects against over-optimism due to fishing through hypotheses on the training data. However, split Sample Validation does not necessarily give a great estimate of performance \"in the wild\". For instance, \n",
    "- If all samples were run in one lab, your data cannot say how well things generalize to other labs\n",
    "- Effects found in a subpopulation defined by one criteria may not reproduce if the subpopulation is defined by a different (but nominally similar) criteria."
   ]
  },
  {
   "cell_type": "markdown",
   "metadata": {},
   "source": [
    "**Example** Split Sample Validation - Lasso\n",
    "\n",
    "For choosing $\\lambda$ in the lasso...\n",
    "- Split your data into a <span style=\"color:blue\"> training</span> set and a <span style=\"color:orange\"> validation</span> set\n",
    "- Choose candidate $\\lambda$-values ($\\lambda_1,\\ldots,\\lambda_m$)\n",
    "- For each candidate $\\lambda$-value, fit your Lasso model on the <span style=\"color:blue\"> training</span> data to get a set of coefficients\n",
    "- Evaluate each of the $m$ sets of coefficients on your <span style=\"color:orange\"> validation</span> data.\n",
    "\n",
    "<span style=\"color:red\"> Final Step):</span> Refit the Lasso model to **all the data**, using the best $\\lambda$-value. \n"
   ]
  },
  {
   "cell_type": "markdown",
   "metadata": {},
   "source": [
    "\n",
    "\n",
    "More Generally\n",
    "\n",
    "Suppose we are deciding between a <span style=\"color:blue\"> neural network </span>, a <span style=\"color:red\"> regression tree with depth $3$</span>, and a <span style=\"color:orange\"> regression tree with depth $5$</span>.\\\\\n",
    "- Split your data into a training set and a validation set\n",
    "- For each of our $3$ procedures, build a predictive model on the training data\n",
    "- Evaluate each of the $3$ predictive models on the validation data.\n",
    "\n",
    "<span style=\"color:red\"> Final Step:</span> Refit a predictive model to the full data, using the **best** procedure."
   ]
  }
 ],
 "metadata": {
  "kernelspec": {
   "display_name": "R",
   "language": "R",
   "name": "ir"
  },
  "language_info": {
   "codemirror_mode": "r",
   "file_extension": ".r",
   "mimetype": "text/x-r-source",
   "name": "R",
   "pygments_lexer": "r",
   "version": "4.0.3"
  },
  "latex_envs": {
   "LaTeX_envs_menu_present": true,
   "autoclose": false,
   "autocomplete": true,
   "bibliofile": "biblio.bib",
   "cite_by": "apalike",
   "current_citInitial": 1,
   "eqLabelWithNumbers": true,
   "eqNumInitial": 1,
   "hotkeys": {
    "equation": "Ctrl-E",
    "itemize": "Ctrl-I"
   },
   "labels_anchors": false,
   "latex_user_defs": false,
   "report_style_numbering": false,
   "user_envs_cfg": false
  }
 },
 "nbformat": 4,
 "nbformat_minor": 2
}
