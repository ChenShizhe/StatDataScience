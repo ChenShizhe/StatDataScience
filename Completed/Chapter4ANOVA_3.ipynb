{
 "cells": [
  {
   "cell_type": "markdown",
   "metadata": {},
   "source": [
    "# Chapter 4 Analysis of Variance\n",
    "     "
   ]
  },
  {
   "cell_type": "markdown",
   "metadata": {},
   "source": [
    "### 4.1.3 Sum of squares decomposition \n",
    "\n",
    "Define the residuals $e_{ij}=Y_{ij}-\\hat{Y}_{ij}=Y_{ij}-\\bar{Y}_{i\\cdot}$, $j=1,2,\\ldots, n_i$ and $i=1,2, \\ldots, r$. \n",
    "From the model equation, we can see that $e_{ij}$ is an estimator of $\\epsilon_{ij}$.\n",
    "\n",
    "A simple identity holds that \n",
    "\\[\n",
    "Y_{ij}-\\bar{Y}_{\\cdot\\cdot} = (\\bar{Y}_{i\\cdot}-\\bar{Y}_{\\cdot \\cdot})+(Y_{ij}-\\bar{Y}_{i\\cdot}).\n",
    "\\]\n",
    "Squaring both sides of the equation yields \n",
    "\\begin{align}\n",
    "\\sum_{i=1}^r \\sum_{j=1}^{n_i} \\big(Y_{ij}-\\bar{Y}_{\\cdot \\cdot}\\big)^2 = & \\sum_{i=1}^r \\sum_{j=1}^{n_i} \\big(Y_{i\\cdot}-\\bar{Y}_{\\cdot \\cdot}\\big)^2 +\\sum_{i=1}^r \\sum_{j=1}^{n_i} \\big(Y_{ij}-\\bar{Y}_{i \\cdot}\\big)^2\\\\\n",
    "=  & \\sum_{i=1}^r n_i \\big(Y_{i\\cdot}-\\bar{Y}_{\\cdot \\cdot}\\big)^2 +\\sum_{i=1}^r \\sum_{j=1}^{n_i} \\big(Y_{ij}-\\bar{Y}_{i \\cdot}\\big)^2,\n",
    "\\end{align}\n",
    "where the first equality holds because $2\\sum_{i=1}^r\\sum_{j=1}^{n_i} \\big(Y_{i\\cdot}-\\bar{Y}_{\\cdot \\cdot}\\big)\\big(Y_{ij}-\\bar{Y}_{i \\cdot}\\big)=0$. "
   ]
  },
  {
   "cell_type": "code",
   "execution_count": null,
   "metadata": {},
   "outputs": [],
   "source": [
    "\n",
    "\n",
    "\n",
    "\n",
    "\n",
    "\n",
    "\n",
    "\n",
    "\n",
    "\n",
    "\n",
    "\n",
    "\n",
    "\n",
    "\n",
    "\n",
    "\n",
    "\n",
    "\n",
    "\n",
    "\n",
    "\n",
    "\n",
    "\n"
   ]
  },
  {
   "cell_type": "markdown",
   "metadata": {},
   "source": [
    "\n",
    "\n",
    "\n",
    "\n",
    "Some terminologies:\n",
    "\n",
    "<table style=\"width:100%\">\n",
    "  <tr>\n",
    "    <th> </th>\n",
    "    <th>Acronym</th>\n",
    "    <th>Definition</th>\n",
    "     <th>d.f.</th>\n",
    "  </tr>\n",
    "  <tr>\n",
    "    <td>Total sum of squares </td>\n",
    "    <td>SSTO</td>\n",
    "    <td>$\\sum_{i=1}^r \\sum_{j=1}^{n_i} \\big(Y_{ij}-\\bar{Y}_{\\cdot \\cdot}\\big)^2$</td>\n",
    "    <td> $n_T-1$ </td>\n",
    "  </tr>\n",
    "  <tr>\n",
    "    <td> Treatment sum of squares </td>\n",
    "    <td>SSTR </td>\n",
    "    <td>$\\sum_{i=1}^r n_i \\big(Y_{i\\cdot}-\\bar{Y}_{\\cdot \\cdot}\\big)^2$  </td>\n",
    "    <td>  $r-1$ </td>\n",
    "  </tr>\n",
    "    <tr>\n",
    "    <td> Residual sum of squares  </td>\n",
    "    <td>  SSE  </td>\n",
    "    <td> $\\sum_{i=1}^r \\sum_{j=1}^{n_i} \\big(Y_{ij}-\\bar{Y}_{i \\cdot}\\big)^2$ </td>\n",
    "    <td>   $n_T-r$ </td>\n",
    "    </tr>\n",
    "</table>\n",
    "\n",
    "We can see that \n",
    "\\[\n",
    "{\\rm SSTO} \\ = \\ {\\rm SSTR} \\ +\\ {\\rm SSE}, \\quad {\\rm df(SSTO)}\\ = \\ {\\rm df(SSTR)} \\ + \\ {\\rm df(SSE)}.\n",
    "\\]\n",
    "\n",
    "We can define the mean squares accordingly, \n",
    "\\begin{align}\n",
    "{\\rm MSTR}\\ = & \\ {\\rm SSTR}/{\\rm df(SSTR)} \\ = &  \\ {\\rm SSTR}/(r-1)\\\\\n",
    "{\\rm MSE}\\ = & \\ {\\rm SSE}/{\\rm df(SSE)} \\ = &  \\ {\\rm SSE}/(n_T-r)\\\\\n",
    "{\\rm MSTO}\\ = & \\ {\\rm SSTO}/{\\rm df(SSTO)} \\ = &  \\ {\\rm SSTO}/(n_T-1)\n",
    "\\end{align}"
   ]
  }
 ],
 "metadata": {
  "author": "\\mu",
  "kernelspec": {
   "display_name": "R",
   "language": "R",
   "name": "ir"
  },
  "language_info": {
   "codemirror_mode": "r",
   "file_extension": ".r",
   "mimetype": "text/x-r-source",
   "name": "R",
   "pygments_lexer": "r",
   "version": "4.0.3"
  },
  "latex_envs": {
   "LaTeX_envs_menu_present": true,
   "autoclose": false,
   "autocomplete": true,
   "bibliofile": "biblio.bib",
   "cite_by": "apalike",
   "current_citInitial": 1,
   "eqLabelWithNumbers": true,
   "eqNumInitial": 1,
   "hotkeys": {
    "equation": "Ctrl-E",
    "itemize": "Ctrl-I"
   },
   "labels_anchors": false,
   "latex_user_defs": false,
   "report_style_numbering": false,
   "user_envs_cfg": false
  }
 },
 "nbformat": 4,
 "nbformat_minor": 2
}
