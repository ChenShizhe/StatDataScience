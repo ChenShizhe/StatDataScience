{
 "cells": [
  {
   "cell_type": "code",
   "execution_count": 5,
   "metadata": {},
   "outputs": [],
   "source": [
    "# PCA in R\n",
    "iris.pca<-prcomp(x=iris[,-5], center=TRUE, scale =TRUE)\n",
    "\n"
   ]
  },
  {
   "cell_type": "code",
   "execution_count": 6,
   "metadata": {},
   "outputs": [
    {
     "data": {
      "text/html": [
       "<style>\n",
       ".list-inline {list-style: none; margin:0; padding: 0}\n",
       ".list-inline>li {display: inline-block}\n",
       ".list-inline>li:not(:last-child)::after {content: \"\\00b7\"; padding: 0 .5ex}\n",
       "</style>\n",
       "<ol class=list-inline><li>'center'</li><li>'rotation'</li><li>'scale'</li><li>'sdev'</li><li>'x'</li></ol>\n"
      ],
      "text/latex": [
       "\\begin{enumerate*}\n",
       "\\item 'center'\n",
       "\\item 'rotation'\n",
       "\\item 'scale'\n",
       "\\item 'sdev'\n",
       "\\item 'x'\n",
       "\\end{enumerate*}\n"
      ],
      "text/markdown": [
       "1. 'center'\n",
       "2. 'rotation'\n",
       "3. 'scale'\n",
       "4. 'sdev'\n",
       "5. 'x'\n",
       "\n",
       "\n"
      ],
      "text/plain": [
       "[1] \"center\"   \"rotation\" \"scale\"    \"sdev\"     \"x\"       "
      ]
     },
     "metadata": {},
     "output_type": "display_data"
    }
   ],
   "source": [
    "ls(iris.pca)"
   ]
  },
  {
   "cell_type": "code",
   "execution_count": 10,
   "metadata": {},
   "outputs": [
    {
     "data": {
      "text/html": [
       "<style>\n",
       ".list-inline {list-style: none; margin:0; padding: 0}\n",
       ".list-inline>li {display: inline-block}\n",
       ".list-inline>li:not(:last-child)::after {content: \"\\00b7\"; padding: 0 .5ex}\n",
       "</style>\n",
       "<ol class=list-inline><li>'Sepal.Length'</li><li>'Sepal.Width'</li><li>'Petal.Length'</li><li>'Petal.Width'</li><li>'Species'</li></ol>\n"
      ],
      "text/latex": [
       "\\begin{enumerate*}\n",
       "\\item 'Sepal.Length'\n",
       "\\item 'Sepal.Width'\n",
       "\\item 'Petal.Length'\n",
       "\\item 'Petal.Width'\n",
       "\\item 'Species'\n",
       "\\end{enumerate*}\n"
      ],
      "text/markdown": [
       "1. 'Sepal.Length'\n",
       "2. 'Sepal.Width'\n",
       "3. 'Petal.Length'\n",
       "4. 'Petal.Width'\n",
       "5. 'Species'\n",
       "\n",
       "\n"
      ],
      "text/plain": [
       "[1] \"Sepal.Length\" \"Sepal.Width\"  \"Petal.Length\" \"Petal.Width\"  \"Species\"     "
      ]
     },
     "metadata": {},
     "output_type": "display_data"
    }
   ],
   "source": [
    "colnames(iris)"
   ]
  },
  {
   "cell_type": "code",
   "execution_count": 11,
   "metadata": {},
   "outputs": [
    {
     "data": {
      "image/png": "[encoded data removed]",
      "text/plain": [
       "plot without title"
      ]
     },
     "metadata": {
      "image/png": {
       "height": 420,
       "width": 420
      }
     },
     "output_type": "display_data"
    }
   ],
   "source": [
    "par(mfrow=c(1,2))\n",
    "plot(x=iris.pca$x[,1],y=iris.pca$x[,2],col=iris$Species,pch=16)\n",
    "plot(x=iris$Petal.Length,y=iris$Petal.Width,col=iris$Species,pch=16)\n",
    "par(mfrow=c(1,1))"
   ]
  },
  {
   "cell_type": "markdown",
   "metadata": {},
   "source": [
    "**PC Loadings**\n",
    "\n",
    "- Observations can be plotted (\"projected\") in space of PC's \n",
    "- Roughly, equivalent to rotating the axes and plotting original data points in the new axes $Z_1,\\, Z_2$.\n"
   ]
  },
  {
   "cell_type": "code",
   "execution_count": 12,
   "metadata": {},
   "outputs": [
    {
     "data": {
      "text/html": [
       "<table>\n",
       "<caption>A matrix: 4 × 4 of type dbl</caption>\n",
       "<thead>\n",
       "\t<tr><th></th><th scope=col>PC1</th><th scope=col>PC2</th><th scope=col>PC3</th><th scope=col>PC4</th></tr>\n",
       "</thead>\n",
       "<tbody>\n",
       "\t<tr><th scope=row>Sepal.Length</th><td> 0.5210659</td><td>-0.37741762</td><td> 0.7195664</td><td> 0.2612863</td></tr>\n",
       "\t<tr><th scope=row>Sepal.Width</th><td>-0.2693474</td><td>-0.92329566</td><td>-0.2443818</td><td>-0.1235096</td></tr>\n",
       "\t<tr><th scope=row>Petal.Length</th><td> 0.5804131</td><td>-0.02449161</td><td>-0.1421264</td><td>-0.8014492</td></tr>\n",
       "\t<tr><th scope=row>Petal.Width</th><td> 0.5648565</td><td>-0.06694199</td><td>-0.6342727</td><td> 0.5235971</td></tr>\n",
       "</tbody>\n",
       "</table>\n"
      ],
      "text/latex": [
       "A matrix: 4 × 4 of type dbl\n",
       "\\begin{tabular}{r|llll}\n",
       "  & PC1 & PC2 & PC3 & PC4\\\\\n",
       "\\hline\n",
       "\tSepal.Length &  0.5210659 & -0.37741762 &  0.7195664 &  0.2612863\\\\\n",
       "\tSepal.Width & -0.2693474 & -0.92329566 & -0.2443818 & -0.1235096\\\\\n",
       "\tPetal.Length &  0.5804131 & -0.02449161 & -0.1421264 & -0.8014492\\\\\n",
       "\tPetal.Width &  0.5648565 & -0.06694199 & -0.6342727 &  0.5235971\\\\\n",
       "\\end{tabular}\n"
      ],
      "text/markdown": [
       "\n",
       "A matrix: 4 × 4 of type dbl\n",
       "\n",
       "| <!--/--> | PC1 | PC2 | PC3 | PC4 |\n",
       "|---|---|---|---|---|\n",
       "| Sepal.Length |  0.5210659 | -0.37741762 |  0.7195664 |  0.2612863 |\n",
       "| Sepal.Width | -0.2693474 | -0.92329566 | -0.2443818 | -0.1235096 |\n",
       "| Petal.Length |  0.5804131 | -0.02449161 | -0.1421264 | -0.8014492 |\n",
       "| Petal.Width |  0.5648565 | -0.06694199 | -0.6342727 |  0.5235971 |\n",
       "\n"
      ],
      "text/plain": [
       "             PC1        PC2         PC3        PC4       \n",
       "Sepal.Length  0.5210659 -0.37741762  0.7195664  0.2612863\n",
       "Sepal.Width  -0.2693474 -0.92329566 -0.2443818 -0.1235096\n",
       "Petal.Length  0.5804131 -0.02449161 -0.1421264 -0.8014492\n",
       "Petal.Width   0.5648565 -0.06694199 -0.6342727  0.5235971"
      ]
     },
     "metadata": {},
     "output_type": "display_data"
    }
   ],
   "source": [
    "iris.pca$rotation"
   ]
  },
  {
   "cell_type": "code",
   "execution_count": 14,
   "metadata": {},
   "outputs": [
    {
     "data": {
      "text/html": [
       "<style>\n",
       ".list-inline {list-style: none; margin:0; padding: 0}\n",
       ".list-inline>li {display: inline-block}\n",
       ".list-inline>li:not(:last-child)::after {content: \"\\00b7\"; padding: 0 .5ex}\n",
       "</style>\n",
       "<ol class=list-inline><li>150</li><li>5</li></ol>\n"
      ],
      "text/latex": [
       "\\begin{enumerate*}\n",
       "\\item 150\n",
       "\\item 5\n",
       "\\end{enumerate*}\n"
      ],
      "text/markdown": [
       "1. 150\n",
       "2. 5\n",
       "\n",
       "\n"
      ],
      "text/plain": [
       "[1] 150   5"
      ]
     },
     "metadata": {},
     "output_type": "display_data"
    },
    {
     "data": {
      "text/html": [
       "<style>\n",
       ".list-inline {list-style: none; margin:0; padding: 0}\n",
       ".list-inline>li {display: inline-block}\n",
       ".list-inline>li:not(:last-child)::after {content: \"\\00b7\"; padding: 0 .5ex}\n",
       "</style>\n",
       "<ol class=list-inline><li>150</li><li>4</li></ol>\n"
      ],
      "text/latex": [
       "\\begin{enumerate*}\n",
       "\\item 150\n",
       "\\item 4\n",
       "\\end{enumerate*}\n"
      ],
      "text/markdown": [
       "1. 150\n",
       "2. 4\n",
       "\n",
       "\n"
      ],
      "text/plain": [
       "[1] 150   4"
      ]
     },
     "metadata": {},
     "output_type": "display_data"
    }
   ],
   "source": [
    "dim(iris)\n",
    "dim(iris.pca$x)"
   ]
  },
  {
   "cell_type": "markdown",
   "metadata": {},
   "source": [
    "A lot of methods (PCA included) can be thought of as decomposing a data matrix $X_{n\\times p}$, into a mixture of $k$ archetypes\n",
    "\\[\n",
    " X \\approx U V^{\\top},\n",
    "\\]\n",
    "where $V_{p\\times k}$ is a matrix of archetypes and $U_{n\\times k}$ is a matrix of weights (for mixing archetypes to get $X$). One can also think of this as a \"vector space embedding\" (where our weights determine the embedding)"
   ]
  },
  {
   "cell_type": "markdown",
   "metadata": {},
   "source": [
    "It is not easy to choosing the number of principal components. There exist multiple proposals such as using gap statistic, universal threshold, clever cross-validations, etc. None of this methods dominate the rest. The right choice eventually comes down to the needs in a particular analysis project. For instance, the number of PCs to choose should be two if for visualization on a two-dimensional surface. \n",
    "    "
   ]
  },
  {
   "cell_type": "code",
   "execution_count": 15,
   "metadata": {},
   "outputs": [
    {
     "data": {
      "image/png": "[encoded data removed]",
      "text/plain": [
       "Plot with title \"iris.pca\""
      ]
     },
     "metadata": {
      "image/png": {
       "height": 420,
       "width": 420
      }
     },
     "output_type": "display_data"
    }
   ],
   "source": [
    "plot(iris.pca,type=\"l\")"
   ]
  },
  {
   "cell_type": "code",
   "execution_count": null,
   "metadata": {
    "scrolled": true
   },
   "outputs": [],
   "source": []
  }
 ],
 "metadata": {
  "kernelspec": {
   "display_name": "R",
   "language": "R",
   "name": "ir"
  },
  "language_info": {
   "codemirror_mode": "r",
   "file_extension": ".r",
   "mimetype": "text/x-r-source",
   "name": "R",
   "pygments_lexer": "r",
   "version": "4.0.3"
  },
  "latex_envs": {
   "LaTeX_envs_menu_present": true,
   "autoclose": false,
   "autocomplete": true,
   "bibliofile": "biblio.bib",
   "cite_by": "apalike",
   "current_citInitial": 1,
   "eqLabelWithNumbers": true,
   "eqNumInitial": 1,
   "hotkeys": {
    "equation": "Ctrl-E",
    "itemize": "Ctrl-I"
   },
   "labels_anchors": false,
   "latex_user_defs": false,
   "report_style_numbering": false,
   "user_envs_cfg": false
  }
 },
 "nbformat": 4,
 "nbformat_minor": 2
}
