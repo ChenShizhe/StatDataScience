{
 "cells": [
  {
   "cell_type": "markdown",
   "metadata": {},
   "source": [
    "# Chapter 10 Design\n",
    "     \n",
    " "
   ]
  },
  {
   "cell_type": "markdown",
   "metadata": {},
   "source": [
    "## 10.1 Overview of experimental design\n",
    "\n",
    "According to R. A. Fisher (The Design of Experiments), the basic principles of experimental design are \n",
    "\n",
    "- Replication: deals with variation/uncertainty, allows for generalization \n",
    "- Randomization: deals with confounding factors, allows for cause-effect statements \n",
    "- Blocking: reduces known but irrelavant sources of variation, improves statistical efficiency\n",
    "\n",
    "An experiment in the real world may have many more complications. We consider a simple case where we want to consider the comparison of a numerical response under different scnearios. Suppose that we want to study whether treatment A causes any changes in the reponse. Consider the following scenarios \n",
    "\n",
    "1. We conduct a survey to measure the response and Treatment A in the target population. \n",
    "2. We enroll participants from the target population, and randomly assign Treatment A and placebo to the participants.\n",
    "\n",
    "Scenario 1 is an **observational study**, given that the data is \"observed\". Scenario 2 is a **controlled randomized experiment (or trial)**. In general, we can only infer the association between the treatment and response from an observational study, but a controlled randomized experiment can lead to causal inference. See Chapter 9 for a more rigorous discussion.\n",
    "\n",
    "\n",
    "However, regardless of the design, the statistical analysis strategy is almost the same in both scenarios. We group observations into two groups based on their treatment status, the treatment group and the control group. The inference of association or cause-effect can be done by a statistical comparison between the two group. \n",
    "\n",
    "\n",
    "Usually the goal of a study is to find out which and how explanatory factors influence/relate to the response variables.\n",
    "\n",
    "The design of a study consists of making decisions on the following:\n",
    "\n",
    "- The set of explanatory factors\n",
    "- The set of response variables\n",
    "- The set of treatments \n",
    "- The set of experimental units \n",
    "- The way of randomization and blocking\n",
    "- Sample size and number of replications\n",
    "- ...\n",
    "\n",
    "\n",
    "The **factors** are the explanatory variables that must contain the **variables of interest**. \n",
    "\n",
    "*Examples:*\n",
    "\n",
    "- In a study of the effects of colors and prices on sales of cars, the factors being studied are color (qualitative variable) and  price (quantitative variable)\n",
    "\n",
    "- In an investigation of the effects of education on income, the factor being studied is education level (What type is it?). \n",
    "\n",
    "The **factor levels** are the values of the factor. \n",
    "\n",
    "*Examples:*  Sex has two levels: male, female\n",
    "\n",
    "There are a various types of factors. One way of classification is to classify them based on the experimental design. \n",
    "\n",
    "- Experimental factors: Levels of the factor are assigned at random to the experimental units \n",
    "\n",
    "- Observational factors: Levels of the factor are characteristic of the experimental units and is not under the control of the investigators. Note that there could be observational factors in an experimental study. \n",
    "\n",
    "*Examples:* Consider an RCT on the effect of a new drug. If we are also interested in the effects of age and gender on the recovery rate, then these are observational factors; While the new drug is an experimental factor. \n",
    "\n",
    "\n",
    "\n",
    "In a single factor study, each treatment corresponds to a factor level\n",
    "The number of treatments equals to the number of levels of that factor\n",
    "In a multi-factor study, each treatment corresponds to a combination of factor levels across different factors. The number of possible treatments is the multiplication of the number of factor levels across different factors.\n",
    "\n",
    "*Examples:* \n",
    "- In the study of effects of education on income, each education level is a treatment (high school, college, advanced degree, etc.)\n",
    "- In the study of effects of race and gender on income, each combination of race and gender is a treatment (Asian female; Hispanic male, etc.)\n",
    "\n",
    "Q: How many possible treatments are there for a study with two factors, one with three levels and another with four levels?\n",
    "\n",
    "Levels of each factor is another important aspect to consider when designing a study. For qualitative factors, levels are indicated by the nature of the factor (e.g., sex has two levels: female and male). For quantitative factors, the choice of levels reflects the type of trend expected by the investigator (e.g., linear trend <--> two levels; quadratic trend <--> three levels). Usually 3 to 4 equally spaced levels are sufficient.  The range of levels are also crucial. prior knowledge is often required for an effective choice of factors and treatments. \n",
    "\n",
    "\n",
    "An **experimental unit** is the smallest unit of experimental material to which a treatment can be assigned. The definition of an experimental unit is determined by the way of randomization.\n",
    "\n",
    "*Example:*  In a study of two retirement systems involving the 10 UC schools, we would ask if the basic unit should be an individual employee, a department, or a University. The basic unit should be an entire University for practical feasibility.\n",
    "\n",
    "*Example:* A study conducted surveys among 5,000 US college students, and found out that about 20% of them had used marijuana at least once. If the goal is to study  drug usage among Americans aging from 18 to 22, is this a good design? The experimental units should be representative of the population about which  conclusions are going to be made.  \n",
    "\n",
    "Sample size is the **total number** of experimental units in the study. Sample size is usually determined by the trade-off between (i) statistical considerations such as power of tests, precision of estimations and (ii) the availability of resources such as money, time, man power. In general, the  larger  the sample size, the better for statistical inference; However, the more costly the study is\n",
    "\n",
    "For many designed studies, the sample size is an integer multiple of the number of treatments. This integer is the number of times each treatment being  repeated.  One complete repetition of all treatments (under similar experimental conditions) is called a complete replicate of the experiment.\n",
    " \n",
    " \n",
    " \n",
    "When a treatment is repeated under the same experimental conditions, any differences in the responses are due to random fluacuations. Thus replication provides us information about the degree of random fluctuation. If the variation due to random  fluctuation is relatively small compared to the total variation in the responses, we would have evidence for treatment effect. \n",
    "\n",
    "\n",
    "\n"
   ]
  },
  {
   "cell_type": "markdown",
   "metadata": {},
   "source": [
    "## 10.2 Randomized experiments"
   ]
  },
  {
   "cell_type": "markdown",
   "metadata": {},
   "source": [
    "### 10.2.1 Simple randomized experiments\n",
    "\n",
    "Suppose that we want to study whether treatment A causes any changes in the reponse. We know from the potential outcome framework that independence between the treatment assignment and the potential outcomes is key to average treatment/causal effect.\n",
    "\n",
    "Even for a simple randomized experiment, there are different ways to assign the treatment. \n",
    "\n",
    "1. For any subject, $i=1,\\ldots, n$, randomize its treatment $Z_i=0$ or $1$ with a probability $p$.\n",
    "2. For $i=1,\\ldots, n$, randomly allocate them into two groups with $n/2$ in each group. \n",
    "\n",
    "Unit-level treatment effect as $\\tau_i(j,j')=Y_i(j)-Y_i(j')$. \n",
    "\n",
    "Population-level treatment effect is \n",
    "$$\n",
    "\\tau(j,j')=N^{-1} \\sum_{i=1}^n \\tau_i (j,j') = N^{-1} \\sum_{i=1}^N \\{ Y_i(j)-Y_i(j')\\} \\equiv \\bar{Y}(j)-\\bar{Y}(j'). \n",
    "$$\n",
    "\n",
    "**Fisher's sharp null hypothesis** of zero individual treatment effects\n",
    "$$\n",
    "H_{0F}: Y_i(1) = Y_i(2) = \\cdots = Y_i(J) \\ \\ (i=1,\\ldots, N)\n",
    "$$\n",
    "This leads to the permutation test.\n",
    "\n",
    "**Neyman's null hypothesis**: no average treatment effects. \n",
    "$$\n",
    "H_{0N}: \\bar{Y}(1)=\\cdots = \\bar{Y}(J).\n",
    "$$\n",
    "Weaker restriction on the potential outcomes. \n",
    "\n",
    "_Claim_: Fisher's randomization test fails to control type I error in unbalanced experiments. \n",
    "\n",
    "\n"
   ]
  },
  {
   "cell_type": "markdown",
   "metadata": {},
   "source": [
    "### 10.2.2 Stratified randomized experiment\n",
    "\n",
    "This is also known as randomized block design. The blocking can improve efficiency, and sometimes is required for feasibility.  Stratification during design can be seen as covariate adjustment in a randomized experiment. \n",
    "\n",
    "Recall that ${\\rm ACE}\\equiv \\mathbb{E}[Y(1)-Y(0)]$ and $\\hat{\\rm ACE}=\\bar{Y}_1 - \\bar{Y}_0$. \n",
    "\n",
    "Let $X_i$ be the centered covariates and $\\mathbb{E}[X_i]=0$, $\\bar{X}_z =N_z^{-1} \\sum_{i=1}^{N} X_i 1[Z_i=z]$, and $\\mathbb{E}[\\bar{X}_z | Z]=0$. Finally, we assume that $Z_i \\perp X_i$. \n",
    "\n",
    "Consider a new estimator \n",
    "$$\n",
    "\\hat{\\rm ACE}(\\gamma_1, \\gamma_0) = \\big(\\bar{Y}_1 - \\gamma_1^T \\bar{X}_1 \\big) - \\big(\\bar{Y}_0 -\\gamma_0^T \\bar{X}_0\\big).\n",
    "$$\n",
    "We can verify that $\\mathbb{E}\\big[\\hat{\\rm ACE}(\\gamma_1, \\gamma_0)\\big]={\\rm ACE}$ for any $\\gamma_1$ and $\\gamma_0$. Therefore, we have seen that the new estimator is an unbiased estimator, now our task is to find the best $\\gamma_0$ and $\\gamma_1$ to minimize its variance. We can use the linear projection idea in Chapter 9. \n",
    "\n",
    "\n"
   ]
  },
  {
   "cell_type": "code",
   "execution_count": 1,
   "metadata": {},
   "outputs": [],
   "source": [
    "# A simple simulation for stratification \n",
    "\n",
    "set.seed(10928)\n",
    "# Data generating mechanism: \n",
    "n=40;n.strata=10;\n",
    "X= sample(x=(1:n.strata),size=n,replace=TRUE);\n",
    "ACE=4; coef.X=2; \n",
    "Y.1=ACE+coef.X*X+rnorm(n,mean=0,sd=1); # potential outcome\n",
    "Y.0=coef.X*X+rnorm(n,mean=0,sd=1); # potential outcome \n",
    "trt= sample(1:n,size=(n/2),replace=FALSE);Z=rep(0,n);Z[trt]=1; # randomization\n",
    "\n",
    "Z.s=rep(0,n);\n",
    "for (i in 1:n.strata){# randomization within stratum \n",
    "  id.stratum= which(X==i);\n",
    "  trt= sample(id.stratum,size=floor(length(id.stratum)/2),replace=FALSE);\n",
    "  Z.s[trt]=1; \n",
    "}\n",
    "\n",
    "Y=Y.1*Z+Y.0*(1-Z); # observation w/o stratification \n",
    "Y.s=Y.1*Z.s+Y.0*(1-Z.s); # observation w stratification \n"
   ]
  },
  {
   "cell_type": "code",
   "execution_count": 2,
   "metadata": {},
   "outputs": [
    {
     "data": {
      "image/png": "[encoded data removed]",
      "text/plain": [
       "plot without title"
      ]
     },
     "metadata": {
      "image/png": {
       "height": 420,
       "width": 420
      }
     },
     "output_type": "display_data"
    }
   ],
   "source": [
    "# Analysis, w/o stratification \n",
    "\n",
    "lm.vanilla=summary(lm(Y~Z));\n",
    "lm.X=summary(lm(Y~Z+X));\n",
    "\n",
    "plot(y=Y,x=X,pch=16,col=c('red','blue')[Z+1])\n",
    "legend(x=1.1,y=22,legend=c('Trt','Ctrl'),col=c('red','blue'),pch=16)\n",
    "text(x=5.1,y=5,labels=paste('Without X, Est. ACE = ',round(lm.vanilla$coef[2,1],2), 'with s.e.', round(lm.vanilla$coef[2,2],2),sep=' '  ),pos=4  )\n",
    "\n",
    "text(x=5.1,y=2,labels=paste('With X,  Est. ACE = ',round(lm.X$coef[2,1],2), 'with s.e.', round(lm.X$coef[2,2],2),sep=' '  ),pos=4  )\n"
   ]
  },
  {
   "cell_type": "code",
   "execution_count": 3,
   "metadata": {},
   "outputs": [
    {
     "data": {
      "image/png": "[encoded data removed]",
      "text/plain": [
       "plot without title"
      ]
     },
     "metadata": {
      "image/png": {
       "height": 420,
       "width": 420
      }
     },
     "output_type": "display_data"
    }
   ],
   "source": [
    "# Analysis, w stratification \n",
    "\n",
    "lm.simple=summary(lm(Y.s~Z.s));\n",
    "lm.strat=summary(lm(Y.s~Z.s+X));\n",
    "\n",
    "plot(y=Y.s,x=X,pch=16,col=c('red','blue')[Z.s+1])\n",
    "legend(x=1.1,y=22,legend=c('Trt','Ctrl'),col=c('red','blue'),pch=16)\n",
    "text(x=5.1,y=5,labels=paste('Without X, Est. ACE = ',round(lm.simple$coef[2,1],2), 'with s.e.', round(lm.simple$coef[2,2],2),sep=' '  ),pos=4  )\n",
    "\n",
    "text(x=5.1,y=2,labels=paste('With X,  Est. ACE = ',round(lm.strat$coef[2,1],2), 'with s.e.', round(lm.strat$coef[2,2],2),sep=' '  ),pos=4  )\n"
   ]
  },
  {
   "cell_type": "code",
   "execution_count": 4,
   "metadata": {},
   "outputs": [],
   "source": [
    "# Repeat the above procedure 10000 times to evaluate the efficiency \n",
    "\n",
    "# Wrap up the code in one function \n",
    "\n",
    "strat.sim<-function(ACE){ \n",
    "n=40;n.strata=10;\n",
    "X= sample(x=(1:n.strata),size=n,replace=TRUE);\n",
    " coef.X=5; \n",
    "Y.1=ACE+coef.X*X+rnorm(n,mean=0,sd=1); # potential outcome\n",
    "Y.0=coef.X*X+rnorm(n,mean=0,sd=1); # potential outcome \n",
    "trt= sample(1:n,size=(n/2),replace=FALSE);Z=rep(0,n);Z[trt]=1; # randomization\n",
    "\n",
    "Z.s=rep(0,n);\n",
    "for (i in 1:n.strata){# randomization within stratum \n",
    "  id.stratum= which(X==i);\n",
    "  trt= sample(id.stratum,size=floor(length(id.stratum)/2),replace=FALSE);\n",
    "  Z.s[trt]=1; \n",
    "}\n",
    "\n",
    "Y=Y.1*Z+Y.0*(1-Z); # observation w/o stratification \n",
    "Y.s=Y.1*Z.s+Y.0*(1-Z.s); # observation w stratification \n",
    "\n",
    "\n",
    "lm.vanilla=summary(lm(Y~Z));\n",
    "lm.X=summary(lm(Y~Z+X));\n",
    "\n",
    "lm.simple=summary(lm(Y.s~Z.s));\n",
    "lm.strat=summary(lm(Y.s~Z.s+X));\n",
    "\n",
    "est.ACE=c(lm.vanilla$coef[2,1],lm.X$coef[2,1],lm.simple$coef[2,1],lm.strat$coef[2,1])\n",
    "return(est.ACE)\n",
    "}\n",
    "ACE=4;\n",
    "\n",
    "sim.result=replicate(n=1e4,strat.sim(ACE=ACE));"
   ]
  },
  {
   "cell_type": "code",
   "execution_count": 5,
   "metadata": {
    "scrolled": true
   },
   "outputs": [
    {
     "data": {
      "text/html": [
       "<style>\n",
       ".list-inline {list-style: none; margin:0; padding: 0}\n",
       ".list-inline>li {display: inline-block}\n",
       ".list-inline>li:not(:last-child)::after {content: \"\\00b7\"; padding: 0 .5ex}\n",
       "</style>\n",
       "<ol class=list-inline><li>4.59139854525847</li><li>0.319370837048798</li><li>1.35548940673323</li><li>0.319570887434263</li></ol>\n"
      ],
      "text/latex": [
       "\\begin{enumerate*}\n",
       "\\item 4.59139854525847\n",
       "\\item 0.319370837048798\n",
       "\\item 1.35548940673323\n",
       "\\item 0.319570887434263\n",
       "\\end{enumerate*}\n"
      ],
      "text/markdown": [
       "1. 4.59139854525847\n",
       "2. 0.319370837048798\n",
       "3. 1.35548940673323\n",
       "4. 0.319570887434263\n",
       "\n",
       "\n"
      ],
      "text/plain": [
       "[1] 4.5913985 0.3193708 1.3554894 0.3195709"
      ]
     },
     "metadata": {},
     "output_type": "display_data"
    }
   ],
   "source": [
    "\n",
    "(mse=apply(sim.result-ACE,MARGIN=1,sd))"
   ]
  },
  {
   "cell_type": "markdown",
   "metadata": {},
   "source": [
    "## 10.3 Design of observational study\n"
   ]
  },
  {
   "cell_type": "markdown",
   "metadata": {},
   "source": [
    "### 10.3.1 Overview \n",
    "\n",
    "In Chapter 9, we mention that an observational study is a study where the treatments are not randomized. We have discussed some designs of randomized experiments, and one would expect that similar designs might apply to observational studies, where one needs to collect data. \n",
    "\n",
    "There are other designs that also employ the stratified idea, for instance, repeated measures designs, split-plot design, nested design, etc.  Note that the causal interpretation relies on randomization. A study can be stratified but not randomized. As a result, the causal interpretation might not always exist. \n",
    "\n",
    "Depending on the length of observation, we would have the so-called longitudinal studies (or panel data) where subjects are observed over a period of time. \n",
    "\n"
   ]
  },
  {
   "cell_type": "markdown",
   "metadata": {},
   "source": [
    "### 10.3.2 Reporting bias in survey sampling \n",
    "\n",
    "In Chapter 9, we discuss how we can \"remove\" selection bias with assumptions. Here we demonstrate how to actually avoid bias with experimental design. \n",
    "\n",
    "We consider the classic scenario of self-reporting bias. Responders of surveys are less likely to report true status if they worry about their privacies. In order to obtain true response, we can employ a randomized response technique (Warner model 1965). Let $\\pi_A$ be the sensitive proportion, i.e., proportion of subjects that belong of set $A$. With probability $p$, the question is whether you belong to set $A$ (original question); with probability $1-p$, the question is whether you belong to set $A^c$ (alternative question). Now considering the probability of saying Yes to the randomized question, we have \n",
    "$$\n",
    "{\\rm pr}({\\rm Yes})={\\rm pr}({\\rm Yes} \\mid {\\rm original\\  question }){\\rm pr}({\\rm original\\  question }) +{\\rm pr}({\\rm Yes} \\mid {\\rm alt.\\  question }){\\rm pr}({\\rm alt.\\  question })  = \\pi_A p+(1-\\pi_A)(1-p)\n",
    "$$\n",
    "and \n",
    "$$\n",
    " {\\rm pr}({\\rm No})={\\rm pr}({\\rm No} \\mid {\\rm original\\  question }){\\rm pr}({\\rm original\\  question }) +{\\rm pr}({\\rm No} \\mid {\\rm alt.\\  question }){\\rm pr}({\\rm alt.\\  question }) =(1-\\pi_A)p+\\pi_A(1-p).\n",
    "$$\n",
    "Hence we have $\\hat{\\pi}_A = [n_{\\rm Yes}/n-(1-p)]/(2p-1)$, which is unbiased as long as $p\\neq 0.5$. In addition, we have \n",
    "$$\n",
    "{\\rm var}\\big( \\hat{\\pi}_A\\big)=\\frac{\\pi_A (1-\\pi_A)}{n} \\frac{p(1-p)}{(2p-1)n}\n",
    "$$\n"
   ]
  },
  {
   "cell_type": "markdown",
   "metadata": {},
   "source": [
    "### 10.3.3 Case-control study \n",
    "\n",
    "Another popular design for observational study is the case-control study. In medical research, the cases are often easy to identify as patients' records are available from the health records. Furthermore, many diseases are rare in the general population. Therefore, rather than watching a group of participants till they develop diseases, it is more practical to select known cases and find matching control group. \n",
    "\n",
    "Briefly, a case-control study identifies two populatons by the outcomes. The actual samples are drawn from the two populations, repectively. To be specific, the case group is drawn from $X, Y \\mid Y=1$, and the control group is drawn from   $X,Y \\mid Y=0$. As a result, it is no longer possible to recover the ${\\rm ACE}$ from a case-control study, as the averages are taken on wrong populaions. \n",
    "\n",
    "However, the log-odds ratio from a case-control study can still be transfered to general population. "
   ]
  }
 ],
 "metadata": {
  "kernelspec": {
   "display_name": "R",
   "language": "R",
   "name": "ir"
  },
  "language_info": {
   "codemirror_mode": "r",
   "file_extension": ".r",
   "mimetype": "text/x-r-source",
   "name": "R",
   "pygments_lexer": "r",
   "version": "4.1.0"
  },
  "latex_envs": {
   "LaTeX_envs_menu_present": true,
   "autoclose": false,
   "autocomplete": true,
   "bibliofile": "biblio.bib",
   "cite_by": "apalike",
   "current_citInitial": 1,
   "eqLabelWithNumbers": true,
   "eqNumInitial": 1,
   "hotkeys": {
    "equation": "Ctrl-E",
    "itemize": "Ctrl-I"
   },
   "labels_anchors": false,
   "latex_user_defs": false,
   "report_style_numbering": false,
   "user_envs_cfg": false
  }
 },
 "nbformat": 4,
 "nbformat_minor": 2
}
