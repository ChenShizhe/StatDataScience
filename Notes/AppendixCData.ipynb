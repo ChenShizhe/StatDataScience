{
 "cells": [
  {
   "cell_type": "markdown",
   "metadata": {},
   "source": [
    "# Appendix C Data \n"
   ]
  },
  {
   "cell_type": "code",
   "execution_count": 3,
   "metadata": {},
   "outputs": [],
   "source": [
    "suppressPackageStartupMessages(library(tidyverse)) "
   ]
  },
  {
   "cell_type": "markdown",
   "metadata": {},
   "source": [
    "## C.1 Data importation\n",
    "\n",
    "The first step in data analysis is to load the data set into your workspace. We will examine comma-separated value (CSV) data  and data from the Internet in this section. "
   ]
  },
  {
   "cell_type": "markdown",
   "metadata": {},
   "source": [
    "### C.1.1 Comma-separated value\n",
    "\n",
    "CSV is one of the most common formats for sharing data. The CSV data has the advantage of being human-readable. The disadvantage is that there is no actual standard for reading or writing these files.\n",
    "Here's an example of CSV data on heights:\n",
    "    \n",
    "    \"earn\",\"height\",\"sex\",\"ed\",\"age\",\"race\"\n",
    "    50000,74.4244387818035,\"male\",16,45,\"white\"\n",
    "    60000,65.5375428255647,\"female\",16,58,\"white\"\n",
    "    30000,63.6291977374349,\"female\",16,29,\"white\"\n",
    "    50000,63.1085616752971,\"female\",16,91,\"other\"\n",
    "    51000,63.4024835710879,\"female\",17,39,\"white\"\n",
    "    9000,64.3995075440034,\"female\",15,26,\"white\"\n",
    "    \n",
    "The first row (usually) has a *header* giving the column names. Subsequent rows give the actual data. Strings are (usually) quoted."
   ]
  },
  {
   "cell_type": "markdown",
   "metadata": {},
   "source": [
    "We might also see these data come in the format:\n",
    "    \n",
    "    earn,height,sex,ed,age,race\n",
    "    50000,74.4244387818035,male,16,45,white\n",
    "    60000,65.5375428255647,female,16,58,white\n",
    "    30000,63.6291977374349,female,16,29,white\n",
    "    50000,63.1085616752971,female,16,91,other\n",
    "    51000,63.4024835710879,female,17,39,white\n",
    "    9000,64.3995075440034,female,15,26,white\n",
    "    \n",
    "There are no quotes!"
   ]
  },
  {
   "cell_type": "markdown",
   "metadata": {},
   "source": [
    "Or even:\n",
    "\n",
    "    50000,74.4244387818035,male,16,45,white\n",
    "    60000,65.5375428255647,female,16,58,white\n",
    "    30000,63.6291977374349,female,16,29,white\n",
    "    50000,63.1085616752971,female,16,91,other\n",
    "    51000,63.4024835710879,female,17,39,white\n",
    "    9000,64.3995075440034,female,15,26,white\n",
    "    \n",
    "No column names!"
   ]
  },
  {
   "cell_type": "markdown",
   "metadata": {},
   "source": [
    "The `read_csv` command is designed to read this type of file. Note that this command is part of `tidyverse` and is **not** the `read.csv` in `R`. We generally want to use `read_csv` over `read.csv` since (i) it is much faster and (ii) it outputs nicely formatted `tibble`s which you can pass into other `tidyverse` functions."
   ]
  },
  {
   "cell_type": "code",
   "execution_count": 3,
   "metadata": {},
   "outputs": [
    {
     "name": "stderr",
     "output_type": "stream",
     "text": [
      "\n",
      "\u001b[36m--\u001b[39m \u001b[1m\u001b[1mColumn specification\u001b[1m\u001b[22m \u001b[36m------------------------------------------------------------------------------------------------\u001b[39m\n",
      "cols(\n",
      "  earn = \u001b[32mcol_double()\u001b[39m,\n",
      "  height = \u001b[32mcol_double()\u001b[39m,\n",
      "  sex = \u001b[31mcol_character()\u001b[39m,\n",
      "  ed = \u001b[32mcol_double()\u001b[39m,\n",
      "  age = \u001b[32mcol_double()\u001b[39m,\n",
      "  race = \u001b[31mcol_character()\u001b[39m\n",
      ")\n",
      "\n",
      "\n"
     ]
    },
    {
     "name": "stdout",
     "output_type": "stream",
     "text": [
      "\u001b[90m# A tibble: 1,192 x 6\u001b[39m\n",
      "    earn height sex       ed   age race    \n",
      "   \u001b[3m\u001b[90m<dbl>\u001b[39m\u001b[23m  \u001b[3m\u001b[90m<dbl>\u001b[39m\u001b[23m \u001b[3m\u001b[90m<chr>\u001b[39m\u001b[23m  \u001b[3m\u001b[90m<dbl>\u001b[39m\u001b[23m \u001b[3m\u001b[90m<dbl>\u001b[39m\u001b[23m \u001b[3m\u001b[90m<chr>\u001b[39m\u001b[23m   \n",
      "\u001b[90m 1\u001b[39m \u001b[4m5\u001b[24m\u001b[4m0\u001b[24m000   74.4 male      16    45 white   \n",
      "\u001b[90m 2\u001b[39m \u001b[4m6\u001b[24m\u001b[4m0\u001b[24m000   65.5 female    16    58 white   \n",
      "\u001b[90m 3\u001b[39m \u001b[4m3\u001b[24m\u001b[4m0\u001b[24m000   63.6 female    16    29 white   \n",
      "\u001b[90m 4\u001b[39m \u001b[4m5\u001b[24m\u001b[4m0\u001b[24m000   63.1 female    16    91 other   \n",
      "\u001b[90m 5\u001b[39m \u001b[4m5\u001b[24m\u001b[4m1\u001b[24m000   63.4 female    17    39 white   \n",
      "\u001b[90m 6\u001b[39m  \u001b[4m9\u001b[24m000   64.4 female    15    26 white   \n",
      "\u001b[90m 7\u001b[39m \u001b[4m2\u001b[24m\u001b[4m9\u001b[24m000   61.7 female    12    49 white   \n",
      "\u001b[90m 8\u001b[39m \u001b[4m3\u001b[24m\u001b[4m2\u001b[24m000   72.7 male      17    46 white   \n",
      "\u001b[90m 9\u001b[39m  \u001b[4m2\u001b[24m000   72.0 male      15    21 hispanic\n",
      "\u001b[90m10\u001b[39m \u001b[4m2\u001b[24m\u001b[4m7\u001b[24m000   72.2 male      12    26 white   \n",
      "\u001b[90m# ... with 1,182 more rows\u001b[39m\n"
     ]
    }
   ],
   "source": [
    "heights <- read_csv(\"../Data/heights.csv\") %>% print"
   ]
  },
  {
   "cell_type": "markdown",
   "metadata": {},
   "source": [
    "Here `read_csv` has told us what columns it found, and also what the data types it found for them are. Generally these will be correct but we will see examples later where it guesses wrongly and we have to manually override them."
   ]
  },
  {
   "cell_type": "markdown",
   "metadata": {},
   "source": [
    "Here is another version of `heights`, where we are not fortunate enough to have a header telling us which columns came from where. "
   ]
  },
  {
   "cell_type": "code",
   "execution_count": 5,
   "metadata": {},
   "outputs": [
    {
     "name": "stderr",
     "output_type": "stream",
     "text": [
      "\n",
      "\u001b[36m--\u001b[39m \u001b[1m\u001b[1mColumn specification\u001b[1m\u001b[22m \u001b[36m------------------------------------------------------------------------------------------------\u001b[39m\n",
      "cols(\n",
      "  `50000` = \u001b[32mcol_double()\u001b[39m,\n",
      "  `74.4244387818035` = \u001b[32mcol_double()\u001b[39m,\n",
      "  male = \u001b[31mcol_character()\u001b[39m,\n",
      "  `16` = \u001b[32mcol_double()\u001b[39m,\n",
      "  `45` = \u001b[32mcol_double()\u001b[39m,\n",
      "  white = \u001b[31mcol_character()\u001b[39m\n",
      ")\n",
      "\n",
      "\n"
     ]
    },
    {
     "name": "stdout",
     "output_type": "stream",
     "text": [
      "\u001b[90m# A tibble: 1,191 x 6\u001b[39m\n",
      "   `50000` `74.4244387818035` male    `16`  `45` white   \n",
      "     \u001b[3m\u001b[90m<dbl>\u001b[39m\u001b[23m              \u001b[3m\u001b[90m<dbl>\u001b[39m\u001b[23m \u001b[3m\u001b[90m<chr>\u001b[39m\u001b[23m  \u001b[3m\u001b[90m<dbl>\u001b[39m\u001b[23m \u001b[3m\u001b[90m<dbl>\u001b[39m\u001b[23m \u001b[3m\u001b[90m<chr>\u001b[39m\u001b[23m   \n",
      "\u001b[90m 1\u001b[39m   \u001b[4m6\u001b[24m\u001b[4m0\u001b[24m000               65.5 female    16    58 white   \n",
      "\u001b[90m 2\u001b[39m   \u001b[4m3\u001b[24m\u001b[4m0\u001b[24m000               63.6 female    16    29 white   \n",
      "\u001b[90m 3\u001b[39m   \u001b[4m5\u001b[24m\u001b[4m0\u001b[24m000               63.1 female    16    91 other   \n",
      "\u001b[90m 4\u001b[39m   \u001b[4m5\u001b[24m\u001b[4m1\u001b[24m000               63.4 female    17    39 white   \n",
      "\u001b[90m 5\u001b[39m    \u001b[4m9\u001b[24m000               64.4 female    15    26 white   \n",
      "\u001b[90m 6\u001b[39m   \u001b[4m2\u001b[24m\u001b[4m9\u001b[24m000               61.7 female    12    49 white   \n",
      "\u001b[90m 7\u001b[39m   \u001b[4m3\u001b[24m\u001b[4m2\u001b[24m000               72.7 male      17    46 white   \n",
      "\u001b[90m 8\u001b[39m    \u001b[4m2\u001b[24m000               72.0 male      15    21 hispanic\n",
      "\u001b[90m 9\u001b[39m   \u001b[4m2\u001b[24m\u001b[4m7\u001b[24m000               72.2 male      12    26 white   \n",
      "\u001b[90m10\u001b[39m    \u001b[4m6\u001b[24m530               69.5 male      16    65 white   \n",
      "\u001b[90m# ... with 1,181 more rows\u001b[39m\n"
     ]
    }
   ],
   "source": [
    "read_csv(\"../Data/heights_no_hdr.csv\") %>% print"
   ]
  },
  {
   "cell_type": "markdown",
   "metadata": {},
   "source": [
    "Now `read_csv()` has erroneously assumed that the first row of data are the header names. To override this behavior, we need to specify the column names by hand. "
   ]
  },
  {
   "cell_type": "code",
   "execution_count": 8,
   "metadata": {},
   "outputs": [
    {
     "name": "stderr",
     "output_type": "stream",
     "text": [
      "\n",
      "\u001b[36m--\u001b[39m \u001b[1m\u001b[1mColumn specification\u001b[1m\u001b[22m \u001b[36m------------------------------------------------------------------------------------------------\u001b[39m\n",
      "cols(\n",
      "  X1 = \u001b[32mcol_double()\u001b[39m,\n",
      "  X2 = \u001b[32mcol_double()\u001b[39m,\n",
      "  X3 = \u001b[31mcol_character()\u001b[39m,\n",
      "  X4 = \u001b[32mcol_double()\u001b[39m,\n",
      "  X5 = \u001b[32mcol_double()\u001b[39m,\n",
      "  X6 = \u001b[31mcol_character()\u001b[39m\n",
      ")\n",
      "\n",
      "\n"
     ]
    },
    {
     "name": "stdout",
     "output_type": "stream",
     "text": [
      "\u001b[90m# A tibble: 1,192 x 6\u001b[39m\n",
      "      X1    X2 X3        X4    X5 X6      \n",
      "   \u001b[3m\u001b[90m<dbl>\u001b[39m\u001b[23m \u001b[3m\u001b[90m<dbl>\u001b[39m\u001b[23m \u001b[3m\u001b[90m<chr>\u001b[39m\u001b[23m  \u001b[3m\u001b[90m<dbl>\u001b[39m\u001b[23m \u001b[3m\u001b[90m<dbl>\u001b[39m\u001b[23m \u001b[3m\u001b[90m<chr>\u001b[39m\u001b[23m   \n",
      "\u001b[90m 1\u001b[39m \u001b[4m5\u001b[24m\u001b[4m0\u001b[24m000  74.4 male      16    45 white   \n",
      "\u001b[90m 2\u001b[39m \u001b[4m6\u001b[24m\u001b[4m0\u001b[24m000  65.5 female    16    58 white   \n",
      "\u001b[90m 3\u001b[39m \u001b[4m3\u001b[24m\u001b[4m0\u001b[24m000  63.6 female    16    29 white   \n",
      "\u001b[90m 4\u001b[39m \u001b[4m5\u001b[24m\u001b[4m0\u001b[24m000  63.1 female    16    91 other   \n",
      "\u001b[90m 5\u001b[39m \u001b[4m5\u001b[24m\u001b[4m1\u001b[24m000  63.4 female    17    39 white   \n",
      "\u001b[90m 6\u001b[39m  \u001b[4m9\u001b[24m000  64.4 female    15    26 white   \n",
      "\u001b[90m 7\u001b[39m \u001b[4m2\u001b[24m\u001b[4m9\u001b[24m000  61.7 female    12    49 white   \n",
      "\u001b[90m 8\u001b[39m \u001b[4m3\u001b[24m\u001b[4m2\u001b[24m000  72.7 male      17    46 white   \n",
      "\u001b[90m 9\u001b[39m  \u001b[4m2\u001b[24m000  72.0 male      15    21 hispanic\n",
      "\u001b[90m10\u001b[39m \u001b[4m2\u001b[24m\u001b[4m7\u001b[24m000  72.2 male      12    26 white   \n",
      "\u001b[90m# ... with 1,182 more rows\u001b[39m\n"
     ]
    }
   ],
   "source": [
    "read_csv(\"../Data/heights_no_hdr.csv\", col_names = F) %>% print"
   ]
  },
  {
   "cell_type": "code",
   "execution_count": 9,
   "metadata": {},
   "outputs": [
    {
     "name": "stderr",
     "output_type": "stream",
     "text": [
      "\n",
      "\u001b[36m--\u001b[39m \u001b[1m\u001b[1mColumn specification\u001b[1m\u001b[22m \u001b[36m------------------------------------------------------------------------------------------------\u001b[39m\n",
      "cols(\n",
      "  earn = \u001b[32mcol_double()\u001b[39m,\n",
      "  height = \u001b[32mcol_double()\u001b[39m,\n",
      "  sex = \u001b[31mcol_character()\u001b[39m,\n",
      "  ed = \u001b[32mcol_double()\u001b[39m,\n",
      "  age = \u001b[32mcol_double()\u001b[39m,\n",
      "  race = \u001b[31mcol_character()\u001b[39m\n",
      ")\n",
      "\n",
      "\n"
     ]
    },
    {
     "name": "stdout",
     "output_type": "stream",
     "text": [
      "\u001b[90m# A tibble: 1,192 x 6\u001b[39m\n",
      "    earn height sex       ed   age race    \n",
      "   \u001b[3m\u001b[90m<dbl>\u001b[39m\u001b[23m  \u001b[3m\u001b[90m<dbl>\u001b[39m\u001b[23m \u001b[3m\u001b[90m<chr>\u001b[39m\u001b[23m  \u001b[3m\u001b[90m<dbl>\u001b[39m\u001b[23m \u001b[3m\u001b[90m<dbl>\u001b[39m\u001b[23m \u001b[3m\u001b[90m<chr>\u001b[39m\u001b[23m   \n",
      "\u001b[90m 1\u001b[39m \u001b[4m5\u001b[24m\u001b[4m0\u001b[24m000   74.4 male      16    45 white   \n",
      "\u001b[90m 2\u001b[39m \u001b[4m6\u001b[24m\u001b[4m0\u001b[24m000   65.5 female    16    58 white   \n",
      "\u001b[90m 3\u001b[39m \u001b[4m3\u001b[24m\u001b[4m0\u001b[24m000   63.6 female    16    29 white   \n",
      "\u001b[90m 4\u001b[39m \u001b[4m5\u001b[24m\u001b[4m0\u001b[24m000   63.1 female    16    91 other   \n",
      "\u001b[90m 5\u001b[39m \u001b[4m5\u001b[24m\u001b[4m1\u001b[24m000   63.4 female    17    39 white   \n",
      "\u001b[90m 6\u001b[39m  \u001b[4m9\u001b[24m000   64.4 female    15    26 white   \n",
      "\u001b[90m 7\u001b[39m \u001b[4m2\u001b[24m\u001b[4m9\u001b[24m000   61.7 female    12    49 white   \n",
      "\u001b[90m 8\u001b[39m \u001b[4m3\u001b[24m\u001b[4m2\u001b[24m000   72.7 male      17    46 white   \n",
      "\u001b[90m 9\u001b[39m  \u001b[4m2\u001b[24m000   72.0 male      15    21 hispanic\n",
      "\u001b[90m10\u001b[39m \u001b[4m2\u001b[24m\u001b[4m7\u001b[24m000   72.2 male      12    26 white   \n",
      "\u001b[90m# ... with 1,182 more rows\u001b[39m\n"
     ]
    }
   ],
   "source": [
    "read_csv(\"../Data/heights_no_hdr.csv\", \n",
    "         col_names = c(\"earn\", \"height\", \"sex\", \"ed\", \"age\", \"race\")) %>% print"
   ]
  },
  {
   "cell_type": "markdown",
   "metadata": {},
   "source": [
    "To create short examples illustrating `read_csv`'s behavior, we can specify the contents of a csv file inline."
   ]
  },
  {
   "cell_type": "code",
   "execution_count": 9,
   "metadata": {},
   "outputs": [
    {
     "data": {
      "text/html": [
       "<table>\n",
       "<caption>A spec_tbl_df: 2 × 3</caption>\n",
       "<thead>\n",
       "\t<tr><th scope=col>a</th><th scope=col>b</th><th scope=col>c</th></tr>\n",
       "\t<tr><th scope=col>&lt;dbl&gt;</th><th scope=col>&lt;dbl&gt;</th><th scope=col>&lt;dbl&gt;</th></tr>\n",
       "</thead>\n",
       "<tbody>\n",
       "\t<tr><td>1</td><td>2</td><td>3</td></tr>\n",
       "\t<tr><td>4</td><td>5</td><td>6</td></tr>\n",
       "</tbody>\n",
       "</table>\n"
      ],
      "text/latex": [
       "A spec\\_tbl\\_df: 2 × 3\n",
       "\\begin{tabular}{lll}\n",
       " a & b & c\\\\\n",
       " <dbl> & <dbl> & <dbl>\\\\\n",
       "\\hline\n",
       "\t 1 & 2 & 3\\\\\n",
       "\t 4 & 5 & 6\\\\\n",
       "\\end{tabular}\n"
      ],
      "text/markdown": [
       "\n",
       "A spec_tbl_df: 2 × 3\n",
       "\n",
       "| a &lt;dbl&gt; | b &lt;dbl&gt; | c &lt;dbl&gt; |\n",
       "|---|---|---|\n",
       "| 1 | 2 | 3 |\n",
       "| 4 | 5 | 6 |\n",
       "\n"
      ],
      "text/plain": [
       "  a b c\n",
       "1 1 2 3\n",
       "2 4 5 6"
      ]
     },
     "metadata": {},
     "output_type": "display_data"
    }
   ],
   "source": [
    "read_csv(\n",
    "    \"a, b, c\n",
    "     1, 2, 3\n",
    "     4, 5, 6\n",
    "\")"
   ]
  },
  {
   "cell_type": "markdown",
   "metadata": {},
   "source": [
    "We might want to skip a few rows in the beginning that have metadata."
   ]
  },
  {
   "cell_type": "code",
   "execution_count": 6,
   "metadata": {},
   "outputs": [
    {
     "data": {
      "text/html": [
       "<table>\n",
       "<caption>A spec_tbl_df: 2 × 3</caption>\n",
       "<thead>\n",
       "\t<tr><th scope=col>a</th><th scope=col>b</th><th scope=col>c</th></tr>\n",
       "\t<tr><th scope=col>&lt;dbl&gt;</th><th scope=col>&lt;dbl&gt;</th><th scope=col>&lt;dbl&gt;</th></tr>\n",
       "</thead>\n",
       "<tbody>\n",
       "\t<tr><td>1</td><td>2</td><td>3</td></tr>\n",
       "\t<tr><td>4</td><td>5</td><td>6</td></tr>\n",
       "</tbody>\n",
       "</table>\n"
      ],
      "text/latex": [
       "A spec\\_tbl\\_df: 2 × 3\n",
       "\\begin{tabular}{lll}\n",
       " a & b & c\\\\\n",
       " <dbl> & <dbl> & <dbl>\\\\\n",
       "\\hline\n",
       "\t 1 & 2 & 3\\\\\n",
       "\t 4 & 5 & 6\\\\\n",
       "\\end{tabular}\n"
      ],
      "text/markdown": [
       "\n",
       "A spec_tbl_df: 2 × 3\n",
       "\n",
       "| a &lt;dbl&gt; | b &lt;dbl&gt; | c &lt;dbl&gt; |\n",
       "|---|---|---|\n",
       "| 1 | 2 | 3 |\n",
       "| 4 | 5 | 6 |\n",
       "\n"
      ],
      "text/plain": [
       "  a b c\n",
       "1 1 2 3\n",
       "2 4 5 6"
      ]
     },
     "metadata": {},
     "output_type": "display_data"
    }
   ],
   "source": [
    "read_csv(\n",
    "\"# First row to skip\n",
    "// Second row to skip\n",
    "% Third row to skip\n",
    "a, b, c\n",
    "1, 2, 3\n",
    "4, 5, 6\n",
    "\", skip = 3)"
   ]
  },
  {
   "cell_type": "markdown",
   "metadata": {},
   "source": [
    "Some CSVs will come with comments, typically in the form of lines prefaced by `#`. We can also skip comments line by specifying a comment character."
   ]
  },
  {
   "cell_type": "code",
   "execution_count": 13,
   "metadata": {},
   "outputs": [
    {
     "data": {
      "text/html": [
       "<table>\n",
       "<caption>A spec_tbl_df: 2 × 3</caption>\n",
       "<thead>\n",
       "\t<tr><th scope=col>a</th><th scope=col>b</th><th scope=col>c</th></tr>\n",
       "\t<tr><th scope=col>&lt;dbl&gt;</th><th scope=col>&lt;dbl&gt;</th><th scope=col>&lt;dbl&gt;</th></tr>\n",
       "</thead>\n",
       "<tbody>\n",
       "\t<tr><td>1</td><td>2</td><td>3</td></tr>\n",
       "\t<tr><td>4</td><td>5</td><td>6</td></tr>\n",
       "</tbody>\n",
       "</table>\n"
      ],
      "text/latex": [
       "A spec\\_tbl\\_df: 2 × 3\n",
       "\\begin{tabular}{lll}\n",
       " a & b & c\\\\\n",
       " <dbl> & <dbl> & <dbl>\\\\\n",
       "\\hline\n",
       "\t 1 & 2 & 3\\\\\n",
       "\t 4 & 5 & 6\\\\\n",
       "\\end{tabular}\n"
      ],
      "text/markdown": [
       "\n",
       "A spec_tbl_df: 2 × 3\n",
       "\n",
       "| a &lt;dbl&gt; | b &lt;dbl&gt; | c &lt;dbl&gt; |\n",
       "|---|---|---|\n",
       "| 1 | 2 | 3 |\n",
       "| 4 | 5 | 6 |\n",
       "\n"
      ],
      "text/plain": [
       "  a b c\n",
       "1 1 2 3\n",
       "2 4 5 6"
      ]
     },
     "metadata": {},
     "output_type": "display_data"
    }
   ],
   "source": [
    "read_csv(\"\n",
    "# First comment line\n",
    "a, b, c\n",
    "# This separate the header from the data\n",
    "1, 2, 3\n",
    "4, 5, 6\n",
    "# Another comment line\n",
    "\", comment = '#')"
   ]
  },
  {
   "cell_type": "markdown",
   "metadata": {},
   "source": [
    "Set `col_names = FALSE` when you don't have column names in the file. The column names are then set to X1, X2, ..."
   ]
  },
  {
   "cell_type": "code",
   "execution_count": 14,
   "metadata": {},
   "outputs": [
    {
     "name": "stdout",
     "output_type": "stream",
     "text": [
      "\u001b[38;5;246m# A tibble: 1 x 3\u001b[39m\n",
      "    `1`   `2`   `3`\n",
      "  \u001b[3m\u001b[38;5;246m<dbl>\u001b[39m\u001b[23m \u001b[3m\u001b[38;5;246m<dbl>\u001b[39m\u001b[23m \u001b[3m\u001b[38;5;246m<dbl>\u001b[39m\u001b[23m\n",
      "\u001b[38;5;250m1\u001b[39m     4     5     6\n"
     ]
    }
   ],
   "source": [
    "read_csv(\"\n",
    "1, 2, 3\n",
    "4, 5, 6\n",
    "\") %>% print"
   ]
  },
  {
   "cell_type": "markdown",
   "metadata": {},
   "source": [
    "We can specify our own column names."
   ]
  },
  {
   "cell_type": "code",
   "execution_count": 15,
   "metadata": {},
   "outputs": [
    {
     "data": {
      "text/html": [
       "<table>\n",
       "<caption>A spec_tbl_df: 2 × 3</caption>\n",
       "<thead>\n",
       "\t<tr><th scope=col>a</th><th scope=col>b</th><th scope=col>c</th></tr>\n",
       "\t<tr><th scope=col>&lt;dbl&gt;</th><th scope=col>&lt;dbl&gt;</th><th scope=col>&lt;dbl&gt;</th></tr>\n",
       "</thead>\n",
       "<tbody>\n",
       "\t<tr><td>1</td><td>2</td><td>3</td></tr>\n",
       "\t<tr><td>4</td><td>5</td><td>6</td></tr>\n",
       "</tbody>\n",
       "</table>\n"
      ],
      "text/latex": [
       "A spec\\_tbl\\_df: 2 × 3\n",
       "\\begin{tabular}{lll}\n",
       " a & b & c\\\\\n",
       " <dbl> & <dbl> & <dbl>\\\\\n",
       "\\hline\n",
       "\t 1 & 2 & 3\\\\\n",
       "\t 4 & 5 & 6\\\\\n",
       "\\end{tabular}\n"
      ],
      "text/markdown": [
       "\n",
       "A spec_tbl_df: 2 × 3\n",
       "\n",
       "| a &lt;dbl&gt; | b &lt;dbl&gt; | c &lt;dbl&gt; |\n",
       "|---|---|---|\n",
       "| 1 | 2 | 3 |\n",
       "| 4 | 5 | 6 |\n",
       "\n"
      ],
      "text/plain": [
       "  a b c\n",
       "1 1 2 3\n",
       "2 4 5 6"
      ]
     },
     "metadata": {},
     "output_type": "display_data"
    }
   ],
   "source": [
    "read_csv(\"\n",
    "1, 2, 3\n",
    "4, 5, 6\n",
    "\", col_names = c(\"a\", \"b\", \"c\"))"
   ]
  },
  {
   "cell_type": "markdown",
   "metadata": {},
   "source": [
    "We can specify how missing values are represented in the file."
   ]
  },
  {
   "cell_type": "code",
   "execution_count": 16,
   "metadata": {},
   "outputs": [
    {
     "name": "stdout",
     "output_type": "stream",
     "text": [
      "\u001b[38;5;246m# A tibble: 2 x 3\u001b[39m\n",
      "      a     b     c\n",
      "  \u001b[3m\u001b[38;5;246m<dbl>\u001b[39m\u001b[23m \u001b[3m\u001b[38;5;246m<dbl>\u001b[39m\u001b[23m \u001b[3m\u001b[38;5;246m<dbl>\u001b[39m\u001b[23m\n",
      "\u001b[38;5;250m1\u001b[39m     1     2     3\n",
      "\u001b[38;5;250m2\u001b[39m     4    \u001b[31mNA\u001b[39m     6\n"
     ]
    }
   ],
   "source": [
    "read_csv(\n",
    "    \"a, b, c\n",
    "     1, 2, 3\n",
    "     4,  , 6\n",
    "\") %>% print"
   ]
  },
  {
   "cell_type": "code",
   "execution_count": 17,
   "metadata": {},
   "outputs": [
    {
     "name": "stdout",
     "output_type": "stream",
     "text": [
      "\u001b[38;5;246m# A tibble: 2 x 3\u001b[39m\n",
      "      a     b     c\n",
      "  \u001b[3m\u001b[38;5;246m<dbl>\u001b[39m\u001b[23m \u001b[3m\u001b[38;5;246m<dbl>\u001b[39m\u001b[23m \u001b[3m\u001b[38;5;246m<dbl>\u001b[39m\u001b[23m\n",
      "\u001b[38;5;250m1\u001b[39m     1     2     3\n",
      "\u001b[38;5;250m2\u001b[39m     4    \u001b[31mNA\u001b[39m     6\n"
     ]
    }
   ],
   "source": [
    "read_csv(\n",
    "    \"a, b, c\n",
    "     1, 2, 3\n",
    "     4, -1, 6\n",
    "\", na = \"-1\") %>% print"
   ]
  },
  {
   "cell_type": "markdown",
   "metadata": {},
   "source": [
    "We can save a `data.frame` to a `.csv` file using `write_csv()`."
   ]
  },
  {
   "cell_type": "code",
   "execution_count": 24,
   "metadata": {},
   "outputs": [],
   "source": [
    "cubes <- data.frame(cbind(1:10,(1:10)^2,(1:10)^3))\n",
    "colnames(cubes) <- c(\"1st\",\"2nd\",\"3rd\")"
   ]
  },
  {
   "cell_type": "code",
   "execution_count": 25,
   "metadata": {},
   "outputs": [
    {
     "name": "stdout",
     "output_type": "stream",
     "text": [
      "   1st 2nd  3rd\n",
      "1    1   1    1\n",
      "2    2   4    8\n",
      "3    3   9   27\n",
      "4    4  16   64\n",
      "5    5  25  125\n",
      "6    6  36  216\n",
      "7    7  49  343\n",
      "8    8  64  512\n",
      "9    9  81  729\n",
      "10  10 100 1000\n"
     ]
    }
   ],
   "source": [
    "cubes %>% print\n",
    "write_csv(cubes, \"../Data/cubes.csv\")"
   ]
  },
  {
   "cell_type": "code",
   "execution_count": 26,
   "metadata": {
    "scrolled": true
   },
   "outputs": [
    {
     "name": "stdout",
     "output_type": "stream",
     "text": [
      "1st,2nd,3rd\n",
      "1,1,1\n",
      "2,4,8\n",
      "3,9,27\n",
      "4,16,64\n",
      "5,25,125\n",
      "6,36,216\n",
      "7,49,343\n",
      "8,64,512\n",
      "9,81,729\n",
      "10,100,1000\n"
     ]
    }
   ],
   "source": [
    "cat(read_file('../Data/cubes.csv'))"
   ]
  },
  {
   "cell_type": "code",
   "execution_count": 27,
   "metadata": {
    "scrolled": false
   },
   "outputs": [
    {
     "name": "stderr",
     "output_type": "stream",
     "text": [
      "Parsed with column specification:\n",
      "cols(\n",
      "  `1st` = \u001b[32mcol_double()\u001b[39m,\n",
      "  `2nd` = \u001b[32mcol_double()\u001b[39m,\n",
      "  `3rd` = \u001b[32mcol_double()\u001b[39m\n",
      ")\n",
      "\n"
     ]
    },
    {
     "name": "stdout",
     "output_type": "stream",
     "text": [
      "\u001b[38;5;246m# A tibble: 10 x 3\u001b[39m\n",
      "   `1st` `2nd` `3rd`\n",
      "   \u001b[3m\u001b[38;5;246m<dbl>\u001b[39m\u001b[23m \u001b[3m\u001b[38;5;246m<dbl>\u001b[39m\u001b[23m \u001b[3m\u001b[38;5;246m<dbl>\u001b[39m\u001b[23m\n",
      "\u001b[38;5;250m 1\u001b[39m     1     1     1\n",
      "\u001b[38;5;250m 2\u001b[39m     2     4     8\n",
      "\u001b[38;5;250m 3\u001b[39m     3     9    27\n",
      "\u001b[38;5;250m 4\u001b[39m     4    16    64\n",
      "\u001b[38;5;250m 5\u001b[39m     5    25   125\n",
      "\u001b[38;5;250m 6\u001b[39m     6    36   216\n",
      "\u001b[38;5;250m 7\u001b[39m     7    49   343\n",
      "\u001b[38;5;250m 8\u001b[39m     8    64   512\n",
      "\u001b[38;5;250m 9\u001b[39m     9    81   729\n",
      "\u001b[38;5;250m10\u001b[39m    10   100  \u001b[4m1\u001b[24m000\n"
     ]
    }
   ],
   "source": [
    "cubes2 <- read_csv(\"../Data/cubes.csv\")\n",
    "print(cubes2)"
   ]
  },
  {
   "cell_type": "markdown",
   "metadata": {},
   "source": [
    "### C.1.2 Web scraping\n",
    "\n",
    "These days, it's increasingly common to pull data from online sources. For example, say we wanted to know the population of European countries. This is [easily found](https://en.wikipedia.org/wiki/Demographics_of_Europe) on Wikipedia. We may want to analyze this kind of data in `R`. We can use the package `htmltab` to scrap data from the Internet. "
   ]
  },
  {
   "cell_type": "code",
   "execution_count": 1,
   "metadata": {},
   "outputs": [],
   "source": [
    "library(htmltab)"
   ]
  },
  {
   "cell_type": "markdown",
   "metadata": {},
   "source": [
    "The syntax of this command is:\n",
    "\n",
    "```\n",
    "htmltab(<url>, <table identifier>)\n",
    "```\n",
    "Let's try it with the Wikipedia page above."
   ]
  },
  {
   "cell_type": "code",
   "execution_count": 12,
   "metadata": {},
   "outputs": [
    {
     "name": "stderr",
     "output_type": "stream",
     "text": [
      "Argument 'which' was left unspecified. Choosing first table.\n",
      "\n"
     ]
    },
    {
     "name": "stdout",
     "output_type": "stream",
     "text": [
      "\u001b[90m# A tibble: 8 x 2\u001b[39m\n",
      "  Year  `Population(% of world total)`\n",
      "  \u001b[3m\u001b[90m<chr>\u001b[39m\u001b[23m \u001b[3m\u001b[90m<chr>\u001b[39m\u001b[23m                         \n",
      "\u001b[90m1\u001b[39m AD 1  34 (15%)                      \n",
      "\u001b[90m2\u001b[39m 1000  40 (15%)                      \n",
      "\u001b[90m3\u001b[39m 1500  78 (18%)                      \n",
      "\u001b[90m4\u001b[39m 1600  112 (20%)                     \n",
      "\u001b[90m5\u001b[39m 1700  127 (21%)                     \n",
      "\u001b[90m6\u001b[39m 1820  224 (21%)                     \n",
      "\u001b[90m7\u001b[39m 1913  498 (28%)                     \n",
      "\u001b[90m8\u001b[39m 2000  742 (13%)                     \n"
     ]
    }
   ],
   "source": [
    "url <- \"https://en.wikipedia.org/wiki/Demographics_of_Europe\"\n",
    "\n",
    "htmltab(url) %>% as_tibble %>% print"
   ]
  },
  {
   "cell_type": "markdown",
   "metadata": {},
   "source": [
    "This did not produce what we want. The reason is that there are many tables on this page, and by default `htmltab()` just takes the first one it finds. We can pass a number as the second argument in order to take the second, third, etc."
   ]
  },
  {
   "cell_type": "code",
   "execution_count": 6,
   "metadata": {
    "scrolled": true
   },
   "outputs": [
    {
     "name": "stdout",
     "output_type": "stream",
     "text": [
      "\u001b[90m# A tibble: 31 x 13\u001b[39m\n",
      "   `Country/region` `1`   `1000` `1500` `1600` `1700` `1820` `1870` `1913`\n",
      "   \u001b[3m\u001b[90m<chr>\u001b[39m\u001b[23m            \u001b[3m\u001b[90m<chr>\u001b[39m\u001b[23m \u001b[3m\u001b[90m<chr>\u001b[39m\u001b[23m  \u001b[3m\u001b[90m<chr>\u001b[39m\u001b[23m  \u001b[3m\u001b[90m<chr>\u001b[39m\u001b[23m  \u001b[3m\u001b[90m<chr>\u001b[39m\u001b[23m  \u001b[3m\u001b[90m<chr>\u001b[39m\u001b[23m  \u001b[3m\u001b[90m<chr>\u001b[39m\u001b[23m  \u001b[3m\u001b[90m<chr>\u001b[39m\u001b[23m \n",
      "\u001b[90m 1\u001b[39m Austria          500   700    2000   2500   2500   3369   4520   6767  \n",
      "\u001b[90m 2\u001b[39m Belgium          300   400    1400   1600   2000   3424   5096   7666  \n",
      "\u001b[90m 3\u001b[39m Denmark          180   360    600    650    700    1155   1888   2983  \n",
      "\u001b[90m 4\u001b[39m Finland          20    40     300    400    400    1169   1754   3027  \n",
      "\u001b[90m 5\u001b[39m France           5000  6500   15000  18500  21471  31246  38440  41463 \n",
      "\u001b[90m 6\u001b[39m Germany          3000  3500   12000  16000  15000  24905  39231  65058 \n",
      "\u001b[90m 7\u001b[39m Italy            7000  5000   10500  13100  13300  20176  27888  37248 \n",
      "\u001b[90m 8\u001b[39m the Netherlands  200   300    950    1500   1900   2355   3615   6164  \n",
      "\u001b[90m 9\u001b[39m Norway           100   200    300    400    500    970    1735   2447  \n",
      "\u001b[90m10\u001b[39m Sweden           200   400    550    760    1260   2585   4164   5621  \n",
      "\u001b[90m# ... with 21 more rows, and 4 more variables: `1950` \u001b[3m\u001b[90m<chr>\u001b[90m\u001b[23m, `1973` \u001b[3m\u001b[90m<chr>\u001b[90m\u001b[23m,\u001b[39m\n",
      "\u001b[90m#   `1998` \u001b[3m\u001b[90m<chr>\u001b[90m\u001b[23m, `2020` \u001b[3m\u001b[90m<chr>\u001b[90m\u001b[23m\u001b[39m\n"
     ]
    }
   ],
   "source": [
    "htmltab(url, which = 2) %>% as_tibble %>% print"
   ]
  },
  {
   "cell_type": "markdown",
   "metadata": {},
   "source": [
    "To get the data into a usable format we need to do a bit more work. "
   ]
  },
  {
   "cell_type": "code",
   "execution_count": 11,
   "metadata": {
    "scrolled": false
   },
   "outputs": [
    {
     "name": "stderr",
     "output_type": "stream",
     "text": [
      "Warning message:\n",
      "\"Removed 5 rows containing missing values (position_stack).\"\n"
     ]
    },
    {
     "data": {
      "image/png": "[encoded data removed]",
      "text/plain": [
       "plot without title"
      ]
     },
     "metadata": {
      "image/png": {
       "height": 420,
       "width": 420
      }
     },
     "output_type": "display_data"
    }
   ],
   "source": [
    "htmltab(url, which = 2) %>% as_tibble %>% filter(`Country/region`!='World') %>% \n",
    "    mutate(pop = as.integer(gsub(\",\", \"\", `2020`))) %>% \n",
    "    ggplot + geom_col(aes(x=`Country/region`, y=pop)) + coord_flip()"
   ]
  },
  {
   "cell_type": "markdown",
   "metadata": {},
   "source": [
    "In making the plot above, we use quite a few new commands. We will learn more about data manipulations in the following sections, and we will formally introduce `ggplot2` in Chapter 2."
   ]
  },
  {
   "cell_type": "markdown",
   "metadata": {},
   "source": [
    "## C.2 Data manipulation\n",
    "Manipulating data is an important part of data science, and there are a lot of built-in commands for doing it in R:\n",
    "```\n",
    "subset()\n",
    "aggregate()\n",
    "merge()\n",
    "reshape()\n",
    "```\n",
    "These commands can be difficult to use. Instead of the traditional commands, we are going to focus on the `dplyr` package for filtering data. They provide a nice suite of replacements for the traditional commands, which have a consistent, unified interface and interoperate nicely with each other.\n",
    "\n",
    "The `dplyr` package is part of `tidyverse`, and we can just load up the `tidyverse` package to use tools in `dplyr`."
   ]
  },
  {
   "cell_type": "markdown",
   "metadata": {},
   "source": [
    "We will be using the `nycflights13` data set for this lecture. It does not come with tidyverse.  This data set is about flights departing from the NYC area in 2013. "
   ]
  },
  {
   "cell_type": "code",
   "execution_count": 11,
   "metadata": {},
   "outputs": [],
   "source": [
    "library(nycflights13)"
   ]
  },
  {
   "cell_type": "code",
   "execution_count": 12,
   "metadata": {},
   "outputs": [
    {
     "name": "stdout",
     "output_type": "stream",
     "text": [
      "\u001b[90m# A tibble: 336,776 x 19\u001b[39m\n",
      "    year month   day dep_time sched_dep_time dep_delay arr_time sched_arr_time\n",
      "   \u001b[3m\u001b[90m<int>\u001b[39m\u001b[23m \u001b[3m\u001b[90m<int>\u001b[39m\u001b[23m \u001b[3m\u001b[90m<int>\u001b[39m\u001b[23m    \u001b[3m\u001b[90m<int>\u001b[39m\u001b[23m          \u001b[3m\u001b[90m<int>\u001b[39m\u001b[23m     \u001b[3m\u001b[90m<dbl>\u001b[39m\u001b[23m    \u001b[3m\u001b[90m<int>\u001b[39m\u001b[23m          \u001b[3m\u001b[90m<int>\u001b[39m\u001b[23m\n",
      "\u001b[90m 1\u001b[39m  \u001b[4m2\u001b[24m013     1     1      517            515         2      830            819\n",
      "\u001b[90m 2\u001b[39m  \u001b[4m2\u001b[24m013     1     1      533            529         4      850            830\n",
      "\u001b[90m 3\u001b[39m  \u001b[4m2\u001b[24m013     1     1      542            540         2      923            850\n",
      "\u001b[90m 4\u001b[39m  \u001b[4m2\u001b[24m013     1     1      544            545        -\u001b[31m1\u001b[39m     \u001b[4m1\u001b[24m004           \u001b[4m1\u001b[24m022\n",
      "\u001b[90m 5\u001b[39m  \u001b[4m2\u001b[24m013     1     1      554            600        -\u001b[31m6\u001b[39m      812            837\n",
      "\u001b[90m 6\u001b[39m  \u001b[4m2\u001b[24m013     1     1      554            558        -\u001b[31m4\u001b[39m      740            728\n",
      "\u001b[90m 7\u001b[39m  \u001b[4m2\u001b[24m013     1     1      555            600        -\u001b[31m5\u001b[39m      913            854\n",
      "\u001b[90m 8\u001b[39m  \u001b[4m2\u001b[24m013     1     1      557            600        -\u001b[31m3\u001b[39m      709            723\n",
      "\u001b[90m 9\u001b[39m  \u001b[4m2\u001b[24m013     1     1      557            600        -\u001b[31m3\u001b[39m      838            846\n",
      "\u001b[90m10\u001b[39m  \u001b[4m2\u001b[24m013     1     1      558            600        -\u001b[31m2\u001b[39m      753            745\n",
      "\u001b[90m# ... with 336,766 more rows, and 11 more variables: arr_delay \u001b[3m\u001b[90m<dbl>\u001b[90m\u001b[23m,\u001b[39m\n",
      "\u001b[90m#   carrier \u001b[3m\u001b[90m<chr>\u001b[90m\u001b[23m, flight \u001b[3m\u001b[90m<int>\u001b[90m\u001b[23m, tailnum \u001b[3m\u001b[90m<chr>\u001b[90m\u001b[23m, origin \u001b[3m\u001b[90m<chr>\u001b[90m\u001b[23m, dest \u001b[3m\u001b[90m<chr>\u001b[90m\u001b[23m,\u001b[39m\n",
      "\u001b[90m#   air_time \u001b[3m\u001b[90m<dbl>\u001b[90m\u001b[23m, distance \u001b[3m\u001b[90m<dbl>\u001b[90m\u001b[23m, hour \u001b[3m\u001b[90m<dbl>\u001b[90m\u001b[23m, minute \u001b[3m\u001b[90m<dbl>\u001b[90m\u001b[23m, time_hour \u001b[3m\u001b[90m<dttm>\u001b[90m\u001b[23m\u001b[39m\n"
     ]
    }
   ],
   "source": [
    "print(flights)"
   ]
  },
  {
   "cell_type": "markdown",
   "metadata": {},
   "source": [
    "Here we will interpret `tibble` simply as a dataframe. More information can be found in the document here [(link)](https://tibble.tidyverse.org/).\n",
    "\n",
    "Notice the types of the variables above. They include:\n",
    "\n",
    "* **int** integers\n",
    "* **dbl** double precision floating point numbers\n",
    "* **chr** character vectors, or strings\n",
    "* **dttm** date-time (a date along with a time)\n",
    "\n",
    "Other types available in `R` but not represented above include:\n",
    "\n",
    "* **lgl** logical (either `TRUE` or `FALSE`)\n",
    "* **fctr** factor (categorical variable with a fixed number of possible values)\n",
    "* **date** date"
   ]
  },
  {
   "cell_type": "markdown",
   "metadata": {},
   "source": [
    "### C.2.1 Filtering \n",
    "The first operation we'll learn about is filtering. Filtering is interpereted to mean \"keep only the rows which match these criteria\". The syntax for the `filter` command is \n",
    "```{r}\n",
    "filter(<TIBBLE>, <LOGICAL CRITERIA>)\n",
    "```\n",
    "This commands returns a new tibble whose rows all match the specified criteria."
   ]
  },
  {
   "cell_type": "markdown",
   "metadata": {},
   "source": [
    "For those who are new to programming, we now briefly review the sorts of logical operations that you can specify for commands like `filter()`. The basic logical operators in R are `>`, `>=`, `<`, `<=`, `!=` (not equal), and `==` (equal). The first four are used for comparing numbers and function exactly as in mathematics. Do not confuse `==` with `=`! \n"
   ]
  },
  {
   "cell_type": "code",
   "execution_count": 15,
   "metadata": {},
   "outputs": [
    {
     "data": {
      "text/html": [
       "FALSE"
      ],
      "text/latex": [
       "FALSE"
      ],
      "text/markdown": [
       "FALSE"
      ],
      "text/plain": [
       "[1] FALSE"
      ]
     },
     "metadata": {},
     "output_type": "display_data"
    },
    {
     "data": {
      "text/html": [
       "TRUE"
      ],
      "text/latex": [
       "TRUE"
      ],
      "text/markdown": [
       "TRUE"
      ],
      "text/plain": [
       "[1] TRUE"
      ]
     },
     "metadata": {},
     "output_type": "display_data"
    },
    {
     "data": {
      "text/html": [
       "TRUE"
      ],
      "text/latex": [
       "TRUE"
      ],
      "text/markdown": [
       "TRUE"
      ],
      "text/plain": [
       "[1] TRUE"
      ]
     },
     "metadata": {},
     "output_type": "display_data"
    },
    {
     "data": {
      "text/html": [
       "TRUE"
      ],
      "text/latex": [
       "TRUE"
      ],
      "text/markdown": [
       "TRUE"
      ],
      "text/plain": [
       "[1] TRUE"
      ]
     },
     "metadata": {},
     "output_type": "display_data"
    },
    {
     "data": {
      "text/html": [
       "TRUE"
      ],
      "text/latex": [
       "TRUE"
      ],
      "text/markdown": [
       "TRUE"
      ],
      "text/plain": [
       "[1] TRUE"
      ]
     },
     "metadata": {},
     "output_type": "display_data"
    },
    {
     "ename": "ERROR",
     "evalue": "Error in 1 = 1: invalid (do_set) left-hand side to assignment\n",
     "output_type": "error",
     "traceback": [
      "Error in 1 = 1: invalid (do_set) left-hand side to assignment\nTraceback:\n"
     ]
    }
   ],
   "source": [
    "1 > 1\n",
    "1 >= 1\n",
    "2.5 < 3\n",
    "2.5 <= 3\n",
    "\n",
    "1 == 1\n",
    "1 = 1"
   ]
  },
  {
   "cell_type": "markdown",
   "metadata": {},
   "source": [
    "Logical expressions are combined using *boolean operations*. The basic boolean operations are `and`, `or`, and `not`, denoted `&`, `|` and `!` respectively. There are also doubled versions of `&` and `|` denoted `&&` and `||`. "
   ]
  },
  {
   "cell_type": "code",
   "execution_count": 2,
   "metadata": {},
   "outputs": [
    {
     "data": {
      "text/html": [
       "TRUE"
      ],
      "text/latex": [
       "TRUE"
      ],
      "text/markdown": [
       "TRUE"
      ],
      "text/plain": [
       "[1] TRUE"
      ]
     },
     "metadata": {},
     "output_type": "display_data"
    },
    {
     "data": {
      "text/html": [
       "TRUE"
      ],
      "text/latex": [
       "TRUE"
      ],
      "text/markdown": [
       "TRUE"
      ],
      "text/plain": [
       "[1] TRUE"
      ]
     },
     "metadata": {},
     "output_type": "display_data"
    },
    {
     "data": {
      "text/html": [
       "FALSE"
      ],
      "text/latex": [
       "FALSE"
      ],
      "text/markdown": [
       "FALSE"
      ],
      "text/plain": [
       "[1] FALSE"
      ]
     },
     "metadata": {},
     "output_type": "display_data"
    }
   ],
   "source": [
    "! FALSE\n",
    "FALSE | TRUE\n",
    "! TRUE"
   ]
  },
  {
   "cell_type": "markdown",
   "metadata": {},
   "source": [
    "Another useful operator is `%in%`:\n",
    "```r\n",
    "x %in% y\n",
    "```\n",
    "\n",
    "return `TRUE` if the value `x` is found in the vector `y`:"
   ]
  },
  {
   "cell_type": "code",
   "execution_count": 3,
   "metadata": {},
   "outputs": [
    {
     "data": {
      "text/html": [
       "FALSE"
      ],
      "text/latex": [
       "FALSE"
      ],
      "text/markdown": [
       "FALSE"
      ],
      "text/plain": [
       "[1] FALSE"
      ]
     },
     "metadata": {},
     "output_type": "display_data"
    },
    {
     "data": {
      "text/html": [
       "FALSE"
      ],
      "text/latex": [
       "FALSE"
      ],
      "text/markdown": [
       "FALSE"
      ],
      "text/plain": [
       "[1] FALSE"
      ]
     },
     "metadata": {},
     "output_type": "display_data"
    }
   ],
   "source": [
    "\"a\" %in% c(1, 2, 3)\n",
    "(\"a\" == 1) | (\"a\" == 2) | (\"a\" == 3)"
   ]
  },
  {
   "cell_type": "markdown",
   "metadata": {},
   "source": [
    "Something we will often encounter when working with real data are missing observations. `R` has a special value, `NA` , for representing missing data.  Since we cannot test `NA`s for equality, `R` has a special function for determining whether a value is `NA`."
   ]
  },
  {
   "cell_type": "code",
   "execution_count": 16,
   "metadata": {},
   "outputs": [
    {
     "data": {
      "text/html": [
       "&lt;NA&gt;"
      ],
      "text/latex": [
       "<NA>"
      ],
      "text/markdown": [
       "&lt;NA&gt;"
      ],
      "text/plain": [
       "[1] NA"
      ]
     },
     "metadata": {},
     "output_type": "display_data"
    },
    {
     "data": {
      "text/html": [
       "TRUE"
      ],
      "text/latex": [
       "TRUE"
      ],
      "text/markdown": [
       "TRUE"
      ],
      "text/plain": [
       "[1] TRUE"
      ]
     },
     "metadata": {},
     "output_type": "display_data"
    },
    {
     "data": {
      "text/html": [
       "FALSE"
      ],
      "text/latex": [
       "FALSE"
      ],
      "text/markdown": [
       "FALSE"
      ],
      "text/plain": [
       "[1] FALSE"
      ]
     },
     "metadata": {},
     "output_type": "display_data"
    }
   ],
   "source": [
    "5 == NA\n",
    "\n",
    "is.na(NA)\n",
    "is.na(1)"
   ]
  },
  {
   "cell_type": "markdown",
   "metadata": {},
   "source": [
    "Let's use what we have just learned to evaluate some simple queries on the `flights` dataset. Let's first narrow down to all flights that departed on December 31."
   ]
  },
  {
   "cell_type": "code",
   "execution_count": 17,
   "metadata": {},
   "outputs": [
    {
     "data": {
      "text/html": [
       "<table>\n",
       "<caption>A tibble: 776 × 19</caption>\n",
       "<thead>\n",
       "\t<tr><th scope=col>year</th><th scope=col>month</th><th scope=col>day</th><th scope=col>dep_time</th><th scope=col>sched_dep_time</th><th scope=col>dep_delay</th><th scope=col>arr_time</th><th scope=col>sched_arr_time</th><th scope=col>arr_delay</th><th scope=col>carrier</th><th scope=col>flight</th><th scope=col>tailnum</th><th scope=col>origin</th><th scope=col>dest</th><th scope=col>air_time</th><th scope=col>distance</th><th scope=col>hour</th><th scope=col>minute</th><th scope=col>time_hour</th></tr>\n",
       "\t<tr><th scope=col>&lt;int&gt;</th><th scope=col>&lt;int&gt;</th><th scope=col>&lt;int&gt;</th><th scope=col>&lt;int&gt;</th><th scope=col>&lt;int&gt;</th><th scope=col>&lt;dbl&gt;</th><th scope=col>&lt;int&gt;</th><th scope=col>&lt;int&gt;</th><th scope=col>&lt;dbl&gt;</th><th scope=col>&lt;chr&gt;</th><th scope=col>&lt;int&gt;</th><th scope=col>&lt;chr&gt;</th><th scope=col>&lt;chr&gt;</th><th scope=col>&lt;chr&gt;</th><th scope=col>&lt;dbl&gt;</th><th scope=col>&lt;dbl&gt;</th><th scope=col>&lt;dbl&gt;</th><th scope=col>&lt;dbl&gt;</th><th scope=col>&lt;dttm&gt;</th></tr>\n",
       "</thead>\n",
       "<tbody>\n",
       "\t<tr><td>2013</td><td>12</td><td>31</td><td> 13</td><td>2359</td><td> 14</td><td> 439</td><td> 437</td><td>  2</td><td>B6</td><td> 839</td><td>N566JB</td><td>JFK</td><td>BQN</td><td>189</td><td>1576</td><td>23</td><td>59</td><td>2013-12-31 23:00:00</td></tr>\n",
       "\t<tr><td>2013</td><td>12</td><td>31</td><td> 18</td><td>2359</td><td> 19</td><td> 449</td><td> 444</td><td>  5</td><td>DL</td><td> 412</td><td>N713TW</td><td>JFK</td><td>SJU</td><td>192</td><td>1598</td><td>23</td><td>59</td><td>2013-12-31 23:00:00</td></tr>\n",
       "\t<tr><td>2013</td><td>12</td><td>31</td><td> 26</td><td>2245</td><td>101</td><td> 129</td><td>2353</td><td> 96</td><td>B6</td><td> 108</td><td>N374JB</td><td>JFK</td><td>PWM</td><td> 50</td><td> 273</td><td>22</td><td>45</td><td>2013-12-31 22:00:00</td></tr>\n",
       "\t<tr><td>2013</td><td>12</td><td>31</td><td>459</td><td> 500</td><td> -1</td><td> 655</td><td> 651</td><td>  4</td><td>US</td><td>1895</td><td>N557UW</td><td>EWR</td><td>CLT</td><td> 95</td><td> 529</td><td> 5</td><td> 0</td><td>2013-12-31 05:00:00</td></tr>\n",
       "\t<tr><td>2013</td><td>12</td><td>31</td><td>514</td><td> 515</td><td> -1</td><td> 814</td><td> 812</td><td>  2</td><td>UA</td><td> 700</td><td>N470UA</td><td>EWR</td><td>IAH</td><td>223</td><td>1400</td><td> 5</td><td>15</td><td>2013-12-31 05:00:00</td></tr>\n",
       "\t<tr><td>2013</td><td>12</td><td>31</td><td>549</td><td> 551</td><td> -2</td><td> 925</td><td> 900</td><td> 25</td><td>UA</td><td> 274</td><td>N577UA</td><td>EWR</td><td>LAX</td><td>346</td><td>2454</td><td> 5</td><td>51</td><td>2013-12-31 05:00:00</td></tr>\n",
       "\t<tr><td>2013</td><td>12</td><td>31</td><td>550</td><td> 600</td><td>-10</td><td> 725</td><td> 745</td><td>-20</td><td>AA</td><td> 301</td><td>N3CXAA</td><td>LGA</td><td>ORD</td><td>127</td><td> 733</td><td> 6</td><td> 0</td><td>2013-12-31 06:00:00</td></tr>\n",
       "\t<tr><td>2013</td><td>12</td><td>31</td><td>552</td><td> 600</td><td> -8</td><td> 811</td><td> 826</td><td>-15</td><td>EV</td><td>3825</td><td>N14916</td><td>EWR</td><td>IND</td><td>118</td><td> 645</td><td> 6</td><td> 0</td><td>2013-12-31 06:00:00</td></tr>\n",
       "\t<tr><td>2013</td><td>12</td><td>31</td><td>553</td><td> 600</td><td> -7</td><td> 741</td><td> 754</td><td>-13</td><td>DL</td><td> 731</td><td>N333NB</td><td>LGA</td><td>DTW</td><td> 86</td><td> 502</td><td> 6</td><td> 0</td><td>2013-12-31 06:00:00</td></tr>\n",
       "\t<tr><td>2013</td><td>12</td><td>31</td><td>554</td><td> 550</td><td>  4</td><td>1024</td><td>1027</td><td> -3</td><td>B6</td><td> 939</td><td>N552JB</td><td>JFK</td><td>BQN</td><td>195</td><td>1576</td><td> 5</td><td>50</td><td>2013-12-31 05:00:00</td></tr>\n",
       "\t<tr><td>2013</td><td>12</td><td>31</td><td>555</td><td> 600</td><td> -5</td><td> 901</td><td> 849</td><td> 12</td><td>B6</td><td> 353</td><td>N746JB</td><td>JFK</td><td>PBI</td><td>167</td><td>1028</td><td> 6</td><td> 0</td><td>2013-12-31 06:00:00</td></tr>\n",
       "\t<tr><td>2013</td><td>12</td><td>31</td><td>555</td><td> 600</td><td> -5</td><td> 835</td><td> 831</td><td>  4</td><td>DL</td><td> 904</td><td>N3741S</td><td>LGA</td><td>ATL</td><td>137</td><td> 762</td><td> 6</td><td> 0</td><td>2013-12-31 06:00:00</td></tr>\n",
       "\t<tr><td>2013</td><td>12</td><td>31</td><td>555</td><td> 551</td><td>  4</td><td> 853</td><td> 851</td><td>  2</td><td>UA</td><td> 566</td><td>N491UA</td><td>EWR</td><td>TPA</td><td>164</td><td> 997</td><td> 5</td><td>51</td><td>2013-12-31 05:00:00</td></tr>\n",
       "\t<tr><td>2013</td><td>12</td><td>31</td><td>556</td><td> 600</td><td> -4</td><td> 909</td><td> 846</td><td> 23</td><td>B6</td><td> 583</td><td>N715JB</td><td>JFK</td><td>MCO</td><td>162</td><td> 944</td><td> 6</td><td> 0</td><td>2013-12-31 06:00:00</td></tr>\n",
       "\t<tr><td>2013</td><td>12</td><td>31</td><td>556</td><td> 605</td><td> -9</td><td> 808</td><td> 814</td><td> -6</td><td>DL</td><td>1919</td><td>N958DL</td><td>LGA</td><td>MSP</td><td>160</td><td>1020</td><td> 6</td><td> 5</td><td>2013-12-31 06:00:00</td></tr>\n",
       "\t<tr><td>2013</td><td>12</td><td>31</td><td>557</td><td> 603</td><td> -6</td><td> 719</td><td> 719</td><td>  0</td><td>EV</td><td>4241</td><td>N15574</td><td>EWR</td><td>DCA</td><td> 45</td><td> 199</td><td> 6</td><td> 3</td><td>2013-12-31 06:00:00</td></tr>\n",
       "\t<tr><td>2013</td><td>12</td><td>31</td><td>558</td><td> 600</td><td> -2</td><td> 919</td><td> 905</td><td> 14</td><td>AA</td><td>1175</td><td>N3JEAA</td><td>LGA</td><td>MIA</td><td>173</td><td>1096</td><td> 6</td><td> 0</td><td>2013-12-31 06:00:00</td></tr>\n",
       "\t<tr><td>2013</td><td>12</td><td>31</td><td>559</td><td> 600</td><td> -1</td><td> 917</td><td> 855</td><td> 22</td><td>B6</td><td> 605</td><td>N597JB</td><td>EWR</td><td>FLL</td><td>167</td><td>1065</td><td> 6</td><td> 0</td><td>2013-12-31 06:00:00</td></tr>\n",
       "\t<tr><td>2013</td><td>12</td><td>31</td><td>600</td><td> 540</td><td> 20</td><td> 928</td><td> 850</td><td> 38</td><td>AA</td><td>2243</td><td>N5EMAA</td><td>JFK</td><td>MIA</td><td>171</td><td>1089</td><td> 5</td><td>40</td><td>2013-12-31 05:00:00</td></tr>\n",
       "\t<tr><td>2013</td><td>12</td><td>31</td><td>602</td><td> 605</td><td> -3</td><td> 744</td><td> 805</td><td>-21</td><td>DL</td><td>2505</td><td>N358NB</td><td>EWR</td><td>DTW</td><td> 87</td><td> 488</td><td> 6</td><td> 5</td><td>2013-12-31 06:00:00</td></tr>\n",
       "\t<tr><td>2013</td><td>12</td><td>31</td><td>602</td><td> 605</td><td> -3</td><td> 708</td><td> 723</td><td>-15</td><td>EV</td><td>6177</td><td>N14543</td><td>EWR</td><td>IAD</td><td> 45</td><td> 212</td><td> 6</td><td> 5</td><td>2013-12-31 06:00:00</td></tr>\n",
       "\t<tr><td>2013</td><td>12</td><td>31</td><td>603</td><td> 611</td><td> -8</td><td>1045</td><td>1055</td><td>-10</td><td>B6</td><td>1403</td><td>N547JB</td><td>JFK</td><td>SJU</td><td>198</td><td>1598</td><td> 6</td><td>11</td><td>2013-12-31 06:00:00</td></tr>\n",
       "\t<tr><td>2013</td><td>12</td><td>31</td><td>607</td><td> 600</td><td>  7</td><td> 848</td><td> 825</td><td> 23</td><td>WN</td><td>1716</td><td>N7740A</td><td>LGA</td><td>ATL</td><td>137</td><td> 762</td><td> 6</td><td> 0</td><td>2013-12-31 06:00:00</td></tr>\n",
       "\t<tr><td>2013</td><td>12</td><td>31</td><td>608</td><td> 615</td><td> -7</td><td> 812</td><td> 818</td><td> -6</td><td>US</td><td>1963</td><td>N192UW</td><td>EWR</td><td>CLT</td><td>106</td><td> 529</td><td> 6</td><td>15</td><td>2013-12-31 06:00:00</td></tr>\n",
       "\t<tr><td>2013</td><td>12</td><td>31</td><td>609</td><td> 610</td><td> -1</td><td> 911</td><td> 915</td><td> -4</td><td>AA</td><td>1205</td><td>N5DHAA</td><td>EWR</td><td>MIA</td><td>163</td><td>1085</td><td> 6</td><td>10</td><td>2013-12-31 06:00:00</td></tr>\n",
       "\t<tr><td>2013</td><td>12</td><td>31</td><td>609</td><td> 615</td><td> -6</td><td> 848</td><td> 850</td><td> -2</td><td>DL</td><td> 404</td><td>N392DA</td><td>JFK</td><td>ATL</td><td>133</td><td> 760</td><td> 6</td><td>15</td><td>2013-12-31 06:00:00</td></tr>\n",
       "\t<tr><td>2013</td><td>12</td><td>31</td><td>609</td><td> 614</td><td> -5</td><td> 755</td><td> 751</td><td>  4</td><td>EV</td><td>3812</td><td>N13994</td><td>EWR</td><td>RDU</td><td> 81</td><td> 416</td><td> 6</td><td>14</td><td>2013-12-31 06:00:00</td></tr>\n",
       "\t<tr><td>2013</td><td>12</td><td>31</td><td>610</td><td> 615</td><td> -5</td><td> 828</td><td> 849</td><td>-21</td><td>DL</td><td> 479</td><td>N3766 </td><td>JFK</td><td>ATL</td><td>119</td><td> 760</td><td> 6</td><td>15</td><td>2013-12-31 06:00:00</td></tr>\n",
       "\t<tr><td>2013</td><td>12</td><td>31</td><td>616</td><td> 611</td><td>  5</td><td> 933</td><td> 912</td><td> 21</td><td>B6</td><td> 601</td><td>N643JB</td><td>JFK</td><td>FLL</td><td>173</td><td>1069</td><td> 6</td><td>11</td><td>2013-12-31 06:00:00</td></tr>\n",
       "\t<tr><td>2013</td><td>12</td><td>31</td><td>616</td><td> 630</td><td>-14</td><td> 922</td><td> 919</td><td>  3</td><td>B6</td><td>1099</td><td>N563JB</td><td>LGA</td><td>MCO</td><td>159</td><td> 950</td><td> 6</td><td>30</td><td>2013-12-31 06:00:00</td></tr>\n",
       "\t<tr><td>...</td><td>...</td><td>...</td><td>...</td><td>...</td><td>...</td><td>...</td><td>...</td><td>...</td><td>...</td><td>...</td><td>...</td><td>...</td><td>...</td><td>...</td><td>...</td><td>...</td><td>...</td><td>...</td></tr>\n",
       "\t<tr><td>2013</td><td>12</td><td>31</td><td>2155</td><td>2039</td><td> 76</td><td> 253</td><td>2355</td><td> NA</td><td>B6</td><td>1205</td><td>N627JB</td><td>JFK</td><td>PDX</td><td> NA</td><td>2454</td><td>20</td><td>39</td><td>2013-12-31 20:00:00</td></tr>\n",
       "\t<tr><td>2013</td><td>12</td><td>31</td><td>2155</td><td>2150</td><td>  5</td><td> 110</td><td>  51</td><td> 19</td><td>B6</td><td>1901</td><td>N729JB</td><td>JFK</td><td>FLL</td><td>164</td><td>1069</td><td>21</td><td>50</td><td>2013-12-31 21:00:00</td></tr>\n",
       "\t<tr><td>2013</td><td>12</td><td>31</td><td>2159</td><td>2155</td><td>  4</td><td>  55</td><td>  46</td><td>  9</td><td>B6</td><td>2053</td><td>N593JB</td><td>JFK</td><td>PBI</td><td>155</td><td>1028</td><td>21</td><td>55</td><td>2013-12-31 21:00:00</td></tr>\n",
       "\t<tr><td>2013</td><td>12</td><td>31</td><td>2206</td><td>2110</td><td> 56</td><td>  44</td><td>2339</td><td> 65</td><td>B6</td><td> 775</td><td>N184JB</td><td>JFK</td><td>MSY</td><td>195</td><td>1182</td><td>21</td><td>10</td><td>2013-12-31 21:00:00</td></tr>\n",
       "\t<tr><td>2013</td><td>12</td><td>31</td><td>2211</td><td>2159</td><td> 12</td><td> 100</td><td>  45</td><td> 15</td><td>B6</td><td>1183</td><td>N715JB</td><td>JFK</td><td>MCO</td><td>148</td><td> 944</td><td>21</td><td>59</td><td>2013-12-31 21:00:00</td></tr>\n",
       "\t<tr><td>2013</td><td>12</td><td>31</td><td>2218</td><td>2219</td><td> -1</td><td> 315</td><td> 304</td><td> 11</td><td>B6</td><td>1203</td><td>N625JB</td><td>JFK</td><td>SJU</td><td>202</td><td>1598</td><td>22</td><td>19</td><td>2013-12-31 22:00:00</td></tr>\n",
       "\t<tr><td>2013</td><td>12</td><td>31</td><td>2235</td><td>2245</td><td>-10</td><td>2351</td><td>2355</td><td> -4</td><td>B6</td><td> 234</td><td>N355JB</td><td>JFK</td><td>BTV</td><td> 49</td><td> 266</td><td>22</td><td>45</td><td>2013-12-31 22:00:00</td></tr>\n",
       "\t<tr><td>2013</td><td>12</td><td>31</td><td>2245</td><td>2250</td><td> -5</td><td>2359</td><td>2356</td><td>  3</td><td>B6</td><td>1816</td><td>N318JB</td><td>JFK</td><td>SYR</td><td> 51</td><td> 209</td><td>22</td><td>50</td><td>2013-12-31 22:00:00</td></tr>\n",
       "\t<tr><td>2013</td><td>12</td><td>31</td><td>2310</td><td>2255</td><td> 15</td><td>   7</td><td>2356</td><td> 11</td><td>B6</td><td> 718</td><td>N279JB</td><td>JFK</td><td>BOS</td><td> 40</td><td> 187</td><td>22</td><td>55</td><td>2013-12-31 22:00:00</td></tr>\n",
       "\t<tr><td>2013</td><td>12</td><td>31</td><td>2321</td><td>2250</td><td> 31</td><td>  46</td><td>   8</td><td> 38</td><td>B6</td><td>2002</td><td>N179JB</td><td>JFK</td><td>BUF</td><td> 66</td><td> 301</td><td>22</td><td>50</td><td>2013-12-31 22:00:00</td></tr>\n",
       "\t<tr><td>2013</td><td>12</td><td>31</td><td>2328</td><td>2330</td><td> -2</td><td> 412</td><td> 409</td><td>  3</td><td>B6</td><td>1389</td><td>N651JB</td><td>EWR</td><td>SJU</td><td>198</td><td>1608</td><td>23</td><td>30</td><td>2013-12-31 23:00:00</td></tr>\n",
       "\t<tr><td>2013</td><td>12</td><td>31</td><td>2332</td><td>2245</td><td> 47</td><td>  58</td><td>   3</td><td> 55</td><td>B6</td><td> 486</td><td>N334JB</td><td>JFK</td><td>ROC</td><td> 60</td><td> 264</td><td>22</td><td>45</td><td>2013-12-31 22:00:00</td></tr>\n",
       "\t<tr><td>2013</td><td>12</td><td>31</td><td>2355</td><td>2359</td><td> -4</td><td> 430</td><td> 440</td><td>-10</td><td>B6</td><td>1503</td><td>N509JB</td><td>JFK</td><td>SJU</td><td>195</td><td>1598</td><td>23</td><td>59</td><td>2013-12-31 23:00:00</td></tr>\n",
       "\t<tr><td>2013</td><td>12</td><td>31</td><td>2356</td><td>2359</td><td> -3</td><td> 436</td><td> 445</td><td> -9</td><td>B6</td><td> 745</td><td>N665JB</td><td>JFK</td><td>PSE</td><td>200</td><td>1617</td><td>23</td><td>59</td><td>2013-12-31 23:00:00</td></tr>\n",
       "\t<tr><td>2013</td><td>12</td><td>31</td><td>  NA</td><td>1520</td><td> NA</td><td>  NA</td><td>1705</td><td> NA</td><td>AA</td><td> 341</td><td>N568AA</td><td>LGA</td><td>ORD</td><td> NA</td><td> 733</td><td>15</td><td>20</td><td>2013-12-31 15:00:00</td></tr>\n",
       "\t<tr><td>2013</td><td>12</td><td>31</td><td>  NA</td><td>2025</td><td> NA</td><td>  NA</td><td>2205</td><td> NA</td><td>AA</td><td> 371</td><td>N482AA</td><td>LGA</td><td>ORD</td><td> NA</td><td> 733</td><td>20</td><td>25</td><td>2013-12-31 20:00:00</td></tr>\n",
       "\t<tr><td>2013</td><td>12</td><td>31</td><td>  NA</td><td>1932</td><td> NA</td><td>  NA</td><td>2305</td><td> NA</td><td>B6</td><td> 161</td><td>N516JB</td><td>JFK</td><td>SMF</td><td> NA</td><td>2521</td><td>19</td><td>32</td><td>2013-12-31 19:00:00</td></tr>\n",
       "\t<tr><td>2013</td><td>12</td><td>31</td><td>  NA</td><td>1505</td><td> NA</td><td>  NA</td><td>1725</td><td> NA</td><td>EV</td><td>4181</td><td>N24103</td><td>EWR</td><td>MCI</td><td> NA</td><td>1092</td><td>15</td><td> 5</td><td>2013-12-31 15:00:00</td></tr>\n",
       "\t<tr><td>2013</td><td>12</td><td>31</td><td>  NA</td><td>1000</td><td> NA</td><td>  NA</td><td>1252</td><td> NA</td><td>UA</td><td>1124</td><td>NA    </td><td>EWR</td><td>EGE</td><td> NA</td><td>1725</td><td>10</td><td> 0</td><td>2013-12-31 10:00:00</td></tr>\n",
       "\t<tr><td>2013</td><td>12</td><td>31</td><td>  NA</td><td> 840</td><td> NA</td><td>  NA</td><td>1205</td><td> NA</td><td>UA</td><td>1151</td><td>NA    </td><td>EWR</td><td>SEA</td><td> NA</td><td>2402</td><td> 8</td><td>40</td><td>2013-12-31 08:00:00</td></tr>\n",
       "\t<tr><td>2013</td><td>12</td><td>31</td><td>  NA</td><td> 754</td><td> NA</td><td>  NA</td><td>1118</td><td> NA</td><td>UA</td><td>1455</td><td>NA    </td><td>EWR</td><td>LAX</td><td> NA</td><td>2454</td><td> 7</td><td>54</td><td>2013-12-31 07:00:00</td></tr>\n",
       "\t<tr><td>2013</td><td>12</td><td>31</td><td>  NA</td><td>2000</td><td> NA</td><td>  NA</td><td>2146</td><td> NA</td><td>UA</td><td>1482</td><td>NA    </td><td>EWR</td><td>ORD</td><td> NA</td><td> 719</td><td>20</td><td> 0</td><td>2013-12-31 20:00:00</td></tr>\n",
       "\t<tr><td>2013</td><td>12</td><td>31</td><td>  NA</td><td>1500</td><td> NA</td><td>  NA</td><td>1817</td><td> NA</td><td>UA</td><td>1483</td><td>NA    </td><td>EWR</td><td>AUS</td><td> NA</td><td>1504</td><td>15</td><td> 0</td><td>2013-12-31 15:00:00</td></tr>\n",
       "\t<tr><td>2013</td><td>12</td><td>31</td><td>  NA</td><td>1430</td><td> NA</td><td>  NA</td><td>1750</td><td> NA</td><td>UA</td><td>1493</td><td>NA    </td><td>EWR</td><td>LAX</td><td> NA</td><td>2454</td><td>14</td><td>30</td><td>2013-12-31 14:00:00</td></tr>\n",
       "\t<tr><td>2013</td><td>12</td><td>31</td><td>  NA</td><td> 855</td><td> NA</td><td>  NA</td><td>1142</td><td> NA</td><td>UA</td><td>1506</td><td>NA    </td><td>EWR</td><td>JAC</td><td> NA</td><td>1874</td><td> 8</td><td>55</td><td>2013-12-31 08:00:00</td></tr>\n",
       "\t<tr><td>2013</td><td>12</td><td>31</td><td>  NA</td><td> 705</td><td> NA</td><td>  NA</td><td> 931</td><td> NA</td><td>UA</td><td>1729</td><td>NA    </td><td>EWR</td><td>DEN</td><td> NA</td><td>1605</td><td> 7</td><td> 5</td><td>2013-12-31 07:00:00</td></tr>\n",
       "\t<tr><td>2013</td><td>12</td><td>31</td><td>  NA</td><td> 825</td><td> NA</td><td>  NA</td><td>1029</td><td> NA</td><td>US</td><td>1831</td><td>NA    </td><td>JFK</td><td>CLT</td><td> NA</td><td> 541</td><td> 8</td><td>25</td><td>2013-12-31 08:00:00</td></tr>\n",
       "\t<tr><td>2013</td><td>12</td><td>31</td><td>  NA</td><td>1615</td><td> NA</td><td>  NA</td><td>1800</td><td> NA</td><td>MQ</td><td>3301</td><td>N844MQ</td><td>LGA</td><td>RDU</td><td> NA</td><td> 431</td><td>16</td><td>15</td><td>2013-12-31 16:00:00</td></tr>\n",
       "\t<tr><td>2013</td><td>12</td><td>31</td><td>  NA</td><td> 600</td><td> NA</td><td>  NA</td><td> 735</td><td> NA</td><td>UA</td><td> 219</td><td>NA    </td><td>EWR</td><td>ORD</td><td> NA</td><td> 719</td><td> 6</td><td> 0</td><td>2013-12-31 06:00:00</td></tr>\n",
       "\t<tr><td>2013</td><td>12</td><td>31</td><td>  NA</td><td> 830</td><td> NA</td><td>  NA</td><td>1154</td><td> NA</td><td>UA</td><td> 443</td><td>NA    </td><td>JFK</td><td>LAX</td><td> NA</td><td>2475</td><td> 8</td><td>30</td><td>2013-12-31 08:00:00</td></tr>\n",
       "</tbody>\n",
       "</table>\n"
      ],
      "text/latex": [
       "A tibble: 776 × 19\n",
       "\\begin{tabular}{lllllllllllllllllll}\n",
       " year & month & day & dep\\_time & sched\\_dep\\_time & dep\\_delay & arr\\_time & sched\\_arr\\_time & arr\\_delay & carrier & flight & tailnum & origin & dest & air\\_time & distance & hour & minute & time\\_hour\\\\\n",
       " <int> & <int> & <int> & <int> & <int> & <dbl> & <int> & <int> & <dbl> & <chr> & <int> & <chr> & <chr> & <chr> & <dbl> & <dbl> & <dbl> & <dbl> & <dttm>\\\\\n",
       "\\hline\n",
       "\t 2013 & 12 & 31 &  13 & 2359 &  14 &  439 &  437 &   2 & B6 &  839 & N566JB & JFK & BQN & 189 & 1576 & 23 & 59 & 2013-12-31 23:00:00\\\\\n",
       "\t 2013 & 12 & 31 &  18 & 2359 &  19 &  449 &  444 &   5 & DL &  412 & N713TW & JFK & SJU & 192 & 1598 & 23 & 59 & 2013-12-31 23:00:00\\\\\n",
       "\t 2013 & 12 & 31 &  26 & 2245 & 101 &  129 & 2353 &  96 & B6 &  108 & N374JB & JFK & PWM &  50 &  273 & 22 & 45 & 2013-12-31 22:00:00\\\\\n",
       "\t 2013 & 12 & 31 & 459 &  500 &  -1 &  655 &  651 &   4 & US & 1895 & N557UW & EWR & CLT &  95 &  529 &  5 &  0 & 2013-12-31 05:00:00\\\\\n",
       "\t 2013 & 12 & 31 & 514 &  515 &  -1 &  814 &  812 &   2 & UA &  700 & N470UA & EWR & IAH & 223 & 1400 &  5 & 15 & 2013-12-31 05:00:00\\\\\n",
       "\t 2013 & 12 & 31 & 549 &  551 &  -2 &  925 &  900 &  25 & UA &  274 & N577UA & EWR & LAX & 346 & 2454 &  5 & 51 & 2013-12-31 05:00:00\\\\\n",
       "\t 2013 & 12 & 31 & 550 &  600 & -10 &  725 &  745 & -20 & AA &  301 & N3CXAA & LGA & ORD & 127 &  733 &  6 &  0 & 2013-12-31 06:00:00\\\\\n",
       "\t 2013 & 12 & 31 & 552 &  600 &  -8 &  811 &  826 & -15 & EV & 3825 & N14916 & EWR & IND & 118 &  645 &  6 &  0 & 2013-12-31 06:00:00\\\\\n",
       "\t 2013 & 12 & 31 & 553 &  600 &  -7 &  741 &  754 & -13 & DL &  731 & N333NB & LGA & DTW &  86 &  502 &  6 &  0 & 2013-12-31 06:00:00\\\\\n",
       "\t 2013 & 12 & 31 & 554 &  550 &   4 & 1024 & 1027 &  -3 & B6 &  939 & N552JB & JFK & BQN & 195 & 1576 &  5 & 50 & 2013-12-31 05:00:00\\\\\n",
       "\t 2013 & 12 & 31 & 555 &  600 &  -5 &  901 &  849 &  12 & B6 &  353 & N746JB & JFK & PBI & 167 & 1028 &  6 &  0 & 2013-12-31 06:00:00\\\\\n",
       "\t 2013 & 12 & 31 & 555 &  600 &  -5 &  835 &  831 &   4 & DL &  904 & N3741S & LGA & ATL & 137 &  762 &  6 &  0 & 2013-12-31 06:00:00\\\\\n",
       "\t 2013 & 12 & 31 & 555 &  551 &   4 &  853 &  851 &   2 & UA &  566 & N491UA & EWR & TPA & 164 &  997 &  5 & 51 & 2013-12-31 05:00:00\\\\\n",
       "\t 2013 & 12 & 31 & 556 &  600 &  -4 &  909 &  846 &  23 & B6 &  583 & N715JB & JFK & MCO & 162 &  944 &  6 &  0 & 2013-12-31 06:00:00\\\\\n",
       "\t 2013 & 12 & 31 & 556 &  605 &  -9 &  808 &  814 &  -6 & DL & 1919 & N958DL & LGA & MSP & 160 & 1020 &  6 &  5 & 2013-12-31 06:00:00\\\\\n",
       "\t 2013 & 12 & 31 & 557 &  603 &  -6 &  719 &  719 &   0 & EV & 4241 & N15574 & EWR & DCA &  45 &  199 &  6 &  3 & 2013-12-31 06:00:00\\\\\n",
       "\t 2013 & 12 & 31 & 558 &  600 &  -2 &  919 &  905 &  14 & AA & 1175 & N3JEAA & LGA & MIA & 173 & 1096 &  6 &  0 & 2013-12-31 06:00:00\\\\\n",
       "\t 2013 & 12 & 31 & 559 &  600 &  -1 &  917 &  855 &  22 & B6 &  605 & N597JB & EWR & FLL & 167 & 1065 &  6 &  0 & 2013-12-31 06:00:00\\\\\n",
       "\t 2013 & 12 & 31 & 600 &  540 &  20 &  928 &  850 &  38 & AA & 2243 & N5EMAA & JFK & MIA & 171 & 1089 &  5 & 40 & 2013-12-31 05:00:00\\\\\n",
       "\t 2013 & 12 & 31 & 602 &  605 &  -3 &  744 &  805 & -21 & DL & 2505 & N358NB & EWR & DTW &  87 &  488 &  6 &  5 & 2013-12-31 06:00:00\\\\\n",
       "\t 2013 & 12 & 31 & 602 &  605 &  -3 &  708 &  723 & -15 & EV & 6177 & N14543 & EWR & IAD &  45 &  212 &  6 &  5 & 2013-12-31 06:00:00\\\\\n",
       "\t 2013 & 12 & 31 & 603 &  611 &  -8 & 1045 & 1055 & -10 & B6 & 1403 & N547JB & JFK & SJU & 198 & 1598 &  6 & 11 & 2013-12-31 06:00:00\\\\\n",
       "\t 2013 & 12 & 31 & 607 &  600 &   7 &  848 &  825 &  23 & WN & 1716 & N7740A & LGA & ATL & 137 &  762 &  6 &  0 & 2013-12-31 06:00:00\\\\\n",
       "\t 2013 & 12 & 31 & 608 &  615 &  -7 &  812 &  818 &  -6 & US & 1963 & N192UW & EWR & CLT & 106 &  529 &  6 & 15 & 2013-12-31 06:00:00\\\\\n",
       "\t 2013 & 12 & 31 & 609 &  610 &  -1 &  911 &  915 &  -4 & AA & 1205 & N5DHAA & EWR & MIA & 163 & 1085 &  6 & 10 & 2013-12-31 06:00:00\\\\\n",
       "\t 2013 & 12 & 31 & 609 &  615 &  -6 &  848 &  850 &  -2 & DL &  404 & N392DA & JFK & ATL & 133 &  760 &  6 & 15 & 2013-12-31 06:00:00\\\\\n",
       "\t 2013 & 12 & 31 & 609 &  614 &  -5 &  755 &  751 &   4 & EV & 3812 & N13994 & EWR & RDU &  81 &  416 &  6 & 14 & 2013-12-31 06:00:00\\\\\n",
       "\t 2013 & 12 & 31 & 610 &  615 &  -5 &  828 &  849 & -21 & DL &  479 & N3766  & JFK & ATL & 119 &  760 &  6 & 15 & 2013-12-31 06:00:00\\\\\n",
       "\t 2013 & 12 & 31 & 616 &  611 &   5 &  933 &  912 &  21 & B6 &  601 & N643JB & JFK & FLL & 173 & 1069 &  6 & 11 & 2013-12-31 06:00:00\\\\\n",
       "\t 2013 & 12 & 31 & 616 &  630 & -14 &  922 &  919 &   3 & B6 & 1099 & N563JB & LGA & MCO & 159 &  950 &  6 & 30 & 2013-12-31 06:00:00\\\\\n",
       "\t ... & ... & ... & ... & ... & ... & ... & ... & ... & ... & ... & ... & ... & ... & ... & ... & ... & ... & ...\\\\\n",
       "\t 2013 & 12 & 31 & 2155 & 2039 &  76 &  253 & 2355 &  NA & B6 & 1205 & N627JB & JFK & PDX &  NA & 2454 & 20 & 39 & 2013-12-31 20:00:00\\\\\n",
       "\t 2013 & 12 & 31 & 2155 & 2150 &   5 &  110 &   51 &  19 & B6 & 1901 & N729JB & JFK & FLL & 164 & 1069 & 21 & 50 & 2013-12-31 21:00:00\\\\\n",
       "\t 2013 & 12 & 31 & 2159 & 2155 &   4 &   55 &   46 &   9 & B6 & 2053 & N593JB & JFK & PBI & 155 & 1028 & 21 & 55 & 2013-12-31 21:00:00\\\\\n",
       "\t 2013 & 12 & 31 & 2206 & 2110 &  56 &   44 & 2339 &  65 & B6 &  775 & N184JB & JFK & MSY & 195 & 1182 & 21 & 10 & 2013-12-31 21:00:00\\\\\n",
       "\t 2013 & 12 & 31 & 2211 & 2159 &  12 &  100 &   45 &  15 & B6 & 1183 & N715JB & JFK & MCO & 148 &  944 & 21 & 59 & 2013-12-31 21:00:00\\\\\n",
       "\t 2013 & 12 & 31 & 2218 & 2219 &  -1 &  315 &  304 &  11 & B6 & 1203 & N625JB & JFK & SJU & 202 & 1598 & 22 & 19 & 2013-12-31 22:00:00\\\\\n",
       "\t 2013 & 12 & 31 & 2235 & 2245 & -10 & 2351 & 2355 &  -4 & B6 &  234 & N355JB & JFK & BTV &  49 &  266 & 22 & 45 & 2013-12-31 22:00:00\\\\\n",
       "\t 2013 & 12 & 31 & 2245 & 2250 &  -5 & 2359 & 2356 &   3 & B6 & 1816 & N318JB & JFK & SYR &  51 &  209 & 22 & 50 & 2013-12-31 22:00:00\\\\\n",
       "\t 2013 & 12 & 31 & 2310 & 2255 &  15 &    7 & 2356 &  11 & B6 &  718 & N279JB & JFK & BOS &  40 &  187 & 22 & 55 & 2013-12-31 22:00:00\\\\\n",
       "\t 2013 & 12 & 31 & 2321 & 2250 &  31 &   46 &    8 &  38 & B6 & 2002 & N179JB & JFK & BUF &  66 &  301 & 22 & 50 & 2013-12-31 22:00:00\\\\\n",
       "\t 2013 & 12 & 31 & 2328 & 2330 &  -2 &  412 &  409 &   3 & B6 & 1389 & N651JB & EWR & SJU & 198 & 1608 & 23 & 30 & 2013-12-31 23:00:00\\\\\n",
       "\t 2013 & 12 & 31 & 2332 & 2245 &  47 &   58 &    3 &  55 & B6 &  486 & N334JB & JFK & ROC &  60 &  264 & 22 & 45 & 2013-12-31 22:00:00\\\\\n",
       "\t 2013 & 12 & 31 & 2355 & 2359 &  -4 &  430 &  440 & -10 & B6 & 1503 & N509JB & JFK & SJU & 195 & 1598 & 23 & 59 & 2013-12-31 23:00:00\\\\\n",
       "\t 2013 & 12 & 31 & 2356 & 2359 &  -3 &  436 &  445 &  -9 & B6 &  745 & N665JB & JFK & PSE & 200 & 1617 & 23 & 59 & 2013-12-31 23:00:00\\\\\n",
       "\t 2013 & 12 & 31 &   NA & 1520 &  NA &   NA & 1705 &  NA & AA &  341 & N568AA & LGA & ORD &  NA &  733 & 15 & 20 & 2013-12-31 15:00:00\\\\\n",
       "\t 2013 & 12 & 31 &   NA & 2025 &  NA &   NA & 2205 &  NA & AA &  371 & N482AA & LGA & ORD &  NA &  733 & 20 & 25 & 2013-12-31 20:00:00\\\\\n",
       "\t 2013 & 12 & 31 &   NA & 1932 &  NA &   NA & 2305 &  NA & B6 &  161 & N516JB & JFK & SMF &  NA & 2521 & 19 & 32 & 2013-12-31 19:00:00\\\\\n",
       "\t 2013 & 12 & 31 &   NA & 1505 &  NA &   NA & 1725 &  NA & EV & 4181 & N24103 & EWR & MCI &  NA & 1092 & 15 &  5 & 2013-12-31 15:00:00\\\\\n",
       "\t 2013 & 12 & 31 &   NA & 1000 &  NA &   NA & 1252 &  NA & UA & 1124 & NA     & EWR & EGE &  NA & 1725 & 10 &  0 & 2013-12-31 10:00:00\\\\\n",
       "\t 2013 & 12 & 31 &   NA &  840 &  NA &   NA & 1205 &  NA & UA & 1151 & NA     & EWR & SEA &  NA & 2402 &  8 & 40 & 2013-12-31 08:00:00\\\\\n",
       "\t 2013 & 12 & 31 &   NA &  754 &  NA &   NA & 1118 &  NA & UA & 1455 & NA     & EWR & LAX &  NA & 2454 &  7 & 54 & 2013-12-31 07:00:00\\\\\n",
       "\t 2013 & 12 & 31 &   NA & 2000 &  NA &   NA & 2146 &  NA & UA & 1482 & NA     & EWR & ORD &  NA &  719 & 20 &  0 & 2013-12-31 20:00:00\\\\\n",
       "\t 2013 & 12 & 31 &   NA & 1500 &  NA &   NA & 1817 &  NA & UA & 1483 & NA     & EWR & AUS &  NA & 1504 & 15 &  0 & 2013-12-31 15:00:00\\\\\n",
       "\t 2013 & 12 & 31 &   NA & 1430 &  NA &   NA & 1750 &  NA & UA & 1493 & NA     & EWR & LAX &  NA & 2454 & 14 & 30 & 2013-12-31 14:00:00\\\\\n",
       "\t 2013 & 12 & 31 &   NA &  855 &  NA &   NA & 1142 &  NA & UA & 1506 & NA     & EWR & JAC &  NA & 1874 &  8 & 55 & 2013-12-31 08:00:00\\\\\n",
       "\t 2013 & 12 & 31 &   NA &  705 &  NA &   NA &  931 &  NA & UA & 1729 & NA     & EWR & DEN &  NA & 1605 &  7 &  5 & 2013-12-31 07:00:00\\\\\n",
       "\t 2013 & 12 & 31 &   NA &  825 &  NA &   NA & 1029 &  NA & US & 1831 & NA     & JFK & CLT &  NA &  541 &  8 & 25 & 2013-12-31 08:00:00\\\\\n",
       "\t 2013 & 12 & 31 &   NA & 1615 &  NA &   NA & 1800 &  NA & MQ & 3301 & N844MQ & LGA & RDU &  NA &  431 & 16 & 15 & 2013-12-31 16:00:00\\\\\n",
       "\t 2013 & 12 & 31 &   NA &  600 &  NA &   NA &  735 &  NA & UA &  219 & NA     & EWR & ORD &  NA &  719 &  6 &  0 & 2013-12-31 06:00:00\\\\\n",
       "\t 2013 & 12 & 31 &   NA &  830 &  NA &   NA & 1154 &  NA & UA &  443 & NA     & JFK & LAX &  NA & 2475 &  8 & 30 & 2013-12-31 08:00:00\\\\\n",
       "\\end{tabular}\n"
      ],
      "text/markdown": [
       "\n",
       "A tibble: 776 × 19\n",
       "\n",
       "| year &lt;int&gt; | month &lt;int&gt; | day &lt;int&gt; | dep_time &lt;int&gt; | sched_dep_time &lt;int&gt; | dep_delay &lt;dbl&gt; | arr_time &lt;int&gt; | sched_arr_time &lt;int&gt; | arr_delay &lt;dbl&gt; | carrier &lt;chr&gt; | flight &lt;int&gt; | tailnum &lt;chr&gt; | origin &lt;chr&gt; | dest &lt;chr&gt; | air_time &lt;dbl&gt; | distance &lt;dbl&gt; | hour &lt;dbl&gt; | minute &lt;dbl&gt; | time_hour &lt;dttm&gt; |\n",
       "|---|---|---|---|---|---|---|---|---|---|---|---|---|---|---|---|---|---|---|\n",
       "| 2013 | 12 | 31 |  13 | 2359 |  14 |  439 |  437 |   2 | B6 |  839 | N566JB | JFK | BQN | 189 | 1576 | 23 | 59 | 2013-12-31 23:00:00 |\n",
       "| 2013 | 12 | 31 |  18 | 2359 |  19 |  449 |  444 |   5 | DL |  412 | N713TW | JFK | SJU | 192 | 1598 | 23 | 59 | 2013-12-31 23:00:00 |\n",
       "| 2013 | 12 | 31 |  26 | 2245 | 101 |  129 | 2353 |  96 | B6 |  108 | N374JB | JFK | PWM |  50 |  273 | 22 | 45 | 2013-12-31 22:00:00 |\n",
       "| 2013 | 12 | 31 | 459 |  500 |  -1 |  655 |  651 |   4 | US | 1895 | N557UW | EWR | CLT |  95 |  529 |  5 |  0 | 2013-12-31 05:00:00 |\n",
       "| 2013 | 12 | 31 | 514 |  515 |  -1 |  814 |  812 |   2 | UA |  700 | N470UA | EWR | IAH | 223 | 1400 |  5 | 15 | 2013-12-31 05:00:00 |\n",
       "| 2013 | 12 | 31 | 549 |  551 |  -2 |  925 |  900 |  25 | UA |  274 | N577UA | EWR | LAX | 346 | 2454 |  5 | 51 | 2013-12-31 05:00:00 |\n",
       "| 2013 | 12 | 31 | 550 |  600 | -10 |  725 |  745 | -20 | AA |  301 | N3CXAA | LGA | ORD | 127 |  733 |  6 |  0 | 2013-12-31 06:00:00 |\n",
       "| 2013 | 12 | 31 | 552 |  600 |  -8 |  811 |  826 | -15 | EV | 3825 | N14916 | EWR | IND | 118 |  645 |  6 |  0 | 2013-12-31 06:00:00 |\n",
       "| 2013 | 12 | 31 | 553 |  600 |  -7 |  741 |  754 | -13 | DL |  731 | N333NB | LGA | DTW |  86 |  502 |  6 |  0 | 2013-12-31 06:00:00 |\n",
       "| 2013 | 12 | 31 | 554 |  550 |   4 | 1024 | 1027 |  -3 | B6 |  939 | N552JB | JFK | BQN | 195 | 1576 |  5 | 50 | 2013-12-31 05:00:00 |\n",
       "| 2013 | 12 | 31 | 555 |  600 |  -5 |  901 |  849 |  12 | B6 |  353 | N746JB | JFK | PBI | 167 | 1028 |  6 |  0 | 2013-12-31 06:00:00 |\n",
       "| 2013 | 12 | 31 | 555 |  600 |  -5 |  835 |  831 |   4 | DL |  904 | N3741S | LGA | ATL | 137 |  762 |  6 |  0 | 2013-12-31 06:00:00 |\n",
       "| 2013 | 12 | 31 | 555 |  551 |   4 |  853 |  851 |   2 | UA |  566 | N491UA | EWR | TPA | 164 |  997 |  5 | 51 | 2013-12-31 05:00:00 |\n",
       "| 2013 | 12 | 31 | 556 |  600 |  -4 |  909 |  846 |  23 | B6 |  583 | N715JB | JFK | MCO | 162 |  944 |  6 |  0 | 2013-12-31 06:00:00 |\n",
       "| 2013 | 12 | 31 | 556 |  605 |  -9 |  808 |  814 |  -6 | DL | 1919 | N958DL | LGA | MSP | 160 | 1020 |  6 |  5 | 2013-12-31 06:00:00 |\n",
       "| 2013 | 12 | 31 | 557 |  603 |  -6 |  719 |  719 |   0 | EV | 4241 | N15574 | EWR | DCA |  45 |  199 |  6 |  3 | 2013-12-31 06:00:00 |\n",
       "| 2013 | 12 | 31 | 558 |  600 |  -2 |  919 |  905 |  14 | AA | 1175 | N3JEAA | LGA | MIA | 173 | 1096 |  6 |  0 | 2013-12-31 06:00:00 |\n",
       "| 2013 | 12 | 31 | 559 |  600 |  -1 |  917 |  855 |  22 | B6 |  605 | N597JB | EWR | FLL | 167 | 1065 |  6 |  0 | 2013-12-31 06:00:00 |\n",
       "| 2013 | 12 | 31 | 600 |  540 |  20 |  928 |  850 |  38 | AA | 2243 | N5EMAA | JFK | MIA | 171 | 1089 |  5 | 40 | 2013-12-31 05:00:00 |\n",
       "| 2013 | 12 | 31 | 602 |  605 |  -3 |  744 |  805 | -21 | DL | 2505 | N358NB | EWR | DTW |  87 |  488 |  6 |  5 | 2013-12-31 06:00:00 |\n",
       "| 2013 | 12 | 31 | 602 |  605 |  -3 |  708 |  723 | -15 | EV | 6177 | N14543 | EWR | IAD |  45 |  212 |  6 |  5 | 2013-12-31 06:00:00 |\n",
       "| 2013 | 12 | 31 | 603 |  611 |  -8 | 1045 | 1055 | -10 | B6 | 1403 | N547JB | JFK | SJU | 198 | 1598 |  6 | 11 | 2013-12-31 06:00:00 |\n",
       "| 2013 | 12 | 31 | 607 |  600 |   7 |  848 |  825 |  23 | WN | 1716 | N7740A | LGA | ATL | 137 |  762 |  6 |  0 | 2013-12-31 06:00:00 |\n",
       "| 2013 | 12 | 31 | 608 |  615 |  -7 |  812 |  818 |  -6 | US | 1963 | N192UW | EWR | CLT | 106 |  529 |  6 | 15 | 2013-12-31 06:00:00 |\n",
       "| 2013 | 12 | 31 | 609 |  610 |  -1 |  911 |  915 |  -4 | AA | 1205 | N5DHAA | EWR | MIA | 163 | 1085 |  6 | 10 | 2013-12-31 06:00:00 |\n",
       "| 2013 | 12 | 31 | 609 |  615 |  -6 |  848 |  850 |  -2 | DL |  404 | N392DA | JFK | ATL | 133 |  760 |  6 | 15 | 2013-12-31 06:00:00 |\n",
       "| 2013 | 12 | 31 | 609 |  614 |  -5 |  755 |  751 |   4 | EV | 3812 | N13994 | EWR | RDU |  81 |  416 |  6 | 14 | 2013-12-31 06:00:00 |\n",
       "| 2013 | 12 | 31 | 610 |  615 |  -5 |  828 |  849 | -21 | DL |  479 | N3766  | JFK | ATL | 119 |  760 |  6 | 15 | 2013-12-31 06:00:00 |\n",
       "| 2013 | 12 | 31 | 616 |  611 |   5 |  933 |  912 |  21 | B6 |  601 | N643JB | JFK | FLL | 173 | 1069 |  6 | 11 | 2013-12-31 06:00:00 |\n",
       "| 2013 | 12 | 31 | 616 |  630 | -14 |  922 |  919 |   3 | B6 | 1099 | N563JB | LGA | MCO | 159 |  950 |  6 | 30 | 2013-12-31 06:00:00 |\n",
       "| ... | ... | ... | ... | ... | ... | ... | ... | ... | ... | ... | ... | ... | ... | ... | ... | ... | ... | ... |\n",
       "| 2013 | 12 | 31 | 2155 | 2039 |  76 |  253 | 2355 |  NA | B6 | 1205 | N627JB | JFK | PDX |  NA | 2454 | 20 | 39 | 2013-12-31 20:00:00 |\n",
       "| 2013 | 12 | 31 | 2155 | 2150 |   5 |  110 |   51 |  19 | B6 | 1901 | N729JB | JFK | FLL | 164 | 1069 | 21 | 50 | 2013-12-31 21:00:00 |\n",
       "| 2013 | 12 | 31 | 2159 | 2155 |   4 |   55 |   46 |   9 | B6 | 2053 | N593JB | JFK | PBI | 155 | 1028 | 21 | 55 | 2013-12-31 21:00:00 |\n",
       "| 2013 | 12 | 31 | 2206 | 2110 |  56 |   44 | 2339 |  65 | B6 |  775 | N184JB | JFK | MSY | 195 | 1182 | 21 | 10 | 2013-12-31 21:00:00 |\n",
       "| 2013 | 12 | 31 | 2211 | 2159 |  12 |  100 |   45 |  15 | B6 | 1183 | N715JB | JFK | MCO | 148 |  944 | 21 | 59 | 2013-12-31 21:00:00 |\n",
       "| 2013 | 12 | 31 | 2218 | 2219 |  -1 |  315 |  304 |  11 | B6 | 1203 | N625JB | JFK | SJU | 202 | 1598 | 22 | 19 | 2013-12-31 22:00:00 |\n",
       "| 2013 | 12 | 31 | 2235 | 2245 | -10 | 2351 | 2355 |  -4 | B6 |  234 | N355JB | JFK | BTV |  49 |  266 | 22 | 45 | 2013-12-31 22:00:00 |\n",
       "| 2013 | 12 | 31 | 2245 | 2250 |  -5 | 2359 | 2356 |   3 | B6 | 1816 | N318JB | JFK | SYR |  51 |  209 | 22 | 50 | 2013-12-31 22:00:00 |\n",
       "| 2013 | 12 | 31 | 2310 | 2255 |  15 |    7 | 2356 |  11 | B6 |  718 | N279JB | JFK | BOS |  40 |  187 | 22 | 55 | 2013-12-31 22:00:00 |\n",
       "| 2013 | 12 | 31 | 2321 | 2250 |  31 |   46 |    8 |  38 | B6 | 2002 | N179JB | JFK | BUF |  66 |  301 | 22 | 50 | 2013-12-31 22:00:00 |\n",
       "| 2013 | 12 | 31 | 2328 | 2330 |  -2 |  412 |  409 |   3 | B6 | 1389 | N651JB | EWR | SJU | 198 | 1608 | 23 | 30 | 2013-12-31 23:00:00 |\n",
       "| 2013 | 12 | 31 | 2332 | 2245 |  47 |   58 |    3 |  55 | B6 |  486 | N334JB | JFK | ROC |  60 |  264 | 22 | 45 | 2013-12-31 22:00:00 |\n",
       "| 2013 | 12 | 31 | 2355 | 2359 |  -4 |  430 |  440 | -10 | B6 | 1503 | N509JB | JFK | SJU | 195 | 1598 | 23 | 59 | 2013-12-31 23:00:00 |\n",
       "| 2013 | 12 | 31 | 2356 | 2359 |  -3 |  436 |  445 |  -9 | B6 |  745 | N665JB | JFK | PSE | 200 | 1617 | 23 | 59 | 2013-12-31 23:00:00 |\n",
       "| 2013 | 12 | 31 |   NA | 1520 |  NA |   NA | 1705 |  NA | AA |  341 | N568AA | LGA | ORD |  NA |  733 | 15 | 20 | 2013-12-31 15:00:00 |\n",
       "| 2013 | 12 | 31 |   NA | 2025 |  NA |   NA | 2205 |  NA | AA |  371 | N482AA | LGA | ORD |  NA |  733 | 20 | 25 | 2013-12-31 20:00:00 |\n",
       "| 2013 | 12 | 31 |   NA | 1932 |  NA |   NA | 2305 |  NA | B6 |  161 | N516JB | JFK | SMF |  NA | 2521 | 19 | 32 | 2013-12-31 19:00:00 |\n",
       "| 2013 | 12 | 31 |   NA | 1505 |  NA |   NA | 1725 |  NA | EV | 4181 | N24103 | EWR | MCI |  NA | 1092 | 15 |  5 | 2013-12-31 15:00:00 |\n",
       "| 2013 | 12 | 31 |   NA | 1000 |  NA |   NA | 1252 |  NA | UA | 1124 | NA     | EWR | EGE |  NA | 1725 | 10 |  0 | 2013-12-31 10:00:00 |\n",
       "| 2013 | 12 | 31 |   NA |  840 |  NA |   NA | 1205 |  NA | UA | 1151 | NA     | EWR | SEA |  NA | 2402 |  8 | 40 | 2013-12-31 08:00:00 |\n",
       "| 2013 | 12 | 31 |   NA |  754 |  NA |   NA | 1118 |  NA | UA | 1455 | NA     | EWR | LAX |  NA | 2454 |  7 | 54 | 2013-12-31 07:00:00 |\n",
       "| 2013 | 12 | 31 |   NA | 2000 |  NA |   NA | 2146 |  NA | UA | 1482 | NA     | EWR | ORD |  NA |  719 | 20 |  0 | 2013-12-31 20:00:00 |\n",
       "| 2013 | 12 | 31 |   NA | 1500 |  NA |   NA | 1817 |  NA | UA | 1483 | NA     | EWR | AUS |  NA | 1504 | 15 |  0 | 2013-12-31 15:00:00 |\n",
       "| 2013 | 12 | 31 |   NA | 1430 |  NA |   NA | 1750 |  NA | UA | 1493 | NA     | EWR | LAX |  NA | 2454 | 14 | 30 | 2013-12-31 14:00:00 |\n",
       "| 2013 | 12 | 31 |   NA |  855 |  NA |   NA | 1142 |  NA | UA | 1506 | NA     | EWR | JAC |  NA | 1874 |  8 | 55 | 2013-12-31 08:00:00 |\n",
       "| 2013 | 12 | 31 |   NA |  705 |  NA |   NA |  931 |  NA | UA | 1729 | NA     | EWR | DEN |  NA | 1605 |  7 |  5 | 2013-12-31 07:00:00 |\n",
       "| 2013 | 12 | 31 |   NA |  825 |  NA |   NA | 1029 |  NA | US | 1831 | NA     | JFK | CLT |  NA |  541 |  8 | 25 | 2013-12-31 08:00:00 |\n",
       "| 2013 | 12 | 31 |   NA | 1615 |  NA |   NA | 1800 |  NA | MQ | 3301 | N844MQ | LGA | RDU |  NA |  431 | 16 | 15 | 2013-12-31 16:00:00 |\n",
       "| 2013 | 12 | 31 |   NA |  600 |  NA |   NA |  735 |  NA | UA |  219 | NA     | EWR | ORD |  NA |  719 |  6 |  0 | 2013-12-31 06:00:00 |\n",
       "| 2013 | 12 | 31 |   NA |  830 |  NA |   NA | 1154 |  NA | UA |  443 | NA     | JFK | LAX |  NA | 2475 |  8 | 30 | 2013-12-31 08:00:00 |\n",
       "\n"
      ],
      "text/plain": [
       "    year month day dep_time sched_dep_time dep_delay arr_time sched_arr_time\n",
       "1   2013 12    31   13      2359            14        439      437          \n",
       "2   2013 12    31   18      2359            19        449      444          \n",
       "3   2013 12    31   26      2245           101        129     2353          \n",
       "4   2013 12    31  459       500            -1        655      651          \n",
       "5   2013 12    31  514       515            -1        814      812          \n",
       "6   2013 12    31  549       551            -2        925      900          \n",
       "7   2013 12    31  550       600           -10        725      745          \n",
       "8   2013 12    31  552       600            -8        811      826          \n",
       "9   2013 12    31  553       600            -7        741      754          \n",
       "10  2013 12    31  554       550             4       1024     1027          \n",
       "11  2013 12    31  555       600            -5        901      849          \n",
       "12  2013 12    31  555       600            -5        835      831          \n",
       "13  2013 12    31  555       551             4        853      851          \n",
       "14  2013 12    31  556       600            -4        909      846          \n",
       "15  2013 12    31  556       605            -9        808      814          \n",
       "16  2013 12    31  557       603            -6        719      719          \n",
       "17  2013 12    31  558       600            -2        919      905          \n",
       "18  2013 12    31  559       600            -1        917      855          \n",
       "19  2013 12    31  600       540            20        928      850          \n",
       "20  2013 12    31  602       605            -3        744      805          \n",
       "21  2013 12    31  602       605            -3        708      723          \n",
       "22  2013 12    31  603       611            -8       1045     1055          \n",
       "23  2013 12    31  607       600             7        848      825          \n",
       "24  2013 12    31  608       615            -7        812      818          \n",
       "25  2013 12    31  609       610            -1        911      915          \n",
       "26  2013 12    31  609       615            -6        848      850          \n",
       "27  2013 12    31  609       614            -5        755      751          \n",
       "28  2013 12    31  610       615            -5        828      849          \n",
       "29  2013 12    31  616       611             5        933      912          \n",
       "30  2013 12    31  616       630           -14        922      919          \n",
       "... ...  ...   ... ...      ...            ...       ...      ...           \n",
       "747 2013 12    31  2155     2039            76        253     2355          \n",
       "748 2013 12    31  2155     2150             5        110       51          \n",
       "749 2013 12    31  2159     2155             4         55       46          \n",
       "750 2013 12    31  2206     2110            56         44     2339          \n",
       "751 2013 12    31  2211     2159            12        100       45          \n",
       "752 2013 12    31  2218     2219            -1        315      304          \n",
       "753 2013 12    31  2235     2245           -10       2351     2355          \n",
       "754 2013 12    31  2245     2250            -5       2359     2356          \n",
       "755 2013 12    31  2310     2255            15          7     2356          \n",
       "756 2013 12    31  2321     2250            31         46        8          \n",
       "757 2013 12    31  2328     2330            -2        412      409          \n",
       "758 2013 12    31  2332     2245            47         58        3          \n",
       "759 2013 12    31  2355     2359            -4        430      440          \n",
       "760 2013 12    31  2356     2359            -3        436      445          \n",
       "761 2013 12    31    NA     1520            NA         NA     1705          \n",
       "762 2013 12    31    NA     2025            NA         NA     2205          \n",
       "763 2013 12    31    NA     1932            NA         NA     2305          \n",
       "764 2013 12    31    NA     1505            NA         NA     1725          \n",
       "765 2013 12    31    NA     1000            NA         NA     1252          \n",
       "766 2013 12    31    NA      840            NA         NA     1205          \n",
       "767 2013 12    31    NA      754            NA         NA     1118          \n",
       "768 2013 12    31    NA     2000            NA         NA     2146          \n",
       "769 2013 12    31    NA     1500            NA         NA     1817          \n",
       "770 2013 12    31    NA     1430            NA         NA     1750          \n",
       "771 2013 12    31    NA      855            NA         NA     1142          \n",
       "772 2013 12    31    NA      705            NA         NA      931          \n",
       "773 2013 12    31    NA      825            NA         NA     1029          \n",
       "774 2013 12    31    NA     1615            NA         NA     1800          \n",
       "775 2013 12    31    NA      600            NA         NA      735          \n",
       "776 2013 12    31    NA      830            NA         NA     1154          \n",
       "    arr_delay carrier flight tailnum origin dest air_time distance hour minute\n",
       "1     2       B6       839   N566JB  JFK    BQN  189      1576     23   59    \n",
       "2     5       DL       412   N713TW  JFK    SJU  192      1598     23   59    \n",
       "3    96       B6       108   N374JB  JFK    PWM   50       273     22   45    \n",
       "4     4       US      1895   N557UW  EWR    CLT   95       529      5    0    \n",
       "5     2       UA       700   N470UA  EWR    IAH  223      1400      5   15    \n",
       "6    25       UA       274   N577UA  EWR    LAX  346      2454      5   51    \n",
       "7   -20       AA       301   N3CXAA  LGA    ORD  127       733      6    0    \n",
       "8   -15       EV      3825   N14916  EWR    IND  118       645      6    0    \n",
       "9   -13       DL       731   N333NB  LGA    DTW   86       502      6    0    \n",
       "10   -3       B6       939   N552JB  JFK    BQN  195      1576      5   50    \n",
       "11   12       B6       353   N746JB  JFK    PBI  167      1028      6    0    \n",
       "12    4       DL       904   N3741S  LGA    ATL  137       762      6    0    \n",
       "13    2       UA       566   N491UA  EWR    TPA  164       997      5   51    \n",
       "14   23       B6       583   N715JB  JFK    MCO  162       944      6    0    \n",
       "15   -6       DL      1919   N958DL  LGA    MSP  160      1020      6    5    \n",
       "16    0       EV      4241   N15574  EWR    DCA   45       199      6    3    \n",
       "17   14       AA      1175   N3JEAA  LGA    MIA  173      1096      6    0    \n",
       "18   22       B6       605   N597JB  EWR    FLL  167      1065      6    0    \n",
       "19   38       AA      2243   N5EMAA  JFK    MIA  171      1089      5   40    \n",
       "20  -21       DL      2505   N358NB  EWR    DTW   87       488      6    5    \n",
       "21  -15       EV      6177   N14543  EWR    IAD   45       212      6    5    \n",
       "22  -10       B6      1403   N547JB  JFK    SJU  198      1598      6   11    \n",
       "23   23       WN      1716   N7740A  LGA    ATL  137       762      6    0    \n",
       "24   -6       US      1963   N192UW  EWR    CLT  106       529      6   15    \n",
       "25   -4       AA      1205   N5DHAA  EWR    MIA  163      1085      6   10    \n",
       "26   -2       DL       404   N392DA  JFK    ATL  133       760      6   15    \n",
       "27    4       EV      3812   N13994  EWR    RDU   81       416      6   14    \n",
       "28  -21       DL       479   N3766   JFK    ATL  119       760      6   15    \n",
       "29   21       B6       601   N643JB  JFK    FLL  173      1069      6   11    \n",
       "30    3       B6      1099   N563JB  LGA    MCO  159       950      6   30    \n",
       "... ...       ...     ...    ...     ...    ...  ...      ...      ...  ...   \n",
       "747  NA       B6      1205   N627JB  JFK    PDX   NA      2454     20   39    \n",
       "748  19       B6      1901   N729JB  JFK    FLL  164      1069     21   50    \n",
       "749   9       B6      2053   N593JB  JFK    PBI  155      1028     21   55    \n",
       "750  65       B6       775   N184JB  JFK    MSY  195      1182     21   10    \n",
       "751  15       B6      1183   N715JB  JFK    MCO  148       944     21   59    \n",
       "752  11       B6      1203   N625JB  JFK    SJU  202      1598     22   19    \n",
       "753  -4       B6       234   N355JB  JFK    BTV   49       266     22   45    \n",
       "754   3       B6      1816   N318JB  JFK    SYR   51       209     22   50    \n",
       "755  11       B6       718   N279JB  JFK    BOS   40       187     22   55    \n",
       "756  38       B6      2002   N179JB  JFK    BUF   66       301     22   50    \n",
       "757   3       B6      1389   N651JB  EWR    SJU  198      1608     23   30    \n",
       "758  55       B6       486   N334JB  JFK    ROC   60       264     22   45    \n",
       "759 -10       B6      1503   N509JB  JFK    SJU  195      1598     23   59    \n",
       "760  -9       B6       745   N665JB  JFK    PSE  200      1617     23   59    \n",
       "761  NA       AA       341   N568AA  LGA    ORD   NA       733     15   20    \n",
       "762  NA       AA       371   N482AA  LGA    ORD   NA       733     20   25    \n",
       "763  NA       B6       161   N516JB  JFK    SMF   NA      2521     19   32    \n",
       "764  NA       EV      4181   N24103  EWR    MCI   NA      1092     15    5    \n",
       "765  NA       UA      1124   NA      EWR    EGE   NA      1725     10    0    \n",
       "766  NA       UA      1151   NA      EWR    SEA   NA      2402      8   40    \n",
       "767  NA       UA      1455   NA      EWR    LAX   NA      2454      7   54    \n",
       "768  NA       UA      1482   NA      EWR    ORD   NA       719     20    0    \n",
       "769  NA       UA      1483   NA      EWR    AUS   NA      1504     15    0    \n",
       "770  NA       UA      1493   NA      EWR    LAX   NA      2454     14   30    \n",
       "771  NA       UA      1506   NA      EWR    JAC   NA      1874      8   55    \n",
       "772  NA       UA      1729   NA      EWR    DEN   NA      1605      7    5    \n",
       "773  NA       US      1831   NA      JFK    CLT   NA       541      8   25    \n",
       "774  NA       MQ      3301   N844MQ  LGA    RDU   NA       431     16   15    \n",
       "775  NA       UA       219   NA      EWR    ORD   NA       719      6    0    \n",
       "776  NA       UA       443   NA      JFK    LAX   NA      2475      8   30    \n",
       "    time_hour          \n",
       "1   2013-12-31 23:00:00\n",
       "2   2013-12-31 23:00:00\n",
       "3   2013-12-31 22:00:00\n",
       "4   2013-12-31 05:00:00\n",
       "5   2013-12-31 05:00:00\n",
       "6   2013-12-31 05:00:00\n",
       "7   2013-12-31 06:00:00\n",
       "8   2013-12-31 06:00:00\n",
       "9   2013-12-31 06:00:00\n",
       "10  2013-12-31 05:00:00\n",
       "11  2013-12-31 06:00:00\n",
       "12  2013-12-31 06:00:00\n",
       "13  2013-12-31 05:00:00\n",
       "14  2013-12-31 06:00:00\n",
       "15  2013-12-31 06:00:00\n",
       "16  2013-12-31 06:00:00\n",
       "17  2013-12-31 06:00:00\n",
       "18  2013-12-31 06:00:00\n",
       "19  2013-12-31 05:00:00\n",
       "20  2013-12-31 06:00:00\n",
       "21  2013-12-31 06:00:00\n",
       "22  2013-12-31 06:00:00\n",
       "23  2013-12-31 06:00:00\n",
       "24  2013-12-31 06:00:00\n",
       "25  2013-12-31 06:00:00\n",
       "26  2013-12-31 06:00:00\n",
       "27  2013-12-31 06:00:00\n",
       "28  2013-12-31 06:00:00\n",
       "29  2013-12-31 06:00:00\n",
       "30  2013-12-31 06:00:00\n",
       "... ...                \n",
       "747 2013-12-31 20:00:00\n",
       "748 2013-12-31 21:00:00\n",
       "749 2013-12-31 21:00:00\n",
       "750 2013-12-31 21:00:00\n",
       "751 2013-12-31 21:00:00\n",
       "752 2013-12-31 22:00:00\n",
       "753 2013-12-31 22:00:00\n",
       "754 2013-12-31 22:00:00\n",
       "755 2013-12-31 22:00:00\n",
       "756 2013-12-31 22:00:00\n",
       "757 2013-12-31 23:00:00\n",
       "758 2013-12-31 22:00:00\n",
       "759 2013-12-31 23:00:00\n",
       "760 2013-12-31 23:00:00\n",
       "761 2013-12-31 15:00:00\n",
       "762 2013-12-31 20:00:00\n",
       "763 2013-12-31 19:00:00\n",
       "764 2013-12-31 15:00:00\n",
       "765 2013-12-31 10:00:00\n",
       "766 2013-12-31 08:00:00\n",
       "767 2013-12-31 07:00:00\n",
       "768 2013-12-31 20:00:00\n",
       "769 2013-12-31 15:00:00\n",
       "770 2013-12-31 14:00:00\n",
       "771 2013-12-31 08:00:00\n",
       "772 2013-12-31 07:00:00\n",
       "773 2013-12-31 08:00:00\n",
       "774 2013-12-31 16:00:00\n",
       "775 2013-12-31 06:00:00\n",
       "776 2013-12-31 08:00:00"
      ]
     },
     "metadata": {},
     "output_type": "display_data"
    }
   ],
   "source": [
    "filter(flights, month == 12 & day == 31) "
   ]
  },
  {
   "cell_type": "markdown",
   "metadata": {},
   "source": [
    "An alternative way is to use multiple arguments in `filter`.  `R` will interpret multiple arugments as `AND` in the `filter` function."
   ]
  },
  {
   "cell_type": "code",
   "execution_count": 18,
   "metadata": {},
   "outputs": [
    {
     "data": {
      "text/html": [
       "<table>\n",
       "<caption>A tibble: 776 × 19</caption>\n",
       "<thead>\n",
       "\t<tr><th scope=col>year</th><th scope=col>month</th><th scope=col>day</th><th scope=col>dep_time</th><th scope=col>sched_dep_time</th><th scope=col>dep_delay</th><th scope=col>arr_time</th><th scope=col>sched_arr_time</th><th scope=col>arr_delay</th><th scope=col>carrier</th><th scope=col>flight</th><th scope=col>tailnum</th><th scope=col>origin</th><th scope=col>dest</th><th scope=col>air_time</th><th scope=col>distance</th><th scope=col>hour</th><th scope=col>minute</th><th scope=col>time_hour</th></tr>\n",
       "\t<tr><th scope=col>&lt;int&gt;</th><th scope=col>&lt;int&gt;</th><th scope=col>&lt;int&gt;</th><th scope=col>&lt;int&gt;</th><th scope=col>&lt;int&gt;</th><th scope=col>&lt;dbl&gt;</th><th scope=col>&lt;int&gt;</th><th scope=col>&lt;int&gt;</th><th scope=col>&lt;dbl&gt;</th><th scope=col>&lt;chr&gt;</th><th scope=col>&lt;int&gt;</th><th scope=col>&lt;chr&gt;</th><th scope=col>&lt;chr&gt;</th><th scope=col>&lt;chr&gt;</th><th scope=col>&lt;dbl&gt;</th><th scope=col>&lt;dbl&gt;</th><th scope=col>&lt;dbl&gt;</th><th scope=col>&lt;dbl&gt;</th><th scope=col>&lt;dttm&gt;</th></tr>\n",
       "</thead>\n",
       "<tbody>\n",
       "\t<tr><td>2013</td><td>12</td><td>31</td><td> 13</td><td>2359</td><td> 14</td><td> 439</td><td> 437</td><td>  2</td><td>B6</td><td> 839</td><td>N566JB</td><td>JFK</td><td>BQN</td><td>189</td><td>1576</td><td>23</td><td>59</td><td>2013-12-31 23:00:00</td></tr>\n",
       "\t<tr><td>2013</td><td>12</td><td>31</td><td> 18</td><td>2359</td><td> 19</td><td> 449</td><td> 444</td><td>  5</td><td>DL</td><td> 412</td><td>N713TW</td><td>JFK</td><td>SJU</td><td>192</td><td>1598</td><td>23</td><td>59</td><td>2013-12-31 23:00:00</td></tr>\n",
       "\t<tr><td>2013</td><td>12</td><td>31</td><td> 26</td><td>2245</td><td>101</td><td> 129</td><td>2353</td><td> 96</td><td>B6</td><td> 108</td><td>N374JB</td><td>JFK</td><td>PWM</td><td> 50</td><td> 273</td><td>22</td><td>45</td><td>2013-12-31 22:00:00</td></tr>\n",
       "\t<tr><td>2013</td><td>12</td><td>31</td><td>459</td><td> 500</td><td> -1</td><td> 655</td><td> 651</td><td>  4</td><td>US</td><td>1895</td><td>N557UW</td><td>EWR</td><td>CLT</td><td> 95</td><td> 529</td><td> 5</td><td> 0</td><td>2013-12-31 05:00:00</td></tr>\n",
       "\t<tr><td>2013</td><td>12</td><td>31</td><td>514</td><td> 515</td><td> -1</td><td> 814</td><td> 812</td><td>  2</td><td>UA</td><td> 700</td><td>N470UA</td><td>EWR</td><td>IAH</td><td>223</td><td>1400</td><td> 5</td><td>15</td><td>2013-12-31 05:00:00</td></tr>\n",
       "\t<tr><td>2013</td><td>12</td><td>31</td><td>549</td><td> 551</td><td> -2</td><td> 925</td><td> 900</td><td> 25</td><td>UA</td><td> 274</td><td>N577UA</td><td>EWR</td><td>LAX</td><td>346</td><td>2454</td><td> 5</td><td>51</td><td>2013-12-31 05:00:00</td></tr>\n",
       "\t<tr><td>2013</td><td>12</td><td>31</td><td>550</td><td> 600</td><td>-10</td><td> 725</td><td> 745</td><td>-20</td><td>AA</td><td> 301</td><td>N3CXAA</td><td>LGA</td><td>ORD</td><td>127</td><td> 733</td><td> 6</td><td> 0</td><td>2013-12-31 06:00:00</td></tr>\n",
       "\t<tr><td>2013</td><td>12</td><td>31</td><td>552</td><td> 600</td><td> -8</td><td> 811</td><td> 826</td><td>-15</td><td>EV</td><td>3825</td><td>N14916</td><td>EWR</td><td>IND</td><td>118</td><td> 645</td><td> 6</td><td> 0</td><td>2013-12-31 06:00:00</td></tr>\n",
       "\t<tr><td>2013</td><td>12</td><td>31</td><td>553</td><td> 600</td><td> -7</td><td> 741</td><td> 754</td><td>-13</td><td>DL</td><td> 731</td><td>N333NB</td><td>LGA</td><td>DTW</td><td> 86</td><td> 502</td><td> 6</td><td> 0</td><td>2013-12-31 06:00:00</td></tr>\n",
       "\t<tr><td>2013</td><td>12</td><td>31</td><td>554</td><td> 550</td><td>  4</td><td>1024</td><td>1027</td><td> -3</td><td>B6</td><td> 939</td><td>N552JB</td><td>JFK</td><td>BQN</td><td>195</td><td>1576</td><td> 5</td><td>50</td><td>2013-12-31 05:00:00</td></tr>\n",
       "\t<tr><td>2013</td><td>12</td><td>31</td><td>555</td><td> 600</td><td> -5</td><td> 901</td><td> 849</td><td> 12</td><td>B6</td><td> 353</td><td>N746JB</td><td>JFK</td><td>PBI</td><td>167</td><td>1028</td><td> 6</td><td> 0</td><td>2013-12-31 06:00:00</td></tr>\n",
       "\t<tr><td>2013</td><td>12</td><td>31</td><td>555</td><td> 600</td><td> -5</td><td> 835</td><td> 831</td><td>  4</td><td>DL</td><td> 904</td><td>N3741S</td><td>LGA</td><td>ATL</td><td>137</td><td> 762</td><td> 6</td><td> 0</td><td>2013-12-31 06:00:00</td></tr>\n",
       "\t<tr><td>2013</td><td>12</td><td>31</td><td>555</td><td> 551</td><td>  4</td><td> 853</td><td> 851</td><td>  2</td><td>UA</td><td> 566</td><td>N491UA</td><td>EWR</td><td>TPA</td><td>164</td><td> 997</td><td> 5</td><td>51</td><td>2013-12-31 05:00:00</td></tr>\n",
       "\t<tr><td>2013</td><td>12</td><td>31</td><td>556</td><td> 600</td><td> -4</td><td> 909</td><td> 846</td><td> 23</td><td>B6</td><td> 583</td><td>N715JB</td><td>JFK</td><td>MCO</td><td>162</td><td> 944</td><td> 6</td><td> 0</td><td>2013-12-31 06:00:00</td></tr>\n",
       "\t<tr><td>2013</td><td>12</td><td>31</td><td>556</td><td> 605</td><td> -9</td><td> 808</td><td> 814</td><td> -6</td><td>DL</td><td>1919</td><td>N958DL</td><td>LGA</td><td>MSP</td><td>160</td><td>1020</td><td> 6</td><td> 5</td><td>2013-12-31 06:00:00</td></tr>\n",
       "\t<tr><td>2013</td><td>12</td><td>31</td><td>557</td><td> 603</td><td> -6</td><td> 719</td><td> 719</td><td>  0</td><td>EV</td><td>4241</td><td>N15574</td><td>EWR</td><td>DCA</td><td> 45</td><td> 199</td><td> 6</td><td> 3</td><td>2013-12-31 06:00:00</td></tr>\n",
       "\t<tr><td>2013</td><td>12</td><td>31</td><td>558</td><td> 600</td><td> -2</td><td> 919</td><td> 905</td><td> 14</td><td>AA</td><td>1175</td><td>N3JEAA</td><td>LGA</td><td>MIA</td><td>173</td><td>1096</td><td> 6</td><td> 0</td><td>2013-12-31 06:00:00</td></tr>\n",
       "\t<tr><td>2013</td><td>12</td><td>31</td><td>559</td><td> 600</td><td> -1</td><td> 917</td><td> 855</td><td> 22</td><td>B6</td><td> 605</td><td>N597JB</td><td>EWR</td><td>FLL</td><td>167</td><td>1065</td><td> 6</td><td> 0</td><td>2013-12-31 06:00:00</td></tr>\n",
       "\t<tr><td>2013</td><td>12</td><td>31</td><td>600</td><td> 540</td><td> 20</td><td> 928</td><td> 850</td><td> 38</td><td>AA</td><td>2243</td><td>N5EMAA</td><td>JFK</td><td>MIA</td><td>171</td><td>1089</td><td> 5</td><td>40</td><td>2013-12-31 05:00:00</td></tr>\n",
       "\t<tr><td>2013</td><td>12</td><td>31</td><td>602</td><td> 605</td><td> -3</td><td> 744</td><td> 805</td><td>-21</td><td>DL</td><td>2505</td><td>N358NB</td><td>EWR</td><td>DTW</td><td> 87</td><td> 488</td><td> 6</td><td> 5</td><td>2013-12-31 06:00:00</td></tr>\n",
       "\t<tr><td>2013</td><td>12</td><td>31</td><td>602</td><td> 605</td><td> -3</td><td> 708</td><td> 723</td><td>-15</td><td>EV</td><td>6177</td><td>N14543</td><td>EWR</td><td>IAD</td><td> 45</td><td> 212</td><td> 6</td><td> 5</td><td>2013-12-31 06:00:00</td></tr>\n",
       "\t<tr><td>2013</td><td>12</td><td>31</td><td>603</td><td> 611</td><td> -8</td><td>1045</td><td>1055</td><td>-10</td><td>B6</td><td>1403</td><td>N547JB</td><td>JFK</td><td>SJU</td><td>198</td><td>1598</td><td> 6</td><td>11</td><td>2013-12-31 06:00:00</td></tr>\n",
       "\t<tr><td>2013</td><td>12</td><td>31</td><td>607</td><td> 600</td><td>  7</td><td> 848</td><td> 825</td><td> 23</td><td>WN</td><td>1716</td><td>N7740A</td><td>LGA</td><td>ATL</td><td>137</td><td> 762</td><td> 6</td><td> 0</td><td>2013-12-31 06:00:00</td></tr>\n",
       "\t<tr><td>2013</td><td>12</td><td>31</td><td>608</td><td> 615</td><td> -7</td><td> 812</td><td> 818</td><td> -6</td><td>US</td><td>1963</td><td>N192UW</td><td>EWR</td><td>CLT</td><td>106</td><td> 529</td><td> 6</td><td>15</td><td>2013-12-31 06:00:00</td></tr>\n",
       "\t<tr><td>2013</td><td>12</td><td>31</td><td>609</td><td> 610</td><td> -1</td><td> 911</td><td> 915</td><td> -4</td><td>AA</td><td>1205</td><td>N5DHAA</td><td>EWR</td><td>MIA</td><td>163</td><td>1085</td><td> 6</td><td>10</td><td>2013-12-31 06:00:00</td></tr>\n",
       "\t<tr><td>2013</td><td>12</td><td>31</td><td>609</td><td> 615</td><td> -6</td><td> 848</td><td> 850</td><td> -2</td><td>DL</td><td> 404</td><td>N392DA</td><td>JFK</td><td>ATL</td><td>133</td><td> 760</td><td> 6</td><td>15</td><td>2013-12-31 06:00:00</td></tr>\n",
       "\t<tr><td>2013</td><td>12</td><td>31</td><td>609</td><td> 614</td><td> -5</td><td> 755</td><td> 751</td><td>  4</td><td>EV</td><td>3812</td><td>N13994</td><td>EWR</td><td>RDU</td><td> 81</td><td> 416</td><td> 6</td><td>14</td><td>2013-12-31 06:00:00</td></tr>\n",
       "\t<tr><td>2013</td><td>12</td><td>31</td><td>610</td><td> 615</td><td> -5</td><td> 828</td><td> 849</td><td>-21</td><td>DL</td><td> 479</td><td>N3766 </td><td>JFK</td><td>ATL</td><td>119</td><td> 760</td><td> 6</td><td>15</td><td>2013-12-31 06:00:00</td></tr>\n",
       "\t<tr><td>2013</td><td>12</td><td>31</td><td>616</td><td> 611</td><td>  5</td><td> 933</td><td> 912</td><td> 21</td><td>B6</td><td> 601</td><td>N643JB</td><td>JFK</td><td>FLL</td><td>173</td><td>1069</td><td> 6</td><td>11</td><td>2013-12-31 06:00:00</td></tr>\n",
       "\t<tr><td>2013</td><td>12</td><td>31</td><td>616</td><td> 630</td><td>-14</td><td> 922</td><td> 919</td><td>  3</td><td>B6</td><td>1099</td><td>N563JB</td><td>LGA</td><td>MCO</td><td>159</td><td> 950</td><td> 6</td><td>30</td><td>2013-12-31 06:00:00</td></tr>\n",
       "\t<tr><td>...</td><td>...</td><td>...</td><td>...</td><td>...</td><td>...</td><td>...</td><td>...</td><td>...</td><td>...</td><td>...</td><td>...</td><td>...</td><td>...</td><td>...</td><td>...</td><td>...</td><td>...</td><td>...</td></tr>\n",
       "\t<tr><td>2013</td><td>12</td><td>31</td><td>2155</td><td>2039</td><td> 76</td><td> 253</td><td>2355</td><td> NA</td><td>B6</td><td>1205</td><td>N627JB</td><td>JFK</td><td>PDX</td><td> NA</td><td>2454</td><td>20</td><td>39</td><td>2013-12-31 20:00:00</td></tr>\n",
       "\t<tr><td>2013</td><td>12</td><td>31</td><td>2155</td><td>2150</td><td>  5</td><td> 110</td><td>  51</td><td> 19</td><td>B6</td><td>1901</td><td>N729JB</td><td>JFK</td><td>FLL</td><td>164</td><td>1069</td><td>21</td><td>50</td><td>2013-12-31 21:00:00</td></tr>\n",
       "\t<tr><td>2013</td><td>12</td><td>31</td><td>2159</td><td>2155</td><td>  4</td><td>  55</td><td>  46</td><td>  9</td><td>B6</td><td>2053</td><td>N593JB</td><td>JFK</td><td>PBI</td><td>155</td><td>1028</td><td>21</td><td>55</td><td>2013-12-31 21:00:00</td></tr>\n",
       "\t<tr><td>2013</td><td>12</td><td>31</td><td>2206</td><td>2110</td><td> 56</td><td>  44</td><td>2339</td><td> 65</td><td>B6</td><td> 775</td><td>N184JB</td><td>JFK</td><td>MSY</td><td>195</td><td>1182</td><td>21</td><td>10</td><td>2013-12-31 21:00:00</td></tr>\n",
       "\t<tr><td>2013</td><td>12</td><td>31</td><td>2211</td><td>2159</td><td> 12</td><td> 100</td><td>  45</td><td> 15</td><td>B6</td><td>1183</td><td>N715JB</td><td>JFK</td><td>MCO</td><td>148</td><td> 944</td><td>21</td><td>59</td><td>2013-12-31 21:00:00</td></tr>\n",
       "\t<tr><td>2013</td><td>12</td><td>31</td><td>2218</td><td>2219</td><td> -1</td><td> 315</td><td> 304</td><td> 11</td><td>B6</td><td>1203</td><td>N625JB</td><td>JFK</td><td>SJU</td><td>202</td><td>1598</td><td>22</td><td>19</td><td>2013-12-31 22:00:00</td></tr>\n",
       "\t<tr><td>2013</td><td>12</td><td>31</td><td>2235</td><td>2245</td><td>-10</td><td>2351</td><td>2355</td><td> -4</td><td>B6</td><td> 234</td><td>N355JB</td><td>JFK</td><td>BTV</td><td> 49</td><td> 266</td><td>22</td><td>45</td><td>2013-12-31 22:00:00</td></tr>\n",
       "\t<tr><td>2013</td><td>12</td><td>31</td><td>2245</td><td>2250</td><td> -5</td><td>2359</td><td>2356</td><td>  3</td><td>B6</td><td>1816</td><td>N318JB</td><td>JFK</td><td>SYR</td><td> 51</td><td> 209</td><td>22</td><td>50</td><td>2013-12-31 22:00:00</td></tr>\n",
       "\t<tr><td>2013</td><td>12</td><td>31</td><td>2310</td><td>2255</td><td> 15</td><td>   7</td><td>2356</td><td> 11</td><td>B6</td><td> 718</td><td>N279JB</td><td>JFK</td><td>BOS</td><td> 40</td><td> 187</td><td>22</td><td>55</td><td>2013-12-31 22:00:00</td></tr>\n",
       "\t<tr><td>2013</td><td>12</td><td>31</td><td>2321</td><td>2250</td><td> 31</td><td>  46</td><td>   8</td><td> 38</td><td>B6</td><td>2002</td><td>N179JB</td><td>JFK</td><td>BUF</td><td> 66</td><td> 301</td><td>22</td><td>50</td><td>2013-12-31 22:00:00</td></tr>\n",
       "\t<tr><td>2013</td><td>12</td><td>31</td><td>2328</td><td>2330</td><td> -2</td><td> 412</td><td> 409</td><td>  3</td><td>B6</td><td>1389</td><td>N651JB</td><td>EWR</td><td>SJU</td><td>198</td><td>1608</td><td>23</td><td>30</td><td>2013-12-31 23:00:00</td></tr>\n",
       "\t<tr><td>2013</td><td>12</td><td>31</td><td>2332</td><td>2245</td><td> 47</td><td>  58</td><td>   3</td><td> 55</td><td>B6</td><td> 486</td><td>N334JB</td><td>JFK</td><td>ROC</td><td> 60</td><td> 264</td><td>22</td><td>45</td><td>2013-12-31 22:00:00</td></tr>\n",
       "\t<tr><td>2013</td><td>12</td><td>31</td><td>2355</td><td>2359</td><td> -4</td><td> 430</td><td> 440</td><td>-10</td><td>B6</td><td>1503</td><td>N509JB</td><td>JFK</td><td>SJU</td><td>195</td><td>1598</td><td>23</td><td>59</td><td>2013-12-31 23:00:00</td></tr>\n",
       "\t<tr><td>2013</td><td>12</td><td>31</td><td>2356</td><td>2359</td><td> -3</td><td> 436</td><td> 445</td><td> -9</td><td>B6</td><td> 745</td><td>N665JB</td><td>JFK</td><td>PSE</td><td>200</td><td>1617</td><td>23</td><td>59</td><td>2013-12-31 23:00:00</td></tr>\n",
       "\t<tr><td>2013</td><td>12</td><td>31</td><td>  NA</td><td>1520</td><td> NA</td><td>  NA</td><td>1705</td><td> NA</td><td>AA</td><td> 341</td><td>N568AA</td><td>LGA</td><td>ORD</td><td> NA</td><td> 733</td><td>15</td><td>20</td><td>2013-12-31 15:00:00</td></tr>\n",
       "\t<tr><td>2013</td><td>12</td><td>31</td><td>  NA</td><td>2025</td><td> NA</td><td>  NA</td><td>2205</td><td> NA</td><td>AA</td><td> 371</td><td>N482AA</td><td>LGA</td><td>ORD</td><td> NA</td><td> 733</td><td>20</td><td>25</td><td>2013-12-31 20:00:00</td></tr>\n",
       "\t<tr><td>2013</td><td>12</td><td>31</td><td>  NA</td><td>1932</td><td> NA</td><td>  NA</td><td>2305</td><td> NA</td><td>B6</td><td> 161</td><td>N516JB</td><td>JFK</td><td>SMF</td><td> NA</td><td>2521</td><td>19</td><td>32</td><td>2013-12-31 19:00:00</td></tr>\n",
       "\t<tr><td>2013</td><td>12</td><td>31</td><td>  NA</td><td>1505</td><td> NA</td><td>  NA</td><td>1725</td><td> NA</td><td>EV</td><td>4181</td><td>N24103</td><td>EWR</td><td>MCI</td><td> NA</td><td>1092</td><td>15</td><td> 5</td><td>2013-12-31 15:00:00</td></tr>\n",
       "\t<tr><td>2013</td><td>12</td><td>31</td><td>  NA</td><td>1000</td><td> NA</td><td>  NA</td><td>1252</td><td> NA</td><td>UA</td><td>1124</td><td>NA    </td><td>EWR</td><td>EGE</td><td> NA</td><td>1725</td><td>10</td><td> 0</td><td>2013-12-31 10:00:00</td></tr>\n",
       "\t<tr><td>2013</td><td>12</td><td>31</td><td>  NA</td><td> 840</td><td> NA</td><td>  NA</td><td>1205</td><td> NA</td><td>UA</td><td>1151</td><td>NA    </td><td>EWR</td><td>SEA</td><td> NA</td><td>2402</td><td> 8</td><td>40</td><td>2013-12-31 08:00:00</td></tr>\n",
       "\t<tr><td>2013</td><td>12</td><td>31</td><td>  NA</td><td> 754</td><td> NA</td><td>  NA</td><td>1118</td><td> NA</td><td>UA</td><td>1455</td><td>NA    </td><td>EWR</td><td>LAX</td><td> NA</td><td>2454</td><td> 7</td><td>54</td><td>2013-12-31 07:00:00</td></tr>\n",
       "\t<tr><td>2013</td><td>12</td><td>31</td><td>  NA</td><td>2000</td><td> NA</td><td>  NA</td><td>2146</td><td> NA</td><td>UA</td><td>1482</td><td>NA    </td><td>EWR</td><td>ORD</td><td> NA</td><td> 719</td><td>20</td><td> 0</td><td>2013-12-31 20:00:00</td></tr>\n",
       "\t<tr><td>2013</td><td>12</td><td>31</td><td>  NA</td><td>1500</td><td> NA</td><td>  NA</td><td>1817</td><td> NA</td><td>UA</td><td>1483</td><td>NA    </td><td>EWR</td><td>AUS</td><td> NA</td><td>1504</td><td>15</td><td> 0</td><td>2013-12-31 15:00:00</td></tr>\n",
       "\t<tr><td>2013</td><td>12</td><td>31</td><td>  NA</td><td>1430</td><td> NA</td><td>  NA</td><td>1750</td><td> NA</td><td>UA</td><td>1493</td><td>NA    </td><td>EWR</td><td>LAX</td><td> NA</td><td>2454</td><td>14</td><td>30</td><td>2013-12-31 14:00:00</td></tr>\n",
       "\t<tr><td>2013</td><td>12</td><td>31</td><td>  NA</td><td> 855</td><td> NA</td><td>  NA</td><td>1142</td><td> NA</td><td>UA</td><td>1506</td><td>NA    </td><td>EWR</td><td>JAC</td><td> NA</td><td>1874</td><td> 8</td><td>55</td><td>2013-12-31 08:00:00</td></tr>\n",
       "\t<tr><td>2013</td><td>12</td><td>31</td><td>  NA</td><td> 705</td><td> NA</td><td>  NA</td><td> 931</td><td> NA</td><td>UA</td><td>1729</td><td>NA    </td><td>EWR</td><td>DEN</td><td> NA</td><td>1605</td><td> 7</td><td> 5</td><td>2013-12-31 07:00:00</td></tr>\n",
       "\t<tr><td>2013</td><td>12</td><td>31</td><td>  NA</td><td> 825</td><td> NA</td><td>  NA</td><td>1029</td><td> NA</td><td>US</td><td>1831</td><td>NA    </td><td>JFK</td><td>CLT</td><td> NA</td><td> 541</td><td> 8</td><td>25</td><td>2013-12-31 08:00:00</td></tr>\n",
       "\t<tr><td>2013</td><td>12</td><td>31</td><td>  NA</td><td>1615</td><td> NA</td><td>  NA</td><td>1800</td><td> NA</td><td>MQ</td><td>3301</td><td>N844MQ</td><td>LGA</td><td>RDU</td><td> NA</td><td> 431</td><td>16</td><td>15</td><td>2013-12-31 16:00:00</td></tr>\n",
       "\t<tr><td>2013</td><td>12</td><td>31</td><td>  NA</td><td> 600</td><td> NA</td><td>  NA</td><td> 735</td><td> NA</td><td>UA</td><td> 219</td><td>NA    </td><td>EWR</td><td>ORD</td><td> NA</td><td> 719</td><td> 6</td><td> 0</td><td>2013-12-31 06:00:00</td></tr>\n",
       "\t<tr><td>2013</td><td>12</td><td>31</td><td>  NA</td><td> 830</td><td> NA</td><td>  NA</td><td>1154</td><td> NA</td><td>UA</td><td> 443</td><td>NA    </td><td>JFK</td><td>LAX</td><td> NA</td><td>2475</td><td> 8</td><td>30</td><td>2013-12-31 08:00:00</td></tr>\n",
       "</tbody>\n",
       "</table>\n"
      ],
      "text/latex": [
       "A tibble: 776 × 19\n",
       "\\begin{tabular}{lllllllllllllllllll}\n",
       " year & month & day & dep\\_time & sched\\_dep\\_time & dep\\_delay & arr\\_time & sched\\_arr\\_time & arr\\_delay & carrier & flight & tailnum & origin & dest & air\\_time & distance & hour & minute & time\\_hour\\\\\n",
       " <int> & <int> & <int> & <int> & <int> & <dbl> & <int> & <int> & <dbl> & <chr> & <int> & <chr> & <chr> & <chr> & <dbl> & <dbl> & <dbl> & <dbl> & <dttm>\\\\\n",
       "\\hline\n",
       "\t 2013 & 12 & 31 &  13 & 2359 &  14 &  439 &  437 &   2 & B6 &  839 & N566JB & JFK & BQN & 189 & 1576 & 23 & 59 & 2013-12-31 23:00:00\\\\\n",
       "\t 2013 & 12 & 31 &  18 & 2359 &  19 &  449 &  444 &   5 & DL &  412 & N713TW & JFK & SJU & 192 & 1598 & 23 & 59 & 2013-12-31 23:00:00\\\\\n",
       "\t 2013 & 12 & 31 &  26 & 2245 & 101 &  129 & 2353 &  96 & B6 &  108 & N374JB & JFK & PWM &  50 &  273 & 22 & 45 & 2013-12-31 22:00:00\\\\\n",
       "\t 2013 & 12 & 31 & 459 &  500 &  -1 &  655 &  651 &   4 & US & 1895 & N557UW & EWR & CLT &  95 &  529 &  5 &  0 & 2013-12-31 05:00:00\\\\\n",
       "\t 2013 & 12 & 31 & 514 &  515 &  -1 &  814 &  812 &   2 & UA &  700 & N470UA & EWR & IAH & 223 & 1400 &  5 & 15 & 2013-12-31 05:00:00\\\\\n",
       "\t 2013 & 12 & 31 & 549 &  551 &  -2 &  925 &  900 &  25 & UA &  274 & N577UA & EWR & LAX & 346 & 2454 &  5 & 51 & 2013-12-31 05:00:00\\\\\n",
       "\t 2013 & 12 & 31 & 550 &  600 & -10 &  725 &  745 & -20 & AA &  301 & N3CXAA & LGA & ORD & 127 &  733 &  6 &  0 & 2013-12-31 06:00:00\\\\\n",
       "\t 2013 & 12 & 31 & 552 &  600 &  -8 &  811 &  826 & -15 & EV & 3825 & N14916 & EWR & IND & 118 &  645 &  6 &  0 & 2013-12-31 06:00:00\\\\\n",
       "\t 2013 & 12 & 31 & 553 &  600 &  -7 &  741 &  754 & -13 & DL &  731 & N333NB & LGA & DTW &  86 &  502 &  6 &  0 & 2013-12-31 06:00:00\\\\\n",
       "\t 2013 & 12 & 31 & 554 &  550 &   4 & 1024 & 1027 &  -3 & B6 &  939 & N552JB & JFK & BQN & 195 & 1576 &  5 & 50 & 2013-12-31 05:00:00\\\\\n",
       "\t 2013 & 12 & 31 & 555 &  600 &  -5 &  901 &  849 &  12 & B6 &  353 & N746JB & JFK & PBI & 167 & 1028 &  6 &  0 & 2013-12-31 06:00:00\\\\\n",
       "\t 2013 & 12 & 31 & 555 &  600 &  -5 &  835 &  831 &   4 & DL &  904 & N3741S & LGA & ATL & 137 &  762 &  6 &  0 & 2013-12-31 06:00:00\\\\\n",
       "\t 2013 & 12 & 31 & 555 &  551 &   4 &  853 &  851 &   2 & UA &  566 & N491UA & EWR & TPA & 164 &  997 &  5 & 51 & 2013-12-31 05:00:00\\\\\n",
       "\t 2013 & 12 & 31 & 556 &  600 &  -4 &  909 &  846 &  23 & B6 &  583 & N715JB & JFK & MCO & 162 &  944 &  6 &  0 & 2013-12-31 06:00:00\\\\\n",
       "\t 2013 & 12 & 31 & 556 &  605 &  -9 &  808 &  814 &  -6 & DL & 1919 & N958DL & LGA & MSP & 160 & 1020 &  6 &  5 & 2013-12-31 06:00:00\\\\\n",
       "\t 2013 & 12 & 31 & 557 &  603 &  -6 &  719 &  719 &   0 & EV & 4241 & N15574 & EWR & DCA &  45 &  199 &  6 &  3 & 2013-12-31 06:00:00\\\\\n",
       "\t 2013 & 12 & 31 & 558 &  600 &  -2 &  919 &  905 &  14 & AA & 1175 & N3JEAA & LGA & MIA & 173 & 1096 &  6 &  0 & 2013-12-31 06:00:00\\\\\n",
       "\t 2013 & 12 & 31 & 559 &  600 &  -1 &  917 &  855 &  22 & B6 &  605 & N597JB & EWR & FLL & 167 & 1065 &  6 &  0 & 2013-12-31 06:00:00\\\\\n",
       "\t 2013 & 12 & 31 & 600 &  540 &  20 &  928 &  850 &  38 & AA & 2243 & N5EMAA & JFK & MIA & 171 & 1089 &  5 & 40 & 2013-12-31 05:00:00\\\\\n",
       "\t 2013 & 12 & 31 & 602 &  605 &  -3 &  744 &  805 & -21 & DL & 2505 & N358NB & EWR & DTW &  87 &  488 &  6 &  5 & 2013-12-31 06:00:00\\\\\n",
       "\t 2013 & 12 & 31 & 602 &  605 &  -3 &  708 &  723 & -15 & EV & 6177 & N14543 & EWR & IAD &  45 &  212 &  6 &  5 & 2013-12-31 06:00:00\\\\\n",
       "\t 2013 & 12 & 31 & 603 &  611 &  -8 & 1045 & 1055 & -10 & B6 & 1403 & N547JB & JFK & SJU & 198 & 1598 &  6 & 11 & 2013-12-31 06:00:00\\\\\n",
       "\t 2013 & 12 & 31 & 607 &  600 &   7 &  848 &  825 &  23 & WN & 1716 & N7740A & LGA & ATL & 137 &  762 &  6 &  0 & 2013-12-31 06:00:00\\\\\n",
       "\t 2013 & 12 & 31 & 608 &  615 &  -7 &  812 &  818 &  -6 & US & 1963 & N192UW & EWR & CLT & 106 &  529 &  6 & 15 & 2013-12-31 06:00:00\\\\\n",
       "\t 2013 & 12 & 31 & 609 &  610 &  -1 &  911 &  915 &  -4 & AA & 1205 & N5DHAA & EWR & MIA & 163 & 1085 &  6 & 10 & 2013-12-31 06:00:00\\\\\n",
       "\t 2013 & 12 & 31 & 609 &  615 &  -6 &  848 &  850 &  -2 & DL &  404 & N392DA & JFK & ATL & 133 &  760 &  6 & 15 & 2013-12-31 06:00:00\\\\\n",
       "\t 2013 & 12 & 31 & 609 &  614 &  -5 &  755 &  751 &   4 & EV & 3812 & N13994 & EWR & RDU &  81 &  416 &  6 & 14 & 2013-12-31 06:00:00\\\\\n",
       "\t 2013 & 12 & 31 & 610 &  615 &  -5 &  828 &  849 & -21 & DL &  479 & N3766  & JFK & ATL & 119 &  760 &  6 & 15 & 2013-12-31 06:00:00\\\\\n",
       "\t 2013 & 12 & 31 & 616 &  611 &   5 &  933 &  912 &  21 & B6 &  601 & N643JB & JFK & FLL & 173 & 1069 &  6 & 11 & 2013-12-31 06:00:00\\\\\n",
       "\t 2013 & 12 & 31 & 616 &  630 & -14 &  922 &  919 &   3 & B6 & 1099 & N563JB & LGA & MCO & 159 &  950 &  6 & 30 & 2013-12-31 06:00:00\\\\\n",
       "\t ... & ... & ... & ... & ... & ... & ... & ... & ... & ... & ... & ... & ... & ... & ... & ... & ... & ... & ...\\\\\n",
       "\t 2013 & 12 & 31 & 2155 & 2039 &  76 &  253 & 2355 &  NA & B6 & 1205 & N627JB & JFK & PDX &  NA & 2454 & 20 & 39 & 2013-12-31 20:00:00\\\\\n",
       "\t 2013 & 12 & 31 & 2155 & 2150 &   5 &  110 &   51 &  19 & B6 & 1901 & N729JB & JFK & FLL & 164 & 1069 & 21 & 50 & 2013-12-31 21:00:00\\\\\n",
       "\t 2013 & 12 & 31 & 2159 & 2155 &   4 &   55 &   46 &   9 & B6 & 2053 & N593JB & JFK & PBI & 155 & 1028 & 21 & 55 & 2013-12-31 21:00:00\\\\\n",
       "\t 2013 & 12 & 31 & 2206 & 2110 &  56 &   44 & 2339 &  65 & B6 &  775 & N184JB & JFK & MSY & 195 & 1182 & 21 & 10 & 2013-12-31 21:00:00\\\\\n",
       "\t 2013 & 12 & 31 & 2211 & 2159 &  12 &  100 &   45 &  15 & B6 & 1183 & N715JB & JFK & MCO & 148 &  944 & 21 & 59 & 2013-12-31 21:00:00\\\\\n",
       "\t 2013 & 12 & 31 & 2218 & 2219 &  -1 &  315 &  304 &  11 & B6 & 1203 & N625JB & JFK & SJU & 202 & 1598 & 22 & 19 & 2013-12-31 22:00:00\\\\\n",
       "\t 2013 & 12 & 31 & 2235 & 2245 & -10 & 2351 & 2355 &  -4 & B6 &  234 & N355JB & JFK & BTV &  49 &  266 & 22 & 45 & 2013-12-31 22:00:00\\\\\n",
       "\t 2013 & 12 & 31 & 2245 & 2250 &  -5 & 2359 & 2356 &   3 & B6 & 1816 & N318JB & JFK & SYR &  51 &  209 & 22 & 50 & 2013-12-31 22:00:00\\\\\n",
       "\t 2013 & 12 & 31 & 2310 & 2255 &  15 &    7 & 2356 &  11 & B6 &  718 & N279JB & JFK & BOS &  40 &  187 & 22 & 55 & 2013-12-31 22:00:00\\\\\n",
       "\t 2013 & 12 & 31 & 2321 & 2250 &  31 &   46 &    8 &  38 & B6 & 2002 & N179JB & JFK & BUF &  66 &  301 & 22 & 50 & 2013-12-31 22:00:00\\\\\n",
       "\t 2013 & 12 & 31 & 2328 & 2330 &  -2 &  412 &  409 &   3 & B6 & 1389 & N651JB & EWR & SJU & 198 & 1608 & 23 & 30 & 2013-12-31 23:00:00\\\\\n",
       "\t 2013 & 12 & 31 & 2332 & 2245 &  47 &   58 &    3 &  55 & B6 &  486 & N334JB & JFK & ROC &  60 &  264 & 22 & 45 & 2013-12-31 22:00:00\\\\\n",
       "\t 2013 & 12 & 31 & 2355 & 2359 &  -4 &  430 &  440 & -10 & B6 & 1503 & N509JB & JFK & SJU & 195 & 1598 & 23 & 59 & 2013-12-31 23:00:00\\\\\n",
       "\t 2013 & 12 & 31 & 2356 & 2359 &  -3 &  436 &  445 &  -9 & B6 &  745 & N665JB & JFK & PSE & 200 & 1617 & 23 & 59 & 2013-12-31 23:00:00\\\\\n",
       "\t 2013 & 12 & 31 &   NA & 1520 &  NA &   NA & 1705 &  NA & AA &  341 & N568AA & LGA & ORD &  NA &  733 & 15 & 20 & 2013-12-31 15:00:00\\\\\n",
       "\t 2013 & 12 & 31 &   NA & 2025 &  NA &   NA & 2205 &  NA & AA &  371 & N482AA & LGA & ORD &  NA &  733 & 20 & 25 & 2013-12-31 20:00:00\\\\\n",
       "\t 2013 & 12 & 31 &   NA & 1932 &  NA &   NA & 2305 &  NA & B6 &  161 & N516JB & JFK & SMF &  NA & 2521 & 19 & 32 & 2013-12-31 19:00:00\\\\\n",
       "\t 2013 & 12 & 31 &   NA & 1505 &  NA &   NA & 1725 &  NA & EV & 4181 & N24103 & EWR & MCI &  NA & 1092 & 15 &  5 & 2013-12-31 15:00:00\\\\\n",
       "\t 2013 & 12 & 31 &   NA & 1000 &  NA &   NA & 1252 &  NA & UA & 1124 & NA     & EWR & EGE &  NA & 1725 & 10 &  0 & 2013-12-31 10:00:00\\\\\n",
       "\t 2013 & 12 & 31 &   NA &  840 &  NA &   NA & 1205 &  NA & UA & 1151 & NA     & EWR & SEA &  NA & 2402 &  8 & 40 & 2013-12-31 08:00:00\\\\\n",
       "\t 2013 & 12 & 31 &   NA &  754 &  NA &   NA & 1118 &  NA & UA & 1455 & NA     & EWR & LAX &  NA & 2454 &  7 & 54 & 2013-12-31 07:00:00\\\\\n",
       "\t 2013 & 12 & 31 &   NA & 2000 &  NA &   NA & 2146 &  NA & UA & 1482 & NA     & EWR & ORD &  NA &  719 & 20 &  0 & 2013-12-31 20:00:00\\\\\n",
       "\t 2013 & 12 & 31 &   NA & 1500 &  NA &   NA & 1817 &  NA & UA & 1483 & NA     & EWR & AUS &  NA & 1504 & 15 &  0 & 2013-12-31 15:00:00\\\\\n",
       "\t 2013 & 12 & 31 &   NA & 1430 &  NA &   NA & 1750 &  NA & UA & 1493 & NA     & EWR & LAX &  NA & 2454 & 14 & 30 & 2013-12-31 14:00:00\\\\\n",
       "\t 2013 & 12 & 31 &   NA &  855 &  NA &   NA & 1142 &  NA & UA & 1506 & NA     & EWR & JAC &  NA & 1874 &  8 & 55 & 2013-12-31 08:00:00\\\\\n",
       "\t 2013 & 12 & 31 &   NA &  705 &  NA &   NA &  931 &  NA & UA & 1729 & NA     & EWR & DEN &  NA & 1605 &  7 &  5 & 2013-12-31 07:00:00\\\\\n",
       "\t 2013 & 12 & 31 &   NA &  825 &  NA &   NA & 1029 &  NA & US & 1831 & NA     & JFK & CLT &  NA &  541 &  8 & 25 & 2013-12-31 08:00:00\\\\\n",
       "\t 2013 & 12 & 31 &   NA & 1615 &  NA &   NA & 1800 &  NA & MQ & 3301 & N844MQ & LGA & RDU &  NA &  431 & 16 & 15 & 2013-12-31 16:00:00\\\\\n",
       "\t 2013 & 12 & 31 &   NA &  600 &  NA &   NA &  735 &  NA & UA &  219 & NA     & EWR & ORD &  NA &  719 &  6 &  0 & 2013-12-31 06:00:00\\\\\n",
       "\t 2013 & 12 & 31 &   NA &  830 &  NA &   NA & 1154 &  NA & UA &  443 & NA     & JFK & LAX &  NA & 2475 &  8 & 30 & 2013-12-31 08:00:00\\\\\n",
       "\\end{tabular}\n"
      ],
      "text/markdown": [
       "\n",
       "A tibble: 776 × 19\n",
       "\n",
       "| year &lt;int&gt; | month &lt;int&gt; | day &lt;int&gt; | dep_time &lt;int&gt; | sched_dep_time &lt;int&gt; | dep_delay &lt;dbl&gt; | arr_time &lt;int&gt; | sched_arr_time &lt;int&gt; | arr_delay &lt;dbl&gt; | carrier &lt;chr&gt; | flight &lt;int&gt; | tailnum &lt;chr&gt; | origin &lt;chr&gt; | dest &lt;chr&gt; | air_time &lt;dbl&gt; | distance &lt;dbl&gt; | hour &lt;dbl&gt; | minute &lt;dbl&gt; | time_hour &lt;dttm&gt; |\n",
       "|---|---|---|---|---|---|---|---|---|---|---|---|---|---|---|---|---|---|---|\n",
       "| 2013 | 12 | 31 |  13 | 2359 |  14 |  439 |  437 |   2 | B6 |  839 | N566JB | JFK | BQN | 189 | 1576 | 23 | 59 | 2013-12-31 23:00:00 |\n",
       "| 2013 | 12 | 31 |  18 | 2359 |  19 |  449 |  444 |   5 | DL |  412 | N713TW | JFK | SJU | 192 | 1598 | 23 | 59 | 2013-12-31 23:00:00 |\n",
       "| 2013 | 12 | 31 |  26 | 2245 | 101 |  129 | 2353 |  96 | B6 |  108 | N374JB | JFK | PWM |  50 |  273 | 22 | 45 | 2013-12-31 22:00:00 |\n",
       "| 2013 | 12 | 31 | 459 |  500 |  -1 |  655 |  651 |   4 | US | 1895 | N557UW | EWR | CLT |  95 |  529 |  5 |  0 | 2013-12-31 05:00:00 |\n",
       "| 2013 | 12 | 31 | 514 |  515 |  -1 |  814 |  812 |   2 | UA |  700 | N470UA | EWR | IAH | 223 | 1400 |  5 | 15 | 2013-12-31 05:00:00 |\n",
       "| 2013 | 12 | 31 | 549 |  551 |  -2 |  925 |  900 |  25 | UA |  274 | N577UA | EWR | LAX | 346 | 2454 |  5 | 51 | 2013-12-31 05:00:00 |\n",
       "| 2013 | 12 | 31 | 550 |  600 | -10 |  725 |  745 | -20 | AA |  301 | N3CXAA | LGA | ORD | 127 |  733 |  6 |  0 | 2013-12-31 06:00:00 |\n",
       "| 2013 | 12 | 31 | 552 |  600 |  -8 |  811 |  826 | -15 | EV | 3825 | N14916 | EWR | IND | 118 |  645 |  6 |  0 | 2013-12-31 06:00:00 |\n",
       "| 2013 | 12 | 31 | 553 |  600 |  -7 |  741 |  754 | -13 | DL |  731 | N333NB | LGA | DTW |  86 |  502 |  6 |  0 | 2013-12-31 06:00:00 |\n",
       "| 2013 | 12 | 31 | 554 |  550 |   4 | 1024 | 1027 |  -3 | B6 |  939 | N552JB | JFK | BQN | 195 | 1576 |  5 | 50 | 2013-12-31 05:00:00 |\n",
       "| 2013 | 12 | 31 | 555 |  600 |  -5 |  901 |  849 |  12 | B6 |  353 | N746JB | JFK | PBI | 167 | 1028 |  6 |  0 | 2013-12-31 06:00:00 |\n",
       "| 2013 | 12 | 31 | 555 |  600 |  -5 |  835 |  831 |   4 | DL |  904 | N3741S | LGA | ATL | 137 |  762 |  6 |  0 | 2013-12-31 06:00:00 |\n",
       "| 2013 | 12 | 31 | 555 |  551 |   4 |  853 |  851 |   2 | UA |  566 | N491UA | EWR | TPA | 164 |  997 |  5 | 51 | 2013-12-31 05:00:00 |\n",
       "| 2013 | 12 | 31 | 556 |  600 |  -4 |  909 |  846 |  23 | B6 |  583 | N715JB | JFK | MCO | 162 |  944 |  6 |  0 | 2013-12-31 06:00:00 |\n",
       "| 2013 | 12 | 31 | 556 |  605 |  -9 |  808 |  814 |  -6 | DL | 1919 | N958DL | LGA | MSP | 160 | 1020 |  6 |  5 | 2013-12-31 06:00:00 |\n",
       "| 2013 | 12 | 31 | 557 |  603 |  -6 |  719 |  719 |   0 | EV | 4241 | N15574 | EWR | DCA |  45 |  199 |  6 |  3 | 2013-12-31 06:00:00 |\n",
       "| 2013 | 12 | 31 | 558 |  600 |  -2 |  919 |  905 |  14 | AA | 1175 | N3JEAA | LGA | MIA | 173 | 1096 |  6 |  0 | 2013-12-31 06:00:00 |\n",
       "| 2013 | 12 | 31 | 559 |  600 |  -1 |  917 |  855 |  22 | B6 |  605 | N597JB | EWR | FLL | 167 | 1065 |  6 |  0 | 2013-12-31 06:00:00 |\n",
       "| 2013 | 12 | 31 | 600 |  540 |  20 |  928 |  850 |  38 | AA | 2243 | N5EMAA | JFK | MIA | 171 | 1089 |  5 | 40 | 2013-12-31 05:00:00 |\n",
       "| 2013 | 12 | 31 | 602 |  605 |  -3 |  744 |  805 | -21 | DL | 2505 | N358NB | EWR | DTW |  87 |  488 |  6 |  5 | 2013-12-31 06:00:00 |\n",
       "| 2013 | 12 | 31 | 602 |  605 |  -3 |  708 |  723 | -15 | EV | 6177 | N14543 | EWR | IAD |  45 |  212 |  6 |  5 | 2013-12-31 06:00:00 |\n",
       "| 2013 | 12 | 31 | 603 |  611 |  -8 | 1045 | 1055 | -10 | B6 | 1403 | N547JB | JFK | SJU | 198 | 1598 |  6 | 11 | 2013-12-31 06:00:00 |\n",
       "| 2013 | 12 | 31 | 607 |  600 |   7 |  848 |  825 |  23 | WN | 1716 | N7740A | LGA | ATL | 137 |  762 |  6 |  0 | 2013-12-31 06:00:00 |\n",
       "| 2013 | 12 | 31 | 608 |  615 |  -7 |  812 |  818 |  -6 | US | 1963 | N192UW | EWR | CLT | 106 |  529 |  6 | 15 | 2013-12-31 06:00:00 |\n",
       "| 2013 | 12 | 31 | 609 |  610 |  -1 |  911 |  915 |  -4 | AA | 1205 | N5DHAA | EWR | MIA | 163 | 1085 |  6 | 10 | 2013-12-31 06:00:00 |\n",
       "| 2013 | 12 | 31 | 609 |  615 |  -6 |  848 |  850 |  -2 | DL |  404 | N392DA | JFK | ATL | 133 |  760 |  6 | 15 | 2013-12-31 06:00:00 |\n",
       "| 2013 | 12 | 31 | 609 |  614 |  -5 |  755 |  751 |   4 | EV | 3812 | N13994 | EWR | RDU |  81 |  416 |  6 | 14 | 2013-12-31 06:00:00 |\n",
       "| 2013 | 12 | 31 | 610 |  615 |  -5 |  828 |  849 | -21 | DL |  479 | N3766  | JFK | ATL | 119 |  760 |  6 | 15 | 2013-12-31 06:00:00 |\n",
       "| 2013 | 12 | 31 | 616 |  611 |   5 |  933 |  912 |  21 | B6 |  601 | N643JB | JFK | FLL | 173 | 1069 |  6 | 11 | 2013-12-31 06:00:00 |\n",
       "| 2013 | 12 | 31 | 616 |  630 | -14 |  922 |  919 |   3 | B6 | 1099 | N563JB | LGA | MCO | 159 |  950 |  6 | 30 | 2013-12-31 06:00:00 |\n",
       "| ... | ... | ... | ... | ... | ... | ... | ... | ... | ... | ... | ... | ... | ... | ... | ... | ... | ... | ... |\n",
       "| 2013 | 12 | 31 | 2155 | 2039 |  76 |  253 | 2355 |  NA | B6 | 1205 | N627JB | JFK | PDX |  NA | 2454 | 20 | 39 | 2013-12-31 20:00:00 |\n",
       "| 2013 | 12 | 31 | 2155 | 2150 |   5 |  110 |   51 |  19 | B6 | 1901 | N729JB | JFK | FLL | 164 | 1069 | 21 | 50 | 2013-12-31 21:00:00 |\n",
       "| 2013 | 12 | 31 | 2159 | 2155 |   4 |   55 |   46 |   9 | B6 | 2053 | N593JB | JFK | PBI | 155 | 1028 | 21 | 55 | 2013-12-31 21:00:00 |\n",
       "| 2013 | 12 | 31 | 2206 | 2110 |  56 |   44 | 2339 |  65 | B6 |  775 | N184JB | JFK | MSY | 195 | 1182 | 21 | 10 | 2013-12-31 21:00:00 |\n",
       "| 2013 | 12 | 31 | 2211 | 2159 |  12 |  100 |   45 |  15 | B6 | 1183 | N715JB | JFK | MCO | 148 |  944 | 21 | 59 | 2013-12-31 21:00:00 |\n",
       "| 2013 | 12 | 31 | 2218 | 2219 |  -1 |  315 |  304 |  11 | B6 | 1203 | N625JB | JFK | SJU | 202 | 1598 | 22 | 19 | 2013-12-31 22:00:00 |\n",
       "| 2013 | 12 | 31 | 2235 | 2245 | -10 | 2351 | 2355 |  -4 | B6 |  234 | N355JB | JFK | BTV |  49 |  266 | 22 | 45 | 2013-12-31 22:00:00 |\n",
       "| 2013 | 12 | 31 | 2245 | 2250 |  -5 | 2359 | 2356 |   3 | B6 | 1816 | N318JB | JFK | SYR |  51 |  209 | 22 | 50 | 2013-12-31 22:00:00 |\n",
       "| 2013 | 12 | 31 | 2310 | 2255 |  15 |    7 | 2356 |  11 | B6 |  718 | N279JB | JFK | BOS |  40 |  187 | 22 | 55 | 2013-12-31 22:00:00 |\n",
       "| 2013 | 12 | 31 | 2321 | 2250 |  31 |   46 |    8 |  38 | B6 | 2002 | N179JB | JFK | BUF |  66 |  301 | 22 | 50 | 2013-12-31 22:00:00 |\n",
       "| 2013 | 12 | 31 | 2328 | 2330 |  -2 |  412 |  409 |   3 | B6 | 1389 | N651JB | EWR | SJU | 198 | 1608 | 23 | 30 | 2013-12-31 23:00:00 |\n",
       "| 2013 | 12 | 31 | 2332 | 2245 |  47 |   58 |    3 |  55 | B6 |  486 | N334JB | JFK | ROC |  60 |  264 | 22 | 45 | 2013-12-31 22:00:00 |\n",
       "| 2013 | 12 | 31 | 2355 | 2359 |  -4 |  430 |  440 | -10 | B6 | 1503 | N509JB | JFK | SJU | 195 | 1598 | 23 | 59 | 2013-12-31 23:00:00 |\n",
       "| 2013 | 12 | 31 | 2356 | 2359 |  -3 |  436 |  445 |  -9 | B6 |  745 | N665JB | JFK | PSE | 200 | 1617 | 23 | 59 | 2013-12-31 23:00:00 |\n",
       "| 2013 | 12 | 31 |   NA | 1520 |  NA |   NA | 1705 |  NA | AA |  341 | N568AA | LGA | ORD |  NA |  733 | 15 | 20 | 2013-12-31 15:00:00 |\n",
       "| 2013 | 12 | 31 |   NA | 2025 |  NA |   NA | 2205 |  NA | AA |  371 | N482AA | LGA | ORD |  NA |  733 | 20 | 25 | 2013-12-31 20:00:00 |\n",
       "| 2013 | 12 | 31 |   NA | 1932 |  NA |   NA | 2305 |  NA | B6 |  161 | N516JB | JFK | SMF |  NA | 2521 | 19 | 32 | 2013-12-31 19:00:00 |\n",
       "| 2013 | 12 | 31 |   NA | 1505 |  NA |   NA | 1725 |  NA | EV | 4181 | N24103 | EWR | MCI |  NA | 1092 | 15 |  5 | 2013-12-31 15:00:00 |\n",
       "| 2013 | 12 | 31 |   NA | 1000 |  NA |   NA | 1252 |  NA | UA | 1124 | NA     | EWR | EGE |  NA | 1725 | 10 |  0 | 2013-12-31 10:00:00 |\n",
       "| 2013 | 12 | 31 |   NA |  840 |  NA |   NA | 1205 |  NA | UA | 1151 | NA     | EWR | SEA |  NA | 2402 |  8 | 40 | 2013-12-31 08:00:00 |\n",
       "| 2013 | 12 | 31 |   NA |  754 |  NA |   NA | 1118 |  NA | UA | 1455 | NA     | EWR | LAX |  NA | 2454 |  7 | 54 | 2013-12-31 07:00:00 |\n",
       "| 2013 | 12 | 31 |   NA | 2000 |  NA |   NA | 2146 |  NA | UA | 1482 | NA     | EWR | ORD |  NA |  719 | 20 |  0 | 2013-12-31 20:00:00 |\n",
       "| 2013 | 12 | 31 |   NA | 1500 |  NA |   NA | 1817 |  NA | UA | 1483 | NA     | EWR | AUS |  NA | 1504 | 15 |  0 | 2013-12-31 15:00:00 |\n",
       "| 2013 | 12 | 31 |   NA | 1430 |  NA |   NA | 1750 |  NA | UA | 1493 | NA     | EWR | LAX |  NA | 2454 | 14 | 30 | 2013-12-31 14:00:00 |\n",
       "| 2013 | 12 | 31 |   NA |  855 |  NA |   NA | 1142 |  NA | UA | 1506 | NA     | EWR | JAC |  NA | 1874 |  8 | 55 | 2013-12-31 08:00:00 |\n",
       "| 2013 | 12 | 31 |   NA |  705 |  NA |   NA |  931 |  NA | UA | 1729 | NA     | EWR | DEN |  NA | 1605 |  7 |  5 | 2013-12-31 07:00:00 |\n",
       "| 2013 | 12 | 31 |   NA |  825 |  NA |   NA | 1029 |  NA | US | 1831 | NA     | JFK | CLT |  NA |  541 |  8 | 25 | 2013-12-31 08:00:00 |\n",
       "| 2013 | 12 | 31 |   NA | 1615 |  NA |   NA | 1800 |  NA | MQ | 3301 | N844MQ | LGA | RDU |  NA |  431 | 16 | 15 | 2013-12-31 16:00:00 |\n",
       "| 2013 | 12 | 31 |   NA |  600 |  NA |   NA |  735 |  NA | UA |  219 | NA     | EWR | ORD |  NA |  719 |  6 |  0 | 2013-12-31 06:00:00 |\n",
       "| 2013 | 12 | 31 |   NA |  830 |  NA |   NA | 1154 |  NA | UA |  443 | NA     | JFK | LAX |  NA | 2475 |  8 | 30 | 2013-12-31 08:00:00 |\n",
       "\n"
      ],
      "text/plain": [
       "    year month day dep_time sched_dep_time dep_delay arr_time sched_arr_time\n",
       "1   2013 12    31   13      2359            14        439      437          \n",
       "2   2013 12    31   18      2359            19        449      444          \n",
       "3   2013 12    31   26      2245           101        129     2353          \n",
       "4   2013 12    31  459       500            -1        655      651          \n",
       "5   2013 12    31  514       515            -1        814      812          \n",
       "6   2013 12    31  549       551            -2        925      900          \n",
       "7   2013 12    31  550       600           -10        725      745          \n",
       "8   2013 12    31  552       600            -8        811      826          \n",
       "9   2013 12    31  553       600            -7        741      754          \n",
       "10  2013 12    31  554       550             4       1024     1027          \n",
       "11  2013 12    31  555       600            -5        901      849          \n",
       "12  2013 12    31  555       600            -5        835      831          \n",
       "13  2013 12    31  555       551             4        853      851          \n",
       "14  2013 12    31  556       600            -4        909      846          \n",
       "15  2013 12    31  556       605            -9        808      814          \n",
       "16  2013 12    31  557       603            -6        719      719          \n",
       "17  2013 12    31  558       600            -2        919      905          \n",
       "18  2013 12    31  559       600            -1        917      855          \n",
       "19  2013 12    31  600       540            20        928      850          \n",
       "20  2013 12    31  602       605            -3        744      805          \n",
       "21  2013 12    31  602       605            -3        708      723          \n",
       "22  2013 12    31  603       611            -8       1045     1055          \n",
       "23  2013 12    31  607       600             7        848      825          \n",
       "24  2013 12    31  608       615            -7        812      818          \n",
       "25  2013 12    31  609       610            -1        911      915          \n",
       "26  2013 12    31  609       615            -6        848      850          \n",
       "27  2013 12    31  609       614            -5        755      751          \n",
       "28  2013 12    31  610       615            -5        828      849          \n",
       "29  2013 12    31  616       611             5        933      912          \n",
       "30  2013 12    31  616       630           -14        922      919          \n",
       "... ...  ...   ... ...      ...            ...       ...      ...           \n",
       "747 2013 12    31  2155     2039            76        253     2355          \n",
       "748 2013 12    31  2155     2150             5        110       51          \n",
       "749 2013 12    31  2159     2155             4         55       46          \n",
       "750 2013 12    31  2206     2110            56         44     2339          \n",
       "751 2013 12    31  2211     2159            12        100       45          \n",
       "752 2013 12    31  2218     2219            -1        315      304          \n",
       "753 2013 12    31  2235     2245           -10       2351     2355          \n",
       "754 2013 12    31  2245     2250            -5       2359     2356          \n",
       "755 2013 12    31  2310     2255            15          7     2356          \n",
       "756 2013 12    31  2321     2250            31         46        8          \n",
       "757 2013 12    31  2328     2330            -2        412      409          \n",
       "758 2013 12    31  2332     2245            47         58        3          \n",
       "759 2013 12    31  2355     2359            -4        430      440          \n",
       "760 2013 12    31  2356     2359            -3        436      445          \n",
       "761 2013 12    31    NA     1520            NA         NA     1705          \n",
       "762 2013 12    31    NA     2025            NA         NA     2205          \n",
       "763 2013 12    31    NA     1932            NA         NA     2305          \n",
       "764 2013 12    31    NA     1505            NA         NA     1725          \n",
       "765 2013 12    31    NA     1000            NA         NA     1252          \n",
       "766 2013 12    31    NA      840            NA         NA     1205          \n",
       "767 2013 12    31    NA      754            NA         NA     1118          \n",
       "768 2013 12    31    NA     2000            NA         NA     2146          \n",
       "769 2013 12    31    NA     1500            NA         NA     1817          \n",
       "770 2013 12    31    NA     1430            NA         NA     1750          \n",
       "771 2013 12    31    NA      855            NA         NA     1142          \n",
       "772 2013 12    31    NA      705            NA         NA      931          \n",
       "773 2013 12    31    NA      825            NA         NA     1029          \n",
       "774 2013 12    31    NA     1615            NA         NA     1800          \n",
       "775 2013 12    31    NA      600            NA         NA      735          \n",
       "776 2013 12    31    NA      830            NA         NA     1154          \n",
       "    arr_delay carrier flight tailnum origin dest air_time distance hour minute\n",
       "1     2       B6       839   N566JB  JFK    BQN  189      1576     23   59    \n",
       "2     5       DL       412   N713TW  JFK    SJU  192      1598     23   59    \n",
       "3    96       B6       108   N374JB  JFK    PWM   50       273     22   45    \n",
       "4     4       US      1895   N557UW  EWR    CLT   95       529      5    0    \n",
       "5     2       UA       700   N470UA  EWR    IAH  223      1400      5   15    \n",
       "6    25       UA       274   N577UA  EWR    LAX  346      2454      5   51    \n",
       "7   -20       AA       301   N3CXAA  LGA    ORD  127       733      6    0    \n",
       "8   -15       EV      3825   N14916  EWR    IND  118       645      6    0    \n",
       "9   -13       DL       731   N333NB  LGA    DTW   86       502      6    0    \n",
       "10   -3       B6       939   N552JB  JFK    BQN  195      1576      5   50    \n",
       "11   12       B6       353   N746JB  JFK    PBI  167      1028      6    0    \n",
       "12    4       DL       904   N3741S  LGA    ATL  137       762      6    0    \n",
       "13    2       UA       566   N491UA  EWR    TPA  164       997      5   51    \n",
       "14   23       B6       583   N715JB  JFK    MCO  162       944      6    0    \n",
       "15   -6       DL      1919   N958DL  LGA    MSP  160      1020      6    5    \n",
       "16    0       EV      4241   N15574  EWR    DCA   45       199      6    3    \n",
       "17   14       AA      1175   N3JEAA  LGA    MIA  173      1096      6    0    \n",
       "18   22       B6       605   N597JB  EWR    FLL  167      1065      6    0    \n",
       "19   38       AA      2243   N5EMAA  JFK    MIA  171      1089      5   40    \n",
       "20  -21       DL      2505   N358NB  EWR    DTW   87       488      6    5    \n",
       "21  -15       EV      6177   N14543  EWR    IAD   45       212      6    5    \n",
       "22  -10       B6      1403   N547JB  JFK    SJU  198      1598      6   11    \n",
       "23   23       WN      1716   N7740A  LGA    ATL  137       762      6    0    \n",
       "24   -6       US      1963   N192UW  EWR    CLT  106       529      6   15    \n",
       "25   -4       AA      1205   N5DHAA  EWR    MIA  163      1085      6   10    \n",
       "26   -2       DL       404   N392DA  JFK    ATL  133       760      6   15    \n",
       "27    4       EV      3812   N13994  EWR    RDU   81       416      6   14    \n",
       "28  -21       DL       479   N3766   JFK    ATL  119       760      6   15    \n",
       "29   21       B6       601   N643JB  JFK    FLL  173      1069      6   11    \n",
       "30    3       B6      1099   N563JB  LGA    MCO  159       950      6   30    \n",
       "... ...       ...     ...    ...     ...    ...  ...      ...      ...  ...   \n",
       "747  NA       B6      1205   N627JB  JFK    PDX   NA      2454     20   39    \n",
       "748  19       B6      1901   N729JB  JFK    FLL  164      1069     21   50    \n",
       "749   9       B6      2053   N593JB  JFK    PBI  155      1028     21   55    \n",
       "750  65       B6       775   N184JB  JFK    MSY  195      1182     21   10    \n",
       "751  15       B6      1183   N715JB  JFK    MCO  148       944     21   59    \n",
       "752  11       B6      1203   N625JB  JFK    SJU  202      1598     22   19    \n",
       "753  -4       B6       234   N355JB  JFK    BTV   49       266     22   45    \n",
       "754   3       B6      1816   N318JB  JFK    SYR   51       209     22   50    \n",
       "755  11       B6       718   N279JB  JFK    BOS   40       187     22   55    \n",
       "756  38       B6      2002   N179JB  JFK    BUF   66       301     22   50    \n",
       "757   3       B6      1389   N651JB  EWR    SJU  198      1608     23   30    \n",
       "758  55       B6       486   N334JB  JFK    ROC   60       264     22   45    \n",
       "759 -10       B6      1503   N509JB  JFK    SJU  195      1598     23   59    \n",
       "760  -9       B6       745   N665JB  JFK    PSE  200      1617     23   59    \n",
       "761  NA       AA       341   N568AA  LGA    ORD   NA       733     15   20    \n",
       "762  NA       AA       371   N482AA  LGA    ORD   NA       733     20   25    \n",
       "763  NA       B6       161   N516JB  JFK    SMF   NA      2521     19   32    \n",
       "764  NA       EV      4181   N24103  EWR    MCI   NA      1092     15    5    \n",
       "765  NA       UA      1124   NA      EWR    EGE   NA      1725     10    0    \n",
       "766  NA       UA      1151   NA      EWR    SEA   NA      2402      8   40    \n",
       "767  NA       UA      1455   NA      EWR    LAX   NA      2454      7   54    \n",
       "768  NA       UA      1482   NA      EWR    ORD   NA       719     20    0    \n",
       "769  NA       UA      1483   NA      EWR    AUS   NA      1504     15    0    \n",
       "770  NA       UA      1493   NA      EWR    LAX   NA      2454     14   30    \n",
       "771  NA       UA      1506   NA      EWR    JAC   NA      1874      8   55    \n",
       "772  NA       UA      1729   NA      EWR    DEN   NA      1605      7    5    \n",
       "773  NA       US      1831   NA      JFK    CLT   NA       541      8   25    \n",
       "774  NA       MQ      3301   N844MQ  LGA    RDU   NA       431     16   15    \n",
       "775  NA       UA       219   NA      EWR    ORD   NA       719      6    0    \n",
       "776  NA       UA       443   NA      JFK    LAX   NA      2475      8   30    \n",
       "    time_hour          \n",
       "1   2013-12-31 23:00:00\n",
       "2   2013-12-31 23:00:00\n",
       "3   2013-12-31 22:00:00\n",
       "4   2013-12-31 05:00:00\n",
       "5   2013-12-31 05:00:00\n",
       "6   2013-12-31 05:00:00\n",
       "7   2013-12-31 06:00:00\n",
       "8   2013-12-31 06:00:00\n",
       "9   2013-12-31 06:00:00\n",
       "10  2013-12-31 05:00:00\n",
       "11  2013-12-31 06:00:00\n",
       "12  2013-12-31 06:00:00\n",
       "13  2013-12-31 05:00:00\n",
       "14  2013-12-31 06:00:00\n",
       "15  2013-12-31 06:00:00\n",
       "16  2013-12-31 06:00:00\n",
       "17  2013-12-31 06:00:00\n",
       "18  2013-12-31 06:00:00\n",
       "19  2013-12-31 05:00:00\n",
       "20  2013-12-31 06:00:00\n",
       "21  2013-12-31 06:00:00\n",
       "22  2013-12-31 06:00:00\n",
       "23  2013-12-31 06:00:00\n",
       "24  2013-12-31 06:00:00\n",
       "25  2013-12-31 06:00:00\n",
       "26  2013-12-31 06:00:00\n",
       "27  2013-12-31 06:00:00\n",
       "28  2013-12-31 06:00:00\n",
       "29  2013-12-31 06:00:00\n",
       "30  2013-12-31 06:00:00\n",
       "... ...                \n",
       "747 2013-12-31 20:00:00\n",
       "748 2013-12-31 21:00:00\n",
       "749 2013-12-31 21:00:00\n",
       "750 2013-12-31 21:00:00\n",
       "751 2013-12-31 21:00:00\n",
       "752 2013-12-31 22:00:00\n",
       "753 2013-12-31 22:00:00\n",
       "754 2013-12-31 22:00:00\n",
       "755 2013-12-31 22:00:00\n",
       "756 2013-12-31 22:00:00\n",
       "757 2013-12-31 23:00:00\n",
       "758 2013-12-31 22:00:00\n",
       "759 2013-12-31 23:00:00\n",
       "760 2013-12-31 23:00:00\n",
       "761 2013-12-31 15:00:00\n",
       "762 2013-12-31 20:00:00\n",
       "763 2013-12-31 19:00:00\n",
       "764 2013-12-31 15:00:00\n",
       "765 2013-12-31 10:00:00\n",
       "766 2013-12-31 08:00:00\n",
       "767 2013-12-31 07:00:00\n",
       "768 2013-12-31 20:00:00\n",
       "769 2013-12-31 15:00:00\n",
       "770 2013-12-31 14:00:00\n",
       "771 2013-12-31 08:00:00\n",
       "772 2013-12-31 07:00:00\n",
       "773 2013-12-31 08:00:00\n",
       "774 2013-12-31 16:00:00\n",
       "775 2013-12-31 06:00:00\n",
       "776 2013-12-31 08:00:00"
      ]
     },
     "metadata": {},
     "output_type": "display_data"
    }
   ],
   "source": [
    "filter(flights, month == 12, day == 31) "
   ]
  },
  {
   "cell_type": "markdown",
   "metadata": {},
   "source": [
    "The above code just displayed the filtered rows. We can save the filtered rows into a new `tibble`. "
   ]
  },
  {
   "cell_type": "code",
   "execution_count": 2,
   "metadata": {},
   "outputs": [],
   "source": [
    "dec31 <- filter(flights, month == 12 & day == 31)"
   ]
  },
  {
   "cell_type": "markdown",
   "metadata": {},
   "source": [
    "If we want to assign as well as print, enclose the command in parentheses."
   ]
  },
  {
   "cell_type": "code",
   "execution_count": 6,
   "metadata": {},
   "outputs": [
    {
     "data": {
      "text/html": [
       "<table>\n",
       "<caption>A tibble: 776 × 19</caption>\n",
       "<thead>\n",
       "\t<tr><th scope=col>year</th><th scope=col>month</th><th scope=col>day</th><th scope=col>dep_time</th><th scope=col>sched_dep_time</th><th scope=col>dep_delay</th><th scope=col>arr_time</th><th scope=col>sched_arr_time</th><th scope=col>arr_delay</th><th scope=col>carrier</th><th scope=col>flight</th><th scope=col>tailnum</th><th scope=col>origin</th><th scope=col>dest</th><th scope=col>air_time</th><th scope=col>distance</th><th scope=col>hour</th><th scope=col>minute</th><th scope=col>time_hour</th></tr>\n",
       "\t<tr><th scope=col>&lt;int&gt;</th><th scope=col>&lt;int&gt;</th><th scope=col>&lt;int&gt;</th><th scope=col>&lt;int&gt;</th><th scope=col>&lt;int&gt;</th><th scope=col>&lt;dbl&gt;</th><th scope=col>&lt;int&gt;</th><th scope=col>&lt;int&gt;</th><th scope=col>&lt;dbl&gt;</th><th scope=col>&lt;chr&gt;</th><th scope=col>&lt;int&gt;</th><th scope=col>&lt;chr&gt;</th><th scope=col>&lt;chr&gt;</th><th scope=col>&lt;chr&gt;</th><th scope=col>&lt;dbl&gt;</th><th scope=col>&lt;dbl&gt;</th><th scope=col>&lt;dbl&gt;</th><th scope=col>&lt;dbl&gt;</th><th scope=col>&lt;dttm&gt;</th></tr>\n",
       "</thead>\n",
       "<tbody>\n",
       "\t<tr><td>2013</td><td>12</td><td>31</td><td> 13</td><td>2359</td><td> 14</td><td> 439</td><td> 437</td><td>  2</td><td>B6</td><td> 839</td><td>N566JB</td><td>JFK</td><td>BQN</td><td>189</td><td>1576</td><td>23</td><td>59</td><td>2013-12-31 23:00:00</td></tr>\n",
       "\t<tr><td>2013</td><td>12</td><td>31</td><td> 18</td><td>2359</td><td> 19</td><td> 449</td><td> 444</td><td>  5</td><td>DL</td><td> 412</td><td>N713TW</td><td>JFK</td><td>SJU</td><td>192</td><td>1598</td><td>23</td><td>59</td><td>2013-12-31 23:00:00</td></tr>\n",
       "\t<tr><td>2013</td><td>12</td><td>31</td><td> 26</td><td>2245</td><td>101</td><td> 129</td><td>2353</td><td> 96</td><td>B6</td><td> 108</td><td>N374JB</td><td>JFK</td><td>PWM</td><td> 50</td><td> 273</td><td>22</td><td>45</td><td>2013-12-31 22:00:00</td></tr>\n",
       "\t<tr><td>2013</td><td>12</td><td>31</td><td>459</td><td> 500</td><td> -1</td><td> 655</td><td> 651</td><td>  4</td><td>US</td><td>1895</td><td>N557UW</td><td>EWR</td><td>CLT</td><td> 95</td><td> 529</td><td> 5</td><td> 0</td><td>2013-12-31 05:00:00</td></tr>\n",
       "\t<tr><td>2013</td><td>12</td><td>31</td><td>514</td><td> 515</td><td> -1</td><td> 814</td><td> 812</td><td>  2</td><td>UA</td><td> 700</td><td>N470UA</td><td>EWR</td><td>IAH</td><td>223</td><td>1400</td><td> 5</td><td>15</td><td>2013-12-31 05:00:00</td></tr>\n",
       "\t<tr><td>2013</td><td>12</td><td>31</td><td>549</td><td> 551</td><td> -2</td><td> 925</td><td> 900</td><td> 25</td><td>UA</td><td> 274</td><td>N577UA</td><td>EWR</td><td>LAX</td><td>346</td><td>2454</td><td> 5</td><td>51</td><td>2013-12-31 05:00:00</td></tr>\n",
       "\t<tr><td>2013</td><td>12</td><td>31</td><td>550</td><td> 600</td><td>-10</td><td> 725</td><td> 745</td><td>-20</td><td>AA</td><td> 301</td><td>N3CXAA</td><td>LGA</td><td>ORD</td><td>127</td><td> 733</td><td> 6</td><td> 0</td><td>2013-12-31 06:00:00</td></tr>\n",
       "\t<tr><td>2013</td><td>12</td><td>31</td><td>552</td><td> 600</td><td> -8</td><td> 811</td><td> 826</td><td>-15</td><td>EV</td><td>3825</td><td>N14916</td><td>EWR</td><td>IND</td><td>118</td><td> 645</td><td> 6</td><td> 0</td><td>2013-12-31 06:00:00</td></tr>\n",
       "\t<tr><td>2013</td><td>12</td><td>31</td><td>553</td><td> 600</td><td> -7</td><td> 741</td><td> 754</td><td>-13</td><td>DL</td><td> 731</td><td>N333NB</td><td>LGA</td><td>DTW</td><td> 86</td><td> 502</td><td> 6</td><td> 0</td><td>2013-12-31 06:00:00</td></tr>\n",
       "\t<tr><td>2013</td><td>12</td><td>31</td><td>554</td><td> 550</td><td>  4</td><td>1024</td><td>1027</td><td> -3</td><td>B6</td><td> 939</td><td>N552JB</td><td>JFK</td><td>BQN</td><td>195</td><td>1576</td><td> 5</td><td>50</td><td>2013-12-31 05:00:00</td></tr>\n",
       "\t<tr><td>2013</td><td>12</td><td>31</td><td>555</td><td> 600</td><td> -5</td><td> 901</td><td> 849</td><td> 12</td><td>B6</td><td> 353</td><td>N746JB</td><td>JFK</td><td>PBI</td><td>167</td><td>1028</td><td> 6</td><td> 0</td><td>2013-12-31 06:00:00</td></tr>\n",
       "\t<tr><td>2013</td><td>12</td><td>31</td><td>555</td><td> 600</td><td> -5</td><td> 835</td><td> 831</td><td>  4</td><td>DL</td><td> 904</td><td>N3741S</td><td>LGA</td><td>ATL</td><td>137</td><td> 762</td><td> 6</td><td> 0</td><td>2013-12-31 06:00:00</td></tr>\n",
       "\t<tr><td>2013</td><td>12</td><td>31</td><td>555</td><td> 551</td><td>  4</td><td> 853</td><td> 851</td><td>  2</td><td>UA</td><td> 566</td><td>N491UA</td><td>EWR</td><td>TPA</td><td>164</td><td> 997</td><td> 5</td><td>51</td><td>2013-12-31 05:00:00</td></tr>\n",
       "\t<tr><td>2013</td><td>12</td><td>31</td><td>556</td><td> 600</td><td> -4</td><td> 909</td><td> 846</td><td> 23</td><td>B6</td><td> 583</td><td>N715JB</td><td>JFK</td><td>MCO</td><td>162</td><td> 944</td><td> 6</td><td> 0</td><td>2013-12-31 06:00:00</td></tr>\n",
       "\t<tr><td>2013</td><td>12</td><td>31</td><td>556</td><td> 605</td><td> -9</td><td> 808</td><td> 814</td><td> -6</td><td>DL</td><td>1919</td><td>N958DL</td><td>LGA</td><td>MSP</td><td>160</td><td>1020</td><td> 6</td><td> 5</td><td>2013-12-31 06:00:00</td></tr>\n",
       "\t<tr><td>2013</td><td>12</td><td>31</td><td>557</td><td> 603</td><td> -6</td><td> 719</td><td> 719</td><td>  0</td><td>EV</td><td>4241</td><td>N15574</td><td>EWR</td><td>DCA</td><td> 45</td><td> 199</td><td> 6</td><td> 3</td><td>2013-12-31 06:00:00</td></tr>\n",
       "\t<tr><td>2013</td><td>12</td><td>31</td><td>558</td><td> 600</td><td> -2</td><td> 919</td><td> 905</td><td> 14</td><td>AA</td><td>1175</td><td>N3JEAA</td><td>LGA</td><td>MIA</td><td>173</td><td>1096</td><td> 6</td><td> 0</td><td>2013-12-31 06:00:00</td></tr>\n",
       "\t<tr><td>2013</td><td>12</td><td>31</td><td>559</td><td> 600</td><td> -1</td><td> 917</td><td> 855</td><td> 22</td><td>B6</td><td> 605</td><td>N597JB</td><td>EWR</td><td>FLL</td><td>167</td><td>1065</td><td> 6</td><td> 0</td><td>2013-12-31 06:00:00</td></tr>\n",
       "\t<tr><td>2013</td><td>12</td><td>31</td><td>600</td><td> 540</td><td> 20</td><td> 928</td><td> 850</td><td> 38</td><td>AA</td><td>2243</td><td>N5EMAA</td><td>JFK</td><td>MIA</td><td>171</td><td>1089</td><td> 5</td><td>40</td><td>2013-12-31 05:00:00</td></tr>\n",
       "\t<tr><td>2013</td><td>12</td><td>31</td><td>602</td><td> 605</td><td> -3</td><td> 744</td><td> 805</td><td>-21</td><td>DL</td><td>2505</td><td>N358NB</td><td>EWR</td><td>DTW</td><td> 87</td><td> 488</td><td> 6</td><td> 5</td><td>2013-12-31 06:00:00</td></tr>\n",
       "\t<tr><td>2013</td><td>12</td><td>31</td><td>602</td><td> 605</td><td> -3</td><td> 708</td><td> 723</td><td>-15</td><td>EV</td><td>6177</td><td>N14543</td><td>EWR</td><td>IAD</td><td> 45</td><td> 212</td><td> 6</td><td> 5</td><td>2013-12-31 06:00:00</td></tr>\n",
       "\t<tr><td>2013</td><td>12</td><td>31</td><td>603</td><td> 611</td><td> -8</td><td>1045</td><td>1055</td><td>-10</td><td>B6</td><td>1403</td><td>N547JB</td><td>JFK</td><td>SJU</td><td>198</td><td>1598</td><td> 6</td><td>11</td><td>2013-12-31 06:00:00</td></tr>\n",
       "\t<tr><td>2013</td><td>12</td><td>31</td><td>607</td><td> 600</td><td>  7</td><td> 848</td><td> 825</td><td> 23</td><td>WN</td><td>1716</td><td>N7740A</td><td>LGA</td><td>ATL</td><td>137</td><td> 762</td><td> 6</td><td> 0</td><td>2013-12-31 06:00:00</td></tr>\n",
       "\t<tr><td>2013</td><td>12</td><td>31</td><td>608</td><td> 615</td><td> -7</td><td> 812</td><td> 818</td><td> -6</td><td>US</td><td>1963</td><td>N192UW</td><td>EWR</td><td>CLT</td><td>106</td><td> 529</td><td> 6</td><td>15</td><td>2013-12-31 06:00:00</td></tr>\n",
       "\t<tr><td>2013</td><td>12</td><td>31</td><td>609</td><td> 610</td><td> -1</td><td> 911</td><td> 915</td><td> -4</td><td>AA</td><td>1205</td><td>N5DHAA</td><td>EWR</td><td>MIA</td><td>163</td><td>1085</td><td> 6</td><td>10</td><td>2013-12-31 06:00:00</td></tr>\n",
       "\t<tr><td>2013</td><td>12</td><td>31</td><td>609</td><td> 615</td><td> -6</td><td> 848</td><td> 850</td><td> -2</td><td>DL</td><td> 404</td><td>N392DA</td><td>JFK</td><td>ATL</td><td>133</td><td> 760</td><td> 6</td><td>15</td><td>2013-12-31 06:00:00</td></tr>\n",
       "\t<tr><td>2013</td><td>12</td><td>31</td><td>609</td><td> 614</td><td> -5</td><td> 755</td><td> 751</td><td>  4</td><td>EV</td><td>3812</td><td>N13994</td><td>EWR</td><td>RDU</td><td> 81</td><td> 416</td><td> 6</td><td>14</td><td>2013-12-31 06:00:00</td></tr>\n",
       "\t<tr><td>2013</td><td>12</td><td>31</td><td>610</td><td> 615</td><td> -5</td><td> 828</td><td> 849</td><td>-21</td><td>DL</td><td> 479</td><td>N3766 </td><td>JFK</td><td>ATL</td><td>119</td><td> 760</td><td> 6</td><td>15</td><td>2013-12-31 06:00:00</td></tr>\n",
       "\t<tr><td>2013</td><td>12</td><td>31</td><td>616</td><td> 611</td><td>  5</td><td> 933</td><td> 912</td><td> 21</td><td>B6</td><td> 601</td><td>N643JB</td><td>JFK</td><td>FLL</td><td>173</td><td>1069</td><td> 6</td><td>11</td><td>2013-12-31 06:00:00</td></tr>\n",
       "\t<tr><td>2013</td><td>12</td><td>31</td><td>616</td><td> 630</td><td>-14</td><td> 922</td><td> 919</td><td>  3</td><td>B6</td><td>1099</td><td>N563JB</td><td>LGA</td><td>MCO</td><td>159</td><td> 950</td><td> 6</td><td>30</td><td>2013-12-31 06:00:00</td></tr>\n",
       "\t<tr><td>⋮</td><td>⋮</td><td>⋮</td><td>⋮</td><td>⋮</td><td>⋮</td><td>⋮</td><td>⋮</td><td>⋮</td><td>⋮</td><td>⋮</td><td>⋮</td><td>⋮</td><td>⋮</td><td>⋮</td><td>⋮</td><td>⋮</td><td>⋮</td><td>⋮</td></tr>\n",
       "\t<tr><td>2013</td><td>12</td><td>31</td><td>2155</td><td>2039</td><td> 76</td><td> 253</td><td>2355</td><td> NA</td><td>B6</td><td>1205</td><td>N627JB</td><td>JFK</td><td>PDX</td><td> NA</td><td>2454</td><td>20</td><td>39</td><td>2013-12-31 20:00:00</td></tr>\n",
       "\t<tr><td>2013</td><td>12</td><td>31</td><td>2155</td><td>2150</td><td>  5</td><td> 110</td><td>  51</td><td> 19</td><td>B6</td><td>1901</td><td>N729JB</td><td>JFK</td><td>FLL</td><td>164</td><td>1069</td><td>21</td><td>50</td><td>2013-12-31 21:00:00</td></tr>\n",
       "\t<tr><td>2013</td><td>12</td><td>31</td><td>2159</td><td>2155</td><td>  4</td><td>  55</td><td>  46</td><td>  9</td><td>B6</td><td>2053</td><td>N593JB</td><td>JFK</td><td>PBI</td><td>155</td><td>1028</td><td>21</td><td>55</td><td>2013-12-31 21:00:00</td></tr>\n",
       "\t<tr><td>2013</td><td>12</td><td>31</td><td>2206</td><td>2110</td><td> 56</td><td>  44</td><td>2339</td><td> 65</td><td>B6</td><td> 775</td><td>N184JB</td><td>JFK</td><td>MSY</td><td>195</td><td>1182</td><td>21</td><td>10</td><td>2013-12-31 21:00:00</td></tr>\n",
       "\t<tr><td>2013</td><td>12</td><td>31</td><td>2211</td><td>2159</td><td> 12</td><td> 100</td><td>  45</td><td> 15</td><td>B6</td><td>1183</td><td>N715JB</td><td>JFK</td><td>MCO</td><td>148</td><td> 944</td><td>21</td><td>59</td><td>2013-12-31 21:00:00</td></tr>\n",
       "\t<tr><td>2013</td><td>12</td><td>31</td><td>2218</td><td>2219</td><td> -1</td><td> 315</td><td> 304</td><td> 11</td><td>B6</td><td>1203</td><td>N625JB</td><td>JFK</td><td>SJU</td><td>202</td><td>1598</td><td>22</td><td>19</td><td>2013-12-31 22:00:00</td></tr>\n",
       "\t<tr><td>2013</td><td>12</td><td>31</td><td>2235</td><td>2245</td><td>-10</td><td>2351</td><td>2355</td><td> -4</td><td>B6</td><td> 234</td><td>N355JB</td><td>JFK</td><td>BTV</td><td> 49</td><td> 266</td><td>22</td><td>45</td><td>2013-12-31 22:00:00</td></tr>\n",
       "\t<tr><td>2013</td><td>12</td><td>31</td><td>2245</td><td>2250</td><td> -5</td><td>2359</td><td>2356</td><td>  3</td><td>B6</td><td>1816</td><td>N318JB</td><td>JFK</td><td>SYR</td><td> 51</td><td> 209</td><td>22</td><td>50</td><td>2013-12-31 22:00:00</td></tr>\n",
       "\t<tr><td>2013</td><td>12</td><td>31</td><td>2310</td><td>2255</td><td> 15</td><td>   7</td><td>2356</td><td> 11</td><td>B6</td><td> 718</td><td>N279JB</td><td>JFK</td><td>BOS</td><td> 40</td><td> 187</td><td>22</td><td>55</td><td>2013-12-31 22:00:00</td></tr>\n",
       "\t<tr><td>2013</td><td>12</td><td>31</td><td>2321</td><td>2250</td><td> 31</td><td>  46</td><td>   8</td><td> 38</td><td>B6</td><td>2002</td><td>N179JB</td><td>JFK</td><td>BUF</td><td> 66</td><td> 301</td><td>22</td><td>50</td><td>2013-12-31 22:00:00</td></tr>\n",
       "\t<tr><td>2013</td><td>12</td><td>31</td><td>2328</td><td>2330</td><td> -2</td><td> 412</td><td> 409</td><td>  3</td><td>B6</td><td>1389</td><td>N651JB</td><td>EWR</td><td>SJU</td><td>198</td><td>1608</td><td>23</td><td>30</td><td>2013-12-31 23:00:00</td></tr>\n",
       "\t<tr><td>2013</td><td>12</td><td>31</td><td>2332</td><td>2245</td><td> 47</td><td>  58</td><td>   3</td><td> 55</td><td>B6</td><td> 486</td><td>N334JB</td><td>JFK</td><td>ROC</td><td> 60</td><td> 264</td><td>22</td><td>45</td><td>2013-12-31 22:00:00</td></tr>\n",
       "\t<tr><td>2013</td><td>12</td><td>31</td><td>2355</td><td>2359</td><td> -4</td><td> 430</td><td> 440</td><td>-10</td><td>B6</td><td>1503</td><td>N509JB</td><td>JFK</td><td>SJU</td><td>195</td><td>1598</td><td>23</td><td>59</td><td>2013-12-31 23:00:00</td></tr>\n",
       "\t<tr><td>2013</td><td>12</td><td>31</td><td>2356</td><td>2359</td><td> -3</td><td> 436</td><td> 445</td><td> -9</td><td>B6</td><td> 745</td><td>N665JB</td><td>JFK</td><td>PSE</td><td>200</td><td>1617</td><td>23</td><td>59</td><td>2013-12-31 23:00:00</td></tr>\n",
       "\t<tr><td>2013</td><td>12</td><td>31</td><td>  NA</td><td>1520</td><td> NA</td><td>  NA</td><td>1705</td><td> NA</td><td>AA</td><td> 341</td><td>N568AA</td><td>LGA</td><td>ORD</td><td> NA</td><td> 733</td><td>15</td><td>20</td><td>2013-12-31 15:00:00</td></tr>\n",
       "\t<tr><td>2013</td><td>12</td><td>31</td><td>  NA</td><td>2025</td><td> NA</td><td>  NA</td><td>2205</td><td> NA</td><td>AA</td><td> 371</td><td>N482AA</td><td>LGA</td><td>ORD</td><td> NA</td><td> 733</td><td>20</td><td>25</td><td>2013-12-31 20:00:00</td></tr>\n",
       "\t<tr><td>2013</td><td>12</td><td>31</td><td>  NA</td><td>1932</td><td> NA</td><td>  NA</td><td>2305</td><td> NA</td><td>B6</td><td> 161</td><td>N516JB</td><td>JFK</td><td>SMF</td><td> NA</td><td>2521</td><td>19</td><td>32</td><td>2013-12-31 19:00:00</td></tr>\n",
       "\t<tr><td>2013</td><td>12</td><td>31</td><td>  NA</td><td>1505</td><td> NA</td><td>  NA</td><td>1725</td><td> NA</td><td>EV</td><td>4181</td><td>N24103</td><td>EWR</td><td>MCI</td><td> NA</td><td>1092</td><td>15</td><td> 5</td><td>2013-12-31 15:00:00</td></tr>\n",
       "\t<tr><td>2013</td><td>12</td><td>31</td><td>  NA</td><td>1000</td><td> NA</td><td>  NA</td><td>1252</td><td> NA</td><td>UA</td><td>1124</td><td>NA    </td><td>EWR</td><td>EGE</td><td> NA</td><td>1725</td><td>10</td><td> 0</td><td>2013-12-31 10:00:00</td></tr>\n",
       "\t<tr><td>2013</td><td>12</td><td>31</td><td>  NA</td><td> 840</td><td> NA</td><td>  NA</td><td>1205</td><td> NA</td><td>UA</td><td>1151</td><td>NA    </td><td>EWR</td><td>SEA</td><td> NA</td><td>2402</td><td> 8</td><td>40</td><td>2013-12-31 08:00:00</td></tr>\n",
       "\t<tr><td>2013</td><td>12</td><td>31</td><td>  NA</td><td> 754</td><td> NA</td><td>  NA</td><td>1118</td><td> NA</td><td>UA</td><td>1455</td><td>NA    </td><td>EWR</td><td>LAX</td><td> NA</td><td>2454</td><td> 7</td><td>54</td><td>2013-12-31 07:00:00</td></tr>\n",
       "\t<tr><td>2013</td><td>12</td><td>31</td><td>  NA</td><td>2000</td><td> NA</td><td>  NA</td><td>2146</td><td> NA</td><td>UA</td><td>1482</td><td>NA    </td><td>EWR</td><td>ORD</td><td> NA</td><td> 719</td><td>20</td><td> 0</td><td>2013-12-31 20:00:00</td></tr>\n",
       "\t<tr><td>2013</td><td>12</td><td>31</td><td>  NA</td><td>1500</td><td> NA</td><td>  NA</td><td>1817</td><td> NA</td><td>UA</td><td>1483</td><td>NA    </td><td>EWR</td><td>AUS</td><td> NA</td><td>1504</td><td>15</td><td> 0</td><td>2013-12-31 15:00:00</td></tr>\n",
       "\t<tr><td>2013</td><td>12</td><td>31</td><td>  NA</td><td>1430</td><td> NA</td><td>  NA</td><td>1750</td><td> NA</td><td>UA</td><td>1493</td><td>NA    </td><td>EWR</td><td>LAX</td><td> NA</td><td>2454</td><td>14</td><td>30</td><td>2013-12-31 14:00:00</td></tr>\n",
       "\t<tr><td>2013</td><td>12</td><td>31</td><td>  NA</td><td> 855</td><td> NA</td><td>  NA</td><td>1142</td><td> NA</td><td>UA</td><td>1506</td><td>NA    </td><td>EWR</td><td>JAC</td><td> NA</td><td>1874</td><td> 8</td><td>55</td><td>2013-12-31 08:00:00</td></tr>\n",
       "\t<tr><td>2013</td><td>12</td><td>31</td><td>  NA</td><td> 705</td><td> NA</td><td>  NA</td><td> 931</td><td> NA</td><td>UA</td><td>1729</td><td>NA    </td><td>EWR</td><td>DEN</td><td> NA</td><td>1605</td><td> 7</td><td> 5</td><td>2013-12-31 07:00:00</td></tr>\n",
       "\t<tr><td>2013</td><td>12</td><td>31</td><td>  NA</td><td> 825</td><td> NA</td><td>  NA</td><td>1029</td><td> NA</td><td>US</td><td>1831</td><td>NA    </td><td>JFK</td><td>CLT</td><td> NA</td><td> 541</td><td> 8</td><td>25</td><td>2013-12-31 08:00:00</td></tr>\n",
       "\t<tr><td>2013</td><td>12</td><td>31</td><td>  NA</td><td>1615</td><td> NA</td><td>  NA</td><td>1800</td><td> NA</td><td>MQ</td><td>3301</td><td>N844MQ</td><td>LGA</td><td>RDU</td><td> NA</td><td> 431</td><td>16</td><td>15</td><td>2013-12-31 16:00:00</td></tr>\n",
       "\t<tr><td>2013</td><td>12</td><td>31</td><td>  NA</td><td> 600</td><td> NA</td><td>  NA</td><td> 735</td><td> NA</td><td>UA</td><td> 219</td><td>NA    </td><td>EWR</td><td>ORD</td><td> NA</td><td> 719</td><td> 6</td><td> 0</td><td>2013-12-31 06:00:00</td></tr>\n",
       "\t<tr><td>2013</td><td>12</td><td>31</td><td>  NA</td><td> 830</td><td> NA</td><td>  NA</td><td>1154</td><td> NA</td><td>UA</td><td> 443</td><td>NA    </td><td>JFK</td><td>LAX</td><td> NA</td><td>2475</td><td> 8</td><td>30</td><td>2013-12-31 08:00:00</td></tr>\n",
       "</tbody>\n",
       "</table>\n"
      ],
      "text/latex": [
       "A tibble: 776 × 19\n",
       "\\begin{tabular}{lllllllllllllllllll}\n",
       " year & month & day & dep\\_time & sched\\_dep\\_time & dep\\_delay & arr\\_time & sched\\_arr\\_time & arr\\_delay & carrier & flight & tailnum & origin & dest & air\\_time & distance & hour & minute & time\\_hour\\\\\n",
       " <int> & <int> & <int> & <int> & <int> & <dbl> & <int> & <int> & <dbl> & <chr> & <int> & <chr> & <chr> & <chr> & <dbl> & <dbl> & <dbl> & <dbl> & <dttm>\\\\\n",
       "\\hline\n",
       "\t 2013 & 12 & 31 &  13 & 2359 &  14 &  439 &  437 &   2 & B6 &  839 & N566JB & JFK & BQN & 189 & 1576 & 23 & 59 & 2013-12-31 23:00:00\\\\\n",
       "\t 2013 & 12 & 31 &  18 & 2359 &  19 &  449 &  444 &   5 & DL &  412 & N713TW & JFK & SJU & 192 & 1598 & 23 & 59 & 2013-12-31 23:00:00\\\\\n",
       "\t 2013 & 12 & 31 &  26 & 2245 & 101 &  129 & 2353 &  96 & B6 &  108 & N374JB & JFK & PWM &  50 &  273 & 22 & 45 & 2013-12-31 22:00:00\\\\\n",
       "\t 2013 & 12 & 31 & 459 &  500 &  -1 &  655 &  651 &   4 & US & 1895 & N557UW & EWR & CLT &  95 &  529 &  5 &  0 & 2013-12-31 05:00:00\\\\\n",
       "\t 2013 & 12 & 31 & 514 &  515 &  -1 &  814 &  812 &   2 & UA &  700 & N470UA & EWR & IAH & 223 & 1400 &  5 & 15 & 2013-12-31 05:00:00\\\\\n",
       "\t 2013 & 12 & 31 & 549 &  551 &  -2 &  925 &  900 &  25 & UA &  274 & N577UA & EWR & LAX & 346 & 2454 &  5 & 51 & 2013-12-31 05:00:00\\\\\n",
       "\t 2013 & 12 & 31 & 550 &  600 & -10 &  725 &  745 & -20 & AA &  301 & N3CXAA & LGA & ORD & 127 &  733 &  6 &  0 & 2013-12-31 06:00:00\\\\\n",
       "\t 2013 & 12 & 31 & 552 &  600 &  -8 &  811 &  826 & -15 & EV & 3825 & N14916 & EWR & IND & 118 &  645 &  6 &  0 & 2013-12-31 06:00:00\\\\\n",
       "\t 2013 & 12 & 31 & 553 &  600 &  -7 &  741 &  754 & -13 & DL &  731 & N333NB & LGA & DTW &  86 &  502 &  6 &  0 & 2013-12-31 06:00:00\\\\\n",
       "\t 2013 & 12 & 31 & 554 &  550 &   4 & 1024 & 1027 &  -3 & B6 &  939 & N552JB & JFK & BQN & 195 & 1576 &  5 & 50 & 2013-12-31 05:00:00\\\\\n",
       "\t 2013 & 12 & 31 & 555 &  600 &  -5 &  901 &  849 &  12 & B6 &  353 & N746JB & JFK & PBI & 167 & 1028 &  6 &  0 & 2013-12-31 06:00:00\\\\\n",
       "\t 2013 & 12 & 31 & 555 &  600 &  -5 &  835 &  831 &   4 & DL &  904 & N3741S & LGA & ATL & 137 &  762 &  6 &  0 & 2013-12-31 06:00:00\\\\\n",
       "\t 2013 & 12 & 31 & 555 &  551 &   4 &  853 &  851 &   2 & UA &  566 & N491UA & EWR & TPA & 164 &  997 &  5 & 51 & 2013-12-31 05:00:00\\\\\n",
       "\t 2013 & 12 & 31 & 556 &  600 &  -4 &  909 &  846 &  23 & B6 &  583 & N715JB & JFK & MCO & 162 &  944 &  6 &  0 & 2013-12-31 06:00:00\\\\\n",
       "\t 2013 & 12 & 31 & 556 &  605 &  -9 &  808 &  814 &  -6 & DL & 1919 & N958DL & LGA & MSP & 160 & 1020 &  6 &  5 & 2013-12-31 06:00:00\\\\\n",
       "\t 2013 & 12 & 31 & 557 &  603 &  -6 &  719 &  719 &   0 & EV & 4241 & N15574 & EWR & DCA &  45 &  199 &  6 &  3 & 2013-12-31 06:00:00\\\\\n",
       "\t 2013 & 12 & 31 & 558 &  600 &  -2 &  919 &  905 &  14 & AA & 1175 & N3JEAA & LGA & MIA & 173 & 1096 &  6 &  0 & 2013-12-31 06:00:00\\\\\n",
       "\t 2013 & 12 & 31 & 559 &  600 &  -1 &  917 &  855 &  22 & B6 &  605 & N597JB & EWR & FLL & 167 & 1065 &  6 &  0 & 2013-12-31 06:00:00\\\\\n",
       "\t 2013 & 12 & 31 & 600 &  540 &  20 &  928 &  850 &  38 & AA & 2243 & N5EMAA & JFK & MIA & 171 & 1089 &  5 & 40 & 2013-12-31 05:00:00\\\\\n",
       "\t 2013 & 12 & 31 & 602 &  605 &  -3 &  744 &  805 & -21 & DL & 2505 & N358NB & EWR & DTW &  87 &  488 &  6 &  5 & 2013-12-31 06:00:00\\\\\n",
       "\t 2013 & 12 & 31 & 602 &  605 &  -3 &  708 &  723 & -15 & EV & 6177 & N14543 & EWR & IAD &  45 &  212 &  6 &  5 & 2013-12-31 06:00:00\\\\\n",
       "\t 2013 & 12 & 31 & 603 &  611 &  -8 & 1045 & 1055 & -10 & B6 & 1403 & N547JB & JFK & SJU & 198 & 1598 &  6 & 11 & 2013-12-31 06:00:00\\\\\n",
       "\t 2013 & 12 & 31 & 607 &  600 &   7 &  848 &  825 &  23 & WN & 1716 & N7740A & LGA & ATL & 137 &  762 &  6 &  0 & 2013-12-31 06:00:00\\\\\n",
       "\t 2013 & 12 & 31 & 608 &  615 &  -7 &  812 &  818 &  -6 & US & 1963 & N192UW & EWR & CLT & 106 &  529 &  6 & 15 & 2013-12-31 06:00:00\\\\\n",
       "\t 2013 & 12 & 31 & 609 &  610 &  -1 &  911 &  915 &  -4 & AA & 1205 & N5DHAA & EWR & MIA & 163 & 1085 &  6 & 10 & 2013-12-31 06:00:00\\\\\n",
       "\t 2013 & 12 & 31 & 609 &  615 &  -6 &  848 &  850 &  -2 & DL &  404 & N392DA & JFK & ATL & 133 &  760 &  6 & 15 & 2013-12-31 06:00:00\\\\\n",
       "\t 2013 & 12 & 31 & 609 &  614 &  -5 &  755 &  751 &   4 & EV & 3812 & N13994 & EWR & RDU &  81 &  416 &  6 & 14 & 2013-12-31 06:00:00\\\\\n",
       "\t 2013 & 12 & 31 & 610 &  615 &  -5 &  828 &  849 & -21 & DL &  479 & N3766  & JFK & ATL & 119 &  760 &  6 & 15 & 2013-12-31 06:00:00\\\\\n",
       "\t 2013 & 12 & 31 & 616 &  611 &   5 &  933 &  912 &  21 & B6 &  601 & N643JB & JFK & FLL & 173 & 1069 &  6 & 11 & 2013-12-31 06:00:00\\\\\n",
       "\t 2013 & 12 & 31 & 616 &  630 & -14 &  922 &  919 &   3 & B6 & 1099 & N563JB & LGA & MCO & 159 &  950 &  6 & 30 & 2013-12-31 06:00:00\\\\\n",
       "\t ⋮ & ⋮ & ⋮ & ⋮ & ⋮ & ⋮ & ⋮ & ⋮ & ⋮ & ⋮ & ⋮ & ⋮ & ⋮ & ⋮ & ⋮ & ⋮ & ⋮ & ⋮ & ⋮\\\\\n",
       "\t 2013 & 12 & 31 & 2155 & 2039 &  76 &  253 & 2355 &  NA & B6 & 1205 & N627JB & JFK & PDX &  NA & 2454 & 20 & 39 & 2013-12-31 20:00:00\\\\\n",
       "\t 2013 & 12 & 31 & 2155 & 2150 &   5 &  110 &   51 &  19 & B6 & 1901 & N729JB & JFK & FLL & 164 & 1069 & 21 & 50 & 2013-12-31 21:00:00\\\\\n",
       "\t 2013 & 12 & 31 & 2159 & 2155 &   4 &   55 &   46 &   9 & B6 & 2053 & N593JB & JFK & PBI & 155 & 1028 & 21 & 55 & 2013-12-31 21:00:00\\\\\n",
       "\t 2013 & 12 & 31 & 2206 & 2110 &  56 &   44 & 2339 &  65 & B6 &  775 & N184JB & JFK & MSY & 195 & 1182 & 21 & 10 & 2013-12-31 21:00:00\\\\\n",
       "\t 2013 & 12 & 31 & 2211 & 2159 &  12 &  100 &   45 &  15 & B6 & 1183 & N715JB & JFK & MCO & 148 &  944 & 21 & 59 & 2013-12-31 21:00:00\\\\\n",
       "\t 2013 & 12 & 31 & 2218 & 2219 &  -1 &  315 &  304 &  11 & B6 & 1203 & N625JB & JFK & SJU & 202 & 1598 & 22 & 19 & 2013-12-31 22:00:00\\\\\n",
       "\t 2013 & 12 & 31 & 2235 & 2245 & -10 & 2351 & 2355 &  -4 & B6 &  234 & N355JB & JFK & BTV &  49 &  266 & 22 & 45 & 2013-12-31 22:00:00\\\\\n",
       "\t 2013 & 12 & 31 & 2245 & 2250 &  -5 & 2359 & 2356 &   3 & B6 & 1816 & N318JB & JFK & SYR &  51 &  209 & 22 & 50 & 2013-12-31 22:00:00\\\\\n",
       "\t 2013 & 12 & 31 & 2310 & 2255 &  15 &    7 & 2356 &  11 & B6 &  718 & N279JB & JFK & BOS &  40 &  187 & 22 & 55 & 2013-12-31 22:00:00\\\\\n",
       "\t 2013 & 12 & 31 & 2321 & 2250 &  31 &   46 &    8 &  38 & B6 & 2002 & N179JB & JFK & BUF &  66 &  301 & 22 & 50 & 2013-12-31 22:00:00\\\\\n",
       "\t 2013 & 12 & 31 & 2328 & 2330 &  -2 &  412 &  409 &   3 & B6 & 1389 & N651JB & EWR & SJU & 198 & 1608 & 23 & 30 & 2013-12-31 23:00:00\\\\\n",
       "\t 2013 & 12 & 31 & 2332 & 2245 &  47 &   58 &    3 &  55 & B6 &  486 & N334JB & JFK & ROC &  60 &  264 & 22 & 45 & 2013-12-31 22:00:00\\\\\n",
       "\t 2013 & 12 & 31 & 2355 & 2359 &  -4 &  430 &  440 & -10 & B6 & 1503 & N509JB & JFK & SJU & 195 & 1598 & 23 & 59 & 2013-12-31 23:00:00\\\\\n",
       "\t 2013 & 12 & 31 & 2356 & 2359 &  -3 &  436 &  445 &  -9 & B6 &  745 & N665JB & JFK & PSE & 200 & 1617 & 23 & 59 & 2013-12-31 23:00:00\\\\\n",
       "\t 2013 & 12 & 31 &   NA & 1520 &  NA &   NA & 1705 &  NA & AA &  341 & N568AA & LGA & ORD &  NA &  733 & 15 & 20 & 2013-12-31 15:00:00\\\\\n",
       "\t 2013 & 12 & 31 &   NA & 2025 &  NA &   NA & 2205 &  NA & AA &  371 & N482AA & LGA & ORD &  NA &  733 & 20 & 25 & 2013-12-31 20:00:00\\\\\n",
       "\t 2013 & 12 & 31 &   NA & 1932 &  NA &   NA & 2305 &  NA & B6 &  161 & N516JB & JFK & SMF &  NA & 2521 & 19 & 32 & 2013-12-31 19:00:00\\\\\n",
       "\t 2013 & 12 & 31 &   NA & 1505 &  NA &   NA & 1725 &  NA & EV & 4181 & N24103 & EWR & MCI &  NA & 1092 & 15 &  5 & 2013-12-31 15:00:00\\\\\n",
       "\t 2013 & 12 & 31 &   NA & 1000 &  NA &   NA & 1252 &  NA & UA & 1124 & NA     & EWR & EGE &  NA & 1725 & 10 &  0 & 2013-12-31 10:00:00\\\\\n",
       "\t 2013 & 12 & 31 &   NA &  840 &  NA &   NA & 1205 &  NA & UA & 1151 & NA     & EWR & SEA &  NA & 2402 &  8 & 40 & 2013-12-31 08:00:00\\\\\n",
       "\t 2013 & 12 & 31 &   NA &  754 &  NA &   NA & 1118 &  NA & UA & 1455 & NA     & EWR & LAX &  NA & 2454 &  7 & 54 & 2013-12-31 07:00:00\\\\\n",
       "\t 2013 & 12 & 31 &   NA & 2000 &  NA &   NA & 2146 &  NA & UA & 1482 & NA     & EWR & ORD &  NA &  719 & 20 &  0 & 2013-12-31 20:00:00\\\\\n",
       "\t 2013 & 12 & 31 &   NA & 1500 &  NA &   NA & 1817 &  NA & UA & 1483 & NA     & EWR & AUS &  NA & 1504 & 15 &  0 & 2013-12-31 15:00:00\\\\\n",
       "\t 2013 & 12 & 31 &   NA & 1430 &  NA &   NA & 1750 &  NA & UA & 1493 & NA     & EWR & LAX &  NA & 2454 & 14 & 30 & 2013-12-31 14:00:00\\\\\n",
       "\t 2013 & 12 & 31 &   NA &  855 &  NA &   NA & 1142 &  NA & UA & 1506 & NA     & EWR & JAC &  NA & 1874 &  8 & 55 & 2013-12-31 08:00:00\\\\\n",
       "\t 2013 & 12 & 31 &   NA &  705 &  NA &   NA &  931 &  NA & UA & 1729 & NA     & EWR & DEN &  NA & 1605 &  7 &  5 & 2013-12-31 07:00:00\\\\\n",
       "\t 2013 & 12 & 31 &   NA &  825 &  NA &   NA & 1029 &  NA & US & 1831 & NA     & JFK & CLT &  NA &  541 &  8 & 25 & 2013-12-31 08:00:00\\\\\n",
       "\t 2013 & 12 & 31 &   NA & 1615 &  NA &   NA & 1800 &  NA & MQ & 3301 & N844MQ & LGA & RDU &  NA &  431 & 16 & 15 & 2013-12-31 16:00:00\\\\\n",
       "\t 2013 & 12 & 31 &   NA &  600 &  NA &   NA &  735 &  NA & UA &  219 & NA     & EWR & ORD &  NA &  719 &  6 &  0 & 2013-12-31 06:00:00\\\\\n",
       "\t 2013 & 12 & 31 &   NA &  830 &  NA &   NA & 1154 &  NA & UA &  443 & NA     & JFK & LAX &  NA & 2475 &  8 & 30 & 2013-12-31 08:00:00\\\\\n",
       "\\end{tabular}\n"
      ],
      "text/markdown": [
       "\n",
       "A tibble: 776 × 19\n",
       "\n",
       "| year &lt;int&gt; | month &lt;int&gt; | day &lt;int&gt; | dep_time &lt;int&gt; | sched_dep_time &lt;int&gt; | dep_delay &lt;dbl&gt; | arr_time &lt;int&gt; | sched_arr_time &lt;int&gt; | arr_delay &lt;dbl&gt; | carrier &lt;chr&gt; | flight &lt;int&gt; | tailnum &lt;chr&gt; | origin &lt;chr&gt; | dest &lt;chr&gt; | air_time &lt;dbl&gt; | distance &lt;dbl&gt; | hour &lt;dbl&gt; | minute &lt;dbl&gt; | time_hour &lt;dttm&gt; |\n",
       "|---|---|---|---|---|---|---|---|---|---|---|---|---|---|---|---|---|---|---|\n",
       "| 2013 | 12 | 31 |  13 | 2359 |  14 |  439 |  437 |   2 | B6 |  839 | N566JB | JFK | BQN | 189 | 1576 | 23 | 59 | 2013-12-31 23:00:00 |\n",
       "| 2013 | 12 | 31 |  18 | 2359 |  19 |  449 |  444 |   5 | DL |  412 | N713TW | JFK | SJU | 192 | 1598 | 23 | 59 | 2013-12-31 23:00:00 |\n",
       "| 2013 | 12 | 31 |  26 | 2245 | 101 |  129 | 2353 |  96 | B6 |  108 | N374JB | JFK | PWM |  50 |  273 | 22 | 45 | 2013-12-31 22:00:00 |\n",
       "| 2013 | 12 | 31 | 459 |  500 |  -1 |  655 |  651 |   4 | US | 1895 | N557UW | EWR | CLT |  95 |  529 |  5 |  0 | 2013-12-31 05:00:00 |\n",
       "| 2013 | 12 | 31 | 514 |  515 |  -1 |  814 |  812 |   2 | UA |  700 | N470UA | EWR | IAH | 223 | 1400 |  5 | 15 | 2013-12-31 05:00:00 |\n",
       "| 2013 | 12 | 31 | 549 |  551 |  -2 |  925 |  900 |  25 | UA |  274 | N577UA | EWR | LAX | 346 | 2454 |  5 | 51 | 2013-12-31 05:00:00 |\n",
       "| 2013 | 12 | 31 | 550 |  600 | -10 |  725 |  745 | -20 | AA |  301 | N3CXAA | LGA | ORD | 127 |  733 |  6 |  0 | 2013-12-31 06:00:00 |\n",
       "| 2013 | 12 | 31 | 552 |  600 |  -8 |  811 |  826 | -15 | EV | 3825 | N14916 | EWR | IND | 118 |  645 |  6 |  0 | 2013-12-31 06:00:00 |\n",
       "| 2013 | 12 | 31 | 553 |  600 |  -7 |  741 |  754 | -13 | DL |  731 | N333NB | LGA | DTW |  86 |  502 |  6 |  0 | 2013-12-31 06:00:00 |\n",
       "| 2013 | 12 | 31 | 554 |  550 |   4 | 1024 | 1027 |  -3 | B6 |  939 | N552JB | JFK | BQN | 195 | 1576 |  5 | 50 | 2013-12-31 05:00:00 |\n",
       "| 2013 | 12 | 31 | 555 |  600 |  -5 |  901 |  849 |  12 | B6 |  353 | N746JB | JFK | PBI | 167 | 1028 |  6 |  0 | 2013-12-31 06:00:00 |\n",
       "| 2013 | 12 | 31 | 555 |  600 |  -5 |  835 |  831 |   4 | DL |  904 | N3741S | LGA | ATL | 137 |  762 |  6 |  0 | 2013-12-31 06:00:00 |\n",
       "| 2013 | 12 | 31 | 555 |  551 |   4 |  853 |  851 |   2 | UA |  566 | N491UA | EWR | TPA | 164 |  997 |  5 | 51 | 2013-12-31 05:00:00 |\n",
       "| 2013 | 12 | 31 | 556 |  600 |  -4 |  909 |  846 |  23 | B6 |  583 | N715JB | JFK | MCO | 162 |  944 |  6 |  0 | 2013-12-31 06:00:00 |\n",
       "| 2013 | 12 | 31 | 556 |  605 |  -9 |  808 |  814 |  -6 | DL | 1919 | N958DL | LGA | MSP | 160 | 1020 |  6 |  5 | 2013-12-31 06:00:00 |\n",
       "| 2013 | 12 | 31 | 557 |  603 |  -6 |  719 |  719 |   0 | EV | 4241 | N15574 | EWR | DCA |  45 |  199 |  6 |  3 | 2013-12-31 06:00:00 |\n",
       "| 2013 | 12 | 31 | 558 |  600 |  -2 |  919 |  905 |  14 | AA | 1175 | N3JEAA | LGA | MIA | 173 | 1096 |  6 |  0 | 2013-12-31 06:00:00 |\n",
       "| 2013 | 12 | 31 | 559 |  600 |  -1 |  917 |  855 |  22 | B6 |  605 | N597JB | EWR | FLL | 167 | 1065 |  6 |  0 | 2013-12-31 06:00:00 |\n",
       "| 2013 | 12 | 31 | 600 |  540 |  20 |  928 |  850 |  38 | AA | 2243 | N5EMAA | JFK | MIA | 171 | 1089 |  5 | 40 | 2013-12-31 05:00:00 |\n",
       "| 2013 | 12 | 31 | 602 |  605 |  -3 |  744 |  805 | -21 | DL | 2505 | N358NB | EWR | DTW |  87 |  488 |  6 |  5 | 2013-12-31 06:00:00 |\n",
       "| 2013 | 12 | 31 | 602 |  605 |  -3 |  708 |  723 | -15 | EV | 6177 | N14543 | EWR | IAD |  45 |  212 |  6 |  5 | 2013-12-31 06:00:00 |\n",
       "| 2013 | 12 | 31 | 603 |  611 |  -8 | 1045 | 1055 | -10 | B6 | 1403 | N547JB | JFK | SJU | 198 | 1598 |  6 | 11 | 2013-12-31 06:00:00 |\n",
       "| 2013 | 12 | 31 | 607 |  600 |   7 |  848 |  825 |  23 | WN | 1716 | N7740A | LGA | ATL | 137 |  762 |  6 |  0 | 2013-12-31 06:00:00 |\n",
       "| 2013 | 12 | 31 | 608 |  615 |  -7 |  812 |  818 |  -6 | US | 1963 | N192UW | EWR | CLT | 106 |  529 |  6 | 15 | 2013-12-31 06:00:00 |\n",
       "| 2013 | 12 | 31 | 609 |  610 |  -1 |  911 |  915 |  -4 | AA | 1205 | N5DHAA | EWR | MIA | 163 | 1085 |  6 | 10 | 2013-12-31 06:00:00 |\n",
       "| 2013 | 12 | 31 | 609 |  615 |  -6 |  848 |  850 |  -2 | DL |  404 | N392DA | JFK | ATL | 133 |  760 |  6 | 15 | 2013-12-31 06:00:00 |\n",
       "| 2013 | 12 | 31 | 609 |  614 |  -5 |  755 |  751 |   4 | EV | 3812 | N13994 | EWR | RDU |  81 |  416 |  6 | 14 | 2013-12-31 06:00:00 |\n",
       "| 2013 | 12 | 31 | 610 |  615 |  -5 |  828 |  849 | -21 | DL |  479 | N3766  | JFK | ATL | 119 |  760 |  6 | 15 | 2013-12-31 06:00:00 |\n",
       "| 2013 | 12 | 31 | 616 |  611 |   5 |  933 |  912 |  21 | B6 |  601 | N643JB | JFK | FLL | 173 | 1069 |  6 | 11 | 2013-12-31 06:00:00 |\n",
       "| 2013 | 12 | 31 | 616 |  630 | -14 |  922 |  919 |   3 | B6 | 1099 | N563JB | LGA | MCO | 159 |  950 |  6 | 30 | 2013-12-31 06:00:00 |\n",
       "| ⋮ | ⋮ | ⋮ | ⋮ | ⋮ | ⋮ | ⋮ | ⋮ | ⋮ | ⋮ | ⋮ | ⋮ | ⋮ | ⋮ | ⋮ | ⋮ | ⋮ | ⋮ | ⋮ |\n",
       "| 2013 | 12 | 31 | 2155 | 2039 |  76 |  253 | 2355 |  NA | B6 | 1205 | N627JB | JFK | PDX |  NA | 2454 | 20 | 39 | 2013-12-31 20:00:00 |\n",
       "| 2013 | 12 | 31 | 2155 | 2150 |   5 |  110 |   51 |  19 | B6 | 1901 | N729JB | JFK | FLL | 164 | 1069 | 21 | 50 | 2013-12-31 21:00:00 |\n",
       "| 2013 | 12 | 31 | 2159 | 2155 |   4 |   55 |   46 |   9 | B6 | 2053 | N593JB | JFK | PBI | 155 | 1028 | 21 | 55 | 2013-12-31 21:00:00 |\n",
       "| 2013 | 12 | 31 | 2206 | 2110 |  56 |   44 | 2339 |  65 | B6 |  775 | N184JB | JFK | MSY | 195 | 1182 | 21 | 10 | 2013-12-31 21:00:00 |\n",
       "| 2013 | 12 | 31 | 2211 | 2159 |  12 |  100 |   45 |  15 | B6 | 1183 | N715JB | JFK | MCO | 148 |  944 | 21 | 59 | 2013-12-31 21:00:00 |\n",
       "| 2013 | 12 | 31 | 2218 | 2219 |  -1 |  315 |  304 |  11 | B6 | 1203 | N625JB | JFK | SJU | 202 | 1598 | 22 | 19 | 2013-12-31 22:00:00 |\n",
       "| 2013 | 12 | 31 | 2235 | 2245 | -10 | 2351 | 2355 |  -4 | B6 |  234 | N355JB | JFK | BTV |  49 |  266 | 22 | 45 | 2013-12-31 22:00:00 |\n",
       "| 2013 | 12 | 31 | 2245 | 2250 |  -5 | 2359 | 2356 |   3 | B6 | 1816 | N318JB | JFK | SYR |  51 |  209 | 22 | 50 | 2013-12-31 22:00:00 |\n",
       "| 2013 | 12 | 31 | 2310 | 2255 |  15 |    7 | 2356 |  11 | B6 |  718 | N279JB | JFK | BOS |  40 |  187 | 22 | 55 | 2013-12-31 22:00:00 |\n",
       "| 2013 | 12 | 31 | 2321 | 2250 |  31 |   46 |    8 |  38 | B6 | 2002 | N179JB | JFK | BUF |  66 |  301 | 22 | 50 | 2013-12-31 22:00:00 |\n",
       "| 2013 | 12 | 31 | 2328 | 2330 |  -2 |  412 |  409 |   3 | B6 | 1389 | N651JB | EWR | SJU | 198 | 1608 | 23 | 30 | 2013-12-31 23:00:00 |\n",
       "| 2013 | 12 | 31 | 2332 | 2245 |  47 |   58 |    3 |  55 | B6 |  486 | N334JB | JFK | ROC |  60 |  264 | 22 | 45 | 2013-12-31 22:00:00 |\n",
       "| 2013 | 12 | 31 | 2355 | 2359 |  -4 |  430 |  440 | -10 | B6 | 1503 | N509JB | JFK | SJU | 195 | 1598 | 23 | 59 | 2013-12-31 23:00:00 |\n",
       "| 2013 | 12 | 31 | 2356 | 2359 |  -3 |  436 |  445 |  -9 | B6 |  745 | N665JB | JFK | PSE | 200 | 1617 | 23 | 59 | 2013-12-31 23:00:00 |\n",
       "| 2013 | 12 | 31 |   NA | 1520 |  NA |   NA | 1705 |  NA | AA |  341 | N568AA | LGA | ORD |  NA |  733 | 15 | 20 | 2013-12-31 15:00:00 |\n",
       "| 2013 | 12 | 31 |   NA | 2025 |  NA |   NA | 2205 |  NA | AA |  371 | N482AA | LGA | ORD |  NA |  733 | 20 | 25 | 2013-12-31 20:00:00 |\n",
       "| 2013 | 12 | 31 |   NA | 1932 |  NA |   NA | 2305 |  NA | B6 |  161 | N516JB | JFK | SMF |  NA | 2521 | 19 | 32 | 2013-12-31 19:00:00 |\n",
       "| 2013 | 12 | 31 |   NA | 1505 |  NA |   NA | 1725 |  NA | EV | 4181 | N24103 | EWR | MCI |  NA | 1092 | 15 |  5 | 2013-12-31 15:00:00 |\n",
       "| 2013 | 12 | 31 |   NA | 1000 |  NA |   NA | 1252 |  NA | UA | 1124 | NA     | EWR | EGE |  NA | 1725 | 10 |  0 | 2013-12-31 10:00:00 |\n",
       "| 2013 | 12 | 31 |   NA |  840 |  NA |   NA | 1205 |  NA | UA | 1151 | NA     | EWR | SEA |  NA | 2402 |  8 | 40 | 2013-12-31 08:00:00 |\n",
       "| 2013 | 12 | 31 |   NA |  754 |  NA |   NA | 1118 |  NA | UA | 1455 | NA     | EWR | LAX |  NA | 2454 |  7 | 54 | 2013-12-31 07:00:00 |\n",
       "| 2013 | 12 | 31 |   NA | 2000 |  NA |   NA | 2146 |  NA | UA | 1482 | NA     | EWR | ORD |  NA |  719 | 20 |  0 | 2013-12-31 20:00:00 |\n",
       "| 2013 | 12 | 31 |   NA | 1500 |  NA |   NA | 1817 |  NA | UA | 1483 | NA     | EWR | AUS |  NA | 1504 | 15 |  0 | 2013-12-31 15:00:00 |\n",
       "| 2013 | 12 | 31 |   NA | 1430 |  NA |   NA | 1750 |  NA | UA | 1493 | NA     | EWR | LAX |  NA | 2454 | 14 | 30 | 2013-12-31 14:00:00 |\n",
       "| 2013 | 12 | 31 |   NA |  855 |  NA |   NA | 1142 |  NA | UA | 1506 | NA     | EWR | JAC |  NA | 1874 |  8 | 55 | 2013-12-31 08:00:00 |\n",
       "| 2013 | 12 | 31 |   NA |  705 |  NA |   NA |  931 |  NA | UA | 1729 | NA     | EWR | DEN |  NA | 1605 |  7 |  5 | 2013-12-31 07:00:00 |\n",
       "| 2013 | 12 | 31 |   NA |  825 |  NA |   NA | 1029 |  NA | US | 1831 | NA     | JFK | CLT |  NA |  541 |  8 | 25 | 2013-12-31 08:00:00 |\n",
       "| 2013 | 12 | 31 |   NA | 1615 |  NA |   NA | 1800 |  NA | MQ | 3301 | N844MQ | LGA | RDU |  NA |  431 | 16 | 15 | 2013-12-31 16:00:00 |\n",
       "| 2013 | 12 | 31 |   NA |  600 |  NA |   NA |  735 |  NA | UA |  219 | NA     | EWR | ORD |  NA |  719 |  6 |  0 | 2013-12-31 06:00:00 |\n",
       "| 2013 | 12 | 31 |   NA |  830 |  NA |   NA | 1154 |  NA | UA |  443 | NA     | JFK | LAX |  NA | 2475 |  8 | 30 | 2013-12-31 08:00:00 |\n",
       "\n"
      ],
      "text/plain": [
       "    year month day dep_time sched_dep_time dep_delay arr_time sched_arr_time\n",
       "1   2013 12    31   13      2359            14        439      437          \n",
       "2   2013 12    31   18      2359            19        449      444          \n",
       "3   2013 12    31   26      2245           101        129     2353          \n",
       "4   2013 12    31  459       500            -1        655      651          \n",
       "5   2013 12    31  514       515            -1        814      812          \n",
       "6   2013 12    31  549       551            -2        925      900          \n",
       "7   2013 12    31  550       600           -10        725      745          \n",
       "8   2013 12    31  552       600            -8        811      826          \n",
       "9   2013 12    31  553       600            -7        741      754          \n",
       "10  2013 12    31  554       550             4       1024     1027          \n",
       "11  2013 12    31  555       600            -5        901      849          \n",
       "12  2013 12    31  555       600            -5        835      831          \n",
       "13  2013 12    31  555       551             4        853      851          \n",
       "14  2013 12    31  556       600            -4        909      846          \n",
       "15  2013 12    31  556       605            -9        808      814          \n",
       "16  2013 12    31  557       603            -6        719      719          \n",
       "17  2013 12    31  558       600            -2        919      905          \n",
       "18  2013 12    31  559       600            -1        917      855          \n",
       "19  2013 12    31  600       540            20        928      850          \n",
       "20  2013 12    31  602       605            -3        744      805          \n",
       "21  2013 12    31  602       605            -3        708      723          \n",
       "22  2013 12    31  603       611            -8       1045     1055          \n",
       "23  2013 12    31  607       600             7        848      825          \n",
       "24  2013 12    31  608       615            -7        812      818          \n",
       "25  2013 12    31  609       610            -1        911      915          \n",
       "26  2013 12    31  609       615            -6        848      850          \n",
       "27  2013 12    31  609       614            -5        755      751          \n",
       "28  2013 12    31  610       615            -5        828      849          \n",
       "29  2013 12    31  616       611             5        933      912          \n",
       "30  2013 12    31  616       630           -14        922      919          \n",
       "⋮   ⋮    ⋮     ⋮   ⋮        ⋮              ⋮         ⋮        ⋮             \n",
       "747 2013 12    31  2155     2039            76        253     2355          \n",
       "748 2013 12    31  2155     2150             5        110       51          \n",
       "749 2013 12    31  2159     2155             4         55       46          \n",
       "750 2013 12    31  2206     2110            56         44     2339          \n",
       "751 2013 12    31  2211     2159            12        100       45          \n",
       "752 2013 12    31  2218     2219            -1        315      304          \n",
       "753 2013 12    31  2235     2245           -10       2351     2355          \n",
       "754 2013 12    31  2245     2250            -5       2359     2356          \n",
       "755 2013 12    31  2310     2255            15          7     2356          \n",
       "756 2013 12    31  2321     2250            31         46        8          \n",
       "757 2013 12    31  2328     2330            -2        412      409          \n",
       "758 2013 12    31  2332     2245            47         58        3          \n",
       "759 2013 12    31  2355     2359            -4        430      440          \n",
       "760 2013 12    31  2356     2359            -3        436      445          \n",
       "761 2013 12    31    NA     1520            NA         NA     1705          \n",
       "762 2013 12    31    NA     2025            NA         NA     2205          \n",
       "763 2013 12    31    NA     1932            NA         NA     2305          \n",
       "764 2013 12    31    NA     1505            NA         NA     1725          \n",
       "765 2013 12    31    NA     1000            NA         NA     1252          \n",
       "766 2013 12    31    NA      840            NA         NA     1205          \n",
       "767 2013 12    31    NA      754            NA         NA     1118          \n",
       "768 2013 12    31    NA     2000            NA         NA     2146          \n",
       "769 2013 12    31    NA     1500            NA         NA     1817          \n",
       "770 2013 12    31    NA     1430            NA         NA     1750          \n",
       "771 2013 12    31    NA      855            NA         NA     1142          \n",
       "772 2013 12    31    NA      705            NA         NA      931          \n",
       "773 2013 12    31    NA      825            NA         NA     1029          \n",
       "774 2013 12    31    NA     1615            NA         NA     1800          \n",
       "775 2013 12    31    NA      600            NA         NA      735          \n",
       "776 2013 12    31    NA      830            NA         NA     1154          \n",
       "    arr_delay carrier flight tailnum origin dest air_time distance hour minute\n",
       "1     2       B6       839   N566JB  JFK    BQN  189      1576     23   59    \n",
       "2     5       DL       412   N713TW  JFK    SJU  192      1598     23   59    \n",
       "3    96       B6       108   N374JB  JFK    PWM   50       273     22   45    \n",
       "4     4       US      1895   N557UW  EWR    CLT   95       529      5    0    \n",
       "5     2       UA       700   N470UA  EWR    IAH  223      1400      5   15    \n",
       "6    25       UA       274   N577UA  EWR    LAX  346      2454      5   51    \n",
       "7   -20       AA       301   N3CXAA  LGA    ORD  127       733      6    0    \n",
       "8   -15       EV      3825   N14916  EWR    IND  118       645      6    0    \n",
       "9   -13       DL       731   N333NB  LGA    DTW   86       502      6    0    \n",
       "10   -3       B6       939   N552JB  JFK    BQN  195      1576      5   50    \n",
       "11   12       B6       353   N746JB  JFK    PBI  167      1028      6    0    \n",
       "12    4       DL       904   N3741S  LGA    ATL  137       762      6    0    \n",
       "13    2       UA       566   N491UA  EWR    TPA  164       997      5   51    \n",
       "14   23       B6       583   N715JB  JFK    MCO  162       944      6    0    \n",
       "15   -6       DL      1919   N958DL  LGA    MSP  160      1020      6    5    \n",
       "16    0       EV      4241   N15574  EWR    DCA   45       199      6    3    \n",
       "17   14       AA      1175   N3JEAA  LGA    MIA  173      1096      6    0    \n",
       "18   22       B6       605   N597JB  EWR    FLL  167      1065      6    0    \n",
       "19   38       AA      2243   N5EMAA  JFK    MIA  171      1089      5   40    \n",
       "20  -21       DL      2505   N358NB  EWR    DTW   87       488      6    5    \n",
       "21  -15       EV      6177   N14543  EWR    IAD   45       212      6    5    \n",
       "22  -10       B6      1403   N547JB  JFK    SJU  198      1598      6   11    \n",
       "23   23       WN      1716   N7740A  LGA    ATL  137       762      6    0    \n",
       "24   -6       US      1963   N192UW  EWR    CLT  106       529      6   15    \n",
       "25   -4       AA      1205   N5DHAA  EWR    MIA  163      1085      6   10    \n",
       "26   -2       DL       404   N392DA  JFK    ATL  133       760      6   15    \n",
       "27    4       EV      3812   N13994  EWR    RDU   81       416      6   14    \n",
       "28  -21       DL       479   N3766   JFK    ATL  119       760      6   15    \n",
       "29   21       B6       601   N643JB  JFK    FLL  173      1069      6   11    \n",
       "30    3       B6      1099   N563JB  LGA    MCO  159       950      6   30    \n",
       "⋮   ⋮         ⋮       ⋮      ⋮       ⋮      ⋮    ⋮        ⋮        ⋮    ⋮     \n",
       "747  NA       B6      1205   N627JB  JFK    PDX   NA      2454     20   39    \n",
       "748  19       B6      1901   N729JB  JFK    FLL  164      1069     21   50    \n",
       "749   9       B6      2053   N593JB  JFK    PBI  155      1028     21   55    \n",
       "750  65       B6       775   N184JB  JFK    MSY  195      1182     21   10    \n",
       "751  15       B6      1183   N715JB  JFK    MCO  148       944     21   59    \n",
       "752  11       B6      1203   N625JB  JFK    SJU  202      1598     22   19    \n",
       "753  -4       B6       234   N355JB  JFK    BTV   49       266     22   45    \n",
       "754   3       B6      1816   N318JB  JFK    SYR   51       209     22   50    \n",
       "755  11       B6       718   N279JB  JFK    BOS   40       187     22   55    \n",
       "756  38       B6      2002   N179JB  JFK    BUF   66       301     22   50    \n",
       "757   3       B6      1389   N651JB  EWR    SJU  198      1608     23   30    \n",
       "758  55       B6       486   N334JB  JFK    ROC   60       264     22   45    \n",
       "759 -10       B6      1503   N509JB  JFK    SJU  195      1598     23   59    \n",
       "760  -9       B6       745   N665JB  JFK    PSE  200      1617     23   59    \n",
       "761  NA       AA       341   N568AA  LGA    ORD   NA       733     15   20    \n",
       "762  NA       AA       371   N482AA  LGA    ORD   NA       733     20   25    \n",
       "763  NA       B6       161   N516JB  JFK    SMF   NA      2521     19   32    \n",
       "764  NA       EV      4181   N24103  EWR    MCI   NA      1092     15    5    \n",
       "765  NA       UA      1124   NA      EWR    EGE   NA      1725     10    0    \n",
       "766  NA       UA      1151   NA      EWR    SEA   NA      2402      8   40    \n",
       "767  NA       UA      1455   NA      EWR    LAX   NA      2454      7   54    \n",
       "768  NA       UA      1482   NA      EWR    ORD   NA       719     20    0    \n",
       "769  NA       UA      1483   NA      EWR    AUS   NA      1504     15    0    \n",
       "770  NA       UA      1493   NA      EWR    LAX   NA      2454     14   30    \n",
       "771  NA       UA      1506   NA      EWR    JAC   NA      1874      8   55    \n",
       "772  NA       UA      1729   NA      EWR    DEN   NA      1605      7    5    \n",
       "773  NA       US      1831   NA      JFK    CLT   NA       541      8   25    \n",
       "774  NA       MQ      3301   N844MQ  LGA    RDU   NA       431     16   15    \n",
       "775  NA       UA       219   NA      EWR    ORD   NA       719      6    0    \n",
       "776  NA       UA       443   NA      JFK    LAX   NA      2475      8   30    \n",
       "    time_hour          \n",
       "1   2013-12-31 23:00:00\n",
       "2   2013-12-31 23:00:00\n",
       "3   2013-12-31 22:00:00\n",
       "4   2013-12-31 05:00:00\n",
       "5   2013-12-31 05:00:00\n",
       "6   2013-12-31 05:00:00\n",
       "7   2013-12-31 06:00:00\n",
       "8   2013-12-31 06:00:00\n",
       "9   2013-12-31 06:00:00\n",
       "10  2013-12-31 05:00:00\n",
       "11  2013-12-31 06:00:00\n",
       "12  2013-12-31 06:00:00\n",
       "13  2013-12-31 05:00:00\n",
       "14  2013-12-31 06:00:00\n",
       "15  2013-12-31 06:00:00\n",
       "16  2013-12-31 06:00:00\n",
       "17  2013-12-31 06:00:00\n",
       "18  2013-12-31 06:00:00\n",
       "19  2013-12-31 05:00:00\n",
       "20  2013-12-31 06:00:00\n",
       "21  2013-12-31 06:00:00\n",
       "22  2013-12-31 06:00:00\n",
       "23  2013-12-31 06:00:00\n",
       "24  2013-12-31 06:00:00\n",
       "25  2013-12-31 06:00:00\n",
       "26  2013-12-31 06:00:00\n",
       "27  2013-12-31 06:00:00\n",
       "28  2013-12-31 06:00:00\n",
       "29  2013-12-31 06:00:00\n",
       "30  2013-12-31 06:00:00\n",
       "⋮   ⋮                  \n",
       "747 2013-12-31 20:00:00\n",
       "748 2013-12-31 21:00:00\n",
       "749 2013-12-31 21:00:00\n",
       "750 2013-12-31 21:00:00\n",
       "751 2013-12-31 21:00:00\n",
       "752 2013-12-31 22:00:00\n",
       "753 2013-12-31 22:00:00\n",
       "754 2013-12-31 22:00:00\n",
       "755 2013-12-31 22:00:00\n",
       "756 2013-12-31 22:00:00\n",
       "757 2013-12-31 23:00:00\n",
       "758 2013-12-31 22:00:00\n",
       "759 2013-12-31 23:00:00\n",
       "760 2013-12-31 23:00:00\n",
       "761 2013-12-31 15:00:00\n",
       "762 2013-12-31 20:00:00\n",
       "763 2013-12-31 19:00:00\n",
       "764 2013-12-31 15:00:00\n",
       "765 2013-12-31 10:00:00\n",
       "766 2013-12-31 08:00:00\n",
       "767 2013-12-31 07:00:00\n",
       "768 2013-12-31 20:00:00\n",
       "769 2013-12-31 15:00:00\n",
       "770 2013-12-31 14:00:00\n",
       "771 2013-12-31 08:00:00\n",
       "772 2013-12-31 07:00:00\n",
       "773 2013-12-31 08:00:00\n",
       "774 2013-12-31 16:00:00\n",
       "775 2013-12-31 06:00:00\n",
       "776 2013-12-31 08:00:00"
      ]
     },
     "metadata": {},
     "output_type": "display_data"
    }
   ],
   "source": [
    "(dec31 <- filter(flights, month == 12 & day == 31))"
   ]
  },
  {
   "cell_type": "markdown",
   "metadata": {},
   "source": [
    "Let's filter down to all flights which were in the last quarter of the year (October through December). That is, we want flights whose `month` is 10, 11, or 12."
   ]
  },
  {
   "cell_type": "code",
   "execution_count": 4,
   "metadata": {},
   "outputs": [
    {
     "name": "stdout",
     "output_type": "stream",
     "text": [
      "\u001b[38;5;246m# A tibble: 84,292 x 19\u001b[39m\n",
      "    year month   day dep_time sched_dep_time dep_delay arr_time sched_arr_time\n",
      "   \u001b[3m\u001b[38;5;246m<int>\u001b[39m\u001b[23m \u001b[3m\u001b[38;5;246m<int>\u001b[39m\u001b[23m \u001b[3m\u001b[38;5;246m<int>\u001b[39m\u001b[23m    \u001b[3m\u001b[38;5;246m<int>\u001b[39m\u001b[23m          \u001b[3m\u001b[38;5;246m<int>\u001b[39m\u001b[23m     \u001b[3m\u001b[38;5;246m<dbl>\u001b[39m\u001b[23m    \u001b[3m\u001b[38;5;246m<int>\u001b[39m\u001b[23m          \u001b[3m\u001b[38;5;246m<int>\u001b[39m\u001b[23m\n",
      "\u001b[38;5;250m 1\u001b[39m  \u001b[4m2\u001b[24m013    10     1      447            500       -\u001b[31m13\u001b[39m      614            648\n",
      "\u001b[38;5;250m 2\u001b[39m  \u001b[4m2\u001b[24m013    10     1      522            517         5      735            757\n",
      "\u001b[38;5;250m 3\u001b[39m  \u001b[4m2\u001b[24m013    10     1      536            545        -\u001b[31m9\u001b[39m      809            855\n",
      "\u001b[38;5;250m 4\u001b[39m  \u001b[4m2\u001b[24m013    10     1      539            545        -\u001b[31m6\u001b[39m      801            827\n",
      "\u001b[38;5;250m 5\u001b[39m  \u001b[4m2\u001b[24m013    10     1      539            545        -\u001b[31m6\u001b[39m      917            933\n",
      "\u001b[38;5;250m 6\u001b[39m  \u001b[4m2\u001b[24m013    10     1      544            550        -\u001b[31m6\u001b[39m      912            932\n",
      "\u001b[38;5;250m 7\u001b[39m  \u001b[4m2\u001b[24m013    10     1      549            600       -\u001b[31m11\u001b[39m      653            716\n",
      "\u001b[38;5;250m 8\u001b[39m  \u001b[4m2\u001b[24m013    10     1      550            600       -\u001b[31m10\u001b[39m      648            700\n",
      "\u001b[38;5;250m 9\u001b[39m  \u001b[4m2\u001b[24m013    10     1      550            600       -\u001b[31m10\u001b[39m      649            659\n",
      "\u001b[38;5;250m10\u001b[39m  \u001b[4m2\u001b[24m013    10     1      551            600        -\u001b[31m9\u001b[39m      727            730\n",
      "\u001b[38;5;246m# … with 84,282 more rows, and 11 more variables: arr_delay \u001b[3m\u001b[38;5;246m<dbl>\u001b[38;5;246m\u001b[23m,\u001b[39m\n",
      "\u001b[38;5;246m#   carrier \u001b[3m\u001b[38;5;246m<chr>\u001b[38;5;246m\u001b[23m, flight \u001b[3m\u001b[38;5;246m<int>\u001b[38;5;246m\u001b[23m, tailnum \u001b[3m\u001b[38;5;246m<chr>\u001b[38;5;246m\u001b[23m, origin \u001b[3m\u001b[38;5;246m<chr>\u001b[38;5;246m\u001b[23m, dest \u001b[3m\u001b[38;5;246m<chr>\u001b[38;5;246m\u001b[23m,\u001b[39m\n",
      "\u001b[38;5;246m#   air_time \u001b[3m\u001b[38;5;246m<dbl>\u001b[38;5;246m\u001b[23m, distance \u001b[3m\u001b[38;5;246m<dbl>\u001b[38;5;246m\u001b[23m, hour \u001b[3m\u001b[38;5;246m<dbl>\u001b[38;5;246m\u001b[23m, minute \u001b[3m\u001b[38;5;246m<dbl>\u001b[38;5;246m\u001b[23m, time_hour \u001b[3m\u001b[38;5;246m<dttm>\u001b[38;5;246m\u001b[23m\u001b[39m\n"
     ]
    }
   ],
   "source": [
    "print(filter(flights, month %in% c(10, 11, 12)))"
   ]
  },
  {
   "cell_type": "markdown",
   "metadata": {},
   "source": [
    "We can save some typing by using the `%in%` operator as well as the `:` (colon) operator. The colon operator takes two integers and returns a vector of all the integers between them: `a:b = c(a,a+1,...,b-1,b)`."
   ]
  },
  {
   "cell_type": "code",
   "execution_count": 9,
   "metadata": {},
   "outputs": [
    {
     "data": {
      "text/html": [
       "<table>\n",
       "<caption>A tibble: 84292 × 19</caption>\n",
       "<thead>\n",
       "\t<tr><th scope=col>year</th><th scope=col>month</th><th scope=col>day</th><th scope=col>dep_time</th><th scope=col>sched_dep_time</th><th scope=col>dep_delay</th><th scope=col>arr_time</th><th scope=col>sched_arr_time</th><th scope=col>arr_delay</th><th scope=col>carrier</th><th scope=col>flight</th><th scope=col>tailnum</th><th scope=col>origin</th><th scope=col>dest</th><th scope=col>air_time</th><th scope=col>distance</th><th scope=col>hour</th><th scope=col>minute</th><th scope=col>time_hour</th></tr>\n",
       "\t<tr><th scope=col>&lt;int&gt;</th><th scope=col>&lt;int&gt;</th><th scope=col>&lt;int&gt;</th><th scope=col>&lt;int&gt;</th><th scope=col>&lt;int&gt;</th><th scope=col>&lt;dbl&gt;</th><th scope=col>&lt;int&gt;</th><th scope=col>&lt;int&gt;</th><th scope=col>&lt;dbl&gt;</th><th scope=col>&lt;chr&gt;</th><th scope=col>&lt;int&gt;</th><th scope=col>&lt;chr&gt;</th><th scope=col>&lt;chr&gt;</th><th scope=col>&lt;chr&gt;</th><th scope=col>&lt;dbl&gt;</th><th scope=col>&lt;dbl&gt;</th><th scope=col>&lt;dbl&gt;</th><th scope=col>&lt;dbl&gt;</th><th scope=col>&lt;dttm&gt;</th></tr>\n",
       "</thead>\n",
       "<tbody>\n",
       "\t<tr><td>2013</td><td>10</td><td>1</td><td>447</td><td>500</td><td>-13</td><td>614</td><td>648</td><td>-34</td><td>US</td><td>1877</td><td>N538UW</td><td>EWR</td><td>CLT</td><td> 69</td><td> 529</td><td>5</td><td> 0</td><td>2013-10-01 05:00:00</td></tr>\n",
       "\t<tr><td>2013</td><td>10</td><td>1</td><td>522</td><td>517</td><td>  5</td><td>735</td><td>757</td><td>-22</td><td>UA</td><td> 252</td><td>N556UA</td><td>EWR</td><td>IAH</td><td>174</td><td>1400</td><td>5</td><td>17</td><td>2013-10-01 05:00:00</td></tr>\n",
       "\t<tr><td>2013</td><td>10</td><td>1</td><td>536</td><td>545</td><td> -9</td><td>809</td><td>855</td><td>-46</td><td>AA</td><td>2243</td><td>N630AA</td><td>JFK</td><td>MIA</td><td>132</td><td>1089</td><td>5</td><td>45</td><td>2013-10-01 05:00:00</td></tr>\n",
       "\t<tr><td>2013</td><td>10</td><td>1</td><td>539</td><td>545</td><td> -6</td><td>801</td><td>827</td><td>-26</td><td>UA</td><td>1714</td><td>N37252</td><td>LGA</td><td>IAH</td><td>172</td><td>1416</td><td>5</td><td>45</td><td>2013-10-01 05:00:00</td></tr>\n",
       "\t<tr><td>2013</td><td>10</td><td>1</td><td>539</td><td>545</td><td> -6</td><td>917</td><td>933</td><td>-16</td><td>B6</td><td>1403</td><td>N789JB</td><td>JFK</td><td>SJU</td><td>186</td><td>1598</td><td>5</td><td>45</td><td>2013-10-01 05:00:00</td></tr>\n",
       "\t<tr><td>2013</td><td>10</td><td>1</td><td>544</td><td>550</td><td> -6</td><td>912</td><td>932</td><td>-20</td><td>B6</td><td> 939</td><td>N593JB</td><td>JFK</td><td>BQN</td><td>191</td><td>1576</td><td>5</td><td>50</td><td>2013-10-01 05:00:00</td></tr>\n",
       "\t<tr><td>2013</td><td>10</td><td>1</td><td>549</td><td>600</td><td>-11</td><td>653</td><td>716</td><td>-23</td><td>EV</td><td>5716</td><td>N830AS</td><td>JFK</td><td>IAD</td><td> 46</td><td> 228</td><td>6</td><td> 0</td><td>2013-10-01 06:00:00</td></tr>\n",
       "\t<tr><td>2013</td><td>10</td><td>1</td><td>550</td><td>600</td><td>-10</td><td>648</td><td>700</td><td>-12</td><td>US</td><td>1909</td><td>N949UW</td><td>LGA</td><td>PHL</td><td> 38</td><td>  96</td><td>6</td><td> 0</td><td>2013-10-01 06:00:00</td></tr>\n",
       "\t<tr><td>2013</td><td>10</td><td>1</td><td>550</td><td>600</td><td>-10</td><td>649</td><td>659</td><td>-10</td><td>US</td><td>2167</td><td>N749US</td><td>LGA</td><td>DCA</td><td> 39</td><td> 214</td><td>6</td><td> 0</td><td>2013-10-01 06:00:00</td></tr>\n",
       "\t<tr><td>2013</td><td>10</td><td>1</td><td>551</td><td>600</td><td> -9</td><td>727</td><td>730</td><td> -3</td><td>UA</td><td> 279</td><td>N415UA</td><td>EWR</td><td>ORD</td><td>117</td><td> 719</td><td>6</td><td> 0</td><td>2013-10-01 06:00:00</td></tr>\n",
       "\t<tr><td>2013</td><td>10</td><td>1</td><td>551</td><td>600</td><td> -9</td><td>710</td><td>721</td><td>-11</td><td>UA</td><td>1029</td><td>N27722</td><td>LGA</td><td>ORD</td><td>114</td><td> 733</td><td>6</td><td> 0</td><td>2013-10-01 06:00:00</td></tr>\n",
       "\t<tr><td>2013</td><td>10</td><td>1</td><td>551</td><td>600</td><td> -9</td><td>655</td><td>708</td><td>-13</td><td>B6</td><td>2180</td><td>N238JB</td><td>EWR</td><td>BOS</td><td> 40</td><td> 200</td><td>6</td><td> 0</td><td>2013-10-01 06:00:00</td></tr>\n",
       "\t<tr><td>2013</td><td>10</td><td>1</td><td>552</td><td>600</td><td> -8</td><td>834</td><td>905</td><td>-31</td><td>AA</td><td>1175</td><td>N3HVAA</td><td>LGA</td><td>MIA</td><td>140</td><td>1096</td><td>6</td><td> 0</td><td>2013-10-01 06:00:00</td></tr>\n",
       "\t<tr><td>2013</td><td>10</td><td>1</td><td>553</td><td>600</td><td> -7</td><td>829</td><td>856</td><td>-27</td><td>B6</td><td> 601</td><td>N760JB</td><td>JFK</td><td>FLL</td><td>135</td><td>1069</td><td>6</td><td> 0</td><td>2013-10-01 06:00:00</td></tr>\n",
       "\t<tr><td>2013</td><td>10</td><td>1</td><td>553</td><td>600</td><td> -7</td><td>811</td><td>829</td><td>-18</td><td>DL</td><td> 563</td><td>N961DL</td><td>LGA</td><td>ATL</td><td>105</td><td> 762</td><td>6</td><td> 0</td><td>2013-10-01 06:00:00</td></tr>\n",
       "\t<tr><td>2013</td><td>10</td><td>1</td><td>554</td><td>600</td><td> -6</td><td>757</td><td>843</td><td>-46</td><td>UA</td><td>1014</td><td>N37427</td><td>EWR</td><td>IAH</td><td>169</td><td>1400</td><td>6</td><td> 0</td><td>2013-10-01 06:00:00</td></tr>\n",
       "\t<tr><td>2013</td><td>10</td><td>1</td><td>554</td><td>600</td><td> -6</td><td>831</td><td>858</td><td>-27</td><td>B6</td><td> 371</td><td>N656JB</td><td>LGA</td><td>FLL</td><td>139</td><td>1076</td><td>6</td><td> 0</td><td>2013-10-01 06:00:00</td></tr>\n",
       "\t<tr><td>2013</td><td>10</td><td>1</td><td>555</td><td>600</td><td> -5</td><td>810</td><td>840</td><td>-30</td><td>B6</td><td>  27</td><td>N580JB</td><td>EWR</td><td>MCO</td><td>117</td><td> 937</td><td>6</td><td> 0</td><td>2013-10-01 06:00:00</td></tr>\n",
       "\t<tr><td>2013</td><td>10</td><td>1</td><td>556</td><td>600</td><td> -4</td><td>810</td><td>829</td><td>-19</td><td>EV</td><td>4137</td><td>N11539</td><td>EWR</td><td>ATL</td><td>102</td><td> 746</td><td>6</td><td> 0</td><td>2013-10-01 06:00:00</td></tr>\n",
       "\t<tr><td>2013</td><td>10</td><td>1</td><td>556</td><td>600</td><td> -4</td><td>737</td><td>758</td><td>-21</td><td>EV</td><td>5068</td><td>N135EV</td><td>EWR</td><td>DTW</td><td> 80</td><td> 488</td><td>6</td><td> 0</td><td>2013-10-01 06:00:00</td></tr>\n",
       "\t<tr><td>2013</td><td>10</td><td>1</td><td>557</td><td>600</td><td> -3</td><td>851</td><td>923</td><td>-32</td><td>UA</td><td> 303</td><td>N590UA</td><td>JFK</td><td>SFO</td><td>331</td><td>2586</td><td>6</td><td> 0</td><td>2013-10-01 06:00:00</td></tr>\n",
       "\t<tr><td>2013</td><td>10</td><td>1</td><td>558</td><td>600</td><td> -2</td><td>726</td><td>715</td><td> 11</td><td>MQ</td><td>3267</td><td>N520MQ</td><td>EWR</td><td>ORD</td><td>111</td><td> 719</td><td>6</td><td> 0</td><td>2013-10-01 06:00:00</td></tr>\n",
       "\t<tr><td>2013</td><td>10</td><td>1</td><td>558</td><td>600</td><td> -2</td><td>650</td><td>701</td><td>-11</td><td>US</td><td>2134</td><td>N762US</td><td>LGA</td><td>BOS</td><td> 33</td><td> 184</td><td>6</td><td> 0</td><td>2013-10-01 06:00:00</td></tr>\n",
       "\t<tr><td>2013</td><td>10</td><td>1</td><td>558</td><td>600</td><td> -2</td><td>757</td><td>815</td><td>-18</td><td>FL</td><td> 345</td><td>N338AT</td><td>LGA</td><td>ATL</td><td> 98</td><td> 762</td><td>6</td><td> 0</td><td>2013-10-01 06:00:00</td></tr>\n",
       "\t<tr><td>2013</td><td>10</td><td>1</td><td>558</td><td>600</td><td> -2</td><td>743</td><td>751</td><td> -8</td><td>DL</td><td> 731</td><td>N347NB</td><td>LGA</td><td>DTW</td><td> 79</td><td> 502</td><td>6</td><td> 0</td><td>2013-10-01 06:00:00</td></tr>\n",
       "\t<tr><td>2013</td><td>10</td><td>1</td><td>559</td><td>600</td><td> -1</td><td>831</td><td>851</td><td>-20</td><td>UA</td><td> 698</td><td>N827UA</td><td>EWR</td><td>TPA</td><td>128</td><td> 997</td><td>6</td><td> 0</td><td>2013-10-01 06:00:00</td></tr>\n",
       "\t<tr><td>2013</td><td>10</td><td>1</td><td>559</td><td>600</td><td> -1</td><td>719</td><td>730</td><td>-11</td><td>AA</td><td> 301</td><td>N466AA</td><td>LGA</td><td>ORD</td><td>115</td><td> 733</td><td>6</td><td> 0</td><td>2013-10-01 06:00:00</td></tr>\n",
       "\t<tr><td>2013</td><td>10</td><td>1</td><td>600</td><td>600</td><td>  0</td><td>706</td><td>717</td><td>-11</td><td>EV</td><td>5747</td><td>N877AS</td><td>LGA</td><td>IAD</td><td> 48</td><td> 229</td><td>6</td><td> 0</td><td>2013-10-01 06:00:00</td></tr>\n",
       "\t<tr><td>2013</td><td>10</td><td>1</td><td>603</td><td>610</td><td> -7</td><td>735</td><td>745</td><td>-10</td><td>WN</td><td>2609</td><td>N201LV</td><td>LGA</td><td>STL</td><td>122</td><td> 888</td><td>6</td><td>10</td><td>2013-10-01 06:00:00</td></tr>\n",
       "\t<tr><td>2013</td><td>10</td><td>1</td><td>604</td><td>610</td><td> -6</td><td>751</td><td>813</td><td>-22</td><td>DL</td><td>1919</td><td>N986DL</td><td>LGA</td><td>MSP</td><td>146</td><td>1020</td><td>6</td><td>10</td><td>2013-10-01 06:00:00</td></tr>\n",
       "\t<tr><td>⋮</td><td>⋮</td><td>⋮</td><td>⋮</td><td>⋮</td><td>⋮</td><td>⋮</td><td>⋮</td><td>⋮</td><td>⋮</td><td>⋮</td><td>⋮</td><td>⋮</td><td>⋮</td><td>⋮</td><td>⋮</td><td>⋮</td><td>⋮</td><td>⋮</td></tr>\n",
       "\t<tr><td>2013</td><td>12</td><td>31</td><td>2155</td><td>2039</td><td> 76</td><td> 253</td><td>2355</td><td> NA</td><td>B6</td><td>1205</td><td>N627JB</td><td>JFK</td><td>PDX</td><td> NA</td><td>2454</td><td>20</td><td>39</td><td>2013-12-31 20:00:00</td></tr>\n",
       "\t<tr><td>2013</td><td>12</td><td>31</td><td>2155</td><td>2150</td><td>  5</td><td> 110</td><td>  51</td><td> 19</td><td>B6</td><td>1901</td><td>N729JB</td><td>JFK</td><td>FLL</td><td>164</td><td>1069</td><td>21</td><td>50</td><td>2013-12-31 21:00:00</td></tr>\n",
       "\t<tr><td>2013</td><td>12</td><td>31</td><td>2159</td><td>2155</td><td>  4</td><td>  55</td><td>  46</td><td>  9</td><td>B6</td><td>2053</td><td>N593JB</td><td>JFK</td><td>PBI</td><td>155</td><td>1028</td><td>21</td><td>55</td><td>2013-12-31 21:00:00</td></tr>\n",
       "\t<tr><td>2013</td><td>12</td><td>31</td><td>2206</td><td>2110</td><td> 56</td><td>  44</td><td>2339</td><td> 65</td><td>B6</td><td> 775</td><td>N184JB</td><td>JFK</td><td>MSY</td><td>195</td><td>1182</td><td>21</td><td>10</td><td>2013-12-31 21:00:00</td></tr>\n",
       "\t<tr><td>2013</td><td>12</td><td>31</td><td>2211</td><td>2159</td><td> 12</td><td> 100</td><td>  45</td><td> 15</td><td>B6</td><td>1183</td><td>N715JB</td><td>JFK</td><td>MCO</td><td>148</td><td> 944</td><td>21</td><td>59</td><td>2013-12-31 21:00:00</td></tr>\n",
       "\t<tr><td>2013</td><td>12</td><td>31</td><td>2218</td><td>2219</td><td> -1</td><td> 315</td><td> 304</td><td> 11</td><td>B6</td><td>1203</td><td>N625JB</td><td>JFK</td><td>SJU</td><td>202</td><td>1598</td><td>22</td><td>19</td><td>2013-12-31 22:00:00</td></tr>\n",
       "\t<tr><td>2013</td><td>12</td><td>31</td><td>2235</td><td>2245</td><td>-10</td><td>2351</td><td>2355</td><td> -4</td><td>B6</td><td> 234</td><td>N355JB</td><td>JFK</td><td>BTV</td><td> 49</td><td> 266</td><td>22</td><td>45</td><td>2013-12-31 22:00:00</td></tr>\n",
       "\t<tr><td>2013</td><td>12</td><td>31</td><td>2245</td><td>2250</td><td> -5</td><td>2359</td><td>2356</td><td>  3</td><td>B6</td><td>1816</td><td>N318JB</td><td>JFK</td><td>SYR</td><td> 51</td><td> 209</td><td>22</td><td>50</td><td>2013-12-31 22:00:00</td></tr>\n",
       "\t<tr><td>2013</td><td>12</td><td>31</td><td>2310</td><td>2255</td><td> 15</td><td>   7</td><td>2356</td><td> 11</td><td>B6</td><td> 718</td><td>N279JB</td><td>JFK</td><td>BOS</td><td> 40</td><td> 187</td><td>22</td><td>55</td><td>2013-12-31 22:00:00</td></tr>\n",
       "\t<tr><td>2013</td><td>12</td><td>31</td><td>2321</td><td>2250</td><td> 31</td><td>  46</td><td>   8</td><td> 38</td><td>B6</td><td>2002</td><td>N179JB</td><td>JFK</td><td>BUF</td><td> 66</td><td> 301</td><td>22</td><td>50</td><td>2013-12-31 22:00:00</td></tr>\n",
       "\t<tr><td>2013</td><td>12</td><td>31</td><td>2328</td><td>2330</td><td> -2</td><td> 412</td><td> 409</td><td>  3</td><td>B6</td><td>1389</td><td>N651JB</td><td>EWR</td><td>SJU</td><td>198</td><td>1608</td><td>23</td><td>30</td><td>2013-12-31 23:00:00</td></tr>\n",
       "\t<tr><td>2013</td><td>12</td><td>31</td><td>2332</td><td>2245</td><td> 47</td><td>  58</td><td>   3</td><td> 55</td><td>B6</td><td> 486</td><td>N334JB</td><td>JFK</td><td>ROC</td><td> 60</td><td> 264</td><td>22</td><td>45</td><td>2013-12-31 22:00:00</td></tr>\n",
       "\t<tr><td>2013</td><td>12</td><td>31</td><td>2355</td><td>2359</td><td> -4</td><td> 430</td><td> 440</td><td>-10</td><td>B6</td><td>1503</td><td>N509JB</td><td>JFK</td><td>SJU</td><td>195</td><td>1598</td><td>23</td><td>59</td><td>2013-12-31 23:00:00</td></tr>\n",
       "\t<tr><td>2013</td><td>12</td><td>31</td><td>2356</td><td>2359</td><td> -3</td><td> 436</td><td> 445</td><td> -9</td><td>B6</td><td> 745</td><td>N665JB</td><td>JFK</td><td>PSE</td><td>200</td><td>1617</td><td>23</td><td>59</td><td>2013-12-31 23:00:00</td></tr>\n",
       "\t<tr><td>2013</td><td>12</td><td>31</td><td>  NA</td><td>1520</td><td> NA</td><td>  NA</td><td>1705</td><td> NA</td><td>AA</td><td> 341</td><td>N568AA</td><td>LGA</td><td>ORD</td><td> NA</td><td> 733</td><td>15</td><td>20</td><td>2013-12-31 15:00:00</td></tr>\n",
       "\t<tr><td>2013</td><td>12</td><td>31</td><td>  NA</td><td>2025</td><td> NA</td><td>  NA</td><td>2205</td><td> NA</td><td>AA</td><td> 371</td><td>N482AA</td><td>LGA</td><td>ORD</td><td> NA</td><td> 733</td><td>20</td><td>25</td><td>2013-12-31 20:00:00</td></tr>\n",
       "\t<tr><td>2013</td><td>12</td><td>31</td><td>  NA</td><td>1932</td><td> NA</td><td>  NA</td><td>2305</td><td> NA</td><td>B6</td><td> 161</td><td>N516JB</td><td>JFK</td><td>SMF</td><td> NA</td><td>2521</td><td>19</td><td>32</td><td>2013-12-31 19:00:00</td></tr>\n",
       "\t<tr><td>2013</td><td>12</td><td>31</td><td>  NA</td><td>1505</td><td> NA</td><td>  NA</td><td>1725</td><td> NA</td><td>EV</td><td>4181</td><td>N24103</td><td>EWR</td><td>MCI</td><td> NA</td><td>1092</td><td>15</td><td> 5</td><td>2013-12-31 15:00:00</td></tr>\n",
       "\t<tr><td>2013</td><td>12</td><td>31</td><td>  NA</td><td>1000</td><td> NA</td><td>  NA</td><td>1252</td><td> NA</td><td>UA</td><td>1124</td><td>NA    </td><td>EWR</td><td>EGE</td><td> NA</td><td>1725</td><td>10</td><td> 0</td><td>2013-12-31 10:00:00</td></tr>\n",
       "\t<tr><td>2013</td><td>12</td><td>31</td><td>  NA</td><td> 840</td><td> NA</td><td>  NA</td><td>1205</td><td> NA</td><td>UA</td><td>1151</td><td>NA    </td><td>EWR</td><td>SEA</td><td> NA</td><td>2402</td><td> 8</td><td>40</td><td>2013-12-31 08:00:00</td></tr>\n",
       "\t<tr><td>2013</td><td>12</td><td>31</td><td>  NA</td><td> 754</td><td> NA</td><td>  NA</td><td>1118</td><td> NA</td><td>UA</td><td>1455</td><td>NA    </td><td>EWR</td><td>LAX</td><td> NA</td><td>2454</td><td> 7</td><td>54</td><td>2013-12-31 07:00:00</td></tr>\n",
       "\t<tr><td>2013</td><td>12</td><td>31</td><td>  NA</td><td>2000</td><td> NA</td><td>  NA</td><td>2146</td><td> NA</td><td>UA</td><td>1482</td><td>NA    </td><td>EWR</td><td>ORD</td><td> NA</td><td> 719</td><td>20</td><td> 0</td><td>2013-12-31 20:00:00</td></tr>\n",
       "\t<tr><td>2013</td><td>12</td><td>31</td><td>  NA</td><td>1500</td><td> NA</td><td>  NA</td><td>1817</td><td> NA</td><td>UA</td><td>1483</td><td>NA    </td><td>EWR</td><td>AUS</td><td> NA</td><td>1504</td><td>15</td><td> 0</td><td>2013-12-31 15:00:00</td></tr>\n",
       "\t<tr><td>2013</td><td>12</td><td>31</td><td>  NA</td><td>1430</td><td> NA</td><td>  NA</td><td>1750</td><td> NA</td><td>UA</td><td>1493</td><td>NA    </td><td>EWR</td><td>LAX</td><td> NA</td><td>2454</td><td>14</td><td>30</td><td>2013-12-31 14:00:00</td></tr>\n",
       "\t<tr><td>2013</td><td>12</td><td>31</td><td>  NA</td><td> 855</td><td> NA</td><td>  NA</td><td>1142</td><td> NA</td><td>UA</td><td>1506</td><td>NA    </td><td>EWR</td><td>JAC</td><td> NA</td><td>1874</td><td> 8</td><td>55</td><td>2013-12-31 08:00:00</td></tr>\n",
       "\t<tr><td>2013</td><td>12</td><td>31</td><td>  NA</td><td> 705</td><td> NA</td><td>  NA</td><td> 931</td><td> NA</td><td>UA</td><td>1729</td><td>NA    </td><td>EWR</td><td>DEN</td><td> NA</td><td>1605</td><td> 7</td><td> 5</td><td>2013-12-31 07:00:00</td></tr>\n",
       "\t<tr><td>2013</td><td>12</td><td>31</td><td>  NA</td><td> 825</td><td> NA</td><td>  NA</td><td>1029</td><td> NA</td><td>US</td><td>1831</td><td>NA    </td><td>JFK</td><td>CLT</td><td> NA</td><td> 541</td><td> 8</td><td>25</td><td>2013-12-31 08:00:00</td></tr>\n",
       "\t<tr><td>2013</td><td>12</td><td>31</td><td>  NA</td><td>1615</td><td> NA</td><td>  NA</td><td>1800</td><td> NA</td><td>MQ</td><td>3301</td><td>N844MQ</td><td>LGA</td><td>RDU</td><td> NA</td><td> 431</td><td>16</td><td>15</td><td>2013-12-31 16:00:00</td></tr>\n",
       "\t<tr><td>2013</td><td>12</td><td>31</td><td>  NA</td><td> 600</td><td> NA</td><td>  NA</td><td> 735</td><td> NA</td><td>UA</td><td> 219</td><td>NA    </td><td>EWR</td><td>ORD</td><td> NA</td><td> 719</td><td> 6</td><td> 0</td><td>2013-12-31 06:00:00</td></tr>\n",
       "\t<tr><td>2013</td><td>12</td><td>31</td><td>  NA</td><td> 830</td><td> NA</td><td>  NA</td><td>1154</td><td> NA</td><td>UA</td><td> 443</td><td>NA    </td><td>JFK</td><td>LAX</td><td> NA</td><td>2475</td><td> 8</td><td>30</td><td>2013-12-31 08:00:00</td></tr>\n",
       "</tbody>\n",
       "</table>\n"
      ],
      "text/latex": [
       "A tibble: 84292 × 19\n",
       "\\begin{tabular}{lllllllllllllllllll}\n",
       " year & month & day & dep\\_time & sched\\_dep\\_time & dep\\_delay & arr\\_time & sched\\_arr\\_time & arr\\_delay & carrier & flight & tailnum & origin & dest & air\\_time & distance & hour & minute & time\\_hour\\\\\n",
       " <int> & <int> & <int> & <int> & <int> & <dbl> & <int> & <int> & <dbl> & <chr> & <int> & <chr> & <chr> & <chr> & <dbl> & <dbl> & <dbl> & <dbl> & <dttm>\\\\\n",
       "\\hline\n",
       "\t 2013 & 10 & 1 & 447 & 500 & -13 & 614 & 648 & -34 & US & 1877 & N538UW & EWR & CLT &  69 &  529 & 5 &  0 & 2013-10-01 05:00:00\\\\\n",
       "\t 2013 & 10 & 1 & 522 & 517 &   5 & 735 & 757 & -22 & UA &  252 & N556UA & EWR & IAH & 174 & 1400 & 5 & 17 & 2013-10-01 05:00:00\\\\\n",
       "\t 2013 & 10 & 1 & 536 & 545 &  -9 & 809 & 855 & -46 & AA & 2243 & N630AA & JFK & MIA & 132 & 1089 & 5 & 45 & 2013-10-01 05:00:00\\\\\n",
       "\t 2013 & 10 & 1 & 539 & 545 &  -6 & 801 & 827 & -26 & UA & 1714 & N37252 & LGA & IAH & 172 & 1416 & 5 & 45 & 2013-10-01 05:00:00\\\\\n",
       "\t 2013 & 10 & 1 & 539 & 545 &  -6 & 917 & 933 & -16 & B6 & 1403 & N789JB & JFK & SJU & 186 & 1598 & 5 & 45 & 2013-10-01 05:00:00\\\\\n",
       "\t 2013 & 10 & 1 & 544 & 550 &  -6 & 912 & 932 & -20 & B6 &  939 & N593JB & JFK & BQN & 191 & 1576 & 5 & 50 & 2013-10-01 05:00:00\\\\\n",
       "\t 2013 & 10 & 1 & 549 & 600 & -11 & 653 & 716 & -23 & EV & 5716 & N830AS & JFK & IAD &  46 &  228 & 6 &  0 & 2013-10-01 06:00:00\\\\\n",
       "\t 2013 & 10 & 1 & 550 & 600 & -10 & 648 & 700 & -12 & US & 1909 & N949UW & LGA & PHL &  38 &   96 & 6 &  0 & 2013-10-01 06:00:00\\\\\n",
       "\t 2013 & 10 & 1 & 550 & 600 & -10 & 649 & 659 & -10 & US & 2167 & N749US & LGA & DCA &  39 &  214 & 6 &  0 & 2013-10-01 06:00:00\\\\\n",
       "\t 2013 & 10 & 1 & 551 & 600 &  -9 & 727 & 730 &  -3 & UA &  279 & N415UA & EWR & ORD & 117 &  719 & 6 &  0 & 2013-10-01 06:00:00\\\\\n",
       "\t 2013 & 10 & 1 & 551 & 600 &  -9 & 710 & 721 & -11 & UA & 1029 & N27722 & LGA & ORD & 114 &  733 & 6 &  0 & 2013-10-01 06:00:00\\\\\n",
       "\t 2013 & 10 & 1 & 551 & 600 &  -9 & 655 & 708 & -13 & B6 & 2180 & N238JB & EWR & BOS &  40 &  200 & 6 &  0 & 2013-10-01 06:00:00\\\\\n",
       "\t 2013 & 10 & 1 & 552 & 600 &  -8 & 834 & 905 & -31 & AA & 1175 & N3HVAA & LGA & MIA & 140 & 1096 & 6 &  0 & 2013-10-01 06:00:00\\\\\n",
       "\t 2013 & 10 & 1 & 553 & 600 &  -7 & 829 & 856 & -27 & B6 &  601 & N760JB & JFK & FLL & 135 & 1069 & 6 &  0 & 2013-10-01 06:00:00\\\\\n",
       "\t 2013 & 10 & 1 & 553 & 600 &  -7 & 811 & 829 & -18 & DL &  563 & N961DL & LGA & ATL & 105 &  762 & 6 &  0 & 2013-10-01 06:00:00\\\\\n",
       "\t 2013 & 10 & 1 & 554 & 600 &  -6 & 757 & 843 & -46 & UA & 1014 & N37427 & EWR & IAH & 169 & 1400 & 6 &  0 & 2013-10-01 06:00:00\\\\\n",
       "\t 2013 & 10 & 1 & 554 & 600 &  -6 & 831 & 858 & -27 & B6 &  371 & N656JB & LGA & FLL & 139 & 1076 & 6 &  0 & 2013-10-01 06:00:00\\\\\n",
       "\t 2013 & 10 & 1 & 555 & 600 &  -5 & 810 & 840 & -30 & B6 &   27 & N580JB & EWR & MCO & 117 &  937 & 6 &  0 & 2013-10-01 06:00:00\\\\\n",
       "\t 2013 & 10 & 1 & 556 & 600 &  -4 & 810 & 829 & -19 & EV & 4137 & N11539 & EWR & ATL & 102 &  746 & 6 &  0 & 2013-10-01 06:00:00\\\\\n",
       "\t 2013 & 10 & 1 & 556 & 600 &  -4 & 737 & 758 & -21 & EV & 5068 & N135EV & EWR & DTW &  80 &  488 & 6 &  0 & 2013-10-01 06:00:00\\\\\n",
       "\t 2013 & 10 & 1 & 557 & 600 &  -3 & 851 & 923 & -32 & UA &  303 & N590UA & JFK & SFO & 331 & 2586 & 6 &  0 & 2013-10-01 06:00:00\\\\\n",
       "\t 2013 & 10 & 1 & 558 & 600 &  -2 & 726 & 715 &  11 & MQ & 3267 & N520MQ & EWR & ORD & 111 &  719 & 6 &  0 & 2013-10-01 06:00:00\\\\\n",
       "\t 2013 & 10 & 1 & 558 & 600 &  -2 & 650 & 701 & -11 & US & 2134 & N762US & LGA & BOS &  33 &  184 & 6 &  0 & 2013-10-01 06:00:00\\\\\n",
       "\t 2013 & 10 & 1 & 558 & 600 &  -2 & 757 & 815 & -18 & FL &  345 & N338AT & LGA & ATL &  98 &  762 & 6 &  0 & 2013-10-01 06:00:00\\\\\n",
       "\t 2013 & 10 & 1 & 558 & 600 &  -2 & 743 & 751 &  -8 & DL &  731 & N347NB & LGA & DTW &  79 &  502 & 6 &  0 & 2013-10-01 06:00:00\\\\\n",
       "\t 2013 & 10 & 1 & 559 & 600 &  -1 & 831 & 851 & -20 & UA &  698 & N827UA & EWR & TPA & 128 &  997 & 6 &  0 & 2013-10-01 06:00:00\\\\\n",
       "\t 2013 & 10 & 1 & 559 & 600 &  -1 & 719 & 730 & -11 & AA &  301 & N466AA & LGA & ORD & 115 &  733 & 6 &  0 & 2013-10-01 06:00:00\\\\\n",
       "\t 2013 & 10 & 1 & 600 & 600 &   0 & 706 & 717 & -11 & EV & 5747 & N877AS & LGA & IAD &  48 &  229 & 6 &  0 & 2013-10-01 06:00:00\\\\\n",
       "\t 2013 & 10 & 1 & 603 & 610 &  -7 & 735 & 745 & -10 & WN & 2609 & N201LV & LGA & STL & 122 &  888 & 6 & 10 & 2013-10-01 06:00:00\\\\\n",
       "\t 2013 & 10 & 1 & 604 & 610 &  -6 & 751 & 813 & -22 & DL & 1919 & N986DL & LGA & MSP & 146 & 1020 & 6 & 10 & 2013-10-01 06:00:00\\\\\n",
       "\t ⋮ & ⋮ & ⋮ & ⋮ & ⋮ & ⋮ & ⋮ & ⋮ & ⋮ & ⋮ & ⋮ & ⋮ & ⋮ & ⋮ & ⋮ & ⋮ & ⋮ & ⋮ & ⋮\\\\\n",
       "\t 2013 & 12 & 31 & 2155 & 2039 &  76 &  253 & 2355 &  NA & B6 & 1205 & N627JB & JFK & PDX &  NA & 2454 & 20 & 39 & 2013-12-31 20:00:00\\\\\n",
       "\t 2013 & 12 & 31 & 2155 & 2150 &   5 &  110 &   51 &  19 & B6 & 1901 & N729JB & JFK & FLL & 164 & 1069 & 21 & 50 & 2013-12-31 21:00:00\\\\\n",
       "\t 2013 & 12 & 31 & 2159 & 2155 &   4 &   55 &   46 &   9 & B6 & 2053 & N593JB & JFK & PBI & 155 & 1028 & 21 & 55 & 2013-12-31 21:00:00\\\\\n",
       "\t 2013 & 12 & 31 & 2206 & 2110 &  56 &   44 & 2339 &  65 & B6 &  775 & N184JB & JFK & MSY & 195 & 1182 & 21 & 10 & 2013-12-31 21:00:00\\\\\n",
       "\t 2013 & 12 & 31 & 2211 & 2159 &  12 &  100 &   45 &  15 & B6 & 1183 & N715JB & JFK & MCO & 148 &  944 & 21 & 59 & 2013-12-31 21:00:00\\\\\n",
       "\t 2013 & 12 & 31 & 2218 & 2219 &  -1 &  315 &  304 &  11 & B6 & 1203 & N625JB & JFK & SJU & 202 & 1598 & 22 & 19 & 2013-12-31 22:00:00\\\\\n",
       "\t 2013 & 12 & 31 & 2235 & 2245 & -10 & 2351 & 2355 &  -4 & B6 &  234 & N355JB & JFK & BTV &  49 &  266 & 22 & 45 & 2013-12-31 22:00:00\\\\\n",
       "\t 2013 & 12 & 31 & 2245 & 2250 &  -5 & 2359 & 2356 &   3 & B6 & 1816 & N318JB & JFK & SYR &  51 &  209 & 22 & 50 & 2013-12-31 22:00:00\\\\\n",
       "\t 2013 & 12 & 31 & 2310 & 2255 &  15 &    7 & 2356 &  11 & B6 &  718 & N279JB & JFK & BOS &  40 &  187 & 22 & 55 & 2013-12-31 22:00:00\\\\\n",
       "\t 2013 & 12 & 31 & 2321 & 2250 &  31 &   46 &    8 &  38 & B6 & 2002 & N179JB & JFK & BUF &  66 &  301 & 22 & 50 & 2013-12-31 22:00:00\\\\\n",
       "\t 2013 & 12 & 31 & 2328 & 2330 &  -2 &  412 &  409 &   3 & B6 & 1389 & N651JB & EWR & SJU & 198 & 1608 & 23 & 30 & 2013-12-31 23:00:00\\\\\n",
       "\t 2013 & 12 & 31 & 2332 & 2245 &  47 &   58 &    3 &  55 & B6 &  486 & N334JB & JFK & ROC &  60 &  264 & 22 & 45 & 2013-12-31 22:00:00\\\\\n",
       "\t 2013 & 12 & 31 & 2355 & 2359 &  -4 &  430 &  440 & -10 & B6 & 1503 & N509JB & JFK & SJU & 195 & 1598 & 23 & 59 & 2013-12-31 23:00:00\\\\\n",
       "\t 2013 & 12 & 31 & 2356 & 2359 &  -3 &  436 &  445 &  -9 & B6 &  745 & N665JB & JFK & PSE & 200 & 1617 & 23 & 59 & 2013-12-31 23:00:00\\\\\n",
       "\t 2013 & 12 & 31 &   NA & 1520 &  NA &   NA & 1705 &  NA & AA &  341 & N568AA & LGA & ORD &  NA &  733 & 15 & 20 & 2013-12-31 15:00:00\\\\\n",
       "\t 2013 & 12 & 31 &   NA & 2025 &  NA &   NA & 2205 &  NA & AA &  371 & N482AA & LGA & ORD &  NA &  733 & 20 & 25 & 2013-12-31 20:00:00\\\\\n",
       "\t 2013 & 12 & 31 &   NA & 1932 &  NA &   NA & 2305 &  NA & B6 &  161 & N516JB & JFK & SMF &  NA & 2521 & 19 & 32 & 2013-12-31 19:00:00\\\\\n",
       "\t 2013 & 12 & 31 &   NA & 1505 &  NA &   NA & 1725 &  NA & EV & 4181 & N24103 & EWR & MCI &  NA & 1092 & 15 &  5 & 2013-12-31 15:00:00\\\\\n",
       "\t 2013 & 12 & 31 &   NA & 1000 &  NA &   NA & 1252 &  NA & UA & 1124 & NA     & EWR & EGE &  NA & 1725 & 10 &  0 & 2013-12-31 10:00:00\\\\\n",
       "\t 2013 & 12 & 31 &   NA &  840 &  NA &   NA & 1205 &  NA & UA & 1151 & NA     & EWR & SEA &  NA & 2402 &  8 & 40 & 2013-12-31 08:00:00\\\\\n",
       "\t 2013 & 12 & 31 &   NA &  754 &  NA &   NA & 1118 &  NA & UA & 1455 & NA     & EWR & LAX &  NA & 2454 &  7 & 54 & 2013-12-31 07:00:00\\\\\n",
       "\t 2013 & 12 & 31 &   NA & 2000 &  NA &   NA & 2146 &  NA & UA & 1482 & NA     & EWR & ORD &  NA &  719 & 20 &  0 & 2013-12-31 20:00:00\\\\\n",
       "\t 2013 & 12 & 31 &   NA & 1500 &  NA &   NA & 1817 &  NA & UA & 1483 & NA     & EWR & AUS &  NA & 1504 & 15 &  0 & 2013-12-31 15:00:00\\\\\n",
       "\t 2013 & 12 & 31 &   NA & 1430 &  NA &   NA & 1750 &  NA & UA & 1493 & NA     & EWR & LAX &  NA & 2454 & 14 & 30 & 2013-12-31 14:00:00\\\\\n",
       "\t 2013 & 12 & 31 &   NA &  855 &  NA &   NA & 1142 &  NA & UA & 1506 & NA     & EWR & JAC &  NA & 1874 &  8 & 55 & 2013-12-31 08:00:00\\\\\n",
       "\t 2013 & 12 & 31 &   NA &  705 &  NA &   NA &  931 &  NA & UA & 1729 & NA     & EWR & DEN &  NA & 1605 &  7 &  5 & 2013-12-31 07:00:00\\\\\n",
       "\t 2013 & 12 & 31 &   NA &  825 &  NA &   NA & 1029 &  NA & US & 1831 & NA     & JFK & CLT &  NA &  541 &  8 & 25 & 2013-12-31 08:00:00\\\\\n",
       "\t 2013 & 12 & 31 &   NA & 1615 &  NA &   NA & 1800 &  NA & MQ & 3301 & N844MQ & LGA & RDU &  NA &  431 & 16 & 15 & 2013-12-31 16:00:00\\\\\n",
       "\t 2013 & 12 & 31 &   NA &  600 &  NA &   NA &  735 &  NA & UA &  219 & NA     & EWR & ORD &  NA &  719 &  6 &  0 & 2013-12-31 06:00:00\\\\\n",
       "\t 2013 & 12 & 31 &   NA &  830 &  NA &   NA & 1154 &  NA & UA &  443 & NA     & JFK & LAX &  NA & 2475 &  8 & 30 & 2013-12-31 08:00:00\\\\\n",
       "\\end{tabular}\n"
      ],
      "text/markdown": [
       "\n",
       "A tibble: 84292 × 19\n",
       "\n",
       "| year &lt;int&gt; | month &lt;int&gt; | day &lt;int&gt; | dep_time &lt;int&gt; | sched_dep_time &lt;int&gt; | dep_delay &lt;dbl&gt; | arr_time &lt;int&gt; | sched_arr_time &lt;int&gt; | arr_delay &lt;dbl&gt; | carrier &lt;chr&gt; | flight &lt;int&gt; | tailnum &lt;chr&gt; | origin &lt;chr&gt; | dest &lt;chr&gt; | air_time &lt;dbl&gt; | distance &lt;dbl&gt; | hour &lt;dbl&gt; | minute &lt;dbl&gt; | time_hour &lt;dttm&gt; |\n",
       "|---|---|---|---|---|---|---|---|---|---|---|---|---|---|---|---|---|---|---|\n",
       "| 2013 | 10 | 1 | 447 | 500 | -13 | 614 | 648 | -34 | US | 1877 | N538UW | EWR | CLT |  69 |  529 | 5 |  0 | 2013-10-01 05:00:00 |\n",
       "| 2013 | 10 | 1 | 522 | 517 |   5 | 735 | 757 | -22 | UA |  252 | N556UA | EWR | IAH | 174 | 1400 | 5 | 17 | 2013-10-01 05:00:00 |\n",
       "| 2013 | 10 | 1 | 536 | 545 |  -9 | 809 | 855 | -46 | AA | 2243 | N630AA | JFK | MIA | 132 | 1089 | 5 | 45 | 2013-10-01 05:00:00 |\n",
       "| 2013 | 10 | 1 | 539 | 545 |  -6 | 801 | 827 | -26 | UA | 1714 | N37252 | LGA | IAH | 172 | 1416 | 5 | 45 | 2013-10-01 05:00:00 |\n",
       "| 2013 | 10 | 1 | 539 | 545 |  -6 | 917 | 933 | -16 | B6 | 1403 | N789JB | JFK | SJU | 186 | 1598 | 5 | 45 | 2013-10-01 05:00:00 |\n",
       "| 2013 | 10 | 1 | 544 | 550 |  -6 | 912 | 932 | -20 | B6 |  939 | N593JB | JFK | BQN | 191 | 1576 | 5 | 50 | 2013-10-01 05:00:00 |\n",
       "| 2013 | 10 | 1 | 549 | 600 | -11 | 653 | 716 | -23 | EV | 5716 | N830AS | JFK | IAD |  46 |  228 | 6 |  0 | 2013-10-01 06:00:00 |\n",
       "| 2013 | 10 | 1 | 550 | 600 | -10 | 648 | 700 | -12 | US | 1909 | N949UW | LGA | PHL |  38 |   96 | 6 |  0 | 2013-10-01 06:00:00 |\n",
       "| 2013 | 10 | 1 | 550 | 600 | -10 | 649 | 659 | -10 | US | 2167 | N749US | LGA | DCA |  39 |  214 | 6 |  0 | 2013-10-01 06:00:00 |\n",
       "| 2013 | 10 | 1 | 551 | 600 |  -9 | 727 | 730 |  -3 | UA |  279 | N415UA | EWR | ORD | 117 |  719 | 6 |  0 | 2013-10-01 06:00:00 |\n",
       "| 2013 | 10 | 1 | 551 | 600 |  -9 | 710 | 721 | -11 | UA | 1029 | N27722 | LGA | ORD | 114 |  733 | 6 |  0 | 2013-10-01 06:00:00 |\n",
       "| 2013 | 10 | 1 | 551 | 600 |  -9 | 655 | 708 | -13 | B6 | 2180 | N238JB | EWR | BOS |  40 |  200 | 6 |  0 | 2013-10-01 06:00:00 |\n",
       "| 2013 | 10 | 1 | 552 | 600 |  -8 | 834 | 905 | -31 | AA | 1175 | N3HVAA | LGA | MIA | 140 | 1096 | 6 |  0 | 2013-10-01 06:00:00 |\n",
       "| 2013 | 10 | 1 | 553 | 600 |  -7 | 829 | 856 | -27 | B6 |  601 | N760JB | JFK | FLL | 135 | 1069 | 6 |  0 | 2013-10-01 06:00:00 |\n",
       "| 2013 | 10 | 1 | 553 | 600 |  -7 | 811 | 829 | -18 | DL |  563 | N961DL | LGA | ATL | 105 |  762 | 6 |  0 | 2013-10-01 06:00:00 |\n",
       "| 2013 | 10 | 1 | 554 | 600 |  -6 | 757 | 843 | -46 | UA | 1014 | N37427 | EWR | IAH | 169 | 1400 | 6 |  0 | 2013-10-01 06:00:00 |\n",
       "| 2013 | 10 | 1 | 554 | 600 |  -6 | 831 | 858 | -27 | B6 |  371 | N656JB | LGA | FLL | 139 | 1076 | 6 |  0 | 2013-10-01 06:00:00 |\n",
       "| 2013 | 10 | 1 | 555 | 600 |  -5 | 810 | 840 | -30 | B6 |   27 | N580JB | EWR | MCO | 117 |  937 | 6 |  0 | 2013-10-01 06:00:00 |\n",
       "| 2013 | 10 | 1 | 556 | 600 |  -4 | 810 | 829 | -19 | EV | 4137 | N11539 | EWR | ATL | 102 |  746 | 6 |  0 | 2013-10-01 06:00:00 |\n",
       "| 2013 | 10 | 1 | 556 | 600 |  -4 | 737 | 758 | -21 | EV | 5068 | N135EV | EWR | DTW |  80 |  488 | 6 |  0 | 2013-10-01 06:00:00 |\n",
       "| 2013 | 10 | 1 | 557 | 600 |  -3 | 851 | 923 | -32 | UA |  303 | N590UA | JFK | SFO | 331 | 2586 | 6 |  0 | 2013-10-01 06:00:00 |\n",
       "| 2013 | 10 | 1 | 558 | 600 |  -2 | 726 | 715 |  11 | MQ | 3267 | N520MQ | EWR | ORD | 111 |  719 | 6 |  0 | 2013-10-01 06:00:00 |\n",
       "| 2013 | 10 | 1 | 558 | 600 |  -2 | 650 | 701 | -11 | US | 2134 | N762US | LGA | BOS |  33 |  184 | 6 |  0 | 2013-10-01 06:00:00 |\n",
       "| 2013 | 10 | 1 | 558 | 600 |  -2 | 757 | 815 | -18 | FL |  345 | N338AT | LGA | ATL |  98 |  762 | 6 |  0 | 2013-10-01 06:00:00 |\n",
       "| 2013 | 10 | 1 | 558 | 600 |  -2 | 743 | 751 |  -8 | DL |  731 | N347NB | LGA | DTW |  79 |  502 | 6 |  0 | 2013-10-01 06:00:00 |\n",
       "| 2013 | 10 | 1 | 559 | 600 |  -1 | 831 | 851 | -20 | UA |  698 | N827UA | EWR | TPA | 128 |  997 | 6 |  0 | 2013-10-01 06:00:00 |\n",
       "| 2013 | 10 | 1 | 559 | 600 |  -1 | 719 | 730 | -11 | AA |  301 | N466AA | LGA | ORD | 115 |  733 | 6 |  0 | 2013-10-01 06:00:00 |\n",
       "| 2013 | 10 | 1 | 600 | 600 |   0 | 706 | 717 | -11 | EV | 5747 | N877AS | LGA | IAD |  48 |  229 | 6 |  0 | 2013-10-01 06:00:00 |\n",
       "| 2013 | 10 | 1 | 603 | 610 |  -7 | 735 | 745 | -10 | WN | 2609 | N201LV | LGA | STL | 122 |  888 | 6 | 10 | 2013-10-01 06:00:00 |\n",
       "| 2013 | 10 | 1 | 604 | 610 |  -6 | 751 | 813 | -22 | DL | 1919 | N986DL | LGA | MSP | 146 | 1020 | 6 | 10 | 2013-10-01 06:00:00 |\n",
       "| ⋮ | ⋮ | ⋮ | ⋮ | ⋮ | ⋮ | ⋮ | ⋮ | ⋮ | ⋮ | ⋮ | ⋮ | ⋮ | ⋮ | ⋮ | ⋮ | ⋮ | ⋮ | ⋮ |\n",
       "| 2013 | 12 | 31 | 2155 | 2039 |  76 |  253 | 2355 |  NA | B6 | 1205 | N627JB | JFK | PDX |  NA | 2454 | 20 | 39 | 2013-12-31 20:00:00 |\n",
       "| 2013 | 12 | 31 | 2155 | 2150 |   5 |  110 |   51 |  19 | B6 | 1901 | N729JB | JFK | FLL | 164 | 1069 | 21 | 50 | 2013-12-31 21:00:00 |\n",
       "| 2013 | 12 | 31 | 2159 | 2155 |   4 |   55 |   46 |   9 | B6 | 2053 | N593JB | JFK | PBI | 155 | 1028 | 21 | 55 | 2013-12-31 21:00:00 |\n",
       "| 2013 | 12 | 31 | 2206 | 2110 |  56 |   44 | 2339 |  65 | B6 |  775 | N184JB | JFK | MSY | 195 | 1182 | 21 | 10 | 2013-12-31 21:00:00 |\n",
       "| 2013 | 12 | 31 | 2211 | 2159 |  12 |  100 |   45 |  15 | B6 | 1183 | N715JB | JFK | MCO | 148 |  944 | 21 | 59 | 2013-12-31 21:00:00 |\n",
       "| 2013 | 12 | 31 | 2218 | 2219 |  -1 |  315 |  304 |  11 | B6 | 1203 | N625JB | JFK | SJU | 202 | 1598 | 22 | 19 | 2013-12-31 22:00:00 |\n",
       "| 2013 | 12 | 31 | 2235 | 2245 | -10 | 2351 | 2355 |  -4 | B6 |  234 | N355JB | JFK | BTV |  49 |  266 | 22 | 45 | 2013-12-31 22:00:00 |\n",
       "| 2013 | 12 | 31 | 2245 | 2250 |  -5 | 2359 | 2356 |   3 | B6 | 1816 | N318JB | JFK | SYR |  51 |  209 | 22 | 50 | 2013-12-31 22:00:00 |\n",
       "| 2013 | 12 | 31 | 2310 | 2255 |  15 |    7 | 2356 |  11 | B6 |  718 | N279JB | JFK | BOS |  40 |  187 | 22 | 55 | 2013-12-31 22:00:00 |\n",
       "| 2013 | 12 | 31 | 2321 | 2250 |  31 |   46 |    8 |  38 | B6 | 2002 | N179JB | JFK | BUF |  66 |  301 | 22 | 50 | 2013-12-31 22:00:00 |\n",
       "| 2013 | 12 | 31 | 2328 | 2330 |  -2 |  412 |  409 |   3 | B6 | 1389 | N651JB | EWR | SJU | 198 | 1608 | 23 | 30 | 2013-12-31 23:00:00 |\n",
       "| 2013 | 12 | 31 | 2332 | 2245 |  47 |   58 |    3 |  55 | B6 |  486 | N334JB | JFK | ROC |  60 |  264 | 22 | 45 | 2013-12-31 22:00:00 |\n",
       "| 2013 | 12 | 31 | 2355 | 2359 |  -4 |  430 |  440 | -10 | B6 | 1503 | N509JB | JFK | SJU | 195 | 1598 | 23 | 59 | 2013-12-31 23:00:00 |\n",
       "| 2013 | 12 | 31 | 2356 | 2359 |  -3 |  436 |  445 |  -9 | B6 |  745 | N665JB | JFK | PSE | 200 | 1617 | 23 | 59 | 2013-12-31 23:00:00 |\n",
       "| 2013 | 12 | 31 |   NA | 1520 |  NA |   NA | 1705 |  NA | AA |  341 | N568AA | LGA | ORD |  NA |  733 | 15 | 20 | 2013-12-31 15:00:00 |\n",
       "| 2013 | 12 | 31 |   NA | 2025 |  NA |   NA | 2205 |  NA | AA |  371 | N482AA | LGA | ORD |  NA |  733 | 20 | 25 | 2013-12-31 20:00:00 |\n",
       "| 2013 | 12 | 31 |   NA | 1932 |  NA |   NA | 2305 |  NA | B6 |  161 | N516JB | JFK | SMF |  NA | 2521 | 19 | 32 | 2013-12-31 19:00:00 |\n",
       "| 2013 | 12 | 31 |   NA | 1505 |  NA |   NA | 1725 |  NA | EV | 4181 | N24103 | EWR | MCI |  NA | 1092 | 15 |  5 | 2013-12-31 15:00:00 |\n",
       "| 2013 | 12 | 31 |   NA | 1000 |  NA |   NA | 1252 |  NA | UA | 1124 | NA     | EWR | EGE |  NA | 1725 | 10 |  0 | 2013-12-31 10:00:00 |\n",
       "| 2013 | 12 | 31 |   NA |  840 |  NA |   NA | 1205 |  NA | UA | 1151 | NA     | EWR | SEA |  NA | 2402 |  8 | 40 | 2013-12-31 08:00:00 |\n",
       "| 2013 | 12 | 31 |   NA |  754 |  NA |   NA | 1118 |  NA | UA | 1455 | NA     | EWR | LAX |  NA | 2454 |  7 | 54 | 2013-12-31 07:00:00 |\n",
       "| 2013 | 12 | 31 |   NA | 2000 |  NA |   NA | 2146 |  NA | UA | 1482 | NA     | EWR | ORD |  NA |  719 | 20 |  0 | 2013-12-31 20:00:00 |\n",
       "| 2013 | 12 | 31 |   NA | 1500 |  NA |   NA | 1817 |  NA | UA | 1483 | NA     | EWR | AUS |  NA | 1504 | 15 |  0 | 2013-12-31 15:00:00 |\n",
       "| 2013 | 12 | 31 |   NA | 1430 |  NA |   NA | 1750 |  NA | UA | 1493 | NA     | EWR | LAX |  NA | 2454 | 14 | 30 | 2013-12-31 14:00:00 |\n",
       "| 2013 | 12 | 31 |   NA |  855 |  NA |   NA | 1142 |  NA | UA | 1506 | NA     | EWR | JAC |  NA | 1874 |  8 | 55 | 2013-12-31 08:00:00 |\n",
       "| 2013 | 12 | 31 |   NA |  705 |  NA |   NA |  931 |  NA | UA | 1729 | NA     | EWR | DEN |  NA | 1605 |  7 |  5 | 2013-12-31 07:00:00 |\n",
       "| 2013 | 12 | 31 |   NA |  825 |  NA |   NA | 1029 |  NA | US | 1831 | NA     | JFK | CLT |  NA |  541 |  8 | 25 | 2013-12-31 08:00:00 |\n",
       "| 2013 | 12 | 31 |   NA | 1615 |  NA |   NA | 1800 |  NA | MQ | 3301 | N844MQ | LGA | RDU |  NA |  431 | 16 | 15 | 2013-12-31 16:00:00 |\n",
       "| 2013 | 12 | 31 |   NA |  600 |  NA |   NA |  735 |  NA | UA |  219 | NA     | EWR | ORD |  NA |  719 |  6 |  0 | 2013-12-31 06:00:00 |\n",
       "| 2013 | 12 | 31 |   NA |  830 |  NA |   NA | 1154 |  NA | UA |  443 | NA     | JFK | LAX |  NA | 2475 |  8 | 30 | 2013-12-31 08:00:00 |\n",
       "\n"
      ],
      "text/plain": [
       "      year month day dep_time sched_dep_time dep_delay arr_time sched_arr_time\n",
       "1     2013 10    1   447      500            -13       614      648           \n",
       "2     2013 10    1   522      517              5       735      757           \n",
       "3     2013 10    1   536      545             -9       809      855           \n",
       "4     2013 10    1   539      545             -6       801      827           \n",
       "5     2013 10    1   539      545             -6       917      933           \n",
       "6     2013 10    1   544      550             -6       912      932           \n",
       "7     2013 10    1   549      600            -11       653      716           \n",
       "8     2013 10    1   550      600            -10       648      700           \n",
       "9     2013 10    1   550      600            -10       649      659           \n",
       "10    2013 10    1   551      600             -9       727      730           \n",
       "11    2013 10    1   551      600             -9       710      721           \n",
       "12    2013 10    1   551      600             -9       655      708           \n",
       "13    2013 10    1   552      600             -8       834      905           \n",
       "14    2013 10    1   553      600             -7       829      856           \n",
       "15    2013 10    1   553      600             -7       811      829           \n",
       "16    2013 10    1   554      600             -6       757      843           \n",
       "17    2013 10    1   554      600             -6       831      858           \n",
       "18    2013 10    1   555      600             -5       810      840           \n",
       "19    2013 10    1   556      600             -4       810      829           \n",
       "20    2013 10    1   556      600             -4       737      758           \n",
       "21    2013 10    1   557      600             -3       851      923           \n",
       "22    2013 10    1   558      600             -2       726      715           \n",
       "23    2013 10    1   558      600             -2       650      701           \n",
       "24    2013 10    1   558      600             -2       757      815           \n",
       "25    2013 10    1   558      600             -2       743      751           \n",
       "26    2013 10    1   559      600             -1       831      851           \n",
       "27    2013 10    1   559      600             -1       719      730           \n",
       "28    2013 10    1   600      600              0       706      717           \n",
       "29    2013 10    1   603      610             -7       735      745           \n",
       "30    2013 10    1   604      610             -6       751      813           \n",
       "⋮     ⋮    ⋮     ⋮   ⋮        ⋮              ⋮         ⋮        ⋮             \n",
       "84263 2013 12    31  2155     2039            76        253     2355          \n",
       "84264 2013 12    31  2155     2150             5        110       51          \n",
       "84265 2013 12    31  2159     2155             4         55       46          \n",
       "84266 2013 12    31  2206     2110            56         44     2339          \n",
       "84267 2013 12    31  2211     2159            12        100       45          \n",
       "84268 2013 12    31  2218     2219            -1        315      304          \n",
       "84269 2013 12    31  2235     2245           -10       2351     2355          \n",
       "84270 2013 12    31  2245     2250            -5       2359     2356          \n",
       "84271 2013 12    31  2310     2255            15          7     2356          \n",
       "84272 2013 12    31  2321     2250            31         46        8          \n",
       "84273 2013 12    31  2328     2330            -2        412      409          \n",
       "84274 2013 12    31  2332     2245            47         58        3          \n",
       "84275 2013 12    31  2355     2359            -4        430      440          \n",
       "84276 2013 12    31  2356     2359            -3        436      445          \n",
       "84277 2013 12    31    NA     1520            NA         NA     1705          \n",
       "84278 2013 12    31    NA     2025            NA         NA     2205          \n",
       "84279 2013 12    31    NA     1932            NA         NA     2305          \n",
       "84280 2013 12    31    NA     1505            NA         NA     1725          \n",
       "84281 2013 12    31    NA     1000            NA         NA     1252          \n",
       "84282 2013 12    31    NA      840            NA         NA     1205          \n",
       "84283 2013 12    31    NA      754            NA         NA     1118          \n",
       "84284 2013 12    31    NA     2000            NA         NA     2146          \n",
       "84285 2013 12    31    NA     1500            NA         NA     1817          \n",
       "84286 2013 12    31    NA     1430            NA         NA     1750          \n",
       "84287 2013 12    31    NA      855            NA         NA     1142          \n",
       "84288 2013 12    31    NA      705            NA         NA      931          \n",
       "84289 2013 12    31    NA      825            NA         NA     1029          \n",
       "84290 2013 12    31    NA     1615            NA         NA     1800          \n",
       "84291 2013 12    31    NA      600            NA         NA      735          \n",
       "84292 2013 12    31    NA      830            NA         NA     1154          \n",
       "      arr_delay carrier flight tailnum origin dest air_time distance hour\n",
       "1     -34       US      1877   N538UW  EWR    CLT   69       529     5   \n",
       "2     -22       UA       252   N556UA  EWR    IAH  174      1400     5   \n",
       "3     -46       AA      2243   N630AA  JFK    MIA  132      1089     5   \n",
       "4     -26       UA      1714   N37252  LGA    IAH  172      1416     5   \n",
       "5     -16       B6      1403   N789JB  JFK    SJU  186      1598     5   \n",
       "6     -20       B6       939   N593JB  JFK    BQN  191      1576     5   \n",
       "7     -23       EV      5716   N830AS  JFK    IAD   46       228     6   \n",
       "8     -12       US      1909   N949UW  LGA    PHL   38        96     6   \n",
       "9     -10       US      2167   N749US  LGA    DCA   39       214     6   \n",
       "10     -3       UA       279   N415UA  EWR    ORD  117       719     6   \n",
       "11    -11       UA      1029   N27722  LGA    ORD  114       733     6   \n",
       "12    -13       B6      2180   N238JB  EWR    BOS   40       200     6   \n",
       "13    -31       AA      1175   N3HVAA  LGA    MIA  140      1096     6   \n",
       "14    -27       B6       601   N760JB  JFK    FLL  135      1069     6   \n",
       "15    -18       DL       563   N961DL  LGA    ATL  105       762     6   \n",
       "16    -46       UA      1014   N37427  EWR    IAH  169      1400     6   \n",
       "17    -27       B6       371   N656JB  LGA    FLL  139      1076     6   \n",
       "18    -30       B6        27   N580JB  EWR    MCO  117       937     6   \n",
       "19    -19       EV      4137   N11539  EWR    ATL  102       746     6   \n",
       "20    -21       EV      5068   N135EV  EWR    DTW   80       488     6   \n",
       "21    -32       UA       303   N590UA  JFK    SFO  331      2586     6   \n",
       "22     11       MQ      3267   N520MQ  EWR    ORD  111       719     6   \n",
       "23    -11       US      2134   N762US  LGA    BOS   33       184     6   \n",
       "24    -18       FL       345   N338AT  LGA    ATL   98       762     6   \n",
       "25     -8       DL       731   N347NB  LGA    DTW   79       502     6   \n",
       "26    -20       UA       698   N827UA  EWR    TPA  128       997     6   \n",
       "27    -11       AA       301   N466AA  LGA    ORD  115       733     6   \n",
       "28    -11       EV      5747   N877AS  LGA    IAD   48       229     6   \n",
       "29    -10       WN      2609   N201LV  LGA    STL  122       888     6   \n",
       "30    -22       DL      1919   N986DL  LGA    MSP  146      1020     6   \n",
       "⋮     ⋮         ⋮       ⋮      ⋮       ⋮      ⋮    ⋮        ⋮        ⋮   \n",
       "84263  NA       B6      1205   N627JB  JFK    PDX   NA      2454     20  \n",
       "84264  19       B6      1901   N729JB  JFK    FLL  164      1069     21  \n",
       "84265   9       B6      2053   N593JB  JFK    PBI  155      1028     21  \n",
       "84266  65       B6       775   N184JB  JFK    MSY  195      1182     21  \n",
       "84267  15       B6      1183   N715JB  JFK    MCO  148       944     21  \n",
       "84268  11       B6      1203   N625JB  JFK    SJU  202      1598     22  \n",
       "84269  -4       B6       234   N355JB  JFK    BTV   49       266     22  \n",
       "84270   3       B6      1816   N318JB  JFK    SYR   51       209     22  \n",
       "84271  11       B6       718   N279JB  JFK    BOS   40       187     22  \n",
       "84272  38       B6      2002   N179JB  JFK    BUF   66       301     22  \n",
       "84273   3       B6      1389   N651JB  EWR    SJU  198      1608     23  \n",
       "84274  55       B6       486   N334JB  JFK    ROC   60       264     22  \n",
       "84275 -10       B6      1503   N509JB  JFK    SJU  195      1598     23  \n",
       "84276  -9       B6       745   N665JB  JFK    PSE  200      1617     23  \n",
       "84277  NA       AA       341   N568AA  LGA    ORD   NA       733     15  \n",
       "84278  NA       AA       371   N482AA  LGA    ORD   NA       733     20  \n",
       "84279  NA       B6       161   N516JB  JFK    SMF   NA      2521     19  \n",
       "84280  NA       EV      4181   N24103  EWR    MCI   NA      1092     15  \n",
       "84281  NA       UA      1124   NA      EWR    EGE   NA      1725     10  \n",
       "84282  NA       UA      1151   NA      EWR    SEA   NA      2402      8  \n",
       "84283  NA       UA      1455   NA      EWR    LAX   NA      2454      7  \n",
       "84284  NA       UA      1482   NA      EWR    ORD   NA       719     20  \n",
       "84285  NA       UA      1483   NA      EWR    AUS   NA      1504     15  \n",
       "84286  NA       UA      1493   NA      EWR    LAX   NA      2454     14  \n",
       "84287  NA       UA      1506   NA      EWR    JAC   NA      1874      8  \n",
       "84288  NA       UA      1729   NA      EWR    DEN   NA      1605      7  \n",
       "84289  NA       US      1831   NA      JFK    CLT   NA       541      8  \n",
       "84290  NA       MQ      3301   N844MQ  LGA    RDU   NA       431     16  \n",
       "84291  NA       UA       219   NA      EWR    ORD   NA       719      6  \n",
       "84292  NA       UA       443   NA      JFK    LAX   NA      2475      8  \n",
       "      minute time_hour          \n",
       "1      0     2013-10-01 05:00:00\n",
       "2     17     2013-10-01 05:00:00\n",
       "3     45     2013-10-01 05:00:00\n",
       "4     45     2013-10-01 05:00:00\n",
       "5     45     2013-10-01 05:00:00\n",
       "6     50     2013-10-01 05:00:00\n",
       "7      0     2013-10-01 06:00:00\n",
       "8      0     2013-10-01 06:00:00\n",
       "9      0     2013-10-01 06:00:00\n",
       "10     0     2013-10-01 06:00:00\n",
       "11     0     2013-10-01 06:00:00\n",
       "12     0     2013-10-01 06:00:00\n",
       "13     0     2013-10-01 06:00:00\n",
       "14     0     2013-10-01 06:00:00\n",
       "15     0     2013-10-01 06:00:00\n",
       "16     0     2013-10-01 06:00:00\n",
       "17     0     2013-10-01 06:00:00\n",
       "18     0     2013-10-01 06:00:00\n",
       "19     0     2013-10-01 06:00:00\n",
       "20     0     2013-10-01 06:00:00\n",
       "21     0     2013-10-01 06:00:00\n",
       "22     0     2013-10-01 06:00:00\n",
       "23     0     2013-10-01 06:00:00\n",
       "24     0     2013-10-01 06:00:00\n",
       "25     0     2013-10-01 06:00:00\n",
       "26     0     2013-10-01 06:00:00\n",
       "27     0     2013-10-01 06:00:00\n",
       "28     0     2013-10-01 06:00:00\n",
       "29    10     2013-10-01 06:00:00\n",
       "30    10     2013-10-01 06:00:00\n",
       "⋮     ⋮      ⋮                  \n",
       "84263 39     2013-12-31 20:00:00\n",
       "84264 50     2013-12-31 21:00:00\n",
       "84265 55     2013-12-31 21:00:00\n",
       "84266 10     2013-12-31 21:00:00\n",
       "84267 59     2013-12-31 21:00:00\n",
       "84268 19     2013-12-31 22:00:00\n",
       "84269 45     2013-12-31 22:00:00\n",
       "84270 50     2013-12-31 22:00:00\n",
       "84271 55     2013-12-31 22:00:00\n",
       "84272 50     2013-12-31 22:00:00\n",
       "84273 30     2013-12-31 23:00:00\n",
       "84274 45     2013-12-31 22:00:00\n",
       "84275 59     2013-12-31 23:00:00\n",
       "84276 59     2013-12-31 23:00:00\n",
       "84277 20     2013-12-31 15:00:00\n",
       "84278 25     2013-12-31 20:00:00\n",
       "84279 32     2013-12-31 19:00:00\n",
       "84280  5     2013-12-31 15:00:00\n",
       "84281  0     2013-12-31 10:00:00\n",
       "84282 40     2013-12-31 08:00:00\n",
       "84283 54     2013-12-31 07:00:00\n",
       "84284  0     2013-12-31 20:00:00\n",
       "84285  0     2013-12-31 15:00:00\n",
       "84286 30     2013-12-31 14:00:00\n",
       "84287 55     2013-12-31 08:00:00\n",
       "84288  5     2013-12-31 07:00:00\n",
       "84289 25     2013-12-31 08:00:00\n",
       "84290 15     2013-12-31 16:00:00\n",
       "84291  0     2013-12-31 06:00:00\n",
       "84292 30     2013-12-31 08:00:00"
      ]
     },
     "metadata": {},
     "output_type": "display_data"
    }
   ],
   "source": [
    "filter(flights, month %in% 10:12) # Flight from October through December"
   ]
  },
  {
   "cell_type": "markdown",
   "metadata": {},
   "source": [
    "The above pattern occurs so ofter, there is a special `between()` function:"
   ]
  },
  {
   "cell_type": "code",
   "execution_count": 5,
   "metadata": {},
   "outputs": [
    {
     "data": {
      "text/html": [
       "TRUE"
      ],
      "text/latex": [
       "TRUE"
      ],
      "text/markdown": [
       "TRUE"
      ],
      "text/plain": [
       "[1] TRUE"
      ]
     },
     "metadata": {},
     "output_type": "display_data"
    },
    {
     "name": "stdout",
     "output_type": "stream",
     "text": [
      "\u001b[38;5;246m# A tibble: 84,292 x 19\u001b[39m\n",
      "    year month   day dep_time sched_dep_time dep_delay arr_time sched_arr_time\n",
      "   \u001b[3m\u001b[38;5;246m<int>\u001b[39m\u001b[23m \u001b[3m\u001b[38;5;246m<int>\u001b[39m\u001b[23m \u001b[3m\u001b[38;5;246m<int>\u001b[39m\u001b[23m    \u001b[3m\u001b[38;5;246m<int>\u001b[39m\u001b[23m          \u001b[3m\u001b[38;5;246m<int>\u001b[39m\u001b[23m     \u001b[3m\u001b[38;5;246m<dbl>\u001b[39m\u001b[23m    \u001b[3m\u001b[38;5;246m<int>\u001b[39m\u001b[23m          \u001b[3m\u001b[38;5;246m<int>\u001b[39m\u001b[23m\n",
      "\u001b[38;5;250m 1\u001b[39m  \u001b[4m2\u001b[24m013    10     1      447            500       -\u001b[31m13\u001b[39m      614            648\n",
      "\u001b[38;5;250m 2\u001b[39m  \u001b[4m2\u001b[24m013    10     1      522            517         5      735            757\n",
      "\u001b[38;5;250m 3\u001b[39m  \u001b[4m2\u001b[24m013    10     1      536            545        -\u001b[31m9\u001b[39m      809            855\n",
      "\u001b[38;5;250m 4\u001b[39m  \u001b[4m2\u001b[24m013    10     1      539            545        -\u001b[31m6\u001b[39m      801            827\n",
      "\u001b[38;5;250m 5\u001b[39m  \u001b[4m2\u001b[24m013    10     1      539            545        -\u001b[31m6\u001b[39m      917            933\n",
      "\u001b[38;5;250m 6\u001b[39m  \u001b[4m2\u001b[24m013    10     1      544            550        -\u001b[31m6\u001b[39m      912            932\n",
      "\u001b[38;5;250m 7\u001b[39m  \u001b[4m2\u001b[24m013    10     1      549            600       -\u001b[31m11\u001b[39m      653            716\n",
      "\u001b[38;5;250m 8\u001b[39m  \u001b[4m2\u001b[24m013    10     1      550            600       -\u001b[31m10\u001b[39m      648            700\n",
      "\u001b[38;5;250m 9\u001b[39m  \u001b[4m2\u001b[24m013    10     1      550            600       -\u001b[31m10\u001b[39m      649            659\n",
      "\u001b[38;5;250m10\u001b[39m  \u001b[4m2\u001b[24m013    10     1      551            600        -\u001b[31m9\u001b[39m      727            730\n",
      "\u001b[38;5;246m# … with 84,282 more rows, and 11 more variables: arr_delay \u001b[3m\u001b[38;5;246m<dbl>\u001b[38;5;246m\u001b[23m,\u001b[39m\n",
      "\u001b[38;5;246m#   carrier \u001b[3m\u001b[38;5;246m<chr>\u001b[38;5;246m\u001b[23m, flight \u001b[3m\u001b[38;5;246m<int>\u001b[38;5;246m\u001b[23m, tailnum \u001b[3m\u001b[38;5;246m<chr>\u001b[38;5;246m\u001b[23m, origin \u001b[3m\u001b[38;5;246m<chr>\u001b[38;5;246m\u001b[23m, dest \u001b[3m\u001b[38;5;246m<chr>\u001b[38;5;246m\u001b[23m,\u001b[39m\n",
      "\u001b[38;5;246m#   air_time \u001b[3m\u001b[38;5;246m<dbl>\u001b[38;5;246m\u001b[23m, distance \u001b[3m\u001b[38;5;246m<dbl>\u001b[38;5;246m\u001b[23m, hour \u001b[3m\u001b[38;5;246m<dbl>\u001b[38;5;246m\u001b[23m, minute \u001b[3m\u001b[38;5;246m<dbl>\u001b[38;5;246m\u001b[23m, time_hour \u001b[3m\u001b[38;5;246m<dttm>\u001b[38;5;246m\u001b[23m\u001b[39m\n"
     ]
    }
   ],
   "source": [
    "between(1, left = 1, right = 10)\n",
    "print(filter(flights, between(month, 10, 12)))"
   ]
  },
  {
   "cell_type": "markdown",
   "metadata": {},
   "source": [
    "Sometimes we just want to know how many observations match a given filter. The `nrow()` command can be used to count the number of rows in a data table. Let us try to calculate how many flights with missing departure time in our data."
   ]
  },
  {
   "cell_type": "code",
   "execution_count": 10,
   "metadata": {},
   "outputs": [
    {
     "data": {
      "text/html": [
       "8255"
      ],
      "text/latex": [
       "8255"
      ],
      "text/markdown": [
       "8255"
      ],
      "text/plain": [
       "[1] 8255"
      ]
     },
     "metadata": {},
     "output_type": "display_data"
    }
   ],
   "source": [
    "nrow(filter(flights, is.na(dep_time)))"
   ]
  },
  {
   "cell_type": "markdown",
   "metadata": {},
   "source": [
    "How about the number of flights departing between Jan and Mar?"
   ]
  },
  {
   "cell_type": "code",
   "execution_count": 11,
   "metadata": {},
   "outputs": [
    {
     "data": {
      "text/html": [
       "80789"
      ],
      "text/latex": [
       "80789"
      ],
      "text/markdown": [
       "80789"
      ],
      "text/plain": [
       "[1] 80789"
      ]
     },
     "metadata": {},
     "output_type": "display_data"
    }
   ],
   "source": [
    "nrow(filter(flights, between(month, 1, 3))) # no. of flights departing between Jan and Mar"
   ]
  },
  {
   "cell_type": "markdown",
   "metadata": {},
   "source": [
    "### C.2.2 Arrange rows"
   ]
  },
  {
   "cell_type": "markdown",
   "metadata": {},
   "source": [
    "`arrange` can order rows of a data frame using a variable name (or a more complicated expression). If multiple expressions are provided, it uses the second one to break ties in the first one, third one to break ties in the second one, and so on."
   ]
  },
  {
   "cell_type": "code",
   "execution_count": 12,
   "metadata": {},
   "outputs": [
    {
     "data": {
      "text/html": [
       "<table>\n",
       "<caption>A tibble: 336776 × 19</caption>\n",
       "<thead>\n",
       "\t<tr><th scope=col>year</th><th scope=col>month</th><th scope=col>day</th><th scope=col>dep_time</th><th scope=col>sched_dep_time</th><th scope=col>dep_delay</th><th scope=col>arr_time</th><th scope=col>sched_arr_time</th><th scope=col>arr_delay</th><th scope=col>carrier</th><th scope=col>flight</th><th scope=col>tailnum</th><th scope=col>origin</th><th scope=col>dest</th><th scope=col>air_time</th><th scope=col>distance</th><th scope=col>hour</th><th scope=col>minute</th><th scope=col>time_hour</th></tr>\n",
       "\t<tr><th scope=col>&lt;int&gt;</th><th scope=col>&lt;int&gt;</th><th scope=col>&lt;int&gt;</th><th scope=col>&lt;int&gt;</th><th scope=col>&lt;int&gt;</th><th scope=col>&lt;dbl&gt;</th><th scope=col>&lt;int&gt;</th><th scope=col>&lt;int&gt;</th><th scope=col>&lt;dbl&gt;</th><th scope=col>&lt;chr&gt;</th><th scope=col>&lt;int&gt;</th><th scope=col>&lt;chr&gt;</th><th scope=col>&lt;chr&gt;</th><th scope=col>&lt;chr&gt;</th><th scope=col>&lt;dbl&gt;</th><th scope=col>&lt;dbl&gt;</th><th scope=col>&lt;dbl&gt;</th><th scope=col>&lt;dbl&gt;</th><th scope=col>&lt;dttm&gt;</th></tr>\n",
       "</thead>\n",
       "<tbody>\n",
       "\t<tr><td>2013</td><td>1</td><td>1</td><td>517</td><td>515</td><td> 2</td><td> 830</td><td> 819</td><td> 11</td><td>UA</td><td>1545</td><td>N14228</td><td>EWR</td><td>IAH</td><td>227</td><td>1400</td><td>5</td><td>15</td><td>2013-01-01 05:00:00</td></tr>\n",
       "\t<tr><td>2013</td><td>1</td><td>1</td><td>533</td><td>529</td><td> 4</td><td> 850</td><td> 830</td><td> 20</td><td>UA</td><td>1714</td><td>N24211</td><td>LGA</td><td>IAH</td><td>227</td><td>1416</td><td>5</td><td>29</td><td>2013-01-01 05:00:00</td></tr>\n",
       "\t<tr><td>2013</td><td>1</td><td>1</td><td>542</td><td>540</td><td> 2</td><td> 923</td><td> 850</td><td> 33</td><td>AA</td><td>1141</td><td>N619AA</td><td>JFK</td><td>MIA</td><td>160</td><td>1089</td><td>5</td><td>40</td><td>2013-01-01 05:00:00</td></tr>\n",
       "\t<tr><td>2013</td><td>1</td><td>1</td><td>544</td><td>545</td><td>-1</td><td>1004</td><td>1022</td><td>-18</td><td>B6</td><td> 725</td><td>N804JB</td><td>JFK</td><td>BQN</td><td>183</td><td>1576</td><td>5</td><td>45</td><td>2013-01-01 05:00:00</td></tr>\n",
       "\t<tr><td>2013</td><td>1</td><td>1</td><td>554</td><td>600</td><td>-6</td><td> 812</td><td> 837</td><td>-25</td><td>DL</td><td> 461</td><td>N668DN</td><td>LGA</td><td>ATL</td><td>116</td><td> 762</td><td>6</td><td> 0</td><td>2013-01-01 06:00:00</td></tr>\n",
       "\t<tr><td>2013</td><td>1</td><td>1</td><td>554</td><td>558</td><td>-4</td><td> 740</td><td> 728</td><td> 12</td><td>UA</td><td>1696</td><td>N39463</td><td>EWR</td><td>ORD</td><td>150</td><td> 719</td><td>5</td><td>58</td><td>2013-01-01 05:00:00</td></tr>\n",
       "\t<tr><td>2013</td><td>1</td><td>1</td><td>555</td><td>600</td><td>-5</td><td> 913</td><td> 854</td><td> 19</td><td>B6</td><td> 507</td><td>N516JB</td><td>EWR</td><td>FLL</td><td>158</td><td>1065</td><td>6</td><td> 0</td><td>2013-01-01 06:00:00</td></tr>\n",
       "\t<tr><td>2013</td><td>1</td><td>1</td><td>557</td><td>600</td><td>-3</td><td> 709</td><td> 723</td><td>-14</td><td>EV</td><td>5708</td><td>N829AS</td><td>LGA</td><td>IAD</td><td> 53</td><td> 229</td><td>6</td><td> 0</td><td>2013-01-01 06:00:00</td></tr>\n",
       "\t<tr><td>2013</td><td>1</td><td>1</td><td>557</td><td>600</td><td>-3</td><td> 838</td><td> 846</td><td> -8</td><td>B6</td><td>  79</td><td>N593JB</td><td>JFK</td><td>MCO</td><td>140</td><td> 944</td><td>6</td><td> 0</td><td>2013-01-01 06:00:00</td></tr>\n",
       "\t<tr><td>2013</td><td>1</td><td>1</td><td>558</td><td>600</td><td>-2</td><td> 753</td><td> 745</td><td>  8</td><td>AA</td><td> 301</td><td>N3ALAA</td><td>LGA</td><td>ORD</td><td>138</td><td> 733</td><td>6</td><td> 0</td><td>2013-01-01 06:00:00</td></tr>\n",
       "\t<tr><td>2013</td><td>1</td><td>1</td><td>558</td><td>600</td><td>-2</td><td> 849</td><td> 851</td><td> -2</td><td>B6</td><td>  49</td><td>N793JB</td><td>JFK</td><td>PBI</td><td>149</td><td>1028</td><td>6</td><td> 0</td><td>2013-01-01 06:00:00</td></tr>\n",
       "\t<tr><td>2013</td><td>1</td><td>1</td><td>558</td><td>600</td><td>-2</td><td> 853</td><td> 856</td><td> -3</td><td>B6</td><td>  71</td><td>N657JB</td><td>JFK</td><td>TPA</td><td>158</td><td>1005</td><td>6</td><td> 0</td><td>2013-01-01 06:00:00</td></tr>\n",
       "\t<tr><td>2013</td><td>1</td><td>1</td><td>558</td><td>600</td><td>-2</td><td> 924</td><td> 917</td><td>  7</td><td>UA</td><td> 194</td><td>N29129</td><td>JFK</td><td>LAX</td><td>345</td><td>2475</td><td>6</td><td> 0</td><td>2013-01-01 06:00:00</td></tr>\n",
       "\t<tr><td>2013</td><td>1</td><td>1</td><td>558</td><td>600</td><td>-2</td><td> 923</td><td> 937</td><td>-14</td><td>UA</td><td>1124</td><td>N53441</td><td>EWR</td><td>SFO</td><td>361</td><td>2565</td><td>6</td><td> 0</td><td>2013-01-01 06:00:00</td></tr>\n",
       "\t<tr><td>2013</td><td>1</td><td>1</td><td>559</td><td>600</td><td>-1</td><td> 941</td><td> 910</td><td> 31</td><td>AA</td><td> 707</td><td>N3DUAA</td><td>LGA</td><td>DFW</td><td>257</td><td>1389</td><td>6</td><td> 0</td><td>2013-01-01 06:00:00</td></tr>\n",
       "\t<tr><td>2013</td><td>1</td><td>1</td><td>559</td><td>559</td><td> 0</td><td> 702</td><td> 706</td><td> -4</td><td>B6</td><td>1806</td><td>N708JB</td><td>JFK</td><td>BOS</td><td> 44</td><td> 187</td><td>5</td><td>59</td><td>2013-01-01 05:00:00</td></tr>\n",
       "\t<tr><td>2013</td><td>1</td><td>1</td><td>559</td><td>600</td><td>-1</td><td> 854</td><td> 902</td><td> -8</td><td>UA</td><td>1187</td><td>N76515</td><td>EWR</td><td>LAS</td><td>337</td><td>2227</td><td>6</td><td> 0</td><td>2013-01-01 06:00:00</td></tr>\n",
       "\t<tr><td>2013</td><td>1</td><td>1</td><td>600</td><td>600</td><td> 0</td><td> 851</td><td> 858</td><td> -7</td><td>B6</td><td> 371</td><td>N595JB</td><td>LGA</td><td>FLL</td><td>152</td><td>1076</td><td>6</td><td> 0</td><td>2013-01-01 06:00:00</td></tr>\n",
       "\t<tr><td>2013</td><td>1</td><td>1</td><td>600</td><td>600</td><td> 0</td><td> 837</td><td> 825</td><td> 12</td><td>MQ</td><td>4650</td><td>N542MQ</td><td>LGA</td><td>ATL</td><td>134</td><td> 762</td><td>6</td><td> 0</td><td>2013-01-01 06:00:00</td></tr>\n",
       "\t<tr><td>2013</td><td>1</td><td>1</td><td>601</td><td>600</td><td> 1</td><td> 844</td><td> 850</td><td> -6</td><td>B6</td><td> 343</td><td>N644JB</td><td>EWR</td><td>PBI</td><td>147</td><td>1023</td><td>6</td><td> 0</td><td>2013-01-01 06:00:00</td></tr>\n",
       "\t<tr><td>2013</td><td>1</td><td>1</td><td>602</td><td>610</td><td>-8</td><td> 812</td><td> 820</td><td> -8</td><td>DL</td><td>1919</td><td>N971DL</td><td>LGA</td><td>MSP</td><td>170</td><td>1020</td><td>6</td><td>10</td><td>2013-01-01 06:00:00</td></tr>\n",
       "\t<tr><td>2013</td><td>1</td><td>1</td><td>602</td><td>605</td><td>-3</td><td> 821</td><td> 805</td><td> 16</td><td>MQ</td><td>4401</td><td>N730MQ</td><td>LGA</td><td>DTW</td><td>105</td><td> 502</td><td>6</td><td> 5</td><td>2013-01-01 06:00:00</td></tr>\n",
       "\t<tr><td>2013</td><td>1</td><td>1</td><td>606</td><td>610</td><td>-4</td><td> 858</td><td> 910</td><td>-12</td><td>AA</td><td>1895</td><td>N633AA</td><td>EWR</td><td>MIA</td><td>152</td><td>1085</td><td>6</td><td>10</td><td>2013-01-01 06:00:00</td></tr>\n",
       "\t<tr><td>2013</td><td>1</td><td>1</td><td>606</td><td>610</td><td>-4</td><td> 837</td><td> 845</td><td> -8</td><td>DL</td><td>1743</td><td>N3739P</td><td>JFK</td><td>ATL</td><td>128</td><td> 760</td><td>6</td><td>10</td><td>2013-01-01 06:00:00</td></tr>\n",
       "\t<tr><td>2013</td><td>1</td><td>1</td><td>607</td><td>607</td><td> 0</td><td> 858</td><td> 915</td><td>-17</td><td>UA</td><td>1077</td><td>N53442</td><td>EWR</td><td>MIA</td><td>157</td><td>1085</td><td>6</td><td> 7</td><td>2013-01-01 06:00:00</td></tr>\n",
       "\t<tr><td>2013</td><td>1</td><td>1</td><td>608</td><td>600</td><td> 8</td><td> 807</td><td> 735</td><td> 32</td><td>MQ</td><td>3768</td><td>N9EAMQ</td><td>EWR</td><td>ORD</td><td>139</td><td> 719</td><td>6</td><td> 0</td><td>2013-01-01 06:00:00</td></tr>\n",
       "\t<tr><td>2013</td><td>1</td><td>1</td><td>611</td><td>600</td><td>11</td><td> 945</td><td> 931</td><td> 14</td><td>UA</td><td> 303</td><td>N532UA</td><td>JFK</td><td>SFO</td><td>366</td><td>2586</td><td>6</td><td> 0</td><td>2013-01-01 06:00:00</td></tr>\n",
       "\t<tr><td>2013</td><td>1</td><td>1</td><td>613</td><td>610</td><td> 3</td><td> 925</td><td> 921</td><td>  4</td><td>B6</td><td> 135</td><td>N635JB</td><td>JFK</td><td>RSW</td><td>175</td><td>1074</td><td>6</td><td>10</td><td>2013-01-01 06:00:00</td></tr>\n",
       "\t<tr><td>2013</td><td>1</td><td>1</td><td>615</td><td>615</td><td> 0</td><td>1039</td><td>1100</td><td>-21</td><td>B6</td><td> 709</td><td>N794JB</td><td>JFK</td><td>SJU</td><td>182</td><td>1598</td><td>6</td><td>15</td><td>2013-01-01 06:00:00</td></tr>\n",
       "\t<tr><td>2013</td><td>1</td><td>1</td><td>615</td><td>615</td><td> 0</td><td> 833</td><td> 842</td><td> -9</td><td>DL</td><td> 575</td><td>N326NB</td><td>EWR</td><td>ATL</td><td>120</td><td> 746</td><td>6</td><td>15</td><td>2013-01-01 06:00:00</td></tr>\n",
       "\t<tr><td>⋮</td><td>⋮</td><td>⋮</td><td>⋮</td><td>⋮</td><td>⋮</td><td>⋮</td><td>⋮</td><td>⋮</td><td>⋮</td><td>⋮</td><td>⋮</td><td>⋮</td><td>⋮</td><td>⋮</td><td>⋮</td><td>⋮</td><td>⋮</td><td>⋮</td></tr>\n",
       "\t<tr><td>2013</td><td>12</td><td>31</td><td>2155</td><td>2039</td><td> 76</td><td> 253</td><td>2355</td><td> NA</td><td>B6</td><td>1205</td><td>N627JB</td><td>JFK</td><td>PDX</td><td> NA</td><td>2454</td><td>20</td><td>39</td><td>2013-12-31 20:00:00</td></tr>\n",
       "\t<tr><td>2013</td><td>12</td><td>31</td><td>2155</td><td>2150</td><td>  5</td><td> 110</td><td>  51</td><td> 19</td><td>B6</td><td>1901</td><td>N729JB</td><td>JFK</td><td>FLL</td><td>164</td><td>1069</td><td>21</td><td>50</td><td>2013-12-31 21:00:00</td></tr>\n",
       "\t<tr><td>2013</td><td>12</td><td>31</td><td>2159</td><td>2155</td><td>  4</td><td>  55</td><td>  46</td><td>  9</td><td>B6</td><td>2053</td><td>N593JB</td><td>JFK</td><td>PBI</td><td>155</td><td>1028</td><td>21</td><td>55</td><td>2013-12-31 21:00:00</td></tr>\n",
       "\t<tr><td>2013</td><td>12</td><td>31</td><td>2206</td><td>2110</td><td> 56</td><td>  44</td><td>2339</td><td> 65</td><td>B6</td><td> 775</td><td>N184JB</td><td>JFK</td><td>MSY</td><td>195</td><td>1182</td><td>21</td><td>10</td><td>2013-12-31 21:00:00</td></tr>\n",
       "\t<tr><td>2013</td><td>12</td><td>31</td><td>2211</td><td>2159</td><td> 12</td><td> 100</td><td>  45</td><td> 15</td><td>B6</td><td>1183</td><td>N715JB</td><td>JFK</td><td>MCO</td><td>148</td><td> 944</td><td>21</td><td>59</td><td>2013-12-31 21:00:00</td></tr>\n",
       "\t<tr><td>2013</td><td>12</td><td>31</td><td>2218</td><td>2219</td><td> -1</td><td> 315</td><td> 304</td><td> 11</td><td>B6</td><td>1203</td><td>N625JB</td><td>JFK</td><td>SJU</td><td>202</td><td>1598</td><td>22</td><td>19</td><td>2013-12-31 22:00:00</td></tr>\n",
       "\t<tr><td>2013</td><td>12</td><td>31</td><td>2235</td><td>2245</td><td>-10</td><td>2351</td><td>2355</td><td> -4</td><td>B6</td><td> 234</td><td>N355JB</td><td>JFK</td><td>BTV</td><td> 49</td><td> 266</td><td>22</td><td>45</td><td>2013-12-31 22:00:00</td></tr>\n",
       "\t<tr><td>2013</td><td>12</td><td>31</td><td>2245</td><td>2250</td><td> -5</td><td>2359</td><td>2356</td><td>  3</td><td>B6</td><td>1816</td><td>N318JB</td><td>JFK</td><td>SYR</td><td> 51</td><td> 209</td><td>22</td><td>50</td><td>2013-12-31 22:00:00</td></tr>\n",
       "\t<tr><td>2013</td><td>12</td><td>31</td><td>2310</td><td>2255</td><td> 15</td><td>   7</td><td>2356</td><td> 11</td><td>B6</td><td> 718</td><td>N279JB</td><td>JFK</td><td>BOS</td><td> 40</td><td> 187</td><td>22</td><td>55</td><td>2013-12-31 22:00:00</td></tr>\n",
       "\t<tr><td>2013</td><td>12</td><td>31</td><td>2321</td><td>2250</td><td> 31</td><td>  46</td><td>   8</td><td> 38</td><td>B6</td><td>2002</td><td>N179JB</td><td>JFK</td><td>BUF</td><td> 66</td><td> 301</td><td>22</td><td>50</td><td>2013-12-31 22:00:00</td></tr>\n",
       "\t<tr><td>2013</td><td>12</td><td>31</td><td>2328</td><td>2330</td><td> -2</td><td> 412</td><td> 409</td><td>  3</td><td>B6</td><td>1389</td><td>N651JB</td><td>EWR</td><td>SJU</td><td>198</td><td>1608</td><td>23</td><td>30</td><td>2013-12-31 23:00:00</td></tr>\n",
       "\t<tr><td>2013</td><td>12</td><td>31</td><td>2332</td><td>2245</td><td> 47</td><td>  58</td><td>   3</td><td> 55</td><td>B6</td><td> 486</td><td>N334JB</td><td>JFK</td><td>ROC</td><td> 60</td><td> 264</td><td>22</td><td>45</td><td>2013-12-31 22:00:00</td></tr>\n",
       "\t<tr><td>2013</td><td>12</td><td>31</td><td>2355</td><td>2359</td><td> -4</td><td> 430</td><td> 440</td><td>-10</td><td>B6</td><td>1503</td><td>N509JB</td><td>JFK</td><td>SJU</td><td>195</td><td>1598</td><td>23</td><td>59</td><td>2013-12-31 23:00:00</td></tr>\n",
       "\t<tr><td>2013</td><td>12</td><td>31</td><td>2356</td><td>2359</td><td> -3</td><td> 436</td><td> 445</td><td> -9</td><td>B6</td><td> 745</td><td>N665JB</td><td>JFK</td><td>PSE</td><td>200</td><td>1617</td><td>23</td><td>59</td><td>2013-12-31 23:00:00</td></tr>\n",
       "\t<tr><td>2013</td><td>12</td><td>31</td><td>  NA</td><td>1520</td><td> NA</td><td>  NA</td><td>1705</td><td> NA</td><td>AA</td><td> 341</td><td>N568AA</td><td>LGA</td><td>ORD</td><td> NA</td><td> 733</td><td>15</td><td>20</td><td>2013-12-31 15:00:00</td></tr>\n",
       "\t<tr><td>2013</td><td>12</td><td>31</td><td>  NA</td><td>2025</td><td> NA</td><td>  NA</td><td>2205</td><td> NA</td><td>AA</td><td> 371</td><td>N482AA</td><td>LGA</td><td>ORD</td><td> NA</td><td> 733</td><td>20</td><td>25</td><td>2013-12-31 20:00:00</td></tr>\n",
       "\t<tr><td>2013</td><td>12</td><td>31</td><td>  NA</td><td>1932</td><td> NA</td><td>  NA</td><td>2305</td><td> NA</td><td>B6</td><td> 161</td><td>N516JB</td><td>JFK</td><td>SMF</td><td> NA</td><td>2521</td><td>19</td><td>32</td><td>2013-12-31 19:00:00</td></tr>\n",
       "\t<tr><td>2013</td><td>12</td><td>31</td><td>  NA</td><td>1505</td><td> NA</td><td>  NA</td><td>1725</td><td> NA</td><td>EV</td><td>4181</td><td>N24103</td><td>EWR</td><td>MCI</td><td> NA</td><td>1092</td><td>15</td><td> 5</td><td>2013-12-31 15:00:00</td></tr>\n",
       "\t<tr><td>2013</td><td>12</td><td>31</td><td>  NA</td><td>1000</td><td> NA</td><td>  NA</td><td>1252</td><td> NA</td><td>UA</td><td>1124</td><td>NA    </td><td>EWR</td><td>EGE</td><td> NA</td><td>1725</td><td>10</td><td> 0</td><td>2013-12-31 10:00:00</td></tr>\n",
       "\t<tr><td>2013</td><td>12</td><td>31</td><td>  NA</td><td> 840</td><td> NA</td><td>  NA</td><td>1205</td><td> NA</td><td>UA</td><td>1151</td><td>NA    </td><td>EWR</td><td>SEA</td><td> NA</td><td>2402</td><td> 8</td><td>40</td><td>2013-12-31 08:00:00</td></tr>\n",
       "\t<tr><td>2013</td><td>12</td><td>31</td><td>  NA</td><td> 754</td><td> NA</td><td>  NA</td><td>1118</td><td> NA</td><td>UA</td><td>1455</td><td>NA    </td><td>EWR</td><td>LAX</td><td> NA</td><td>2454</td><td> 7</td><td>54</td><td>2013-12-31 07:00:00</td></tr>\n",
       "\t<tr><td>2013</td><td>12</td><td>31</td><td>  NA</td><td>2000</td><td> NA</td><td>  NA</td><td>2146</td><td> NA</td><td>UA</td><td>1482</td><td>NA    </td><td>EWR</td><td>ORD</td><td> NA</td><td> 719</td><td>20</td><td> 0</td><td>2013-12-31 20:00:00</td></tr>\n",
       "\t<tr><td>2013</td><td>12</td><td>31</td><td>  NA</td><td>1500</td><td> NA</td><td>  NA</td><td>1817</td><td> NA</td><td>UA</td><td>1483</td><td>NA    </td><td>EWR</td><td>AUS</td><td> NA</td><td>1504</td><td>15</td><td> 0</td><td>2013-12-31 15:00:00</td></tr>\n",
       "\t<tr><td>2013</td><td>12</td><td>31</td><td>  NA</td><td>1430</td><td> NA</td><td>  NA</td><td>1750</td><td> NA</td><td>UA</td><td>1493</td><td>NA    </td><td>EWR</td><td>LAX</td><td> NA</td><td>2454</td><td>14</td><td>30</td><td>2013-12-31 14:00:00</td></tr>\n",
       "\t<tr><td>2013</td><td>12</td><td>31</td><td>  NA</td><td> 855</td><td> NA</td><td>  NA</td><td>1142</td><td> NA</td><td>UA</td><td>1506</td><td>NA    </td><td>EWR</td><td>JAC</td><td> NA</td><td>1874</td><td> 8</td><td>55</td><td>2013-12-31 08:00:00</td></tr>\n",
       "\t<tr><td>2013</td><td>12</td><td>31</td><td>  NA</td><td> 705</td><td> NA</td><td>  NA</td><td> 931</td><td> NA</td><td>UA</td><td>1729</td><td>NA    </td><td>EWR</td><td>DEN</td><td> NA</td><td>1605</td><td> 7</td><td> 5</td><td>2013-12-31 07:00:00</td></tr>\n",
       "\t<tr><td>2013</td><td>12</td><td>31</td><td>  NA</td><td> 825</td><td> NA</td><td>  NA</td><td>1029</td><td> NA</td><td>US</td><td>1831</td><td>NA    </td><td>JFK</td><td>CLT</td><td> NA</td><td> 541</td><td> 8</td><td>25</td><td>2013-12-31 08:00:00</td></tr>\n",
       "\t<tr><td>2013</td><td>12</td><td>31</td><td>  NA</td><td>1615</td><td> NA</td><td>  NA</td><td>1800</td><td> NA</td><td>MQ</td><td>3301</td><td>N844MQ</td><td>LGA</td><td>RDU</td><td> NA</td><td> 431</td><td>16</td><td>15</td><td>2013-12-31 16:00:00</td></tr>\n",
       "\t<tr><td>2013</td><td>12</td><td>31</td><td>  NA</td><td> 600</td><td> NA</td><td>  NA</td><td> 735</td><td> NA</td><td>UA</td><td> 219</td><td>NA    </td><td>EWR</td><td>ORD</td><td> NA</td><td> 719</td><td> 6</td><td> 0</td><td>2013-12-31 06:00:00</td></tr>\n",
       "\t<tr><td>2013</td><td>12</td><td>31</td><td>  NA</td><td> 830</td><td> NA</td><td>  NA</td><td>1154</td><td> NA</td><td>UA</td><td> 443</td><td>NA    </td><td>JFK</td><td>LAX</td><td> NA</td><td>2475</td><td> 8</td><td>30</td><td>2013-12-31 08:00:00</td></tr>\n",
       "</tbody>\n",
       "</table>\n"
      ],
      "text/latex": [
       "A tibble: 336776 × 19\n",
       "\\begin{tabular}{lllllllllllllllllll}\n",
       " year & month & day & dep\\_time & sched\\_dep\\_time & dep\\_delay & arr\\_time & sched\\_arr\\_time & arr\\_delay & carrier & flight & tailnum & origin & dest & air\\_time & distance & hour & minute & time\\_hour\\\\\n",
       " <int> & <int> & <int> & <int> & <int> & <dbl> & <int> & <int> & <dbl> & <chr> & <int> & <chr> & <chr> & <chr> & <dbl> & <dbl> & <dbl> & <dbl> & <dttm>\\\\\n",
       "\\hline\n",
       "\t 2013 & 1 & 1 & 517 & 515 &  2 &  830 &  819 &  11 & UA & 1545 & N14228 & EWR & IAH & 227 & 1400 & 5 & 15 & 2013-01-01 05:00:00\\\\\n",
       "\t 2013 & 1 & 1 & 533 & 529 &  4 &  850 &  830 &  20 & UA & 1714 & N24211 & LGA & IAH & 227 & 1416 & 5 & 29 & 2013-01-01 05:00:00\\\\\n",
       "\t 2013 & 1 & 1 & 542 & 540 &  2 &  923 &  850 &  33 & AA & 1141 & N619AA & JFK & MIA & 160 & 1089 & 5 & 40 & 2013-01-01 05:00:00\\\\\n",
       "\t 2013 & 1 & 1 & 544 & 545 & -1 & 1004 & 1022 & -18 & B6 &  725 & N804JB & JFK & BQN & 183 & 1576 & 5 & 45 & 2013-01-01 05:00:00\\\\\n",
       "\t 2013 & 1 & 1 & 554 & 600 & -6 &  812 &  837 & -25 & DL &  461 & N668DN & LGA & ATL & 116 &  762 & 6 &  0 & 2013-01-01 06:00:00\\\\\n",
       "\t 2013 & 1 & 1 & 554 & 558 & -4 &  740 &  728 &  12 & UA & 1696 & N39463 & EWR & ORD & 150 &  719 & 5 & 58 & 2013-01-01 05:00:00\\\\\n",
       "\t 2013 & 1 & 1 & 555 & 600 & -5 &  913 &  854 &  19 & B6 &  507 & N516JB & EWR & FLL & 158 & 1065 & 6 &  0 & 2013-01-01 06:00:00\\\\\n",
       "\t 2013 & 1 & 1 & 557 & 600 & -3 &  709 &  723 & -14 & EV & 5708 & N829AS & LGA & IAD &  53 &  229 & 6 &  0 & 2013-01-01 06:00:00\\\\\n",
       "\t 2013 & 1 & 1 & 557 & 600 & -3 &  838 &  846 &  -8 & B6 &   79 & N593JB & JFK & MCO & 140 &  944 & 6 &  0 & 2013-01-01 06:00:00\\\\\n",
       "\t 2013 & 1 & 1 & 558 & 600 & -2 &  753 &  745 &   8 & AA &  301 & N3ALAA & LGA & ORD & 138 &  733 & 6 &  0 & 2013-01-01 06:00:00\\\\\n",
       "\t 2013 & 1 & 1 & 558 & 600 & -2 &  849 &  851 &  -2 & B6 &   49 & N793JB & JFK & PBI & 149 & 1028 & 6 &  0 & 2013-01-01 06:00:00\\\\\n",
       "\t 2013 & 1 & 1 & 558 & 600 & -2 &  853 &  856 &  -3 & B6 &   71 & N657JB & JFK & TPA & 158 & 1005 & 6 &  0 & 2013-01-01 06:00:00\\\\\n",
       "\t 2013 & 1 & 1 & 558 & 600 & -2 &  924 &  917 &   7 & UA &  194 & N29129 & JFK & LAX & 345 & 2475 & 6 &  0 & 2013-01-01 06:00:00\\\\\n",
       "\t 2013 & 1 & 1 & 558 & 600 & -2 &  923 &  937 & -14 & UA & 1124 & N53441 & EWR & SFO & 361 & 2565 & 6 &  0 & 2013-01-01 06:00:00\\\\\n",
       "\t 2013 & 1 & 1 & 559 & 600 & -1 &  941 &  910 &  31 & AA &  707 & N3DUAA & LGA & DFW & 257 & 1389 & 6 &  0 & 2013-01-01 06:00:00\\\\\n",
       "\t 2013 & 1 & 1 & 559 & 559 &  0 &  702 &  706 &  -4 & B6 & 1806 & N708JB & JFK & BOS &  44 &  187 & 5 & 59 & 2013-01-01 05:00:00\\\\\n",
       "\t 2013 & 1 & 1 & 559 & 600 & -1 &  854 &  902 &  -8 & UA & 1187 & N76515 & EWR & LAS & 337 & 2227 & 6 &  0 & 2013-01-01 06:00:00\\\\\n",
       "\t 2013 & 1 & 1 & 600 & 600 &  0 &  851 &  858 &  -7 & B6 &  371 & N595JB & LGA & FLL & 152 & 1076 & 6 &  0 & 2013-01-01 06:00:00\\\\\n",
       "\t 2013 & 1 & 1 & 600 & 600 &  0 &  837 &  825 &  12 & MQ & 4650 & N542MQ & LGA & ATL & 134 &  762 & 6 &  0 & 2013-01-01 06:00:00\\\\\n",
       "\t 2013 & 1 & 1 & 601 & 600 &  1 &  844 &  850 &  -6 & B6 &  343 & N644JB & EWR & PBI & 147 & 1023 & 6 &  0 & 2013-01-01 06:00:00\\\\\n",
       "\t 2013 & 1 & 1 & 602 & 610 & -8 &  812 &  820 &  -8 & DL & 1919 & N971DL & LGA & MSP & 170 & 1020 & 6 & 10 & 2013-01-01 06:00:00\\\\\n",
       "\t 2013 & 1 & 1 & 602 & 605 & -3 &  821 &  805 &  16 & MQ & 4401 & N730MQ & LGA & DTW & 105 &  502 & 6 &  5 & 2013-01-01 06:00:00\\\\\n",
       "\t 2013 & 1 & 1 & 606 & 610 & -4 &  858 &  910 & -12 & AA & 1895 & N633AA & EWR & MIA & 152 & 1085 & 6 & 10 & 2013-01-01 06:00:00\\\\\n",
       "\t 2013 & 1 & 1 & 606 & 610 & -4 &  837 &  845 &  -8 & DL & 1743 & N3739P & JFK & ATL & 128 &  760 & 6 & 10 & 2013-01-01 06:00:00\\\\\n",
       "\t 2013 & 1 & 1 & 607 & 607 &  0 &  858 &  915 & -17 & UA & 1077 & N53442 & EWR & MIA & 157 & 1085 & 6 &  7 & 2013-01-01 06:00:00\\\\\n",
       "\t 2013 & 1 & 1 & 608 & 600 &  8 &  807 &  735 &  32 & MQ & 3768 & N9EAMQ & EWR & ORD & 139 &  719 & 6 &  0 & 2013-01-01 06:00:00\\\\\n",
       "\t 2013 & 1 & 1 & 611 & 600 & 11 &  945 &  931 &  14 & UA &  303 & N532UA & JFK & SFO & 366 & 2586 & 6 &  0 & 2013-01-01 06:00:00\\\\\n",
       "\t 2013 & 1 & 1 & 613 & 610 &  3 &  925 &  921 &   4 & B6 &  135 & N635JB & JFK & RSW & 175 & 1074 & 6 & 10 & 2013-01-01 06:00:00\\\\\n",
       "\t 2013 & 1 & 1 & 615 & 615 &  0 & 1039 & 1100 & -21 & B6 &  709 & N794JB & JFK & SJU & 182 & 1598 & 6 & 15 & 2013-01-01 06:00:00\\\\\n",
       "\t 2013 & 1 & 1 & 615 & 615 &  0 &  833 &  842 &  -9 & DL &  575 & N326NB & EWR & ATL & 120 &  746 & 6 & 15 & 2013-01-01 06:00:00\\\\\n",
       "\t ⋮ & ⋮ & ⋮ & ⋮ & ⋮ & ⋮ & ⋮ & ⋮ & ⋮ & ⋮ & ⋮ & ⋮ & ⋮ & ⋮ & ⋮ & ⋮ & ⋮ & ⋮ & ⋮\\\\\n",
       "\t 2013 & 12 & 31 & 2155 & 2039 &  76 &  253 & 2355 &  NA & B6 & 1205 & N627JB & JFK & PDX &  NA & 2454 & 20 & 39 & 2013-12-31 20:00:00\\\\\n",
       "\t 2013 & 12 & 31 & 2155 & 2150 &   5 &  110 &   51 &  19 & B6 & 1901 & N729JB & JFK & FLL & 164 & 1069 & 21 & 50 & 2013-12-31 21:00:00\\\\\n",
       "\t 2013 & 12 & 31 & 2159 & 2155 &   4 &   55 &   46 &   9 & B6 & 2053 & N593JB & JFK & PBI & 155 & 1028 & 21 & 55 & 2013-12-31 21:00:00\\\\\n",
       "\t 2013 & 12 & 31 & 2206 & 2110 &  56 &   44 & 2339 &  65 & B6 &  775 & N184JB & JFK & MSY & 195 & 1182 & 21 & 10 & 2013-12-31 21:00:00\\\\\n",
       "\t 2013 & 12 & 31 & 2211 & 2159 &  12 &  100 &   45 &  15 & B6 & 1183 & N715JB & JFK & MCO & 148 &  944 & 21 & 59 & 2013-12-31 21:00:00\\\\\n",
       "\t 2013 & 12 & 31 & 2218 & 2219 &  -1 &  315 &  304 &  11 & B6 & 1203 & N625JB & JFK & SJU & 202 & 1598 & 22 & 19 & 2013-12-31 22:00:00\\\\\n",
       "\t 2013 & 12 & 31 & 2235 & 2245 & -10 & 2351 & 2355 &  -4 & B6 &  234 & N355JB & JFK & BTV &  49 &  266 & 22 & 45 & 2013-12-31 22:00:00\\\\\n",
       "\t 2013 & 12 & 31 & 2245 & 2250 &  -5 & 2359 & 2356 &   3 & B6 & 1816 & N318JB & JFK & SYR &  51 &  209 & 22 & 50 & 2013-12-31 22:00:00\\\\\n",
       "\t 2013 & 12 & 31 & 2310 & 2255 &  15 &    7 & 2356 &  11 & B6 &  718 & N279JB & JFK & BOS &  40 &  187 & 22 & 55 & 2013-12-31 22:00:00\\\\\n",
       "\t 2013 & 12 & 31 & 2321 & 2250 &  31 &   46 &    8 &  38 & B6 & 2002 & N179JB & JFK & BUF &  66 &  301 & 22 & 50 & 2013-12-31 22:00:00\\\\\n",
       "\t 2013 & 12 & 31 & 2328 & 2330 &  -2 &  412 &  409 &   3 & B6 & 1389 & N651JB & EWR & SJU & 198 & 1608 & 23 & 30 & 2013-12-31 23:00:00\\\\\n",
       "\t 2013 & 12 & 31 & 2332 & 2245 &  47 &   58 &    3 &  55 & B6 &  486 & N334JB & JFK & ROC &  60 &  264 & 22 & 45 & 2013-12-31 22:00:00\\\\\n",
       "\t 2013 & 12 & 31 & 2355 & 2359 &  -4 &  430 &  440 & -10 & B6 & 1503 & N509JB & JFK & SJU & 195 & 1598 & 23 & 59 & 2013-12-31 23:00:00\\\\\n",
       "\t 2013 & 12 & 31 & 2356 & 2359 &  -3 &  436 &  445 &  -9 & B6 &  745 & N665JB & JFK & PSE & 200 & 1617 & 23 & 59 & 2013-12-31 23:00:00\\\\\n",
       "\t 2013 & 12 & 31 &   NA & 1520 &  NA &   NA & 1705 &  NA & AA &  341 & N568AA & LGA & ORD &  NA &  733 & 15 & 20 & 2013-12-31 15:00:00\\\\\n",
       "\t 2013 & 12 & 31 &   NA & 2025 &  NA &   NA & 2205 &  NA & AA &  371 & N482AA & LGA & ORD &  NA &  733 & 20 & 25 & 2013-12-31 20:00:00\\\\\n",
       "\t 2013 & 12 & 31 &   NA & 1932 &  NA &   NA & 2305 &  NA & B6 &  161 & N516JB & JFK & SMF &  NA & 2521 & 19 & 32 & 2013-12-31 19:00:00\\\\\n",
       "\t 2013 & 12 & 31 &   NA & 1505 &  NA &   NA & 1725 &  NA & EV & 4181 & N24103 & EWR & MCI &  NA & 1092 & 15 &  5 & 2013-12-31 15:00:00\\\\\n",
       "\t 2013 & 12 & 31 &   NA & 1000 &  NA &   NA & 1252 &  NA & UA & 1124 & NA     & EWR & EGE &  NA & 1725 & 10 &  0 & 2013-12-31 10:00:00\\\\\n",
       "\t 2013 & 12 & 31 &   NA &  840 &  NA &   NA & 1205 &  NA & UA & 1151 & NA     & EWR & SEA &  NA & 2402 &  8 & 40 & 2013-12-31 08:00:00\\\\\n",
       "\t 2013 & 12 & 31 &   NA &  754 &  NA &   NA & 1118 &  NA & UA & 1455 & NA     & EWR & LAX &  NA & 2454 &  7 & 54 & 2013-12-31 07:00:00\\\\\n",
       "\t 2013 & 12 & 31 &   NA & 2000 &  NA &   NA & 2146 &  NA & UA & 1482 & NA     & EWR & ORD &  NA &  719 & 20 &  0 & 2013-12-31 20:00:00\\\\\n",
       "\t 2013 & 12 & 31 &   NA & 1500 &  NA &   NA & 1817 &  NA & UA & 1483 & NA     & EWR & AUS &  NA & 1504 & 15 &  0 & 2013-12-31 15:00:00\\\\\n",
       "\t 2013 & 12 & 31 &   NA & 1430 &  NA &   NA & 1750 &  NA & UA & 1493 & NA     & EWR & LAX &  NA & 2454 & 14 & 30 & 2013-12-31 14:00:00\\\\\n",
       "\t 2013 & 12 & 31 &   NA &  855 &  NA &   NA & 1142 &  NA & UA & 1506 & NA     & EWR & JAC &  NA & 1874 &  8 & 55 & 2013-12-31 08:00:00\\\\\n",
       "\t 2013 & 12 & 31 &   NA &  705 &  NA &   NA &  931 &  NA & UA & 1729 & NA     & EWR & DEN &  NA & 1605 &  7 &  5 & 2013-12-31 07:00:00\\\\\n",
       "\t 2013 & 12 & 31 &   NA &  825 &  NA &   NA & 1029 &  NA & US & 1831 & NA     & JFK & CLT &  NA &  541 &  8 & 25 & 2013-12-31 08:00:00\\\\\n",
       "\t 2013 & 12 & 31 &   NA & 1615 &  NA &   NA & 1800 &  NA & MQ & 3301 & N844MQ & LGA & RDU &  NA &  431 & 16 & 15 & 2013-12-31 16:00:00\\\\\n",
       "\t 2013 & 12 & 31 &   NA &  600 &  NA &   NA &  735 &  NA & UA &  219 & NA     & EWR & ORD &  NA &  719 &  6 &  0 & 2013-12-31 06:00:00\\\\\n",
       "\t 2013 & 12 & 31 &   NA &  830 &  NA &   NA & 1154 &  NA & UA &  443 & NA     & JFK & LAX &  NA & 2475 &  8 & 30 & 2013-12-31 08:00:00\\\\\n",
       "\\end{tabular}\n"
      ],
      "text/markdown": [
       "\n",
       "A tibble: 336776 × 19\n",
       "\n",
       "| year &lt;int&gt; | month &lt;int&gt; | day &lt;int&gt; | dep_time &lt;int&gt; | sched_dep_time &lt;int&gt; | dep_delay &lt;dbl&gt; | arr_time &lt;int&gt; | sched_arr_time &lt;int&gt; | arr_delay &lt;dbl&gt; | carrier &lt;chr&gt; | flight &lt;int&gt; | tailnum &lt;chr&gt; | origin &lt;chr&gt; | dest &lt;chr&gt; | air_time &lt;dbl&gt; | distance &lt;dbl&gt; | hour &lt;dbl&gt; | minute &lt;dbl&gt; | time_hour &lt;dttm&gt; |\n",
       "|---|---|---|---|---|---|---|---|---|---|---|---|---|---|---|---|---|---|---|\n",
       "| 2013 | 1 | 1 | 517 | 515 |  2 |  830 |  819 |  11 | UA | 1545 | N14228 | EWR | IAH | 227 | 1400 | 5 | 15 | 2013-01-01 05:00:00 |\n",
       "| 2013 | 1 | 1 | 533 | 529 |  4 |  850 |  830 |  20 | UA | 1714 | N24211 | LGA | IAH | 227 | 1416 | 5 | 29 | 2013-01-01 05:00:00 |\n",
       "| 2013 | 1 | 1 | 542 | 540 |  2 |  923 |  850 |  33 | AA | 1141 | N619AA | JFK | MIA | 160 | 1089 | 5 | 40 | 2013-01-01 05:00:00 |\n",
       "| 2013 | 1 | 1 | 544 | 545 | -1 | 1004 | 1022 | -18 | B6 |  725 | N804JB | JFK | BQN | 183 | 1576 | 5 | 45 | 2013-01-01 05:00:00 |\n",
       "| 2013 | 1 | 1 | 554 | 600 | -6 |  812 |  837 | -25 | DL |  461 | N668DN | LGA | ATL | 116 |  762 | 6 |  0 | 2013-01-01 06:00:00 |\n",
       "| 2013 | 1 | 1 | 554 | 558 | -4 |  740 |  728 |  12 | UA | 1696 | N39463 | EWR | ORD | 150 |  719 | 5 | 58 | 2013-01-01 05:00:00 |\n",
       "| 2013 | 1 | 1 | 555 | 600 | -5 |  913 |  854 |  19 | B6 |  507 | N516JB | EWR | FLL | 158 | 1065 | 6 |  0 | 2013-01-01 06:00:00 |\n",
       "| 2013 | 1 | 1 | 557 | 600 | -3 |  709 |  723 | -14 | EV | 5708 | N829AS | LGA | IAD |  53 |  229 | 6 |  0 | 2013-01-01 06:00:00 |\n",
       "| 2013 | 1 | 1 | 557 | 600 | -3 |  838 |  846 |  -8 | B6 |   79 | N593JB | JFK | MCO | 140 |  944 | 6 |  0 | 2013-01-01 06:00:00 |\n",
       "| 2013 | 1 | 1 | 558 | 600 | -2 |  753 |  745 |   8 | AA |  301 | N3ALAA | LGA | ORD | 138 |  733 | 6 |  0 | 2013-01-01 06:00:00 |\n",
       "| 2013 | 1 | 1 | 558 | 600 | -2 |  849 |  851 |  -2 | B6 |   49 | N793JB | JFK | PBI | 149 | 1028 | 6 |  0 | 2013-01-01 06:00:00 |\n",
       "| 2013 | 1 | 1 | 558 | 600 | -2 |  853 |  856 |  -3 | B6 |   71 | N657JB | JFK | TPA | 158 | 1005 | 6 |  0 | 2013-01-01 06:00:00 |\n",
       "| 2013 | 1 | 1 | 558 | 600 | -2 |  924 |  917 |   7 | UA |  194 | N29129 | JFK | LAX | 345 | 2475 | 6 |  0 | 2013-01-01 06:00:00 |\n",
       "| 2013 | 1 | 1 | 558 | 600 | -2 |  923 |  937 | -14 | UA | 1124 | N53441 | EWR | SFO | 361 | 2565 | 6 |  0 | 2013-01-01 06:00:00 |\n",
       "| 2013 | 1 | 1 | 559 | 600 | -1 |  941 |  910 |  31 | AA |  707 | N3DUAA | LGA | DFW | 257 | 1389 | 6 |  0 | 2013-01-01 06:00:00 |\n",
       "| 2013 | 1 | 1 | 559 | 559 |  0 |  702 |  706 |  -4 | B6 | 1806 | N708JB | JFK | BOS |  44 |  187 | 5 | 59 | 2013-01-01 05:00:00 |\n",
       "| 2013 | 1 | 1 | 559 | 600 | -1 |  854 |  902 |  -8 | UA | 1187 | N76515 | EWR | LAS | 337 | 2227 | 6 |  0 | 2013-01-01 06:00:00 |\n",
       "| 2013 | 1 | 1 | 600 | 600 |  0 |  851 |  858 |  -7 | B6 |  371 | N595JB | LGA | FLL | 152 | 1076 | 6 |  0 | 2013-01-01 06:00:00 |\n",
       "| 2013 | 1 | 1 | 600 | 600 |  0 |  837 |  825 |  12 | MQ | 4650 | N542MQ | LGA | ATL | 134 |  762 | 6 |  0 | 2013-01-01 06:00:00 |\n",
       "| 2013 | 1 | 1 | 601 | 600 |  1 |  844 |  850 |  -6 | B6 |  343 | N644JB | EWR | PBI | 147 | 1023 | 6 |  0 | 2013-01-01 06:00:00 |\n",
       "| 2013 | 1 | 1 | 602 | 610 | -8 |  812 |  820 |  -8 | DL | 1919 | N971DL | LGA | MSP | 170 | 1020 | 6 | 10 | 2013-01-01 06:00:00 |\n",
       "| 2013 | 1 | 1 | 602 | 605 | -3 |  821 |  805 |  16 | MQ | 4401 | N730MQ | LGA | DTW | 105 |  502 | 6 |  5 | 2013-01-01 06:00:00 |\n",
       "| 2013 | 1 | 1 | 606 | 610 | -4 |  858 |  910 | -12 | AA | 1895 | N633AA | EWR | MIA | 152 | 1085 | 6 | 10 | 2013-01-01 06:00:00 |\n",
       "| 2013 | 1 | 1 | 606 | 610 | -4 |  837 |  845 |  -8 | DL | 1743 | N3739P | JFK | ATL | 128 |  760 | 6 | 10 | 2013-01-01 06:00:00 |\n",
       "| 2013 | 1 | 1 | 607 | 607 |  0 |  858 |  915 | -17 | UA | 1077 | N53442 | EWR | MIA | 157 | 1085 | 6 |  7 | 2013-01-01 06:00:00 |\n",
       "| 2013 | 1 | 1 | 608 | 600 |  8 |  807 |  735 |  32 | MQ | 3768 | N9EAMQ | EWR | ORD | 139 |  719 | 6 |  0 | 2013-01-01 06:00:00 |\n",
       "| 2013 | 1 | 1 | 611 | 600 | 11 |  945 |  931 |  14 | UA |  303 | N532UA | JFK | SFO | 366 | 2586 | 6 |  0 | 2013-01-01 06:00:00 |\n",
       "| 2013 | 1 | 1 | 613 | 610 |  3 |  925 |  921 |   4 | B6 |  135 | N635JB | JFK | RSW | 175 | 1074 | 6 | 10 | 2013-01-01 06:00:00 |\n",
       "| 2013 | 1 | 1 | 615 | 615 |  0 | 1039 | 1100 | -21 | B6 |  709 | N794JB | JFK | SJU | 182 | 1598 | 6 | 15 | 2013-01-01 06:00:00 |\n",
       "| 2013 | 1 | 1 | 615 | 615 |  0 |  833 |  842 |  -9 | DL |  575 | N326NB | EWR | ATL | 120 |  746 | 6 | 15 | 2013-01-01 06:00:00 |\n",
       "| ⋮ | ⋮ | ⋮ | ⋮ | ⋮ | ⋮ | ⋮ | ⋮ | ⋮ | ⋮ | ⋮ | ⋮ | ⋮ | ⋮ | ⋮ | ⋮ | ⋮ | ⋮ | ⋮ |\n",
       "| 2013 | 12 | 31 | 2155 | 2039 |  76 |  253 | 2355 |  NA | B6 | 1205 | N627JB | JFK | PDX |  NA | 2454 | 20 | 39 | 2013-12-31 20:00:00 |\n",
       "| 2013 | 12 | 31 | 2155 | 2150 |   5 |  110 |   51 |  19 | B6 | 1901 | N729JB | JFK | FLL | 164 | 1069 | 21 | 50 | 2013-12-31 21:00:00 |\n",
       "| 2013 | 12 | 31 | 2159 | 2155 |   4 |   55 |   46 |   9 | B6 | 2053 | N593JB | JFK | PBI | 155 | 1028 | 21 | 55 | 2013-12-31 21:00:00 |\n",
       "| 2013 | 12 | 31 | 2206 | 2110 |  56 |   44 | 2339 |  65 | B6 |  775 | N184JB | JFK | MSY | 195 | 1182 | 21 | 10 | 2013-12-31 21:00:00 |\n",
       "| 2013 | 12 | 31 | 2211 | 2159 |  12 |  100 |   45 |  15 | B6 | 1183 | N715JB | JFK | MCO | 148 |  944 | 21 | 59 | 2013-12-31 21:00:00 |\n",
       "| 2013 | 12 | 31 | 2218 | 2219 |  -1 |  315 |  304 |  11 | B6 | 1203 | N625JB | JFK | SJU | 202 | 1598 | 22 | 19 | 2013-12-31 22:00:00 |\n",
       "| 2013 | 12 | 31 | 2235 | 2245 | -10 | 2351 | 2355 |  -4 | B6 |  234 | N355JB | JFK | BTV |  49 |  266 | 22 | 45 | 2013-12-31 22:00:00 |\n",
       "| 2013 | 12 | 31 | 2245 | 2250 |  -5 | 2359 | 2356 |   3 | B6 | 1816 | N318JB | JFK | SYR |  51 |  209 | 22 | 50 | 2013-12-31 22:00:00 |\n",
       "| 2013 | 12 | 31 | 2310 | 2255 |  15 |    7 | 2356 |  11 | B6 |  718 | N279JB | JFK | BOS |  40 |  187 | 22 | 55 | 2013-12-31 22:00:00 |\n",
       "| 2013 | 12 | 31 | 2321 | 2250 |  31 |   46 |    8 |  38 | B6 | 2002 | N179JB | JFK | BUF |  66 |  301 | 22 | 50 | 2013-12-31 22:00:00 |\n",
       "| 2013 | 12 | 31 | 2328 | 2330 |  -2 |  412 |  409 |   3 | B6 | 1389 | N651JB | EWR | SJU | 198 | 1608 | 23 | 30 | 2013-12-31 23:00:00 |\n",
       "| 2013 | 12 | 31 | 2332 | 2245 |  47 |   58 |    3 |  55 | B6 |  486 | N334JB | JFK | ROC |  60 |  264 | 22 | 45 | 2013-12-31 22:00:00 |\n",
       "| 2013 | 12 | 31 | 2355 | 2359 |  -4 |  430 |  440 | -10 | B6 | 1503 | N509JB | JFK | SJU | 195 | 1598 | 23 | 59 | 2013-12-31 23:00:00 |\n",
       "| 2013 | 12 | 31 | 2356 | 2359 |  -3 |  436 |  445 |  -9 | B6 |  745 | N665JB | JFK | PSE | 200 | 1617 | 23 | 59 | 2013-12-31 23:00:00 |\n",
       "| 2013 | 12 | 31 |   NA | 1520 |  NA |   NA | 1705 |  NA | AA |  341 | N568AA | LGA | ORD |  NA |  733 | 15 | 20 | 2013-12-31 15:00:00 |\n",
       "| 2013 | 12 | 31 |   NA | 2025 |  NA |   NA | 2205 |  NA | AA |  371 | N482AA | LGA | ORD |  NA |  733 | 20 | 25 | 2013-12-31 20:00:00 |\n",
       "| 2013 | 12 | 31 |   NA | 1932 |  NA |   NA | 2305 |  NA | B6 |  161 | N516JB | JFK | SMF |  NA | 2521 | 19 | 32 | 2013-12-31 19:00:00 |\n",
       "| 2013 | 12 | 31 |   NA | 1505 |  NA |   NA | 1725 |  NA | EV | 4181 | N24103 | EWR | MCI |  NA | 1092 | 15 |  5 | 2013-12-31 15:00:00 |\n",
       "| 2013 | 12 | 31 |   NA | 1000 |  NA |   NA | 1252 |  NA | UA | 1124 | NA     | EWR | EGE |  NA | 1725 | 10 |  0 | 2013-12-31 10:00:00 |\n",
       "| 2013 | 12 | 31 |   NA |  840 |  NA |   NA | 1205 |  NA | UA | 1151 | NA     | EWR | SEA |  NA | 2402 |  8 | 40 | 2013-12-31 08:00:00 |\n",
       "| 2013 | 12 | 31 |   NA |  754 |  NA |   NA | 1118 |  NA | UA | 1455 | NA     | EWR | LAX |  NA | 2454 |  7 | 54 | 2013-12-31 07:00:00 |\n",
       "| 2013 | 12 | 31 |   NA | 2000 |  NA |   NA | 2146 |  NA | UA | 1482 | NA     | EWR | ORD |  NA |  719 | 20 |  0 | 2013-12-31 20:00:00 |\n",
       "| 2013 | 12 | 31 |   NA | 1500 |  NA |   NA | 1817 |  NA | UA | 1483 | NA     | EWR | AUS |  NA | 1504 | 15 |  0 | 2013-12-31 15:00:00 |\n",
       "| 2013 | 12 | 31 |   NA | 1430 |  NA |   NA | 1750 |  NA | UA | 1493 | NA     | EWR | LAX |  NA | 2454 | 14 | 30 | 2013-12-31 14:00:00 |\n",
       "| 2013 | 12 | 31 |   NA |  855 |  NA |   NA | 1142 |  NA | UA | 1506 | NA     | EWR | JAC |  NA | 1874 |  8 | 55 | 2013-12-31 08:00:00 |\n",
       "| 2013 | 12 | 31 |   NA |  705 |  NA |   NA |  931 |  NA | UA | 1729 | NA     | EWR | DEN |  NA | 1605 |  7 |  5 | 2013-12-31 07:00:00 |\n",
       "| 2013 | 12 | 31 |   NA |  825 |  NA |   NA | 1029 |  NA | US | 1831 | NA     | JFK | CLT |  NA |  541 |  8 | 25 | 2013-12-31 08:00:00 |\n",
       "| 2013 | 12 | 31 |   NA | 1615 |  NA |   NA | 1800 |  NA | MQ | 3301 | N844MQ | LGA | RDU |  NA |  431 | 16 | 15 | 2013-12-31 16:00:00 |\n",
       "| 2013 | 12 | 31 |   NA |  600 |  NA |   NA |  735 |  NA | UA |  219 | NA     | EWR | ORD |  NA |  719 |  6 |  0 | 2013-12-31 06:00:00 |\n",
       "| 2013 | 12 | 31 |   NA |  830 |  NA |   NA | 1154 |  NA | UA |  443 | NA     | JFK | LAX |  NA | 2475 |  8 | 30 | 2013-12-31 08:00:00 |\n",
       "\n"
      ],
      "text/plain": [
       "       year month day dep_time sched_dep_time dep_delay arr_time sched_arr_time\n",
       "1      2013 1     1   517      515             2         830      819          \n",
       "2      2013 1     1   533      529             4         850      830          \n",
       "3      2013 1     1   542      540             2         923      850          \n",
       "4      2013 1     1   544      545            -1        1004     1022          \n",
       "5      2013 1     1   554      600            -6         812      837          \n",
       "6      2013 1     1   554      558            -4         740      728          \n",
       "7      2013 1     1   555      600            -5         913      854          \n",
       "8      2013 1     1   557      600            -3         709      723          \n",
       "9      2013 1     1   557      600            -3         838      846          \n",
       "10     2013 1     1   558      600            -2         753      745          \n",
       "11     2013 1     1   558      600            -2         849      851          \n",
       "12     2013 1     1   558      600            -2         853      856          \n",
       "13     2013 1     1   558      600            -2         924      917          \n",
       "14     2013 1     1   558      600            -2         923      937          \n",
       "15     2013 1     1   559      600            -1         941      910          \n",
       "16     2013 1     1   559      559             0         702      706          \n",
       "17     2013 1     1   559      600            -1         854      902          \n",
       "18     2013 1     1   600      600             0         851      858          \n",
       "19     2013 1     1   600      600             0         837      825          \n",
       "20     2013 1     1   601      600             1         844      850          \n",
       "21     2013 1     1   602      610            -8         812      820          \n",
       "22     2013 1     1   602      605            -3         821      805          \n",
       "23     2013 1     1   606      610            -4         858      910          \n",
       "24     2013 1     1   606      610            -4         837      845          \n",
       "25     2013 1     1   607      607             0         858      915          \n",
       "26     2013 1     1   608      600             8         807      735          \n",
       "27     2013 1     1   611      600            11         945      931          \n",
       "28     2013 1     1   613      610             3         925      921          \n",
       "29     2013 1     1   615      615             0        1039     1100          \n",
       "30     2013 1     1   615      615             0         833      842          \n",
       "⋮      ⋮    ⋮     ⋮   ⋮        ⋮              ⋮         ⋮        ⋮             \n",
       "336747 2013 12    31  2155     2039            76        253     2355          \n",
       "336748 2013 12    31  2155     2150             5        110       51          \n",
       "336749 2013 12    31  2159     2155             4         55       46          \n",
       "336750 2013 12    31  2206     2110            56         44     2339          \n",
       "336751 2013 12    31  2211     2159            12        100       45          \n",
       "336752 2013 12    31  2218     2219            -1        315      304          \n",
       "336753 2013 12    31  2235     2245           -10       2351     2355          \n",
       "336754 2013 12    31  2245     2250            -5       2359     2356          \n",
       "336755 2013 12    31  2310     2255            15          7     2356          \n",
       "336756 2013 12    31  2321     2250            31         46        8          \n",
       "336757 2013 12    31  2328     2330            -2        412      409          \n",
       "336758 2013 12    31  2332     2245            47         58        3          \n",
       "336759 2013 12    31  2355     2359            -4        430      440          \n",
       "336760 2013 12    31  2356     2359            -3        436      445          \n",
       "336761 2013 12    31    NA     1520            NA         NA     1705          \n",
       "336762 2013 12    31    NA     2025            NA         NA     2205          \n",
       "336763 2013 12    31    NA     1932            NA         NA     2305          \n",
       "336764 2013 12    31    NA     1505            NA         NA     1725          \n",
       "336765 2013 12    31    NA     1000            NA         NA     1252          \n",
       "336766 2013 12    31    NA      840            NA         NA     1205          \n",
       "336767 2013 12    31    NA      754            NA         NA     1118          \n",
       "336768 2013 12    31    NA     2000            NA         NA     2146          \n",
       "336769 2013 12    31    NA     1500            NA         NA     1817          \n",
       "336770 2013 12    31    NA     1430            NA         NA     1750          \n",
       "336771 2013 12    31    NA      855            NA         NA     1142          \n",
       "336772 2013 12    31    NA      705            NA         NA      931          \n",
       "336773 2013 12    31    NA      825            NA         NA     1029          \n",
       "336774 2013 12    31    NA     1615            NA         NA     1800          \n",
       "336775 2013 12    31    NA      600            NA         NA      735          \n",
       "336776 2013 12    31    NA      830            NA         NA     1154          \n",
       "       arr_delay carrier flight tailnum origin dest air_time distance hour\n",
       "1       11       UA      1545   N14228  EWR    IAH  227      1400     5   \n",
       "2       20       UA      1714   N24211  LGA    IAH  227      1416     5   \n",
       "3       33       AA      1141   N619AA  JFK    MIA  160      1089     5   \n",
       "4      -18       B6       725   N804JB  JFK    BQN  183      1576     5   \n",
       "5      -25       DL       461   N668DN  LGA    ATL  116       762     6   \n",
       "6       12       UA      1696   N39463  EWR    ORD  150       719     5   \n",
       "7       19       B6       507   N516JB  EWR    FLL  158      1065     6   \n",
       "8      -14       EV      5708   N829AS  LGA    IAD   53       229     6   \n",
       "9       -8       B6        79   N593JB  JFK    MCO  140       944     6   \n",
       "10       8       AA       301   N3ALAA  LGA    ORD  138       733     6   \n",
       "11      -2       B6        49   N793JB  JFK    PBI  149      1028     6   \n",
       "12      -3       B6        71   N657JB  JFK    TPA  158      1005     6   \n",
       "13       7       UA       194   N29129  JFK    LAX  345      2475     6   \n",
       "14     -14       UA      1124   N53441  EWR    SFO  361      2565     6   \n",
       "15      31       AA       707   N3DUAA  LGA    DFW  257      1389     6   \n",
       "16      -4       B6      1806   N708JB  JFK    BOS   44       187     5   \n",
       "17      -8       UA      1187   N76515  EWR    LAS  337      2227     6   \n",
       "18      -7       B6       371   N595JB  LGA    FLL  152      1076     6   \n",
       "19      12       MQ      4650   N542MQ  LGA    ATL  134       762     6   \n",
       "20      -6       B6       343   N644JB  EWR    PBI  147      1023     6   \n",
       "21      -8       DL      1919   N971DL  LGA    MSP  170      1020     6   \n",
       "22      16       MQ      4401   N730MQ  LGA    DTW  105       502     6   \n",
       "23     -12       AA      1895   N633AA  EWR    MIA  152      1085     6   \n",
       "24      -8       DL      1743   N3739P  JFK    ATL  128       760     6   \n",
       "25     -17       UA      1077   N53442  EWR    MIA  157      1085     6   \n",
       "26      32       MQ      3768   N9EAMQ  EWR    ORD  139       719     6   \n",
       "27      14       UA       303   N532UA  JFK    SFO  366      2586     6   \n",
       "28       4       B6       135   N635JB  JFK    RSW  175      1074     6   \n",
       "29     -21       B6       709   N794JB  JFK    SJU  182      1598     6   \n",
       "30      -9       DL       575   N326NB  EWR    ATL  120       746     6   \n",
       "⋮      ⋮         ⋮       ⋮      ⋮       ⋮      ⋮    ⋮        ⋮        ⋮   \n",
       "336747  NA       B6      1205   N627JB  JFK    PDX   NA      2454     20  \n",
       "336748  19       B6      1901   N729JB  JFK    FLL  164      1069     21  \n",
       "336749   9       B6      2053   N593JB  JFK    PBI  155      1028     21  \n",
       "336750  65       B6       775   N184JB  JFK    MSY  195      1182     21  \n",
       "336751  15       B6      1183   N715JB  JFK    MCO  148       944     21  \n",
       "336752  11       B6      1203   N625JB  JFK    SJU  202      1598     22  \n",
       "336753  -4       B6       234   N355JB  JFK    BTV   49       266     22  \n",
       "336754   3       B6      1816   N318JB  JFK    SYR   51       209     22  \n",
       "336755  11       B6       718   N279JB  JFK    BOS   40       187     22  \n",
       "336756  38       B6      2002   N179JB  JFK    BUF   66       301     22  \n",
       "336757   3       B6      1389   N651JB  EWR    SJU  198      1608     23  \n",
       "336758  55       B6       486   N334JB  JFK    ROC   60       264     22  \n",
       "336759 -10       B6      1503   N509JB  JFK    SJU  195      1598     23  \n",
       "336760  -9       B6       745   N665JB  JFK    PSE  200      1617     23  \n",
       "336761  NA       AA       341   N568AA  LGA    ORD   NA       733     15  \n",
       "336762  NA       AA       371   N482AA  LGA    ORD   NA       733     20  \n",
       "336763  NA       B6       161   N516JB  JFK    SMF   NA      2521     19  \n",
       "336764  NA       EV      4181   N24103  EWR    MCI   NA      1092     15  \n",
       "336765  NA       UA      1124   NA      EWR    EGE   NA      1725     10  \n",
       "336766  NA       UA      1151   NA      EWR    SEA   NA      2402      8  \n",
       "336767  NA       UA      1455   NA      EWR    LAX   NA      2454      7  \n",
       "336768  NA       UA      1482   NA      EWR    ORD   NA       719     20  \n",
       "336769  NA       UA      1483   NA      EWR    AUS   NA      1504     15  \n",
       "336770  NA       UA      1493   NA      EWR    LAX   NA      2454     14  \n",
       "336771  NA       UA      1506   NA      EWR    JAC   NA      1874      8  \n",
       "336772  NA       UA      1729   NA      EWR    DEN   NA      1605      7  \n",
       "336773  NA       US      1831   NA      JFK    CLT   NA       541      8  \n",
       "336774  NA       MQ      3301   N844MQ  LGA    RDU   NA       431     16  \n",
       "336775  NA       UA       219   NA      EWR    ORD   NA       719      6  \n",
       "336776  NA       UA       443   NA      JFK    LAX   NA      2475      8  \n",
       "       minute time_hour          \n",
       "1      15     2013-01-01 05:00:00\n",
       "2      29     2013-01-01 05:00:00\n",
       "3      40     2013-01-01 05:00:00\n",
       "4      45     2013-01-01 05:00:00\n",
       "5       0     2013-01-01 06:00:00\n",
       "6      58     2013-01-01 05:00:00\n",
       "7       0     2013-01-01 06:00:00\n",
       "8       0     2013-01-01 06:00:00\n",
       "9       0     2013-01-01 06:00:00\n",
       "10      0     2013-01-01 06:00:00\n",
       "11      0     2013-01-01 06:00:00\n",
       "12      0     2013-01-01 06:00:00\n",
       "13      0     2013-01-01 06:00:00\n",
       "14      0     2013-01-01 06:00:00\n",
       "15      0     2013-01-01 06:00:00\n",
       "16     59     2013-01-01 05:00:00\n",
       "17      0     2013-01-01 06:00:00\n",
       "18      0     2013-01-01 06:00:00\n",
       "19      0     2013-01-01 06:00:00\n",
       "20      0     2013-01-01 06:00:00\n",
       "21     10     2013-01-01 06:00:00\n",
       "22      5     2013-01-01 06:00:00\n",
       "23     10     2013-01-01 06:00:00\n",
       "24     10     2013-01-01 06:00:00\n",
       "25      7     2013-01-01 06:00:00\n",
       "26      0     2013-01-01 06:00:00\n",
       "27      0     2013-01-01 06:00:00\n",
       "28     10     2013-01-01 06:00:00\n",
       "29     15     2013-01-01 06:00:00\n",
       "30     15     2013-01-01 06:00:00\n",
       "⋮      ⋮      ⋮                  \n",
       "336747 39     2013-12-31 20:00:00\n",
       "336748 50     2013-12-31 21:00:00\n",
       "336749 55     2013-12-31 21:00:00\n",
       "336750 10     2013-12-31 21:00:00\n",
       "336751 59     2013-12-31 21:00:00\n",
       "336752 19     2013-12-31 22:00:00\n",
       "336753 45     2013-12-31 22:00:00\n",
       "336754 50     2013-12-31 22:00:00\n",
       "336755 55     2013-12-31 22:00:00\n",
       "336756 50     2013-12-31 22:00:00\n",
       "336757 30     2013-12-31 23:00:00\n",
       "336758 45     2013-12-31 22:00:00\n",
       "336759 59     2013-12-31 23:00:00\n",
       "336760 59     2013-12-31 23:00:00\n",
       "336761 20     2013-12-31 15:00:00\n",
       "336762 25     2013-12-31 20:00:00\n",
       "336763 32     2013-12-31 19:00:00\n",
       "336764  5     2013-12-31 15:00:00\n",
       "336765  0     2013-12-31 10:00:00\n",
       "336766 40     2013-12-31 08:00:00\n",
       "336767 54     2013-12-31 07:00:00\n",
       "336768  0     2013-12-31 20:00:00\n",
       "336769  0     2013-12-31 15:00:00\n",
       "336770 30     2013-12-31 14:00:00\n",
       "336771 55     2013-12-31 08:00:00\n",
       "336772  5     2013-12-31 07:00:00\n",
       "336773 25     2013-12-31 08:00:00\n",
       "336774 15     2013-12-31 16:00:00\n",
       "336775  0     2013-12-31 06:00:00\n",
       "336776 30     2013-12-31 08:00:00"
      ]
     },
     "metadata": {},
     "output_type": "display_data"
    }
   ],
   "source": [
    "arrange(flights, month, day)"
   ]
  },
  {
   "cell_type": "markdown",
   "metadata": {},
   "source": [
    "We sorted the data by month and day, so the top-most rows have the earliest month, folllowed by day."
   ]
  },
  {
   "cell_type": "markdown",
   "metadata": {
    "collapsed": true
   },
   "source": [
    "`desc()` will order in descending order."
   ]
  },
  {
   "cell_type": "code",
   "execution_count": 13,
   "metadata": {},
   "outputs": [
    {
     "data": {
      "text/html": [
       "<table>\n",
       "<caption>A tibble: 336776 × 19</caption>\n",
       "<thead>\n",
       "\t<tr><th scope=col>year</th><th scope=col>month</th><th scope=col>day</th><th scope=col>dep_time</th><th scope=col>sched_dep_time</th><th scope=col>dep_delay</th><th scope=col>arr_time</th><th scope=col>sched_arr_time</th><th scope=col>arr_delay</th><th scope=col>carrier</th><th scope=col>flight</th><th scope=col>tailnum</th><th scope=col>origin</th><th scope=col>dest</th><th scope=col>air_time</th><th scope=col>distance</th><th scope=col>hour</th><th scope=col>minute</th><th scope=col>time_hour</th></tr>\n",
       "\t<tr><th scope=col>&lt;int&gt;</th><th scope=col>&lt;int&gt;</th><th scope=col>&lt;int&gt;</th><th scope=col>&lt;int&gt;</th><th scope=col>&lt;int&gt;</th><th scope=col>&lt;dbl&gt;</th><th scope=col>&lt;int&gt;</th><th scope=col>&lt;int&gt;</th><th scope=col>&lt;dbl&gt;</th><th scope=col>&lt;chr&gt;</th><th scope=col>&lt;int&gt;</th><th scope=col>&lt;chr&gt;</th><th scope=col>&lt;chr&gt;</th><th scope=col>&lt;chr&gt;</th><th scope=col>&lt;dbl&gt;</th><th scope=col>&lt;dbl&gt;</th><th scope=col>&lt;dbl&gt;</th><th scope=col>&lt;dbl&gt;</th><th scope=col>&lt;dttm&gt;</th></tr>\n",
       "</thead>\n",
       "<tbody>\n",
       "\t<tr><td>2013</td><td>12</td><td>1</td><td> 13</td><td>2359</td><td> 14</td><td> 446</td><td> 445</td><td>  1</td><td>B6</td><td> 745</td><td>N715JB</td><td>JFK</td><td>PSE</td><td>195</td><td>1617</td><td>23</td><td>59</td><td>2013-12-01 23:00:00</td></tr>\n",
       "\t<tr><td>2013</td><td>12</td><td>1</td><td> 17</td><td>2359</td><td> 18</td><td> 443</td><td> 437</td><td>  6</td><td>B6</td><td> 839</td><td>N593JB</td><td>JFK</td><td>BQN</td><td>186</td><td>1576</td><td>23</td><td>59</td><td>2013-12-01 23:00:00</td></tr>\n",
       "\t<tr><td>2013</td><td>12</td><td>1</td><td>453</td><td> 500</td><td> -7</td><td> 636</td><td> 651</td><td>-15</td><td>US</td><td>1895</td><td>N197UW</td><td>EWR</td><td>CLT</td><td> 86</td><td> 529</td><td> 5</td><td> 0</td><td>2013-12-01 05:00:00</td></tr>\n",
       "\t<tr><td>2013</td><td>12</td><td>1</td><td>520</td><td> 515</td><td>  5</td><td> 749</td><td> 808</td><td>-19</td><td>UA</td><td>1487</td><td>N69804</td><td>EWR</td><td>IAH</td><td>193</td><td>1400</td><td> 5</td><td>15</td><td>2013-12-01 05:00:00</td></tr>\n",
       "\t<tr><td>2013</td><td>12</td><td>1</td><td>536</td><td> 540</td><td> -4</td><td> 845</td><td> 850</td><td> -5</td><td>AA</td><td>2243</td><td>N634AA</td><td>JFK</td><td>MIA</td><td>144</td><td>1089</td><td> 5</td><td>40</td><td>2013-12-01 05:00:00</td></tr>\n",
       "\t<tr><td>2013</td><td>12</td><td>1</td><td>540</td><td> 550</td><td>-10</td><td>1005</td><td>1027</td><td>-22</td><td>B6</td><td> 939</td><td>N821JB</td><td>JFK</td><td>BQN</td><td>189</td><td>1576</td><td> 5</td><td>50</td><td>2013-12-01 05:00:00</td></tr>\n",
       "\t<tr><td>2013</td><td>12</td><td>1</td><td>541</td><td> 545</td><td> -4</td><td> 734</td><td> 755</td><td>-21</td><td>EV</td><td>3819</td><td>N13968</td><td>EWR</td><td>CVG</td><td> 95</td><td> 569</td><td> 5</td><td>45</td><td>2013-12-01 05:00:00</td></tr>\n",
       "\t<tr><td>2013</td><td>12</td><td>1</td><td>546</td><td> 545</td><td>  1</td><td> 826</td><td> 835</td><td> -9</td><td>UA</td><td>1441</td><td>N23708</td><td>LGA</td><td>IAH</td><td>204</td><td>1416</td><td> 5</td><td>45</td><td>2013-12-01 05:00:00</td></tr>\n",
       "\t<tr><td>2013</td><td>12</td><td>1</td><td>549</td><td> 600</td><td>-11</td><td> 648</td><td> 659</td><td>-11</td><td>US</td><td>2167</td><td>N945UW</td><td>LGA</td><td>DCA</td><td> 42</td><td> 214</td><td> 6</td><td> 0</td><td>2013-12-01 06:00:00</td></tr>\n",
       "\t<tr><td>2013</td><td>12</td><td>1</td><td>550</td><td> 600</td><td>-10</td><td> 825</td><td> 854</td><td>-29</td><td>B6</td><td> 605</td><td>N706JB</td><td>EWR</td><td>FLL</td><td>140</td><td>1065</td><td> 6</td><td> 0</td><td>2013-12-01 06:00:00</td></tr>\n",
       "\t<tr><td>2013</td><td>12</td><td>1</td><td>554</td><td> 600</td><td> -6</td><td> 827</td><td> 849</td><td>-22</td><td>B6</td><td> 353</td><td>N779JB</td><td>JFK</td><td>PBI</td><td>135</td><td>1028</td><td> 6</td><td> 0</td><td>2013-12-01 06:00:00</td></tr>\n",
       "\t<tr><td>2013</td><td>12</td><td>1</td><td>554</td><td> 601</td><td> -7</td><td> 748</td><td> 811</td><td>-23</td><td>EV</td><td>4714</td><td>N14904</td><td>EWR</td><td>CLT</td><td> 86</td><td> 529</td><td> 6</td><td> 1</td><td>2013-12-01 06:00:00</td></tr>\n",
       "\t<tr><td>2013</td><td>12</td><td>1</td><td>554</td><td> 600</td><td> -6</td><td> 712</td><td> 719</td><td> -7</td><td>EV</td><td>5747</td><td>N820AS</td><td>LGA</td><td>IAD</td><td> 44</td><td> 229</td><td> 6</td><td> 0</td><td>2013-12-01 06:00:00</td></tr>\n",
       "\t<tr><td>2013</td><td>12</td><td>1</td><td>554</td><td> 600</td><td> -6</td><td> 645</td><td> 705</td><td>-20</td><td>US</td><td>1739</td><td>N947UW</td><td>LGA</td><td>PHL</td><td> 36</td><td>  96</td><td> 6</td><td> 0</td><td>2013-12-01 06:00:00</td></tr>\n",
       "\t<tr><td>2013</td><td>12</td><td>1</td><td>555</td><td> 600</td><td> -5</td><td> 805</td><td> 827</td><td>-22</td><td>DL</td><td>1377</td><td>N386DA</td><td>LGA</td><td>ATL</td><td>112</td><td> 762</td><td> 6</td><td> 0</td><td>2013-12-01 06:00:00</td></tr>\n",
       "\t<tr><td>2013</td><td>12</td><td>1</td><td>556</td><td> 600</td><td> -4</td><td> 846</td><td> 846</td><td>  0</td><td>B6</td><td> 583</td><td>N583JB</td><td>JFK</td><td>MCO</td><td>134</td><td> 944</td><td> 6</td><td> 0</td><td>2013-12-01 06:00:00</td></tr>\n",
       "\t<tr><td>2013</td><td>12</td><td>1</td><td>556</td><td> 600</td><td> -4</td><td> 742</td><td> 756</td><td>-14</td><td>DL</td><td>1517</td><td>N332NB</td><td>EWR</td><td>DTW</td><td> 87</td><td> 488</td><td> 6</td><td> 0</td><td>2013-12-01 06:00:00</td></tr>\n",
       "\t<tr><td>2013</td><td>12</td><td>1</td><td>557</td><td> 600</td><td> -3</td><td> 733</td><td> 754</td><td>-21</td><td>DL</td><td> 731</td><td>N318NB</td><td>LGA</td><td>DTW</td><td> 79</td><td> 502</td><td> 6</td><td> 0</td><td>2013-12-01 06:00:00</td></tr>\n",
       "\t<tr><td>2013</td><td>12</td><td>1</td><td>557</td><td> 600</td><td> -3</td><td> 828</td><td> 834</td><td> -6</td><td>EV</td><td>4141</td><td>N14148</td><td>EWR</td><td>ATL</td><td>121</td><td> 746</td><td> 6</td><td> 0</td><td>2013-12-01 06:00:00</td></tr>\n",
       "\t<tr><td>2013</td><td>12</td><td>1</td><td>558</td><td> 600</td><td> -2</td><td> 841</td><td> 856</td><td>-15</td><td>B6</td><td> 371</td><td>N592JB</td><td>LGA</td><td>FLL</td><td>141</td><td>1076</td><td> 6</td><td> 0</td><td>2013-12-01 06:00:00</td></tr>\n",
       "\t<tr><td>2013</td><td>12</td><td>1</td><td>558</td><td> 600</td><td> -2</td><td> 721</td><td> 717</td><td>  4</td><td>EV</td><td>5716</td><td>N833AS</td><td>JFK</td><td>IAD</td><td> 44</td><td> 228</td><td> 6</td><td> 0</td><td>2013-12-01 06:00:00</td></tr>\n",
       "\t<tr><td>2013</td><td>12</td><td>1</td><td>558</td><td> 600</td><td> -2</td><td> 718</td><td> 725</td><td> -7</td><td>WN</td><td>4262</td><td>N368SW</td><td>EWR</td><td>MDW</td><td>109</td><td> 711</td><td> 6</td><td> 0</td><td>2013-12-01 06:00:00</td></tr>\n",
       "\t<tr><td>2013</td><td>12</td><td>1</td><td>558</td><td> 600</td><td> -2</td><td> 724</td><td> 743</td><td>-19</td><td>UA</td><td>1038</td><td>N87507</td><td>EWR</td><td>CLE</td><td> 62</td><td> 404</td><td> 6</td><td> 0</td><td>2013-12-01 06:00:00</td></tr>\n",
       "\t<tr><td>2013</td><td>12</td><td>1</td><td>559</td><td> 600</td><td> -1</td><td> 709</td><td> 719</td><td>-10</td><td>EV</td><td>6177</td><td>N13202</td><td>EWR</td><td>IAD</td><td> 41</td><td> 212</td><td> 6</td><td> 0</td><td>2013-12-01 06:00:00</td></tr>\n",
       "\t<tr><td>2013</td><td>12</td><td>1</td><td>600</td><td> 600</td><td>  0</td><td>1041</td><td>1043</td><td> -2</td><td>B6</td><td>1403</td><td>N651JB</td><td>JFK</td><td>SJU</td><td>200</td><td>1598</td><td> 6</td><td> 0</td><td>2013-12-01 06:00:00</td></tr>\n",
       "\t<tr><td>2013</td><td>12</td><td>1</td><td>600</td><td> 600</td><td>  0</td><td> 717</td><td> 736</td><td>-19</td><td>UA</td><td> 691</td><td>N455UA</td><td>LGA</td><td>ORD</td><td>114</td><td> 733</td><td> 6</td><td> 0</td><td>2013-12-01 06:00:00</td></tr>\n",
       "\t<tr><td>2013</td><td>12</td><td>1</td><td>602</td><td> 600</td><td>  2</td><td> 724</td><td> 738</td><td>-14</td><td>UA</td><td>1198</td><td>N37466</td><td>EWR</td><td>ORD</td><td>115</td><td> 719</td><td> 6</td><td> 0</td><td>2013-12-01 06:00:00</td></tr>\n",
       "\t<tr><td>2013</td><td>12</td><td>1</td><td>603</td><td> 605</td><td> -2</td><td> 731</td><td> 735</td><td> -4</td><td>WN</td><td>3990</td><td>N8313F</td><td>LGA</td><td>MDW</td><td>106</td><td> 725</td><td> 6</td><td> 5</td><td>2013-12-01 06:00:00</td></tr>\n",
       "\t<tr><td>2013</td><td>12</td><td>1</td><td>604</td><td> 608</td><td> -4</td><td> 818</td><td> 829</td><td>-11</td><td>EV</td><td>4393</td><td>N31131</td><td>EWR</td><td>IND</td><td>114</td><td> 645</td><td> 6</td><td> 8</td><td>2013-12-01 06:00:00</td></tr>\n",
       "\t<tr><td>2013</td><td>12</td><td>1</td><td>604</td><td> 600</td><td>  4</td><td> 827</td><td> 840</td><td>-13</td><td>UA</td><td> 338</td><td>N486UA</td><td>EWR</td><td>LAS</td><td>300</td><td>2227</td><td> 6</td><td> 0</td><td>2013-12-01 06:00:00</td></tr>\n",
       "\t<tr><td>⋮</td><td>⋮</td><td>⋮</td><td>⋮</td><td>⋮</td><td>⋮</td><td>⋮</td><td>⋮</td><td>⋮</td><td>⋮</td><td>⋮</td><td>⋮</td><td>⋮</td><td>⋮</td><td>⋮</td><td>⋮</td><td>⋮</td><td>⋮</td><td>⋮</td></tr>\n",
       "\t<tr><td>2013</td><td>1</td><td>31</td><td>NA</td><td>1245</td><td>NA</td><td>NA</td><td>1600</td><td>NA</td><td>AA</td><td>2253</td><td>N3DTAA</td><td>LGA</td><td>MIA</td><td>NA</td><td>1096</td><td>12</td><td>45</td><td>2013-01-31 12:00:00</td></tr>\n",
       "\t<tr><td>2013</td><td>1</td><td>31</td><td>NA</td><td>1240</td><td>NA</td><td>NA</td><td>1540</td><td>NA</td><td>AA</td><td>1853</td><td>N4YDAA</td><td>EWR</td><td>DFW</td><td>NA</td><td>1372</td><td>12</td><td>40</td><td>2013-01-31 12:00:00</td></tr>\n",
       "\t<tr><td>2013</td><td>1</td><td>31</td><td>NA</td><td>1200</td><td>NA</td><td>NA</td><td>1304</td><td>NA</td><td>B6</td><td>1174</td><td>N203JB</td><td>EWR</td><td>BOS</td><td>NA</td><td> 200</td><td>12</td><td> 0</td><td>2013-01-31 12:00:00</td></tr>\n",
       "\t<tr><td>2013</td><td>1</td><td>31</td><td>NA</td><td>1415</td><td>NA</td><td>NA</td><td>1724</td><td>NA</td><td>B6</td><td> 377</td><td>N503JB</td><td>LGA</td><td>FLL</td><td>NA</td><td>1076</td><td>14</td><td>15</td><td>2013-01-31 14:00:00</td></tr>\n",
       "\t<tr><td>2013</td><td>1</td><td>31</td><td>NA</td><td> 825</td><td>NA</td><td>NA</td><td>1026</td><td>NA</td><td>US</td><td> 487</td><td>NA    </td><td>JFK</td><td>CLT</td><td>NA</td><td> 541</td><td> 8</td><td>25</td><td>2013-01-31 08:00:00</td></tr>\n",
       "\t<tr><td>2013</td><td>1</td><td>31</td><td>NA</td><td>1130</td><td>NA</td><td>NA</td><td>1334</td><td>NA</td><td>US</td><td>1625</td><td>NA    </td><td>LGA</td><td>CLT</td><td>NA</td><td> 544</td><td>11</td><td>30</td><td>2013-01-31 11:00:00</td></tr>\n",
       "\t<tr><td>2013</td><td>1</td><td>31</td><td>NA</td><td>1500</td><td>NA</td><td>NA</td><td>1653</td><td>NA</td><td>US</td><td> 720</td><td>NA    </td><td>EWR</td><td>CLT</td><td>NA</td><td> 529</td><td>15</td><td> 0</td><td>2013-01-31 15:00:00</td></tr>\n",
       "\t<tr><td>2013</td><td>1</td><td>31</td><td>NA</td><td> 600</td><td>NA</td><td>NA</td><td> 703</td><td>NA</td><td>US</td><td>2114</td><td>NA    </td><td>LGA</td><td>BOS</td><td>NA</td><td> 184</td><td> 6</td><td> 0</td><td>2013-01-31 06:00:00</td></tr>\n",
       "\t<tr><td>2013</td><td>1</td><td>31</td><td>NA</td><td> 700</td><td>NA</td><td>NA</td><td> 807</td><td>NA</td><td>US</td><td>2116</td><td>NA    </td><td>LGA</td><td>BOS</td><td>NA</td><td> 184</td><td> 7</td><td> 0</td><td>2013-01-31 07:00:00</td></tr>\n",
       "\t<tr><td>2013</td><td>1</td><td>31</td><td>NA</td><td> 800</td><td>NA</td><td>NA</td><td> 908</td><td>NA</td><td>US</td><td>2118</td><td>NA    </td><td>LGA</td><td>BOS</td><td>NA</td><td> 184</td><td> 8</td><td> 0</td><td>2013-01-31 08:00:00</td></tr>\n",
       "\t<tr><td>2013</td><td>1</td><td>31</td><td>NA</td><td>1200</td><td>NA</td><td>NA</td><td>1305</td><td>NA</td><td>US</td><td>2126</td><td>NA    </td><td>LGA</td><td>BOS</td><td>NA</td><td> 184</td><td>12</td><td> 0</td><td>2013-01-31 12:00:00</td></tr>\n",
       "\t<tr><td>2013</td><td>1</td><td>31</td><td>NA</td><td>1300</td><td>NA</td><td>NA</td><td>1406</td><td>NA</td><td>US</td><td>2128</td><td>NA    </td><td>LGA</td><td>BOS</td><td>NA</td><td> 184</td><td>13</td><td> 0</td><td>2013-01-31 13:00:00</td></tr>\n",
       "\t<tr><td>2013</td><td>1</td><td>31</td><td>NA</td><td>1500</td><td>NA</td><td>NA</td><td>1608</td><td>NA</td><td>US</td><td>2132</td><td>NA    </td><td>LGA</td><td>BOS</td><td>NA</td><td> 184</td><td>15</td><td> 0</td><td>2013-01-31 15:00:00</td></tr>\n",
       "\t<tr><td>2013</td><td>1</td><td>31</td><td>NA</td><td>2100</td><td>NA</td><td>NA</td><td>2207</td><td>NA</td><td>US</td><td>2144</td><td>NA    </td><td>LGA</td><td>BOS</td><td>NA</td><td> 184</td><td>21</td><td> 0</td><td>2013-01-31 21:00:00</td></tr>\n",
       "\t<tr><td>2013</td><td>1</td><td>31</td><td>NA</td><td> 700</td><td>NA</td><td>NA</td><td> 807</td><td>NA</td><td>US</td><td>2163</td><td>NA    </td><td>LGA</td><td>DCA</td><td>NA</td><td> 214</td><td> 7</td><td> 0</td><td>2013-01-31 07:00:00</td></tr>\n",
       "\t<tr><td>2013</td><td>1</td><td>31</td><td>NA</td><td> 800</td><td>NA</td><td>NA</td><td> 917</td><td>NA</td><td>US</td><td>2165</td><td>NA    </td><td>LGA</td><td>DCA</td><td>NA</td><td> 214</td><td> 8</td><td> 0</td><td>2013-01-31 08:00:00</td></tr>\n",
       "\t<tr><td>2013</td><td>1</td><td>31</td><td>NA</td><td> 900</td><td>NA</td><td>NA</td><td>1022</td><td>NA</td><td>US</td><td>2167</td><td>NA    </td><td>LGA</td><td>DCA</td><td>NA</td><td> 214</td><td> 9</td><td> 0</td><td>2013-01-31 09:00:00</td></tr>\n",
       "\t<tr><td>2013</td><td>1</td><td>31</td><td>NA</td><td>1510</td><td>NA</td><td>NA</td><td>1650</td><td>NA</td><td>WN</td><td> 323</td><td>N433LV</td><td>LGA</td><td>MKE</td><td>NA</td><td> 738</td><td>15</td><td>10</td><td>2013-01-31 15:00:00</td></tr>\n",
       "\t<tr><td>2013</td><td>1</td><td>31</td><td>NA</td><td>1940</td><td>NA</td><td>NA</td><td>2100</td><td>NA</td><td>WN</td><td> 633</td><td>N295WN</td><td>EWR</td><td>MDW</td><td>NA</td><td> 711</td><td>19</td><td>40</td><td>2013-01-31 19:00:00</td></tr>\n",
       "\t<tr><td>2013</td><td>1</td><td>31</td><td>NA</td><td>1435</td><td>NA</td><td>NA</td><td>1559</td><td>NA</td><td>YV</td><td>3750</td><td>N507MJ</td><td>LGA</td><td>IAD</td><td>NA</td><td> 229</td><td>14</td><td>35</td><td>2013-01-31 14:00:00</td></tr>\n",
       "\t<tr><td>2013</td><td>1</td><td>31</td><td>NA</td><td>1635</td><td>NA</td><td>NA</td><td>1810</td><td>NA</td><td>MQ</td><td>3695</td><td>N544MQ</td><td>EWR</td><td>ORD</td><td>NA</td><td> 719</td><td>16</td><td>35</td><td>2013-01-31 16:00:00</td></tr>\n",
       "\t<tr><td>2013</td><td>1</td><td>31</td><td>NA</td><td> 825</td><td>NA</td><td>NA</td><td> 945</td><td>NA</td><td>MQ</td><td>4418</td><td>N855MQ</td><td>JFK</td><td>DCA</td><td>NA</td><td> 213</td><td> 8</td><td>25</td><td>2013-01-31 08:00:00</td></tr>\n",
       "\t<tr><td>2013</td><td>1</td><td>31</td><td>NA</td><td>1300</td><td>NA</td><td>NA</td><td>1450</td><td>NA</td><td>MQ</td><td>4426</td><td>N736MQ</td><td>LGA</td><td>CMH</td><td>NA</td><td> 479</td><td>13</td><td> 0</td><td>2013-01-31 13:00:00</td></tr>\n",
       "\t<tr><td>2013</td><td>1</td><td>31</td><td>NA</td><td>1315</td><td>NA</td><td>NA</td><td>1520</td><td>NA</td><td>MQ</td><td>4564</td><td>N737MQ</td><td>LGA</td><td>DTW</td><td>NA</td><td> 502</td><td>13</td><td>15</td><td>2013-01-31 13:00:00</td></tr>\n",
       "\t<tr><td>2013</td><td>1</td><td>31</td><td>NA</td><td> 920</td><td>NA</td><td>NA</td><td>1125</td><td>NA</td><td>MQ</td><td>4582</td><td>N506MQ</td><td>LGA</td><td>CLT</td><td>NA</td><td> 544</td><td> 9</td><td>20</td><td>2013-01-31 09:00:00</td></tr>\n",
       "\t<tr><td>2013</td><td>1</td><td>31</td><td>NA</td><td>1325</td><td>NA</td><td>NA</td><td>1505</td><td>NA</td><td>MQ</td><td>4475</td><td>N730MQ</td><td>LGA</td><td>RDU</td><td>NA</td><td> 431</td><td>13</td><td>25</td><td>2013-01-31 13:00:00</td></tr>\n",
       "\t<tr><td>2013</td><td>1</td><td>31</td><td>NA</td><td>1200</td><td>NA</td><td>NA</td><td>1430</td><td>NA</td><td>MQ</td><td>4658</td><td>N505MQ</td><td>LGA</td><td>ATL</td><td>NA</td><td> 762</td><td>12</td><td> 0</td><td>2013-01-31 12:00:00</td></tr>\n",
       "\t<tr><td>2013</td><td>1</td><td>31</td><td>NA</td><td>1410</td><td>NA</td><td>NA</td><td>1555</td><td>NA</td><td>MQ</td><td>4491</td><td>N734MQ</td><td>LGA</td><td>CLE</td><td>NA</td><td> 419</td><td>14</td><td>10</td><td>2013-01-31 14:00:00</td></tr>\n",
       "\t<tr><td>2013</td><td>1</td><td>31</td><td>NA</td><td>1446</td><td>NA</td><td>NA</td><td>1757</td><td>NA</td><td>UA</td><td> 337</td><td>NA    </td><td>LGA</td><td>IAH</td><td>NA</td><td>1416</td><td>14</td><td>46</td><td>2013-01-31 14:00:00</td></tr>\n",
       "\t<tr><td>2013</td><td>1</td><td>31</td><td>NA</td><td> 625</td><td>NA</td><td>NA</td><td> 934</td><td>NA</td><td>UA</td><td>1497</td><td>NA    </td><td>LGA</td><td>IAH</td><td>NA</td><td>1416</td><td> 6</td><td>25</td><td>2013-01-31 06:00:00</td></tr>\n",
       "</tbody>\n",
       "</table>\n"
      ],
      "text/latex": [
       "A tibble: 336776 × 19\n",
       "\\begin{tabular}{lllllllllllllllllll}\n",
       " year & month & day & dep\\_time & sched\\_dep\\_time & dep\\_delay & arr\\_time & sched\\_arr\\_time & arr\\_delay & carrier & flight & tailnum & origin & dest & air\\_time & distance & hour & minute & time\\_hour\\\\\n",
       " <int> & <int> & <int> & <int> & <int> & <dbl> & <int> & <int> & <dbl> & <chr> & <int> & <chr> & <chr> & <chr> & <dbl> & <dbl> & <dbl> & <dbl> & <dttm>\\\\\n",
       "\\hline\n",
       "\t 2013 & 12 & 1 &  13 & 2359 &  14 &  446 &  445 &   1 & B6 &  745 & N715JB & JFK & PSE & 195 & 1617 & 23 & 59 & 2013-12-01 23:00:00\\\\\n",
       "\t 2013 & 12 & 1 &  17 & 2359 &  18 &  443 &  437 &   6 & B6 &  839 & N593JB & JFK & BQN & 186 & 1576 & 23 & 59 & 2013-12-01 23:00:00\\\\\n",
       "\t 2013 & 12 & 1 & 453 &  500 &  -7 &  636 &  651 & -15 & US & 1895 & N197UW & EWR & CLT &  86 &  529 &  5 &  0 & 2013-12-01 05:00:00\\\\\n",
       "\t 2013 & 12 & 1 & 520 &  515 &   5 &  749 &  808 & -19 & UA & 1487 & N69804 & EWR & IAH & 193 & 1400 &  5 & 15 & 2013-12-01 05:00:00\\\\\n",
       "\t 2013 & 12 & 1 & 536 &  540 &  -4 &  845 &  850 &  -5 & AA & 2243 & N634AA & JFK & MIA & 144 & 1089 &  5 & 40 & 2013-12-01 05:00:00\\\\\n",
       "\t 2013 & 12 & 1 & 540 &  550 & -10 & 1005 & 1027 & -22 & B6 &  939 & N821JB & JFK & BQN & 189 & 1576 &  5 & 50 & 2013-12-01 05:00:00\\\\\n",
       "\t 2013 & 12 & 1 & 541 &  545 &  -4 &  734 &  755 & -21 & EV & 3819 & N13968 & EWR & CVG &  95 &  569 &  5 & 45 & 2013-12-01 05:00:00\\\\\n",
       "\t 2013 & 12 & 1 & 546 &  545 &   1 &  826 &  835 &  -9 & UA & 1441 & N23708 & LGA & IAH & 204 & 1416 &  5 & 45 & 2013-12-01 05:00:00\\\\\n",
       "\t 2013 & 12 & 1 & 549 &  600 & -11 &  648 &  659 & -11 & US & 2167 & N945UW & LGA & DCA &  42 &  214 &  6 &  0 & 2013-12-01 06:00:00\\\\\n",
       "\t 2013 & 12 & 1 & 550 &  600 & -10 &  825 &  854 & -29 & B6 &  605 & N706JB & EWR & FLL & 140 & 1065 &  6 &  0 & 2013-12-01 06:00:00\\\\\n",
       "\t 2013 & 12 & 1 & 554 &  600 &  -6 &  827 &  849 & -22 & B6 &  353 & N779JB & JFK & PBI & 135 & 1028 &  6 &  0 & 2013-12-01 06:00:00\\\\\n",
       "\t 2013 & 12 & 1 & 554 &  601 &  -7 &  748 &  811 & -23 & EV & 4714 & N14904 & EWR & CLT &  86 &  529 &  6 &  1 & 2013-12-01 06:00:00\\\\\n",
       "\t 2013 & 12 & 1 & 554 &  600 &  -6 &  712 &  719 &  -7 & EV & 5747 & N820AS & LGA & IAD &  44 &  229 &  6 &  0 & 2013-12-01 06:00:00\\\\\n",
       "\t 2013 & 12 & 1 & 554 &  600 &  -6 &  645 &  705 & -20 & US & 1739 & N947UW & LGA & PHL &  36 &   96 &  6 &  0 & 2013-12-01 06:00:00\\\\\n",
       "\t 2013 & 12 & 1 & 555 &  600 &  -5 &  805 &  827 & -22 & DL & 1377 & N386DA & LGA & ATL & 112 &  762 &  6 &  0 & 2013-12-01 06:00:00\\\\\n",
       "\t 2013 & 12 & 1 & 556 &  600 &  -4 &  846 &  846 &   0 & B6 &  583 & N583JB & JFK & MCO & 134 &  944 &  6 &  0 & 2013-12-01 06:00:00\\\\\n",
       "\t 2013 & 12 & 1 & 556 &  600 &  -4 &  742 &  756 & -14 & DL & 1517 & N332NB & EWR & DTW &  87 &  488 &  6 &  0 & 2013-12-01 06:00:00\\\\\n",
       "\t 2013 & 12 & 1 & 557 &  600 &  -3 &  733 &  754 & -21 & DL &  731 & N318NB & LGA & DTW &  79 &  502 &  6 &  0 & 2013-12-01 06:00:00\\\\\n",
       "\t 2013 & 12 & 1 & 557 &  600 &  -3 &  828 &  834 &  -6 & EV & 4141 & N14148 & EWR & ATL & 121 &  746 &  6 &  0 & 2013-12-01 06:00:00\\\\\n",
       "\t 2013 & 12 & 1 & 558 &  600 &  -2 &  841 &  856 & -15 & B6 &  371 & N592JB & LGA & FLL & 141 & 1076 &  6 &  0 & 2013-12-01 06:00:00\\\\\n",
       "\t 2013 & 12 & 1 & 558 &  600 &  -2 &  721 &  717 &   4 & EV & 5716 & N833AS & JFK & IAD &  44 &  228 &  6 &  0 & 2013-12-01 06:00:00\\\\\n",
       "\t 2013 & 12 & 1 & 558 &  600 &  -2 &  718 &  725 &  -7 & WN & 4262 & N368SW & EWR & MDW & 109 &  711 &  6 &  0 & 2013-12-01 06:00:00\\\\\n",
       "\t 2013 & 12 & 1 & 558 &  600 &  -2 &  724 &  743 & -19 & UA & 1038 & N87507 & EWR & CLE &  62 &  404 &  6 &  0 & 2013-12-01 06:00:00\\\\\n",
       "\t 2013 & 12 & 1 & 559 &  600 &  -1 &  709 &  719 & -10 & EV & 6177 & N13202 & EWR & IAD &  41 &  212 &  6 &  0 & 2013-12-01 06:00:00\\\\\n",
       "\t 2013 & 12 & 1 & 600 &  600 &   0 & 1041 & 1043 &  -2 & B6 & 1403 & N651JB & JFK & SJU & 200 & 1598 &  6 &  0 & 2013-12-01 06:00:00\\\\\n",
       "\t 2013 & 12 & 1 & 600 &  600 &   0 &  717 &  736 & -19 & UA &  691 & N455UA & LGA & ORD & 114 &  733 &  6 &  0 & 2013-12-01 06:00:00\\\\\n",
       "\t 2013 & 12 & 1 & 602 &  600 &   2 &  724 &  738 & -14 & UA & 1198 & N37466 & EWR & ORD & 115 &  719 &  6 &  0 & 2013-12-01 06:00:00\\\\\n",
       "\t 2013 & 12 & 1 & 603 &  605 &  -2 &  731 &  735 &  -4 & WN & 3990 & N8313F & LGA & MDW & 106 &  725 &  6 &  5 & 2013-12-01 06:00:00\\\\\n",
       "\t 2013 & 12 & 1 & 604 &  608 &  -4 &  818 &  829 & -11 & EV & 4393 & N31131 & EWR & IND & 114 &  645 &  6 &  8 & 2013-12-01 06:00:00\\\\\n",
       "\t 2013 & 12 & 1 & 604 &  600 &   4 &  827 &  840 & -13 & UA &  338 & N486UA & EWR & LAS & 300 & 2227 &  6 &  0 & 2013-12-01 06:00:00\\\\\n",
       "\t ⋮ & ⋮ & ⋮ & ⋮ & ⋮ & ⋮ & ⋮ & ⋮ & ⋮ & ⋮ & ⋮ & ⋮ & ⋮ & ⋮ & ⋮ & ⋮ & ⋮ & ⋮ & ⋮\\\\\n",
       "\t 2013 & 1 & 31 & NA & 1245 & NA & NA & 1600 & NA & AA & 2253 & N3DTAA & LGA & MIA & NA & 1096 & 12 & 45 & 2013-01-31 12:00:00\\\\\n",
       "\t 2013 & 1 & 31 & NA & 1240 & NA & NA & 1540 & NA & AA & 1853 & N4YDAA & EWR & DFW & NA & 1372 & 12 & 40 & 2013-01-31 12:00:00\\\\\n",
       "\t 2013 & 1 & 31 & NA & 1200 & NA & NA & 1304 & NA & B6 & 1174 & N203JB & EWR & BOS & NA &  200 & 12 &  0 & 2013-01-31 12:00:00\\\\\n",
       "\t 2013 & 1 & 31 & NA & 1415 & NA & NA & 1724 & NA & B6 &  377 & N503JB & LGA & FLL & NA & 1076 & 14 & 15 & 2013-01-31 14:00:00\\\\\n",
       "\t 2013 & 1 & 31 & NA &  825 & NA & NA & 1026 & NA & US &  487 & NA     & JFK & CLT & NA &  541 &  8 & 25 & 2013-01-31 08:00:00\\\\\n",
       "\t 2013 & 1 & 31 & NA & 1130 & NA & NA & 1334 & NA & US & 1625 & NA     & LGA & CLT & NA &  544 & 11 & 30 & 2013-01-31 11:00:00\\\\\n",
       "\t 2013 & 1 & 31 & NA & 1500 & NA & NA & 1653 & NA & US &  720 & NA     & EWR & CLT & NA &  529 & 15 &  0 & 2013-01-31 15:00:00\\\\\n",
       "\t 2013 & 1 & 31 & NA &  600 & NA & NA &  703 & NA & US & 2114 & NA     & LGA & BOS & NA &  184 &  6 &  0 & 2013-01-31 06:00:00\\\\\n",
       "\t 2013 & 1 & 31 & NA &  700 & NA & NA &  807 & NA & US & 2116 & NA     & LGA & BOS & NA &  184 &  7 &  0 & 2013-01-31 07:00:00\\\\\n",
       "\t 2013 & 1 & 31 & NA &  800 & NA & NA &  908 & NA & US & 2118 & NA     & LGA & BOS & NA &  184 &  8 &  0 & 2013-01-31 08:00:00\\\\\n",
       "\t 2013 & 1 & 31 & NA & 1200 & NA & NA & 1305 & NA & US & 2126 & NA     & LGA & BOS & NA &  184 & 12 &  0 & 2013-01-31 12:00:00\\\\\n",
       "\t 2013 & 1 & 31 & NA & 1300 & NA & NA & 1406 & NA & US & 2128 & NA     & LGA & BOS & NA &  184 & 13 &  0 & 2013-01-31 13:00:00\\\\\n",
       "\t 2013 & 1 & 31 & NA & 1500 & NA & NA & 1608 & NA & US & 2132 & NA     & LGA & BOS & NA &  184 & 15 &  0 & 2013-01-31 15:00:00\\\\\n",
       "\t 2013 & 1 & 31 & NA & 2100 & NA & NA & 2207 & NA & US & 2144 & NA     & LGA & BOS & NA &  184 & 21 &  0 & 2013-01-31 21:00:00\\\\\n",
       "\t 2013 & 1 & 31 & NA &  700 & NA & NA &  807 & NA & US & 2163 & NA     & LGA & DCA & NA &  214 &  7 &  0 & 2013-01-31 07:00:00\\\\\n",
       "\t 2013 & 1 & 31 & NA &  800 & NA & NA &  917 & NA & US & 2165 & NA     & LGA & DCA & NA &  214 &  8 &  0 & 2013-01-31 08:00:00\\\\\n",
       "\t 2013 & 1 & 31 & NA &  900 & NA & NA & 1022 & NA & US & 2167 & NA     & LGA & DCA & NA &  214 &  9 &  0 & 2013-01-31 09:00:00\\\\\n",
       "\t 2013 & 1 & 31 & NA & 1510 & NA & NA & 1650 & NA & WN &  323 & N433LV & LGA & MKE & NA &  738 & 15 & 10 & 2013-01-31 15:00:00\\\\\n",
       "\t 2013 & 1 & 31 & NA & 1940 & NA & NA & 2100 & NA & WN &  633 & N295WN & EWR & MDW & NA &  711 & 19 & 40 & 2013-01-31 19:00:00\\\\\n",
       "\t 2013 & 1 & 31 & NA & 1435 & NA & NA & 1559 & NA & YV & 3750 & N507MJ & LGA & IAD & NA &  229 & 14 & 35 & 2013-01-31 14:00:00\\\\\n",
       "\t 2013 & 1 & 31 & NA & 1635 & NA & NA & 1810 & NA & MQ & 3695 & N544MQ & EWR & ORD & NA &  719 & 16 & 35 & 2013-01-31 16:00:00\\\\\n",
       "\t 2013 & 1 & 31 & NA &  825 & NA & NA &  945 & NA & MQ & 4418 & N855MQ & JFK & DCA & NA &  213 &  8 & 25 & 2013-01-31 08:00:00\\\\\n",
       "\t 2013 & 1 & 31 & NA & 1300 & NA & NA & 1450 & NA & MQ & 4426 & N736MQ & LGA & CMH & NA &  479 & 13 &  0 & 2013-01-31 13:00:00\\\\\n",
       "\t 2013 & 1 & 31 & NA & 1315 & NA & NA & 1520 & NA & MQ & 4564 & N737MQ & LGA & DTW & NA &  502 & 13 & 15 & 2013-01-31 13:00:00\\\\\n",
       "\t 2013 & 1 & 31 & NA &  920 & NA & NA & 1125 & NA & MQ & 4582 & N506MQ & LGA & CLT & NA &  544 &  9 & 20 & 2013-01-31 09:00:00\\\\\n",
       "\t 2013 & 1 & 31 & NA & 1325 & NA & NA & 1505 & NA & MQ & 4475 & N730MQ & LGA & RDU & NA &  431 & 13 & 25 & 2013-01-31 13:00:00\\\\\n",
       "\t 2013 & 1 & 31 & NA & 1200 & NA & NA & 1430 & NA & MQ & 4658 & N505MQ & LGA & ATL & NA &  762 & 12 &  0 & 2013-01-31 12:00:00\\\\\n",
       "\t 2013 & 1 & 31 & NA & 1410 & NA & NA & 1555 & NA & MQ & 4491 & N734MQ & LGA & CLE & NA &  419 & 14 & 10 & 2013-01-31 14:00:00\\\\\n",
       "\t 2013 & 1 & 31 & NA & 1446 & NA & NA & 1757 & NA & UA &  337 & NA     & LGA & IAH & NA & 1416 & 14 & 46 & 2013-01-31 14:00:00\\\\\n",
       "\t 2013 & 1 & 31 & NA &  625 & NA & NA &  934 & NA & UA & 1497 & NA     & LGA & IAH & NA & 1416 &  6 & 25 & 2013-01-31 06:00:00\\\\\n",
       "\\end{tabular}\n"
      ],
      "text/markdown": [
       "\n",
       "A tibble: 336776 × 19\n",
       "\n",
       "| year &lt;int&gt; | month &lt;int&gt; | day &lt;int&gt; | dep_time &lt;int&gt; | sched_dep_time &lt;int&gt; | dep_delay &lt;dbl&gt; | arr_time &lt;int&gt; | sched_arr_time &lt;int&gt; | arr_delay &lt;dbl&gt; | carrier &lt;chr&gt; | flight &lt;int&gt; | tailnum &lt;chr&gt; | origin &lt;chr&gt; | dest &lt;chr&gt; | air_time &lt;dbl&gt; | distance &lt;dbl&gt; | hour &lt;dbl&gt; | minute &lt;dbl&gt; | time_hour &lt;dttm&gt; |\n",
       "|---|---|---|---|---|---|---|---|---|---|---|---|---|---|---|---|---|---|---|\n",
       "| 2013 | 12 | 1 |  13 | 2359 |  14 |  446 |  445 |   1 | B6 |  745 | N715JB | JFK | PSE | 195 | 1617 | 23 | 59 | 2013-12-01 23:00:00 |\n",
       "| 2013 | 12 | 1 |  17 | 2359 |  18 |  443 |  437 |   6 | B6 |  839 | N593JB | JFK | BQN | 186 | 1576 | 23 | 59 | 2013-12-01 23:00:00 |\n",
       "| 2013 | 12 | 1 | 453 |  500 |  -7 |  636 |  651 | -15 | US | 1895 | N197UW | EWR | CLT |  86 |  529 |  5 |  0 | 2013-12-01 05:00:00 |\n",
       "| 2013 | 12 | 1 | 520 |  515 |   5 |  749 |  808 | -19 | UA | 1487 | N69804 | EWR | IAH | 193 | 1400 |  5 | 15 | 2013-12-01 05:00:00 |\n",
       "| 2013 | 12 | 1 | 536 |  540 |  -4 |  845 |  850 |  -5 | AA | 2243 | N634AA | JFK | MIA | 144 | 1089 |  5 | 40 | 2013-12-01 05:00:00 |\n",
       "| 2013 | 12 | 1 | 540 |  550 | -10 | 1005 | 1027 | -22 | B6 |  939 | N821JB | JFK | BQN | 189 | 1576 |  5 | 50 | 2013-12-01 05:00:00 |\n",
       "| 2013 | 12 | 1 | 541 |  545 |  -4 |  734 |  755 | -21 | EV | 3819 | N13968 | EWR | CVG |  95 |  569 |  5 | 45 | 2013-12-01 05:00:00 |\n",
       "| 2013 | 12 | 1 | 546 |  545 |   1 |  826 |  835 |  -9 | UA | 1441 | N23708 | LGA | IAH | 204 | 1416 |  5 | 45 | 2013-12-01 05:00:00 |\n",
       "| 2013 | 12 | 1 | 549 |  600 | -11 |  648 |  659 | -11 | US | 2167 | N945UW | LGA | DCA |  42 |  214 |  6 |  0 | 2013-12-01 06:00:00 |\n",
       "| 2013 | 12 | 1 | 550 |  600 | -10 |  825 |  854 | -29 | B6 |  605 | N706JB | EWR | FLL | 140 | 1065 |  6 |  0 | 2013-12-01 06:00:00 |\n",
       "| 2013 | 12 | 1 | 554 |  600 |  -6 |  827 |  849 | -22 | B6 |  353 | N779JB | JFK | PBI | 135 | 1028 |  6 |  0 | 2013-12-01 06:00:00 |\n",
       "| 2013 | 12 | 1 | 554 |  601 |  -7 |  748 |  811 | -23 | EV | 4714 | N14904 | EWR | CLT |  86 |  529 |  6 |  1 | 2013-12-01 06:00:00 |\n",
       "| 2013 | 12 | 1 | 554 |  600 |  -6 |  712 |  719 |  -7 | EV | 5747 | N820AS | LGA | IAD |  44 |  229 |  6 |  0 | 2013-12-01 06:00:00 |\n",
       "| 2013 | 12 | 1 | 554 |  600 |  -6 |  645 |  705 | -20 | US | 1739 | N947UW | LGA | PHL |  36 |   96 |  6 |  0 | 2013-12-01 06:00:00 |\n",
       "| 2013 | 12 | 1 | 555 |  600 |  -5 |  805 |  827 | -22 | DL | 1377 | N386DA | LGA | ATL | 112 |  762 |  6 |  0 | 2013-12-01 06:00:00 |\n",
       "| 2013 | 12 | 1 | 556 |  600 |  -4 |  846 |  846 |   0 | B6 |  583 | N583JB | JFK | MCO | 134 |  944 |  6 |  0 | 2013-12-01 06:00:00 |\n",
       "| 2013 | 12 | 1 | 556 |  600 |  -4 |  742 |  756 | -14 | DL | 1517 | N332NB | EWR | DTW |  87 |  488 |  6 |  0 | 2013-12-01 06:00:00 |\n",
       "| 2013 | 12 | 1 | 557 |  600 |  -3 |  733 |  754 | -21 | DL |  731 | N318NB | LGA | DTW |  79 |  502 |  6 |  0 | 2013-12-01 06:00:00 |\n",
       "| 2013 | 12 | 1 | 557 |  600 |  -3 |  828 |  834 |  -6 | EV | 4141 | N14148 | EWR | ATL | 121 |  746 |  6 |  0 | 2013-12-01 06:00:00 |\n",
       "| 2013 | 12 | 1 | 558 |  600 |  -2 |  841 |  856 | -15 | B6 |  371 | N592JB | LGA | FLL | 141 | 1076 |  6 |  0 | 2013-12-01 06:00:00 |\n",
       "| 2013 | 12 | 1 | 558 |  600 |  -2 |  721 |  717 |   4 | EV | 5716 | N833AS | JFK | IAD |  44 |  228 |  6 |  0 | 2013-12-01 06:00:00 |\n",
       "| 2013 | 12 | 1 | 558 |  600 |  -2 |  718 |  725 |  -7 | WN | 4262 | N368SW | EWR | MDW | 109 |  711 |  6 |  0 | 2013-12-01 06:00:00 |\n",
       "| 2013 | 12 | 1 | 558 |  600 |  -2 |  724 |  743 | -19 | UA | 1038 | N87507 | EWR | CLE |  62 |  404 |  6 |  0 | 2013-12-01 06:00:00 |\n",
       "| 2013 | 12 | 1 | 559 |  600 |  -1 |  709 |  719 | -10 | EV | 6177 | N13202 | EWR | IAD |  41 |  212 |  6 |  0 | 2013-12-01 06:00:00 |\n",
       "| 2013 | 12 | 1 | 600 |  600 |   0 | 1041 | 1043 |  -2 | B6 | 1403 | N651JB | JFK | SJU | 200 | 1598 |  6 |  0 | 2013-12-01 06:00:00 |\n",
       "| 2013 | 12 | 1 | 600 |  600 |   0 |  717 |  736 | -19 | UA |  691 | N455UA | LGA | ORD | 114 |  733 |  6 |  0 | 2013-12-01 06:00:00 |\n",
       "| 2013 | 12 | 1 | 602 |  600 |   2 |  724 |  738 | -14 | UA | 1198 | N37466 | EWR | ORD | 115 |  719 |  6 |  0 | 2013-12-01 06:00:00 |\n",
       "| 2013 | 12 | 1 | 603 |  605 |  -2 |  731 |  735 |  -4 | WN | 3990 | N8313F | LGA | MDW | 106 |  725 |  6 |  5 | 2013-12-01 06:00:00 |\n",
       "| 2013 | 12 | 1 | 604 |  608 |  -4 |  818 |  829 | -11 | EV | 4393 | N31131 | EWR | IND | 114 |  645 |  6 |  8 | 2013-12-01 06:00:00 |\n",
       "| 2013 | 12 | 1 | 604 |  600 |   4 |  827 |  840 | -13 | UA |  338 | N486UA | EWR | LAS | 300 | 2227 |  6 |  0 | 2013-12-01 06:00:00 |\n",
       "| ⋮ | ⋮ | ⋮ | ⋮ | ⋮ | ⋮ | ⋮ | ⋮ | ⋮ | ⋮ | ⋮ | ⋮ | ⋮ | ⋮ | ⋮ | ⋮ | ⋮ | ⋮ | ⋮ |\n",
       "| 2013 | 1 | 31 | NA | 1245 | NA | NA | 1600 | NA | AA | 2253 | N3DTAA | LGA | MIA | NA | 1096 | 12 | 45 | 2013-01-31 12:00:00 |\n",
       "| 2013 | 1 | 31 | NA | 1240 | NA | NA | 1540 | NA | AA | 1853 | N4YDAA | EWR | DFW | NA | 1372 | 12 | 40 | 2013-01-31 12:00:00 |\n",
       "| 2013 | 1 | 31 | NA | 1200 | NA | NA | 1304 | NA | B6 | 1174 | N203JB | EWR | BOS | NA |  200 | 12 |  0 | 2013-01-31 12:00:00 |\n",
       "| 2013 | 1 | 31 | NA | 1415 | NA | NA | 1724 | NA | B6 |  377 | N503JB | LGA | FLL | NA | 1076 | 14 | 15 | 2013-01-31 14:00:00 |\n",
       "| 2013 | 1 | 31 | NA |  825 | NA | NA | 1026 | NA | US |  487 | NA     | JFK | CLT | NA |  541 |  8 | 25 | 2013-01-31 08:00:00 |\n",
       "| 2013 | 1 | 31 | NA | 1130 | NA | NA | 1334 | NA | US | 1625 | NA     | LGA | CLT | NA |  544 | 11 | 30 | 2013-01-31 11:00:00 |\n",
       "| 2013 | 1 | 31 | NA | 1500 | NA | NA | 1653 | NA | US |  720 | NA     | EWR | CLT | NA |  529 | 15 |  0 | 2013-01-31 15:00:00 |\n",
       "| 2013 | 1 | 31 | NA |  600 | NA | NA |  703 | NA | US | 2114 | NA     | LGA | BOS | NA |  184 |  6 |  0 | 2013-01-31 06:00:00 |\n",
       "| 2013 | 1 | 31 | NA |  700 | NA | NA |  807 | NA | US | 2116 | NA     | LGA | BOS | NA |  184 |  7 |  0 | 2013-01-31 07:00:00 |\n",
       "| 2013 | 1 | 31 | NA |  800 | NA | NA |  908 | NA | US | 2118 | NA     | LGA | BOS | NA |  184 |  8 |  0 | 2013-01-31 08:00:00 |\n",
       "| 2013 | 1 | 31 | NA | 1200 | NA | NA | 1305 | NA | US | 2126 | NA     | LGA | BOS | NA |  184 | 12 |  0 | 2013-01-31 12:00:00 |\n",
       "| 2013 | 1 | 31 | NA | 1300 | NA | NA | 1406 | NA | US | 2128 | NA     | LGA | BOS | NA |  184 | 13 |  0 | 2013-01-31 13:00:00 |\n",
       "| 2013 | 1 | 31 | NA | 1500 | NA | NA | 1608 | NA | US | 2132 | NA     | LGA | BOS | NA |  184 | 15 |  0 | 2013-01-31 15:00:00 |\n",
       "| 2013 | 1 | 31 | NA | 2100 | NA | NA | 2207 | NA | US | 2144 | NA     | LGA | BOS | NA |  184 | 21 |  0 | 2013-01-31 21:00:00 |\n",
       "| 2013 | 1 | 31 | NA |  700 | NA | NA |  807 | NA | US | 2163 | NA     | LGA | DCA | NA |  214 |  7 |  0 | 2013-01-31 07:00:00 |\n",
       "| 2013 | 1 | 31 | NA |  800 | NA | NA |  917 | NA | US | 2165 | NA     | LGA | DCA | NA |  214 |  8 |  0 | 2013-01-31 08:00:00 |\n",
       "| 2013 | 1 | 31 | NA |  900 | NA | NA | 1022 | NA | US | 2167 | NA     | LGA | DCA | NA |  214 |  9 |  0 | 2013-01-31 09:00:00 |\n",
       "| 2013 | 1 | 31 | NA | 1510 | NA | NA | 1650 | NA | WN |  323 | N433LV | LGA | MKE | NA |  738 | 15 | 10 | 2013-01-31 15:00:00 |\n",
       "| 2013 | 1 | 31 | NA | 1940 | NA | NA | 2100 | NA | WN |  633 | N295WN | EWR | MDW | NA |  711 | 19 | 40 | 2013-01-31 19:00:00 |\n",
       "| 2013 | 1 | 31 | NA | 1435 | NA | NA | 1559 | NA | YV | 3750 | N507MJ | LGA | IAD | NA |  229 | 14 | 35 | 2013-01-31 14:00:00 |\n",
       "| 2013 | 1 | 31 | NA | 1635 | NA | NA | 1810 | NA | MQ | 3695 | N544MQ | EWR | ORD | NA |  719 | 16 | 35 | 2013-01-31 16:00:00 |\n",
       "| 2013 | 1 | 31 | NA |  825 | NA | NA |  945 | NA | MQ | 4418 | N855MQ | JFK | DCA | NA |  213 |  8 | 25 | 2013-01-31 08:00:00 |\n",
       "| 2013 | 1 | 31 | NA | 1300 | NA | NA | 1450 | NA | MQ | 4426 | N736MQ | LGA | CMH | NA |  479 | 13 |  0 | 2013-01-31 13:00:00 |\n",
       "| 2013 | 1 | 31 | NA | 1315 | NA | NA | 1520 | NA | MQ | 4564 | N737MQ | LGA | DTW | NA |  502 | 13 | 15 | 2013-01-31 13:00:00 |\n",
       "| 2013 | 1 | 31 | NA |  920 | NA | NA | 1125 | NA | MQ | 4582 | N506MQ | LGA | CLT | NA |  544 |  9 | 20 | 2013-01-31 09:00:00 |\n",
       "| 2013 | 1 | 31 | NA | 1325 | NA | NA | 1505 | NA | MQ | 4475 | N730MQ | LGA | RDU | NA |  431 | 13 | 25 | 2013-01-31 13:00:00 |\n",
       "| 2013 | 1 | 31 | NA | 1200 | NA | NA | 1430 | NA | MQ | 4658 | N505MQ | LGA | ATL | NA |  762 | 12 |  0 | 2013-01-31 12:00:00 |\n",
       "| 2013 | 1 | 31 | NA | 1410 | NA | NA | 1555 | NA | MQ | 4491 | N734MQ | LGA | CLE | NA |  419 | 14 | 10 | 2013-01-31 14:00:00 |\n",
       "| 2013 | 1 | 31 | NA | 1446 | NA | NA | 1757 | NA | UA |  337 | NA     | LGA | IAH | NA | 1416 | 14 | 46 | 2013-01-31 14:00:00 |\n",
       "| 2013 | 1 | 31 | NA |  625 | NA | NA |  934 | NA | UA | 1497 | NA     | LGA | IAH | NA | 1416 |  6 | 25 | 2013-01-31 06:00:00 |\n",
       "\n"
      ],
      "text/plain": [
       "       year month day dep_time sched_dep_time dep_delay arr_time sched_arr_time\n",
       "1      2013 12    1    13      2359            14        446      445          \n",
       "2      2013 12    1    17      2359            18        443      437          \n",
       "3      2013 12    1   453       500            -7        636      651          \n",
       "4      2013 12    1   520       515             5        749      808          \n",
       "5      2013 12    1   536       540            -4        845      850          \n",
       "6      2013 12    1   540       550           -10       1005     1027          \n",
       "7      2013 12    1   541       545            -4        734      755          \n",
       "8      2013 12    1   546       545             1        826      835          \n",
       "9      2013 12    1   549       600           -11        648      659          \n",
       "10     2013 12    1   550       600           -10        825      854          \n",
       "11     2013 12    1   554       600            -6        827      849          \n",
       "12     2013 12    1   554       601            -7        748      811          \n",
       "13     2013 12    1   554       600            -6        712      719          \n",
       "14     2013 12    1   554       600            -6        645      705          \n",
       "15     2013 12    1   555       600            -5        805      827          \n",
       "16     2013 12    1   556       600            -4        846      846          \n",
       "17     2013 12    1   556       600            -4        742      756          \n",
       "18     2013 12    1   557       600            -3        733      754          \n",
       "19     2013 12    1   557       600            -3        828      834          \n",
       "20     2013 12    1   558       600            -2        841      856          \n",
       "21     2013 12    1   558       600            -2        721      717          \n",
       "22     2013 12    1   558       600            -2        718      725          \n",
       "23     2013 12    1   558       600            -2        724      743          \n",
       "24     2013 12    1   559       600            -1        709      719          \n",
       "25     2013 12    1   600       600             0       1041     1043          \n",
       "26     2013 12    1   600       600             0        717      736          \n",
       "27     2013 12    1   602       600             2        724      738          \n",
       "28     2013 12    1   603       605            -2        731      735          \n",
       "29     2013 12    1   604       608            -4        818      829          \n",
       "30     2013 12    1   604       600             4        827      840          \n",
       "⋮      ⋮    ⋮     ⋮   ⋮        ⋮              ⋮         ⋮        ⋮             \n",
       "336747 2013 1     31  NA       1245           NA        NA       1600          \n",
       "336748 2013 1     31  NA       1240           NA        NA       1540          \n",
       "336749 2013 1     31  NA       1200           NA        NA       1304          \n",
       "336750 2013 1     31  NA       1415           NA        NA       1724          \n",
       "336751 2013 1     31  NA        825           NA        NA       1026          \n",
       "336752 2013 1     31  NA       1130           NA        NA       1334          \n",
       "336753 2013 1     31  NA       1500           NA        NA       1653          \n",
       "336754 2013 1     31  NA        600           NA        NA        703          \n",
       "336755 2013 1     31  NA        700           NA        NA        807          \n",
       "336756 2013 1     31  NA        800           NA        NA        908          \n",
       "336757 2013 1     31  NA       1200           NA        NA       1305          \n",
       "336758 2013 1     31  NA       1300           NA        NA       1406          \n",
       "336759 2013 1     31  NA       1500           NA        NA       1608          \n",
       "336760 2013 1     31  NA       2100           NA        NA       2207          \n",
       "336761 2013 1     31  NA        700           NA        NA        807          \n",
       "336762 2013 1     31  NA        800           NA        NA        917          \n",
       "336763 2013 1     31  NA        900           NA        NA       1022          \n",
       "336764 2013 1     31  NA       1510           NA        NA       1650          \n",
       "336765 2013 1     31  NA       1940           NA        NA       2100          \n",
       "336766 2013 1     31  NA       1435           NA        NA       1559          \n",
       "336767 2013 1     31  NA       1635           NA        NA       1810          \n",
       "336768 2013 1     31  NA        825           NA        NA        945          \n",
       "336769 2013 1     31  NA       1300           NA        NA       1450          \n",
       "336770 2013 1     31  NA       1315           NA        NA       1520          \n",
       "336771 2013 1     31  NA        920           NA        NA       1125          \n",
       "336772 2013 1     31  NA       1325           NA        NA       1505          \n",
       "336773 2013 1     31  NA       1200           NA        NA       1430          \n",
       "336774 2013 1     31  NA       1410           NA        NA       1555          \n",
       "336775 2013 1     31  NA       1446           NA        NA       1757          \n",
       "336776 2013 1     31  NA        625           NA        NA        934          \n",
       "       arr_delay carrier flight tailnum origin dest air_time distance hour\n",
       "1        1       B6       745   N715JB  JFK    PSE  195      1617     23  \n",
       "2        6       B6       839   N593JB  JFK    BQN  186      1576     23  \n",
       "3      -15       US      1895   N197UW  EWR    CLT   86       529      5  \n",
       "4      -19       UA      1487   N69804  EWR    IAH  193      1400      5  \n",
       "5       -5       AA      2243   N634AA  JFK    MIA  144      1089      5  \n",
       "6      -22       B6       939   N821JB  JFK    BQN  189      1576      5  \n",
       "7      -21       EV      3819   N13968  EWR    CVG   95       569      5  \n",
       "8       -9       UA      1441   N23708  LGA    IAH  204      1416      5  \n",
       "9      -11       US      2167   N945UW  LGA    DCA   42       214      6  \n",
       "10     -29       B6       605   N706JB  EWR    FLL  140      1065      6  \n",
       "11     -22       B6       353   N779JB  JFK    PBI  135      1028      6  \n",
       "12     -23       EV      4714   N14904  EWR    CLT   86       529      6  \n",
       "13      -7       EV      5747   N820AS  LGA    IAD   44       229      6  \n",
       "14     -20       US      1739   N947UW  LGA    PHL   36        96      6  \n",
       "15     -22       DL      1377   N386DA  LGA    ATL  112       762      6  \n",
       "16       0       B6       583   N583JB  JFK    MCO  134       944      6  \n",
       "17     -14       DL      1517   N332NB  EWR    DTW   87       488      6  \n",
       "18     -21       DL       731   N318NB  LGA    DTW   79       502      6  \n",
       "19      -6       EV      4141   N14148  EWR    ATL  121       746      6  \n",
       "20     -15       B6       371   N592JB  LGA    FLL  141      1076      6  \n",
       "21       4       EV      5716   N833AS  JFK    IAD   44       228      6  \n",
       "22      -7       WN      4262   N368SW  EWR    MDW  109       711      6  \n",
       "23     -19       UA      1038   N87507  EWR    CLE   62       404      6  \n",
       "24     -10       EV      6177   N13202  EWR    IAD   41       212      6  \n",
       "25      -2       B6      1403   N651JB  JFK    SJU  200      1598      6  \n",
       "26     -19       UA       691   N455UA  LGA    ORD  114       733      6  \n",
       "27     -14       UA      1198   N37466  EWR    ORD  115       719      6  \n",
       "28      -4       WN      3990   N8313F  LGA    MDW  106       725      6  \n",
       "29     -11       EV      4393   N31131  EWR    IND  114       645      6  \n",
       "30     -13       UA       338   N486UA  EWR    LAS  300      2227      6  \n",
       "⋮      ⋮         ⋮       ⋮      ⋮       ⋮      ⋮    ⋮        ⋮        ⋮   \n",
       "336747 NA        AA      2253   N3DTAA  LGA    MIA  NA       1096     12  \n",
       "336748 NA        AA      1853   N4YDAA  EWR    DFW  NA       1372     12  \n",
       "336749 NA        B6      1174   N203JB  EWR    BOS  NA        200     12  \n",
       "336750 NA        B6       377   N503JB  LGA    FLL  NA       1076     14  \n",
       "336751 NA        US       487   NA      JFK    CLT  NA        541      8  \n",
       "336752 NA        US      1625   NA      LGA    CLT  NA        544     11  \n",
       "336753 NA        US       720   NA      EWR    CLT  NA        529     15  \n",
       "336754 NA        US      2114   NA      LGA    BOS  NA        184      6  \n",
       "336755 NA        US      2116   NA      LGA    BOS  NA        184      7  \n",
       "336756 NA        US      2118   NA      LGA    BOS  NA        184      8  \n",
       "336757 NA        US      2126   NA      LGA    BOS  NA        184     12  \n",
       "336758 NA        US      2128   NA      LGA    BOS  NA        184     13  \n",
       "336759 NA        US      2132   NA      LGA    BOS  NA        184     15  \n",
       "336760 NA        US      2144   NA      LGA    BOS  NA        184     21  \n",
       "336761 NA        US      2163   NA      LGA    DCA  NA        214      7  \n",
       "336762 NA        US      2165   NA      LGA    DCA  NA        214      8  \n",
       "336763 NA        US      2167   NA      LGA    DCA  NA        214      9  \n",
       "336764 NA        WN       323   N433LV  LGA    MKE  NA        738     15  \n",
       "336765 NA        WN       633   N295WN  EWR    MDW  NA        711     19  \n",
       "336766 NA        YV      3750   N507MJ  LGA    IAD  NA        229     14  \n",
       "336767 NA        MQ      3695   N544MQ  EWR    ORD  NA        719     16  \n",
       "336768 NA        MQ      4418   N855MQ  JFK    DCA  NA        213      8  \n",
       "336769 NA        MQ      4426   N736MQ  LGA    CMH  NA        479     13  \n",
       "336770 NA        MQ      4564   N737MQ  LGA    DTW  NA        502     13  \n",
       "336771 NA        MQ      4582   N506MQ  LGA    CLT  NA        544      9  \n",
       "336772 NA        MQ      4475   N730MQ  LGA    RDU  NA        431     13  \n",
       "336773 NA        MQ      4658   N505MQ  LGA    ATL  NA        762     12  \n",
       "336774 NA        MQ      4491   N734MQ  LGA    CLE  NA        419     14  \n",
       "336775 NA        UA       337   NA      LGA    IAH  NA       1416     14  \n",
       "336776 NA        UA      1497   NA      LGA    IAH  NA       1416      6  \n",
       "       minute time_hour          \n",
       "1      59     2013-12-01 23:00:00\n",
       "2      59     2013-12-01 23:00:00\n",
       "3       0     2013-12-01 05:00:00\n",
       "4      15     2013-12-01 05:00:00\n",
       "5      40     2013-12-01 05:00:00\n",
       "6      50     2013-12-01 05:00:00\n",
       "7      45     2013-12-01 05:00:00\n",
       "8      45     2013-12-01 05:00:00\n",
       "9       0     2013-12-01 06:00:00\n",
       "10      0     2013-12-01 06:00:00\n",
       "11      0     2013-12-01 06:00:00\n",
       "12      1     2013-12-01 06:00:00\n",
       "13      0     2013-12-01 06:00:00\n",
       "14      0     2013-12-01 06:00:00\n",
       "15      0     2013-12-01 06:00:00\n",
       "16      0     2013-12-01 06:00:00\n",
       "17      0     2013-12-01 06:00:00\n",
       "18      0     2013-12-01 06:00:00\n",
       "19      0     2013-12-01 06:00:00\n",
       "20      0     2013-12-01 06:00:00\n",
       "21      0     2013-12-01 06:00:00\n",
       "22      0     2013-12-01 06:00:00\n",
       "23      0     2013-12-01 06:00:00\n",
       "24      0     2013-12-01 06:00:00\n",
       "25      0     2013-12-01 06:00:00\n",
       "26      0     2013-12-01 06:00:00\n",
       "27      0     2013-12-01 06:00:00\n",
       "28      5     2013-12-01 06:00:00\n",
       "29      8     2013-12-01 06:00:00\n",
       "30      0     2013-12-01 06:00:00\n",
       "⋮      ⋮      ⋮                  \n",
       "336747 45     2013-01-31 12:00:00\n",
       "336748 40     2013-01-31 12:00:00\n",
       "336749  0     2013-01-31 12:00:00\n",
       "336750 15     2013-01-31 14:00:00\n",
       "336751 25     2013-01-31 08:00:00\n",
       "336752 30     2013-01-31 11:00:00\n",
       "336753  0     2013-01-31 15:00:00\n",
       "336754  0     2013-01-31 06:00:00\n",
       "336755  0     2013-01-31 07:00:00\n",
       "336756  0     2013-01-31 08:00:00\n",
       "336757  0     2013-01-31 12:00:00\n",
       "336758  0     2013-01-31 13:00:00\n",
       "336759  0     2013-01-31 15:00:00\n",
       "336760  0     2013-01-31 21:00:00\n",
       "336761  0     2013-01-31 07:00:00\n",
       "336762  0     2013-01-31 08:00:00\n",
       "336763  0     2013-01-31 09:00:00\n",
       "336764 10     2013-01-31 15:00:00\n",
       "336765 40     2013-01-31 19:00:00\n",
       "336766 35     2013-01-31 14:00:00\n",
       "336767 35     2013-01-31 16:00:00\n",
       "336768 25     2013-01-31 08:00:00\n",
       "336769  0     2013-01-31 13:00:00\n",
       "336770 15     2013-01-31 13:00:00\n",
       "336771 20     2013-01-31 09:00:00\n",
       "336772 25     2013-01-31 13:00:00\n",
       "336773  0     2013-01-31 12:00:00\n",
       "336774 10     2013-01-31 14:00:00\n",
       "336775 46     2013-01-31 14:00:00\n",
       "336776 25     2013-01-31 06:00:00"
      ]
     },
     "metadata": {},
     "output_type": "display_data"
    }
   ],
   "source": [
    "arrange(flights, desc(month))"
   ]
  },
  {
   "cell_type": "markdown",
   "metadata": {},
   "source": [
    "Missing values are always left at the end by `arrange`. In contrast, `filter` will ignore missing values unless you explicitly ask for them using `is.na()`."
   ]
  },
  {
   "cell_type": "code",
   "execution_count": 14,
   "metadata": {},
   "outputs": [
    {
     "data": {
      "text/html": [
       "<table>\n",
       "<caption>A tibble: 336776 × 19</caption>\n",
       "<thead>\n",
       "\t<tr><th scope=col>year</th><th scope=col>month</th><th scope=col>day</th><th scope=col>dep_time</th><th scope=col>sched_dep_time</th><th scope=col>dep_delay</th><th scope=col>arr_time</th><th scope=col>sched_arr_time</th><th scope=col>arr_delay</th><th scope=col>carrier</th><th scope=col>flight</th><th scope=col>tailnum</th><th scope=col>origin</th><th scope=col>dest</th><th scope=col>air_time</th><th scope=col>distance</th><th scope=col>hour</th><th scope=col>minute</th><th scope=col>time_hour</th></tr>\n",
       "\t<tr><th scope=col>&lt;int&gt;</th><th scope=col>&lt;int&gt;</th><th scope=col>&lt;int&gt;</th><th scope=col>&lt;int&gt;</th><th scope=col>&lt;int&gt;</th><th scope=col>&lt;dbl&gt;</th><th scope=col>&lt;int&gt;</th><th scope=col>&lt;int&gt;</th><th scope=col>&lt;dbl&gt;</th><th scope=col>&lt;chr&gt;</th><th scope=col>&lt;int&gt;</th><th scope=col>&lt;chr&gt;</th><th scope=col>&lt;chr&gt;</th><th scope=col>&lt;chr&gt;</th><th scope=col>&lt;dbl&gt;</th><th scope=col>&lt;dbl&gt;</th><th scope=col>&lt;dbl&gt;</th><th scope=col>&lt;dbl&gt;</th><th scope=col>&lt;dttm&gt;</th></tr>\n",
       "</thead>\n",
       "<tbody>\n",
       "\t<tr><td>2013</td><td>1</td><td>1</td><td>NA</td><td>1630</td><td>NA</td><td>NA</td><td>1815</td><td>NA</td><td>EV</td><td>4308</td><td>N18120</td><td>EWR</td><td>RDU</td><td>NA</td><td> 416</td><td>16</td><td>30</td><td>2013-01-01 16:00:00</td></tr>\n",
       "\t<tr><td>2013</td><td>1</td><td>1</td><td>NA</td><td>1935</td><td>NA</td><td>NA</td><td>2240</td><td>NA</td><td>AA</td><td> 791</td><td>N3EHAA</td><td>LGA</td><td>DFW</td><td>NA</td><td>1389</td><td>19</td><td>35</td><td>2013-01-01 19:00:00</td></tr>\n",
       "\t<tr><td>2013</td><td>1</td><td>1</td><td>NA</td><td>1500</td><td>NA</td><td>NA</td><td>1825</td><td>NA</td><td>AA</td><td>1925</td><td>N3EVAA</td><td>LGA</td><td>MIA</td><td>NA</td><td>1096</td><td>15</td><td> 0</td><td>2013-01-01 15:00:00</td></tr>\n",
       "\t<tr><td>2013</td><td>1</td><td>1</td><td>NA</td><td> 600</td><td>NA</td><td>NA</td><td> 901</td><td>NA</td><td>B6</td><td> 125</td><td>N618JB</td><td>JFK</td><td>FLL</td><td>NA</td><td>1069</td><td> 6</td><td> 0</td><td>2013-01-01 06:00:00</td></tr>\n",
       "\t<tr><td>2013</td><td>1</td><td>2</td><td>NA</td><td>1540</td><td>NA</td><td>NA</td><td>1747</td><td>NA</td><td>EV</td><td>4352</td><td>N10575</td><td>EWR</td><td>CVG</td><td>NA</td><td> 569</td><td>15</td><td>40</td><td>2013-01-02 15:00:00</td></tr>\n",
       "\t<tr><td>2013</td><td>1</td><td>2</td><td>NA</td><td>1620</td><td>NA</td><td>NA</td><td>1746</td><td>NA</td><td>EV</td><td>4406</td><td>N13949</td><td>EWR</td><td>PIT</td><td>NA</td><td> 319</td><td>16</td><td>20</td><td>2013-01-02 16:00:00</td></tr>\n",
       "\t<tr><td>2013</td><td>1</td><td>2</td><td>NA</td><td>1355</td><td>NA</td><td>NA</td><td>1459</td><td>NA</td><td>EV</td><td>4434</td><td>N10575</td><td>EWR</td><td>MHT</td><td>NA</td><td> 209</td><td>13</td><td>55</td><td>2013-01-02 13:00:00</td></tr>\n",
       "\t<tr><td>2013</td><td>1</td><td>2</td><td>NA</td><td>1420</td><td>NA</td><td>NA</td><td>1644</td><td>NA</td><td>EV</td><td>4935</td><td>N759EV</td><td>EWR</td><td>ATL</td><td>NA</td><td> 746</td><td>14</td><td>20</td><td>2013-01-02 14:00:00</td></tr>\n",
       "\t<tr><td>2013</td><td>1</td><td>2</td><td>NA</td><td>1321</td><td>NA</td><td>NA</td><td>1536</td><td>NA</td><td>EV</td><td>3849</td><td>N13550</td><td>EWR</td><td>IND</td><td>NA</td><td> 645</td><td>13</td><td>21</td><td>2013-01-02 13:00:00</td></tr>\n",
       "\t<tr><td>2013</td><td>1</td><td>2</td><td>NA</td><td>1545</td><td>NA</td><td>NA</td><td>1910</td><td>NA</td><td>AA</td><td> 133</td><td>NA    </td><td>JFK</td><td>LAX</td><td>NA</td><td>2475</td><td>15</td><td>45</td><td>2013-01-02 15:00:00</td></tr>\n",
       "\t<tr><td>2013</td><td>1</td><td>2</td><td>NA</td><td>1330</td><td>NA</td><td>NA</td><td>1640</td><td>NA</td><td>AA</td><td> 753</td><td>N3FBAA</td><td>LGA</td><td>DFW</td><td>NA</td><td>1389</td><td>13</td><td>30</td><td>2013-01-02 13:00:00</td></tr>\n",
       "\t<tr><td>2013</td><td>1</td><td>2</td><td>NA</td><td>1601</td><td>NA</td><td>NA</td><td>1735</td><td>NA</td><td>UA</td><td> 623</td><td>NA    </td><td>EWR</td><td>ORD</td><td>NA</td><td> 719</td><td>16</td><td> 1</td><td>2013-01-02 16:00:00</td></tr>\n",
       "\t<tr><td>2013</td><td>1</td><td>3</td><td>NA</td><td> 645</td><td>NA</td><td>NA</td><td> 757</td><td>NA</td><td>EV</td><td>4241</td><td>N14972</td><td>EWR</td><td>DCA</td><td>NA</td><td> 199</td><td> 6</td><td>45</td><td>2013-01-03 06:00:00</td></tr>\n",
       "\t<tr><td>2013</td><td>1</td><td>3</td><td>NA</td><td>1030</td><td>NA</td><td>NA</td><td>1210</td><td>NA</td><td>AA</td><td> 321</td><td>N487AA</td><td>LGA</td><td>ORD</td><td>NA</td><td> 733</td><td>10</td><td>30</td><td>2013-01-03 10:00:00</td></tr>\n",
       "\t<tr><td>2013</td><td>1</td><td>3</td><td>NA</td><td>1125</td><td>NA</td><td>NA</td><td>1305</td><td>NA</td><td>AA</td><td> 327</td><td>N3AMAA</td><td>LGA</td><td>ORD</td><td>NA</td><td> 733</td><td>11</td><td>25</td><td>2013-01-03 11:00:00</td></tr>\n",
       "\t<tr><td>2013</td><td>1</td><td>3</td><td>NA</td><td> 835</td><td>NA</td><td>NA</td><td>1150</td><td>NA</td><td>AA</td><td> 717</td><td>N3GXAA</td><td>LGA</td><td>DFW</td><td>NA</td><td>1389</td><td> 8</td><td>35</td><td>2013-01-03 08:00:00</td></tr>\n",
       "\t<tr><td>2013</td><td>1</td><td>3</td><td>NA</td><td> 920</td><td>NA</td><td>NA</td><td>1245</td><td>NA</td><td>AA</td><td> 721</td><td>N201AA</td><td>LGA</td><td>DFW</td><td>NA</td><td>1389</td><td> 9</td><td>20</td><td>2013-01-03 09:00:00</td></tr>\n",
       "\t<tr><td>2013</td><td>1</td><td>3</td><td>NA</td><td>1020</td><td>NA</td><td>NA</td><td>1330</td><td>NA</td><td>AA</td><td> 731</td><td>N3FVAA</td><td>LGA</td><td>DFW</td><td>NA</td><td>1389</td><td>10</td><td>20</td><td>2013-01-03 10:00:00</td></tr>\n",
       "\t<tr><td>2013</td><td>1</td><td>3</td><td>NA</td><td>1220</td><td>NA</td><td>NA</td><td>1415</td><td>NA</td><td>AA</td><td>1757</td><td>N573AA</td><td>LGA</td><td>STL</td><td>NA</td><td> 888</td><td>12</td><td>20</td><td>2013-01-03 12:00:00</td></tr>\n",
       "\t<tr><td>2013</td><td>1</td><td>3</td><td>NA</td><td> 630</td><td>NA</td><td>NA</td><td> 830</td><td>NA</td><td>MQ</td><td>4599</td><td>N500MQ</td><td>LGA</td><td>MSP</td><td>NA</td><td>1020</td><td> 6</td><td>30</td><td>2013-01-03 06:00:00</td></tr>\n",
       "\t<tr><td>2013</td><td>1</td><td>3</td><td>NA</td><td> 857</td><td>NA</td><td>NA</td><td>1209</td><td>NA</td><td>UA</td><td> 714</td><td>NA    </td><td>EWR</td><td>MIA</td><td>NA</td><td>1085</td><td> 8</td><td>57</td><td>2013-01-03 08:00:00</td></tr>\n",
       "\t<tr><td>2013</td><td>1</td><td>3</td><td>NA</td><td> 645</td><td>NA</td><td>NA</td><td> 952</td><td>NA</td><td>UA</td><td> 719</td><td>NA    </td><td>EWR</td><td>DFW</td><td>NA</td><td>1372</td><td> 6</td><td>45</td><td>2013-01-03 06:00:00</td></tr>\n",
       "\t<tr><td>2013</td><td>1</td><td>4</td><td>NA</td><td> 845</td><td>NA</td><td>NA</td><td>1015</td><td>NA</td><td>9E</td><td>3405</td><td>NA    </td><td>JFK</td><td>DCA</td><td>NA</td><td> 213</td><td> 8</td><td>45</td><td>2013-01-04 08:00:00</td></tr>\n",
       "\t<tr><td>2013</td><td>1</td><td>4</td><td>NA</td><td>1830</td><td>NA</td><td>NA</td><td>2044</td><td>NA</td><td>9E</td><td>3716</td><td>NA    </td><td>EWR</td><td>DTW</td><td>NA</td><td> 488</td><td>18</td><td>30</td><td>2013-01-04 18:00:00</td></tr>\n",
       "\t<tr><td>2013</td><td>1</td><td>4</td><td>NA</td><td> 920</td><td>NA</td><td>NA</td><td>1245</td><td>NA</td><td>AA</td><td> 721</td><td>N541AA</td><td>LGA</td><td>DFW</td><td>NA</td><td>1389</td><td> 9</td><td>20</td><td>2013-01-04 09:00:00</td></tr>\n",
       "\t<tr><td>2013</td><td>1</td><td>4</td><td>NA</td><td>1245</td><td>NA</td><td>NA</td><td>1550</td><td>NA</td><td>AA</td><td> 745</td><td>N3BGAA</td><td>LGA</td><td>DFW</td><td>NA</td><td>1389</td><td>12</td><td>45</td><td>2013-01-04 12:00:00</td></tr>\n",
       "\t<tr><td>2013</td><td>1</td><td>4</td><td>NA</td><td>1430</td><td>NA</td><td>NA</td><td>1735</td><td>NA</td><td>AA</td><td> 883</td><td>N200AA</td><td>EWR</td><td>DFW</td><td>NA</td><td>1372</td><td>14</td><td>30</td><td>2013-01-04 14:00:00</td></tr>\n",
       "\t<tr><td>2013</td><td>1</td><td>4</td><td>NA</td><td>1530</td><td>NA</td><td>NA</td><td>1725</td><td>NA</td><td>AA</td><td>2223</td><td>N569AA</td><td>LGA</td><td>STL</td><td>NA</td><td> 888</td><td>15</td><td>30</td><td>2013-01-04 15:00:00</td></tr>\n",
       "\t<tr><td>2013</td><td>1</td><td>5</td><td>NA</td><td>1400</td><td>NA</td><td>NA</td><td>1518</td><td>NA</td><td>EV</td><td>5712</td><td>N827AS</td><td>JFK</td><td>IAD</td><td>NA</td><td> 228</td><td>14</td><td> 0</td><td>2013-01-05 14:00:00</td></tr>\n",
       "\t<tr><td>2013</td><td>1</td><td>5</td><td>NA</td><td> 840</td><td>NA</td><td>NA</td><td>1001</td><td>NA</td><td>9E</td><td>3422</td><td>NA    </td><td>JFK</td><td>BOS</td><td>NA</td><td> 187</td><td> 8</td><td>40</td><td>2013-01-05 08:00:00</td></tr>\n",
       "\t<tr><td>⋮</td><td>⋮</td><td>⋮</td><td>⋮</td><td>⋮</td><td>⋮</td><td>⋮</td><td>⋮</td><td>⋮</td><td>⋮</td><td>⋮</td><td>⋮</td><td>⋮</td><td>⋮</td><td>⋮</td><td>⋮</td><td>⋮</td><td>⋮</td><td>⋮</td></tr>\n",
       "\t<tr><td>2013</td><td>10</td><td>14</td><td>2042</td><td> 900</td><td> 702</td><td>2255</td><td>1127</td><td> 688</td><td>DL</td><td> 502</td><td>N943DL</td><td>EWR</td><td>ATL</td><td> 98</td><td> 746</td><td> 9</td><td> 0</td><td>2013-10-14 09:00:00</td></tr>\n",
       "\t<tr><td>2013</td><td> 2</td><td>16</td><td> 757</td><td>1930</td><td> 747</td><td>1013</td><td>2149</td><td> 744</td><td>9E</td><td>3798</td><td>N8940E</td><td>JFK</td><td>CLT</td><td> 85</td><td> 541</td><td>19</td><td>30</td><td>2013-02-16 19:00:00</td></tr>\n",
       "\t<tr><td>2013</td><td> 4</td><td>19</td><td> 758</td><td>1925</td><td> 753</td><td>1049</td><td>2225</td><td> 744</td><td>DL</td><td>1485</td><td>N927DA</td><td>LGA</td><td>MCO</td><td>149</td><td> 950</td><td>19</td><td>25</td><td>2013-04-19 19:00:00</td></tr>\n",
       "\t<tr><td>2013</td><td> 4</td><td>19</td><td> 606</td><td>1725</td><td> 761</td><td> 923</td><td>2020</td><td> 783</td><td>AA</td><td>1901</td><td>N3DGAA</td><td>JFK</td><td>IAH</td><td>222</td><td>1417</td><td>17</td><td>25</td><td>2013-04-19 17:00:00</td></tr>\n",
       "\t<tr><td>2013</td><td> 2</td><td>24</td><td>1921</td><td> 615</td><td> 786</td><td>2135</td><td> 842</td><td> 773</td><td>DL</td><td> 575</td><td>N348NW</td><td>EWR</td><td>ATL</td><td>111</td><td> 746</td><td> 6</td><td>15</td><td>2013-02-24 06:00:00</td></tr>\n",
       "\t<tr><td>2013</td><td> 6</td><td>27</td><td> 732</td><td>1825</td><td> 787</td><td> 932</td><td>2032</td><td> 780</td><td>DL</td><td>1715</td><td>N335NB</td><td>LGA</td><td>MSY</td><td>160</td><td>1183</td><td>18</td><td>25</td><td>2013-06-27 18:00:00</td></tr>\n",
       "\t<tr><td>2013</td><td> 2</td><td>19</td><td>2324</td><td>1016</td><td> 788</td><td> 114</td><td>1227</td><td> 767</td><td>DL</td><td>2319</td><td>N324US</td><td>LGA</td><td>MSP</td><td>136</td><td>1020</td><td>10</td><td>16</td><td>2013-02-19 10:00:00</td></tr>\n",
       "\t<tr><td>2013</td><td> 6</td><td>27</td><td> 615</td><td>1705</td><td> 790</td><td> 853</td><td>2004</td><td> 769</td><td>DL</td><td> 503</td><td>N372DA</td><td>JFK</td><td>SAN</td><td>312</td><td>2446</td><td>17</td><td> 5</td><td>2013-06-27 17:00:00</td></tr>\n",
       "\t<tr><td>2013</td><td> 4</td><td>19</td><td> 617</td><td>1700</td><td> 797</td><td> 858</td><td>1955</td><td> 783</td><td>AA</td><td> 257</td><td>N3GJAA</td><td>JFK</td><td>LAS</td><td>313</td><td>2248</td><td>17</td><td> 0</td><td>2013-04-19 17:00:00</td></tr>\n",
       "\t<tr><td>2013</td><td>11</td><td> 3</td><td> 603</td><td>1645</td><td> 798</td><td> 829</td><td>1913</td><td> 796</td><td>DL</td><td>2042</td><td>N990AT</td><td>EWR</td><td>ATL</td><td>109</td><td> 746</td><td>16</td><td>45</td><td>2013-11-03 16:00:00</td></tr>\n",
       "\t<tr><td>2013</td><td> 3</td><td>18</td><td>1020</td><td>2100</td><td> 800</td><td>1336</td><td>  32</td><td> 784</td><td>DL</td><td>2363</td><td>N624AG</td><td>JFK</td><td>LAX</td><td>335</td><td>2475</td><td>21</td><td> 0</td><td>2013-03-18 21:00:00</td></tr>\n",
       "\t<tr><td>2013</td><td> 6</td><td>27</td><td> 753</td><td>1830</td><td> 803</td><td> 937</td><td>2015</td><td> 802</td><td>AA</td><td>2019</td><td>N571AA</td><td>LGA</td><td>STL</td><td>134</td><td> 888</td><td>18</td><td>30</td><td>2013-06-27 18:00:00</td></tr>\n",
       "\t<tr><td>2013</td><td> 4</td><td>19</td><td> 912</td><td>1940</td><td> 812</td><td>1228</td><td>2247</td><td> 821</td><td>DL</td><td>1435</td><td>N900DE</td><td>LGA</td><td>TPA</td><td>174</td><td>1010</td><td>19</td><td>40</td><td>2013-04-19 19:00:00</td></tr>\n",
       "\t<tr><td>2013</td><td>12</td><td>14</td><td> 830</td><td>1845</td><td> 825</td><td>1210</td><td>2154</td><td> 856</td><td>DL</td><td>2391</td><td>N939DL</td><td>JFK</td><td>TPA</td><td>173</td><td>1005</td><td>18</td><td>45</td><td>2013-12-14 18:00:00</td></tr>\n",
       "\t<tr><td>2013</td><td>12</td><td>17</td><td> 705</td><td>1700</td><td> 845</td><td>1026</td><td>2020</td><td> 846</td><td>AA</td><td> 172</td><td>N5EMAA</td><td>EWR</td><td>MIA</td><td>145</td><td>1085</td><td>17</td><td> 0</td><td>2013-12-17 17:00:00</td></tr>\n",
       "\t<tr><td>2013</td><td>12</td><td>19</td><td> 734</td><td>1725</td><td> 849</td><td>1046</td><td>2039</td><td> 847</td><td>DL</td><td>1223</td><td>N375NC</td><td>EWR</td><td>SLC</td><td>290</td><td>1969</td><td>17</td><td>25</td><td>2013-12-19 17:00:00</td></tr>\n",
       "\t<tr><td>2013</td><td> 1</td><td> 1</td><td> 848</td><td>1835</td><td> 853</td><td>1001</td><td>1950</td><td> 851</td><td>MQ</td><td>3944</td><td>N942MQ</td><td>JFK</td><td>BWI</td><td> 41</td><td> 184</td><td>18</td><td>35</td><td>2013-01-01 18:00:00</td></tr>\n",
       "\t<tr><td>2013</td><td> 2</td><td>10</td><td>2243</td><td> 830</td><td> 853</td><td> 100</td><td>1106</td><td> 834</td><td>F9</td><td> 835</td><td>N203FR</td><td>LGA</td><td>DEN</td><td>233</td><td>1620</td><td> 8</td><td>30</td><td>2013-02-10 08:00:00</td></tr>\n",
       "\t<tr><td>2013</td><td> 5</td><td>19</td><td> 713</td><td>1700</td><td> 853</td><td>1007</td><td>1955</td><td> 852</td><td>AA</td><td> 257</td><td>N3HEAA</td><td>JFK</td><td>LAS</td><td>323</td><td>2248</td><td>17</td><td> 0</td><td>2013-05-19 17:00:00</td></tr>\n",
       "\t<tr><td>2013</td><td> 5</td><td> 3</td><td>1133</td><td>2055</td><td> 878</td><td>1250</td><td>2215</td><td> 875</td><td>MQ</td><td>3744</td><td>N523MQ</td><td>EWR</td><td>ORD</td><td>112</td><td> 719</td><td>20</td><td>55</td><td>2013-05-03 20:00:00</td></tr>\n",
       "\t<tr><td>2013</td><td>12</td><td> 5</td><td> 756</td><td>1700</td><td> 896</td><td>1058</td><td>2020</td><td> 878</td><td>AA</td><td> 172</td><td>N5DMAA</td><td>EWR</td><td>MIA</td><td>149</td><td>1085</td><td>17</td><td> 0</td><td>2013-12-05 17:00:00</td></tr>\n",
       "\t<tr><td>2013</td><td> 7</td><td>22</td><td>2257</td><td> 759</td><td> 898</td><td> 121</td><td>1026</td><td> 895</td><td>DL</td><td>2047</td><td>N6716C</td><td>LGA</td><td>ATL</td><td>109</td><td> 762</td><td> 7</td><td>59</td><td>2013-07-22 07:00:00</td></tr>\n",
       "\t<tr><td>2013</td><td> 6</td><td>27</td><td> 959</td><td>1900</td><td> 899</td><td>1236</td><td>2226</td><td> 850</td><td>DL</td><td>2007</td><td>N3762Y</td><td>JFK</td><td>PDX</td><td>313</td><td>2454</td><td>19</td><td> 0</td><td>2013-06-27 19:00:00</td></tr>\n",
       "\t<tr><td>2013</td><td> 3</td><td>17</td><td>2321</td><td> 810</td><td> 911</td><td> 135</td><td>1020</td><td> 915</td><td>DL</td><td>2119</td><td>N927DA</td><td>LGA</td><td>MSP</td><td>167</td><td>1020</td><td> 8</td><td>10</td><td>2013-03-17 08:00:00</td></tr>\n",
       "\t<tr><td>2013</td><td> 4</td><td>10</td><td>1100</td><td>1900</td><td> 960</td><td>1342</td><td>2211</td><td> 931</td><td>DL</td><td>2391</td><td>N959DL</td><td>JFK</td><td>TPA</td><td>139</td><td>1005</td><td>19</td><td> 0</td><td>2013-04-10 19:00:00</td></tr>\n",
       "\t<tr><td>2013</td><td> 7</td><td>22</td><td> 845</td><td>1600</td><td>1005</td><td>1044</td><td>1815</td><td> 989</td><td>MQ</td><td>3075</td><td>N665MQ</td><td>JFK</td><td>CVG</td><td> 96</td><td> 589</td><td>16</td><td> 0</td><td>2013-07-22 16:00:00</td></tr>\n",
       "\t<tr><td>2013</td><td> 9</td><td>20</td><td>1139</td><td>1845</td><td>1014</td><td>1457</td><td>2210</td><td>1007</td><td>AA</td><td> 177</td><td>N338AA</td><td>JFK</td><td>SFO</td><td>354</td><td>2586</td><td>18</td><td>45</td><td>2013-09-20 18:00:00</td></tr>\n",
       "\t<tr><td>2013</td><td> 1</td><td>10</td><td>1121</td><td>1635</td><td>1126</td><td>1239</td><td>1810</td><td>1109</td><td>MQ</td><td>3695</td><td>N517MQ</td><td>EWR</td><td>ORD</td><td>111</td><td> 719</td><td>16</td><td>35</td><td>2013-01-10 16:00:00</td></tr>\n",
       "\t<tr><td>2013</td><td> 6</td><td>15</td><td>1432</td><td>1935</td><td>1137</td><td>1607</td><td>2120</td><td>1127</td><td>MQ</td><td>3535</td><td>N504MQ</td><td>JFK</td><td>CMH</td><td> 74</td><td> 483</td><td>19</td><td>35</td><td>2013-06-15 19:00:00</td></tr>\n",
       "\t<tr><td>2013</td><td> 1</td><td> 9</td><td> 641</td><td> 900</td><td>1301</td><td>1242</td><td>1530</td><td>1272</td><td>HA</td><td>  51</td><td>N384HA</td><td>JFK</td><td>HNL</td><td>640</td><td>4983</td><td> 9</td><td> 0</td><td>2013-01-09 09:00:00</td></tr>\n",
       "</tbody>\n",
       "</table>\n"
      ],
      "text/latex": [
       "A tibble: 336776 × 19\n",
       "\\begin{tabular}{lllllllllllllllllll}\n",
       " year & month & day & dep\\_time & sched\\_dep\\_time & dep\\_delay & arr\\_time & sched\\_arr\\_time & arr\\_delay & carrier & flight & tailnum & origin & dest & air\\_time & distance & hour & minute & time\\_hour\\\\\n",
       " <int> & <int> & <int> & <int> & <int> & <dbl> & <int> & <int> & <dbl> & <chr> & <int> & <chr> & <chr> & <chr> & <dbl> & <dbl> & <dbl> & <dbl> & <dttm>\\\\\n",
       "\\hline\n",
       "\t 2013 & 1 & 1 & NA & 1630 & NA & NA & 1815 & NA & EV & 4308 & N18120 & EWR & RDU & NA &  416 & 16 & 30 & 2013-01-01 16:00:00\\\\\n",
       "\t 2013 & 1 & 1 & NA & 1935 & NA & NA & 2240 & NA & AA &  791 & N3EHAA & LGA & DFW & NA & 1389 & 19 & 35 & 2013-01-01 19:00:00\\\\\n",
       "\t 2013 & 1 & 1 & NA & 1500 & NA & NA & 1825 & NA & AA & 1925 & N3EVAA & LGA & MIA & NA & 1096 & 15 &  0 & 2013-01-01 15:00:00\\\\\n",
       "\t 2013 & 1 & 1 & NA &  600 & NA & NA &  901 & NA & B6 &  125 & N618JB & JFK & FLL & NA & 1069 &  6 &  0 & 2013-01-01 06:00:00\\\\\n",
       "\t 2013 & 1 & 2 & NA & 1540 & NA & NA & 1747 & NA & EV & 4352 & N10575 & EWR & CVG & NA &  569 & 15 & 40 & 2013-01-02 15:00:00\\\\\n",
       "\t 2013 & 1 & 2 & NA & 1620 & NA & NA & 1746 & NA & EV & 4406 & N13949 & EWR & PIT & NA &  319 & 16 & 20 & 2013-01-02 16:00:00\\\\\n",
       "\t 2013 & 1 & 2 & NA & 1355 & NA & NA & 1459 & NA & EV & 4434 & N10575 & EWR & MHT & NA &  209 & 13 & 55 & 2013-01-02 13:00:00\\\\\n",
       "\t 2013 & 1 & 2 & NA & 1420 & NA & NA & 1644 & NA & EV & 4935 & N759EV & EWR & ATL & NA &  746 & 14 & 20 & 2013-01-02 14:00:00\\\\\n",
       "\t 2013 & 1 & 2 & NA & 1321 & NA & NA & 1536 & NA & EV & 3849 & N13550 & EWR & IND & NA &  645 & 13 & 21 & 2013-01-02 13:00:00\\\\\n",
       "\t 2013 & 1 & 2 & NA & 1545 & NA & NA & 1910 & NA & AA &  133 & NA     & JFK & LAX & NA & 2475 & 15 & 45 & 2013-01-02 15:00:00\\\\\n",
       "\t 2013 & 1 & 2 & NA & 1330 & NA & NA & 1640 & NA & AA &  753 & N3FBAA & LGA & DFW & NA & 1389 & 13 & 30 & 2013-01-02 13:00:00\\\\\n",
       "\t 2013 & 1 & 2 & NA & 1601 & NA & NA & 1735 & NA & UA &  623 & NA     & EWR & ORD & NA &  719 & 16 &  1 & 2013-01-02 16:00:00\\\\\n",
       "\t 2013 & 1 & 3 & NA &  645 & NA & NA &  757 & NA & EV & 4241 & N14972 & EWR & DCA & NA &  199 &  6 & 45 & 2013-01-03 06:00:00\\\\\n",
       "\t 2013 & 1 & 3 & NA & 1030 & NA & NA & 1210 & NA & AA &  321 & N487AA & LGA & ORD & NA &  733 & 10 & 30 & 2013-01-03 10:00:00\\\\\n",
       "\t 2013 & 1 & 3 & NA & 1125 & NA & NA & 1305 & NA & AA &  327 & N3AMAA & LGA & ORD & NA &  733 & 11 & 25 & 2013-01-03 11:00:00\\\\\n",
       "\t 2013 & 1 & 3 & NA &  835 & NA & NA & 1150 & NA & AA &  717 & N3GXAA & LGA & DFW & NA & 1389 &  8 & 35 & 2013-01-03 08:00:00\\\\\n",
       "\t 2013 & 1 & 3 & NA &  920 & NA & NA & 1245 & NA & AA &  721 & N201AA & LGA & DFW & NA & 1389 &  9 & 20 & 2013-01-03 09:00:00\\\\\n",
       "\t 2013 & 1 & 3 & NA & 1020 & NA & NA & 1330 & NA & AA &  731 & N3FVAA & LGA & DFW & NA & 1389 & 10 & 20 & 2013-01-03 10:00:00\\\\\n",
       "\t 2013 & 1 & 3 & NA & 1220 & NA & NA & 1415 & NA & AA & 1757 & N573AA & LGA & STL & NA &  888 & 12 & 20 & 2013-01-03 12:00:00\\\\\n",
       "\t 2013 & 1 & 3 & NA &  630 & NA & NA &  830 & NA & MQ & 4599 & N500MQ & LGA & MSP & NA & 1020 &  6 & 30 & 2013-01-03 06:00:00\\\\\n",
       "\t 2013 & 1 & 3 & NA &  857 & NA & NA & 1209 & NA & UA &  714 & NA     & EWR & MIA & NA & 1085 &  8 & 57 & 2013-01-03 08:00:00\\\\\n",
       "\t 2013 & 1 & 3 & NA &  645 & NA & NA &  952 & NA & UA &  719 & NA     & EWR & DFW & NA & 1372 &  6 & 45 & 2013-01-03 06:00:00\\\\\n",
       "\t 2013 & 1 & 4 & NA &  845 & NA & NA & 1015 & NA & 9E & 3405 & NA     & JFK & DCA & NA &  213 &  8 & 45 & 2013-01-04 08:00:00\\\\\n",
       "\t 2013 & 1 & 4 & NA & 1830 & NA & NA & 2044 & NA & 9E & 3716 & NA     & EWR & DTW & NA &  488 & 18 & 30 & 2013-01-04 18:00:00\\\\\n",
       "\t 2013 & 1 & 4 & NA &  920 & NA & NA & 1245 & NA & AA &  721 & N541AA & LGA & DFW & NA & 1389 &  9 & 20 & 2013-01-04 09:00:00\\\\\n",
       "\t 2013 & 1 & 4 & NA & 1245 & NA & NA & 1550 & NA & AA &  745 & N3BGAA & LGA & DFW & NA & 1389 & 12 & 45 & 2013-01-04 12:00:00\\\\\n",
       "\t 2013 & 1 & 4 & NA & 1430 & NA & NA & 1735 & NA & AA &  883 & N200AA & EWR & DFW & NA & 1372 & 14 & 30 & 2013-01-04 14:00:00\\\\\n",
       "\t 2013 & 1 & 4 & NA & 1530 & NA & NA & 1725 & NA & AA & 2223 & N569AA & LGA & STL & NA &  888 & 15 & 30 & 2013-01-04 15:00:00\\\\\n",
       "\t 2013 & 1 & 5 & NA & 1400 & NA & NA & 1518 & NA & EV & 5712 & N827AS & JFK & IAD & NA &  228 & 14 &  0 & 2013-01-05 14:00:00\\\\\n",
       "\t 2013 & 1 & 5 & NA &  840 & NA & NA & 1001 & NA & 9E & 3422 & NA     & JFK & BOS & NA &  187 &  8 & 40 & 2013-01-05 08:00:00\\\\\n",
       "\t ⋮ & ⋮ & ⋮ & ⋮ & ⋮ & ⋮ & ⋮ & ⋮ & ⋮ & ⋮ & ⋮ & ⋮ & ⋮ & ⋮ & ⋮ & ⋮ & ⋮ & ⋮ & ⋮\\\\\n",
       "\t 2013 & 10 & 14 & 2042 &  900 &  702 & 2255 & 1127 &  688 & DL &  502 & N943DL & EWR & ATL &  98 &  746 &  9 &  0 & 2013-10-14 09:00:00\\\\\n",
       "\t 2013 &  2 & 16 &  757 & 1930 &  747 & 1013 & 2149 &  744 & 9E & 3798 & N8940E & JFK & CLT &  85 &  541 & 19 & 30 & 2013-02-16 19:00:00\\\\\n",
       "\t 2013 &  4 & 19 &  758 & 1925 &  753 & 1049 & 2225 &  744 & DL & 1485 & N927DA & LGA & MCO & 149 &  950 & 19 & 25 & 2013-04-19 19:00:00\\\\\n",
       "\t 2013 &  4 & 19 &  606 & 1725 &  761 &  923 & 2020 &  783 & AA & 1901 & N3DGAA & JFK & IAH & 222 & 1417 & 17 & 25 & 2013-04-19 17:00:00\\\\\n",
       "\t 2013 &  2 & 24 & 1921 &  615 &  786 & 2135 &  842 &  773 & DL &  575 & N348NW & EWR & ATL & 111 &  746 &  6 & 15 & 2013-02-24 06:00:00\\\\\n",
       "\t 2013 &  6 & 27 &  732 & 1825 &  787 &  932 & 2032 &  780 & DL & 1715 & N335NB & LGA & MSY & 160 & 1183 & 18 & 25 & 2013-06-27 18:00:00\\\\\n",
       "\t 2013 &  2 & 19 & 2324 & 1016 &  788 &  114 & 1227 &  767 & DL & 2319 & N324US & LGA & MSP & 136 & 1020 & 10 & 16 & 2013-02-19 10:00:00\\\\\n",
       "\t 2013 &  6 & 27 &  615 & 1705 &  790 &  853 & 2004 &  769 & DL &  503 & N372DA & JFK & SAN & 312 & 2446 & 17 &  5 & 2013-06-27 17:00:00\\\\\n",
       "\t 2013 &  4 & 19 &  617 & 1700 &  797 &  858 & 1955 &  783 & AA &  257 & N3GJAA & JFK & LAS & 313 & 2248 & 17 &  0 & 2013-04-19 17:00:00\\\\\n",
       "\t 2013 & 11 &  3 &  603 & 1645 &  798 &  829 & 1913 &  796 & DL & 2042 & N990AT & EWR & ATL & 109 &  746 & 16 & 45 & 2013-11-03 16:00:00\\\\\n",
       "\t 2013 &  3 & 18 & 1020 & 2100 &  800 & 1336 &   32 &  784 & DL & 2363 & N624AG & JFK & LAX & 335 & 2475 & 21 &  0 & 2013-03-18 21:00:00\\\\\n",
       "\t 2013 &  6 & 27 &  753 & 1830 &  803 &  937 & 2015 &  802 & AA & 2019 & N571AA & LGA & STL & 134 &  888 & 18 & 30 & 2013-06-27 18:00:00\\\\\n",
       "\t 2013 &  4 & 19 &  912 & 1940 &  812 & 1228 & 2247 &  821 & DL & 1435 & N900DE & LGA & TPA & 174 & 1010 & 19 & 40 & 2013-04-19 19:00:00\\\\\n",
       "\t 2013 & 12 & 14 &  830 & 1845 &  825 & 1210 & 2154 &  856 & DL & 2391 & N939DL & JFK & TPA & 173 & 1005 & 18 & 45 & 2013-12-14 18:00:00\\\\\n",
       "\t 2013 & 12 & 17 &  705 & 1700 &  845 & 1026 & 2020 &  846 & AA &  172 & N5EMAA & EWR & MIA & 145 & 1085 & 17 &  0 & 2013-12-17 17:00:00\\\\\n",
       "\t 2013 & 12 & 19 &  734 & 1725 &  849 & 1046 & 2039 &  847 & DL & 1223 & N375NC & EWR & SLC & 290 & 1969 & 17 & 25 & 2013-12-19 17:00:00\\\\\n",
       "\t 2013 &  1 &  1 &  848 & 1835 &  853 & 1001 & 1950 &  851 & MQ & 3944 & N942MQ & JFK & BWI &  41 &  184 & 18 & 35 & 2013-01-01 18:00:00\\\\\n",
       "\t 2013 &  2 & 10 & 2243 &  830 &  853 &  100 & 1106 &  834 & F9 &  835 & N203FR & LGA & DEN & 233 & 1620 &  8 & 30 & 2013-02-10 08:00:00\\\\\n",
       "\t 2013 &  5 & 19 &  713 & 1700 &  853 & 1007 & 1955 &  852 & AA &  257 & N3HEAA & JFK & LAS & 323 & 2248 & 17 &  0 & 2013-05-19 17:00:00\\\\\n",
       "\t 2013 &  5 &  3 & 1133 & 2055 &  878 & 1250 & 2215 &  875 & MQ & 3744 & N523MQ & EWR & ORD & 112 &  719 & 20 & 55 & 2013-05-03 20:00:00\\\\\n",
       "\t 2013 & 12 &  5 &  756 & 1700 &  896 & 1058 & 2020 &  878 & AA &  172 & N5DMAA & EWR & MIA & 149 & 1085 & 17 &  0 & 2013-12-05 17:00:00\\\\\n",
       "\t 2013 &  7 & 22 & 2257 &  759 &  898 &  121 & 1026 &  895 & DL & 2047 & N6716C & LGA & ATL & 109 &  762 &  7 & 59 & 2013-07-22 07:00:00\\\\\n",
       "\t 2013 &  6 & 27 &  959 & 1900 &  899 & 1236 & 2226 &  850 & DL & 2007 & N3762Y & JFK & PDX & 313 & 2454 & 19 &  0 & 2013-06-27 19:00:00\\\\\n",
       "\t 2013 &  3 & 17 & 2321 &  810 &  911 &  135 & 1020 &  915 & DL & 2119 & N927DA & LGA & MSP & 167 & 1020 &  8 & 10 & 2013-03-17 08:00:00\\\\\n",
       "\t 2013 &  4 & 10 & 1100 & 1900 &  960 & 1342 & 2211 &  931 & DL & 2391 & N959DL & JFK & TPA & 139 & 1005 & 19 &  0 & 2013-04-10 19:00:00\\\\\n",
       "\t 2013 &  7 & 22 &  845 & 1600 & 1005 & 1044 & 1815 &  989 & MQ & 3075 & N665MQ & JFK & CVG &  96 &  589 & 16 &  0 & 2013-07-22 16:00:00\\\\\n",
       "\t 2013 &  9 & 20 & 1139 & 1845 & 1014 & 1457 & 2210 & 1007 & AA &  177 & N338AA & JFK & SFO & 354 & 2586 & 18 & 45 & 2013-09-20 18:00:00\\\\\n",
       "\t 2013 &  1 & 10 & 1121 & 1635 & 1126 & 1239 & 1810 & 1109 & MQ & 3695 & N517MQ & EWR & ORD & 111 &  719 & 16 & 35 & 2013-01-10 16:00:00\\\\\n",
       "\t 2013 &  6 & 15 & 1432 & 1935 & 1137 & 1607 & 2120 & 1127 & MQ & 3535 & N504MQ & JFK & CMH &  74 &  483 & 19 & 35 & 2013-06-15 19:00:00\\\\\n",
       "\t 2013 &  1 &  9 &  641 &  900 & 1301 & 1242 & 1530 & 1272 & HA &   51 & N384HA & JFK & HNL & 640 & 4983 &  9 &  0 & 2013-01-09 09:00:00\\\\\n",
       "\\end{tabular}\n"
      ],
      "text/markdown": [
       "\n",
       "A tibble: 336776 × 19\n",
       "\n",
       "| year &lt;int&gt; | month &lt;int&gt; | day &lt;int&gt; | dep_time &lt;int&gt; | sched_dep_time &lt;int&gt; | dep_delay &lt;dbl&gt; | arr_time &lt;int&gt; | sched_arr_time &lt;int&gt; | arr_delay &lt;dbl&gt; | carrier &lt;chr&gt; | flight &lt;int&gt; | tailnum &lt;chr&gt; | origin &lt;chr&gt; | dest &lt;chr&gt; | air_time &lt;dbl&gt; | distance &lt;dbl&gt; | hour &lt;dbl&gt; | minute &lt;dbl&gt; | time_hour &lt;dttm&gt; |\n",
       "|---|---|---|---|---|---|---|---|---|---|---|---|---|---|---|---|---|---|---|\n",
       "| 2013 | 1 | 1 | NA | 1630 | NA | NA | 1815 | NA | EV | 4308 | N18120 | EWR | RDU | NA |  416 | 16 | 30 | 2013-01-01 16:00:00 |\n",
       "| 2013 | 1 | 1 | NA | 1935 | NA | NA | 2240 | NA | AA |  791 | N3EHAA | LGA | DFW | NA | 1389 | 19 | 35 | 2013-01-01 19:00:00 |\n",
       "| 2013 | 1 | 1 | NA | 1500 | NA | NA | 1825 | NA | AA | 1925 | N3EVAA | LGA | MIA | NA | 1096 | 15 |  0 | 2013-01-01 15:00:00 |\n",
       "| 2013 | 1 | 1 | NA |  600 | NA | NA |  901 | NA | B6 |  125 | N618JB | JFK | FLL | NA | 1069 |  6 |  0 | 2013-01-01 06:00:00 |\n",
       "| 2013 | 1 | 2 | NA | 1540 | NA | NA | 1747 | NA | EV | 4352 | N10575 | EWR | CVG | NA |  569 | 15 | 40 | 2013-01-02 15:00:00 |\n",
       "| 2013 | 1 | 2 | NA | 1620 | NA | NA | 1746 | NA | EV | 4406 | N13949 | EWR | PIT | NA |  319 | 16 | 20 | 2013-01-02 16:00:00 |\n",
       "| 2013 | 1 | 2 | NA | 1355 | NA | NA | 1459 | NA | EV | 4434 | N10575 | EWR | MHT | NA |  209 | 13 | 55 | 2013-01-02 13:00:00 |\n",
       "| 2013 | 1 | 2 | NA | 1420 | NA | NA | 1644 | NA | EV | 4935 | N759EV | EWR | ATL | NA |  746 | 14 | 20 | 2013-01-02 14:00:00 |\n",
       "| 2013 | 1 | 2 | NA | 1321 | NA | NA | 1536 | NA | EV | 3849 | N13550 | EWR | IND | NA |  645 | 13 | 21 | 2013-01-02 13:00:00 |\n",
       "| 2013 | 1 | 2 | NA | 1545 | NA | NA | 1910 | NA | AA |  133 | NA     | JFK | LAX | NA | 2475 | 15 | 45 | 2013-01-02 15:00:00 |\n",
       "| 2013 | 1 | 2 | NA | 1330 | NA | NA | 1640 | NA | AA |  753 | N3FBAA | LGA | DFW | NA | 1389 | 13 | 30 | 2013-01-02 13:00:00 |\n",
       "| 2013 | 1 | 2 | NA | 1601 | NA | NA | 1735 | NA | UA |  623 | NA     | EWR | ORD | NA |  719 | 16 |  1 | 2013-01-02 16:00:00 |\n",
       "| 2013 | 1 | 3 | NA |  645 | NA | NA |  757 | NA | EV | 4241 | N14972 | EWR | DCA | NA |  199 |  6 | 45 | 2013-01-03 06:00:00 |\n",
       "| 2013 | 1 | 3 | NA | 1030 | NA | NA | 1210 | NA | AA |  321 | N487AA | LGA | ORD | NA |  733 | 10 | 30 | 2013-01-03 10:00:00 |\n",
       "| 2013 | 1 | 3 | NA | 1125 | NA | NA | 1305 | NA | AA |  327 | N3AMAA | LGA | ORD | NA |  733 | 11 | 25 | 2013-01-03 11:00:00 |\n",
       "| 2013 | 1 | 3 | NA |  835 | NA | NA | 1150 | NA | AA |  717 | N3GXAA | LGA | DFW | NA | 1389 |  8 | 35 | 2013-01-03 08:00:00 |\n",
       "| 2013 | 1 | 3 | NA |  920 | NA | NA | 1245 | NA | AA |  721 | N201AA | LGA | DFW | NA | 1389 |  9 | 20 | 2013-01-03 09:00:00 |\n",
       "| 2013 | 1 | 3 | NA | 1020 | NA | NA | 1330 | NA | AA |  731 | N3FVAA | LGA | DFW | NA | 1389 | 10 | 20 | 2013-01-03 10:00:00 |\n",
       "| 2013 | 1 | 3 | NA | 1220 | NA | NA | 1415 | NA | AA | 1757 | N573AA | LGA | STL | NA |  888 | 12 | 20 | 2013-01-03 12:00:00 |\n",
       "| 2013 | 1 | 3 | NA |  630 | NA | NA |  830 | NA | MQ | 4599 | N500MQ | LGA | MSP | NA | 1020 |  6 | 30 | 2013-01-03 06:00:00 |\n",
       "| 2013 | 1 | 3 | NA |  857 | NA | NA | 1209 | NA | UA |  714 | NA     | EWR | MIA | NA | 1085 |  8 | 57 | 2013-01-03 08:00:00 |\n",
       "| 2013 | 1 | 3 | NA |  645 | NA | NA |  952 | NA | UA |  719 | NA     | EWR | DFW | NA | 1372 |  6 | 45 | 2013-01-03 06:00:00 |\n",
       "| 2013 | 1 | 4 | NA |  845 | NA | NA | 1015 | NA | 9E | 3405 | NA     | JFK | DCA | NA |  213 |  8 | 45 | 2013-01-04 08:00:00 |\n",
       "| 2013 | 1 | 4 | NA | 1830 | NA | NA | 2044 | NA | 9E | 3716 | NA     | EWR | DTW | NA |  488 | 18 | 30 | 2013-01-04 18:00:00 |\n",
       "| 2013 | 1 | 4 | NA |  920 | NA | NA | 1245 | NA | AA |  721 | N541AA | LGA | DFW | NA | 1389 |  9 | 20 | 2013-01-04 09:00:00 |\n",
       "| 2013 | 1 | 4 | NA | 1245 | NA | NA | 1550 | NA | AA |  745 | N3BGAA | LGA | DFW | NA | 1389 | 12 | 45 | 2013-01-04 12:00:00 |\n",
       "| 2013 | 1 | 4 | NA | 1430 | NA | NA | 1735 | NA | AA |  883 | N200AA | EWR | DFW | NA | 1372 | 14 | 30 | 2013-01-04 14:00:00 |\n",
       "| 2013 | 1 | 4 | NA | 1530 | NA | NA | 1725 | NA | AA | 2223 | N569AA | LGA | STL | NA |  888 | 15 | 30 | 2013-01-04 15:00:00 |\n",
       "| 2013 | 1 | 5 | NA | 1400 | NA | NA | 1518 | NA | EV | 5712 | N827AS | JFK | IAD | NA |  228 | 14 |  0 | 2013-01-05 14:00:00 |\n",
       "| 2013 | 1 | 5 | NA |  840 | NA | NA | 1001 | NA | 9E | 3422 | NA     | JFK | BOS | NA |  187 |  8 | 40 | 2013-01-05 08:00:00 |\n",
       "| ⋮ | ⋮ | ⋮ | ⋮ | ⋮ | ⋮ | ⋮ | ⋮ | ⋮ | ⋮ | ⋮ | ⋮ | ⋮ | ⋮ | ⋮ | ⋮ | ⋮ | ⋮ | ⋮ |\n",
       "| 2013 | 10 | 14 | 2042 |  900 |  702 | 2255 | 1127 |  688 | DL |  502 | N943DL | EWR | ATL |  98 |  746 |  9 |  0 | 2013-10-14 09:00:00 |\n",
       "| 2013 |  2 | 16 |  757 | 1930 |  747 | 1013 | 2149 |  744 | 9E | 3798 | N8940E | JFK | CLT |  85 |  541 | 19 | 30 | 2013-02-16 19:00:00 |\n",
       "| 2013 |  4 | 19 |  758 | 1925 |  753 | 1049 | 2225 |  744 | DL | 1485 | N927DA | LGA | MCO | 149 |  950 | 19 | 25 | 2013-04-19 19:00:00 |\n",
       "| 2013 |  4 | 19 |  606 | 1725 |  761 |  923 | 2020 |  783 | AA | 1901 | N3DGAA | JFK | IAH | 222 | 1417 | 17 | 25 | 2013-04-19 17:00:00 |\n",
       "| 2013 |  2 | 24 | 1921 |  615 |  786 | 2135 |  842 |  773 | DL |  575 | N348NW | EWR | ATL | 111 |  746 |  6 | 15 | 2013-02-24 06:00:00 |\n",
       "| 2013 |  6 | 27 |  732 | 1825 |  787 |  932 | 2032 |  780 | DL | 1715 | N335NB | LGA | MSY | 160 | 1183 | 18 | 25 | 2013-06-27 18:00:00 |\n",
       "| 2013 |  2 | 19 | 2324 | 1016 |  788 |  114 | 1227 |  767 | DL | 2319 | N324US | LGA | MSP | 136 | 1020 | 10 | 16 | 2013-02-19 10:00:00 |\n",
       "| 2013 |  6 | 27 |  615 | 1705 |  790 |  853 | 2004 |  769 | DL |  503 | N372DA | JFK | SAN | 312 | 2446 | 17 |  5 | 2013-06-27 17:00:00 |\n",
       "| 2013 |  4 | 19 |  617 | 1700 |  797 |  858 | 1955 |  783 | AA |  257 | N3GJAA | JFK | LAS | 313 | 2248 | 17 |  0 | 2013-04-19 17:00:00 |\n",
       "| 2013 | 11 |  3 |  603 | 1645 |  798 |  829 | 1913 |  796 | DL | 2042 | N990AT | EWR | ATL | 109 |  746 | 16 | 45 | 2013-11-03 16:00:00 |\n",
       "| 2013 |  3 | 18 | 1020 | 2100 |  800 | 1336 |   32 |  784 | DL | 2363 | N624AG | JFK | LAX | 335 | 2475 | 21 |  0 | 2013-03-18 21:00:00 |\n",
       "| 2013 |  6 | 27 |  753 | 1830 |  803 |  937 | 2015 |  802 | AA | 2019 | N571AA | LGA | STL | 134 |  888 | 18 | 30 | 2013-06-27 18:00:00 |\n",
       "| 2013 |  4 | 19 |  912 | 1940 |  812 | 1228 | 2247 |  821 | DL | 1435 | N900DE | LGA | TPA | 174 | 1010 | 19 | 40 | 2013-04-19 19:00:00 |\n",
       "| 2013 | 12 | 14 |  830 | 1845 |  825 | 1210 | 2154 |  856 | DL | 2391 | N939DL | JFK | TPA | 173 | 1005 | 18 | 45 | 2013-12-14 18:00:00 |\n",
       "| 2013 | 12 | 17 |  705 | 1700 |  845 | 1026 | 2020 |  846 | AA |  172 | N5EMAA | EWR | MIA | 145 | 1085 | 17 |  0 | 2013-12-17 17:00:00 |\n",
       "| 2013 | 12 | 19 |  734 | 1725 |  849 | 1046 | 2039 |  847 | DL | 1223 | N375NC | EWR | SLC | 290 | 1969 | 17 | 25 | 2013-12-19 17:00:00 |\n",
       "| 2013 |  1 |  1 |  848 | 1835 |  853 | 1001 | 1950 |  851 | MQ | 3944 | N942MQ | JFK | BWI |  41 |  184 | 18 | 35 | 2013-01-01 18:00:00 |\n",
       "| 2013 |  2 | 10 | 2243 |  830 |  853 |  100 | 1106 |  834 | F9 |  835 | N203FR | LGA | DEN | 233 | 1620 |  8 | 30 | 2013-02-10 08:00:00 |\n",
       "| 2013 |  5 | 19 |  713 | 1700 |  853 | 1007 | 1955 |  852 | AA |  257 | N3HEAA | JFK | LAS | 323 | 2248 | 17 |  0 | 2013-05-19 17:00:00 |\n",
       "| 2013 |  5 |  3 | 1133 | 2055 |  878 | 1250 | 2215 |  875 | MQ | 3744 | N523MQ | EWR | ORD | 112 |  719 | 20 | 55 | 2013-05-03 20:00:00 |\n",
       "| 2013 | 12 |  5 |  756 | 1700 |  896 | 1058 | 2020 |  878 | AA |  172 | N5DMAA | EWR | MIA | 149 | 1085 | 17 |  0 | 2013-12-05 17:00:00 |\n",
       "| 2013 |  7 | 22 | 2257 |  759 |  898 |  121 | 1026 |  895 | DL | 2047 | N6716C | LGA | ATL | 109 |  762 |  7 | 59 | 2013-07-22 07:00:00 |\n",
       "| 2013 |  6 | 27 |  959 | 1900 |  899 | 1236 | 2226 |  850 | DL | 2007 | N3762Y | JFK | PDX | 313 | 2454 | 19 |  0 | 2013-06-27 19:00:00 |\n",
       "| 2013 |  3 | 17 | 2321 |  810 |  911 |  135 | 1020 |  915 | DL | 2119 | N927DA | LGA | MSP | 167 | 1020 |  8 | 10 | 2013-03-17 08:00:00 |\n",
       "| 2013 |  4 | 10 | 1100 | 1900 |  960 | 1342 | 2211 |  931 | DL | 2391 | N959DL | JFK | TPA | 139 | 1005 | 19 |  0 | 2013-04-10 19:00:00 |\n",
       "| 2013 |  7 | 22 |  845 | 1600 | 1005 | 1044 | 1815 |  989 | MQ | 3075 | N665MQ | JFK | CVG |  96 |  589 | 16 |  0 | 2013-07-22 16:00:00 |\n",
       "| 2013 |  9 | 20 | 1139 | 1845 | 1014 | 1457 | 2210 | 1007 | AA |  177 | N338AA | JFK | SFO | 354 | 2586 | 18 | 45 | 2013-09-20 18:00:00 |\n",
       "| 2013 |  1 | 10 | 1121 | 1635 | 1126 | 1239 | 1810 | 1109 | MQ | 3695 | N517MQ | EWR | ORD | 111 |  719 | 16 | 35 | 2013-01-10 16:00:00 |\n",
       "| 2013 |  6 | 15 | 1432 | 1935 | 1137 | 1607 | 2120 | 1127 | MQ | 3535 | N504MQ | JFK | CMH |  74 |  483 | 19 | 35 | 2013-06-15 19:00:00 |\n",
       "| 2013 |  1 |  9 |  641 |  900 | 1301 | 1242 | 1530 | 1272 | HA |   51 | N384HA | JFK | HNL | 640 | 4983 |  9 |  0 | 2013-01-09 09:00:00 |\n",
       "\n"
      ],
      "text/plain": [
       "       year month day dep_time sched_dep_time dep_delay arr_time sched_arr_time\n",
       "1      2013 1     1   NA       1630           NA        NA       1815          \n",
       "2      2013 1     1   NA       1935           NA        NA       2240          \n",
       "3      2013 1     1   NA       1500           NA        NA       1825          \n",
       "4      2013 1     1   NA        600           NA        NA        901          \n",
       "5      2013 1     2   NA       1540           NA        NA       1747          \n",
       "6      2013 1     2   NA       1620           NA        NA       1746          \n",
       "7      2013 1     2   NA       1355           NA        NA       1459          \n",
       "8      2013 1     2   NA       1420           NA        NA       1644          \n",
       "9      2013 1     2   NA       1321           NA        NA       1536          \n",
       "10     2013 1     2   NA       1545           NA        NA       1910          \n",
       "11     2013 1     2   NA       1330           NA        NA       1640          \n",
       "12     2013 1     2   NA       1601           NA        NA       1735          \n",
       "13     2013 1     3   NA        645           NA        NA        757          \n",
       "14     2013 1     3   NA       1030           NA        NA       1210          \n",
       "15     2013 1     3   NA       1125           NA        NA       1305          \n",
       "16     2013 1     3   NA        835           NA        NA       1150          \n",
       "17     2013 1     3   NA        920           NA        NA       1245          \n",
       "18     2013 1     3   NA       1020           NA        NA       1330          \n",
       "19     2013 1     3   NA       1220           NA        NA       1415          \n",
       "20     2013 1     3   NA        630           NA        NA        830          \n",
       "21     2013 1     3   NA        857           NA        NA       1209          \n",
       "22     2013 1     3   NA        645           NA        NA        952          \n",
       "23     2013 1     4   NA        845           NA        NA       1015          \n",
       "24     2013 1     4   NA       1830           NA        NA       2044          \n",
       "25     2013 1     4   NA        920           NA        NA       1245          \n",
       "26     2013 1     4   NA       1245           NA        NA       1550          \n",
       "27     2013 1     4   NA       1430           NA        NA       1735          \n",
       "28     2013 1     4   NA       1530           NA        NA       1725          \n",
       "29     2013 1     5   NA       1400           NA        NA       1518          \n",
       "30     2013 1     5   NA        840           NA        NA       1001          \n",
       "⋮      ⋮    ⋮     ⋮   ⋮        ⋮              ⋮         ⋮        ⋮             \n",
       "336747 2013 10    14  2042      900            702      2255     1127          \n",
       "336748 2013  2    16   757     1930            747      1013     2149          \n",
       "336749 2013  4    19   758     1925            753      1049     2225          \n",
       "336750 2013  4    19   606     1725            761       923     2020          \n",
       "336751 2013  2    24  1921      615            786      2135      842          \n",
       "336752 2013  6    27   732     1825            787       932     2032          \n",
       "336753 2013  2    19  2324     1016            788       114     1227          \n",
       "336754 2013  6    27   615     1705            790       853     2004          \n",
       "336755 2013  4    19   617     1700            797       858     1955          \n",
       "336756 2013 11     3   603     1645            798       829     1913          \n",
       "336757 2013  3    18  1020     2100            800      1336       32          \n",
       "336758 2013  6    27   753     1830            803       937     2015          \n",
       "336759 2013  4    19   912     1940            812      1228     2247          \n",
       "336760 2013 12    14   830     1845            825      1210     2154          \n",
       "336761 2013 12    17   705     1700            845      1026     2020          \n",
       "336762 2013 12    19   734     1725            849      1046     2039          \n",
       "336763 2013  1     1   848     1835            853      1001     1950          \n",
       "336764 2013  2    10  2243      830            853       100     1106          \n",
       "336765 2013  5    19   713     1700            853      1007     1955          \n",
       "336766 2013  5     3  1133     2055            878      1250     2215          \n",
       "336767 2013 12     5   756     1700            896      1058     2020          \n",
       "336768 2013  7    22  2257      759            898       121     1026          \n",
       "336769 2013  6    27   959     1900            899      1236     2226          \n",
       "336770 2013  3    17  2321      810            911       135     1020          \n",
       "336771 2013  4    10  1100     1900            960      1342     2211          \n",
       "336772 2013  7    22   845     1600           1005      1044     1815          \n",
       "336773 2013  9    20  1139     1845           1014      1457     2210          \n",
       "336774 2013  1    10  1121     1635           1126      1239     1810          \n",
       "336775 2013  6    15  1432     1935           1137      1607     2120          \n",
       "336776 2013  1     9   641      900           1301      1242     1530          \n",
       "       arr_delay carrier flight tailnum origin dest air_time distance hour\n",
       "1      NA        EV      4308   N18120  EWR    RDU  NA        416     16  \n",
       "2      NA        AA       791   N3EHAA  LGA    DFW  NA       1389     19  \n",
       "3      NA        AA      1925   N3EVAA  LGA    MIA  NA       1096     15  \n",
       "4      NA        B6       125   N618JB  JFK    FLL  NA       1069      6  \n",
       "5      NA        EV      4352   N10575  EWR    CVG  NA        569     15  \n",
       "6      NA        EV      4406   N13949  EWR    PIT  NA        319     16  \n",
       "7      NA        EV      4434   N10575  EWR    MHT  NA        209     13  \n",
       "8      NA        EV      4935   N759EV  EWR    ATL  NA        746     14  \n",
       "9      NA        EV      3849   N13550  EWR    IND  NA        645     13  \n",
       "10     NA        AA       133   NA      JFK    LAX  NA       2475     15  \n",
       "11     NA        AA       753   N3FBAA  LGA    DFW  NA       1389     13  \n",
       "12     NA        UA       623   NA      EWR    ORD  NA        719     16  \n",
       "13     NA        EV      4241   N14972  EWR    DCA  NA        199      6  \n",
       "14     NA        AA       321   N487AA  LGA    ORD  NA        733     10  \n",
       "15     NA        AA       327   N3AMAA  LGA    ORD  NA        733     11  \n",
       "16     NA        AA       717   N3GXAA  LGA    DFW  NA       1389      8  \n",
       "17     NA        AA       721   N201AA  LGA    DFW  NA       1389      9  \n",
       "18     NA        AA       731   N3FVAA  LGA    DFW  NA       1389     10  \n",
       "19     NA        AA      1757   N573AA  LGA    STL  NA        888     12  \n",
       "20     NA        MQ      4599   N500MQ  LGA    MSP  NA       1020      6  \n",
       "21     NA        UA       714   NA      EWR    MIA  NA       1085      8  \n",
       "22     NA        UA       719   NA      EWR    DFW  NA       1372      6  \n",
       "23     NA        9E      3405   NA      JFK    DCA  NA        213      8  \n",
       "24     NA        9E      3716   NA      EWR    DTW  NA        488     18  \n",
       "25     NA        AA       721   N541AA  LGA    DFW  NA       1389      9  \n",
       "26     NA        AA       745   N3BGAA  LGA    DFW  NA       1389     12  \n",
       "27     NA        AA       883   N200AA  EWR    DFW  NA       1372     14  \n",
       "28     NA        AA      2223   N569AA  LGA    STL  NA        888     15  \n",
       "29     NA        EV      5712   N827AS  JFK    IAD  NA        228     14  \n",
       "30     NA        9E      3422   NA      JFK    BOS  NA        187      8  \n",
       "⋮      ⋮         ⋮       ⋮      ⋮       ⋮      ⋮    ⋮        ⋮        ⋮   \n",
       "336747  688      DL       502   N943DL  EWR    ATL   98       746      9  \n",
       "336748  744      9E      3798   N8940E  JFK    CLT   85       541     19  \n",
       "336749  744      DL      1485   N927DA  LGA    MCO  149       950     19  \n",
       "336750  783      AA      1901   N3DGAA  JFK    IAH  222      1417     17  \n",
       "336751  773      DL       575   N348NW  EWR    ATL  111       746      6  \n",
       "336752  780      DL      1715   N335NB  LGA    MSY  160      1183     18  \n",
       "336753  767      DL      2319   N324US  LGA    MSP  136      1020     10  \n",
       "336754  769      DL       503   N372DA  JFK    SAN  312      2446     17  \n",
       "336755  783      AA       257   N3GJAA  JFK    LAS  313      2248     17  \n",
       "336756  796      DL      2042   N990AT  EWR    ATL  109       746     16  \n",
       "336757  784      DL      2363   N624AG  JFK    LAX  335      2475     21  \n",
       "336758  802      AA      2019   N571AA  LGA    STL  134       888     18  \n",
       "336759  821      DL      1435   N900DE  LGA    TPA  174      1010     19  \n",
       "336760  856      DL      2391   N939DL  JFK    TPA  173      1005     18  \n",
       "336761  846      AA       172   N5EMAA  EWR    MIA  145      1085     17  \n",
       "336762  847      DL      1223   N375NC  EWR    SLC  290      1969     17  \n",
       "336763  851      MQ      3944   N942MQ  JFK    BWI   41       184     18  \n",
       "336764  834      F9       835   N203FR  LGA    DEN  233      1620      8  \n",
       "336765  852      AA       257   N3HEAA  JFK    LAS  323      2248     17  \n",
       "336766  875      MQ      3744   N523MQ  EWR    ORD  112       719     20  \n",
       "336767  878      AA       172   N5DMAA  EWR    MIA  149      1085     17  \n",
       "336768  895      DL      2047   N6716C  LGA    ATL  109       762      7  \n",
       "336769  850      DL      2007   N3762Y  JFK    PDX  313      2454     19  \n",
       "336770  915      DL      2119   N927DA  LGA    MSP  167      1020      8  \n",
       "336771  931      DL      2391   N959DL  JFK    TPA  139      1005     19  \n",
       "336772  989      MQ      3075   N665MQ  JFK    CVG   96       589     16  \n",
       "336773 1007      AA       177   N338AA  JFK    SFO  354      2586     18  \n",
       "336774 1109      MQ      3695   N517MQ  EWR    ORD  111       719     16  \n",
       "336775 1127      MQ      3535   N504MQ  JFK    CMH   74       483     19  \n",
       "336776 1272      HA        51   N384HA  JFK    HNL  640      4983      9  \n",
       "       minute time_hour          \n",
       "1      30     2013-01-01 16:00:00\n",
       "2      35     2013-01-01 19:00:00\n",
       "3       0     2013-01-01 15:00:00\n",
       "4       0     2013-01-01 06:00:00\n",
       "5      40     2013-01-02 15:00:00\n",
       "6      20     2013-01-02 16:00:00\n",
       "7      55     2013-01-02 13:00:00\n",
       "8      20     2013-01-02 14:00:00\n",
       "9      21     2013-01-02 13:00:00\n",
       "10     45     2013-01-02 15:00:00\n",
       "11     30     2013-01-02 13:00:00\n",
       "12      1     2013-01-02 16:00:00\n",
       "13     45     2013-01-03 06:00:00\n",
       "14     30     2013-01-03 10:00:00\n",
       "15     25     2013-01-03 11:00:00\n",
       "16     35     2013-01-03 08:00:00\n",
       "17     20     2013-01-03 09:00:00\n",
       "18     20     2013-01-03 10:00:00\n",
       "19     20     2013-01-03 12:00:00\n",
       "20     30     2013-01-03 06:00:00\n",
       "21     57     2013-01-03 08:00:00\n",
       "22     45     2013-01-03 06:00:00\n",
       "23     45     2013-01-04 08:00:00\n",
       "24     30     2013-01-04 18:00:00\n",
       "25     20     2013-01-04 09:00:00\n",
       "26     45     2013-01-04 12:00:00\n",
       "27     30     2013-01-04 14:00:00\n",
       "28     30     2013-01-04 15:00:00\n",
       "29      0     2013-01-05 14:00:00\n",
       "30     40     2013-01-05 08:00:00\n",
       "⋮      ⋮      ⋮                  \n",
       "336747  0     2013-10-14 09:00:00\n",
       "336748 30     2013-02-16 19:00:00\n",
       "336749 25     2013-04-19 19:00:00\n",
       "336750 25     2013-04-19 17:00:00\n",
       "336751 15     2013-02-24 06:00:00\n",
       "336752 25     2013-06-27 18:00:00\n",
       "336753 16     2013-02-19 10:00:00\n",
       "336754  5     2013-06-27 17:00:00\n",
       "336755  0     2013-04-19 17:00:00\n",
       "336756 45     2013-11-03 16:00:00\n",
       "336757  0     2013-03-18 21:00:00\n",
       "336758 30     2013-06-27 18:00:00\n",
       "336759 40     2013-04-19 19:00:00\n",
       "336760 45     2013-12-14 18:00:00\n",
       "336761  0     2013-12-17 17:00:00\n",
       "336762 25     2013-12-19 17:00:00\n",
       "336763 35     2013-01-01 18:00:00\n",
       "336764 30     2013-02-10 08:00:00\n",
       "336765  0     2013-05-19 17:00:00\n",
       "336766 55     2013-05-03 20:00:00\n",
       "336767  0     2013-12-05 17:00:00\n",
       "336768 59     2013-07-22 07:00:00\n",
       "336769  0     2013-06-27 19:00:00\n",
       "336770 10     2013-03-17 08:00:00\n",
       "336771  0     2013-04-10 19:00:00\n",
       "336772  0     2013-07-22 16:00:00\n",
       "336773 45     2013-09-20 18:00:00\n",
       "336774 35     2013-01-10 16:00:00\n",
       "336775 35     2013-06-15 19:00:00\n",
       "336776  0     2013-01-09 09:00:00"
      ]
     },
     "metadata": {},
     "output_type": "display_data"
    }
   ],
   "source": [
    "arrange(flights, desc(is.na(dep_delay)), dep_delay) # put all NA values first"
   ]
  },
  {
   "cell_type": "markdown",
   "metadata": {},
   "source": [
    "### C.2.3 Slice rows\n",
    "The slice function is helpful in selecting the specific rows in a data set. Type `?slice` to understand more about the function.    "
   ]
  },
  {
   "cell_type": "code",
   "execution_count": 23,
   "metadata": {},
   "outputs": [
    {
     "data": {
      "text/html": [
       "<table>\n",
       "<caption>A tibble: 5 × 19</caption>\n",
       "<thead>\n",
       "\t<tr><th scope=col>year</th><th scope=col>month</th><th scope=col>day</th><th scope=col>dep_time</th><th scope=col>sched_dep_time</th><th scope=col>dep_delay</th><th scope=col>arr_time</th><th scope=col>sched_arr_time</th><th scope=col>arr_delay</th><th scope=col>carrier</th><th scope=col>flight</th><th scope=col>tailnum</th><th scope=col>origin</th><th scope=col>dest</th><th scope=col>air_time</th><th scope=col>distance</th><th scope=col>hour</th><th scope=col>minute</th><th scope=col>time_hour</th></tr>\n",
       "\t<tr><th scope=col>&lt;int&gt;</th><th scope=col>&lt;int&gt;</th><th scope=col>&lt;int&gt;</th><th scope=col>&lt;int&gt;</th><th scope=col>&lt;int&gt;</th><th scope=col>&lt;dbl&gt;</th><th scope=col>&lt;int&gt;</th><th scope=col>&lt;int&gt;</th><th scope=col>&lt;dbl&gt;</th><th scope=col>&lt;chr&gt;</th><th scope=col>&lt;int&gt;</th><th scope=col>&lt;chr&gt;</th><th scope=col>&lt;chr&gt;</th><th scope=col>&lt;chr&gt;</th><th scope=col>&lt;dbl&gt;</th><th scope=col>&lt;dbl&gt;</th><th scope=col>&lt;dbl&gt;</th><th scope=col>&lt;dbl&gt;</th><th scope=col>&lt;dttm&gt;</th></tr>\n",
       "</thead>\n",
       "<tbody>\n",
       "\t<tr><td>2013</td><td>1</td><td>1</td><td>517</td><td>515</td><td> 2</td><td> 830</td><td> 819</td><td> 11</td><td>UA</td><td>1545</td><td>N14228</td><td>EWR</td><td>IAH</td><td>227</td><td>1400</td><td>5</td><td>15</td><td>2013-01-01 05:00:00</td></tr>\n",
       "\t<tr><td>2013</td><td>1</td><td>1</td><td>533</td><td>529</td><td> 4</td><td> 850</td><td> 830</td><td> 20</td><td>UA</td><td>1714</td><td>N24211</td><td>LGA</td><td>IAH</td><td>227</td><td>1416</td><td>5</td><td>29</td><td>2013-01-01 05:00:00</td></tr>\n",
       "\t<tr><td>2013</td><td>1</td><td>1</td><td>542</td><td>540</td><td> 2</td><td> 923</td><td> 850</td><td> 33</td><td>AA</td><td>1141</td><td>N619AA</td><td>JFK</td><td>MIA</td><td>160</td><td>1089</td><td>5</td><td>40</td><td>2013-01-01 05:00:00</td></tr>\n",
       "\t<tr><td>2013</td><td>1</td><td>1</td><td>544</td><td>545</td><td>-1</td><td>1004</td><td>1022</td><td>-18</td><td>B6</td><td> 725</td><td>N804JB</td><td>JFK</td><td>BQN</td><td>183</td><td>1576</td><td>5</td><td>45</td><td>2013-01-01 05:00:00</td></tr>\n",
       "\t<tr><td>2013</td><td>1</td><td>1</td><td>554</td><td>600</td><td>-6</td><td> 812</td><td> 837</td><td>-25</td><td>DL</td><td> 461</td><td>N668DN</td><td>LGA</td><td>ATL</td><td>116</td><td> 762</td><td>6</td><td> 0</td><td>2013-01-01 06:00:00</td></tr>\n",
       "</tbody>\n",
       "</table>\n"
      ],
      "text/latex": [
       "A tibble: 5 × 19\n",
       "\\begin{tabular}{lllllllllllllllllll}\n",
       " year & month & day & dep\\_time & sched\\_dep\\_time & dep\\_delay & arr\\_time & sched\\_arr\\_time & arr\\_delay & carrier & flight & tailnum & origin & dest & air\\_time & distance & hour & minute & time\\_hour\\\\\n",
       " <int> & <int> & <int> & <int> & <int> & <dbl> & <int> & <int> & <dbl> & <chr> & <int> & <chr> & <chr> & <chr> & <dbl> & <dbl> & <dbl> & <dbl> & <dttm>\\\\\n",
       "\\hline\n",
       "\t 2013 & 1 & 1 & 517 & 515 &  2 &  830 &  819 &  11 & UA & 1545 & N14228 & EWR & IAH & 227 & 1400 & 5 & 15 & 2013-01-01 05:00:00\\\\\n",
       "\t 2013 & 1 & 1 & 533 & 529 &  4 &  850 &  830 &  20 & UA & 1714 & N24211 & LGA & IAH & 227 & 1416 & 5 & 29 & 2013-01-01 05:00:00\\\\\n",
       "\t 2013 & 1 & 1 & 542 & 540 &  2 &  923 &  850 &  33 & AA & 1141 & N619AA & JFK & MIA & 160 & 1089 & 5 & 40 & 2013-01-01 05:00:00\\\\\n",
       "\t 2013 & 1 & 1 & 544 & 545 & -1 & 1004 & 1022 & -18 & B6 &  725 & N804JB & JFK & BQN & 183 & 1576 & 5 & 45 & 2013-01-01 05:00:00\\\\\n",
       "\t 2013 & 1 & 1 & 554 & 600 & -6 &  812 &  837 & -25 & DL &  461 & N668DN & LGA & ATL & 116 &  762 & 6 &  0 & 2013-01-01 06:00:00\\\\\n",
       "\\end{tabular}\n"
      ],
      "text/markdown": [
       "\n",
       "A tibble: 5 × 19\n",
       "\n",
       "| year &lt;int&gt; | month &lt;int&gt; | day &lt;int&gt; | dep_time &lt;int&gt; | sched_dep_time &lt;int&gt; | dep_delay &lt;dbl&gt; | arr_time &lt;int&gt; | sched_arr_time &lt;int&gt; | arr_delay &lt;dbl&gt; | carrier &lt;chr&gt; | flight &lt;int&gt; | tailnum &lt;chr&gt; | origin &lt;chr&gt; | dest &lt;chr&gt; | air_time &lt;dbl&gt; | distance &lt;dbl&gt; | hour &lt;dbl&gt; | minute &lt;dbl&gt; | time_hour &lt;dttm&gt; |\n",
       "|---|---|---|---|---|---|---|---|---|---|---|---|---|---|---|---|---|---|---|\n",
       "| 2013 | 1 | 1 | 517 | 515 |  2 |  830 |  819 |  11 | UA | 1545 | N14228 | EWR | IAH | 227 | 1400 | 5 | 15 | 2013-01-01 05:00:00 |\n",
       "| 2013 | 1 | 1 | 533 | 529 |  4 |  850 |  830 |  20 | UA | 1714 | N24211 | LGA | IAH | 227 | 1416 | 5 | 29 | 2013-01-01 05:00:00 |\n",
       "| 2013 | 1 | 1 | 542 | 540 |  2 |  923 |  850 |  33 | AA | 1141 | N619AA | JFK | MIA | 160 | 1089 | 5 | 40 | 2013-01-01 05:00:00 |\n",
       "| 2013 | 1 | 1 | 544 | 545 | -1 | 1004 | 1022 | -18 | B6 |  725 | N804JB | JFK | BQN | 183 | 1576 | 5 | 45 | 2013-01-01 05:00:00 |\n",
       "| 2013 | 1 | 1 | 554 | 600 | -6 |  812 |  837 | -25 | DL |  461 | N668DN | LGA | ATL | 116 |  762 | 6 |  0 | 2013-01-01 06:00:00 |\n",
       "\n"
      ],
      "text/plain": [
       "  year month day dep_time sched_dep_time dep_delay arr_time sched_arr_time\n",
       "1 2013 1     1   517      515             2         830      819          \n",
       "2 2013 1     1   533      529             4         850      830          \n",
       "3 2013 1     1   542      540             2         923      850          \n",
       "4 2013 1     1   544      545            -1        1004     1022          \n",
       "5 2013 1     1   554      600            -6         812      837          \n",
       "  arr_delay carrier flight tailnum origin dest air_time distance hour minute\n",
       "1  11       UA      1545   N14228  EWR    IAH  227      1400     5    15    \n",
       "2  20       UA      1714   N24211  LGA    IAH  227      1416     5    29    \n",
       "3  33       AA      1141   N619AA  JFK    MIA  160      1089     5    40    \n",
       "4 -18       B6       725   N804JB  JFK    BQN  183      1576     5    45    \n",
       "5 -25       DL       461   N668DN  LGA    ATL  116       762     6     0    \n",
       "  time_hour          \n",
       "1 2013-01-01 05:00:00\n",
       "2 2013-01-01 05:00:00\n",
       "3 2013-01-01 05:00:00\n",
       "4 2013-01-01 05:00:00\n",
       "5 2013-01-01 06:00:00"
      ]
     },
     "metadata": {},
     "output_type": "display_data"
    }
   ],
   "source": [
    "slice(flights, 1:5)"
   ]
  },
  {
   "cell_type": "code",
   "execution_count": 24,
   "metadata": {},
   "outputs": [
    {
     "data": {
      "text/html": [
       "<table>\n",
       "<caption>A tibble: 1 × 19</caption>\n",
       "<thead>\n",
       "\t<tr><th scope=col>year</th><th scope=col>month</th><th scope=col>day</th><th scope=col>dep_time</th><th scope=col>sched_dep_time</th><th scope=col>dep_delay</th><th scope=col>arr_time</th><th scope=col>sched_arr_time</th><th scope=col>arr_delay</th><th scope=col>carrier</th><th scope=col>flight</th><th scope=col>tailnum</th><th scope=col>origin</th><th scope=col>dest</th><th scope=col>air_time</th><th scope=col>distance</th><th scope=col>hour</th><th scope=col>minute</th><th scope=col>time_hour</th></tr>\n",
       "\t<tr><th scope=col>&lt;int&gt;</th><th scope=col>&lt;int&gt;</th><th scope=col>&lt;int&gt;</th><th scope=col>&lt;int&gt;</th><th scope=col>&lt;int&gt;</th><th scope=col>&lt;dbl&gt;</th><th scope=col>&lt;int&gt;</th><th scope=col>&lt;int&gt;</th><th scope=col>&lt;dbl&gt;</th><th scope=col>&lt;chr&gt;</th><th scope=col>&lt;int&gt;</th><th scope=col>&lt;chr&gt;</th><th scope=col>&lt;chr&gt;</th><th scope=col>&lt;chr&gt;</th><th scope=col>&lt;dbl&gt;</th><th scope=col>&lt;dbl&gt;</th><th scope=col>&lt;dbl&gt;</th><th scope=col>&lt;dbl&gt;</th><th scope=col>&lt;dttm&gt;</th></tr>\n",
       "</thead>\n",
       "<tbody>\n",
       "\t<tr><td>2013</td><td>9</td><td>30</td><td>NA</td><td>840</td><td>NA</td><td>NA</td><td>1020</td><td>NA</td><td>MQ</td><td>3531</td><td>N839MQ</td><td>LGA</td><td>RDU</td><td>NA</td><td>431</td><td>8</td><td>40</td><td>2013-09-30 08:00:00</td></tr>\n",
       "</tbody>\n",
       "</table>\n"
      ],
      "text/latex": [
       "A tibble: 1 × 19\n",
       "\\begin{tabular}{lllllllllllllllllll}\n",
       " year & month & day & dep\\_time & sched\\_dep\\_time & dep\\_delay & arr\\_time & sched\\_arr\\_time & arr\\_delay & carrier & flight & tailnum & origin & dest & air\\_time & distance & hour & minute & time\\_hour\\\\\n",
       " <int> & <int> & <int> & <int> & <int> & <dbl> & <int> & <int> & <dbl> & <chr> & <int> & <chr> & <chr> & <chr> & <dbl> & <dbl> & <dbl> & <dbl> & <dttm>\\\\\n",
       "\\hline\n",
       "\t 2013 & 9 & 30 & NA & 840 & NA & NA & 1020 & NA & MQ & 3531 & N839MQ & LGA & RDU & NA & 431 & 8 & 40 & 2013-09-30 08:00:00\\\\\n",
       "\\end{tabular}\n"
      ],
      "text/markdown": [
       "\n",
       "A tibble: 1 × 19\n",
       "\n",
       "| year &lt;int&gt; | month &lt;int&gt; | day &lt;int&gt; | dep_time &lt;int&gt; | sched_dep_time &lt;int&gt; | dep_delay &lt;dbl&gt; | arr_time &lt;int&gt; | sched_arr_time &lt;int&gt; | arr_delay &lt;dbl&gt; | carrier &lt;chr&gt; | flight &lt;int&gt; | tailnum &lt;chr&gt; | origin &lt;chr&gt; | dest &lt;chr&gt; | air_time &lt;dbl&gt; | distance &lt;dbl&gt; | hour &lt;dbl&gt; | minute &lt;dbl&gt; | time_hour &lt;dttm&gt; |\n",
       "|---|---|---|---|---|---|---|---|---|---|---|---|---|---|---|---|---|---|---|\n",
       "| 2013 | 9 | 30 | NA | 840 | NA | NA | 1020 | NA | MQ | 3531 | N839MQ | LGA | RDU | NA | 431 | 8 | 40 | 2013-09-30 08:00:00 |\n",
       "\n"
      ],
      "text/plain": [
       "  year month day dep_time sched_dep_time dep_delay arr_time sched_arr_time\n",
       "1 2013 9     30  NA       840            NA        NA       1020          \n",
       "  arr_delay carrier flight tailnum origin dest air_time distance hour minute\n",
       "1 NA        MQ      3531   N839MQ  LGA    RDU  NA       431      8    40    \n",
       "  time_hour          \n",
       "1 2013-09-30 08:00:00"
      ]
     },
     "metadata": {},
     "output_type": "display_data"
    }
   ],
   "source": [
    "slice(flights, n()) # last row"
   ]
  },
  {
   "cell_type": "code",
   "execution_count": 10,
   "metadata": {
    "scrolled": true
   },
   "outputs": [
    {
     "data": {
      "text/html": [
       "<table>\n",
       "<caption>A tibble: 5 × 19</caption>\n",
       "<thead>\n",
       "\t<tr><th scope=col>year</th><th scope=col>month</th><th scope=col>day</th><th scope=col>dep_time</th><th scope=col>sched_dep_time</th><th scope=col>dep_delay</th><th scope=col>arr_time</th><th scope=col>sched_arr_time</th><th scope=col>arr_delay</th><th scope=col>carrier</th><th scope=col>flight</th><th scope=col>tailnum</th><th scope=col>origin</th><th scope=col>dest</th><th scope=col>air_time</th><th scope=col>distance</th><th scope=col>hour</th><th scope=col>minute</th><th scope=col>time_hour</th></tr>\n",
       "\t<tr><th scope=col>&lt;int&gt;</th><th scope=col>&lt;int&gt;</th><th scope=col>&lt;int&gt;</th><th scope=col>&lt;int&gt;</th><th scope=col>&lt;int&gt;</th><th scope=col>&lt;dbl&gt;</th><th scope=col>&lt;int&gt;</th><th scope=col>&lt;int&gt;</th><th scope=col>&lt;dbl&gt;</th><th scope=col>&lt;chr&gt;</th><th scope=col>&lt;int&gt;</th><th scope=col>&lt;chr&gt;</th><th scope=col>&lt;chr&gt;</th><th scope=col>&lt;chr&gt;</th><th scope=col>&lt;dbl&gt;</th><th scope=col>&lt;dbl&gt;</th><th scope=col>&lt;dbl&gt;</th><th scope=col>&lt;dbl&gt;</th><th scope=col>&lt;dttm&gt;</th></tr>\n",
       "</thead>\n",
       "<tbody>\n",
       "\t<tr><td>2013</td><td>9</td><td>30</td><td>NA</td><td>1455</td><td>NA</td><td>NA</td><td>1634</td><td>NA</td><td>9E</td><td>3393</td><td>NA    </td><td>JFK</td><td>DCA</td><td>NA</td><td>213</td><td>14</td><td>55</td><td>2013-09-30 14:00:00</td></tr>\n",
       "\t<tr><td>2013</td><td>9</td><td>30</td><td>NA</td><td>2200</td><td>NA</td><td>NA</td><td>2312</td><td>NA</td><td>9E</td><td>3525</td><td>NA    </td><td>LGA</td><td>SYR</td><td>NA</td><td>198</td><td>22</td><td> 0</td><td>2013-09-30 22:00:00</td></tr>\n",
       "\t<tr><td>2013</td><td>9</td><td>30</td><td>NA</td><td>1210</td><td>NA</td><td>NA</td><td>1330</td><td>NA</td><td>MQ</td><td>3461</td><td>N535MQ</td><td>LGA</td><td>BNA</td><td>NA</td><td>764</td><td>12</td><td>10</td><td>2013-09-30 12:00:00</td></tr>\n",
       "\t<tr><td>2013</td><td>9</td><td>30</td><td>NA</td><td>1159</td><td>NA</td><td>NA</td><td>1344</td><td>NA</td><td>MQ</td><td>3572</td><td>N511MQ</td><td>LGA</td><td>CLE</td><td>NA</td><td>419</td><td>11</td><td>59</td><td>2013-09-30 11:00:00</td></tr>\n",
       "\t<tr><td>2013</td><td>9</td><td>30</td><td>NA</td><td> 840</td><td>NA</td><td>NA</td><td>1020</td><td>NA</td><td>MQ</td><td>3531</td><td>N839MQ</td><td>LGA</td><td>RDU</td><td>NA</td><td>431</td><td> 8</td><td>40</td><td>2013-09-30 08:00:00</td></tr>\n",
       "</tbody>\n",
       "</table>\n"
      ],
      "text/latex": [
       "A tibble: 5 × 19\n",
       "\\begin{tabular}{lllllllllllllllllll}\n",
       " year & month & day & dep\\_time & sched\\_dep\\_time & dep\\_delay & arr\\_time & sched\\_arr\\_time & arr\\_delay & carrier & flight & tailnum & origin & dest & air\\_time & distance & hour & minute & time\\_hour\\\\\n",
       " <int> & <int> & <int> & <int> & <int> & <dbl> & <int> & <int> & <dbl> & <chr> & <int> & <chr> & <chr> & <chr> & <dbl> & <dbl> & <dbl> & <dbl> & <dttm>\\\\\n",
       "\\hline\n",
       "\t 2013 & 9 & 30 & NA & 1455 & NA & NA & 1634 & NA & 9E & 3393 & NA     & JFK & DCA & NA & 213 & 14 & 55 & 2013-09-30 14:00:00\\\\\n",
       "\t 2013 & 9 & 30 & NA & 2200 & NA & NA & 2312 & NA & 9E & 3525 & NA     & LGA & SYR & NA & 198 & 22 &  0 & 2013-09-30 22:00:00\\\\\n",
       "\t 2013 & 9 & 30 & NA & 1210 & NA & NA & 1330 & NA & MQ & 3461 & N535MQ & LGA & BNA & NA & 764 & 12 & 10 & 2013-09-30 12:00:00\\\\\n",
       "\t 2013 & 9 & 30 & NA & 1159 & NA & NA & 1344 & NA & MQ & 3572 & N511MQ & LGA & CLE & NA & 419 & 11 & 59 & 2013-09-30 11:00:00\\\\\n",
       "\t 2013 & 9 & 30 & NA &  840 & NA & NA & 1020 & NA & MQ & 3531 & N839MQ & LGA & RDU & NA & 431 &  8 & 40 & 2013-09-30 08:00:00\\\\\n",
       "\\end{tabular}\n"
      ],
      "text/markdown": [
       "\n",
       "A tibble: 5 × 19\n",
       "\n",
       "| year &lt;int&gt; | month &lt;int&gt; | day &lt;int&gt; | dep_time &lt;int&gt; | sched_dep_time &lt;int&gt; | dep_delay &lt;dbl&gt; | arr_time &lt;int&gt; | sched_arr_time &lt;int&gt; | arr_delay &lt;dbl&gt; | carrier &lt;chr&gt; | flight &lt;int&gt; | tailnum &lt;chr&gt; | origin &lt;chr&gt; | dest &lt;chr&gt; | air_time &lt;dbl&gt; | distance &lt;dbl&gt; | hour &lt;dbl&gt; | minute &lt;dbl&gt; | time_hour &lt;dttm&gt; |\n",
       "|---|---|---|---|---|---|---|---|---|---|---|---|---|---|---|---|---|---|---|\n",
       "| 2013 | 9 | 30 | NA | 1455 | NA | NA | 1634 | NA | 9E | 3393 | NA     | JFK | DCA | NA | 213 | 14 | 55 | 2013-09-30 14:00:00 |\n",
       "| 2013 | 9 | 30 | NA | 2200 | NA | NA | 2312 | NA | 9E | 3525 | NA     | LGA | SYR | NA | 198 | 22 |  0 | 2013-09-30 22:00:00 |\n",
       "| 2013 | 9 | 30 | NA | 1210 | NA | NA | 1330 | NA | MQ | 3461 | N535MQ | LGA | BNA | NA | 764 | 12 | 10 | 2013-09-30 12:00:00 |\n",
       "| 2013 | 9 | 30 | NA | 1159 | NA | NA | 1344 | NA | MQ | 3572 | N511MQ | LGA | CLE | NA | 419 | 11 | 59 | 2013-09-30 11:00:00 |\n",
       "| 2013 | 9 | 30 | NA |  840 | NA | NA | 1020 | NA | MQ | 3531 | N839MQ | LGA | RDU | NA | 431 |  8 | 40 | 2013-09-30 08:00:00 |\n",
       "\n"
      ],
      "text/plain": [
       "  year month day dep_time sched_dep_time dep_delay arr_time sched_arr_time\n",
       "1 2013 9     30  NA       1455           NA        NA       1634          \n",
       "2 2013 9     30  NA       2200           NA        NA       2312          \n",
       "3 2013 9     30  NA       1210           NA        NA       1330          \n",
       "4 2013 9     30  NA       1159           NA        NA       1344          \n",
       "5 2013 9     30  NA        840           NA        NA       1020          \n",
       "  arr_delay carrier flight tailnum origin dest air_time distance hour minute\n",
       "1 NA        9E      3393   NA      JFK    DCA  NA       213      14   55    \n",
       "2 NA        9E      3525   NA      LGA    SYR  NA       198      22    0    \n",
       "3 NA        MQ      3461   N535MQ  LGA    BNA  NA       764      12   10    \n",
       "4 NA        MQ      3572   N511MQ  LGA    CLE  NA       419      11   59    \n",
       "5 NA        MQ      3531   N839MQ  LGA    RDU  NA       431       8   40    \n",
       "  time_hour          \n",
       "1 2013-09-30 14:00:00\n",
       "2 2013-09-30 22:00:00\n",
       "3 2013-09-30 12:00:00\n",
       "4 2013-09-30 11:00:00\n",
       "5 2013-09-30 08:00:00"
      ]
     },
     "metadata": {},
     "output_type": "display_data"
    }
   ],
   "source": [
    "slice(flights, (n()-4):n()) # last 5 rows"
   ]
  },
  {
   "cell_type": "markdown",
   "metadata": {},
   "source": [
    "### C.2.4 Select columns"
   ]
  },
  {
   "cell_type": "markdown",
   "metadata": {},
   "source": [
    "`select` is used to keep only a few variables of interest to the current analysis. It is most useful when working with data frames involving a large number of variables. It is commonly used with the pipe operator `%>%`. For now, it suffices to know that `x %>% f(y)` means `f(x, y)`. We will see this operator a lot in the next section."
   ]
  },
  {
   "cell_type": "code",
   "execution_count": 8,
   "metadata": {},
   "outputs": [
    {
     "data": {
      "text/html": [
       "<table>\n",
       "<caption>A tibble: 6 × 5</caption>\n",
       "<thead>\n",
       "\t<tr><th scope=col>year</th><th scope=col>month</th><th scope=col>day</th><th scope=col>dep_time</th><th scope=col>arr_time</th></tr>\n",
       "\t<tr><th scope=col>&lt;int&gt;</th><th scope=col>&lt;int&gt;</th><th scope=col>&lt;int&gt;</th><th scope=col>&lt;int&gt;</th><th scope=col>&lt;int&gt;</th></tr>\n",
       "</thead>\n",
       "<tbody>\n",
       "\t<tr><td>2013</td><td>1</td><td>1</td><td>517</td><td> 830</td></tr>\n",
       "\t<tr><td>2013</td><td>1</td><td>1</td><td>533</td><td> 850</td></tr>\n",
       "\t<tr><td>2013</td><td>1</td><td>1</td><td>542</td><td> 923</td></tr>\n",
       "\t<tr><td>2013</td><td>1</td><td>1</td><td>544</td><td>1004</td></tr>\n",
       "\t<tr><td>2013</td><td>1</td><td>1</td><td>554</td><td> 812</td></tr>\n",
       "\t<tr><td>2013</td><td>1</td><td>1</td><td>554</td><td> 740</td></tr>\n",
       "</tbody>\n",
       "</table>\n"
      ],
      "text/latex": [
       "A tibble: 6 × 5\n",
       "\\begin{tabular}{lllll}\n",
       " year & month & day & dep\\_time & arr\\_time\\\\\n",
       " <int> & <int> & <int> & <int> & <int>\\\\\n",
       "\\hline\n",
       "\t 2013 & 1 & 1 & 517 &  830\\\\\n",
       "\t 2013 & 1 & 1 & 533 &  850\\\\\n",
       "\t 2013 & 1 & 1 & 542 &  923\\\\\n",
       "\t 2013 & 1 & 1 & 544 & 1004\\\\\n",
       "\t 2013 & 1 & 1 & 554 &  812\\\\\n",
       "\t 2013 & 1 & 1 & 554 &  740\\\\\n",
       "\\end{tabular}\n"
      ],
      "text/markdown": [
       "\n",
       "A tibble: 6 × 5\n",
       "\n",
       "| year &lt;int&gt; | month &lt;int&gt; | day &lt;int&gt; | dep_time &lt;int&gt; | arr_time &lt;int&gt; |\n",
       "|---|---|---|---|---|\n",
       "| 2013 | 1 | 1 | 517 |  830 |\n",
       "| 2013 | 1 | 1 | 533 |  850 |\n",
       "| 2013 | 1 | 1 | 542 |  923 |\n",
       "| 2013 | 1 | 1 | 544 | 1004 |\n",
       "| 2013 | 1 | 1 | 554 |  812 |\n",
       "| 2013 | 1 | 1 | 554 |  740 |\n",
       "\n"
      ],
      "text/plain": [
       "  year month day dep_time arr_time\n",
       "1 2013 1     1   517       830    \n",
       "2 2013 1     1   533       850    \n",
       "3 2013 1     1   542       923    \n",
       "4 2013 1     1   544      1004    \n",
       "5 2013 1     1   554       812    \n",
       "6 2013 1     1   554       740    "
      ]
     },
     "metadata": {},
     "output_type": "display_data"
    }
   ],
   "source": [
    "select(flights, year, month, day, dep_time, arr_time) %>% head()"
   ]
  },
  {
   "cell_type": "markdown",
   "metadata": {},
   "source": [
    "We can change the name of the variables when selecting them."
   ]
  },
  {
   "cell_type": "code",
   "execution_count": 16,
   "metadata": {},
   "outputs": [
    {
     "data": {
      "text/html": [
       "<table>\n",
       "<caption>A tibble: 6 × 5</caption>\n",
       "<thead>\n",
       "\t<tr><th scope=col>year</th><th scope=col>month</th><th scope=col>day</th><th scope=col>departure_time</th><th scope=col>arrival_time</th></tr>\n",
       "\t<tr><th scope=col>&lt;int&gt;</th><th scope=col>&lt;int&gt;</th><th scope=col>&lt;int&gt;</th><th scope=col>&lt;int&gt;</th><th scope=col>&lt;int&gt;</th></tr>\n",
       "</thead>\n",
       "<tbody>\n",
       "\t<tr><td>2013</td><td>1</td><td>1</td><td>517</td><td> 830</td></tr>\n",
       "\t<tr><td>2013</td><td>1</td><td>1</td><td>533</td><td> 850</td></tr>\n",
       "\t<tr><td>2013</td><td>1</td><td>1</td><td>542</td><td> 923</td></tr>\n",
       "\t<tr><td>2013</td><td>1</td><td>1</td><td>544</td><td>1004</td></tr>\n",
       "\t<tr><td>2013</td><td>1</td><td>1</td><td>554</td><td> 812</td></tr>\n",
       "\t<tr><td>2013</td><td>1</td><td>1</td><td>554</td><td> 740</td></tr>\n",
       "</tbody>\n",
       "</table>\n"
      ],
      "text/latex": [
       "A tibble: 6 × 5\n",
       "\\begin{tabular}{lllll}\n",
       " year & month & day & departure\\_time & arrival\\_time\\\\\n",
       " <int> & <int> & <int> & <int> & <int>\\\\\n",
       "\\hline\n",
       "\t 2013 & 1 & 1 & 517 &  830\\\\\n",
       "\t 2013 & 1 & 1 & 533 &  850\\\\\n",
       "\t 2013 & 1 & 1 & 542 &  923\\\\\n",
       "\t 2013 & 1 & 1 & 544 & 1004\\\\\n",
       "\t 2013 & 1 & 1 & 554 &  812\\\\\n",
       "\t 2013 & 1 & 1 & 554 &  740\\\\\n",
       "\\end{tabular}\n"
      ],
      "text/markdown": [
       "\n",
       "A tibble: 6 × 5\n",
       "\n",
       "| year &lt;int&gt; | month &lt;int&gt; | day &lt;int&gt; | departure_time &lt;int&gt; | arrival_time &lt;int&gt; |\n",
       "|---|---|---|---|---|\n",
       "| 2013 | 1 | 1 | 517 |  830 |\n",
       "| 2013 | 1 | 1 | 533 |  850 |\n",
       "| 2013 | 1 | 1 | 542 |  923 |\n",
       "| 2013 | 1 | 1 | 544 | 1004 |\n",
       "| 2013 | 1 | 1 | 554 |  812 |\n",
       "| 2013 | 1 | 1 | 554 |  740 |\n",
       "\n"
      ],
      "text/plain": [
       "  year month day departure_time arrival_time\n",
       "1 2013 1     1   517             830        \n",
       "2 2013 1     1   533             850        \n",
       "3 2013 1     1   542             923        \n",
       "4 2013 1     1   544            1004        \n",
       "5 2013 1     1   554             812        \n",
       "6 2013 1     1   554             740        "
      ]
     },
     "metadata": {},
     "output_type": "display_data"
    }
   ],
   "source": [
    "select(flights, year, month, day, departure_time = dep_time, arrival_time = arr_time) %>%\n",
    "    head()"
   ]
  },
  {
   "cell_type": "markdown",
   "metadata": {},
   "source": [
    "Note that `select` drops any variables not explicitly mentioned. To just rename some variables while keeping all others, use `rename`."
   ]
  },
  {
   "cell_type": "code",
   "execution_count": 17,
   "metadata": {},
   "outputs": [
    {
     "data": {
      "text/html": [
       "<table>\n",
       "<caption>A tibble: 6 × 19</caption>\n",
       "<thead>\n",
       "\t<tr><th scope=col>year</th><th scope=col>month</th><th scope=col>day</th><th scope=col>departure_time</th><th scope=col>sched_dep_time</th><th scope=col>dep_delay</th><th scope=col>arrival_time</th><th scope=col>sched_arr_time</th><th scope=col>arr_delay</th><th scope=col>carrier</th><th scope=col>flight</th><th scope=col>tailnum</th><th scope=col>origin</th><th scope=col>dest</th><th scope=col>air_time</th><th scope=col>distance</th><th scope=col>hour</th><th scope=col>minute</th><th scope=col>time_hour</th></tr>\n",
       "\t<tr><th scope=col>&lt;int&gt;</th><th scope=col>&lt;int&gt;</th><th scope=col>&lt;int&gt;</th><th scope=col>&lt;int&gt;</th><th scope=col>&lt;int&gt;</th><th scope=col>&lt;dbl&gt;</th><th scope=col>&lt;int&gt;</th><th scope=col>&lt;int&gt;</th><th scope=col>&lt;dbl&gt;</th><th scope=col>&lt;chr&gt;</th><th scope=col>&lt;int&gt;</th><th scope=col>&lt;chr&gt;</th><th scope=col>&lt;chr&gt;</th><th scope=col>&lt;chr&gt;</th><th scope=col>&lt;dbl&gt;</th><th scope=col>&lt;dbl&gt;</th><th scope=col>&lt;dbl&gt;</th><th scope=col>&lt;dbl&gt;</th><th scope=col>&lt;dttm&gt;</th></tr>\n",
       "</thead>\n",
       "<tbody>\n",
       "\t<tr><td>2013</td><td>1</td><td>1</td><td>517</td><td>515</td><td> 2</td><td> 830</td><td> 819</td><td> 11</td><td>UA</td><td>1545</td><td>N14228</td><td>EWR</td><td>IAH</td><td>227</td><td>1400</td><td>5</td><td>15</td><td>2013-01-01 05:00:00</td></tr>\n",
       "\t<tr><td>2013</td><td>1</td><td>1</td><td>533</td><td>529</td><td> 4</td><td> 850</td><td> 830</td><td> 20</td><td>UA</td><td>1714</td><td>N24211</td><td>LGA</td><td>IAH</td><td>227</td><td>1416</td><td>5</td><td>29</td><td>2013-01-01 05:00:00</td></tr>\n",
       "\t<tr><td>2013</td><td>1</td><td>1</td><td>542</td><td>540</td><td> 2</td><td> 923</td><td> 850</td><td> 33</td><td>AA</td><td>1141</td><td>N619AA</td><td>JFK</td><td>MIA</td><td>160</td><td>1089</td><td>5</td><td>40</td><td>2013-01-01 05:00:00</td></tr>\n",
       "\t<tr><td>2013</td><td>1</td><td>1</td><td>544</td><td>545</td><td>-1</td><td>1004</td><td>1022</td><td>-18</td><td>B6</td><td> 725</td><td>N804JB</td><td>JFK</td><td>BQN</td><td>183</td><td>1576</td><td>5</td><td>45</td><td>2013-01-01 05:00:00</td></tr>\n",
       "\t<tr><td>2013</td><td>1</td><td>1</td><td>554</td><td>600</td><td>-6</td><td> 812</td><td> 837</td><td>-25</td><td>DL</td><td> 461</td><td>N668DN</td><td>LGA</td><td>ATL</td><td>116</td><td> 762</td><td>6</td><td> 0</td><td>2013-01-01 06:00:00</td></tr>\n",
       "\t<tr><td>2013</td><td>1</td><td>1</td><td>554</td><td>558</td><td>-4</td><td> 740</td><td> 728</td><td> 12</td><td>UA</td><td>1696</td><td>N39463</td><td>EWR</td><td>ORD</td><td>150</td><td> 719</td><td>5</td><td>58</td><td>2013-01-01 05:00:00</td></tr>\n",
       "</tbody>\n",
       "</table>\n"
      ],
      "text/latex": [
       "A tibble: 6 × 19\n",
       "\\begin{tabular}{lllllllllllllllllll}\n",
       " year & month & day & departure\\_time & sched\\_dep\\_time & dep\\_delay & arrival\\_time & sched\\_arr\\_time & arr\\_delay & carrier & flight & tailnum & origin & dest & air\\_time & distance & hour & minute & time\\_hour\\\\\n",
       " <int> & <int> & <int> & <int> & <int> & <dbl> & <int> & <int> & <dbl> & <chr> & <int> & <chr> & <chr> & <chr> & <dbl> & <dbl> & <dbl> & <dbl> & <dttm>\\\\\n",
       "\\hline\n",
       "\t 2013 & 1 & 1 & 517 & 515 &  2 &  830 &  819 &  11 & UA & 1545 & N14228 & EWR & IAH & 227 & 1400 & 5 & 15 & 2013-01-01 05:00:00\\\\\n",
       "\t 2013 & 1 & 1 & 533 & 529 &  4 &  850 &  830 &  20 & UA & 1714 & N24211 & LGA & IAH & 227 & 1416 & 5 & 29 & 2013-01-01 05:00:00\\\\\n",
       "\t 2013 & 1 & 1 & 542 & 540 &  2 &  923 &  850 &  33 & AA & 1141 & N619AA & JFK & MIA & 160 & 1089 & 5 & 40 & 2013-01-01 05:00:00\\\\\n",
       "\t 2013 & 1 & 1 & 544 & 545 & -1 & 1004 & 1022 & -18 & B6 &  725 & N804JB & JFK & BQN & 183 & 1576 & 5 & 45 & 2013-01-01 05:00:00\\\\\n",
       "\t 2013 & 1 & 1 & 554 & 600 & -6 &  812 &  837 & -25 & DL &  461 & N668DN & LGA & ATL & 116 &  762 & 6 &  0 & 2013-01-01 06:00:00\\\\\n",
       "\t 2013 & 1 & 1 & 554 & 558 & -4 &  740 &  728 &  12 & UA & 1696 & N39463 & EWR & ORD & 150 &  719 & 5 & 58 & 2013-01-01 05:00:00\\\\\n",
       "\\end{tabular}\n"
      ],
      "text/markdown": [
       "\n",
       "A tibble: 6 × 19\n",
       "\n",
       "| year &lt;int&gt; | month &lt;int&gt; | day &lt;int&gt; | departure_time &lt;int&gt; | sched_dep_time &lt;int&gt; | dep_delay &lt;dbl&gt; | arrival_time &lt;int&gt; | sched_arr_time &lt;int&gt; | arr_delay &lt;dbl&gt; | carrier &lt;chr&gt; | flight &lt;int&gt; | tailnum &lt;chr&gt; | origin &lt;chr&gt; | dest &lt;chr&gt; | air_time &lt;dbl&gt; | distance &lt;dbl&gt; | hour &lt;dbl&gt; | minute &lt;dbl&gt; | time_hour &lt;dttm&gt; |\n",
       "|---|---|---|---|---|---|---|---|---|---|---|---|---|---|---|---|---|---|---|\n",
       "| 2013 | 1 | 1 | 517 | 515 |  2 |  830 |  819 |  11 | UA | 1545 | N14228 | EWR | IAH | 227 | 1400 | 5 | 15 | 2013-01-01 05:00:00 |\n",
       "| 2013 | 1 | 1 | 533 | 529 |  4 |  850 |  830 |  20 | UA | 1714 | N24211 | LGA | IAH | 227 | 1416 | 5 | 29 | 2013-01-01 05:00:00 |\n",
       "| 2013 | 1 | 1 | 542 | 540 |  2 |  923 |  850 |  33 | AA | 1141 | N619AA | JFK | MIA | 160 | 1089 | 5 | 40 | 2013-01-01 05:00:00 |\n",
       "| 2013 | 1 | 1 | 544 | 545 | -1 | 1004 | 1022 | -18 | B6 |  725 | N804JB | JFK | BQN | 183 | 1576 | 5 | 45 | 2013-01-01 05:00:00 |\n",
       "| 2013 | 1 | 1 | 554 | 600 | -6 |  812 |  837 | -25 | DL |  461 | N668DN | LGA | ATL | 116 |  762 | 6 |  0 | 2013-01-01 06:00:00 |\n",
       "| 2013 | 1 | 1 | 554 | 558 | -4 |  740 |  728 |  12 | UA | 1696 | N39463 | EWR | ORD | 150 |  719 | 5 | 58 | 2013-01-01 05:00:00 |\n",
       "\n"
      ],
      "text/plain": [
       "  year month day departure_time sched_dep_time dep_delay arrival_time\n",
       "1 2013 1     1   517            515             2         830        \n",
       "2 2013 1     1   533            529             4         850        \n",
       "3 2013 1     1   542            540             2         923        \n",
       "4 2013 1     1   544            545            -1        1004        \n",
       "5 2013 1     1   554            600            -6         812        \n",
       "6 2013 1     1   554            558            -4         740        \n",
       "  sched_arr_time arr_delay carrier flight tailnum origin dest air_time distance\n",
       "1  819            11       UA      1545   N14228  EWR    IAH  227      1400    \n",
       "2  830            20       UA      1714   N24211  LGA    IAH  227      1416    \n",
       "3  850            33       AA      1141   N619AA  JFK    MIA  160      1089    \n",
       "4 1022           -18       B6       725   N804JB  JFK    BQN  183      1576    \n",
       "5  837           -25       DL       461   N668DN  LGA    ATL  116       762    \n",
       "6  728            12       UA      1696   N39463  EWR    ORD  150       719    \n",
       "  hour minute time_hour          \n",
       "1 5    15     2013-01-01 05:00:00\n",
       "2 5    29     2013-01-01 05:00:00\n",
       "3 5    40     2013-01-01 05:00:00\n",
       "4 5    45     2013-01-01 05:00:00\n",
       "5 6     0     2013-01-01 06:00:00\n",
       "6 5    58     2013-01-01 05:00:00"
      ]
     },
     "metadata": {},
     "output_type": "display_data"
    }
   ],
   "source": [
    "rename(flights, departure_time = dep_time, arrival_time = arr_time) %>%\n",
    "    head()"
   ]
  },
  {
   "cell_type": "code",
   "execution_count": 18,
   "metadata": {},
   "outputs": [
    {
     "name": "stdout",
     "output_type": "stream",
     "text": [
      "\u001b[38;5;246m# A tibble: 336,776 x 19\u001b[39m\n",
      "    year month   day dep_time sched_dep_time dep_delay arr_time sched_arr_time\n",
      "   \u001b[3m\u001b[38;5;246m<int>\u001b[39m\u001b[23m \u001b[3m\u001b[38;5;246m<int>\u001b[39m\u001b[23m \u001b[3m\u001b[38;5;246m<int>\u001b[39m\u001b[23m    \u001b[3m\u001b[38;5;246m<int>\u001b[39m\u001b[23m          \u001b[3m\u001b[38;5;246m<int>\u001b[39m\u001b[23m     \u001b[3m\u001b[38;5;246m<dbl>\u001b[39m\u001b[23m    \u001b[3m\u001b[38;5;246m<int>\u001b[39m\u001b[23m          \u001b[3m\u001b[38;5;246m<int>\u001b[39m\u001b[23m\n",
      "\u001b[38;5;250m 1\u001b[39m  \u001b[4m2\u001b[24m013     1     1      517            515         2      830            819\n",
      "\u001b[38;5;250m 2\u001b[39m  \u001b[4m2\u001b[24m013     1     1      533            529         4      850            830\n",
      "\u001b[38;5;250m 3\u001b[39m  \u001b[4m2\u001b[24m013     1     1      542            540         2      923            850\n",
      "\u001b[38;5;250m 4\u001b[39m  \u001b[4m2\u001b[24m013     1     1      544            545        -\u001b[31m1\u001b[39m     \u001b[4m1\u001b[24m004           \u001b[4m1\u001b[24m022\n",
      "\u001b[38;5;250m 5\u001b[39m  \u001b[4m2\u001b[24m013     1     1      554            600        -\u001b[31m6\u001b[39m      812            837\n",
      "\u001b[38;5;250m 6\u001b[39m  \u001b[4m2\u001b[24m013     1     1      554            558        -\u001b[31m4\u001b[39m      740            728\n",
      "\u001b[38;5;250m 7\u001b[39m  \u001b[4m2\u001b[24m013     1     1      555            600        -\u001b[31m5\u001b[39m      913            854\n",
      "\u001b[38;5;250m 8\u001b[39m  \u001b[4m2\u001b[24m013     1     1      557            600        -\u001b[31m3\u001b[39m      709            723\n",
      "\u001b[38;5;250m 9\u001b[39m  \u001b[4m2\u001b[24m013     1     1      557            600        -\u001b[31m3\u001b[39m      838            846\n",
      "\u001b[38;5;250m10\u001b[39m  \u001b[4m2\u001b[24m013     1     1      558            600        -\u001b[31m2\u001b[39m      753            745\n",
      "\u001b[38;5;246m# … with 336,766 more rows, and 11 more variables: arr_delay \u001b[3m\u001b[38;5;246m<dbl>\u001b[38;5;246m\u001b[23m,\n",
      "#   carrier \u001b[3m\u001b[38;5;246m<chr>\u001b[38;5;246m\u001b[23m, flight \u001b[3m\u001b[38;5;246m<int>\u001b[38;5;246m\u001b[23m, tailnum \u001b[3m\u001b[38;5;246m<chr>\u001b[38;5;246m\u001b[23m, origin \u001b[3m\u001b[38;5;246m<chr>\u001b[38;5;246m\u001b[23m, dest \u001b[3m\u001b[38;5;246m<chr>\u001b[38;5;246m\u001b[23m,\n",
      "#   air_time \u001b[3m\u001b[38;5;246m<dbl>\u001b[38;5;246m\u001b[23m, distance \u001b[3m\u001b[38;5;246m<dbl>\u001b[38;5;246m\u001b[23m, hour \u001b[3m\u001b[38;5;246m<dbl>\u001b[38;5;246m\u001b[23m, minute \u001b[3m\u001b[38;5;246m<dbl>\u001b[38;5;246m\u001b[23m, time_hour \u001b[3m\u001b[38;5;246m<dttm>\u001b[38;5;246m\u001b[23m\u001b[39m\n"
     ]
    }
   ],
   "source": [
    "print(flights)"
   ]
  },
  {
   "cell_type": "markdown",
   "metadata": {},
   "source": [
    "If there are a lot of variables, you can save yourself some typing by using `:` and `-` in combination with select. The colon operator selects a range of variables."
   ]
  },
  {
   "cell_type": "code",
   "execution_count": 19,
   "metadata": {},
   "outputs": [
    {
     "data": {
      "text/html": [
       "<table>\n",
       "<caption>A tibble: 6 × 3</caption>\n",
       "<thead>\n",
       "\t<tr><th scope=col>year</th><th scope=col>month</th><th scope=col>day</th></tr>\n",
       "\t<tr><th scope=col>&lt;int&gt;</th><th scope=col>&lt;int&gt;</th><th scope=col>&lt;int&gt;</th></tr>\n",
       "</thead>\n",
       "<tbody>\n",
       "\t<tr><td>2013</td><td>1</td><td>1</td></tr>\n",
       "\t<tr><td>2013</td><td>1</td><td>1</td></tr>\n",
       "\t<tr><td>2013</td><td>1</td><td>1</td></tr>\n",
       "\t<tr><td>2013</td><td>1</td><td>1</td></tr>\n",
       "\t<tr><td>2013</td><td>1</td><td>1</td></tr>\n",
       "\t<tr><td>2013</td><td>1</td><td>1</td></tr>\n",
       "</tbody>\n",
       "</table>\n"
      ],
      "text/latex": [
       "A tibble: 6 × 3\n",
       "\\begin{tabular}{lll}\n",
       " year & month & day\\\\\n",
       " <int> & <int> & <int>\\\\\n",
       "\\hline\n",
       "\t 2013 & 1 & 1\\\\\n",
       "\t 2013 & 1 & 1\\\\\n",
       "\t 2013 & 1 & 1\\\\\n",
       "\t 2013 & 1 & 1\\\\\n",
       "\t 2013 & 1 & 1\\\\\n",
       "\t 2013 & 1 & 1\\\\\n",
       "\\end{tabular}\n"
      ],
      "text/markdown": [
       "\n",
       "A tibble: 6 × 3\n",
       "\n",
       "| year &lt;int&gt; | month &lt;int&gt; | day &lt;int&gt; |\n",
       "|---|---|---|\n",
       "| 2013 | 1 | 1 |\n",
       "| 2013 | 1 | 1 |\n",
       "| 2013 | 1 | 1 |\n",
       "| 2013 | 1 | 1 |\n",
       "| 2013 | 1 | 1 |\n",
       "| 2013 | 1 | 1 |\n",
       "\n"
      ],
      "text/plain": [
       "  year month day\n",
       "1 2013 1     1  \n",
       "2 2013 1     1  \n",
       "3 2013 1     1  \n",
       "4 2013 1     1  \n",
       "5 2013 1     1  \n",
       "6 2013 1     1  "
      ]
     },
     "metadata": {},
     "output_type": "display_data"
    }
   ],
   "source": [
    "select(flights, year:day) %>%\n",
    "    head()"
   ]
  },
  {
   "cell_type": "markdown",
   "metadata": {},
   "source": [
    "The negative sign lets you select everything but certain columns."
   ]
  },
  {
   "cell_type": "code",
   "execution_count": 9,
   "metadata": {},
   "outputs": [
    {
     "name": "stdout",
     "output_type": "stream",
     "text": [
      "\u001b[38;5;246m# A tibble: 336,776 x 18\u001b[39m\n",
      "    year month dep_time sched_dep_time dep_delay arr_time sched_arr_time\n",
      "   \u001b[3m\u001b[38;5;246m<int>\u001b[39m\u001b[23m \u001b[3m\u001b[38;5;246m<int>\u001b[39m\u001b[23m    \u001b[3m\u001b[38;5;246m<int>\u001b[39m\u001b[23m          \u001b[3m\u001b[38;5;246m<int>\u001b[39m\u001b[23m     \u001b[3m\u001b[38;5;246m<dbl>\u001b[39m\u001b[23m    \u001b[3m\u001b[38;5;246m<int>\u001b[39m\u001b[23m          \u001b[3m\u001b[38;5;246m<int>\u001b[39m\u001b[23m\n",
      "\u001b[38;5;250m 1\u001b[39m  \u001b[4m2\u001b[24m013     1      517            515         2      830            819\n",
      "\u001b[38;5;250m 2\u001b[39m  \u001b[4m2\u001b[24m013     1      533            529         4      850            830\n",
      "\u001b[38;5;250m 3\u001b[39m  \u001b[4m2\u001b[24m013     1      542            540         2      923            850\n",
      "\u001b[38;5;250m 4\u001b[39m  \u001b[4m2\u001b[24m013     1      544            545        -\u001b[31m1\u001b[39m     \u001b[4m1\u001b[24m004           \u001b[4m1\u001b[24m022\n",
      "\u001b[38;5;250m 5\u001b[39m  \u001b[4m2\u001b[24m013     1      554            600        -\u001b[31m6\u001b[39m      812            837\n",
      "\u001b[38;5;250m 6\u001b[39m  \u001b[4m2\u001b[24m013     1      554            558        -\u001b[31m4\u001b[39m      740            728\n",
      "\u001b[38;5;250m 7\u001b[39m  \u001b[4m2\u001b[24m013     1      555            600        -\u001b[31m5\u001b[39m      913            854\n",
      "\u001b[38;5;250m 8\u001b[39m  \u001b[4m2\u001b[24m013     1      557            600        -\u001b[31m3\u001b[39m      709            723\n",
      "\u001b[38;5;250m 9\u001b[39m  \u001b[4m2\u001b[24m013     1      557            600        -\u001b[31m3\u001b[39m      838            846\n",
      "\u001b[38;5;250m10\u001b[39m  \u001b[4m2\u001b[24m013     1      558            600        -\u001b[31m2\u001b[39m      753            745\n",
      "\u001b[38;5;246m# … with 336,766 more rows, and 11 more variables: arr_delay \u001b[3m\u001b[38;5;246m<dbl>\u001b[38;5;246m\u001b[23m,\u001b[39m\n",
      "\u001b[38;5;246m#   carrier \u001b[3m\u001b[38;5;246m<chr>\u001b[38;5;246m\u001b[23m, flight \u001b[3m\u001b[38;5;246m<int>\u001b[38;5;246m\u001b[23m, tailnum \u001b[3m\u001b[38;5;246m<chr>\u001b[38;5;246m\u001b[23m, origin \u001b[3m\u001b[38;5;246m<chr>\u001b[38;5;246m\u001b[23m, dest \u001b[3m\u001b[38;5;246m<chr>\u001b[38;5;246m\u001b[23m,\u001b[39m\n",
      "\u001b[38;5;246m#   air_time \u001b[3m\u001b[38;5;246m<dbl>\u001b[38;5;246m\u001b[23m, distance \u001b[3m\u001b[38;5;246m<dbl>\u001b[38;5;246m\u001b[23m, hour \u001b[3m\u001b[38;5;246m<dbl>\u001b[38;5;246m\u001b[23m, minute \u001b[3m\u001b[38;5;246m<dbl>\u001b[38;5;246m\u001b[23m, time_hour \u001b[3m\u001b[38;5;246m<dttm>\u001b[38;5;246m\u001b[23m\u001b[39m\n"
     ]
    }
   ],
   "source": [
    "print(select(flights, -day))"
   ]
  },
  {
   "cell_type": "markdown",
   "metadata": {},
   "source": [
    "We can use `-` and `:` together, for example:"
   ]
  },
  {
   "cell_type": "code",
   "execution_count": 20,
   "metadata": {},
   "outputs": [
    {
     "data": {
      "text/html": [
       "<table>\n",
       "<caption>A tibble: 6 × 3</caption>\n",
       "<thead>\n",
       "\t<tr><th scope=col>year</th><th scope=col>month</th><th scope=col>day</th></tr>\n",
       "\t<tr><th scope=col>&lt;int&gt;</th><th scope=col>&lt;int&gt;</th><th scope=col>&lt;int&gt;</th></tr>\n",
       "</thead>\n",
       "<tbody>\n",
       "\t<tr><td>2013</td><td>1</td><td>1</td></tr>\n",
       "\t<tr><td>2013</td><td>1</td><td>1</td></tr>\n",
       "\t<tr><td>2013</td><td>1</td><td>1</td></tr>\n",
       "\t<tr><td>2013</td><td>1</td><td>1</td></tr>\n",
       "\t<tr><td>2013</td><td>1</td><td>1</td></tr>\n",
       "\t<tr><td>2013</td><td>1</td><td>1</td></tr>\n",
       "</tbody>\n",
       "</table>\n"
      ],
      "text/latex": [
       "A tibble: 6 × 3\n",
       "\\begin{tabular}{lll}\n",
       " year & month & day\\\\\n",
       " <int> & <int> & <int>\\\\\n",
       "\\hline\n",
       "\t 2013 & 1 & 1\\\\\n",
       "\t 2013 & 1 & 1\\\\\n",
       "\t 2013 & 1 & 1\\\\\n",
       "\t 2013 & 1 & 1\\\\\n",
       "\t 2013 & 1 & 1\\\\\n",
       "\t 2013 & 1 & 1\\\\\n",
       "\\end{tabular}\n"
      ],
      "text/markdown": [
       "\n",
       "A tibble: 6 × 3\n",
       "\n",
       "| year &lt;int&gt; | month &lt;int&gt; | day &lt;int&gt; |\n",
       "|---|---|---|\n",
       "| 2013 | 1 | 1 |\n",
       "| 2013 | 1 | 1 |\n",
       "| 2013 | 1 | 1 |\n",
       "| 2013 | 1 | 1 |\n",
       "| 2013 | 1 | 1 |\n",
       "| 2013 | 1 | 1 |\n",
       "\n"
      ],
      "text/plain": [
       "  year month day\n",
       "1 2013 1     1  \n",
       "2 2013 1     1  \n",
       "3 2013 1     1  \n",
       "4 2013 1     1  \n",
       "5 2013 1     1  \n",
       "6 2013 1     1  "
      ]
     },
     "metadata": {},
     "output_type": "display_data"
    }
   ],
   "source": [
    "select(flights, -(dep_time:time_hour)) %>%\n",
    "    head()"
   ]
  },
  {
   "cell_type": "markdown",
   "metadata": {},
   "source": [
    "To bring a few variables at the beginning, we can use `everything()` to refer to the remaining variables."
   ]
  },
  {
   "cell_type": "code",
   "execution_count": 21,
   "metadata": {},
   "outputs": [
    {
     "data": {
      "text/html": [
       "<table>\n",
       "<caption>A tibble: 6 × 19</caption>\n",
       "<thead>\n",
       "\t<tr><th scope=col>dep_time</th><th scope=col>arr_time</th><th scope=col>day</th><th scope=col>month</th><th scope=col>year</th><th scope=col>sched_dep_time</th><th scope=col>dep_delay</th><th scope=col>sched_arr_time</th><th scope=col>arr_delay</th><th scope=col>carrier</th><th scope=col>flight</th><th scope=col>tailnum</th><th scope=col>origin</th><th scope=col>dest</th><th scope=col>air_time</th><th scope=col>distance</th><th scope=col>hour</th><th scope=col>minute</th><th scope=col>time_hour</th></tr>\n",
       "\t<tr><th scope=col>&lt;int&gt;</th><th scope=col>&lt;int&gt;</th><th scope=col>&lt;int&gt;</th><th scope=col>&lt;int&gt;</th><th scope=col>&lt;int&gt;</th><th scope=col>&lt;int&gt;</th><th scope=col>&lt;dbl&gt;</th><th scope=col>&lt;int&gt;</th><th scope=col>&lt;dbl&gt;</th><th scope=col>&lt;chr&gt;</th><th scope=col>&lt;int&gt;</th><th scope=col>&lt;chr&gt;</th><th scope=col>&lt;chr&gt;</th><th scope=col>&lt;chr&gt;</th><th scope=col>&lt;dbl&gt;</th><th scope=col>&lt;dbl&gt;</th><th scope=col>&lt;dbl&gt;</th><th scope=col>&lt;dbl&gt;</th><th scope=col>&lt;dttm&gt;</th></tr>\n",
       "</thead>\n",
       "<tbody>\n",
       "\t<tr><td>517</td><td> 830</td><td>1</td><td>1</td><td>2013</td><td>515</td><td> 2</td><td> 819</td><td> 11</td><td>UA</td><td>1545</td><td>N14228</td><td>EWR</td><td>IAH</td><td>227</td><td>1400</td><td>5</td><td>15</td><td>2013-01-01 05:00:00</td></tr>\n",
       "\t<tr><td>533</td><td> 850</td><td>1</td><td>1</td><td>2013</td><td>529</td><td> 4</td><td> 830</td><td> 20</td><td>UA</td><td>1714</td><td>N24211</td><td>LGA</td><td>IAH</td><td>227</td><td>1416</td><td>5</td><td>29</td><td>2013-01-01 05:00:00</td></tr>\n",
       "\t<tr><td>542</td><td> 923</td><td>1</td><td>1</td><td>2013</td><td>540</td><td> 2</td><td> 850</td><td> 33</td><td>AA</td><td>1141</td><td>N619AA</td><td>JFK</td><td>MIA</td><td>160</td><td>1089</td><td>5</td><td>40</td><td>2013-01-01 05:00:00</td></tr>\n",
       "\t<tr><td>544</td><td>1004</td><td>1</td><td>1</td><td>2013</td><td>545</td><td>-1</td><td>1022</td><td>-18</td><td>B6</td><td> 725</td><td>N804JB</td><td>JFK</td><td>BQN</td><td>183</td><td>1576</td><td>5</td><td>45</td><td>2013-01-01 05:00:00</td></tr>\n",
       "\t<tr><td>554</td><td> 812</td><td>1</td><td>1</td><td>2013</td><td>600</td><td>-6</td><td> 837</td><td>-25</td><td>DL</td><td> 461</td><td>N668DN</td><td>LGA</td><td>ATL</td><td>116</td><td> 762</td><td>6</td><td> 0</td><td>2013-01-01 06:00:00</td></tr>\n",
       "\t<tr><td>554</td><td> 740</td><td>1</td><td>1</td><td>2013</td><td>558</td><td>-4</td><td> 728</td><td> 12</td><td>UA</td><td>1696</td><td>N39463</td><td>EWR</td><td>ORD</td><td>150</td><td> 719</td><td>5</td><td>58</td><td>2013-01-01 05:00:00</td></tr>\n",
       "</tbody>\n",
       "</table>\n"
      ],
      "text/latex": [
       "A tibble: 6 × 19\n",
       "\\begin{tabular}{lllllllllllllllllll}\n",
       " dep\\_time & arr\\_time & day & month & year & sched\\_dep\\_time & dep\\_delay & sched\\_arr\\_time & arr\\_delay & carrier & flight & tailnum & origin & dest & air\\_time & distance & hour & minute & time\\_hour\\\\\n",
       " <int> & <int> & <int> & <int> & <int> & <int> & <dbl> & <int> & <dbl> & <chr> & <int> & <chr> & <chr> & <chr> & <dbl> & <dbl> & <dbl> & <dbl> & <dttm>\\\\\n",
       "\\hline\n",
       "\t 517 &  830 & 1 & 1 & 2013 & 515 &  2 &  819 &  11 & UA & 1545 & N14228 & EWR & IAH & 227 & 1400 & 5 & 15 & 2013-01-01 05:00:00\\\\\n",
       "\t 533 &  850 & 1 & 1 & 2013 & 529 &  4 &  830 &  20 & UA & 1714 & N24211 & LGA & IAH & 227 & 1416 & 5 & 29 & 2013-01-01 05:00:00\\\\\n",
       "\t 542 &  923 & 1 & 1 & 2013 & 540 &  2 &  850 &  33 & AA & 1141 & N619AA & JFK & MIA & 160 & 1089 & 5 & 40 & 2013-01-01 05:00:00\\\\\n",
       "\t 544 & 1004 & 1 & 1 & 2013 & 545 & -1 & 1022 & -18 & B6 &  725 & N804JB & JFK & BQN & 183 & 1576 & 5 & 45 & 2013-01-01 05:00:00\\\\\n",
       "\t 554 &  812 & 1 & 1 & 2013 & 600 & -6 &  837 & -25 & DL &  461 & N668DN & LGA & ATL & 116 &  762 & 6 &  0 & 2013-01-01 06:00:00\\\\\n",
       "\t 554 &  740 & 1 & 1 & 2013 & 558 & -4 &  728 &  12 & UA & 1696 & N39463 & EWR & ORD & 150 &  719 & 5 & 58 & 2013-01-01 05:00:00\\\\\n",
       "\\end{tabular}\n"
      ],
      "text/markdown": [
       "\n",
       "A tibble: 6 × 19\n",
       "\n",
       "| dep_time &lt;int&gt; | arr_time &lt;int&gt; | day &lt;int&gt; | month &lt;int&gt; | year &lt;int&gt; | sched_dep_time &lt;int&gt; | dep_delay &lt;dbl&gt; | sched_arr_time &lt;int&gt; | arr_delay &lt;dbl&gt; | carrier &lt;chr&gt; | flight &lt;int&gt; | tailnum &lt;chr&gt; | origin &lt;chr&gt; | dest &lt;chr&gt; | air_time &lt;dbl&gt; | distance &lt;dbl&gt; | hour &lt;dbl&gt; | minute &lt;dbl&gt; | time_hour &lt;dttm&gt; |\n",
       "|---|---|---|---|---|---|---|---|---|---|---|---|---|---|---|---|---|---|---|\n",
       "| 517 |  830 | 1 | 1 | 2013 | 515 |  2 |  819 |  11 | UA | 1545 | N14228 | EWR | IAH | 227 | 1400 | 5 | 15 | 2013-01-01 05:00:00 |\n",
       "| 533 |  850 | 1 | 1 | 2013 | 529 |  4 |  830 |  20 | UA | 1714 | N24211 | LGA | IAH | 227 | 1416 | 5 | 29 | 2013-01-01 05:00:00 |\n",
       "| 542 |  923 | 1 | 1 | 2013 | 540 |  2 |  850 |  33 | AA | 1141 | N619AA | JFK | MIA | 160 | 1089 | 5 | 40 | 2013-01-01 05:00:00 |\n",
       "| 544 | 1004 | 1 | 1 | 2013 | 545 | -1 | 1022 | -18 | B6 |  725 | N804JB | JFK | BQN | 183 | 1576 | 5 | 45 | 2013-01-01 05:00:00 |\n",
       "| 554 |  812 | 1 | 1 | 2013 | 600 | -6 |  837 | -25 | DL |  461 | N668DN | LGA | ATL | 116 |  762 | 6 |  0 | 2013-01-01 06:00:00 |\n",
       "| 554 |  740 | 1 | 1 | 2013 | 558 | -4 |  728 |  12 | UA | 1696 | N39463 | EWR | ORD | 150 |  719 | 5 | 58 | 2013-01-01 05:00:00 |\n",
       "\n"
      ],
      "text/plain": [
       "  dep_time arr_time day month year sched_dep_time dep_delay sched_arr_time\n",
       "1 517       830     1   1     2013 515             2         819          \n",
       "2 533       850     1   1     2013 529             4         830          \n",
       "3 542       923     1   1     2013 540             2         850          \n",
       "4 544      1004     1   1     2013 545            -1        1022          \n",
       "5 554       812     1   1     2013 600            -6         837          \n",
       "6 554       740     1   1     2013 558            -4         728          \n",
       "  arr_delay carrier flight tailnum origin dest air_time distance hour minute\n",
       "1  11       UA      1545   N14228  EWR    IAH  227      1400     5    15    \n",
       "2  20       UA      1714   N24211  LGA    IAH  227      1416     5    29    \n",
       "3  33       AA      1141   N619AA  JFK    MIA  160      1089     5    40    \n",
       "4 -18       B6       725   N804JB  JFK    BQN  183      1576     5    45    \n",
       "5 -25       DL       461   N668DN  LGA    ATL  116       762     6     0    \n",
       "6  12       UA      1696   N39463  EWR    ORD  150       719     5    58    \n",
       "  time_hour          \n",
       "1 2013-01-01 05:00:00\n",
       "2 2013-01-01 05:00:00\n",
       "3 2013-01-01 05:00:00\n",
       "4 2013-01-01 05:00:00\n",
       "5 2013-01-01 06:00:00\n",
       "6 2013-01-01 05:00:00"
      ]
     },
     "metadata": {},
     "output_type": "display_data"
    }
   ],
   "source": [
    "select(flights, dep_time, arr_time, day, month, year, everything()) %>%\n",
    "    head()"
   ]
  },
  {
   "cell_type": "markdown",
   "metadata": {},
   "source": [
    "In addition, there are some helper functions that only work inside `select()`.\n",
    "\n",
    "* `starts_with()`, `ends_with()`, `contains()`\n",
    "* `matches()`\n",
    "* `num_range()`\n",
    "\n",
    "We can use `?select` to learn more about these. Here's just one example of their use."
   ]
  },
  {
   "cell_type": "code",
   "execution_count": 22,
   "metadata": {},
   "outputs": [
    {
     "data": {
      "text/html": [
       "<table>\n",
       "<caption>A tibble: 6 × 6</caption>\n",
       "<thead>\n",
       "\t<tr><th scope=col>dep_time</th><th scope=col>sched_dep_time</th><th scope=col>arr_time</th><th scope=col>sched_arr_time</th><th scope=col>air_time</th><th scope=col>time_hour</th></tr>\n",
       "\t<tr><th scope=col>&lt;int&gt;</th><th scope=col>&lt;int&gt;</th><th scope=col>&lt;int&gt;</th><th scope=col>&lt;int&gt;</th><th scope=col>&lt;dbl&gt;</th><th scope=col>&lt;dttm&gt;</th></tr>\n",
       "</thead>\n",
       "<tbody>\n",
       "\t<tr><td>517</td><td>515</td><td> 830</td><td> 819</td><td>227</td><td>2013-01-01 05:00:00</td></tr>\n",
       "\t<tr><td>533</td><td>529</td><td> 850</td><td> 830</td><td>227</td><td>2013-01-01 05:00:00</td></tr>\n",
       "\t<tr><td>542</td><td>540</td><td> 923</td><td> 850</td><td>160</td><td>2013-01-01 05:00:00</td></tr>\n",
       "\t<tr><td>544</td><td>545</td><td>1004</td><td>1022</td><td>183</td><td>2013-01-01 05:00:00</td></tr>\n",
       "\t<tr><td>554</td><td>600</td><td> 812</td><td> 837</td><td>116</td><td>2013-01-01 06:00:00</td></tr>\n",
       "\t<tr><td>554</td><td>558</td><td> 740</td><td> 728</td><td>150</td><td>2013-01-01 05:00:00</td></tr>\n",
       "</tbody>\n",
       "</table>\n"
      ],
      "text/latex": [
       "A tibble: 6 × 6\n",
       "\\begin{tabular}{llllll}\n",
       " dep\\_time & sched\\_dep\\_time & arr\\_time & sched\\_arr\\_time & air\\_time & time\\_hour\\\\\n",
       " <int> & <int> & <int> & <int> & <dbl> & <dttm>\\\\\n",
       "\\hline\n",
       "\t 517 & 515 &  830 &  819 & 227 & 2013-01-01 05:00:00\\\\\n",
       "\t 533 & 529 &  850 &  830 & 227 & 2013-01-01 05:00:00\\\\\n",
       "\t 542 & 540 &  923 &  850 & 160 & 2013-01-01 05:00:00\\\\\n",
       "\t 544 & 545 & 1004 & 1022 & 183 & 2013-01-01 05:00:00\\\\\n",
       "\t 554 & 600 &  812 &  837 & 116 & 2013-01-01 06:00:00\\\\\n",
       "\t 554 & 558 &  740 &  728 & 150 & 2013-01-01 05:00:00\\\\\n",
       "\\end{tabular}\n"
      ],
      "text/markdown": [
       "\n",
       "A tibble: 6 × 6\n",
       "\n",
       "| dep_time &lt;int&gt; | sched_dep_time &lt;int&gt; | arr_time &lt;int&gt; | sched_arr_time &lt;int&gt; | air_time &lt;dbl&gt; | time_hour &lt;dttm&gt; |\n",
       "|---|---|---|---|---|---|\n",
       "| 517 | 515 |  830 |  819 | 227 | 2013-01-01 05:00:00 |\n",
       "| 533 | 529 |  850 |  830 | 227 | 2013-01-01 05:00:00 |\n",
       "| 542 | 540 |  923 |  850 | 160 | 2013-01-01 05:00:00 |\n",
       "| 544 | 545 | 1004 | 1022 | 183 | 2013-01-01 05:00:00 |\n",
       "| 554 | 600 |  812 |  837 | 116 | 2013-01-01 06:00:00 |\n",
       "| 554 | 558 |  740 |  728 | 150 | 2013-01-01 05:00:00 |\n",
       "\n"
      ],
      "text/plain": [
       "  dep_time sched_dep_time arr_time sched_arr_time air_time time_hour          \n",
       "1 517      515             830      819           227      2013-01-01 05:00:00\n",
       "2 533      529             850      830           227      2013-01-01 05:00:00\n",
       "3 542      540             923      850           160      2013-01-01 05:00:00\n",
       "4 544      545            1004     1022           183      2013-01-01 05:00:00\n",
       "5 554      600             812      837           116      2013-01-01 06:00:00\n",
       "6 554      558             740      728           150      2013-01-01 05:00:00"
      ]
     },
     "metadata": {},
     "output_type": "display_data"
    }
   ],
   "source": [
    "select(flights, contains(\"time\")) %>%\n",
    "    head()"
   ]
  },
  {
   "cell_type": "markdown",
   "metadata": {},
   "source": [
    "This basically selects all the columns containing the string \"time\"."
   ]
  },
  {
   "cell_type": "markdown",
   "metadata": {},
   "source": [
    "## C.3 Pipe operator `%>%`\n",
    "\n",
    "\n",
    "Under the hood, `x %>% f(y)` turns into `f(x, y)`, and `x %>% f(y) %>% g(z)` turns into `g(f(x, y), z)` and so on. Functions in `tidyverse` are almost always easy to write and read using `%>%`. But we can use `%>%` on any function, not just those defined in `tidyverse`. Here is an example on printing \"hello world\" using pipe. "
   ]
  },
  {
   "cell_type": "code",
   "execution_count": 21,
   "metadata": {},
   "outputs": [
    {
     "name": "stdout",
     "output_type": "stream",
     "text": [
      "[1] \"hello world\"\n"
     ]
    }
   ],
   "source": [
    "\"hello world\" %>% print()  # prints \"hello world\""
   ]
  },
  {
   "cell_type": "markdown",
   "metadata": {},
   "source": [
    "We will now manipulate the `tibble` object with the pipe operator `%>%`. The `dplyr`/`tidyverse` package offers the `mutate()` and `transmute()` commands to add new variables to data tibbles. The syntax is:\n",
    "```{r}\n",
    "<tibble> %>% mutate(<new variable> = <formula for new variable>,  <other new variable> = <other formula>)\n",
    "```\n",
    "This returns a copy of `<tibble>` with the new variables added on. `transmute()` does the same thing as `mutate()` but only keeps the new variables."
   ]
  },
  {
   "cell_type": "markdown",
   "metadata": {},
   "source": [
    "Let us zoom in on a few variables of interest."
   ]
  },
  {
   "cell_type": "code",
   "execution_count": 4,
   "metadata": {},
   "outputs": [
    {
     "data": {
      "text/html": [
       "<table>\n",
       "<caption>A tibble: 6 × 8</caption>\n",
       "<thead>\n",
       "\t<tr><th scope=col>year</th><th scope=col>month</th><th scope=col>day</th><th scope=col>dep_time</th><th scope=col>arr_time</th><th scope=col>air_time</th><th scope=col>origin</th><th scope=col>dest</th></tr>\n",
       "\t<tr><th scope=col>&lt;int&gt;</th><th scope=col>&lt;int&gt;</th><th scope=col>&lt;int&gt;</th><th scope=col>&lt;int&gt;</th><th scope=col>&lt;int&gt;</th><th scope=col>&lt;dbl&gt;</th><th scope=col>&lt;chr&gt;</th><th scope=col>&lt;chr&gt;</th></tr>\n",
       "</thead>\n",
       "<tbody>\n",
       "\t<tr><td>2013</td><td>1</td><td>1</td><td>517</td><td> 830</td><td>227</td><td>EWR</td><td>IAH</td></tr>\n",
       "\t<tr><td>2013</td><td>1</td><td>1</td><td>533</td><td> 850</td><td>227</td><td>LGA</td><td>IAH</td></tr>\n",
       "\t<tr><td>2013</td><td>1</td><td>1</td><td>542</td><td> 923</td><td>160</td><td>JFK</td><td>MIA</td></tr>\n",
       "\t<tr><td>2013</td><td>1</td><td>1</td><td>544</td><td>1004</td><td>183</td><td>JFK</td><td>BQN</td></tr>\n",
       "\t<tr><td>2013</td><td>1</td><td>1</td><td>554</td><td> 812</td><td>116</td><td>LGA</td><td>ATL</td></tr>\n",
       "\t<tr><td>2013</td><td>1</td><td>1</td><td>554</td><td> 740</td><td>150</td><td>EWR</td><td>ORD</td></tr>\n",
       "</tbody>\n",
       "</table>\n"
      ],
      "text/latex": [
       "A tibble: 6 × 8\n",
       "\\begin{tabular}{llllllll}\n",
       " year & month & day & dep\\_time & arr\\_time & air\\_time & origin & dest\\\\\n",
       " <int> & <int> & <int> & <int> & <int> & <dbl> & <chr> & <chr>\\\\\n",
       "\\hline\n",
       "\t 2013 & 1 & 1 & 517 &  830 & 227 & EWR & IAH\\\\\n",
       "\t 2013 & 1 & 1 & 533 &  850 & 227 & LGA & IAH\\\\\n",
       "\t 2013 & 1 & 1 & 542 &  923 & 160 & JFK & MIA\\\\\n",
       "\t 2013 & 1 & 1 & 544 & 1004 & 183 & JFK & BQN\\\\\n",
       "\t 2013 & 1 & 1 & 554 &  812 & 116 & LGA & ATL\\\\\n",
       "\t 2013 & 1 & 1 & 554 &  740 & 150 & EWR & ORD\\\\\n",
       "\\end{tabular}\n"
      ],
      "text/markdown": [
       "\n",
       "A tibble: 6 × 8\n",
       "\n",
       "| year &lt;int&gt; | month &lt;int&gt; | day &lt;int&gt; | dep_time &lt;int&gt; | arr_time &lt;int&gt; | air_time &lt;dbl&gt; | origin &lt;chr&gt; | dest &lt;chr&gt; |\n",
       "|---|---|---|---|---|---|---|---|\n",
       "| 2013 | 1 | 1 | 517 |  830 | 227 | EWR | IAH |\n",
       "| 2013 | 1 | 1 | 533 |  850 | 227 | LGA | IAH |\n",
       "| 2013 | 1 | 1 | 542 |  923 | 160 | JFK | MIA |\n",
       "| 2013 | 1 | 1 | 544 | 1004 | 183 | JFK | BQN |\n",
       "| 2013 | 1 | 1 | 554 |  812 | 116 | LGA | ATL |\n",
       "| 2013 | 1 | 1 | 554 |  740 | 150 | EWR | ORD |\n",
       "\n"
      ],
      "text/plain": [
       "  year month day dep_time arr_time air_time origin dest\n",
       "1 2013 1     1   517       830     227      EWR    IAH \n",
       "2 2013 1     1   533       850     227      LGA    IAH \n",
       "3 2013 1     1   542       923     160      JFK    MIA \n",
       "4 2013 1     1   544      1004     183      JFK    BQN \n",
       "5 2013 1     1   554       812     116      LGA    ATL \n",
       "6 2013 1     1   554       740     150      EWR    ORD "
      ]
     },
     "metadata": {},
     "output_type": "display_data"
    }
   ],
   "source": [
    "my_flights <- select(flights, year:day, dep_time, arr_time, air_time, origin, dest)\n",
    "head(my_flights)"
   ]
  },
  {
   "cell_type": "markdown",
   "metadata": {},
   "source": [
    "Use `%>%` to create the table above. "
   ]
  },
  {
   "cell_type": "code",
   "execution_count": 5,
   "metadata": {},
   "outputs": [
    {
     "data": {
      "text/html": [
       "<table>\n",
       "<caption>A tibble: 6 × 8</caption>\n",
       "<thead>\n",
       "\t<tr><th scope=col>year</th><th scope=col>month</th><th scope=col>day</th><th scope=col>dep_time</th><th scope=col>arr_time</th><th scope=col>air_time</th><th scope=col>origin</th><th scope=col>dest</th></tr>\n",
       "\t<tr><th scope=col>&lt;int&gt;</th><th scope=col>&lt;int&gt;</th><th scope=col>&lt;int&gt;</th><th scope=col>&lt;int&gt;</th><th scope=col>&lt;int&gt;</th><th scope=col>&lt;dbl&gt;</th><th scope=col>&lt;chr&gt;</th><th scope=col>&lt;chr&gt;</th></tr>\n",
       "</thead>\n",
       "<tbody>\n",
       "\t<tr><td>2013</td><td>1</td><td>1</td><td>517</td><td> 830</td><td>227</td><td>EWR</td><td>IAH</td></tr>\n",
       "\t<tr><td>2013</td><td>1</td><td>1</td><td>533</td><td> 850</td><td>227</td><td>LGA</td><td>IAH</td></tr>\n",
       "\t<tr><td>2013</td><td>1</td><td>1</td><td>542</td><td> 923</td><td>160</td><td>JFK</td><td>MIA</td></tr>\n",
       "\t<tr><td>2013</td><td>1</td><td>1</td><td>544</td><td>1004</td><td>183</td><td>JFK</td><td>BQN</td></tr>\n",
       "\t<tr><td>2013</td><td>1</td><td>1</td><td>554</td><td> 812</td><td>116</td><td>LGA</td><td>ATL</td></tr>\n",
       "\t<tr><td>2013</td><td>1</td><td>1</td><td>554</td><td> 740</td><td>150</td><td>EWR</td><td>ORD</td></tr>\n",
       "</tbody>\n",
       "</table>\n"
      ],
      "text/latex": [
       "A tibble: 6 × 8\n",
       "\\begin{tabular}{llllllll}\n",
       " year & month & day & dep\\_time & arr\\_time & air\\_time & origin & dest\\\\\n",
       " <int> & <int> & <int> & <int> & <int> & <dbl> & <chr> & <chr>\\\\\n",
       "\\hline\n",
       "\t 2013 & 1 & 1 & 517 &  830 & 227 & EWR & IAH\\\\\n",
       "\t 2013 & 1 & 1 & 533 &  850 & 227 & LGA & IAH\\\\\n",
       "\t 2013 & 1 & 1 & 542 &  923 & 160 & JFK & MIA\\\\\n",
       "\t 2013 & 1 & 1 & 544 & 1004 & 183 & JFK & BQN\\\\\n",
       "\t 2013 & 1 & 1 & 554 &  812 & 116 & LGA & ATL\\\\\n",
       "\t 2013 & 1 & 1 & 554 &  740 & 150 & EWR & ORD\\\\\n",
       "\\end{tabular}\n"
      ],
      "text/markdown": [
       "\n",
       "A tibble: 6 × 8\n",
       "\n",
       "| year &lt;int&gt; | month &lt;int&gt; | day &lt;int&gt; | dep_time &lt;int&gt; | arr_time &lt;int&gt; | air_time &lt;dbl&gt; | origin &lt;chr&gt; | dest &lt;chr&gt; |\n",
       "|---|---|---|---|---|---|---|---|\n",
       "| 2013 | 1 | 1 | 517 |  830 | 227 | EWR | IAH |\n",
       "| 2013 | 1 | 1 | 533 |  850 | 227 | LGA | IAH |\n",
       "| 2013 | 1 | 1 | 542 |  923 | 160 | JFK | MIA |\n",
       "| 2013 | 1 | 1 | 544 | 1004 | 183 | JFK | BQN |\n",
       "| 2013 | 1 | 1 | 554 |  812 | 116 | LGA | ATL |\n",
       "| 2013 | 1 | 1 | 554 |  740 | 150 | EWR | ORD |\n",
       "\n"
      ],
      "text/plain": [
       "  year month day dep_time arr_time air_time origin dest\n",
       "1 2013 1     1   517       830     227      EWR    IAH \n",
       "2 2013 1     1   533       850     227      LGA    IAH \n",
       "3 2013 1     1   542       923     160      JFK    MIA \n",
       "4 2013 1     1   544      1004     183      JFK    BQN \n",
       "5 2013 1     1   554       812     116      LGA    ATL \n",
       "6 2013 1     1   554       740     150      EWR    ORD "
      ]
     },
     "metadata": {},
     "output_type": "display_data"
    }
   ],
   "source": [
    "flights %>% select(year:day, dep_time, arr_time, air_time, origin, dest) %>% head()\n",
    "\n"
   ]
  },
  {
   "cell_type": "markdown",
   "metadata": {},
   "source": [
    "Additional variable can be added using the `mutate()` function. We already have an `air_time` variable. Let us compute the total time for the flight by subtracting the time of departure `dep_time` from time of arrival `arr_time`."
   ]
  },
  {
   "cell_type": "code",
   "execution_count": 6,
   "metadata": {},
   "outputs": [
    {
     "data": {
      "text/html": [
       "<table>\n",
       "<caption>A tibble: 6 × 9</caption>\n",
       "<thead>\n",
       "\t<tr><th scope=col>year</th><th scope=col>month</th><th scope=col>day</th><th scope=col>dep_time</th><th scope=col>arr_time</th><th scope=col>air_time</th><th scope=col>origin</th><th scope=col>dest</th><th scope=col>total_time</th></tr>\n",
       "\t<tr><th scope=col>&lt;int&gt;</th><th scope=col>&lt;int&gt;</th><th scope=col>&lt;int&gt;</th><th scope=col>&lt;int&gt;</th><th scope=col>&lt;int&gt;</th><th scope=col>&lt;dbl&gt;</th><th scope=col>&lt;chr&gt;</th><th scope=col>&lt;chr&gt;</th><th scope=col>&lt;int&gt;</th></tr>\n",
       "</thead>\n",
       "<tbody>\n",
       "\t<tr><td>2013</td><td>1</td><td>1</td><td>517</td><td> 830</td><td>227</td><td>EWR</td><td>IAH</td><td>313</td></tr>\n",
       "\t<tr><td>2013</td><td>1</td><td>1</td><td>533</td><td> 850</td><td>227</td><td>LGA</td><td>IAH</td><td>317</td></tr>\n",
       "\t<tr><td>2013</td><td>1</td><td>1</td><td>542</td><td> 923</td><td>160</td><td>JFK</td><td>MIA</td><td>381</td></tr>\n",
       "\t<tr><td>2013</td><td>1</td><td>1</td><td>544</td><td>1004</td><td>183</td><td>JFK</td><td>BQN</td><td>460</td></tr>\n",
       "\t<tr><td>2013</td><td>1</td><td>1</td><td>554</td><td> 812</td><td>116</td><td>LGA</td><td>ATL</td><td>258</td></tr>\n",
       "\t<tr><td>2013</td><td>1</td><td>1</td><td>554</td><td> 740</td><td>150</td><td>EWR</td><td>ORD</td><td>186</td></tr>\n",
       "</tbody>\n",
       "</table>\n"
      ],
      "text/latex": [
       "A tibble: 6 × 9\n",
       "\\begin{tabular}{lllllllll}\n",
       " year & month & day & dep\\_time & arr\\_time & air\\_time & origin & dest & total\\_time\\\\\n",
       " <int> & <int> & <int> & <int> & <int> & <dbl> & <chr> & <chr> & <int>\\\\\n",
       "\\hline\n",
       "\t 2013 & 1 & 1 & 517 &  830 & 227 & EWR & IAH & 313\\\\\n",
       "\t 2013 & 1 & 1 & 533 &  850 & 227 & LGA & IAH & 317\\\\\n",
       "\t 2013 & 1 & 1 & 542 &  923 & 160 & JFK & MIA & 381\\\\\n",
       "\t 2013 & 1 & 1 & 544 & 1004 & 183 & JFK & BQN & 460\\\\\n",
       "\t 2013 & 1 & 1 & 554 &  812 & 116 & LGA & ATL & 258\\\\\n",
       "\t 2013 & 1 & 1 & 554 &  740 & 150 & EWR & ORD & 186\\\\\n",
       "\\end{tabular}\n"
      ],
      "text/markdown": [
       "\n",
       "A tibble: 6 × 9\n",
       "\n",
       "| year &lt;int&gt; | month &lt;int&gt; | day &lt;int&gt; | dep_time &lt;int&gt; | arr_time &lt;int&gt; | air_time &lt;dbl&gt; | origin &lt;chr&gt; | dest &lt;chr&gt; | total_time &lt;int&gt; |\n",
       "|---|---|---|---|---|---|---|---|---|\n",
       "| 2013 | 1 | 1 | 517 |  830 | 227 | EWR | IAH | 313 |\n",
       "| 2013 | 1 | 1 | 533 |  850 | 227 | LGA | IAH | 317 |\n",
       "| 2013 | 1 | 1 | 542 |  923 | 160 | JFK | MIA | 381 |\n",
       "| 2013 | 1 | 1 | 544 | 1004 | 183 | JFK | BQN | 460 |\n",
       "| 2013 | 1 | 1 | 554 |  812 | 116 | LGA | ATL | 258 |\n",
       "| 2013 | 1 | 1 | 554 |  740 | 150 | EWR | ORD | 186 |\n",
       "\n"
      ],
      "text/plain": [
       "  year month day dep_time arr_time air_time origin dest total_time\n",
       "1 2013 1     1   517       830     227      EWR    IAH  313       \n",
       "2 2013 1     1   533       850     227      LGA    IAH  317       \n",
       "3 2013 1     1   542       923     160      JFK    MIA  381       \n",
       "4 2013 1     1   544      1004     183      JFK    BQN  460       \n",
       "5 2013 1     1   554       812     116      LGA    ATL  258       \n",
       "6 2013 1     1   554       740     150      EWR    ORD  186       "
      ]
     },
     "metadata": {},
     "output_type": "display_data"
    }
   ],
   "source": [
    "mutate(my_flights, total_time = arr_time - dep_time) %>%\n",
    "    head()"
   ]
  },
  {
   "cell_type": "markdown",
   "metadata": {},
   "source": [
    "Another way to do the same thing is by using `%>%` twice."
   ]
  },
  {
   "cell_type": "code",
   "execution_count": 7,
   "metadata": {},
   "outputs": [
    {
     "data": {
      "text/html": [
       "<table>\n",
       "<caption>A tibble: 6 × 9</caption>\n",
       "<thead>\n",
       "\t<tr><th scope=col>year</th><th scope=col>month</th><th scope=col>day</th><th scope=col>dep_time</th><th scope=col>arr_time</th><th scope=col>air_time</th><th scope=col>origin</th><th scope=col>dest</th><th scope=col>total_time</th></tr>\n",
       "\t<tr><th scope=col>&lt;int&gt;</th><th scope=col>&lt;int&gt;</th><th scope=col>&lt;int&gt;</th><th scope=col>&lt;int&gt;</th><th scope=col>&lt;int&gt;</th><th scope=col>&lt;dbl&gt;</th><th scope=col>&lt;chr&gt;</th><th scope=col>&lt;chr&gt;</th><th scope=col>&lt;int&gt;</th></tr>\n",
       "</thead>\n",
       "<tbody>\n",
       "\t<tr><td>2013</td><td>1</td><td>1</td><td>517</td><td> 830</td><td>227</td><td>EWR</td><td>IAH</td><td>313</td></tr>\n",
       "\t<tr><td>2013</td><td>1</td><td>1</td><td>533</td><td> 850</td><td>227</td><td>LGA</td><td>IAH</td><td>317</td></tr>\n",
       "\t<tr><td>2013</td><td>1</td><td>1</td><td>542</td><td> 923</td><td>160</td><td>JFK</td><td>MIA</td><td>381</td></tr>\n",
       "\t<tr><td>2013</td><td>1</td><td>1</td><td>544</td><td>1004</td><td>183</td><td>JFK</td><td>BQN</td><td>460</td></tr>\n",
       "\t<tr><td>2013</td><td>1</td><td>1</td><td>554</td><td> 812</td><td>116</td><td>LGA</td><td>ATL</td><td>258</td></tr>\n",
       "\t<tr><td>2013</td><td>1</td><td>1</td><td>554</td><td> 740</td><td>150</td><td>EWR</td><td>ORD</td><td>186</td></tr>\n",
       "</tbody>\n",
       "</table>\n"
      ],
      "text/latex": [
       "A tibble: 6 × 9\n",
       "\\begin{tabular}{lllllllll}\n",
       " year & month & day & dep\\_time & arr\\_time & air\\_time & origin & dest & total\\_time\\\\\n",
       " <int> & <int> & <int> & <int> & <int> & <dbl> & <chr> & <chr> & <int>\\\\\n",
       "\\hline\n",
       "\t 2013 & 1 & 1 & 517 &  830 & 227 & EWR & IAH & 313\\\\\n",
       "\t 2013 & 1 & 1 & 533 &  850 & 227 & LGA & IAH & 317\\\\\n",
       "\t 2013 & 1 & 1 & 542 &  923 & 160 & JFK & MIA & 381\\\\\n",
       "\t 2013 & 1 & 1 & 544 & 1004 & 183 & JFK & BQN & 460\\\\\n",
       "\t 2013 & 1 & 1 & 554 &  812 & 116 & LGA & ATL & 258\\\\\n",
       "\t 2013 & 1 & 1 & 554 &  740 & 150 & EWR & ORD & 186\\\\\n",
       "\\end{tabular}\n"
      ],
      "text/markdown": [
       "\n",
       "A tibble: 6 × 9\n",
       "\n",
       "| year &lt;int&gt; | month &lt;int&gt; | day &lt;int&gt; | dep_time &lt;int&gt; | arr_time &lt;int&gt; | air_time &lt;dbl&gt; | origin &lt;chr&gt; | dest &lt;chr&gt; | total_time &lt;int&gt; |\n",
       "|---|---|---|---|---|---|---|---|---|\n",
       "| 2013 | 1 | 1 | 517 |  830 | 227 | EWR | IAH | 313 |\n",
       "| 2013 | 1 | 1 | 533 |  850 | 227 | LGA | IAH | 317 |\n",
       "| 2013 | 1 | 1 | 542 |  923 | 160 | JFK | MIA | 381 |\n",
       "| 2013 | 1 | 1 | 544 | 1004 | 183 | JFK | BQN | 460 |\n",
       "| 2013 | 1 | 1 | 554 |  812 | 116 | LGA | ATL | 258 |\n",
       "| 2013 | 1 | 1 | 554 |  740 | 150 | EWR | ORD | 186 |\n",
       "\n"
      ],
      "text/plain": [
       "  year month day dep_time arr_time air_time origin dest total_time\n",
       "1 2013 1     1   517       830     227      EWR    IAH  313       \n",
       "2 2013 1     1   533       850     227      LGA    IAH  317       \n",
       "3 2013 1     1   542       923     160      JFK    MIA  381       \n",
       "4 2013 1     1   544      1004     183      JFK    BQN  460       \n",
       "5 2013 1     1   554       812     116      LGA    ATL  258       \n",
       "6 2013 1     1   554       740     150      EWR    ORD  186       "
      ]
     },
     "metadata": {},
     "output_type": "display_data"
    }
   ],
   "source": [
    "flights %>% mutate(total_time = arr_time - dep_time) %>% \n",
    "            select(year, month, day, dep_time, arr_time, air_time, origin, dest, total_time) %>% head()"
   ]
  },
  {
   "cell_type": "markdown",
   "metadata": {},
   "source": [
    "We notice something odd though. When we subtract 5h 17m from 8h 30m we should get 3h 13m, i.e. 193 minutes. But instead we get 313 minutes below.\n",
    "\n",
    "The issue is that `dep_time` and `arr_time` are in the hour-minute notation, so you cannot add and subtract them like regular numbers. We should first convert these times into the number of minutes elapsed since midnight.\n",
    "\n",
    "We want add to new variables `new_dep` and `new_arr` but we need to write a function first that can do the conversion. The function is given below; we'll learn how it works later in the semester. For now just think of it as a black box that converts times from one format to another."
   ]
  },
  {
   "cell_type": "code",
   "execution_count": 8,
   "metadata": {},
   "outputs": [],
   "source": [
    "hourmin2min <- function(hourmin) {\n",
    "    min <- hourmin %% 100 # quotient after division by 100\n",
    "    hour <- (hourmin - min) %/% 100 # remainder after division by 100\n",
    "    return(60*hour + min)\n",
    "} "
   ]
  },
  {
   "cell_type": "markdown",
   "metadata": {},
   "source": [
    "Let us test the function on 530. That's 5h 30min, i.e., 330 minutes since midnight."
   ]
  },
  {
   "cell_type": "code",
   "execution_count": 9,
   "metadata": {},
   "outputs": [
    {
     "data": {
      "text/html": [
       "330"
      ],
      "text/latex": [
       "330"
      ],
      "text/markdown": [
       "330"
      ],
      "text/plain": [
       "[1] 330"
      ]
     },
     "metadata": {},
     "output_type": "display_data"
    }
   ],
   "source": [
    "hourmin2min(530)"
   ]
  },
  {
   "cell_type": "markdown",
   "metadata": {},
   "source": [
    "The `hourmin2min` function is _vectorized_: given a vector, it outputs a vector."
   ]
  },
  {
   "cell_type": "code",
   "execution_count": 10,
   "metadata": {},
   "outputs": [
    {
     "data": {
      "text/html": [
       "<style>\n",
       ".list-inline {list-style: none; margin:0; padding: 0}\n",
       ".list-inline>li {display: inline-block}\n",
       ".list-inline>li:not(:last-child)::after {content: \"\\00b7\"; padding: 0 .5ex}\n",
       "</style>\n",
       "<ol class=list-inline><li>270</li><li>330</li><li>390</li><li>450</li></ol>\n"
      ],
      "text/latex": [
       "\\begin{enumerate*}\n",
       "\\item 270\n",
       "\\item 330\n",
       "\\item 390\n",
       "\\item 450\n",
       "\\end{enumerate*}\n"
      ],
      "text/markdown": [
       "1. 270\n",
       "2. 330\n",
       "3. 390\n",
       "4. 450\n",
       "\n",
       "\n"
      ],
      "text/plain": [
       "[1] 270 330 390 450"
      ]
     },
     "metadata": {},
     "output_type": "display_data"
    }
   ],
   "source": [
    "hourmin2min(c(430,530,630,730))"
   ]
  },
  {
   "cell_type": "markdown",
   "metadata": {},
   "source": [
    "Let us now create two new variables obtained from `arr_time` and `dep_time` by converting them into minutes since midnight. In the same command, we can also create a new `total_time` column containing their difference."
   ]
  },
  {
   "cell_type": "code",
   "execution_count": 11,
   "metadata": {},
   "outputs": [
    {
     "data": {
      "text/html": [
       "<table>\n",
       "<caption>A tibble: 6 × 10</caption>\n",
       "<thead>\n",
       "\t<tr><th scope=col>year</th><th scope=col>month</th><th scope=col>day</th><th scope=col>dep_time</th><th scope=col>arr_time</th><th scope=col>air_time</th><th scope=col>origin</th><th scope=col>dest</th><th scope=col>new_arr</th><th scope=col>new_dep</th></tr>\n",
       "\t<tr><th scope=col>&lt;int&gt;</th><th scope=col>&lt;int&gt;</th><th scope=col>&lt;int&gt;</th><th scope=col>&lt;int&gt;</th><th scope=col>&lt;int&gt;</th><th scope=col>&lt;dbl&gt;</th><th scope=col>&lt;chr&gt;</th><th scope=col>&lt;chr&gt;</th><th scope=col>&lt;dbl&gt;</th><th scope=col>&lt;dbl&gt;</th></tr>\n",
       "</thead>\n",
       "<tbody>\n",
       "\t<tr><td>2013</td><td>1</td><td>1</td><td>517</td><td> 830</td><td>227</td><td>EWR</td><td>IAH</td><td>510</td><td>317</td></tr>\n",
       "\t<tr><td>2013</td><td>1</td><td>1</td><td>533</td><td> 850</td><td>227</td><td>LGA</td><td>IAH</td><td>530</td><td>333</td></tr>\n",
       "\t<tr><td>2013</td><td>1</td><td>1</td><td>542</td><td> 923</td><td>160</td><td>JFK</td><td>MIA</td><td>563</td><td>342</td></tr>\n",
       "\t<tr><td>2013</td><td>1</td><td>1</td><td>544</td><td>1004</td><td>183</td><td>JFK</td><td>BQN</td><td>604</td><td>344</td></tr>\n",
       "\t<tr><td>2013</td><td>1</td><td>1</td><td>554</td><td> 812</td><td>116</td><td>LGA</td><td>ATL</td><td>492</td><td>354</td></tr>\n",
       "\t<tr><td>2013</td><td>1</td><td>1</td><td>554</td><td> 740</td><td>150</td><td>EWR</td><td>ORD</td><td>460</td><td>354</td></tr>\n",
       "</tbody>\n",
       "</table>\n"
      ],
      "text/latex": [
       "A tibble: 6 × 10\n",
       "\\begin{tabular}{llllllllll}\n",
       " year & month & day & dep\\_time & arr\\_time & air\\_time & origin & dest & new\\_arr & new\\_dep\\\\\n",
       " <int> & <int> & <int> & <int> & <int> & <dbl> & <chr> & <chr> & <dbl> & <dbl>\\\\\n",
       "\\hline\n",
       "\t 2013 & 1 & 1 & 517 &  830 & 227 & EWR & IAH & 510 & 317\\\\\n",
       "\t 2013 & 1 & 1 & 533 &  850 & 227 & LGA & IAH & 530 & 333\\\\\n",
       "\t 2013 & 1 & 1 & 542 &  923 & 160 & JFK & MIA & 563 & 342\\\\\n",
       "\t 2013 & 1 & 1 & 544 & 1004 & 183 & JFK & BQN & 604 & 344\\\\\n",
       "\t 2013 & 1 & 1 & 554 &  812 & 116 & LGA & ATL & 492 & 354\\\\\n",
       "\t 2013 & 1 & 1 & 554 &  740 & 150 & EWR & ORD & 460 & 354\\\\\n",
       "\\end{tabular}\n"
      ],
      "text/markdown": [
       "\n",
       "A tibble: 6 × 10\n",
       "\n",
       "| year &lt;int&gt; | month &lt;int&gt; | day &lt;int&gt; | dep_time &lt;int&gt; | arr_time &lt;int&gt; | air_time &lt;dbl&gt; | origin &lt;chr&gt; | dest &lt;chr&gt; | new_arr &lt;dbl&gt; | new_dep &lt;dbl&gt; |\n",
       "|---|---|---|---|---|---|---|---|---|---|\n",
       "| 2013 | 1 | 1 | 517 |  830 | 227 | EWR | IAH | 510 | 317 |\n",
       "| 2013 | 1 | 1 | 533 |  850 | 227 | LGA | IAH | 530 | 333 |\n",
       "| 2013 | 1 | 1 | 542 |  923 | 160 | JFK | MIA | 563 | 342 |\n",
       "| 2013 | 1 | 1 | 544 | 1004 | 183 | JFK | BQN | 604 | 344 |\n",
       "| 2013 | 1 | 1 | 554 |  812 | 116 | LGA | ATL | 492 | 354 |\n",
       "| 2013 | 1 | 1 | 554 |  740 | 150 | EWR | ORD | 460 | 354 |\n",
       "\n"
      ],
      "text/plain": [
       "  year month day dep_time arr_time air_time origin dest new_arr new_dep\n",
       "1 2013 1     1   517       830     227      EWR    IAH  510     317    \n",
       "2 2013 1     1   533       850     227      LGA    IAH  530     333    \n",
       "3 2013 1     1   542       923     160      JFK    MIA  563     342    \n",
       "4 2013 1     1   544      1004     183      JFK    BQN  604     344    \n",
       "5 2013 1     1   554       812     116      LGA    ATL  492     354    \n",
       "6 2013 1     1   554       740     150      EWR    ORD  460     354    "
      ]
     },
     "metadata": {},
     "output_type": "display_data"
    }
   ],
   "source": [
    "my_flights_new <- mutate(my_flights, new_arr = hourmin2min(arr_time), new_dep = hourmin2min(dep_time))\n",
    "head(my_flights_new)"
   ]
  },
  {
   "cell_type": "markdown",
   "metadata": {},
   "source": [
    "Now we can subtract the departure time `new_dep` from the arrival time `new_arr` to get a new variable `total_time`."
   ]
  },
  {
   "cell_type": "code",
   "execution_count": 12,
   "metadata": {},
   "outputs": [
    {
     "data": {
      "text/html": [
       "<table>\n",
       "<caption>A tibble: 6 × 11</caption>\n",
       "<thead>\n",
       "\t<tr><th scope=col>year</th><th scope=col>month</th><th scope=col>day</th><th scope=col>dep_time</th><th scope=col>arr_time</th><th scope=col>air_time</th><th scope=col>origin</th><th scope=col>dest</th><th scope=col>new_arr</th><th scope=col>new_dep</th><th scope=col>total_time</th></tr>\n",
       "\t<tr><th scope=col>&lt;int&gt;</th><th scope=col>&lt;int&gt;</th><th scope=col>&lt;int&gt;</th><th scope=col>&lt;int&gt;</th><th scope=col>&lt;int&gt;</th><th scope=col>&lt;dbl&gt;</th><th scope=col>&lt;chr&gt;</th><th scope=col>&lt;chr&gt;</th><th scope=col>&lt;dbl&gt;</th><th scope=col>&lt;dbl&gt;</th><th scope=col>&lt;dbl&gt;</th></tr>\n",
       "</thead>\n",
       "<tbody>\n",
       "\t<tr><td>2013</td><td>1</td><td>1</td><td>517</td><td> 830</td><td>227</td><td>EWR</td><td>IAH</td><td>510</td><td>317</td><td>193</td></tr>\n",
       "\t<tr><td>2013</td><td>1</td><td>1</td><td>533</td><td> 850</td><td>227</td><td>LGA</td><td>IAH</td><td>530</td><td>333</td><td>197</td></tr>\n",
       "\t<tr><td>2013</td><td>1</td><td>1</td><td>542</td><td> 923</td><td>160</td><td>JFK</td><td>MIA</td><td>563</td><td>342</td><td>221</td></tr>\n",
       "\t<tr><td>2013</td><td>1</td><td>1</td><td>544</td><td>1004</td><td>183</td><td>JFK</td><td>BQN</td><td>604</td><td>344</td><td>260</td></tr>\n",
       "\t<tr><td>2013</td><td>1</td><td>1</td><td>554</td><td> 812</td><td>116</td><td>LGA</td><td>ATL</td><td>492</td><td>354</td><td>138</td></tr>\n",
       "\t<tr><td>2013</td><td>1</td><td>1</td><td>554</td><td> 740</td><td>150</td><td>EWR</td><td>ORD</td><td>460</td><td>354</td><td>106</td></tr>\n",
       "</tbody>\n",
       "</table>\n"
      ],
      "text/latex": [
       "A tibble: 6 × 11\n",
       "\\begin{tabular}{lllllllllll}\n",
       " year & month & day & dep\\_time & arr\\_time & air\\_time & origin & dest & new\\_arr & new\\_dep & total\\_time\\\\\n",
       " <int> & <int> & <int> & <int> & <int> & <dbl> & <chr> & <chr> & <dbl> & <dbl> & <dbl>\\\\\n",
       "\\hline\n",
       "\t 2013 & 1 & 1 & 517 &  830 & 227 & EWR & IAH & 510 & 317 & 193\\\\\n",
       "\t 2013 & 1 & 1 & 533 &  850 & 227 & LGA & IAH & 530 & 333 & 197\\\\\n",
       "\t 2013 & 1 & 1 & 542 &  923 & 160 & JFK & MIA & 563 & 342 & 221\\\\\n",
       "\t 2013 & 1 & 1 & 544 & 1004 & 183 & JFK & BQN & 604 & 344 & 260\\\\\n",
       "\t 2013 & 1 & 1 & 554 &  812 & 116 & LGA & ATL & 492 & 354 & 138\\\\\n",
       "\t 2013 & 1 & 1 & 554 &  740 & 150 & EWR & ORD & 460 & 354 & 106\\\\\n",
       "\\end{tabular}\n"
      ],
      "text/markdown": [
       "\n",
       "A tibble: 6 × 11\n",
       "\n",
       "| year &lt;int&gt; | month &lt;int&gt; | day &lt;int&gt; | dep_time &lt;int&gt; | arr_time &lt;int&gt; | air_time &lt;dbl&gt; | origin &lt;chr&gt; | dest &lt;chr&gt; | new_arr &lt;dbl&gt; | new_dep &lt;dbl&gt; | total_time &lt;dbl&gt; |\n",
       "|---|---|---|---|---|---|---|---|---|---|---|\n",
       "| 2013 | 1 | 1 | 517 |  830 | 227 | EWR | IAH | 510 | 317 | 193 |\n",
       "| 2013 | 1 | 1 | 533 |  850 | 227 | LGA | IAH | 530 | 333 | 197 |\n",
       "| 2013 | 1 | 1 | 542 |  923 | 160 | JFK | MIA | 563 | 342 | 221 |\n",
       "| 2013 | 1 | 1 | 544 | 1004 | 183 | JFK | BQN | 604 | 344 | 260 |\n",
       "| 2013 | 1 | 1 | 554 |  812 | 116 | LGA | ATL | 492 | 354 | 138 |\n",
       "| 2013 | 1 | 1 | 554 |  740 | 150 | EWR | ORD | 460 | 354 | 106 |\n",
       "\n"
      ],
      "text/plain": [
       "  year month day dep_time arr_time air_time origin dest new_arr new_dep\n",
       "1 2013 1     1   517       830     227      EWR    IAH  510     317    \n",
       "2 2013 1     1   533       850     227      LGA    IAH  530     333    \n",
       "3 2013 1     1   542       923     160      JFK    MIA  563     342    \n",
       "4 2013 1     1   544      1004     183      JFK    BQN  604     344    \n",
       "5 2013 1     1   554       812     116      LGA    ATL  492     354    \n",
       "6 2013 1     1   554       740     150      EWR    ORD  460     354    \n",
       "  total_time\n",
       "1 193       \n",
       "2 197       \n",
       "3 221       \n",
       "4 260       \n",
       "5 138       \n",
       "6 106       "
      ]
     },
     "metadata": {},
     "output_type": "display_data"
    }
   ],
   "source": [
    "my_flights_total <- mutate(my_flights_new, total_time = new_arr - new_dep)\n",
    "head(my_flights_total)"
   ]
  },
  {
   "cell_type": "markdown",
   "metadata": {},
   "source": [
    "Let us try to do the same thing using pipe just using one line of code.  In this code, we are only interested in the following variables -- `dep_time`, `arr_time`, `new_dep`, `new_arr`, and `total_time`.  "
   ]
  },
  {
   "cell_type": "code",
   "execution_count": 13,
   "metadata": {
    "scrolled": true
   },
   "outputs": [
    {
     "data": {
      "text/html": [
       "<table>\n",
       "<caption>A tibble: 6 × 5</caption>\n",
       "<thead>\n",
       "\t<tr><th scope=col>dep_time</th><th scope=col>arr_time</th><th scope=col>new_dep</th><th scope=col>new_arr</th><th scope=col>total_time</th></tr>\n",
       "\t<tr><th scope=col>&lt;int&gt;</th><th scope=col>&lt;int&gt;</th><th scope=col>&lt;dbl&gt;</th><th scope=col>&lt;dbl&gt;</th><th scope=col>&lt;dbl&gt;</th></tr>\n",
       "</thead>\n",
       "<tbody>\n",
       "\t<tr><td>517</td><td> 830</td><td>317</td><td>510</td><td>193</td></tr>\n",
       "\t<tr><td>533</td><td> 850</td><td>333</td><td>530</td><td>197</td></tr>\n",
       "\t<tr><td>542</td><td> 923</td><td>342</td><td>563</td><td>221</td></tr>\n",
       "\t<tr><td>544</td><td>1004</td><td>344</td><td>604</td><td>260</td></tr>\n",
       "\t<tr><td>554</td><td> 812</td><td>354</td><td>492</td><td>138</td></tr>\n",
       "\t<tr><td>554</td><td> 740</td><td>354</td><td>460</td><td>106</td></tr>\n",
       "</tbody>\n",
       "</table>\n"
      ],
      "text/latex": [
       "A tibble: 6 × 5\n",
       "\\begin{tabular}{lllll}\n",
       " dep\\_time & arr\\_time & new\\_dep & new\\_arr & total\\_time\\\\\n",
       " <int> & <int> & <dbl> & <dbl> & <dbl>\\\\\n",
       "\\hline\n",
       "\t 517 &  830 & 317 & 510 & 193\\\\\n",
       "\t 533 &  850 & 333 & 530 & 197\\\\\n",
       "\t 542 &  923 & 342 & 563 & 221\\\\\n",
       "\t 544 & 1004 & 344 & 604 & 260\\\\\n",
       "\t 554 &  812 & 354 & 492 & 138\\\\\n",
       "\t 554 &  740 & 354 & 460 & 106\\\\\n",
       "\\end{tabular}\n"
      ],
      "text/markdown": [
       "\n",
       "A tibble: 6 × 5\n",
       "\n",
       "| dep_time &lt;int&gt; | arr_time &lt;int&gt; | new_dep &lt;dbl&gt; | new_arr &lt;dbl&gt; | total_time &lt;dbl&gt; |\n",
       "|---|---|---|---|---|\n",
       "| 517 |  830 | 317 | 510 | 193 |\n",
       "| 533 |  850 | 333 | 530 | 197 |\n",
       "| 542 |  923 | 342 | 563 | 221 |\n",
       "| 544 | 1004 | 344 | 604 | 260 |\n",
       "| 554 |  812 | 354 | 492 | 138 |\n",
       "| 554 |  740 | 354 | 460 | 106 |\n",
       "\n"
      ],
      "text/plain": [
       "  dep_time arr_time new_dep new_arr total_time\n",
       "1 517       830     317     510     193       \n",
       "2 533       850     333     530     197       \n",
       "3 542       923     342     563     221       \n",
       "4 544      1004     344     604     260       \n",
       "5 554       812     354     492     138       \n",
       "6 554       740     354     460     106       "
      ]
     },
     "metadata": {},
     "output_type": "display_data"
    }
   ],
   "source": [
    " mutate(flights, new_arr = hourmin2min(arr_time), new_dep = hourmin2min(dep_time),total_time = new_arr - new_dep\n",
    ") %>% select(dep_time, arr_time, new_dep, new_arr, total_time) %>% head()"
   ]
  },
  {
   "cell_type": "markdown",
   "metadata": {},
   "source": [
    "We can even plot the data by adding a `ggplot` command at the end after manipulating your data.\n",
    "\n",
    "Let's try to create a table for each month with the mean delay time.  Then plot a barchart for each month.  "
   ]
  },
  {
   "cell_type": "code",
   "execution_count": 8,
   "metadata": {},
   "outputs": [
    {
     "name": "stderr",
     "output_type": "stream",
     "text": [
      "`summarise()` ungrouping output (override with `.groups` argument)\n",
      "\n"
     ]
    },
    {
     "data": {
      "image/png": "[encoded data removed]",
      "text/plain": [
       "plot without title"
      ]
     },
     "metadata": {
      "image/png": {
       "height": 420,
       "width": 420
      }
     },
     "output_type": "display_data"
    }
   ],
   "source": [
    "group_by(flights, month) %>%\n",
    "    summarize(delay = mean(dep_delay, na.rm = TRUE)) %>%\n",
    "    ggplot() +\n",
    "        geom_bar(mapping = aes(x=factor(month), y=delay), stat = \"identity\") +\n",
    "        labs(x = \"month\", y = \"average delay (in minutes)\")"
   ]
  },
  {
   "cell_type": "markdown",
   "metadata": {},
   "source": [
    "How about a bar chart of mean arrival delay by destination airport for the top 10 airports that have the highest traffic volume?  We will use `group_by`, `summarize`, `arrange`, `slice`, and `ggplot`."
   ]
  },
  {
   "cell_type": "code",
   "execution_count": 62,
   "metadata": {},
   "outputs": [
    {
     "name": "stderr",
     "output_type": "stream",
     "text": [
      "`summarise()` ungrouping output (override with `.groups` argument)\n",
      "\n"
     ]
    },
    {
     "data": {
      "image/png": "[encoded data removed]",
      "text/plain": [
       "plot without title"
      ]
     },
     "metadata": {
      "image/png": {
       "height": 420,
       "width": 420
      }
     },
     "output_type": "display_data"
    }
   ],
   "source": [
    "group_by(flights, dest) %>%\n",
    "    summarize(\n",
    "                mean_delay = mean(arr_delay, na.rm=TRUE),\n",
    "                count = n()\n",
    "            ) %>%\n",
    "    arrange(desc(count)) %>%\n",
    "    slice(1:10) %>%\n",
    "    ggplot() +\n",
    "        geom_bar(mapping = aes(x = dest, y = mean_delay), stat = \"identity\") +\n",
    "        xlab(\"destination airport\") +\n",
    "        ylab(\"average arrival delay in minutes\")"
   ]
  },
  {
   "cell_type": "markdown",
   "metadata": {},
   "source": [
    "Now, let us try to get a scatter plot of airport distance vs average arrival delay after grouping by destination airport? We will also superimpose the scatter plot with a smoothed plot"
   ]
  },
  {
   "cell_type": "code",
   "execution_count": 11,
   "metadata": {
    "scrolled": true
   },
   "outputs": [
    {
     "name": "stderr",
     "output_type": "stream",
     "text": [
      "`summarise()` ungrouping output (override with `.groups` argument)\n",
      "\n",
      "`geom_smooth()` using method = 'loess' and formula 'y ~ x'\n",
      "\n",
      "Warning message:\n",
      "“Removed 1 rows containing non-finite values (stat_smooth).”\n",
      "Warning message:\n",
      "“Removed 1 rows containing missing values (geom_point).”\n"
     ]
    },
    {
     "data": {
      "image/png": "[encoded data removed]",
      "text/plain": [
       "plot without title"
      ]
     },
     "metadata": {
      "image/png": {
       "height": 420,
       "width": 420
      }
     },
     "output_type": "display_data"
    }
   ],
   "source": [
    "group_by(flights, dest) %>%\n",
    "    summarize(\n",
    "                mean_distance = mean(distance, na.rm=TRUE),\n",
    "                mean_delay = mean(arr_delay, na.rm=TRUE)\n",
    "            ) %>%\n",
    "    ggplot(mapping = aes(x = mean_distance, y = mean_delay)) +\n",
    "        geom_point() +\n",
    "        geom_smooth() +\n",
    "        xlab(\"distance (in miles)\") +\n",
    "        ylab(\"average arrival delay (in minutes)\")"
   ]
  },
  {
   "cell_type": "markdown",
   "metadata": {},
   "source": [
    "## C.4 Basic operations on data"
   ]
  },
  {
   "cell_type": "markdown",
   "metadata": {},
   "source": [
    "`R` offers several built-in vectorized functions that can be used to create more complicated function. These include:\n",
    "\n",
    "* **Arithmetic operators** `+, -, *, /, ^`\n",
    "* **Modular arithmetic operators** `%/%` and `%%` \n",
    "* **Logarithms** `log()`, `log10()`, `log2()`\n",
    "* **Offsets** `lag()` and `lead()`"
   ]
  },
  {
   "cell_type": "markdown",
   "metadata": {},
   "source": [
    "We use `/` for a regular division.  For an integer division, we use the code `%/%`, where the fractional part (remainder) is discarded."
   ]
  },
  {
   "cell_type": "code",
   "execution_count": 33,
   "metadata": {},
   "outputs": [
    {
     "data": {
      "text/html": [
       "1.33333333333333"
      ],
      "text/latex": [
       "1.33333333333333"
      ],
      "text/markdown": [
       "1.33333333333333"
      ],
      "text/plain": [
       "[1] 1.333333"
      ]
     },
     "metadata": {},
     "output_type": "display_data"
    },
    {
     "data": {
      "text/html": [
       "1"
      ],
      "text/latex": [
       "1"
      ],
      "text/markdown": [
       "1"
      ],
      "text/plain": [
       "[1] 1"
      ]
     },
     "metadata": {},
     "output_type": "display_data"
    }
   ],
   "source": [
    "4 / 3   \n",
    "4 %/% 3 "
   ]
  },
  {
   "cell_type": "markdown",
   "metadata": {},
   "source": [
    "Sometimes we may find the modular operation `%%` useful.  This is outputting the fractional part of a division.  "
   ]
  },
  {
   "cell_type": "code",
   "execution_count": 35,
   "metadata": {},
   "outputs": [
    {
     "data": {
      "text/html": [
       "1"
      ],
      "text/latex": [
       "1"
      ],
      "text/markdown": [
       "1"
      ],
      "text/plain": [
       "[1] 1"
      ]
     },
     "metadata": {},
     "output_type": "display_data"
    }
   ],
   "source": [
    "1%%5 "
   ]
  },
  {
   "cell_type": "code",
   "execution_count": 36,
   "metadata": {},
   "outputs": [
    {
     "data": {
      "text/html": [
       "3"
      ],
      "text/latex": [
       "3"
      ],
      "text/markdown": [
       "3"
      ],
      "text/plain": [
       "[1] 3"
      ]
     },
     "metadata": {},
     "output_type": "display_data"
    }
   ],
   "source": [
    "3%%5"
   ]
  },
  {
   "cell_type": "code",
   "execution_count": 37,
   "metadata": {},
   "outputs": [
    {
     "data": {
      "text/html": [
       "0"
      ],
      "text/latex": [
       "0"
      ],
      "text/markdown": [
       "0"
      ],
      "text/plain": [
       "[1] 0"
      ]
     },
     "metadata": {},
     "output_type": "display_data"
    }
   ],
   "source": [
    "5%%5"
   ]
  },
  {
   "cell_type": "code",
   "execution_count": 34,
   "metadata": {},
   "outputs": [
    {
     "data": {
      "text/html": [
       "<style>\n",
       ".list-inline {list-style: none; margin:0; padding: 0}\n",
       ".list-inline>li {display: inline-block}\n",
       ".list-inline>li:not(:last-child)::after {content: \"\\00b7\"; padding: 0 .5ex}\n",
       "</style>\n",
       "<ol class=list-inline><li>1</li><li>2</li><li>3</li><li>4</li><li>0</li><li>1</li><li>2</li><li>3</li><li>4</li><li>0</li><li>1</li><li>2</li><li>3</li><li>4</li><li>0</li><li>1</li><li>2</li><li>3</li><li>4</li><li>0</li></ol>\n"
      ],
      "text/latex": [
       "\\begin{enumerate*}\n",
       "\\item 1\n",
       "\\item 2\n",
       "\\item 3\n",
       "\\item 4\n",
       "\\item 0\n",
       "\\item 1\n",
       "\\item 2\n",
       "\\item 3\n",
       "\\item 4\n",
       "\\item 0\n",
       "\\item 1\n",
       "\\item 2\n",
       "\\item 3\n",
       "\\item 4\n",
       "\\item 0\n",
       "\\item 1\n",
       "\\item 2\n",
       "\\item 3\n",
       "\\item 4\n",
       "\\item 0\n",
       "\\end{enumerate*}\n"
      ],
      "text/markdown": [
       "1. 1\n",
       "2. 2\n",
       "3. 3\n",
       "4. 4\n",
       "5. 0\n",
       "6. 1\n",
       "7. 2\n",
       "8. 3\n",
       "9. 4\n",
       "10. 0\n",
       "11. 1\n",
       "12. 2\n",
       "13. 3\n",
       "14. 4\n",
       "15. 0\n",
       "16. 1\n",
       "17. 2\n",
       "18. 3\n",
       "19. 4\n",
       "20. 0\n",
       "\n",
       "\n"
      ],
      "text/plain": [
       " [1] 1 2 3 4 0 1 2 3 4 0 1 2 3 4 0 1 2 3 4 0"
      ]
     },
     "metadata": {},
     "output_type": "display_data"
    }
   ],
   "source": [
    "1:20 %% 5  # shorter argument 5 is extended to match length of longer argument"
   ]
  },
  {
   "cell_type": "markdown",
   "metadata": {},
   "source": [
    "The shorter argument 5 is extended to match length of longer argument"
   ]
  },
  {
   "cell_type": "markdown",
   "metadata": {},
   "source": [
    "There are also handy functions such as `lag` and `lead`. The function`lag` computes a lagged version of a time series, shifting the time base back by a given number of observations."
   ]
  },
  {
   "cell_type": "code",
   "execution_count": 43,
   "metadata": {},
   "outputs": [
    {
     "data": {
      "text/html": [
       "<style>\n",
       ".list-inline {list-style: none; margin:0; padding: 0}\n",
       ".list-inline>li {display: inline-block}\n",
       ".list-inline>li:not(:last-child)::after {content: \"\\00b7\"; padding: 0 .5ex}\n",
       "</style>\n",
       "<ol class=list-inline><li>1</li><li>2</li><li>3</li><li>4</li><li>5</li><li>6</li><li>7</li><li>8</li><li>9</li><li>10</li></ol>\n"
      ],
      "text/latex": [
       "\\begin{enumerate*}\n",
       "\\item 1\n",
       "\\item 2\n",
       "\\item 3\n",
       "\\item 4\n",
       "\\item 5\n",
       "\\item 6\n",
       "\\item 7\n",
       "\\item 8\n",
       "\\item 9\n",
       "\\item 10\n",
       "\\end{enumerate*}\n"
      ],
      "text/markdown": [
       "1. 1\n",
       "2. 2\n",
       "3. 3\n",
       "4. 4\n",
       "5. 5\n",
       "6. 6\n",
       "7. 7\n",
       "8. 8\n",
       "9. 9\n",
       "10. 10\n",
       "\n",
       "\n"
      ],
      "text/plain": [
       " [1]  1  2  3  4  5  6  7  8  9 10"
      ]
     },
     "metadata": {},
     "output_type": "display_data"
    },
    {
     "data": {
      "text/html": [
       "<style>\n",
       ".list-inline {list-style: none; margin:0; padding: 0}\n",
       ".list-inline>li {display: inline-block}\n",
       ".list-inline>li:not(:last-child)::after {content: \"\\00b7\"; padding: 0 .5ex}\n",
       "</style>\n",
       "<ol class=list-inline><li>&lt;NA&gt;</li><li>1</li><li>2</li><li>3</li><li>4</li><li>5</li><li>6</li><li>7</li><li>8</li><li>9</li></ol>\n"
      ],
      "text/latex": [
       "\\begin{enumerate*}\n",
       "\\item <NA>\n",
       "\\item 1\n",
       "\\item 2\n",
       "\\item 3\n",
       "\\item 4\n",
       "\\item 5\n",
       "\\item 6\n",
       "\\item 7\n",
       "\\item 8\n",
       "\\item 9\n",
       "\\end{enumerate*}\n"
      ],
      "text/markdown": [
       "1. &lt;NA&gt;\n",
       "2. 1\n",
       "3. 2\n",
       "4. 3\n",
       "5. 4\n",
       "6. 5\n",
       "7. 6\n",
       "8. 7\n",
       "9. 8\n",
       "10. 9\n",
       "\n",
       "\n"
      ],
      "text/plain": [
       " [1] NA  1  2  3  4  5  6  7  8  9"
      ]
     },
     "metadata": {},
     "output_type": "display_data"
    },
    {
     "data": {
      "text/html": [
       "<style>\n",
       ".list-inline {list-style: none; margin:0; padding: 0}\n",
       ".list-inline>li {display: inline-block}\n",
       ".list-inline>li:not(:last-child)::after {content: \"\\00b7\"; padding: 0 .5ex}\n",
       "</style>\n",
       "<ol class=list-inline><li>2</li><li>3</li><li>4</li><li>5</li><li>6</li><li>7</li><li>8</li><li>9</li><li>10</li><li>&lt;NA&gt;</li></ol>\n"
      ],
      "text/latex": [
       "\\begin{enumerate*}\n",
       "\\item 2\n",
       "\\item 3\n",
       "\\item 4\n",
       "\\item 5\n",
       "\\item 6\n",
       "\\item 7\n",
       "\\item 8\n",
       "\\item 9\n",
       "\\item 10\n",
       "\\item <NA>\n",
       "\\end{enumerate*}\n"
      ],
      "text/markdown": [
       "1. 2\n",
       "2. 3\n",
       "3. 4\n",
       "4. 5\n",
       "5. 6\n",
       "6. 7\n",
       "7. 8\n",
       "8. 9\n",
       "9. 10\n",
       "10. &lt;NA&gt;\n",
       "\n",
       "\n"
      ],
      "text/plain": [
       " [1]  2  3  4  5  6  7  8  9 10 NA"
      ]
     },
     "metadata": {},
     "output_type": "display_data"
    }
   ],
   "source": [
    "(x <- 1:10)\n",
    "lag(x)\n",
    "lead(x)"
   ]
  },
  {
   "cell_type": "markdown",
   "metadata": {},
   "source": [
    "We also have:\n",
    "\n",
    "* **Logical comparisons** `==, !=, <, <=, >, >=`\n",
    "* **Cumulative aggregates** `cumsum(), cumprod(), cummin(), cummax()` (`dplyr` also provides `cummean()`)"
   ]
  },
  {
   "cell_type": "code",
   "execution_count": 44,
   "metadata": {},
   "outputs": [
    {
     "data": {
      "text/html": [
       "FALSE"
      ],
      "text/latex": [
       "FALSE"
      ],
      "text/markdown": [
       "FALSE"
      ],
      "text/plain": [
       "[1] FALSE"
      ]
     },
     "metadata": {},
     "output_type": "display_data"
    },
    {
     "data": {
      "text/html": [
       "<style>\n",
       ".list-inline {list-style: none; margin:0; padding: 0}\n",
       ".list-inline>li {display: inline-block}\n",
       ".list-inline>li:not(:last-child)::after {content: \"\\00b7\"; padding: 0 .5ex}\n",
       "</style>\n",
       "<ol class=list-inline><li>TRUE</li><li>TRUE</li><li>TRUE</li><li>TRUE</li><li>TRUE</li><li>TRUE</li><li>TRUE</li><li>TRUE</li><li>TRUE</li><li>TRUE</li></ol>\n"
      ],
      "text/latex": [
       "\\begin{enumerate*}\n",
       "\\item TRUE\n",
       "\\item TRUE\n",
       "\\item TRUE\n",
       "\\item TRUE\n",
       "\\item TRUE\n",
       "\\item TRUE\n",
       "\\item TRUE\n",
       "\\item TRUE\n",
       "\\item TRUE\n",
       "\\item TRUE\n",
       "\\end{enumerate*}\n"
      ],
      "text/markdown": [
       "1. TRUE\n",
       "2. TRUE\n",
       "3. TRUE\n",
       "4. TRUE\n",
       "5. TRUE\n",
       "6. TRUE\n",
       "7. TRUE\n",
       "8. TRUE\n",
       "9. TRUE\n",
       "10. TRUE\n",
       "\n",
       "\n"
      ],
      "text/plain": [
       " [1] TRUE TRUE TRUE TRUE TRUE TRUE TRUE TRUE TRUE TRUE"
      ]
     },
     "metadata": {},
     "output_type": "display_data"
    },
    {
     "data": {
      "text/html": [
       "<style>\n",
       ".list-inline {list-style: none; margin:0; padding: 0}\n",
       ".list-inline>li {display: inline-block}\n",
       ".list-inline>li:not(:last-child)::after {content: \"\\00b7\"; padding: 0 .5ex}\n",
       "</style>\n",
       "<ol class=list-inline><li>TRUE</li><li>TRUE</li><li>TRUE</li><li>TRUE</li><li>FALSE</li><li>FALSE</li><li>FALSE</li><li>FALSE</li><li>FALSE</li><li>FALSE</li></ol>\n"
      ],
      "text/latex": [
       "\\begin{enumerate*}\n",
       "\\item TRUE\n",
       "\\item TRUE\n",
       "\\item TRUE\n",
       "\\item TRUE\n",
       "\\item FALSE\n",
       "\\item FALSE\n",
       "\\item FALSE\n",
       "\\item FALSE\n",
       "\\item FALSE\n",
       "\\item FALSE\n",
       "\\end{enumerate*}\n"
      ],
      "text/markdown": [
       "1. TRUE\n",
       "2. TRUE\n",
       "3. TRUE\n",
       "4. TRUE\n",
       "5. FALSE\n",
       "6. FALSE\n",
       "7. FALSE\n",
       "8. FALSE\n",
       "9. FALSE\n",
       "10. FALSE\n",
       "\n",
       "\n"
      ],
      "text/plain": [
       " [1]  TRUE  TRUE  TRUE  TRUE FALSE FALSE FALSE FALSE FALSE FALSE"
      ]
     },
     "metadata": {},
     "output_type": "display_data"
    },
    {
     "data": {
      "text/html": [
       "<style>\n",
       ".list-inline {list-style: none; margin:0; padding: 0}\n",
       ".list-inline>li {display: inline-block}\n",
       ".list-inline>li:not(:last-child)::after {content: \"\\00b7\"; padding: 0 .5ex}\n",
       "</style>\n",
       "<ol class=list-inline><li>FALSE</li><li>FALSE</li><li>FALSE</li><li>FALSE</li><li>FALSE</li><li>FALSE</li><li>FALSE</li><li>FALSE</li><li>FALSE</li><li>FALSE</li></ol>\n"
      ],
      "text/latex": [
       "\\begin{enumerate*}\n",
       "\\item FALSE\n",
       "\\item FALSE\n",
       "\\item FALSE\n",
       "\\item FALSE\n",
       "\\item FALSE\n",
       "\\item FALSE\n",
       "\\item FALSE\n",
       "\\item FALSE\n",
       "\\item FALSE\n",
       "\\item FALSE\n",
       "\\end{enumerate*}\n"
      ],
      "text/markdown": [
       "1. FALSE\n",
       "2. FALSE\n",
       "3. FALSE\n",
       "4. FALSE\n",
       "5. FALSE\n",
       "6. FALSE\n",
       "7. FALSE\n",
       "8. FALSE\n",
       "9. FALSE\n",
       "10. FALSE\n",
       "\n",
       "\n"
      ],
      "text/plain": [
       " [1] FALSE FALSE FALSE FALSE FALSE FALSE FALSE FALSE FALSE FALSE"
      ]
     },
     "metadata": {},
     "output_type": "display_data"
    }
   ],
   "source": [
    "5 < 5\n",
    "1:10 < 11:20\n",
    "1:10 < 5\n",
    "21 < 11:20"
   ]
  },
  {
   "cell_type": "code",
   "execution_count": 45,
   "metadata": {},
   "outputs": [
    {
     "data": {
      "text/html": [
       "<style>\n",
       ".list-inline {list-style: none; margin:0; padding: 0}\n",
       ".list-inline>li {display: inline-block}\n",
       ".list-inline>li:not(:last-child)::after {content: \"\\00b7\"; padding: 0 .5ex}\n",
       "</style>\n",
       "<ol class=list-inline><li>1</li><li>2</li><li>6</li><li>24</li><li>120</li><li>720</li><li>5040</li><li>40320</li><li>362880</li><li>3628800</li></ol>\n"
      ],
      "text/latex": [
       "\\begin{enumerate*}\n",
       "\\item 1\n",
       "\\item 2\n",
       "\\item 6\n",
       "\\item 24\n",
       "\\item 120\n",
       "\\item 720\n",
       "\\item 5040\n",
       "\\item 40320\n",
       "\\item 362880\n",
       "\\item 3628800\n",
       "\\end{enumerate*}\n"
      ],
      "text/markdown": [
       "1. 1\n",
       "2. 2\n",
       "3. 6\n",
       "4. 24\n",
       "5. 120\n",
       "6. 720\n",
       "7. 5040\n",
       "8. 40320\n",
       "9. 362880\n",
       "10. 3628800\n",
       "\n",
       "\n"
      ],
      "text/plain": [
       " [1]       1       2       6      24     120     720    5040   40320  362880\n",
       "[10] 3628800"
      ]
     },
     "metadata": {},
     "output_type": "display_data"
    },
    {
     "data": {
      "text/html": [
       "<style>\n",
       ".list-inline {list-style: none; margin:0; padding: 0}\n",
       ".list-inline>li {display: inline-block}\n",
       ".list-inline>li:not(:last-child)::after {content: \"\\00b7\"; padding: 0 .5ex}\n",
       "</style>\n",
       "<ol class=list-inline><li>1</li><li>3</li><li>6</li><li>10</li><li>15</li><li>21</li><li>28</li><li>36</li><li>45</li><li>55</li></ol>\n"
      ],
      "text/latex": [
       "\\begin{enumerate*}\n",
       "\\item 1\n",
       "\\item 3\n",
       "\\item 6\n",
       "\\item 10\n",
       "\\item 15\n",
       "\\item 21\n",
       "\\item 28\n",
       "\\item 36\n",
       "\\item 45\n",
       "\\item 55\n",
       "\\end{enumerate*}\n"
      ],
      "text/markdown": [
       "1. 1\n",
       "2. 3\n",
       "3. 6\n",
       "4. 10\n",
       "5. 15\n",
       "6. 21\n",
       "7. 28\n",
       "8. 36\n",
       "9. 45\n",
       "10. 55\n",
       "\n",
       "\n"
      ],
      "text/plain": [
       " [1]  1  3  6 10 15 21 28 36 45 55"
      ]
     },
     "metadata": {},
     "output_type": "display_data"
    }
   ],
   "source": [
    "(factorials <- cumprod(1:10))\n",
    "cumsum(1:10)"
   ]
  },
  {
   "cell_type": "markdown",
   "metadata": {},
   "source": [
    "Sometimes, we want to *rank* our data by assigning integers for 1st place, 2nd place, etc. The functions `dense_rank()`, `min_rank()`, and `row_number()` can be used for this purpose:"
   ]
  },
  {
   "cell_type": "code",
   "execution_count": 10,
   "metadata": {},
   "outputs": [
    {
     "data": {
      "text/html": [
       "<style>\n",
       ".list-inline {list-style: none; margin:0; padding: 0}\n",
       ".list-inline>li {display: inline-block}\n",
       ".list-inline>li:not(:last-child)::after {content: \"\\00b7\"; padding: 0 .5ex}\n",
       "</style>\n",
       "<ol class=list-inline><li>3</li><li>2</li><li>1</li><li>2</li><li>4</li><li>4</li></ol>\n"
      ],
      "text/latex": [
       "\\begin{enumerate*}\n",
       "\\item 3\n",
       "\\item 2\n",
       "\\item 1\n",
       "\\item 2\n",
       "\\item 4\n",
       "\\item 4\n",
       "\\end{enumerate*}\n"
      ],
      "text/markdown": [
       "1. 3\n",
       "2. 2\n",
       "3. 1\n",
       "4. 2\n",
       "5. 4\n",
       "6. 4\n",
       "\n",
       "\n"
      ],
      "text/plain": [
       "[1] 3 2 1 2 4 4"
      ]
     },
     "metadata": {},
     "output_type": "display_data"
    },
    {
     "data": {
      "text/html": [
       "<style>\n",
       ".list-inline {list-style: none; margin:0; padding: 0}\n",
       ".list-inline>li {display: inline-block}\n",
       ".list-inline>li:not(:last-child)::after {content: \"\\00b7\"; padding: 0 .5ex}\n",
       "</style>\n",
       "<ol class=list-inline><li>4</li><li>2</li><li>1</li><li>2</li><li>5</li><li>5</li></ol>\n"
      ],
      "text/latex": [
       "\\begin{enumerate*}\n",
       "\\item 4\n",
       "\\item 2\n",
       "\\item 1\n",
       "\\item 2\n",
       "\\item 5\n",
       "\\item 5\n",
       "\\end{enumerate*}\n"
      ],
      "text/markdown": [
       "1. 4\n",
       "2. 2\n",
       "3. 1\n",
       "4. 2\n",
       "5. 5\n",
       "6. 5\n",
       "\n",
       "\n"
      ],
      "text/plain": [
       "[1] 4 2 1 2 5 5"
      ]
     },
     "metadata": {},
     "output_type": "display_data"
    },
    {
     "data": {
      "text/html": [
       "<style>\n",
       ".list-inline {list-style: none; margin:0; padding: 0}\n",
       ".list-inline>li {display: inline-block}\n",
       ".list-inline>li:not(:last-child)::after {content: \"\\00b7\"; padding: 0 .5ex}\n",
       "</style>\n",
       "<ol class=list-inline><li>4</li><li>2</li><li>1</li><li>3</li><li>5</li><li>6</li></ol>\n"
      ],
      "text/latex": [
       "\\begin{enumerate*}\n",
       "\\item 4\n",
       "\\item 2\n",
       "\\item 1\n",
       "\\item 3\n",
       "\\item 5\n",
       "\\item 6\n",
       "\\end{enumerate*}\n"
      ],
      "text/markdown": [
       "1. 4\n",
       "2. 2\n",
       "3. 1\n",
       "4. 3\n",
       "5. 5\n",
       "6. 6\n",
       "\n",
       "\n"
      ],
      "text/plain": [
       "[1] 4 2 1 3 5 6"
      ]
     },
     "metadata": {},
     "output_type": "display_data"
    }
   ],
   "source": [
    "gpas = c(3.9, 3.8, 2.7, 3.8, 4.0, 4.0)\n",
    "dense_rank(gpas)\n",
    "min_rank(gpas)\n",
    "row_number(gpas)"
   ]
  },
  {
   "cell_type": "markdown",
   "metadata": {},
   "source": [
    "Note the differences in behavior: \n",
    "- The rankings from `dense_rank()` never have gaps.\n",
    "- The rankings from `min_rank()` skips over 3rd place (because we have two entries tied for 2nd.)\n",
    "- The rankings from `row_number()` break ties arbitrarily, so the first 4.0 GPA gets ranked 5th, and the second 4.0 GPA gets ranked 6th.\n",
    "\n",
    "By default, the ranking functions rank lowest first. If we want to reverse that, and assign rank 1 to the highest entry, we can use the `desc()` function:"
   ]
  },
  {
   "cell_type": "code",
   "execution_count": 56,
   "metadata": {},
   "outputs": [
    {
     "data": {
      "text/html": [
       "<style>\n",
       ".list-inline {list-style: none; margin:0; padding: 0}\n",
       ".list-inline>li {display: inline-block}\n",
       ".list-inline>li:not(:last-child)::after {content: \"\\00b7\"; padding: 0 .5ex}\n",
       "</style>\n",
       "<ol class=list-inline><li>2</li><li>3</li><li>4</li><li>3</li><li>1</li><li>1</li></ol>\n"
      ],
      "text/latex": [
       "\\begin{enumerate*}\n",
       "\\item 2\n",
       "\\item 3\n",
       "\\item 4\n",
       "\\item 3\n",
       "\\item 1\n",
       "\\item 1\n",
       "\\end{enumerate*}\n"
      ],
      "text/markdown": [
       "1. 2\n",
       "2. 3\n",
       "3. 4\n",
       "4. 3\n",
       "5. 1\n",
       "6. 1\n",
       "\n",
       "\n"
      ],
      "text/plain": [
       "[1] 2 3 4 3 1 1"
      ]
     },
     "metadata": {},
     "output_type": "display_data"
    },
    {
     "data": {
      "text/html": [
       "<style>\n",
       ".list-inline {list-style: none; margin:0; padding: 0}\n",
       ".list-inline>li {display: inline-block}\n",
       ".list-inline>li:not(:last-child)::after {content: \"\\00b7\"; padding: 0 .5ex}\n",
       "</style>\n",
       "<ol class=list-inline><li>3</li><li>4</li><li>6</li><li>4</li><li>1</li><li>1</li></ol>\n"
      ],
      "text/latex": [
       "\\begin{enumerate*}\n",
       "\\item 3\n",
       "\\item 4\n",
       "\\item 6\n",
       "\\item 4\n",
       "\\item 1\n",
       "\\item 1\n",
       "\\end{enumerate*}\n"
      ],
      "text/markdown": [
       "1. 3\n",
       "2. 4\n",
       "3. 6\n",
       "4. 4\n",
       "5. 1\n",
       "6. 1\n",
       "\n",
       "\n"
      ],
      "text/plain": [
       "[1] 3 4 6 4 1 1"
      ]
     },
     "metadata": {},
     "output_type": "display_data"
    },
    {
     "data": {
      "text/html": [
       "<style>\n",
       ".list-inline {list-style: none; margin:0; padding: 0}\n",
       ".list-inline>li {display: inline-block}\n",
       ".list-inline>li:not(:last-child)::after {content: \"\\00b7\"; padding: 0 .5ex}\n",
       "</style>\n",
       "<ol class=list-inline><li>3</li><li>4</li><li>6</li><li>5</li><li>1</li><li>2</li></ol>\n"
      ],
      "text/latex": [
       "\\begin{enumerate*}\n",
       "\\item 3\n",
       "\\item 4\n",
       "\\item 6\n",
       "\\item 5\n",
       "\\item 1\n",
       "\\item 2\n",
       "\\end{enumerate*}\n"
      ],
      "text/markdown": [
       "1. 3\n",
       "2. 4\n",
       "3. 6\n",
       "4. 5\n",
       "5. 1\n",
       "6. 2\n",
       "\n",
       "\n"
      ],
      "text/plain": [
       "[1] 3 4 6 5 1 2"
      ]
     },
     "metadata": {},
     "output_type": "display_data"
    }
   ],
   "source": [
    "dense_rank(desc(gpas))\n",
    "min_rank(desc(gpas))\n",
    "row_number(desc(gpas))"
   ]
  },
  {
   "cell_type": "code",
   "execution_count": 49,
   "metadata": {},
   "outputs": [
    {
     "data": {
      "text/html": [
       "<style>\n",
       ".list-inline {list-style: none; margin:0; padding: 0}\n",
       ".list-inline>li {display: inline-block}\n",
       ".list-inline>li:not(:last-child)::after {content: \"\\00b7\"; padding: 0 .5ex}\n",
       "</style>\n",
       "<ol class=list-inline><li>14</li><li>14</li><li>12</li><li>12</li><li>21</li><li>17</li><li>26</li><li>14</li><li>11</li><li>&lt;NA&gt;</li></ol>\n"
      ],
      "text/latex": [
       "\\begin{enumerate*}\n",
       "\\item 14\n",
       "\\item 14\n",
       "\\item 12\n",
       "\\item 12\n",
       "\\item 21\n",
       "\\item 17\n",
       "\\item 26\n",
       "\\item 14\n",
       "\\item 11\n",
       "\\item <NA>\n",
       "\\end{enumerate*}\n"
      ],
      "text/markdown": [
       "1. 14\n",
       "2. 14\n",
       "3. 12\n",
       "4. 12\n",
       "5. 21\n",
       "6. 17\n",
       "7. 26\n",
       "8. 14\n",
       "9. 11\n",
       "10. &lt;NA&gt;\n",
       "\n",
       "\n"
      ],
      "text/plain": [
       " [1] 14 14 12 12 21 17 26 14 11 NA"
      ]
     },
     "metadata": {},
     "output_type": "display_data"
    },
    {
     "data": {
      "text/html": [
       "<style>\n",
       ".list-inline {list-style: none; margin:0; padding: 0}\n",
       ".list-inline>li {display: inline-block}\n",
       ".list-inline>li:not(:last-child)::after {content: \"\\00b7\"; padding: 0 .5ex}\n",
       "</style>\n",
       "<ol class=list-inline><li>4</li><li>4</li><li>2</li><li>2</li><li>8</li><li>7</li><li>9</li><li>4</li><li>1</li><li>&lt;NA&gt;</li></ol>\n"
      ],
      "text/latex": [
       "\\begin{enumerate*}\n",
       "\\item 4\n",
       "\\item 4\n",
       "\\item 2\n",
       "\\item 2\n",
       "\\item 8\n",
       "\\item 7\n",
       "\\item 9\n",
       "\\item 4\n",
       "\\item 1\n",
       "\\item <NA>\n",
       "\\end{enumerate*}\n"
      ],
      "text/markdown": [
       "1. 4\n",
       "2. 4\n",
       "3. 2\n",
       "4. 2\n",
       "5. 8\n",
       "6. 7\n",
       "7. 9\n",
       "8. 4\n",
       "9. 1\n",
       "10. &lt;NA&gt;\n",
       "\n",
       "\n"
      ],
      "text/plain": [
       " [1]  4  4  2  2  8  7  9  4  1 NA"
      ]
     },
     "metadata": {},
     "output_type": "display_data"
    },
    {
     "data": {
      "text/html": [
       "<style>\n",
       ".list-inline {list-style: none; margin:0; padding: 0}\n",
       ".list-inline>li {display: inline-block}\n",
       ".list-inline>li:not(:last-child)::after {content: \"\\00b7\"; padding: 0 .5ex}\n",
       "</style>\n",
       "<ol class=list-inline><li>4</li><li>4</li><li>7</li><li>7</li><li>2</li><li>3</li><li>1</li><li>4</li><li>9</li><li>&lt;NA&gt;</li></ol>\n"
      ],
      "text/latex": [
       "\\begin{enumerate*}\n",
       "\\item 4\n",
       "\\item 4\n",
       "\\item 7\n",
       "\\item 7\n",
       "\\item 2\n",
       "\\item 3\n",
       "\\item 1\n",
       "\\item 4\n",
       "\\item 9\n",
       "\\item <NA>\n",
       "\\end{enumerate*}\n"
      ],
      "text/markdown": [
       "1. 4\n",
       "2. 4\n",
       "3. 7\n",
       "4. 7\n",
       "5. 2\n",
       "6. 3\n",
       "7. 1\n",
       "8. 4\n",
       "9. 9\n",
       "10. &lt;NA&gt;\n",
       "\n",
       "\n"
      ],
      "text/plain": [
       " [1]  4  4  7  7  2  3  1  4  9 NA"
      ]
     },
     "metadata": {},
     "output_type": "display_data"
    }
   ],
   "source": [
    "(x <- sample(c(11, 12, 12, 14, 14, 14, 17, 21, 26, NA))) # returns a random permutation of the input\n",
    "min_rank(x) # ranks with smallest value as rank 1\n",
    "min_rank(desc(x)) # ranks with largest value as rank 1"
   ]
  },
  {
   "cell_type": "markdown",
   "metadata": {},
   "source": [
    "`summarize()` can be used to summarize entire data frames by collapsing them into single number summaries.\n"
   ]
  },
  {
   "cell_type": "code",
   "execution_count": 57,
   "metadata": {},
   "outputs": [
    {
     "data": {
      "text/html": [
       "<table>\n",
       "<caption>A tibble: 1 × 1</caption>\n",
       "<thead>\n",
       "\t<tr><th scope=col>delay</th></tr>\n",
       "\t<tr><th scope=col>&lt;dbl&gt;</th></tr>\n",
       "</thead>\n",
       "<tbody>\n",
       "\t<tr><td>12.63907</td></tr>\n",
       "</tbody>\n",
       "</table>\n"
      ],
      "text/latex": [
       "A tibble: 1 × 1\n",
       "\\begin{tabular}{l}\n",
       " delay\\\\\n",
       " <dbl>\\\\\n",
       "\\hline\n",
       "\t 12.63907\\\\\n",
       "\\end{tabular}\n"
      ],
      "text/markdown": [
       "\n",
       "A tibble: 1 × 1\n",
       "\n",
       "| delay &lt;dbl&gt; |\n",
       "|---|\n",
       "| 12.63907 |\n",
       "\n"
      ],
      "text/plain": [
       "  delay   \n",
       "1 12.63907"
      ]
     },
     "metadata": {},
     "output_type": "display_data"
    }
   ],
   "source": [
    "summarize(flights, delay = mean(dep_delay, na.rm = TRUE))"
   ]
  },
  {
   "cell_type": "code",
   "execution_count": 58,
   "metadata": {},
   "outputs": [
    {
     "name": "stderr",
     "output_type": "stream",
     "text": [
      "`summarise()` ungrouping output (override with `.groups` argument)\n",
      "\n"
     ]
    },
    {
     "data": {
      "text/html": [
       "<table>\n",
       "<caption>A tibble: 12 × 2</caption>\n",
       "<thead>\n",
       "\t<tr><th scope=col>month</th><th scope=col>delay</th></tr>\n",
       "\t<tr><th scope=col>&lt;int&gt;</th><th scope=col>&lt;dbl&gt;</th></tr>\n",
       "</thead>\n",
       "<tbody>\n",
       "\t<tr><td> 1</td><td>10.036665</td></tr>\n",
       "\t<tr><td> 2</td><td>10.816843</td></tr>\n",
       "\t<tr><td> 3</td><td>13.227076</td></tr>\n",
       "\t<tr><td> 4</td><td>13.938038</td></tr>\n",
       "\t<tr><td> 5</td><td>12.986859</td></tr>\n",
       "\t<tr><td> 6</td><td>20.846332</td></tr>\n",
       "\t<tr><td> 7</td><td>21.727787</td></tr>\n",
       "\t<tr><td> 8</td><td>12.611040</td></tr>\n",
       "\t<tr><td> 9</td><td> 6.722476</td></tr>\n",
       "\t<tr><td>10</td><td> 6.243988</td></tr>\n",
       "\t<tr><td>11</td><td> 5.435362</td></tr>\n",
       "\t<tr><td>12</td><td>16.576688</td></tr>\n",
       "</tbody>\n",
       "</table>\n"
      ],
      "text/latex": [
       "A tibble: 12 × 2\n",
       "\\begin{tabular}{ll}\n",
       " month & delay\\\\\n",
       " <int> & <dbl>\\\\\n",
       "\\hline\n",
       "\t  1 & 10.036665\\\\\n",
       "\t  2 & 10.816843\\\\\n",
       "\t  3 & 13.227076\\\\\n",
       "\t  4 & 13.938038\\\\\n",
       "\t  5 & 12.986859\\\\\n",
       "\t  6 & 20.846332\\\\\n",
       "\t  7 & 21.727787\\\\\n",
       "\t  8 & 12.611040\\\\\n",
       "\t  9 &  6.722476\\\\\n",
       "\t 10 &  6.243988\\\\\n",
       "\t 11 &  5.435362\\\\\n",
       "\t 12 & 16.576688\\\\\n",
       "\\end{tabular}\n"
      ],
      "text/markdown": [
       "\n",
       "A tibble: 12 × 2\n",
       "\n",
       "| month &lt;int&gt; | delay &lt;dbl&gt; |\n",
       "|---|---|\n",
       "|  1 | 10.036665 |\n",
       "|  2 | 10.816843 |\n",
       "|  3 | 13.227076 |\n",
       "|  4 | 13.938038 |\n",
       "|  5 | 12.986859 |\n",
       "|  6 | 20.846332 |\n",
       "|  7 | 21.727787 |\n",
       "|  8 | 12.611040 |\n",
       "|  9 |  6.722476 |\n",
       "| 10 |  6.243988 |\n",
       "| 11 |  5.435362 |\n",
       "| 12 | 16.576688 |\n",
       "\n"
      ],
      "text/plain": [
       "   month delay    \n",
       "1   1    10.036665\n",
       "2   2    10.816843\n",
       "3   3    13.227076\n",
       "4   4    13.938038\n",
       "5   5    12.986859\n",
       "6   6    20.846332\n",
       "7   7    21.727787\n",
       "8   8    12.611040\n",
       "9   9     6.722476\n",
       "10 10     6.243988\n",
       "11 11     5.435362\n",
       "12 12    16.576688"
      ]
     },
     "metadata": {},
     "output_type": "display_data"
    }
   ],
   "source": [
    "by_month <- group_by(flights, month)\n",
    "(monthly_delays <- summarize(by_month, delay = mean(dep_delay, na.rm = TRUE)))"
   ]
  },
  {
   "cell_type": "markdown",
   "metadata": {},
   "source": [
    "Many summarization functions are available:\n",
    "\n",
    "* Center: `mean(), median()`\n",
    "* Spread: `sd(), IQR(), mad()`\n",
    "* Range: `min(), max(), quantile()`\n",
    "* Position: `first(), last(), nth()`\n",
    "* Count: `n(), n_distinct()`\n",
    "* Logical: `any(), all()`"
   ]
  },
  {
   "cell_type": "markdown",
   "metadata": {},
   "source": [
    "Now, let us try to use some of the summarize functions to create a new table with the variables airports, total flights, mean distance, and standard deviation of the distance.  We want to sort the mean distance in descending order.   Let's try to guess which airport has the largest mean distance before we even proceed! "
   ]
  },
  {
   "cell_type": "code",
   "execution_count": 61,
   "metadata": {},
   "outputs": [
    {
     "name": "stderr",
     "output_type": "stream",
     "text": [
      "`summarise()` ungrouping output (override with `.groups` argument)\n",
      "\n"
     ]
    },
    {
     "name": "stdout",
     "output_type": "stream",
     "text": [
      "\u001b[38;5;246m# A tibble: 105 x 4\u001b[39m\n",
      "   dest  count    sd mean_distance\n",
      "   \u001b[3m\u001b[38;5;246m<chr>\u001b[39m\u001b[23m \u001b[3m\u001b[38;5;246m<int>\u001b[39m\u001b[23m \u001b[3m\u001b[38;5;246m<dbl>\u001b[39m\u001b[23m         \u001b[3m\u001b[38;5;246m<dbl>\u001b[39m\u001b[23m\n",
      "\u001b[38;5;250m 1\u001b[39m HNL     707 10.0          \u001b[4m4\u001b[24m973.\n",
      "\u001b[38;5;250m 2\u001b[39m ANC       8  0            \u001b[4m3\u001b[24m370 \n",
      "\u001b[38;5;250m 3\u001b[39m SFO   \u001b[4m1\u001b[24m\u001b[4m3\u001b[24m331 10.2          \u001b[4m2\u001b[24m578.\n",
      "\u001b[38;5;250m 4\u001b[39m OAK     312  0            \u001b[4m2\u001b[24m576 \n",
      "\u001b[38;5;250m 5\u001b[39m SJC     329  0            \u001b[4m2\u001b[24m569 \n",
      "\u001b[38;5;250m 6\u001b[39m SMF     284  0            \u001b[4m2\u001b[24m521 \n",
      "\u001b[38;5;250m 7\u001b[39m LAX   \u001b[4m1\u001b[24m\u001b[4m6\u001b[24m174  9.66         \u001b[4m2\u001b[24m469.\n",
      "\u001b[38;5;250m 8\u001b[39m BUR     371  0            \u001b[4m2\u001b[24m465 \n",
      "\u001b[38;5;250m 9\u001b[39m LGB     668  0            \u001b[4m2\u001b[24m465 \n",
      "\u001b[38;5;250m10\u001b[39m PDX    \u001b[4m1\u001b[24m354  9.88         \u001b[4m2\u001b[24m446.\n",
      "\u001b[38;5;246m# … with 95 more rows\u001b[39m\n"
     ]
    }
   ],
   "source": [
    "# airports, total flights, mean distance, and standard deviation of distance\n",
    "# sorted in descending order of mean distance\n",
    "group_by(flights, dest) %>%\n",
    "    summarize(count = n(), sd = sd(distance), mean_distance = mean(distance)) %>%\n",
    "    arrange(desc(mean_distance)) %>% print()"
   ]
  }
 ],
 "metadata": {
  "kernelspec": {
   "display_name": "R",
   "language": "R",
   "name": "ir"
  },
  "language_info": {
   "codemirror_mode": "r",
   "file_extension": ".r",
   "mimetype": "text/x-r-source",
   "name": "R",
   "pygments_lexer": "r",
   "version": "4.1.0"
  },
  "latex_envs": {
   "LaTeX_envs_menu_present": true,
   "autoclose": false,
   "autocomplete": true,
   "bibliofile": "biblio.bib",
   "cite_by": "apalike",
   "current_citInitial": 1,
   "eqLabelWithNumbers": true,
   "eqNumInitial": 1,
   "hotkeys": {
    "equation": "Ctrl-E",
    "itemize": "Ctrl-I"
   },
   "labels_anchors": false,
   "latex_user_defs": false,
   "report_style_numbering": false,
   "user_envs_cfg": false
  }
 },
 "nbformat": 4,
 "nbformat_minor": 1
}
