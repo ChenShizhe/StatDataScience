{
 "cells": [
  {
   "cell_type": "markdown",
   "metadata": {},
   "source": [
    "# Preface"
   ]
  },
  {
   "cell_type": "markdown",
   "metadata": {},
   "source": [
    "## About this book\n",
    "\n",
    "This book is a collection of notes on statistical data science, jointly edited by [Zhichao Jiang](http://www.zhichaojiang.com/), [Kean Ming Tan](http://www.keanmingtan.com/), and [Shizhe Chen](http://www.chenshizhe.com/). Materials in this book are updated constantly."
   ]
  },
  {
   "cell_type": "markdown",
   "metadata": {},
   "source": [
    "## What is `R`\n",
    "\n",
    "`R` is a programming language developed by statisticians to perform statistical analysis. The Jupyter notebook which runs these slides is running an `R` \"kernel\" in the background. Typing commands into these cells is the same as if you had type typed them into the `R` interpreter."
   ]
  },
  {
   "cell_type": "code",
   "execution_count": 1,
   "metadata": {
    "scrolled": true
   },
   "outputs": [
    {
     "data": {
      "text/html": [
       "<dl>\n",
       "\t<dt>$platform</dt>\n",
       "\t\t<dd>'x86_64-w64-mingw32'</dd>\n",
       "\t<dt>$arch</dt>\n",
       "\t\t<dd>'x86_64'</dd>\n",
       "\t<dt>$os</dt>\n",
       "\t\t<dd>'mingw32'</dd>\n",
       "\t<dt>$system</dt>\n",
       "\t\t<dd>'x86_64, mingw32'</dd>\n",
       "\t<dt>$status</dt>\n",
       "\t\t<dd>''</dd>\n",
       "\t<dt>$major</dt>\n",
       "\t\t<dd>'4'</dd>\n",
       "\t<dt>$minor</dt>\n",
       "\t\t<dd>'0.3'</dd>\n",
       "\t<dt>$year</dt>\n",
       "\t\t<dd>'2020'</dd>\n",
       "\t<dt>$month</dt>\n",
       "\t\t<dd>'10'</dd>\n",
       "\t<dt>$day</dt>\n",
       "\t\t<dd>'10'</dd>\n",
       "\t<dt>$`svn rev`</dt>\n",
       "\t\t<dd>'79318'</dd>\n",
       "\t<dt>$language</dt>\n",
       "\t\t<dd>'R'</dd>\n",
       "\t<dt>$version.string</dt>\n",
       "\t\t<dd>'R version 4.0.3 (2020-10-10)'</dd>\n",
       "\t<dt>$nickname</dt>\n",
       "\t\t<dd>'Bunny-Wunnies Freak Out'</dd>\n",
       "</dl>\n"
      ],
      "text/latex": [
       "\\begin{description}\n",
       "\\item[\\$platform] 'x86\\_64-w64-mingw32'\n",
       "\\item[\\$arch] 'x86\\_64'\n",
       "\\item[\\$os] 'mingw32'\n",
       "\\item[\\$system] 'x86\\_64, mingw32'\n",
       "\\item[\\$status] ''\n",
       "\\item[\\$major] '4'\n",
       "\\item[\\$minor] '0.3'\n",
       "\\item[\\$year] '2020'\n",
       "\\item[\\$month] '10'\n",
       "\\item[\\$day] '10'\n",
       "\\item[\\$`svn rev`] '79318'\n",
       "\\item[\\$language] 'R'\n",
       "\\item[\\$version.string] 'R version 4.0.3 (2020-10-10)'\n",
       "\\item[\\$nickname] 'Bunny-Wunnies Freak Out'\n",
       "\\end{description}\n"
      ],
      "text/markdown": [
       "$platform\n",
       ":   'x86_64-w64-mingw32'\n",
       "$arch\n",
       ":   'x86_64'\n",
       "$os\n",
       ":   'mingw32'\n",
       "$system\n",
       ":   'x86_64, mingw32'\n",
       "$status\n",
       ":   ''\n",
       "$major\n",
       ":   '4'\n",
       "$minor\n",
       ":   '0.3'\n",
       "$year\n",
       ":   '2020'\n",
       "$month\n",
       ":   '10'\n",
       "$day\n",
       ":   '10'\n",
       "$`svn rev`\n",
       ":   '79318'\n",
       "$language\n",
       ":   'R'\n",
       "$version.string\n",
       ":   'R version 4.0.3 (2020-10-10)'\n",
       "$nickname\n",
       ":   'Bunny-Wunnies Freak Out'\n",
       "\n",
       "\n"
      ],
      "text/plain": [
       "$platform\n",
       "[1] \"x86_64-w64-mingw32\"\n",
       "\n",
       "$arch\n",
       "[1] \"x86_64\"\n",
       "\n",
       "$os\n",
       "[1] \"mingw32\"\n",
       "\n",
       "$system\n",
       "[1] \"x86_64, mingw32\"\n",
       "\n",
       "$status\n",
       "[1] \"\"\n",
       "\n",
       "$major\n",
       "[1] \"4\"\n",
       "\n",
       "$minor\n",
       "[1] \"0.3\"\n",
       "\n",
       "$year\n",
       "[1] \"2020\"\n",
       "\n",
       "$month\n",
       "[1] \"10\"\n",
       "\n",
       "$day\n",
       "[1] \"10\"\n",
       "\n",
       "$`svn rev`\n",
       "[1] \"79318\"\n",
       "\n",
       "$language\n",
       "[1] \"R\"\n",
       "\n",
       "$version.string\n",
       "[1] \"R version 4.0.3 (2020-10-10)\"\n",
       "\n",
       "$nickname\n",
       "[1] \"Bunny-Wunnies Freak Out\"\n"
      ]
     },
     "metadata": {},
     "output_type": "display_data"
    }
   ],
   "source": [
    "## Obtain version info \n",
    "R.Version()"
   ]
  },
  {
   "cell_type": "markdown",
   "metadata": {},
   "source": [
    "# Running `Jupyter` online"
   ]
  },
  {
   "cell_type": "markdown",
   "metadata": {},
   "source": [
    "You can view the static course notes via nbviewer (https://nbviewer.jupyter.org/github/ChenShizhe/StatDataScience/tree/master/Notes/).\n",
    "\n",
    "You can use the interactive version via mybinder (https://mybinder.org/v2/gh/ChenShizhe/StatDataScience/master).\n",
    "\n",
    "\n"
   ]
  },
  {
   "cell_type": "markdown",
   "metadata": {},
   "source": [
    "For students in UC Davis, it is recommend to use the Jupyterhub service (https://jupyterhub.ucdavis.edu/) after a simple setup.\n",
    "\n",
    "\n",
    "1. Use any browser to navigate to  https://jupyterhub.ucdavis.edu/\n",
    "2. Log in using your UCD account.\n",
    "3. Select Other/Terminal in Launcher. (If you cannot see the Launcher interface, select File/New Launcher in the menu.)\n",
    "4. In Terminal, type `git clone https://github.com/ChenShizhe/StatDataScience`\n",
    "5. You should be able to navigate to any course notes using the sidebar on the left.\n",
    "6. If you want to update the repo, navigate to the directory of the repo (e.g., if you are in the root directory by default, type `cd ./StatDataScience` in Terminal), then type `git pull`."
   ]
  },
  {
   "cell_type": "markdown",
   "metadata": {},
   "source": [
    "# Setting up `R` and `Jupyter`"
   ]
  },
  {
   "cell_type": "markdown",
   "metadata": {},
   "source": [
    "Install Anacondda Python 3.x distribution from <https://www.anaconda.com/download/>.  \n",
    "\n",
    "Then, you can:\n",
    "-  *windows* -- start up Anaconda Prompt\n",
    "-  *linux/macOS* -- start up your terminal\n",
    "\n",
    "And type \n",
    "\n",
    "    conda install -c r r-essentials r-irkernel r-tidyverse\n",
    "\n",
    "\n",
    "1. Install `R` from https://www.r-project.org/. If you already have an existing installation you don't have to do this step, but reinstalling may still be the easiest solution since it should fix any paths that were changed by conda.\n",
    "\n",
    "2. Open `R` and run\n",
    "    ```\n",
    "    install.packages(c('IRkernel', 'tidyverse'))\n",
    "    ```    \n",
    "3. On OSX, open Terminal (command-space, type `Terminal`), then type `R` and hit enter to open an R prompt. If you didn't reinstall `R` in step 2, instead you may need to enter something like `/Library/Frameworks/R.framework/Versions/3.6/Resources/bin/R`, where the version number `3.6` may change depending on when you originally installed `R`.\n",
    "\n",
    "    On Windows, open `Anaconda Prompt` (or the console from the Anaconda Navigator). You then need to type or paste the path to the `R.exe` file in quotes to the console. If you used the default installation settings it should be something like\n",
    "    ```\n",
    "    \"C:\\Program Files\\R\\R-4.0.3\\bin\\x64\\R.exe\"\n",
    "    ```\n",
    "    or \n",
    "    ```\n",
    "    \"C:\\Users\\(your user name)\\Documents\\R\\R-4.0.3\\bin\\x64\\R.exe\"\n",
    "    ```\n",
    "    Then hit enter to open an `R` prompt.\n",
    "    \n",
    "4. Once you have an `R` prompt open, run \n",
    "    ```\n",
    "    library(IRkernel)\n",
    "    installspec()\n",
    "    ```\n",
    "    \n",
    "Now you should be able to open jupyter notebooks and set the kernel to `R`. To check, open a notebook and go to Kernel->Change kernel."
   ]
  },
  {
   "cell_type": "markdown",
   "metadata": {},
   "source": [
    "Now you are ready to play around with a Jupyter notebook!\n",
    "\n",
    "You can startup your notebook directly or through the Anaconda Navigator or by typing \n",
    "\n",
    "    jupyter notebook\n",
    "\n",
    "into the prompt. "
   ]
  },
  {
   "cell_type": "markdown",
   "metadata": {},
   "source": [
    "To enable inline code in jupyter notebook, you will need the `notebook extensions`. See the documentation [here](https://github.com/ipython-contrib/jupyter_contrib_nbextensions#installation).\n"
   ]
  }
 ],
 "metadata": {
  "kernelspec": {
   "display_name": "R",
   "language": "R",
   "name": "ir"
  },
  "language_info": {
   "codemirror_mode": "r",
   "file_extension": ".r",
   "mimetype": "text/x-r-source",
   "name": "R",
   "pygments_lexer": "r",
   "version": "4.1.0"
  },
  "latex_envs": {
   "LaTeX_envs_menu_present": true,
   "autoclose": false,
   "autocomplete": true,
   "bibliofile": "biblio.bib",
   "cite_by": "apalike",
   "current_citInitial": 1,
   "eqLabelWithNumbers": true,
   "eqNumInitial": 1,
   "hotkeys": {
    "equation": "Ctrl-E",
    "itemize": "Ctrl-I"
   },
   "labels_anchors": false,
   "latex_user_defs": false,
   "report_style_numbering": false,
   "user_envs_cfg": false
  }
 },
 "nbformat": 4,
 "nbformat_minor": 2
}
