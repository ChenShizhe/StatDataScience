{
 "cells": [
  {
   "cell_type": "markdown",
   "metadata": {},
   "source": [
    "# Introduction to Statistical Data Science "
   ]
  },
  {
   "cell_type": "markdown",
   "metadata": {},
   "source": [
    "## About this book\n",
    "\n",
    "This book is a collection of notes on statistical data science. This book is a work-in-progress, and materials in this book are updated constantly."
   ]
  },
  {
   "cell_type": "markdown",
   "metadata": {},
   "source": [
    "## What this book is about\n",
    "Learning to use R in order to perform:\n",
    "* Exploratory Data Analysis\n",
    "    - Data Visualization\n",
    "    - Data Transformation\n",
    "* Analyzing different types of data\n",
    "    - Numerical data\n",
    "    - Categorical data (factors)\n",
    "    - Text / strings\n",
    "    - Dates and times\n",
    "* Programming topics:\n",
    "    - Functions\n",
    "    - Abstraction\n",
    "    - Vectors / lists\n",
    "    - Iteration\n",
    "* Putting it all together to perform statistical inference\n",
    "    - Regression\n",
    "    - Model building\n",
    "    - Hypothesis testing"
   ]
  },
  {
   "cell_type": "markdown",
   "metadata": {},
   "source": [
    "## What this course is *not* about\n",
    "This is not a traditional programming course. You will learn to program in R as a byproduct of learning how to visualize, clean, and model data. However we will *not* cover things like:\n",
    "- Algorithms\n",
    "- Data structures\n",
    "- OOP\n",
    "- etc.\n",
    "\n",
    "If you find that you enjoy programming and want to go further, these would be good topics to learn about in a future course."
   ]
  },
  {
   "cell_type": "markdown",
   "metadata": {},
   "source": [
    "## Accessing an R programming enviroment\n",
    "Everything in this course will be done using [Jupyter notebooks](http://jupyter.org/) running the [R programming language](https://www.r-project.org/). Lecture notes will be distributed in Jupyter notebook format before lecture. There are two versions of lecture notes: fully annotated lecture notes and skeleton lecture notes.  The online lecture will be conducted using the skeleton lecture notes, and you are strongly encouraged to follow along using the skeleton lecture notes when you are watching the online lecture videos.  "
   ]
  },
  {
   "cell_type": "markdown",
   "metadata": {},
   "source": [
    "# What is R\n",
    "R is a programming language developed by statisticians to perform statistical analysis. The \"traditional\" way to run R from the Unix command line is by typing the command `R`:\n",
    "\n",
    "    $ R\n",
    "    R version 3.5.2 (2018-12-20) -- \"Eggshell Igloo\"\n",
    "    Copyright (C) 2018 The R Foundation for Statistical Computing\n",
    "    Platform: x86_64-apple-darwin17.7.0 (64-bit)\n",
    "\n",
    "    R is free software and comes with ABSOLUTELY NO WARRANTY.\n",
    "    You are welcome to redistribute it under certain conditions.\n",
    "    Type 'license()' or 'licence()' for distribution details.\n",
    "\n",
    "      Natural language support but running in an English locale\n",
    "\n",
    "    R is a collaborative project with many contributors.\n",
    "    Type 'contributors()' for more information and\n",
    "    'citation()' on how to cite R or R packages in publications.\n",
    "\n",
    "    Type 'demo()' for some demos, 'help()' for on-line help, or\n",
    "    'help.start()' for an HTML browser interface to help.\n",
    "    Type 'q()' to quit R.\n",
    "\n",
    "    >"
   ]
  },
  {
   "cell_type": "markdown",
   "metadata": {},
   "source": [
    "We won't use the command line in this class. The Jupyter notebook which runs these slides is running an R \"kernel\" in the background. Typing commands into these cells is the same as if you had type typed them into the R interpreter:"
   ]
  },
  {
   "cell_type": "markdown",
   "metadata": {},
   "source": [
    "# Setting up R and Jupyter"
   ]
  },
  {
   "cell_type": "markdown",
   "metadata": {},
   "source": [
    "Install Anacondda Python 3.x distribution from <https://www.anaconda.com/download/>.  \n",
    "\n",
    "Then, you can:\n",
    "-  *windows* -- start up Anaconda Prompt\n",
    "-  *linux/macOS* -- start up your terminal\n",
    "\n",
    "And type \n",
    "\n",
    "    conda install -c r r-essentials r-irkernel r-tidyverse\n",
    "\n",
    "\n",
    "1. Install R from https://www.r-project.org/. If you already have an existing installation from 250 or another class you don't have to do this step, but reinstalling may still be the easiest solution since it should fix any paths that were changed by conda.\n",
    "2. Open R and run\n",
    "    ```\n",
    "    install.packages(c('IRkernel', 'tidyverse'))\n",
    "    ```    \n",
    "3. On OSX, open Terminal (command-space, type `Terminal`), then type `R` and hit enter to open an R prompt. If you didn't reinstall `R` in step 2, instead you may need to enter something like `/Library/Frameworks/R.framework/Versions/3.6/Resources/bin/R`, where the version number `3.6` may change depending on when you originally installed `R`.\n",
    "\n",
    "    On Windows, open Anaconda Prompt (or the console from the Anaconda Navigator). You then need to type or paste the path to the `R.exe` file in quotes to the console. If you used the default installation settings it should be something like\n",
    "    ```\n",
    "    \"C:\\Program Files\\R\\R-3.6.2\\bin\\x64\\R.exe\"\n",
    "    ```\n",
    "    Then hit enter to open an R prompt.\n",
    "    \n",
    "4. Once you have an R prompt open, run \n",
    "    ```\n",
    "    library(IRkernel)\n",
    "    installspec()\n",
    "    ```\n",
    "    \n",
    "Now you should be able to open jupyter notebooks and set the kernel to R. To check, open a notebook and go to Kernel->Change kernel."
   ]
  },
  {
   "cell_type": "markdown",
   "metadata": {},
   "source": [
    "\n",
    "Now you are ready to play around with a Jupyter notebook!\n",
    "\n",
    "You can startup your notebook through the Anaconda Navigator or by typing \n",
    "\n",
    "    jupyter notebook\n",
    "\n",
    "into the prompt."
   ]
  },
  {
   "cell_type": "markdown",
   "metadata": {},
   "source": [
    "# Running Jupyter online"
   ]
  },
  {
   "cell_type": "markdown",
   "metadata": {},
   "source": [
    "Notebook Binder: TBA"
   ]
  }
 ],
 "metadata": {
  "kernelspec": {
   "display_name": "Python 3",
   "language": "python",
   "name": "python3"
  },
  "language_info": {
   "codemirror_mode": {
    "name": "ipython",
    "version": 3
   },
   "file_extension": ".py",
   "mimetype": "text/x-python",
   "name": "python",
   "nbconvert_exporter": "python",
   "pygments_lexer": "ipython3",
   "version": "3.6.5"
  }
 },
 "nbformat": 4,
 "nbformat_minor": 2
}
