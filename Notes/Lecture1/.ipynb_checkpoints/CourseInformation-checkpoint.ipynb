{
 "cells": [
  {
   "cell_type": "markdown",
   "metadata": {},
   "source": [
    "# STATS 306: Introduction to Statistical Computing\n",
    "\n",
    "## Prof. Kean Ming Tan"
   ]
  },
  {
   "cell_type": "markdown",
   "metadata": {},
   "source": [
    "# Administrative stuff\n",
    "\n",
    "| Person                  | Uniqname | Office Hours       | Sychronous Sessions      |\n",
    "|-------------------------|----------|--------------|---------------|\n",
    "| Prof. Kean Ming Tan     | keanming | Tu 8:30-9:30pm<br/>F 2:00-3:00pm | F 1:00-2:00pm |\n",
    "| Brian Manzo             | bmanzo   |    Th 9:00-10:30am       |     W 8:30-10:00am (in person)       |\n",
    "| Derek Hansen             | dereklh     |    M 9:00-10:30am       |     W 1:00-2:30pm       |\n",
    "| Yanxin Jin             | yanxinj  |    Tu 8:30-10:00am       |     W 2:30-4:00pm       |\n",
    "| Jing Ouyang             | jingoy     |    Wed 12:00pm-1:30pm        |     W 4:00-5:30pm      |\n",
    "\n",
    "\n",
    "\n"
   ]
  },
  {
   "cell_type": "markdown",
   "metadata": {},
   "source": [
    "## The book\n",
    "\n",
    "<img style=\"float:right; margin: 10px; width: 200px\" src=\"https://d33wubrfki0l68.cloudfront.net/b88ef926a004b0fce72b2526b0b5c4413666a4cb/24a30/cover.png\"/>\n",
    "\n",
    "We will follow the book \"R for Data Science\" (R4DS) by Hadley Wickham and Garrett Grolemund. The electronic version is available [for free](http://r4ds.had.co.nz). There is no need to purchase the hardcopy version unless you enjoy spending money."
   ]
  },
  {
   "cell_type": "markdown",
   "metadata": {},
   "source": [
    "# Some Important Links\n",
    "\n",
    "* Canvas: https://umich.instructure.com/courses/394271/assignments/syllabus\n",
    "* Piazza: piazza.com/umich/fall2020/stats306001fa2020 \n",
    "* accesscode: stats306_fall2020_1\n",
    "* GitHubpage: https://github.com/keanmingtan/stats306_fall2020\n",
    "* Notebook Binder: https://mybinder.org/v2/gh/keanmingtan/stats306_fall2020/master\n",
    " The notebooks containing lecture material are all in the above github repository, and will also be posted in Canvas.   Accessing the notebooks from GitHub will show you a properly rendered notebooks thanks to the awesome rendering service at http://nbviewer.jupyter.org/.\n",
    "\n",
    "In order to run code in these notebooks, you can simply copy-paste the code cells into R/RStudio. You can also run the notebooks live here: https://mybinder.org/. Just copy-paste github URL above into the box that says “Github repository name or URL”. Also, if you navigate to the github repository above, you will see a “launch binder” button that you press to launch the live notebooks.\n"
   ]
  },
  {
   "cell_type": "markdown",
   "metadata": {},
   "source": [
    "# Pedagogical Approach\n",
    "\n",
    "Due to the online nature of the class, this class will contain three main components.  \n",
    "\n",
    "* Weekly asynchronous lectures, with lecture videos posted by 12pm every Thursday.     We will have multiple videos, each covering separate sub-topics.    A skeleton Jupyter notebook will be posted along with the lecture videos.     To best learn the class materials, you are strongly encouraged to launch the skeleton jupyter notebook and code simultaneously when watching the lecture videos.  A complete notebook with details will then be posted at 12pm every Friday.    \n",
    "* Optional weekly synchronous lectures from 1:00pm - 2:00pm on Friday, focusing mainly on applying what we have learnt in class to different case studies.  This session is to provide a chance for students to interact with the instructor, and also work on problem sets interactively.  The problem set that will be discussed in this session will be posted at 12pm every Thursday along with the lecture.  \n",
    "* Each student will be enrolled in a lab session, either in person or synchronous online sessions. The smaller lab session is an important core of the class and you are strongly encouraged to attend it.  The lab session provide the students a chance to have more interactions with each other as well as the respective GSI.  Lab session will go over some lecture materials and solve problems interactively.     "
   ]
  },
  {
   "cell_type": "markdown",
   "metadata": {},
   "source": [
    "## What this course is about\n",
    "Learning to use R in order to perform:\n",
    "* Exploratory Data Analysis\n",
    "    - Data Visualization\n",
    "    - Data Transformation\n",
    "* Analyzing different types of data\n",
    "    - Numerical data\n",
    "    - Categorical data (factors)\n",
    "    - Text / strings\n",
    "    - Dates and times\n",
    "* Programming topics:\n",
    "    - Functions\n",
    "    - Abstraction\n",
    "    - Vectors / lists\n",
    "    - Iteration\n",
    "* Putting it all together to perform statistical inference\n",
    "    - Regression\n",
    "    - Model building\n",
    "    - Hypothesis testing"
   ]
  },
  {
   "cell_type": "markdown",
   "metadata": {},
   "source": [
    "## What this course is *not* about\n",
    "This is not a traditional programming course. You will learn to program in R as a byproduct of learning how to visualize, clean, and model data. However we will *not* cover things like:\n",
    "- Algorithms\n",
    "- Data structures\n",
    "- OOP\n",
    "- etc.\n",
    "\n",
    "If you find that you enjoy programming and want to go further, these would be good topics to learn about in a future course."
   ]
  },
  {
   "cell_type": "markdown",
   "metadata": {},
   "source": [
    "# Goals for today's lecture\n",
    "- Learn how to get Jupyter / R running on your computer.\n",
    "- A very brief introduction to R programming. "
   ]
  },
  {
   "cell_type": "markdown",
   "metadata": {},
   "source": [
    "## Accessing an R programming enviroment\n",
    "Everything in this course will be done using [Jupyter notebooks](http://jupyter.org/) running the [R programming language](https://www.r-project.org/). Lecture notes will be distributed in Jupyter notebook format before lecture. There are two versions of lecture notes: fully annotated lecture notes and skeleton lecture notes.  The online lecture will be conducted using the skeleton lecture notes, and you are strongly encouraged to follow along using the skeleton lecture notes when you are watching the online lecture videos.  "
   ]
  },
  {
   "cell_type": "markdown",
   "metadata": {},
   "source": [
    "### Using JS3O\n",
    "The easiest way to get up and running in this environment is by surfing to [ https://mybinder.org/v2/gh/keanmingtan/stats306_fall2020/master]( https://mybinder.org/v2/gh/keanmingtan/stats306_fall2020/master). In fact, all lecture notes and homework will be posted to this link.  \n",
    "\n",
    "\n",
    "### RStudio\n",
    "Another popular option is [RStudio](http://rstudio.org). \n",
    "\n",
    "You are free to use whatever environment you please, but lectures and assignments will be done using Jupyter notebook."
   ]
  },
  {
   "cell_type": "markdown",
   "metadata": {},
   "source": [
    "# What is R\n",
    "R is a programming language developed by statisticians to perform statistical analysis. The \"traditional\" way to run R from the Unix command line is by typing the command `R`:\n",
    "\n",
    "    $ R\n",
    "    R version 3.5.2 (2018-12-20) -- \"Eggshell Igloo\"\n",
    "    Copyright (C) 2018 The R Foundation for Statistical Computing\n",
    "    Platform: x86_64-apple-darwin17.7.0 (64-bit)\n",
    "\n",
    "    R is free software and comes with ABSOLUTELY NO WARRANTY.\n",
    "    You are welcome to redistribute it under certain conditions.\n",
    "    Type 'license()' or 'licence()' for distribution details.\n",
    "\n",
    "      Natural language support but running in an English locale\n",
    "\n",
    "    R is a collaborative project with many contributors.\n",
    "    Type 'contributors()' for more information and\n",
    "    'citation()' on how to cite R or R packages in publications.\n",
    "\n",
    "    Type 'demo()' for some demos, 'help()' for on-line help, or\n",
    "    'help.start()' for an HTML browser interface to help.\n",
    "    Type 'q()' to quit R.\n",
    "\n",
    "    >"
   ]
  },
  {
   "cell_type": "markdown",
   "metadata": {},
   "source": [
    "We won't use the command line in this class. The Jupyter notebook which runs these slides is running an R \"kernel\" in the background. Typing commands into these cells is the same as if you had type typed them into the R interpreter:"
   ]
  },
  {
   "cell_type": "markdown",
   "metadata": {},
   "source": [
    "# Setting up R and Jupyter"
   ]
  },
  {
   "cell_type": "markdown",
   "metadata": {},
   "source": [
    "Install Anacondda Python 3.x distribution from <https://www.anaconda.com/download/>.  \n",
    "\n",
    "Then, you can:\n",
    "-  *windows* -- start up Anaconda Prompt\n",
    "-  *linux/macOS* -- start up your terminal\n",
    "\n",
    "And type \n",
    "\n",
    "    conda install -c r r-essentials r-irkernel r-tidyverse\n",
    "\n",
    "\n",
    "1. Install R from https://www.r-project.org/. If you already have an existing installation from 250 or another class you don't have to do this step, but reinstalling may still be the easiest solution since it should fix any paths that were changed by conda.\n",
    "2. Open R and run\n",
    "    ```\n",
    "    install.packages(c('IRkernel', 'tidyverse'))\n",
    "    ```    \n",
    "3. On OSX, open Terminal (command-space, type `Terminal`), then type `R` and hit enter to open an R prompt. If you didn't reinstall `R` in step 2, instead you may need to enter something like `/Library/Frameworks/R.framework/Versions/3.6/Resources/bin/R`, where the version number `3.6` may change depending on when you originally installed `R`.\n",
    "\n",
    "    On Windows, open Anaconda Prompt (or the console from the Anaconda Navigator). You then need to type or paste the path to the `R.exe` file in quotes to the console. If you used the default installation settings it should be something like\n",
    "    ```\n",
    "    \"C:\\Program Files\\R\\R-3.6.2\\bin\\x64\\R.exe\"\n",
    "    ```\n",
    "    Then hit enter to open an R prompt.\n",
    "    \n",
    "4. Once you have an R prompt open, run \n",
    "    ```\n",
    "    library(IRkernel)\n",
    "    installspec()\n",
    "    ```\n",
    "    \n",
    "Now you should be able to open jupyter notebooks and set the kernel to R. To check, open a notebook and go to Kernel->Change kernel."
   ]
  },
  {
   "cell_type": "markdown",
   "metadata": {},
   "source": [
    "\n",
    "Now you are ready to play around with a Jupyter notebook!\n",
    "\n",
    "You can startup your notebook through the Anaconda Navigator or by typing \n",
    "\n",
    "    jupyter notebook\n",
    "\n",
    "into the prompt."
   ]
  },
  {
   "cell_type": "markdown",
   "metadata": {},
   "source": [
    "# Running Jupyter online"
   ]
  },
  {
   "cell_type": "markdown",
   "metadata": {},
   "source": [
    "Notebook Binder: https://mybinder.org/v2/gh/keanmingtan/stats306_fall2020/master "
   ]
  },
  {
   "cell_type": "markdown",
   "metadata": {},
   "source": [
    "# Up next\n",
    "* Lecture 1.0 - Introduction to R Programming\n",
    "* Lecture 1.1 - Introduction to ggplot "
   ]
  },
  {
   "cell_type": "code",
   "execution_count": null,
   "metadata": {},
   "outputs": [],
   "source": []
  }
 ],
 "metadata": {
  "kernelspec": {
   "display_name": "Python 3",
   "language": "python",
   "name": "python3"
  },
  "language_info": {
   "codemirror_mode": {
    "name": "ipython",
    "version": 3
   },
   "file_extension": ".py",
   "mimetype": "text/x-python",
   "name": "python",
   "nbconvert_exporter": "python",
   "pygments_lexer": "ipython3",
   "version": "3.6.5"
  }
 },
 "nbformat": 4,
 "nbformat_minor": 2
}
