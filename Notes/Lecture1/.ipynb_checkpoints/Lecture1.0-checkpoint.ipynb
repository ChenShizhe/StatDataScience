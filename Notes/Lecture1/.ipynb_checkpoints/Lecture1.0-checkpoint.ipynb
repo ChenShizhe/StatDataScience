{
 "cells": [
  {
   "cell_type": "markdown",
   "metadata": {},
   "source": [
    "# Basic about R Programming\n",
    "\n",
    "This lecture note will cover some basics of R programming that we are going to use in the first few lectures."
   ]
  },
  {
   "cell_type": "markdown",
   "metadata": {},
   "source": [
    "### Assignment and operations"
   ]
  },
  {
   "cell_type": "code",
   "execution_count": 1,
   "metadata": {},
   "outputs": [
    {
     "name": "stdout",
     "output_type": "stream",
     "text": [
      "[1] 1\n",
      "[1] \"hello world\"\n",
      "[1] 2.5\n"
     ]
    }
   ],
   "source": [
    "x <- 1\n",
    "x = 1    \n",
    "y <- 2\n",
    "z <- \"hello world\"\n",
    "\n",
    "res = x^2/y + 2\n",
    "\n",
    "print(x)\n",
    "print(z)\n",
    "print(res)"
   ]
  },
  {
   "cell_type": "markdown",
   "metadata": {},
   "source": [
    "### Vectors\n",
    "The most basic element of statistics is a vector of numeric data. To create a vector in R, we use the following syntax:\n"
   ]
  },
  {
   "cell_type": "code",
   "execution_count": 2,
   "metadata": {},
   "outputs": [
    {
     "name": "stdout",
     "output_type": "stream",
     "text": [
      "[1] 1 2 3 4 5\n",
      "[1]  6  7  8  9 10\n"
     ]
    }
   ],
   "source": [
    "v <- c(1, 2, 3, 4, 5)\n",
    "w <- 6:10\n",
    "print(v)\n",
    "print(w)"
   ]
  },
  {
   "cell_type": "markdown",
   "metadata": {},
   "source": [
    "This create a variable named `v` and stores in it the vector of numbers `(1, 2, 3, 4, 5)`. Some things to note:\n",
    "\n",
    "-  The `<-` (arrow) is an operator used to assign values to variables. (If you are used to programming in other languages, `=` also works.)\n",
    "-  The `c()` is a function that takes several values and creates a vector out of them."
   ]
  },
  {
   "cell_type": "markdown",
   "metadata": {},
   "source": [
    "Let us concatenate the two vectors and make it into one longer vector"
   ]
  },
  {
   "cell_type": "code",
   "execution_count": 3,
   "metadata": {},
   "outputs": [
    {
     "name": "stdout",
     "output_type": "stream",
     "text": [
      " [1]  1  2  3  4  5  6  7  8  9 10\n"
     ]
    }
   ],
   "source": [
    "x <- c(v,w)\n",
    "print(x)"
   ]
  },
  {
   "cell_type": "markdown",
   "metadata": {},
   "source": [
    "Let us concatenate some other values onto the vector x"
   ]
  },
  {
   "cell_type": "code",
   "execution_count": 4,
   "metadata": {},
   "outputs": [
    {
     "name": "stdout",
     "output_type": "stream",
     "text": [
      " [1]   1   2   3   4   5   6   7   8   9  10 100\n"
     ]
    }
   ],
   "source": [
    "x <- c(x,100)\n",
    "print(x)"
   ]
  },
  {
   "cell_type": "markdown",
   "metadata": {},
   "source": [
    "Almost all operations in R are \"vectorized\", meaning that they can operate on vectors. If I want to multiply each element of `x` by the number 2, I simply type"
   ]
  },
  {
   "cell_type": "code",
   "execution_count": 5,
   "metadata": {},
   "outputs": [
    {
     "name": "stdout",
     "output_type": "stream",
     "text": [
      " [1]   2   4   6   8  10  12  14  16  18  20 200\n"
     ]
    }
   ],
   "source": [
    "y <- 2*x\n",
    "print(y)"
   ]
  },
  {
   "cell_type": "markdown",
   "metadata": {},
   "source": [
    "How about adding all of the elements in y up? "
   ]
  },
  {
   "cell_type": "code",
   "execution_count": 6,
   "metadata": {},
   "outputs": [
    {
     "data": {
      "text/html": [
       "310"
      ],
      "text/latex": [
       "310"
      ],
      "text/markdown": [
       "310"
      ],
      "text/plain": [
       "[1] 310"
      ]
     },
     "metadata": {},
     "output_type": "display_data"
    }
   ],
   "source": [
    "sum(y)"
   ]
  },
  {
   "cell_type": "markdown",
   "metadata": {},
   "source": [
    "Calculate the mean of y"
   ]
  },
  {
   "cell_type": "code",
   "execution_count": 7,
   "metadata": {},
   "outputs": [
    {
     "data": {
      "text/html": [
       "28.1818181818182"
      ],
      "text/latex": [
       "28.1818181818182"
      ],
      "text/markdown": [
       "28.1818181818182"
      ],
      "text/plain": [
       "[1] 28.18182"
      ]
     },
     "metadata": {},
     "output_type": "display_data"
    },
    {
     "data": {
      "text/html": [
       "28.1818181818182"
      ],
      "text/latex": [
       "28.1818181818182"
      ],
      "text/markdown": [
       "28.1818181818182"
      ],
      "text/plain": [
       "[1] 28.18182"
      ]
     },
     "metadata": {},
     "output_type": "display_data"
    }
   ],
   "source": [
    "mean(y)\n",
    "sum(y)/length(y)"
   ]
  },
  {
   "cell_type": "markdown",
   "metadata": {},
   "source": [
    "## Logical values\n",
    "In addition to representing numbers, it's quite common when programming to deal with *boolean* (true / false) values. In R these are represented by the special values `TRUE` and `FALSE`, commonly abbreviated `T` and `F`:"
   ]
  },
  {
   "cell_type": "code",
   "execution_count": 8,
   "metadata": {},
   "outputs": [
    {
     "name": "stdout",
     "output_type": "stream",
     "text": [
      "[1]  TRUE FALSE  TRUE  TRUE FALSE\n"
     ]
    }
   ],
   "source": [
    "u <- c(T, F, TRUE, TRUE, FALSE)\n",
    "print(u)"
   ]
  },
  {
   "cell_type": "markdown",
   "metadata": {},
   "source": [
    "One way we can get logical values is asking whether numerical values are larger or smaller than some number:"
   ]
  },
  {
   "cell_type": "code",
   "execution_count": 9,
   "metadata": {},
   "outputs": [
    {
     "name": "stdout",
     "output_type": "stream",
     "text": [
      "[1] FALSE  TRUE  TRUE\n",
      "[1] 2 3\n"
     ]
    }
   ],
   "source": [
    "v <- c(1, 2, 3)\n",
    "print(v > 1)\n",
    "print(v[v > 1])"
   ]
  },
  {
   "cell_type": "markdown",
   "metadata": {},
   "source": [
    "## Missing values\n",
    "In statistics missing data is common. A unique feature of R that sets it apart from other languages is a native ability to handle missing data via the special value `NA`:"
   ]
  },
  {
   "cell_type": "code",
   "execution_count": 10,
   "metadata": {},
   "outputs": [
    {
     "data": {
      "text/html": [
       "3"
      ],
      "text/latex": [
       "3"
      ],
      "text/markdown": [
       "3"
      ],
      "text/plain": [
       "[1] 3"
      ]
     },
     "metadata": {},
     "output_type": "display_data"
    }
   ],
   "source": [
    "length(c(1, 2, NA))"
   ]
  },
  {
   "cell_type": "markdown",
   "metadata": {},
   "source": [
    "Think of `NA` as saying that you don't know the value of something. Is `NA` greater than 5? I don't know, because I don't know what the original value was:"
   ]
  },
  {
   "cell_type": "code",
   "execution_count": 11,
   "metadata": {},
   "outputs": [
    {
     "data": {
      "text/html": [
       "TRUE"
      ],
      "text/latex": [
       "TRUE"
      ],
      "text/markdown": [
       "TRUE"
      ],
      "text/plain": [
       "[1] TRUE"
      ]
     },
     "metadata": {},
     "output_type": "display_data"
    },
    {
     "name": "stdout",
     "output_type": "stream",
     "text": [
      "[1] NA\n"
     ]
    }
   ],
   "source": [
    "x <- NA\n",
    "is.na(x)\n",
    "print(x > 5)"
   ]
  },
  {
   "cell_type": "markdown",
   "metadata": {},
   "source": [
    "## Functions\n",
    "Above we saw that typing `c(1,2,3,4,5)` creates a vector with the numbers 1-5. `c()` is an example of a *function*. The general form of a function in R (and most other programming languages) is:\n",
    "\n",
    "    <function name>(<function arguments>)\n",
    "    \n",
    "In the above example, the function is named `c`, and the arguments were `1, 2, 3, 4, 5`. Another example of a function is `print`, which prints its arguments to the screen:"
   ]
  },
  {
   "cell_type": "code",
   "execution_count": 12,
   "metadata": {},
   "outputs": [
    {
     "name": "stdout",
     "output_type": "stream",
     "text": [
      "[1] \"I am a function named print\"\n"
     ]
    }
   ],
   "source": [
    "print(\"I am a function named print\" )"
   ]
  },
  {
   "cell_type": "markdown",
   "metadata": {},
   "source": [
    "## Data Frames\n",
    "\n",
    "Our main goal in R is to work with data, and one of the most fundamental objects in R is the *data frame*. Think of a data frame as a container for a bunch of vectors of data:\n",
    "\n",
    "![dataframe](https://garrettgman.github.io/images/tidy-2.png)"
   ]
  },
  {
   "cell_type": "markdown",
   "metadata": {},
   "source": [
    "We will now load the data set **population** from the R package **tidyverse** "
   ]
  },
  {
   "cell_type": "code",
   "execution_count": 13,
   "metadata": {},
   "outputs": [
    {
     "name": "stderr",
     "output_type": "stream",
     "text": [
      "── \u001b[1mAttaching packages\u001b[22m ─────────────────────────────────────── tidyverse 1.3.0 ──\n",
      "\n",
      "\u001b[32m✔\u001b[39m \u001b[34mggplot2\u001b[39m 3.3.2     \u001b[32m✔\u001b[39m \u001b[34mpurrr  \u001b[39m 0.3.4\n",
      "\u001b[32m✔\u001b[39m \u001b[34mtibble \u001b[39m 3.0.3     \u001b[32m✔\u001b[39m \u001b[34mdplyr  \u001b[39m 1.0.2\n",
      "\u001b[32m✔\u001b[39m \u001b[34mtidyr  \u001b[39m 1.1.1     \u001b[32m✔\u001b[39m \u001b[34mstringr\u001b[39m 1.4.0\n",
      "\u001b[32m✔\u001b[39m \u001b[34mreadr  \u001b[39m 1.3.1     \u001b[32m✔\u001b[39m \u001b[34mforcats\u001b[39m 0.5.0\n",
      "\n",
      "── \u001b[1mConflicts\u001b[22m ────────────────────────────────────────── tidyverse_conflicts() ──\n",
      "\u001b[31m✖\u001b[39m \u001b[34mdplyr\u001b[39m::\u001b[32mfilter()\u001b[39m masks \u001b[34mstats\u001b[39m::filter()\n",
      "\u001b[31m✖\u001b[39m \u001b[34mdplyr\u001b[39m::\u001b[32mlag()\u001b[39m    masks \u001b[34mstats\u001b[39m::lag()\n",
      "\n"
     ]
    }
   ],
   "source": [
    "library(tidyverse)"
   ]
  },
  {
   "cell_type": "code",
   "execution_count": 14,
   "metadata": {},
   "outputs": [
    {
     "data": {
      "text/html": [
       "<table>\n",
       "<caption>A tibble: 6 × 3</caption>\n",
       "<thead>\n",
       "\t<tr><th scope=col>country</th><th scope=col>year</th><th scope=col>population</th></tr>\n",
       "\t<tr><th scope=col>&lt;chr&gt;</th><th scope=col>&lt;int&gt;</th><th scope=col>&lt;int&gt;</th></tr>\n",
       "</thead>\n",
       "<tbody>\n",
       "\t<tr><td>Afghanistan</td><td>1995</td><td>17586073</td></tr>\n",
       "\t<tr><td>Afghanistan</td><td>1996</td><td>18415307</td></tr>\n",
       "\t<tr><td>Afghanistan</td><td>1997</td><td>19021226</td></tr>\n",
       "\t<tr><td>Afghanistan</td><td>1998</td><td>19496836</td></tr>\n",
       "\t<tr><td>Afghanistan</td><td>1999</td><td>19987071</td></tr>\n",
       "\t<tr><td>Afghanistan</td><td>2000</td><td>20595360</td></tr>\n",
       "</tbody>\n",
       "</table>\n"
      ],
      "text/latex": [
       "A tibble: 6 × 3\n",
       "\\begin{tabular}{lll}\n",
       " country & year & population\\\\\n",
       " <chr> & <int> & <int>\\\\\n",
       "\\hline\n",
       "\t Afghanistan & 1995 & 17586073\\\\\n",
       "\t Afghanistan & 1996 & 18415307\\\\\n",
       "\t Afghanistan & 1997 & 19021226\\\\\n",
       "\t Afghanistan & 1998 & 19496836\\\\\n",
       "\t Afghanistan & 1999 & 19987071\\\\\n",
       "\t Afghanistan & 2000 & 20595360\\\\\n",
       "\\end{tabular}\n"
      ],
      "text/markdown": [
       "\n",
       "A tibble: 6 × 3\n",
       "\n",
       "| country &lt;chr&gt; | year &lt;int&gt; | population &lt;int&gt; |\n",
       "|---|---|---|\n",
       "| Afghanistan | 1995 | 17586073 |\n",
       "| Afghanistan | 1996 | 18415307 |\n",
       "| Afghanistan | 1997 | 19021226 |\n",
       "| Afghanistan | 1998 | 19496836 |\n",
       "| Afghanistan | 1999 | 19987071 |\n",
       "| Afghanistan | 2000 | 20595360 |\n",
       "\n"
      ],
      "text/plain": [
       "  country     year population\n",
       "1 Afghanistan 1995 17586073  \n",
       "2 Afghanistan 1996 18415307  \n",
       "3 Afghanistan 1997 19021226  \n",
       "4 Afghanistan 1998 19496836  \n",
       "5 Afghanistan 1999 19987071  \n",
       "6 Afghanistan 2000 20595360  "
      ]
     },
     "metadata": {},
     "output_type": "display_data"
    }
   ],
   "source": [
    "head(population)"
   ]
  },
  {
   "cell_type": "markdown",
   "metadata": {},
   "source": [
    "To extract a vector (column) of data from a data frame, we use the `$` operator:"
   ]
  },
  {
   "cell_type": "code",
   "execution_count": 15,
   "metadata": {},
   "outputs": [
    {
     "data": {
      "text/html": [
       "219"
      ],
      "text/latex": [
       "219"
      ],
      "text/markdown": [
       "219"
      ],
      "text/plain": [
       "[1] 219"
      ]
     },
     "metadata": {},
     "output_type": "display_data"
    }
   ],
   "source": [
    "length(unique(population$country))"
   ]
  },
  {
   "cell_type": "markdown",
   "metadata": {},
   "source": [
    "## Loading a data frame\n",
    "To load a data frame from a file we use the `load()` function. In the same folder as this lecture there is a file called `flint.RData`. "
   ]
  },
  {
   "cell_type": "code",
   "execution_count": 16,
   "metadata": {},
   "outputs": [],
   "source": [
    "load('flint.RData')"
   ]
  },
  {
   "cell_type": "markdown",
   "metadata": {},
   "source": [
    "This has loaded a data frame into a variable called `flint` containing data from the Flint water crisis:"
   ]
  },
  {
   "cell_type": "code",
   "execution_count": 17,
   "metadata": {},
   "outputs": [
    {
     "data": {
      "text/plain": [
       " Sample Number      Date Submitted                Analysis (Lead)   \n",
       " Length:23184       Min.   :2015-09-03 11:05:45   Length:23184      \n",
       " Class :character   1st Qu.:2016-02-01 13:27:43   Class :character  \n",
       " Mode  :character   Median :2016-02-18 13:07:39   Mode  :character  \n",
       "                    Mean   :2016-02-29 14:05:42                     \n",
       "                    3rd Qu.:2016-03-24 13:34:40                     \n",
       "                    Max.   :2016-06-30 12:40:08                     \n",
       "                    NA's   :13                                      \n",
       "   Lead (ppb)       Analysis (Copper)   Copper (ppb)       Street #        \n",
       " Min.   :    0.00   Length:23184       Min.   :    0.0   Length:23184      \n",
       " 1st Qu.:    0.00   Class :character   1st Qu.:    0.0   Class :character  \n",
       " Median :    1.00   Mode  :character   Median :    0.0   Mode  :character  \n",
       " Mean   :   17.09                      Mean   :   98.7                     \n",
       " 3rd Qu.:    3.00                      3rd Qu.:  100.0                     \n",
       " Max.   :22905.00                      Max.   :70000.0                     \n",
       " NA's   :13                            NA's   :13                          \n",
       " Street Name            City             Zip Code        \n",
       " Length:23184       Length:23184       Length:23184      \n",
       " Class :character   Class :character   Class :character  \n",
       " Mode  :character   Mode  :character   Mode  :character  \n",
       "                                                         \n",
       "                                                         \n",
       "                                                         \n",
       "                                                         "
      ]
     },
     "metadata": {},
     "output_type": "display_data"
    }
   ],
   "source": [
    "summary(flint)"
   ]
  },
  {
   "cell_type": "markdown",
   "metadata": {},
   "source": [
    "Let's do some basic analysis of the Flint water crisis using this data. \n",
    "\n",
    "What are some questions we could ask about this data set?"
   ]
  },
  {
   "cell_type": "code",
   "execution_count": 18,
   "metadata": {},
   "outputs": [
    {
     "data": {
      "text/html": [
       "281.367832727589"
      ],
      "text/latex": [
       "281.367832727589"
      ],
      "text/markdown": [
       "281.367832727589"
      ],
      "text/plain": [
       "[1] 281.3678"
      ]
     },
     "metadata": {},
     "output_type": "display_data"
    }
   ],
   "source": [
    "sd(flint$`Lead (ppb)`, na.rm = TRUE)"
   ]
  },
  {
   "cell_type": "code",
   "execution_count": 19,
   "metadata": {},
   "outputs": [
    {
     "data": {
      "image/png": "[encoded data removed]",
      "text/plain": [
       "Plot with title “Histogram of v[v < 10000 & v > 500]”"
      ]
     },
     "metadata": {
      "image/png": {
       "height": 420,
       "width": 420
      }
     },
     "output_type": "display_data"
    }
   ],
   "source": [
    "v <- flint$`Lead (ppb)`\n",
    "hist(v[v < 10000 & v > 500])"
   ]
  },
  {
   "cell_type": "code",
   "execution_count": 20,
   "metadata": {},
   "outputs": [
    {
     "data": {
      "text/plain": [
       "\n",
       "       ***      45503      45804      48050      48053      48054      48057 \n",
       "       112          2          1          1          2          1          1 \n",
       "     48132      48205      48304      48386      48403      48406      48420 \n",
       "         1          1          2          1          1          1          2 \n",
       "     48423      48430      48432      48433      48439      48457      48458 \n",
       "         3          1          1         10          9          2         25 \n",
       "     48463      48473      48501      48502      48503 48503-1042 48503-2640 \n",
       "         1          1          7        214       6882          1          1 \n",
       "48503-2719 48503-2812 48503-3535 48503-4524 48503-4601 48503-5314      48504 \n",
       "         1          1          1          1          1          1       4053 \n",
       "48504-1644 48504-2164 48504-2844 48504-4842  48504-706 48504-7139      48505 \n",
       "         1          1          1          1          1          1       3257 \n",
       "48505-1934 48505-2551 48505-2564 48505-3327 48505-5164      48506 48506-2665 \n",
       "         1          1          1          1          1       3073          1 \n",
       "48506-2680 48506-3506 48506-3753 48506-5216      48507 48507-1352 48507-1433 \n",
       "         1          1          1          1       3875          1          1 \n",
       "48507-1521 48507-1528 48507-1894 48507-2518 48507-2823 48507-5305 48507-5656 \n",
       "         1          1          1          1          1          1          1 \n",
       "48507-6230      48508      48509      48514      48517      48519      48522 \n",
       "         1          3         12          1          1          8          1 \n",
       "     48529      48530      48532 48532-5208 48532-5235      48540      48560 \n",
       "       119          1        504          1          1          1          2 \n",
       "     48584      48750      48804      48805      48817      48905      49010 \n",
       "         1          1          1          1          1          1          1 \n",
       "     49502      49503      49504      54857      58507 \n",
       "         1          1          1          1          1 "
      ]
     },
     "metadata": {},
     "output_type": "display_data"
    }
   ],
   "source": [
    "table(flint$`Zip Code`)"
   ]
  },
  {
   "cell_type": "code",
   "execution_count": 21,
   "metadata": {},
   "outputs": [
    {
     "data": {
      "text/html": [
       "8.32773109243698"
      ],
      "text/latex": [
       "8.32773109243698"
      ],
      "text/markdown": [
       "8.32773109243698"
      ],
      "text/plain": [
       "[1] 8.327731"
      ]
     },
     "metadata": {},
     "output_type": "display_data"
    }
   ],
   "source": [
    "z <- flint$`Zip Code`\n",
    "mean(v[z == \"48529\"], na.rm=T)"
   ]
  },
  {
   "cell_type": "markdown",
   "metadata": {},
   "source": [
    "`greet` is the **name** of our function. `x` is the **argument** to the function and the code between the curly brackets `{` and `}` is the **body** of the function.\n",
    "\n",
    "Let's see what happens when we don't provide an argument."
   ]
  },
  {
   "cell_type": "code",
   "execution_count": 39,
   "metadata": {},
   "outputs": [
    {
     "ename": "ERROR",
     "evalue": "Error in str_c(\"Nice to meet you \", x, \"!\"): argument \"x\" is missing, with no default\n",
     "output_type": "error",
     "traceback": [
      "Error in str_c(\"Nice to meet you \", x, \"!\"): argument \"x\" is missing, with no default\nTraceback:\n",
      "1. greet()",
      "2. str_c(\"Nice to meet you \", x, \"!\")   # at line 2 of file <text>",
      "3. stri_c(..., sep = sep, collapse = collapse, ignore_null = TRUE)"
     ]
    }
   ],
   "source": [
    "greet()"
   ]
  },
  {
   "cell_type": "markdown",
   "metadata": {},
   "source": [
    "We can supply the **default** value of argument as the code below shows."
   ]
  },
  {
   "cell_type": "code",
   "execution_count": 40,
   "metadata": {},
   "outputs": [],
   "source": [
    "greet <- function(x = \"friend\") {\n",
    "    str_c(\"Nice to meet you \", x, \"!\")\n",
    "}"
   ]
  },
  {
   "cell_type": "markdown",
   "metadata": {},
   "source": [
    "If we suply the argument, the function works as before."
   ]
  },
  {
   "cell_type": "code",
   "execution_count": 41,
   "metadata": {},
   "outputs": [
    {
     "data": {
      "text/html": [
       "'Nice to meet you stranger!'"
      ],
      "text/latex": [
       "'Nice to meet you stranger!'"
      ],
      "text/markdown": [
       "'Nice to meet you stranger!'"
      ],
      "text/plain": [
       "[1] \"Nice to meet you stranger!\""
      ]
     },
     "metadata": {},
     "output_type": "display_data"
    }
   ],
   "source": [
    "greet('stranger')"
   ]
  },
  {
   "cell_type": "markdown",
   "metadata": {},
   "source": [
    "If we don't, it uses the default argument."
   ]
  },
  {
   "cell_type": "code",
   "execution_count": 42,
   "metadata": {},
   "outputs": [
    {
     "data": {
      "text/html": [
       "'Nice to meet you friend!'"
      ],
      "text/latex": [
       "'Nice to meet you friend!'"
      ],
      "text/markdown": [
       "'Nice to meet you friend!'"
      ],
      "text/plain": [
       "[1] \"Nice to meet you friend!\""
      ]
     },
     "metadata": {},
     "output_type": "display_data"
    }
   ],
   "source": [
    "greet()"
   ]
  },
  {
   "cell_type": "markdown",
   "metadata": {},
   "source": [
    "Let's see what happens when we pass along the empty string \"\" as an argument to `say_hello`."
   ]
  },
  {
   "cell_type": "code",
   "execution_count": 43,
   "metadata": {},
   "outputs": [
    {
     "data": {
      "text/html": [
       "'Nice to meet you !'"
      ],
      "text/latex": [
       "'Nice to meet you !'"
      ],
      "text/markdown": [
       "'Nice to meet you !'"
      ],
      "text/plain": [
       "[1] \"Nice to meet you !\""
      ]
     },
     "metadata": {},
     "output_type": "display_data"
    }
   ],
   "source": [
    "greet(\"\")"
   ]
  },
  {
   "cell_type": "markdown",
   "metadata": {},
   "source": [
    "Perhaps, we don't like the space between \"you\" and \"!\" in this case. So we will add a check to see if the argument is an empty string."
   ]
  },
  {
   "cell_type": "code",
   "execution_count": 44,
   "metadata": {},
   "outputs": [],
   "source": [
    "greet <- function(x = \"friend\") {\n",
    "    if (str_length(x) == 0) {\n",
    "        \"Nice to meet you!\"\n",
    "    } else {\n",
    "        str_c(\"Nice to meet you \", x, \"!\")\n",
    "    }\n",
    "}"
   ]
  },
  {
   "cell_type": "code",
   "execution_count": 45,
   "metadata": {},
   "outputs": [
    {
     "data": {
      "text/html": [
       "'Nice to meet you!'"
      ],
      "text/latex": [
       "'Nice to meet you!'"
      ],
      "text/markdown": [
       "'Nice to meet you!'"
      ],
      "text/plain": [
       "[1] \"Nice to meet you!\""
      ]
     },
     "metadata": {},
     "output_type": "display_data"
    }
   ],
   "source": [
    "greet(\"\")"
   ]
  },
  {
   "cell_type": "markdown",
   "metadata": {},
   "source": [
    "We just saw an instance of **conditional execution** of code using the `if` statement."
   ]
  },
  {
   "cell_type": "markdown",
   "metadata": {},
   "source": [
    "## Vectors"
   ]
  },
  {
   "cell_type": "markdown",
   "metadata": {},
   "source": [
    "R has two types of vectors:\n",
    "\n",
    "**Atomic vectors**: These are homogeneous in the sense that every element is of the same type. For example, logical, integer, double, character.\n",
    "\n",
    "**Lists**: These are heterogenous in the sense that different elements can be of different types. In particular, a list can contain another list."
   ]
  },
  {
   "cell_type": "code",
   "execution_count": 46,
   "metadata": {},
   "outputs": [
    {
     "name": "stderr",
     "output_type": "stream",
     "text": [
      "\n",
      "Attaching package: ‘matlab’\n",
      "\n",
      "\n",
      "The following object is masked from ‘package:stats’:\n",
      "\n",
      "    reshape\n",
      "\n",
      "\n",
      "The following objects are masked from ‘package:utils’:\n",
      "\n",
      "    find, fix\n",
      "\n",
      "\n",
      "The following object is masked from ‘package:base’:\n",
      "\n",
      "    sum\n",
      "\n",
      "\n"
     ]
    }
   ],
   "source": [
    "library(matlab)"
   ]
  },
  {
   "cell_type": "code",
   "execution_count": 47,
   "metadata": {},
   "outputs": [
    {
     "data": {
      "text/html": [
       "<ol class=list-inline>\n",
       "\t<li>FALSE</li>\n",
       "\t<li>TRUE</li>\n",
       "\t<li>TRUE</li>\n",
       "\t<li>FALSE</li>\n",
       "\t<li>TRUE</li>\n",
       "\t<li>FALSE</li>\n",
       "\t<li>TRUE</li>\n",
       "\t<li>FALSE</li>\n",
       "\t<li>FALSE</li>\n",
       "\t<li>FALSE</li>\n",
       "</ol>\n"
      ],
      "text/latex": [
       "\\begin{enumerate*}\n",
       "\\item FALSE\n",
       "\\item TRUE\n",
       "\\item TRUE\n",
       "\\item FALSE\n",
       "\\item TRUE\n",
       "\\item FALSE\n",
       "\\item TRUE\n",
       "\\item FALSE\n",
       "\\item FALSE\n",
       "\\item FALSE\n",
       "\\end{enumerate*}\n"
      ],
      "text/markdown": [
       "1. FALSE\n",
       "2. TRUE\n",
       "3. TRUE\n",
       "4. FALSE\n",
       "5. TRUE\n",
       "6. FALSE\n",
       "7. TRUE\n",
       "8. FALSE\n",
       "9. FALSE\n",
       "10. FALSE\n",
       "\n",
       "\n"
      ],
      "text/plain": [
       " [1] FALSE  TRUE  TRUE FALSE  TRUE FALSE  TRUE FALSE FALSE FALSE"
      ]
     },
     "metadata": {},
     "output_type": "display_data"
    }
   ],
   "source": [
    "(my_lgl_vector <- isprime(1:10) == 1) # TRUE if prime, FALSE if composite"
   ]
  },
  {
   "cell_type": "code",
   "execution_count": 48,
   "metadata": {},
   "outputs": [
    {
     "data": {
      "text/html": [
       "'logical'"
      ],
      "text/latex": [
       "'logical'"
      ],
      "text/markdown": [
       "'logical'"
      ],
      "text/plain": [
       "[1] \"logical\""
      ]
     },
     "metadata": {},
     "output_type": "display_data"
    }
   ],
   "source": [
    "typeof(my_lgl_vector)"
   ]
  },
  {
   "cell_type": "code",
   "execution_count": 49,
   "metadata": {},
   "outputs": [
    {
     "data": {
      "text/html": [
       "10"
      ],
      "text/latex": [
       "10"
      ],
      "text/markdown": [
       "10"
      ],
      "text/plain": [
       "[1] 10"
      ]
     },
     "metadata": {},
     "output_type": "display_data"
    }
   ],
   "source": [
    "length(my_lgl_vector)"
   ]
  },
  {
   "cell_type": "code",
   "execution_count": 50,
   "metadata": {},
   "outputs": [
    {
     "data": {
      "text/html": [
       "<ol class=list-inline>\n",
       "\t<li>1.01</li>\n",
       "\t<li>1.02</li>\n",
       "\t<li>1.03</li>\n",
       "\t<li>1.04</li>\n",
       "\t<li>1.05</li>\n",
       "\t<li>1.06</li>\n",
       "\t<li>1.07</li>\n",
       "\t<li>1.08</li>\n",
       "\t<li>1.09</li>\n",
       "\t<li>1.1</li>\n",
       "</ol>\n"
      ],
      "text/latex": [
       "\\begin{enumerate*}\n",
       "\\item 1.01\n",
       "\\item 1.02\n",
       "\\item 1.03\n",
       "\\item 1.04\n",
       "\\item 1.05\n",
       "\\item 1.06\n",
       "\\item 1.07\n",
       "\\item 1.08\n",
       "\\item 1.09\n",
       "\\item 1.1\n",
       "\\end{enumerate*}\n"
      ],
      "text/markdown": [
       "1. 1.01\n",
       "2. 1.02\n",
       "3. 1.03\n",
       "4. 1.04\n",
       "5. 1.05\n",
       "6. 1.06\n",
       "7. 1.07\n",
       "8. 1.08\n",
       "9. 1.09\n",
       "10. 1.1\n",
       "\n",
       "\n"
      ],
      "text/plain": [
       " [1] 1.01 1.02 1.03 1.04 1.05 1.06 1.07 1.08 1.09 1.10"
      ]
     },
     "metadata": {},
     "output_type": "display_data"
    }
   ],
   "source": [
    "(my_dbl_vector <- 101:110 / 100)"
   ]
  },
  {
   "cell_type": "code",
   "execution_count": 51,
   "metadata": {},
   "outputs": [
    {
     "data": {
      "text/html": [
       "<ol class=list-inline>\n",
       "\t<li>1.00498756211209</li>\n",
       "\t<li>1.00995049383621</li>\n",
       "\t<li>1.01488915650922</li>\n",
       "\t<li>1.01980390271856</li>\n",
       "\t<li>1.02469507659596</li>\n",
       "\t<li>1.0295630140987</li>\n",
       "\t<li>1.03440804327886</li>\n",
       "\t<li>1.03923048454133</li>\n",
       "\t<li>1.04403065089106</li>\n",
       "\t<li>1.04880884817015</li>\n",
       "</ol>\n"
      ],
      "text/latex": [
       "\\begin{enumerate*}\n",
       "\\item 1.00498756211209\n",
       "\\item 1.00995049383621\n",
       "\\item 1.01488915650922\n",
       "\\item 1.01980390271856\n",
       "\\item 1.02469507659596\n",
       "\\item 1.0295630140987\n",
       "\\item 1.03440804327886\n",
       "\\item 1.03923048454133\n",
       "\\item 1.04403065089106\n",
       "\\item 1.04880884817015\n",
       "\\end{enumerate*}\n"
      ],
      "text/markdown": [
       "1. 1.00498756211209\n",
       "2. 1.00995049383621\n",
       "3. 1.01488915650922\n",
       "4. 1.01980390271856\n",
       "5. 1.02469507659596\n",
       "6. 1.0295630140987\n",
       "7. 1.03440804327886\n",
       "8. 1.03923048454133\n",
       "9. 1.04403065089106\n",
       "10. 1.04880884817015\n",
       "\n",
       "\n"
      ],
      "text/plain": [
       " [1] 1.004988 1.009950 1.014889 1.019804 1.024695 1.029563 1.034408 1.039230\n",
       " [9] 1.044031 1.048809"
      ]
     },
     "metadata": {},
     "output_type": "display_data"
    }
   ],
   "source": [
    "sqrt(my_dbl_vector)"
   ]
  },
  {
   "cell_type": "code",
   "execution_count": 52,
   "metadata": {},
   "outputs": [
    {
     "data": {
      "text/html": [
       "<ol class=list-inline>\n",
       "\t<li>1.01</li>\n",
       "\t<li>1.02</li>\n",
       "\t<li>1.03</li>\n",
       "\t<li>1.04</li>\n",
       "\t<li>1.05</li>\n",
       "\t<li>1.06</li>\n",
       "\t<li>1.07</li>\n",
       "\t<li>1.08</li>\n",
       "\t<li>1.09</li>\n",
       "\t<li>1.1</li>\n",
       "</ol>\n"
      ],
      "text/latex": [
       "\\begin{enumerate*}\n",
       "\\item 1.01\n",
       "\\item 1.02\n",
       "\\item 1.03\n",
       "\\item 1.04\n",
       "\\item 1.05\n",
       "\\item 1.06\n",
       "\\item 1.07\n",
       "\\item 1.08\n",
       "\\item 1.09\n",
       "\\item 1.1\n",
       "\\end{enumerate*}\n"
      ],
      "text/markdown": [
       "1. 1.01\n",
       "2. 1.02\n",
       "3. 1.03\n",
       "4. 1.04\n",
       "5. 1.05\n",
       "6. 1.06\n",
       "7. 1.07\n",
       "8. 1.08\n",
       "9. 1.09\n",
       "10. 1.1\n",
       "\n",
       "\n"
      ],
      "text/plain": [
       " [1] 1.01 1.02 1.03 1.04 1.05 1.06 1.07 1.08 1.09 1.10"
      ]
     },
     "metadata": {},
     "output_type": "display_data"
    }
   ],
   "source": [
    "sqrt(my_dbl_vector) ^ 2"
   ]
  },
  {
   "cell_type": "code",
   "execution_count": 53,
   "metadata": {},
   "outputs": [
    {
     "data": {
      "text/html": [
       "<ol class=list-inline>\n",
       "\t<li>FALSE</li>\n",
       "\t<li>TRUE</li>\n",
       "\t<li>TRUE</li>\n",
       "\t<li>TRUE</li>\n",
       "\t<li>FALSE</li>\n",
       "\t<li>FALSE</li>\n",
       "\t<li>TRUE</li>\n",
       "\t<li>FALSE</li>\n",
       "\t<li>TRUE</li>\n",
       "\t<li>TRUE</li>\n",
       "</ol>\n"
      ],
      "text/latex": [
       "\\begin{enumerate*}\n",
       "\\item FALSE\n",
       "\\item TRUE\n",
       "\\item TRUE\n",
       "\\item TRUE\n",
       "\\item FALSE\n",
       "\\item FALSE\n",
       "\\item TRUE\n",
       "\\item FALSE\n",
       "\\item TRUE\n",
       "\\item TRUE\n",
       "\\end{enumerate*}\n"
      ],
      "text/markdown": [
       "1. FALSE\n",
       "2. TRUE\n",
       "3. TRUE\n",
       "4. TRUE\n",
       "5. FALSE\n",
       "6. FALSE\n",
       "7. TRUE\n",
       "8. FALSE\n",
       "9. TRUE\n",
       "10. TRUE\n",
       "\n",
       "\n"
      ],
      "text/plain": [
       " [1] FALSE  TRUE  TRUE  TRUE FALSE FALSE  TRUE FALSE  TRUE  TRUE"
      ]
     },
     "metadata": {},
     "output_type": "display_data"
    }
   ],
   "source": [
    "sqrt(my_dbl_vector) ^ 2 == my_dbl_vector"
   ]
  },
  {
   "cell_type": "code",
   "execution_count": 54,
   "metadata": {},
   "outputs": [
    {
     "data": {
      "text/html": [
       "<ol class=list-inline>\n",
       "\t<li>TRUE</li>\n",
       "\t<li>TRUE</li>\n",
       "\t<li>TRUE</li>\n",
       "\t<li>TRUE</li>\n",
       "\t<li>TRUE</li>\n",
       "\t<li>TRUE</li>\n",
       "\t<li>TRUE</li>\n",
       "\t<li>TRUE</li>\n",
       "\t<li>TRUE</li>\n",
       "\t<li>TRUE</li>\n",
       "</ol>\n"
      ],
      "text/latex": [
       "\\begin{enumerate*}\n",
       "\\item TRUE\n",
       "\\item TRUE\n",
       "\\item TRUE\n",
       "\\item TRUE\n",
       "\\item TRUE\n",
       "\\item TRUE\n",
       "\\item TRUE\n",
       "\\item TRUE\n",
       "\\item TRUE\n",
       "\\item TRUE\n",
       "\\end{enumerate*}\n"
      ],
      "text/markdown": [
       "1. TRUE\n",
       "2. TRUE\n",
       "3. TRUE\n",
       "4. TRUE\n",
       "5. TRUE\n",
       "6. TRUE\n",
       "7. TRUE\n",
       "8. TRUE\n",
       "9. TRUE\n",
       "10. TRUE\n",
       "\n",
       "\n"
      ],
      "text/plain": [
       " [1] TRUE TRUE TRUE TRUE TRUE TRUE TRUE TRUE TRUE TRUE"
      ]
     },
     "metadata": {},
     "output_type": "display_data"
    }
   ],
   "source": [
    "near(sqrt(my_dbl_vector) ^ 2, my_dbl_vector)"
   ]
  },
  {
   "cell_type": "markdown",
   "metadata": {},
   "source": [
    "## Iteration"
   ]
  },
  {
   "cell_type": "markdown",
   "metadata": {},
   "source": [
    "**Iteration** is an important concept in programming. It refers to doing the same operations repeatedly. Let us consider the famous *Fibonacci sequence* whose $n$th term is defined as\n",
    "\n",
    "$$ F(n+1) = F(n) + F(n-1) $$\n",
    "\n",
    "starting with $F(1) = 0$ and $F(2) = 1$.\n",
    "\n",
    "The code below computes the first 10 Fibonacci numbers using a **for loop**."
   ]
  },
  {
   "cell_type": "code",
   "execution_count": 55,
   "metadata": {},
   "outputs": [
    {
     "name": "stdout",
     "output_type": "stream",
     "text": [
      "[1] 0\n",
      "[1] 1\n",
      "[1] 1\n",
      "[1] 2\n",
      "[1] 3\n",
      "[1] 5\n",
      "[1] 8\n",
      "[1] 13\n",
      "[1] 21\n",
      "[1] 34\n"
     ]
    }
   ],
   "source": [
    "previous = 0\n",
    "current = 1\n",
    "for (i in 1:10) {\n",
    "    print(previous)\n",
    "    new = current + previous\n",
    "    previous = current\n",
    "    current = new\n",
    "}"
   ]
  },
  {
   "cell_type": "markdown",
   "metadata": {},
   "source": [
    "What if we want to print all Fibonacci numbers less than 1000. We do not know how long that will take. To iterate a computation as long as some condition is true, we can use a **while loop**."
   ]
  },
  {
   "cell_type": "code",
   "execution_count": 56,
   "metadata": {},
   "outputs": [
    {
     "name": "stdout",
     "output_type": "stream",
     "text": [
      "[1] 0\n",
      "[1] 1\n",
      "[1] 1\n",
      "[1] 2\n",
      "[1] 3\n",
      "[1] 5\n",
      "[1] 8\n",
      "[1] 13\n",
      "[1] 21\n",
      "[1] 34\n",
      "[1] 55\n",
      "[1] 89\n",
      "[1] 144\n",
      "[1] 233\n",
      "[1] 377\n",
      "[1] 610\n",
      "[1] 987\n"
     ]
    }
   ],
   "source": [
    "previous = 0\n",
    "current = 1\n",
    "while (previous < 1000) {\n",
    "    print(previous)\n",
    "    new = current + previous\n",
    "    previous = current\n",
    "    current = new\n",
    "}"
   ]
  }
 ],
 "metadata": {
  "kernelspec": {
   "display_name": "R",
   "language": "R",
   "name": "ir"
  },
  "language_info": {
   "codemirror_mode": "r",
   "file_extension": ".r",
   "mimetype": "text/x-r-source",
   "name": "R",
   "pygments_lexer": "r",
   "version": "3.6.2"
  }
 },
 "nbformat": 4,
 "nbformat_minor": 2
}
