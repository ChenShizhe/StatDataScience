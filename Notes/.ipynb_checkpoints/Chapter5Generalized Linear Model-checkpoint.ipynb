{
 "cells": [
  {
   "cell_type": "markdown",
   "metadata": {},
   "source": [
    "# Chapter 5 Generalized Linear Models\n",
    "\n",
    "\n"
   ]
  },
  {
   "cell_type": "markdown",
   "metadata": {},
   "source": [
    "## 5.1 Logistic regression\n",
    "\n",
    "Assume that we have a binary outcome, where for $(X_i, y_i)$, $y_i \\in \\{0,1\\}$, $X_i \\in \\mathbb{R}^p$. Recalling that a linear regression model produces fitted (and predicted) outcomes that take values in $\\mathbb{R}$. It might seem inappropriate to build a model for $y_i, i=1,\\ldots, n$ when using linear regression."
   ]
  },
  {
   "cell_type": "markdown",
   "metadata": {},
   "source": [
    "However, we should note that a linear regression model can still be of use with binary outcomes, when handling proper questions of interest. To be specific, a coefficient in linear regression is the difference in mean outcomes between two groups where the covariate differs by one. This interpretation of coefficient still applies regardless of the types of the outcomes (e.g., binary or continuous). That said, the issue still exists that the fitted outcome can take negative values, which makes linear regression somewhat undesirable for dealing with binary outcomes."
   ]
  },
  {
   "cell_type": "markdown",
   "metadata": {},
   "source": [
    "We note that the major issue is the discrepancy between the range of the actual outcome $y_i \\in \\{0,1\\}$ and the fitted outcome $\\hat{y}_i \\in \\mathbb{R}$ produced by the regression model. \n",
    "This can be addressed by considering an alternative summary measure of the outcome random variable $\\{y_i\\}_{i=1}^n$. In particular, we can take the following steps. \n",
    "- Let   $\\pi_i = p(y_i=1|X_i) \\in [0,1]$ be the probability of $y_i=1$ given the covariate $X_i$. ($\\{0,1\\}$ to $(0,1)$.)\n",
    "- Let ${\\rm odds}_i = \\pi_i / (1-\\pi_i) \\in (0,\\infty)$ be the odds. ($(0,1)$ to $(0,\\infty)$.)\n",
    "- Let ${\\rm logodds}_i = \\log [\\pi_i / (1-\\pi_i)] \\in (-\\infty,\\infty)$ be the log odds. ($(0,\\infty)$ to $(-\\infty, \\infty)$.)\n",
    "\n",
    "We usually summarize these steps of transformations as the logit function ${\\rm logit}(a) = \\log(a/(1-a))$. \n",
    "\n",
    "Finally, we arrive at a \"generalized\" linear regression by replacing the left-hand side of \n",
    "$$\\mathbb{E} [y|X_i]=X_i^{T} \\beta$$ \n",
    "\n",
    "with ${\\rm logit}(\\pi_i)$, i.e.,\n",
    "$$\n",
    "{\\rm logit}(\\mathbb{E}[y_i|X_i])=X_i^{T} \\beta.\n",
    "$$\n",
    "\n",
    "$$\\pi_i = \\mathbb{E}[y_i|X_i]=p(y_i=1|X_i)$$"
   ]
  },
  {
   "cell_type": "markdown",
   "metadata": {},
   "source": [
    "\n",
    "\n",
    "**Estimation** can be done with maximum likelihood estimation \n",
    "$$\n",
    "\\mathcal{L} = \\prod_{i=1}^n \\pi_i^{Y_i} (1-\\pi_i)^{1-Y_i}.\n",
    "$$\n",
    "Taking the logarithm yields \n",
    "$$\n",
    "\\log \\mathcal{L} = \\sum_{i=1}^n \\big[ Y_i \\log \\pi_i + (1-Y_i) \\log (1-\\pi_i)\\big].\n",
    "$$\n",
    "If ${\\rm logit}(\\pi_i)=\\beta_0$, we can derive that $\\pi_i = \\exp(\\beta_0)/[\\exp(\\beta_0)+1]$. \n",
    "Hence, $\\log \\pi_i = \\beta_0 - \\log[\\exp(\\beta_0)+1]$ and $\\log (1-\\pi_i) = 0 - \\log[\\exp(\\beta_0)+1]$. \n",
    "\n",
    "Plugging these into the log-likelihood yields \n",
    "$$\n",
    "\\log \\mathcal{L} = n_1 \\beta_0 - n\\log[\\exp(\\beta_0)+1].\n",
    "$$\n",
    "The first order condition yields \n",
    "$$\n",
    "\\frac{n_1}{n} = \\frac{\\exp(\\beta_0)  }{\\exp(\\beta_0)+1}.\n",
    "$$\n",
    "\n",
    "With covariates $X$, a closed form solution is not available. However, one can find the solution using optimization. \n"
   ]
  },
  {
   "cell_type": "markdown",
   "metadata": {},
   "source": [
    "**Interpretation** \n",
    "\n",
    "A key concept for the logistic regression is the **log odds ratio**, which is the interpretation of $\\beta$. Consider $\\beta_1$, we can see that \n",
    "$$\n",
    "\\beta_1= \\log \\left\\{ \\frac{ \\pi(X_{1}+1,\\cdots )/[1-\\pi(X_{1}+1,\\cdots )]}{\\pi(X_{1},\\cdots )/[1-\\pi(X_{1},\\cdots )]}    \\right\\}.\n",
    "$$\n",
    "\n",
    "The score function takes the form $U(\\beta)= \\partial \\log \\mathcal{L}/\\partial \\beta$. The MLE $\\hat{\\beta}$ satisfies that $U(\\hat{\\beta})=0$. The Fisher information is $I(\\beta)=\\mathbb{E} \\big[-\\partial^2 \\log \\mathcal{L}/\\partial \\beta^2 \\big]$. The confidence interval for each $\\beta_j$ is $\\hat{\\beta}_j \\mp z_{1-\\alpha/2} \\hat{\\rm se}(\\hat{\\beta}_j)$, where $z \\sim N(0,1)$. \n"
   ]
  },
  {
   "cell_type": "markdown",
   "metadata": {},
   "source": [
    "The log odds ratio is of special interest in case-control studies, where the can still be transfered to general population. "
   ]
  },
  {
   "cell_type": "markdown",
   "metadata": {},
   "source": [
    "\n",
    "**Hypothesis testing**\n",
    "\n",
    "Consider the following null and alternative hypotheses $H_0: \\beta_1=0$ v.s. $H_1: \\beta_1\\neq 0$. There are three tests for this task. Note that all three tests are the same in linear regression, whereas they differ in the presence of nonlinearity. \n",
    "\n",
    "1. Likelihood ratio test. ${\\rm LR}=-2 \\big[ \\log \\mathcal{L}({\\rm reduced}) -\\log \\mathcal{L}({\\rm full}) \\big]$. We have that ${\\rm LR} \\sim \\chi^2_{K-k}$, under $H_0$ and large $n$. \n",
    "\n",
    "2. Score test. $S=U(\\beta)/I(\\beta) \\sim \\chi^2$ with $d.f.=1$.\n",
    "\n",
    "3. Wald test. Robust wald test. For $K-k=1$, we have $W=\\hat{\\beta}_1/{\\rm se}(\\hat{\\beta}_1) \\sim N(0,1)$ under $H_0$ and large $n$. The robustness comes from a robust standard error. "
   ]
  },
  {
   "cell_type": "markdown",
   "metadata": {},
   "source": [
    "\n",
    "\n",
    "**Visualization**\n",
    "\n",
    "Pearson residual: $r_{p_i}=(y_i-\\hat{\\pi}_i)/[\\hat{\\pi}_i(1-\\hat{\\pi}_i) ]^{1/2}$\n",
    "\n",
    "Deviance residual: ${\\rm dev}_i = {\\rm sign}(Y_i-\\hat{\\pi}_i) \\sqrt{ -2[Y_i \\log \\hat{\\pi}_i +(1-Y_i)\\log  (1-\\hat{\\pi}_i) ]}$.\n",
    "\n",
    "One can define $H^2 = \\sum r_{p_i}^2$ and $G^2 = \\sum {\\rm dev}_i^2$, which are similar to ${\\rm SSE}$. They do not follow a $\\chi^2$ distribution, but we can use them anyway. \n",
    "\n"
   ]
  },
  {
   "cell_type": "markdown",
   "metadata": {},
   "source": [
    "**Goodness-of-fit**\n",
    "\n",
    "[Pseudo R squared](https://en.wikipedia.org/wiki/Pseudo-R-squared) \"In logistic regression analysis, there is no agreed upon analogous measure, but there are several competing measures each with limitations.\"\n"
   ]
  },
  {
   "cell_type": "markdown",
   "metadata": {},
   "source": [
    "\n",
    "[Receiver operating characteristic](https://en.wikipedia.org/wiki/Receiver_operating_characteristic)\n"
   ]
  },
  {
   "cell_type": "markdown",
   "metadata": {},
   "source": [
    "**Example**"
   ]
  },
  {
   "cell_type": "code",
   "execution_count": 1,
   "metadata": {},
   "outputs": [
    {
     "name": "stderr",
     "output_type": "stream",
     "text": [
      "-- \u001b[1mAttaching packages\u001b[22m ------------------------------------------------------------------------------- tidyverse 1.3.0 --\n",
      "\n",
      "\u001b[32mv\u001b[39m \u001b[34mggplot2\u001b[39m 3.3.2     \u001b[32mv\u001b[39m \u001b[34mpurrr  \u001b[39m 0.3.4\n",
      "\u001b[32mv\u001b[39m \u001b[34mtibble \u001b[39m 3.0.4     \u001b[32mv\u001b[39m \u001b[34mdplyr  \u001b[39m 1.0.2\n",
      "\u001b[32mv\u001b[39m \u001b[34mtidyr  \u001b[39m 1.1.2     \u001b[32mv\u001b[39m \u001b[34mstringr\u001b[39m 1.4.0\n",
      "\u001b[32mv\u001b[39m \u001b[34mreadr  \u001b[39m 1.4.0     \u001b[32mv\u001b[39m \u001b[34mforcats\u001b[39m 0.5.0\n",
      "\n",
      "-- \u001b[1mConflicts\u001b[22m ---------------------------------------------------------------------------------- tidyverse_conflicts() --\n",
      "\u001b[31mx\u001b[39m \u001b[34mdplyr\u001b[39m::\u001b[32mfilter()\u001b[39m masks \u001b[34mstats\u001b[39m::filter()\n",
      "\u001b[31mx\u001b[39m \u001b[34mdplyr\u001b[39m::\u001b[32mlag()\u001b[39m    masks \u001b[34mstats\u001b[39m::lag()\n",
      "\n",
      "\n",
      "\u001b[36m--\u001b[39m \u001b[1m\u001b[1mColumn specification\u001b[1m\u001b[22m \u001b[36m------------------------------------------------------------------------------------------------\u001b[39m\n",
      "cols(\n",
      "  .default = col_double(),\n",
      "  hotel = \u001b[31mcol_character()\u001b[39m,\n",
      "  arrival_date_month = \u001b[31mcol_character()\u001b[39m,\n",
      "  meal = \u001b[31mcol_character()\u001b[39m,\n",
      "  country = \u001b[31mcol_character()\u001b[39m,\n",
      "  market_segment = \u001b[31mcol_character()\u001b[39m,\n",
      "  distribution_channel = \u001b[31mcol_character()\u001b[39m,\n",
      "  reserved_room_type = \u001b[31mcol_character()\u001b[39m,\n",
      "  assigned_room_type = \u001b[31mcol_character()\u001b[39m,\n",
      "  deposit_type = \u001b[31mcol_character()\u001b[39m,\n",
      "  agent = \u001b[31mcol_character()\u001b[39m,\n",
      "  company = \u001b[31mcol_character()\u001b[39m,\n",
      "  customer_type = \u001b[31mcol_character()\u001b[39m,\n",
      "  reservation_status = \u001b[31mcol_character()\u001b[39m,\n",
      "  reservation_status_date = \u001b[34mcol_date(format = \"\")\u001b[39m\n",
      ")\n",
      "\u001b[36mi\u001b[39m Use \u001b[30m\u001b[47m\u001b[30m\u001b[47m`spec()`\u001b[47m\u001b[30m\u001b[49m\u001b[39m for the full column specifications.\n",
      "\n",
      "\n"
     ]
    }
   ],
   "source": [
    "# Examples (see also Chapter 6)\n",
    "library(tidyverse)\n",
    "hotel <- read_csv(\"../Data/hotel_bookings.csv\") \n",
    "# Consider a smaller set:\n",
    "hotel<- hotel %>% select(is_canceled, adr, lead_time, total_of_special_requests, stays_in_week_nights, stays_in_weekend_nights, previous_cancellations)\n",
    "hotel<- hotel %>% mutate(is_canceled = (is_canceled==1));\n",
    "hotel<-hotel %>% filter(adr<1000)\n",
    "hotel<-hotel[1:1000,]\n"
   ]
  },
  {
   "cell_type": "code",
   "execution_count": 2,
   "metadata": {
    "scrolled": false
   },
   "outputs": [
    {
     "data": {
      "text/plain": [
       "\n",
       "Call:\n",
       "glm(formula = is_canceled ~ adr + lead_time + total_of_special_requests + \n",
       "    stays_in_week_nights + stays_in_weekend_nights + previous_cancellations, \n",
       "    family = \"binomial\", data = hotel)\n",
       "\n",
       "Deviance Residuals: \n",
       "    Min       1Q   Median       3Q      Max  \n",
       "-1.7536  -0.8850  -0.7395   1.2844   1.9604  \n",
       "\n",
       "Coefficients: (1 not defined because of singularities)\n",
       "                           Estimate Std. Error z value Pr(>|z|)    \n",
       "(Intercept)               -2.152957   0.273166  -7.881 3.24e-15 ***\n",
       "adr                        0.010093   0.001663   6.070 1.28e-09 ***\n",
       "lead_time                  0.004541   0.001332   3.408 0.000654 ***\n",
       "total_of_special_requests -0.214969   0.081588  -2.635 0.008418 ** \n",
       "stays_in_week_nights       0.065369   0.046609   1.403 0.160766    \n",
       "stays_in_weekend_nights   -0.216039   0.090933  -2.376 0.017511 *  \n",
       "previous_cancellations           NA         NA      NA       NA    \n",
       "---\n",
       "Signif. codes:  0 '***' 0.001 '**' 0.01 '*' 0.05 '.' 0.1 ' ' 1\n",
       "\n",
       "(Dispersion parameter for binomial family taken to be 1)\n",
       "\n",
       "    Null deviance: 1256.7  on 999  degrees of freedom\n",
       "Residual deviance: 1203.5  on 994  degrees of freedom\n",
       "AIC: 1215.5\n",
       "\n",
       "Number of Fisher Scoring iterations: 4\n"
      ]
     },
     "metadata": {},
     "output_type": "display_data"
    }
   ],
   "source": [
    "## Predicting cancellations with a logistic regression\n",
    "mod.can.lg<-glm(\n",
    "    is_canceled~adr+\n",
    "                lead_time+ total_of_special_requests+ \n",
    "                stays_in_week_nights+ stays_in_weekend_nights+  \n",
    "                previous_cancellations,\n",
    "    data=hotel,\n",
    "    \n",
    "               family=\"binomial\")\n",
    "# generalized lm()\n",
    "# glm() for lm(): family=\"gaussian\"\n",
    "\n",
    "summary(mod.can.lg)"
   ]
  },
  {
   "cell_type": "code",
   "execution_count": 3,
   "metadata": {
    "scrolled": false
   },
   "outputs": [
    {
     "name": "stderr",
     "output_type": "stream",
     "text": [
      "\n",
      "Attaching package: 'MASS'\n",
      "\n",
      "\n",
      "The following object is masked from 'package:dplyr':\n",
      "\n",
      "    select\n",
      "\n",
      "\n",
      "Waiting for profiling to be done...\n",
      "\n"
     ]
    },
    {
     "data": {
      "text/html": [
       "<table>\n",
       "<caption>A matrix: 7 × 2 of type dbl</caption>\n",
       "<thead>\n",
       "\t<tr><th></th><th scope=col>2.5 %</th><th scope=col>97.5 %</th></tr>\n",
       "</thead>\n",
       "<tbody>\n",
       "\t<tr><th scope=row>(Intercept)</th><td>-2.698790059</td><td>-1.627269119</td></tr>\n",
       "\t<tr><th scope=row>adr</th><td> 0.006874508</td><td> 0.013398096</td></tr>\n",
       "\t<tr><th scope=row>lead_time</th><td> 0.001983950</td><td> 0.007246235</td></tr>\n",
       "\t<tr><th scope=row>total_of_special_requests</th><td>-0.377017195</td><td>-0.056841114</td></tr>\n",
       "\t<tr><th scope=row>stays_in_week_nights</th><td>-0.025752875</td><td> 0.157152145</td></tr>\n",
       "\t<tr><th scope=row>stays_in_weekend_nights</th><td>-0.395519797</td><td>-0.038729656</td></tr>\n",
       "\t<tr><th scope=row>previous_cancellations</th><td>          NA</td><td>          NA</td></tr>\n",
       "</tbody>\n",
       "</table>\n"
      ],
      "text/latex": [
       "A matrix: 7 × 2 of type dbl\n",
       "\\begin{tabular}{r|ll}\n",
       "  & 2.5 \\% & 97.5 \\%\\\\\n",
       "\\hline\n",
       "\t(Intercept) & -2.698790059 & -1.627269119\\\\\n",
       "\tadr &  0.006874508 &  0.013398096\\\\\n",
       "\tlead\\_time &  0.001983950 &  0.007246235\\\\\n",
       "\ttotal\\_of\\_special\\_requests & -0.377017195 & -0.056841114\\\\\n",
       "\tstays\\_in\\_week\\_nights & -0.025752875 &  0.157152145\\\\\n",
       "\tstays\\_in\\_weekend\\_nights & -0.395519797 & -0.038729656\\\\\n",
       "\tprevious\\_cancellations &           NA &           NA\\\\\n",
       "\\end{tabular}\n"
      ],
      "text/markdown": [
       "\n",
       "A matrix: 7 × 2 of type dbl\n",
       "\n",
       "| <!--/--> | 2.5 % | 97.5 % |\n",
       "|---|---|---|\n",
       "| (Intercept) | -2.698790059 | -1.627269119 |\n",
       "| adr |  0.006874508 |  0.013398096 |\n",
       "| lead_time |  0.001983950 |  0.007246235 |\n",
       "| total_of_special_requests | -0.377017195 | -0.056841114 |\n",
       "| stays_in_week_nights | -0.025752875 |  0.157152145 |\n",
       "| stays_in_weekend_nights | -0.395519797 | -0.038729656 |\n",
       "| previous_cancellations |           NA |           NA |\n",
       "\n"
      ],
      "text/plain": [
       "                          2.5 %        97.5 %      \n",
       "(Intercept)               -2.698790059 -1.627269119\n",
       "adr                        0.006874508  0.013398096\n",
       "lead_time                  0.001983950  0.007246235\n",
       "total_of_special_requests -0.377017195 -0.056841114\n",
       "stays_in_week_nights      -0.025752875  0.157152145\n",
       "stays_in_weekend_nights   -0.395519797 -0.038729656\n",
       "previous_cancellations              NA           NA"
      ]
     },
     "metadata": {},
     "output_type": "display_data"
    }
   ],
   "source": [
    "library(MASS)\n",
    "confint(mod.can.lg)"
   ]
  },
  {
   "cell_type": "code",
   "execution_count": 12,
   "metadata": {},
   "outputs": [],
   "source": [
    "?confint.glm"
   ]
  },
  {
   "cell_type": "code",
   "execution_count": 4,
   "metadata": {},
   "outputs": [],
   "source": [
    "## Fitting a reduced model without lead_time\n",
    "red.can.lg<-glm(is_canceled~adr+ total_of_special_requests+ stays_in_week_nights+ stays_in_weekend_nights+  previous_cancellations,data=hotel,\n",
    "               family=\"binomial\")\n"
   ]
  },
  {
   "cell_type": "code",
   "execution_count": 5,
   "metadata": {
    "scrolled": true
   },
   "outputs": [
    {
     "name": "stderr",
     "output_type": "stream",
     "text": [
      "Loading required package: zoo\n",
      "\n",
      "\n",
      "Attaching package: 'zoo'\n",
      "\n",
      "\n",
      "The following objects are masked from 'package:base':\n",
      "\n",
      "    as.Date, as.Date.numeric\n",
      "\n",
      "\n"
     ]
    }
   ],
   "source": [
    "# Perform a likelihood ratio test\n",
    "library(lmtest)"
   ]
  },
  {
   "cell_type": "code",
   "execution_count": 6,
   "metadata": {},
   "outputs": [
    {
     "data": {
      "text/html": [
       "<table>\n",
       "<caption>A anova: 2 × 5</caption>\n",
       "<thead>\n",
       "\t<tr><th></th><th scope=col>Resid. Df</th><th scope=col>Resid. Dev</th><th scope=col>Df</th><th scope=col>Deviance</th><th scope=col>Pr(&gt;Chi)</th></tr>\n",
       "\t<tr><th></th><th scope=col>&lt;dbl&gt;</th><th scope=col>&lt;dbl&gt;</th><th scope=col>&lt;dbl&gt;</th><th scope=col>&lt;dbl&gt;</th><th scope=col>&lt;dbl&gt;</th></tr>\n",
       "</thead>\n",
       "<tbody>\n",
       "\t<tr><th scope=row>1</th><td>995</td><td>1215.569</td><td>NA</td><td>      NA</td><td>          NA</td></tr>\n",
       "\t<tr><th scope=row>2</th><td>994</td><td>1203.487</td><td> 1</td><td>12.08235</td><td>0.0005090146</td></tr>\n",
       "</tbody>\n",
       "</table>\n"
      ],
      "text/latex": [
       "A anova: 2 × 5\n",
       "\\begin{tabular}{r|lllll}\n",
       "  & Resid. Df & Resid. Dev & Df & Deviance & Pr(>Chi)\\\\\n",
       "  & <dbl> & <dbl> & <dbl> & <dbl> & <dbl>\\\\\n",
       "\\hline\n",
       "\t1 & 995 & 1215.569 & NA &       NA &           NA\\\\\n",
       "\t2 & 994 & 1203.487 &  1 & 12.08235 & 0.0005090146\\\\\n",
       "\\end{tabular}\n"
      ],
      "text/markdown": [
       "\n",
       "A anova: 2 × 5\n",
       "\n",
       "| <!--/--> | Resid. Df &lt;dbl&gt; | Resid. Dev &lt;dbl&gt; | Df &lt;dbl&gt; | Deviance &lt;dbl&gt; | Pr(&gt;Chi) &lt;dbl&gt; |\n",
       "|---|---|---|---|---|---|\n",
       "| 1 | 995 | 1215.569 | NA |       NA |           NA |\n",
       "| 2 | 994 | 1203.487 |  1 | 12.08235 | 0.0005090146 |\n",
       "\n"
      ],
      "text/plain": [
       "  Resid. Df Resid. Dev Df Deviance Pr(>Chi)    \n",
       "1 995       1215.569   NA       NA           NA\n",
       "2 994       1203.487    1 12.08235 0.0005090146"
      ]
     },
     "metadata": {},
     "output_type": "display_data"
    },
    {
     "data": {
      "text/html": [
       "<table>\n",
       "<caption>A anova: 2 × 5</caption>\n",
       "<thead>\n",
       "\t<tr><th></th><th scope=col>#Df</th><th scope=col>LogLik</th><th scope=col>Df</th><th scope=col>Chisq</th><th scope=col>Pr(&gt;Chisq)</th></tr>\n",
       "\t<tr><th></th><th scope=col>&lt;dbl&gt;</th><th scope=col>&lt;dbl&gt;</th><th scope=col>&lt;dbl&gt;</th><th scope=col>&lt;dbl&gt;</th><th scope=col>&lt;dbl&gt;</th></tr>\n",
       "</thead>\n",
       "<tbody>\n",
       "\t<tr><th scope=row>1</th><td>5</td><td>-607.7844</td><td>NA</td><td>      NA</td><td>          NA</td></tr>\n",
       "\t<tr><th scope=row>2</th><td>6</td><td>-601.7433</td><td> 1</td><td>12.08235</td><td>0.0005090146</td></tr>\n",
       "</tbody>\n",
       "</table>\n"
      ],
      "text/latex": [
       "A anova: 2 × 5\n",
       "\\begin{tabular}{r|lllll}\n",
       "  & \\#Df & LogLik & Df & Chisq & Pr(>Chisq)\\\\\n",
       "  & <dbl> & <dbl> & <dbl> & <dbl> & <dbl>\\\\\n",
       "\\hline\n",
       "\t1 & 5 & -607.7844 & NA &       NA &           NA\\\\\n",
       "\t2 & 6 & -601.7433 &  1 & 12.08235 & 0.0005090146\\\\\n",
       "\\end{tabular}\n"
      ],
      "text/markdown": [
       "\n",
       "A anova: 2 × 5\n",
       "\n",
       "| <!--/--> | #Df &lt;dbl&gt; | LogLik &lt;dbl&gt; | Df &lt;dbl&gt; | Chisq &lt;dbl&gt; | Pr(&gt;Chisq) &lt;dbl&gt; |\n",
       "|---|---|---|---|---|---|\n",
       "| 1 | 5 | -607.7844 | NA |       NA |           NA |\n",
       "| 2 | 6 | -601.7433 |  1 | 12.08235 | 0.0005090146 |\n",
       "\n"
      ],
      "text/plain": [
       "  #Df LogLik    Df Chisq    Pr(>Chisq)  \n",
       "1 5   -607.7844 NA       NA           NA\n",
       "2 6   -601.7433  1 12.08235 0.0005090146"
      ]
     },
     "metadata": {},
     "output_type": "display_data"
    }
   ],
   "source": [
    "\n",
    "anova(red.can.lg,mod.can.lg, test='Chisq')\n",
    "lrtest(red.can.lg,mod.can.lg) # from the lmtest package"
   ]
  },
  {
   "cell_type": "code",
   "execution_count": 7,
   "metadata": {
    "scrolled": false
   },
   "outputs": [
    {
     "data": {
      "text/html": [
       "0.0900621118012422"
      ],
      "text/latex": [
       "0.0900621118012422"
      ],
      "text/markdown": [
       "0.0900621118012422"
      ],
      "text/plain": [
       "[1] 0.09006211"
      ]
     },
     "metadata": {},
     "output_type": "display_data"
    },
    {
     "data": {
      "text/html": [
       "0.0530973451327433"
      ],
      "text/latex": [
       "0.0530973451327433"
      ],
      "text/markdown": [
       "0.0530973451327433"
      ],
      "text/plain": [
       "[1] 0.05309735"
      ]
     },
     "metadata": {},
     "output_type": "display_data"
    },
    {
     "data": {
      "image/png": "[encoded data removed]",
      "text/plain": [
       "plot without title"
      ]
     },
     "metadata": {
      "image/png": {
       "height": 420,
       "width": 420
      }
     },
     "output_type": "display_data"
    }
   ],
   "source": [
    "\n",
    "plot(jitter(mod.can.lg$y)~mod.can.lg$fitted.values,pch=16,xlab=\"Fitted values\", ylab=\"Is canceled (jittered)\")\n",
    "\n",
    "threshold = 0.5;\n",
    "TP= sum( (mod.can.lg$fitted.values>threshold) & mod.can.lg$y) ;\n",
    "TN= sum((mod.can.lg$fitted.values<threshold) & (!mod.can.lg$y));\n",
    "\n",
    "\n",
    "(TPR=TP/sum( mod.can.lg$y))\n",
    "(FPR=1- TN/sum(!mod.can.lg$y))\n"
   ]
  },
  {
   "cell_type": "code",
   "execution_count": 8,
   "metadata": {},
   "outputs": [
    {
     "name": "stderr",
     "output_type": "stream",
     "text": [
      "Warning message:\n",
      "\"package 'pscl' was built under R version 4.1.3\"\n",
      "Classes and Methods for R developed in the\n",
      "Political Science Computational Laboratory\n",
      "Department of Political Science\n",
      "Stanford University\n",
      "Simon Jackman\n",
      "hurdle and zeroinfl functions by Achim Zeileis\n",
      "\n"
     ]
    },
    {
     "name": "stdout",
     "output_type": "stream",
     "text": [
      "fitting null model for pseudo-r2\n"
     ]
    },
    {
     "data": {
      "text/html": [
       "<style>\n",
       ".dl-inline {width: auto; margin:0; padding: 0}\n",
       ".dl-inline>dt, .dl-inline>dd {float: none; width: auto; display: inline-block}\n",
       ".dl-inline>dt::after {content: \":\\0020\"; padding-right: .5ex}\n",
       ".dl-inline>dt:not(:first-of-type) {padding-left: .5ex}\n",
       "</style><dl class=dl-inline><dt>llh</dt><dd>-601.743275767966</dd><dt>llhNull</dt><dd>-628.367820093249</dd><dt>G2</dt><dd>53.2490886505661</dd><dt>McFadden</dt><dd>0.0423709545172635</dd><dt>r2ML</dt><dd>0.0518561887964848</dd><dt>r2CU</dt><dd>0.0724837112067104</dd></dl>\n"
      ],
      "text/latex": [
       "\\begin{description*}\n",
       "\\item[llh] -601.743275767966\n",
       "\\item[llhNull] -628.367820093249\n",
       "\\item[G2] 53.2490886505661\n",
       "\\item[McFadden] 0.0423709545172635\n",
       "\\item[r2ML] 0.0518561887964848\n",
       "\\item[r2CU] 0.0724837112067104\n",
       "\\end{description*}\n"
      ],
      "text/markdown": [
       "llh\n",
       ":   -601.743275767966llhNull\n",
       ":   -628.367820093249G2\n",
       ":   53.2490886505661McFadden\n",
       ":   0.0423709545172635r2ML\n",
       ":   0.0518561887964848r2CU\n",
       ":   0.0724837112067104\n",
       "\n"
      ],
      "text/plain": [
       "          llh       llhNull            G2      McFadden          r2ML \n",
       "-601.74327577 -628.36782009   53.24908865    0.04237095    0.05185619 \n",
       "         r2CU \n",
       "   0.07248371 "
      ]
     },
     "metadata": {},
     "output_type": "display_data"
    }
   ],
   "source": [
    "#install.packages('pscl')\n",
    "library(pscl)\n",
    "pR2(mod.can.lg)  # look for 'McFadden'\n"
   ]
  },
  {
   "cell_type": "code",
   "execution_count": 10,
   "metadata": {
    "scrolled": true
   },
   "outputs": [
    {
     "name": "stderr",
     "output_type": "stream",
     "text": [
      "Setting levels: control = 0, case = 1\n",
      "\n",
      "Setting direction: controls < cases\n",
      "\n"
     ]
    },
    {
     "data": {
      "text/html": [
       "0.643528188497407"
      ],
      "text/latex": [
       "0.643528188497407"
      ],
      "text/markdown": [
       "0.643528188497407"
      ],
      "text/plain": [
       "Area under the curve: 0.6435"
      ]
     },
     "metadata": {},
     "output_type": "display_data"
    },
    {
     "data": {
      "image/png": "[encoded data removed]",
      "text/plain": [
       "plot without title"
      ]
     },
     "metadata": {
      "image/png": {
       "height": 420,
       "width": 420
      }
     },
     "output_type": "display_data"
    }
   ],
   "source": [
    "#install.packages('pROC')\n",
    "library(pROC)\n",
    "mod.can.lg.roc<-roc(mod.can.lg$y,mod.can.lg$fitted.values)\n",
    "mod.can.lg.roc$auc\n",
    "plot(mod.can.lg.rocb)"
   ]
  },
  {
   "cell_type": "code",
   "execution_count": 13,
   "metadata": {
    "scrolled": true
   },
   "outputs": [
    {
     "name": "stderr",
     "output_type": "stream",
     "text": [
      "Setting levels: control = 0, case = 1\n",
      "\n",
      "Setting direction: controls < cases\n",
      "\n"
     ]
    },
    {
     "data": {
      "text/html": [
       "0.643528188497407"
      ],
      "text/latex": [
       "0.643528188497407"
      ],
      "text/markdown": [
       "0.643528188497407"
      ],
      "text/plain": [
       "Area under the curve: 0.6435"
      ]
     },
     "metadata": {},
     "output_type": "display_data"
    },
    {
     "data": {
      "image/png": "[encoded data removed]",
      "text/plain": [
       "plot without title"
      ]
     },
     "metadata": {
      "image/png": {
       "height": 420,
       "width": 420
      }
     },
     "output_type": "display_data"
    }
   ],
   "source": [
    "\n",
    "mod.can.lg.roc<-roc(mod.can.lg$y,mod.can.lg$fitted.values)\n",
    "mod.can.lg.roc$auc\n",
    "plot(mod.can.lg.roc,colorize=TRUE)\n"
   ]
  },
  {
   "cell_type": "code",
   "execution_count": 15,
   "metadata": {},
   "outputs": [
    {
     "name": "stdout",
     "output_type": "stream",
     "text": [
      "package 'ROCR' successfully unpacked and MD5 sums checked\n",
      "\n",
      "The downloaded binary packages are in\n",
      "\tC:\\Users\\Shizhe\\AppData\\Local\\Temp\\RtmpSol57T\\downloaded_packages\n"
     ]
    },
    {
     "name": "stderr",
     "output_type": "stream",
     "text": [
      "Warning message:\n",
      "\"package 'ROCR' was built under R version 4.1.3\"\n"
     ]
    },
    {
     "data": {
      "image/png": "[encoded data removed]",
      "text/plain": [
       "plot without title"
      ]
     },
     "metadata": {
      "image/png": {
       "height": 420,
       "width": 420
      }
     },
     "output_type": "display_data"
    }
   ],
   "source": [
    "install.packages('ROCR')\n",
    "library(ROCR)\n",
    "labels <-c(1,1,1,1,1,1,1,1,1,1,1,1,1,0,0,0,0,0,0,0,0,0,0,0,0,0,0,0,0,0,0,0,0)\n",
    "scores<-c(1,1,1,0.8,1,1,1,0.95,1,1,1,1,1,0,0,0,0,0,0,0.97,0,0,0,0,0,0,0,0,0,0,0,0.206,0)\n",
    "pred<-prediction(mod.can.lg$fitted.values,mod.can.lg$y)\n",
    "perf<-performance(pred,\"tpr\",\"fpr\")\n",
    "plot(perf,colorize=TRUE)"
   ]
  },
  {
   "cell_type": "markdown",
   "metadata": {},
   "source": [
    "## 5.2 Generalized linear model \n",
    "\n",
    "The logistic regression is a special case of the generalized linear model. \n",
    "\n",
    "Suppose that the outcome $y$ follows a distribution that belongs to **the exponential family** \n",
    "$$\n",
    "p(y | \\theta, \\tau)= h(y,\\tau) \\exp\\left\\{ \\frac{b(\\theta) T(y)-A(\\theta)  }{d(\\tau)} \\right\\}.\n",
    "$$\n",
    "We usually use the canonical form \n",
    "$$\n",
    "p(y | \\theta, \\tau)= h(y,\\tau) \\exp\\left\\{ \\frac{\\theta T(y)-A(\\theta)  }{d \\tau} \\right\\}.\n",
    "$$\n",
    "\n",
    "For regular use, we specify a GLM in the following manner. \n",
    "\n",
    "1. Pick an exponential form of distribution (of the error terms)\n",
    "2. Set the predictor $X\\beta$.\n",
    "3. Pick a link function $g$ \n",
    "$$\n",
    "\\mathbb{E}[Y|X]=\\mu = g^{-1}(y).\n",
    "$$\n",
    "\n",
    "Note that steps (1) and (3) are often tied. \n"
   ]
  },
  {
   "cell_type": "code",
   "execution_count": 18,
   "metadata": {},
   "outputs": [],
   "source": [
    "# Read the help file of glm()\n",
    "?glm\n",
    "\n",
    "# Key difference from lm():\n",
    "# The argument \"family\"\n",
    "?family\n",
    "# error distribution( link function )\n",
    "# e.g., \n",
    "# linear regression： gaussian(link = \"identity\") \n",
    "# logstics regression： binomial(link = \"logit\") \n",
    "# Poisson regression: poisson(link = \"log\")"
   ]
  },
  {
   "cell_type": "code",
   "execution_count": null,
   "metadata": {},
   "outputs": [],
   "source": [
    "# use, e.g., lrtest() for likelihood ratio tests (for nested models)\n",
    "?lrtest"
   ]
  },
  {
   "cell_type": "code",
   "execution_count": 14,
   "metadata": {},
   "outputs": [],
   "source": [
    "# use confint() in the MASS package for constructing confidence intervals\n",
    "library(MASS) # a generic confint() is in the stat package\n",
    "?confint()"
   ]
  }
 ],
 "metadata": {
  "kernelspec": {
   "display_name": "R",
   "language": "R",
   "name": "ir"
  },
  "language_info": {
   "codemirror_mode": "r",
   "file_extension": ".r",
   "mimetype": "text/x-r-source",
   "name": "R",
   "pygments_lexer": "r",
   "version": "4.1.0"
  },
  "latex_envs": {
   "LaTeX_envs_menu_present": true,
   "autoclose": false,
   "autocomplete": true,
   "bibliofile": "biblio.bib",
   "cite_by": "apalike",
   "current_citInitial": 1,
   "eqLabelWithNumbers": true,
   "eqNumInitial": 1,
   "hotkeys": {
    "equation": "Ctrl-E",
    "itemize": "Ctrl-I"
   },
   "labels_anchors": false,
   "latex_user_defs": false,
   "report_style_numbering": false,
   "user_envs_cfg": false
  }
 },
 "nbformat": 4,
 "nbformat_minor": 2
}
