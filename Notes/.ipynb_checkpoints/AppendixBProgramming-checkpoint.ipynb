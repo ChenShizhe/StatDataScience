{
 "cells": [
  {
   "cell_type": "markdown",
   "metadata": {},
   "source": [
    "# Appendix B Programming Basics"
   ]
  },
  {
   "cell_type": "markdown",
   "metadata": {},
   "source": [
    "## B.1 Basic objects in `R`"
   ]
  },
  {
   "cell_type": "markdown",
   "metadata": {},
   "source": [
    "### Vectors\n",
    "\n",
    "The most basic element of statistics is a vector of numeric data. To create a vector in `R`, we use the following syntax."
   ]
  },
  {
   "cell_type": "code",
   "execution_count": 8,
   "metadata": {},
   "outputs": [
    {
     "name": "stdout",
     "output_type": "stream",
     "text": [
      "[1] 1 2 3 4 5\n"
     ]
    }
   ],
   "source": [
    "v <- c(1, 2, 3, 4, 5)\n",
    "print(v)"
   ]
  },
  {
   "cell_type": "markdown",
   "metadata": {},
   "source": [
    "This create a variable named `v` and stores in it the vector of numbers `(1, 2, 3, 4, 5)`. Some things to note:\n",
    "\n",
    "-  The left arrow `<-` is an operator used to assign values to objects. The equal sign `=` also works in `R`.  \n",
    "\n",
    "- `c()` is a function that \"combines values into a vector or list\" (see [this help file](https://www.rdocumentation.org/packages/base/versions/3.6.2/topics/c) or type `?c` in the code cell). \n",
    "\n",
    "We can create a longer vector by combining two vectors. "
   ]
  },
  {
   "cell_type": "code",
   "execution_count": 9,
   "metadata": {},
   "outputs": [
    {
     "name": "stdout",
     "output_type": "stream",
     "text": [
      " [1]  1  2  3  4  5  6  7  8  9 10\n",
      " [1]   1   2   3   4   5   6   7   8   9  10 100\n"
     ]
    }
   ],
   "source": [
    "w<-6:10\n",
    "x <- c(v,w)\n",
    "print(x)\n",
    "\n",
    "# Add more elements...\n",
    "x <- c(x,100)\n",
    "print(x)"
   ]
  },
  {
   "cell_type": "markdown",
   "metadata": {},
   "source": [
    "Almost all operations in R are \"vectorized\", meaning that they can operate on vectors. As an example, to multiply each element of `x` by the number 2, we simply type the following. "
   ]
  },
  {
   "cell_type": "code",
   "execution_count": 10,
   "metadata": {},
   "outputs": [
    {
     "name": "stdout",
     "output_type": "stream",
     "text": [
      " [1]   2   4   6   8  10  12  14  16  18  20 200\n"
     ]
    },
    {
     "data": {
      "text/html": [
       "310"
      ],
      "text/latex": [
       "310"
      ],
      "text/markdown": [
       "310"
      ],
      "text/plain": [
       "[1] 310"
      ]
     },
     "metadata": {},
     "output_type": "display_data"
    },
    {
     "data": {
      "text/html": [
       "28.1818181818182"
      ],
      "text/latex": [
       "28.1818181818182"
      ],
      "text/markdown": [
       "28.1818181818182"
      ],
      "text/plain": [
       "[1] 28.18182"
      ]
     },
     "metadata": {},
     "output_type": "display_data"
    },
    {
     "data": {
      "text/html": [
       "28.1818181818182"
      ],
      "text/latex": [
       "28.1818181818182"
      ],
      "text/markdown": [
       "28.1818181818182"
      ],
      "text/plain": [
       "[1] 28.18182"
      ]
     },
     "metadata": {},
     "output_type": "display_data"
    }
   ],
   "source": [
    "y <- 2*x\n",
    "print(y)\n",
    "# To add up all elements in `y`, we write \n",
    "sum(y)\n",
    "# To calculate the mean of y\n",
    "mean(y)\n",
    "# or \n",
    "sum(y)/length(y)"
   ]
  },
  {
   "cell_type": "markdown",
   "metadata": {},
   "source": [
    "Numeric vectors hold integers or doubles. By default, if we enter a number in `R` it is stored as a double. To explicitly store integers, we can use the as.integer function."
   ]
  },
  {
   "cell_type": "code",
   "execution_count": 11,
   "metadata": {
    "scrolled": false
   },
   "outputs": [
    {
     "data": {
      "text/html": [
       "'double'"
      ],
      "text/latex": [
       "'double'"
      ],
      "text/markdown": [
       "'double'"
      ],
      "text/plain": [
       "[1] \"double\""
      ]
     },
     "metadata": {},
     "output_type": "display_data"
    },
    {
     "data": {
      "text/html": [
       "'integer'"
      ],
      "text/latex": [
       "'integer'"
      ],
      "text/markdown": [
       "'integer'"
      ],
      "text/plain": [
       "[1] \"integer\""
      ]
     },
     "metadata": {},
     "output_type": "display_data"
    }
   ],
   "source": [
    "typeof(1)\n",
    "typeof(as.integer(1))"
   ]
  },
  {
   "cell_type": "markdown",
   "metadata": {},
   "source": [
    "It is possible to assign names to each entry of a vector. "
   ]
  },
  {
   "cell_type": "code",
   "execution_count": 2,
   "metadata": {
    "scrolled": false
   },
   "outputs": [
    {
     "data": {
      "text/html": [
       "<style>\n",
       ".dl-inline {width: auto; margin:0; padding: 0}\n",
       ".dl-inline>dt, .dl-inline>dd {float: none; width: auto; display: inline-block}\n",
       ".dl-inline>dt::after {content: \":\\0020\"; padding-right: .5ex}\n",
       ".dl-inline>dt:not(:first-of-type) {padding-left: .5ex}\n",
       "</style><dl class=dl-inline><dt>a</dt><dd>1</dd><dt>b</dt><dd>2</dd><dt>c</dt><dd>3</dd></dl>\n"
      ],
      "text/latex": [
       "\\begin{description*}\n",
       "\\item[a] 1\n",
       "\\item[b] 2\n",
       "\\item[c] 3\n",
       "\\end{description*}\n"
      ],
      "text/markdown": [
       "a\n",
       ":   1b\n",
       ":   2c\n",
       ":   3\n",
       "\n"
      ],
      "text/plain": [
       "a b c \n",
       "1 2 3 "
      ]
     },
     "metadata": {},
     "output_type": "display_data"
    },
    {
     "data": {
      "text/html": [
       "<style>\n",
       ".list-inline {list-style: none; margin:0; padding: 0}\n",
       ".list-inline>li {display: inline-block}\n",
       ".list-inline>li:not(:last-child)::after {content: \"\\00b7\"; padding: 0 .5ex}\n",
       "</style>\n",
       "<ol class=list-inline><li>'a'</li><li>'b'</li><li>'c'</li></ol>\n"
      ],
      "text/latex": [
       "\\begin{enumerate*}\n",
       "\\item 'a'\n",
       "\\item 'b'\n",
       "\\item 'c'\n",
       "\\end{enumerate*}\n"
      ],
      "text/markdown": [
       "1. 'a'\n",
       "2. 'b'\n",
       "3. 'c'\n",
       "\n",
       "\n"
      ],
      "text/plain": [
       "[1] \"a\" \"b\" \"c\""
      ]
     },
     "metadata": {},
     "output_type": "display_data"
    },
    {
     "data": {
      "text/html": [
       "<strong>stats:</strong> 1"
      ],
      "text/latex": [
       "\\textbf{stats:} 1"
      ],
      "text/markdown": [
       "**stats:** 1"
      ],
      "text/plain": [
       "stats \n",
       "    1 "
      ]
     },
     "metadata": {},
     "output_type": "display_data"
    },
    {
     "data": {
      "text/html": [
       "<strong>stats:</strong> 1"
      ],
      "text/latex": [
       "\\textbf{stats:} 1"
      ],
      "text/markdown": [
       "**stats:** 1"
      ],
      "text/plain": [
       "stats \n",
       "    1 "
      ]
     },
     "metadata": {},
     "output_type": "display_data"
    }
   ],
   "source": [
    "(v = c(a=1, b=2, c=3))\n",
    "# c(a=1, b=2, stats=3) == c(1, 2, 3)\n",
    "names(v)\n",
    "names(v) <- c(\"stats\", 'ds', 'cs')\n",
    "\n",
    "v[\"stats\"]\n",
    "v[1]"
   ]
  },
  {
   "cell_type": "markdown",
   "metadata": {},
   "source": [
    "### Logical values\n",
    "\n",
    "In `R`, the *boolean* (true / false) values are represented by the special values `TRUE` and `FALSE`, commonly abbreviated `T` and `F`."
   ]
  },
  {
   "cell_type": "code",
   "execution_count": 13,
   "metadata": {},
   "outputs": [
    {
     "name": "stdout",
     "output_type": "stream",
     "text": [
      "[1]  TRUE FALSE  TRUE  TRUE FALSE\n"
     ]
    }
   ],
   "source": [
    "u <- c(T, F, TRUE, TRUE, FALSE)\n",
    "print(u)"
   ]
  },
  {
   "cell_type": "markdown",
   "metadata": {},
   "source": [
    "Logical values are results of logical statements (questions), for instance, comparisons of numbers. "
   ]
  },
  {
   "cell_type": "code",
   "execution_count": 14,
   "metadata": {
    "scrolled": false
   },
   "outputs": [
    {
     "name": "stdout",
     "output_type": "stream",
     "text": [
      "[1] FALSE  TRUE  TRUE\n",
      "[1] 2 3\n"
     ]
    }
   ],
   "source": [
    "v <- c(1, 2, 3)\n",
    "print(v > 1)\n",
    "print(v[v > 1])"
   ]
  },
  {
   "cell_type": "markdown",
   "metadata": {},
   "source": [
    "Often you will need to combine multiple logical conditions. To do this we have the **logical operators** (`&&` and `||`), which take the logical `and` and `or`, respectively, of several logical conditions."
   ]
  },
  {
   "cell_type": "code",
   "execution_count": 57,
   "metadata": {},
   "outputs": [
    {
     "name": "stdout",
     "output_type": "stream",
     "text": [
      "[1] FALSE\n"
     ]
    }
   ],
   "source": [
    "# Weather\n",
    "rain <- TRUE\n",
    "temp <- 41\n",
    "can_jog <- (rain == FALSE) && (temp > 62)\n",
    "print(can_wear_shorts)"
   ]
  },
  {
   "cell_type": "markdown",
   "metadata": {},
   "source": [
    "There is a subtle but important difference betwen the single and double versions of these operators. The single `&` performs entrywise `AND` over logical vectors:"
   ]
  },
  {
   "cell_type": "code",
   "execution_count": 60,
   "metadata": {},
   "outputs": [
    {
     "name": "stdout",
     "output_type": "stream",
     "text": [
      "[1] FALSE  TRUE\n",
      "[1] FALSE\n"
     ]
    }
   ],
   "source": [
    "# today's weather and Tuesday's weather\n",
    "rain <- c(TRUE, FALSE)\n",
    "temp <- c(41, 65)\n",
    "can_jog1 <- (rain == FALSE) & (temp > 60)\n",
    "can_jog2 <- (rain == FALSE) && (temp > 60)\n",
    "print(can_jog1)\n",
    "print(can_jog2)"
   ]
  },
  {
   "cell_type": "markdown",
   "metadata": {},
   "source": [
    "Be careful when testing for equality in conditionals. The `==` operator will return a *vector* of logicals. If you want to make sure that any/all entries of a vector are `TRUE`, use the `any()` or `all()` functions:"
   ]
  },
  {
   "cell_type": "code",
   "execution_count": 1,
   "metadata": {},
   "outputs": [
    {
     "data": {
      "text/html": [
       "<style>\n",
       ".list-inline {list-style: none; margin:0; padding: 0}\n",
       ".list-inline>li {display: inline-block}\n",
       ".list-inline>li:not(:last-child)::after {content: \"\\00b7\"; padding: 0 .5ex}\n",
       "</style>\n",
       "<ol class=list-inline><li>TRUE</li><li>FALSE</li><li>FALSE</li></ol>\n"
      ],
      "text/latex": [
       "\\begin{enumerate*}\n",
       "\\item TRUE\n",
       "\\item FALSE\n",
       "\\item FALSE\n",
       "\\end{enumerate*}\n"
      ],
      "text/markdown": [
       "1. TRUE\n",
       "2. FALSE\n",
       "3. FALSE\n",
       "\n",
       "\n"
      ],
      "text/plain": [
       "[1]  TRUE FALSE FALSE"
      ]
     },
     "metadata": {},
     "output_type": "display_data"
    },
    {
     "data": {
      "text/html": [
       "FALSE"
      ],
      "text/latex": [
       "FALSE"
      ],
      "text/markdown": [
       "FALSE"
      ],
      "text/plain": [
       "[1] FALSE"
      ]
     },
     "metadata": {},
     "output_type": "display_data"
    },
    {
     "data": {
      "text/html": [
       "TRUE"
      ],
      "text/latex": [
       "TRUE"
      ],
      "text/markdown": [
       "TRUE"
      ],
      "text/plain": [
       "[1] TRUE"
      ]
     },
     "metadata": {},
     "output_type": "display_data"
    }
   ],
   "source": [
    "v1 = c(1, 2, 3)\n",
    "v2 = c(1, 1, 2)\n",
    "v1 == v2\n",
    "all(v1 == v2)\n",
    "any(v1 == v2)\n",
    "#if (v1 == v2) { print(\"Wrong!\") }\n",
    "#if (all(v1 == v2)) { print(\"All!\") }\n",
    "#if (any(v1 == v2)) { print(\"Any!\") }\n",
    "# ?identical"
   ]
  },
  {
   "cell_type": "markdown",
   "metadata": {},
   "source": [
    "### Missing values\n",
    "\n",
    "A very statistical feature of `R` that sets it apart from other languages is the built-in ability to handle missing data via the special value `NA` (not available). Think of `NA` as saying that `R` doesn't know the value of something. Is `NA` greater than 5? `R` doesn't know, because `R` don't know what the unobserved value supposed to be. Yet the `NA` is still counted as one sample, just not observed. "
   ]
  },
  {
   "cell_type": "code",
   "execution_count": 15,
   "metadata": {
    "scrolled": true
   },
   "outputs": [
    {
     "data": {
      "text/html": [
       "TRUE"
      ],
      "text/latex": [
       "TRUE"
      ],
      "text/markdown": [
       "TRUE"
      ],
      "text/plain": [
       "[1] TRUE"
      ]
     },
     "metadata": {},
     "output_type": "display_data"
    },
    {
     "name": "stdout",
     "output_type": "stream",
     "text": [
      "[1] NA\n"
     ]
    },
    {
     "data": {
      "text/html": [
       "3"
      ],
      "text/latex": [
       "3"
      ],
      "text/markdown": [
       "3"
      ],
      "text/plain": [
       "[1] 3"
      ]
     },
     "metadata": {},
     "output_type": "display_data"
    }
   ],
   "source": [
    "x <- NA\n",
    "is.na(x)\n",
    "print(x > 5)\n",
    "length(c(1, 2, NA))"
   ]
  },
  {
   "cell_type": "markdown",
   "metadata": {},
   "source": [
    "### Matrix and array \n",
    "\n",
    "We can create vectors with more than one dimenions, which is known as a matrix (with two dimensions) or an array (with more than two dimensions). "
   ]
  },
  {
   "cell_type": "code",
   "execution_count": 16,
   "metadata": {
    "scrolled": true
   },
   "outputs": [],
   "source": [
    "A<-matrix(1:9, nrow = 3, ncol = 3)\n",
    "\n",
    "B <-array(1:20, dim=c(2,5,2))"
   ]
  },
  {
   "cell_type": "markdown",
   "metadata": {},
   "source": [
    "### String \n",
    "\n",
    "`R` can also store characters in a string."
   ]
  },
  {
   "cell_type": "code",
   "execution_count": 17,
   "metadata": {},
   "outputs": [
    {
     "data": {
      "text/html": [
       "<style>\n",
       ".list-inline {list-style: none; margin:0; padding: 0}\n",
       ".list-inline>li {display: inline-block}\n",
       ".list-inline>li:not(:last-child)::after {content: \"\\00b7\"; padding: 0 .5ex}\n",
       "</style>\n",
       "<ol class=list-inline><li>'a'</li><li>'new'</li><li>'sentence'</li></ol>\n"
      ],
      "text/latex": [
       "\\begin{enumerate*}\n",
       "\\item 'a'\n",
       "\\item 'new'\n",
       "\\item 'sentence'\n",
       "\\end{enumerate*}\n"
      ],
      "text/markdown": [
       "1. 'a'\n",
       "2. 'new'\n",
       "3. 'sentence'\n",
       "\n",
       "\n"
      ],
      "text/plain": [
       "[1] \"a\"        \"new\"      \"sentence\""
      ]
     },
     "metadata": {},
     "output_type": "display_data"
    },
    {
     "data": {
      "text/html": [
       "'character'"
      ],
      "text/latex": [
       "'character'"
      ],
      "text/markdown": [
       "'character'"
      ],
      "text/plain": [
       "[1] \"character\""
      ]
     },
     "metadata": {},
     "output_type": "display_data"
    },
    {
     "name": "stdout",
     "output_type": "stream",
     "text": [
      "[1] \"this is a sentence\"\n"
     ]
    },
    {
     "data": {
      "text/html": [
       "1"
      ],
      "text/latex": [
       "1"
      ],
      "text/markdown": [
       "1"
      ],
      "text/plain": [
       "[1] 1"
      ]
     },
     "metadata": {},
     "output_type": "display_data"
    },
    {
     "data": {
      "text/html": [
       "3"
      ],
      "text/latex": [
       "3"
      ],
      "text/markdown": [
       "3"
      ],
      "text/plain": [
       "[1] 3"
      ]
     },
     "metadata": {},
     "output_type": "display_data"
    },
    {
     "data": {
      "text/html": [
       "<style>\n",
       ".list-inline {list-style: none; margin:0; padding: 0}\n",
       ".list-inline>li {display: inline-block}\n",
       ".list-inline>li:not(:last-child)::after {content: \"\\00b7\"; padding: 0 .5ex}\n",
       "</style>\n",
       "<ol class=list-inline><li>'a/_'</li><li>'new/!'</li><li>'sentence/?'</li></ol>\n"
      ],
      "text/latex": [
       "\\begin{enumerate*}\n",
       "\\item 'a/\\_'\n",
       "\\item 'new/!'\n",
       "\\item 'sentence/?'\n",
       "\\end{enumerate*}\n"
      ],
      "text/markdown": [
       "1. 'a/_'\n",
       "2. 'new/!'\n",
       "3. 'sentence/?'\n",
       "\n",
       "\n"
      ],
      "text/plain": [
       "[1] \"a/_\"        \"new/!\"      \"sentence/?\""
      ]
     },
     "metadata": {},
     "output_type": "display_data"
    },
    {
     "data": {
      "text/html": [
       "'list'"
      ],
      "text/latex": [
       "'list'"
      ],
      "text/markdown": [
       "'list'"
      ],
      "text/plain": [
       "[1] \"list\""
      ]
     },
     "metadata": {},
     "output_type": "display_data"
    },
    {
     "data": {
      "text/html": [
       "1"
      ],
      "text/latex": [
       "1"
      ],
      "text/markdown": [
       "1"
      ],
      "text/plain": [
       "[1] 1"
      ]
     },
     "metadata": {},
     "output_type": "display_data"
    },
    {
     "data": {
      "text/html": [
       "<style>\n",
       ".list-inline {list-style: none; margin:0; padding: 0}\n",
       ".list-inline>li {display: inline-block}\n",
       ".list-inline>li:not(:last-child)::after {content: \"\\00b7\"; padding: 0 .5ex}\n",
       "</style>\n",
       "<ol class=list-inline><li>'this'</li><li>'is'</li><li>'a'</li><li>'sentence'</li></ol>\n"
      ],
      "text/latex": [
       "\\begin{enumerate*}\n",
       "\\item 'this'\n",
       "\\item 'is'\n",
       "\\item 'a'\n",
       "\\item 'sentence'\n",
       "\\end{enumerate*}\n"
      ],
      "text/markdown": [
       "1. 'this'\n",
       "2. 'is'\n",
       "3. 'a'\n",
       "4. 'sentence'\n",
       "\n",
       "\n"
      ],
      "text/plain": [
       "[1] \"this\"     \"is\"       \"a\"        \"sentence\""
      ]
     },
     "metadata": {},
     "output_type": "display_data"
    }
   ],
   "source": [
    "wrd = c(\"a\",\"new\",\"sentence\")\n",
    "u = c(\"_\",\"!\",\"?\")\n",
    "wrd\n",
    "typeof(wrd)\n",
    "\n",
    "print(\"this is a sentence\")\n",
    "length(\"this is a sentence\")\n",
    "length(wrd)\n",
    "\n",
    "### Use paste() function to manipulate strings\n",
    "paste(wrd,u,sep=\"/\")\n",
    "\n",
    "### Use strsplit() to split strings\n",
    "split.str=strsplit(\"this is a sentence\", split=\" \")\n",
    "\n",
    "typeof(split.str)\n",
    "length(split.str)\n",
    "split.str[[1]]"
   ]
  },
  {
   "cell_type": "markdown",
   "metadata": {},
   "source": [
    "## Lists\n",
    "Lists are another type of sequence data type found in `R`. Unlike atomic vectors, lists can hold objects of multiple types."
   ]
  },
  {
   "cell_type": "code",
   "execution_count": 18,
   "metadata": {},
   "outputs": [
    {
     "name": "stdout",
     "output_type": "stream",
     "text": [
      "[[1]]\n",
      "[1] \"a\"\n",
      "\n",
      "[[2]]\n",
      "[1] 1\n",
      "\n",
      "[[3]]\n",
      "[1] FALSE\n",
      "\n",
      "[[4]]\n",
      "[1] 3.141593\n",
      "\n",
      "[[5]]\n",
      "[[5]][[1]]\n",
      "[1] 1 2 3\n",
      "\n",
      "\n"
     ]
    }
   ],
   "source": [
    "# list(1, 2, 3, \"a\") %>% str\n",
    "x = list('a', 1L, FALSE, pi, list(1:3))\n",
    "print(x)"
   ]
  },
  {
   "cell_type": "markdown",
   "metadata": {},
   "source": [
    "As the printout suggests, we can think of a list as a _vector of vectors_. For this reason, they are sometimes referred to as _recursive vectors_."
   ]
  },
  {
   "cell_type": "markdown",
   "metadata": {},
   "source": [
    "The `str` command will print out the **str**ucture of an object. "
   ]
  },
  {
   "cell_type": "code",
   "execution_count": 19,
   "metadata": {},
   "outputs": [
    {
     "name": "stdout",
     "output_type": "stream",
     "text": [
      "List of 5\n",
      " $ : chr \"a\"\n",
      " $ : int 1\n",
      " $ : logi FALSE\n",
      " $ : num 3.14\n",
      " $ :List of 1\n",
      "  ..$ : int [1:3] 1 2 3\n"
     ]
    }
   ],
   "source": [
    "str(x) "
   ]
  },
  {
   "cell_type": "markdown",
   "metadata": {},
   "source": [
    "Just like atomic vectors, we can name each individual entry of a list:    "
   ]
  },
  {
   "cell_type": "code",
   "execution_count": 20,
   "metadata": {},
   "outputs": [
    {
     "name": "stdout",
     "output_type": "stream",
     "text": [
      "List of 3\n",
      " $ a: num 1\n",
      " $ b: num 2\n",
      " $ c: num 3\n"
     ]
    },
    {
     "data": {
      "text/html": [
       "<style>\n",
       ".list-inline {list-style: none; margin:0; padding: 0}\n",
       ".list-inline>li {display: inline-block}\n",
       ".list-inline>li:not(:last-child)::after {content: \"\\00b7\"; padding: 0 .5ex}\n",
       "</style>\n",
       "<ol class=list-inline><li>'a'</li><li>'b'</li><li>'c'</li></ol>\n"
      ],
      "text/latex": [
       "\\begin{enumerate*}\n",
       "\\item 'a'\n",
       "\\item 'b'\n",
       "\\item 'c'\n",
       "\\end{enumerate*}\n"
      ],
      "text/markdown": [
       "1. 'a'\n",
       "2. 'b'\n",
       "3. 'c'\n",
       "\n",
       "\n"
      ],
      "text/plain": [
       "[1] \"a\" \"b\" \"c\""
      ]
     },
     "metadata": {},
     "output_type": "display_data"
    }
   ],
   "source": [
    "x_named <- list(a = 1, b = 2, c = 3)\n",
    "str(x_named)\n",
    "names(x_named)"
   ]
  },
  {
   "cell_type": "markdown",
   "metadata": {},
   "source": [
    "### Sub-setting lists\n",
    "Subsetting lists is a little more complex than subsetting atomic vectors. We will use the following example list."
   ]
  },
  {
   "cell_type": "code",
   "execution_count": 21,
   "metadata": {},
   "outputs": [
    {
     "name": "stdout",
     "output_type": "stream",
     "text": [
      "List of 4\n",
      " $ a: int [1:3] 1 2 3\n",
      " $ b: chr \"a string\"\n",
      " $ c: num 3.14\n",
      " $ d:List of 2\n",
      "  ..$ : num -1\n",
      "  ..$ : num -5\n"
     ]
    }
   ],
   "source": [
    "str(example_list <- list(a = 1:3, b = \"a string\", c = pi, d = list(-1, -5)))"
   ]
  },
  {
   "cell_type": "code",
   "execution_count": 22,
   "metadata": {},
   "outputs": [
    {
     "name": "stdout",
     "output_type": "stream",
     "text": [
      "$a\n",
      "[1] 1 2 3\n",
      "\n",
      "$b\n",
      "[1] \"a string\"\n",
      "\n",
      "$c\n",
      "[1] 3.141593\n",
      "\n",
      "$d\n",
      "$d[[1]]\n",
      "[1] -1\n",
      "\n",
      "$d[[2]]\n",
      "[1] -5\n",
      "\n",
      "\n"
     ]
    }
   ],
   "source": [
    "print(example_list)"
   ]
  },
  {
   "cell_type": "markdown",
   "metadata": {},
   "source": [
    "The `[]` operator extracts a sub-list. That is, the return type will always be a list:"
   ]
  },
  {
   "cell_type": "code",
   "execution_count": 23,
   "metadata": {},
   "outputs": [
    {
     "name": "stdout",
     "output_type": "stream",
     "text": [
      "List of 4\n",
      " $ a: int [1:3] 1 2 3\n",
      " $ b: chr \"a string\"\n",
      " $ c: num 3.14\n",
      " $ d:List of 2\n",
      "  ..$ : num -1\n",
      "  ..$ : num -5\n"
     ]
    },
    {
     "data": {
      "text/html": [
       "1"
      ],
      "text/latex": [
       "1"
      ],
      "text/markdown": [
       "1"
      ],
      "text/plain": [
       "[1] 1"
      ]
     },
     "metadata": {},
     "output_type": "display_data"
    },
    {
     "name": "stdout",
     "output_type": "stream",
     "text": [
      "List of 1\n",
      " $ a: int [1:3] 1 2 3\n",
      " int [1:3] 1 2 3\n"
     ]
    }
   ],
   "source": [
    "example_v <- 1:3\n",
    "str(example_list)\n",
    "example_v[1]\n",
    "str(example_list[1])\n",
    "str(example_list[[1]])"
   ]
  },
  {
   "cell_type": "markdown",
   "metadata": {},
   "source": [
    "As with atomic vectors, the single brackets accept integer, logical and character vectors."
   ]
  },
  {
   "cell_type": "code",
   "execution_count": 24,
   "metadata": {},
   "outputs": [
    {
     "name": "stdout",
     "output_type": "stream",
     "text": [
      "List of 4\n",
      " $ a: int [1:3] 1 2 3\n",
      " $ b: chr \"a string\"\n",
      " $ c: num 3.14\n",
      " $ d:List of 2\n",
      "  ..$ : num -1\n",
      "  ..$ : num -5\n"
     ]
    },
    {
     "data": {
      "text/html": [
       "<dl>\n",
       "\t<dt>$a</dt>\n",
       "\t\t<dd><style>\n",
       ".list-inline {list-style: none; margin:0; padding: 0}\n",
       ".list-inline>li {display: inline-block}\n",
       ".list-inline>li:not(:last-child)::after {content: \"\\00b7\"; padding: 0 .5ex}\n",
       "</style>\n",
       "<ol class=list-inline><li>1</li><li>2</li><li>3</li></ol>\n",
       "</dd>\n",
       "\t<dt>$b</dt>\n",
       "\t\t<dd>'a string'</dd>\n",
       "\t<dt>$d</dt>\n",
       "\t\t<dd><ol>\n",
       "\t<li>-1</li>\n",
       "\t<li>-5</li>\n",
       "</ol>\n",
       "</dd>\n",
       "</dl>\n"
      ],
      "text/latex": [
       "\\begin{description}\n",
       "\\item[\\$a] \\begin{enumerate*}\n",
       "\\item 1\n",
       "\\item 2\n",
       "\\item 3\n",
       "\\end{enumerate*}\n",
       "\n",
       "\\item[\\$b] 'a string'\n",
       "\\item[\\$d] \\begin{enumerate}\n",
       "\\item -1\n",
       "\\item -5\n",
       "\\end{enumerate}\n",
       "\n",
       "\\end{description}\n"
      ],
      "text/markdown": [
       "$a\n",
       ":   1. 1\n",
       "2. 2\n",
       "3. 3\n",
       "\n",
       "\n",
       "\n",
       "$b\n",
       ":   'a string'\n",
       "$d\n",
       ":   1. -1\n",
       "2. -5\n",
       "\n",
       "\n",
       "\n",
       "\n",
       "\n"
      ],
      "text/plain": [
       "$a\n",
       "[1] 1 2 3\n",
       "\n",
       "$b\n",
       "[1] \"a string\"\n",
       "\n",
       "$d\n",
       "$d[[1]]\n",
       "[1] -1\n",
       "\n",
       "$d[[2]]\n",
       "[1] -5\n",
       "\n"
      ]
     },
     "metadata": {},
     "output_type": "display_data"
    },
    {
     "name": "stdout",
     "output_type": "stream",
     "text": [
      "List of 2\n",
      " $ a: int [1:3] 1 2 3\n",
      " $ d:List of 2\n",
      "  ..$ : num -1\n",
      "  ..$ : num -5\n",
      "List of 3\n",
      " $ a: int [1:3] 1 2 3\n",
      " $ b: chr \"a string\"\n",
      " $ d:List of 2\n",
      "  ..$ : num -1\n",
      "  ..$ : num -5\n",
      "List of 3\n",
      " $ a: int [1:3] 1 2 3\n",
      " $ b: chr \"a string\"\n",
      " $ d:List of 2\n",
      "  ..$ : num -1\n",
      "  ..$ : num -5\n"
     ]
    }
   ],
   "source": [
    "str(example_list)\n",
    "example_list[c(1,2,4)]\n",
    "str(example_list[c('a', 'd')])\n",
    "str(example_list[c(TRUE, TRUE, FALSE, TRUE)])  # what happened here?\n",
    "str(example_list[-3])"
   ]
  },
  {
   "cell_type": "markdown",
   "metadata": {},
   "source": [
    "The double-brackets `[[]]`  will extract a single component from the list."
   ]
  },
  {
   "cell_type": "code",
   "execution_count": 25,
   "metadata": {},
   "outputs": [
    {
     "name": "stdout",
     "output_type": "stream",
     "text": [
      "List of 4\n",
      " $ a: int [1:3] 1 2 3\n",
      " $ b: chr \"a string\"\n",
      " $ c: num 3.14\n",
      " $ d:List of 2\n",
      "  ..$ : num -1\n",
      "  ..$ : num -5\n"
     ]
    },
    {
     "data": {
      "text/html": [
       "<ol>\n",
       "\t<li>-1</li>\n",
       "\t<li>-5</li>\n",
       "</ol>\n"
      ],
      "text/latex": [
       "\\begin{enumerate}\n",
       "\\item -1\n",
       "\\item -5\n",
       "\\end{enumerate}\n"
      ],
      "text/markdown": [
       "1. -1\n",
       "2. -5\n",
       "\n",
       "\n"
      ],
      "text/plain": [
       "[[1]]\n",
       "[1] -1\n",
       "\n",
       "[[2]]\n",
       "[1] -5\n"
      ]
     },
     "metadata": {},
     "output_type": "display_data"
    }
   ],
   "source": [
    "str(example_list)\n",
    "example_list[[\"d\"]]"
   ]
  },
  {
   "cell_type": "markdown",
   "metadata": {},
   "source": [
    "We can also pass an integer vector to `[[]]`. This will index into successive levels of the list:"
   ]
  },
  {
   "cell_type": "code",
   "execution_count": 26,
   "metadata": {},
   "outputs": [
    {
     "name": "stdout",
     "output_type": "stream",
     "text": [
      "List of 4\n",
      " $ a: int [1:3] 1 2 3\n",
      " $ b: chr \"a string\"\n",
      " $ c: num 3.14\n",
      " $ d:List of 2\n",
      "  ..$ : num -1\n",
      "  ..$ : num -5\n"
     ]
    },
    {
     "data": {
      "text/html": [
       "-5"
      ],
      "text/latex": [
       "-5"
      ],
      "text/markdown": [
       "-5"
      ],
      "text/plain": [
       "[1] -5"
      ]
     },
     "metadata": {},
     "output_type": "display_data"
    }
   ],
   "source": [
    "str(example_list)\n",
    "example_list[[c(4,2)]]"
   ]
  },
  {
   "cell_type": "markdown",
   "metadata": {},
   "source": [
    "## B.2 Data frame\n",
    "\n",
    "We use the `load()` function to read an `RData` file. The file `flint.RData` contains the `flint` data set. "
   ]
  },
  {
   "cell_type": "code",
   "execution_count": 1,
   "metadata": {},
   "outputs": [],
   "source": [
    "load('../Data/flint.RData')"
   ]
  },
  {
   "cell_type": "markdown",
   "metadata": {},
   "source": [
    "This has loaded a data frame into an object called `flint` containing real data set on an ongoing public health crisis （see the [Flint water crisis](https://en.wikipedia.org/wiki/Flint_water_crisis)). We will use this data set to explore the `data.frame` in `R`. "
   ]
  },
  {
   "cell_type": "code",
   "execution_count": 3,
   "metadata": {},
   "outputs": [
    {
     "data": {
      "text/plain": [
       " Sample Number      Date Submitted                Analysis (Lead)   \n",
       " Length:23184       Min.   :2015-09-03 11:05:45   Length:23184      \n",
       " Class :character   1st Qu.:2016-02-01 13:27:43   Class :character  \n",
       " Mode  :character   Median :2016-02-18 13:07:39   Mode  :character  \n",
       "                    Mean   :2016-02-29 14:05:42                     \n",
       "                    3rd Qu.:2016-03-24 13:34:40                     \n",
       "                    Max.   :2016-06-30 12:40:08                     \n",
       "                    NA's   :13                                      \n",
       "   Lead (ppb)       Analysis (Copper)   Copper (ppb)       Street #        \n",
       " Min.   :    0.00   Length:23184       Min.   :    0.0   Length:23184      \n",
       " 1st Qu.:    0.00   Class :character   1st Qu.:    0.0   Class :character  \n",
       " Median :    1.00   Mode  :character   Median :    0.0   Mode  :character  \n",
       " Mean   :   17.09                      Mean   :   98.7                     \n",
       " 3rd Qu.:    3.00                      3rd Qu.:  100.0                     \n",
       " Max.   :22905.00                      Max.   :70000.0                     \n",
       " NA's   :13                            NA's   :13                          \n",
       " Street Name            City             Zip Code        \n",
       " Length:23184       Length:23184       Length:23184      \n",
       " Class :character   Class :character   Class :character  \n",
       " Mode  :character   Mode  :character   Mode  :character  \n",
       "                                                         \n",
       "                                                         \n",
       "                                                         \n",
       "                                                         "
      ]
     },
     "metadata": {},
     "output_type": "display_data"
    }
   ],
   "source": [
    "summary(flint)"
   ]
  },
  {
   "cell_type": "code",
   "execution_count": 4,
   "metadata": {},
   "outputs": [
    {
     "data": {
      "text/html": [
       "281.367832727589"
      ],
      "text/latex": [
       "281.367832727589"
      ],
      "text/markdown": [
       "281.367832727589"
      ],
      "text/plain": [
       "[1] 281.3678"
      ]
     },
     "metadata": {},
     "output_type": "display_data"
    }
   ],
   "source": [
    "sd(flint$`Lead (ppb)`, na.rm = TRUE)"
   ]
  },
  {
   "cell_type": "code",
   "execution_count": 5,
   "metadata": {},
   "outputs": [
    {
     "data": {
      "image/png": "[encoded data removed]",
      "text/plain": [
       "Plot with title \"Histogram of v\""
      ]
     },
     "metadata": {
      "image/png": {
       "height": 420,
       "width": 420
      }
     },
     "output_type": "display_data"
    },
    {
     "data": {
      "image/png": "[encoded data removed]",
      "text/plain": [
       "Plot with title \"Histogram of v[v < 10000 & v > 500]\""
      ]
     },
     "metadata": {
      "image/png": {
       "height": 420,
       "width": 420
      }
     },
     "output_type": "display_data"
    }
   ],
   "source": [
    "v <- flint$`Lead (ppb)`\n",
    "hist(v)\n",
    "hist(v[v < 10000 & v > 500])\n",
    "abline(v=15)"
   ]
  },
  {
   "cell_type": "code",
   "execution_count": 32,
   "metadata": {},
   "outputs": [
    {
     "data": {
      "text/plain": [
       "\n",
       "       ***      45503      45804      48050      48053      48054      48057 \n",
       "       112          2          1          1          2          1          1 \n",
       "     48132      48205      48304      48386      48403      48406      48420 \n",
       "         1          1          2          1          1          1          2 \n",
       "     48423      48430      48432      48433      48439      48457      48458 \n",
       "         3          1          1         10          9          2         25 \n",
       "     48463      48473      48501      48502      48503 48503-1042 48503-2640 \n",
       "         1          1          7        214       6882          1          1 \n",
       "48503-2719 48503-2812 48503-3535 48503-4524 48503-4601 48503-5314      48504 \n",
       "         1          1          1          1          1          1       4053 \n",
       "48504-1644 48504-2164 48504-2844 48504-4842  48504-706 48504-7139      48505 \n",
       "         1          1          1          1          1          1       3257 \n",
       "48505-1934 48505-2551 48505-2564 48505-3327 48505-5164      48506 48506-2665 \n",
       "         1          1          1          1          1       3073          1 \n",
       "48506-2680 48506-3506 48506-3753 48506-5216      48507 48507-1352 48507-1433 \n",
       "         1          1          1          1       3875          1          1 \n",
       "48507-1521 48507-1528 48507-1894 48507-2518 48507-2823 48507-5305 48507-5656 \n",
       "         1          1          1          1          1          1          1 \n",
       "48507-6230      48508      48509      48514      48517      48519      48522 \n",
       "         1          3         12          1          1          8          1 \n",
       "     48529      48530      48532 48532-5208 48532-5235      48540      48560 \n",
       "       119          1        504          1          1          1          2 \n",
       "     48584      48750      48804      48805      48817      48905      49010 \n",
       "         1          1          1          1          1          1          1 \n",
       "     49502      49503      49504      54857      58507 \n",
       "         1          1          1          1          1 "
      ]
     },
     "metadata": {},
     "output_type": "display_data"
    }
   ],
   "source": [
    "table(flint$`Zip Code`)"
   ]
  },
  {
   "cell_type": "code",
   "execution_count": 33,
   "metadata": {
    "scrolled": true
   },
   "outputs": [
    {
     "data": {
      "text/html": [
       "8.32773109243698"
      ],
      "text/latex": [
       "8.32773109243698"
      ],
      "text/markdown": [
       "8.32773109243698"
      ],
      "text/plain": [
       "[1] 8.327731"
      ]
     },
     "metadata": {},
     "output_type": "display_data"
    }
   ],
   "source": [
    "z <- flint$`Zip Code`\n",
    "mean(v[z == \"48529\"], na.rm=T)"
   ]
  },
  {
   "cell_type": "code",
   "execution_count": 34,
   "metadata": {},
   "outputs": [
    {
     "data": {
      "image/png": "[encoded data removed]",
      "text/plain": [
       "plot without title"
      ]
     },
     "metadata": {
      "image/png": {
       "height": 420,
       "width": 420
      }
     },
     "output_type": "display_data"
    }
   ],
   "source": [
    "plot(flint$`Lead (ppb)`~flint$`Copper (ppb)`,xlab='Copper (ppb)', ylab='Lead (ppb)',pch=16, col='blue')"
   ]
  },
  {
   "cell_type": "markdown",
   "metadata": {},
   "source": [
    "Many object types in `R` are actually lists with additional attributes. For example,  data frames are lists. The `names()` of a data frame correspond to columns. This means we can use the list indexing methods shown above to access columns."
   ]
  },
  {
   "cell_type": "code",
   "execution_count": 2,
   "metadata": {
    "scrolled": true
   },
   "outputs": [
    {
     "data": {
      "text/html": [
       "'list'"
      ],
      "text/latex": [
       "'list'"
      ],
      "text/markdown": [
       "'list'"
      ],
      "text/plain": [
       "[1] \"list\""
      ]
     },
     "metadata": {},
     "output_type": "display_data"
    },
    {
     "data": {
      "text/html": [
       "<style>\n",
       ".list-inline {list-style: none; margin:0; padding: 0}\n",
       ".list-inline>li {display: inline-block}\n",
       ".list-inline>li:not(:last-child)::after {content: \"\\00b7\"; padding: 0 .5ex}\n",
       "</style>\n",
       "<ol class=list-inline><li>'Sample Number'</li><li>'Date Submitted'</li><li>'Analysis (Lead)'</li><li>'Lead (ppb)'</li><li>'Analysis (Copper)'</li><li>'Copper (ppb)'</li><li>'Street #'</li><li>'Street Name'</li><li>'City'</li><li>'Zip Code'</li></ol>\n"
      ],
      "text/latex": [
       "\\begin{enumerate*}\n",
       "\\item 'Sample Number'\n",
       "\\item 'Date Submitted'\n",
       "\\item 'Analysis (Lead)'\n",
       "\\item 'Lead (ppb)'\n",
       "\\item 'Analysis (Copper)'\n",
       "\\item 'Copper (ppb)'\n",
       "\\item 'Street \\#'\n",
       "\\item 'Street Name'\n",
       "\\item 'City'\n",
       "\\item 'Zip Code'\n",
       "\\end{enumerate*}\n"
      ],
      "text/markdown": [
       "1. 'Sample Number'\n",
       "2. 'Date Submitted'\n",
       "3. 'Analysis (Lead)'\n",
       "4. 'Lead (ppb)'\n",
       "5. 'Analysis (Copper)'\n",
       "6. 'Copper (ppb)'\n",
       "7. 'Street #'\n",
       "8. 'Street Name'\n",
       "9. 'City'\n",
       "10. 'Zip Code'\n",
       "\n",
       "\n"
      ],
      "text/plain": [
       " [1] \"Sample Number\"     \"Date Submitted\"    \"Analysis (Lead)\"  \n",
       " [4] \"Lead (ppb)\"        \"Analysis (Copper)\" \"Copper (ppb)\"     \n",
       " [7] \"Street #\"          \"Street Name\"       \"City\"             \n",
       "[10] \"Zip Code\"         "
      ]
     },
     "metadata": {},
     "output_type": "display_data"
    },
    {
     "data": {
      "text/plain": [
       "[1] \"2015-09-25 11:07:30 UTC\" \"2015-09-29 14:35:09 UTC\"\n",
       "[3] \"2015-09-30 13:06:52 UTC\" \"2015-09-30 13:07:02 UTC\"\n",
       "[5] \"2015-10-01 11:10:35 UTC\" \"2015-10-01 11:10:36 UTC\""
      ]
     },
     "metadata": {},
     "output_type": "display_data"
    }
   ],
   "source": [
    "typeof(flint)\n",
    "names(flint)\n",
    "head(flint[[2]])"
   ]
  },
  {
   "cell_type": "markdown",
   "metadata": {},
   "source": [
    "The `tidyverse` package uses another structure known as the `tibble`, which is a modern reimagining of the `data.frame` (see [here](https://tibble.tidyverse.org/)). This note will not touch on the differences between `tibble` and `data.frame`. It suffices to remember to use `tibble` when using `tidyverse`.\n",
    "\n"
   ]
  },
  {
   "cell_type": "markdown",
   "metadata": {},
   "source": [
    "## B.3 Function\n",
    "\n",
    "Often when programming, we find ourselves repeating the same block of code with minor modifications. It seems to be a good idea to wrap-up these blocks for repeated uses. Most programming languages allow us to create _functions_ for exactly this purpose.  \n",
    "\n",
    "Above we saw that typing `c(1,2,3,4,5)` creates a vector of 1 to 5. `c()` is an example of a *function*. The general form of a function in `R` (and most other programming languages) is:\n",
    "\n",
    "    <function name>(<function arguments>)\n",
    "    \n",
    "In the above example, the function is named `c`, and the arguments were `1, 2, 3, 4, 5`. Another example of a function is `print`, which prints its arguments to the screen:"
   ]
  },
  {
   "cell_type": "code",
   "execution_count": 7,
   "metadata": {
    "scrolled": true
   },
   "outputs": [
    {
     "name": "stdout",
     "output_type": "stream",
     "text": [
      "[1] \"I am a function named print\"\n"
     ]
    }
   ],
   "source": [
    "print(\"I am a function named print\")\n",
    "?print"
   ]
  },
  {
   "cell_type": "markdown",
   "metadata": {},
   "source": [
    "We can create a simple function that requires no argument. \n"
   ]
  },
  {
   "cell_type": "code",
   "execution_count": 40,
   "metadata": {},
   "outputs": [
    {
     "data": {
      "text/html": [
       "<pre class=language-r><code>function () \n",
       "{\n",
       "<span style=white-space:pre-wrap>    return(\"Nice to meet you!\")</span>\n",
       "}</code></pre>"
      ],
      "text/latex": [
       "\\begin{minted}{r}\n",
       "function () \n",
       "\\{\n",
       "    return(\"Nice to meet you!\")\n",
       "\\}\n",
       "\\end{minted}"
      ],
      "text/markdown": [
       "```r\n",
       "function () \n",
       "{\n",
       "    return(\"Nice to meet you!\")\n",
       "}\n",
       "```"
      ],
      "text/plain": [
       "function( ) {\n",
       "    return(\"Nice to meet you!\")\n",
       "}"
      ]
     },
     "metadata": {},
     "output_type": "display_data"
    },
    {
     "data": {
      "text/html": [
       "'Nice to meet you!'"
      ],
      "text/latex": [
       "'Nice to meet you!'"
      ],
      "text/markdown": [
       "'Nice to meet you!'"
      ],
      "text/plain": [
       "[1] \"Nice to meet you!\""
      ]
     },
     "metadata": {},
     "output_type": "display_data"
    }
   ],
   "source": [
    "greet <- function( ) {\n",
    "    return(\"Nice to meet you!\")\n",
    "}\n",
    "greet\n",
    "greet()"
   ]
  },
  {
   "cell_type": "markdown",
   "metadata": {},
   "source": [
    "`greet` is the **name** of our function and  the code between the curly brackets `{` and `}` is the **body** of the function.\n",
    "\n",
    "We can modify `greet()` to take an argument. In what follows, `x` is the **argument** to the function."
   ]
  },
  {
   "cell_type": "code",
   "execution_count": 20,
   "metadata": {},
   "outputs": [
    {
     "data": {
      "text/html": [
       "'Nice to meet you!'"
      ],
      "text/latex": [
       "'Nice to meet you!'"
      ],
      "text/markdown": [
       "'Nice to meet you!'"
      ],
      "text/plain": [
       "[1] \"Nice to meet you!\""
      ]
     },
     "metadata": {},
     "output_type": "display_data"
    }
   ],
   "source": [
    "greet <- function(x) {\n",
    "    paste(\"Nice to meet you, \", x, \"!\",sep='')\n",
    "}"
   ]
  },
  {
   "cell_type": "markdown",
   "metadata": {},
   "source": [
    "We can supply the **default** value of argument as the code below shows."
   ]
  },
  {
   "cell_type": "code",
   "execution_count": 43,
   "metadata": {},
   "outputs": [],
   "source": [
    "greet <- function(x = \"friend\") {\n",
    "    paste(\"Nice to meet you, \", x, \"!\",sep='')\n",
    "}"
   ]
  },
  {
   "cell_type": "code",
   "execution_count": 44,
   "metadata": {},
   "outputs": [
    {
     "data": {
      "text/html": [
       "'Nice to meet you, stranger!'"
      ],
      "text/latex": [
       "'Nice to meet you, stranger!'"
      ],
      "text/markdown": [
       "'Nice to meet you, stranger!'"
      ],
      "text/plain": [
       "[1] \"Nice to meet you, stranger!\""
      ]
     },
     "metadata": {},
     "output_type": "display_data"
    },
    {
     "data": {
      "text/html": [
       "'Nice to meet you, friend!'"
      ],
      "text/latex": [
       "'Nice to meet you, friend!'"
      ],
      "text/markdown": [
       "'Nice to meet you, friend!'"
      ],
      "text/plain": [
       "[1] \"Nice to meet you, friend!\""
      ]
     },
     "metadata": {},
     "output_type": "display_data"
    }
   ],
   "source": [
    "# If we suply the argument, the function works as before.\n",
    "greet('stranger')\n",
    "# If we don't, it uses the default argument.\n",
    "greet()"
   ]
  },
  {
   "cell_type": "markdown",
   "metadata": {},
   "source": [
    "Let's see what happens when we pass along the empty string \"\" as an argument to `greet`."
   ]
  },
  {
   "cell_type": "code",
   "execution_count": 45,
   "metadata": {},
   "outputs": [
    {
     "data": {
      "text/html": [
       "'Nice to meet you, !'"
      ],
      "text/latex": [
       "'Nice to meet you, !'"
      ],
      "text/markdown": [
       "'Nice to meet you, !'"
      ],
      "text/plain": [
       "[1] \"Nice to meet you, !\""
      ]
     },
     "metadata": {},
     "output_type": "display_data"
    }
   ],
   "source": [
    "greet(\"\")"
   ]
  },
  {
   "cell_type": "markdown",
   "metadata": {},
   "source": [
    "Perhaps, we don't like the space between \"you\" and \"!\" in this case. We can add a check to see if the argument is an empty string."
   ]
  },
  {
   "cell_type": "code",
   "execution_count": 48,
   "metadata": {},
   "outputs": [],
   "source": [
    "greet <- function(x = \"friend\") {\n",
    "    if (nchar(x) == 0) {\n",
    "        \"Nice to meet you!\"\n",
    "    } else {\n",
    "        paste(\"Nice to meet you, \", x, \"!\")\n",
    "    }\n",
    "}"
   ]
  },
  {
   "cell_type": "code",
   "execution_count": 49,
   "metadata": {},
   "outputs": [
    {
     "data": {
      "text/html": [
       "'Nice to meet you!'"
      ],
      "text/latex": [
       "'Nice to meet you!'"
      ],
      "text/markdown": [
       "'Nice to meet you!'"
      ],
      "text/plain": [
       "[1] \"Nice to meet you!\""
      ]
     },
     "metadata": {},
     "output_type": "display_data"
    }
   ],
   "source": [
    "greet(\"\")"
   ]
  },
  {
   "cell_type": "markdown",
   "metadata": {},
   "source": [
    "We just saw an instance of **conditional execution** of code using the `if` statement."
   ]
  },
  {
   "cell_type": "markdown",
   "metadata": {},
   "source": [
    "Now let's write some functions that are more statistical. Suppose that we watn to standardize a vector `x`."
   ]
  },
  {
   "cell_type": "code",
   "execution_count": 50,
   "metadata": {},
   "outputs": [
    {
     "name": "stdout",
     "output_type": "stream",
     "text": [
      "[1]   1   5 -11  20\n"
     ]
    }
   ],
   "source": [
    "x <- c(1,5,-11,20)\n",
    "print(x)"
   ]
  },
  {
   "cell_type": "code",
   "execution_count": 5,
   "metadata": {},
   "outputs": [
    {
     "name": "stdout",
     "output_type": "stream",
     "text": [
      "[1]  -2.75   1.25 -14.75  16.25\n"
     ]
    },
    {
     "data": {
      "text/html": [
       "163.583333333333"
      ],
      "text/latex": [
       "163.583333333333"
      ],
      "text/markdown": [
       "163.583333333333"
      ],
      "text/plain": [
       "[1] 163.5833"
      ]
     },
     "metadata": {},
     "output_type": "display_data"
    }
   ],
   "source": [
    "x_centered <- x-mean(x)\n",
    "print(x_centered)\n",
    "var(x_centered)"
   ]
  },
  {
   "cell_type": "code",
   "execution_count": 6,
   "metadata": {},
   "outputs": [
    {
     "name": "stdout",
     "output_type": "stream",
     "text": [
      "[1] -0.21501223  0.09773283 -1.15324742  1.27052682\n"
     ]
    },
    {
     "data": {
      "text/html": [
       "1"
      ],
      "text/latex": [
       "1"
      ],
      "text/markdown": [
       "1"
      ],
      "text/plain": [
       "[1] 1"
      ]
     },
     "metadata": {},
     "output_type": "display_data"
    }
   ],
   "source": [
    "x_std <- x_centered / sd(x_centered) # divide by std dev to have variance 1\n",
    "print(x_std)\n",
    "var(x_std)"
   ]
  },
  {
   "cell_type": "markdown",
   "metadata": {},
   "source": [
    "Now let say we have to perform this task again for another vector.  We can simply repeat the above calculations.  "
   ]
  },
  {
   "cell_type": "code",
   "execution_count": 11,
   "metadata": {},
   "outputs": [
    {
     "name": "stdout",
     "output_type": "stream",
     "text": [
      "[1] -0.93379798 -0.41978074 -0.04283477  1.39641349\n"
     ]
    },
    {
     "data": {
      "text/html": [
       "1"
      ],
      "text/latex": [
       "1"
      ],
      "text/markdown": [
       "1"
      ],
      "text/plain": [
       "[1] 1"
      ]
     },
     "metadata": {},
     "output_type": "display_data"
    }
   ],
   "source": [
    "y <- c(-12, 3, 14, 56)\n",
    "y_centered <- y - mean(y)\n",
    "y_std <- y_centered / sd(y_centered)\n",
    "print(y_std)\n",
    "var(y_std) "
   ]
  },
  {
   "cell_type": "markdown",
   "metadata": {},
   "source": [
    "Or, we could write a function in `R` to help us achieve what we want with one call of this function!"
   ]
  },
  {
   "cell_type": "code",
   "execution_count": 51,
   "metadata": {},
   "outputs": [],
   "source": [
    "standardize <- function(x) { # name of the function and arguments\n",
    "    x_centered <- x - mean(x)    # body of the function\n",
    "    x_centered / sd(x_centered)  # body of the function\n",
    "}"
   ]
  },
  {
   "cell_type": "code",
   "execution_count": 52,
   "metadata": {},
   "outputs": [
    {
     "name": "stdout",
     "output_type": "stream",
     "text": [
      "[1] -0.21501223  0.09773283 -1.15324742  1.27052682\n"
     ]
    },
    {
     "data": {
      "text/html": [
       "1"
      ],
      "text/latex": [
       "1"
      ],
      "text/markdown": [
       "1"
      ],
      "text/plain": [
       "[1] 1"
      ]
     },
     "metadata": {},
     "output_type": "display_data"
    }
   ],
   "source": [
    "xstd <- standardize(x)\n",
    "print(xstd)\n",
    "var(xstd)"
   ]
  },
  {
   "cell_type": "code",
   "execution_count": 53,
   "metadata": {},
   "outputs": [
    {
     "name": "stdout",
     "output_type": "stream",
     "text": [
      " [1] -0.4571290 -0.4222095 -0.3872899 -0.3523703 -0.3174507 -0.2825311\n",
      " [7] -0.2476116 -0.2126920 -0.1777724 -0.1428528  2.9999093\n"
     ]
    },
    {
     "data": {
      "text/html": [
       "1"
      ],
      "text/latex": [
       "1"
      ],
      "text/markdown": [
       "1"
      ],
      "text/plain": [
       "[1] 1"
      ]
     },
     "metadata": {},
     "output_type": "display_data"
    }
   ],
   "source": [
    "ystd <- standardize(y)\n",
    "print(ystd)\n",
    "var(ystd)"
   ]
  },
  {
   "cell_type": "markdown",
   "metadata": {},
   "source": [
    "Now we have a `standardize()` function that standardizes any vectors easily. But what if we need to standardize hundreds of vectors in a data frame? Soon we will learn about iteration and ways to cut down further on repetition."
   ]
  },
  {
   "cell_type": "markdown",
   "metadata": {},
   "source": [
    "Often when writing functions we need to do different things depending on what data is passed in. This is known as *conditional execution*, and is accomplished using the `if/else` construct:\n",
    "```{r}\n",
    "if (condition) {\n",
    "  # code executed when condition is TRUE\n",
    "} else {\n",
    "  # code executed when condition is FALSE\n",
    "}\n",
    "```"
   ]
  },
  {
   "cell_type": "markdown",
   "metadata": {},
   "source": [
    "`if/else` and `ifelse()` are very different. `ifelse()` is a *function* that takes three vector arguments and returns a new vector. `if/else` tells R to conditionally execute code. \n",
    "\n",
    "The `condition` part of the `if` statement must evaluate to either a single `TRUE` or `FALSE`. If it does not, you will get a warning:"
   ]
  },
  {
   "cell_type": "code",
   "execution_count": 77,
   "metadata": {},
   "outputs": [
    {
     "name": "stderr",
     "output_type": "stream",
     "text": [
      "Warning message in if (c(T, F)) {:\n",
      "\"the condition has length > 1 and only the first element will be used\"\n"
     ]
    },
    {
     "data": {
      "text/html": [
       "1"
      ],
      "text/latex": [
       "1"
      ],
      "text/markdown": [
       "1"
      ],
      "text/plain": [
       "[1] 1"
      ]
     },
     "metadata": {},
     "output_type": "display_data"
    },
    {
     "data": {
      "text/html": [
       "<style>\n",
       ".list-inline {list-style: none; margin:0; padding: 0}\n",
       ".list-inline>li {display: inline-block}\n",
       ".list-inline>li:not(:last-child)::after {content: \"\\00b7\"; padding: 0 .5ex}\n",
       "</style>\n",
       "<ol class=list-inline><li>'B'</li><li>'B'</li><li>'B'</li><li>'B'</li><li>'B'</li><li>'A'</li><li>'A'</li><li>'A'</li><li>'A'</li><li>'A'</li></ol>\n"
      ],
      "text/latex": [
       "\\begin{enumerate*}\n",
       "\\item 'B'\n",
       "\\item 'B'\n",
       "\\item 'B'\n",
       "\\item 'B'\n",
       "\\item 'B'\n",
       "\\item 'A'\n",
       "\\item 'A'\n",
       "\\item 'A'\n",
       "\\item 'A'\n",
       "\\item 'A'\n",
       "\\end{enumerate*}\n"
      ],
      "text/markdown": [
       "1. 'B'\n",
       "2. 'B'\n",
       "3. 'B'\n",
       "4. 'B'\n",
       "5. 'B'\n",
       "6. 'A'\n",
       "7. 'A'\n",
       "8. 'A'\n",
       "9. 'A'\n",
       "10. 'A'\n",
       "\n",
       "\n"
      ],
      "text/plain": [
       " [1] \"B\" \"B\" \"B\" \"B\" \"B\" \"A\" \"A\" \"A\" \"A\" \"A\""
      ]
     },
     "metadata": {},
     "output_type": "display_data"
    }
   ],
   "source": [
    "if (c(T, F)) { 1 } else { }\n",
    "\n",
    "ifelse(\n",
    "    1:10 > 5,\n",
    "    \"A\",\n",
    "    \"B\"\n",
    ")"
   ]
  },
  {
   "cell_type": "markdown",
   "metadata": {},
   "source": [
    "Note that a condition of `NA` will generate an error. This is one of the most common issues when writing conditions in `R`. "
   ]
  },
  {
   "cell_type": "code",
   "execution_count": 56,
   "metadata": {},
   "outputs": [
    {
     "ename": "ERROR",
     "evalue": "Error in if (NA) {: missing value where TRUE/FALSE needed\n",
     "output_type": "error",
     "traceback": [
      "Error in if (NA) {: missing value where TRUE/FALSE needed\nTraceback:\n"
     ]
    }
   ],
   "source": [
    "if (NA) { 1 }"
   ]
  },
  {
   "cell_type": "markdown",
   "metadata": {},
   "source": [
    "By default, the last expression evaluated inside a function block is the value returned. However, we can use an explicit **return statement** to return early.\n"
   ]
  },
  {
   "cell_type": "code",
   "execution_count": 62,
   "metadata": {},
   "outputs": [],
   "source": [
    "standardize2 <- function(x) {\n",
    "    x_centered <- x - mean(x)\n",
    "    stdev <- sd(x_centered)\n",
    "    if (stdev == 0) {\n",
    "        return(x)\n",
    "    }\n",
    "    x_centered / sd(x_centered)  \n",
    "}"
   ]
  },
  {
   "cell_type": "code",
   "execution_count": 63,
   "metadata": {},
   "outputs": [
    {
     "data": {
      "text/html": [
       "<style>\n",
       ".list-inline {list-style: none; margin:0; padding: 0}\n",
       ".list-inline>li {display: inline-block}\n",
       ".list-inline>li:not(:last-child)::after {content: \"\\00b7\"; padding: 0 .5ex}\n",
       "</style>\n",
       "<ol class=list-inline><li>-1.09544511501033</li><li>-0.547722557505166</li><li>0.547722557505166</li><li>1.09544511501033</li></ol>\n"
      ],
      "text/latex": [
       "\\begin{enumerate*}\n",
       "\\item -1.09544511501033\n",
       "\\item -0.547722557505166\n",
       "\\item 0.547722557505166\n",
       "\\item 1.09544511501033\n",
       "\\end{enumerate*}\n"
      ],
      "text/markdown": [
       "1. -1.09544511501033\n",
       "2. -0.547722557505166\n",
       "3. 0.547722557505166\n",
       "4. 1.09544511501033\n",
       "\n",
       "\n"
      ],
      "text/plain": [
       "[1] -1.0954451 -0.5477226  0.5477226  1.0954451"
      ]
     },
     "metadata": {},
     "output_type": "display_data"
    }
   ],
   "source": [
    "standardize2(c(-2, -1, 1, 2))"
   ]
  },
  {
   "cell_type": "code",
   "execution_count": 64,
   "metadata": {},
   "outputs": [
    {
     "data": {
      "text/html": [
       "<style>\n",
       ".list-inline {list-style: none; margin:0; padding: 0}\n",
       ".list-inline>li {display: inline-block}\n",
       ".list-inline>li:not(:last-child)::after {content: \"\\00b7\"; padding: 0 .5ex}\n",
       "</style>\n",
       "<ol class=list-inline><li>1</li><li>1</li><li>1</li><li>1</li></ol>\n"
      ],
      "text/latex": [
       "\\begin{enumerate*}\n",
       "\\item 1\n",
       "\\item 1\n",
       "\\item 1\n",
       "\\item 1\n",
       "\\end{enumerate*}\n"
      ],
      "text/markdown": [
       "1. 1\n",
       "2. 1\n",
       "3. 1\n",
       "4. 1\n",
       "\n",
       "\n"
      ],
      "text/plain": [
       "[1] 1 1 1 1"
      ]
     },
     "metadata": {},
     "output_type": "display_data"
    }
   ],
   "source": [
    "standardize2(c(1,1,1,1))"
   ]
  },
  {
   "cell_type": "code",
   "execution_count": 65,
   "metadata": {},
   "outputs": [
    {
     "data": {
      "text/html": [
       "<style>\n",
       ".list-inline {list-style: none; margin:0; padding: 0}\n",
       ".list-inline>li {display: inline-block}\n",
       ".list-inline>li:not(:last-child)::after {content: \"\\00b7\"; padding: 0 .5ex}\n",
       "</style>\n",
       "<ol class=list-inline><li>NaN</li><li>NaN</li><li>NaN</li><li>NaN</li></ol>\n"
      ],
      "text/latex": [
       "\\begin{enumerate*}\n",
       "\\item NaN\n",
       "\\item NaN\n",
       "\\item NaN\n",
       "\\item NaN\n",
       "\\end{enumerate*}\n"
      ],
      "text/markdown": [
       "1. NaN\n",
       "2. NaN\n",
       "3. NaN\n",
       "4. NaN\n",
       "\n",
       "\n"
      ],
      "text/plain": [
       "[1] NaN NaN NaN NaN"
      ]
     },
     "metadata": {},
     "output_type": "display_data"
    }
   ],
   "source": [
    "standardize(c(1,1,1,1))"
   ]
  },
  {
   "cell_type": "markdown",
   "metadata": {},
   "source": [
    "## B.4 Iteration"
   ]
  },
  {
   "cell_type": "markdown",
   "metadata": {},
   "source": [
    "**Iteration** is an important concept in programming. Iteration means, roughly, running the same piece of code repeatedly. Let us consider the famous *Fibonacci sequence*, whose $n$th term is defined as for $n\\geq 2$,\n",
    "$$ F(n+1) = F(n) + F(n-1), $$\n",
    "where $F(1) = 0$ and $F(2) = 1$.\n",
    "\n",
    "  There are many ways to perform iteration in `R`. The one you have probably heard of is the **for-loop**:\n",
    "```\n",
    "for (<index> in <vector>) {\n",
    "    [do something for each value of <index>]\n",
    "}\n",
    "```\n",
    "The code below computes the first 10 Fibonacci numbers using a **for-loop**."
   ]
  },
  {
   "cell_type": "code",
   "execution_count": 66,
   "metadata": {},
   "outputs": [
    {
     "name": "stdout",
     "output_type": "stream",
     "text": [
      "[1] 0\n",
      "[1] 1\n",
      "[1] 1\n",
      "[1] 2\n",
      "[1] 3\n",
      "[1] 5\n",
      "[1] 8\n",
      "[1] 13\n",
      "[1] 21\n",
      "[1] 34\n"
     ]
    }
   ],
   "source": [
    "previous = 0\n",
    "current = 1\n",
    "for (i in 1:10) {\n",
    "    print(previous)\n",
    "    new = current + previous\n",
    "    previous = current\n",
    "    current = new\n",
    "}"
   ]
  },
  {
   "cell_type": "markdown",
   "metadata": {},
   "source": [
    "The **for-loop** should have three components:\n",
    "1. The *output*, in this case the printed numbers. \n",
    "2. The *sequence* of values along which we will iterate. Here we use 1 to 10. \n",
    "3. The *body*, which is the piece of code that gets executed in each iteration of the loop. In the example above, the body first runs `print(previous)`, then `new = current + previous`, etc."
   ]
  },
  {
   "cell_type": "markdown",
   "metadata": {},
   "source": [
    "Many operations in statistics are applied on all observations. However, we don't use for-loops that often in `R`, since better alternatives are available due to _vectorization_. For example, the following approaches produce identical outputs.\n",
    "The latter is more concise using vectorization, and can be faster in some cases. "
   ]
  },
  {
   "cell_type": "code",
   "execution_count": 67,
   "metadata": {},
   "outputs": [],
   "source": [
    "# sum the numbers 1 to 100\n",
    "output <- 0\n",
    "v <- 1:100\n",
    "for (i in v) {\n",
    "    output <- output + i\n",
    "}\n",
    "\n",
    "output = sum(1:100)"
   ]
  },
  {
   "cell_type": "markdown",
   "metadata": {},
   "source": [
    "Sometimes we can not specific _a priori_ the sequence to iterate over. We can use a while-loop for iteration. \n",
    "```\n",
    "while (<condition>) {\n",
    "    <body>\n",
    "}\n",
    "```\n",
    "The `while` loop will continue running until `<condition>` returns `FALSE`."
   ]
  },
  {
   "cell_type": "markdown",
   "metadata": {},
   "source": [
    "Here's an example of how we would use a `while` loop. The following command counts the number of heads and tails encountered in tosses of a fair coin until the third head is encountered."
   ]
  },
  {
   "cell_type": "code",
   "execution_count": 75,
   "metadata": {},
   "outputs": [
    {
     "name": "stdout",
     "output_type": "stream",
     "text": [
      "[1] 3\n",
      "[1] 1\n"
     ]
    }
   ],
   "source": [
    "heads <- 0; tails<-0;\n",
    "while(heads<=2){\n",
    "    toss<- sample(c(0,1),1);\n",
    "    heads <- heads + toss;\n",
    "    tails <- tails + (1-toss);\n",
    "}\n",
    "print(heads)\n",
    "print(tails)"
   ]
  },
  {
   "cell_type": "markdown",
   "metadata": {},
   "source": [
    "As another example, say we want to print all Fibonacci numbers less than 1000. We do not know how many terms that sequence will have. We can resort to the while-loop."
   ]
  },
  {
   "cell_type": "code",
   "execution_count": 76,
   "metadata": {
    "scrolled": true
   },
   "outputs": [
    {
     "name": "stdout",
     "output_type": "stream",
     "text": [
      "[1] 0\n",
      "[1] 1\n",
      "[1] 1\n",
      "[1] 2\n",
      "[1] 3\n",
      "[1] 5\n",
      "[1] 8\n",
      "[1] 13\n",
      "[1] 21\n",
      "[1] 34\n",
      "[1] 55\n",
      "[1] 89\n",
      "[1] 144\n",
      "[1] 233\n",
      "[1] 377\n",
      "[1] 610\n",
      "[1] 987\n"
     ]
    }
   ],
   "source": [
    "previous = 0\n",
    "current = 1\n",
    "while (previous < 1000) {\n",
    "    print(previous)\n",
    "    new = current + previous\n",
    "    previous = current\n",
    "    current = new\n",
    "}"
   ]
  }
 ],
 "metadata": {
  "kernelspec": {
   "display_name": "R",
   "language": "R",
   "name": "ir"
  },
  "language_info": {
   "codemirror_mode": "r",
   "file_extension": ".r",
   "mimetype": "text/x-r-source",
   "name": "R",
   "pygments_lexer": "r",
   "version": "4.1.0"
  },
  "latex_envs": {
   "LaTeX_envs_menu_present": true,
   "autoclose": false,
   "autocomplete": true,
   "bibliofile": "biblio.bib",
   "cite_by": "apalike",
   "current_citInitial": 1,
   "eqLabelWithNumbers": true,
   "eqNumInitial": 1,
   "hotkeys": {
    "equation": "Ctrl-E",
    "itemize": "Ctrl-I"
   },
   "labels_anchors": false,
   "latex_user_defs": false,
   "report_style_numbering": false,
   "user_envs_cfg": false
  }
 },
 "nbformat": 4,
 "nbformat_minor": 2
}
