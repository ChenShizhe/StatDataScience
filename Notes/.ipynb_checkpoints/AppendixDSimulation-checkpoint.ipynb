{
 "cells": [
  {
   "cell_type": "markdown",
   "metadata": {},
   "source": [
    "# Appendix D Simulation \n"
   ]
  },
  {
   "cell_type": "markdown",
   "metadata": {},
   "source": [
    "Simulation is one crucial tool for modern statisticians that is often underutilized for beginners. With personal computing devices, we can easily simulate data to explore possible scenarios and verify our hypotheses. When learning statistics, it is wise to write simulations to understand new statistical procedures or concepts. \n",
    "\n",
    "As a programming language created for statistics analysis, `R` makes simulation easy and straight-forward. We will visit basics of simulations in this chapter. "
   ]
  },
  {
   "cell_type": "markdown",
   "metadata": {},
   "source": [
    "## D.1 Random number generation \n",
    "\n",
    "The building block of simulation is *random number generation*. Wikipedia describes that \"RNG is a process which, through a device, generates a sequence of numbers or symbols that cannot be reasonably predicted better than by a random chance\" ([link](https://en.wikipedia.org/wiki/Random_number_generation)). \n",
    "\n",
    "In practice, however, \"true\" randomness is infeasible and unnecessary for most tasks. Instead, most programming languages employ *pseudorandom number generation*. Briefly, a pseudorandom number generator draw  numbers following *deterministic* algorithms that approximate a truly random sequence. For instance, we can draw pseudorandom integers from 0 to 9 by reporting the digits of $\\pi$ --- an irrational number whose decimal expansion never repeats or terminates. More about pseudorandom number generator can be found, e.g., [here](https://en.wikipedia.org/wiki/Pseudorandom_number_generator). \n",
    "\n",
    "In `R`, we almost always mean pseudorandom number generation when we say to draw a random variable. Since pseudorandom number generation use deterministic algorithms, we should expect an identical sequence if we assign identical initial conditions for the pseudorandom number generator (*randomseed*). Indeed, the identity provides the base for reproducibility of simulations.  \n"
   ]
  },
  {
   "cell_type": "code",
   "execution_count": 1,
   "metadata": {},
   "outputs": [
    {
     "data": {
      "image/png": "[encoded data removed]",
      "text/plain": [
       "Plot with title \" \""
      ]
     },
     "metadata": {
      "image/png": {
       "height": 420,
       "width": 420
      }
     },
     "output_type": "display_data"
    }
   ],
   "source": [
    "# Pseudorandom number generator based on pi:\n",
    "# From http://www.geom.uiuc.edu/~huberty/math5337/groupe/digits.html\n",
    "# Take the digits after the decimal point\n",
    "pi_more = c(\"141592653589793238462643383279502884197169399375105820974944592307816406286208998628034825342117067982148086513282306647093844609550582231725359408128481\")\n",
    "hist(as.numeric(unlist(strsplit(pi_more,\"\"))),xlab=\"Value\",main=\" \")"
   ]
  },
  {
   "cell_type": "markdown",
   "metadata": {},
   "source": [
    "We can write a function to draw a sequence of random integers (0 to 9) using the digits of $\\pi$. This function takes two arguments, `n` for the number of variables and `seed` to determine which digit to start with. "
   ]
  },
  {
   "cell_type": "code",
   "execution_count": 19,
   "metadata": {},
   "outputs": [],
   "source": [
    "rpi<- function(n,seed=NULL){\n",
    "    pi_more = c(\"141592653589793238462643383279502884197169399375105820974944592307816406286208998628034825342117067982148086513282306647093844609550582231725359408128481\")\n",
    "    pi_digits=as.numeric(unlist(strsplit(pi_more,\"\")));\n",
    "    if (is.null(seed)){\n",
    "     seed=   (100*(proc.time()[3]))%%100;\n",
    "    }\n",
    "    return(pi_digits[seed+(1:n)])\n",
    "}\n"
   ]
  },
  {
   "cell_type": "code",
   "execution_count": 26,
   "metadata": {
    "scrolled": false
   },
   "outputs": [
    {
     "data": {
      "text/html": [
       "<style>\n",
       ".list-inline {list-style: none; margin:0; padding: 0}\n",
       ".list-inline>li {display: inline-block}\n",
       ".list-inline>li:not(:last-child)::after {content: \"\\00b7\"; padding: 0 .5ex}\n",
       "</style>\n",
       "<ol class=list-inline><li>5</li><li>3</li></ol>\n"
      ],
      "text/latex": [
       "\\begin{enumerate*}\n",
       "\\item 5\n",
       "\\item 3\n",
       "\\end{enumerate*}\n"
      ],
      "text/markdown": [
       "1. 5\n",
       "2. 3\n",
       "\n",
       "\n"
      ],
      "text/plain": [
       "[1] 5 3"
      ]
     },
     "metadata": {},
     "output_type": "display_data"
    },
    {
     "data": {
      "text/html": [
       "<style>\n",
       ".list-inline {list-style: none; margin:0; padding: 0}\n",
       ".list-inline>li {display: inline-block}\n",
       ".list-inline>li:not(:last-child)::after {content: \"\\00b7\"; padding: 0 .5ex}\n",
       "</style>\n",
       "<ol class=list-inline><li>5</li><li>9</li></ol>\n"
      ],
      "text/latex": [
       "\\begin{enumerate*}\n",
       "\\item 5\n",
       "\\item 9\n",
       "\\end{enumerate*}\n"
      ],
      "text/markdown": [
       "1. 5\n",
       "2. 9\n",
       "\n",
       "\n"
      ],
      "text/plain": [
       "[1] 5 9"
      ]
     },
     "metadata": {},
     "output_type": "display_data"
    },
    {
     "data": {
      "text/html": [
       "<style>\n",
       ".list-inline {list-style: none; margin:0; padding: 0}\n",
       ".list-inline>li {display: inline-block}\n",
       ".list-inline>li:not(:last-child)::after {content: \"\\00b7\"; padding: 0 .5ex}\n",
       "</style>\n",
       "<ol class=list-inline><li>6</li><li>5</li></ol>\n"
      ],
      "text/latex": [
       "\\begin{enumerate*}\n",
       "\\item 6\n",
       "\\item 5\n",
       "\\end{enumerate*}\n"
      ],
      "text/markdown": [
       "1. 6\n",
       "2. 5\n",
       "\n",
       "\n"
      ],
      "text/plain": [
       "[1] 6 5"
      ]
     },
     "metadata": {},
     "output_type": "display_data"
    }
   ],
   "source": [
    "rpi(2)\n",
    "rpi(2,seed=3)\n",
    "rpi(2,seed=6)"
   ]
  },
  {
   "cell_type": "markdown",
   "metadata": {},
   "source": [
    "## D.2 Simulating random variables in `R`"
   ]
  },
  {
   "cell_type": "markdown",
   "metadata": {},
   "source": [
    "The `rpi` function is limited by manually-entered $\\pi$ of 153 digits. Fortunately, `R` has a set of (pseudo)random number generators that are free of this limitation. "
   ]
  },
  {
   "cell_type": "markdown",
   "metadata": {},
   "source": [
    "### D.2.1 Uniform distribution \n",
    "\n",
    "The `runif` function in `R` draw, by default, uniform random variables in $[0,1]$. We can draw from uniform distributions in other intervals by changing its arguments. Furthermore, we can generate a wide range of random variables based on the uniform distribution using the [probability integral transform](https://en.wikipedia.org/wiki/Probability_integral_transform)."
   ]
  },
  {
   "cell_type": "code",
   "execution_count": 30,
   "metadata": {
    "scrolled": true
   },
   "outputs": [
    {
     "data": {
      "text/html": [
       "<style>\n",
       ".list-inline {list-style: none; margin:0; padding: 0}\n",
       ".list-inline>li {display: inline-block}\n",
       ".list-inline>li:not(:last-child)::after {content: \"\\00b7\"; padding: 0 .5ex}\n",
       "</style>\n",
       "<ol class=list-inline><li>0.356726912083104</li><li>0.431473690550774</li><li>0.148211560677737</li><li>0.0130775754805654</li><li>0.715566066093743</li><li>0.103184235747904</li><li>0.446284348610789</li><li>0.640101045137271</li><li>0.991838620044291</li><li>0.495593577856198</li></ol>\n"
      ],
      "text/latex": [
       "\\begin{enumerate*}\n",
       "\\item 0.356726912083104\n",
       "\\item 0.431473690550774\n",
       "\\item 0.148211560677737\n",
       "\\item 0.0130775754805654\n",
       "\\item 0.715566066093743\n",
       "\\item 0.103184235747904\n",
       "\\item 0.446284348610789\n",
       "\\item 0.640101045137271\n",
       "\\item 0.991838620044291\n",
       "\\item 0.495593577856198\n",
       "\\end{enumerate*}\n"
      ],
      "text/markdown": [
       "1. 0.356726912083104\n",
       "2. 0.431473690550774\n",
       "3. 0.148211560677737\n",
       "4. 0.0130775754805654\n",
       "5. 0.715566066093743\n",
       "6. 0.103184235747904\n",
       "7. 0.446284348610789\n",
       "8. 0.640101045137271\n",
       "9. 0.991838620044291\n",
       "10. 0.495593577856198\n",
       "\n",
       "\n"
      ],
      "text/plain": [
       " [1] 0.35672691 0.43147369 0.14821156 0.01307758 0.71556607 0.10318424\n",
       " [7] 0.44628435 0.64010105 0.99183862 0.49559358"
      ]
     },
     "metadata": {},
     "output_type": "display_data"
    },
    {
     "data": {
      "image/png": "[encoded data removed]",
      "text/plain": [
       "Plot with title \"Uniform\""
      ]
     },
     "metadata": {
      "image/png": {
       "height": 420,
       "width": 420
      }
     },
     "output_type": "display_data"
    }
   ],
   "source": [
    "### Draw ten uniform random variables:\n",
    "runif(10)\n",
    "# use ?runif to see what other options are available \n",
    "\n",
    "# To help understand this function, we can draw the density plot for this distribution\n",
    "x.grid=seq(from=0,to=1,length.out=100)\n",
    "unif.pdf=dunif(x.grid,min=0,max=1);\n",
    "\n",
    "# Compare this with a histogram from a set of random variables from runif:\n",
    "unif.rv.100=runif(100);\n",
    "hist(unif.rv.100,freq=FALSE,main='Uniform',xlab='X')\n",
    "lines(y=unif.pdf,x=x.grid,col='blue',lwd=3)\n",
    "# Further compare it with a smooth density estimation based on the samples:\n",
    "unif.pdf.est=density(unif.rv.100);\n",
    "lines(unif.pdf.est,col='red',lwd=3)"
   ]
  },
  {
   "cell_type": "markdown",
   "metadata": {},
   "source": [
    "### D.2.2 Other distributions"
   ]
  },
  {
   "cell_type": "code",
   "execution_count": 33,
   "metadata": {},
   "outputs": [
    {
     "data": {
      "text/html": [
       "<style>\n",
       ".list-inline {list-style: none; margin:0; padding: 0}\n",
       ".list-inline>li {display: inline-block}\n",
       ".list-inline>li:not(:last-child)::after {content: \"\\00b7\"; padding: 0 .5ex}\n",
       "</style>\n",
       "<ol class=list-inline><li>-0.652864238673983</li><li>2.02555296689172</li><li>-0.920223607838236</li><li>-0.293280660176917</li><li>-0.555514301224547</li><li>-0.452538254563969</li><li>-0.3947258185082</li><li>0.698887840445489</li><li>-0.250783173047839</li><li>-0.715531904905854</li></ol>\n"
      ],
      "text/latex": [
       "\\begin{enumerate*}\n",
       "\\item -0.652864238673983\n",
       "\\item 2.02555296689172\n",
       "\\item -0.920223607838236\n",
       "\\item -0.293280660176917\n",
       "\\item -0.555514301224547\n",
       "\\item -0.452538254563969\n",
       "\\item -0.3947258185082\n",
       "\\item 0.698887840445489\n",
       "\\item -0.250783173047839\n",
       "\\item -0.715531904905854\n",
       "\\end{enumerate*}\n"
      ],
      "text/markdown": [
       "1. -0.652864238673983\n",
       "2. 2.02555296689172\n",
       "3. -0.920223607838236\n",
       "4. -0.293280660176917\n",
       "5. -0.555514301224547\n",
       "6. -0.452538254563969\n",
       "7. -0.3947258185082\n",
       "8. 0.698887840445489\n",
       "9. -0.250783173047839\n",
       "10. -0.715531904905854\n",
       "\n",
       "\n"
      ],
      "text/plain": [
       " [1] -0.6528642  2.0255530 -0.9202236 -0.2932807 -0.5555143 -0.4525383\n",
       " [7] -0.3947258  0.6988878 -0.2507832 -0.7155319"
      ]
     },
     "metadata": {},
     "output_type": "display_data"
    },
    {
     "data": {
      "text/html": [
       "<style>\n",
       ".list-inline {list-style: none; margin:0; padding: 0}\n",
       ".list-inline>li {display: inline-block}\n",
       ".list-inline>li:not(:last-child)::after {content: \"\\00b7\"; padding: 0 .5ex}\n",
       "</style>\n",
       "<ol class=list-inline><li>'new'</li><li>'a'</li></ol>\n"
      ],
      "text/latex": [
       "\\begin{enumerate*}\n",
       "\\item 'new'\n",
       "\\item 'a'\n",
       "\\end{enumerate*}\n"
      ],
      "text/markdown": [
       "1. 'new'\n",
       "2. 'a'\n",
       "\n",
       "\n"
      ],
      "text/plain": [
       "[1] \"new\" \"a\"  "
      ]
     },
     "metadata": {},
     "output_type": "display_data"
    }
   ],
   "source": [
    "### Normal\n",
    "### Draw ten normal random variables with mean 0 and variance 2\n",
    "rnorm(10,mean=0,sd=sqrt(2))\n",
    "\n",
    "### There are many other distributions in R\n",
    "### try ?rchisq, ?rf, ?rt, ?rbeta, ?rpois, ...\n",
    "## Other distributions\n",
    "### Poisson  ?rpois\n",
    "\n",
    "### Exponential ?rexp\n",
    "\n",
    "### t ?rt\n",
    "\n",
    "\n",
    "### Chisq ?rchisq\n",
    "\n",
    "\n",
    "### F ?rf\n",
    "## Sampling from a user-specified vector \n",
    "\n",
    "### Draw samples from any vectors using sample()\n",
    "wrd = c(\"yet\", \"a\",\"new\",\"sentence\")\n",
    "sample(wrd,size=2)\n",
    "# use ?sample to see other options\n"
   ]
  },
  {
   "cell_type": "code",
   "execution_count": 34,
   "metadata": {},
   "outputs": [
    {
     "data": {
      "image/png": "[encoded data removed]",
      "text/plain": [
       "Plot with title \"Histogram of y\""
      ]
     },
     "metadata": {
      "image/png": {
       "height": 420,
       "width": 420
      }
     },
     "output_type": "display_data"
    },
    {
     "data": {
      "image/png": "[encoded data removed]",
      "text/plain": [
       "plot without title"
      ]
     },
     "metadata": {
      "image/png": {
       "height": 420,
       "width": 420
      }
     },
     "output_type": "display_data"
    },
    {
     "data": {
      "image/png": "[encoded data removed]",
      "text/plain": [
       "plot without title"
      ]
     },
     "metadata": {
      "image/png": {
       "height": 420,
       "width": 420
      }
     },
     "output_type": "display_data"
    }
   ],
   "source": [
    "### Visulize the simulated data\n",
    "\n",
    "y<-rnorm(100);\n",
    "# We start with the very basic histogram \n",
    "hist(y)\n",
    "# Use ?hist to modify the plot \n",
    "\n",
    "# And the boxplot:\n",
    "boxplot(y)\n",
    "\n",
    "# We can also draw visualize the data using ggplot2\n",
    "library(ggplot2)\n",
    "dat=data.frame(y=y)\n",
    "ggplot(dat, aes(x=1,y=y)) + \n",
    "  geom_violin(trim=FALSE)"
   ]
  },
  {
   "cell_type": "markdown",
   "metadata": {},
   "source": [
    "## D.3 Examples: Coverage of confidence intervals \n",
    "\n",
    "One of the most confusing concepts for beginners in statistics is the confidence interval. The *correct* interpretation of a $100(1-\\alpha)\\%$ confidence interval is that: \n",
    "> the procedure to construct the confidence interval will produce confidence intervals that cover the true parameter $100(1-\\alpha)\\%$ of the times upon drawing a new set of samples from the same population. \n",
    "\n",
    "This is hard to comprehend for anyone who does not know the idea of sampling distribution. However, with simulation, we can verify this statement on our own."
   ]
  },
  {
   "cell_type": "markdown",
   "metadata": {},
   "source": [
    "We will simulate data from a linear regression model \n",
    "$$\n",
    "y = x \\beta_1+\\beta_0 + \\epsilon,\n",
    "$$\n",
    "where $\\epsilon$ follows a uniform distribution in $[-2.5,2.5]$. The covariate $x$ will be drawn from a normal distribution with mean 10 and variance 4. "
   ]
  },
  {
   "cell_type": "code",
   "execution_count": 1,
   "metadata": {},
   "outputs": [],
   "source": [
    "set.seed(1)\n",
    "n=50;\n",
    "x=as.matrix(rnorm(n,mean=10,sd=2),ncol=n);\n",
    "beta.true=c(20,0.15)\n",
    "Ey= x*beta.true[2]+beta.true[1];\n",
    "error.terms= runif(n)*5-2.5;\n",
    "y=Ey+error.terms;"
   ]
  },
  {
   "cell_type": "markdown",
   "metadata": {},
   "source": [
    "We can use `lm()` and `confint()` in `R` to fit a linear regression and obtain the confidence intervals for $\\beta_1$ and $\\beta_0$. "
   ]
  },
  {
   "cell_type": "code",
   "execution_count": 7,
   "metadata": {
    "scrolled": true
   },
   "outputs": [
    {
     "data": {
      "text/html": [
       "<table>\n",
       "<caption>A matrix: 2 × 2 of type dbl</caption>\n",
       "<thead>\n",
       "\t<tr><th></th><th scope=col>1.15 %</th><th scope=col>98.85 %</th></tr>\n",
       "</thead>\n",
       "<tbody>\n",
       "\t<tr><th scope=row>(Intercept)</th><td>14.8350606</td><td>20.4588430</td></tr>\n",
       "\t<tr><th scope=row>x</th><td> 0.1085274</td><td> 0.6527897</td></tr>\n",
       "</tbody>\n",
       "</table>\n"
      ],
      "text/latex": [
       "A matrix: 2 × 2 of type dbl\n",
       "\\begin{tabular}{r|ll}\n",
       "  & 1.15 \\% & 98.85 \\%\\\\\n",
       "\\hline\n",
       "\t(Intercept) & 14.8350606 & 20.4588430\\\\\n",
       "\tx &  0.1085274 &  0.6527897\\\\\n",
       "\\end{tabular}\n"
      ],
      "text/markdown": [
       "\n",
       "A matrix: 2 × 2 of type dbl\n",
       "\n",
       "| <!--/--> | 1.15 % | 98.85 % |\n",
       "|---|---|---|\n",
       "| (Intercept) | 14.8350606 | 20.4588430 |\n",
       "| x |  0.1085274 |  0.6527897 |\n",
       "\n"
      ],
      "text/plain": [
       "            1.15 %     98.85 %   \n",
       "(Intercept) 14.8350606 20.4588430\n",
       "x            0.1085274  0.6527897"
      ]
     },
     "metadata": {},
     "output_type": "display_data"
    }
   ],
   "source": [
    "# For a given confidence level alpha, construct a 100(1-alpha)% confidence interval \n",
    "alpha=0.023;\n",
    "fit.lm=lm(y~x+1);\n",
    "(CIs<-confint(fit.lm,level=1-alpha))\n"
   ]
  },
  {
   "cell_type": "markdown",
   "metadata": {},
   "source": [
    "In the previous code, we (i) simulate data from a linear regression model and (ii) construct the confidence intervals for the unknown $\\beta$s. We have thus simulated one instance from the scenario in consideration. We shall wrap up the code into a function, and use `replicate()` in `R` to simulate many more instances. "
   ]
  },
  {
   "cell_type": "code",
   "execution_count": 5,
   "metadata": {},
   "outputs": [],
   "source": [
    "# Wrapping up the function\n",
    "simulate.one.instance<-function(x,beta.true,alpha){\n",
    "  n=length(x);\n",
    "  Ey= x*beta.true[2]+beta.true[1];\n",
    "  error.terms= runif(n)*5-2.5;\n",
    "  y=Ey+error.terms;\n",
    "  fit.lm=lm(y~x+1);\n",
    "  CIs<-confint(fit.lm,level=1-alpha)\n",
    "  return(CIs)\n",
    "}\n"
   ]
  },
  {
   "cell_type": "code",
   "execution_count": 6,
   "metadata": {},
   "outputs": [],
   "source": [
    "# Specify parameters\n",
    "N.sim=1e4;\n",
    "set.seed(1)\n",
    "n=50;\n",
    "x=as.matrix(rnorm(n,mean=10,sd=2),ncol=n);\n",
    "beta.true=c(20,0.15)"
   ]
  },
  {
   "cell_type": "code",
   "execution_count": 8,
   "metadata": {},
   "outputs": [],
   "source": [
    "# Run simulation\n",
    "sim.CIs=replicate(N.sim,simulate.one.instance(x,beta.true,alpha));"
   ]
  },
  {
   "cell_type": "markdown",
   "metadata": {},
   "source": [
    "Now to visualize the simulation results."
   ]
  },
  {
   "cell_type": "code",
   "execution_count": 9,
   "metadata": {},
   "outputs": [
    {
     "data": {
      "text/html": [
       "0.977"
      ],
      "text/latex": [
       "0.977"
      ],
      "text/markdown": [
       "0.977"
      ],
      "text/plain": [
       "[1] 0.977"
      ]
     },
     "metadata": {},
     "output_type": "display_data"
    },
    {
     "data": {
      "image/png": "[encoded data removed]",
      "text/plain": [
       "Plot with title \"Average Coverage: 0.976\""
      ]
     },
     "metadata": {
      "image/png": {
       "height": 420,
       "width": 420
      }
     },
     "output_type": "display_data"
    }
   ],
   "source": [
    "# Visualize result\n",
    "coverage=sum(sim.CIs[2,1,]<beta.true[2] & sim.CIs[2,2,]>beta.true[2])/N.sim;\n",
    "1-alpha\n",
    "plot(0,0,col=\"white\",xlim=c(min(sim.CIs[2,1,]),max(sim.CIs[2,2,])),ylim=c(0,20),xlab=\"Slope\",ylab=\"Index\",main=paste('Average Coverage:', signif(coverage,3)))\n",
    "abline(v=beta.true[2],lwd=3,col='red')\n",
    "for(i in 1:19){\n",
    "  segments(sim.CIs[2,1,i],i,sim.CIs[2,2,i],i,lwd=3)\n",
    "}"
   ]
  }
 ],
 "metadata": {
  "kernelspec": {
   "display_name": "R",
   "language": "R",
   "name": "ir"
  },
  "language_info": {
   "codemirror_mode": "r",
   "file_extension": ".r",
   "mimetype": "text/x-r-source",
   "name": "R",
   "pygments_lexer": "r",
   "version": "4.1.0"
  },
  "latex_envs": {
   "LaTeX_envs_menu_present": true,
   "autoclose": false,
   "autocomplete": true,
   "bibliofile": "biblio.bib",
   "cite_by": "apalike",
   "current_citInitial": 1,
   "eqLabelWithNumbers": true,
   "eqNumInitial": 1,
   "hotkeys": {
    "equation": "Ctrl-E",
    "itemize": "Ctrl-I"
   },
   "labels_anchors": false,
   "latex_user_defs": false,
   "report_style_numbering": false,
   "user_envs_cfg": false
  }
 },
 "nbformat": 4,
 "nbformat_minor": 1
}
