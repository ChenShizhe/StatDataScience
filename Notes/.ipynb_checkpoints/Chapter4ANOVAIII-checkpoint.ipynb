{
 "cells": [
  {
   "cell_type": "markdown",
   "metadata": {},
   "source": [
    "# Chapter 4 Analysis of Variance\n",
    "     "
   ]
  },
  {
   "cell_type": "markdown",
   "metadata": {},
   "source": [
    "## 4.3 Random and mixed effects\n",
    "\n",
    "### 4.3.1 One-way ANOVA model with random effects\n",
    "\n",
    "We now cosnider the following model in a balanced design, for $j=1,\\ldots, n, i=1,\\ldots,r$, \n",
    "$$\n",
    "Y_{ij}=\\mu_i +\\epsilon_{ij}, \n",
    "$$\n",
    "where $\\epsilon_{ij}$ are i.i.d. $N(0,\\sigma^2)$, $\\mu_i$ are i.i.d. $N(\\mu_{\\cdot},\\sigma_{\\mu}^2)$, and $\\epsilon_{i,j}$ is independent with $\\mu_{i'}$ for any $i, i' \\in \\{1,\\ldots,r\\}$. The total number of observations is $n_T= n\\times r$. \n",
    "\n",
    "The main change brought by the _random_ effects is that the cell means are now *random variables*, instead of unobserved, fixed unknown parameters in the fixed effect model. As a result, it is no longer rigorous to say that we *estimate* the cell mean (we can't estimate a random variable!). Instead, we *predict* the cell means (as in predicting the *outcome* --- a random variable). \n",
    "\n",
    "We have the following \n",
    "$$\n",
    "\\mathbb{E}[Y_{ij}]=\\mu_{\\cdot}, \\ {\\rm var}(Y_{ij})={\\rm var}(\\mu_i)+{\\rm var}(\\epsilon_{ij}) = \\sigma_{\\mu}^2 +\\sigma^2, \n",
    "$$\n",
    "and \n",
    "$$\n",
    "{\\rm cov}(Y_{ij}, Y_{ij'})=\\sigma_{\\mu}^2, \\ j \\neq j', {\\rm cov}(Y_{ij}, Y_{i'j'})=0,\\ i \\neq i'.\n",
    "$$\n",
    "\n",
    "The factor-effect form is \n",
    "$$Y_{ij}=\\mu_{\\cdot} + \\tau_i+\\epsilon_{ij},$$\n",
    "where  $\\epsilon_{ij}$ are i.i.d. $N(0,\\sigma^2)$, $\\tau_i$ are i.i.d. $N(0,\\sigma_{\\tau}^2)$, and $\\epsilon_i$ is independent with $\\tau_{i'}$ for any $i, i' \\in \\{1,\\ldots,r\\}$. Here $\\tau_i = \\mu_i - \\mu_{\\cdot}$ and $\\sigma_{\\tau}=\\sigma_{\\mu}$. \n",
    "\n"
   ]
  },
  {
   "cell_type": "markdown",
   "metadata": {},
   "source": [
    "It is worthwhile to notice that there is a difference between $\\mu_{\\cdot}$ in a random effect model and $\\mu$ in a fixed effect model. In a random effect model:\n",
    "\n",
    "- $\\mu_{\\cdot}$ represents population mean across all possible factor levels.\n",
    "- The factor levels are usually chosen at random from a larger pool of levels (e.g., a group of students from UC Davis).\n",
    "\n",
    "In a fixed effect model ($Y_{ij}=\\mu+\\tau_i+\\epsilon_{ij}$):\n",
    "\n",
    "- $\\mu$ represents the population mean across the $r$ specific factor levels that are chosen.\n",
    "- The factor levels are usually predetermined or fixed by the experimenter.\n",
    "\n",
    "we keep the dot in $\\mu_{\\cdot}$ to distinguish it from $\\mu$ in the fixed effect model. In practice, we can use $\\mu$ in either model when there is no confusion.\n",
    "\n",
    "In this note, we use the notation $\\mu_{\\cdot}$  for random effect models to avoid confusion with the fixed effect model. However, in practice, we can still use $\\mu$ interchangeably in either model when the context is clear."
   ]
  },
  {
   "cell_type": "markdown",
   "metadata": {},
   "source": [
    "### 4.3.2 Sum of squares \n",
    "\n",
    "We can decompose the sum of squres as \n",
    "$$\n",
    "{\\rm SSTO} = \\sum_{i=1}^r \\sum_{j=1}^{n} \\big(Y_{ij}-\\bar{Y}_{\\cdot\\cdot}\\big)^2, \\ df=nr-1,\n",
    "$$\n",
    "$$\n",
    "{\\rm SSTR} =n \\sum_{j=1}^{r} \\big(\\bar{Y}_{i\\cdot}-\\bar{Y}_{\\cdot\\cdot})^2, \\ df=r-1, \\ {\\rm MSTR}=\\frac{ {\\rm SSTR}}{r-1}.\n",
    "$$\n",
    "$$\n",
    "{\\rm SSE} = \\sum_{i=1}^r \\sum_{j=1}^{n} \\big(Y_{ij}-\\bar{Y}_{i\\cdot}\\big)^2, \\ df=r(n-1), \\ {\\rm MSE}=\\frac{ {\\rm SSE}}{r(n-1)}.\n",
    "$$\n",
    "\n"
   ]
  },
  {
   "cell_type": "markdown",
   "metadata": {},
   "source": [
    "\n",
    "**Properties**\n",
    "1. $\\mathbb{E}\\big[\\bar{Y}_{\\cdot\\cdot}\\big]=\\mu_{\\cdot}$ .\n",
    "We can estimate the overall (population) mean $\\mu_{\\cdot}$ with $\\hat{\\mu}_{\\cdot}=\\bar{Y}_{\\cdot\\cdot}$.\n",
    "\n",
    "2. ${\\rm var}\\big(\\bar{Y}_{\\cdot\\cdot}\\big) = (n\\sigma_{\\mu}^2 + \\sigma^2)/(nr)$.\n",
    "We have $\\hat{ {\\rm var}}(\\bar{Y})= {\\rm MSTR}/(nr)$.\n",
    "\n",
    "3. $\\mathbb{E}[{\\rm MSE}]=\\sigma^2$.\n",
    "We can estimate $\\sigma^2$ with $s^2 = {\\rm MSE}$.\n",
    "4. $\\mathbb{E}[{\\rm MSTR}] = n\\sigma_{\\mu}^2 + \\sigma^2$.\n",
    "We can estimate $\\sigma_{\\mu}^2$ with $s_{\\mu}^2 = ({\\rm MSTR}-{\\rm MSE})/n$, \n",
    "\n",
    "\n"
   ]
  },
  {
   "cell_type": "markdown",
   "metadata": {},
   "source": [
    "\n",
    "\n",
    "**Best linear unbiased _predictor_ of $\\tau_i$**\n",
    "\n",
    "Consider a linear predictor of $\\tau_i$ of the form $H=d_1 \\bar{Y}_{1\\cdot} + \\cdots + d_r \\bar{Y}_{r\\cdot}$ s.t. $\\mathbb{E}[H-\\tau_i]=0$. \n",
    "Then, $\\mathbb{E}\\big[(H-\\tau_i)^2 \\big]$ is minimized when $d_i = w(1-1/r)$ and $d_{i'}=-w/r$ for $i'\\neq i$. The best predictor is of the form $w(\\bar{Y}_{i\\cdot}-\\bar{Y}_{\\cdot \\cdot})$ with $w= n \\sigma_{\\mu}^2 / (n\\sigma_{\\mu}^2 +\\sigma^2)$, and thus $\\hat{\\tau}_o=\\hat{w}(\\bar{Y}_{i\\cdot} -\\bar{Y}_{\\cdot\\cdot})$ with $\\hat{w}=n s_{\\mu}^2 /{\\rm MSTR}$. \n",
    "\n",
    "Remarks:\n",
    "1. $\\hat{w} \\in [0,1]$. \n",
    "2. ${\\rm SSE}=\\sum \\sum (Y_{ij}-\\bar{Y}_{i\\cdot})^2$ is free of $\\mu$ and $\\tau$'s.\n",
    "3. $H=\\sum \\sum c_{ij} Y_{ij}$. "
   ]
  },
  {
   "cell_type": "markdown",
   "metadata": {},
   "source": [
    "### 4.3.3 Inference with random effects\n",
    "\n",
    "From the factor effect form, we can see that the expectation of random effects can be absorbed in the overall mean. Hence, when random effects do not exist, it means that the variance $\\sigma_{\\mu}^2$ is zero. We have the following hypotheses \n",
    "$$\n",
    "H_0: \\sigma_{\\mu}^2 = 0 \\ {\\rm v.s.} \\ H_1: \\sigma_{\\mu}^2 \\neq 0.\n",
    "$$\n",
    "\n",
    "The test statistic remains the same as $F^*={\\rm MSTR}/{\\rm MSE}$, which follows an F-distribution with d.f. $(r-1,(n-1)r)$ under the null."
   ]
  },
  {
   "cell_type": "markdown",
   "metadata": {},
   "source": [
    "\n",
    "\n",
    "Under the null hypothesis, the ratio $\\sigma_{\\mu}^2 / (\\sigma_{\\mu}^2 + \\sigma^2)$ equals zero. Otherwise, the ratio $\\sigma_{\\mu}^2 / (\\sigma_{\\mu}^2 + \\sigma^2)$ takes values in $(0,1]$. This ratio characterizes the amount of variability in the samples that can be explained by the random effects from the factor. We can estimate this ratio with $s_{\\mu}^2 / (s_{\\mu}^2+{\\rm MSE})$. \n"
   ]
  },
  {
   "cell_type": "markdown",
   "metadata": {},
   "source": [
    "\n",
    "However, the construction of its confidence interval is slightly more involved.  The confidence interval for this ratio is $(L/(L+1), U/(U+1))$, where \n",
    "$$\n",
    "L=\\frac{1}{n}\\left[\\frac{F^*}{F(1-\\alpha/2; r-1, (n-1)r)} -1 \\right], U=\\frac{1}{n}\\left[\\frac{F^*}{F(\\alpha/2; r-1, (n-1)r)} -1 \\right],\n",
    "$$\n",
    "and $F^*={\\rm MSTR}/{\\rm MSE}$. For $\\sigma_{\\mu}^2/\\sigma^2$, the confidence interval is $(L,U)$. "
   ]
  },
  {
   "cell_type": "markdown",
   "metadata": {},
   "source": [
    "\n",
    "In addition, we have the following confidence intervals. \n",
    "\n",
    "For $\\sigma^2$, the conferences interval is $(L,U)$ where \n",
    "$$\n",
    "L=\\frac{df {\\rm MSE}}{\\chi^2(1-\\alpha/2; df)}, U = \\frac{df {\\rm MSE}}{\\chi^2 (\\alpha/2;df)}.\n",
    "$$"
   ]
  },
  {
   "cell_type": "markdown",
   "metadata": {},
   "source": [
    "\n",
    "For $\\sigma_{\\mu}^2$, we can use the Satterthwaite approximation to approximate the effective degrees of freedom for the distribution of $s_{\\mu}^2$. To this end, we view $\\sigma_{\\mu}^2$ as \n",
    "$$\n",
    "\\sigma_{\\mu}^2 = \\frac{1}{n}\\mathbb{E}[{\\rm MSTR}]-\\frac{1}{n}\\mathbb{E}[{\\rm MSE}]\\equiv c_1\\mathbb{E}[{\\rm MSTR}] +c_2 \\mathbb{E}[{\\rm MSE}].\n",
    "$$\n",
    "Let $T=c_1 \\mathbb{E}[{\\rm MS}_1]+ \\cdots + c_j \\mathbb{E}[{\\rm MS}_h]$, $\\hat{T}=c_1  {\\rm MS}_1+ \\cdots + c_j {\\rm MS}_h$, and \n",
    "$$\n",
    "df = \\frac{\\hat{T}^2}{(c_1 {\\rm MS}_1)^2/df_1 + \\cdots + (c_h {\\rm MS}_h)^2/df_h}.\n",
    "$$\n",
    "We have $(df) \\hat{T} / T \\approx \\chi^2_{df}$. We can construct the confidence interval accordingly. "
   ]
  },
  {
   "cell_type": "markdown",
   "metadata": {},
   "source": [
    "You can find more discussion about random effect models [here](https://stat.ethz.ch/~meier/teaching/anova/random-and-mixed-effects-models.html)."
   ]
  },
  {
   "cell_type": "markdown",
   "metadata": {},
   "source": [
    "\n",
    "\n",
    "### 4.3.4 Two-way ANOVA with random effects \n",
    "\n",
    "\n",
    "Consider a two-way ANOVA model with balanced design and random effects, for $k=1,\\ldots, n, j=1,\\ldots, b, i=1,\\ldots, a,$\n",
    "$$\n",
    "Y_{ijk} = \\mu_{ij} +\\epsilon_{ijk}=\\mu_{\\cdot\\cdot} + \\alpha_i+\\beta_j + (\\alpha\\beta)_{ij}+\\epsilon_{ijk}, \\\n",
    "$$\n",
    "where (i) $\\alpha_i \\sim N(0,\\sigma_{\\alpha}^2)$, (ii) $\\beta_j \\sim N(0,\\sigma_{\\beta}^2)$, (iii) $ (\\alpha\\beta)_{ij} \\sim N(0,\\sigma^2_{\\alpha\\beta}) $, (iv)$\\{\\epsilon_{ijk}\\} \\sim N(0,\\sigma^2)$, and (v) all random variables are mutually independent. \n",
    "\n",
    "In this model, we have the following results, similar to the case with one factor. \n",
    "1. $ \\mathbb{E}[Y_{ijk}]=\\mu_{\\cdot\\cdot}$. \n",
    "2. ${\\rm var}(Y_{ijk})=\\sigma_{\\alpha}^2+\\sigma_{\\beta}^2+\\sigma_{\\alpha\\beta}^2+\\sigma^2$. \n",
    "3. ${\\rm cov}(Y_{ijk},Y_{ijk'})=\\sigma_{\\alpha}^2+\\sigma_{\\beta}^2+\\sigma_{\\alpha\\beta}^2$ for $k\\neq k'$. \n",
    "4. ${\\rm cov}(Y_{ijk},Y_{ij'k'})=\\sigma_{\\alpha}^2$ for $j\\neq j'$.\n",
    "5. ${\\rm cov}(Y_{ijk},Y_{i'jk'})=\\sigma_{\\beta}^2$ for $i\\neq i'$.\n",
    "6. ${\\rm cov}(Y_{ijk},Y_{i'j'k'})=0$ when no indices are equal.\n",
    "\n",
    "**Estimation of the variance components.**\n",
    "We have \n",
    "${\\rm SSA}=nb \\sum \\hat{\\alpha}_i^2, {\\rm SSB}=na \\sum \\hat{\\beta}_j^2, {\\rm SSAB}= n \\sum \\sum \\hat{(\\alpha\\beta)}_{ij}^2$.\n",
    "We can see that \n",
    "$\\mathbb{E}[{\\rm MSAB}]- \\mathbb{E}[{\\rm MSE}]=n\\sigma^2_{\\alpha\\beta}, \\mathbb{E}[{\\rm MSA}]-\\mathbb{E}[{\\rm MSAB}]=nb \\sigma_{\\alpha}^2, \\mathbb{E}[{\\rm MSB}]-\\mathbb{E}[{\\rm MSAB}]=n a \\sigma_{\\beta}^2$. \n",
    "Hence, we can define unbiased estimators of the variance components based on the mean squares.  Furthermore, we have $\\mathbb{E}[\\bar{Y}]=\\mu$, ${\\rm var}(\\bar{Y})=(nb\\sigma_{\\alpha}^2+na\\sigma_{\\beta}^2+n\\sigma_{\\alpha\\beta}^2+\\sigma^2)/(nab)$. \n",
    "\n",
    "The analytic solutions for the unbalanced design are beyond the scope of this note. We can still fit the model in its regression form with the _restricted maximum likelihood_. Theory, properties, and testing follow accordingly, see, e.g., [this note](http://www2.compute.dtu.dk/courses/02429/enotepdfs/eNote-10.pdf). "
   ]
  },
  {
   "cell_type": "markdown",
   "metadata": {},
   "source": [
    "### 4.3.5 Mixed effects\n",
    "\n",
    "When fixed effects and random effects are both present, our model takes the same form but there are a few more assumptions \n",
    "$$\n",
    "Y_{ijk} =  \\mu_{\\cdot\\cdot} + \\alpha_i+\\beta_j + (\\alpha\\beta)_{ij}+\\epsilon_{ijk}, \\ k=1,\\ldots, n, j=1,\\ldots, b, i=1,\\ldots, a,\n",
    "$$\n",
    "where (i) $\\sum \\alpha_i =0$, (ii) $\\beta_j$ are i.i.d. $N(0,\\sigma_{\\beta}^2)$, (iii) $\\sum_i  (\\alpha\\beta)_{ij} =0$ for any $j$, \n",
    "(iv) $ (\\alpha\\beta)_{ij} \\sim N(0,(1-1/a)\\sigma^2_{\\alpha\\beta}) $, (v) ${\\rm cov}( (\\alpha\\beta)_{ij},  (\\alpha\\beta)_{i'j})= -\\sigma^2_{\\alpha\\beta}/a$, (vi) ${\\rm cov}( (\\alpha\\beta)_{ij},  (\\alpha\\beta)_{i'j'})=0$,  if $i\\neq i'$ and $j\\neq j'$, (vii)$\\{\\epsilon_{ijk}\\}$ are i.i.d. $N(0,\\sigma^2)$, and (viii)  $\\{ \\beta_j\\}$, $\\{(\\alpha\\beta)_{ij}\\}$, $\\{\\epsilon_{ijk} \\}$ are mutually independent. \n",
    "\n",
    "In this model, we have \n",
    "1. $ \\mathbb{E}[Y_{ijk}]=\\mu_{\\cdot\\cdot}+\\alpha_i$ \n",
    "2. ${\\rm var}(Y_{ijk})=\\sigma_{\\beta}^2+(1-1/a)\\sigma_{\\alpha\\beta}^2+\\sigma^2$. \n",
    "3. ${\\rm cov}(Y_{ijk},Y_{ijk'})=\\sigma_{\\beta}^2+(1-1/a)\\sigma_{\\alpha\\beta}^2$ for $k\\neq k'$. \n",
    "4. ${\\rm cov}(Y_{ijk},Y_{ij'k'})=0$ for $j\\neq j'$.\n",
    "5. ${\\rm cov}(Y_{ijk},Y_{i'jk'})=\\sigma_{\\beta}^2-\\sigma_{\\alpha\\beta}^2/a$ for $i\\neq i'$.\n",
    "6. ${\\rm cov}(Y_{ijk},Y_{i'j'k'})=0$ when no indices are equal.\n",
    "\n",
    "We can see that \n",
    "$\\mathbb{E}[{\\rm MSAB}]- \\mathbb{E}[{\\rm MSE}]=n\\sigma^2_{\\alpha\\beta},  \\mathbb{E}[{\\rm MSB}]-\\mathbb{E}[{\\rm MSAB}]=n a \\sigma_{\\beta}^2$. We can define unbiased estimators of the variance components based on the mean squares. \n",
    "\n",
    "We have \n",
    "$\\hat{H}= \\sum c_i \\bar{Y}_{i\\cdot \\cdot}$, ${\\rm var}(\\hat{H}) = \\sum c_i^2(n\\sigma_{\\alpha\\beta}^2+\\sigma^2)/(nb)$, and $s^2(\\hat{H})=\\sum c_i^2 {\\rm MSAB}/(nb)$. "
   ]
  },
  {
   "cell_type": "markdown",
   "metadata": {},
   "source": [
    "### 4.3.6 Example: rat growth data\n",
    "\n",
    "We consider the rat growth data. Each rat is measured over 5 weeks. This type of data set is called longitudinal since the observations are taken over time on each subject. There is one covariate `mother's weight` (X) in the data set. We consider several models to fit them in `R`.  For more on the syntax of `lmer` see the vignette [here](https://cran.r-project.org/web/packages/lme4/vignettes/lmer.pdf).\n",
    "\n"
   ]
  },
  {
   "cell_type": "code",
   "execution_count": 13,
   "metadata": {
    "scrolled": false
   },
   "outputs": [
    {
     "data": {
      "image/png": "[encoded data removed]",
      "text/plain": [
       "Plot with title \"Raw growth data\""
      ]
     },
     "metadata": {
      "image/png": {
       "height": 420,
       "width": 420
      }
     },
     "output_type": "display_data"
    }
   ],
   "source": [
    "\n",
    "Rat.growth <- read.csv(file=\"../Data/Growth.csv\", header=TRUE, sep=\",\")\n",
    "\n",
    "colorpicks = rainbow(n=length(unique(Rat.growth$rat)));\n",
    "with(Rat.growth, plot(y=weight, x=week,type='p', pch=16, bty='l',  main='Raw growth data', xlab='Week', ylab='Weight',col=colorpicks[rat]))\n",
    "for(i in 1:length(unique(Rat.growth$rat))){\n",
    "  one.rat=Rat.growth[Rat.growth$rat==i,]\n",
    "  with(one.rat, libnes(y=weight, x=week,col=colorpicks[rat])）\n",
    "}\n",
    "# For more thoughts on visualization, see http://www.colbyimaging.com/wiki/statistics/longitudinal-data\n",
    "legend('bottomright', col=colorpicks, pch=c(16), legend=paste('Rat', unique(Rat.growth$rat)))\n",
    " "
   ]
  },
  {
   "cell_type": "code",
   "execution_count": 25,
   "metadata": {
    "scrolled": false
   },
   "outputs": [
    {
     "data": {
      "text/plain": [
       "Linear mixed model fit by REML ['lmerMod']\n",
       "Formula: weight ~ as.factor(week) + (1 | rat)\n",
       "   Data: Rat.growth\n",
       "REML criterion at convergence: 365.5793\n",
       "Random effects:\n",
       " Groups   Name        Std.Dev.\n",
       " rat      (Intercept) 10.56   \n",
       " Residual             10.30   \n",
       "Number of obs: 50, groups:  rat, 10\n",
       "Fixed Effects:\n",
       "     (Intercept)  as.factor(week)1  as.factor(week)2  as.factor(week)3  \n",
       "            56.9              18.3              53.6              73.1  \n",
       "as.factor(week)4  \n",
       "           106.4  "
      ]
     },
     "metadata": {},
     "output_type": "display_data"
    },
    {
     "data": {
      "text/plain": [
       "Linear mixed model fit by REML ['lmerMod']\n",
       "Formula: weight ~ as.factor(week) + (1 | rat)\n",
       "   Data: Rat.growth\n",
       "\n",
       "REML criterion at convergence: 365.6\n",
       "\n",
       "Scaled residuals: \n",
       "     Min       1Q   Median       3Q      Max \n",
       "-1.72921 -0.67133 -0.06699  0.64478  2.63179 \n",
       "\n",
       "Random effects:\n",
       " Groups   Name        Variance Std.Dev.\n",
       " rat      (Intercept) 111.5    10.56   \n",
       " Residual             106.0    10.30   \n",
       "Number of obs: 50, groups:  rat, 10\n",
       "\n",
       "Fixed effects:\n",
       "                 Estimate Std. Error t value\n",
       "(Intercept)        56.900      4.664  12.201\n",
       "as.factor(week)1   18.300      4.604   3.974\n",
       "as.factor(week)2   53.600      4.604  11.641\n",
       "as.factor(week)3   73.100      4.604  15.876\n",
       "as.factor(week)4  106.400      4.604  23.108\n",
       "\n",
       "Correlation of Fixed Effects:\n",
       "            (Intr) as.()1 as.()2 as.()3\n",
       "as.fctr(w)1 -0.494                     \n",
       "as.fctr(w)2 -0.494  0.500              \n",
       "as.fctr(w)3 -0.494  0.500  0.500       \n",
       "as.fctr(w)4 -0.494  0.500  0.500  0.500"
      ]
     },
     "metadata": {},
     "output_type": "display_data"
    }
   ],
   "source": [
    "library(lme4)\n",
    "\n",
    "(lm1=lmer(weight~as.factor(week)+(1|rat),data=Rat.growth))\n",
    "#lm()\n",
    "summary(lm1)\n",
    "ranef(lm1)\n",
    "confint(lm1)"
   ]
  },
  {
   "cell_type": "code",
   "execution_count": 28,
   "metadata": {
    "scrolled": true
   },
   "outputs": [
    {
     "data": {
      "text/plain": [
       "Linear mixed model fit by REML ['lmerMod']\n",
       "Formula: weight ~ as.factor(week) + (1 | rat)\n",
       "   Data: Rat.growth\n",
       "REML criterion at convergence: 365.5793\n",
       "Random effects:\n",
       " Groups   Name        Std.Dev.\n",
       " rat      (Intercept) 10.56   \n",
       " Residual             10.30   \n",
       "Number of obs: 50, groups:  rat, 10\n",
       "Fixed Effects:\n",
       "     (Intercept)  as.factor(week)1  as.factor(week)2  as.factor(week)3  \n",
       "            56.9              18.3              53.6              73.1  \n",
       "as.factor(week)4  \n",
       "           106.4  "
      ]
     },
     "metadata": {},
     "output_type": "display_data"
    },
    {
     "data": {
      "text/plain": [
       "Linear mixed model fit by maximum likelihood  ['lmerMod']\n",
       "Formula: weight ~ as.factor(week) + (1 | rat)\n",
       "   Data: Rat.growth\n",
       "      AIC       BIC    logLik  deviance  df.resid \n",
       " 402.1391  415.5232 -194.0695  388.1391        43 \n",
       "Random effects:\n",
       " Groups   Name        Std.Dev.\n",
       " rat      (Intercept) 10.017  \n",
       " Residual              9.767  \n",
       "Number of obs: 50, groups:  rat, 10\n",
       "Fixed Effects:\n",
       "     (Intercept)  as.factor(week)1  as.factor(week)2  as.factor(week)3  \n",
       "            56.9              18.3              53.6              73.1  \n",
       "as.factor(week)4  \n",
       "           106.4  "
      ]
     },
     "metadata": {},
     "output_type": "display_data"
    }
   ],
   "source": [
    "\n",
    "(lm1=lmer(weight~as.factor(week)+(1|rat),data=Rat.growth,REML=T))\n",
    "\n",
    "(lm1.ml=lmer(weight~as.factor(week)+(1|rat),data=Rat.growth,REML=F))"
   ]
  },
  {
   "cell_type": "code",
   "execution_count": 29,
   "metadata": {
    "scrolled": false
   },
   "outputs": [
    {
     "data": {
      "text/plain": [
       "Linear mixed model fit by REML ['lmerMod']\n",
       "Formula: weight ~ week + X + (1 | rat)\n",
       "   Data: Rat.growth\n",
       "REML criterion at convergence: 380.3823\n",
       "Random effects:\n",
       " Groups   Name        Std.Dev.\n",
       " rat      (Intercept)  4.791  \n",
       " Residual             10.773  \n",
       "Number of obs: 50, groups:  rat, 10\n",
       "Fixed Effects:\n",
       "(Intercept)         week            X  \n",
       "   -34.6463      26.7600       0.5451  "
      ]
     },
     "metadata": {},
     "output_type": "display_data"
    },
    {
     "data": {
      "text/plain": [
       "Linear mixed model fit by REML ['lmerMod']\n",
       "Formula: weight ~ as.factor(week) + X + (1 | rat)\n",
       "   Data: Rat.growth\n",
       "REML criterion at convergence: 357.3366\n",
       "Random effects:\n",
       " Groups   Name        Std.Dev.\n",
       " rat      (Intercept)  4.997  \n",
       " Residual             10.296  \n",
       "Number of obs: 50, groups:  rat, 10\n",
       "Fixed Effects:\n",
       "     (Intercept)  as.factor(week)1  as.factor(week)2  as.factor(week)3  \n",
       "        -31.4063           18.3000           53.6000           73.1000  \n",
       "as.factor(week)4                 X  \n",
       "        106.4000            0.5451  "
      ]
     },
     "metadata": {},
     "output_type": "display_data"
    }
   ],
   "source": [
    "\n",
    "\n",
    "(lm3=lmer(weight~as.factor(week)+X+\n",
    "         (1|rat),data=Rat.growth))\n"
   ]
  },
  {
   "cell_type": "code",
   "execution_count": 34,
   "metadata": {
    "scrolled": true
   },
   "outputs": [
    {
     "name": "stderr",
     "output_type": "stream",
     "text": [
      "refitting model(s) with ML (instead of REML)\n",
      "\n"
     ]
    },
    {
     "data": {
      "text/html": [
       "<table>\n",
       "<caption>A anova: 2 × 8</caption>\n",
       "<thead>\n",
       "\t<tr><th></th><th scope=col>npar</th><th scope=col>AIC</th><th scope=col>BIC</th><th scope=col>logLik</th><th scope=col>deviance</th><th scope=col>Chisq</th><th scope=col>Df</th><th scope=col>Pr(&gt;Chisq)</th></tr>\n",
       "\t<tr><th></th><th scope=col>&lt;dbl&gt;</th><th scope=col>&lt;dbl&gt;</th><th scope=col>&lt;dbl&gt;</th><th scope=col>&lt;dbl&gt;</th><th scope=col>&lt;dbl&gt;</th><th scope=col>&lt;dbl&gt;</th><th scope=col>&lt;dbl&gt;</th><th scope=col>&lt;dbl&gt;</th></tr>\n",
       "</thead>\n",
       "<tbody>\n",
       "\t<tr><th scope=row>lm2</th><td>5</td><td>393.234</td><td>402.7942</td><td>-191.617</td><td>383.234</td><td>NA</td><td>NA</td><td>NA</td></tr>\n",
       "\t<tr><th scope=row>lm4</th><td>6</td><td>395.234</td><td>406.7062</td><td>-191.617</td><td>383.234</td><td> 0</td><td> 1</td><td> 1</td></tr>\n",
       "</tbody>\n",
       "</table>\n"
      ],
      "text/latex": [
       "A anova: 2 × 8\n",
       "\\begin{tabular}{r|llllllll}\n",
       "  & npar & AIC & BIC & logLik & deviance & Chisq & Df & Pr(>Chisq)\\\\\n",
       "  & <dbl> & <dbl> & <dbl> & <dbl> & <dbl> & <dbl> & <dbl> & <dbl>\\\\\n",
       "\\hline\n",
       "\tlm2 & 5 & 393.234 & 402.7942 & -191.617 & 383.234 & NA & NA & NA\\\\\n",
       "\tlm4 & 6 & 395.234 & 406.7062 & -191.617 & 383.234 &  0 &  1 &  1\\\\\n",
       "\\end{tabular}\n"
      ],
      "text/markdown": [
       "\n",
       "A anova: 2 × 8\n",
       "\n",
       "| <!--/--> | npar &lt;dbl&gt; | AIC &lt;dbl&gt; | BIC &lt;dbl&gt; | logLik &lt;dbl&gt; | deviance &lt;dbl&gt; | Chisq &lt;dbl&gt; | Df &lt;dbl&gt; | Pr(&gt;Chisq) &lt;dbl&gt; |\n",
       "|---|---|---|---|---|---|---|---|---|\n",
       "| lm2 | 5 | 393.234 | 402.7942 | -191.617 | 383.234 | NA | NA | NA |\n",
       "| lm4 | 6 | 395.234 | 406.7062 | -191.617 | 383.234 |  0 |  1 |  1 |\n",
       "\n"
      ],
      "text/plain": [
       "    npar AIC     BIC      logLik   deviance Chisq Df Pr(>Chisq)\n",
       "lm2 5    393.234 402.7942 -191.617 383.234  NA    NA NA        \n",
       "lm4 6    395.234 406.7062 -191.617 383.234   0     1  1        "
      ]
     },
     "metadata": {},
     "output_type": "display_data"
    }
   ],
   "source": [
    "\n",
    "lm4=lmer(weight~week+X+(1|rat)+\n",
    "         (0+week|rat),data=Rat.growth)\n",
    "\n",
    "anova(lm2,lm4)\n",
    "\n"
   ]
  },
  {
   "cell_type": "code",
   "execution_count": 39,
   "metadata": {},
   "outputs": [],
   "source": [
    "?aov"
   ]
  },
  {
   "cell_type": "code",
   "execution_count": 36,
   "metadata": {},
   "outputs": [
    {
     "data": {
      "text/plain": [
       "Linear mixed model fit by REML ['lmerMod']\n",
       "Formula: weight ~ week + X + (1 | rat)\n",
       "   Data: Rat.growth\n",
       "REML criterion at convergence: 380.3823\n",
       "Random effects:\n",
       " Groups   Name        Std.Dev.\n",
       " rat      (Intercept)  4.791  \n",
       " Residual             10.773  \n",
       "Number of obs: 50, groups:  rat, 10\n",
       "Fixed Effects:\n",
       "(Intercept)         week            X  \n",
       "   -34.6463      26.7600       0.5451  "
      ]
     },
     "metadata": {},
     "output_type": "display_data"
    }
   ],
   "source": [
    "\n",
    "(lm2=lmer(weight~week+X+(1|rat),\n",
    "         data=Rat.growth))\n",
    "aov()"
   ]
  },
  {
   "cell_type": "code",
   "execution_count": 33,
   "metadata": {},
   "outputs": [],
   "source": [
    "?lmer"
   ]
  },
  {
   "cell_type": "code",
   "execution_count": 20,
   "metadata": {
    "scrolled": true
   },
   "outputs": [
    {
     "name": "stderr",
     "output_type": "stream",
     "text": [
      "Warning message in checkConv(attr(opt, \"derivs\"), opt$par, ctrl = control$checkConv, :\n",
      "\"unable to evaluate scaled gradient\"\n",
      "Warning message in checkConv(attr(opt, \"derivs\"), opt$par, ctrl = control$checkConv, :\n",
      "\"Model failed to converge: degenerate  Hessian with 1 negative eigenvalues\"\n"
     ]
    },
    {
     "data": {
      "text/html": [
       "<table>\n",
       "<caption>A data.frame: 3 × 2</caption>\n",
       "<thead>\n",
       "\t<tr><th></th><th scope=col>df</th><th scope=col>AIC</th></tr>\n",
       "\t<tr><th></th><th scope=col>&lt;dbl&gt;</th><th scope=col>&lt;dbl&gt;</th></tr>\n",
       "</thead>\n",
       "<tbody>\n",
       "\t<tr><th scope=row>lm1</th><td>7</td><td>379.5793</td></tr>\n",
       "\t<tr><th scope=row>lm2</th><td>5</td><td>390.3823</td></tr>\n",
       "\t<tr><th scope=row>lm3</th><td>8</td><td>373.3366</td></tr>\n",
       "</tbody>\n",
       "</table>\n"
      ],
      "text/latex": [
       "A data.frame: 3 × 2\n",
       "\\begin{tabular}{r|ll}\n",
       "  & df & AIC\\\\\n",
       "  & <dbl> & <dbl>\\\\\n",
       "\\hline\n",
       "\tlm1 & 7 & 379.5793\\\\\n",
       "\tlm2 & 5 & 390.3823\\\\\n",
       "\tlm3 & 8 & 373.3366\\\\\n",
       "\\end{tabular}\n"
      ],
      "text/markdown": [
       "\n",
       "A data.frame: 3 × 2\n",
       "\n",
       "| <!--/--> | df &lt;dbl&gt; | AIC &lt;dbl&gt; |\n",
       "|---|---|---|\n",
       "| lm1 | 7 | 379.5793 |\n",
       "| lm2 | 5 | 390.3823 |\n",
       "| lm3 | 8 | 373.3366 |\n",
       "\n"
      ],
      "text/plain": [
       "    df AIC     \n",
       "lm1 7  379.5793\n",
       "lm2 5  390.3823\n",
       "lm3 8  373.3366"
      ]
     },
     "metadata": {},
     "output_type": "display_data"
    },
    {
     "data": {
      "text/html": [
       "<table>\n",
       "<caption>A data.frame: 6 × 2</caption>\n",
       "<thead>\n",
       "\t<tr><th></th><th scope=col>df</th><th scope=col>BIC</th></tr>\n",
       "\t<tr><th></th><th scope=col>&lt;dbl&gt;</th><th scope=col>&lt;dbl&gt;</th></tr>\n",
       "</thead>\n",
       "<tbody>\n",
       "\t<tr><th scope=row>lm1</th><td>7</td><td>392.9635</td></tr>\n",
       "\t<tr><th scope=row>lm2</th><td>5</td><td>399.9424</td></tr>\n",
       "\t<tr><th scope=row>lm3</th><td>8</td><td>388.6328</td></tr>\n",
       "\t<tr><th scope=row>lm4</th><td>6</td><td>403.8459</td></tr>\n",
       "\t<tr><th scope=row>lm5</th><td>6</td><td>400.9624</td></tr>\n",
       "\t<tr><th scope=row>lm6</th><td>8</td><td>408.7746</td></tr>\n",
       "</tbody>\n",
       "</table>\n"
      ],
      "text/latex": [
       "A data.frame: 6 × 2\n",
       "\\begin{tabular}{r|ll}\n",
       "  & df & BIC\\\\\n",
       "  & <dbl> & <dbl>\\\\\n",
       "\\hline\n",
       "\tlm1 & 7 & 392.9635\\\\\n",
       "\tlm2 & 5 & 399.9424\\\\\n",
       "\tlm3 & 8 & 388.6328\\\\\n",
       "\tlm4 & 6 & 403.8459\\\\\n",
       "\tlm5 & 6 & 400.9624\\\\\n",
       "\tlm6 & 8 & 408.7746\\\\\n",
       "\\end{tabular}\n"
      ],
      "text/markdown": [
       "\n",
       "A data.frame: 6 × 2\n",
       "\n",
       "| <!--/--> | df &lt;dbl&gt; | BIC &lt;dbl&gt; |\n",
       "|---|---|---|\n",
       "| lm1 | 7 | 392.9635 |\n",
       "| lm2 | 5 | 399.9424 |\n",
       "| lm3 | 8 | 388.6328 |\n",
       "| lm4 | 6 | 403.8459 |\n",
       "| lm5 | 6 | 400.9624 |\n",
       "| lm6 | 8 | 408.7746 |\n",
       "\n"
      ],
      "text/plain": [
       "    df BIC     \n",
       "lm1 7  392.9635\n",
       "lm2 5  399.9424\n",
       "lm3 8  388.6328\n",
       "lm4 6  403.8459\n",
       "lm5 6  400.9624\n",
       "lm6 8  408.7746"
      ]
     },
     "metadata": {},
     "output_type": "display_data"
    }
   ],
   "source": [
    "\n",
    "lm5=lmer(weight~week+I(week^2)+X+\n",
    "         (1|rat),data=Rat.growth)\n",
    "lm6=lmer(weight~week+I(week^2)+X+\n",
    "         (1|rat)+(0+week|rat)+\n",
    "         (0+week^2|rat),data=Rat.growth)\n",
    " \n",
    "# For model selection, we can use AIC, BIC \n",
    "AIC(lm1,lm2,lm3)\n",
    "\n",
    "BIC(lm1,lm2,lm3,lm4,lm5,lm6)\n",
    " \n"
   ]
  }
 ],
 "metadata": {
  "author": "mes ",
  "kernelspec": {
   "display_name": "R",
   "language": "R",
   "name": "ir"
  },
  "language_info": {
   "codemirror_mode": "r",
   "file_extension": ".r",
   "mimetype": "text/x-r-source",
   "name": "R",
   "pygments_lexer": "r",
   "version": "4.1.0"
  },
  "latex_envs": {
   "LaTeX_envs_menu_present": true,
   "autoclose": false,
   "autocomplete": true,
   "bibliofile": "biblio.bib",
   "cite_by": "apalike",
   "current_citInitial": 1,
   "eqLabelWithNumbers": true,
   "eqNumInitial": 1,
   "hotkeys": {
    "equation": "Ctrl-E",
    "itemize": "Ctrl-I"
   },
   "labels_anchors": false,
   "latex_user_defs": false,
   "report_style_numbering": false,
   "user_envs_cfg": false
  }
 },
 "nbformat": 4,
 "nbformat_minor": 2
}
