{
 "cells": [
  {
   "cell_type": "markdown",
   "metadata": {},
   "source": [
    "# Chapter 4 Analysis of Variance\n",
    "     "
   ]
  },
  {
   "cell_type": "markdown",
   "metadata": {},
   "source": [
    "## 4.3 Random and mixed effects\n",
    "\n",
    "### 4.3.1 One-way ANOVA model with random effects\n",
    "\n",
    "We now cosnider the following model in a balanced design, for $j=1,\\ldots, n, i=1,\\ldots,r$, \n",
    "$$\n",
    "Y_{ij}=\\mu_i +\\epsilon_{ij}, \n",
    "$$\n",
    "where $\\epsilon_{ij}$ are i.i.d. $N(0,\\sigma^2)$, $\\mu_i$ are i.i.d. $N(\\mu_{\\cdot},\\sigma_{\\mu}^2)$, and $\\epsilon_{i,j}$ is independent with $\\mu_{i'}$ for any $i, i' \\in \\{1,\\ldots,r\\}$. The total number of observations is $n_T= n\\times r$. \n",
    "\n",
    "The main change brought by the _random_ effects is that the cell means are now *random variables*, instead of unobserved, fixed unknown parameters in the fixed effect model. As a result, it is no longer rigorous to say that we *estimate* the cell mean (we can't estimate a random variable!). Instead, we *predict* the cell means (as in predicting the *outcome* --- a random variable). \n",
    "\n",
    "We have the following \n",
    "$$\n",
    "\\mathbb{E}[Y_{ij}]=\\mu_{\\cdot}, \\ {\\rm var}(Y_{ij})={\\rm var}(\\mu_i)+{\\rm var}(\\epsilon_{ij}) = \\sigma_{\\mu}^2 +\\sigma^2, \n",
    "$$\n",
    "and \n",
    "$$\n",
    "{\\rm cov}(Y_{ij}, Y_{ij'})=\\sigma_{\\mu}^2, \\ j \\neq j', {\\rm cov}(Y_{ij}, Y_{i'j'})=0,\\ i \\neq i'.\n",
    "$$\n",
    "\n",
    "The factor-effect form is $Y_{ij}=\\mu_{\\cdot} + \\tau_i+\\epsilon_{ij}$, where  $\\epsilon_{ij}$ are i.i.d. $N(0,\\sigma^2)$, $\\tau_i$ are i.i.d. $N(0,\\sigma_{\\tau}^2)$, and $\\epsilon_i$ is independent with $\\tau_{i'}$ for any $i, i' \\{1,\\ldots,r\\}$. Here $\\tau_i = \\mu_i - \\mu_{\\cdot}$ and $\\sigma_{\\tau}=\\sigma_{\\mu}$. \n",
    "\n"
   ]
  },
  {
   "cell_type": "markdown",
   "metadata": {},
   "source": [
    "### 4.3.2 Sum of squares \n",
    "\n",
    "We can decompose the sum of squres as \n",
    "$$\n",
    "{\\rm SSTO} = \\sum_{i=1}^r \\sum_{j=1}^{n} \\big(Y_{ij}-\\bar{Y}_{\\cdot\\cdot}\\big)^2, \\ df=nr-1,\n",
    "$$\n",
    "$$\n",
    "{\\rm SSTR} =n_i \\sum_{j=1}^{n} \\big(\\bar{Y}_{i\\cdot}-\\bar{Y}_{\\cdot\\cdot})^2, \\ df=r-1, \\ {\\rm MSTR}=\\frac{ {\\rm SSTR}}{r-1}.\n",
    "$$\n",
    "$$\n",
    "{\\rm SSE} = \\sum_{i=1}^r \\sum_{j=1}^{n} \\big(Y_{ij}-\\bar{Y}_{i\\cdot}\\big)^2, \\ df=n(r-1), \\ {\\rm MSE}=\\frac{ {\\rm SSE}}{n(r-1)}.\n",
    "$$\n",
    "\n",
    "**Properties**\n",
    "1. $\\mathbb{E}\\big[\\bar{Y}_{\\cdot\\cdot}\\big]=\\mu_{\\cdot}$ .\n",
    "We can estimate the overall (population) mean $\\mu_{\\cdot}$ with $\\hat{\\mu}_{\\cdot}=\\bar{Y}_{\\cdot\\cdot}$.\n",
    "\n",
    "2. ${\\rm var}\\big(\\bar{Y}_{\\cdot\\cdot}\\big) = (n\\sigma_{\\mu}^2 + \\sigma^2)/(nr)$.\n",
    "We have $\\hat{ {\\rm var}}(\\bar{Y})= {\\rm MSTR}/(nr)$.\n",
    "\n",
    "3. $\\mathbb{E}[{\\rm MSE}]=\\sigma^2$.\n",
    "We can estimate $\\sigma^2$ with $s^2 = {\\rm MSE}$.\n",
    "4. $\\mathbb{E}[{\\rm MSTR}] = n\\sigma_{\\mu}^2 + \\sigma^2$.\n",
    "We can estimate $\\sigma_{\\mu}^2$ with $s_{\\mu}^2 = ({\\rm MSTR}-{\\rm MSE})/n$, \n",
    "\n",
    "\n",
    "\n",
    "\n",
    "\n",
    "**Best linear unbiased _predictor_ of $\\tau_i$**\n",
    "\n",
    "Consider a linear predictor of $\\tau_i$ of the form $H=d_1 \\bar{Y}_{1\\cdot} + \\cdots + d_r \\bar{Y}_{r\\cdot}$ s.t. $\\mathbb{E}[H-\\tau_i]=0$. \n",
    "Then, $\\mathbb{E}\\big[(H-\\tau_i)^2 \\big]$ is minimized when $d_i = w(1-1/r)$ and $d_{i'}=-w/r$ for $i'\\neq i$. The best predictor is of the form $w(\\bar{Y}_{i\\cdot}-\\bar{Y}_{\\cdot \\cdot})$ with $w= n \\sigma_{\\mu}^2 / (n\\sigma_{\\mu}^2 +\\sigma^2)$, and thus $\\hat{\\tau}_o=\\hat{w}(\\bar{Y}_{i\\cdot} -\\bar{Y}_{\\cdot\\cdot})$ with $\\hat{w}=n s_{\\mu}^2 /{\\rm MSTR}$. \n",
    "\n",
    "Remarks:\n",
    "1. $\\hat{w} \\in [0,1]$. \n",
    "2. ${\\rm SSE}=\\sum \\sum (Y_{ij}-\\bar{Y}_{i\\cdot})^2$ is free of $\\mu$ and $\\tau$'s.\n",
    "3. $H=\\sum \\sum c_{ij} Y_{ij}$. "
   ]
  },
  {
   "cell_type": "markdown",
   "metadata": {},
   "source": [
    "### 4.3.3 Inference with random effects\n",
    "\n",
    "From the factor effect form, we can see that the expectation of random effects can be absorbed in the overall mean. Hence, when random effects do not exist, it means that the variance $\\sigma_{\\mu}^2$ is zero. We have the following hypotheses \n",
    "$$\n",
    "H_0: \\sigma_{\\mu}^2 = 0 \\ {\\rm v.s.} \\ H_1: \\sigma_{\\mu}^2 \\neq 0.\n",
    "$$\n",
    "\n",
    "The test statistic remains the same as $F^*={\\rm MSTR}/{\\rm MSE}$, which follows an F-distribution with d.f. $(r-1,(n-1)r)$ under the null.\n",
    "\n",
    "\n",
    "Under the null hypothesis, the ratio $\\sigma_{\\mu}^2 / (\\sigma_{\\mu}^2 + \\sigma^2)$ equals zero. Otherwise, the ratio $\\sigma_{\\mu}^2 / (\\sigma_{\\mu}^2 + \\sigma^2)$ takes values in $(0,1]$. This ratio characterizes the amount of variability in the samples that can be explained by the random effects from the factor. We can estimate this ratio with $s_{\\mu}^2 / (s_{\\mu}^2+{\\rm MSE})$. \n",
    "\n",
    "However, the construction of its confidence interval is slightly more involved.  The confidence interval for this ratio is $(L/(L+1), U/(U+1))$, where \n",
    "$$\n",
    "L=\\frac{1}{n}\\left[\\frac{F^*}{F(1-\\alpha/2; r-1, (n-1)r)} -1 \\right], U=\\frac{1}{n}\\left[\\frac{F^*}{F(\\alpha/2; r-1, (n-1)r)} -1 \\right],\n",
    "$$\n",
    "and $F^*={\\rm MSTR}/{\\rm MSE}$. For $\\sigma_{\\mu}^2/\\sigma^2$, the confidence interval is $(L,U)$. \n",
    "\n",
    "In addition, we have the following confidence intervals. \n",
    "\n",
    "For $\\sigma^2$, the conferences interval is $(L,U)$ where \n",
    "$$\n",
    "L=\\frac{df {\\rm MSE}}{\\chi^2(1-\\alpha/2; df)}, U = \\frac{df {\\rm MSE}}{\\chi^2 (\\alpha/2;df)}.\n",
    "$$\n",
    "\n",
    "For $\\sigma_{\\mu}^2$, we can use the Scatterthwaite approximation to the distribution of $s_{\\mu}^2$. To this end, we view $\\sigma_{\\mu}^2$ as \n",
    "$$\n",
    "\\sigma_{\\mu}^2 = \\frac{1}{n}\\mathbb{E}[{\\rm MSTR}]-\\frac{1}{n}\\mathbb{E}[{\\rm MSE}]\\equiv c_1\\mathbb{E}[{\\rm MSTR}] +c_2 \\mathbb{E}[{\\rm MSE}].\n",
    "$$\n",
    "Let $T=c_1 \\mathbb{E}[{\\rm MS}_1]+ \\cdots + c_j \\mathbb{E}[{\\rm MS}_h]$, $\\hat{T}=c_1  {\\rm MS}_1+ \\cdots + c_j {\\rm MS}_h$, and \n",
    "$$\n",
    "df = \\frac{\\hat{T}^2}{(c_1 {\\rm MS}_1)^2/df_1 + \\cdots + (c_h {\\rm MS}_h)^2/df_h}.\n",
    "$$\n",
    "We have $(df) \\hat{T} / T \\approx \\chi^2_{df}$. We can construct the confidence interval accordingly. \n",
    "\n"
   ]
  },
  {
   "cell_type": "markdown",
   "metadata": {},
   "source": [
    "\n",
    "\n",
    "### 4.3.4 Two-way ANOVA with random effects \n",
    "\n",
    "\n",
    "Consider a two-way ANOVA model with balanced design and random effects, for $k=1,\\ldots, n, j=1,\\ldots, b, i=1,\\ldots, a,$\n",
    "$$\n",
    "Y_{ijk} = \\mu_{ij} +\\epsilon_{ijk}=\\mu_{\\cdot\\cdot} + \\alpha_i+\\beta_j + (\\alpha\\beta)_{ij}+\\epsilon_{ijk}, \\\n",
    "$$\n",
    "where (i) $\\alpha_i \\sim N(0,\\sigma_{\\alpha}^2)$, (ii) $\\beta_j \\sim N(0,\\sigma_{\\beta}^2)$, (iii) $ (\\alpha\\beta)_{ij} \\sim N(0,\\sigma^2_{\\alpha\\beta}) $, (iv)$\\{\\epsilon_{ijk}\\} \\sim N(0,\\sigma^2)$, and (v) all random variables are pairwise independent. \n",
    "\n",
    "In this model, we have the following results, similar to the case with one factor. \n",
    "1. $ \\mathbb{E}[Y_{ijk}]=\\mu_{\\cdot\\cdot}$. \n",
    "2. ${\\rm var}(Y_{ijk})=\\sigma_{\\alpha}^2+\\sigma_{\\beta}^2+\\sigma_{\\alpha\\beta}^2+\\sigma^2$. \n",
    "3. ${\\rm cov}(Y_{ijk},Y_{ijk'})=\\sigma_{\\alpha}^2+\\sigma_{\\beta}^2+\\sigma_{\\alpha\\beta}^2$ for $k\\neq k'$. \n",
    "4. ${\\rm cov}(Y_{ijk},Y_{ij'k'})=\\sigma_{\\alpha}^2$ for $j\\neq j'$.\n",
    "5. ${\\rm cov}(Y_{ijk},Y_{i'jk'})=\\sigma_{\\beta}^2$ for $i\\neq i'$.\n",
    "6. ${\\rm cov}(Y_{ijk},Y_{i'j'k'})=0$ when no indices are equal.\n",
    "\n",
    "**Estimation of the variance components.**\n",
    "We have \n",
    "${\\rm SSA}=nb \\sum \\hat{\\alpha}_i^2, {\\rm SSB}=na \\sum \\hat{\\beta}_j^2, {\\rm SSAB}= n \\sum \\sum \\hat{(\\alpha\\beta)}_{ij}^2$.\n",
    "We can see that \n",
    "$\\mathbb{E}[{\\rm MSAB}]- \\mathbb{E}[{\\rm MSE}]=n\\sigma^2_{\\alpha\\beta}, \\mathbb{E}[{\\rm MSA}]-\\mathbb{E}[{\\rm MSAB}]=nb \\sigma_{\\alpha}^2, \\mathbb{E}[{\\rm MSB}]-\\mathbb{E}[{\\rm MSAB}]=n a \\sigma_{\\beta}^2$. \n",
    "Hence, we can define unbiased estimators of the variance components based on the mean squares.  Furthermore, we have $\\mathbb{E}[\\bar{Y}]=\\mu$, ${\\rm var}(\\bar{Y})=(nb\\sigma_{\\alpha}^2+na\\sigma_{\\beta}^2+n\\sigma_{\\alpha\\beta}^2+\\sigma^2)/(nab)$. \n",
    "\n",
    "The analytic solutions for the unbalanced design are beyond the scope of this note. We can still fit the model in its regression form with the _restricted maximum likelihood. Theory, properties, and testing follow accordingly, see, e.g., [this note](http://www2.compute.dtu.dk/courses/02429/enotepdfs/eNote-10.pdf). "
   ]
  },
  {
   "cell_type": "markdown",
   "metadata": {},
   "source": [
    "### 4.3.5 Mixed effects\n",
    "\n",
    "When fixed effects and random effects are both present, our model takes the same form but there are a few more assumptions \n",
    "$$\n",
    "Y_{ijk} =  \\mu_{\\cdot\\cdot} + \\alpha_i+\\beta_j + (\\alpha\\beta)_{ij}+\\epsilon_{ijk}, \\ k=1,\\ldots, n, j=1,\\ldots, b, i=1,\\ldots, a,\n",
    "$$\n",
    "where (i) $\\sum \\alpha_i =0$, (ii) $\\beta_j$ are i.i.d. $N(0,\\sigma_{\\beta}^2)$, (iii) $\\sum_i  (\\alpha\\beta)_{ij} =0$ for any $j$, \n",
    "(iv) $ (\\alpha\\beta)_{ij} \\sim N(0,(1-1/a)\\sigma^2_{\\alpha\\beta}) $, (v) ${\\rm cov}( (\\alpha\\beta)_{ij},  (\\alpha\\beta)_{i'j})= -\\sigma^2_{\\alpha\\beta}/a$, (vi) ${\\rm cov}( (\\alpha\\beta)_{ij},  (\\alpha\\beta)_{i'j'})=0$,  if $i\\neq i'$ and $j\\neq j'$, (vii)$\\{\\epsilon_{ijk}\\}$ are i.i.d. $N(0,\\sigma^2)$, and (viii)  $\\{ \\beta_j\\}$, $\\{(\\alpha\\beta)_{ij}\\}$, $\\{\\epsilon_{ijk} \\}$ are pairwise independent. \n",
    "\n",
    "In this model, we have \n",
    "1. $ \\mathbb{E}[Y_{ijk}]=\\mu_{\\cdot\\cdot}+\\alpha_i$ \n",
    "2. ${\\rm var}(Y_{ijk})=\\sigma_{\\beta}^2+(1-1/a)\\sigma_{\\alpha\\beta}^2+\\sigma^2$. \n",
    "3. ${\\rm cov}(Y_{ijk},Y_{ijk'})=\\sigma_{\\beta}^2+(1-1/a)\\sigma_{\\alpha\\beta}^2$ for $k\\neq k'$. \n",
    "4. ${\\rm cov}(Y_{ijk},Y_{ij'k'})=0$ for $j\\neq j'$.\n",
    "5. ${\\rm cov}(Y_{ijk},Y_{i'jk'})=\\sigma_{\\beta}^2-1/a\\sigma_{\\alpha\\beta}^2$ for $i\\neq i'$.\n",
    "6. ${\\rm cov}(Y_{ijk},Y_{i'j'k'})=0$ when no indices are equal.\n",
    "\n",
    "We can see that \n",
    "$\\mathbb{E}[{\\rm MSAB}]- \\mathbb{E}[{\\rm MSE}]=n\\sigma^2_{\\alpha\\beta},  \\mathbb{E}[{\\rm MSB}]-\\mathbb{E}[{\\rm MSAB}]=n a \\sigma_{\\beta}^2$. We can define unbiased estimators of the variance components based on the mean squares. \n",
    "\n",
    "We have \n",
    "$\\hat{H}= \\sum c_i \\bar{Y}_{i\\cdot \\cdot}$, ${\\rm var}(\\hat{H}) = \\sum c_i^2(n\\sigma_{\\alpha\\beta}^2+\\sigma^2)/(nb)$, and $s^2(\\hat{H})=\\sum c_i^2 {\\rm MSAB}/(nb)$. "
   ]
  },
  {
   "cell_type": "markdown",
   "metadata": {},
   "source": [
    "### 4.3.6 Example: rat growth data\n",
    "\n",
    "We consider the rat growth data. Each rat is measured over 5 weeks. This type of data set is called longitudinal since the observations are taken over time. There is a covariate \"mother's weight\" (X). We consider several models to fit them in `R`.  For more on the syntax of `lmer` see the vignette [here](https://cran.r-project.org/web/packages/lme4/vignettes/lmer.pdf).\n",
    "\n"
   ]
  },
  {
   "cell_type": "code",
   "execution_count": 2,
   "metadata": {},
   "outputs": [
    {
     "data": {
      "image/png": "[encoded data removed]",
      "text/plain": [
       "Plot with title \"Raw growth data\""
      ]
     },
     "metadata": {
      "image/png": {
       "height": 420,
       "width": 420
      }
     },
     "output_type": "display_data"
    }
   ],
   "source": [
    "\n",
    "Rat.growth <- read.csv(file=\"../Data/Growth.csv\", header=TRUE, sep=\",\")\n",
    "\n",
    "colorpicks = rainbow(n=length(unique(Rat.growth$rat)));\n",
    "with(Rat.growth, plot(y=weight, x=week,type='p', pch=16, bty='l',  main='Raw growth data', xlab='Week', ylab='Weight',col=colorpicks[rat]))\n",
    "for(i in 1:length(unique(Rat.growth$rat))){\n",
    "  one.rat=Rat.growth[Rat.growth$rat==i,]\n",
    "  with(one.rat, lines(weight, week,col=colorpicks[rat])）\n",
    "}\n",
    "# For more thoughts on visualization, see http://www.colbyimaging.com/wiki/statistics/longitudinal-data\n",
    "legend('bottomright', col=colorpicks, pch=c(16), legend=paste('Rat', unique(Rat.growth$rat)))\n",
    " "
   ]
  },
  {
   "cell_type": "code",
   "execution_count": 5,
   "metadata": {},
   "outputs": [
    {
     "name": "stderr",
     "output_type": "stream",
     "text": [
      "Warning message in checkConv(attr(opt, \"derivs\"), opt$par, ctrl = control$checkConv, :\n",
      "\"unable to evaluate scaled gradient\"\n",
      "Warning message in checkConv(attr(opt, \"derivs\"), opt$par, ctrl = control$checkConv, :\n",
      "\"Model failed to converge: degenerate  Hessian with 1 negative eigenvalues\"\n"
     ]
    },
    {
     "data": {
      "text/html": [
       "<table>\n",
       "<caption>A data.frame: 3 × 2</caption>\n",
       "<thead>\n",
       "\t<tr><th></th><th scope=col>df</th><th scope=col>AIC</th></tr>\n",
       "\t<tr><th></th><th scope=col>&lt;dbl&gt;</th><th scope=col>&lt;dbl&gt;</th></tr>\n",
       "</thead>\n",
       "<tbody>\n",
       "\t<tr><th scope=row>lm1</th><td>7</td><td>379.5793</td></tr>\n",
       "\t<tr><th scope=row>lm2</th><td>5</td><td>390.3823</td></tr>\n",
       "\t<tr><th scope=row>lm3</th><td>8</td><td>373.3366</td></tr>\n",
       "</tbody>\n",
       "</table>\n"
      ],
      "text/latex": [
       "A data.frame: 3 × 2\n",
       "\\begin{tabular}{r|ll}\n",
       "  & df & AIC\\\\\n",
       "  & <dbl> & <dbl>\\\\\n",
       "\\hline\n",
       "\tlm1 & 7 & 379.5793\\\\\n",
       "\tlm2 & 5 & 390.3823\\\\\n",
       "\tlm3 & 8 & 373.3366\\\\\n",
       "\\end{tabular}\n"
      ],
      "text/markdown": [
       "\n",
       "A data.frame: 3 × 2\n",
       "\n",
       "| <!--/--> | df &lt;dbl&gt; | AIC &lt;dbl&gt; |\n",
       "|---|---|---|\n",
       "| lm1 | 7 | 379.5793 |\n",
       "| lm2 | 5 | 390.3823 |\n",
       "| lm3 | 8 | 373.3366 |\n",
       "\n"
      ],
      "text/plain": [
       "    df AIC     \n",
       "lm1 7  379.5793\n",
       "lm2 5  390.3823\n",
       "lm3 8  373.3366"
      ]
     },
     "metadata": {},
     "output_type": "display_data"
    },
    {
     "data": {
      "text/html": [
       "<table>\n",
       "<caption>A data.frame: 6 × 2</caption>\n",
       "<thead>\n",
       "\t<tr><th></th><th scope=col>df</th><th scope=col>BIC</th></tr>\n",
       "\t<tr><th></th><th scope=col>&lt;dbl&gt;</th><th scope=col>&lt;dbl&gt;</th></tr>\n",
       "</thead>\n",
       "<tbody>\n",
       "\t<tr><th scope=row>lm1</th><td>7</td><td>392.9635</td></tr>\n",
       "\t<tr><th scope=row>lm2</th><td>5</td><td>399.9424</td></tr>\n",
       "\t<tr><th scope=row>lm3</th><td>8</td><td>388.6328</td></tr>\n",
       "\t<tr><th scope=row>lm4</th><td>6</td><td>403.8459</td></tr>\n",
       "\t<tr><th scope=row>lm5</th><td>6</td><td>400.9624</td></tr>\n",
       "\t<tr><th scope=row>lm6</th><td>8</td><td>408.7746</td></tr>\n",
       "</tbody>\n",
       "</table>\n"
      ],
      "text/latex": [
       "A data.frame: 6 × 2\n",
       "\\begin{tabular}{r|ll}\n",
       "  & df & BIC\\\\\n",
       "  & <dbl> & <dbl>\\\\\n",
       "\\hline\n",
       "\tlm1 & 7 & 392.9635\\\\\n",
       "\tlm2 & 5 & 399.9424\\\\\n",
       "\tlm3 & 8 & 388.6328\\\\\n",
       "\tlm4 & 6 & 403.8459\\\\\n",
       "\tlm5 & 6 & 400.9624\\\\\n",
       "\tlm6 & 8 & 408.7746\\\\\n",
       "\\end{tabular}\n"
      ],
      "text/markdown": [
       "\n",
       "A data.frame: 6 × 2\n",
       "\n",
       "| <!--/--> | df &lt;dbl&gt; | BIC &lt;dbl&gt; |\n",
       "|---|---|---|\n",
       "| lm1 | 7 | 392.9635 |\n",
       "| lm2 | 5 | 399.9424 |\n",
       "| lm3 | 8 | 388.6328 |\n",
       "| lm4 | 6 | 403.8459 |\n",
       "| lm5 | 6 | 400.9624 |\n",
       "| lm6 | 8 | 408.7746 |\n",
       "\n"
      ],
      "text/plain": [
       "    df BIC     \n",
       "lm1 7  392.9635\n",
       "lm2 5  399.9424\n",
       "lm3 8  388.6328\n",
       "lm4 6  403.8459\n",
       "lm5 6  400.9624\n",
       "lm6 8  408.7746"
      ]
     },
     "metadata": {},
     "output_type": "display_data"
    }
   ],
   "source": [
    "\n",
    "library(lme4)\n",
    "lm1=lmer(weight~as.factor(week)+(1|rat),data=Rat.growth)\n",
    "lm2=lmer(weight~week+X+(1|rat),data=Rat.growth)\n",
    "lm3=lmer(weight~as.factor(week)+X+(1|rat),data=Rat.growth)\n",
    "lm4=lmer(weight~week+X+(1|rat)+(0+week|rat),data=Rat.growth)\n",
    "lm5=lmer(weight~week+I(week^2)+X+(1|rat),data=Rat.growth)\n",
    "lm6=lmer(weight~week+I(week^2)+X+(1|rat)+(0+week|rat)+(0+week^2|rat),data=Rat.growth)\n",
    " \n",
    "# For model selection, we can use AIC, BIC \n",
    "AIC(lm1,lm2,lm3)\n",
    "\n",
    "BIC(lm1,lm2,lm3,lm4,lm5,lm6)\n",
    " \n"
   ]
  }
 ],
 "metadata": {
  "author": "mes ",
  "kernelspec": {
   "display_name": "R",
   "language": "R",
   "name": "ir"
  },
  "language_info": {
   "codemirror_mode": "r",
   "file_extension": ".r",
   "mimetype": "text/x-r-source",
   "name": "R",
   "pygments_lexer": "r",
   "version": "4.0.3"
  },
  "latex_envs": {
   "LaTeX_envs_menu_present": true,
   "autoclose": false,
   "autocomplete": true,
   "bibliofile": "biblio.bib",
   "cite_by": "apalike",
   "current_citInitial": 1,
   "eqLabelWithNumbers": true,
   "eqNumInitial": 1,
   "hotkeys": {
    "equation": "Ctrl-E",
    "itemize": "Ctrl-I"
   },
   "labels_anchors": false,
   "latex_user_defs": false,
   "report_style_numbering": false,
   "user_envs_cfg": false
  }
 },
 "nbformat": 4,
 "nbformat_minor": 2
}
