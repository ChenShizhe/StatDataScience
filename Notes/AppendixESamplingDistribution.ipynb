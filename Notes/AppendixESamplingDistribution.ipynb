{
 "cells": [
  {
   "cell_type": "markdown",
   "metadata": {},
   "source": [
    "# Appendix E Sampling Distribution "
   ]
  },
  {
   "cell_type": "markdown",
   "metadata": {},
   "source": [
    "## E.1 Sampling from the true population\n",
    "\n",
    "Most properties in statistics describe the behaviour of a procedure under repeated sampling from the true population. The problem is, in the real world, the true population is unknown. In a synthetic environment (e.g., simulation in Appendix D), we do know the true population as well as the sampling scheme. "
   ]
  },
  {
   "cell_type": "code",
   "execution_count": 3,
   "metadata": {},
   "outputs": [
    {
     "data": {
      "image/png": "[encoded data removed]",
      "text/plain": [
       "plot without title"
      ]
     },
     "metadata": {
      "image/png": {
       "height": 420,
       "width": 420
      }
     },
     "output_type": "display_data"
    }
   ],
   "source": [
    "### To match our setup, we will generate the covarates and keep them fixed in the remainder of the simulation. \n",
    "set.seed(1)\n",
    "n=50;\n",
    "x=as.matrix(rnorm(n,mean=10,sd=2),ncol=n);\n",
    "beta.true=c(20,0.15)\n",
    "Ey= x*beta.true[2]+beta.true[1];\n",
    "\n",
    "error.terms= (runif(n)-0.5)*5;\n",
    "y=Ey+error.terms;\n",
    "beta.hat=lm(y~x)$coef;\n",
    "\n",
    "\n",
    "plot(x=x,y=y,pch=16,cex=2)\n",
    "abline(b=beta.hat[2],a=beta.hat[1],col='red',lwd=2)"
   ]
  },
  {
   "cell_type": "code",
   "execution_count": 4,
   "metadata": {},
   "outputs": [],
   "source": [
    "### Write a function:\n",
    "simulate.one.instance<-function(x,beta.true){\n",
    "  n=length(x);\n",
    "  Ey= x*beta.true[2]+beta.true[1];\n",
    "  error.terms= (runif(n)-0.5)*5;\n",
    "  y=Ey+error.terms;\n",
    "  beta.hat=lm(y~x)$coef;\n",
    "  return(beta.hat)\n",
    "}\n"
   ]
  },
  {
   "cell_type": "code",
   "execution_count": 5,
   "metadata": {},
   "outputs": [],
   "source": [
    "### Set the number of replicates to be 10000\n",
    "N.sim=1e4;\n",
    "set.seed(1)\n",
    "n=50;\n",
    "x=as.matrix(rnorm(n,mean=10,sd=2),ncol=n);\n",
    "beta.true=c(20,0.15)\n",
    "beta.sim=replicate(N.sim,simulate.one.instance(x,beta.true));"
   ]
  },
  {
   "cell_type": "code",
   "execution_count": 9,
   "metadata": {},
   "outputs": [
    {
     "data": {
      "image/png": "[encoded data removed]",
      "text/plain": [
       "Plot with title \"\""
      ]
     },
     "metadata": {
      "image/png": {
       "height": 420,
       "width": 420
      }
     },
     "output_type": "display_data"
    }
   ],
   "source": [
    "# Draw the histogram for the estimated intercept \n",
    "hist(beta.sim[1,],xlab='Fitted intercept',main='')\n",
    "abline(v=beta.true[1],lwd=3,col='red')"
   ]
  },
  {
   "cell_type": "code",
   "execution_count": 11,
   "metadata": {},
   "outputs": [
    {
     "data": {
      "text/html": [
       "-0.0205767779027077"
      ],
      "text/latex": [
       "-0.0205767779027077"
      ],
      "text/markdown": [
       "-0.0205767779027077"
      ],
      "text/plain": [
       "[1] -0.02057678"
      ]
     },
     "metadata": {},
     "output_type": "display_data"
    },
    {
     "data": {
      "text/html": [
       "0.00187424303119896"
      ],
      "text/latex": [
       "0.00187424303119896"
      ],
      "text/markdown": [
       "0.00187424303119896"
      ],
      "text/plain": [
       "[1] 0.001874243"
      ]
     },
     "metadata": {},
     "output_type": "display_data"
    },
    {
     "data": {
      "text/html": [
       "0.0153776153004157"
      ],
      "text/latex": [
       "0.0153776153004157"
      ],
      "text/markdown": [
       "0.0153776153004157"
      ],
      "text/plain": [
       "[1] 0.01537762"
      ]
     },
     "metadata": {},
     "output_type": "display_data"
    },
    {
     "data": {
      "text/html": [
       "0.0156214500568736"
      ],
      "text/latex": [
       "0.0156214500568736"
      ],
      "text/markdown": [
       "0.0156214500568736"
      ],
      "text/plain": [
       "[1] 0.01562145"
      ]
     },
     "metadata": {},
     "output_type": "display_data"
    },
    {
     "data": {
      "text/html": [
       "1.64183502873519"
      ],
      "text/latex": [
       "1.64183502873519"
      ],
      "text/markdown": [
       "1.64183502873519"
      ],
      "text/plain": [
       "[1] 1.641835"
      ]
     },
     "metadata": {},
     "output_type": "display_data"
    },
    {
     "data": {
      "text/html": [
       "1.66942762352589"
      ],
      "text/latex": [
       "1.66942762352589"
      ],
      "text/markdown": [
       "1.66942762352589"
      ],
      "text/plain": [
       "[1] 1.669428"
      ]
     },
     "metadata": {},
     "output_type": "display_data"
    }
   ],
   "source": [
    "## Using the simulation results, we can verify a few results from linear regression:\n",
    "\n",
    "### Expectation \n",
    "mean(beta.sim[1,])-beta.true[1] # intercept \n",
    "mean(beta.sim[2,])-beta.true[2] # slope \n",
    "\n",
    "### Variance \n",
    "sigma.sq = 5^2/12; # variance of the error: (runif(n)-0.5)*5;\n",
    "\n",
    "# slope:\n",
    "sigma.sq/sum(  (x-mean(x))^2  ) # theoretical value \n",
    "var(beta.sim[2,]) # variance from the simulation \n",
    "\n",
    "\n",
    "# intercept:\n",
    "sigma.sq*sum(x^2)/sum(  (x-mean(x))^2  )/n # theoretical value \n",
    "var(beta.sim[1,]) # variance from the simulation "
   ]
  },
  {
   "cell_type": "markdown",
   "metadata": {},
   "source": [
    "## E.2 Sampling from observed samples\n",
    "\n",
    "In most case, the true population or true data generating mechanisms are unknown. As a work-around, we can make full use of the observed samples to *approximate* the true population. This approximation is *exact* only when the samples exhaust the true population (e.g., a mandatory survey in a class). In most cases, it remains an approximation.\n"
   ]
  },
  {
   "cell_type": "markdown",
   "metadata": {},
   "source": [
    "### E.2.1 Bootstrap \n",
    "\n",
    "There are two factors that affect the sampling distribution for any estimator: (i) the true population and (ii) the sampling scheme. Boostrap is based on a simple idea of treating the observed samples as the true population. In bootstrap, (i) the observed samples are seen as the true population, and (ii) a sampling scheme is chosen to micmic the true mechanism. To be specific, if the samples are i.i.d. (independently and identically distributed), the bootstrap procedure will draw samples with replacement with equal probability from the observed samples, where \"with replacement\" is because of independence and \"equal probability\" if because of identical distribution. The bootstrap sampling distribution approximates the true sampling distribution when the sample size is large. \n",
    "\n",
    "There are many variants of bootstrap (see, e.g., [here](https://en.wikipedia.org/wiki/Bootstrapping_populations)). We will examine the nonparametric bootstrap in this section. \n",
    "\n",
    "We will revist the confidence interval in Appendix D.3. This time we write our own bootstrap function to construct the confidence interval. It is important to note the similarity between the `simulate.one.instance` function in Appendix D.3 and the `boot.fit` function below. \n",
    "\n",
    "In practice, we use the `boot` function in the package `boot` for bootstrapping. \n"
   ]
  },
  {
   "cell_type": "code",
   "execution_count": 3,
   "metadata": {},
   "outputs": [],
   "source": [
    "set.seed(1)\n",
    "n=50;\n",
    "x=as.matrix(rnorm(n,mean=10,sd=2),ncol=n);\n",
    "beta.true=c(20,0.15)\n",
    "Ey= x*beta.true[2]+beta.true[1];\n",
    "error.terms= rnorm(n)*5;\n",
    "y=Ey+error.terms;\n",
    "\n",
    "alpha=0.05"
   ]
  },
  {
   "cell_type": "code",
   "execution_count": 4,
   "metadata": {},
   "outputs": [],
   "source": [
    "# How does the bootstrap function differ from the simulation function?\n",
    "# \n",
    "boot.fit<-function(covariate,outcome){\n",
    "  n=length(outcome);\n",
    "  sample_indices = sample(1:n,n,replace=TRUE) # sampling with replacement\n",
    "  # Sample covariates (x), or not?\n",
    "  covariate.boot= covariate[sample_indices]; \n",
    "  outcome.boot= outcome[sample_indices];\n",
    "   \n",
    "  \n",
    "  beta.hat=lm(outcome.boot~covariate.boot)$coef;\n",
    "  return(beta.hat)\n",
    "}\n",
    "B=1e4;\n",
    "beta.hat.boot=replicate(B,boot.fit(covariate=x,outcome=y));\n"
   ]
  },
  {
   "cell_type": "code",
   "execution_count": 5,
   "metadata": {
    "scrolled": true
   },
   "outputs": [
    {
     "data": {
      "text/html": [
       "<table>\n",
       "<caption>A matrix: 2 × 2 of type dbl</caption>\n",
       "<thead>\n",
       "\t<tr><th></th><th scope=col>2.5%</th><th scope=col>97.5%</th></tr>\n",
       "</thead>\n",
       "<tbody>\n",
       "\t<tr><th scope=row>(Intercept)</th><td>13.7991429</td><td>31.0152995</td></tr>\n",
       "\t<tr><th scope=row>covariate.boot</th><td>-0.8703025</td><td> 0.8336293</td></tr>\n",
       "</tbody>\n",
       "</table>\n"
      ],
      "text/latex": [
       "A matrix: 2 × 2 of type dbl\n",
       "\\begin{tabular}{r|ll}\n",
       "  & 2.5\\% & 97.5\\%\\\\\n",
       "\\hline\n",
       "\t(Intercept) & 13.7991429 & 31.0152995\\\\\n",
       "\tcovariate.boot & -0.8703025 &  0.8336293\\\\\n",
       "\\end{tabular}\n"
      ],
      "text/markdown": [
       "\n",
       "A matrix: 2 × 2 of type dbl\n",
       "\n",
       "| <!--/--> | 2.5% | 97.5% |\n",
       "|---|---|---|\n",
       "| (Intercept) | 13.7991429 | 31.0152995 |\n",
       "| covariate.boot | -0.8703025 |  0.8336293 |\n",
       "\n"
      ],
      "text/plain": [
       "               2.5%       97.5%     \n",
       "(Intercept)    13.7991429 31.0152995\n",
       "covariate.boot -0.8703025  0.8336293"
      ]
     },
     "metadata": {},
     "output_type": "display_data"
    }
   ],
   "source": [
    "t(apply(beta.hat.boot,1,quantile,probs=c(0.025,0.975)))"
   ]
  },
  {
   "cell_type": "code",
   "execution_count": 4,
   "metadata": {},
   "outputs": [
    {
     "data": {
      "text/html": [
       "<table>\n",
       "<caption>A matrix: 2 × 2 of type dbl</caption>\n",
       "<thead>\n",
       "\t<tr><th></th><th scope=col>2.5 %</th><th scope=col>97.5 %</th></tr>\n",
       "</thead>\n",
       "<tbody>\n",
       "\t<tr><th scope=row>(Intercept)</th><td>13.0188972</td><td>30.4775452</td></tr>\n",
       "\t<tr><th scope=row>x</th><td>-0.8086838</td><td> 0.8809413</td></tr>\n",
       "</tbody>\n",
       "</table>\n"
      ],
      "text/latex": [
       "A matrix: 2 × 2 of type dbl\n",
       "\\begin{tabular}{r|ll}\n",
       "  & 2.5 \\% & 97.5 \\%\\\\\n",
       "\\hline\n",
       "\t(Intercept) & 13.0188972 & 30.4775452\\\\\n",
       "\tx & -0.8086838 &  0.8809413\\\\\n",
       "\\end{tabular}\n"
      ],
      "text/markdown": [
       "\n",
       "A matrix: 2 × 2 of type dbl\n",
       "\n",
       "| <!--/--> | 2.5 % | 97.5 % |\n",
       "|---|---|---|\n",
       "| (Intercept) | 13.0188972 | 30.4775452 |\n",
       "| x | -0.8086838 |  0.8809413 |\n",
       "\n"
      ],
      "text/plain": [
       "            2.5 %      97.5 %    \n",
       "(Intercept) 13.0188972 30.4775452\n",
       "x           -0.8086838  0.8809413"
      ]
     },
     "metadata": {},
     "output_type": "display_data"
    }
   ],
   "source": [
    "confint(lm(y~x+1),alpha=0.05)"
   ]
  },
  {
   "cell_type": "markdown",
   "metadata": {},
   "source": [
    "### E.2.2 Permutation \n",
    "\n",
    "In hypothesis testing, the test statistic is compared to the *null distribution*, that is the *sampling distribution under the null hypothesis*. Sometimes the null hypothesis is specific enough that we can approximate the true distribution using the observed samples. "
   ]
  },
  {
   "cell_type": "markdown",
   "metadata": {},
   "source": [
    "Suppose that we observe $n$ i.i.d. samples $\\{ (x_1,y_1), (x_2,y_2), \\ldots, (x_n,y_n)\\}$ from an unknown true population. For instance, we can imagine that $x$ is the face of a coin (Head, Tail) and $y$ is the age of the tosser. We are interested in the following hypothesis\n",
    "$$\n",
    "H_0: \\mathbb{E}[y \\mid x ={\\rm Tail}] = \\mathbb{E}[y \\mid x ={\\rm Head}]\n",
    "$$\n",
    "$$\n",
    "H_1: \\mathbb{E}[y \\mid x ={\\rm Tail}] \\neq  \\mathbb{E}[y \\mid x = {\\rm Head}].\n",
    "$$\n",
    "Under the null, we know that the expectation of $y$ remains the same regardless of the value of $x$. This means that the the expectation of $y$ should remain the same if we shuffle $x$, e.g., by creating a new data set as \n",
    "$$\n",
    "\\{ (x_6,y_1), (x_{17},y_2), \\ldots, (x_3,y_n)\\},\n",
    "$$\n",
    "where the indices of $x$s are *permuted*. From the permuted data set, we can estimate the mean difference between two groups defined by the new $x$.  "
   ]
  },
  {
   "cell_type": "code",
   "execution_count": 1,
   "metadata": {},
   "outputs": [],
   "source": [
    "set.seed(1)\n",
    "n=50;\n",
    "x=rbinom(n=50,size=1,prob=0.5)\n",
    "mu.diff=0; \n",
    "error.terms= rnorm(n)*2; # Normal errors\n",
    "y=x*mu.diff+error.terms;\n",
    "\n",
    "diff=mean(y[x==1])-mean(y[x==0])"
   ]
  },
  {
   "cell_type": "code",
   "execution_count": 3,
   "metadata": {},
   "outputs": [
    {
     "data": {
      "text/html": [
       "-0.269994486002787"
      ],
      "text/latex": [
       "-0.269994486002787"
      ],
      "text/markdown": [
       "-0.269994486002787"
      ],
      "text/plain": [
       "[1] -0.2699945"
      ]
     },
     "metadata": {},
     "output_type": "display_data"
    }
   ],
   "source": [
    "x.perm=sample(x,size=length(x),replace=FALSE);\n",
    "(mean.diff=mean(y[x.perm==1])-mean(y[x.perm==0]))\n"
   ]
  },
  {
   "cell_type": "code",
   "execution_count": 4,
   "metadata": {},
   "outputs": [],
   "source": [
    "## Permutation + mean diff\n",
    "permutation.diff<-function(x,y){\n",
    "  n=length(y);\n",
    "  x.perm=sample(x,size=length(x),replace=FALSE);\n",
    "  mean.diff=mean(y[x.perm==1])-mean(y[x.perm==0])\n",
    "  return(mean.diff)\n",
    "}"
   ]
  },
  {
   "cell_type": "code",
   "execution_count": 5,
   "metadata": {},
   "outputs": [],
   "source": [
    "set.seed(1)\n",
    "n=50;\n",
    "x=rbinom(n=50,size=1,prob=0.5)\n",
    "mu.diff=0; \n",
    "error.terms= rnorm(n)*2; # Normal errors\n",
    "y=x*mu.diff+error.terms;\n",
    "\n",
    "diff=mean(y[x==1])-mean(y[x==0])\n",
    "\n",
    "\n",
    "mean.diff.perm=replicate(1e5,permutation.diff(x,y));"
   ]
  },
  {
   "cell_type": "code",
   "execution_count": 21,
   "metadata": {},
   "outputs": [
    {
     "data": {
      "image/png": "[encoded data removed]",
      "text/plain": [
       "Plot with title \"Histogram of mean.diff.perm\""
      ]
     },
     "metadata": {
      "image/png": {
       "height": 420,
       "width": 420
      }
     },
     "output_type": "display_data"
    }
   ],
   "source": [
    "hist(mean.diff.perm)"
   ]
  },
  {
   "cell_type": "code",
   "execution_count": 5,
   "metadata": {},
   "outputs": [
    {
     "data": {
      "text/html": [
       "0.30245"
      ],
      "text/latex": [
       "0.30245"
      ],
      "text/markdown": [
       "0.30245"
      ],
      "text/plain": [
       "[1] 0.30245"
      ]
     },
     "metadata": {},
     "output_type": "display_data"
    }
   ],
   "source": [
    "mean(abs(diff) > abs(mean.diff.perm))"
   ]
  }
 ],
 "metadata": {
  "kernelspec": {
   "display_name": "R",
   "language": "R",
   "name": "ir"
  },
  "language_info": {
   "codemirror_mode": "r",
   "file_extension": ".r",
   "mimetype": "text/x-r-source",
   "name": "R",
   "pygments_lexer": "r",
   "version": "4.1.0"
  },
  "latex_envs": {
   "LaTeX_envs_menu_present": true,
   "autoclose": false,
   "autocomplete": true,
   "bibliofile": "biblio.bib",
   "cite_by": "apalike",
   "current_citInitial": 1,
   "eqLabelWithNumbers": true,
   "eqNumInitial": 1,
   "hotkeys": {
    "equation": "Ctrl-E",
    "itemize": "Ctrl-I"
   },
   "labels_anchors": false,
   "latex_user_defs": false,
   "report_style_numbering": false,
   "user_envs_cfg": false
  }
 },
 "nbformat": 4,
 "nbformat_minor": 2
}
