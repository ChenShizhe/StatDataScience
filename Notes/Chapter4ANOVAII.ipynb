{
 "cells": [
  {
   "cell_type": "markdown",
   "metadata": {},
   "source": [
    "# Chapter 4 Analysis of Variance\n",
    "     "
   ]
  },
  {
   "cell_type": "markdown",
   "metadata": {},
   "source": [
    "## 4.2 Two-way ANOVA"
   ]
  },
  {
   "cell_type": "markdown",
   "metadata": {},
   "source": [
    "### 4.2.1 Motivating example and model\n",
    "\n",
    "Consider the Hey Fever dataset. Nine compounds for Hay Fever Relief are made by varying levels of two basic ingredients. Ingredient 1 (denoted factor A) has $a = 3$ levels: low $(i = 1)$, medium $(i = 2)$ and high $(i = 3)$. And Ingredient 2 (factor B) has $b = 3$ levels: low $(j = 1)$,\n",
    "medium $(j = 2)$ and high $(j = 3)$. A total of 36 subjects suffering from hay fever are selected and each of the 9 compounds are given to randomly selected $n = 4$ individuals.\n",
    "\n",
    "\n",
    "The cell means model for a *balanced* two-way ANOVA takes the following form \n",
    "$$\n",
    "Y_{ijk} = \\mu_{ij} +\\epsilon_{ijk}, \\ k=1,\\ldots, n, j=1,\\ldots, b, i=1,\\ldots, a,\n",
    "$$\n",
    "where $\\{\\epsilon_{ijk}\\}$ are i.i.d. $N(0,\\sigma^2)$. There are $ab$ unknown means and one unknown $\\sigma$ in the cell means model. \n",
    "\n",
    "In practice, we often prefer the fhe factor effect form \n",
    "$$\n",
    "Y_{ijk} = \\mu_{\\cdot\\cdot} + \\alpha_i+\\beta_j + (\\alpha\\beta)_{ij}+\\epsilon_{ijk}, \\ k=1,\\ldots, n, j=1,\\ldots, b, i=1,\\ldots, a,\n",
    "$$\n",
    "where $\\{\\epsilon_{ijk}\\}$ are i.i.d. $N(0,\\sigma^2)$. A quick count shows that there are $a$ $\\alpha$s, $b$ $\\beta$s, $ab$ interaction terms, one $\\mu$ and one $\\sigma$ in the factor effect form, which amount to $ab+a+b+2$ parameters. Indeed, the parameters in the factor effect form are no longer \"free\" as in the cell means model. A set of constraints are in placed is in place with the factor effect form, which will be discussed in Section 4.2.2. \n",
    "\n",
    "\n",
    "**Remark:** Note that $(\\alpha\\beta)_{ij}$ is a new parameter standing for the interaction effect, but **not** the product of $\\alpha_i$ and $\\beta_j$. We can replace it with $\\gamma_{ij}$ to avoid confusion. However, the advantage of using  $(\\alpha\\beta)_{ij}$ is self-explanatory; that is the expression  $(\\alpha\\beta)_{ij}$ shows that it is an effect jointly controlled by factor A and factor B. \n"
   ]
  },
  {
   "cell_type": "code",
   "execution_count": 1,
   "metadata": {},
   "outputs": [
    {
     "data": {
      "image/png": "[encoded data removed]",
      "text/plain": [
       "plot without title"
      ]
     },
     "metadata": {
      "image/png": {
       "height": 420,
       "width": 420
      }
     },
     "output_type": "display_data"
    }
   ],
   "source": [
    "Hay <- read.csv(file=\"../Data/HayFever.csv\", header=TRUE, sep=\",\")\n",
    "\n",
    "# Use a slightly different visualization:\n",
    "pairs(Hay,pch=16,col='red',cex=1.5)"
   ]
  },
  {
   "cell_type": "markdown",
   "metadata": {},
   "source": [
    "\n",
    "### 4.2.2 Constraints on parameters\n",
    "\n",
    "In the two-way model, the mapping between the cell means form and the factor effects form is slightly more complicated that that in the one-way case. We consider the balanced design here for simplicity. \n",
    "\n",
    "The cell means $\\{\\mu_{ij}: i =1,\\ldots, a, j=1,\\ldots, b\\}$ are naturally defined as the population mean (or expectation) within each cell determined by one unique combination of two factors. We proceed to define the factor effects using the cell means. \n",
    "\n",
    "We first look at the over mean $\\mu_{\\cdot \\cdot}$  \n",
    "$$\n",
    "\\mu_{\\cdot \\cdot} =\\sum_{i=1}^a \\sum_{j=1}^ b \\mu_{ij}/(ab), \\ \\mu_{i\\cdot} = \\sum_{j=1}^b \\mu_{ij} /b, \\ \\mu_{\\cdot j}=\\sum_{i=1}^a \\mu_{ij}/a.\n",
    "$$\n",
    "We can then define the factor effects as \n",
    "$$\n",
    "\\alpha_i=\\mu_{i\\cdot} - \\mu_{\\cdot \\cdot},\\ \\beta_j=\\mu_{\\cdot j}-\\mu_{\\cdot\\cdot},\\ (\\alpha\\beta)_{ij} =\\mu_{ij}-\\mu_{i\\cdot}-\\mu_{\\cdot j}+\\mu_{\\cdot\\cdot}. \n",
    "$$\n",
    "From these definitions, we can show that there are  natural constraints on these effects \n",
    "\\begin{align}\n",
    "\\sum_{i=1}^a \\alpha_i & = \\sum_{j=1}^b \\beta_j=0\\\\\n",
    "\\sum_{i=1}^a (\\alpha\\beta)_{ij} & =\\sum_{j=1}^b (\\alpha\\beta)_{ij} =0\n",
    "\\end{align}\n",
    "\n",
    "We can now write down the factor effects form with constraints \n",
    "$$\n",
    "Y_{ijk} = \\mu_{\\cdot\\cdot} + \\alpha_i+\\beta_j + (\\alpha\\beta)_{ij}+\\epsilon_{ijk}, \\ k=1,\\ldots, n, j=1,\\ldots, b, i=1,\\ldots, a,\n",
    "$$\n",
    "where $\\{\\epsilon_{ijk}\\}$ are i.i.d. $N(0,\\sigma^2)$ and \n",
    "\\begin{align}\n",
    "\\sum_i \\alpha_i & = \\sum_j \\beta_j=0\\\\\n",
    "\\sum_{i=1}^a (\\alpha\\beta)_{ij} & =\\sum_{j=1}^b (\\alpha\\beta)_{ij} =0, \\ \\forall i,j\n",
    "\\end{align}\n",
    "\n",
    "Very often you may see an additive model $Y_{ijk} = \\mu_{\\cdot\\cdot} + \\alpha_i+\\beta_j + \\epsilon_{ijk}$, where the interactions $\\{(\\alpha\\beta)_{ij}\\}$ are dropped. Dropping the interaction terms reduces the number of unknown parameters to estimate, which improves efficiency if the reduced model does not fall too far away from the truth. However, a reduced model places additional assumptions which may not be true in the real world. In practice, we need to carefully decide the form of model based on, but not limited to, background, questions of interest, prior knowledge, exploratory analysis, etc. "
   ]
  },
  {
   "cell_type": "markdown",
   "metadata": {},
   "source": [
    "\n",
    "### 4.2.3 Estimation\n",
    "\n",
    "We can estimate the cell means as before \n",
    "$\\hat{\\mu}_{ij}=\\bar{Y}_{ij\\cdot}, \\hat{\\mu}_{\\cdot\\cdot}=\\bar{Y}_{\\cdot\\cdot\\cdot}, \\hat{\\mu}_{i\\cdot} =\\bar{Y}_{i\\cdot\\cdot}, \\hat{\\mu}_{\\cdot j}=\\bar{Y}_{\\cdot j \\cdot}$. \n",
    "Noting that the effects are linear combinations of cell means, we can estimate them using the equalities in Section 4.2.2\n",
    "$$\n",
    "\\hat{\\alpha}_i = \\bar{Y}_{i\\cdot \\cdot}-\\bar{Y}_{\\cdot \\cdot \\cdot}, \\hat{\\beta}_{j}=\\bar{Y}_{\\cdot j \\cdot} -\\bar{Y}_{\\cdot \\cdot \\cdot}, (\\hat{\\alpha\\beta})_{ij}=\\bar{Y}_{ij \\cdot}-(\\bar{Y}_{\\cdot\\cdot\\cdot} +\\hat{\\alpha}_i+\\hat{\\beta}_j).\n",
    "$$\n",
    "As a result, the same set of constraints still hold on the estimators. \n",
    "\n",
    "\n",
    "For each $Y_{ijk}$, the fitted value is $\\bar{Y}_{ij\\cdot}$. The residual is thus $e_{ijk} \\equiv Y_{ijk}-\\bar{Y}_{ij\\cdot}$. We can show that the fitted value is independent with the residual. Just like in one-way ANOVA, this independence is the backbone for testing. \n",
    "\n",
    "The sum of squares are as follow.  \n",
    "\n",
    "**Residual sum of squares.**\n",
    "$$\n",
    "{\\rm SSE} = \\sum_i \\sum_j \\sum_k e_{ijk}^2 = \\sum_i \\sum_j \\sum_k \\big(Y_{ijk}-\\bar{Y}_{ij\\cdot}\\big)^2, df({\\rm SSE})=n_T -ab =(n-1)ab.\n",
    "$$\n",
    "As before, we can define the mean squared errors as ${\\rm MSE} ={ {\\rm SSE}}/{ df({\\rm SSE})}$, where we know that $\\mathbb{E}[{\\rm MSE}]=\\sigma^2$. \n",
    "\n",
    "**Total sum of squares.**\n",
    "$$\n",
    "{\\rm SSTO} =\\sum_i \\sum_j \\sum_k \\big(Y_{ijk}-\\bar{Y}_{\\cdot \\cdot \\cdot}\\big)^2, \\ df({\\rm SSTO})=n_T -1 = nab-1.\n",
    "$$\n",
    "\n",
    "**Sum of squares due to the main effect of factor A.** \n",
    "$$\n",
    "{\\rm SSA} = \\sum_i \\sum_j \\sum_k\\hat{\\alpha}_i^2 = nb\\sum_{i=1}^a \\hat{\\alpha}_i^2, \\ df({\\rm SSA})=a-1.\n",
    "$$\n",
    "\n",
    "**Sum of squares due to the main effect of factor B.** \n",
    "$$\n",
    "{\\rm SSB} =\\sum_i \\sum_j \\sum_k \\hat{\\beta}_j^2 = na\\sum_{j=1}^a \\hat{\\beta}_j^2, \\ df({\\rm SSB})=b-1.\n",
    "$$\n",
    "\n",
    "**Sum of squares due to the interaction effects.**\n",
    "$$\n",
    "{\\rm SSAB} = \\sum_i \\sum_j \\sum_k \\hat{(\\alpha\\beta)}_{ij}^2 = n \\sum_i \\sum_j \\hat{(\\alpha\\beta)}_{ij}^2, \\ df({\\rm SSAB})=(a-1)(b-1).\n",
    "$$\n",
    "\n",
    "We have the following equalities\n",
    "$$\n",
    "{\\rm SSTO}={\\rm SSA}+{\\rm SSB} + {\\rm SSAB}+{\\rm SSE}$$\n",
    "and \n",
    "$$df({\\rm SSTO})=df({\\rm SSA})+df({\\rm SSB})+df({\\rm SSAB})+df({\\rm SSE}).\n",
    "$$\n",
    "\n",
    "For the mean squares, when $\\epsilon$s are i.i.d. $N(0,\\sigma^2)$, we have $\\hat{Y}_{ijk} \\perp e_{ijk}$, which yields ${\\rm MSE} \\perp {\\rm MSA}, {\\rm MSB}, {\\rm MSAB}$. \n",
    "\n",
    "\n",
    "**Properties**\n",
    "1. $\\mathbb{E}[{\\rm MSE}]=\\sigma^2$; \n",
    "2. $\\mathbb{E}[{\\rm MSA}]=\\sigma^2 + nb \\sum_i \\alpha_i^2 /(a-1)$; \n",
    "3. $\\mathbb{E}[{\\rm MSB}]=\\sigma^2 +na \\sum_j \\beta_j^2 /(b-1)$; \n",
    "4. $\\mathbb{E}[{\\rm MSAB}]=\\sigma^2 + n \\sum_i \\sum_j ({\\alpha\\beta})_{ij}^2/(a-1)(b-1)$. "
   ]
  },
  {
   "cell_type": "markdown",
   "metadata": {},
   "source": [
    "### 4.2.4 Inference \n",
    "\n",
    "Tests for two-way ANOVA models are essentially identical to those for one-way ANOVA model. We discuss only the F-tests for the interactions and one main effect here. \n",
    "\n",
    "**F-test for interactions.** Consider the following null and alternative hypotheses. \n",
    "$$\n",
    "H_0: (\\alpha\\beta)_{ij}=0 \\  \\forall i, j  \\ \\ {\\rm v.s.} \\ \\ \\ H_1:\\  {\\rm not \\ all \\ } (\\alpha\\beta)_{ij} \\ {\\rm are \\ zero}.\n",
    "$$\n",
    "The F-statistics is $F^*={\\rm MSAB}/{\\rm MSE}$. Under the null, $F^*$ follows an $F$-distribution with $df=( (a-1)(b-1),(n-1)ab)$. \n",
    "\n",
    "**Test for the main effect of factor A.** Consider the following null and alternative hypotheses. \n",
    "$$\n",
    "H_0: \\alpha_{i}=0 \\ \\ \\forall i \\ \\ \\  {\\rm v.s.}\\ \\  \\ H_1:\\  {\\rm not \\ all \\ } \\alpha_i \\ {\\rm are \\ zero}.\n",
    "$$\n",
    "We have $F^*={\\rm MSA}/{\\rm MSE}$ that follows an F-distribution with $df=(a-1,(n-1)ab)$. \n",
    "\n",
    "\n",
    "Similar results hold for factor B. Theory and justifications for these tests are almost identical to those for one-way ANOVA. \n",
    "\n",
    "**MSE without interactions.** In the absence of interactions, the MSE defined in the previous section no long makes sense. Instead, we can define $\\hat{Y}_{ijk}=\\hat{\\mu}_{\\cdot\\cdot} +\\hat{\\alpha}_i + \\hat{\\beta}_j$. This  leads to $e_{ijk}'=Y_{ijk}-\\hat{Y}_{ijk}$.  Consequently, ${\\rm SSE}= \\sum \\sum \\sum \\big(Y_{ijk}-\\hat{Y}_{ijk}\\big)^2$ and $df({\\rm SSE})=nab-a-b+1$. Finally, we have that ${\\rm MSE} = {\\rm SSE} /(nab-a-b+1)$. "
   ]
  },
  {
   "cell_type": "markdown",
   "metadata": {},
   "source": [
    "Methods for testing linear combinations and simultaneous inference generalize to the case with two-way, and higher order, ANOVA model. "
   ]
  },
  {
   "cell_type": "markdown",
   "metadata": {},
   "source": [
    "\n",
    "\n",
    "### 4.2.5 Special case: one observation per case\n",
    "\n",
    "When there is only one observation per cell, the number of observations ($ab$) equals to the number of unknown means $(ab)$. It is not possible to estimate the full model with interactions with proper measures of uncertainty. However, the number of observed cases does not alter the truth underneath the data. We may still want to test whether interactions are present. \n",
    "\n",
    "**Tukey's test for additivity.**\n",
    "Consider the following model\n",
    "$$\n",
    "Y_{ij}=\\mu_{\\cdot\\cdot} +\\alpha_i+\\beta_j+D \\alpha_i\\beta_j+\\epsilon_{ij}, \n",
    "$$\n",
    "where $\\epsilon_{ij}$ are i.i.d. $N(0,\\sigma^2)$. In this model, the fourth term on the right-hand side attempts to capture the interaction effects with limited capacity. The specific form $D \\alpha_i\\beta_j$ does not capture all possible interactions, but it is a work-around with limited observations. In this model, we can test \n",
    "$$\n",
    "H_0: D=0 \\ \\ \\ {\\rm v.s.}\\ \\ \\ H_a: D \\neq 0.\n",
    "$$\n",
    "\n",
    "We can derive that \n",
    "$$\n",
    "\\hat{D} = \\frac{\\sum_i \\sum_j Y_{ij} \\hat{\\alpha}_i \\hat{\\beta}_j}{\\sum_i \\hat{\\alpha}_i^2 \\sum_j \\hat{\\beta}_j^2 }. \n",
    "$$\n",
    "We can construct the F-test for $H_0: D=0$ in a similar manner as in Section 4.2.4. You can read more about this test in, e.g., [here](https://en.wikipedia.org/wiki/Tukey's_test_of_additivity). \n",
    "\n",
    "\n",
    "\n",
    "\n"
   ]
  },
  {
   "cell_type": "markdown",
   "metadata": {},
   "source": [
    "### 4.2.6 Imbalanced two-way ANOVA \n",
    "\n",
    "A two-way ANOVA when the numbers of observations vary across cells takes the following form \n",
    "$$\n",
    "Y_{ijk} =  \\mu_{ijk}+\\epsilon_{ijk}= \\mu_{\\cdot\\cdot} + \\alpha_i+\\beta_j + (\\alpha\\beta)_{ij}+\\epsilon_{ijk}, \\ k=1,\\ldots, n_{ij}, j=1, \\ldots, b, i=1,\\ldots, a,\n",
    "$$\n",
    "where $\\{\\epsilon_{ijk}\\}$ are i.i.d. $N(0,\\sigma^2)$. The same constraints hold on the parameters. \n",
    "\n",
    "The factor effects are still defined as follows \n",
    "$$\n",
    "\\mu_{\\cdot \\cdot} =\\sum_{i=1}^a \\sum_{j=1}^ b \\mu_{ij}/(ab), \\ \\mu_{i\\cdot} = \\sum_{j=1}^b \\mu_{ij} /b, \\ \\mu_{\\cdot j}=\\sum_{i=1}^a \\mu_{ij}/a.\n",
    "$$\n",
    "And furthermore,  we have \n",
    "$$\n",
    "\\alpha_i=\\mu_{i\\cdot} - \\mu_{\\cdot \\cdot},\\ \\beta_j=\\mu_{\\cdot j}-\\mu_{\\cdot\\cdot},\\ (\\alpha\\beta)_{ij} =\\mu_{ij}-\\mu_{i\\cdot}-\\mu_{\\cdot j}+\\mu_{\\cdot\\cdot}. \n",
    "$$\n",
    "Estimators follow the same form by plugging the sample means in the equations above.\n",
    "\n",
    "However, it is **no longer true** that \n",
    "$$\n",
    "\\hat{\\mu}_{\\cdot\\cdot} =\\bar{Y}_{\\cdot\\cdot\\cdot}, \\ \\hat{\\mu}_{i\\cdot} = \\bar{Y}_{i\\cdot\\cdot}, \\ \\hat{\\mu}_{\\cdot j}=\\bar{Y}_{\\cdot j \\cdot},  \\ {\\rm SSTO}={\\rm SSA}+{\\rm SSB} + {\\rm SSAB}+{\\rm SSE}.\n",
    "$$\n",
    "To see this, we just need to expand $\\bar{Y}_{\\cdot\\cdot\\cdot}$ as weighted average of the sample cell means. \n"
   ]
  },
  {
   "cell_type": "markdown",
   "metadata": {},
   "source": [
    "**Sum of squares.** In an imbalanced design, the sum of squares decomposition depends on the *order* of the decomposition, which gives us three types of sums of squares. Let us denote ${\\rm SSE}_{A}$ as the residual sum of squares from the model with only the main effect term of Factor A. Similarly, we can define ${\\rm SSE}_{B}$, ${\\rm SSE}_{A,B}$, ${\\rm SSE}_{A,AB}$,  ${\\rm SSE}_{A,B,AB}$, etc. \n",
    "\n",
    "1. Type I (the sequential sum of squares). Suppose that the order is A, B, and AB. We can define the sum of squares due to the main effect of factor A as ${\\rm SSTO}-{\\rm SSE}_{A}$, the sum of squares due to the main effect of factor B as ${\\rm SSE}_{A}-{\\rm SSE}_{A,B}$, and the sum of squares due to the interaction as ${\\rm SSE}_{A,B}-{\\rm SSE}_{A,B,AB}$. \n",
    "\n",
    "2. Type II. We define the sum of squares due to the main effect of Factor A as ${\\rm SSE}_{B}-{\\rm SSE}_{A,B}$, and the main effect due to Factor B as ${\\rm SSE}_{A}-{\\rm SSE}_{A,B}$. Note that this type should only be employed if there is no interaction term, either from a previous test or prior knowledge. \n",
    "\n",
    "3. Type III. We define the sum of squares due to the main effect of Factor A as ${\\rm SSE}_{B,AB}-{\\rm SSE}_{A,B,AB}$, and the sum of squares due to the main effect of Factor B as ${\\rm SSE}_{A,AB}-{\\rm SSE}_{A,B,AB}$. \n",
    " \n"
   ]
  },
  {
   "cell_type": "markdown",
   "metadata": {},
   "source": [
    "\n",
    "In a **balanced** design, all three types of decompositions are equivalent because the factors are **orthogonal**. One can think about the orthogonal design using the formula for LSE in a linear regression $\\hat{\\beta}=(X^TX)^{-1} X^T Y$ and that $\\mathrm{var}(\\hat{\\beta})=(X^TX)^{-1}$. When the factors are orthogonal, the variance-covariance matrix of $\\hat{\\beta}$ is diagonal."
   ]
  },
  {
   "cell_type": "markdown",
   "metadata": {},
   "source": [
    "\n",
    "Suppose that we are interested in testing the presence of interactions. \n",
    "$$\n",
    "H_0: (\\alpha\\beta)_{ij}=0 \\ {\\rm v.s.} \\ H_1: {\\rm not \\ all \\ } (\\alpha\\beta)_{ij} \\ {\\rm are \\ zero}.\n",
    "$$\n",
    "We now need to use the following framework for testing. \n",
    "* Full model: $Y_{ijk} =\\mu_{\\cdot\\cdot} + \\alpha_i+\\beta_j + (\\alpha\\beta)_{ij}+\\epsilon_{ijk}$\n",
    "* Reduced model: $Y_{ijk} =\\mu_{\\cdot\\cdot} + \\alpha_i+\\beta_j +\\epsilon_{ijk}$\n",
    "\n",
    "The F-statistic is then \n",
    "$$\n",
    "F^*=\\frac{ [{\\rm SSE}_{\\rm red}-{\\rm SSE}_{\\rm full}  ] / [ df_{\\rm red}-df_{\\rm full}   ]  }{ {\\rm SSE}_{\\rm full}/df_{\\rm full}},\n",
    "$$\n",
    "where $F^* \\sim F( (a-1)(b-1), n_T-ab)$ under the null hypothesis. \n"
   ]
  },
  {
   "cell_type": "markdown",
   "metadata": {},
   "source": [
    "To use the Type I sum of squares, we can use the `aov` function and carefully specify the order of factors in the model formula. For Type II and Type III ANOVA, we can use the `Anova()` function in the `car` package.  "
   ]
  },
  {
   "cell_type": "code",
   "execution_count": 37,
   "metadata": {},
   "outputs": [
    {
     "data": {
      "text/plain": [
       "      wage         ethnicity          occupation       \n",
       " Min.   : 1.000   Length:534         Length:534        \n",
       " 1st Qu.: 5.250   Class :character   Class :character  \n",
       " Median : 7.780   Mode  :character   Mode  :character  \n",
       " Mean   : 9.024                                        \n",
       " 3rd Qu.:11.250                                        \n",
       " Max.   :44.500                                        "
      ]
     },
     "metadata": {},
     "output_type": "display_data"
    }
   ],
   "source": [
    "# SAS\n",
    "library(car)\n",
    "wage <- read.csv(file=\"../Data/Wage.csv\", header=TRUE, sep=\",\")\n",
    "summary(wage)"
   ]
  },
  {
   "cell_type": "code",
   "execution_count": 38,
   "metadata": {},
   "outputs": [],
   "source": [
    "t1.a=aov(wage~ethnicity+occupation,data=wage);\n",
    "t1.b=aov(wage~occupation+ethnicity,data=wage);\n",
    "\n",
    "t2=Anova(lm(wage~ethnicity+occupation, data=wage), type=2)\n",
    "t3=Anova(lm(wage~ethnicity*occupation, data=wage, \n",
    "            contrasts=list(ethnicity=contr.sum, occupation=contr.sum)), type=3)"
   ]
  },
  {
   "cell_type": "code",
   "execution_count": 31,
   "metadata": {},
   "outputs": [
    {
     "data": {
      "text/plain": [
       "             Df Sum Sq Mean Sq F value Pr(>F)    \n",
       "ethnicity     2    173    86.3   3.967 0.0195 *  \n",
       "occupation    5   2459   491.7  22.598 <2e-16 ***\n",
       "Residuals   526  11445    21.8                   \n",
       "---\n",
       "Signif. codes:  0 '***' 0.001 '**' 0.01 '*' 0.05 '.' 0.1 ' ' 1"
      ]
     },
     "metadata": {},
     "output_type": "display_data"
    },
    {
     "data": {
      "text/plain": [
       "             Df Sum Sq Mean Sq F value Pr(>F)    \n",
       "occupation    5   2538   507.5  23.325 <2e-16 ***\n",
       "ethnicity     2     94    46.8   2.149  0.118    \n",
       "Residuals   526  11445    21.8                   \n",
       "---\n",
       "Signif. codes:  0 '***' 0.001 '**' 0.01 '*' 0.05 '.' 0.1 ' ' 1"
      ]
     },
     "metadata": {},
     "output_type": "display_data"
    }
   ],
   "source": [
    "summary(t1.a)\n",
    "summary(t1.b)"
   ]
  },
  {
   "cell_type": "code",
   "execution_count": 32,
   "metadata": {
    "scrolled": true
   },
   "outputs": [
    {
     "data": {
      "text/html": [
       "<table>\n",
       "<caption>A anova: 3 × 4</caption>\n",
       "<thead>\n",
       "\t<tr><th></th><th scope=col>Sum Sq</th><th scope=col>Df</th><th scope=col>F value</th><th scope=col>Pr(&gt;F)</th></tr>\n",
       "\t<tr><th></th><th scope=col>&lt;dbl&gt;</th><th scope=col>&lt;dbl&gt;</th><th scope=col>&lt;dbl&gt;</th><th scope=col>&lt;dbl&gt;</th></tr>\n",
       "</thead>\n",
       "<tbody>\n",
       "\t<tr><th scope=row>ethnicity</th><td>   93.52643</td><td>  2</td><td> 2.149098</td><td>1.176119e-01</td></tr>\n",
       "\t<tr><th scope=row>occupation</th><td> 2458.56892</td><td>  5</td><td>22.597703</td><td>1.467948e-20</td></tr>\n",
       "\t<tr><th scope=row>Residuals</th><td>11445.47501</td><td>526</td><td>       NA</td><td>          NA</td></tr>\n",
       "</tbody>\n",
       "</table>\n"
      ],
      "text/latex": [
       "A anova: 3 × 4\n",
       "\\begin{tabular}{r|llll}\n",
       "  & Sum Sq & Df & F value & Pr(>F)\\\\\n",
       "  & <dbl> & <dbl> & <dbl> & <dbl>\\\\\n",
       "\\hline\n",
       "\tethnicity &    93.52643 &   2 &  2.149098 & 1.176119e-01\\\\\n",
       "\toccupation &  2458.56892 &   5 & 22.597703 & 1.467948e-20\\\\\n",
       "\tResiduals & 11445.47501 & 526 &        NA &           NA\\\\\n",
       "\\end{tabular}\n"
      ],
      "text/markdown": [
       "\n",
       "A anova: 3 × 4\n",
       "\n",
       "| <!--/--> | Sum Sq &lt;dbl&gt; | Df &lt;dbl&gt; | F value &lt;dbl&gt; | Pr(&gt;F) &lt;dbl&gt; |\n",
       "|---|---|---|---|---|\n",
       "| ethnicity |    93.52643 |   2 |  2.149098 | 1.176119e-01 |\n",
       "| occupation |  2458.56892 |   5 | 22.597703 | 1.467948e-20 |\n",
       "| Residuals | 11445.47501 | 526 |        NA |           NA |\n",
       "\n"
      ],
      "text/plain": [
       "           Sum Sq      Df  F value   Pr(>F)      \n",
       "ethnicity     93.52643   2  2.149098 1.176119e-01\n",
       "occupation  2458.56892   5 22.597703 1.467948e-20\n",
       "Residuals  11445.47501 526        NA           NA"
      ]
     },
     "metadata": {},
     "output_type": "display_data"
    },
    {
     "data": {
      "text/html": [
       "<table>\n",
       "<caption>A anova: 5 × 4</caption>\n",
       "<thead>\n",
       "\t<tr><th></th><th scope=col>Sum Sq</th><th scope=col>Df</th><th scope=col>F value</th><th scope=col>Pr(&gt;F)</th></tr>\n",
       "\t<tr><th></th><th scope=col>&lt;dbl&gt;</th><th scope=col>&lt;dbl&gt;</th><th scope=col>&lt;dbl&gt;</th><th scope=col>&lt;dbl&gt;</th></tr>\n",
       "</thead>\n",
       "<tbody>\n",
       "\t<tr><th scope=row>(Intercept)</th><td> 7403.5772</td><td>  1</td><td>341.846822</td><td>6.135442e-59</td></tr>\n",
       "\t<tr><th scope=row>ethnicity</th><td>  104.0006</td><td>  2</td><td>  2.401019</td><td>9.163740e-02</td></tr>\n",
       "\t<tr><th scope=row>occupation</th><td>  549.9500</td><td>  5</td><td>  5.078589</td><td>1.483054e-04</td></tr>\n",
       "\t<tr><th scope=row>ethnicity:occupation</th><td>  270.1603</td><td> 10</td><td>  1.247417</td><td>2.578712e-01</td></tr>\n",
       "\t<tr><th scope=row>Residuals</th><td>11175.3147</td><td>516</td><td>        NA</td><td>          NA</td></tr>\n",
       "</tbody>\n",
       "</table>\n"
      ],
      "text/latex": [
       "A anova: 5 × 4\n",
       "\\begin{tabular}{r|llll}\n",
       "  & Sum Sq & Df & F value & Pr(>F)\\\\\n",
       "  & <dbl> & <dbl> & <dbl> & <dbl>\\\\\n",
       "\\hline\n",
       "\t(Intercept) &  7403.5772 &   1 & 341.846822 & 6.135442e-59\\\\\n",
       "\tethnicity &   104.0006 &   2 &   2.401019 & 9.163740e-02\\\\\n",
       "\toccupation &   549.9500 &   5 &   5.078589 & 1.483054e-04\\\\\n",
       "\tethnicity:occupation &   270.1603 &  10 &   1.247417 & 2.578712e-01\\\\\n",
       "\tResiduals & 11175.3147 & 516 &         NA &           NA\\\\\n",
       "\\end{tabular}\n"
      ],
      "text/markdown": [
       "\n",
       "A anova: 5 × 4\n",
       "\n",
       "| <!--/--> | Sum Sq &lt;dbl&gt; | Df &lt;dbl&gt; | F value &lt;dbl&gt; | Pr(&gt;F) &lt;dbl&gt; |\n",
       "|---|---|---|---|---|\n",
       "| (Intercept) |  7403.5772 |   1 | 341.846822 | 6.135442e-59 |\n",
       "| ethnicity |   104.0006 |   2 |   2.401019 | 9.163740e-02 |\n",
       "| occupation |   549.9500 |   5 |   5.078589 | 1.483054e-04 |\n",
       "| ethnicity:occupation |   270.1603 |  10 |   1.247417 | 2.578712e-01 |\n",
       "| Residuals | 11175.3147 | 516 |         NA |           NA |\n",
       "\n"
      ],
      "text/plain": [
       "                     Sum Sq     Df  F value    Pr(>F)      \n",
       "(Intercept)           7403.5772   1 341.846822 6.135442e-59\n",
       "ethnicity              104.0006   2   2.401019 9.163740e-02\n",
       "occupation             549.9500   5   5.078589 1.483054e-04\n",
       "ethnicity:occupation   270.1603  10   1.247417 2.578712e-01\n",
       "Residuals            11175.3147 516         NA           NA"
      ]
     },
     "metadata": {},
     "output_type": "display_data"
    }
   ],
   "source": [
    "t2\n",
    "t3"
   ]
  },
  {
   "cell_type": "markdown",
   "metadata": {},
   "source": [
    "### 4.2.7 Example: Hay Fever data\n",
    "\n",
    "Let's return to the Hay Fever data. If an analysis plan has been determined, as is usually the case for randomized control trials, we need to strictly follow the analysis plan. The pre-determined analysis plan makes sure that there won't be data mining attempts that inflates the type I errors.  \n",
    "\n",
    "In this example, we will pretend that we have no such plans. Instead, our task is to explore and investigate the effectiveness of the two ingradients. We still, however, need to be mindful with type I errors from our inference. Think about the type I error as what determines the *weight* your results carry: the larger the type I error is, the more negligible your statistical inference is. \n",
    " "
   ]
  },
  {
   "cell_type": "code",
   "execution_count": 40,
   "metadata": {},
   "outputs": [
    {
     "data": {
      "image/png": "[encoded data removed]",
      "text/plain": [
       "plot without title"
      ]
     },
     "metadata": {
      "image/png": {
       "height": 420,
       "width": 420
      }
     },
     "output_type": "display_data"
    }
   ],
   "source": [
    "Hay <- read.csv(file=\"../Data/HayFever.csv\", header=TRUE, sep=\",\")\n",
    "\n",
    "# Pairwise scatter plot\n",
    "pairs(Hay,pch=16,col='red',cex=1.5)"
   ]
  },
  {
   "cell_type": "code",
   "execution_count": 42,
   "metadata": {},
   "outputs": [
    {
     "data": {
      "image/png": "[encoded data removed]",
      "text/plain": [
       "plot without title"
      ]
     },
     "metadata": {
      "image/png": {
       "height": 420,
       "width": 420
      }
     },
     "output_type": "display_data"
    }
   ],
   "source": [
    "Hay.jittered = Hay;\n",
    "Hay.jittered$Ingredient.2 = jitter(Hay.jittered$Ingredient.2)\n",
    "# Jittered one factor \n",
    "pairs(Hay.jittered,pch=16,col='red',cex=1.5)"
   ]
  },
  {
   "cell_type": "markdown",
   "metadata": {},
   "source": [
    "\n",
    "There are two factors with a total of 9 combinations in this data with 36 samples. It is natural to consider a two-way ANOVA model here. The next question is then whether the interaction effects are present, i.e., whether we want to use a two-way ANOVA model with or without interactions."
   ]
  },
  {
   "cell_type": "code",
   "execution_count": 43,
   "metadata": {},
   "outputs": [
    {
     "name": "stderr",
     "output_type": "stream",
     "text": [
      "\n",
      "Attaching package: 'gplots'\n",
      "\n",
      "\n",
      "The following object is masked from 'package:stats':\n",
      "\n",
      "    lowess\n",
      "\n",
      "\n"
     ]
    },
    {
     "data": {
      "image/png": "[encoded data removed]",
      "text/plain": [
       "Plot with title \"Main  effect, Ingredient 2\""
      ]
     },
     "metadata": {
      "image/png": {
       "height": 720,
       "width": 720
      }
     },
     "output_type": "display_data"
    }
   ],
   "source": [
    "# Exploratory analysis\n",
    "library(gplots)\n",
    "Hay$Ingredient.1=as.factor(Hay$Ingredient.1)\n",
    "Hay$Ingredient.2=as.factor(Hay$Ingredient.2)\n",
    "\n",
    "options(repr.plot.width=12, repr.plot.height=12)\n",
    "par(mfrow=c(2,2))\n",
    "# Main effect plot for ingredient 1\n",
    "plotmeans(Relief~Ingredient.1,data=Hay,xlab=\"Ingredient 1\",ylab=\"Relief\",\n",
    "          main=\"Main  effect, Ingredient 1\",cex.lab=1.5) \n",
    "# Main effect plot for ingredient 2\n",
    "plotmeans(Relief~Ingredient.2,data=Hay,xlab=\"Ingredient 2\",ylab=\"Relief\", \n",
    "          main=\"Main  effect, Ingredient 2\",cex.lab=1.5) \n",
    "#Interaction plot\n",
    "interaction.plot(Hay$Ingredient.1, Hay$Ingredient.2, Hay$Relief\n",
    "                ,cex.lab=1.5,ylab=\"Relief\",xlab='Ingredient 1')\n",
    "par(mfrow=c(1,1))"
   ]
  },
  {
   "cell_type": "code",
   "execution_count": 44,
   "metadata": {},
   "outputs": [
    {
     "data": {
      "text/html": [
       "<table>\n",
       "<caption>A anova: 2 × 6</caption>\n",
       "<thead>\n",
       "\t<tr><th></th><th scope=col>Res.Df</th><th scope=col>RSS</th><th scope=col>Df</th><th scope=col>Sum of Sq</th><th scope=col>F</th><th scope=col>Pr(&gt;F)</th></tr>\n",
       "\t<tr><th></th><th scope=col>&lt;dbl&gt;</th><th scope=col>&lt;dbl&gt;</th><th scope=col>&lt;dbl&gt;</th><th scope=col>&lt;dbl&gt;</th><th scope=col>&lt;dbl&gt;</th><th scope=col>&lt;dbl&gt;</th></tr>\n",
       "</thead>\n",
       "<tbody>\n",
       "\t<tr><th scope=row>1</th><td>31</td><td>31.050</td><td>NA</td><td>    NA</td><td>      NA</td><td>          NA</td></tr>\n",
       "\t<tr><th scope=row>2</th><td>27</td><td> 1.625</td><td> 4</td><td>29.425</td><td>122.2269</td><td>6.972083e-17</td></tr>\n",
       "</tbody>\n",
       "</table>\n"
      ],
      "text/latex": [
       "A anova: 2 × 6\n",
       "\\begin{tabular}{r|llllll}\n",
       "  & Res.Df & RSS & Df & Sum of Sq & F & Pr(>F)\\\\\n",
       "  & <dbl> & <dbl> & <dbl> & <dbl> & <dbl> & <dbl>\\\\\n",
       "\\hline\n",
       "\t1 & 31 & 31.050 & NA &     NA &       NA &           NA\\\\\n",
       "\t2 & 27 &  1.625 &  4 & 29.425 & 122.2269 & 6.972083e-17\\\\\n",
       "\\end{tabular}\n"
      ],
      "text/markdown": [
       "\n",
       "A anova: 2 × 6\n",
       "\n",
       "| <!--/--> | Res.Df &lt;dbl&gt; | RSS &lt;dbl&gt; | Df &lt;dbl&gt; | Sum of Sq &lt;dbl&gt; | F &lt;dbl&gt; | Pr(&gt;F) &lt;dbl&gt; |\n",
       "|---|---|---|---|---|---|---|\n",
       "| 1 | 31 | 31.050 | NA |     NA |       NA |           NA |\n",
       "| 2 | 27 |  1.625 |  4 | 29.425 | 122.2269 | 6.972083e-17 |\n",
       "\n"
      ],
      "text/plain": [
       "  Res.Df RSS    Df Sum of Sq F        Pr(>F)      \n",
       "1 31     31.050 NA     NA          NA           NA\n",
       "2 27      1.625  4 29.425    122.2269 6.972083e-17"
      ]
     },
     "metadata": {},
     "output_type": "display_data"
    }
   ],
   "source": [
    "# Test for interactions \n",
    "full_model=lm(Relief~as.factor(Ingredient.1)+as.factor(Ingredient.2)+as.factor(Ingredient.1)*as.factor(Ingredient.2),data=Hay);\n",
    "reduced_model=lm(Relief~as.factor(Ingredient.1)+as.factor(Ingredient.2),data=Hay);\n",
    "anova(reduced_model,full_model)\n",
    "# Conclusion?"
   ]
  },
  {
   "cell_type": "code",
   "execution_count": 47,
   "metadata": {
    "scrolled": true
   },
   "outputs": [
    {
     "data": {
      "text/plain": [
       "                          Df Sum Sq Mean Sq F value   Pr(>F)    \n",
       "Ingredient.1               2 2845.5  1422.8 362.826  < 2e-16 ***\n",
       "Ingredient.2               2  818.4   409.2 104.350 1.98e-13 ***\n",
       "Ingredient.1:Ingredient.2  4  113.7    28.4   7.252 0.000421 ***\n",
       "Residuals                 27  105.9     3.9                     \n",
       "---\n",
       "Signif. codes:  0 '***' 0.001 '**' 0.01 '*' 0.05 '.' 0.1 ' ' 1"
      ]
     },
     "metadata": {},
     "output_type": "display_data"
    }
   ],
   "source": [
    "# Fit the chosen model:\n",
    "library(stats)\n",
    "sig.level=0.05;\n",
    "anova.fit<-aov(rank(Relief)~Ingredient.1+Ingredient.2+Ingredient.1*Ingredient.2,data=Hay)\n",
    "summary(anova.fit)"
   ]
  },
  {
   "cell_type": "markdown",
   "metadata": {},
   "source": [
    "It seems that both integredients and their interaction may have (statistically) significant impact on the response variable. We may want to explore what the best combination of ingredients is, or whether such combination exists. The search of \"best combination\" can be translated as finding the cell with the highest cell mean compared to other cells, which leads us to the Tukey-Kramer method."
   ]
  },
  {
   "cell_type": "code",
   "execution_count": 46,
   "metadata": {},
   "outputs": [
    {
     "data": {
      "image/png": "[encoded data removed]",
      "text/plain": [
       "Plot with title \"95% family-wise confidence level\n",
       "\""
      ]
     },
     "metadata": {
      "image/png": {
       "height": 720,
       "width": 720
      }
     },
     "output_type": "display_data"
    }
   ],
   "source": [
    "# Find the best combination\n",
    "\n",
    "T.ci=TukeyHSD(anova.fit,conf.level = 1-sig.level)\n",
    "par(mfrow=c(2,2))\n",
    "plot(T.ci, las=1 , col=\"brown\")\n",
    "par(mfrow=c(1,1))"
   ]
  },
  {
   "cell_type": "code",
   "execution_count": 33,
   "metadata": {},
   "outputs": [
    {
     "data": {
      "text/html": [
       "<table>\n",
       "<caption>A matrix: 3 × 3 of type dbl</caption>\n",
       "<thead>\n",
       "\t<tr><th></th><th scope=col>1</th><th scope=col>2</th><th scope=col>3</th></tr>\n",
       "</thead>\n",
       "<tbody>\n",
       "\t<tr><th scope=row>1</th><td>2.475</td><td> 4.600</td><td> 4.575</td></tr>\n",
       "\t<tr><th scope=row>2</th><td>5.450</td><td> 8.925</td><td> 9.125</td></tr>\n",
       "\t<tr><th scope=row>3</th><td>5.975</td><td>10.275</td><td>13.250</td></tr>\n",
       "</tbody>\n",
       "</table>\n"
      ],
      "text/latex": [
       "A matrix: 3 × 3 of type dbl\n",
       "\\begin{tabular}{r|lll}\n",
       "  & 1 & 2 & 3\\\\\n",
       "\\hline\n",
       "\t1 & 2.475 &  4.600 &  4.575\\\\\n",
       "\t2 & 5.450 &  8.925 &  9.125\\\\\n",
       "\t3 & 5.975 & 10.275 & 13.250\\\\\n",
       "\\end{tabular}\n"
      ],
      "text/markdown": [
       "\n",
       "A matrix: 3 × 3 of type dbl\n",
       "\n",
       "| <!--/--> | 1 | 2 | 3 |\n",
       "|---|---|---|---|\n",
       "| 1 | 2.475 |  4.600 |  4.575 |\n",
       "| 2 | 5.450 |  8.925 |  9.125 |\n",
       "| 3 | 5.975 | 10.275 | 13.250 |\n",
       "\n"
      ],
      "text/plain": [
       "  1     2      3     \n",
       "1 2.475  4.600  4.575\n",
       "2 5.450  8.925  9.125\n",
       "3 5.975 10.275 13.250"
      ]
     },
     "metadata": {},
     "output_type": "display_data"
    }
   ],
   "source": [
    "# We only need to pay attention to the differences of the two largest means\n",
    "idx=list();\n",
    "idx[[1]]=Hay$Ingredient.1;idx[[2]]=Hay$Ingredient.2;\n",
    "(means.comb=tapply( Hay$Relief, INDEX=idx,mean))\n",
    "# From this table, the two cells are (3,3) and (3,2)"
   ]
  },
  {
   "cell_type": "code",
   "execution_count": 39,
   "metadata": {
    "scrolled": false
   },
   "outputs": [
    {
     "data": {
      "text/html": [
       "<table>\n",
       "<caption>A matrix: 36 × 4 of type dbl</caption>\n",
       "<thead>\n",
       "\t<tr><th></th><th scope=col>diff</th><th scope=col>lwr</th><th scope=col>upr</th><th scope=col>p adj</th></tr>\n",
       "</thead>\n",
       "<tbody>\n",
       "\t<tr><th scope=row>2:1-1:1</th><td> 2.975</td><td> 2.3913187</td><td> 3.5586813</td><td>2.142730e-14</td></tr>\n",
       "\t<tr><th scope=row>3:1-1:1</th><td> 3.500</td><td> 2.9163187</td><td> 4.0836813</td><td>4.440892e-15</td></tr>\n",
       "\t<tr><th scope=row>1:2-1:1</th><td> 2.125</td><td> 1.5413187</td><td> 2.7086813</td><td>5.300671e-11</td></tr>\n",
       "\t<tr><th scope=row>2:2-1:1</th><td> 6.450</td><td> 5.8663187</td><td> 7.0336813</td><td>4.218847e-15</td></tr>\n",
       "\t<tr><th scope=row>3:2-1:1</th><td> 7.800</td><td> 7.2163187</td><td> 8.3836813</td><td>4.218847e-15</td></tr>\n",
       "\t<tr><th scope=row>1:3-1:1</th><td> 2.100</td><td> 1.5163187</td><td> 2.6836813</td><td>6.947942e-11</td></tr>\n",
       "\t<tr><th scope=row>2:3-1:1</th><td> 6.650</td><td> 6.0663187</td><td> 7.2336813</td><td>4.218847e-15</td></tr>\n",
       "\t<tr><th scope=row>3:3-1:1</th><td>10.775</td><td>10.1913187</td><td>11.3586813</td><td>4.218847e-15</td></tr>\n",
       "\t<tr><th scope=row>3:1-2:1</th><td> 0.525</td><td>-0.0586813</td><td> 1.1086813</td><td>1.033088e-01</td></tr>\n",
       "\t<tr><th scope=row>1:2-2:1</th><td>-0.850</td><td>-1.4336813</td><td>-0.2663187</td><td>1.142444e-03</td></tr>\n",
       "\t<tr><th scope=row>2:2-2:1</th><td> 3.475</td><td> 2.8913187</td><td> 4.0586813</td><td>4.551914e-15</td></tr>\n",
       "\t<tr><th scope=row>3:2-2:1</th><td> 4.825</td><td> 4.2413187</td><td> 5.4086813</td><td>4.218847e-15</td></tr>\n",
       "\t<tr><th scope=row>1:3-2:1</th><td>-0.875</td><td>-1.4586813</td><td>-0.2913187</td><td>7.862241e-04</td></tr>\n",
       "\t<tr><th scope=row>2:3-2:1</th><td> 3.675</td><td> 3.0913187</td><td> 4.2586813</td><td>4.218847e-15</td></tr>\n",
       "\t<tr><th scope=row>3:3-2:1</th><td> 7.800</td><td> 7.2163187</td><td> 8.3836813</td><td>4.218847e-15</td></tr>\n",
       "\t<tr><th scope=row>1:2-3:1</th><td>-1.375</td><td>-1.9586813</td><td>-0.7913187</td><td>5.283997e-07</td></tr>\n",
       "\t<tr><th scope=row>2:2-3:1</th><td> 2.950</td><td> 2.3663187</td><td> 3.5336813</td><td>2.520206e-14</td></tr>\n",
       "\t<tr><th scope=row>3:2-3:1</th><td> 4.300</td><td> 3.7163187</td><td> 4.8836813</td><td>4.218847e-15</td></tr>\n",
       "\t<tr><th scope=row>1:3-3:1</th><td>-1.400</td><td>-1.9836813</td><td>-0.8163187</td><td>3.744504e-07</td></tr>\n",
       "\t<tr><th scope=row>2:3-3:1</th><td> 3.150</td><td> 2.5663187</td><td> 3.7336813</td><td>8.659740e-15</td></tr>\n",
       "\t<tr><th scope=row>3:3-3:1</th><td> 7.275</td><td> 6.6913187</td><td> 7.8586813</td><td>4.218847e-15</td></tr>\n",
       "\t<tr><th scope=row>2:2-1:2</th><td> 4.325</td><td> 3.7413187</td><td> 4.9086813</td><td>4.218847e-15</td></tr>\n",
       "\t<tr><th scope=row>3:2-1:2</th><td> 5.675</td><td> 5.0913187</td><td> 6.2586813</td><td>4.218847e-15</td></tr>\n",
       "\t<tr><th scope=row>1:3-1:2</th><td>-0.025</td><td>-0.6086813</td><td> 0.5586813</td><td>1.000000e+00</td></tr>\n",
       "\t<tr><th scope=row>2:3-1:2</th><td> 4.525</td><td> 3.9413187</td><td> 5.1086813</td><td>4.218847e-15</td></tr>\n",
       "\t<tr><th scope=row>3:3-1:2</th><td> 8.650</td><td> 8.0663187</td><td> 9.2336813</td><td>4.218847e-15</td></tr>\n",
       "\t<tr><th scope=row>3:2-2:2</th><td> 1.350</td><td> 0.7663187</td><td> 1.9336813</td><td>7.475322e-07</td></tr>\n",
       "\t<tr><th scope=row>1:3-2:2</th><td>-4.350</td><td>-4.9336813</td><td>-3.7663187</td><td>4.218847e-15</td></tr>\n",
       "\t<tr><th scope=row>2:3-2:2</th><td> 0.200</td><td>-0.3836813</td><td> 0.7836813</td><td>9.596929e-01</td></tr>\n",
       "\t<tr><th scope=row>3:3-2:2</th><td> 4.325</td><td> 3.7413187</td><td> 4.9086813</td><td>4.218847e-15</td></tr>\n",
       "\t<tr><th scope=row>1:3-3:2</th><td>-5.700</td><td>-6.2836813</td><td>-5.1163187</td><td>4.218847e-15</td></tr>\n",
       "\t<tr><th scope=row>2:3-3:2</th><td>-1.150</td><td>-1.7336813</td><td>-0.5663187</td><td>1.305447e-05</td></tr>\n",
       "\t<tr><th scope=row>3:3-3:2</th><td> 2.975</td><td> 2.3913187</td><td> 3.5586813</td><td>2.142730e-14</td></tr>\n",
       "\t<tr><th scope=row>2:3-1:3</th><td> 4.550</td><td> 3.9663187</td><td> 5.1336813</td><td>4.218847e-15</td></tr>\n",
       "\t<tr><th scope=row>3:3-1:3</th><td> 8.675</td><td> 8.0913187</td><td> 9.2586813</td><td>4.218847e-15</td></tr>\n",
       "\t<tr><th scope=row>3:3-2:3</th><td> 4.125</td><td> 3.5413187</td><td> 4.7086813</td><td>4.218847e-15</td></tr>\n",
       "</tbody>\n",
       "</table>\n"
      ],
      "text/latex": [
       "A matrix: 36 × 4 of type dbl\n",
       "\\begin{tabular}{r|llll}\n",
       "  & diff & lwr & upr & p adj\\\\\n",
       "\\hline\n",
       "\t2:1-1:1 &  2.975 &  2.3913187 &  3.5586813 & 2.142730e-14\\\\\n",
       "\t3:1-1:1 &  3.500 &  2.9163187 &  4.0836813 & 4.440892e-15\\\\\n",
       "\t1:2-1:1 &  2.125 &  1.5413187 &  2.7086813 & 5.300671e-11\\\\\n",
       "\t2:2-1:1 &  6.450 &  5.8663187 &  7.0336813 & 4.218847e-15\\\\\n",
       "\t3:2-1:1 &  7.800 &  7.2163187 &  8.3836813 & 4.218847e-15\\\\\n",
       "\t1:3-1:1 &  2.100 &  1.5163187 &  2.6836813 & 6.947942e-11\\\\\n",
       "\t2:3-1:1 &  6.650 &  6.0663187 &  7.2336813 & 4.218847e-15\\\\\n",
       "\t3:3-1:1 & 10.775 & 10.1913187 & 11.3586813 & 4.218847e-15\\\\\n",
       "\t3:1-2:1 &  0.525 & -0.0586813 &  1.1086813 & 1.033088e-01\\\\\n",
       "\t1:2-2:1 & -0.850 & -1.4336813 & -0.2663187 & 1.142444e-03\\\\\n",
       "\t2:2-2:1 &  3.475 &  2.8913187 &  4.0586813 & 4.551914e-15\\\\\n",
       "\t3:2-2:1 &  4.825 &  4.2413187 &  5.4086813 & 4.218847e-15\\\\\n",
       "\t1:3-2:1 & -0.875 & -1.4586813 & -0.2913187 & 7.862241e-04\\\\\n",
       "\t2:3-2:1 &  3.675 &  3.0913187 &  4.2586813 & 4.218847e-15\\\\\n",
       "\t3:3-2:1 &  7.800 &  7.2163187 &  8.3836813 & 4.218847e-15\\\\\n",
       "\t1:2-3:1 & -1.375 & -1.9586813 & -0.7913187 & 5.283997e-07\\\\\n",
       "\t2:2-3:1 &  2.950 &  2.3663187 &  3.5336813 & 2.520206e-14\\\\\n",
       "\t3:2-3:1 &  4.300 &  3.7163187 &  4.8836813 & 4.218847e-15\\\\\n",
       "\t1:3-3:1 & -1.400 & -1.9836813 & -0.8163187 & 3.744504e-07\\\\\n",
       "\t2:3-3:1 &  3.150 &  2.5663187 &  3.7336813 & 8.659740e-15\\\\\n",
       "\t3:3-3:1 &  7.275 &  6.6913187 &  7.8586813 & 4.218847e-15\\\\\n",
       "\t2:2-1:2 &  4.325 &  3.7413187 &  4.9086813 & 4.218847e-15\\\\\n",
       "\t3:2-1:2 &  5.675 &  5.0913187 &  6.2586813 & 4.218847e-15\\\\\n",
       "\t1:3-1:2 & -0.025 & -0.6086813 &  0.5586813 & 1.000000e+00\\\\\n",
       "\t2:3-1:2 &  4.525 &  3.9413187 &  5.1086813 & 4.218847e-15\\\\\n",
       "\t3:3-1:2 &  8.650 &  8.0663187 &  9.2336813 & 4.218847e-15\\\\\n",
       "\t3:2-2:2 &  1.350 &  0.7663187 &  1.9336813 & 7.475322e-07\\\\\n",
       "\t1:3-2:2 & -4.350 & -4.9336813 & -3.7663187 & 4.218847e-15\\\\\n",
       "\t2:3-2:2 &  0.200 & -0.3836813 &  0.7836813 & 9.596929e-01\\\\\n",
       "\t3:3-2:2 &  4.325 &  3.7413187 &  4.9086813 & 4.218847e-15\\\\\n",
       "\t1:3-3:2 & -5.700 & -6.2836813 & -5.1163187 & 4.218847e-15\\\\\n",
       "\t2:3-3:2 & -1.150 & -1.7336813 & -0.5663187 & 1.305447e-05\\\\\n",
       "\t3:3-3:2 &  2.975 &  2.3913187 &  3.5586813 & 2.142730e-14\\\\\n",
       "\t2:3-1:3 &  4.550 &  3.9663187 &  5.1336813 & 4.218847e-15\\\\\n",
       "\t3:3-1:3 &  8.675 &  8.0913187 &  9.2586813 & 4.218847e-15\\\\\n",
       "\t3:3-2:3 &  4.125 &  3.5413187 &  4.7086813 & 4.218847e-15\\\\\n",
       "\\end{tabular}\n"
      ],
      "text/markdown": [
       "\n",
       "A matrix: 36 × 4 of type dbl\n",
       "\n",
       "| <!--/--> | diff | lwr | upr | p adj |\n",
       "|---|---|---|---|---|\n",
       "| 2:1-1:1 |  2.975 |  2.3913187 |  3.5586813 | 2.142730e-14 |\n",
       "| 3:1-1:1 |  3.500 |  2.9163187 |  4.0836813 | 4.440892e-15 |\n",
       "| 1:2-1:1 |  2.125 |  1.5413187 |  2.7086813 | 5.300671e-11 |\n",
       "| 2:2-1:1 |  6.450 |  5.8663187 |  7.0336813 | 4.218847e-15 |\n",
       "| 3:2-1:1 |  7.800 |  7.2163187 |  8.3836813 | 4.218847e-15 |\n",
       "| 1:3-1:1 |  2.100 |  1.5163187 |  2.6836813 | 6.947942e-11 |\n",
       "| 2:3-1:1 |  6.650 |  6.0663187 |  7.2336813 | 4.218847e-15 |\n",
       "| 3:3-1:1 | 10.775 | 10.1913187 | 11.3586813 | 4.218847e-15 |\n",
       "| 3:1-2:1 |  0.525 | -0.0586813 |  1.1086813 | 1.033088e-01 |\n",
       "| 1:2-2:1 | -0.850 | -1.4336813 | -0.2663187 | 1.142444e-03 |\n",
       "| 2:2-2:1 |  3.475 |  2.8913187 |  4.0586813 | 4.551914e-15 |\n",
       "| 3:2-2:1 |  4.825 |  4.2413187 |  5.4086813 | 4.218847e-15 |\n",
       "| 1:3-2:1 | -0.875 | -1.4586813 | -0.2913187 | 7.862241e-04 |\n",
       "| 2:3-2:1 |  3.675 |  3.0913187 |  4.2586813 | 4.218847e-15 |\n",
       "| 3:3-2:1 |  7.800 |  7.2163187 |  8.3836813 | 4.218847e-15 |\n",
       "| 1:2-3:1 | -1.375 | -1.9586813 | -0.7913187 | 5.283997e-07 |\n",
       "| 2:2-3:1 |  2.950 |  2.3663187 |  3.5336813 | 2.520206e-14 |\n",
       "| 3:2-3:1 |  4.300 |  3.7163187 |  4.8836813 | 4.218847e-15 |\n",
       "| 1:3-3:1 | -1.400 | -1.9836813 | -0.8163187 | 3.744504e-07 |\n",
       "| 2:3-3:1 |  3.150 |  2.5663187 |  3.7336813 | 8.659740e-15 |\n",
       "| 3:3-3:1 |  7.275 |  6.6913187 |  7.8586813 | 4.218847e-15 |\n",
       "| 2:2-1:2 |  4.325 |  3.7413187 |  4.9086813 | 4.218847e-15 |\n",
       "| 3:2-1:2 |  5.675 |  5.0913187 |  6.2586813 | 4.218847e-15 |\n",
       "| 1:3-1:2 | -0.025 | -0.6086813 |  0.5586813 | 1.000000e+00 |\n",
       "| 2:3-1:2 |  4.525 |  3.9413187 |  5.1086813 | 4.218847e-15 |\n",
       "| 3:3-1:2 |  8.650 |  8.0663187 |  9.2336813 | 4.218847e-15 |\n",
       "| 3:2-2:2 |  1.350 |  0.7663187 |  1.9336813 | 7.475322e-07 |\n",
       "| 1:3-2:2 | -4.350 | -4.9336813 | -3.7663187 | 4.218847e-15 |\n",
       "| 2:3-2:2 |  0.200 | -0.3836813 |  0.7836813 | 9.596929e-01 |\n",
       "| 3:3-2:2 |  4.325 |  3.7413187 |  4.9086813 | 4.218847e-15 |\n",
       "| 1:3-3:2 | -5.700 | -6.2836813 | -5.1163187 | 4.218847e-15 |\n",
       "| 2:3-3:2 | -1.150 | -1.7336813 | -0.5663187 | 1.305447e-05 |\n",
       "| 3:3-3:2 |  2.975 |  2.3913187 |  3.5586813 | 2.142730e-14 |\n",
       "| 2:3-1:3 |  4.550 |  3.9663187 |  5.1336813 | 4.218847e-15 |\n",
       "| 3:3-1:3 |  8.675 |  8.0913187 |  9.2586813 | 4.218847e-15 |\n",
       "| 3:3-2:3 |  4.125 |  3.5413187 |  4.7086813 | 4.218847e-15 |\n",
       "\n"
      ],
      "text/plain": [
       "        diff   lwr        upr        p adj       \n",
       "2:1-1:1  2.975  2.3913187  3.5586813 2.142730e-14\n",
       "3:1-1:1  3.500  2.9163187  4.0836813 4.440892e-15\n",
       "1:2-1:1  2.125  1.5413187  2.7086813 5.300671e-11\n",
       "2:2-1:1  6.450  5.8663187  7.0336813 4.218847e-15\n",
       "3:2-1:1  7.800  7.2163187  8.3836813 4.218847e-15\n",
       "1:3-1:1  2.100  1.5163187  2.6836813 6.947942e-11\n",
       "2:3-1:1  6.650  6.0663187  7.2336813 4.218847e-15\n",
       "3:3-1:1 10.775 10.1913187 11.3586813 4.218847e-15\n",
       "3:1-2:1  0.525 -0.0586813  1.1086813 1.033088e-01\n",
       "1:2-2:1 -0.850 -1.4336813 -0.2663187 1.142444e-03\n",
       "2:2-2:1  3.475  2.8913187  4.0586813 4.551914e-15\n",
       "3:2-2:1  4.825  4.2413187  5.4086813 4.218847e-15\n",
       "1:3-2:1 -0.875 -1.4586813 -0.2913187 7.862241e-04\n",
       "2:3-2:1  3.675  3.0913187  4.2586813 4.218847e-15\n",
       "3:3-2:1  7.800  7.2163187  8.3836813 4.218847e-15\n",
       "1:2-3:1 -1.375 -1.9586813 -0.7913187 5.283997e-07\n",
       "2:2-3:1  2.950  2.3663187  3.5336813 2.520206e-14\n",
       "3:2-3:1  4.300  3.7163187  4.8836813 4.218847e-15\n",
       "1:3-3:1 -1.400 -1.9836813 -0.8163187 3.744504e-07\n",
       "2:3-3:1  3.150  2.5663187  3.7336813 8.659740e-15\n",
       "3:3-3:1  7.275  6.6913187  7.8586813 4.218847e-15\n",
       "2:2-1:2  4.325  3.7413187  4.9086813 4.218847e-15\n",
       "3:2-1:2  5.675  5.0913187  6.2586813 4.218847e-15\n",
       "1:3-1:2 -0.025 -0.6086813  0.5586813 1.000000e+00\n",
       "2:3-1:2  4.525  3.9413187  5.1086813 4.218847e-15\n",
       "3:3-1:2  8.650  8.0663187  9.2336813 4.218847e-15\n",
       "3:2-2:2  1.350  0.7663187  1.9336813 7.475322e-07\n",
       "1:3-2:2 -4.350 -4.9336813 -3.7663187 4.218847e-15\n",
       "2:3-2:2  0.200 -0.3836813  0.7836813 9.596929e-01\n",
       "3:3-2:2  4.325  3.7413187  4.9086813 4.218847e-15\n",
       "1:3-3:2 -5.700 -6.2836813 -5.1163187 4.218847e-15\n",
       "2:3-3:2 -1.150 -1.7336813 -0.5663187 1.305447e-05\n",
       "3:3-3:2  2.975  2.3913187  3.5586813 2.142730e-14\n",
       "2:3-1:3  4.550  3.9663187  5.1336813 4.218847e-15\n",
       "3:3-1:3  8.675  8.0913187  9.2586813 4.218847e-15\n",
       "3:3-2:3  4.125  3.5413187  4.7086813 4.218847e-15"
      ]
     },
     "metadata": {},
     "output_type": "display_data"
    }
   ],
   "source": [
    "# Find the confidence interval among the many comparisons...\n",
    "T.ci[['Ingredient.1:Ingredient.2']]"
   ]
  },
  {
   "cell_type": "markdown",
   "metadata": {},
   "source": [
    "To wrap up this exploratory analysis, we want to investigate the plausibility of the assumptions we make. In `R`, the basic diagnostic plots can be conveniently called using the `plot()` function once we feed it with a fitted model. If you find any red flags, you may proceed to conduct formal testings or sensitivity analysis (i.e., fitting alternative models)."
   ]
  },
  {
   "cell_type": "code",
   "execution_count": 52,
   "metadata": {},
   "outputs": [
    {
     "data": {
      "image/png": "[encoded data removed]",
      "text/plain": [
       "Plot with title \"\""
      ]
     },
     "metadata": {
      "image/png": {
       "height": 360,
       "width": 720
      }
     },
     "output_type": "display_data"
    }
   ],
   "source": [
    "# Diagnostic plots\n",
    "options(repr.plot.width=12, repr.plot.height=6)\n",
    "par(mfrow=c(1,2))\n",
    "plot(anova.fit,cex.lab=1.2,which=1:2)\n",
    "par(mfrow=c(1,1))"
   ]
  }
 ],
 "metadata": {
  "author": "mes ",
  "kernelspec": {
   "display_name": "R",
   "language": "R",
   "name": "ir"
  },
  "language_info": {
   "codemirror_mode": "r",
   "file_extension": ".r",
   "mimetype": "text/x-r-source",
   "name": "R",
   "pygments_lexer": "r",
   "version": "4.1.0"
  },
  "latex_envs": {
   "LaTeX_envs_menu_present": true,
   "autoclose": false,
   "autocomplete": true,
   "bibliofile": "biblio.bib",
   "cite_by": "apalike",
   "current_citInitial": 1,
   "eqLabelWithNumbers": true,
   "eqNumInitial": 1,
   "hotkeys": {
    "equation": "Ctrl-E",
    "itemize": "Ctrl-I"
   },
   "labels_anchors": false,
   "latex_user_defs": false,
   "report_style_numbering": false,
   "user_envs_cfg": false
  }
 },
 "nbformat": 4,
 "nbformat_minor": 2
}
