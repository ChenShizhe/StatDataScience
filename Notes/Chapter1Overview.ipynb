{
 "cells": [
  {
   "cell_type": "markdown",
   "metadata": {},
   "source": [
    "# Chapter 1 Overview of Statistical Data Science "
   ]
  },
  {
   "cell_type": "markdown",
   "metadata": {},
   "source": [
    "## 1.1 What is data science?\n",
    "\n",
    "Data science is an interdisciplinary field. \n",
    "- It uses scientific methods, processes, algorithms and systems to extract knowledge and insights from many structural and unstructured data.\n",
    "- It involves techniques and theories drawn from many fields within the context of mathematics, statistics, computer science, domain knowledge and information science.\n",
    "- It is related to data mining, machine learning and big data. \n",
    "\n",
    "\n",
    "People have very different views regarding data science and statistics.  \n",
    "\n",
    "- Some argued that data science is not a new field, but rather another name for statistics.\n",
    "- Some see that data science is applied statistics.\n",
    "- Some see that data science as a brand new field that uses statistics. \n",
    "\n",
    "Everyone agrees that statistics is a crucial component of data science.\n",
    "\n",
    "Compared with _traditional_ statistics (e.g., in the 70s), data science \n",
    "- deals with new types of data (e.g., images, electronic health record),\n",
    "- deals with huge datasets,\n",
    "- and emphasizes prediction and action.\n",
    "\n",
    "\n",
    "\n",
    "A crude schematic of a common data science project is show below. \n",
    "<img src=\"../Figures/Ch1/datasci1.jpg\" alt=\"ds1\" style=\"width: 500px;\"/>\n",
    "We can roughly categorize tasks of a data scientist based on the schematic. \n",
    "\n",
    "| Task | Descriptions | Skills required |\n",
    "| :-: | :- | :- |\n",
    "| Visioning | To generate hypotheses or questions that are of interest  | Domain knowledge, self-learning, quantitative methods, etc. |\n",
    "| Data acquisition | To gather data for verifying hypotheses via experiments, sample surveys, or data queries | Experimental designs, causal inference, query languages, etc. |\n",
    "| Analysis | To analyze data to produce meaningful visualizations, build predictive models, test hypotheses, etc. | Domain knowledge, programming languages, statistical models, statistical theory, optimization, etc.  |\n",
    "| Conclusion | To conclude the analysis results in writing or via presentations | Communication skills, writing skills, public speaking skills, etc.  |\n",
    "| Management | To manage and oversee the project | Leadership, collaboration skills, tools for team projects, etc. |\n",
    "\n",
    "\n",
    "This collection of notes focuses on the __Data__ part of the chain. \n",
    "<img src=\"../Figures/Ch1/datasci2.jpg\" alt=\"ds2\" style=\"width: 500px;\"/>\n",
    "The transform-visualise-model step is in fact an iterative process, where we need to reflect and revise our approaches based on results in previous steps. \n",
    "<img src=\"../Figures/Ch1/datasci3.jpg\" alt=\"ds3\" style=\"width: 500px;\"/>\n",
    "\n"
   ]
  },
  {
   "cell_type": "markdown",
   "metadata": {},
   "source": [
    "## 1.2 Example: `wages`\n",
    "\n",
    "We now turn to the `wages` data to see an example of data analysis. "
   ]
  },
  {
   "cell_type": "code",
   "execution_count": 4,
   "metadata": {
    "scrolled": true
   },
   "outputs": [
    {
     "data": {
      "image/png": "[encoded data removed]",
      "text/plain": [
       "plot without title"
      ]
     },
     "metadata": {
      "image/png": {
       "height": 420,
       "width": 420
      }
     },
     "output_type": "display_data"
    }
   ],
   "source": [
    "library(readxl)\n",
    "library(ggplot2)\n",
    "suppressPackageStartupMessages(library(tidyverse)) \n",
    "\n",
    "wages <- read_excel(\"../Data/wages.xlsx\",na=\"NA\")\n",
    "wages %>% \n",
    "  ggplot(aes(log(income))) + geom_histogram(binwidth = 0.25)"
   ]
  },
  {
   "cell_type": "code",
   "execution_count": 9,
   "metadata": {},
   "outputs": [
    {
     "data": {
      "text/plain": [
       "\n",
       "Call:\n",
       "lm(formula = log(income) ~ education, data = .)\n",
       "\n",
       "Coefficients:\n",
       "(Intercept)    education  \n",
       "     8.5577       0.1418  \n"
      ]
     },
     "metadata": {},
     "output_type": "display_data"
    },
    {
     "data": {
      "text/html": [
       "'lm'"
      ],
      "text/latex": [
       "'lm'"
      ],
      "text/markdown": [
       "'lm'"
      ],
      "text/plain": [
       "[1] \"lm\""
      ]
     },
     "metadata": {},
     "output_type": "display_data"
    }
   ],
   "source": [
    "# Fit a linear regression using lm()\n",
    "mod_e <- lm(log(income)~ education, data= wages)"
   ]
  },
  {
   "cell_type": "markdown",
   "metadata": {},
   "source": [
    "In the code above, we propose a linear model for the response (log income) and the single predictor (education). \n",
    "\n",
    "<img src=\"../Figures/Ch1/lm.jpg\" alt=\"lm\" style=\"width: 400px;\"/>\n",
    "\n",
    "The formula for `lm()` only needs to include the response (variable on the y axis) and predictors (variable on the x-axis). The intercept term is included by default, unless specified otherwise (`-1`). \n",
    "\n",
    "\n",
    "<img src=\"../Figures/Ch1/formula.jpg\" alt=\"lm\" style=\"width: 400px;\"/>"
   ]
  },
  {
   "cell_type": "code",
   "execution_count": 16,
   "metadata": {},
   "outputs": [
    {
     "data": {
      "text/plain": [
       "\n",
       "Call:\n",
       "lm(formula = log(income) ~ education, data = .)\n",
       "\n",
       "Coefficients:\n",
       "(Intercept)    education  \n",
       "     8.5577       0.1418  \n"
      ]
     },
     "metadata": {},
     "output_type": "display_data"
    },
    {
     "data": {
      "text/html": [
       "<strong>(Intercept):</strong> 8.558"
      ],
      "text/latex": [
       "\\textbf{(Intercept):} 8.558"
      ],
      "text/markdown": [
       "**(Intercept):** 8.558"
      ],
      "text/plain": [
       "(Intercept) \n",
       "      8.558 "
      ]
     },
     "metadata": {},
     "output_type": "display_data"
    }
   ],
   "source": [
    "mod_e"
   ]
  },
  {
   "cell_type": "markdown",
   "metadata": {
    "variables": {
     "as.numeric(round(mod_e$coef[1],digits=3))": "8.558",
     "as.numeric(round(mod_e$coef[2],digits=3))": "0.142"
    }
   },
   "source": [
    "We can try to interpret the fitted coefficients.   \n",
    "- The average log income is {{as.numeric(round(mod_e$coef[1],digits=3))}} for those with zero years of education.\n",
    "\n",
    "- The average difference in log income is {{as.numeric(round(mod_e$coef[2],digits=3))}} for groups with one year difference in education. \n",
    "\n",
    "Neither statement makes a lot of sense. For instance, (1) there isn't anyone with zero years of education in the `wages` dataset, and (2) differences in log income are not informative for general audience. Therefore, we have two questions to think about. \n",
    "- Why take the logarithm of income?\n",
    "- How should we interpret the fitted results?\n",
    "\n"
   ]
  },
  {
   "cell_type": "markdown",
   "metadata": {},
   "source": [
    "After model fitting, we usually proceed to hypothesis testing, predictive modeling, or model diagnostics. An experienced reader can certainly perform these tasks from scratch. However, it is best not to reinvent the wheels. For very common tasks, it is extremely likely that there are existing tools out there on the Internet. Here we use the package `broom` in `R`. \n",
    "\n",
    "`Broom` includes three functions which work for most types of models (and can be extended to more):  \n",
    "1. `tidy()` - returns model coefficients, stats: what uncertainty is associated with it?  \n",
    "2. `glance()` - returns model diagnostics: how \"good\" is the model?  \n",
    "3. `augment()` - returns predictions, residuals, and other raw values  "
   ]
  },
  {
   "cell_type": "code",
   "execution_count": 30,
   "metadata": {},
   "outputs": [
    {
     "data": {
      "text/html": [
       "<table>\n",
       "<caption>A tibble: 2 × 5</caption>\n",
       "<thead>\n",
       "\t<tr><th scope=col>term</th><th scope=col>estimate</th><th scope=col>std.error</th><th scope=col>statistic</th><th scope=col>p.value</th></tr>\n",
       "\t<tr><th scope=col>&lt;chr&gt;</th><th scope=col>&lt;dbl&gt;</th><th scope=col>&lt;dbl&gt;</th><th scope=col>&lt;dbl&gt;</th><th scope=col>&lt;dbl&gt;</th></tr>\n",
       "</thead>\n",
       "<tbody>\n",
       "\t<tr><td>(Intercept)</td><td>8.5576906</td><td>0.073259622</td><td>116.81320</td><td> 0.000000e+00</td></tr>\n",
       "\t<tr><td>education  </td><td>0.1418404</td><td>0.005304577</td><td> 26.73924</td><td>8.408952e-148</td></tr>\n",
       "</tbody>\n",
       "</table>\n"
      ],
      "text/latex": [
       "A tibble: 2 × 5\n",
       "\\begin{tabular}{lllll}\n",
       " term & estimate & std.error & statistic & p.value\\\\\n",
       " <chr> & <dbl> & <dbl> & <dbl> & <dbl>\\\\\n",
       "\\hline\n",
       "\t (Intercept) & 8.5576906 & 0.073259622 & 116.81320 &  0.000000e+00\\\\\n",
       "\t education   & 0.1418404 & 0.005304577 &  26.73924 & 8.408952e-148\\\\\n",
       "\\end{tabular}\n"
      ],
      "text/markdown": [
       "\n",
       "A tibble: 2 × 5\n",
       "\n",
       "| term &lt;chr&gt; | estimate &lt;dbl&gt; | std.error &lt;dbl&gt; | statistic &lt;dbl&gt; | p.value &lt;dbl&gt; |\n",
       "|---|---|---|---|---|\n",
       "| (Intercept) | 8.5576906 | 0.073259622 | 116.81320 |  0.000000e+00 |\n",
       "| education   | 0.1418404 | 0.005304577 |  26.73924 | 8.408952e-148 |\n",
       "\n"
      ],
      "text/plain": [
       "  term        estimate  std.error   statistic p.value      \n",
       "1 (Intercept) 8.5576906 0.073259622 116.81320  0.000000e+00\n",
       "2 education   0.1418404 0.005304577  26.73924 8.408952e-148"
      ]
     },
     "metadata": {},
     "output_type": "display_data"
    }
   ],
   "source": [
    "library(broom)\n",
    "mod_e %>% tidy()"
   ]
  },
  {
   "cell_type": "code",
   "execution_count": 31,
   "metadata": {},
   "outputs": [
    {
     "data": {
      "text/html": [
       "<table>\n",
       "<caption>A tibble: 1 × 12</caption>\n",
       "<thead>\n",
       "\t<tr><th scope=col>r.squared</th><th scope=col>adj.r.squared</th><th scope=col>sigma</th><th scope=col>statistic</th><th scope=col>p.value</th><th scope=col>df</th><th scope=col>logLik</th><th scope=col>AIC</th><th scope=col>BIC</th><th scope=col>deviance</th><th scope=col>df.residual</th><th scope=col>nobs</th></tr>\n",
       "\t<tr><th scope=col>&lt;dbl&gt;</th><th scope=col>&lt;dbl&gt;</th><th scope=col>&lt;dbl&gt;</th><th scope=col>&lt;dbl&gt;</th><th scope=col>&lt;dbl&gt;</th><th scope=col>&lt;dbl&gt;</th><th scope=col>&lt;dbl&gt;</th><th scope=col>&lt;dbl&gt;</th><th scope=col>&lt;dbl&gt;</th><th scope=col>&lt;dbl&gt;</th><th scope=col>&lt;int&gt;</th><th scope=col>&lt;int&gt;</th></tr>\n",
       "</thead>\n",
       "<tbody>\n",
       "\t<tr><td>0.1196233</td><td>0.119456</td><td>0.9923358</td><td>714.987</td><td>8.408952e-148</td><td>1</td><td>-7427.793</td><td>14861.59</td><td>14881.29</td><td>5181.651</td><td>5262</td><td>5264</td></tr>\n",
       "</tbody>\n",
       "</table>\n"
      ],
      "text/latex": [
       "A tibble: 1 × 12\n",
       "\\begin{tabular}{llllllllllll}\n",
       " r.squared & adj.r.squared & sigma & statistic & p.value & df & logLik & AIC & BIC & deviance & df.residual & nobs\\\\\n",
       " <dbl> & <dbl> & <dbl> & <dbl> & <dbl> & <dbl> & <dbl> & <dbl> & <dbl> & <dbl> & <int> & <int>\\\\\n",
       "\\hline\n",
       "\t 0.1196233 & 0.119456 & 0.9923358 & 714.987 & 8.408952e-148 & 1 & -7427.793 & 14861.59 & 14881.29 & 5181.651 & 5262 & 5264\\\\\n",
       "\\end{tabular}\n"
      ],
      "text/markdown": [
       "\n",
       "A tibble: 1 × 12\n",
       "\n",
       "| r.squared &lt;dbl&gt; | adj.r.squared &lt;dbl&gt; | sigma &lt;dbl&gt; | statistic &lt;dbl&gt; | p.value &lt;dbl&gt; | df &lt;dbl&gt; | logLik &lt;dbl&gt; | AIC &lt;dbl&gt; | BIC &lt;dbl&gt; | deviance &lt;dbl&gt; | df.residual &lt;int&gt; | nobs &lt;int&gt; |\n",
       "|---|---|---|---|---|---|---|---|---|---|---|---|\n",
       "| 0.1196233 | 0.119456 | 0.9923358 | 714.987 | 8.408952e-148 | 1 | -7427.793 | 14861.59 | 14881.29 | 5181.651 | 5262 | 5264 |\n",
       "\n"
      ],
      "text/plain": [
       "  r.squared adj.r.squared sigma     statistic p.value       df logLik   \n",
       "1 0.1196233 0.119456      0.9923358 714.987   8.408952e-148 1  -7427.793\n",
       "  AIC      BIC      deviance df.residual nobs\n",
       "1 14861.59 14881.29 5181.651 5262        5264"
      ]
     },
     "metadata": {},
     "output_type": "display_data"
    }
   ],
   "source": [
    "mod_e %>% glance()"
   ]
  },
  {
   "cell_type": "code",
   "execution_count": 32,
   "metadata": {},
   "outputs": [
    {
     "data": {
      "text/html": [
       "<table>\n",
       "<caption>A tibble: 5264 × 8</caption>\n",
       "<thead>\n",
       "\t<tr><th scope=col>.rownames</th><th scope=col>log(income)</th><th scope=col>education</th><th scope=col>.fitted</th><th scope=col>.std.resid</th><th scope=col>.hat</th><th scope=col>.sigma</th><th scope=col>.cooksd</th></tr>\n",
       "\t<tr><th scope=col>&lt;chr&gt;</th><th scope=col>&lt;dbl&gt;</th><th scope=col>&lt;dbl&gt;</th><th scope=col>&lt;dbl&gt;</th><th scope=col>&lt;dbl&gt;</th><th scope=col>&lt;dbl&gt;</th><th scope=col>&lt;dbl&gt;</th><th scope=col>&lt;dbl&gt;</th></tr>\n",
       "</thead>\n",
       "<tbody>\n",
       "\t<tr><td>1 </td><td> 9.852194</td><td>13</td><td>10.401615</td><td>-0.55371967</td><td>0.0001991827</td><td>0.9924012</td><td>3.054133e-05</td></tr>\n",
       "\t<tr><td>2 </td><td>10.463103</td><td>10</td><td> 9.976094</td><td> 0.49090632</td><td>0.0005537086</td><td>0.9924074</td><td>6.675581e-05</td></tr>\n",
       "\t<tr><td>3 </td><td>11.561716</td><td>16</td><td>10.827137</td><td> 0.74038545</td><td>0.0003590043</td><td>0.9923784</td><td>9.843315e-05</td></tr>\n",
       "\t<tr><td>4 </td><td>10.596635</td><td>14</td><td>10.543456</td><td> 0.05359492</td><td>0.0001953068</td><td>0.9924299</td><td>2.805560e-07</td></tr>\n",
       "\t<tr><td>5 </td><td>11.225243</td><td>14</td><td>10.543456</td><td> 0.68712042</td><td>0.0001953068</td><td>0.9923856</td><td>4.611455e-05</td></tr>\n",
       "\t<tr><td>6 </td><td>11.532728</td><td>18</td><td>11.110817</td><td> 0.42532922</td><td>0.0007513008</td><td>0.9924131</td><td>6.800811e-05</td></tr>\n",
       "\t<tr><td>7 </td><td>11.156251</td><td>12</td><td>10.259775</td><td> 0.90351685</td><td>0.0002602083</td><td>0.9923532</td><td>1.062372e-04</td></tr>\n",
       "\t<tr><td>8 </td><td>11.002100</td><td>12</td><td>10.259775</td><td> 0.74815540</td><td>0.0002602083</td><td>0.9923774</td><td>7.284298e-05</td></tr>\n",
       "\t<tr><td>9 </td><td>11.918391</td><td>13</td><td>10.401615</td><td> 1.52864202</td><td>0.0001991827</td><td>0.9922098</td><td>2.327661e-04</td></tr>\n",
       "\t<tr><td>10</td><td>11.652687</td><td>16</td><td>10.827137</td><td> 0.83207630</td><td>0.0003590043</td><td>0.9923648</td><td>1.243231e-04</td></tr>\n",
       "\t<tr><td>11</td><td>12.747903</td><td>16</td><td>10.827137</td><td> 1.93594843</td><td>0.0003590043</td><td>0.9920766</td><td>6.729971e-04</td></tr>\n",
       "\t<tr><td>12</td><td>10.596635</td><td>16</td><td>10.827137</td><td>-0.23232373</td><td>0.0003590043</td><td>0.9924251</td><td>9.691986e-06</td></tr>\n",
       "\t<tr><td>13</td><td>10.463103</td><td>14</td><td>10.543456</td><td>-0.08098093</td><td>0.0001953068</td><td>0.9924295</td><td>6.405274e-07</td></tr>\n",
       "\t<tr><td>14</td><td>11.561716</td><td>16</td><td>10.827137</td><td> 0.74038545</td><td>0.0003590043</td><td>0.9923784</td><td>9.843315e-05</td></tr>\n",
       "\t<tr><td>15</td><td> 9.682591</td><td>16</td><td>10.827137</td><td>-1.15359186</td><td>0.0003590043</td><td>0.9923046</td><td>2.389626e-04</td></tr>\n",
       "\t<tr><td>16</td><td> 8.556414</td><td>12</td><td>10.259775</td><td>-1.71674017</td><td>0.0002602083</td><td>0.9921522</td><td>3.835423e-04</td></tr>\n",
       "\t<tr><td>17</td><td>10.645425</td><td>12</td><td>10.259775</td><td> 0.38867895</td><td>0.0002602083</td><td>0.9924159</td><td>1.966012e-05</td></tr>\n",
       "\t<tr><td>18</td><td>10.878047</td><td>12</td><td>10.259775</td><td> 0.62312838</td><td>0.0002602083</td><td>0.9923935</td><td>5.053115e-05</td></tr>\n",
       "\t<tr><td>19</td><td>10.558414</td><td>12</td><td>10.259775</td><td> 0.30098414</td><td>0.0002602083</td><td>0.9924216</td><td>1.178939e-05</td></tr>\n",
       "\t<tr><td>20</td><td>10.691945</td><td>12</td><td>10.259775</td><td> 0.43556436</td><td>0.0002602083</td><td>0.9924122</td><td>2.468930e-05</td></tr>\n",
       "\t<tr><td>21</td><td>11.440355</td><td>12</td><td>10.259775</td><td> 1.18985260</td><td>0.0002602083</td><td>0.9922966</td><td>1.842428e-04</td></tr>\n",
       "\t<tr><td>22</td><td>11.034890</td><td>12</td><td>10.259775</td><td> 0.78120277</td><td>0.0002602083</td><td>0.9923726</td><td>7.942032e-05</td></tr>\n",
       "\t<tr><td>23</td><td>10.714418</td><td>14</td><td>10.543456</td><td> 0.17229923</td><td>0.0001953068</td><td>0.9924273</td><td>2.899606e-06</td></tr>\n",
       "\t<tr><td>24</td><td>11.775290</td><td>16</td><td>10.827137</td><td> 0.95564771</td><td>0.0003590043</td><td>0.9923440</td><td>1.639915e-04</td></tr>\n",
       "\t<tr><td>25</td><td>10.714418</td><td>12</td><td>10.259775</td><td> 0.45821373</td><td>0.0002602083</td><td>0.9924103</td><td>2.732375e-05</td></tr>\n",
       "\t<tr><td>26</td><td>11.225243</td><td>12</td><td>10.259775</td><td> 0.97305163</td><td>0.0002602083</td><td>0.9923408</td><td>1.232185e-04</td></tr>\n",
       "\t<tr><td>27</td><td>11.198215</td><td>14</td><td>10.543456</td><td> 0.65988033</td><td>0.0001953068</td><td>0.9923891</td><td>4.253071e-05</td></tr>\n",
       "\t<tr><td>28</td><td>10.915088</td><td>12</td><td>10.259775</td><td> 0.66046059</td><td>0.0002602083</td><td>0.9923890</td><td>5.676726e-05</td></tr>\n",
       "\t<tr><td>29</td><td>12.747903</td><td>14</td><td>10.543456</td><td> 2.22168956</td><td>0.0001953068</td><td>0.9919646</td><td>4.821021e-04</td></tr>\n",
       "\t<tr><td>30</td><td>10.308953</td><td>12</td><td>10.259775</td><td> 0.04956390</td><td>0.0002602083</td><td>0.9924299</td><td>3.196943e-07</td></tr>\n",
       "\t<tr><td>...</td><td>...</td><td>...</td><td>...</td><td>...</td><td>...</td><td>...</td><td>...</td></tr>\n",
       "\t<tr><td>5237</td><td>10.714418</td><td>12</td><td>10.259775</td><td> 0.4582137</td><td>0.0002602083</td><td>0.9924103</td><td>2.732375e-05</td></tr>\n",
       "\t<tr><td>5238</td><td> 9.392662</td><td>12</td><td>10.259775</td><td>-0.8739238</td><td>0.0002602083</td><td>0.9923581</td><td>9.939196e-05</td></tr>\n",
       "\t<tr><td>5239</td><td> 7.600902</td><td>12</td><td>10.259775</td><td>-2.6797567</td><td>0.0002602083</td><td>0.9917527</td><td>9.345334e-04</td></tr>\n",
       "\t<tr><td>5240</td><td> 9.472705</td><td>14</td><td>10.543456</td><td>-1.0791263</td><td>0.0001953068</td><td>0.9923203</td><td>1.137409e-04</td></tr>\n",
       "\t<tr><td>5241</td><td>10.043249</td><td>12</td><td>10.259775</td><td>-0.2182262</td><td>0.0002602083</td><td>0.9924256</td><td>6.197521e-06</td></tr>\n",
       "\t<tr><td>5242</td><td> 9.190138</td><td>18</td><td>11.110817</td><td>-1.9362412</td><td>0.0007513008</td><td>0.9920765</td><td>1.409383e-03</td></tr>\n",
       "\t<tr><td>5243</td><td>10.545341</td><td>12</td><td>10.259775</td><td> 0.2878094</td><td>0.0002602083</td><td>0.9924223</td><td>1.077988e-05</td></tr>\n",
       "\t<tr><td>5244</td><td> 9.615805</td><td>11</td><td>10.117935</td><td>-0.5061031</td><td>0.0003783836</td><td>0.9924060</td><td>4.847799e-05</td></tr>\n",
       "\t<tr><td>5245</td><td>10.950807</td><td>18</td><td>11.110817</td><td>-0.1613071</td><td>0.0007513008</td><td>0.9924277</td><td>9.781768e-06</td></tr>\n",
       "\t<tr><td>5246</td><td>11.982929</td><td>16</td><td>10.827137</td><td> 1.1649283</td><td>0.0003590043</td><td>0.9923022</td><td>2.436823e-04</td></tr>\n",
       "\t<tr><td>5247</td><td>12.747903</td><td>18</td><td>11.110817</td><td> 1.6503493</td><td>0.0007513008</td><td>0.9921733</td><td>1.023910e-03</td></tr>\n",
       "\t<tr><td>5248</td><td>10.705489</td><td>12</td><td>10.259775</td><td> 0.4492150</td><td>0.0002602083</td><td>0.9924111</td><td>2.626108e-05</td></tr>\n",
       "\t<tr><td>5249</td><td>11.082143</td><td>16</td><td>10.827137</td><td> 0.2570217</td><td>0.0003590043</td><td>0.9924239</td><td>1.186220e-05</td></tr>\n",
       "\t<tr><td>5250</td><td>10.165852</td><td> 6</td><td> 9.408733</td><td> 0.7636642</td><td>0.0018265061</td><td>0.9923751</td><td>5.335683e-04</td></tr>\n",
       "\t<tr><td>5251</td><td> 9.118225</td><td>11</td><td>10.117935</td><td>-1.0076213</td><td>0.0003783836</td><td>0.9923344</td><td>1.921593e-04</td></tr>\n",
       "\t<tr><td>5252</td><td>10.373491</td><td>10</td><td> 9.976094</td><td> 0.4005770</td><td>0.0005537086</td><td>0.9924150</td><td>4.444920e-05</td></tr>\n",
       "\t<tr><td>5253</td><td>10.434116</td><td>12</td><td>10.259775</td><td> 0.1757101</td><td>0.0002602083</td><td>0.9924272</td><td>4.017887e-06</td></tr>\n",
       "\t<tr><td>5254</td><td> 9.210340</td><td>12</td><td>10.259775</td><td>-1.0576774</td><td>0.0002602083</td><td>0.9923246</td><td>1.455830e-04</td></tr>\n",
       "\t<tr><td>5255</td><td> 9.998798</td><td>11</td><td>10.117935</td><td>-0.1200798</td><td>0.0003783836</td><td>0.9924288</td><td>2.729018e-06</td></tr>\n",
       "\t<tr><td>5256</td><td>10.596635</td><td>16</td><td>10.827137</td><td>-0.2323237</td><td>0.0003590043</td><td>0.9924251</td><td>9.691986e-06</td></tr>\n",
       "\t<tr><td>5257</td><td>10.933107</td><td>12</td><td>10.259775</td><td> 0.6786206</td><td>0.0002602083</td><td>0.9923867</td><td>5.993192e-05</td></tr>\n",
       "\t<tr><td>5258</td><td> 9.952278</td><td>12</td><td>10.259775</td><td>-0.3099125</td><td>0.0002602083</td><td>0.9924211</td><td>1.249921e-05</td></tr>\n",
       "\t<tr><td>5259</td><td> 9.998798</td><td>14</td><td>10.543456</td><td>-0.5489182</td><td>0.0001953068</td><td>0.9924017</td><td>2.942982e-05</td></tr>\n",
       "\t<tr><td>5260</td><td> 9.546813</td><td>12</td><td>10.259775</td><td>-0.7185624</td><td>0.0002602083</td><td>0.9923814</td><td>6.719439e-05</td></tr>\n",
       "\t<tr><td>5261</td><td> 8.006368</td><td>12</td><td>10.259775</td><td>-2.2711068</td><td>0.0002602083</td><td>0.9919436</td><td>6.712422e-04</td></tr>\n",
       "\t<tr><td>5262</td><td>11.184421</td><td>14</td><td>10.543456</td><td> 0.6459791</td><td>0.0001953068</td><td>0.9923908</td><td>4.075766e-05</td></tr>\n",
       "\t<tr><td>5263</td><td>10.043249</td><td>16</td><td>10.827137</td><td>-0.7900831</td><td>0.0003590043</td><td>0.9923713</td><td>1.120911e-04</td></tr>\n",
       "\t<tr><td>5264</td><td>11.350407</td><td>12</td><td>10.259775</td><td> 1.0991979</td><td>0.0002602083</td><td>0.9923162</td><td>1.572374e-04</td></tr>\n",
       "\t<tr><td>5265</td><td> 9.798127</td><td>12</td><td>10.259775</td><td>-0.4652740</td><td>0.0002602083</td><td>0.9924097</td><td>2.817226e-05</td></tr>\n",
       "\t<tr><td>5266</td><td>10.126631</td><td>12</td><td>10.259775</td><td>-0.1341897</td><td>0.0002602083</td><td>0.9924284</td><td>2.343379e-06</td></tr>\n",
       "</tbody>\n",
       "</table>\n"
      ],
      "text/latex": [
       "A tibble: 5264 × 8\n",
       "\\begin{tabular}{llllllll}\n",
       " .rownames & log(income) & education & .fitted & .std.resid & .hat & .sigma & .cooksd\\\\\n",
       " <chr> & <dbl> & <dbl> & <dbl> & <dbl> & <dbl> & <dbl> & <dbl>\\\\\n",
       "\\hline\n",
       "\t 1  &  9.852194 & 13 & 10.401615 & -0.55371967 & 0.0001991827 & 0.9924012 & 3.054133e-05\\\\\n",
       "\t 2  & 10.463103 & 10 &  9.976094 &  0.49090632 & 0.0005537086 & 0.9924074 & 6.675581e-05\\\\\n",
       "\t 3  & 11.561716 & 16 & 10.827137 &  0.74038545 & 0.0003590043 & 0.9923784 & 9.843315e-05\\\\\n",
       "\t 4  & 10.596635 & 14 & 10.543456 &  0.05359492 & 0.0001953068 & 0.9924299 & 2.805560e-07\\\\\n",
       "\t 5  & 11.225243 & 14 & 10.543456 &  0.68712042 & 0.0001953068 & 0.9923856 & 4.611455e-05\\\\\n",
       "\t 6  & 11.532728 & 18 & 11.110817 &  0.42532922 & 0.0007513008 & 0.9924131 & 6.800811e-05\\\\\n",
       "\t 7  & 11.156251 & 12 & 10.259775 &  0.90351685 & 0.0002602083 & 0.9923532 & 1.062372e-04\\\\\n",
       "\t 8  & 11.002100 & 12 & 10.259775 &  0.74815540 & 0.0002602083 & 0.9923774 & 7.284298e-05\\\\\n",
       "\t 9  & 11.918391 & 13 & 10.401615 &  1.52864202 & 0.0001991827 & 0.9922098 & 2.327661e-04\\\\\n",
       "\t 10 & 11.652687 & 16 & 10.827137 &  0.83207630 & 0.0003590043 & 0.9923648 & 1.243231e-04\\\\\n",
       "\t 11 & 12.747903 & 16 & 10.827137 &  1.93594843 & 0.0003590043 & 0.9920766 & 6.729971e-04\\\\\n",
       "\t 12 & 10.596635 & 16 & 10.827137 & -0.23232373 & 0.0003590043 & 0.9924251 & 9.691986e-06\\\\\n",
       "\t 13 & 10.463103 & 14 & 10.543456 & -0.08098093 & 0.0001953068 & 0.9924295 & 6.405274e-07\\\\\n",
       "\t 14 & 11.561716 & 16 & 10.827137 &  0.74038545 & 0.0003590043 & 0.9923784 & 9.843315e-05\\\\\n",
       "\t 15 &  9.682591 & 16 & 10.827137 & -1.15359186 & 0.0003590043 & 0.9923046 & 2.389626e-04\\\\\n",
       "\t 16 &  8.556414 & 12 & 10.259775 & -1.71674017 & 0.0002602083 & 0.9921522 & 3.835423e-04\\\\\n",
       "\t 17 & 10.645425 & 12 & 10.259775 &  0.38867895 & 0.0002602083 & 0.9924159 & 1.966012e-05\\\\\n",
       "\t 18 & 10.878047 & 12 & 10.259775 &  0.62312838 & 0.0002602083 & 0.9923935 & 5.053115e-05\\\\\n",
       "\t 19 & 10.558414 & 12 & 10.259775 &  0.30098414 & 0.0002602083 & 0.9924216 & 1.178939e-05\\\\\n",
       "\t 20 & 10.691945 & 12 & 10.259775 &  0.43556436 & 0.0002602083 & 0.9924122 & 2.468930e-05\\\\\n",
       "\t 21 & 11.440355 & 12 & 10.259775 &  1.18985260 & 0.0002602083 & 0.9922966 & 1.842428e-04\\\\\n",
       "\t 22 & 11.034890 & 12 & 10.259775 &  0.78120277 & 0.0002602083 & 0.9923726 & 7.942032e-05\\\\\n",
       "\t 23 & 10.714418 & 14 & 10.543456 &  0.17229923 & 0.0001953068 & 0.9924273 & 2.899606e-06\\\\\n",
       "\t 24 & 11.775290 & 16 & 10.827137 &  0.95564771 & 0.0003590043 & 0.9923440 & 1.639915e-04\\\\\n",
       "\t 25 & 10.714418 & 12 & 10.259775 &  0.45821373 & 0.0002602083 & 0.9924103 & 2.732375e-05\\\\\n",
       "\t 26 & 11.225243 & 12 & 10.259775 &  0.97305163 & 0.0002602083 & 0.9923408 & 1.232185e-04\\\\\n",
       "\t 27 & 11.198215 & 14 & 10.543456 &  0.65988033 & 0.0001953068 & 0.9923891 & 4.253071e-05\\\\\n",
       "\t 28 & 10.915088 & 12 & 10.259775 &  0.66046059 & 0.0002602083 & 0.9923890 & 5.676726e-05\\\\\n",
       "\t 29 & 12.747903 & 14 & 10.543456 &  2.22168956 & 0.0001953068 & 0.9919646 & 4.821021e-04\\\\\n",
       "\t 30 & 10.308953 & 12 & 10.259775 &  0.04956390 & 0.0002602083 & 0.9924299 & 3.196943e-07\\\\\n",
       "\t ... & ... & ... & ... & ... & ... & ... & ...\\\\\n",
       "\t 5237 & 10.714418 & 12 & 10.259775 &  0.4582137 & 0.0002602083 & 0.9924103 & 2.732375e-05\\\\\n",
       "\t 5238 &  9.392662 & 12 & 10.259775 & -0.8739238 & 0.0002602083 & 0.9923581 & 9.939196e-05\\\\\n",
       "\t 5239 &  7.600902 & 12 & 10.259775 & -2.6797567 & 0.0002602083 & 0.9917527 & 9.345334e-04\\\\\n",
       "\t 5240 &  9.472705 & 14 & 10.543456 & -1.0791263 & 0.0001953068 & 0.9923203 & 1.137409e-04\\\\\n",
       "\t 5241 & 10.043249 & 12 & 10.259775 & -0.2182262 & 0.0002602083 & 0.9924256 & 6.197521e-06\\\\\n",
       "\t 5242 &  9.190138 & 18 & 11.110817 & -1.9362412 & 0.0007513008 & 0.9920765 & 1.409383e-03\\\\\n",
       "\t 5243 & 10.545341 & 12 & 10.259775 &  0.2878094 & 0.0002602083 & 0.9924223 & 1.077988e-05\\\\\n",
       "\t 5244 &  9.615805 & 11 & 10.117935 & -0.5061031 & 0.0003783836 & 0.9924060 & 4.847799e-05\\\\\n",
       "\t 5245 & 10.950807 & 18 & 11.110817 & -0.1613071 & 0.0007513008 & 0.9924277 & 9.781768e-06\\\\\n",
       "\t 5246 & 11.982929 & 16 & 10.827137 &  1.1649283 & 0.0003590043 & 0.9923022 & 2.436823e-04\\\\\n",
       "\t 5247 & 12.747903 & 18 & 11.110817 &  1.6503493 & 0.0007513008 & 0.9921733 & 1.023910e-03\\\\\n",
       "\t 5248 & 10.705489 & 12 & 10.259775 &  0.4492150 & 0.0002602083 & 0.9924111 & 2.626108e-05\\\\\n",
       "\t 5249 & 11.082143 & 16 & 10.827137 &  0.2570217 & 0.0003590043 & 0.9924239 & 1.186220e-05\\\\\n",
       "\t 5250 & 10.165852 &  6 &  9.408733 &  0.7636642 & 0.0018265061 & 0.9923751 & 5.335683e-04\\\\\n",
       "\t 5251 &  9.118225 & 11 & 10.117935 & -1.0076213 & 0.0003783836 & 0.9923344 & 1.921593e-04\\\\\n",
       "\t 5252 & 10.373491 & 10 &  9.976094 &  0.4005770 & 0.0005537086 & 0.9924150 & 4.444920e-05\\\\\n",
       "\t 5253 & 10.434116 & 12 & 10.259775 &  0.1757101 & 0.0002602083 & 0.9924272 & 4.017887e-06\\\\\n",
       "\t 5254 &  9.210340 & 12 & 10.259775 & -1.0576774 & 0.0002602083 & 0.9923246 & 1.455830e-04\\\\\n",
       "\t 5255 &  9.998798 & 11 & 10.117935 & -0.1200798 & 0.0003783836 & 0.9924288 & 2.729018e-06\\\\\n",
       "\t 5256 & 10.596635 & 16 & 10.827137 & -0.2323237 & 0.0003590043 & 0.9924251 & 9.691986e-06\\\\\n",
       "\t 5257 & 10.933107 & 12 & 10.259775 &  0.6786206 & 0.0002602083 & 0.9923867 & 5.993192e-05\\\\\n",
       "\t 5258 &  9.952278 & 12 & 10.259775 & -0.3099125 & 0.0002602083 & 0.9924211 & 1.249921e-05\\\\\n",
       "\t 5259 &  9.998798 & 14 & 10.543456 & -0.5489182 & 0.0001953068 & 0.9924017 & 2.942982e-05\\\\\n",
       "\t 5260 &  9.546813 & 12 & 10.259775 & -0.7185624 & 0.0002602083 & 0.9923814 & 6.719439e-05\\\\\n",
       "\t 5261 &  8.006368 & 12 & 10.259775 & -2.2711068 & 0.0002602083 & 0.9919436 & 6.712422e-04\\\\\n",
       "\t 5262 & 11.184421 & 14 & 10.543456 &  0.6459791 & 0.0001953068 & 0.9923908 & 4.075766e-05\\\\\n",
       "\t 5263 & 10.043249 & 16 & 10.827137 & -0.7900831 & 0.0003590043 & 0.9923713 & 1.120911e-04\\\\\n",
       "\t 5264 & 11.350407 & 12 & 10.259775 &  1.0991979 & 0.0002602083 & 0.9923162 & 1.572374e-04\\\\\n",
       "\t 5265 &  9.798127 & 12 & 10.259775 & -0.4652740 & 0.0002602083 & 0.9924097 & 2.817226e-05\\\\\n",
       "\t 5266 & 10.126631 & 12 & 10.259775 & -0.1341897 & 0.0002602083 & 0.9924284 & 2.343379e-06\\\\\n",
       "\\end{tabular}\n"
      ],
      "text/markdown": [
       "\n",
       "A tibble: 5264 × 8\n",
       "\n",
       "| .rownames &lt;chr&gt; | log(income) &lt;dbl&gt; | education &lt;dbl&gt; | .fitted &lt;dbl&gt; | .std.resid &lt;dbl&gt; | .hat &lt;dbl&gt; | .sigma &lt;dbl&gt; | .cooksd &lt;dbl&gt; |\n",
       "|---|---|---|---|---|---|---|---|\n",
       "| 1  |  9.852194 | 13 | 10.401615 | -0.55371967 | 0.0001991827 | 0.9924012 | 3.054133e-05 |\n",
       "| 2  | 10.463103 | 10 |  9.976094 |  0.49090632 | 0.0005537086 | 0.9924074 | 6.675581e-05 |\n",
       "| 3  | 11.561716 | 16 | 10.827137 |  0.74038545 | 0.0003590043 | 0.9923784 | 9.843315e-05 |\n",
       "| 4  | 10.596635 | 14 | 10.543456 |  0.05359492 | 0.0001953068 | 0.9924299 | 2.805560e-07 |\n",
       "| 5  | 11.225243 | 14 | 10.543456 |  0.68712042 | 0.0001953068 | 0.9923856 | 4.611455e-05 |\n",
       "| 6  | 11.532728 | 18 | 11.110817 |  0.42532922 | 0.0007513008 | 0.9924131 | 6.800811e-05 |\n",
       "| 7  | 11.156251 | 12 | 10.259775 |  0.90351685 | 0.0002602083 | 0.9923532 | 1.062372e-04 |\n",
       "| 8  | 11.002100 | 12 | 10.259775 |  0.74815540 | 0.0002602083 | 0.9923774 | 7.284298e-05 |\n",
       "| 9  | 11.918391 | 13 | 10.401615 |  1.52864202 | 0.0001991827 | 0.9922098 | 2.327661e-04 |\n",
       "| 10 | 11.652687 | 16 | 10.827137 |  0.83207630 | 0.0003590043 | 0.9923648 | 1.243231e-04 |\n",
       "| 11 | 12.747903 | 16 | 10.827137 |  1.93594843 | 0.0003590043 | 0.9920766 | 6.729971e-04 |\n",
       "| 12 | 10.596635 | 16 | 10.827137 | -0.23232373 | 0.0003590043 | 0.9924251 | 9.691986e-06 |\n",
       "| 13 | 10.463103 | 14 | 10.543456 | -0.08098093 | 0.0001953068 | 0.9924295 | 6.405274e-07 |\n",
       "| 14 | 11.561716 | 16 | 10.827137 |  0.74038545 | 0.0003590043 | 0.9923784 | 9.843315e-05 |\n",
       "| 15 |  9.682591 | 16 | 10.827137 | -1.15359186 | 0.0003590043 | 0.9923046 | 2.389626e-04 |\n",
       "| 16 |  8.556414 | 12 | 10.259775 | -1.71674017 | 0.0002602083 | 0.9921522 | 3.835423e-04 |\n",
       "| 17 | 10.645425 | 12 | 10.259775 |  0.38867895 | 0.0002602083 | 0.9924159 | 1.966012e-05 |\n",
       "| 18 | 10.878047 | 12 | 10.259775 |  0.62312838 | 0.0002602083 | 0.9923935 | 5.053115e-05 |\n",
       "| 19 | 10.558414 | 12 | 10.259775 |  0.30098414 | 0.0002602083 | 0.9924216 | 1.178939e-05 |\n",
       "| 20 | 10.691945 | 12 | 10.259775 |  0.43556436 | 0.0002602083 | 0.9924122 | 2.468930e-05 |\n",
       "| 21 | 11.440355 | 12 | 10.259775 |  1.18985260 | 0.0002602083 | 0.9922966 | 1.842428e-04 |\n",
       "| 22 | 11.034890 | 12 | 10.259775 |  0.78120277 | 0.0002602083 | 0.9923726 | 7.942032e-05 |\n",
       "| 23 | 10.714418 | 14 | 10.543456 |  0.17229923 | 0.0001953068 | 0.9924273 | 2.899606e-06 |\n",
       "| 24 | 11.775290 | 16 | 10.827137 |  0.95564771 | 0.0003590043 | 0.9923440 | 1.639915e-04 |\n",
       "| 25 | 10.714418 | 12 | 10.259775 |  0.45821373 | 0.0002602083 | 0.9924103 | 2.732375e-05 |\n",
       "| 26 | 11.225243 | 12 | 10.259775 |  0.97305163 | 0.0002602083 | 0.9923408 | 1.232185e-04 |\n",
       "| 27 | 11.198215 | 14 | 10.543456 |  0.65988033 | 0.0001953068 | 0.9923891 | 4.253071e-05 |\n",
       "| 28 | 10.915088 | 12 | 10.259775 |  0.66046059 | 0.0002602083 | 0.9923890 | 5.676726e-05 |\n",
       "| 29 | 12.747903 | 14 | 10.543456 |  2.22168956 | 0.0001953068 | 0.9919646 | 4.821021e-04 |\n",
       "| 30 | 10.308953 | 12 | 10.259775 |  0.04956390 | 0.0002602083 | 0.9924299 | 3.196943e-07 |\n",
       "| ... | ... | ... | ... | ... | ... | ... | ... |\n",
       "| 5237 | 10.714418 | 12 | 10.259775 |  0.4582137 | 0.0002602083 | 0.9924103 | 2.732375e-05 |\n",
       "| 5238 |  9.392662 | 12 | 10.259775 | -0.8739238 | 0.0002602083 | 0.9923581 | 9.939196e-05 |\n",
       "| 5239 |  7.600902 | 12 | 10.259775 | -2.6797567 | 0.0002602083 | 0.9917527 | 9.345334e-04 |\n",
       "| 5240 |  9.472705 | 14 | 10.543456 | -1.0791263 | 0.0001953068 | 0.9923203 | 1.137409e-04 |\n",
       "| 5241 | 10.043249 | 12 | 10.259775 | -0.2182262 | 0.0002602083 | 0.9924256 | 6.197521e-06 |\n",
       "| 5242 |  9.190138 | 18 | 11.110817 | -1.9362412 | 0.0007513008 | 0.9920765 | 1.409383e-03 |\n",
       "| 5243 | 10.545341 | 12 | 10.259775 |  0.2878094 | 0.0002602083 | 0.9924223 | 1.077988e-05 |\n",
       "| 5244 |  9.615805 | 11 | 10.117935 | -0.5061031 | 0.0003783836 | 0.9924060 | 4.847799e-05 |\n",
       "| 5245 | 10.950807 | 18 | 11.110817 | -0.1613071 | 0.0007513008 | 0.9924277 | 9.781768e-06 |\n",
       "| 5246 | 11.982929 | 16 | 10.827137 |  1.1649283 | 0.0003590043 | 0.9923022 | 2.436823e-04 |\n",
       "| 5247 | 12.747903 | 18 | 11.110817 |  1.6503493 | 0.0007513008 | 0.9921733 | 1.023910e-03 |\n",
       "| 5248 | 10.705489 | 12 | 10.259775 |  0.4492150 | 0.0002602083 | 0.9924111 | 2.626108e-05 |\n",
       "| 5249 | 11.082143 | 16 | 10.827137 |  0.2570217 | 0.0003590043 | 0.9924239 | 1.186220e-05 |\n",
       "| 5250 | 10.165852 |  6 |  9.408733 |  0.7636642 | 0.0018265061 | 0.9923751 | 5.335683e-04 |\n",
       "| 5251 |  9.118225 | 11 | 10.117935 | -1.0076213 | 0.0003783836 | 0.9923344 | 1.921593e-04 |\n",
       "| 5252 | 10.373491 | 10 |  9.976094 |  0.4005770 | 0.0005537086 | 0.9924150 | 4.444920e-05 |\n",
       "| 5253 | 10.434116 | 12 | 10.259775 |  0.1757101 | 0.0002602083 | 0.9924272 | 4.017887e-06 |\n",
       "| 5254 |  9.210340 | 12 | 10.259775 | -1.0576774 | 0.0002602083 | 0.9923246 | 1.455830e-04 |\n",
       "| 5255 |  9.998798 | 11 | 10.117935 | -0.1200798 | 0.0003783836 | 0.9924288 | 2.729018e-06 |\n",
       "| 5256 | 10.596635 | 16 | 10.827137 | -0.2323237 | 0.0003590043 | 0.9924251 | 9.691986e-06 |\n",
       "| 5257 | 10.933107 | 12 | 10.259775 |  0.6786206 | 0.0002602083 | 0.9923867 | 5.993192e-05 |\n",
       "| 5258 |  9.952278 | 12 | 10.259775 | -0.3099125 | 0.0002602083 | 0.9924211 | 1.249921e-05 |\n",
       "| 5259 |  9.998798 | 14 | 10.543456 | -0.5489182 | 0.0001953068 | 0.9924017 | 2.942982e-05 |\n",
       "| 5260 |  9.546813 | 12 | 10.259775 | -0.7185624 | 0.0002602083 | 0.9923814 | 6.719439e-05 |\n",
       "| 5261 |  8.006368 | 12 | 10.259775 | -2.2711068 | 0.0002602083 | 0.9919436 | 6.712422e-04 |\n",
       "| 5262 | 11.184421 | 14 | 10.543456 |  0.6459791 | 0.0001953068 | 0.9923908 | 4.075766e-05 |\n",
       "| 5263 | 10.043249 | 16 | 10.827137 | -0.7900831 | 0.0003590043 | 0.9923713 | 1.120911e-04 |\n",
       "| 5264 | 11.350407 | 12 | 10.259775 |  1.0991979 | 0.0002602083 | 0.9923162 | 1.572374e-04 |\n",
       "| 5265 |  9.798127 | 12 | 10.259775 | -0.4652740 | 0.0002602083 | 0.9924097 | 2.817226e-05 |\n",
       "| 5266 | 10.126631 | 12 | 10.259775 | -0.1341897 | 0.0002602083 | 0.9924284 | 2.343379e-06 |\n",
       "\n"
      ],
      "text/plain": [
       "     .rownames log(income) education .fitted   .std.resid  .hat        \n",
       "1    1          9.852194   13        10.401615 -0.55371967 0.0001991827\n",
       "2    2         10.463103   10         9.976094  0.49090632 0.0005537086\n",
       "3    3         11.561716   16        10.827137  0.74038545 0.0003590043\n",
       "4    4         10.596635   14        10.543456  0.05359492 0.0001953068\n",
       "5    5         11.225243   14        10.543456  0.68712042 0.0001953068\n",
       "6    6         11.532728   18        11.110817  0.42532922 0.0007513008\n",
       "7    7         11.156251   12        10.259775  0.90351685 0.0002602083\n",
       "8    8         11.002100   12        10.259775  0.74815540 0.0002602083\n",
       "9    9         11.918391   13        10.401615  1.52864202 0.0001991827\n",
       "10   10        11.652687   16        10.827137  0.83207630 0.0003590043\n",
       "11   11        12.747903   16        10.827137  1.93594843 0.0003590043\n",
       "12   12        10.596635   16        10.827137 -0.23232373 0.0003590043\n",
       "13   13        10.463103   14        10.543456 -0.08098093 0.0001953068\n",
       "14   14        11.561716   16        10.827137  0.74038545 0.0003590043\n",
       "15   15         9.682591   16        10.827137 -1.15359186 0.0003590043\n",
       "16   16         8.556414   12        10.259775 -1.71674017 0.0002602083\n",
       "17   17        10.645425   12        10.259775  0.38867895 0.0002602083\n",
       "18   18        10.878047   12        10.259775  0.62312838 0.0002602083\n",
       "19   19        10.558414   12        10.259775  0.30098414 0.0002602083\n",
       "20   20        10.691945   12        10.259775  0.43556436 0.0002602083\n",
       "21   21        11.440355   12        10.259775  1.18985260 0.0002602083\n",
       "22   22        11.034890   12        10.259775  0.78120277 0.0002602083\n",
       "23   23        10.714418   14        10.543456  0.17229923 0.0001953068\n",
       "24   24        11.775290   16        10.827137  0.95564771 0.0003590043\n",
       "25   25        10.714418   12        10.259775  0.45821373 0.0002602083\n",
       "26   26        11.225243   12        10.259775  0.97305163 0.0002602083\n",
       "27   27        11.198215   14        10.543456  0.65988033 0.0001953068\n",
       "28   28        10.915088   12        10.259775  0.66046059 0.0002602083\n",
       "29   29        12.747903   14        10.543456  2.22168956 0.0001953068\n",
       "30   30        10.308953   12        10.259775  0.04956390 0.0002602083\n",
       "...  ...       ...         ...       ...       ...         ...         \n",
       "5235 5237      10.714418   12        10.259775  0.4582137  0.0002602083\n",
       "5236 5238       9.392662   12        10.259775 -0.8739238  0.0002602083\n",
       "5237 5239       7.600902   12        10.259775 -2.6797567  0.0002602083\n",
       "5238 5240       9.472705   14        10.543456 -1.0791263  0.0001953068\n",
       "5239 5241      10.043249   12        10.259775 -0.2182262  0.0002602083\n",
       "5240 5242       9.190138   18        11.110817 -1.9362412  0.0007513008\n",
       "5241 5243      10.545341   12        10.259775  0.2878094  0.0002602083\n",
       "5242 5244       9.615805   11        10.117935 -0.5061031  0.0003783836\n",
       "5243 5245      10.950807   18        11.110817 -0.1613071  0.0007513008\n",
       "5244 5246      11.982929   16        10.827137  1.1649283  0.0003590043\n",
       "5245 5247      12.747903   18        11.110817  1.6503493  0.0007513008\n",
       "5246 5248      10.705489   12        10.259775  0.4492150  0.0002602083\n",
       "5247 5249      11.082143   16        10.827137  0.2570217  0.0003590043\n",
       "5248 5250      10.165852    6         9.408733  0.7636642  0.0018265061\n",
       "5249 5251       9.118225   11        10.117935 -1.0076213  0.0003783836\n",
       "5250 5252      10.373491   10         9.976094  0.4005770  0.0005537086\n",
       "5251 5253      10.434116   12        10.259775  0.1757101  0.0002602083\n",
       "5252 5254       9.210340   12        10.259775 -1.0576774  0.0002602083\n",
       "5253 5255       9.998798   11        10.117935 -0.1200798  0.0003783836\n",
       "5254 5256      10.596635   16        10.827137 -0.2323237  0.0003590043\n",
       "5255 5257      10.933107   12        10.259775  0.6786206  0.0002602083\n",
       "5256 5258       9.952278   12        10.259775 -0.3099125  0.0002602083\n",
       "5257 5259       9.998798   14        10.543456 -0.5489182  0.0001953068\n",
       "5258 5260       9.546813   12        10.259775 -0.7185624  0.0002602083\n",
       "5259 5261       8.006368   12        10.259775 -2.2711068  0.0002602083\n",
       "5260 5262      11.184421   14        10.543456  0.6459791  0.0001953068\n",
       "5261 5263      10.043249   16        10.827137 -0.7900831  0.0003590043\n",
       "5262 5264      11.350407   12        10.259775  1.0991979  0.0002602083\n",
       "5263 5265       9.798127   12        10.259775 -0.4652740  0.0002602083\n",
       "5264 5266      10.126631   12        10.259775 -0.1341897  0.0002602083\n",
       "     .sigma    .cooksd     \n",
       "1    0.9924012 3.054133e-05\n",
       "2    0.9924074 6.675581e-05\n",
       "3    0.9923784 9.843315e-05\n",
       "4    0.9924299 2.805560e-07\n",
       "5    0.9923856 4.611455e-05\n",
       "6    0.9924131 6.800811e-05\n",
       "7    0.9923532 1.062372e-04\n",
       "8    0.9923774 7.284298e-05\n",
       "9    0.9922098 2.327661e-04\n",
       "10   0.9923648 1.243231e-04\n",
       "11   0.9920766 6.729971e-04\n",
       "12   0.9924251 9.691986e-06\n",
       "13   0.9924295 6.405274e-07\n",
       "14   0.9923784 9.843315e-05\n",
       "15   0.9923046 2.389626e-04\n",
       "16   0.9921522 3.835423e-04\n",
       "17   0.9924159 1.966012e-05\n",
       "18   0.9923935 5.053115e-05\n",
       "19   0.9924216 1.178939e-05\n",
       "20   0.9924122 2.468930e-05\n",
       "21   0.9922966 1.842428e-04\n",
       "22   0.9923726 7.942032e-05\n",
       "23   0.9924273 2.899606e-06\n",
       "24   0.9923440 1.639915e-04\n",
       "25   0.9924103 2.732375e-05\n",
       "26   0.9923408 1.232185e-04\n",
       "27   0.9923891 4.253071e-05\n",
       "28   0.9923890 5.676726e-05\n",
       "29   0.9919646 4.821021e-04\n",
       "30   0.9924299 3.196943e-07\n",
       "...  ...       ...         \n",
       "5235 0.9924103 2.732375e-05\n",
       "5236 0.9923581 9.939196e-05\n",
       "5237 0.9917527 9.345334e-04\n",
       "5238 0.9923203 1.137409e-04\n",
       "5239 0.9924256 6.197521e-06\n",
       "5240 0.9920765 1.409383e-03\n",
       "5241 0.9924223 1.077988e-05\n",
       "5242 0.9924060 4.847799e-05\n",
       "5243 0.9924277 9.781768e-06\n",
       "5244 0.9923022 2.436823e-04\n",
       "5245 0.9921733 1.023910e-03\n",
       "5246 0.9924111 2.626108e-05\n",
       "5247 0.9924239 1.186220e-05\n",
       "5248 0.9923751 5.335683e-04\n",
       "5249 0.9923344 1.921593e-04\n",
       "5250 0.9924150 4.444920e-05\n",
       "5251 0.9924272 4.017887e-06\n",
       "5252 0.9923246 1.455830e-04\n",
       "5253 0.9924288 2.729018e-06\n",
       "5254 0.9924251 9.691986e-06\n",
       "5255 0.9923867 5.993192e-05\n",
       "5256 0.9924211 1.249921e-05\n",
       "5257 0.9924017 2.942982e-05\n",
       "5258 0.9923814 6.719439e-05\n",
       "5259 0.9919436 6.712422e-04\n",
       "5260 0.9923908 4.075766e-05\n",
       "5261 0.9923713 1.120911e-04\n",
       "5262 0.9923162 1.572374e-04\n",
       "5263 0.9924097 2.817226e-05\n",
       "5264 0.9924284 2.343379e-06"
      ]
     },
     "metadata": {},
     "output_type": "display_data"
    }
   ],
   "source": [
    "mod_e %>% augment()"
   ]
  },
  {
   "cell_type": "code",
   "execution_count": 33,
   "metadata": {},
   "outputs": [
    {
     "data": {
      "text/html": [
       "<table>\n",
       "<caption>A tibble: 2 × 5</caption>\n",
       "<thead>\n",
       "\t<tr><th scope=col>term</th><th scope=col>estimate</th><th scope=col>std.error</th><th scope=col>statistic</th><th scope=col>p.value</th></tr>\n",
       "\t<tr><th scope=col>&lt;chr&gt;</th><th scope=col>&lt;dbl&gt;</th><th scope=col>&lt;dbl&gt;</th><th scope=col>&lt;dbl&gt;</th><th scope=col>&lt;dbl&gt;</th></tr>\n",
       "</thead>\n",
       "<tbody>\n",
       "\t<tr><td>(Intercept)</td><td>8.5576906</td><td>0.073259622</td><td>116.81320</td><td> 0.000000e+00</td></tr>\n",
       "\t<tr><td>education  </td><td>0.1418404</td><td>0.005304577</td><td> 26.73924</td><td>8.408952e-148</td></tr>\n",
       "</tbody>\n",
       "</table>\n"
      ],
      "text/latex": [
       "A tibble: 2 × 5\n",
       "\\begin{tabular}{lllll}\n",
       " term & estimate & std.error & statistic & p.value\\\\\n",
       " <chr> & <dbl> & <dbl> & <dbl> & <dbl>\\\\\n",
       "\\hline\n",
       "\t (Intercept) & 8.5576906 & 0.073259622 & 116.81320 &  0.000000e+00\\\\\n",
       "\t education   & 0.1418404 & 0.005304577 &  26.73924 & 8.408952e-148\\\\\n",
       "\\end{tabular}\n"
      ],
      "text/markdown": [
       "\n",
       "A tibble: 2 × 5\n",
       "\n",
       "| term &lt;chr&gt; | estimate &lt;dbl&gt; | std.error &lt;dbl&gt; | statistic &lt;dbl&gt; | p.value &lt;dbl&gt; |\n",
       "|---|---|---|---|---|\n",
       "| (Intercept) | 8.5576906 | 0.073259622 | 116.81320 |  0.000000e+00 |\n",
       "| education   | 0.1418404 | 0.005304577 |  26.73924 | 8.408952e-148 |\n",
       "\n"
      ],
      "text/plain": [
       "  term        estimate  std.error   statistic p.value      \n",
       "1 (Intercept) 8.5576906 0.073259622 116.81320  0.000000e+00\n",
       "2 education   0.1418404 0.005304577  26.73924 8.408952e-148"
      ]
     },
     "metadata": {},
     "output_type": "display_data"
    }
   ],
   "source": [
    "mod_e %>% \n",
    "  tidy() %>% filter(p.value < 0.05)"
   ]
  },
  {
   "cell_type": "markdown",
   "metadata": {},
   "source": [
    "The low $R^2$ indicates that education explains only a part of variability of income. We can include more predictors in the model. "
   ]
  },
  {
   "cell_type": "code",
   "execution_count": 34,
   "metadata": {
    "scrolled": true
   },
   "outputs": [
    {
     "data": {
      "text/html": [
       "<table>\n",
       "<caption>A tibble: 3 × 5</caption>\n",
       "<thead>\n",
       "\t<tr><th scope=col>term</th><th scope=col>estimate</th><th scope=col>std.error</th><th scope=col>statistic</th><th scope=col>p.value</th></tr>\n",
       "\t<tr><th scope=col>&lt;chr&gt;</th><th scope=col>&lt;dbl&gt;</th><th scope=col>&lt;dbl&gt;</th><th scope=col>&lt;dbl&gt;</th><th scope=col>&lt;dbl&gt;</th></tr>\n",
       "</thead>\n",
       "<tbody>\n",
       "\t<tr><td>(Intercept)</td><td>5.34837618</td><td>0.231320415</td><td>23.12107</td><td>1.002503e-112</td></tr>\n",
       "\t<tr><td>education  </td><td>0.13871285</td><td>0.005205245</td><td>26.64867</td><td>7.120134e-147</td></tr>\n",
       "\t<tr><td>height     </td><td>0.04830864</td><td>0.003309870</td><td>14.59533</td><td> 2.504935e-47</td></tr>\n",
       "</tbody>\n",
       "</table>\n"
      ],
      "text/latex": [
       "A tibble: 3 × 5\n",
       "\\begin{tabular}{lllll}\n",
       " term & estimate & std.error & statistic & p.value\\\\\n",
       " <chr> & <dbl> & <dbl> & <dbl> & <dbl>\\\\\n",
       "\\hline\n",
       "\t (Intercept) & 5.34837618 & 0.231320415 & 23.12107 & 1.002503e-112\\\\\n",
       "\t education   & 0.13871285 & 0.005205245 & 26.64867 & 7.120134e-147\\\\\n",
       "\t height      & 0.04830864 & 0.003309870 & 14.59533 &  2.504935e-47\\\\\n",
       "\\end{tabular}\n"
      ],
      "text/markdown": [
       "\n",
       "A tibble: 3 × 5\n",
       "\n",
       "| term &lt;chr&gt; | estimate &lt;dbl&gt; | std.error &lt;dbl&gt; | statistic &lt;dbl&gt; | p.value &lt;dbl&gt; |\n",
       "|---|---|---|---|---|\n",
       "| (Intercept) | 5.34837618 | 0.231320415 | 23.12107 | 1.002503e-112 |\n",
       "| education   | 0.13871285 | 0.005205245 | 26.64867 | 7.120134e-147 |\n",
       "| height      | 0.04830864 | 0.003309870 | 14.59533 |  2.504935e-47 |\n",
       "\n"
      ],
      "text/plain": [
       "  term        estimate   std.error   statistic p.value      \n",
       "1 (Intercept) 5.34837618 0.231320415 23.12107  1.002503e-112\n",
       "2 education   0.13871285 0.005205245 26.64867  7.120134e-147\n",
       "3 height      0.04830864 0.003309870 14.59533   2.504935e-47"
      ]
     },
     "metadata": {},
     "output_type": "display_data"
    }
   ],
   "source": [
    "mod_eh <- wages %>% \n",
    "  lm(log(income) ~ education + height, data = .)\n",
    "mod_eh %>% tidy()"
   ]
  },
  {
   "cell_type": "code",
   "execution_count": 36,
   "metadata": {
    "scrolled": false
   },
   "outputs": [
    {
     "data": {
      "text/html": [
       "<table>\n",
       "<caption>A tibble: 1 × 12</caption>\n",
       "<thead>\n",
       "\t<tr><th scope=col>r.squared</th><th scope=col>adj.r.squared</th><th scope=col>sigma</th><th scope=col>statistic</th><th scope=col>p.value</th><th scope=col>df</th><th scope=col>logLik</th><th scope=col>AIC</th><th scope=col>BIC</th><th scope=col>deviance</th><th scope=col>df.residual</th><th scope=col>nobs</th></tr>\n",
       "\t<tr><th scope=col>&lt;dbl&gt;</th><th scope=col>&lt;dbl&gt;</th><th scope=col>&lt;dbl&gt;</th><th scope=col>&lt;dbl&gt;</th><th scope=col>&lt;dbl&gt;</th><th scope=col>&lt;dbl&gt;</th><th scope=col>&lt;dbl&gt;</th><th scope=col>&lt;dbl&gt;</th><th scope=col>&lt;dbl&gt;</th><th scope=col>&lt;dbl&gt;</th><th scope=col>&lt;int&gt;</th><th scope=col>&lt;int&gt;</th></tr>\n",
       "</thead>\n",
       "<tbody>\n",
       "\t<tr><td>0.1538835</td><td>0.1535618</td><td>0.9729281</td><td>478.4099</td><td>1.273687e-191</td><td>2</td><td>-7323.321</td><td>14654.64</td><td>14680.92</td><td>4980.006</td><td>5261</td><td>5264</td></tr>\n",
       "</tbody>\n",
       "</table>\n"
      ],
      "text/latex": [
       "A tibble: 1 × 12\n",
       "\\begin{tabular}{llllllllllll}\n",
       " r.squared & adj.r.squared & sigma & statistic & p.value & df & logLik & AIC & BIC & deviance & df.residual & nobs\\\\\n",
       " <dbl> & <dbl> & <dbl> & <dbl> & <dbl> & <dbl> & <dbl> & <dbl> & <dbl> & <dbl> & <int> & <int>\\\\\n",
       "\\hline\n",
       "\t 0.1538835 & 0.1535618 & 0.9729281 & 478.4099 & 1.273687e-191 & 2 & -7323.321 & 14654.64 & 14680.92 & 4980.006 & 5261 & 5264\\\\\n",
       "\\end{tabular}\n"
      ],
      "text/markdown": [
       "\n",
       "A tibble: 1 × 12\n",
       "\n",
       "| r.squared &lt;dbl&gt; | adj.r.squared &lt;dbl&gt; | sigma &lt;dbl&gt; | statistic &lt;dbl&gt; | p.value &lt;dbl&gt; | df &lt;dbl&gt; | logLik &lt;dbl&gt; | AIC &lt;dbl&gt; | BIC &lt;dbl&gt; | deviance &lt;dbl&gt; | df.residual &lt;int&gt; | nobs &lt;int&gt; |\n",
       "|---|---|---|---|---|---|---|---|---|---|---|---|\n",
       "| 0.1538835 | 0.1535618 | 0.9729281 | 478.4099 | 1.273687e-191 | 2 | -7323.321 | 14654.64 | 14680.92 | 4980.006 | 5261 | 5264 |\n",
       "\n"
      ],
      "text/plain": [
       "  r.squared adj.r.squared sigma     statistic p.value       df logLik   \n",
       "1 0.1538835 0.1535618     0.9729281 478.4099  1.273687e-191 2  -7323.321\n",
       "  AIC      BIC      deviance df.residual nobs\n",
       "1 14654.64 14680.92 4980.006 5261        5264"
      ]
     },
     "metadata": {},
     "output_type": "display_data"
    }
   ],
   "source": [
    "mod_eh %>% glance()"
   ]
  },
  {
   "cell_type": "markdown",
   "metadata": {},
   "source": [
    "The $R^2$ does improves a bit, but still remains low. Maybe the linear model is a not a good choice. It might be a good idea to look at the raw data. "
   ]
  },
  {
   "cell_type": "code",
   "execution_count": 38,
   "metadata": {
    "scrolled": true
   },
   "outputs": [
    {
     "name": "stderr",
     "output_type": "stream",
     "text": [
      "`geom_smooth()` using formula 'y ~ x'\n",
      "\n"
     ]
    },
    {
     "data": {
      "image/png": "[encoded data removed]",
      "text/plain": [
       "plot without title"
      ]
     },
     "metadata": {
      "image/png": {
       "height": 420,
       "width": 420
      }
     },
     "output_type": "display_data"
    }
   ],
   "source": [
    "wages %>%\n",
    "  ggplot(aes(x = height, y = log(income))) +\n",
    "    geom_point(alpha = 0.1) +\n",
    "    geom_smooth(method = lm)"
   ]
  },
  {
   "cell_type": "code",
   "execution_count": 39,
   "metadata": {},
   "outputs": [
    {
     "name": "stderr",
     "output_type": "stream",
     "text": [
      "`geom_smooth()` using formula 'y ~ x'\n",
      "\n"
     ]
    },
    {
     "data": {
      "image/png": "[encoded data removed]",
      "text/plain": [
       "plot without title"
      ]
     },
     "metadata": {
      "image/png": {
       "height": 420,
       "width": 420
      }
     },
     "output_type": "display_data"
    }
   ],
   "source": [
    "wages %>%\n",
    "  ggplot(aes(x = height, y = log(income))) +\n",
    "    geom_point(alpha = 0.1) +\n",
    "    geom_smooth(method = loess)"
   ]
  }
 ],
 "metadata": {
  "kernelspec": {
   "display_name": "R",
   "language": "R",
   "name": "ir"
  },
  "language_info": {
   "codemirror_mode": "r",
   "file_extension": ".r",
   "mimetype": "text/x-r-source",
   "name": "R",
   "pygments_lexer": "r",
   "version": "4.0.3"
  },
  "latex_envs": {
   "LaTeX_envs_menu_present": true,
   "autoclose": false,
   "autocomplete": true,
   "bibliofile": "biblio.bib",
   "cite_by": "apalike",
   "current_citInitial": 1,
   "eqLabelWithNumbers": true,
   "eqNumInitial": 1,
   "hotkeys": {
    "equation": "Ctrl-E",
    "itemize": "Ctrl-I"
   },
   "labels_anchors": false,
   "latex_user_defs": false,
   "report_style_numbering": false,
   "user_envs_cfg": false
  }
 },
 "nbformat": 4,
 "nbformat_minor": 2
}
