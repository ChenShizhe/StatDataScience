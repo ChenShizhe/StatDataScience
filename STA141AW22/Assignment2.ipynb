{
 "cells": [
  {
   "cell_type": "markdown",
   "metadata": {},
   "source": [
    "# STA 141A: Assignment 2\n",
    "## (Your name and student ID)\n",
    "\n",
    "***"
   ]
  },
  {
   "cell_type": "markdown",
   "metadata": {},
   "source": [
    "**Instructions** You may adapt the code in the course materials or any sources (e.g., the Internet, classmates, friends). In fact, you can craft solutions for almost all questions from the course materials with minor modifications. However, you need to write up your own solutions and acknowledge all sources that you have cited in the Acknowledgement section. \n",
    "\n",
    "Failing to acknowledge any non-original efforts will be counted as plagiarism. This incidence will be reported to the Student Judicial Affairs. \n",
    "\n",
    "***"
   ]
  },
  {
   "cell_type": "markdown",
   "metadata": {},
   "source": [
    "(1) Pick a data set that you find interesting. This data set should contain at least four variables. Briefly explain the data set (background, source, variables, samples, etc.), and why it interests you. \n",
    "\n",
    "***"
   ]
  },
  {
   "cell_type": "markdown",
   "metadata": {},
   "source": [
    "\n",
    "\n",
    "(2) For Questions 2 to 8, we visit `flights` and `weather` in the `nycflights13` dataset. \n",
    "  (i) How many observations and variables are there in the `flights` dataset? \n",
    "  (ii) Find out the meanings of `talinum`, `flight`, `carrier`, `dep_delay` and `arr_delay` in the `flights` dataset. \n",
    "  (iii) Find out the meanings of `visib`,`time_hour`, and `temp` in the `weather` data set. \n",
    "\n",
    "\n",
    "***"
   ]
  },
  {
   "cell_type": "markdown",
   "metadata": {},
   "source": [
    "\n",
    "(3) Extract the entries for _Alaska Airlines_ from the `flights` dataset using `filter()` and `%>%`. Name the selected subset as `alaska_flights`.\n",
    "Furthermore, extract the weather data for EWR airport in January using `filter` and `%>%`, and name it as `early_january_weather` from `weather`.\n",
    "\n",
    "***"
   ]
  },
  {
   "cell_type": "markdown",
   "metadata": {},
   "source": [
    "\n",
    "(4) Create a scatterplot of `dep_delay` and `arr_delay` in the `alaska_flights` data without using transparency. What do you find about the relationship between these two variable? What are some practical reasons for this relationship?\n",
    "\n",
    "\n",
    "***"
   ]
  },
  {
   "cell_type": "markdown",
   "metadata": {},
   "source": [
    "\n",
    "(5) Re-draw the plot in Part 4 with transparency set to be 0.2. Compare the two plot and explain your findings, if any. \n",
    "\n",
    "***"
   ]
  },
  {
   "cell_type": "markdown",
   "metadata": {},
   "source": [
    "\n",
    "\n",
    "(6) For the `early_january_weather` data, create a linegraph with `time_hour` on the `x`-axis and `temp` on the `y`-axis.  What do you find from the plot?\n",
    "\n",
    "***"
   ]
  },
  {
   "cell_type": "markdown",
   "metadata": {},
   "source": [
    "\n",
    "\n",
    "(7) Generate data from the following model.\n",
    "$$y_i = x_i\\beta_1 + z_i\\beta_2+x_i z_i \\beta_3+ \\epsilon_i, i = 1,\\ldots, 100$$\n",
    "where $\\beta_1=1$, $\\beta_2=2$, $\\beta_3 =1$, and $\\epsilon_i \\sim \\mathcal{N}(0,1)$. For $x_i$ and $z_i$, generate them as \n",
    "$$ x_i \\sim\\  {\\rm uniform} \\ (-2,2) \\ {\\rm and}\\  z_i =\\tilde{\\epsilon}_i,$$\n",
    "where  $\\tilde{\\epsilon}_i\\sim \\mathcal{N}(0,0.5)$.  Fit a linear regression with $y$ as the outcome and $x$ as the covariate (i.e., without $z$) using `lm()`. Report the estimated coefficients. \n",
    "\n",
    "***"
   ]
  },
  {
   "cell_type": "markdown",
   "metadata": {},
   "source": [
    "\n",
    "(8) Wrap the code in Part 7 into a function, and run a simulation of 5000 instances to obtain the estimated coefficients. Draw a histogram of the estimated coefficients $\\hat{\\beta}_1$s of $x$ from your simulation, add a vertical line (solid, black) to represent the simulation mean, and add another vertical line (dashed, red) to represent the true value (i.e., 1). Report your findings (hint: you may want to review unbiasedness). \n",
    "\n",
    "\n",
    "***\n"
   ]
  },
  {
   "cell_type": "markdown",
   "metadata": {},
   "source": [
    "\n",
    "(9) Report the simulation mean from Part 8. Then run another simulation under the same setting to verify that your simulation is reproducible. Specifically, the new simulation mean should be identical to the mean from Part 8.\n",
    "\n",
    "***\n"
   ]
  },
  {
   "cell_type": "markdown",
   "metadata": {},
   "source": [
    "\n",
    "(10)  Generate data from a similar model, with $\\gamma_1=0$.  \n",
    "$$y_i = x_i\\beta_1 + z_i\\beta_2+\\epsilon_i, i = 1,\\ldots, 100$$\n",
    "where $\\beta_1=1$, $\\beta_2=2$, and $\\epsilon_i \\sim \\mathcal{N}(0,1)$. For $x_i$ and $z_i$, generate them as \n",
    "$$ z_i \\sim\\  {\\rm uniform} \\ (-2,2) \\ {\\rm and}\\  x_i = z_i \\gamma_1 + \\gamma_0+\\tilde{\\epsilon}_i,$$\n",
    "where $\\gamma_1=0$, $\\gamma_0=1$, and $\\tilde{\\epsilon}_i\\sim \\mathcal{N}(0,0.5)$.  Suppose we fit a regression model with $y$ as the outcome and $x$ as the covariate (i.e., without $z$). Examine whether, in this model, the estimator for the coefficient of $x$ is unbiased using simulation.  \n",
    "\n",
    "***"
   ]
  },
  {
   "cell_type": "markdown",
   "metadata": {},
   "source": [
    "\n",
    "\n",
    "## Acknowledgement "
   ]
  },
  {
   "cell_type": "markdown",
   "metadata": {},
   "source": [
    "\n",
    "## Session information "
   ]
  },
  {
   "cell_type": "code",
   "execution_count": null,
   "metadata": {},
   "outputs": [],
   "source": [
    "\n",
    "sessionInfo()"
   ]
  }
 ],
 "metadata": {
  "kernelspec": {
   "display_name": "R",
   "language": "R",
   "name": "ir"
  },
  "language_info": {
   "codemirror_mode": "r",
   "file_extension": ".r",
   "mimetype": "text/x-r-source",
   "name": "R",
   "pygments_lexer": "r",
   "version": "4.1.0"
  },
  "latex_envs": {
   "LaTeX_envs_menu_present": true,
   "autoclose": false,
   "autocomplete": true,
   "bibliofile": "biblio.bib",
   "cite_by": "apalike",
   "current_citInitial": 1,
   "eqLabelWithNumbers": true,
   "eqNumInitial": 1,
   "hotkeys": {
    "equation": "Ctrl-E",
    "itemize": "Ctrl-I"
   },
   "labels_anchors": false,
   "latex_user_defs": false,
   "report_style_numbering": false,
   "user_envs_cfg": false
  }
 },
 "nbformat": 4,
 "nbformat_minor": 4
}
