{
 "cells": [
  {
   "cell_type": "markdown",
   "metadata": {},
   "source": [
    "# STA 141A: Assignment 4\n",
    "## (Your name and student ID)\n",
    "\n",
    "***"
   ]
  },
  {
   "cell_type": "markdown",
   "metadata": {},
   "source": [
    "**Instructions** You may adapt the code in the course materials or any sources (e.g., the Internet, classmates, friends). In fact, you can craft solutions for almost all questions from the course materials with minor modifications. However, you need to write up your own solutions and acknowledge all sources that you have cited in the Acknowledgement section. \n",
    "\n",
    "Failing to acknowledge any non-original efforts will be counted as plagiarism. This incidence will be reported to the Student Judicial Affairs. \n",
    "\n",
    "***"
   ]
  },
  {
   "cell_type": "markdown",
   "metadata": {},
   "source": [
    "\n",
    "We will apply clustering methods on the `penguins` dataset in the package `palmerpenguins` for Questions 1 to 6. Note that we will ignore the `species` variable to pretend that we are dealing with an unsupervised learning problem. With the `species` available, this is the same classification problem as in the previous problem set on `iris` data. \n",
    "\n",
    "(1) Briefly summarize the `penguins` data set. In addition to basic description of the dataset (sample size, variables, background), please be sure to read the background of this data set and provide proper citation to this data set.  \n",
    "\n",
    "***"
   ]
  },
  {
   "cell_type": "markdown",
   "metadata": {},
   "source": [
    "\n",
    "\n",
    "(2) Create a data set with no missing values in `bill_length_mm` and `body_mass_g`. Then, create a scatterplot of `body_mass_g` v.s. `bill_length_mm`, where the observations are colored by their true species. \n",
    "\n",
    "***\n"
   ]
  },
  {
   "cell_type": "markdown",
   "metadata": {},
   "source": [
    "\n",
    "\n",
    "(3) Apply spectral clustering using the `specc()` function in package `kernlab` using the provided code.  Visualize the clusters in a scatterplot. Compare the new plot with the one in Part 2. Explain your findings. \n",
    "\n",
    "***"
   ]
  },
  {
   "cell_type": "code",
   "execution_count": 1,
   "metadata": {},
   "outputs": [],
   "source": [
    "\n",
    "# Uncomment before use\n",
    "# library(\"kernlab\")\n",
    "# spec.cluster<-penguins.narm %>% select(bill_length_mm, body_mass_g) %>% as.matrix() %>% specc(centers=3)\n"
   ]
  },
  {
   "cell_type": "markdown",
   "metadata": {},
   "source": [
    "\n",
    "(4) Standardize the two variables using the `scale()` function. Run spectral clustering on the standardized data, and visualize the new clusters. How do the new clusters differ from those in Part 3? \n",
    "\n",
    "\n",
    "***\n"
   ]
  },
  {
   "cell_type": "markdown",
   "metadata": {},
   "source": [
    "\n",
    "(5) Apply k-means clustering with $k=3$ on the scaled data. Visualize the clusters and comment on your findings. \n",
    "\n",
    "\n",
    "***\n"
   ]
  },
  {
   "cell_type": "markdown",
   "metadata": {},
   "source": [
    "\n",
    "(6) Modify the code in Part 4 to obtain 5 and 8 clusters using spectral clustering. Comment on your findings, and share your thoughts on how to select the number of clusters when the true labels are unknown. \n",
    "\n",
    "\n",
    "***"
   ]
  },
  {
   "cell_type": "markdown",
   "metadata": {},
   "source": [
    "\n",
    "\n",
    "(7) We will investigate popular names in the `babynames` data set in Questions 7 - 12. Briefly summarize the `babynames` data set. In particular, what does each row represents?\n",
    "\n",
    "\n",
    "***\n"
   ]
  },
  {
   "cell_type": "markdown",
   "metadata": {},
   "source": [
    "\n",
    "\n",
    "(8) Extract names used by no fewer than 500 babies in 2017 for each sex.   \n",
    "\n",
    "***"
   ]
  },
  {
   "cell_type": "markdown",
   "metadata": {},
   "source": [
    "\n",
    "\n",
    "(9) Create two new datasets where each row corresponds to one year and each column corresponds to the `prop` of a name in the list of names selected in Part 8, one per sex. \n",
    "\n",
    "\n",
    "***"
   ]
  },
  {
   "cell_type": "markdown",
   "metadata": {},
   "source": [
    "\n",
    "\n",
    "(10) Apply PCA on the data set for female created in Part 9. \n",
    "\n",
    "***"
   ]
  },
  {
   "cell_type": "markdown",
   "metadata": {},
   "source": [
    "\n",
    "\n",
    "(11) How many PCs would you choose to capture this data? Can you offer any insights into the PCs? \n",
    "\n",
    "\n",
    "***"
   ]
  },
  {
   "cell_type": "markdown",
   "metadata": {},
   "source": [
    "\n",
    "\n",
    "(12) Visualize how the coefficients of the top five PCs change over years on the female data set. Discuss your findings. \n",
    "\n",
    "***\n"
   ]
  },
  {
   "cell_type": "markdown",
   "metadata": {},
   "source": [
    "\n",
    "\n",
    "## Acknowledgement "
   ]
  },
  {
   "cell_type": "markdown",
   "metadata": {},
   "source": [
    "\n",
    "## Session information "
   ]
  },
  {
   "cell_type": "code",
   "execution_count": null,
   "metadata": {},
   "outputs": [],
   "source": [
    "\n",
    "sessionInfo()"
   ]
  }
 ],
 "metadata": {
  "kernelspec": {
   "display_name": "R",
   "language": "R",
   "name": "ir"
  },
  "language_info": {
   "codemirror_mode": "r",
   "file_extension": ".r",
   "mimetype": "text/x-r-source",
   "name": "R",
   "pygments_lexer": "r",
   "version": "4.1.0"
  },
  "latex_envs": {
   "LaTeX_envs_menu_present": true,
   "autoclose": false,
   "autocomplete": true,
   "bibliofile": "biblio.bib",
   "cite_by": "apalike",
   "current_citInitial": 1,
   "eqLabelWithNumbers": true,
   "eqNumInitial": 1,
   "hotkeys": {
    "equation": "Ctrl-E",
    "itemize": "Ctrl-I"
   },
   "labels_anchors": false,
   "latex_user_defs": false,
   "report_style_numbering": false,
   "user_envs_cfg": false
  }
 },
 "nbformat": 4,
 "nbformat_minor": 4
}
