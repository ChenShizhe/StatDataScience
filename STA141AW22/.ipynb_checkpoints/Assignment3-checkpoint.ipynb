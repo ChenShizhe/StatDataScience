{
 "cells": [
  {
   "cell_type": "markdown",
   "metadata": {},
   "source": [
    "# STA 141A: Assignment 3\n",
    "## (Your name and student ID)\n",
    "\n",
    "***"
   ]
  },
  {
   "cell_type": "markdown",
   "metadata": {},
   "source": [
    "**Instructions** You may adapt the code in the course materials or any sources (e.g., the Internet, classmates, friends). In fact, you can craft solutions for almost all questions from the course materials with minor modifications. However, you need to write up your own solutions and acknowledge all sources that you have cited in the Acknowledgement section. \n",
    "\n",
    "Failing to acknowledge any non-original efforts will be counted as plagiarism. This incidence will be reported to the Student Judicial Affairs. \n",
    "\n",
    "***"
   ]
  },
  {
   "cell_type": "markdown",
   "metadata": {},
   "source": [
    "\n",
    "(1) We will revisit the `nycflights13` data set. Extract the entries in February from the `flights` and `weather` dataset using `filter()` and `%>%`. Join the two extracted data sets together by `origin` and `time_hour`. \n",
    "You may want to use the `inner_join()` function for joining the data sets.\n",
    "\n",
    "***"
   ]
  },
  {
   "cell_type": "markdown",
   "metadata": {},
   "source": [
    "\n",
    "(2) Create a scatter plot of arrival delay versus precipitation using the data set obtained in Part 1. Explain your findings.\n",
    "\n",
    "\n",
    "***"
   ]
  },
  {
   "cell_type": "markdown",
   "metadata": {},
   "source": [
    "\n",
    "\n",
    "(3) Create a polynomial expansion of the `precip` variable to the 15th degree using `poly()` function. \n",
    "\n",
    "\n",
    "***"
   ]
  },
  {
   "cell_type": "markdown",
   "metadata": {},
   "source": [
    "\n",
    "\n",
    "\n",
    "(4) Consider arrival delay as the outcome and the polynomial terms obtained in Part (3) as the covariates. Build a prediction model using linear regression with lasso. Select the tuning parameter using cross-validation. You may want to use the `cv.glmnet` function in `glmnet`. Report the fitted model.\n",
    "\n",
    "\n",
    "***"
   ]
  },
  {
   "cell_type": "markdown",
   "metadata": {},
   "source": [
    "\n",
    "\n",
    "(5) Consider the `iris` data. Extract the data corresponding to the flower types  _versicolor_ and _virginica_, numbering a total of $100$ flowers. Set aside the first $10$ observations for each flower type as test data and use the remaining data consisting of 80 observations (with flower types as class labels) as training data.   \n",
    "\n",
    "\n",
    "***\n"
   ]
  },
  {
   "cell_type": "markdown",
   "metadata": {},
   "source": [
    "\n",
    "\n",
    "(6)  Use _Linear Discriminant Analysis (LDA)_ for classifying the test data. Use Sepal.Length and Sepal.Width as the predictor variables (or features). You may want to use the function `lda()`.\n",
    "    a. Report the class-specific means of the predictor variables\tfor the training data.\n",
    "    b. Compute the _confusion matrix_ for the test data, and the misclassification error rate.\n",
    "\n",
    "\n",
    "\n",
    "***"
   ]
  },
  {
   "cell_type": "markdown",
   "metadata": {},
   "source": [
    "\n",
    "\n",
    "(7)  Fit a logistic regression model to the training data, using the variables Sepal.Length and Sepal.Width as predictors. You may want to use `glm()` with argument `family = \"binomial\"`.\n",
    "    a. Obtain the estimates and their standard errors  for the model parameters. \n",
    "    b.  Compute the _confusion matrix_ for the test data, and the misclassification error rate. \n",
    "    c.  Are both the predictor variables necessary for the purpose of classification? Justify.\n",
    "\n",
    "***"
   ]
  },
  {
   "cell_type": "markdown",
   "metadata": {},
   "source": [
    "\n",
    "\n",
    "(8) Fit a logistic regression model to the training data, using the variable Sepal.Length as the only predictor. \n",
    "    a. Obtain the estimates and their standard errors for the model parameters. \n",
    "    b. Compute the _confusion matrix_ for the test data, and the misclassification error rate. \n",
    "    c. Compare the results with those in Question 7. Does your result in 8.b support the answer to 7.c?\n",
    "\n",
    "***\n",
    "\n"
   ]
  },
  {
   "cell_type": "markdown",
   "metadata": {},
   "source": [
    "\n",
    "\n",
    "(9)  Use the _k Nearest Neighbors (kNN)_ classification method to classify the test data, using only Sepal.Length as the predictor variable. Perform this analysis using $k=1$ and $k=5$. In each case, compute the _confusion matrix_ for the test data, and the misclassification error rate.  You may want to use the `knn()` function.\n",
    "\n",
    "***"
   ]
  },
  {
   "cell_type": "markdown",
   "metadata": {},
   "source": [
    "\n",
    "(10)  Write a very brief summary (maximum of 200 words) about the comparative performance of the \n",
    "\t\tthree different classification methods for this data set. \n",
    "\t\t\n",
    "\t\t\n",
    "***"
   ]
  },
  {
   "cell_type": "markdown",
   "metadata": {},
   "source": [
    "\n",
    "\n",
    "## Acknowledgement "
   ]
  },
  {
   "cell_type": "markdown",
   "metadata": {},
   "source": [
    "\n",
    "## Session information "
   ]
  },
  {
   "cell_type": "code",
   "execution_count": null,
   "metadata": {},
   "outputs": [],
   "source": [
    "\n",
    "sessionInfo()"
   ]
  }
 ],
 "metadata": {
  "kernelspec": {
   "display_name": "R",
   "language": "R",
   "name": "ir"
  },
  "language_info": {
   "codemirror_mode": "r",
   "file_extension": ".r",
   "mimetype": "text/x-r-source",
   "name": "R",
   "pygments_lexer": "r",
   "version": "4.1.0"
  },
  "latex_envs": {
   "LaTeX_envs_menu_present": true,
   "autoclose": false,
   "autocomplete": true,
   "bibliofile": "biblio.bib",
   "cite_by": "apalike",
   "current_citInitial": 1,
   "eqLabelWithNumbers": true,
   "eqNumInitial": 1,
   "hotkeys": {
    "equation": "Ctrl-E",
    "itemize": "Ctrl-I"
   },
   "labels_anchors": false,
   "latex_user_defs": false,
   "report_style_numbering": false,
   "user_envs_cfg": false
  }
 },
 "nbformat": 4,
 "nbformat_minor": 4
}
