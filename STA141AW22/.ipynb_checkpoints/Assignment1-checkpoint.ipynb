{
 "cells": [
  {
   "cell_type": "markdown",
   "metadata": {},
   "source": [
    "# STA 141A: Assignment 1\n",
    "## (Your name and student ID)\n",
    "\n",
    "***"
   ]
  },
  {
   "cell_type": "markdown",
   "metadata": {},
   "source": [
    "**Instructions** You may adapt the code in the course materials or any sources (e.g., the Internet, classmates, friends). In fact, you can craft solutions for almost all questions from the course materials with minor modifications. However, you need to write up your own solutions and acknowledge all sources that you have cited in the Acknowledgement section. \n",
    "\n",
    "Failing to acknowledge any non-original efforts will be counted as plagiarism. This incidence will be reported to the Student Judicial Affairs. \n",
    "\n",
    "***"
   ]
  },
  {
   "cell_type": "markdown",
   "metadata": {},
   "source": [
    "(1) Explain data science in your own words. Imagine that your audience are your family members, friends, or anyone without any knowledge in related fields. References that might help craft an answer. More could be found by simply searching for \"data science\" on the Internet. \n",
    "\n",
    "- [ASA Statement on the Role of Statistics in Data Science](https://magazine.amstat.org/blog/2015/10/01/asa-statement-on-the-role-of-statistics-in-data-science/)\n",
    "- [Mission of Department of Statistics, UC Davis. ](https://statistics.ucdavis.edu/mission)\n",
    "- [Statement by the UCD DataLab](https://datalab.ucdavis.edu/about/)\n",
    "- [Data science on Wikipedia](https://en.wikipedia.org/wiki/Data_science) \n",
    "\n",
    "***"
   ]
  },
  {
   "cell_type": "markdown",
   "metadata": {},
   "source": [
    "\n",
    "(2)  Please review the common tasks of data science in Chapter 1 of the course notes and identify your strengths in data science. In particular, \n",
    " (i) describe the top two strengths (skills/characteristics/knowledge/...) of yours that apply to data science;  \n",
    " (ii) briefly review how you developed these strengths;    (iii) explain how you plan to contribute to the final project with these strengths. \n",
    "\n",
    "***"
   ]
  },
  {
   "cell_type": "markdown",
   "metadata": {},
   "source": [
    "(3) Please review the common tasks of data science in Chapter 1 of the course notes and identify the task that you are least confident about. In particular, please explain \n",
    "  (i) what this task means with an example; \n",
    "  (ii) why you feel least confident about this task; \n",
    "  (iii) how you plan to improve your confidence. \n",
    "\n",
    "***\n"
   ]
  },
  {
   "cell_type": "markdown",
   "metadata": {},
   "source": [
    "(4) Consider  `81`,`170`,`1923`,`3825`. (i) Check if they are divisible by `3` and `9`. (ii) Use integer division to calculate the sum of the digits of the numbers (e.g, the sum of the digits of `234` is `2+3+4=9`). (iii) Check whether these sums are divisible by `3` and `9`. (iv) State your observations from (i) and (iii) and verify your hypothesis on more numbers, if any. \n",
    "\n",
    "***"
   ]
  },
  {
   "cell_type": "markdown",
   "metadata": {},
   "source": [
    "(5) Read the help file for the `prod()` function. \n",
    "  \n",
    "  (i) Define `a <- c(2,4,6)`, `b <- c(1,3,5)`,  `c <- c(3,5,7)`,  use `a`,`b`,`c` and `prod()` to calculate \n",
    "$$\n",
    "2\\cdot \\left(\\frac{2}{1}\\cdot \\frac{2}{3}\\right) \\left(\\frac{4}{3}\\cdot \\frac{4}{5}\\right)\\left(\\frac{6}{5}\\cdot \\frac{6}{7}\\right).\n",
    "$$"
   ]
  },
  {
   "cell_type": "markdown",
   "metadata": {},
   "source": [
    "\n",
    "  (ii) Calculate \n",
    "$$\n",
    "2\\cdot \\left(\\frac{2}{1}\\cdot \\frac{2}{3}\\right) \\left(\\frac{4}{3}\\cdot \\frac{4}{5}\\right)\\cdots\n",
    "\\left(\\frac{1000}{999}\\cdot \\frac{1000}{1001}\\right)\n",
    "$$\n",
    "\n",
    "***"
   ]
  },
  {
   "cell_type": "markdown",
   "metadata": {},
   "source": [
    "\n",
    "\n",
    "(6) Write a function to calculate the following quanity for any given input $n$. Report the values (up to 6 [significant figures](https://en.wikipedia.org/wiki/Significant_figures) ) for $n=17, 91, 216$. \n",
    "\n",
    "$$\n",
    "2\\cdot \\left(\\frac{2}{1}\\cdot \\frac{2}{3}\\right) \\left(\\frac{4}{3}\\cdot \\frac{4}{5}\\right)\\cdots\n",
    "\\left(\\frac{n-1}{n-2}\\cdot \\frac{n-1}{n}\\right)\n",
    "$$\n"
   ]
  },
  {
   "cell_type": "markdown",
   "metadata": {},
   "source": [
    "\n",
    "(7) Apply your function in (6) on $n=5,\\ldots, 500$. Draw a scatterplot between the outputs of your function versus the values of $n$s. State your findings, if any. \n",
    "\n",
    "***\n",
    " "
   ]
  },
  {
   "cell_type": "markdown",
   "metadata": {},
   "source": [
    "(8) For the rest of the problems, we will examine the `cars` dataset included in `R`. We can load `cars` with `data(cars)` if it is not in the workspace yet. \n",
    " Ask `R` to report the first six observations in `cars`, and count how many observations and variables are in the dataset. \n",
    " \n",
    "***"
   ]
  },
  {
   "cell_type": "markdown",
   "metadata": {},
   "source": [
    "\n",
    "(9) What does each column represent, and what is the meaning of their values? \n",
    "\n",
    "***"
   ]
  },
  {
   "cell_type": "markdown",
   "metadata": {},
   "source": [
    "\n",
    "(10) What does each row represent? \n",
    "\n",
    "***"
   ]
  },
  {
   "cell_type": "markdown",
   "metadata": {},
   "source": [
    "\n",
    "\n",
    "(11) Create a scatterplot of  variables in `cars`. Explain your observations on the scatter plot. \n",
    "\n",
    "***"
   ]
  },
  {
   "cell_type": "markdown",
   "metadata": {},
   "source": [
    "\n",
    "\n",
    "## Acknowledgement "
   ]
  },
  {
   "cell_type": "markdown",
   "metadata": {},
   "source": [
    "\n",
    "## Session information "
   ]
  },
  {
   "cell_type": "code",
   "execution_count": null,
   "metadata": {},
   "outputs": [],
   "source": [
    "\n",
    "sessionInfo()"
   ]
  }
 ],
 "metadata": {
  "kernelspec": {
   "display_name": "R",
   "language": "R",
   "name": "ir"
  },
  "language_info": {
   "codemirror_mode": "r",
   "file_extension": ".r",
   "mimetype": "text/x-r-source",
   "name": "R",
   "pygments_lexer": "r",
   "version": "4.1.0"
  },
  "latex_envs": {
   "LaTeX_envs_menu_present": true,
   "autoclose": false,
   "autocomplete": true,
   "bibliofile": "biblio.bib",
   "cite_by": "apalike",
   "current_citInitial": 1,
   "eqLabelWithNumbers": true,
   "eqNumInitial": 1,
   "hotkeys": {
    "equation": "Ctrl-E",
    "itemize": "Ctrl-I"
   },
   "labels_anchors": false,
   "latex_user_defs": false,
   "report_style_numbering": false,
   "user_envs_cfg": false
  }
 },
 "nbformat": 4,
 "nbformat_minor": 4
}
