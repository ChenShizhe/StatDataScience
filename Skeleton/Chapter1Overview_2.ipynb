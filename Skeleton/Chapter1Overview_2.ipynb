{
 "cells": [
  {
   "cell_type": "markdown",
   "metadata": {},
   "source": [
    "# Chapter 1 Overview of Statistical Data Science "
   ]
  },
  {
   "cell_type": "markdown",
   "metadata": {},
   "source": [
    "## 1.2 Example: `wages`\n",
    "\n",
    "We now turn to the `wages` data to see an example of data analysis. "
   ]
  },
  {
   "cell_type": "code",
   "execution_count": null,
   "metadata": {
    "scrolled": true
   },
   "outputs": [],
   "source": []
  },
  {
   "cell_type": "code",
   "execution_count": null,
   "metadata": {},
   "outputs": [],
   "source": []
  },
  {
   "cell_type": "markdown",
   "metadata": {},
   "source": [
    "In the code above, we propose a linear model for the response (log income) and the single predictor (education). \n",
    "\n",
    "<img src=\"../Figures/Ch1/lm.jpg\" alt=\"lm\" style=\"width: 400px;\"/>\n",
    "\n",
    "The formula for `lm()` only needs to include the response (variable on the y axis) and predictors (variable on the x-axis). The intercept term is included by default, unless specified otherwise (`-1`). \n",
    "\n",
    "\n",
    "<img src=\"../Figures/Ch1/formula.jpg\" alt=\"lm\" style=\"width: 400px;\"/>"
   ]
  },
  {
   "cell_type": "code",
   "execution_count": null,
   "metadata": {},
   "outputs": [],
   "source": []
  },
  {
   "cell_type": "markdown",
   "metadata": {
    "variables": {
     "as.numeric(round(mod_e$coef[1],digits=3))": "8.558",
     "as.numeric(round(mod_e$coef[2],digits=3))": "0.142"
    }
   },
   "source": [
    "We can try to interpret the fitted coefficients.   \n",
    "- The average log income is {{as.numeric(round(mod_e$coef[1],digits=3))}} for those with zero years of education.\n",
    "\n",
    "- The average difference in log income is {{as.numeric(round(mod_e$coef[2],digits=3))}} for groups with one year difference in education. \n",
    "\n",
    "Neither statement makes a lot of sense. For instance, (1) there isn't anyone with zero years of education in the `wages` dataset, and (2) differences in log income are not informative for general audience. Therefore, we have two questions to think about. \n",
    "- Why take the logarithm of income?\n",
    "- How should we interpret the fitted results?\n",
    "\n"
   ]
  }
 ],
 "metadata": {
  "kernelspec": {
   "display_name": "R",
   "language": "R",
   "name": "ir"
  },
  "language_info": {
   "codemirror_mode": "r",
   "file_extension": ".r",
   "mimetype": "text/x-r-source",
   "name": "R",
   "pygments_lexer": "r",
   "version": "4.0.3"
  },
  "latex_envs": {
   "LaTeX_envs_menu_present": true,
   "autoclose": false,
   "autocomplete": true,
   "bibliofile": "biblio.bib",
   "cite_by": "apalike",
   "current_citInitial": 1,
   "eqLabelWithNumbers": true,
   "eqNumInitial": 1,
   "hotkeys": {
    "equation": "Ctrl-E",
    "itemize": "Ctrl-I"
   },
   "labels_anchors": false,
   "latex_user_defs": false,
   "report_style_numbering": false,
   "user_envs_cfg": false
  }
 },
 "nbformat": 4,
 "nbformat_minor": 2
}
