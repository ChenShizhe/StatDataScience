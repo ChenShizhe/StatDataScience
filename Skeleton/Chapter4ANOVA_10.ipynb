{
 "cells": [
  {
   "cell_type": "markdown",
   "metadata": {},
   "source": [
    "# Chapter 4 Analysis of Variance\n",
    "     "
   ]
  },
  {
   "cell_type": "markdown",
   "metadata": {},
   "source": [
    "\n",
    "### 4.1.10 Testing equal variance \n",
    "\n",
    "Estimate $\\sigma_1^2,\\sigma_2^2,\\ldots, \\sigma_r^2$ separately as, for $i=1,\\ldots, r$, \n",
    "\\[\n",
    "s_i^2 = \\sum_{j=1}^{n_i} \\frac{\\big(Y_{ij}-\\bar{Y}_{i\\cdot}\\big)^2}{n_i-1}.\n",
    "\\]\n",
    "We want to test the null hypothesis $H_0: \\sigma_1=\\cdots =\\sigma_r$ against the alternative $H_a:$ not all $\\sigma$s are equal. \n"
   ]
  },
  {
   "cell_type": "code",
   "execution_count": null,
   "metadata": {},
   "outputs": [],
   "source": []
  },
  {
   "cell_type": "markdown",
   "metadata": {},
   "source": [
    "**Hartley test.** The test statistic is \n",
    "\\[\n",
    "H=\\frac{\\max(s_1^2,\\ldots, s_r^2)}{\\min(s_1^2,\\ldots, s_r^2)}.\n",
    "\\]\n",
    "Reject $H_0$ if $H>H(1-\\alpha;r,n_i-1)$."
   ]
  },
  {
   "cell_type": "code",
   "execution_count": null,
   "metadata": {},
   "outputs": [],
   "source": []
  },
  {
   "cell_type": "markdown",
   "metadata": {},
   "source": [
    "**Bartlett test.** The test statistics is \n",
    "\\[\n",
    "K^2=(n_T-r) \\log({\\rm MSE})-\\sum_{i=1}^r (n_i-1) \\log (s_i^2).\n",
    "\\]\n",
    "We know that $K^2 \\geq 0$ from Jensen's inequality. Under $H_0$, $K^2$ is approximately $\\chi^2_{r-1}$ assuming that $n_i$ are not small. Reject $H_0$ if $K^2> \\chi^2(1-\\alpha;r-1)$. Related to the likelihood ratio test. \n"
   ]
  },
  {
   "cell_type": "code",
   "execution_count": null,
   "metadata": {},
   "outputs": [],
   "source": []
  },
  {
   "cell_type": "markdown",
   "metadata": {},
   "source": [
    "**Levene test.** \n",
    "1. Create new data with $d_{ij}=|Y_{ij}-\\bar{Y}_{i\\cdot}|$. \n",
    "2. Treat $\\{d_{ij}\\}$ as response variables\n",
    "3. Calculate the $F$-statistic for $H_0: \\mathbb{E}[d_{1\\cdot}]=\\mathbb{E}[d_{2\\cdot}] = \\cdots =\\mathbb{E}[d_{r\\cdot}]$\n",
    "Reject $H_0$ if $F^*>F(1-\\alpha; r-1, n_T-r)$. \n"
   ]
  },
  {
   "cell_type": "code",
   "execution_count": null,
   "metadata": {},
   "outputs": [],
   "source": []
  }
 ],
 "metadata": {
  "author": "\\mu",
  "kernelspec": {
   "display_name": "R",
   "language": "R",
   "name": "ir"
  },
  "language_info": {
   "codemirror_mode": "r",
   "file_extension": ".r",
   "mimetype": "text/x-r-source",
   "name": "R",
   "pygments_lexer": "r",
   "version": "4.0.3"
  },
  "latex_envs": {
   "LaTeX_envs_menu_present": true,
   "autoclose": false,
   "autocomplete": true,
   "bibliofile": "biblio.bib",
   "cite_by": "apalike",
   "current_citInitial": 1,
   "eqLabelWithNumbers": true,
   "eqNumInitial": 1,
   "hotkeys": {
    "equation": "Ctrl-E",
    "itemize": "Ctrl-I"
   },
   "labels_anchors": false,
   "latex_user_defs": false,
   "report_style_numbering": false,
   "user_envs_cfg": false
  }
 },
 "nbformat": 4,
 "nbformat_minor": 2
}
