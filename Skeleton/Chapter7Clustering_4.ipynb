{
 "cells": [
  {
   "cell_type": "markdown",
   "metadata": {},
   "source": [
    "### 7.3.1 Common Dissimilarity Measures\n",
    "\t\n",
    "**Euclidean** distance: <span style=\"color:red\">sum of squared difference between feature values</span>\n",
    "\\[\n",
    "d_E(i,j)= \\left[ \\sum_{l=1}^p (X_{i,l}-X_{j,l})^2  \\right]^{1/2}\n",
    "\\]\n",
    "**Manhattan** distance:\n",
    "\t\t<span style=\"color:green\">sum of absolute difference between feature values</span>\n",
    "\\[\n",
    "d_M(i,j)= \\sum_{l=1}^p |X_{i,l}-X_{j,l}|\n",
    "\\]        "
   ]
  },
  {
   "cell_type": "code",
   "execution_count": 19,
   "metadata": {},
   "outputs": [],
   "source": [
    "X<-iris[,-5]\n",
    "d.E<-dist(X,method=\"euclidean\")\n",
    "d.M<-dist(X,method=\"manhattan\")"
   ]
  }
 ],
 "metadata": {
  "kernelspec": {
   "display_name": "R",
   "language": "R",
   "name": "ir"
  },
  "language_info": {
   "codemirror_mode": "r",
   "file_extension": ".r",
   "mimetype": "text/x-r-source",
   "name": "R",
   "pygments_lexer": "r",
   "version": "4.0.3"
  },
  "latex_envs": {
   "LaTeX_envs_menu_present": true,
   "autoclose": false,
   "autocomplete": true,
   "bibliofile": "biblio.bib",
   "cite_by": "apalike",
   "current_citInitial": 1,
   "eqLabelWithNumbers": true,
   "eqNumInitial": 1,
   "hotkeys": {
    "equation": "Ctrl-E",
    "itemize": "Ctrl-I"
   },
   "labels_anchors": false,
   "latex_user_defs": false,
   "report_style_numbering": false,
   "user_envs_cfg": false
  }
 },
 "nbformat": 4,
 "nbformat_minor": 2
}
