{
 "cells": [
  {
   "cell_type": "markdown",
   "metadata": {},
   "source": [
    "# Appendix D Simulation \n"
   ]
  },
  {
   "cell_type": "markdown",
   "metadata": {},
   "source": [
    "Simulation is one crucial tool for modern statisticians that is often underutilized for beginners. With personal computing devices, we can easily simulate data to explore possible scenarios and verify our hypotheses. When learning statistics, it is wise to write simulations to understand new statistical procedures or concepts. \n",
    "\n",
    "As a programming language created for statistics analysis, `R` makes simulation easy and straight-forward. We will visit basics of simulations in this chapter. "
   ]
  },
  {
   "cell_type": "markdown",
   "metadata": {},
   "source": [
    "## D.1 Random number generation \n",
    "\n",
    "The building block of simulation is *random number generation*. Wikipedia describes that \"RNG is a process which, through a device, generates a sequence of numbers or symbols that cannot be reasonably predicted better than by a random chance\" ([link](https://en.wikipedia.org/wiki/Random_number_generation)). \n",
    "\n",
    "In practice, however, \"true\" randomness is infeasible and unnecessary for most tasks. Instead, most programming languages employ *pseudorandom number generation*. Briefly, a pseudorandom number generator draw  numbers following *deterministic* algorithms that approximate a truly random sequence. For instance, we can draw pseudorandom integers from 0 to 9 by reporting the digits of $\\pi$ --- an irrational number whose decimal expansion never repeats or terminates. More about pseudorandom number generator can be found, e.g., [here](https://en.wikipedia.org/wiki/Pseudorandom_number_generator). \n",
    "\n",
    "In `R`, we almost always mean pseudorandom number generation when we say to draw a random variable. Since pseudorandom number generation use deterministic algorithms, we should expect an identical sequence if we assign identical initial conditions for the pseudorandom number generator (*randomseed*). Indeed, the identity provides the base for reproducibility of simulations.  \n"
   ]
  },
  {
   "cell_type": "code",
   "execution_count": 1,
   "metadata": {},
   "outputs": [],
   "source": [
    "# Pseudorandom number generator based on pi:\n",
    "# From http://www.geom.uiuc.edu/~huberty/math5337/groupe/digits.html\n",
    "# Take the digits after the decimal point\n",
    "pi_more = c(\"141592653589793238462643383279502884197169399375105820974944592307816406286208998628034825342117067982148086513282306647093844609550582231725359408128481\")\n"
   ]
  },
  {
   "cell_type": "markdown",
   "metadata": {},
   "source": [
    "We can write a function to draw a sequence of random integers (0 to 9) using the digits of $\\pi$. This function takes two arguments, `n` for the number of variables and `seed` to determine which digit to start with. "
   ]
  },
  {
   "cell_type": "code",
   "execution_count": null,
   "metadata": {},
   "outputs": [],
   "source": []
  },
  {
   "cell_type": "code",
   "execution_count": null,
   "metadata": {
    "scrolled": false
   },
   "outputs": [],
   "source": []
  }
 ],
 "metadata": {
  "kernelspec": {
   "display_name": "R",
   "language": "R",
   "name": "ir"
  },
  "language_info": {
   "codemirror_mode": "r",
   "file_extension": ".r",
   "mimetype": "text/x-r-source",
   "name": "R",
   "pygments_lexer": "r",
   "version": "4.0.3"
  },
  "latex_envs": {
   "LaTeX_envs_menu_present": true,
   "autoclose": false,
   "autocomplete": true,
   "bibliofile": "biblio.bib",
   "cite_by": "apalike",
   "current_citInitial": 1,
   "eqLabelWithNumbers": true,
   "eqNumInitial": 1,
   "hotkeys": {
    "equation": "Ctrl-E",
    "itemize": "Ctrl-I"
   },
   "labels_anchors": false,
   "latex_user_defs": false,
   "report_style_numbering": false,
   "user_envs_cfg": false
  }
 },
 "nbformat": 4,
 "nbformat_minor": 1
}
