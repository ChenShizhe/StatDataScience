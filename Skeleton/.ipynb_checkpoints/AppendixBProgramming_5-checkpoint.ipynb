{
 "cells": [
  {
   "cell_type": "markdown",
   "metadata": {},
   "source": [
    "# Appendix B Programming Basics"
   ]
  },
  {
   "cell_type": "markdown",
   "metadata": {},
   "source": [
    "## B.4 Iteration"
   ]
  },
  {
   "cell_type": "markdown",
   "metadata": {},
   "source": [
    "**Iteration** is an important concept in programming. Iteration means, roughly, running the same piece of code repeatedly. Let us consider the famous *Fibonacci sequence*, whose $n$th term is defined as for $n\\geq 2$,\n",
    "$$ F(n+1) = F(n) + F(n-1), $$\n",
    "where $F(1) = 0$ and $F(2) = 1$.\n",
    "\n",
    "  There are many ways to perform iteration in `R`. The one you have probably heard of is the **for-loop**:\n",
    "```\n",
    "for (<index> in <vector>) {\n",
    "    [do something for each value of <index>]\n",
    "}\n",
    "```\n",
    "The code below computes the first 10 Fibonacci numbers using a **for-loop**."
   ]
  },
  {
   "cell_type": "code",
   "execution_count": 1,
   "metadata": {},
   "outputs": [],
   "source": [
    "previous = 0\n",
    "current = 1\n",
    "for (i in 1:10) {\n",
    "    print(previous)\n",
    "     \n",
    "}"
   ]
  },
  {
   "cell_type": "markdown",
   "metadata": {},
   "source": [
    "The **for-loop** should have three components:\n",
    "1. The *output*, in this case the printed numbers. \n",
    "2. The *sequence* of values along which we will iterate. Here we use 1 to 10. \n",
    "3. The *body*, which is the piece of code that gets executed in each iteration of the loop. In the example above, the body first runs `print(previous)`, then `new = current + previous`, etc."
   ]
  },
  {
   "cell_type": "markdown",
   "metadata": {},
   "source": [
    "Many operations in statistics are applied on all observations. However, we don't use for-loops that often in `R`, since better alternatives are available due to _vectorization_. For example, the following approaches produce identical outputs.\n",
    "The latter is more concise using vectorization, and can be faster in some cases. "
   ]
  },
  {
   "cell_type": "code",
   "execution_count": 67,
   "metadata": {},
   "outputs": [],
   "source": [
    "# sum the numbers 1 to 100\n"
   ]
  },
  {
   "cell_type": "markdown",
   "metadata": {},
   "source": [
    "Sometimes we can not specific _a priori_ the sequence to iterate over. We can use a while-loop for iteration. \n",
    "```\n",
    "while (<condition>) {\n",
    "    <body>\n",
    "}\n",
    "```\n",
    "The `while` loop will continue running until `<condition>` returns `FALSE`."
   ]
  },
  {
   "cell_type": "markdown",
   "metadata": {},
   "source": [
    "Here's an example of how we would use a `while` loop. The following command counts the number of heads and tails encountered in tosses of a fair coin until the third head is encountered."
   ]
  },
  {
   "cell_type": "code",
   "execution_count": null,
   "metadata": {},
   "outputs": [],
   "source": [
    "heads <- 0; tails<-0;\n",
    "while(heads<=2){\n",
    "  \n",
    "}\n",
    "print(heads)\n",
    "print(tails)"
   ]
  },
  {
   "cell_type": "markdown",
   "metadata": {},
   "source": [
    "As another example, say we want to print all Fibonacci numbers less than 1000. We do not know how many terms that sequence will have. We can resort to the while-loop."
   ]
  },
  {
   "cell_type": "code",
   "execution_count": null,
   "metadata": {
    "scrolled": true
   },
   "outputs": [],
   "source": [
    "previous = 0\n",
    "current = 1\n",
    "while (previous < 1000) {\n",
    "    #print(previous)\n",
    "    \n",
    "}"
   ]
  }
 ],
 "metadata": {
  "kernelspec": {
   "display_name": "R",
   "language": "R",
   "name": "ir"
  },
  "language_info": {
   "codemirror_mode": "r",
   "file_extension": ".r",
   "mimetype": "text/x-r-source",
   "name": "R",
   "pygments_lexer": "r",
   "version": "4.0.3"
  },
  "latex_envs": {
   "LaTeX_envs_menu_present": true,
   "autoclose": false,
   "autocomplete": true,
   "bibliofile": "biblio.bib",
   "cite_by": "apalike",
   "current_citInitial": 1,
   "eqLabelWithNumbers": true,
   "eqNumInitial": 1,
   "hotkeys": {
    "equation": "Ctrl-E",
    "itemize": "Ctrl-I"
   },
   "labels_anchors": false,
   "latex_user_defs": false,
   "report_style_numbering": false,
   "user_envs_cfg": false
  }
 },
 "nbformat": 4,
 "nbformat_minor": 2
}
