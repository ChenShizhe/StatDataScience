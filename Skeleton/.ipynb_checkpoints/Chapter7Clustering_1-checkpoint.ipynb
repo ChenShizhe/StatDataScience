{
 "cells": [
  {
   "cell_type": "markdown",
   "metadata": {},
   "source": [
    "# Chapter 7 Cluster Analysis\n"
   ]
  },
  {
   "cell_type": "markdown",
   "metadata": {},
   "source": [
    "## 7.1 Overview \n",
    "\n",
    "Cluster analysis is one of the most-widely used techniques in analysis of complicated data, such as the genomics data. Cluster analysis aims to detecting homogeneous subgroups among the observations or the features. The identities of these subgroups are unknown, but can often lead to meaningful interpretation after linked with additional information. \n",
    "\n",
    "It is important to note that, unlike in classification, there are no labels in cluster analysis. Cluster analysis is one of <span style=\"color:blue\"> unsupervised analyses </span>, where classification is a supervised analyses. In a supervised analysis, features and the <span style=\"color:red\">outcome </span> are both observed. However, in an unsupervised analysis, one only observes <span style=\"color:blue\">features </span>. Sometimes unsupervised analysis can be used as a <span style=\"color:blue\">pre-supervised </span> step.\n"
   ]
  },
  {
   "cell_type": "markdown",
   "metadata": {},
   "source": [
    "Briefly, cluster analysis aims to grouping objects into meaningful subsets, or <span style=\"color:red\">clusters</span>, so that objects within each cluster are more __similar__ than objects across cluster.\n",
    "\n",
    "We can cluster <span style=\"color:red\">observations</span> or <span style=\"color:blue\">features</span>.\n",
    "- <span style=\"color:red\">observations</span>: clustering cancer samples to find cancer sub-types\n",
    "- <span style=\"color:blue\">features</span>: clustering genes based on similar functions\n",
    "\n",
    "Before conducting a cluster analysis, there are two questions that need to be answered. \n",
    "- What is a **meaningful** cluster?\n",
    "- How to measure **similarity**?\n",
    "\t\n",
    "    \n",
    "\t\t"
   ]
  }
 ],
 "metadata": {
  "kernelspec": {
   "display_name": "R",
   "language": "R",
   "name": "ir"
  },
  "language_info": {
   "codemirror_mode": "r",
   "file_extension": ".r",
   "mimetype": "text/x-r-source",
   "name": "R",
   "pygments_lexer": "r",
   "version": "4.0.3"
  },
  "latex_envs": {
   "LaTeX_envs_menu_present": true,
   "autoclose": false,
   "autocomplete": true,
   "bibliofile": "biblio.bib",
   "cite_by": "apalike",
   "current_citInitial": 1,
   "eqLabelWithNumbers": true,
   "eqNumInitial": 1,
   "hotkeys": {
    "equation": "Ctrl-E",
    "itemize": "Ctrl-I"
   },
   "labels_anchors": false,
   "latex_user_defs": false,
   "report_style_numbering": false,
   "user_envs_cfg": false
  }
 },
 "nbformat": 4,
 "nbformat_minor": 2
}
