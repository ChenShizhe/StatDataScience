{
 "cells": [
  {
   "cell_type": "markdown",
   "metadata": {},
   "source": [
    "# Chapter 4 Analysis of Variance\n",
    "     "
   ]
  },
  {
   "cell_type": "markdown",
   "metadata": {},
   "source": [
    "### 4.1.8 Simultaneous inference\n",
    "\n",
    "Assume that we have a few linear combinations, $L_1, L_2, \\ldots, L_m$. Let $L\\equiv (L_1,\\ldots, L_m)^T$. We can construct a simultaneous interval for $L$ as $\\hat{L}\\mp K s\\big(\\hat{L}\\big)$ for some appropriate multiplier $K$, where $\\hat{L}$ is an estimator of $L$ and $s(\\hat{L})$ is the standard deviation of $\\hat{L}$. "
   ]
  },
  {
   "cell_type": "code",
   "execution_count": 79,
   "metadata": {},
   "outputs": [],
   "source": [
    "Spock <- read.csv(file=\"../Data/SpockTrial.csv\", header=TRUE, sep=\",\")\n",
    "Spock$Judge<-as.factor(Spock$Judge);\n",
    "anova.fit<- aov(perc.women~Judge,data=Spock)\n",
    "\n",
    "mse=sum(anova.fit$residuals^2)/anova.fit$df.residual;\n",
    "\n",
    "# Create vectors for the first two linear combinations \n",
    "comb.mat<-matrix(0,nrow=2,ncol=4)\n",
    "comb.mat[1,]=c(1,-1,0,0);comb.mat[2,]=c(1,0,-1,0);\n",
    "\n",
    "# Obtain the estimates \n",
    "diff = numeric(dim(comb.mat)[1]);\n",
    "diff.sd=diff;\n",
    "mean.tmp=anova.fit$coefficients;mean.tmp[1]=0;\n",
    "ns=as.numeric(table(Spock$Judge));\n",
    "for(i in 1:length(diff)){\n",
    "  diff[i]=sum(comb.mat[i,]*mean.tmp);\n",
    "  diff.sd[i]=sqrt(sum(comb.mat[i,]^2/ns)*mse);\n",
    "}\n",
    "alpha=0.05;"
   ]
  },
  {
   "cell_type": "markdown",
   "metadata": {},
   "source": [
    "1. Bonferroni method. The multiplier is $K=t\\big(1-\\alpha/(2m); n_T-r\\big)$. Then, the simultaneous intervals cover the true parameters with probability at least $(1-\\alpha)$."
   ]
  },
  {
   "cell_type": "code",
   "execution_count": 1,
   "metadata": {},
   "outputs": [],
   "source": []
  },
  {
   "cell_type": "markdown",
   "metadata": {},
   "source": [
    "2. Tukey-Kramer method. This approach only works for pairwise comparisons, e.g., $\\mu_i -\\mu_{i'}$. The $100(1-\\alpha)\\%$ confidence interval for $\\{\\mu_i-\\mu_{i'}: i, i' \\in \\{1,\\ldots, r\\}, i\\neq i'\\}$ is \n",
    "\\[\\bar{Y}_{i\\cdot} - \\bar{Y}_{i' \\cdot} \\mp T s\\big( \\bar{Y}_{i\\cdot} -\\bar{Y}_{i'\\cdot} \\big), \\ i\\neq i', \\ T=\\frac{1}{\\sqrt{2}} q(1-\\alpha; r, n_T-r), \n",
    "\\]\n",
    "where $q$ is the studentized range distribution. The coverage is exactly $1-\\alpha$ for a balanced ANOVA model, and at least $1-\\alpha$ for unbalanced cases. "
   ]
  },
  {
   "cell_type": "code",
   "execution_count": 81,
   "metadata": {},
   "outputs": [],
   "source": []
  },
  {
   "cell_type": "markdown",
   "metadata": {},
   "source": [
    "3. Scheffe method. This approach applies to all possible constrasts, where the coefficients sum up to zero for each $L_j$, i.e.,$L_j=\\sum_{i=1}^r c_{ji} \\mu_i$ and $\\sum_{i=1}^r c_{ji} =0$. The multiplier is $S= \\big[(r-1) F(1-\\alpha; r-1,n_T-r)\\big]^{1/2}$. The coverage is exactly $1-\\alpha$ for _all_ possible contrasts. For finitely many contrasts, the coverage is at least $1-\\alpha$.\n"
   ]
  },
  {
   "cell_type": "code",
   "execution_count": 82,
   "metadata": {},
   "outputs": [],
   "source": []
  },
  {
   "cell_type": "markdown",
   "metadata": {},
   "source": [
    "**Choosing which method**\n",
    "- All pair comparison, (near) balanced design, then Tukey method is the best.\n",
    "- If testing $m$ hypothesis, $m$ is small use Bonferroni; If $m$ large, use Scheffe method. "
   ]
  },
  {
   "cell_type": "code",
   "execution_count": null,
   "metadata": {},
   "outputs": [],
   "source": []
  }
 ],
 "metadata": {
  "author": "\\mu",
  "kernelspec": {
   "display_name": "R",
   "language": "R",
   "name": "ir"
  },
  "language_info": {
   "codemirror_mode": "r",
   "file_extension": ".r",
   "mimetype": "text/x-r-source",
   "name": "R",
   "pygments_lexer": "r",
   "version": "4.0.3"
  },
  "latex_envs": {
   "LaTeX_envs_menu_present": true,
   "autoclose": false,
   "autocomplete": true,
   "bibliofile": "biblio.bib",
   "cite_by": "apalike",
   "current_citInitial": 1,
   "eqLabelWithNumbers": true,
   "eqNumInitial": 1,
   "hotkeys": {
    "equation": "Ctrl-E",
    "itemize": "Ctrl-I"
   },
   "labels_anchors": false,
   "latex_user_defs": false,
   "report_style_numbering": false,
   "user_envs_cfg": false
  }
 },
 "nbformat": 4,
 "nbformat_minor": 2
}
