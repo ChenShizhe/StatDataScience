{
 "cells": [
  {
   "cell_type": "markdown",
   "metadata": {},
   "source": [
    "# Chapter 9 Causal Inference\n"
   ]
  },
  {
   "cell_type": "markdown",
   "metadata": {},
   "source": [
    "## 9.2 Overview of causal inference\n",
    "\n",
    "The two paradoxes should, at the very least, make it clear that association does not necessarily imply causation. In our everyday life, one usually never makes an effort to distinguish association from causation---unless this one is an statistician. Furthermore, most of the quantitative methods can only make claims on associations but not associations. \n",
    "\n",
    "However, it is often the causal inference that matters in the real world. For instance, we might be interested in the following questions.\n",
    "- What would happen to the patient if they received treatment $A$ instead of $ B$?\n",
    "- What would happen to the unemployment rate if the U.S. government increased minimum wages?\n",
    "- What would happen to the case number if a state took a different action in April?\n",
    "\n",
    "In all these what-ifs, we notice that it is always comparing _outcomes_ under _different_ conditions for the _same_ subject(s). In other words, **causal inference** is the comparison between _potential outcomes_ under _treatment_ and _control_ for the _same_ unit(s). \n",
    "\n",
    "It has been well-known and a common practice that randomized experiments are warranted for any decision and action that involves causal inference. Two prominent examples are the randomized clinical trials for the evaluation of drugs and treatments, and the A/B testing for evaluation of business strategies. \n",
    "\n",
    "Randomization seems to have answered the what-ifs. With a randomized clinical trial, we can compare the outcomes when patients randomly received the two treatments. However, there are some small but crucial caveats. For instance, in a randomized clinical trial, there can not be comparison on the same unit: a patient can not take one treatment and then roll back time to take another treatment. In other words, the comparison is not done on the _same_ unit. After all, is it even possible to strictly limit causal inference only when comparison is conducted on the same unit? We need a \"language\" to rigorously discuss this question. \n",
    "\n",
    "We will use the [potential outcome framework](https://en.wikipedia.org/wiki/Rubin_causal_model) in this note. There are many other approaches including the [direct acyclic graphs](https://en.wikipedia.org/wiki/Causal_graph).\n",
    "\n",
    "Suppose we **observe** a data set with treatment $Z_i$ ($A$ or $B$) and outcome $Y_i$ (1 for success and 0 for fail) for $i=1,2,\\ldots, n$. Further consider the **potential outcomes** $Y_i( \\text{treatment} = A)$ that represents the outcome if subject $i$ receives treatment $A$, and $Y_i( \\text{treatment} = B)$,  the outcome if subject $i$ receives treatment $B$. Using the notation of potential outcomes, we can write the observed outcome as $Y_i(Z_i)$, which shows that only one potential outcome is observed for each unit. The following table show the potential outcomes and the **observed values** in boldface. \n",
    "\n",
    "| Unit $i$ | $Z_i$ | &nbsp; $Y_i(A)$ | &nbsp; $Y_i(B)$ |\n",
    "| ---  | ---  | ---- | ---- |\n",
    "|1  |  A     |   **0**        |      1|\n",
    "|2  |      B    |    0        |       **1** |\n",
    "|3  |       A  |     **0**        |      0 |\n",
    "|4  |       A |      **1**       |      1 |\n",
    "\n",
    "\n",
    "In a real data, we only get to observe the following. \n",
    "\n",
    "\n",
    "| Unit $i$ | $Z_i$ | $Y_i$ | \n",
    "| --- | --- | ---  |\n",
    "|1  |       A     |         **0**        |     \n",
    "|2  |      B    |       **1** |\n",
    "|3  |       A  |          **0**        |     \n",
    "|4  |       A |          **1**       |     \n",
    "|5  |       B  |           **0** |\n",
    "\n",
    "With these new notations, we can see that the what-ifs describe the comparison of potential outcomes, e.g., $Y_i(A)-Y_i(B)$. To be specific, a causal effect is  defined to be the comparison of the  potential outcomes on the **same units**.\n",
    "- **Individual causal effect**:  $Y_i(A)-Y_i(B)$.\n",
    "- **Average causal effect** (ACE): $\\text{mean}\\{Y_i(A)-Y_i(B)\\}$\n",
    "\n",
    "It is important to notice that $\\text{mean}\\{Y_i(A)\\}$ does not equal to $\\text{mean}\\{Y_i \\mid Z_i=A\\} $ in general. We can see this using the examples in the above tables.\n",
    "- $\\text{mean}\\{Y_i(A)\\}$: average of $Y_i(A)$ for units 1, 2, 3, 4.\n",
    "- $\\text{mean}\\{Y_i\\mid Z_i=A\\}$: average of $Y_i$ for units 1,3.\n",
    "\n",
    "\n",
    "The above tables also reveal the fundamental problem of causal inference. That is only one potential outcome is observed.  In randomized experiments, randomization ensures $\\text{mean}\\{Y_i(A)\\} \\neq \\text{mean}\\{Y_i \\mid Z_i=A\\} $, which allows us to estimate the average causal effects. We should always think about what can and what cannot be learned from the observed data.\n",
    "\n",
    "> If your experiment needs statistics, you ought to have done a better experiment.\n",
    ">\n",
    ">        --  Ernest Rutherford \n",
    "        \n",
    "\n",
    "> Regression models often seem to be used to compensate for problems in measurement, data collection, and study design. By the time models are deployed, the scientific position is nearly hopeless. \n",
    "> \n",
    ">     --  David Freedman \n",
    "\n",
    "\n",
    "A new task that will be often discussed in this chapter is **Identification**: what can be identified if there are infinite amount of data. This tasks concerns the design of experiements or how the data is collected. In contrast, the **Inference** problem, where we study what can be learned given a finite sample, is what we have focused on in most of the statistical methods. "
   ]
  }
 ],
 "metadata": {
  "kernelspec": {
   "display_name": "R",
   "language": "R",
   "name": "ir"
  },
  "language_info": {
   "codemirror_mode": "r",
   "file_extension": ".r",
   "mimetype": "text/x-r-source",
   "name": "R",
   "pygments_lexer": "r",
   "version": "4.0.3"
  },
  "latex_envs": {
   "LaTeX_envs_menu_present": true,
   "autoclose": false,
   "autocomplete": true,
   "bibliofile": "biblio.bib",
   "cite_by": "apalike",
   "current_citInitial": 1,
   "eqLabelWithNumbers": true,
   "eqNumInitial": 1,
   "hotkeys": {
    "equation": "Ctrl-E",
    "itemize": "Ctrl-I"
   },
   "labels_anchors": false,
   "latex_user_defs": false,
   "report_style_numbering": false,
   "user_envs_cfg": false
  }
 },
 "nbformat": 4,
 "nbformat_minor": 2
}
