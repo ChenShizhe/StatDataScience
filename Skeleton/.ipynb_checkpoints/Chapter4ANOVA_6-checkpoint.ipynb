{
 "cells": [
  {
   "cell_type": "markdown",
   "metadata": {},
   "source": [
    "# Chapter 4 Analysis of Variance\n",
    "     "
   ]
  },
  {
   "cell_type": "markdown",
   "metadata": {},
   "source": [
    "### 4.1.6 F-test\n",
    "\n",
    "Recall that the question of interest in the Spock trial data can now be translated to whether $\\{\\mu_i\\}_{i=1}^r$ are the same. Formally, we want to test the null hypothesis \n",
    "\\[ H_0: \\mu_1 = \\mu_2 = \\cdots = \\mu_r \\]\n",
    "against the alternative \n",
    "\\[ H_1: {\\rm not \\ all\\ } \\mu_i\\ {\\rm are\\ the\\ same}.\\]\n",
    "\n",
    "The first test statistic we consider is the F-statistic $F^*\\equiv  {\\rm MSTR}/{\\rm MSE}$. Under the null, $F^*$ follows an F-distribution with d.f.s $(r-1,n_T-r)$ when assuming $\\epsilon$s are i.i.d. $N(0,\\sigma^2)$. We reject the null hypothesis at the significance level $\\alpha$, if $F^* > F(1-\\alpha; r-1, n_T-r)$. \n"
   ]
  },
  {
   "cell_type": "code",
   "execution_count": 1,
   "metadata": {},
   "outputs": [],
   "source": [
    "Spock <- read.csv(file=\"../Data/SpockTrial.csv\", header=TRUE, sep=\",\")\n",
    "Spock$Judge<-as.factor(Spock$Judge);\n",
    "anova.fit<- aov(perc.women~Judge,data=Spock)"
   ]
  },
  {
   "cell_type": "markdown",
   "metadata": {
    "variables": {
     "round(qf(0.95,dim(Spock)[1]-1-anova.fit[[8]],anova.fit[[8]]),digits=3)": "2.934",
     "round(summary(anova.fit)[[1]][1,4],digits=3)": "17.61"
    }
   },
   "source": [
    "\n",
    "**Example.** In the Spock trial, we want to test the null hypothesis $H_0: \\mu_1=\\mu_2=\\mu_3=\\mu_4$ against the alternative $H_1:$ not all $\\mu_i$'s are equal. We can calculate the F-statistics $F^*={\\rm MSTR}/{\\rm MSE}=$ {{round(summary(anova.fit)[[1]][1,4],digits=3)}}, when $F(0.95;3,29)=$ {{round(qf(0.95,dim(Spock)[1]-1-anova.fit[[8]],anova.fit[[8]]),digits=3)}}. We can thus reject the null hypothesis at the nominal significance level $0.05$.\n",
    "\n"
   ]
  },
  {
   "cell_type": "markdown",
   "metadata": {},
   "source": [
    "\n",
    "**Interpretation of $F^*$.**\n",
    "1. ${\\rm MSE}$ is an estimator of $\\sigma^2$, but the maximum likelihood estimator for $\\sigma^2$ is ${\\rm SSE}/n_T$.\n",
    "3. The ratio $F^*$ fluctuates about \n",
    "\\[\n",
    "\\frac{\\mathbb{E}[{\\rm MSTR}]}{\\mathbb{E}[{\\rm MSE}]}=1+\\sum_{i=1}^r \\frac{n_i}{r-1} \\left(\\frac{\\mu_i-\\mu}{\\sigma} \\right)^2,\n",
    "\\]\n",
    "where the second term is a unit-free measure of the variablity among $\\mu_1,\\mu_2,\\ldots, \\mu_r$. Under the null, the second term equals zero and thus $F$ fluctuates around one. "
   ]
  }
 ],
 "metadata": {
  "author": "\\mu",
  "kernelspec": {
   "display_name": "R",
   "language": "R",
   "name": "ir"
  },
  "language_info": {
   "codemirror_mode": "r",
   "file_extension": ".r",
   "mimetype": "text/x-r-source",
   "name": "R",
   "pygments_lexer": "r",
   "version": "4.0.3"
  },
  "latex_envs": {
   "LaTeX_envs_menu_present": true,
   "autoclose": false,
   "autocomplete": true,
   "bibliofile": "biblio.bib",
   "cite_by": "apalike",
   "current_citInitial": 1,
   "eqLabelWithNumbers": true,
   "eqNumInitial": 1,
   "hotkeys": {
    "equation": "Ctrl-E",
    "itemize": "Ctrl-I"
   },
   "labels_anchors": false,
   "latex_user_defs": false,
   "report_style_numbering": false,
   "user_envs_cfg": false
  }
 },
 "nbformat": 4,
 "nbformat_minor": 2
}
