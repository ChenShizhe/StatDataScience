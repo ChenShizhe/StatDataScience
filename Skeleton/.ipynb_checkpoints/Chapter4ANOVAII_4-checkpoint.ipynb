{
 "cells": [
  {
   "cell_type": "markdown",
   "metadata": {},
   "source": [
    "# Chapter 4 Analysis of Variance\n",
    "     "
   ]
  },
  {
   "cell_type": "markdown",
   "metadata": {},
   "source": [
    "## 4.2 Two-way ANOVA"
   ]
  },
  {
   "cell_type": "markdown",
   "metadata": {},
   "source": [
    "### 4.2.4 Inference \n",
    "\n",
    "Tests for two-way ANOVA models are essentially identical to those for one-way ANOVA model. We discuss only the F-tests for the interactions and one main effect here. \n",
    "\n",
    "**F-test for interactions.** Consider the following null and alternative hypotheses. \n",
    "\\[\n",
    "H_0: (\\alpha\\beta)_{ij}=0 \\ {\\rm v.s.} \\ H_1:\\  {\\rm not \\ all \\ } (\\alpha\\beta)_{ij} \\ {\\rm are \\ zero}.\n",
    "\\]\n",
    "The F-statistics is $F^*={\\rm MSAB}/{\\rm MSE}$. Under the null, $F^*$ follows an $F$-distribution with $df=( (a-1)(b-1),(n-1)ab)$. \n",
    "\n",
    "**Test for the main effect of factor A.** Consider the following null and alternative hypotheses. \n",
    "\\[\n",
    "H_0: \\alpha_{i}=0 \\forall i \\ {\\rm v.s.} \\ H_1:\\  {\\rm not \\ all \\ } \\alpha_i \\ {\\rm are \\ zero}.\n",
    "\\]\n",
    "We have $F^*={\\rm MSA}/{\\rm MSE}$ that follows an F-distribution with $df=(a-1,(n-1)ab)$. \n",
    "\n",
    "Similar results hold for factor B. Theory and justifications for these tests are almost identical to those for one-way ANOVA. \n",
    "\n",
    "**MSE without interactions.** In the absence of interactions, the MSE defined in the previous section no long makes sense. Instead, we can define $\\hat{Y}_{ijk}=\\hat{\\mu}_{\\cdot\\cdot} +\\hat{\\alpha}_i + \\hat{\\beta}_j$. This  leads to $e_{ijk}'=Y_{ijk}-\\hat{Y}_{ijk}$.  Consequently, ${\\rm SSE}= \\sum \\sum \\sum \\big(Y_{ijk}-\\hat{Y}_{ijk}\\big)^2$ and $df({\\rm SSE})=nab-a-b+1$. Finally, we have that ${\\rm MSE} = {\\rm SSE} /(nab-a-b+1)$. "
   ]
  },
  {
   "cell_type": "markdown",
   "metadata": {},
   "source": [
    "Methods for testing linear combinations and simultaneous inference generalize to the case with two-way, and higher order, ANOVA model. "
   ]
  }
 ],
 "metadata": {
  "author": "mes ",
  "kernelspec": {
   "display_name": "R",
   "language": "R",
   "name": "ir"
  },
  "language_info": {
   "codemirror_mode": "r",
   "file_extension": ".r",
   "mimetype": "text/x-r-source",
   "name": "R",
   "pygments_lexer": "r",
   "version": "4.0.3"
  },
  "latex_envs": {
   "LaTeX_envs_menu_present": true,
   "autoclose": false,
   "autocomplete": true,
   "bibliofile": "biblio.bib",
   "cite_by": "apalike",
   "current_citInitial": 1,
   "eqLabelWithNumbers": true,
   "eqNumInitial": 1,
   "hotkeys": {
    "equation": "Ctrl-E",
    "itemize": "Ctrl-I"
   },
   "labels_anchors": false,
   "latex_user_defs": false,
   "report_style_numbering": false,
   "user_envs_cfg": false
  }
 },
 "nbformat": 4,
 "nbformat_minor": 2
}
