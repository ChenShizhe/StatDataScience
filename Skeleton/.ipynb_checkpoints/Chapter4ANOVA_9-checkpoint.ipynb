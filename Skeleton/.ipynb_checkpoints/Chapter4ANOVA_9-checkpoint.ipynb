{
 "cells": [
  {
   "cell_type": "markdown",
   "metadata": {},
   "source": [
    "# Chapter 4 Analysis of Variance\n",
    "     "
   ]
  },
  {
   "cell_type": "markdown",
   "metadata": {},
   "source": [
    "### 4.1.9 Diagnostics of one-way ANOVA\n",
    "\n",
    "Recall that the (cell means) model for a one-way ANOVA is \n",
    "\\[\n",
    "Y_{ij}=\\mu_i +\\epsilon_{ij}, \\  j=1,\\ldots, n_i, \\ i=1,\\ldots,r,\n",
    "\\]\n",
    "where $\\epsilon_{ij}$ are i.i.d. $N(0,\\sigma^2)$. \n",
    "\n",
    "**Possible departures** from the model assumptions\n",
    "1. Variances of error terms are unequal.\n",
    "2. Error terms are not independent.\n",
    "3. Error terms are not normally distributed.\n",
    "4. Outliers (samples that do not follow this model).\n",
    "5. Missing variables. \n",
    "\n",
    "All diagnostics rely on the _residuals_.\n",
    "- Residuals $e_{ij}\\equiv Y_{ij}-\\bar{Y}_{i\\cdot}$.\n",
    "- Semistudentized residuals $e^*_{ij}=e_{ij}/\\sqrt{\\rm MSE}$\n",
    "- Studentized residuals $r_{ij}=e_{ij}/s(e_{ij})$, where $s^2(e_{ij})=(1-1/n) {\\rm MSE}$. \n",
    "\n"
   ]
  },
  {
   "cell_type": "code",
   "execution_count": null,
   "metadata": {
    "scrolled": true
   },
   "outputs": [],
   "source": []
  },
  {
   "cell_type": "markdown",
   "metadata": {},
   "source": [
    "With residuals, we usually begin the diagnostics with visualizations to explore how the residuals are related with other vairbales.\n",
    "\n",
    "1. $e^*$ or $r$ v.s. $\\hat{Y}_{ij}$\n",
    "2. $e^*$ or $r$ v.s. indices or other structures \n",
    "3. Quantile-Quantile plot or stem-leaf plot \n",
    "4. $e^*$ or $r$ v.s. missing variables.\n",
    "5. ...\n",
    "\n",
    "\n"
   ]
  },
  {
   "cell_type": "code",
   "execution_count": null,
   "metadata": {},
   "outputs": [],
   "source": []
  }
 ],
 "metadata": {
  "author": "\\mu",
  "kernelspec": {
   "display_name": "R",
   "language": "R",
   "name": "ir"
  },
  "language_info": {
   "codemirror_mode": "r",
   "file_extension": ".r",
   "mimetype": "text/x-r-source",
   "name": "R",
   "pygments_lexer": "r",
   "version": "4.0.3"
  },
  "latex_envs": {
   "LaTeX_envs_menu_present": true,
   "autoclose": false,
   "autocomplete": true,
   "bibliofile": "biblio.bib",
   "cite_by": "apalike",
   "current_citInitial": 1,
   "eqLabelWithNumbers": true,
   "eqNumInitial": 1,
   "hotkeys": {
    "equation": "Ctrl-E",
    "itemize": "Ctrl-I"
   },
   "labels_anchors": false,
   "latex_user_defs": false,
   "report_style_numbering": false,
   "user_envs_cfg": false
  }
 },
 "nbformat": 4,
 "nbformat_minor": 2
}
