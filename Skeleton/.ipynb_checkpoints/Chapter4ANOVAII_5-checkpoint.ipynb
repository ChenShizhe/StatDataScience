{
 "cells": [
  {
   "cell_type": "markdown",
   "metadata": {},
   "source": [
    "# Chapter 4 Analysis of Variance\n",
    "     "
   ]
  },
  {
   "cell_type": "markdown",
   "metadata": {},
   "source": [
    "## 4.2 Two-way ANOVA"
   ]
  },
  {
   "cell_type": "markdown",
   "metadata": {},
   "source": [
    "\n",
    "\n",
    "### 4.2.5 Special case: one observation per case\n",
    "\n",
    "When there is only one observation per cell, the number of observations ($ab$) equals to the number of unknown means $(ab)$. It is not possible to estimate the full model with interactions with proper measures of uncertainty. However, the number of observed cases does not alter the truth underneath the data. We may still want to test whether interactions are present. \n",
    "\n",
    "**Tukey's test for additivity.**\n",
    "Consider the following model\n",
    "\\[\n",
    "Y_{ij}=\\mu_{\\cdot\\cdot} +\\alpha_i+\\beta_j+D \\alpha_i\\beta_j+\\epsilon_{ij}, \n",
    "\\]\n",
    "where $\\epsilon_{ij}$ are i.i.d. $N(0,\\sigma^2)$. In this model, the fourth term on the right-hand side attempts to capture the interaction effects with limited capacity. The specific form $D \\alpha_i\\beta_j$ does not capture all possible interactions, but it is a work-around with limited observations. In this model, we can test \n",
    "\\[\n",
    "H_0: D=0 \\ \\ \\ {\\rm v.s.}\\ \\ \\ H_a: D \\neq 0.\n",
    "\\]\n",
    "\n",
    "We can derive that \n",
    "\\[\n",
    "\\hat{D} = \\frac{\\sum\\sum Y_{ij} \\hat{\\alpha}_i \\hat{\\beta}_j}{\\sum \\hat{\\alpha}_i^2 \\sum \\hat{\\beta}_j^2 }. \n",
    "\\]\n",
    "We can construct the F-test for $H_0: D=0$ in a similar manner as in Section 4.2.4. You can read more about this test in, e.g., [here](https://en.wikipedia.org/wiki/Tukey's_test_of_additivity). \n",
    "\n",
    "\n",
    "\n",
    "\n"
   ]
  }
 ],
 "metadata": {
  "author": "mes ",
  "kernelspec": {
   "display_name": "R",
   "language": "R",
   "name": "ir"
  },
  "language_info": {
   "codemirror_mode": "r",
   "file_extension": ".r",
   "mimetype": "text/x-r-source",
   "name": "R",
   "pygments_lexer": "r",
   "version": "4.0.3"
  },
  "latex_envs": {
   "LaTeX_envs_menu_present": true,
   "autoclose": false,
   "autocomplete": true,
   "bibliofile": "biblio.bib",
   "cite_by": "apalike",
   "current_citInitial": 1,
   "eqLabelWithNumbers": true,
   "eqNumInitial": 1,
   "hotkeys": {
    "equation": "Ctrl-E",
    "itemize": "Ctrl-I"
   },
   "labels_anchors": false,
   "latex_user_defs": false,
   "report_style_numbering": false,
   "user_envs_cfg": false
  }
 },
 "nbformat": 4,
 "nbformat_minor": 2
}
