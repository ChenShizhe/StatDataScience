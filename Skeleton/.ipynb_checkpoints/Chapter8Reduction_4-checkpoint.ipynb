{
 "cells": [
  {
   "cell_type": "markdown",
   "metadata": {},
   "source": [
    "**PC Loadings**\n",
    "\n",
    "- Observations can be plotted (\"projected\") in space of PC's \n",
    "- Roughly, equivalent to rotating the axes and plotting original data points in the new axes $Z_1,\\, Z_2$.\n"
   ]
  },
  {
   "cell_type": "code",
   "execution_count": null,
   "metadata": {},
   "outputs": [],
   "source": []
  },
  {
   "cell_type": "markdown",
   "metadata": {},
   "source": [
    "A lot of methods (PCA included) can be thought of as decomposing a data matrix $X_{n\\times p}$, into a mixture of $k$ archetypes\n",
    "\\[\n",
    " X \\approx U V^{\\top},\n",
    "\\]\n",
    "where $V_{p\\times k}$ is a matrix of archetypes and $U_{n\\times k}$ is a matrix of weights (for mixing archetypes to get $X$). One can also think of this as a \"vector space embedding\" (where our weights determine the embedding)"
   ]
  },
  {
   "cell_type": "markdown",
   "metadata": {},
   "source": [
    "It is not easy to choosing the number of principal components. There exist multiple proposals such as using gap statistic, universal threshold, clever cross-validations, etc. None of this methods dominate the rest. The right choice eventually comes down to the needs in a particular analysis project. For instance, the number of PCs to choose should be two if for visualization on a two-dimensional surface. \n",
    "    "
   ]
  },
  {
   "cell_type": "code",
   "execution_count": null,
   "metadata": {},
   "outputs": [],
   "source": []
  },
  {
   "cell_type": "code",
   "execution_count": null,
   "metadata": {
    "scrolled": true
   },
   "outputs": [],
   "source": []
  }
 ],
 "metadata": {
  "kernelspec": {
   "display_name": "R",
   "language": "R",
   "name": "ir"
  },
  "language_info": {
   "codemirror_mode": "r",
   "file_extension": ".r",
   "mimetype": "text/x-r-source",
   "name": "R",
   "pygments_lexer": "r",
   "version": "4.0.3"
  },
  "latex_envs": {
   "LaTeX_envs_menu_present": true,
   "autoclose": false,
   "autocomplete": true,
   "bibliofile": "biblio.bib",
   "cite_by": "apalike",
   "current_citInitial": 1,
   "eqLabelWithNumbers": true,
   "eqNumInitial": 1,
   "hotkeys": {
    "equation": "Ctrl-E",
    "itemize": "Ctrl-I"
   },
   "labels_anchors": false,
   "latex_user_defs": false,
   "report_style_numbering": false,
   "user_envs_cfg": false
  }
 },
 "nbformat": 4,
 "nbformat_minor": 2
}
