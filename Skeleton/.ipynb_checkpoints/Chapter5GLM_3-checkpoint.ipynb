{
 "cells": [
  {
   "cell_type": "markdown",
   "metadata": {},
   "source": [
    "\n",
    "**Hypothesis testing**\n",
    "\n",
    "Consider the following null and alternative hypotheses $H_0: \\beta_1=0$ v.s. $H_1: \\beta_1=0$. There are three tests for this task. Note that all three tests are the same in linear regression, whereas they differ in the presence of nonlinearity. \n",
    "\n",
    "1. Likelihood ratio test. ${\\rm LR}=-2 \\big[ \\log \\mathcal{L}({\\rm reduced}) -\\log \\mathcal{L}({\\rm full}) \\big]$. We have that ${\\rm LR} \\sim \\chi^2_{K-k}$, under $H_0$ and large $n$. \n",
    "\n",
    "2. Score test. $S=U(\\beta)/I(\\beta) \\sim \\chi^2$ with $d.f.=1$.\n",
    "\n",
    "3. Wald test. Robust wald test. For $K-k=1$, we have $W=\\hat{\\beta}_1/{\\rm se}(\\hat{\\beta}_1) \\sim N(0,1)$ under $H_0$ and large $n$. The robustness comes from a robust standard error. "
   ]
  }
 ],
 "metadata": {
  "kernelspec": {
   "display_name": "R",
   "language": "R",
   "name": "ir"
  },
  "language_info": {
   "codemirror_mode": "r",
   "file_extension": ".r",
   "mimetype": "text/x-r-source",
   "name": "R",
   "pygments_lexer": "r",
   "version": "4.0.3"
  },
  "latex_envs": {
   "LaTeX_envs_menu_present": true,
   "autoclose": false,
   "autocomplete": true,
   "bibliofile": "biblio.bib",
   "cite_by": "apalike",
   "current_citInitial": 1,
   "eqLabelWithNumbers": true,
   "eqNumInitial": 1,
   "hotkeys": {
    "equation": "Ctrl-E",
    "itemize": "Ctrl-I"
   },
   "labels_anchors": false,
   "latex_user_defs": false,
   "report_style_numbering": false,
   "user_envs_cfg": false
  }
 },
 "nbformat": 4,
 "nbformat_minor": 2
}
