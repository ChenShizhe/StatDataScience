{
 "cells": [
  {
   "cell_type": "markdown",
   "metadata": {},
   "source": [
    "Unfortunately, it is not possible to consider every possible partition of the space into $J$ boxes. We consider instead a *greedy* approach called <span style=\"color:blue\"> recursive binary splitting</span>.  We take a top-down approach that is similar to hierarchical clustering. The best split is determined at each given step, instead of the best global step. In particular, at each step we do the following.                            \n",
    "- For every $j=1,\\ldots, p$, we choose  <span style=\"color:red\">cut point</span> $t_j$ such that splitting the predictor space into regions\n",
    "\\[\n",
    " R_1(j, t_j) = \\{ X \\mid X_j < t_j\\}, \\ \\ \\  R_2(j, t) = \\{ X \\mid X_j \\ge t_j\\}.\n",
    "\\]\n",
    "Here the $t_j$ is chosen as \n",
    "\\[\n",
    "\\underset{t}{\\arg\\min} \\sum_{i: x_i \\in R_1(j,t)} (y_i - \\hat{y}_{R_1})^2 + \\sum_{i: x_i \\in R_2(j,t)} (y_i - \\hat{y}_{R_2})^2\n",
    "\\]\n",
    "- We find the value of $j$ with the smallest residual sum of squares \n",
    "\\[\n",
    "\\sum_{i: x_i \\in R_1(j,t_j)} (y_i - \\hat{y}_{R_1})^2 + \\sum_{i: x_i \\in R_2(j,t_j)} (y_i - \\hat{y}_{R_2})^2. \n",
    "\\]\n",
    "\n",
    "We will repeat the above process to split a subspace (rather than the whole space) in each step. "
   ]
  },
  {
   "cell_type": "markdown",
   "metadata": {},
   "source": [
    "**Extensions of Trees **\n",
    "\n",
    "We have considered the squared error loss. Similarly, trees can extend naturally to binary/survival data choose splits greedily to minimize loss.                          \n",
    "                                                    \n",
    "Trees are often used as <span style=\"color:blue\"> base learners</span>\n",
    "<span style=\"color:red\"> model aggregation/ensembling</span>, e.g. boosting, bagging, stacking. \n",
    "\n",
    "Some `R` functions are better equipped to deal with high dimensional data ($p> n$) than others. Rarely will it hurt your method to prescreen out features that are extremely marginally uncorrelated with outcome.\n"
   ]
  },
  {
   "cell_type": "code",
   "execution_count": 114,
   "metadata": {
    "scrolled": true
   },
   "outputs": [
    {
     "data": {
      "image/png": "[encoded data removed]",
      "text/plain": [
       "plot without title"
      ]
     },
     "metadata": {
      "image/png": {
       "height": 420,
       "width": 420
      }
     },
     "output_type": "display_data"
    }
   ],
   "source": [
    "library(tree)\n",
    "\n",
    "mod.adr.tree <- tree(adr~lead_time+ total_of_special_requests+ stays_in_week_nights+ stays_in_weekend_nights, data=hotel)\n",
    "plot(mod.adr.tree)\n",
    "text(mod.adr.tree, all=T, cex=0.8)"
   ]
  }
 ],
 "metadata": {
  "kernelspec": {
   "display_name": "R",
   "language": "R",
   "name": "ir"
  },
  "language_info": {
   "codemirror_mode": "r",
   "file_extension": ".r",
   "mimetype": "text/x-r-source",
   "name": "R",
   "pygments_lexer": "r",
   "version": "4.0.3"
  },
  "latex_envs": {
   "LaTeX_envs_menu_present": true,
   "autoclose": false,
   "autocomplete": true,
   "bibliofile": "biblio.bib",
   "cite_by": "apalike",
   "current_citInitial": 1,
   "eqLabelWithNumbers": true,
   "eqNumInitial": 1,
   "hotkeys": {
    "equation": "Ctrl-E",
    "itemize": "Ctrl-I"
   },
   "labels_anchors": false,
   "latex_user_defs": false,
   "report_style_numbering": false,
   "user_envs_cfg": false
  }
 },
 "nbformat": 4,
 "nbformat_minor": 2
}
