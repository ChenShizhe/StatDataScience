{
 "cells": [
  {
   "cell_type": "markdown",
   "metadata": {},
   "source": [
    "### 6.4.2 Resctricting model complexity\n",
    "\n",
    "Roughly speaking, the complexity of a model is tantamount to the number of parameters in the model. A model with more parameters is more flexible for learning the unknown mechanism, but at the same time may be sensitive to random patterns that are unique to this observed data set. A solution is to restrict the model complexity by penalizing the number of parameters. \n",
    "\n"
   ]
  },
  {
   "cell_type": "markdown",
   "metadata": {},
   "source": [
    "#### 6.4.2.1 Information criteria\n",
    "\n",
    "The criterion in Section 6.2 places no constraint on the number of parameters. A classic strategy for avoiding overfitting is to supplement the loss function with a penalty on the **number of parameters**. Two very famous examples are the Akaike information criterion and the Bayesian information criterion. \n",
    "\n",
    "- Akaike information criterion (AIC): ${\\rm AIC}=2k - \\log (\\hat{L}_k)$ where $k$ is the number of parameters and $\\hat{L}_k$ is the loss function with $k$ parameters. \n",
    "\n",
    "- Bayesian information criterion (BIC): ${\\rm BIC}=k\\log(n) - \\log (\\hat{L}_k)$ where $k$ is the number of parameters and $\\hat{L}_k$ is the loss function with $k$ parameters. \n",
    "\n",
    "The only difference between AIC and BIC is in the weights of $k$. In AIC, the weight is a constant 2, while in BIC the weight is $\\log(n)$ that increases as the sample size increases. \n",
    "\n"
   ]
  }
 ],
 "metadata": {
  "kernelspec": {
   "display_name": "R",
   "language": "R",
   "name": "ir"
  },
  "language_info": {
   "codemirror_mode": "r",
   "file_extension": ".r",
   "mimetype": "text/x-r-source",
   "name": "R",
   "pygments_lexer": "r",
   "version": "4.0.3"
  },
  "latex_envs": {
   "LaTeX_envs_menu_present": true,
   "autoclose": false,
   "autocomplete": true,
   "bibliofile": "biblio.bib",
   "cite_by": "apalike",
   "current_citInitial": 1,
   "eqLabelWithNumbers": true,
   "eqNumInitial": 1,
   "hotkeys": {
    "equation": "Ctrl-E",
    "itemize": "Ctrl-I"
   },
   "labels_anchors": false,
   "latex_user_defs": false,
   "report_style_numbering": false,
   "user_envs_cfg": false
  }
 },
 "nbformat": 4,
 "nbformat_minor": 2
}
