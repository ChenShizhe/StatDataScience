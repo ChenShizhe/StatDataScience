{
 "cells": [
  {
   "cell_type": "markdown",
   "metadata": {},
   "source": [
    "# Appendix C Data \n"
   ]
  },
  {
   "cell_type": "markdown",
   "metadata": {},
   "source": [
    "## C.4 Basic operations on data"
   ]
  },
  {
   "cell_type": "markdown",
   "metadata": {},
   "source": [
    "`R` offers several built-in vectorized functions that can be used to create more complicated function. These include:\n",
    "\n",
    "* **Arithmetic operators** `+, -, *, /, ^`\n",
    "* **Modular arithmetic operators** `%/%` and `%%` \n",
    "* **Logarithms** `log()`, `log10()`, `log2()`\n",
    "* **Offsets** `lag()` and `lead()`"
   ]
  },
  {
   "cell_type": "markdown",
   "metadata": {},
   "source": [
    "We use `/` for a regular division.  For an integer division, we use the code `%/%`, where the fractional part (remainder) is discarded."
   ]
  },
  {
   "cell_type": "code",
   "execution_count": null,
   "metadata": {},
   "outputs": [],
   "source": []
  },
  {
   "cell_type": "markdown",
   "metadata": {},
   "source": [
    "Sometimes we may find the modular operation `%%` useful.  This is outputting the fractional part of a division.  "
   ]
  },
  {
   "cell_type": "code",
   "execution_count": null,
   "metadata": {},
   "outputs": [],
   "source": []
  },
  {
   "cell_type": "markdown",
   "metadata": {},
   "source": [
    "There are also handy functions such as `lag` and `lead`. The function`lag` computes a lagged version of a time series, shifting the time base back by a given number of observations."
   ]
  },
  {
   "cell_type": "code",
   "execution_count": null,
   "metadata": {},
   "outputs": [],
   "source": []
  },
  {
   "cell_type": "markdown",
   "metadata": {},
   "source": [
    "We also have:\n",
    "\n",
    "* **Logical comparisons** `==, !=, <, <=, >, >=`\n",
    "* **Cumulative aggregates** `cumsum(), cumprod(), cummin(), cummax()` (`dplyr` also provides `cummean()`)"
   ]
  },
  {
   "cell_type": "code",
   "execution_count": null,
   "metadata": {},
   "outputs": [],
   "source": []
  },
  {
   "cell_type": "code",
   "execution_count": null,
   "metadata": {},
   "outputs": [],
   "source": []
  },
  {
   "cell_type": "markdown",
   "metadata": {},
   "source": [
    "Sometimes, we want to *rank* our data by assigning integers for 1st place, 2nd place, etc. The functions `dense_rank()`, `min_rank()`, and `row_number()` can be used for this purpose:"
   ]
  },
  {
   "cell_type": "code",
   "execution_count": 1,
   "metadata": {},
   "outputs": [],
   "source": [
    "gpas = c(3.9, 3.8, 2.7, 3.8, 4.0, 4.0)\n"
   ]
  },
  {
   "cell_type": "markdown",
   "metadata": {},
   "source": [
    "Note the differences in behavior: \n",
    "- The rankings from `dense_rank()` never have gaps.\n",
    "- The rankings from `min_rank()` skips over 3rd place (because we have two entries tied for 2nd.)\n",
    "- The rankings from `row_number()` break ties arbitrarily, so the first 4.0 GPA gets ranked 5th, and the second 4.0 GPA gets ranked 6th.\n",
    "\n",
    "By default, the ranking functions rank lowest first. If we want to reverse that, and assign rank 1 to the highest entry, we can use the `desc()` function:"
   ]
  },
  {
   "cell_type": "code",
   "execution_count": null,
   "metadata": {},
   "outputs": [],
   "source": []
  },
  {
   "cell_type": "code",
   "execution_count": 2,
   "metadata": {},
   "outputs": [
    {
     "data": {
      "text/html": [
       "<style>\n",
       ".list-inline {list-style: none; margin:0; padding: 0}\n",
       ".list-inline>li {display: inline-block}\n",
       ".list-inline>li:not(:last-child)::after {content: \"\\00b7\"; padding: 0 .5ex}\n",
       "</style>\n",
       "<ol class=list-inline><li>17</li><li>12</li><li>21</li><li>14</li><li>14</li><li>26</li><li>14</li><li>12</li><li>&lt;NA&gt;</li><li>11</li></ol>\n"
      ],
      "text/latex": [
       "\\begin{enumerate*}\n",
       "\\item 17\n",
       "\\item 12\n",
       "\\item 21\n",
       "\\item 14\n",
       "\\item 14\n",
       "\\item 26\n",
       "\\item 14\n",
       "\\item 12\n",
       "\\item <NA>\n",
       "\\item 11\n",
       "\\end{enumerate*}\n"
      ],
      "text/markdown": [
       "1. 17\n",
       "2. 12\n",
       "3. 21\n",
       "4. 14\n",
       "5. 14\n",
       "6. 26\n",
       "7. 14\n",
       "8. 12\n",
       "9. &lt;NA&gt;\n",
       "10. 11\n",
       "\n",
       "\n"
      ],
      "text/plain": [
       " [1] 17 12 21 14 14 26 14 12 NA 11"
      ]
     },
     "metadata": {},
     "output_type": "display_data"
    }
   ],
   "source": [
    "(x <- sample(c(11, 12, 12, 14, 14, 14, 17, 21, 26, NA))) # returns a random permutation of the input\n"
   ]
  },
  {
   "cell_type": "markdown",
   "metadata": {},
   "source": [
    "`summarize()` can be used to summarize entire data frames by collapsing them into single number summaries.\n"
   ]
  },
  {
   "cell_type": "code",
   "execution_count": 3,
   "metadata": {},
   "outputs": [],
   "source": [
    "# departure delay"
   ]
  },
  {
   "cell_type": "code",
   "execution_count": null,
   "metadata": {},
   "outputs": [],
   "source": []
  },
  {
   "cell_type": "markdown",
   "metadata": {},
   "source": [
    "Many summarization functions are available:\n",
    "\n",
    "* Center: `mean(), median()`\n",
    "* Spread: `sd(), IQR(), mad()`\n",
    "* Range: `min(), max(), quantile()`\n",
    "* Position: `first(), last(), nth()`\n",
    "* Count: `n(), n_distinct()`\n",
    "* Logical: `any(), all()`"
   ]
  },
  {
   "cell_type": "markdown",
   "metadata": {},
   "source": [
    "Now, let us try to use some of the summarize functions to create a new table with the variables airports, total flights, mean distance, and standard deviation of the distance.  We want to sort the mean distance in descending order.   Let's try to guess which airport has the largest mean distance before we even proceed! "
   ]
  },
  {
   "cell_type": "code",
   "execution_count": null,
   "metadata": {},
   "outputs": [],
   "source": []
  }
 ],
 "metadata": {
  "kernelspec": {
   "display_name": "R",
   "language": "R",
   "name": "ir"
  },
  "language_info": {
   "codemirror_mode": "r",
   "file_extension": ".r",
   "mimetype": "text/x-r-source",
   "name": "R",
   "pygments_lexer": "r",
   "version": "4.0.3"
  },
  "latex_envs": {
   "LaTeX_envs_menu_present": true,
   "autoclose": false,
   "autocomplete": true,
   "bibliofile": "biblio.bib",
   "cite_by": "apalike",
   "current_citInitial": 1,
   "eqLabelWithNumbers": true,
   "eqNumInitial": 1,
   "hotkeys": {
    "equation": "Ctrl-E",
    "itemize": "Ctrl-I"
   },
   "labels_anchors": false,
   "latex_user_defs": false,
   "report_style_numbering": false,
   "user_envs_cfg": false
  }
 },
 "nbformat": 4,
 "nbformat_minor": 1
}
