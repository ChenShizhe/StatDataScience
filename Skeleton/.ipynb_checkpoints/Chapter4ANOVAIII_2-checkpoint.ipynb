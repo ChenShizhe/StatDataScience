{
 "cells": [
  {
   "cell_type": "markdown",
   "metadata": {},
   "source": [
    "# Chapter 4 Analysis of Variance\n",
    "     "
   ]
  },
  {
   "cell_type": "markdown",
   "metadata": {},
   "source": [
    "### 4.3.2 Sum of squares \n",
    "\n",
    "We can decompose the sum of squres as \n",
    "\\[\n",
    "{\\rm SSTO} = \\sum_{i=1}^r \\sum_{j=1}^{n} \\big(Y_{ij}-\\bar{Y}_{\\cdot\\cdot}\\big)^2, \\ df=nr-1,\n",
    "\\]\n",
    "\\[\n",
    "{\\rm SSTR} =n_i \\sum_{j=1}^{n} \\big(\\bar{Y}_{i\\cdot}-\\bar{Y}_{\\cdot\\cdot})^2, \\ df=r-1, \\ {\\rm MSTR}=\\frac{ {\\rm SSTR}}{r-1}.\n",
    "\\]\n",
    "\\[\n",
    "{\\rm SSE} = \\sum_{i=1}^r \\sum_{j=1}^{n} \\big(Y_{ij}-\\bar{Y}_{i\\cdot}\\big)^2, \\ df=n(r-1), \\ {\\rm MSE}=\\frac{ {\\rm SSE}}{n(r-1)}.\n",
    "\\]\n",
    "\n",
    "**Properties**\n",
    "1. $\\mathbb{E}\\big[\\bar{Y}_{\\cdot\\cdot}\\big]=\\mu$.\n",
    "We can estimate the overall (population) mean $\\mu_{\\cdot\\cdot}$ with $\\hat{\\mu}_{\\cdot\\cdot}=\\bar{Y}_{\\cdot\\cdot}$.\n",
    "\n",
    "2. ${\\rm var}\\big(\\bar{Y}_{\\cdot\\cdot}\\big) = (n\\sigma_{\\mu}^2 + \\sigma^2)/(nr)$.\n",
    "We have $\\hat{ {\\rm var}}(\\bar{Y})= {\\rm MSTR}/(nr)$.\n",
    "\n",
    "3. $\\mathbb{E}[{\\rm MSE}]=\\sigma^2$.\n",
    "We can estimate $\\sigma^2$ with $s^2 = {\\rm MSE}/\\{n(r-1)\\}$.\n",
    "4. $\\mathbb{E}[{\\rm MSTR}] = n\\sigma_{\\mu}^2 + \\sigma^2$.\n",
    "We can estimate $\\sigma_{\\mu}^2$ with $s_{\\mu}^2 = ({\\rm MSTR}-{\\rm MSE})/n$, \n",
    "\n",
    "\n",
    "\n",
    "\n",
    "**Best linear unbiased _predictor_ of $\\tau_i$.**\n",
    "\n",
    "Consider a linear predictor of $\\tau_i$ of the form $H=d_1 \\bar{Y}_{1\\cdot} + \\cdots + d_r \\bar{Y}_{r\\cdot}$ s.t. $\\mathbb{E}[H-\\tau_i]=0$. \n",
    "Then, $\\mathbb{E}\\big[(H-\\tau_i)^2 \\big]$ is minimized when $d_i = w(1-1/r)$ and $d_{i'}=-w/r$ for $i'\\neq i$. The best predictor is of the form $w(\\bar{Y}_{i\\cdot}-\\bar{Y}_{\\cdot \\cdot})$ with $w= n \\sigma_{\\mu}^2 / (n\\sigma_{\\mu}^2 +\\sigma^2)$, and thus $\\hat{\\tau}_o=\\hat{w}(\\bar{Y}_{i\\cdot} -\\bar{Y}_{\\cdot\\cdot})$ with $\\hat{w}=n s_{\\mu}^2 /{\\rm MSTR}$. \n",
    "\n",
    "Notes\n",
    "(i) $\\hat{w} \\in [0,1]$. (ii) ${\\rm SSE}=\\sum \\sum (s_{ij}-\\bar{s}_{i\\cdot})^2$ is free of $\\mu$ and $\\tau$'s. \n",
    "(iii) $H=\\sum \\sum c_{ij} Y_{ij}$. "
   ]
  }
 ],
 "metadata": {
  "author": "mes ",
  "kernelspec": {
   "display_name": "R",
   "language": "R",
   "name": "ir"
  },
  "language_info": {
   "codemirror_mode": "r",
   "file_extension": ".r",
   "mimetype": "text/x-r-source",
   "name": "R",
   "pygments_lexer": "r",
   "version": "4.0.3"
  },
  "latex_envs": {
   "LaTeX_envs_menu_present": true,
   "autoclose": false,
   "autocomplete": true,
   "bibliofile": "biblio.bib",
   "cite_by": "apalike",
   "current_citInitial": 1,
   "eqLabelWithNumbers": true,
   "eqNumInitial": 1,
   "hotkeys": {
    "equation": "Ctrl-E",
    "itemize": "Ctrl-I"
   },
   "labels_anchors": false,
   "latex_user_defs": false,
   "report_style_numbering": false,
   "user_envs_cfg": false
  }
 },
 "nbformat": 4,
 "nbformat_minor": 2
}
