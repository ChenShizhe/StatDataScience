{
 "cells": [
  {
   "cell_type": "markdown",
   "metadata": {},
   "source": [
    "# Appendix B Programming Basics"
   ]
  },
  {
   "cell_type": "markdown",
   "metadata": {},
   "source": [
    "## B.3 Function\n",
    "\n",
    "Often when programming, we find ourselves repeating the same block of code with minor modifications. It seems to be a good idea to wrap-up these blocks for repeated uses. Most programming languages allow us to create _functions_ for exactly this purpose.  \n",
    "\n",
    "Above we saw that typing `c(1,2,3,4,5)` creates a vector of 1 to 5. `c()` is an example of a *function*. The general form of a function in `R` (and most other programming languages) is:\n",
    "\n",
    "    <function name>(<function arguments>)\n",
    "    \n",
    "In the above example, the function is named `c`, and the arguments were `1, 2, 3, 4, 5`. Another example of a function is `print`, which prints its arguments to the screen:"
   ]
  },
  {
   "cell_type": "code",
   "execution_count": 37,
   "metadata": {
    "scrolled": true
   },
   "outputs": [
    {
     "name": "stdout",
     "output_type": "stream",
     "text": [
      "[1] \"I am a function named print\"\n"
     ]
    }
   ],
   "source": [
    "print(\"I am a function named print\" )"
   ]
  },
  {
   "cell_type": "markdown",
   "metadata": {},
   "source": [
    "We can create a simple function that requires no argument. \n"
   ]
  },
  {
   "cell_type": "code",
   "execution_count": 40,
   "metadata": {},
   "outputs": [
    {
     "data": {
      "text/html": [
       "<pre class=language-r><code>function () \n",
       "{\n",
       "<span style=white-space:pre-wrap>    return(\"Nice to meet you!\")</span>\n",
       "}</code></pre>"
      ],
      "text/latex": [
       "\\begin{minted}{r}\n",
       "function () \n",
       "\\{\n",
       "    return(\"Nice to meet you!\")\n",
       "\\}\n",
       "\\end{minted}"
      ],
      "text/markdown": [
       "```r\n",
       "function () \n",
       "{\n",
       "    return(\"Nice to meet you!\")\n",
       "}\n",
       "```"
      ],
      "text/plain": [
       "function( ) {\n",
       "    return(\"Nice to meet you!\")\n",
       "}"
      ]
     },
     "metadata": {},
     "output_type": "display_data"
    },
    {
     "data": {
      "text/html": [
       "'Nice to meet you!'"
      ],
      "text/latex": [
       "'Nice to meet you!'"
      ],
      "text/markdown": [
       "'Nice to meet you!'"
      ],
      "text/plain": [
       "[1] \"Nice to meet you!\""
      ]
     },
     "metadata": {},
     "output_type": "display_data"
    }
   ],
   "source": [
    "greet <- function( ) {\n",
    "    return(\"Nice to meet you!\")\n",
    "}\n",
    "greet\n",
    "greet()"
   ]
  },
  {
   "cell_type": "markdown",
   "metadata": {},
   "source": [
    "`greet` is the **name** of our function and  the code between the curly brackets `{` and `}` is the **body** of the function.\n",
    "\n",
    "We can modify `greet()` to take an argument. In what follows, `x` is the **argument** to the function."
   ]
  },
  {
   "cell_type": "code",
   "execution_count": 20,
   "metadata": {},
   "outputs": [
    {
     "data": {
      "text/html": [
       "'Nice to meet you!'"
      ],
      "text/latex": [
       "'Nice to meet you!'"
      ],
      "text/markdown": [
       "'Nice to meet you!'"
      ],
      "text/plain": [
       "[1] \"Nice to meet you!\""
      ]
     },
     "metadata": {},
     "output_type": "display_data"
    }
   ],
   "source": [
    "greet <- function(x) {\n",
    "    paste(\"Nice to meet you, \", x, \"!\",sep='')\n",
    "}"
   ]
  },
  {
   "cell_type": "markdown",
   "metadata": {},
   "source": [
    "We can supply the **default** value of argument as the code below shows."
   ]
  },
  {
   "cell_type": "code",
   "execution_count": 43,
   "metadata": {},
   "outputs": [],
   "source": [
    "greet <- function(x = \"friend\") {\n",
    "    paste(\"Nice to meet you, \", x, \"!\",sep='')\n",
    "}"
   ]
  },
  {
   "cell_type": "code",
   "execution_count": 44,
   "metadata": {},
   "outputs": [
    {
     "data": {
      "text/html": [
       "'Nice to meet you, stranger!'"
      ],
      "text/latex": [
       "'Nice to meet you, stranger!'"
      ],
      "text/markdown": [
       "'Nice to meet you, stranger!'"
      ],
      "text/plain": [
       "[1] \"Nice to meet you, stranger!\""
      ]
     },
     "metadata": {},
     "output_type": "display_data"
    },
    {
     "data": {
      "text/html": [
       "'Nice to meet you, friend!'"
      ],
      "text/latex": [
       "'Nice to meet you, friend!'"
      ],
      "text/markdown": [
       "'Nice to meet you, friend!'"
      ],
      "text/plain": [
       "[1] \"Nice to meet you, friend!\""
      ]
     },
     "metadata": {},
     "output_type": "display_data"
    }
   ],
   "source": [
    "# If we suply the argument, the function works as before.\n",
    "greet('stranger')\n",
    "# If we don't, it uses the default argument.\n",
    "greet()"
   ]
  },
  {
   "cell_type": "markdown",
   "metadata": {},
   "source": [
    "Let's see what happens when we pass along the empty string \"\" as an argument to `greet`."
   ]
  },
  {
   "cell_type": "code",
   "execution_count": 45,
   "metadata": {},
   "outputs": [
    {
     "data": {
      "text/html": [
       "'Nice to meet you, !'"
      ],
      "text/latex": [
       "'Nice to meet you, !'"
      ],
      "text/markdown": [
       "'Nice to meet you, !'"
      ],
      "text/plain": [
       "[1] \"Nice to meet you, !\""
      ]
     },
     "metadata": {},
     "output_type": "display_data"
    }
   ],
   "source": [
    "greet(\"\")"
   ]
  },
  {
   "cell_type": "markdown",
   "metadata": {},
   "source": [
    "Perhaps, we don't like the space between \"you\" and \"!\" in this case. We can add a check to see if the argument is an empty string."
   ]
  },
  {
   "cell_type": "code",
   "execution_count": 48,
   "metadata": {},
   "outputs": [],
   "source": [
    "greet <- function(x = \"friend\") {\n",
    "    if (nchar(x) == 0) {\n",
    "        \"Nice to meet you!\"\n",
    "    } else {\n",
    "        paste(\"Nice to meet you, \", x, \"!\")\n",
    "    }\n",
    "}"
   ]
  },
  {
   "cell_type": "code",
   "execution_count": 49,
   "metadata": {},
   "outputs": [
    {
     "data": {
      "text/html": [
       "'Nice to meet you!'"
      ],
      "text/latex": [
       "'Nice to meet you!'"
      ],
      "text/markdown": [
       "'Nice to meet you!'"
      ],
      "text/plain": [
       "[1] \"Nice to meet you!\""
      ]
     },
     "metadata": {},
     "output_type": "display_data"
    }
   ],
   "source": [
    "greet(\"\")"
   ]
  },
  {
   "cell_type": "markdown",
   "metadata": {},
   "source": [
    "We just saw an instance of **conditional execution** of code using the `if` statement."
   ]
  },
  {
   "cell_type": "markdown",
   "metadata": {},
   "source": [
    "Now let's write some functions that are more statistical. Suppose that we watn to standardize a vector `x`."
   ]
  },
  {
   "cell_type": "code",
   "execution_count": 50,
   "metadata": {},
   "outputs": [
    {
     "name": "stdout",
     "output_type": "stream",
     "text": [
      "[1]   1   5 -11  20\n"
     ]
    }
   ],
   "source": [
    "x <- c(1,5,-11,20)\n",
    "print(x)"
   ]
  },
  {
   "cell_type": "code",
   "execution_count": null,
   "metadata": {},
   "outputs": [],
   "source": []
  },
  {
   "cell_type": "code",
   "execution_count": null,
   "metadata": {},
   "outputs": [],
   "source": []
  },
  {
   "cell_type": "markdown",
   "metadata": {},
   "source": [
    "Now let say we have to perform this task again for another vector.  We can simply repeat the above calculations.  "
   ]
  },
  {
   "cell_type": "code",
   "execution_count": 1,
   "metadata": {},
   "outputs": [],
   "source": [
    "y <- c(-12, 3, 14, 56)\n"
   ]
  },
  {
   "cell_type": "markdown",
   "metadata": {},
   "source": [
    "Or, we could write a function in `R` to help us achieve what we want with one call of this function!"
   ]
  },
  {
   "cell_type": "code",
   "execution_count": 2,
   "metadata": {},
   "outputs": [],
   "source": [
    "standardize <- function(x) { \n",
    "}"
   ]
  },
  {
   "cell_type": "code",
   "execution_count": null,
   "metadata": {},
   "outputs": [],
   "source": []
  },
  {
   "cell_type": "code",
   "execution_count": null,
   "metadata": {},
   "outputs": [],
   "source": []
  },
  {
   "cell_type": "markdown",
   "metadata": {},
   "source": [
    "Now we have a `standardize()` function that standardizes any vectors easily. But what if we need to standardize hundreds of vectors in a data frame? Soon we will learn about iteration and ways to cut down further on repetition."
   ]
  },
  {
   "cell_type": "markdown",
   "metadata": {},
   "source": [
    "Often when writing functions we need to do different things depending on what data is passed in. This is known as *conditional execution*, and is accomplished using the `if/else` construct:\n",
    "```{r}\n",
    "if (condition) {\n",
    "  # code executed when condition is TRUE\n",
    "} else {\n",
    "  # code executed when condition is FALSE\n",
    "}\n",
    "```"
   ]
  },
  {
   "cell_type": "markdown",
   "metadata": {},
   "source": [
    "`if/else` and `ifelse()` are very different. `ifelse()` is a *function* that takes three vector arguments and returns a new vector. `if/else` tells R to conditionally execute code. \n",
    "\n",
    "The `condition` part of the `if` statement must evaluate to either a single `TRUE` or `FALSE`. If it does not, you will get a warning:"
   ]
  },
  {
   "cell_type": "code",
   "execution_count": 3,
   "metadata": {},
   "outputs": [
    {
     "name": "stderr",
     "output_type": "stream",
     "text": [
      "Warning message in if (c(T, F)) {:\n",
      "\"the condition has length > 1 and only the first element will be used\"\n"
     ]
    },
    {
     "data": {
      "text/html": [
       "1"
      ],
      "text/latex": [
       "1"
      ],
      "text/markdown": [
       "1"
      ],
      "text/plain": [
       "[1] 1"
      ]
     },
     "metadata": {},
     "output_type": "display_data"
    },
    {
     "data": {
      "text/html": [
       "<style>\n",
       ".list-inline {list-style: none; margin:0; padding: 0}\n",
       ".list-inline>li {display: inline-block}\n",
       ".list-inline>li:not(:last-child)::after {content: \"\\00b7\"; padding: 0 .5ex}\n",
       "</style>\n",
       "<ol class=list-inline><li>'B'</li><li>'B'</li><li>'B'</li><li>'B'</li><li>'B'</li><li>'A'</li><li>'A'</li><li>'A'</li><li>'A'</li><li>'A'</li></ol>\n"
      ],
      "text/latex": [
       "\\begin{enumerate*}\n",
       "\\item 'B'\n",
       "\\item 'B'\n",
       "\\item 'B'\n",
       "\\item 'B'\n",
       "\\item 'B'\n",
       "\\item 'A'\n",
       "\\item 'A'\n",
       "\\item 'A'\n",
       "\\item 'A'\n",
       "\\item 'A'\n",
       "\\end{enumerate*}\n"
      ],
      "text/markdown": [
       "1. 'B'\n",
       "2. 'B'\n",
       "3. 'B'\n",
       "4. 'B'\n",
       "5. 'B'\n",
       "6. 'A'\n",
       "7. 'A'\n",
       "8. 'A'\n",
       "9. 'A'\n",
       "10. 'A'\n",
       "\n",
       "\n"
      ],
      "text/plain": [
       " [1] \"B\" \"B\" \"B\" \"B\" \"B\" \"A\" \"A\" \"A\" \"A\" \"A\""
      ]
     },
     "metadata": {},
     "output_type": "display_data"
    }
   ],
   "source": [
    "if (c(T, F)) { 1 } else { }\n",
    "\n",
    "ifelse(\n",
    "    1:10 > 5,\n",
    "    \"A\",\n",
    "    \"B\"\n",
    ")"
   ]
  },
  {
   "cell_type": "markdown",
   "metadata": {},
   "source": [
    "Note that a condition of `NA` will generate an error. This is one of the most common issues when writing conditions in `R`. "
   ]
  },
  {
   "cell_type": "code",
   "execution_count": 56,
   "metadata": {},
   "outputs": [
    {
     "ename": "ERROR",
     "evalue": "Error in if (NA) {: missing value where TRUE/FALSE needed\n",
     "output_type": "error",
     "traceback": [
      "Error in if (NA) {: missing value where TRUE/FALSE needed\nTraceback:\n"
     ]
    }
   ],
   "source": [
    "if (NA) { 1 }"
   ]
  },
  {
   "cell_type": "markdown",
   "metadata": {},
   "source": [
    "By default, the last expression evaluated inside a function block is the value returned. However, we can use an explicit **return statement** to return early.\n"
   ]
  },
  {
   "cell_type": "code",
   "execution_count": 62,
   "metadata": {},
   "outputs": [],
   "source": [
    "standardize2 <- function(x) {\n",
    "    x_centered <- x - mean(x)\n",
    "    stdev <- sd(x_centered)\n",
    "    if (stdev == 0) {\n",
    "        return(x)\n",
    "    }\n",
    "    x_centered / sd(x_centered)  \n",
    "}"
   ]
  },
  {
   "cell_type": "code",
   "execution_count": 4,
   "metadata": {},
   "outputs": [],
   "source": [
    "standardize2(c(-2, -1, 1, 2))"
   ]
  },
  {
   "cell_type": "code",
   "execution_count": 5,
   "metadata": {},
   "outputs": [],
   "source": [
    "standardize2(c(1,1,1,1))"
   ]
  },
  {
   "cell_type": "code",
   "execution_count": 6,
   "metadata": {
    "scrolled": true
   },
   "outputs": [],
   "source": [
    "standardize(c(1,1,1,1))"
   ]
  }
 ],
 "metadata": {
  "kernelspec": {
   "display_name": "R",
   "language": "R",
   "name": "ir"
  },
  "language_info": {
   "codemirror_mode": "r",
   "file_extension": ".r",
   "mimetype": "text/x-r-source",
   "name": "R",
   "pygments_lexer": "r",
   "version": "4.0.3"
  },
  "latex_envs": {
   "LaTeX_envs_menu_present": true,
   "autoclose": false,
   "autocomplete": true,
   "bibliofile": "biblio.bib",
   "cite_by": "apalike",
   "current_citInitial": 1,
   "eqLabelWithNumbers": true,
   "eqNumInitial": 1,
   "hotkeys": {
    "equation": "Ctrl-E",
    "itemize": "Ctrl-I"
   },
   "labels_anchors": false,
   "latex_user_defs": false,
   "report_style_numbering": false,
   "user_envs_cfg": false
  }
 },
 "nbformat": 4,
 "nbformat_minor": 2
}
