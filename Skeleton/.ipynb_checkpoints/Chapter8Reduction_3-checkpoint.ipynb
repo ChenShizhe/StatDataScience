{
 "cells": [
  {
   "cell_type": "markdown",
   "metadata": {},
   "source": [
    "We can start with a good one-dimensional representation of the data. \n",
    "\n",
    "Some Possibilities:\n",
    "\n",
    "- Use <span style=\"color:red\"> one of the variables </span> (e.g. $X_1$).\n",
    " \\[\n",
    " Z_1 = X_1.\n",
    " \\]\n",
    "- Better idea: use a linear combination of the variables; i.e. a weighted average of the variables.\n",
    "\\[\n",
    " Z_1 = \\sum_{i=1}^p w_{1,i} X_i,\n",
    "\\]\n",
    "where $w_{1,i}$ is the weight for $X_i$. This is a better idea since it includes the case for one single variable as a special case (e.g., $w_{1,1}=1$ and $w_{1,i}=0$ for $i\\neq 1$).\n",
    "\n",
    "But how do we find the optimal choice of weights? "
   ]
  },
  {
   "cell_type": "markdown",
   "metadata": {},
   "source": [
    "There can be many criteria for choosing the weights, and thus many \"optimal\" weights under different criteria. \n",
    "\n",
    "For principal component analysis, the criterion is to find weights that help explain the maximum amount of variance. "
   ]
  },
  {
   "cell_type": "markdown",
   "metadata": {},
   "source": [
    "A systematic way to find additional principal components (PC's) is to choose subsequent linear combinations  orthogonal/perpendicular to previous ones. \n",
    "\n",
    "Suppose that we are looking for the second direction \n",
    "\\[\n",
    " Z_2 = \\sum_{i=1}^p w_{2,i} X_i,\n",
    "\\]\n",
    "The orthogonality constraint means that we want to choose $(w_{2,1}, w_{2,2}, \\ldots, w_{2,p})^T$ to be orthogonal to $(w_{1,1}, w_{1,2}, \\ldots, w_{1,p})^T$. At the same time, the two direction $Z_1$ and $Z_2$ need to explains the maximum variation in the data. "
   ]
  },
  {
   "cell_type": "code",
   "execution_count": null,
   "metadata": {
    "scrolled": false
   },
   "outputs": [],
   "source": []
  }
 ],
 "metadata": {
  "kernelspec": {
   "display_name": "R",
   "language": "R",
   "name": "ir"
  },
  "language_info": {
   "codemirror_mode": "r",
   "file_extension": ".r",
   "mimetype": "text/x-r-source",
   "name": "R",
   "pygments_lexer": "r",
   "version": "4.0.3"
  },
  "latex_envs": {
   "LaTeX_envs_menu_present": true,
   "autoclose": false,
   "autocomplete": true,
   "bibliofile": "biblio.bib",
   "cite_by": "apalike",
   "current_citInitial": 1,
   "eqLabelWithNumbers": true,
   "eqNumInitial": 1,
   "hotkeys": {
    "equation": "Ctrl-E",
    "itemize": "Ctrl-I"
   },
   "labels_anchors": false,
   "latex_user_defs": false,
   "report_style_numbering": false,
   "user_envs_cfg": false
  }
 },
 "nbformat": 4,
 "nbformat_minor": 2
}
