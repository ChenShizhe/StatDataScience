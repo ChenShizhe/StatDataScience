{
 "cells": [
  {
   "cell_type": "markdown",
   "metadata": {},
   "source": [
    "# Chapter 10 Design\n",
    "     \n",
    " "
   ]
  },
  {
   "cell_type": "markdown",
   "metadata": {},
   "source": [
    "## 10.1 Randomized experiment"
   ]
  },
  {
   "cell_type": "markdown",
   "metadata": {},
   "source": [
    "### 10.1.1 Simple randomized experiments\n",
    "\n",
    "Suppose that we want to study whether treatment A causes any changes in the reponse. We know from the potential outcome framework that independence between the treatment assignment and the potential outcomes is key to average treatment/causal effect.\n",
    "\n",
    "Even for a simple randomized experiment, there are different ways to assign the treatment. \n",
    "\n",
    "1. For any subject, $i=1,\\ldots, n$, randomize its treatment $Z_i=0$ or $1$ with a probability $p$.\n",
    "2. For $i=1,\\ldots, n$, randomly allocate them into two groups with $n/2$ in each group. \n",
    "\n",
    "Unit-level treatment effect as $\\tau_i(j,j')=Y_i(j)-Y_i(j')$. \n",
    "\n",
    "Population-level treatment effect is \n",
    "\\[\n",
    "\\tau(j,j')=N^{-1} \\sum_{i=1}^n \\tau_i (j,j') = N^{-1} \\sum_{i=1}^N \\{ Y_i(j)-Y_i(j')\\} \\equiv \\bar{Y}(j)-\\bar{Y}(j'). \n",
    "\\]\n",
    "\n",
    "**Fisher's sharp null hypothesis** of zero individual treatment effects\n",
    "\\[\n",
    "H_{0F}: Y_i(1) = Y_i(2) = \\cdots = Y_i(J) \\ \\ (i=1,\\ldots, N)\n",
    "\\]\n",
    "This leads to the permutation test.\n",
    "\n",
    "**Neyman's null hypothesis**: no average treatment effects. \n",
    "\\[\n",
    "H_{0N}: \\bar{Y}(1)=\\cdots = \\bar{Y}(J).\n",
    "\\]\n",
    "Weaker restriction on the potential outcomes. \n",
    "\n",
    "_Claim_: Fisher's randomization test fails to control type I error in unbalanced experiments. \n",
    "\n",
    "\n"
   ]
  }
 ],
 "metadata": {
  "kernelspec": {
   "display_name": "R",
   "language": "R",
   "name": "ir"
  },
  "language_info": {
   "codemirror_mode": "r",
   "file_extension": ".r",
   "mimetype": "text/x-r-source",
   "name": "R",
   "pygments_lexer": "r",
   "version": "4.0.3"
  },
  "latex_envs": {
   "LaTeX_envs_menu_present": true,
   "autoclose": false,
   "autocomplete": true,
   "bibliofile": "biblio.bib",
   "cite_by": "apalike",
   "current_citInitial": 1,
   "eqLabelWithNumbers": true,
   "eqNumInitial": 1,
   "hotkeys": {
    "equation": "Ctrl-E",
    "itemize": "Ctrl-I"
   },
   "labels_anchors": false,
   "latex_user_defs": false,
   "report_style_numbering": false,
   "user_envs_cfg": false
  }
 },
 "nbformat": 4,
 "nbformat_minor": 2
}
