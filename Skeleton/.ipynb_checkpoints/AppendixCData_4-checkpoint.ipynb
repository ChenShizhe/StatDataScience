{
 "cells": [
  {
   "cell_type": "markdown",
   "metadata": {},
   "source": [
    "# Appendix C Data \n"
   ]
  },
  {
   "cell_type": "markdown",
   "metadata": {},
   "source": [
    "## C.3 Pipe operator `%>%`\n",
    "\n",
    "\n",
    "Under the hood, `x %>% f(y)` turns into `f(x, y)`, and `x %>% f(y) %>% g(z)` turns into `g(f(x, y), z)` and so on. Functions in `tidyverse` are almost always easy to write and read using `%>%`. But we can use `%>%` on any function, not just those defined in `tidyverse`. Here is an example on printing \"hello world\" using pipe. "
   ]
  },
  {
   "cell_type": "code",
   "execution_count": null,
   "metadata": {},
   "outputs": [],
   "source": []
  },
  {
   "cell_type": "markdown",
   "metadata": {},
   "source": [
    "We will now manipulate the `tibble` object with the pipe operator `%>%`. The `dplyr`/`tidyverse` package offers the `mutate()` and `transmute()` commands to add new variables to data tibbles. The syntax is:\n",
    "```{r}\n",
    "<tibble> %>% mutate(<new variable> = <formula for new variable>,\n",
    "                    <other new variable> = <other formula>)\n",
    "```\n",
    "This returns a copy of `<tibble>` with the new variables added on `transmute()` does the same thing as `mutate()` but only keeps the new variables."
   ]
  },
  {
   "cell_type": "markdown",
   "metadata": {},
   "source": [
    "Let us zoom in on a few variables of interest."
   ]
  },
  {
   "cell_type": "code",
   "execution_count": null,
   "metadata": {},
   "outputs": [],
   "source": [
    "my_flights <- select(flights, year:day, dep_time, arr_time, air_time, origin, dest)\n",
    "head(my_flights)"
   ]
  },
  {
   "cell_type": "markdown",
   "metadata": {},
   "source": [
    "Use `%>%` to create the table above. "
   ]
  },
  {
   "cell_type": "code",
   "execution_count": null,
   "metadata": {},
   "outputs": [],
   "source": []
  },
  {
   "cell_type": "markdown",
   "metadata": {},
   "source": [
    "Additional variable can be added using the `mutate()` function. We already have an `air_time` variable. Let us compute the total time for the flight by subtracting the time of departure `dep_time` from time of arrival `arr_time`."
   ]
  },
  {
   "cell_type": "code",
   "execution_count": null,
   "metadata": {},
   "outputs": [],
   "source": [
    "mutate(my_flights, total_time = arr_time - dep_time) %>%\n",
    "    head()"
   ]
  },
  {
   "cell_type": "markdown",
   "metadata": {},
   "source": [
    "Another way to do the same thing is by using `%>%` twice."
   ]
  },
  {
   "cell_type": "code",
   "execution_count": null,
   "metadata": {},
   "outputs": [],
   "source": []
  },
  {
   "cell_type": "markdown",
   "metadata": {},
   "source": [
    "We notice something odd though. When we subtract 5h 17m from 8h 30m we should get 3h 13m, i.e. 193 minutes. But instead we get 313 minutes below.\n",
    "\n",
    "The issue is that `dep_time` and `arr_time` are in the hour-minute notation, so you cannot add and subtract them like regular numbers. We should first convert these times into the number of minutes elapsed since midnight.\n",
    "\n",
    "We want add to new variables `new_dep` and `new_arr` but we need to write a function first that can do the conversion. The function is given below; we'll learn how it works later in the semester. For now just think of it as a black box that converts times from one format to another."
   ]
  },
  {
   "cell_type": "code",
   "execution_count": 8,
   "metadata": {},
   "outputs": [],
   "source": [
    "hourmin2min <- function(hourmin) {\n",
    "     # quotient after division by 100\n",
    "    # remainder after division by 100\n",
    "    \n",
    "} "
   ]
  },
  {
   "cell_type": "markdown",
   "metadata": {},
   "source": [
    "Let us test the function on 530. That's 5h 30min, i.e., 330 minutes since midnight."
   ]
  },
  {
   "cell_type": "code",
   "execution_count": null,
   "metadata": {},
   "outputs": [],
   "source": []
  },
  {
   "cell_type": "markdown",
   "metadata": {},
   "source": [
    "The `hourmin2min` function is _vectorized_: given a vector, it outputs a vector."
   ]
  },
  {
   "cell_type": "code",
   "execution_count": null,
   "metadata": {},
   "outputs": [],
   "source": []
  },
  {
   "cell_type": "markdown",
   "metadata": {},
   "source": [
    "Let us now create two new variables obtained from `arr_time` and `dep_time` by converting them into minutes since midnight. In the same command, we can also create a new `total_time` column containing their difference."
   ]
  },
  {
   "cell_type": "code",
   "execution_count": null,
   "metadata": {},
   "outputs": [],
   "source": []
  },
  {
   "cell_type": "markdown",
   "metadata": {},
   "source": [
    "Now we can subtract the departure time `new_dep` from the arrival time `new_arr` to get a new variable `total_time`."
   ]
  },
  {
   "cell_type": "code",
   "execution_count": 12,
   "metadata": {},
   "outputs": [
    {
     "data": {
      "text/html": [
       "<table>\n",
       "<caption>A tibble: 6 × 11</caption>\n",
       "<thead>\n",
       "\t<tr><th scope=col>year</th><th scope=col>month</th><th scope=col>day</th><th scope=col>dep_time</th><th scope=col>arr_time</th><th scope=col>air_time</th><th scope=col>origin</th><th scope=col>dest</th><th scope=col>new_arr</th><th scope=col>new_dep</th><th scope=col>total_time</th></tr>\n",
       "\t<tr><th scope=col>&lt;int&gt;</th><th scope=col>&lt;int&gt;</th><th scope=col>&lt;int&gt;</th><th scope=col>&lt;int&gt;</th><th scope=col>&lt;int&gt;</th><th scope=col>&lt;dbl&gt;</th><th scope=col>&lt;chr&gt;</th><th scope=col>&lt;chr&gt;</th><th scope=col>&lt;dbl&gt;</th><th scope=col>&lt;dbl&gt;</th><th scope=col>&lt;dbl&gt;</th></tr>\n",
       "</thead>\n",
       "<tbody>\n",
       "\t<tr><td>2013</td><td>1</td><td>1</td><td>517</td><td> 830</td><td>227</td><td>EWR</td><td>IAH</td><td>510</td><td>317</td><td>193</td></tr>\n",
       "\t<tr><td>2013</td><td>1</td><td>1</td><td>533</td><td> 850</td><td>227</td><td>LGA</td><td>IAH</td><td>530</td><td>333</td><td>197</td></tr>\n",
       "\t<tr><td>2013</td><td>1</td><td>1</td><td>542</td><td> 923</td><td>160</td><td>JFK</td><td>MIA</td><td>563</td><td>342</td><td>221</td></tr>\n",
       "\t<tr><td>2013</td><td>1</td><td>1</td><td>544</td><td>1004</td><td>183</td><td>JFK</td><td>BQN</td><td>604</td><td>344</td><td>260</td></tr>\n",
       "\t<tr><td>2013</td><td>1</td><td>1</td><td>554</td><td> 812</td><td>116</td><td>LGA</td><td>ATL</td><td>492</td><td>354</td><td>138</td></tr>\n",
       "\t<tr><td>2013</td><td>1</td><td>1</td><td>554</td><td> 740</td><td>150</td><td>EWR</td><td>ORD</td><td>460</td><td>354</td><td>106</td></tr>\n",
       "</tbody>\n",
       "</table>\n"
      ],
      "text/latex": [
       "A tibble: 6 × 11\n",
       "\\begin{tabular}{lllllllllll}\n",
       " year & month & day & dep\\_time & arr\\_time & air\\_time & origin & dest & new\\_arr & new\\_dep & total\\_time\\\\\n",
       " <int> & <int> & <int> & <int> & <int> & <dbl> & <chr> & <chr> & <dbl> & <dbl> & <dbl>\\\\\n",
       "\\hline\n",
       "\t 2013 & 1 & 1 & 517 &  830 & 227 & EWR & IAH & 510 & 317 & 193\\\\\n",
       "\t 2013 & 1 & 1 & 533 &  850 & 227 & LGA & IAH & 530 & 333 & 197\\\\\n",
       "\t 2013 & 1 & 1 & 542 &  923 & 160 & JFK & MIA & 563 & 342 & 221\\\\\n",
       "\t 2013 & 1 & 1 & 544 & 1004 & 183 & JFK & BQN & 604 & 344 & 260\\\\\n",
       "\t 2013 & 1 & 1 & 554 &  812 & 116 & LGA & ATL & 492 & 354 & 138\\\\\n",
       "\t 2013 & 1 & 1 & 554 &  740 & 150 & EWR & ORD & 460 & 354 & 106\\\\\n",
       "\\end{tabular}\n"
      ],
      "text/markdown": [
       "\n",
       "A tibble: 6 × 11\n",
       "\n",
       "| year &lt;int&gt; | month &lt;int&gt; | day &lt;int&gt; | dep_time &lt;int&gt; | arr_time &lt;int&gt; | air_time &lt;dbl&gt; | origin &lt;chr&gt; | dest &lt;chr&gt; | new_arr &lt;dbl&gt; | new_dep &lt;dbl&gt; | total_time &lt;dbl&gt; |\n",
       "|---|---|---|---|---|---|---|---|---|---|---|\n",
       "| 2013 | 1 | 1 | 517 |  830 | 227 | EWR | IAH | 510 | 317 | 193 |\n",
       "| 2013 | 1 | 1 | 533 |  850 | 227 | LGA | IAH | 530 | 333 | 197 |\n",
       "| 2013 | 1 | 1 | 542 |  923 | 160 | JFK | MIA | 563 | 342 | 221 |\n",
       "| 2013 | 1 | 1 | 544 | 1004 | 183 | JFK | BQN | 604 | 344 | 260 |\n",
       "| 2013 | 1 | 1 | 554 |  812 | 116 | LGA | ATL | 492 | 354 | 138 |\n",
       "| 2013 | 1 | 1 | 554 |  740 | 150 | EWR | ORD | 460 | 354 | 106 |\n",
       "\n"
      ],
      "text/plain": [
       "  year month day dep_time arr_time air_time origin dest new_arr new_dep\n",
       "1 2013 1     1   517       830     227      EWR    IAH  510     317    \n",
       "2 2013 1     1   533       850     227      LGA    IAH  530     333    \n",
       "3 2013 1     1   542       923     160      JFK    MIA  563     342    \n",
       "4 2013 1     1   544      1004     183      JFK    BQN  604     344    \n",
       "5 2013 1     1   554       812     116      LGA    ATL  492     354    \n",
       "6 2013 1     1   554       740     150      EWR    ORD  460     354    \n",
       "  total_time\n",
       "1 193       \n",
       "2 197       \n",
       "3 221       \n",
       "4 260       \n",
       "5 138       \n",
       "6 106       "
      ]
     },
     "metadata": {},
     "output_type": "display_data"
    }
   ],
   "source": [
    "my_flights_total <- mutate(my_flights_new, total_time = new_arr - new_dep)\n",
    "head(my_flights_total)"
   ]
  },
  {
   "cell_type": "markdown",
   "metadata": {},
   "source": [
    "Let us try to do the same thing using pipe just using one line of code.  In this code, we are only interested in the following variables -- `dep_time`, `arr_time`, `new_dep`, `new_arr`, and `total_time`.  "
   ]
  },
  {
   "cell_type": "code",
   "execution_count": null,
   "metadata": {
    "scrolled": true
   },
   "outputs": [],
   "source": []
  },
  {
   "cell_type": "markdown",
   "metadata": {},
   "source": [
    "We can even plot the data by adding a `ggplot` command at the end after manipulating your data.\n",
    "\n",
    "Let's try to create a table for each month with the mean delay time.  Then plot a barchart for each month.  "
   ]
  },
  {
   "cell_type": "code",
   "execution_count": null,
   "metadata": {},
   "outputs": [],
   "source": []
  },
  {
   "cell_type": "markdown",
   "metadata": {},
   "source": [
    "How about a bar chart of mean arrival delay by destination airport for the top 10 airports that have the highest traffic volume?  We will use `group_by`, `summarize`, `arrange`, `slice`, and `ggplot`."
   ]
  },
  {
   "cell_type": "code",
   "execution_count": null,
   "metadata": {},
   "outputs": [],
   "source": []
  },
  {
   "cell_type": "markdown",
   "metadata": {},
   "source": [
    "Now, let us try to get a scatter plot of airport distance vs average arrival delay after grouping by destination airport? We will also superimpose the scatter plot with a smoothed plot"
   ]
  },
  {
   "cell_type": "code",
   "execution_count": null,
   "metadata": {
    "scrolled": true
   },
   "outputs": [],
   "source": []
  }
 ],
 "metadata": {
  "kernelspec": {
   "display_name": "R",
   "language": "R",
   "name": "ir"
  },
  "language_info": {
   "codemirror_mode": "r",
   "file_extension": ".r",
   "mimetype": "text/x-r-source",
   "name": "R",
   "pygments_lexer": "r",
   "version": "4.0.3"
  },
  "latex_envs": {
   "LaTeX_envs_menu_present": true,
   "autoclose": false,
   "autocomplete": true,
   "bibliofile": "biblio.bib",
   "cite_by": "apalike",
   "current_citInitial": 1,
   "eqLabelWithNumbers": true,
   "eqNumInitial": 1,
   "hotkeys": {
    "equation": "Ctrl-E",
    "itemize": "Ctrl-I"
   },
   "labels_anchors": false,
   "latex_user_defs": false,
   "report_style_numbering": false,
   "user_envs_cfg": false
  }
 },
 "nbformat": 4,
 "nbformat_minor": 1
}
