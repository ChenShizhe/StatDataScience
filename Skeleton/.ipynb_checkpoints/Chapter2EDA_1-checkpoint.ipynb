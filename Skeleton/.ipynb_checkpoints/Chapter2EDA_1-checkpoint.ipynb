{
 "cells": [
  {
   "cell_type": "markdown",
   "metadata": {},
   "source": [
    "# Chapter 2 Exploratory Data Analysis\n",
    "\n",
    "Often times the first thing we do when receiving a new data set is to run exploratory analysis on this data to understand the mechanism that generates such data. This might include the analysis of data at hand (e.g., data from pilot studies, metadata from the Internet) in order to design experiments or surveys, as well as the initial analysis of the data set to provide basic description or to detect anomolies, etc. \n",
    "\n",
    "It is important to know that the exploratory data analysis means more than data analysis using statistical software. In order to understand the data structure and interpret our findings, it often requires us to read the past analyses, known features, and the documentation of the data set. However, these background research are subject-specific. Hence, in this chapter, we will focus on the data analysis part of exploratory data analysis. "
   ]
  },
  {
   "cell_type": "markdown",
   "metadata": {},
   "source": [
    "## 2.1 Background research\n",
    "\n",
    "Imagine that we have a data set at hand that we need to explore. We know that data can come in many forms (see e.g., Appendix C). Moreover, data from different sources might have different naming rules for even the same variables. We could as well imagine that there are relationships among variables that are well-known in the fields, which are immediately clear to us statisticians. Therefore, before carrying out any analysis on a data set, the first thing to do is to read its documentation. For instance, see [Project STAR](https://dataverse.harvard.edu/dataset.xhtml?persistentId=hdl:1902.1/10766) in Harvard dataverse, or the [WHO COVID-19 explorer](https://worldhealthorg.shinyapps.io/covid/).\n",
    "\n",
    "\n",
    "\n"
   ]
  }
 ],
 "metadata": {
  "kernelspec": {
   "display_name": "R",
   "language": "R",
   "name": "ir"
  },
  "language_info": {
   "codemirror_mode": "r",
   "file_extension": ".r",
   "mimetype": "text/x-r-source",
   "name": "R",
   "pygments_lexer": "r",
   "version": "4.0.3"
  },
  "latex_envs": {
   "LaTeX_envs_menu_present": true,
   "autoclose": false,
   "autocomplete": true,
   "bibliofile": "biblio.bib",
   "cite_by": "apalike",
   "current_citInitial": 1,
   "eqLabelWithNumbers": true,
   "eqNumInitial": 1,
   "hotkeys": {
    "equation": "Ctrl-E",
    "itemize": "Ctrl-I"
   },
   "labels_anchors": false,
   "latex_user_defs": false,
   "report_style_numbering": false,
   "user_envs_cfg": false
  }
 },
 "nbformat": 4,
 "nbformat_minor": 1
}
