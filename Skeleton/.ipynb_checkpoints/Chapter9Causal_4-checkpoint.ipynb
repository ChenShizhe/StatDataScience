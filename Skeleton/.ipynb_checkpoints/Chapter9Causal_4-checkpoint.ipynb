{
 "cells": [
  {
   "cell_type": "markdown",
   "metadata": {},
   "source": [
    "## 9.4 Observational studies "
   ]
  },
  {
   "cell_type": "markdown",
   "metadata": {},
   "source": [
    "### 9.4.1 Overview \n",
    "\n",
    "Observational studies are studies when randomization is infeasible. In the potential outcome framework, observational data means that there is no randomization of treatment assignments, i.e., $\\{Y_i(1), Y_i(0)\\}$ is not independent of $Z_i$. \n",
    "\n",
    "Most of real world data are observational. There are a wide range of challenges in analyzing data in each field. Three main statistical challenges are as follows. \n",
    "\n",
    "* Treatment assignment mechanism is often unknown.\n",
    "* There exist observed and unobserved confounders.\n",
    "* Missing data are widely present. "
   ]
  }
 ],
 "metadata": {
  "kernelspec": {
   "display_name": "R",
   "language": "R",
   "name": "ir"
  },
  "language_info": {
   "codemirror_mode": "r",
   "file_extension": ".r",
   "mimetype": "text/x-r-source",
   "name": "R",
   "pygments_lexer": "r",
   "version": "4.0.3"
  },
  "latex_envs": {
   "LaTeX_envs_menu_present": true,
   "autoclose": false,
   "autocomplete": true,
   "bibliofile": "biblio.bib",
   "cite_by": "apalike",
   "current_citInitial": 1,
   "eqLabelWithNumbers": true,
   "eqNumInitial": 1,
   "hotkeys": {
    "equation": "Ctrl-E",
    "itemize": "Ctrl-I"
   },
   "labels_anchors": false,
   "latex_user_defs": false,
   "report_style_numbering": false,
   "user_envs_cfg": false
  }
 },
 "nbformat": 4,
 "nbformat_minor": 2
}
