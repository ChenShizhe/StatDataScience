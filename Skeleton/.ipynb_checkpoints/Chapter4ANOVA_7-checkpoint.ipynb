{
 "cells": [
  {
   "cell_type": "markdown",
   "metadata": {},
   "source": [
    "# Chapter 4 Analysis of Variance\n",
    "     "
   ]
  },
  {
   "cell_type": "markdown",
   "metadata": {},
   "source": [
    "### 4.1.7 Testing linear combination \n",
    "\n",
    "For any $c_i, i=1,\\ldots, r$, the least square and maximum likelihood estimator of $L=\\sum_{i=1}^r c_i \\mu_i$ is $\\hat{L}=\\sum_{i=1}^r c_i \\bar{Y}_{i\\cdot}$, and further \n",
    "\\[\n",
    "\\mathbb{E}\\big[\\hat{L} \\big]= L, \\ {\\rm and}\\  {\\rm var}\\big(\\hat{L}\\big)=\\sum_{i=1}^r \\frac{c_i^2}{n_i}\\sigma^2.\n",
    "\\]\n",
    "Therefore, an unbiased estimator of ${\\rm var}\\big(\\hat{L}\\big)$ is \n",
    "\\[\n",
    "s^2\\big(\\hat{L}\\big)=\\sum_{i=1}^r \\frac{c_i^2}{n_i}{\\rm MSE}. \n",
    "\\]\n",
    "Under the null hypothesis $H_0: L=0$ and the normality assumption on $\\epsilon$, we have  \n",
    "\\[\n",
    "\\frac{\\hat{L}-L}{ s\\big(\\hat{L}\\big)} \\sim t(n_T-r).\n",
    "\\]\n",
    "\n",
    "To test the hypothesis $H_0: L=0$ against $H_1: L \\neq 0$. We can calculate the t-statistics $t^*=\\hat{L}/s(\\hat{L})$. We can calculate the quantile of the t-distribution as before to finish the test.\n",
    "\n",
    "\n",
    "**Example.** Consider the quantity $L=\\mu_1-(\\mu_2+\\mu_3+\\mu4)/3$ in the Spock Trial.\n"
   ]
  },
  {
   "cell_type": "code",
   "execution_count": null,
   "metadata": {},
   "outputs": [],
   "source": [
    "Spock <- read.csv(file=\"../Data/SpockTrial.csv\", header=TRUE, sep=\",\")\n",
    "Spock$Judge<-as.factor(Spock$Judge);\n",
    "anova.fit<- aov(perc.women~Judge,data=Spock)"
   ]
  }
 ],
 "metadata": {
  "author": "\\mu",
  "kernelspec": {
   "display_name": "R",
   "language": "R",
   "name": "ir"
  },
  "language_info": {
   "codemirror_mode": "r",
   "file_extension": ".r",
   "mimetype": "text/x-r-source",
   "name": "R",
   "pygments_lexer": "r",
   "version": "4.0.3"
  },
  "latex_envs": {
   "LaTeX_envs_menu_present": true,
   "autoclose": false,
   "autocomplete": true,
   "bibliofile": "biblio.bib",
   "cite_by": "apalike",
   "current_citInitial": 1,
   "eqLabelWithNumbers": true,
   "eqNumInitial": 1,
   "hotkeys": {
    "equation": "Ctrl-E",
    "itemize": "Ctrl-I"
   },
   "labels_anchors": false,
   "latex_user_defs": false,
   "report_style_numbering": false,
   "user_envs_cfg": false
  }
 },
 "nbformat": 4,
 "nbformat_minor": 2
}
