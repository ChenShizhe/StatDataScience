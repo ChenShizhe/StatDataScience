{
 "cells": [
  {
   "cell_type": "markdown",
   "metadata": {},
   "source": [
    "## 7.4 Common clustering methods\n",
    "\t\n",
    "    \n",
    "    \n",
    "\t"
   ]
  },
  {
   "cell_type": "markdown",
   "metadata": {},
   "source": [
    "\n",
    "### 7.4.1 Hierarchical Clustering \n",
    "\t\n",
    "Hierarchical clustering gives sequence of solutions organized in a <span style=\"color:red\">hierarchical tree structure</span>, called the <span style=\"color:red\">**dendrogram**</span>\n",
    "    \n",
    "**Bottom-Up** or Agglomerative: Start from $n$ individual clusters, and group them together into using a measure of similarity.\n",
    "- Start from $n$ individual clusters\n",
    "- At each step, <span style=\"color:red\">merge the closest pair of clusters</span> until all objects form a single cluster\n",
    "        \n",
    "**Top-Down** or Divisive: Start from one cluster containing all objects, and break them down using a measure of distance\n",
    "- Start from 1 cluster\n",
    "- At each step, <span style=\"color:red\">split the most heterogenous cluster</span> until every cluster has only one member\n",
    "  "
   ]
  },
  {
   "cell_type": "code",
   "execution_count": null,
   "metadata": {},
   "outputs": [],
   "source": []
  },
  {
   "cell_type": "code",
   "execution_count": null,
   "metadata": {
    "scrolled": false
   },
   "outputs": [],
   "source": []
  }
 ],
 "metadata": {
  "kernelspec": {
   "display_name": "R",
   "language": "R",
   "name": "ir"
  },
  "language_info": {
   "codemirror_mode": "r",
   "file_extension": ".r",
   "mimetype": "text/x-r-source",
   "name": "R",
   "pygments_lexer": "r",
   "version": "4.0.3"
  },
  "latex_envs": {
   "LaTeX_envs_menu_present": true,
   "autoclose": false,
   "autocomplete": true,
   "bibliofile": "biblio.bib",
   "cite_by": "apalike",
   "current_citInitial": 1,
   "eqLabelWithNumbers": true,
   "eqNumInitial": 1,
   "hotkeys": {
    "equation": "Ctrl-E",
    "itemize": "Ctrl-I"
   },
   "labels_anchors": false,
   "latex_user_defs": false,
   "report_style_numbering": false,
   "user_envs_cfg": false
  }
 },
 "nbformat": 4,
 "nbformat_minor": 2
}
