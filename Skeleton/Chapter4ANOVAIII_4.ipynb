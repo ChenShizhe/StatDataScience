{
 "cells": [
  {
   "cell_type": "markdown",
   "metadata": {},
   "source": [
    "# Chapter 4 Analysis of Variance\n",
    "     "
   ]
  },
  {
   "cell_type": "markdown",
   "metadata": {},
   "source": [
    "\n",
    "\n",
    "### 4.3.4 Two-way ANOVA with random effects \n",
    "\n",
    "\n",
    "Consider a two-way ANOVA model with balanced design and random effects, for $k=1,\\ldots, n, j=1,\\ldots, b, i=1,\\ldots, a,$\n",
    "\\[\n",
    "Y_{ijk} = \\mu_{ij} +\\epsilon_{ijk}=\\mu_{\\cdot\\cdot} + \\alpha_i+\\beta_j + (\\alpha\\beta)_{ij}+\\epsilon_{ijk}, \\\n",
    "\\]\n",
    "where (i) $\\alpha_i \\sim N(0,\\sigma_{\\alpha}^2)$, (ii) $\\beta_j \\sim N(0,\\sigma_{\\beta}^2)$, (iii) $ (\\alpha\\beta)_{ij} \\sim N(0,\\sigma^2_{\\alpha\\beta}) $, (iv)$\\{\\epsilon_{ijk}\\} \\sim N(0,\\sigma^2)$, and (v) all random variables are pairwise independent. \n",
    "\n",
    "In this model, we have the following results, similar to the case with one factor. \n",
    "1. $ \\mathbb{E}[Y_{ijk}]=\\mu_{\\cdot\\cdot}$. \n",
    "2. ${\\rm var}(Y_{ijk})=\\sigma_{\\alpha}^2+\\sigma_{\\beta}^2+\\sigma_{\\alpha\\beta}^2+\\sigma^2$. \n",
    "3. ${\\rm cov}(Y_{ijk},Y_{ijk'})=\\sigma_{\\alpha}^2+\\sigma_{\\beta}^2+\\sigma_{\\alpha\\beta}^2$ for $k\\neq k'$. \n",
    "4. ${\\rm cov}(Y_{ijk},Y_{ij'k'})=\\sigma_{\\alpha}^2$ for $j\\neq j'$.\n",
    "5. ${\\rm cov}(Y_{ijk},Y_{i'jk'})=\\sigma_{\\beta}^2$ for $i\\neq i'$.\n",
    "6. ${\\rm cov}(Y_{ijk},Y_{i'j'k'})=0$ when no indices are equal.\n",
    "\n",
    "Estimation of the variance components \n",
    "\n",
    "We have \n",
    "${\\rm SSA}=nb \\sum \\hat{\\alpha}_i^2, {\\rm SSB}=na \\sum \\hat{\\beta}_j^2, {\\rm SSAB}= n \\sum \\sum \\hat{(\\alpha\\beta)}_{ij}^2$.\n",
    "We can see that \n",
    "$\\mathbb{E}[{\\rm MSAB}]- \\mathbb{E}[{\\rm MSE}]=n\\sigma^2_{\\alpha\\beta}, \\mathbb{E}[{\\rm MSA}]-\\mathbb{E}[{\\rm MSAB}]=nb \\sigma_{\\alpha}^2, \\mathbb{E}[{\\rm MSB}]-\\mathbb{E}[{\\rm MSAB}]=n a \\sigma_{\\beta}^2$. \n",
    "Hence, we can define unbiased estimators of the variance components based on the mean squares.  Furthermore, we have $\\mathbb{E}[\\bar{Y}]=\\mu$, ${\\rm var}(\\bar{Y})=(nb\\sigma_{\\alpha}^2+na\\sigma_{\\beta}^2+n\\sigma_{\\alpha\\beta}^2+\\sigma^2)/(nab)$. \n",
    "\n",
    "The analytic solutions for the unbalanced design are beyond the scope of this work. We can still fit the model in its regression form with the restricted maximum likelihood. Theory, properties, and testing follow accordingly, see, e.g., [this note](http://www2.compute.dtu.dk/courses/02429/enotepdfs/eNote-10.pdf). "
   ]
  }
 ],
 "metadata": {
  "author": "mes ",
  "kernelspec": {
   "display_name": "R",
   "language": "R",
   "name": "ir"
  },
  "language_info": {
   "codemirror_mode": "r",
   "file_extension": ".r",
   "mimetype": "text/x-r-source",
   "name": "R",
   "pygments_lexer": "r",
   "version": "4.0.3"
  },
  "latex_envs": {
   "LaTeX_envs_menu_present": true,
   "autoclose": false,
   "autocomplete": true,
   "bibliofile": "biblio.bib",
   "cite_by": "apalike",
   "current_citInitial": 1,
   "eqLabelWithNumbers": true,
   "eqNumInitial": 1,
   "hotkeys": {
    "equation": "Ctrl-E",
    "itemize": "Ctrl-I"
   },
   "labels_anchors": false,
   "latex_user_defs": false,
   "report_style_numbering": false,
   "user_envs_cfg": false
  }
 },
 "nbformat": 4,
 "nbformat_minor": 2
}
