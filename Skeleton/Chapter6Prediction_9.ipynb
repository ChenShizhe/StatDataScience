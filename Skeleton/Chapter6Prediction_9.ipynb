{
 "cells": [
  {
   "cell_type": "markdown",
   "metadata": {},
   "source": [
    "#### 6.4.2.2 Penalization or regularization"
   ]
  },
  {
   "cell_type": "markdown",
   "metadata": {},
   "source": [
    "In addition to restricting the number of parameters, we can also restrict the range of the parameters. This can be done by placing penalties on the magnitudes of the parameters. Two popular choices are the $\\ell_1$-norm and $\\ell_2$-norm on the parameters. \n",
    "\n",
    "- $\\ell_1$-norm (lasso): $P(\\beta_1,\\ldots,\\beta_p) = |\\beta_1| + \\ldots + |\\beta_p|.$\n",
    "\n",
    "- $\\ell_1$-norm (ridge, Tikhonov): $P(\\beta_1,\\ldots,\\beta_p) = \\beta_1^2 + \\ldots + \\beta_p^2.$\n",
    "\n",
    "We then choose $\\beta_0,\\beta_1,\\ldots, \\beta_k$, to minimize\n",
    "\t\\[\n",
    "\t \\left[L\\left( y,  {\\beta_0 + \\beta_1 x_1 + ... +\\beta_k x_k}\\right)\\right] + \\lambda P\\left(\\beta_1,\\ldots,\\beta_k\\right),\n",
    "\t\\]\n",
    "where $\\lambda$ modulates the degree of penalization. In other words, increasing $\\lambda$ reults in a less complex model.  "
   ]
  },
  {
   "cell_type": "code",
   "execution_count": null,
   "metadata": {},
   "outputs": [],
   "source": [
    "library(tidyverse)\n",
    "hotel <- read_csv(\"../Data/hotel_bookings.csv\") %>% print\n",
    "# Consider a smaller set:\n",
    "hotel<- hotel %>% select(is_canceled, adr, lead_time, total_of_special_requests, stays_in_week_nights, stays_in_weekend_nights, previous_cancellations)\n",
    "hotel<- hotel %>% mutate(is_canceled = (is_canceled==1));\n",
    "hotel<-hotel %>% filter(adr<1000)\n",
    "hotel<-hotel[1:1000,]\n",
    "hotel %>% print\n"
   ]
  },
  {
   "cell_type": "code",
   "execution_count": 137,
   "metadata": {},
   "outputs": [],
   "source": []
  },
  {
   "cell_type": "code",
   "execution_count": 133,
   "metadata": {},
   "outputs": [],
   "source": []
  }
 ],
 "metadata": {
  "kernelspec": {
   "display_name": "R",
   "language": "R",
   "name": "ir"
  },
  "language_info": {
   "codemirror_mode": "r",
   "file_extension": ".r",
   "mimetype": "text/x-r-source",
   "name": "R",
   "pygments_lexer": "r",
   "version": "4.0.3"
  },
  "latex_envs": {
   "LaTeX_envs_menu_present": true,
   "autoclose": false,
   "autocomplete": true,
   "bibliofile": "biblio.bib",
   "cite_by": "apalike",
   "current_citInitial": 1,
   "eqLabelWithNumbers": true,
   "eqNumInitial": 1,
   "hotkeys": {
    "equation": "Ctrl-E",
    "itemize": "Ctrl-I"
   },
   "labels_anchors": false,
   "latex_user_defs": false,
   "report_style_numbering": false,
   "user_envs_cfg": false
  }
 },
 "nbformat": 4,
 "nbformat_minor": 2
}
