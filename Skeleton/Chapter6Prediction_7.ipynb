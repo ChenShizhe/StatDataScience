{
 "cells": [
  {
   "cell_type": "markdown",
   "metadata": {},
   "source": [
    "## 6.4 Model selection\n",
    "\n"
   ]
  },
  {
   "cell_type": "markdown",
   "metadata": {},
   "source": [
    "### 6.4.1 Overview \n",
    "\n",
    "Model selection has many meanings. \n",
    "\n",
    "- It can mean selecting features and how they are to be included in the model. This is known as feature selection, and sometimes feature generation. \n",
    "- It can mean selecting the tuning parameters in e.g., penalized regression, decision trees, deep learning. This is also known as <span style=\"color:blue\"> tuning parameter selection</span>\n",
    " - It can mean choosing between a range of models, for instance, regression tree (random forest), neural network (deep learning), or logistic regression. \n",
    " \n",
    "Recall that we have identified the criterion for deciding the \"best\" model. It is natural to wonder why not just pick the one model that minimizes that criterion. There are two important questions to address here. \n",
    "\n",
    "1. On what data to evaluate the criterion.\n",
    "2. How to evaluate the criterion in a computational feasible way.\n",
    "\n",
    "\n",
    "The first question is particular important. If the answer is to evaluate the criterion based on same data set, a phenomenon known as **overfitting** is inevitable. The game for model selection is essentially to avoid overfitting. \n",
    "\n"
   ]
  },
  {
   "cell_type": "code",
   "execution_count": null,
   "metadata": {},
   "outputs": [],
   "source": []
  }
 ],
 "metadata": {
  "kernelspec": {
   "display_name": "R",
   "language": "R",
   "name": "ir"
  },
  "language_info": {
   "codemirror_mode": "r",
   "file_extension": ".r",
   "mimetype": "text/x-r-source",
   "name": "R",
   "pygments_lexer": "r",
   "version": "4.0.3"
  },
  "latex_envs": {
   "LaTeX_envs_menu_present": true,
   "autoclose": false,
   "autocomplete": true,
   "bibliofile": "biblio.bib",
   "cite_by": "apalike",
   "current_citInitial": 1,
   "eqLabelWithNumbers": true,
   "eqNumInitial": 1,
   "hotkeys": {
    "equation": "Ctrl-E",
    "itemize": "Ctrl-I"
   },
   "labels_anchors": false,
   "latex_user_defs": false,
   "report_style_numbering": false,
   "user_envs_cfg": false
  }
 },
 "nbformat": 4,
 "nbformat_minor": 2
}
