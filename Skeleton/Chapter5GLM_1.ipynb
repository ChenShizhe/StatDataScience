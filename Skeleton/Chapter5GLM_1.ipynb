{
 "cells": [
  {
   "cell_type": "markdown",
   "metadata": {},
   "source": [
    "# Chapter 5 Generalized Linear Models\n",
    "\n",
    "\n"
   ]
  },
  {
   "cell_type": "markdown",
   "metadata": {},
   "source": [
    "## 5.1 Logistic regression\n",
    "\n",
    "To model a binary outcome, $(X_i, y_i)$, $y_i \\in \\{0,1\\}$, $X_i \\in \\mathbb{R}^p$, we use \n",
    "\\[\n",
    "{\\rm logit}(\\pi_i)=X_i^{T} \\beta,\n",
    "\\]\n",
    "where $\\pi_i = p(y_i=1|X_i)$ and ${\\rm logit}(a) = \\log(a/(1-a))$. "
   ]
  },
  {
   "cell_type": "markdown",
   "metadata": {},
   "source": [
    "\n",
    "\n",
    "**Estimation** can be done with maximum likelihood estimation \n",
    "\\[\n",
    "\\mathcal{L} = \\prod_{i=1}^n \\pi^{Y_i} (1-\\pi_i)^{1-Y_i}.\n",
    "\\]\n",
    "Taking the logarithm yields \n",
    "\\[\n",
    "\\log \\mathcal{L} = \\sum_{i=1}^n \\big[ Y_i \\log \\pi + (1-Y_i) \\log (1-\\pi_i)\\big].\n",
    "\\]\n",
    "If ${\\rm logit}(\\pi)i)=\\beta_0$, we can derive that $\\pi_i = \\exp(\\beta_0)/[\\exp(\\beta_0)+1]$. \n",
    "Hence, $\\log \\pi_i = \\beta_0 - \\log[\\exp(\\beta_0)+1]$ and $\\log (1-\\pi_i) = 0 - \\log[\\exp(\\beta_0)+1]$. \n",
    "\n",
    "Plugging these into the log-likelihood yields \n",
    "\\[\n",
    "\\log \\mathcal{L} = n_1 \\beta_0 - n\\log[\\exp(\\beta_0)+1].\n",
    "\\]\n",
    "The first order condition yields \n",
    "\\[\n",
    "\\frac{n_1}{n} = \\frac{\\exp(\\beta_0)  }{\\exp(\\beta_0)+1}.\n",
    "\\]\n",
    "\n",
    "With covariates $X$, a closed form solution is not available. However, one can find the solution using optimization. \n"
   ]
  }
 ],
 "metadata": {
  "kernelspec": {
   "display_name": "R",
   "language": "R",
   "name": "ir"
  },
  "language_info": {
   "codemirror_mode": "r",
   "file_extension": ".r",
   "mimetype": "text/x-r-source",
   "name": "R",
   "pygments_lexer": "r",
   "version": "4.0.3"
  },
  "latex_envs": {
   "LaTeX_envs_menu_present": true,
   "autoclose": false,
   "autocomplete": true,
   "bibliofile": "biblio.bib",
   "cite_by": "apalike",
   "current_citInitial": 1,
   "eqLabelWithNumbers": true,
   "eqNumInitial": 1,
   "hotkeys": {
    "equation": "Ctrl-E",
    "itemize": "Ctrl-I"
   },
   "labels_anchors": false,
   "latex_user_defs": false,
   "report_style_numbering": false,
   "user_envs_cfg": false
  }
 },
 "nbformat": 4,
 "nbformat_minor": 2
}
