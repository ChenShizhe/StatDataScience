{
 "cells": [
  {
   "cell_type": "markdown",
   "metadata": {},
   "source": [
    "## 5.2 Generalized linear model \n",
    "\n",
    "The logistic regression is a special case of the generalized linear model. \n",
    "\n",
    "Suppose that the outcome $y$ follows a distribution that belongs to the exponential family \n",
    "\\[\n",
    "p(y | \\theta, \\tau)= h(y,\\tau) \\exp\\left\\{ \\frac{b(\\theta) T(y)-A(\\theta)  }{d(\\tau)} \\right\\}.\n",
    "\\]\n",
    "We usually use the canonical form \n",
    "\\[\n",
    "p(y | \\theta, \\tau)= h(y,\\tau) \\exp\\left\\{ \\frac{\\theta T(y)-A(\\theta)  }{d \\tau} \\right\\}.\n",
    "\\]\n",
    "\n",
    "For regular use, we specify a GLM in the following manner. \n",
    "\n",
    "1. Pick an exponential form of distribution.\n",
    "2. Set the predictor $X\\beta$.\n",
    "3. Pick a link function $g$ \n",
    "\\[\n",
    "\\mathbb{E}[Y|X]=\\mu = g^{-1}(y).\n",
    "\\]\n",
    "\n",
    "Note that steps (1) and (3) are often tied. \n"
   ]
  }
 ],
 "metadata": {
  "kernelspec": {
   "display_name": "R",
   "language": "R",
   "name": "ir"
  },
  "language_info": {
   "codemirror_mode": "r",
   "file_extension": ".r",
   "mimetype": "text/x-r-source",
   "name": "R",
   "pygments_lexer": "r",
   "version": "4.0.3"
  },
  "latex_envs": {
   "LaTeX_envs_menu_present": true,
   "autoclose": false,
   "autocomplete": true,
   "bibliofile": "biblio.bib",
   "cite_by": "apalike",
   "current_citInitial": 1,
   "eqLabelWithNumbers": true,
   "eqNumInitial": 1,
   "hotkeys": {
    "equation": "Ctrl-E",
    "itemize": "Ctrl-I"
   },
   "labels_anchors": false,
   "latex_user_defs": false,
   "report_style_numbering": false,
   "user_envs_cfg": false
  }
 },
 "nbformat": 4,
 "nbformat_minor": 2
}
