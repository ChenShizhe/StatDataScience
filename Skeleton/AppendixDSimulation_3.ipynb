{
 "cells": [
  {
   "cell_type": "markdown",
   "metadata": {},
   "source": [
    "# Appendix D Simulation \n"
   ]
  },
  {
   "cell_type": "markdown",
   "metadata": {},
   "source": [
    "## D.3 Examples: Coverage of confidence intervals \n",
    "\n",
    "One of the most confusing concepts for beginners in statistics is the confidence interval. The *correct* interpretation of a $100(1-\\alpha)\\%$ confidence interval is that: \n",
    "> the procedure to construct the confidence interval will produce confidence intervals that cover the true parameter $100(1-\\alpha)\\%$ of the times upon drawing a new set of samples from the same population. \n",
    "\n",
    "This is hard to comprehend for anyone who does not know the idea of sampling distribution. However, with simulation, we can verify this statement on our own."
   ]
  },
  {
   "cell_type": "markdown",
   "metadata": {},
   "source": [
    "We will simulate data from a linear regression model \n",
    "\\[\n",
    "y = x \\beta_1+\\beta_0 + \\epsilon,\n",
    "\\]\n",
    "where $\\epsilon$ follows a uniform distribution in $[0,5]$. The covariate $x$ will be drawn from a normal distribution with mean 10 and variance 4. "
   ]
  },
  {
   "cell_type": "code",
   "execution_count": null,
   "metadata": {},
   "outputs": [],
   "source": []
  },
  {
   "cell_type": "markdown",
   "metadata": {},
   "source": [
    "We can use `lm()` and `confint()` in `R` to fit a linear regression and obtain the confidence intervals for $\\beta_1$ and $\\beta_0$. "
   ]
  },
  {
   "cell_type": "code",
   "execution_count": null,
   "metadata": {
    "scrolled": true
   },
   "outputs": [],
   "source": []
  },
  {
   "cell_type": "markdown",
   "metadata": {},
   "source": [
    "In the previous code, we (i) simulate data from a linear regression model and (ii) construct the confidence intervals for the unknown $\\beta$s. We have thus simulated one instance from the scenario in consideration. We shall wrap up the code into a function, and use `replicate()` in `R` to simulate many more instances. "
   ]
  },
  {
   "cell_type": "code",
   "execution_count": null,
   "metadata": {},
   "outputs": [],
   "source": []
  },
  {
   "cell_type": "code",
   "execution_count": null,
   "metadata": {},
   "outputs": [],
   "source": []
  },
  {
   "cell_type": "code",
   "execution_count": null,
   "metadata": {},
   "outputs": [],
   "source": []
  },
  {
   "cell_type": "markdown",
   "metadata": {},
   "source": [
    "Now to visualize the simulation results."
   ]
  },
  {
   "cell_type": "code",
   "execution_count": null,
   "metadata": {},
   "outputs": [],
   "source": []
  }
 ],
 "metadata": {
  "kernelspec": {
   "display_name": "R",
   "language": "R",
   "name": "ir"
  },
  "language_info": {
   "codemirror_mode": "r",
   "file_extension": ".r",
   "mimetype": "text/x-r-source",
   "name": "R",
   "pygments_lexer": "r",
   "version": "4.0.3"
  },
  "latex_envs": {
   "LaTeX_envs_menu_present": true,
   "autoclose": false,
   "autocomplete": true,
   "bibliofile": "biblio.bib",
   "cite_by": "apalike",
   "current_citInitial": 1,
   "eqLabelWithNumbers": true,
   "eqNumInitial": 1,
   "hotkeys": {
    "equation": "Ctrl-E",
    "itemize": "Ctrl-I"
   },
   "labels_anchors": false,
   "latex_user_defs": false,
   "report_style_numbering": false,
   "user_envs_cfg": false
  }
 },
 "nbformat": 4,
 "nbformat_minor": 1
}
