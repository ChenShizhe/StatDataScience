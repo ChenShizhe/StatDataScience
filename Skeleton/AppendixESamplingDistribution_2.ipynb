{
 "cells": [
  {
   "cell_type": "markdown",
   "metadata": {},
   "source": [
    "# Appendix E Sampling Distribution "
   ]
  },
  {
   "cell_type": "markdown",
   "metadata": {},
   "source": [
    "## E.2 Sampling from observed samples\n",
    "\n",
    "In most case, the true population or true data generating mechanisms are unknown. As a work-around, we can make full use of the observed samples to *approximate* the true population. This approximation is *exact* only when the samples exhaust the true population (e.g., a mandatory survey in a class). In most cases, it remains an approximation.\n"
   ]
  },
  {
   "cell_type": "markdown",
   "metadata": {},
   "source": [
    "### E.2.1 Bootstrap \n",
    "\n",
    "There are two factors that affect the sampling distribution for any estimator: (i) the true population and (ii) the sampling scheme. Boostrap is based on a simple idea of treating the observed samples as the true population. In bootstrap, (i) the observed samples are seen as the true population, and (ii) a sampling scheme is chosen to micmic the true mechanism. To be specific, if the samples are i.i.d. (independently and identically distributed), the bootstrap procedure will draw samples with replacement with equal probability from the observed samples, where \"with replacement\" is because of independence and \"equal probability\" if because of identical distribution. The bootstrap sampling distribution approximates the true sampling distribution when the sample size is large. \n",
    "\n",
    "There are many variants of bootstrap (see, e.g., [here](https://en.wikipedia.org/wiki/Bootstrapping_(statistics))). We will examine the nonparametric bootstrap in this section. \n",
    "\n",
    "We will revist the confidence interval in Appendix D.3. This time we write our own bootstrap function to construct the confidence interval. It is important to note the similarity between the `simulate.one.instance` function in Appendix D.3 and the `boot.fit` function below. \n",
    "\n",
    "In practice, we use the `boot` function in the package `boot` for bootstrapping. \n"
   ]
  },
  {
   "cell_type": "code",
   "execution_count": null,
   "metadata": {},
   "outputs": [],
   "source": []
  },
  {
   "cell_type": "code",
   "execution_count": null,
   "metadata": {},
   "outputs": [],
   "source": []
  },
  {
   "cell_type": "code",
   "execution_count": null,
   "metadata": {},
   "outputs": [],
   "source": []
  }
 ],
 "metadata": {
  "kernelspec": {
   "display_name": "R",
   "language": "R",
   "name": "ir"
  },
  "language_info": {
   "codemirror_mode": "r",
   "file_extension": ".r",
   "mimetype": "text/x-r-source",
   "name": "R",
   "pygments_lexer": "r",
   "version": "4.0.3"
  },
  "latex_envs": {
   "LaTeX_envs_menu_present": true,
   "autoclose": false,
   "autocomplete": true,
   "bibliofile": "biblio.bib",
   "cite_by": "apalike",
   "current_citInitial": 1,
   "eqLabelWithNumbers": true,
   "eqNumInitial": 1,
   "hotkeys": {
    "equation": "Ctrl-E",
    "itemize": "Ctrl-I"
   },
   "labels_anchors": false,
   "latex_user_defs": false,
   "report_style_numbering": false,
   "user_envs_cfg": false
  }
 },
 "nbformat": 4,
 "nbformat_minor": 2
}
