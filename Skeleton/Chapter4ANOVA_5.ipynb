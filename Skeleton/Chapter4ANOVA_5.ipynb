{
 "cells": [
  {
   "cell_type": "markdown",
   "metadata": {},
   "source": [
    "# Chapter 4 Analysis of Variance\n",
    "     "
   ]
  },
  {
   "cell_type": "markdown",
   "metadata": {},
   "source": [
    "### 4.1.5 Gauss-Markov properties\n",
    "\n",
    "We assume that $Y=X\\beta + \\epsilon$, where $\\epsilon$ is an $n \\times 1$ vector of mean zero, uncorrelated errors with a common variance $\\sigma^2$. Assume that $X \\in \\mathbb{R}^{n \\times r}$ is of rank $r$ and $n>r$. The least squares estimator of $\\beta$ is $\\hat{\\beta} = (X^T X)^{-1}X^T Y$. Consequently, $\\hat{Y}=X\\hat{\\beta}$ and $e=Y-X\\hat{\\beta}$. \n",
    "\n",
    "Properties:\n",
    "1. $\\mathbb{E}\\big[\\hat{Y} \\big]=X{\\beta}$ and ${\\rm cov}\\big(\\hat{Y}\\big)= X(X^T X)^{-1} X^T \\sigma^2  \\equiv H \\sigma^2$.\n",
    "2. $\\mathbb{E}[e]=0$ and ${\\rm cov}(e)=(I-H)\\sigma^2$.\n",
    "3. ${\\rm cov}\\big(\\hat{Y},e\\big)=0$. Furthermore,  if $\\epsilon$ is i.i.d. $N(0,\\sigma^2)$, $\\hat{Y}$ and $e$ are independent. \n",
    "4. $\\mathbb{E}[{\\rm SSE}]=(n_T-r)\\sigma^2$, where ${\\rm SSE}=e^T e$. Thus, $\\mathbb{E}[{\\rm MSE}]=\\sigma^2$.\n",
    "\n",
    "How does the ANOVA model relate to the Gauss-Markov models? \n",
    "- $Y$: turn $\\{Y_{ij}\\}$ to $Y \\in \\mathbb{R}^{n_T}$\n",
    "\n",
    "- $X$: an $n_T \\times r$ matrix of $0$'s and $1$'s\n",
    "\n",
    "- $\\beta$: $\\beta\\equiv (\\mu_,\\mu_2,\\ldots, \\mu_r)^T$\n",
    "\n",
    "Corresponding properties of ANOVA:\n",
    "1. $\\big\\{ \\hat{Y}_{ij}\\big\\}$ are independent of the residuals $\\{e_{ij}\\}$\n",
    "2. ${\\rm MSTR} \\perp {\\rm MSE}$\n",
    "3. $\\mathbb{E}[{\\rm MSE}]=\\sigma^2$\n",
    "4. $\\mathbb{E}[{\\rm MSTR}]=\\sigma^2 + \\sum n_i (\\mu_i-\\mu)^2/(r-1)$ where $\\mu=\\sum_{i=1}^r (n_i/n_T)\\mu_i$\n",
    "5. ${\\rm SSE}/\\sigma^2 \\sim \\chi^2_{n_T-r}$ and when $\\mu_1 = \\cdots = \\mu_r$ and ${\\rm SSTR}/\\sigma^2 \\sim \\chi^2_{r-1}$.\n",
    "6. When $\\mu_1 = \\cdots = \\mu_r$ then $F={\\rm MSTR}/{\\rm MSE}$ has an $F$-distribution with degrees of freedom $(r-1,n_T-r$).  \n",
    "    \n",
    "\n"
   ]
  }
 ],
 "metadata": {
  "author": "\\mu",
  "kernelspec": {
   "display_name": "R",
   "language": "R",
   "name": "ir"
  },
  "language_info": {
   "codemirror_mode": "r",
   "file_extension": ".r",
   "mimetype": "text/x-r-source",
   "name": "R",
   "pygments_lexer": "r",
   "version": "4.0.3"
  },
  "latex_envs": {
   "LaTeX_envs_menu_present": true,
   "autoclose": false,
   "autocomplete": true,
   "bibliofile": "biblio.bib",
   "cite_by": "apalike",
   "current_citInitial": 1,
   "eqLabelWithNumbers": true,
   "eqNumInitial": 1,
   "hotkeys": {
    "equation": "Ctrl-E",
    "itemize": "Ctrl-I"
   },
   "labels_anchors": false,
   "latex_user_defs": false,
   "report_style_numbering": false,
   "user_envs_cfg": false
  }
 },
 "nbformat": 4,
 "nbformat_minor": 2
}
