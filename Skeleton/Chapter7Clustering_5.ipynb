{
 "cells": [
  {
   "cell_type": "markdown",
   "metadata": {},
   "source": [
    "### 7.3.2 Common Similarity Measures\n",
    "\n",
    "The correlation coefficient is a popular choice to measure the similarity between observations.   \n",
    "\t\n",
    "- <span style=\"color:red\">Pearson correlation:</span> This is the \"usual\" correlation coefficient, and measures the **linear** association between $X_i$ and $X_j$. \n",
    "\t\t\t\n",
    "- <span style=\"color:red\">Spearman correlation.</span> This is essentially the Pearson correlation applied to **ranked** observations. The Spearman correlation corresponds to an **increasing monotonic trend** between $X_i$ and $X_j$ (more appropriate for non-Gaussian observations). \n",
    "    \n",
    "- <span style=\"color:red\">Kendall's $\\tau$.</span> This correlation coefficient uses directly rankings among pairs of observations. \n",
    "\t\t\n",
    "Among the three correlation coefficients, the Pearson correlation is the most commonly used one for convenience. However, it does not always reflect the \"similarity\" among observations. For instance, the following example ([link](https://en.wikipedia.org/wiki/Correlation_and_dependence)) contains strikingly different patterns with Pearson correlations all equal to 0.816.\n",
    "\t\n",
    "<img src=\"../Figures/Ch7/corrplots.png\" style=\"width:80%\"/>\n"
   ]
  }
 ],
 "metadata": {
  "kernelspec": {
   "display_name": "R",
   "language": "R",
   "name": "ir"
  },
  "language_info": {
   "codemirror_mode": "r",
   "file_extension": ".r",
   "mimetype": "text/x-r-source",
   "name": "R",
   "pygments_lexer": "r",
   "version": "4.0.3"
  },
  "latex_envs": {
   "LaTeX_envs_menu_present": true,
   "autoclose": false,
   "autocomplete": true,
   "bibliofile": "biblio.bib",
   "cite_by": "apalike",
   "current_citInitial": 1,
   "eqLabelWithNumbers": true,
   "eqNumInitial": 1,
   "hotkeys": {
    "equation": "Ctrl-E",
    "itemize": "Ctrl-I"
   },
   "labels_anchors": false,
   "latex_user_defs": false,
   "report_style_numbering": false,
   "user_envs_cfg": false
  }
 },
 "nbformat": 4,
 "nbformat_minor": 2
}
