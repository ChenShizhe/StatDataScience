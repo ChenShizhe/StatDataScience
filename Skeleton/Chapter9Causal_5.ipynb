{
 "cells": [
  {
   "cell_type": "markdown",
   "metadata": {},
   "source": [
    "### 9.4.2 Selection bias \n",
    "\n",
    "We have discussed in Section 9.2 that, in an observational study, the expected difference between the treatment and control group does not equal to the average causal effects (ACE). We can take a closer look at the difference (i.e., bias)\n",
    "\\[\n",
    "\\mathbb{E}[Y_i|Z_i =1] - \\mathbb{E}[Y_i | Z_i=0] - {\\rm ACE}={\\rm pr}(Z_i=0) \\big\\{\\mathbb{E}[Y_i(1)|Z_i=1]-\\mathbb{E}[Y_i(1)|Z_i=0] \\big\\}+{\\rm pr}(Z_i=1) \\big\\{\\mathbb{E}[Y_i(0)|Z_i=1]-\\mathbb{E}[Y_i(0)|Z_i=0] \\big\\}. \n",
    "\\]\n",
    "\n",
    "To remove the bias, one common assumption in the literature is known as the ignorability assumption. Roughtly, the ignorability assumption imposes that, with covariates $X_i$, units are more homegeneous in the outcome distribitions, i.e.,\n",
    "\\[\n",
    "Y_i(1) | Z_i = 1, X_i \\sim Y_i(1)|Z_i=0, X_i\n",
    "\\]\n",
    "\\[\n",
    "Y_i(0) | Z_i = 1, X_i \\sim Y_i(0)|Z_i=0, X_i\n",
    "\\]\n",
    "\n",
    "Formally, the ignorability assumption states that $Z_i \\perp Y_i(Z) | X_i$ for $Z=0,1$. This is also known as uncounfoundedness, exogeneity, selection on observables. \n",
    "\n",
    "In addition to the ignorability assumption, we need a few more assumptions to identify the ACE in an observational study. The assumptions are as follows. \n",
    "\n",
    "- $\\{Z_i, Y_i(1), Y_i(0), X_i\\}_{i=1}^n$ are i.i.d. (stronger than SUTVA)\n",
    "- Ignorability\n",
    "- Overlap: $0<{\\rm pr}(Z_i=1| X_i =x)<1$ for any $x$\n",
    "\n",
    "The overlap assumption is a technical requirement for identification. Without overlap, the sets $\\{Z_i=1, X_i\\}$ or $\\{Z_i=0, X_i\\}$ can be empty, which means that no comparison is possible. \n",
    "            \n",
    "Under these assumptions, we can start to decompose the selection bias. The second term becomes \n",
    "\\begin{align}\n",
    "& \\mathbb{E}[Y_i(0)|Z_i=1]-\\mathbb{E}[Y_i|Z=0]\\\\\n",
    "= & \\int_{S_1/S} \\mathbb{E}[Y_i(0) | Z_i =1, X_i=x] d F_{X_i|Z_i=1} (x)  - \\int_{S_0/S} \\mathbb{E}[Y_i(0) | Z_i =0, X_i=x] d F_{X_i|Z_i=0} (x) \\\\\n",
    "& + \\int_{S} \\mathbb{E}[Y_i(0)| Z_i=0, X_i=x] d \\{F_{X_i|Z_i=1}(x)-F_{X_i|Z_i=0}(x) \\}\\\\\n",
    "& + \\int_{S} \\big\\{\\mathbb{E}[Y_i(0)| Z_i=1, X_i=x] -\\mathbb{E}[Y_i(0)| Z_i=0, X_i=x] \\big\\} d \\{F_{X_i|Z_i=1}(x)-F_{X_i|Z_i=0}(x) \\},\n",
    "\\end{align}\n",
    "where the first two terms are biases due to non-overlaps, the second-to-last term is the bias due to imbalance of observables, and the last term is the bias due to unobservables. \n",
    "\n"
   ]
  }
 ],
 "metadata": {
  "kernelspec": {
   "display_name": "R",
   "language": "R",
   "name": "ir"
  },
  "language_info": {
   "codemirror_mode": "r",
   "file_extension": ".r",
   "mimetype": "text/x-r-source",
   "name": "R",
   "pygments_lexer": "r",
   "version": "4.0.3"
  },
  "latex_envs": {
   "LaTeX_envs_menu_present": true,
   "autoclose": false,
   "autocomplete": true,
   "bibliofile": "biblio.bib",
   "cite_by": "apalike",
   "current_citInitial": 1,
   "eqLabelWithNumbers": true,
   "eqNumInitial": 1,
   "hotkeys": {
    "equation": "Ctrl-E",
    "itemize": "Ctrl-I"
   },
   "labels_anchors": false,
   "latex_user_defs": false,
   "report_style_numbering": false,
   "user_envs_cfg": false
  }
 },
 "nbformat": 4,
 "nbformat_minor": 2
}
