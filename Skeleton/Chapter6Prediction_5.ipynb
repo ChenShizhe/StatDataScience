{
 "cells": [
  {
   "cell_type": "markdown",
   "metadata": {},
   "source": [
    "\n",
    "### 6.2.3 Categorical outcome\n",
    "\n",
    "If we observe categorical outcome, i.e., $y\\in\\{1,\\ldots, K\\}$. We can generalize the idea in the previous section by considering $K$ functions $f_1,\\ldots, f_k$  and set the probabilty of $y = j$ as $f_j(x)/\\sum_{k=1}^K f_k(x)$. \n",
    "\n",
    "We thus have the negative-log-likelihood\n",
    "\\[\n",
    "L( y,  f_1(x),\\ldots, f_K(x)) = -\\log\\left( f_{ y } (x)\\right) + \\operatorname{log}\\left(\\sum_{k=1}^K  f_k(x)\\right)\n",
    "\\]\n",
    "In this case, it is more traditional to model $g(x) = \\log(f(x))$ which lives in the whole real line. \n",
    "\n"
   ]
  },
  {
   "cell_type": "markdown",
   "metadata": {},
   "source": [
    "**Classification.** With categorical outcomes, a prediction problem is also known as _classification_. To be specific, we might be interested in classifying observations into different categories. Naturally, the general prediction framework and prediction methods are applicable on the classification problems.  Other notable methods for classification include \n",
    "- Support vector machine.\n",
    "- Linear discriminal analysis.\n",
    "- k-nearest neighbours. \n"
   ]
  }
 ],
 "metadata": {
  "kernelspec": {
   "display_name": "R",
   "language": "R",
   "name": "ir"
  },
  "language_info": {
   "codemirror_mode": "r",
   "file_extension": ".r",
   "mimetype": "text/x-r-source",
   "name": "R",
   "pygments_lexer": "r",
   "version": "4.0.3"
  },
  "latex_envs": {
   "LaTeX_envs_menu_present": true,
   "autoclose": false,
   "autocomplete": true,
   "bibliofile": "biblio.bib",
   "cite_by": "apalike",
   "current_citInitial": 1,
   "eqLabelWithNumbers": true,
   "eqNumInitial": 1,
   "hotkeys": {
    "equation": "Ctrl-E",
    "itemize": "Ctrl-I"
   },
   "labels_anchors": false,
   "latex_user_defs": false,
   "report_style_numbering": false,
   "user_envs_cfg": false
  }
 },
 "nbformat": 4,
 "nbformat_minor": 2
}
