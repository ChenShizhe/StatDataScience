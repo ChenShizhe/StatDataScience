{
 "cells": [
  {
   "cell_type": "markdown",
   "metadata": {},
   "source": [
    "# Chapter 4 Analysis of Variance\n",
    "     "
   ]
  },
  {
   "cell_type": "markdown",
   "metadata": {
    "variables": {
     "(Lhat=unname(round(anova.fit[[1]][1]-sum(anova.fit[[1]][2:4])/3,digits=3)))": "-0.594",
     "(s2=round(sum(anova.fit[[2]]^2)/anova.fit[[8]]*sum(c(1,-1/3,-1/3,-1/3)^2/table(Spock[,1])),digits=3))": "4.648",
     "(tquantile=round(qt(1-0.01/2,anova.fit[[8]]),digits=3))": "2.756",
     "round(qf(0.95,dim(Spock)[1]-1-anova.fit[[8]],anova.fit[[8]]),digits=3)": "2.934",
     "round(summary(anova.fit)[[1]][1,4],digits=3)": "17.61"
    }
   },
   "source": [
    "### 4.1.6 F-test\n",
    "\n",
    "Recall that the question of interest in the Sproch trial data can now be translated to whether $\\{\\mu_i\\}_{i=1}^r$ are the same. Formally, we want to test the null hypothesis \n",
    "\\[ H_0: \\mu_1 = \\mu_2 = \\cdots = \\mu_r \\]\n",
    "against the alternative \n",
    "\\[ H_1: {\\rm not \\ all\\ } \\mu_i\\ {\\rm are\\ the\\ same}.\\]\n",
    "\n",
    "The first test statistic we consider is the F-statistic $F^*\\equiv  {\\rm MSTR}/{\\rm MSE}$. Under the null, $F^*$ follows an F-distribution with d.f.s $(r-1,n_T-r)$ when assuming $\\epsilon$s are i.i.d. $N(0,\\sigma^2)$. We reject the null hypothesis at the significance level $\\alpha$, if $F^* > F(1-\\alpha; r-1, n_T-r)$. \n",
    "\n",
    "**Example.** In the Spock trial, we want to test the null hypothesis $H_0: \\mu_1=\\mu_2=\\mu_3=\\mu_4$ against the alternative $H_1:$ not all $\\mu_i$'s are equal. We can calculate the F-statistics $F^*={\\rm MSTR}/{\\rm MSE}=$ {{round(summary(anova.fit)[[1]][1,4],digits=3)}}, when $F(0.95;3,29)=$ {{round(qf(0.95,dim(Spock)[1]-1-anova.fit[[8]],anova.fit[[8]]),digits=3)}}. We can thus reject the null hypothesis at the nominal significance level $0.05$.\n",
    "\n",
    "\n",
    "**Distribution of $F^*$ under the alternative.** The numerator ${\\rm SSTR}/\\sigma^2$ has a non-central Chisquare distribution with d.f. $r-1$ and non-centrality parameter $\\sum_{i=1}^r n_i (\\mu_i-\\mu)^2/\\sigma^2$. We know that $F^*$ follows a non-central $F$-distribution with $df=(r-1,n-r)$ and the noncentrality parameter $\\sum_{i=1}^r n_1 (\\mu_i-\\mu)^2/\\sigma^2$. \n",
    "\n",
    "\n",
    "**Expectation of $F^*$.** To derive the expectation of $F^*$, we have \n",
    "\\[\n",
    "\\mathbb{E}[F^*]=\\mathbb{E}\\left[\\frac{\\rm MSTR}{\\rm MSE} \\right]=\\mathbb{E}\\big[{\\rm MSTR}\\big]\\mathbb{E}\\left[\\frac{1}{\\rm MSE} \\right], \n",
    "\\]\n",
    "where the second equality holds due to independence between MSTR and MSE. We know that the numerator $\\mathbb{E}[{\\rm MSTR}]=(n_T-r)^{-1}\\sum_{i=1}^r n_i (\\mu_i-\\mu)^2/\\sigma^2$. It remains to derive the expectation of the denominator. \n",
    "\n",
    "We have \n",
    "\\[\n",
    "\\left[ \\frac{1}{\\rm MSE} \\right]=\\frac{1}{\\sigma^2} (n_T-r) \\mathbb{E}\\left[\\frac{1}{\\chi^2_{n_T-r}} \\right]=\\frac{1}{\\sigma^2} \\frac{n_T-r}{n_T-r-2},\n",
    "\\]\n",
    "because $(n_T-r) {\\rm MSE}/\\sigma^2 \\sim \\chi^2_{n_T-r}$ and $\\mathbb{E}[1/\\chi^2_{v}]=1/(v-2)$ for $v>2$. \n",
    "\n",
    "Therefore,\n",
    "\\begin{align}\n",
    "\\mathbb{E}[F]= &  \\frac{n_T-r}{n_T-r-2}\\left[ 1+\\sum_{i=1}^r \\frac{n_i}{r-1} \\left(\\frac{\\mu_i-\\mu}{\\sigma}\\right)^2 \\right]\\\\\n",
    "\\approx &  1+\\sum_{i=1}^r \\frac{n_i}{r-1} \\left(\\frac{\\mu_i-\\mu}{\\sigma}\\right)^2.\n",
    "\\end{align}\n",
    "\n",
    "\n",
    "**Interpretation of $F^*$.**\n",
    "1. ${\\rm MSE}$ is an estimator of $\\sigma^2$, but the maximum likelihood estimator for $\\sigma^2$ is ${\\rm SSE}/n_T$.\n",
    "3. The ratio $F^*$ fluctuates about \n",
    "\\[\n",
    "\\frac{\\mathbb{E}[{\\rm MSTR}]}{\\mathbb{E}[{\\rm MSE}]}=1+\\sum_{i=1}^r \\frac{n_i}{r-1} \\left(\\frac{\\mu_i-\\mu}{\\sigma} \\right)^2,\n",
    "\\]\n",
    "where the second term is a unit-free measure of the variablity among $\\mu_1,\\mu_2,\\ldots, \\mu_r$. Under the null, the second term equals zero and thus $F$ fluctuates around one. "
   ]
  }
 ],
 "metadata": {
  "author": "\\mu",
  "kernelspec": {
   "display_name": "R",
   "language": "R",
   "name": "ir"
  },
  "language_info": {
   "codemirror_mode": "r",
   "file_extension": ".r",
   "mimetype": "text/x-r-source",
   "name": "R",
   "pygments_lexer": "r",
   "version": "4.0.3"
  },
  "latex_envs": {
   "LaTeX_envs_menu_present": true,
   "autoclose": false,
   "autocomplete": true,
   "bibliofile": "biblio.bib",
   "cite_by": "apalike",
   "current_citInitial": 1,
   "eqLabelWithNumbers": true,
   "eqNumInitial": 1,
   "hotkeys": {
    "equation": "Ctrl-E",
    "itemize": "Ctrl-I"
   },
   "labels_anchors": false,
   "latex_user_defs": false,
   "report_style_numbering": false,
   "user_envs_cfg": false
  }
 },
 "nbformat": 4,
 "nbformat_minor": 2
}
