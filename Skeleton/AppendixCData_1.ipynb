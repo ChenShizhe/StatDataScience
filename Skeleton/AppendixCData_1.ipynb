{
 "cells": [
  {
   "cell_type": "markdown",
   "metadata": {},
   "source": [
    "# Appendix C Data \n",
    "\n",
    "Data visualization is an important skill to have for a data scientist. There are several tools available for data visualization. There are paid services/products offered by companies like [Tableau](https://www.tableau.com/) that let people generate high quality visualizations from data stored in speadsheets and databases. [D3.js](https://d3js.org/) is a Javascript library that uses a browser to display high quality, interactive graphics. Spreadsheet programs, such as Microsoft Excel, also offer visualization tools.\n",
    "\n",
    "Since this is a course based on the `R` language, we will explore the visualization tools provided by the `R` language and packages. Even if we restrict ourselves to `R`, we have a few choices. The [R base graphics package](https://stat.ethz.ch/R-manual/R-devel/library/graphics/html/00Index.html) provides basic plotting tools that may be sufficient for many purposes. We will also look at the [ggplot2 package](http://ggplot2.org/) that offers a higher level of abstraction to create graphics. For an interesting comparison between base R graphics and ggplots, see this [blog post](https://flowingdata.com/2016/03/22/comparing-ggplot2-and-r-base-graphics/).\n",
    "\n",
    "\n"
   ]
  },
  {
   "cell_type": "code",
   "execution_count": 2,
   "metadata": {},
   "outputs": [],
   "source": [
    "# load tidyverse"
   ]
  },
  {
   "cell_type": "markdown",
   "metadata": {},
   "source": [
    "## C.1 Data importation\n",
    "\n",
    "The first step in data analysis is to load the data set into your workspace. We will examine comma-separated value (CSV) data in this section, as it is one of the most common formats for sharing data. The CSV data has the advantage of being human-readable. The disadvantage is that there is no actual standard for reading or writing these files."
   ]
  },
  {
   "cell_type": "markdown",
   "metadata": {},
   "source": [
    "Here's an example of CSV data on heights:\n",
    "    \n",
    "    \"earn\",\"height\",\"sex\",\"ed\",\"age\",\"race\"\n",
    "    50000,74.4244387818035,\"male\",16,45,\"white\"\n",
    "    60000,65.5375428255647,\"female\",16,58,\"white\"\n",
    "    30000,63.6291977374349,\"female\",16,29,\"white\"\n",
    "    50000,63.1085616752971,\"female\",16,91,\"other\"\n",
    "    51000,63.4024835710879,\"female\",17,39,\"white\"\n",
    "    9000,64.3995075440034,\"female\",15,26,\"white\"\n",
    "    \n",
    "The first row (usually) has a *header* giving the column names. Subsequent rows give the actual data. Strings are (usually) quoted."
   ]
  },
  {
   "cell_type": "markdown",
   "metadata": {},
   "source": [
    "We might also see these data come in the format:\n",
    "    \n",
    "    earn,height,sex,ed,age,race\n",
    "    50000,74.4244387818035,male,16,45,white\n",
    "    60000,65.5375428255647,female,16,58,white\n",
    "    30000,63.6291977374349,female,16,29,white\n",
    "    50000,63.1085616752971,female,16,91,other\n",
    "    51000,63.4024835710879,female,17,39,white\n",
    "    9000,64.3995075440034,female,15,26,white\n",
    "    \n",
    "There are no quotes!"
   ]
  },
  {
   "cell_type": "markdown",
   "metadata": {},
   "source": [
    "Or even:\n",
    "\n",
    "    50000,74.4244387818035,male,16,45,white\n",
    "    60000,65.5375428255647,female,16,58,white\n",
    "    30000,63.6291977374349,female,16,29,white\n",
    "    50000,63.1085616752971,female,16,91,other\n",
    "    51000,63.4024835710879,female,17,39,white\n",
    "    9000,64.3995075440034,female,15,26,white\n",
    "    \n",
    "No column names!"
   ]
  },
  {
   "cell_type": "markdown",
   "metadata": {},
   "source": [
    "The `read_csv` command is designed to read this type of file. Note that this command is part of `tidyverse` and is **not** the `read.csv` in `R`. We generally want to use `read_csv` over `read.csv` since (i) it is much faster and (ii) it outputs nicely formatted `tibble`s which you can pass into other `tidyverse` functions."
   ]
  },
  {
   "cell_type": "code",
   "execution_count": 3,
   "metadata": {},
   "outputs": [
    {
     "name": "stderr",
     "output_type": "stream",
     "text": [
      "\n",
      "\u001b[36m--\u001b[39m \u001b[1m\u001b[1mColumn specification\u001b[1m\u001b[22m \u001b[36m------------------------------------------------------------------------------------------------\u001b[39m\n",
      "cols(\n",
      "  earn = \u001b[32mcol_double()\u001b[39m,\n",
      "  height = \u001b[32mcol_double()\u001b[39m,\n",
      "  sex = \u001b[31mcol_character()\u001b[39m,\n",
      "  ed = \u001b[32mcol_double()\u001b[39m,\n",
      "  age = \u001b[32mcol_double()\u001b[39m,\n",
      "  race = \u001b[31mcol_character()\u001b[39m\n",
      ")\n",
      "\n",
      "\n"
     ]
    },
    {
     "name": "stdout",
     "output_type": "stream",
     "text": [
      "\u001b[90m# A tibble: 1,192 x 6\u001b[39m\n",
      "    earn height sex       ed   age race    \n",
      "   \u001b[3m\u001b[90m<dbl>\u001b[39m\u001b[23m  \u001b[3m\u001b[90m<dbl>\u001b[39m\u001b[23m \u001b[3m\u001b[90m<chr>\u001b[39m\u001b[23m  \u001b[3m\u001b[90m<dbl>\u001b[39m\u001b[23m \u001b[3m\u001b[90m<dbl>\u001b[39m\u001b[23m \u001b[3m\u001b[90m<chr>\u001b[39m\u001b[23m   \n",
      "\u001b[90m 1\u001b[39m \u001b[4m5\u001b[24m\u001b[4m0\u001b[24m000   74.4 male      16    45 white   \n",
      "\u001b[90m 2\u001b[39m \u001b[4m6\u001b[24m\u001b[4m0\u001b[24m000   65.5 female    16    58 white   \n",
      "\u001b[90m 3\u001b[39m \u001b[4m3\u001b[24m\u001b[4m0\u001b[24m000   63.6 female    16    29 white   \n",
      "\u001b[90m 4\u001b[39m \u001b[4m5\u001b[24m\u001b[4m0\u001b[24m000   63.1 female    16    91 other   \n",
      "\u001b[90m 5\u001b[39m \u001b[4m5\u001b[24m\u001b[4m1\u001b[24m000   63.4 female    17    39 white   \n",
      "\u001b[90m 6\u001b[39m  \u001b[4m9\u001b[24m000   64.4 female    15    26 white   \n",
      "\u001b[90m 7\u001b[39m \u001b[4m2\u001b[24m\u001b[4m9\u001b[24m000   61.7 female    12    49 white   \n",
      "\u001b[90m 8\u001b[39m \u001b[4m3\u001b[24m\u001b[4m2\u001b[24m000   72.7 male      17    46 white   \n",
      "\u001b[90m 9\u001b[39m  \u001b[4m2\u001b[24m000   72.0 male      15    21 hispanic\n",
      "\u001b[90m10\u001b[39m \u001b[4m2\u001b[24m\u001b[4m7\u001b[24m000   72.2 male      12    26 white   \n",
      "\u001b[90m# ... with 1,182 more rows\u001b[39m\n"
     ]
    }
   ],
   "source": [
    "heights <- read_csv(\"../Data/heights.csv\") %>% print"
   ]
  },
  {
   "cell_type": "markdown",
   "metadata": {},
   "source": [
    "Here `read_csv` has told us what columns it found, and also what the data types it found for them are. Generally these will be correct but we will see examples later where it guesses wrongly and we have to manually override them."
   ]
  },
  {
   "cell_type": "markdown",
   "metadata": {},
   "source": [
    "Here is another version of `heights`, where we are not fortunate enough to have a header telling us which columns came from where. "
   ]
  },
  {
   "cell_type": "code",
   "execution_count": 5,
   "metadata": {},
   "outputs": [
    {
     "name": "stderr",
     "output_type": "stream",
     "text": [
      "\n",
      "\u001b[36m--\u001b[39m \u001b[1m\u001b[1mColumn specification\u001b[1m\u001b[22m \u001b[36m------------------------------------------------------------------------------------------------\u001b[39m\n",
      "cols(\n",
      "  `50000` = \u001b[32mcol_double()\u001b[39m,\n",
      "  `74.4244387818035` = \u001b[32mcol_double()\u001b[39m,\n",
      "  male = \u001b[31mcol_character()\u001b[39m,\n",
      "  `16` = \u001b[32mcol_double()\u001b[39m,\n",
      "  `45` = \u001b[32mcol_double()\u001b[39m,\n",
      "  white = \u001b[31mcol_character()\u001b[39m\n",
      ")\n",
      "\n",
      "\n"
     ]
    },
    {
     "name": "stdout",
     "output_type": "stream",
     "text": [
      "\u001b[90m# A tibble: 1,191 x 6\u001b[39m\n",
      "   `50000` `74.4244387818035` male    `16`  `45` white   \n",
      "     \u001b[3m\u001b[90m<dbl>\u001b[39m\u001b[23m              \u001b[3m\u001b[90m<dbl>\u001b[39m\u001b[23m \u001b[3m\u001b[90m<chr>\u001b[39m\u001b[23m  \u001b[3m\u001b[90m<dbl>\u001b[39m\u001b[23m \u001b[3m\u001b[90m<dbl>\u001b[39m\u001b[23m \u001b[3m\u001b[90m<chr>\u001b[39m\u001b[23m   \n",
      "\u001b[90m 1\u001b[39m   \u001b[4m6\u001b[24m\u001b[4m0\u001b[24m000               65.5 female    16    58 white   \n",
      "\u001b[90m 2\u001b[39m   \u001b[4m3\u001b[24m\u001b[4m0\u001b[24m000               63.6 female    16    29 white   \n",
      "\u001b[90m 3\u001b[39m   \u001b[4m5\u001b[24m\u001b[4m0\u001b[24m000               63.1 female    16    91 other   \n",
      "\u001b[90m 4\u001b[39m   \u001b[4m5\u001b[24m\u001b[4m1\u001b[24m000               63.4 female    17    39 white   \n",
      "\u001b[90m 5\u001b[39m    \u001b[4m9\u001b[24m000               64.4 female    15    26 white   \n",
      "\u001b[90m 6\u001b[39m   \u001b[4m2\u001b[24m\u001b[4m9\u001b[24m000               61.7 female    12    49 white   \n",
      "\u001b[90m 7\u001b[39m   \u001b[4m3\u001b[24m\u001b[4m2\u001b[24m000               72.7 male      17    46 white   \n",
      "\u001b[90m 8\u001b[39m    \u001b[4m2\u001b[24m000               72.0 male      15    21 hispanic\n",
      "\u001b[90m 9\u001b[39m   \u001b[4m2\u001b[24m\u001b[4m7\u001b[24m000               72.2 male      12    26 white   \n",
      "\u001b[90m10\u001b[39m    \u001b[4m6\u001b[24m530               69.5 male      16    65 white   \n",
      "\u001b[90m# ... with 1,181 more rows\u001b[39m\n"
     ]
    }
   ],
   "source": [
    "read_csv(\"../Data/heights_no_hdr.csv\") %>% print"
   ]
  },
  {
   "cell_type": "markdown",
   "metadata": {},
   "source": [
    "Now `read_csv()` has erroneously assumed that the first row of data are the header names. To override this behavior, we need to specify the column names by hand. "
   ]
  },
  {
   "cell_type": "code",
   "execution_count": 8,
   "metadata": {},
   "outputs": [
    {
     "name": "stderr",
     "output_type": "stream",
     "text": [
      "\n",
      "\u001b[36m--\u001b[39m \u001b[1m\u001b[1mColumn specification\u001b[1m\u001b[22m \u001b[36m------------------------------------------------------------------------------------------------\u001b[39m\n",
      "cols(\n",
      "  X1 = \u001b[32mcol_double()\u001b[39m,\n",
      "  X2 = \u001b[32mcol_double()\u001b[39m,\n",
      "  X3 = \u001b[31mcol_character()\u001b[39m,\n",
      "  X4 = \u001b[32mcol_double()\u001b[39m,\n",
      "  X5 = \u001b[32mcol_double()\u001b[39m,\n",
      "  X6 = \u001b[31mcol_character()\u001b[39m\n",
      ")\n",
      "\n",
      "\n"
     ]
    },
    {
     "name": "stdout",
     "output_type": "stream",
     "text": [
      "\u001b[90m# A tibble: 1,192 x 6\u001b[39m\n",
      "      X1    X2 X3        X4    X5 X6      \n",
      "   \u001b[3m\u001b[90m<dbl>\u001b[39m\u001b[23m \u001b[3m\u001b[90m<dbl>\u001b[39m\u001b[23m \u001b[3m\u001b[90m<chr>\u001b[39m\u001b[23m  \u001b[3m\u001b[90m<dbl>\u001b[39m\u001b[23m \u001b[3m\u001b[90m<dbl>\u001b[39m\u001b[23m \u001b[3m\u001b[90m<chr>\u001b[39m\u001b[23m   \n",
      "\u001b[90m 1\u001b[39m \u001b[4m5\u001b[24m\u001b[4m0\u001b[24m000  74.4 male      16    45 white   \n",
      "\u001b[90m 2\u001b[39m \u001b[4m6\u001b[24m\u001b[4m0\u001b[24m000  65.5 female    16    58 white   \n",
      "\u001b[90m 3\u001b[39m \u001b[4m3\u001b[24m\u001b[4m0\u001b[24m000  63.6 female    16    29 white   \n",
      "\u001b[90m 4\u001b[39m \u001b[4m5\u001b[24m\u001b[4m0\u001b[24m000  63.1 female    16    91 other   \n",
      "\u001b[90m 5\u001b[39m \u001b[4m5\u001b[24m\u001b[4m1\u001b[24m000  63.4 female    17    39 white   \n",
      "\u001b[90m 6\u001b[39m  \u001b[4m9\u001b[24m000  64.4 female    15    26 white   \n",
      "\u001b[90m 7\u001b[39m \u001b[4m2\u001b[24m\u001b[4m9\u001b[24m000  61.7 female    12    49 white   \n",
      "\u001b[90m 8\u001b[39m \u001b[4m3\u001b[24m\u001b[4m2\u001b[24m000  72.7 male      17    46 white   \n",
      "\u001b[90m 9\u001b[39m  \u001b[4m2\u001b[24m000  72.0 male      15    21 hispanic\n",
      "\u001b[90m10\u001b[39m \u001b[4m2\u001b[24m\u001b[4m7\u001b[24m000  72.2 male      12    26 white   \n",
      "\u001b[90m# ... with 1,182 more rows\u001b[39m\n"
     ]
    }
   ],
   "source": [
    "read_csv(\"../Data/heights_no_hdr.csv\", col_names = F) %>% print"
   ]
  },
  {
   "cell_type": "code",
   "execution_count": 9,
   "metadata": {},
   "outputs": [
    {
     "name": "stderr",
     "output_type": "stream",
     "text": [
      "\n",
      "\u001b[36m--\u001b[39m \u001b[1m\u001b[1mColumn specification\u001b[1m\u001b[22m \u001b[36m------------------------------------------------------------------------------------------------\u001b[39m\n",
      "cols(\n",
      "  earn = \u001b[32mcol_double()\u001b[39m,\n",
      "  height = \u001b[32mcol_double()\u001b[39m,\n",
      "  sex = \u001b[31mcol_character()\u001b[39m,\n",
      "  ed = \u001b[32mcol_double()\u001b[39m,\n",
      "  age = \u001b[32mcol_double()\u001b[39m,\n",
      "  race = \u001b[31mcol_character()\u001b[39m\n",
      ")\n",
      "\n",
      "\n"
     ]
    },
    {
     "name": "stdout",
     "output_type": "stream",
     "text": [
      "\u001b[90m# A tibble: 1,192 x 6\u001b[39m\n",
      "    earn height sex       ed   age race    \n",
      "   \u001b[3m\u001b[90m<dbl>\u001b[39m\u001b[23m  \u001b[3m\u001b[90m<dbl>\u001b[39m\u001b[23m \u001b[3m\u001b[90m<chr>\u001b[39m\u001b[23m  \u001b[3m\u001b[90m<dbl>\u001b[39m\u001b[23m \u001b[3m\u001b[90m<dbl>\u001b[39m\u001b[23m \u001b[3m\u001b[90m<chr>\u001b[39m\u001b[23m   \n",
      "\u001b[90m 1\u001b[39m \u001b[4m5\u001b[24m\u001b[4m0\u001b[24m000   74.4 male      16    45 white   \n",
      "\u001b[90m 2\u001b[39m \u001b[4m6\u001b[24m\u001b[4m0\u001b[24m000   65.5 female    16    58 white   \n",
      "\u001b[90m 3\u001b[39m \u001b[4m3\u001b[24m\u001b[4m0\u001b[24m000   63.6 female    16    29 white   \n",
      "\u001b[90m 4\u001b[39m \u001b[4m5\u001b[24m\u001b[4m0\u001b[24m000   63.1 female    16    91 other   \n",
      "\u001b[90m 5\u001b[39m \u001b[4m5\u001b[24m\u001b[4m1\u001b[24m000   63.4 female    17    39 white   \n",
      "\u001b[90m 6\u001b[39m  \u001b[4m9\u001b[24m000   64.4 female    15    26 white   \n",
      "\u001b[90m 7\u001b[39m \u001b[4m2\u001b[24m\u001b[4m9\u001b[24m000   61.7 female    12    49 white   \n",
      "\u001b[90m 8\u001b[39m \u001b[4m3\u001b[24m\u001b[4m2\u001b[24m000   72.7 male      17    46 white   \n",
      "\u001b[90m 9\u001b[39m  \u001b[4m2\u001b[24m000   72.0 male      15    21 hispanic\n",
      "\u001b[90m10\u001b[39m \u001b[4m2\u001b[24m\u001b[4m7\u001b[24m000   72.2 male      12    26 white   \n",
      "\u001b[90m# ... with 1,182 more rows\u001b[39m\n"
     ]
    }
   ],
   "source": [
    "read_csv(\"../Data/heights_no_hdr.csv\", \n",
    "         col_names = c(\"earn\", \"height\", \"sex\", \"ed\", \"age\", \"race\")) %>% print"
   ]
  },
  {
   "cell_type": "markdown",
   "metadata": {},
   "source": [
    "To create short examples illustrating `read_csv`'s behavior, we can specify the contents of a csv file inline."
   ]
  },
  {
   "cell_type": "code",
   "execution_count": 9,
   "metadata": {},
   "outputs": [
    {
     "data": {
      "text/html": [
       "<table>\n",
       "<caption>A spec_tbl_df: 2 × 3</caption>\n",
       "<thead>\n",
       "\t<tr><th scope=col>a</th><th scope=col>b</th><th scope=col>c</th></tr>\n",
       "\t<tr><th scope=col>&lt;dbl&gt;</th><th scope=col>&lt;dbl&gt;</th><th scope=col>&lt;dbl&gt;</th></tr>\n",
       "</thead>\n",
       "<tbody>\n",
       "\t<tr><td>1</td><td>2</td><td>3</td></tr>\n",
       "\t<tr><td>4</td><td>5</td><td>6</td></tr>\n",
       "</tbody>\n",
       "</table>\n"
      ],
      "text/latex": [
       "A spec\\_tbl\\_df: 2 × 3\n",
       "\\begin{tabular}{lll}\n",
       " a & b & c\\\\\n",
       " <dbl> & <dbl> & <dbl>\\\\\n",
       "\\hline\n",
       "\t 1 & 2 & 3\\\\\n",
       "\t 4 & 5 & 6\\\\\n",
       "\\end{tabular}\n"
      ],
      "text/markdown": [
       "\n",
       "A spec_tbl_df: 2 × 3\n",
       "\n",
       "| a &lt;dbl&gt; | b &lt;dbl&gt; | c &lt;dbl&gt; |\n",
       "|---|---|---|\n",
       "| 1 | 2 | 3 |\n",
       "| 4 | 5 | 6 |\n",
       "\n"
      ],
      "text/plain": [
       "  a b c\n",
       "1 1 2 3\n",
       "2 4 5 6"
      ]
     },
     "metadata": {},
     "output_type": "display_data"
    }
   ],
   "source": [
    "read_csv(\n",
    "    \"a, b, c\n",
    "     1, 2, 3\n",
    "     4, 5, 6\n",
    "\")"
   ]
  },
  {
   "cell_type": "markdown",
   "metadata": {},
   "source": [
    "We might want to skip a few rows in the beginning that have metadata."
   ]
  },
  {
   "cell_type": "code",
   "execution_count": 6,
   "metadata": {},
   "outputs": [
    {
     "data": {
      "text/html": [
       "<table>\n",
       "<caption>A spec_tbl_df: 2 × 3</caption>\n",
       "<thead>\n",
       "\t<tr><th scope=col>a</th><th scope=col>b</th><th scope=col>c</th></tr>\n",
       "\t<tr><th scope=col>&lt;dbl&gt;</th><th scope=col>&lt;dbl&gt;</th><th scope=col>&lt;dbl&gt;</th></tr>\n",
       "</thead>\n",
       "<tbody>\n",
       "\t<tr><td>1</td><td>2</td><td>3</td></tr>\n",
       "\t<tr><td>4</td><td>5</td><td>6</td></tr>\n",
       "</tbody>\n",
       "</table>\n"
      ],
      "text/latex": [
       "A spec\\_tbl\\_df: 2 × 3\n",
       "\\begin{tabular}{lll}\n",
       " a & b & c\\\\\n",
       " <dbl> & <dbl> & <dbl>\\\\\n",
       "\\hline\n",
       "\t 1 & 2 & 3\\\\\n",
       "\t 4 & 5 & 6\\\\\n",
       "\\end{tabular}\n"
      ],
      "text/markdown": [
       "\n",
       "A spec_tbl_df: 2 × 3\n",
       "\n",
       "| a &lt;dbl&gt; | b &lt;dbl&gt; | c &lt;dbl&gt; |\n",
       "|---|---|---|\n",
       "| 1 | 2 | 3 |\n",
       "| 4 | 5 | 6 |\n",
       "\n"
      ],
      "text/plain": [
       "  a b c\n",
       "1 1 2 3\n",
       "2 4 5 6"
      ]
     },
     "metadata": {},
     "output_type": "display_data"
    }
   ],
   "source": [
    "read_csv(\n",
    "\"# First row to skip\n",
    "// Second row to skip\n",
    "% Third row to skip\n",
    "a, b, c\n",
    "1, 2, 3\n",
    "4, 5, 6\n",
    "\", skip = 3)"
   ]
  },
  {
   "cell_type": "markdown",
   "metadata": {},
   "source": [
    "Some CSVs will come with comments, typically in the form of lines prefaced by `#`. We can also skip comments line by specifying a comment character."
   ]
  },
  {
   "cell_type": "code",
   "execution_count": 13,
   "metadata": {},
   "outputs": [
    {
     "data": {
      "text/html": [
       "<table>\n",
       "<caption>A spec_tbl_df: 2 × 3</caption>\n",
       "<thead>\n",
       "\t<tr><th scope=col>a</th><th scope=col>b</th><th scope=col>c</th></tr>\n",
       "\t<tr><th scope=col>&lt;dbl&gt;</th><th scope=col>&lt;dbl&gt;</th><th scope=col>&lt;dbl&gt;</th></tr>\n",
       "</thead>\n",
       "<tbody>\n",
       "\t<tr><td>1</td><td>2</td><td>3</td></tr>\n",
       "\t<tr><td>4</td><td>5</td><td>6</td></tr>\n",
       "</tbody>\n",
       "</table>\n"
      ],
      "text/latex": [
       "A spec\\_tbl\\_df: 2 × 3\n",
       "\\begin{tabular}{lll}\n",
       " a & b & c\\\\\n",
       " <dbl> & <dbl> & <dbl>\\\\\n",
       "\\hline\n",
       "\t 1 & 2 & 3\\\\\n",
       "\t 4 & 5 & 6\\\\\n",
       "\\end{tabular}\n"
      ],
      "text/markdown": [
       "\n",
       "A spec_tbl_df: 2 × 3\n",
       "\n",
       "| a &lt;dbl&gt; | b &lt;dbl&gt; | c &lt;dbl&gt; |\n",
       "|---|---|---|\n",
       "| 1 | 2 | 3 |\n",
       "| 4 | 5 | 6 |\n",
       "\n"
      ],
      "text/plain": [
       "  a b c\n",
       "1 1 2 3\n",
       "2 4 5 6"
      ]
     },
     "metadata": {},
     "output_type": "display_data"
    }
   ],
   "source": [
    "read_csv(\"\n",
    "# First comment line\n",
    "a, b, c\n",
    "# This separate the header from the data\n",
    "1, 2, 3\n",
    "4, 5, 6\n",
    "# Another comment line\n",
    "\", comment = '#')"
   ]
  },
  {
   "cell_type": "markdown",
   "metadata": {},
   "source": [
    "Set `col_names = FALSE` when you don't have column names in the file. The column names are then set to X1, X2, ..."
   ]
  },
  {
   "cell_type": "code",
   "execution_count": 14,
   "metadata": {},
   "outputs": [
    {
     "name": "stdout",
     "output_type": "stream",
     "text": [
      "\u001b[38;5;246m# A tibble: 1 x 3\u001b[39m\n",
      "    `1`   `2`   `3`\n",
      "  \u001b[3m\u001b[38;5;246m<dbl>\u001b[39m\u001b[23m \u001b[3m\u001b[38;5;246m<dbl>\u001b[39m\u001b[23m \u001b[3m\u001b[38;5;246m<dbl>\u001b[39m\u001b[23m\n",
      "\u001b[38;5;250m1\u001b[39m     4     5     6\n"
     ]
    }
   ],
   "source": [
    "read_csv(\"\n",
    "1, 2, 3\n",
    "4, 5, 6\n",
    "\") %>% print"
   ]
  },
  {
   "cell_type": "markdown",
   "metadata": {},
   "source": [
    "We can specify our own column names."
   ]
  },
  {
   "cell_type": "code",
   "execution_count": 15,
   "metadata": {},
   "outputs": [
    {
     "data": {
      "text/html": [
       "<table>\n",
       "<caption>A spec_tbl_df: 2 × 3</caption>\n",
       "<thead>\n",
       "\t<tr><th scope=col>a</th><th scope=col>b</th><th scope=col>c</th></tr>\n",
       "\t<tr><th scope=col>&lt;dbl&gt;</th><th scope=col>&lt;dbl&gt;</th><th scope=col>&lt;dbl&gt;</th></tr>\n",
       "</thead>\n",
       "<tbody>\n",
       "\t<tr><td>1</td><td>2</td><td>3</td></tr>\n",
       "\t<tr><td>4</td><td>5</td><td>6</td></tr>\n",
       "</tbody>\n",
       "</table>\n"
      ],
      "text/latex": [
       "A spec\\_tbl\\_df: 2 × 3\n",
       "\\begin{tabular}{lll}\n",
       " a & b & c\\\\\n",
       " <dbl> & <dbl> & <dbl>\\\\\n",
       "\\hline\n",
       "\t 1 & 2 & 3\\\\\n",
       "\t 4 & 5 & 6\\\\\n",
       "\\end{tabular}\n"
      ],
      "text/markdown": [
       "\n",
       "A spec_tbl_df: 2 × 3\n",
       "\n",
       "| a &lt;dbl&gt; | b &lt;dbl&gt; | c &lt;dbl&gt; |\n",
       "|---|---|---|\n",
       "| 1 | 2 | 3 |\n",
       "| 4 | 5 | 6 |\n",
       "\n"
      ],
      "text/plain": [
       "  a b c\n",
       "1 1 2 3\n",
       "2 4 5 6"
      ]
     },
     "metadata": {},
     "output_type": "display_data"
    }
   ],
   "source": [
    "read_csv(\"\n",
    "1, 2, 3\n",
    "4, 5, 6\n",
    "\", col_names = c(\"a\", \"b\", \"c\"))"
   ]
  },
  {
   "cell_type": "markdown",
   "metadata": {},
   "source": [
    "We can specify how missing values are represented in the file."
   ]
  },
  {
   "cell_type": "code",
   "execution_count": 16,
   "metadata": {},
   "outputs": [
    {
     "name": "stdout",
     "output_type": "stream",
     "text": [
      "\u001b[38;5;246m# A tibble: 2 x 3\u001b[39m\n",
      "      a     b     c\n",
      "  \u001b[3m\u001b[38;5;246m<dbl>\u001b[39m\u001b[23m \u001b[3m\u001b[38;5;246m<dbl>\u001b[39m\u001b[23m \u001b[3m\u001b[38;5;246m<dbl>\u001b[39m\u001b[23m\n",
      "\u001b[38;5;250m1\u001b[39m     1     2     3\n",
      "\u001b[38;5;250m2\u001b[39m     4    \u001b[31mNA\u001b[39m     6\n"
     ]
    }
   ],
   "source": [
    "read_csv(\n",
    "    \"a, b, c\n",
    "     1, 2, 3\n",
    "     4,  , 6\n",
    "\") %>% print"
   ]
  },
  {
   "cell_type": "code",
   "execution_count": 17,
   "metadata": {},
   "outputs": [
    {
     "name": "stdout",
     "output_type": "stream",
     "text": [
      "\u001b[38;5;246m# A tibble: 2 x 3\u001b[39m\n",
      "      a     b     c\n",
      "  \u001b[3m\u001b[38;5;246m<dbl>\u001b[39m\u001b[23m \u001b[3m\u001b[38;5;246m<dbl>\u001b[39m\u001b[23m \u001b[3m\u001b[38;5;246m<dbl>\u001b[39m\u001b[23m\n",
      "\u001b[38;5;250m1\u001b[39m     1     2     3\n",
      "\u001b[38;5;250m2\u001b[39m     4    \u001b[31mNA\u001b[39m     6\n"
     ]
    }
   ],
   "source": [
    "read_csv(\n",
    "    \"a, b, c\n",
    "     1, 2, 3\n",
    "     4, -1, 6\n",
    "\", na = \"-1\") %>% print"
   ]
  },
  {
   "cell_type": "markdown",
   "metadata": {},
   "source": [
    "We can save a tibble to a `.csv` file using `write_csv()`."
   ]
  },
  {
   "cell_type": "code",
   "execution_count": 24,
   "metadata": {},
   "outputs": [],
   "source": [
    "cubes <- data.frame(cbind(1:10,(1:10)^2,(1:10)^3))\n",
    "colnames(cubes) <- c(\"1st\",\"2nd\",\"3rd\")"
   ]
  },
  {
   "cell_type": "code",
   "execution_count": 25,
   "metadata": {},
   "outputs": [
    {
     "name": "stdout",
     "output_type": "stream",
     "text": [
      "   1st 2nd  3rd\n",
      "1    1   1    1\n",
      "2    2   4    8\n",
      "3    3   9   27\n",
      "4    4  16   64\n",
      "5    5  25  125\n",
      "6    6  36  216\n",
      "7    7  49  343\n",
      "8    8  64  512\n",
      "9    9  81  729\n",
      "10  10 100 1000\n"
     ]
    }
   ],
   "source": [
    "cubes %>% print\n",
    "write_csv(cubes, \"../Data/cubes.csv\")"
   ]
  },
  {
   "cell_type": "code",
   "execution_count": 26,
   "metadata": {},
   "outputs": [
    {
     "name": "stdout",
     "output_type": "stream",
     "text": [
      "1st,2nd,3rd\n",
      "1,1,1\n",
      "2,4,8\n",
      "3,9,27\n",
      "4,16,64\n",
      "5,25,125\n",
      "6,36,216\n",
      "7,49,343\n",
      "8,64,512\n",
      "9,81,729\n",
      "10,100,1000\n"
     ]
    }
   ],
   "source": [
    "cat(read_file('../Data/cubes.csv'))"
   ]
  },
  {
   "cell_type": "code",
   "execution_count": 27,
   "metadata": {},
   "outputs": [
    {
     "name": "stderr",
     "output_type": "stream",
     "text": [
      "Parsed with column specification:\n",
      "cols(\n",
      "  `1st` = \u001b[32mcol_double()\u001b[39m,\n",
      "  `2nd` = \u001b[32mcol_double()\u001b[39m,\n",
      "  `3rd` = \u001b[32mcol_double()\u001b[39m\n",
      ")\n",
      "\n"
     ]
    },
    {
     "name": "stdout",
     "output_type": "stream",
     "text": [
      "\u001b[38;5;246m# A tibble: 10 x 3\u001b[39m\n",
      "   `1st` `2nd` `3rd`\n",
      "   \u001b[3m\u001b[38;5;246m<dbl>\u001b[39m\u001b[23m \u001b[3m\u001b[38;5;246m<dbl>\u001b[39m\u001b[23m \u001b[3m\u001b[38;5;246m<dbl>\u001b[39m\u001b[23m\n",
      "\u001b[38;5;250m 1\u001b[39m     1     1     1\n",
      "\u001b[38;5;250m 2\u001b[39m     2     4     8\n",
      "\u001b[38;5;250m 3\u001b[39m     3     9    27\n",
      "\u001b[38;5;250m 4\u001b[39m     4    16    64\n",
      "\u001b[38;5;250m 5\u001b[39m     5    25   125\n",
      "\u001b[38;5;250m 6\u001b[39m     6    36   216\n",
      "\u001b[38;5;250m 7\u001b[39m     7    49   343\n",
      "\u001b[38;5;250m 8\u001b[39m     8    64   512\n",
      "\u001b[38;5;250m 9\u001b[39m     9    81   729\n",
      "\u001b[38;5;250m10\u001b[39m    10   100  \u001b[4m1\u001b[24m000\n"
     ]
    }
   ],
   "source": [
    "cubes2 <- read_csv(\"../Data/cubes.csv\")\n",
    "print(cubes2)"
   ]
  },
  {
   "cell_type": "markdown",
   "metadata": {},
   "source": [
    "These days, it's increasingly common to pull data from online sources. For example, say we wanted to know the population of European countries. This is [easily found](https://en.wikipedia.org/wiki/Demographics_of_Europe#Population_by_country) on Wikipedia. We may want to analyze this kind of data in `R`. We can use the package `htmltab` to scrap data from the Internet. "
   ]
  },
  {
   "cell_type": "code",
   "execution_count": 5,
   "metadata": {},
   "outputs": [],
   "source": [
    "library(htmltab)"
   ]
  },
  {
   "cell_type": "markdown",
   "metadata": {},
   "source": [
    "The syntax of this command is:\n",
    "\n",
    "```\n",
    "htmltab(<url>, <table identifier>)\n",
    "```\n",
    "Let's try it with the Wikipedia page above."
   ]
  },
  {
   "cell_type": "code",
   "execution_count": 1,
   "metadata": {},
   "outputs": [],
   "source": [
    "url <- \"http://en.wikipedia.org/wiki/Demographics_of_Europe#Population_by_country\"\n",
    "\n"
   ]
  },
  {
   "cell_type": "markdown",
   "metadata": {},
   "source": [
    "This did not produce what we want. The reason is that there are many tables on this page, and by default `htmltab()` just takes the first one it finds. We can pass a number as the second argument in order to take the second, third, etc."
   ]
  },
  {
   "cell_type": "code",
   "execution_count": null,
   "metadata": {
    "scrolled": true
   },
   "outputs": [],
   "source": []
  },
  {
   "cell_type": "markdown",
   "metadata": {},
   "source": [
    "To get `europe.pop` into a usable format we need to do a bit more work. "
   ]
  },
  {
   "cell_type": "code",
   "execution_count": null,
   "metadata": {
    "scrolled": false
   },
   "outputs": [],
   "source": []
  },
  {
   "cell_type": "markdown",
   "metadata": {},
   "source": [
    "In making the plot above, we use quite a few new commands. We will learn more about data manipulations in the following sections, and we will see more about `ggplot2` in Chapter 2."
   ]
  }
 ],
 "metadata": {
  "kernelspec": {
   "display_name": "R",
   "language": "R",
   "name": "ir"
  },
  "language_info": {
   "codemirror_mode": "r",
   "file_extension": ".r",
   "mimetype": "text/x-r-source",
   "name": "R",
   "pygments_lexer": "r",
   "version": "4.0.3"
  },
  "latex_envs": {
   "LaTeX_envs_menu_present": true,
   "autoclose": false,
   "autocomplete": true,
   "bibliofile": "biblio.bib",
   "cite_by": "apalike",
   "current_citInitial": 1,
   "eqLabelWithNumbers": true,
   "eqNumInitial": 1,
   "hotkeys": {
    "equation": "Ctrl-E",
    "itemize": "Ctrl-I"
   },
   "labels_anchors": false,
   "latex_user_defs": false,
   "report_style_numbering": false,
   "user_envs_cfg": false
  }
 },
 "nbformat": 4,
 "nbformat_minor": 1
}
