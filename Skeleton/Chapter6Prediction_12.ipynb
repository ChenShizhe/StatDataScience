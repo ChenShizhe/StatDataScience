{
 "cells": [
  {
   "cell_type": "markdown",
   "metadata": {},
   "source": [
    "\n",
    "\n",
    "### 6.3.2 Tree-Based Methods\n",
    "\n",
    "The tree-based method (e.g., random forest) is a popular approach for building predictive models. A tree is likely an over-simplification of the true relationship. However, it is very easy to interpret, and has a nice graphical representation: you can easily explain it to a non-statistician, and do not need a computer (or even a calculator) to get an estimate!\n",
    "\n",
    "The general steps for building a regression (or classification) tree is quite simple:\n",
    "\n",
    "- **stratify** (or segment) the predictor space, i.e. the set of possible values for $X_1, X_2, \\ldots, X_p$, into {\\color{red} $J$ distinct and non-overlapping regions}, $R_1, R_2, \\ldots, R_J$.\n",
    "\n",
    "- Use the mean (regression) or mode (classification) of the response values for the training observations in region $R_j$ as the predicted response for that region.\n"
   ]
  },
  {
   "cell_type": "markdown",
   "metadata": {},
   "source": [
    "   The main questions in this procedure are: <span style=\"color:red\"> how should we construct the regions</span> $R_1, \\ldots, R_J$, and <span style=\"color:red\"> how many regions should we use</span>? \n",
    "\n",
    "\n",
    "Suppose $J$ is known. How to construct the regions $R_1, \\ldots, R_J$?\n",
    "- Divide the predictor space into high-dimensional <span style=\"color:red\"> rectangles</span> or boxes (in theory any shape can be used, but this is simpler)\n",
    "- Find boxes $R_1, \\ldots, R_J$ that minimize the residual sum of squares\n",
    "\\[\n",
    "L(y, \\hat{y})=\\sum_{j=1}^J \\sum_{i \\in R_j} (y_i - {\\hat{y}_{R_j}})^2. \n",
    "\\]\n",
    "We can see that the criterion for a (regression) tree still takes the squared error form. "
   ]
  }
 ],
 "metadata": {
  "kernelspec": {
   "display_name": "R",
   "language": "R",
   "name": "ir"
  },
  "language_info": {
   "codemirror_mode": "r",
   "file_extension": ".r",
   "mimetype": "text/x-r-source",
   "name": "R",
   "pygments_lexer": "r",
   "version": "4.0.3"
  },
  "latex_envs": {
   "LaTeX_envs_menu_present": true,
   "autoclose": false,
   "autocomplete": true,
   "bibliofile": "biblio.bib",
   "cite_by": "apalike",
   "current_citInitial": 1,
   "eqLabelWithNumbers": true,
   "eqNumInitial": 1,
   "hotkeys": {
    "equation": "Ctrl-E",
    "itemize": "Ctrl-I"
   },
   "labels_anchors": false,
   "latex_user_defs": false,
   "report_style_numbering": false,
   "user_envs_cfg": false
  }
 },
 "nbformat": 4,
 "nbformat_minor": 2
}
