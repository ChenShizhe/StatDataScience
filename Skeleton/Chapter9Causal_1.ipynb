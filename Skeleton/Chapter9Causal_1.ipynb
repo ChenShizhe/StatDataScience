{
 "cells": [
  {
   "cell_type": "markdown",
   "metadata": {},
   "source": [
    "# Chapter 9 Causal Inference\n"
   ]
  },
  {
   "cell_type": "markdown",
   "metadata": {
    "variables": {
     "round(192/263, digits=2)": "0.73",
     "round(234/270, digits=2)": "0.87",
     "round(273/350, digits=2)": "0.78",
     "round(289/350, digits=2)": "0.83",
     "round(55/80, digits=2)": "0.69",
     "round(81/87, digits=2)": "0.93"
    }
   },
   "source": [
    "## 9.1 Two Paradoxes \n",
    "\n",
    "\n",
    "**Simpson's paradox** The following table summarizes number of successes and fails for two treatments (A and B) for small and large kidney stones. Treatment A is an open surgical procedures, and Treatment B is a minimally-invasive procedure. A more successful treatment should yield higher success rate compare to its alternative. \n",
    "\n",
    "|     | Small | stones |  Large | stones |\n",
    "| :- | :-:| :-: | :-: | :-: |\n",
    "|  | success | fail | success | fail   |\n",
    "| Treatment A | 81 | 6 | 192 |71   |\n",
    "| Treatment B | 234 | 36 | 55 |25   |\n",
    "\n",
    "We can calculate the success rates as follow （Treatment A v.s. Treatment B). \n",
    "\n",
    "- Success rate for small stones:   **{{round(81/87, digits=2)}}** (81/87)   > **{{round(234/270, digits=2)}}** (234/270)\n",
    "\n",
    "- Success rate for large stones:   **{{round(192/263, digits=2)}}** (192/263) > **{{round(55/80, digits=2)}}** (55/80)\n",
    "\n",
    "- Overall success rate:    **{{round(273/350, digits=2)}}**  (273/350)  <span style=\"color:red\">**<**</span>  **{{round(289/350, digits=2)}}** (289/350)\n",
    "\n",
    "\n",
    "<span style = \"color:red\"> **Which treatment is more effective?** </span> Read more about Simpson's paradox [here](https://en.wikipedia.org/wiki/Simpson's_paradox).\n",
    "\n",
    "\n",
    "**Lord's paradox** Lord (1967) discussed a paradox concerning whether the  effects of the diet provided in the dining hall differ for males and females. \n",
    "\n",
    "The data is shown in the following scatter plot. The variables involved are gender $(G_i)$, weight in 1963 $(X_i)$, and weight in 1964 $(Y_i)$. We have $\\text{mean}(Y_i \\mid G_i=1)=\\text{mean}(X_i \\mid G_i=1)=150$ and $\\text{mean}(Y_i \\mid G_i=0)=\\text{mean}(X_i \\mid G_i=0)=130$.\n",
    " \n",
    " \n",
    " <img src=\"../Figures/Ch10/lord.png\" style=\"width: 500px;\"/>\n",
    "\n",
    "\n",
    "- Researcher A: Average weights unchanged for both males and females. \n",
    "- Researcher B: $Y_i =\\beta_0+\\beta_g G_i+\\beta_X X_i+\\epsilon_i$ $\\rightsquigarrow$   $\\widehat{\\beta}_g=6.34$.\n",
    "\n",
    "- Statistician C: $Y_i =\\beta_0+\\beta_g G_i+\\beta_X X_i+\\beta G_i X_i+\\epsilon_i$ $\\rightsquigarrow$   $\\widehat{\\beta}=0.036 \\ (\\text{s.e.} = 0.019)$\n",
    "\n",
    "\n",
    "<span style = \"color:red\"> **Who is correct?** </span> Read more about the Lord's paradox [here](https://en.wikipedia.org/wiki/Lord's_paradox). \n"
   ]
  }
 ],
 "metadata": {
  "kernelspec": {
   "display_name": "R",
   "language": "R",
   "name": "ir"
  },
  "language_info": {
   "codemirror_mode": "r",
   "file_extension": ".r",
   "mimetype": "text/x-r-source",
   "name": "R",
   "pygments_lexer": "r",
   "version": "4.0.3"
  },
  "latex_envs": {
   "LaTeX_envs_menu_present": true,
   "autoclose": false,
   "autocomplete": true,
   "bibliofile": "biblio.bib",
   "cite_by": "apalike",
   "current_citInitial": 1,
   "eqLabelWithNumbers": true,
   "eqNumInitial": 1,
   "hotkeys": {
    "equation": "Ctrl-E",
    "itemize": "Ctrl-I"
   },
   "labels_anchors": false,
   "latex_user_defs": false,
   "report_style_numbering": false,
   "user_envs_cfg": false
  }
 },
 "nbformat": 4,
 "nbformat_minor": 2
}
