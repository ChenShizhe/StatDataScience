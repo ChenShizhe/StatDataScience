{
 "cells": [
  {
   "cell_type": "markdown",
   "metadata": {},
   "source": [
    "# Chapter 9 Causal Inference\n"
   ]
  },
  {
   "cell_type": "markdown",
   "metadata": {},
   "source": [
    "## 9.3 Potential outcome \n",
    "\n",
    "\n",
    "\n",
    "Recall our notation for potential outcome in Section 10.2. Suppose that we observe a data set with treatment $Z_i \\in \\{0,1\\}$ and outcome $Y_i \\in \\{0,1\\}$ for  $i=1,2,\\ldots, n$. Further consider the pair of **potential outcomes** $\\{Y_i(1), Y_i(0)$ for each unit. We only get to observe $Y_i \\equiv Y_i(Z_i)$ in the data set. This notation system can be generalized to case when the treatments take more than two values. \n",
    "\n",
    "\n",
    "Any causal quanity is a function of potential outcomes. We can define the causal effect for unit $i$ as $\\tau_i \\equiv Y_i(1)-Y_i(0)$. We can define more causal effects as long as they are intepretable and meaningful, such as $\\log Y_i(1)-\\log Y_i(0)$, $Y_i(1)/Y_i(0)$, etc. \n",
    "\n",
    "Some notes on the potential outcomes. \n",
    "1. Potential outcomes are thought to be fixed for each unit. \n",
    "2. The observed outcome is random for each unit, because the treatment is random.\n",
    "3. Potential outcomes are seen as fixed _attributes_ of each subject. \n",
    "4. Potential outcomes have a distribution across units. \n",
    "5. Treatments determine which potential outcomes to see. \n",
    "6. In real life, only one potential outcome is observed for each unit. \n",
    "\n",
    "It is important to note that the notation itselfs introduces assumptions. \n",
    "1. Causal ordering: $Y_i$ cannot causally affect $\\tau_i$. \n",
    "2. No interference between units.\n",
    "3. Same version of treatments. \n",
    "\n",
    "These are combined in to the Stable Unit Treatment Value Assumption (SUTVA). It requires that if $\\tau_i =\\tau_i'$, then $Y_i(\\vec{\\tau})=Y_i(\\vec{\\tau}')$, where $\\vec{\\tau}\\equiv (\\tau_1,\\tau_2, \\ldots, \\tau_n)^T$ and $\\vec{\\tau}'\\equiv (\\tau'_1,\\tau'_2, \\ldots, \\tau'_n)^T$. The SUTVA is violated when there exist simultaneity (feedback efforts), spillover effects, or multiple versions of treatments. \n",
    "\n",
    "In addition, the treatment can not be an immutable characteristic, such as gender, race, age, etc. A general rule for causal inference is that there is no causation without manipulation. There are, however, novel strategies to learn/define causal effects for immutable characteristics.  \n",
    "\n",
    "We can now examine why causal interpretation is easier from randomized experiments. Recall that the average treatment effect is defined as  \n",
    "\\[\n",
    "{\\rm ACE} \\equiv \\mathbb{E}[Y(1)-Y(0)]=\\mathbb{E}[Y(1)]-\\mathbb{E}[Y(0)].\n",
    "\\]\n",
    "Randomization of treatments means $\\{Z_i\\}_{i=1}^n \\perp \\{ Y_i(0), Y_i(1)\\}_{i=1}^n$. \n",
    "\n",
    "We can derive \n",
    "\\begin{align}\n",
    "{\\rm ACE} & = \\mathbb{E}[Y(1)]-\\mathbb{E}[Y(0)]=\\mathbb{E}[Y(1)|Z=1]-\\mathbb{E}[Y(0)|Z=0]\\\\\n",
    "& = \\mathbb{E}[Y|Z=1]-\\mathbb{E}[Y|Z=0],\n",
    "\\end{align}\n",
    "where the second equality follows from independence between treatments and potential outcomes. "
   ]
  }
 ],
 "metadata": {
  "kernelspec": {
   "display_name": "R",
   "language": "R",
   "name": "ir"
  },
  "language_info": {
   "codemirror_mode": "r",
   "file_extension": ".r",
   "mimetype": "text/x-r-source",
   "name": "R",
   "pygments_lexer": "r",
   "version": "4.0.3"
  },
  "latex_envs": {
   "LaTeX_envs_menu_present": true,
   "autoclose": false,
   "autocomplete": true,
   "bibliofile": "biblio.bib",
   "cite_by": "apalike",
   "current_citInitial": 1,
   "eqLabelWithNumbers": true,
   "eqNumInitial": 1,
   "hotkeys": {
    "equation": "Ctrl-E",
    "itemize": "Ctrl-I"
   },
   "labels_anchors": false,
   "latex_user_defs": false,
   "report_style_numbering": false,
   "user_envs_cfg": false
  }
 },
 "nbformat": 4,
 "nbformat_minor": 2
}
