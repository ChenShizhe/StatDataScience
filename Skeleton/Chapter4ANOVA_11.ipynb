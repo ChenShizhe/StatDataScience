{
 "cells": [
  {
   "cell_type": "markdown",
   "metadata": {},
   "source": [
    "# Chapter 4 Analysis of Variance\n",
    "     "
   ]
  },
  {
   "cell_type": "markdown",
   "metadata": {},
   "source": [
    "### 4.1.11 Remedies for departures from model assumptions \n",
    "\n",
    "**Weighted least squares**\n",
    "\n",
    "Idea: $\\sqrt{w_i}\\epsilon_{ij} \\sim N(0,1)$ if $w_i = 1/\\sigma_i^2$. \n",
    "\n",
    "Find weighed least squares estimator by minimizin $\\sum_{i=1}^r \\sum_{j=1}^{n_i} w_i(Y_{ij}-\\mu)^2$ for the common mean \n",
    "$\\title{\\mu}=\\sum n_i w_i \\bar{Y}_{i\\cdot}/\\sum n_i w_i$. \n",
    "\n",
    "We will have a new set of ${\\rm SSTR}$ and ${\\rm SSE}$. In the end, we still have $F^* \\sim F(r-1,n_T-r)$. In practice, we plug in $w_i = 1/s_i^2$, and the null distribution remains the same.\n",
    "\n",
    "**Rank test**\n",
    "\\[\n",
    "F^*=\\frac{ {\\rm MSTR}(R) }{ {\\rm MSE} (R)} = \\frac{\\sum \\sum (\\bar{R}_{ij}-\\bar{R})^2 /(r-1)}{\\sum\\sum (R_{ij}-\\bar{R}_{i\\cdot})^2/(n_T-r) } \\sim F(r-1, n_T-r),\n",
    "\\]\n",
    "where $R_{ij}$ is the rank of $Y_{ij}$ among all $n_T$ observations. \n",
    "\n",
    "\n"
   ]
  },
  {
   "cell_type": "code",
   "execution_count": null,
   "metadata": {},
   "outputs": [],
   "source": []
  },
  {
   "cell_type": "markdown",
   "metadata": {},
   "source": [
    "**Kruskal-Wallis test**\n",
    "\\[\n",
    "F^*=(n_T-1)\\frac{ \\sum_{i=1}^r (\\bar{R}_{i\\cdot}-\\bar{R}_{\\cdot \\cdot})^2 }{ \\sum \\sum (R_{ij}-\\bar{R}_{\\cdot\\cdot})^2} \\sim \\chi^2_{r-1},\n",
    "\\]\n",
    "if $n_T$ is large. "
   ]
  },
  {
   "cell_type": "code",
   "execution_count": null,
   "metadata": {},
   "outputs": [],
   "source": []
  },
  {
   "cell_type": "markdown",
   "metadata": {},
   "source": [
    "**Box-Cox transformation**\n",
    "\n",
    "\\[\n",
    " Y(\\lambda)=\\frac{Y^{\\lambda}-1}{\\lambda}, \n",
    "\\]\n",
    "and $Y^0\\equiv \\log(Y)$ for $\\lambda=0$. \n",
    "\n",
    "To tune the parameter $\\lambda$, we can calculate the likelihood $L(\\lambda) \\equiv  \\max_{\\mu,\\sigma} L(\\lambda;\\mu,\\sigma)$. Then $\\lambda^* = \\arg \\max L(\\lambda)$. \n",
    "It can be shown that $\\max L(\\lambda)$ is equivalent to $\\min {\\rm SSE}[Y^*(\\lambda)]$, where\n",
    "\\[\n",
    "Y^*_{ij}(\\lambda)\\equiv \\begin{cases}\n",
    "\\frac{Y_{ij}^\\lambda-1}{\\lambda \\dot{Y}^\\lambda -1} & \\lambda\\neq 0\\\\\n",
    "\\dot{Y}\\log(Y_{ij}) & \\lambda =0\n",
    "\\end{cases},\n",
    "\\]\n",
    "where $\\dot{Y}$ is the geometric mean of $Y$. \n",
    "\n",
    "Box-Cox for equal variance amounts to minimize the Bartlett statistics, or other test statistics. We can use the `boxcox()` function in library `MASS` for Box-Cox transformation in `R`. \n"
   ]
  }
 ],
 "metadata": {
  "author": "\\mu",
  "kernelspec": {
   "display_name": "R",
   "language": "R",
   "name": "ir"
  },
  "language_info": {
   "codemirror_mode": "r",
   "file_extension": ".r",
   "mimetype": "text/x-r-source",
   "name": "R",
   "pygments_lexer": "r",
   "version": "4.0.3"
  },
  "latex_envs": {
   "LaTeX_envs_menu_present": true,
   "autoclose": false,
   "autocomplete": true,
   "bibliofile": "biblio.bib",
   "cite_by": "apalike",
   "current_citInitial": 1,
   "eqLabelWithNumbers": true,
   "eqNumInitial": 1,
   "hotkeys": {
    "equation": "Ctrl-E",
    "itemize": "Ctrl-I"
   },
   "labels_anchors": false,
   "latex_user_defs": false,
   "report_style_numbering": false,
   "user_envs_cfg": false
  }
 },
 "nbformat": 4,
 "nbformat_minor": 2
}
