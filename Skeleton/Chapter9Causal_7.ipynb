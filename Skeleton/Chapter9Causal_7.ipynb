{
 "cells": [
  {
   "cell_type": "markdown",
   "metadata": {},
   "source": [
    "**Outcome regression**\n",
    "\n",
    "We can useinear outcome models for the potential outcomes. \n",
    "\\[\n",
    "\\begin{cases}\n",
    "Y_i(1)=\\alpha_1 + x_i'\\gamma_1 + \\epsilon_i(1) & \\mathbb{E}[\\epsilon_i(1)|X_i]=0\\\\\n",
    "Y_i(0)=\\alpha_0 + x_i'\\gamma_0 + \\epsilon_i(0) & \\mathbb{E}[\\epsilon_i(0)|X_i]=0\n",
    "\\end{cases}\n",
    "\\]\n",
    "This yields \n",
    "\\[\n",
    "\\begin{cases}\n",
    "\\mathbb{E}[ Y_i(1)| x_i]= \\mathbb{E}[ Y_i| Z_i=1, x_i] =\\alpha_1 + x_i'\\gamma_1 \\\\\n",
    "\\mathbb{E}[ Y_i(0)| x_i]= \\mathbb{E}[ Y_i| Z_i=0, x_i] =\\alpha_0 + x_i'\\gamma_0\n",
    "\\end{cases}\n",
    "\\]\n",
    "Then \n",
    "\\[\n",
    "{\\rm ACE} = \\mathbb{E}\\big\\{ \\mathbb{E}[Y_i(1)-Y_i(0)|X_i] \\big\\}=(\\alpha_1-\\alpha_0)+(\\gamma_1 -\\gamma_0)' \\mathbb{E}[X_i]\n",
    "\\]\n",
    "\n",
    "The above equations lead to $Y_i=Z_i Y_i(1)+(1-Z_i) Y_i(0)$ and $\\epsilon_i=Z_i \\epsilon_i(1)+(1-Z_i) \\epsilon_i(0)$  for the observed outcomes. We then have \n",
    "\\[\n",
    "Y_i = \\alpha_0 + (\\alpha_1-\\alpha_0)Z_i +X_i'\\gamma_0+Z_i X_i(\\gamma_1 -\\gamma_0)+\\epsilon_i.\n",
    "\\]\n",
    "Note that the same does not hold for logistic regression and other nonlinear regression. \n",
    "\n"
   ]
  }
 ],
 "metadata": {
  "kernelspec": {
   "display_name": "R",
   "language": "R",
   "name": "ir"
  },
  "language_info": {
   "codemirror_mode": "r",
   "file_extension": ".r",
   "mimetype": "text/x-r-source",
   "name": "R",
   "pygments_lexer": "r",
   "version": "4.0.3"
  },
  "latex_envs": {
   "LaTeX_envs_menu_present": true,
   "autoclose": false,
   "autocomplete": true,
   "bibliofile": "biblio.bib",
   "cite_by": "apalike",
   "current_citInitial": 1,
   "eqLabelWithNumbers": true,
   "eqNumInitial": 1,
   "hotkeys": {
    "equation": "Ctrl-E",
    "itemize": "Ctrl-I"
   },
   "labels_anchors": false,
   "latex_user_defs": false,
   "report_style_numbering": false,
   "user_envs_cfg": false
  }
 },
 "nbformat": 4,
 "nbformat_minor": 2
}
