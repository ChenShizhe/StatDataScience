{
 "cells": [
  {
   "cell_type": "markdown",
   "metadata": {},
   "source": [
    "# Chapter 4 Analysis of Variance\n",
    "     "
   ]
  },
  {
   "cell_type": "markdown",
   "metadata": {},
   "source": [
    "### 4.1.2 One-way ANOVA\n",
    "\n",
    "In the Spock trial data, let $r=4$ denote the number of judges,  $Y_{ij}$ be the percentage of women in the $j$th panel for the $i$th judge. Let Judge 1 be the judge in the Spock trial. We can propose the following model, for $j=1,\\ldots, n_i, i=1,\\ldots, r$,\n",
    "\\[\n",
    "Y_{ij}=\\mu_i + \\epsilon_{ij}, \n",
    "\\]\n",
    "where $\\{\\epsilon_{ij}\\}$ are i.i.d. $N(0,\\sigma^2)$. In the Spock trial data, $r=4$, $n_2=6$, and $n_1=n_3=n_4=9$. This model is a one-way **an**alysis **o**f **va**riance model in its cell means form.  We will discuss other forms later in this chapter.  \n",
    "\n",
    "Because $n_1,n_2, n_3$ and $n_4$ are not equal, this is an imbalanced ANOVA model. If $n_1=n_2=\\cdots=n_r$, then the ANOVA model is **balanced**.\n",
    "\n",
    "In this model, $\\mu_i$ represents the mean percentage of women in the panels for the $i$th judge, and $\\sigma^2$ represents the variance in the percentages across panels. It is easy to see that, by using one $\\sigma^2$ across all judges, we assume the panels of all four judges have the same amount of variability. \n",
    "\n",
    "The question of interest in the Sprock trial data can now be translated to whether $\\{\\mu_i\\}_{i=1}^r$ are the same, where $\\{\\mu_i\\}$ and $\\sigma^2$ are unknown. \n",
    "\n",
    "\n",
    "The estimators for $\\mu_i, i=1,2,\\ldots, r$ are simply the within-group sample means, i.e., for $i=1,\\ldots, r$,\n",
    "\\[\n",
    "\\hat{\\mu}_i = \\bar{Y}_{i\\cdot} = \\frac{1}{n_i}\\sum_{j=1}^{n_i} Y_{ij}.\n",
    "\\]\n",
    "We have two observations on our estimators $\\hat{\\mu}_i$ $i=1,\\ldots, r$. \n",
    "1. The estimator $\\hat{\\mu}_i$ is also the maximum likelihood estimator for $\\mu_i$. \n",
    "2. $\\hat{\\mu}_i$ is the best linear unbiased estimator if $\\{Y_{ij}\\}$ are mutually uncorrelated but not necessarily normally distributed.\n",
    "\n",
    "We can call the `aov()` function to fit a one-way ANOVA model in `R`. "
   ]
  },
  {
   "cell_type": "code",
   "execution_count": 15,
   "metadata": {
    "scrolled": true
   },
   "outputs": [
    {
     "data": {
      "text/plain": [
       "            Df Sum Sq Mean Sq F value   Pr(>F)    \n",
       "Judge        3 1591.3   530.4   17.61 1.06e-06 ***\n",
       "Residuals   29  873.5    30.1                     \n",
       "---\n",
       "Signif. codes:  0 '***' 0.001 '**' 0.01 '*' 0.05 '.' 0.1 ' ' 1"
      ]
     },
     "metadata": {},
     "output_type": "display_data"
    },
    {
     "data": {
      "text/html": [
       "<style>\n",
       ".list-inline {list-style: none; margin:0; padding: 0}\n",
       ".list-inline>li {display: inline-block}\n",
       ".list-inline>li:not(:last-child)::after {content: \"\\00b7\"; padding: 0 .5ex}\n",
       "</style>\n",
       "<ol class=list-inline><li>'assign'</li><li>'call'</li><li>'coefficients'</li><li>'contrasts'</li><li>'df.residual'</li><li>'effects'</li><li>'fitted.values'</li><li>'model'</li><li>'qr'</li><li>'rank'</li><li>'residuals'</li><li>'terms'</li><li>'xlevels'</li></ol>\n"
      ],
      "text/latex": [
       "\\begin{enumerate*}\n",
       "\\item 'assign'\n",
       "\\item 'call'\n",
       "\\item 'coefficients'\n",
       "\\item 'contrasts'\n",
       "\\item 'df.residual'\n",
       "\\item 'effects'\n",
       "\\item 'fitted.values'\n",
       "\\item 'model'\n",
       "\\item 'qr'\n",
       "\\item 'rank'\n",
       "\\item 'residuals'\n",
       "\\item 'terms'\n",
       "\\item 'xlevels'\n",
       "\\end{enumerate*}\n"
      ],
      "text/markdown": [
       "1. 'assign'\n",
       "2. 'call'\n",
       "3. 'coefficients'\n",
       "4. 'contrasts'\n",
       "5. 'df.residual'\n",
       "6. 'effects'\n",
       "7. 'fitted.values'\n",
       "8. 'model'\n",
       "9. 'qr'\n",
       "10. 'rank'\n",
       "11. 'residuals'\n",
       "12. 'terms'\n",
       "13. 'xlevels'\n",
       "\n",
       "\n"
      ],
      "text/plain": [
       " [1] \"assign\"        \"call\"          \"coefficients\"  \"contrasts\"    \n",
       " [5] \"df.residual\"   \"effects\"       \"fitted.values\" \"model\"        \n",
       " [9] \"qr\"            \"rank\"          \"residuals\"     \"terms\"        \n",
       "[13] \"xlevels\"      "
      ]
     },
     "metadata": {},
     "output_type": "display_data"
    },
    {
     "data": {
      "text/html": [
       "<style>\n",
       ".dl-inline {width: auto; margin:0; padding: 0}\n",
       ".dl-inline>dt, .dl-inline>dd {float: none; width: auto; display: inline-block}\n",
       ".dl-inline>dt::after {content: \":\\0020\"; padding-right: .5ex}\n",
       ".dl-inline>dt:not(:first-of-type) {padding-left: .5ex}\n",
       "</style><dl class=dl-inline><dt>(Intercept)</dt><dd>14.6222222222222</dd><dt>Judge2</dt><dd>18.9944444444444</dd><dt>Judge3</dt><dd>14.4777777777778</dd><dt>Judge4</dt><dd>12.1777777777778</dd></dl>\n"
      ],
      "text/latex": [
       "\\begin{description*}\n",
       "\\item[(Intercept)] 14.6222222222222\n",
       "\\item[Judge2] 18.9944444444444\n",
       "\\item[Judge3] 14.4777777777778\n",
       "\\item[Judge4] 12.1777777777778\n",
       "\\end{description*}\n"
      ],
      "text/markdown": [
       "(Intercept)\n",
       ":   14.6222222222222Judge2\n",
       ":   18.9944444444444Judge3\n",
       ":   14.4777777777778Judge4\n",
       ":   12.1777777777778\n",
       "\n"
      ],
      "text/plain": [
       "(Intercept)      Judge2      Judge3      Judge4 \n",
       "   14.62222    18.99444    14.47778    12.17778 "
      ]
     },
     "metadata": {},
     "output_type": "display_data"
    }
   ],
   "source": [
    "Spock <- read.csv(file=\"../Data/SpockTrial.csv\", header=TRUE, sep=\",\")\n",
    "Spock$Judge<-as.factor(Spock$Judge);\n",
    "\n",
    "anova.fit<-aov(perc.women~Judge,data=Spock);\n",
    "summary(anova.fit)\n",
    "\n",
    "ls(anova.fit)\n",
    "anova.fit$coef"
   ]
  }
 ],
 "metadata": {
  "author": "\\mu",
  "kernelspec": {
   "display_name": "R",
   "language": "R",
   "name": "ir"
  },
  "language_info": {
   "codemirror_mode": "r",
   "file_extension": ".r",
   "mimetype": "text/x-r-source",
   "name": "R",
   "pygments_lexer": "r",
   "version": "4.0.3"
  },
  "latex_envs": {
   "LaTeX_envs_menu_present": true,
   "autoclose": false,
   "autocomplete": true,
   "bibliofile": "biblio.bib",
   "cite_by": "apalike",
   "current_citInitial": 1,
   "eqLabelWithNumbers": true,
   "eqNumInitial": 1,
   "hotkeys": {
    "equation": "Ctrl-E",
    "itemize": "Ctrl-I"
   },
   "labels_anchors": false,
   "latex_user_defs": false,
   "report_style_numbering": false,
   "user_envs_cfg": false
  }
 },
 "nbformat": 4,
 "nbformat_minor": 2
}
