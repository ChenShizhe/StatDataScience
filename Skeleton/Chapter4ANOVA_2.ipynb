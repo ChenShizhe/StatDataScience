{
 "cells": [
  {
   "cell_type": "markdown",
   "metadata": {},
   "source": [
    "# Chapter 4 Analysis of Variance\n",
    "     "
   ]
  },
  {
   "cell_type": "markdown",
   "metadata": {},
   "source": [
    "### 4.1.2 One-way ANOVA\n",
    "\n",
    "In the Spock trial data, let $r=4$ denote the number of judges,  $Y_{ij}$ be the percentage of women in the $j$th panel for the $i$th judge. Let Judge 1 be the judge in the Spock trial. We can propose the following model, for $j=1,\\ldots, n_i, i=1,\\ldots, r$,\n",
    "\\[\n",
    "Y_{ij}=\\mu_i + \\epsilon_{ij}, \n",
    "\\]\n",
    "where $\\{\\epsilon_{ij}\\}$ are i.i.d. $N(0,\\sigma^2)$. In the Spock trial data, $r=4$, $n_2=6$, and $n_1=n_3=n_4=9$. This model is a one-way **an**alysis **o**f **va**riance model in its cell means form.  We will discuss other forms later in this chapter.  \n",
    "\n",
    "Because $n_1,n_2, n_3$ and $n_4$ are not equal, this is an imbalanced ANOVA model. If $n_1=n_2=\\cdots=n_r$, then the ANOVA model is **balanced**.\n",
    "\n",
    "In this model, $\\mu_i$ represents the mean percentage of women in the panels for the $i$th judge, and $\\sigma^2$ represents the variance in the percentages across panels. It is easy to see that, by using one $\\sigma^2$ across all judges, we assume the panels of all four judges have the same amount of variability. \n",
    "\n",
    "The question of interest in the Sproch trial data can now be translated to whether $\\{\\mu_i\\}_{i=1}^r$ are the same, where $\\{\\mu_i\\}$ and $\\sigma^2$ are unknown. \n",
    "\n",
    "\n",
    "The estimators for $\\mu_i, i=1,2,\\ldots, r$ are simply the within-group sample means, i.e., for $i=1,\\ldots, r$,\n",
    "\\[\n",
    "\\hat{\\mu}_i = \\bar{Y}_{i\\cdot} = \\frac{1}{n_i}\\sum_{j=1}^{n_i} Y_{ij}.\n",
    "\\]\n",
    "We have two observations on our estimators $\\hat{\\mu}_i$ $i=1,\\ldots, r$. \n",
    "1. The estimator $\\hat{\\mu}_i$ is also the maximum likelihood estimator for $\\mu_i$. \n",
    "2. $\\hat{\\mu}_i$ is the best linear unbiased estimator if $\\{Y_{ij}\\}$ are mutually uncorrelated but not necessarily normally distributed.\n",
    "\n",
    "We can call the `aov()` function to fit a one-way ANOVA model in `R`. "
   ]
  },
  {
   "cell_type": "code",
   "execution_count": null,
   "metadata": {
    "scrolled": true
   },
   "outputs": [],
   "source": []
  }
 ],
 "metadata": {
  "author": "\\mu",
  "kernelspec": {
   "display_name": "R",
   "language": "R",
   "name": "ir"
  },
  "language_info": {
   "codemirror_mode": "r",
   "file_extension": ".r",
   "mimetype": "text/x-r-source",
   "name": "R",
   "pygments_lexer": "r",
   "version": "4.0.3"
  },
  "latex_envs": {
   "LaTeX_envs_menu_present": true,
   "autoclose": false,
   "autocomplete": true,
   "bibliofile": "biblio.bib",
   "cite_by": "apalike",
   "current_citInitial": 1,
   "eqLabelWithNumbers": true,
   "eqNumInitial": 1,
   "hotkeys": {
    "equation": "Ctrl-E",
    "itemize": "Ctrl-I"
   },
   "labels_anchors": false,
   "latex_user_defs": false,
   "report_style_numbering": false,
   "user_envs_cfg": false
  }
 },
 "nbformat": 4,
 "nbformat_minor": 2
}
