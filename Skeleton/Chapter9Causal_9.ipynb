{
 "cells": [
  {
   "cell_type": "markdown",
   "metadata": {},
   "source": [
    "### 9.5.2 Propensity score weighting\n",
    "\n",
    "**Theorem** (IP score weighting) Assume that conditions (1), (2), (3) as before, we have \n",
    "\\[\n",
    "\\mathbb{E}[Y_i(1)] = \\mathbb{E}\\left[\\frac{Z_i Y_i}{e(X_i)} \\right],\\ \n",
    "\\mathbb{E}[Y_i(0)] = \\mathbb{E}\\left[\\frac{ (1-Z_i) Y_i}{1-e(X_i)} \\right].\n",
    "\\]\n",
    "\n",
    "\\[\n",
    "{\\rm ACE} \\ = \\mathbb{E}[Y_i(1)-Y_i(0)]=\\mathbb{E}\\left[ \\frac{Z_i Y_i }{e(X_i)}\\right]-\\mathbb{E}\\left[\\frac{ (1-Z_i) Y_i}{1-e(X_i)} \\right].\n",
    "\\]\n",
    "\n",
    "Horvitz-Thompson inverse probability weighting \n",
    "\\[\n",
    "\\widehat{\\rm ACE}^{\\rm ipw} =\\frac{1}{n} \\sum_{i=1}^n \\frac{Z_i Y_i}{\\hat{e}(X_i)} - \\frac{1}{n} \\sum_{i=1}^n \\frac{(1-Z_i)Y_i}{1-\\hat{e}(X_i)}.\n",
    "\\]\n",
    "Hajek inverse probaility weighting \n",
    "\\[\n",
    "\\widehat{\\rm ACE}^{\\rm ipw} =\\frac{  \\sum_{i=1}^n \\frac{Z_i Y_i}{\\hat{e}(X_i)}}{\\sum_{i=1}^n \\frac{Z_i }{\\hat{e}(X_i)}} - \\frac{\\sum_{i=1}^n \\frac{(1-Z_i)Y_i}{1-\\hat{e}(X_i)}}{\\frac{1-Z_i}{1-\\hat{e}(X_i)}}.\n",
    "\\]\n",
    "\n",
    "The two estimators have the same limit asymptotically. \n",
    "\n",
    "Problems (1) Unsable (trim propensity score) (2) variance not neat (use bootstrap). \n"
   ]
  }
 ],
 "metadata": {
  "kernelspec": {
   "display_name": "R",
   "language": "R",
   "name": "ir"
  },
  "language_info": {
   "codemirror_mode": "r",
   "file_extension": ".r",
   "mimetype": "text/x-r-source",
   "name": "R",
   "pygments_lexer": "r",
   "version": "4.0.3"
  },
  "latex_envs": {
   "LaTeX_envs_menu_present": true,
   "autoclose": false,
   "autocomplete": true,
   "bibliofile": "biblio.bib",
   "cite_by": "apalike",
   "current_citInitial": 1,
   "eqLabelWithNumbers": true,
   "eqNumInitial": 1,
   "hotkeys": {
    "equation": "Ctrl-E",
    "itemize": "Ctrl-I"
   },
   "labels_anchors": false,
   "latex_user_defs": false,
   "report_style_numbering": false,
   "user_envs_cfg": false
  }
 },
 "nbformat": 4,
 "nbformat_minor": 2
}
