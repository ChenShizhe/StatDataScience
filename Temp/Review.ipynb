{
 "cells": [
  {
   "cell_type": "markdown",
   "metadata": {},
   "source": [
    "# Basic statistics with `R`"
   ]
  },
  {
   "cell_type": "markdown",
   "metadata": {},
   "source": [
    "# 1 Random variable\n",
    "\n",
    "- $X \\sim \\mathcal{N}(\\mu, \\sigma^2)$: The random variable $X$ follows a normal distribution or a Gaussian distribution with mean $\\mu$ and variance $\\sigma^2$ (or standard deviation $\\sigma$).\n",
    "\n",
    "- Let $X_1,X_2,\\ldots, X_n$ be independent and identically distributed (*i.i.d.*) random variables (*r.v.*s) from $\\mathcal{N}(0,1)$ --- also known as the standard normal distribution. Q: why is $\\mathcal{N}(0,1)$ special?\n",
    "\n",
    "- Sometimes we may use $\\{X_i\\}_{i=1}^n$ as a shorthand notation for $X_1,X_2,\\ldots, X_n$ in this course.\n",
    "\n",
    "- c.d.f.: cumulative distribution function, $F(x) \\equiv {\\rm Prob}(X \\leq x)$. Subscripts may be employed to distinguish multiple distributions.\n",
    "\n",
    "- p.d.f.: probability density function, $f(x)$ or $p(x) \\equiv \\frac{\\rm d}{ {\\rm d} x}F(x)$. Q: does a discrete random variable have a p.d.f.?\n",
    "\n",
    "- Likelihood: $\\mathcal{L}(\\theta \\mid x) = f_{\\theta}(X=x)$, or the density/probability of observing $x$ when the true parameter(s) is $\\theta$. \n",
    "\n",
    "- Quantiles: The $100 \\alpha \\%$ quantile is the cut point $q$ at which $F(q) = \\alpha$. Q: what is a median?\n",
    "\n"
   ]
  },
  {
   "cell_type": "code",
   "execution_count": null,
   "metadata": {},
   "outputs": [],
   "source": [
    "## Random seed\n",
    "set.seed(1) # set random number generator seed for reproducibility\n",
    "\n",
    "rnorm(1) # Draw one sample from standard normal distribution \n"
   ]
  },
  {
   "cell_type": "code",
   "execution_count": 1,
   "metadata": {},
   "outputs": [],
   "source": [
    "?rnorm # Read the help file!"
   ]
  },
  {
   "cell_type": "code",
   "execution_count": null,
   "metadata": {},
   "outputs": [],
   "source": [
    "rnorm(n=1,mean=10,sd=2)"
   ]
  },
  {
   "cell_type": "code",
   "execution_count": 3,
   "metadata": {},
   "outputs": [
    {
     "data": {
      "image/png": "[encoded data removed]",
      "text/plain": [
       "plot without title"
      ]
     },
     "metadata": {
      "image/png": {
       "height": 420,
       "width": 420
      }
     },
     "output_type": "display_data"
    }
   ],
   "source": [
    "# To help understand the random variable, we can draw the density plot for this distribution\n",
    "\n",
    "x.grid=seq(from=-3,to=3,length.out=100)\n",
    "norm.pdf=dnorm(x.grid,mean=0,sd=1);\n",
    "plot(y=norm.pdf,x=x.grid,type='l')\n"
   ]
  },
  {
   "cell_type": "code",
   "execution_count": 4,
   "metadata": {},
   "outputs": [
    {
     "data": {
      "image/png": "[encoded data removed]",
      "text/plain": [
       "Plot with title \"Uniform\""
      ]
     },
     "metadata": {
      "image/png": {
       "height": 420,
       "width": 420
      }
     },
     "output_type": "display_data"
    }
   ],
   "source": [
    "# Compare this with a histogram of 1000 i.i.d. samples from rnorm\n",
    "\n",
    "rvs=rnorm(1000);\n",
    "hist(rvs,freq=FALSE,main='Uniform',xlab='X')\n",
    "lines(y=norm.pdf,x=x.grid,col='blue',lwd=3)\n",
    "# Further compare it with a smooth density estimation based on the samples:\n",
    "norm.pdf.est=density(rvs);\n",
    "lines(norm.pdf.est,col='red',lwd=3)"
   ]
  },
  {
   "cell_type": "markdown",
   "metadata": {},
   "source": [
    "# 2 Basic summary statistics\n",
    "\n",
    "To list a few\n",
    "\n",
    "- Sum $\\sum_{i=1}^n X_i \\equiv X_1 + X_2 + \\cdots + X_n$.\n",
    "- (Sample) Mean $\\bar{X} \\equiv  \\frac{1}{n} \\sum_{i=1}^n X_i$.\n",
    "- (Sample) variance $\\hat{\\rm var}(X) \\equiv \\frac{1}{n} \\sum_{i=1}^n (X_i-\\bar{X})^2$ or $\\frac{1}{n-1} \\sum_{i=1}^n (X_i-\\bar{X})^2$\n",
    "- Q: what the the population mean and population variance for $X_1,X_2,\\ldots, X_n$ that are i.i.d. $\\mathcal{N}(\\mu,\\sigma^2)$?\n",
    "- (Sample) Standard deviation: $\\hat{\\rm sd}(X) \\equiv \\{\\hat{\\rm var}(X) \\}^{1/2}$\n",
    "- Standard error of the sample mean: $\\hat{\\rm sd}(X)/\\sqrt{n}$\n",
    "- Sample size, sample quantiles, etc."
   ]
  },
  {
   "cell_type": "code",
   "execution_count": 6,
   "metadata": {},
   "outputs": [
    {
     "data": {
      "text/html": [
       "-1.57945239697439"
      ],
      "text/latex": [
       "-1.57945239697439"
      ],
      "text/markdown": [
       "-1.57945239697439"
      ],
      "text/plain": [
       "[1] -1.579452"
      ]
     },
     "metadata": {},
     "output_type": "display_data"
    },
    {
     "data": {
      "text/html": [
       "-0.157945239697439"
      ],
      "text/latex": [
       "-0.157945239697439"
      ],
      "text/markdown": [
       "-0.157945239697439"
      ],
      "text/plain": [
       "[1] -0.1579452"
      ]
     },
     "metadata": {},
     "output_type": "display_data"
    },
    {
     "data": {
      "text/html": [
       "2.89852756881216"
      ],
      "text/latex": [
       "2.89852756881216"
      ],
      "text/markdown": [
       "2.89852756881216"
      ],
      "text/plain": [
       "[1] 2.898528"
      ]
     },
     "metadata": {},
     "output_type": "display_data"
    },
    {
     "data": {
      "text/html": [
       "1.70250626101996"
      ],
      "text/latex": [
       "1.70250626101996"
      ],
      "text/markdown": [
       "1.70250626101996"
      ],
      "text/plain": [
       "[1] 1.702506"
      ]
     },
     "metadata": {},
     "output_type": "display_data"
    }
   ],
   "source": [
    "X = rnorm(10)\n",
    "\n",
    "sum(X) # summation\n",
    "mean(X) # sample mean\n",
    "var(X) # sample variance\n",
    "sd(X) # standard deviation "
   ]
  },
  {
   "cell_type": "markdown",
   "metadata": {},
   "source": [
    "# 3 Hypothesis testing\n",
    "\n",
    "Consider the following null and alternative hypotheses for $X_1, X_2, \\ldots, X_n$ that are i.i.d. samples from $\\mathcal{N}(\\mu,1)$.\n",
    "\n",
    "- $H_0: \\mu=0$\n",
    "\n",
    "- $H_a$ (or $H_1$): $\\mu\\neq 0$\n",
    "\n",
    "- Significance level $\\alpha$\n",
    "\n",
    "- P-value\n",
    "\n",
    "- Critical value \n",
    "\n",
    "- Type I error and type I error rate\n",
    "\n",
    "- Type II error and type II error rate\n",
    "\n",
    "- Power "
   ]
  },
  {
   "cell_type": "code",
   "execution_count": 12,
   "metadata": {
    "scrolled": true
   },
   "outputs": [
    {
     "data": {
      "text/plain": [
       "\n",
       "\tOne Sample t-test\n",
       "\n",
       "data:  X\n",
       "t = -0.47407, df = 9, p-value = 0.6467\n",
       "alternative hypothesis: true mean is not equal to 0\n",
       "95 percent confidence interval:\n",
       " -0.9029530  0.5900656\n",
       "sample estimates:\n",
       " mean of x \n",
       "-0.1564437 \n"
      ]
     },
     "metadata": {},
     "output_type": "display_data"
    }
   ],
   "source": [
    "# \n",
    "X=rnorm(10)\n",
    "t.test(X)"
   ]
  },
  {
   "cell_type": "code",
   "execution_count": 11,
   "metadata": {},
   "outputs": [
    {
     "data": {
      "text/plain": [
       "\n",
       "\tOne Sample t-test\n",
       "\n",
       "data:  Y\n",
       "t = 8.6686, df = 9, p-value = 1.159e-05\n",
       "alternative hypothesis: true mean is not equal to 0\n",
       "95 percent confidence interval:\n",
       " 1.481343 2.527490\n",
       "sample estimates:\n",
       "mean of x \n",
       " 2.004416 \n"
      ]
     },
     "metadata": {},
     "output_type": "display_data"
    }
   ],
   "source": [
    "Y=rnorm(10,mean=2)\n",
    "t.test(Y)"
   ]
  },
  {
   "cell_type": "code",
   "execution_count": 19,
   "metadata": {},
   "outputs": [
    {
     "data": {
      "text/html": [
       "0.0299"
      ],
      "text/latex": [
       "0.0299"
      ],
      "text/markdown": [
       "0.0299"
      ],
      "text/plain": [
       "[1] 0.0299"
      ]
     },
     "metadata": {},
     "output_type": "display_data"
    }
   ],
   "source": [
    "## Write a simulation to verify the equivalence between type I error rate and significance level, under the null H0: mu=0 (slope is zero)\n",
    "alpha=0.03; # significance level \n",
    "simulate.one.instance<-function(n,alpha){\n",
    "  X=rnorm(n)\n",
    "  pval=t.test(X)$p.value\n",
    "  rej.flag= pval<alpha\n",
    "  return(rej.flag)\n",
    "}\n",
    "\n",
    "N.sim=1e4;\n",
    "set.seed(1)\n",
    "n=50;\n",
    "sim.typeI=replicate(N.sim,simulate.one.instance(n,alpha));\n",
    "mean(sim.typeI)"
   ]
  },
  {
   "cell_type": "markdown",
   "metadata": {},
   "source": [
    "# 4 Confidence interval\n",
    "\n",
    "We will construct a $100(1-\\alpha)\\%$ Confidence interval given a confidence level $\\alpha$"
   ]
  },
  {
   "cell_type": "code",
   "execution_count": 24,
   "metadata": {},
   "outputs": [
    {
     "data": {
      "text/html": [
       "<table>\n",
       "<caption>A matrix: 1 × 2 of type dbl</caption>\n",
       "<thead>\n",
       "\t<tr><th></th><th scope=col>1.15 %</th><th scope=col>98.85 %</th></tr>\n",
       "</thead>\n",
       "<tbody>\n",
       "\t<tr><th scope=row>(Intercept)</th><td>-0.30571</td><td>0.3607841</td></tr>\n",
       "</tbody>\n",
       "</table>\n"
      ],
      "text/latex": [
       "A matrix: 1 × 2 of type dbl\n",
       "\\begin{tabular}{r|ll}\n",
       "  & 1.15 \\% & 98.85 \\%\\\\\n",
       "\\hline\n",
       "\t(Intercept) & -0.30571 & 0.3607841\\\\\n",
       "\\end{tabular}\n"
      ],
      "text/markdown": [
       "\n",
       "A matrix: 1 × 2 of type dbl\n",
       "\n",
       "| <!--/--> | 1.15 % | 98.85 % |\n",
       "|---|---|---|\n",
       "| (Intercept) | -0.30571 | 0.3607841 |\n",
       "\n"
      ],
      "text/plain": [
       "            1.15 %   98.85 %  \n",
       "(Intercept) -0.30571 0.3607841"
      ]
     },
     "metadata": {},
     "output_type": "display_data"
    }
   ],
   "source": [
    "# For a given confidence level alpha, construct a 100(1-alpha)% confidence interval \n",
    "\n",
    "alpha=0.023;\n",
    "# We can use lm() and confint() to construct confidence intervals\n",
    " X=rnorm(n)\n",
    "fit.lm=lm(X~1);\n",
    "confint(fit.lm,level=1-alpha)"
   ]
  },
  {
   "cell_type": "code",
   "execution_count": 26,
   "metadata": {},
   "outputs": [],
   "source": [
    "\n",
    "## Verify the coverage of the confidence invervals \n",
    "simulate.one.instance<-function(n,alpha){\n",
    " X=rnorm(n)\n",
    "    fit.lm=lm(X~1);\n",
    "  CIs=confint(fit.lm,level=1-alpha)\n",
    "  return(CIs)\n",
    "}\n",
    "\n",
    "N.sim=1e4;\n",
    "set.seed(1)\n",
    "n=50;\n",
    "sim.CIs=replicate(N.sim,simulate.one.instance(n,alpha));\n"
   ]
  },
  {
   "cell_type": "code",
   "execution_count": 29,
   "metadata": {},
   "outputs": [
    {
     "data": {
      "text/html": [
       "0.9779"
      ],
      "text/latex": [
       "0.9779"
      ],
      "text/markdown": [
       "0.9779"
      ],
      "text/plain": [
       "[1] 0.9779"
      ]
     },
     "metadata": {},
     "output_type": "display_data"
    },
    {
     "data": {
      "text/html": [
       "0.977"
      ],
      "text/latex": [
       "0.977"
      ],
      "text/markdown": [
       "0.977"
      ],
      "text/plain": [
       "[1] 0.977"
      ]
     },
     "metadata": {},
     "output_type": "display_data"
    }
   ],
   "source": [
    "## Verify the coverage \n",
    "(coverage=sum(sim.CIs[1,1,]< 0 & sim.CIs[1,2,]>0)/N.sim)\n",
    "1-alpha\n"
   ]
  },
  {
   "cell_type": "code",
   "execution_count": 31,
   "metadata": {},
   "outputs": [
    {
     "data": {
      "image/png": "[encoded data removed]",
      "text/plain": [
       "Plot with title \"Average Coverage: 0.978\""
      ]
     },
     "metadata": {
      "image/png": {
       "height": 420,
       "width": 420
      }
     },
     "output_type": "display_data"
    }
   ],
   "source": [
    "# Visualization \n",
    "plot(0,0,col=\"white\",xlim=c(min(sim.CIs[1,1,]),max(sim.CIs[1,2,])),ylim=c(0,20),xlab=\"Mean\",ylab=\"Index\",main=paste('Average Coverage:', signif(coverage,3)))\n",
    "abline(v=0,lwd=3,col='red')\n",
    "for(i in 1:19){\n",
    "  segments(sim.CIs[1,1,i],i,sim.CIs[1,2,i],i,lwd=3)\n",
    "}"
   ]
  }
 ],
 "metadata": {
  "kernelspec": {
   "display_name": "R",
   "language": "R",
   "name": "ir"
  },
  "language_info": {
   "codemirror_mode": "r",
   "file_extension": ".r",
   "mimetype": "text/x-r-source",
   "name": "R",
   "pygments_lexer": "r",
   "version": "4.1.0"
  },
  "latex_envs": {
   "LaTeX_envs_menu_present": true,
   "autoclose": false,
   "autocomplete": true,
   "bibliofile": "biblio.bib",
   "cite_by": "apalike",
   "current_citInitial": 1,
   "eqLabelWithNumbers": true,
   "eqNumInitial": 1,
   "hotkeys": {
    "equation": "Ctrl-E",
    "itemize": "Ctrl-I"
   },
   "labels_anchors": false,
   "latex_user_defs": false,
   "report_style_numbering": false,
   "user_envs_cfg": false
  }
 },
 "nbformat": 4,
 "nbformat_minor": 2
}
